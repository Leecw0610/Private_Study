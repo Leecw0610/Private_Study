{
 "cells": [
  {
   "cell_type": "markdown",
   "metadata": {},
   "source": [
    "### python with turtle 1~3강"
   ]
  },
  {
   "cell_type": "code",
   "execution_count": 1,
   "metadata": {},
   "outputs": [
    {
     "name": "stdout",
     "output_type": "stream",
     "text": [
      "Hello\n"
     ]
    }
   ],
   "source": [
    "print('Hello')"
   ]
  },
  {
   "cell_type": "code",
   "execution_count": 2,
   "metadata": {},
   "outputs": [
    {
     "name": "stdout",
     "output_type": "stream",
     "text": [
      "Hello 23 OK\n"
     ]
    }
   ],
   "source": [
    "print('Hello', 23, \"OK\")"
   ]
  },
  {
   "cell_type": "code",
   "execution_count": 3,
   "metadata": {},
   "outputs": [
    {
     "name": "stdout",
     "output_type": "stream",
     "text": [
      "68\n"
     ]
    }
   ],
   "source": [
    "print(23+45)"
   ]
  },
  {
   "cell_type": "code",
   "execution_count": 4,
   "metadata": {},
   "outputs": [
    {
     "name": "stdout",
     "output_type": "stream",
     "text": [
      "31.0\n"
     ]
    }
   ],
   "source": [
    "print(124/4)"
   ]
  },
  {
   "cell_type": "code",
   "execution_count": 5,
   "metadata": {},
   "outputs": [
    {
     "data": {
      "text/plain": [
       "'20'"
      ]
     },
     "execution_count": 5,
     "metadata": {},
     "output_type": "execute_result"
    }
   ],
   "source": [
    "input(\"What is your age?\")"
   ]
  },
  {
   "cell_type": "code",
   "execution_count": 8,
   "metadata": {},
   "outputs": [
    {
     "name": "stdout",
     "output_type": "stream",
     "text": [
      "OK ? Good age!\n"
     ]
    }
   ],
   "source": [
    "print(\"OK\", '?', \"Good age!\")"
   ]
  },
  {
   "cell_type": "code",
   "execution_count": 9,
   "metadata": {},
   "outputs": [],
   "source": [
    "age = input(\"What is your age?\")"
   ]
  },
  {
   "cell_type": "code",
   "execution_count": 10,
   "metadata": {},
   "outputs": [
    {
     "name": "stdout",
     "output_type": "stream",
     "text": [
      "20\n"
     ]
    }
   ],
   "source": [
    "print(age)"
   ]
  },
  {
   "cell_type": "code",
   "execution_count": 11,
   "metadata": {},
   "outputs": [
    {
     "data": {
      "text/plain": [
       "str"
      ]
     },
     "execution_count": 11,
     "metadata": {},
     "output_type": "execute_result"
    }
   ],
   "source": [
    "type(age)"
   ]
  },
  {
   "cell_type": "code",
   "execution_count": 12,
   "metadata": {},
   "outputs": [
    {
     "name": "stdout",
     "output_type": "stream",
     "text": [
      "OK 20 Good age\n"
     ]
    }
   ],
   "source": [
    "print(\"OK\", age, \"Good age\")"
   ]
  },
  {
   "cell_type": "code",
   "execution_count": 13,
   "metadata": {},
   "outputs": [
    {
     "name": "stdout",
     "output_type": "stream",
     "text": [
      "20 is good!\n"
     ]
    }
   ],
   "source": [
    "print(age, \"is good!\")"
   ]
  },
  {
   "cell_type": "code",
   "execution_count": 15,
   "metadata": {},
   "outputs": [
    {
     "name": "stdout",
     "output_type": "stream",
     "text": [
      "Now 21 old!\n"
     ]
    }
   ],
   "source": [
    "print(\"Now\", int(age)+1, \"old!\")"
   ]
  },
  {
   "cell_type": "code",
   "execution_count": 16,
   "metadata": {},
   "outputs": [],
   "source": [
    "age_i = int(age)"
   ]
  },
  {
   "cell_type": "code",
   "execution_count": 18,
   "metadata": {},
   "outputs": [
    {
     "name": "stdout",
     "output_type": "stream",
     "text": [
      "Now you are 21 old!\n"
     ]
    }
   ],
   "source": [
    "print(\"Now you are\", age_i + 1, \"old!\")"
   ]
  },
  {
   "cell_type": "code",
   "execution_count": 19,
   "metadata": {},
   "outputs": [],
   "source": [
    "import random"
   ]
  },
  {
   "cell_type": "code",
   "execution_count": 20,
   "metadata": {},
   "outputs": [],
   "source": [
    "i = random.randint(1, 10)"
   ]
  },
  {
   "cell_type": "code",
   "execution_count": 21,
   "metadata": {},
   "outputs": [
    {
     "name": "stdout",
     "output_type": "stream",
     "text": [
      "2\n"
     ]
    }
   ],
   "source": [
    "print(i)"
   ]
  },
  {
   "cell_type": "code",
   "execution_count": 22,
   "metadata": {},
   "outputs": [
    {
     "name": "stdout",
     "output_type": "stream",
     "text": [
      "10\n"
     ]
    }
   ],
   "source": [
    "print(random.randint(1, 10))"
   ]
  },
  {
   "cell_type": "code",
   "execution_count": 23,
   "metadata": {},
   "outputs": [
    {
     "name": "stdout",
     "output_type": "stream",
     "text": [
      "8\n"
     ]
    }
   ],
   "source": [
    "print(random.randint(1, 10))"
   ]
  },
  {
   "cell_type": "code",
   "execution_count": 24,
   "metadata": {},
   "outputs": [
    {
     "name": "stdout",
     "output_type": "stream",
     "text": [
      "7\n"
     ]
    }
   ],
   "source": [
    "print(random.randint(1, 10))"
   ]
  },
  {
   "cell_type": "code",
   "execution_count": 25,
   "metadata": {},
   "outputs": [
    {
     "name": "stdout",
     "output_type": "stream",
     "text": [
      "5\n"
     ]
    }
   ],
   "source": [
    "print(random.randint(1, 10))"
   ]
  },
  {
   "cell_type": "code",
   "execution_count": 26,
   "metadata": {},
   "outputs": [
    {
     "name": "stdout",
     "output_type": "stream",
     "text": [
      "Now you are 23 old!\n"
     ]
    }
   ],
   "source": [
    "print(\"Now you are\", age_i + random.randint(1, 3), \"old!\")"
   ]
  },
  {
   "cell_type": "code",
   "execution_count": 27,
   "metadata": {},
   "outputs": [
    {
     "name": "stdout",
     "output_type": "stream",
     "text": [
      "Now you are 22 old!\n"
     ]
    }
   ],
   "source": [
    "print(\"Now you are\", age_i + random.randint(1, 3), \"old!\")"
   ]
  },
  {
   "cell_type": "code",
   "execution_count": 28,
   "metadata": {},
   "outputs": [
    {
     "name": "stdout",
     "output_type": "stream",
     "text": [
      "Now you are 23 old!\n"
     ]
    }
   ],
   "source": [
    "print(\"Now you are\", age_i + random.randint(1, 3), \"old!\")"
   ]
  },
  {
   "cell_type": "code",
   "execution_count": 29,
   "metadata": {},
   "outputs": [
    {
     "name": "stdout",
     "output_type": "stream",
     "text": [
      "Now you are 23 old!\n"
     ]
    }
   ],
   "source": [
    "print(\"Now you are\", age_i + random.randint(1, 3), \"old!\")"
   ]
  },
  {
   "cell_type": "code",
   "execution_count": 30,
   "metadata": {},
   "outputs": [
    {
     "name": "stdout",
     "output_type": "stream",
     "text": [
      "Now you are 21 old!\n"
     ]
    }
   ],
   "source": [
    "print(\"Now you are\", age_i + random.randint(1, 3), \"old!\")"
   ]
  },
  {
   "cell_type": "code",
   "execution_count": 31,
   "metadata": {},
   "outputs": [
    {
     "name": "stdout",
     "output_type": "stream",
     "text": [
      "Now you are 23 old!\n"
     ]
    }
   ],
   "source": [
    "print(\"Now you are\", age_i + random.randint(1, 3), \"old!\")"
   ]
  },
  {
   "cell_type": "code",
   "execution_count": 32,
   "metadata": {},
   "outputs": [
    {
     "name": "stdout",
     "output_type": "stream",
     "text": [
      "Now you are 22 old!\n"
     ]
    }
   ],
   "source": [
    "print(\"Now you are\", age_i + random.randint(1, 3), \"old!\")"
   ]
  },
  {
   "cell_type": "code",
   "execution_count": 33,
   "metadata": {},
   "outputs": [
    {
     "name": "stdout",
     "output_type": "stream",
     "text": [
      "Now you are 23 old!\n"
     ]
    }
   ],
   "source": [
    "print(\"Now you are\", age_i + random.randint(1, 3), \"old!\")"
   ]
  },
  {
   "cell_type": "code",
   "execution_count": 1,
   "metadata": {},
   "outputs": [],
   "source": [
    "import turtle\n",
    "turtle.forward(100)"
   ]
  },
  {
   "cell_type": "code",
   "execution_count": 2,
   "metadata": {},
   "outputs": [],
   "source": [
    "turtle.clear()"
   ]
  },
  {
   "cell_type": "code",
   "execution_count": 3,
   "metadata": {},
   "outputs": [],
   "source": [
    "turtle.backward(100)"
   ]
  },
  {
   "cell_type": "code",
   "execution_count": 4,
   "metadata": {},
   "outputs": [],
   "source": [
    "turtle.right(90)"
   ]
  },
  {
   "cell_type": "code",
   "execution_count": 5,
   "metadata": {},
   "outputs": [],
   "source": [
    "turtle.forward(100)"
   ]
  },
  {
   "cell_type": "code",
   "execution_count": 6,
   "metadata": {},
   "outputs": [],
   "source": [
    "turtle.goto(-200,200)"
   ]
  },
  {
   "cell_type": "code",
   "execution_count": 7,
   "metadata": {},
   "outputs": [
    {
     "data": {
      "text/plain": [
       "'c:\\\\Python\\\\private_study\\\\python_with_turtle'"
      ]
     },
     "execution_count": 7,
     "metadata": {},
     "output_type": "execute_result"
    },
    {
     "ename": "",
     "evalue": "",
     "output_type": "error",
     "traceback": [
      "\u001b[1;31m현재 셀 또는 이전 셀에서 코드를 실행하는 동안 Kernel이 충돌했습니다. 셀의 코드를 검토하여 오류의 가능한 원인을 식별하세요. 자세한 내용을 보려면 <a href='https://aka.ms/vscodeJupyterKernelCrash'> 여기 </a> 를 클릭하세요. 자세한 내용은 Jupyter <a href='command:jupyter.viewOutput'>로그</a>를 참조하세요."
     ]
    }
   ],
   "source": [
    "pwd"
   ]
  },
  {
   "cell_type": "code",
   "execution_count": null,
   "metadata": {},
   "outputs": [],
   "source": [
    "\"\"\"\n",
    ">>> import turtle\n",
    ">>> turtle.home()\n",
    ">>> turtle.goto(200,200)\n",
    ">>> turtle.goto(0,0)\n",
    ">>> turtle.circle(100)\n",
    "Traceback (most recent call last):\n",
    "  File \"<stdin>\", line 0, in <module>\n",
    "KeyboardInterrupt\n",
    ">>> turtle.circle(-100)\n",
    ">>> turtle.circle(-80)\n",
    ">>> turtle.circle(-60)\n",
    ">>> turtle.circle(-30)\n",
    ">>> turtle.circle(100,180)\n",
    ">>> turtle.circle(50,90)\n",
    ">>> turtle.clear()\n",
    ">>> turtle.home()\n",
    ">>> turtle.clear()\n",
    ">>> turtle.down()\n",
    ">>> turtle.forward(100)\n",
    ">>> turtle.right(90)\n",
    ">>> turtle.forward(100)\n",
    ">>> turtle.right(90)\n",
    ">>> turtle.forward(100)\n",
    ">>> turtle.right(90)\n",
    ">>> turtle.forward(100)\n",
    ">>> turtle.end_fill()\n",
    ">>> turtle.fillcolor(\"blue\")\n",
    ">>> turtle.end_fill()\n",
    ">>> turtle.clear()\n",
    ">>> turtle.home()\n",
    ">>> turtle.fillcolor(\"pink\")\n",
    ">>> turtle.left(140)\n",
    ">>> turtle.forward(113)\n",
    ">>> turtle.circle(-57, 200)\n",
    ">>> turtle.circle(-57, 200)\n",
    ">>> turtle.clear()\n",
    ">>> from turtle import *\n",
    ">>> home()\n",
    ">>> clear()\n",
    ">>> left(140)\n",
    ">>> forward(113)\n",
    ">>> circle(-57,200)\n",
    ">>> left(120)\n",
    ">>> circle(-57, 200)\n",
    ">>> forward(112)\n",
    ">>> end_fill()\n",
    ">>> begin_fill()\n",
    ">>> up()\n",
    ">>> goto(-60, 95)\n",
    ">>> down()\n",
    ">>> color('black')\n",
    ">>> write('I love U')\n",
    ">>> write('I love U', font= 'Verdana', 15, bold)\n",
    "  File \"<stdin>\", line 1\n",
    "    write('I love U', font= 'Verdana', 15, bold)\n",
    "                                               ^\n",
    "SyntaxError: positional argument follows keyword argument\n",
    ">>> write('I love U', font= 'Verdana', 15,'bold')\n",
    "  File \"<stdin>\", line 1\n",
    "    write('I love U', font= 'Verdana', 15,'bold')\n",
    "                                                ^\n",
    "SyntaxError: positional argument follows keyword argument\n",
    ">>> write('I love U', font=('Verdana', 15,'bold'))\n",
    ">>>\n",
    "\"\"\""
   ]
  },
  {
   "cell_type": "code",
   "execution_count": null,
   "metadata": {},
   "outputs": [],
   "source": []
  }
 ],
 "metadata": {
  "kernelspec": {
   "display_name": "base",
   "language": "python",
   "name": "python3"
  },
  "language_info": {
   "codemirror_mode": {
    "name": "ipython",
    "version": 3
   },
   "file_extension": ".py",
   "mimetype": "text/x-python",
   "name": "python",
   "nbconvert_exporter": "python",
   "pygments_lexer": "ipython3",
   "version": "3.9.15"
  },
  "orig_nbformat": 4,
  "vscode": {
   "interpreter": {
    "hash": "cef5bb54941aca950c93b0ced18fcc5cb49b2d36f6c89d37f011af61e4a6718a"
   }
  }
 },
 "nbformat": 4,
 "nbformat_minor": 2
}
