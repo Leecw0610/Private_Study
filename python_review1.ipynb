{
 "cells": [
  {
   "cell_type": "code",
   "execution_count": null,
   "id": "8a42209a-2f9a-48c3-92f5-5f9ec1c884b7",
   "metadata": {},
   "outputs": [],
   "source": [
    "say = \"\\\"python's favorite food is perl.\\\" he says.\""
   ]
  },
  {
   "cell_type": "code",
   "execution_count": null,
   "id": "1d9cd7d0-f268-480e-9104-2c537cdbc54e",
   "metadata": {},
   "outputs": [],
   "source": [
    "type(say)"
   ]
  },
  {
   "cell_type": "code",
   "execution_count": null,
   "id": "80c06569-73dd-4ef0-8f3e-5c3ca34c3e33",
   "metadata": {},
   "outputs": [],
   "source": [
    "multiline = \"\"\"\n",
    "Life is too short\n",
    "YOu need python\n",
    "\"\"\""
   ]
  },
  {
   "cell_type": "code",
   "execution_count": null,
   "id": "4135baba-16cb-4a42-816b-60a0fe42db07",
   "metadata": {},
   "outputs": [],
   "source": [
    "print(multiline)"
   ]
  },
  {
   "cell_type": "code",
   "execution_count": null,
   "id": "eabc15af-952e-429f-a3d3-746c6aea8efa",
   "metadata": {},
   "outputs": [],
   "source": [
    "for i range(10):\n",
    "    print(i)   "
   ]
  },
  {
   "cell_type": "markdown",
   "id": "a57a1358-744e-463a-8116-8cbd8c50d225",
   "metadata": {},
   "source": [
    "+ ++ * ** - --"
   ]
  },
  {
   "cell_type": "markdown",
   "id": "af00388e-a9d5-49d0-817b-c87667b083ea",
   "metadata": {},
   "source": [
    "+ ++\n",
    "- --\n",
    "* **"
   ]
  },
  {
   "cell_type": "markdown",
   "id": "5b386eb8-00ce-49f6-9eb4-e9b2aed4ec07",
   "metadata": {},
   "source": [
    "+ ++"
   ]
  },
  {
   "cell_type": "code",
   "execution_count": null,
   "id": "9925979d-4459-4901-a3bf-51cbb1a2e9fa",
   "metadata": {},
   "outputs": [],
   "source": [
    "- --"
   ]
  },
  {
   "cell_type": "markdown",
   "id": "51e90547-dbb2-407a-8f9b-775730e788c1",
   "metadata": {},
   "source": [
    "- --"
   ]
  },
  {
   "cell_type": "markdown",
   "id": "91c533a1-22e0-4c3a-acf1-98876bcdead9",
   "metadata": {},
   "source": [
    "- -"
   ]
  },
  {
   "cell_type": "markdown",
   "id": "e8397c96-88a9-4d35-8efe-aaf68aa7e360",
   "metadata": {},
   "source": [
    "-"
   ]
  },
  {
   "cell_type": "markdown",
   "id": "f0f424e8-0d1f-4836-a45a-c545d7474bc5",
   "metadata": {},
   "source": [
    "- "
   ]
  },
  {
   "cell_type": "markdown",
   "id": "4b2a599e-1720-44f5-91b8-ab43699e2720",
   "metadata": {},
   "source": [
    "--"
   ]
  },
  {
   "cell_type": "markdown",
   "id": "3d1251fb-23e9-4a73-b4b4-d291505062ce",
   "metadata": {},
   "source": [
    "+++"
   ]
  },
  {
   "cell_type": "markdown",
   "id": "389865fc-a101-49b6-80c9-f7ab398a75f8",
   "metadata": {},
   "source": [
    "+abc"
   ]
  },
  {
   "cell_type": "code",
   "execution_count": null,
   "id": "f2c2128a-1fba-4bf1-950f-93742faea8b8",
   "metadata": {},
   "outputs": [],
   "source": [
    "++++++ abc"
   ]
  },
  {
   "cell_type": "code",
   "execution_count": null,
   "id": "7ee50568-3aca-4810-800b-b1094f0faa2c",
   "metadata": {},
   "outputs": [],
   "source": [
    "+ ++ab"
   ]
  },
  {
   "cell_type": "markdown",
   "id": "9e5fc83c-64e5-464f-877c-e02427d070a5",
   "metadata": {},
   "source": [
    "+ ++ab"
   ]
  },
  {
   "cell_type": "markdown",
   "id": "f490ebd9-fad8-4987-b224-85ed3ea36eff",
   "metadata": {},
   "source": [
    "## 점프 투 파이썬 2장 연습문제"
   ]
  },
  {
   "cell_type": "markdown",
   "id": "dd9e92a5-8c5e-475f-8c77-d638a6093fe6",
   "metadata": {},
   "source": [
    "#### Q1"
   ]
  },
  {
   "cell_type": "code",
   "execution_count": null,
   "id": "1ab7035f-c771-4462-93bf-f808f669d588",
   "metadata": {},
   "outputs": [],
   "source": [
    "score = {'국어' : 80,\n",
    "     '영어' : 75,\n",
    "     '수학' : 55}"
   ]
  },
  {
   "cell_type": "code",
   "execution_count": null,
   "id": "4f296f5f-8a84-47c9-a626-025f01ea644f",
   "metadata": {},
   "outputs": [],
   "source": [
    "score"
   ]
  },
  {
   "cell_type": "code",
   "execution_count": null,
   "id": "dfd2f818-704d-43ca-9347-b322dca916ed",
   "metadata": {},
   "outputs": [],
   "source": [
    " score_1 = (score.values())"
   ]
  },
  {
   "cell_type": "code",
   "execution_count": null,
   "id": "56ebc818-1ce9-49e1-97ed-c1221d9a5a78",
   "metadata": {},
   "outputs": [],
   "source": [
    " list(score_1)"
   ]
  },
  {
   "cell_type": "code",
   "execution_count": null,
   "id": "1c99c14b-b726-410f-be5e-b82ee6d93960",
   "metadata": {},
   "outputs": [],
   "source": [
    "sum(score_1)/len(score_1)"
   ]
  },
  {
   "cell_type": "markdown",
   "id": "a0452479-8d1f-470a-a84b-bda458baf009",
   "metadata": {},
   "source": [
    "#### Q2"
   ]
  },
  {
   "cell_type": "raw",
   "id": "105522a1-c88d-46db-b8dd-e9e7efc97e97",
   "metadata": {},
   "source": [
    "자연수를 2로 나눴을때 나머지가 1이면 홀수, 0이면 짝수"
   ]
  },
  {
   "cell_type": "code",
   "execution_count": null,
   "id": "c414d045-cea6-40df-8634-1d0190ae5448",
   "metadata": {},
   "outputs": [],
   "source": [
    "4 % 2"
   ]
  },
  {
   "cell_type": "code",
   "execution_count": null,
   "id": "3a1526f3-ce87-4042-982e-a7ea62b02768",
   "metadata": {},
   "outputs": [],
   "source": [
    "254 % 2"
   ]
  },
  {
   "cell_type": "code",
   "execution_count": null,
   "id": "8d48b613-1720-4037-8225-e31b2a1a5db9",
   "metadata": {},
   "outputs": [],
   "source": [
    "151 % 2"
   ]
  },
  {
   "cell_type": "markdown",
   "id": "66c07954-d771-431e-805b-c8cc4e43a926",
   "metadata": {},
   "source": [
    "#### Q3 + Q4"
   ]
  },
  {
   "cell_type": "code",
   "execution_count": null,
   "id": "a8dff7d2-7978-46d9-b1fc-090d75f14e87",
   "metadata": {},
   "outputs": [],
   "source": [
    "Hong = '881120-1068234'"
   ]
  },
  {
   "cell_type": "code",
   "execution_count": null,
   "id": "cf04fada-2e0b-4275-ac0a-43ce3efa1cd2",
   "metadata": {},
   "outputs": [],
   "source": [
    "Hong"
   ]
  },
  {
   "cell_type": "code",
   "execution_count": null,
   "id": "951026ca-fa08-405f-aa46-8ab7a8e48b22",
   "metadata": {},
   "outputs": [],
   "source": [
    "type(Hong)"
   ]
  },
  {
   "cell_type": "code",
   "execution_count": null,
   "id": "10ce4d42-c910-4e24-8aac-f398320b2324",
   "metadata": {},
   "outputs": [],
   "source": [
    "yymmdd = Hong[0:6]"
   ]
  },
  {
   "cell_type": "code",
   "execution_count": null,
   "id": "ad2dfd65-3a6d-4184-b7a0-dde5ffd4d635",
   "metadata": {},
   "outputs": [],
   "source": [
    "num = Hong[7:]"
   ]
  },
  {
   "cell_type": "code",
   "execution_count": null,
   "id": "18d5ab37-6dec-435b-af0a-84c97ab3e0c0",
   "metadata": {},
   "outputs": [],
   "source": [
    "num"
   ]
  },
  {
   "cell_type": "code",
   "execution_count": null,
   "id": "f394a1c0-7884-43f9-8d7b-857b0e9f91bb",
   "metadata": {},
   "outputs": [],
   "source": [
    "print(yymmdd)\n",
    "print(num)"
   ]
  },
  {
   "cell_type": "code",
   "execution_count": null,
   "id": "72583e78-aefe-44ce-ac3b-de0ba95edae8",
   "metadata": {},
   "outputs": [],
   "source": [
    "print (Hong[7])"
   ]
  },
  {
   "cell_type": "markdown",
   "id": "8177e2ab-b12c-4d66-9ed9-8924a570390a",
   "metadata": {},
   "source": [
    "#### Q5"
   ]
  },
  {
   "cell_type": "code",
   "execution_count": null,
   "id": "109c7782-6a49-4da6-919c-acc59df29343",
   "metadata": {},
   "outputs": [],
   "source": [
    "a = \"a:b:c:d\""
   ]
  },
  {
   "cell_type": "code",
   "execution_count": null,
   "id": "60c7c923-16da-44d7-ad55-bf8cfd1035ca",
   "metadata": {},
   "outputs": [],
   "source": [
    "b = a.replace(\":\" , \"#\")"
   ]
  },
  {
   "cell_type": "code",
   "execution_count": null,
   "id": "cbd3c840-0234-4fdd-ab41-83151c90a534",
   "metadata": {},
   "outputs": [],
   "source": [
    "b"
   ]
  },
  {
   "cell_type": "markdown",
   "id": "4221b784-23d8-4a92-8f5e-270b3fc693f0",
   "metadata": {},
   "source": [
    "#### Q6"
   ]
  },
  {
   "cell_type": "code",
   "execution_count": null,
   "id": "ffd14eba-1762-4189-84d7-fecc9fe23a5f",
   "metadata": {},
   "outputs": [],
   "source": []
  },
  {
   "cell_type": "code",
   "execution_count": null,
   "id": "7903fad9-e69d-45ec-b3a7-638562afc99e",
   "metadata": {},
   "outputs": [],
   "source": []
  },
  {
   "cell_type": "markdown",
   "id": "17b348f2-09e7-4a61-b555-bb983a303a7d",
   "metadata": {},
   "source": [
    "##### 첫 코딩 코딩실습06."
   ]
  },
  {
   "cell_type": "code",
   "execution_count": null,
   "id": "20a1cf99-9b7f-4b1b-a58e-f851ed086f4a",
   "metadata": {},
   "outputs": [],
   "source": [
    "등수 = input ('몇 등인가요(1 또는 2)?')"
   ]
  },
  {
   "cell_type": "code",
   "execution_count": null,
   "id": "82d5d187-fc81-43b3-98ab-eb054522c8cc",
   "metadata": {},
   "outputs": [],
   "source": [
    "if int(등수) == 1 :\n",
    "    print('Tv를 보며 편안하게 쉬세요.')\n",
    "elif int(등수) == 2 :\n",
    "    print('설거지 당첨!')\n",
    "else :\n",
    "    print('1 또는 2의 숫자를 다시 입력해주세요.')"
   ]
  },
  {
   "cell_type": "markdown",
   "id": "3d7eb209-780c-4149-8dfe-bef7add410df",
   "metadata": {},
   "source": [
    "##### 첫 코딩 코딩실습07."
   ]
  },
  {
   "cell_type": "code",
   "execution_count": null,
   "id": "12320b29-0c04-4be4-8e1b-88888abd3551",
   "metadata": {},
   "outputs": [],
   "source": [
    "학년 = int(input('몇 학년이가요(1~6)?'))\n",
    "\n",
    "if 학년 >= 2 and 학년 <= 4 :\n",
    "    print('햄버거를 드세요.')\n",
    "else :\n",
    "    print('김밥을 드세요.')"
   ]
  },
  {
   "cell_type": "markdown",
   "id": "3f3ffbaf-3dfb-4090-9595-0066b026b1f0",
   "metadata": {},
   "source": [
    "##### 첫 코딩 코딩실습08."
   ]
  },
  {
   "cell_type": "code",
   "execution_count": null,
   "id": "3795fb31-731c-46be-bc7d-467c31f429da",
   "metadata": {},
   "outputs": [],
   "source": [
    "피자가게 = input('피자 가게가 열렸나요(예/아니요)?')\n",
    "치킨가게 = input('치킨 가게가 열렸나요(예/아니요)?')\n",
    "\n",
    "if 피자가게 == '예' :\n",
    "    print('피자가게로 가자')\n",
    "elif 치킨가게 == '예' :\n",
    "    print('치킨가게로 가자')\n",
    "else :\n",
    "    print('편의점에서 라면이나 먹자')"
   ]
  },
  {
   "cell_type": "markdown",
   "id": "3c61a002-d45f-4ca5-924b-4cfeec3d5235",
   "metadata": {},
   "source": [
    "##### 첫 코딩 코딩실습09."
   ]
  },
  {
   "cell_type": "code",
   "execution_count": null,
   "id": "62043b28-7dab-40b9-9999-42655dc7501f",
   "metadata": {},
   "outputs": [],
   "source": [
    "전체식권수 = int(input('식권이 몇 장 필요하신가요?'))\n",
    "\n",
    "for 출력식권 in range(1, 전체식권수+1 ) :\n",
    "    print('식권 번호:', 출력식권)"
   ]
  },
  {
   "cell_type": "markdown",
   "id": "6ea7f316-146b-4873-a066-07d573223fd4",
   "metadata": {},
   "source": [
    "##### 첫 코딩 코딩실습10."
   ]
  },
  {
   "cell_type": "code",
   "execution_count": null,
   "id": "205dbdc1-1bd7-43a0-b2d9-05f4d6429496",
   "metadata": {},
   "outputs": [],
   "source": [
    "Start = int(input('구구단 시작단을 입력하세요.(1~9) :'))\n",
    "End = int(input('구구단 끝단을 입력하세요.(1~9) :'))\n",
    "\n",
    "c = ' '\n",
    "for i in range (Start , End+1):\n",
    "    for j in range (1, 10) :\n",
    "        print(i ,'*',j, '=' ,i*j)\n",
    "    \n",
    "    if i == End :\n",
    "        pass \n",
    "    else :    \n",
    "        print('-------------------') \n",
    "print (c)"
   ]
  },
  {
   "cell_type": "markdown",
   "id": "fc3b1dca-6ae8-46b3-b452-3ddbee6d28c1",
   "metadata": {},
   "source": [
    "##### 첫 코딩 코딩실습11."
   ]
  },
  {
   "cell_type": "code",
   "execution_count": null,
   "id": "98514bac-2aab-4793-ba6f-d7b64e4eb04e",
   "metadata": {},
   "outputs": [],
   "source": [
    "Result = ' '\n",
    "Style = input('각 단을 구분하는 줄 모양을 입력해 주세요.:')\n",
    "\n",
    "for i in range (2, 10) :\n",
    "    for j in range (1, 10) :\n",
    "        print( i, '*',j,'=',i*j)\n",
    "    if i == 9 :\n",
    "        pass\n",
    "    else :\n",
    "        print(Style)\n",
    "print(Result)"
   ]
  },
  {
   "cell_type": "markdown",
   "id": "5ba3ccd3-840a-4c49-be4c-a50ce229cf4e",
   "metadata": {},
   "source": [
    "##### 첫코딩 코딩실습13."
   ]
  },
  {
   "cell_type": "code",
   "execution_count": null,
   "id": "143e338e-4e9f-4f7c-9c33-1c4cefdbc796",
   "metadata": {},
   "outputs": [],
   "source": [
    "R_s = input('아무 글이나 입력해 주세요.')\n",
    "L_n = 0\n",
    "\n",
    "for i in R_s :\n",
    "    if i != ' ':\n",
    "        L_n += 1\n",
    "print(R_s * L_n)"
   ]
  },
  {
   "cell_type": "markdown",
   "id": "40d76c28-7fda-41f3-bac2-73220c895ae2",
   "metadata": {},
   "source": [
    "# 점프 투 파이썬 4장연습문제"
   ]
  },
  {
   "cell_type": "code",
   "execution_count": null,
   "id": "3ebc0636-865b-4273-94d3-90a25f9860f2",
   "metadata": {},
   "outputs": [],
   "source": [
    "#Q1\n",
    "def is_odd(number) :\n",
    "    if number % 2 == 1 :\n",
    "        return True\n",
    "    if number % 2 == 0 :\n",
    "        return False\n",
    "    \n",
    "    #is_odd가 True면 홀수, is odd가 False면 짝수"
   ]
  },
  {
   "cell_type": "code",
   "execution_count": null,
   "id": "13feb72b-4170-47c7-b55b-b7aa0415e498",
   "metadata": {},
   "outputs": [],
   "source": [
    "is_odd(1820)"
   ]
  },
  {
   "cell_type": "code",
   "execution_count": null,
   "id": "02ab15af-c4fc-466b-b503-e7d68bc45f34",
   "metadata": {},
   "outputs": [],
   "source": [
    "#Q2\n",
    "def avg_numbers(*args):\n",
    "    result = 0\n",
    "    for i in args:\n",
    "        result += i\n",
    "    return result / len(args)"
   ]
  },
  {
   "cell_type": "code",
   "execution_count": null,
   "id": "efed5c6a-8b90-4b5e-956a-8fee1d98b046",
   "metadata": {},
   "outputs": [],
   "source": [
    "avg_numbers(1,2)"
   ]
  },
  {
   "cell_type": "code",
   "execution_count": null,
   "id": "869f40f9-7a66-4ad8-aec0-9b4ecf63a073",
   "metadata": {},
   "outputs": [],
   "source": [
    "avg_numbers(1,2,3,4,5)"
   ]
  },
  {
   "cell_type": "code",
   "execution_count": null,
   "id": "bdb1c019-b27c-4288-8562-269efd4d1e6b",
   "metadata": {},
   "outputs": [],
   "source": [
    "result = 0\n",
    "for i in range (5) :\n",
    "    result += i\n",
    "    print(result)"
   ]
  },
  {
   "cell_type": "code",
   "execution_count": null,
   "id": "f98edbdc-6c02-496d-97eb-58c6091442c7",
   "metadata": {},
   "outputs": [],
   "source": [
    "#Q3\n",
    "\n",
    "input1 = input(\"첫번째 숫자를 입력하세요:\")\n",
    "input2 = input(\"두번째 숫자를 입력하세요:\")\n",
    "\n",
    "total = int(input1) + int(input2)\n",
    "print(\"두 수의 합은\", total, \"입니다.\")"
   ]
  },
  {
   "cell_type": "code",
   "execution_count": null,
   "id": "2d67cfad-759b-4c7f-bfce-7f0b64419631",
   "metadata": {},
   "outputs": [],
   "source": [
    "#Q4\n",
    "\n",
    "print(\"you\" \"need\" \"python\")\n",
    "print(\"you\"+\"need\"+\"python\")\n",
    "print(\"you\", \"need\", \"python\")\n",
    "print(\"\".join([\"you \", \"need \", \"python \"]))"
   ]
  },
  {
   "cell_type": "code",
   "execution_count": null,
   "id": "c2b35121-ac15-4552-bedf-0b12bd93133d",
   "metadata": {},
   "outputs": [],
   "source": [
    "#Q5\n",
    "\n",
    "f1 = open(\"test.txt\", 'w')\n",
    "f1.write(\"Life is too short\")\n",
    "f1.close()\n",
    "\n",
    "f2 = open(\"test.txt\", 'r')\n",
    "print(f2.read())\n",
    "f2.close()"
   ]
  },
  {
   "cell_type": "code",
   "execution_count": null,
   "id": "c2b33907-8bef-495d-a8c7-059b7c90759a",
   "metadata": {},
   "outputs": [],
   "source": [
    "#Q6\n",
    "\n",
    "f3 = open(\"test.txt\", 'a', encoding='utf-8' )\n",
    "data = input(\"입력하세요.\")\n",
    "f3.write(data)\n",
    "f3.write(\"\\n\")\n",
    "print(data)\n",
    "f3.close"
   ]
  },
  {
   "cell_type": "code",
   "execution_count": null,
   "id": "9579440f-4851-422a-9e81-f030d6bf4251",
   "metadata": {},
   "outputs": [],
   "source": [
    "#Q7\n",
    "\n",
    "f = open('test.txt', 'r')\n",
    "body = f.read()\n",
    "f.close()\n",
    "\n",
    "body = body.replace('java', 'python')\n",
    "\n",
    "f = open('test.txt', 'w')\n",
    "f.write(body)\n",
    "f.close()"
   ]
  },
  {
   "cell_type": "markdown",
   "id": "e566f726-11e2-4047-9c99-24ea0d260d83",
   "metadata": {
    "tags": []
   },
   "source": [
    "## 점프 투 파이썬 4-2 , 4-3 복습"
   ]
  },
  {
   "cell_type": "code",
   "execution_count": 5,
   "id": "05f9a4c5-9401-45e2-8736-60813e43b8b7",
   "metadata": {},
   "outputs": [],
   "source": [
    "f = open(\"C:/Users/User/Desktop/Python/review.txt\", 'w', encoding='utf-8')\n",
    "f.close()"
   ]
  },
  {
   "cell_type": "code",
   "execution_count": null,
   "id": "5b24d2d5-d46c-4cfd-9f6f-e599d2653272",
   "metadata": {},
   "outputs": [],
   "source": []
  }
 ],
 "metadata": {
  "kernelspec": {
   "display_name": "Python 3 (ipykernel)",
   "language": "python",
   "name": "python3"
  },
  "language_info": {
   "codemirror_mode": {
    "name": "ipython",
    "version": 3
   },
   "file_extension": ".py",
   "mimetype": "text/x-python",
   "name": "python",
   "nbconvert_exporter": "python",
   "pygments_lexer": "ipython3",
   "version": "3.9.12"
  }
 },
 "nbformat": 4,
 "nbformat_minor": 5
}
