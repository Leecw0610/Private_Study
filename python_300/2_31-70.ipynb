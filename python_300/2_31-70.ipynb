{
 "cells": [
  {
   "cell_type": "markdown",
   "id": "37b3a2d9-b94b-410b-aebc-58c227008b57",
   "metadata": {},
   "source": [
    "# Q.31-70\n",
    "\n",
    "# 파이썬 문자열 / 파이썬 리스트"
   ]
  },
  {
   "cell_type": "code",
   "execution_count": null,
   "id": "1dbb2388-88fc-4b65-bfc1-f58987cf8478",
   "metadata": {},
   "outputs": [],
   "source": []
  },
  {
   "cell_type": "code",
   "execution_count": 1,
   "id": "27983922-5ff4-4299-97d8-3b918f1c4b73",
   "metadata": {},
   "outputs": [
    {
     "name": "stdout",
     "output_type": "stream",
     "text": [
      "34\n"
     ]
    }
   ],
   "source": [
    "a = \"3\"\n",
    "b = \"4\"\n",
    "print(a + b)"
   ]
  },
  {
   "cell_type": "code",
   "execution_count": 2,
   "id": "04218d40-feb7-4fcc-906f-0b330d2dac13",
   "metadata": {},
   "outputs": [
    {
     "name": "stdout",
     "output_type": "stream",
     "text": [
      "HiHiHi\n"
     ]
    }
   ],
   "source": [
    "print(\"Hi\" * 3)"
   ]
  },
  {
   "cell_type": "code",
   "execution_count": 3,
   "id": "7e087a42-933b-4bf3-a5c5-ac8d0ac91bb3",
   "metadata": {},
   "outputs": [
    {
     "name": "stdout",
     "output_type": "stream",
     "text": [
      "--------------------------------------------------------------------------------\n"
     ]
    }
   ],
   "source": [
    "print('-' * 80)"
   ]
  },
  {
   "cell_type": "code",
   "execution_count": 4,
   "id": "f4cd3fae-44b6-440b-89c5-5f0bbdb994b2",
   "metadata": {},
   "outputs": [],
   "source": [
    "t1 = 'python'\n",
    "t2 = 'java'"
   ]
  },
  {
   "cell_type": "code",
   "execution_count": 9,
   "id": "855f35d0-4df4-46d6-92be-21641a727fd6",
   "metadata": {},
   "outputs": [
    {
     "data": {
      "text/plain": [
       "'python java python java python java python java '"
      ]
     },
     "execution_count": 9,
     "metadata": {},
     "output_type": "execute_result"
    }
   ],
   "source": [
    "(t1 +' ' + t2+ ' ') * 4"
   ]
  },
  {
   "cell_type": "code",
   "execution_count": 10,
   "id": "09b5064a-f0a3-496f-9ad6-f9a2829b38cc",
   "metadata": {},
   "outputs": [],
   "source": [
    "name1 = \"김민수\" \n",
    "age1 = 10\n",
    "name2 = \"이철희\"\n",
    "age2 = 13"
   ]
  },
  {
   "cell_type": "code",
   "execution_count": 16,
   "id": "6cd678cf-5abd-4985-933f-8d9b7d7c2a79",
   "metadata": {},
   "outputs": [
    {
     "name": "stdout",
     "output_type": "stream",
     "text": [
      "이름: 김민수, 나이: 10\n",
      "이름: 이철희, 나이: 13\n"
     ]
    }
   ],
   "source": [
    "print('이름: %s, 나이: %d' %(name1, age1))\n",
    "print('이름: %s, 나이: %d' %(name2, age2))"
   ]
  },
  {
   "cell_type": "code",
   "execution_count": 17,
   "id": "212f0f2d-4033-439b-a58b-aefd19d521e4",
   "metadata": {},
   "outputs": [
    {
     "name": "stdout",
     "output_type": "stream",
     "text": [
      "이름: 김민수 나이: 10\n",
      "이름: 이철희 나이: 13\n"
     ]
    }
   ],
   "source": [
    "print(\"이름: {} 나이: {}\".format(name1, age1))\n",
    "print(\"이름: {} 나이: {}\".format(name2, age2))"
   ]
  },
  {
   "cell_type": "code",
   "execution_count": 18,
   "id": "2dc6ff5a-23f4-442b-b70c-b960fca3d4d3",
   "metadata": {},
   "outputs": [
    {
     "name": "stdout",
     "output_type": "stream",
     "text": [
      "이름: 김민수 나이: 10\n",
      "이름: 이철희 나이: 13\n"
     ]
    }
   ],
   "source": [
    "print(f\"이름: {name1} 나이: {age1}\")\n",
    "print(f\"이름: {name2} 나이: {age2}\")"
   ]
  },
  {
   "cell_type": "code",
   "execution_count": 19,
   "id": "209c5d43-e0da-4ee4-a101-057804516ab1",
   "metadata": {},
   "outputs": [],
   "source": [
    "상장주식수 = \"5,969,782,550\""
   ]
  },
  {
   "cell_type": "code",
   "execution_count": 20,
   "id": "63e42ba8-1820-4325-a995-9fed12f0ff5a",
   "metadata": {},
   "outputs": [
    {
     "data": {
      "text/plain": [
       "5969782550"
      ]
     },
     "execution_count": 20,
     "metadata": {},
     "output_type": "execute_result"
    }
   ],
   "source": [
    "int(상장주식수.replace(',',''))"
   ]
  },
  {
   "cell_type": "code",
   "execution_count": 21,
   "id": "bdc3903e-29ad-4387-9bb1-796adaac9166",
   "metadata": {},
   "outputs": [],
   "source": [
    "분기 = \"2020/03(E) (IFRS연결)\""
   ]
  },
  {
   "cell_type": "code",
   "execution_count": 22,
   "id": "50500326-021d-42fe-89fd-95bc0068f848",
   "metadata": {},
   "outputs": [
    {
     "data": {
      "text/plain": [
       "'2020/03'"
      ]
     },
     "execution_count": 22,
     "metadata": {},
     "output_type": "execute_result"
    }
   ],
   "source": [
    "분기[:7]"
   ]
  },
  {
   "cell_type": "code",
   "execution_count": 23,
   "id": "5005a1f6-bc9f-4643-aa4d-3d7480260c8c",
   "metadata": {},
   "outputs": [],
   "source": [
    "data = \"   삼성전자    \""
   ]
  },
  {
   "cell_type": "code",
   "execution_count": 25,
   "id": "82557c56-f864-44b5-a954-00b6a742ff1e",
   "metadata": {},
   "outputs": [
    {
     "data": {
      "text/plain": [
       "'삼성전자'"
      ]
     },
     "execution_count": 25,
     "metadata": {},
     "output_type": "execute_result"
    }
   ],
   "source": [
    "data.strip()"
   ]
  },
  {
   "cell_type": "code",
   "execution_count": 26,
   "id": "83e740c0-278c-4867-8c7e-3d0519491d58",
   "metadata": {},
   "outputs": [],
   "source": [
    "ticker = \"btc_krw\""
   ]
  },
  {
   "cell_type": "code",
   "execution_count": 29,
   "id": "c33288cc-48b7-4ea4-9063-d194958af31e",
   "metadata": {},
   "outputs": [
    {
     "data": {
      "text/plain": [
       "'BTC_KRW'"
      ]
     },
     "execution_count": 29,
     "metadata": {},
     "output_type": "execute_result"
    }
   ],
   "source": [
    "ticker.upper()"
   ]
  },
  {
   "cell_type": "code",
   "execution_count": 30,
   "id": "ee7488f7-ac4b-4e05-a985-b4a1e3d8a622",
   "metadata": {},
   "outputs": [],
   "source": [
    "ticker = \"BTC_KRW\""
   ]
  },
  {
   "cell_type": "code",
   "execution_count": 31,
   "id": "67ece0bb-cd27-4a0d-81a1-19230e47a341",
   "metadata": {},
   "outputs": [
    {
     "data": {
      "text/plain": [
       "'btc_krw'"
      ]
     },
     "execution_count": 31,
     "metadata": {},
     "output_type": "execute_result"
    }
   ],
   "source": [
    "ticker.lower()"
   ]
  },
  {
   "cell_type": "code",
   "execution_count": 32,
   "id": "b764f556-1720-4dc5-8fda-71c1b9fcbac5",
   "metadata": {},
   "outputs": [],
   "source": [
    "a='hello'"
   ]
  },
  {
   "cell_type": "code",
   "execution_count": 33,
   "id": "5daf6aa9-eac1-4e90-9f4a-b58e36ead298",
   "metadata": {},
   "outputs": [
    {
     "data": {
      "text/plain": [
       "'Hello'"
      ]
     },
     "execution_count": 33,
     "metadata": {},
     "output_type": "execute_result"
    }
   ],
   "source": [
    "a.capitalize()"
   ]
  },
  {
   "cell_type": "code",
   "execution_count": 34,
   "id": "9fa886ac-f494-4a54-a8a5-f9284efed922",
   "metadata": {},
   "outputs": [],
   "source": [
    "file_name = \"보고서.xlsx\""
   ]
  },
  {
   "cell_type": "code",
   "execution_count": 35,
   "id": "c3f26f5b-e1e7-4cb6-bc98-e3438a2179ab",
   "metadata": {},
   "outputs": [
    {
     "data": {
      "text/plain": [
       "True"
      ]
     },
     "execution_count": 35,
     "metadata": {},
     "output_type": "execute_result"
    }
   ],
   "source": [
    "file_name.endswith('xlsx')"
   ]
  },
  {
   "cell_type": "code",
   "execution_count": 37,
   "id": "a77ad79b-4466-4c22-b8a3-9f14052abff3",
   "metadata": {},
   "outputs": [
    {
     "data": {
      "text/plain": [
       "True"
      ]
     },
     "execution_count": 37,
     "metadata": {},
     "output_type": "execute_result"
    }
   ],
   "source": [
    "file_name.endswith(('xlsx','xls'))"
   ]
  },
  {
   "cell_type": "code",
   "execution_count": 38,
   "id": "28a802a0-32a7-4fb6-a091-0fbd52d824e7",
   "metadata": {},
   "outputs": [],
   "source": [
    "file_name = \"2020_보고서.xlsx\""
   ]
  },
  {
   "cell_type": "code",
   "execution_count": 39,
   "id": "aed2b025-caad-4e3f-9a8f-6e3305c465ee",
   "metadata": {},
   "outputs": [
    {
     "data": {
      "text/plain": [
       "True"
      ]
     },
     "execution_count": 39,
     "metadata": {},
     "output_type": "execute_result"
    }
   ],
   "source": [
    "file_name.startswith('2020')"
   ]
  },
  {
   "cell_type": "code",
   "execution_count": 40,
   "id": "b8ebe664-6fb0-4d84-bfa3-c338da5aa57c",
   "metadata": {},
   "outputs": [],
   "source": [
    "a = \"hello world\""
   ]
  },
  {
   "cell_type": "code",
   "execution_count": 41,
   "id": "c17759e2-c5a4-48f9-9d9a-9eb6b30a4b00",
   "metadata": {},
   "outputs": [
    {
     "data": {
      "text/plain": [
       "'hello world'"
      ]
     },
     "execution_count": 41,
     "metadata": {},
     "output_type": "execute_result"
    }
   ],
   "source": [
    "a"
   ]
  },
  {
   "cell_type": "code",
   "execution_count": 42,
   "id": "5daafc9a-4025-4183-a7c1-1d2e5b8a345c",
   "metadata": {},
   "outputs": [
    {
     "data": {
      "text/plain": [
       "['hello', 'world']"
      ]
     },
     "execution_count": 42,
     "metadata": {},
     "output_type": "execute_result"
    }
   ],
   "source": [
    "a.split(' ')"
   ]
  },
  {
   "cell_type": "code",
   "execution_count": 43,
   "id": "1c567b3e-696f-4115-bdcc-6ada1c2dba5e",
   "metadata": {},
   "outputs": [
    {
     "data": {
      "text/plain": [
       "['hello', 'world']"
      ]
     },
     "execution_count": 43,
     "metadata": {},
     "output_type": "execute_result"
    }
   ],
   "source": [
    "a.split()"
   ]
  },
  {
   "cell_type": "code",
   "execution_count": 44,
   "id": "f9f70b6c-df56-4202-a2d3-3d32dc549d74",
   "metadata": {},
   "outputs": [],
   "source": [
    "ticker = \"btc_krw\""
   ]
  },
  {
   "cell_type": "code",
   "execution_count": 45,
   "id": "3590cf90-703e-4977-8dc4-c76c8c845727",
   "metadata": {},
   "outputs": [
    {
     "data": {
      "text/plain": [
       "['btc', 'krw']"
      ]
     },
     "execution_count": 45,
     "metadata": {},
     "output_type": "execute_result"
    }
   ],
   "source": [
    "ticker.split('_')"
   ]
  },
  {
   "cell_type": "code",
   "execution_count": 46,
   "id": "8c238182-2fcd-4df2-8602-b72875db1272",
   "metadata": {},
   "outputs": [],
   "source": [
    "date = \"2020-05-01\""
   ]
  },
  {
   "cell_type": "code",
   "execution_count": 47,
   "id": "5c108a37-5aeb-4cff-a466-31241d4e80ff",
   "metadata": {},
   "outputs": [
    {
     "data": {
      "text/plain": [
       "['2020', '05', '01']"
      ]
     },
     "execution_count": 47,
     "metadata": {},
     "output_type": "execute_result"
    }
   ],
   "source": [
    "date.split('-')"
   ]
  },
  {
   "cell_type": "code",
   "execution_count": 48,
   "id": "d644241f-9749-4605-ae77-4831dc753661",
   "metadata": {},
   "outputs": [],
   "source": [
    "data = \"039490     \""
   ]
  },
  {
   "cell_type": "code",
   "execution_count": 49,
   "id": "f6384c95-2a72-4652-8298-4365a87fe64a",
   "metadata": {},
   "outputs": [
    {
     "data": {
      "text/plain": [
       "'039490'"
      ]
     },
     "execution_count": 49,
     "metadata": {},
     "output_type": "execute_result"
    }
   ],
   "source": [
    "data.rstrip()"
   ]
  },
  {
   "cell_type": "raw",
   "id": "fe15ec13-0956-460d-9426-cda61125cae0",
   "metadata": {},
   "source": [
    "순위\t영화\n",
    "1\t닥터 스트레인지\n",
    "2\t스플릿\n",
    "3\t럭키"
   ]
  },
  {
   "cell_type": "code",
   "execution_count": 51,
   "id": "8cafdb32-f5b3-468c-b665-9ba993af4112",
   "metadata": {},
   "outputs": [],
   "source": [
    "movie_rank=['닥터 스트레인지' ,'스플릿' ,'럭키']"
   ]
  },
  {
   "cell_type": "code",
   "execution_count": 54,
   "id": "c4c6929e-e37b-4a06-bb44-43ce7235cac4",
   "metadata": {},
   "outputs": [],
   "source": [
    "movie_rank=movie_rank +['배트맨']"
   ]
  },
  {
   "cell_type": "code",
   "execution_count": 55,
   "id": "2f5efa45-3295-40d4-8409-d9a3cfcb7a7f",
   "metadata": {},
   "outputs": [
    {
     "data": {
      "text/plain": [
       "['닥터 스트레인지', '스플릿', '럭키', '배트맨']"
      ]
     },
     "execution_count": 55,
     "metadata": {},
     "output_type": "execute_result"
    }
   ],
   "source": [
    "movie_rank"
   ]
  },
  {
   "cell_type": "code",
   "execution_count": 56,
   "id": "b278f7de-1e5e-4175-9509-1a5527da2f11",
   "metadata": {},
   "outputs": [],
   "source": [
    "movie_rank.insert(1,'슈퍼맨')"
   ]
  },
  {
   "cell_type": "code",
   "execution_count": 57,
   "id": "53be7d28-5803-4deb-8012-4baf026b779f",
   "metadata": {},
   "outputs": [
    {
     "data": {
      "text/plain": [
       "['닥터 스트레인지', '슈퍼맨', '스플릿', '럭키', '배트맨']"
      ]
     },
     "execution_count": 57,
     "metadata": {},
     "output_type": "execute_result"
    }
   ],
   "source": [
    "movie_rank"
   ]
  },
  {
   "cell_type": "code",
   "execution_count": 59,
   "id": "11972807-f72d-435a-9713-50d5b0905e6c",
   "metadata": {},
   "outputs": [],
   "source": [
    "movie_rank.remove('럭키')"
   ]
  },
  {
   "cell_type": "code",
   "execution_count": 60,
   "id": "f9d67ebf-c81c-4f27-b238-41e29041e03a",
   "metadata": {},
   "outputs": [
    {
     "data": {
      "text/plain": [
       "['닥터 스트레인지', '슈퍼맨', '스플릿', '배트맨']"
      ]
     },
     "execution_count": 60,
     "metadata": {},
     "output_type": "execute_result"
    }
   ],
   "source": [
    "movie_rank"
   ]
  },
  {
   "cell_type": "code",
   "execution_count": 61,
   "id": "eeea9c35-250b-4fed-9521-d1a5ec0b8627",
   "metadata": {},
   "outputs": [],
   "source": [
    "del movie_rank[2:]"
   ]
  },
  {
   "cell_type": "code",
   "execution_count": 62,
   "id": "388b8350-8287-485e-aa59-f54839d7c215",
   "metadata": {},
   "outputs": [
    {
     "data": {
      "text/plain": [
       "['닥터 스트레인지', '슈퍼맨']"
      ]
     },
     "execution_count": 62,
     "metadata": {},
     "output_type": "execute_result"
    }
   ],
   "source": [
    "movie_rank"
   ]
  },
  {
   "cell_type": "code",
   "execution_count": 63,
   "id": "c8012dcf-3c81-4ae6-9e04-b43b91525121",
   "metadata": {},
   "outputs": [],
   "source": [
    "lang1 = [\"C\", \"C++\", \"JAVA\"]\n",
    "lang2 = [\"Python\", \"Go\", \"C#\"]"
   ]
  },
  {
   "cell_type": "code",
   "execution_count": 65,
   "id": "60359b38-1b2e-420a-af26-719b5077b5ec",
   "metadata": {},
   "outputs": [],
   "source": [
    "langs=lang1 +lang2"
   ]
  },
  {
   "cell_type": "code",
   "execution_count": 66,
   "id": "4af238f2-cd03-48e7-bc6c-3e4bd173206c",
   "metadata": {},
   "outputs": [
    {
     "data": {
      "text/plain": [
       "['C', 'C++', 'JAVA', 'Python', 'Go', 'C#']"
      ]
     },
     "execution_count": 66,
     "metadata": {},
     "output_type": "execute_result"
    }
   ],
   "source": [
    "langs"
   ]
  },
  {
   "cell_type": "code",
   "execution_count": 67,
   "id": "5e1f927e-00e3-4b87-89b1-7f55bc25c890",
   "metadata": {},
   "outputs": [],
   "source": [
    "nums = [1, 2, 3, 4, 5, 6, 7]"
   ]
  },
  {
   "cell_type": "code",
   "execution_count": 83,
   "id": "f51978b7-2b8a-4961-b104-c18f64c8f7b5",
   "metadata": {},
   "outputs": [
    {
     "name": "stdout",
     "output_type": "stream",
     "text": [
      "min: 1 \n",
      " max: 7\n"
     ]
    }
   ],
   "source": [
    "print('min:',min(nums),'\\n', 'max:', max(nums))"
   ]
  },
  {
   "cell_type": "code",
   "execution_count": 90,
   "id": "dd252d63-8c47-46b5-857c-ef4664a2ad64",
   "metadata": {},
   "outputs": [
    {
     "name": "stdout",
     "output_type": "stream",
     "text": [
      "min: 1,\n",
      "max: 7\n"
     ]
    }
   ],
   "source": [
    "print(f'min: {min(nums)},\\nmax: {max(nums)}')"
   ]
  },
  {
   "cell_type": "code",
   "execution_count": 91,
   "id": "50c4cfd5-2dae-4888-b002-81fb9df139e3",
   "metadata": {},
   "outputs": [],
   "source": [
    "nums = [1, 2, 3, 4, 5]"
   ]
  },
  {
   "cell_type": "code",
   "execution_count": 92,
   "id": "d2297eaa-3a1e-4535-ad1c-7c91433f8de8",
   "metadata": {},
   "outputs": [
    {
     "data": {
      "text/plain": [
       "15"
      ]
     },
     "execution_count": 92,
     "metadata": {},
     "output_type": "execute_result"
    }
   ],
   "source": [
    "sum(nums)"
   ]
  },
  {
   "cell_type": "code",
   "execution_count": 93,
   "id": "1a2d927d-1223-4045-9760-a3314f9a80cc",
   "metadata": {},
   "outputs": [],
   "source": [
    "cook = [\"피자\", \"김밥\", \"만두\", \"양념치킨\", \"족발\", \"피자\", \"김치만두\", \"쫄면\", \"소시지\", \"라면\", \"팥빙수\", \"김치전\"]"
   ]
  },
  {
   "cell_type": "code",
   "execution_count": 94,
   "id": "8dbc37a7-a6a2-4fc0-9169-9000cdc8433a",
   "metadata": {},
   "outputs": [
    {
     "data": {
      "text/plain": [
       "12"
      ]
     },
     "execution_count": 94,
     "metadata": {},
     "output_type": "execute_result"
    }
   ],
   "source": [
    "len(cook)"
   ]
  },
  {
   "cell_type": "code",
   "execution_count": 95,
   "id": "c489337f-5ddf-4fed-bee2-6ea650c795e8",
   "metadata": {},
   "outputs": [],
   "source": [
    "nums = [1, 2, 3, 4, 5]"
   ]
  },
  {
   "cell_type": "code",
   "execution_count": 98,
   "id": "2c464765-bb1a-4996-b99b-b66eaf64b780",
   "metadata": {},
   "outputs": [
    {
     "data": {
      "text/plain": [
       "3.0"
      ]
     },
     "execution_count": 98,
     "metadata": {},
     "output_type": "execute_result"
    }
   ],
   "source": [
    "sum(nums) / len(nums)"
   ]
  },
  {
   "cell_type": "code",
   "execution_count": 99,
   "id": "99f092e6-371a-4339-b90d-0e6968818d72",
   "metadata": {},
   "outputs": [],
   "source": [
    "price = ['20180728', 100, 130, 140, 150, 160, 170]"
   ]
  },
  {
   "cell_type": "code",
   "execution_count": 100,
   "id": "28c34749-2b07-46b5-ac50-034f9426d260",
   "metadata": {},
   "outputs": [
    {
     "data": {
      "text/plain": [
       "[100, 130, 140, 150, 160, 170]"
      ]
     },
     "execution_count": 100,
     "metadata": {},
     "output_type": "execute_result"
    }
   ],
   "source": [
    "price[1:]"
   ]
  },
  {
   "cell_type": "code",
   "execution_count": 101,
   "id": "17d65cc3-9610-4534-9ee3-d00fc16b83dc",
   "metadata": {},
   "outputs": [],
   "source": [
    "nums = [1, 2, 3, 4, 5, 6, 7, 8, 9, 10]"
   ]
  },
  {
   "cell_type": "code",
   "execution_count": 102,
   "id": "1beccca9-a0eb-4dce-a005-31f22370f48b",
   "metadata": {},
   "outputs": [
    {
     "data": {
      "text/plain": [
       "[1, 3, 5, 7, 9]"
      ]
     },
     "execution_count": 102,
     "metadata": {},
     "output_type": "execute_result"
    }
   ],
   "source": [
    "nums[::2]"
   ]
  },
  {
   "cell_type": "code",
   "execution_count": 103,
   "id": "2a059163-088d-47d4-8d02-493217e7c49f",
   "metadata": {},
   "outputs": [],
   "source": [
    "nums = [1, 2, 3, 4, 5, 6, 7, 8, 9, 10]"
   ]
  },
  {
   "cell_type": "code",
   "execution_count": 104,
   "id": "ae133429-7d94-4d0f-9b2b-bbd5368e9eb5",
   "metadata": {},
   "outputs": [
    {
     "data": {
      "text/plain": [
       "[2, 4, 6, 8, 10]"
      ]
     },
     "execution_count": 104,
     "metadata": {},
     "output_type": "execute_result"
    }
   ],
   "source": [
    "nums[1::2]"
   ]
  },
  {
   "cell_type": "code",
   "execution_count": 105,
   "id": "7d7609df-b575-4420-b747-4f5a68d293fd",
   "metadata": {},
   "outputs": [],
   "source": [
    "nums = [1, 2, 3, 4, 5]"
   ]
  },
  {
   "cell_type": "code",
   "execution_count": 106,
   "id": "de680361-3cf3-4537-a1f0-d041dac7666b",
   "metadata": {},
   "outputs": [
    {
     "data": {
      "text/plain": [
       "[5, 4, 3, 2, 1]"
      ]
     },
     "execution_count": 106,
     "metadata": {},
     "output_type": "execute_result"
    }
   ],
   "source": [
    "nums[::-1]"
   ]
  },
  {
   "cell_type": "code",
   "execution_count": 107,
   "id": "76f6dd1c-dc98-4a77-b22c-b4c143a2109d",
   "metadata": {},
   "outputs": [],
   "source": [
    "interest = ['삼성전자', 'LG전자', 'Naver']"
   ]
  },
  {
   "cell_type": "code",
   "execution_count": 108,
   "id": "807d25e2-0b9d-4cb2-b209-ddf5e7470253",
   "metadata": {},
   "outputs": [
    {
     "name": "stdout",
     "output_type": "stream",
     "text": [
      "삼성전자 Naver\n"
     ]
    }
   ],
   "source": [
    "print(interest[0], interest[2])"
   ]
  },
  {
   "cell_type": "code",
   "execution_count": 109,
   "id": "31adea28-e439-4de5-93b2-74090e7c34b1",
   "metadata": {},
   "outputs": [],
   "source": [
    "interest = ['삼성전자', 'LG전자', 'Naver', 'SK하이닉스', '미래에셋대우']"
   ]
  },
  {
   "cell_type": "code",
   "execution_count": 111,
   "id": "152d7926-4bdb-47bd-a14c-ec06d1b4df2e",
   "metadata": {},
   "outputs": [
    {
     "name": "stdout",
     "output_type": "stream",
     "text": [
      "['삼성전자', 'LG전자', 'Naver', 'SK하이닉스', '미래에셋대우']\n"
     ]
    }
   ],
   "source": [
    "print(interest[:])"
   ]
  },
  {
   "cell_type": "code",
   "execution_count": 112,
   "id": "2308ae5d-62d2-4ec4-9fc9-9bb1b6845b2d",
   "metadata": {},
   "outputs": [
    {
     "name": "stdout",
     "output_type": "stream",
     "text": [
      "삼성전자 LG전자 Naver SK하이닉스 미래에셋대우\n"
     ]
    }
   ],
   "source": [
    "print(\" \".join(interest))"
   ]
  },
  {
   "cell_type": "code",
   "execution_count": 113,
   "id": "7d34218c-a2cc-42e8-86a2-9b573e6c6962",
   "metadata": {},
   "outputs": [
    {
     "name": "stdout",
     "output_type": "stream",
     "text": [
      "['삼성전자', 'LG전자', 'Naver', 'SK하이닉스', '미래에셋대우']\n"
     ]
    }
   ],
   "source": [
    "print(interest)"
   ]
  },
  {
   "cell_type": "code",
   "execution_count": 114,
   "id": "6c104424-98f5-42bd-8116-9acedeedb069",
   "metadata": {},
   "outputs": [
    {
     "name": "stdout",
     "output_type": "stream",
     "text": [
      "삼성전자/LG전자/Naver/SK하이닉스/미래에셋대우\n"
     ]
    }
   ],
   "source": [
    "print(\"/\".join(interest))"
   ]
  },
  {
   "cell_type": "code",
   "execution_count": 117,
   "id": "1e0a15fb-9b55-440b-a8a7-01e79370586d",
   "metadata": {},
   "outputs": [
    {
     "name": "stdout",
     "output_type": "stream",
     "text": [
      "삼성전자\n",
      "LG전자\n",
      "Naver\n",
      "SK하이닉스\n",
      "미래에셋대우\n"
     ]
    }
   ],
   "source": [
    "print(\"\\n\".join(interest)) # slash 방향에 유의!!"
   ]
  },
  {
   "cell_type": "code",
   "execution_count": 118,
   "id": "8181d974-2bd7-4b5e-8dfe-080129c5977c",
   "metadata": {},
   "outputs": [],
   "source": [
    "string = \"삼성전자/LG전자/Naver\""
   ]
  },
  {
   "cell_type": "code",
   "execution_count": null,
   "id": "0ede5714-54cd-4563-8a3e-07ed53d8d698",
   "metadata": {},
   "outputs": [],
   "source": [
    "print(interest)\n",
    "['삼성전자', 'LG전자', 'Naver']"
   ]
  },
  {
   "cell_type": "code",
   "execution_count": 120,
   "id": "1fbd305c-1a35-4d76-b54b-953cccf64c8d",
   "metadata": {},
   "outputs": [],
   "source": [
    "interest=string.split('/')"
   ]
  },
  {
   "cell_type": "code",
   "execution_count": 121,
   "id": "8cc14197-ce01-48d1-94e2-5c403c2d6e3c",
   "metadata": {},
   "outputs": [],
   "source": [
    "data = [2, 4, 3, 1, 5, 10, 9]"
   ]
  },
  {
   "cell_type": "code",
   "execution_count": 127,
   "id": "3746662c-9266-46e3-9f6e-22304c5f648f",
   "metadata": {},
   "outputs": [],
   "source": [
    "data.sort(reverse=True)"
   ]
  },
  {
   "cell_type": "code",
   "execution_count": 128,
   "id": "63367563-34b3-464a-b818-9eb2b799f88f",
   "metadata": {},
   "outputs": [
    {
     "data": {
      "text/plain": [
       "[10, 9, 5, 4, 3, 2, 1]"
      ]
     },
     "execution_count": 128,
     "metadata": {},
     "output_type": "execute_result"
    }
   ],
   "source": [
    "data"
   ]
  },
  {
   "cell_type": "code",
   "execution_count": null,
   "id": "61ac8148-3388-4b3c-8f4a-0fc4629aaccc",
   "metadata": {},
   "outputs": [],
   "source": []
  },
  {
   "cell_type": "code",
   "execution_count": null,
   "id": "e6462da7-d49d-4868-ab32-7fae4d9d18ff",
   "metadata": {},
   "outputs": [],
   "source": []
  }
 ],
 "metadata": {
  "kernelspec": {
   "display_name": "Python 3 (ipykernel)",
   "language": "python",
   "name": "python3"
  },
  "language_info": {
   "codemirror_mode": {
    "name": "ipython",
    "version": 3
   },
   "file_extension": ".py",
   "mimetype": "text/x-python",
   "name": "python",
   "nbconvert_exporter": "python",
   "pygments_lexer": "ipython3",
   "version": "3.9.12"
  }
 },
 "nbformat": 4,
 "nbformat_minor": 5
}
