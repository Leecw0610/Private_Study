{
 "cells": [
  {
   "cell_type": "markdown",
   "id": "8c78530e-9110-4ac9-9783-e9b17457ee88",
   "metadata": {},
   "source": [
    "# 파이썬 데이터 타입 int , float, str"
   ]
  },
  {
   "cell_type": "markdown",
   "id": "dc2aca2f-56ad-40bc-afba-0a7f1c81dc8c",
   "metadata": {},
   "source": [
    "## -type 함수"
   ]
  },
  {
   "cell_type": "markdown",
   "id": "56b69d3b-6fbd-43d0-a610-aed4fdf86667",
   "metadata": {},
   "source": [
    "## -변수"
   ]
  },
  {
   "cell_type": "raw",
   "id": "f9054446-fa5d-4e09-a6db-2fa99b8ab420",
   "metadata": {},
   "source": [
    "변수가 값의 위치를 binding 한다"
   ]
  },
  {
   "cell_type": "raw",
   "id": "e8acbb6c-6c64-4355-96be-d9542bef4087",
   "metadata": {},
   "source": [
    "binding의 의미       id()"
   ]
  },
  {
   "cell_type": "code",
   "execution_count": 1,
   "id": "276def89-37b2-4a93-a675-36bacde465d2",
   "metadata": {},
   "outputs": [
    {
     "name": "stdout",
     "output_type": "stream",
     "text": [
      "4\n"
     ]
    }
   ],
   "source": [
    "a = 2\n",
    "a = 4\n",
    "print(a)"
   ]
  },
  {
   "cell_type": "markdown",
   "id": "b28f822e-e3df-44f1-a82f-10db379e875e",
   "metadata": {},
   "source": [
    "# 파이썬 자료 구조"
   ]
  },
  {
   "cell_type": "markdown",
   "id": "20d50efa-3475-4953-abc0-d5e4a01b067f",
   "metadata": {},
   "source": [
    "- 리스트 / 튜플 / 딕셔너리"
   ]
  },
  {
   "cell_type": "markdown",
   "id": "53c742b7-8b06-4150-8843-38b208463630",
   "metadata": {},
   "source": [
    "- 인덱싱 & 슬라이싱"
   ]
  },
  {
   "cell_type": "code",
   "execution_count": null,
   "id": "f3ffe85a-b818-458a-a6e1-96d2f44ae4aa",
   "metadata": {},
   "outputs": [],
   "source": []
  }
 ],
 "metadata": {
  "kernelspec": {
   "display_name": "Python 3 (ipykernel)",
   "language": "python",
   "name": "python3"
  },
  "language_info": {
   "codemirror_mode": {
    "name": "ipython",
    "version": 3
   },
   "file_extension": ".py",
   "mimetype": "text/x-python",
   "name": "python",
   "nbconvert_exporter": "python",
   "pygments_lexer": "ipython3",
   "version": "3.9.12"
  }
 },
 "nbformat": 4,
 "nbformat_minor": 5
}
