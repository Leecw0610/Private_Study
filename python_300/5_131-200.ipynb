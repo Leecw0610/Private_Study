{
 "cells": [
  {
   "cell_type": "markdown",
   "id": "c3405945-d411-4356-a636-2d1a941caa65",
   "metadata": {},
   "source": [
    "# Q.131-200\n",
    "\n",
    "# 파이썬 반복문"
   ]
  },
  {
   "cell_type": "code",
   "execution_count": null,
   "id": "97db410f-c2f7-44fd-bdb5-964a9cda3738",
   "metadata": {},
   "outputs": [],
   "source": []
  },
  {
   "cell_type": "code",
   "execution_count": 1,
   "id": "471b9a47-29c8-4f8d-a701-250ab63c3345",
   "metadata": {},
   "outputs": [
    {
     "name": "stdout",
     "output_type": "stream",
     "text": [
      "사과\n",
      "귤\n",
      "수박\n"
     ]
    }
   ],
   "source": [
    "과일 = [\"사과\", \"귤\", \"수박\"]\n",
    "for 변수 in 과일:\n",
    "    print(변수)"
   ]
  },
  {
   "cell_type": "code",
   "execution_count": 2,
   "id": "4cfb0e7d-a74f-444d-a684-381c8aae51e5",
   "metadata": {},
   "outputs": [
    {
     "name": "stdout",
     "output_type": "stream",
     "text": [
      "#####\n",
      "#####\n",
      "#####\n"
     ]
    }
   ],
   "source": [
    "과일 = [\"사과\", \"귤\", \"수박\"]\n",
    "for 변수 in 과일:\n",
    "    print(\"#####\")"
   ]
  },
  {
   "cell_type": "code",
   "execution_count": 3,
   "id": "0e6c4b55-5588-423d-99e4-00fa11e479e5",
   "metadata": {},
   "outputs": [
    {
     "name": "stdout",
     "output_type": "stream",
     "text": [
      "A\n",
      "B\n",
      "C\n"
     ]
    }
   ],
   "source": [
    "for 변수 in [\"A\", \"B\", \"C\"]:\n",
    "      print(변수)"
   ]
  },
  {
   "cell_type": "code",
   "execution_count": 5,
   "id": "9c14c15a-dd14-48d4-a7a0-5c8596df84be",
   "metadata": {},
   "outputs": [
    {
     "name": "stdout",
     "output_type": "stream",
     "text": [
      "출력: A\n",
      "출력: B\n",
      "출력: C\n"
     ]
    }
   ],
   "source": [
    "for 변수 in [\"A\", \"B\", \"C\"]:\n",
    "    print(\"출력:\", 변수)"
   ]
  },
  {
   "cell_type": "code",
   "execution_count": 6,
   "id": "09a3fa0f-c41b-43df-a215-d13bb91dc043",
   "metadata": {},
   "outputs": [
    {
     "name": "stdout",
     "output_type": "stream",
     "text": [
      "출력: A\n",
      "출력: B\n",
      "출력: C\n"
     ]
    }
   ],
   "source": [
    "print('출력:', 'A')\n",
    "print('출력:', 'B')\n",
    "print('출력:', 'C')"
   ]
  },
  {
   "cell_type": "code",
   "execution_count": 7,
   "id": "c75dd49d-1397-4871-b97c-aeda8c96a92a",
   "metadata": {},
   "outputs": [
    {
     "name": "stdout",
     "output_type": "stream",
     "text": [
      "변환: a\n",
      "변환: b\n",
      "변환: c\n"
     ]
    }
   ],
   "source": [
    "for 변수 in [\"A\", \"B\", \"C\"]:\n",
    "    b = 변수.lower()\n",
    "    print(\"변환:\", b)"
   ]
  },
  {
   "cell_type": "code",
   "execution_count": null,
   "id": "730794ef-4f97-43c1-847a-7a890f297a06",
   "metadata": {},
   "outputs": [],
   "source": [
    "변수 = 10\n",
    "print(변수)\n",
    "변수 = 20\n",
    "print(변수)\n",
    "변수 = 30\n",
    "print(변수)"
   ]
  },
  {
   "cell_type": "code",
   "execution_count": 14,
   "id": "63a6fee2-ef7e-46f9-9020-1d4ceac56b28",
   "metadata": {},
   "outputs": [
    {
     "name": "stdout",
     "output_type": "stream",
     "text": [
      "10\n",
      "20\n",
      "30\n"
     ]
    }
   ],
   "source": [
    "for i in range(3) :\n",
    "    #print(i)\n",
    "    변수=10 *(i+1)\n",
    "    print(변수)"
   ]
  },
  {
   "cell_type": "code",
   "execution_count": 17,
   "id": "d14986ba-a6a5-41d5-9c99-e2b56c55a932",
   "metadata": {},
   "outputs": [
    {
     "name": "stdout",
     "output_type": "stream",
     "text": [
      "10\n",
      "20\n",
      "30\n"
     ]
    }
   ],
   "source": [
    "for i in range(3):\n",
    "    #print(i)\n",
    "    print((i+1)*10)"
   ]
  },
  {
   "cell_type": "code",
   "execution_count": 18,
   "id": "b8bb3d8a-f3e0-48e8-a935-7d9dadc4a590",
   "metadata": {},
   "outputs": [
    {
     "name": "stdout",
     "output_type": "stream",
     "text": [
      "10\n",
      "-------\n",
      "20\n",
      "-------\n",
      "30\n",
      "-------\n"
     ]
    }
   ],
   "source": [
    "for i in range(3):\n",
    "    #print(i)\n",
    "    print((i+1)*10)\n",
    "    print('-------')"
   ]
  },
  {
   "cell_type": "code",
   "execution_count": 19,
   "id": "a3f88f3e-dabc-4b9d-9ba4-35d4f7e2cebc",
   "metadata": {},
   "outputs": [
    {
     "name": "stdout",
     "output_type": "stream",
     "text": [
      "++++\n",
      "10\n",
      "20\n",
      "30\n"
     ]
    }
   ],
   "source": [
    "print('++++')\n",
    "for i in range(3):\n",
    "    #print(i)\n",
    "    print((i+1)*10)\n",
    "    "
   ]
  },
  {
   "cell_type": "code",
   "execution_count": 20,
   "id": "e86cfe69-e816-4641-ac85-c9203f337647",
   "metadata": {},
   "outputs": [
    {
     "name": "stdout",
     "output_type": "stream",
     "text": [
      "-------\n",
      "-------\n",
      "-------\n",
      "-------\n"
     ]
    }
   ],
   "source": [
    "for i in range(4) :\n",
    "    print(\"-------\")"
   ]
  },
  {
   "cell_type": "code",
   "execution_count": 21,
   "id": "80eaf2b1-c2e4-4c8f-91ae-ab75b19e42a0",
   "metadata": {},
   "outputs": [],
   "source": [
    "리스트 = [100, 200, 300]"
   ]
  },
  {
   "cell_type": "code",
   "execution_count": 22,
   "id": "526b089a-b1e1-4eaf-9e28-aca87866b354",
   "metadata": {},
   "outputs": [
    {
     "name": "stdout",
     "output_type": "stream",
     "text": [
      "110\n",
      "210\n",
      "310\n"
     ]
    }
   ],
   "source": [
    "for i in 리스트 :\n",
    "    print(int(i)+10)"
   ]
  },
  {
   "cell_type": "code",
   "execution_count": 23,
   "id": "0cd46b9e-18ee-4c77-ac27-78e5f72afa5e",
   "metadata": {},
   "outputs": [],
   "source": [
    "리스트 = [\"김밥\", \"라면\", \"튀김\"]"
   ]
  },
  {
   "cell_type": "code",
   "execution_count": 25,
   "id": "ae38a26b-02ab-4b67-b8e9-f47bf9d39ef8",
   "metadata": {},
   "outputs": [
    {
     "name": "stdout",
     "output_type": "stream",
     "text": [
      "오늘의 메뉴: 김밥\n",
      "오늘의 메뉴: 라면\n",
      "오늘의 메뉴: 튀김\n"
     ]
    }
   ],
   "source": [
    "for i in 리스트 :\n",
    "    print('오늘의 메뉴:',i)"
   ]
  },
  {
   "cell_type": "code",
   "execution_count": 26,
   "id": "3e0b0e11-2640-46a1-b54e-231052864d0e",
   "metadata": {},
   "outputs": [],
   "source": [
    "리스트 = [\"SK하이닉스\", \"삼성전자\", \"LG전자\"]"
   ]
  },
  {
   "cell_type": "code",
   "execution_count": 28,
   "id": "ddecc657-502c-40df-b6df-e4b5f2a7b629",
   "metadata": {},
   "outputs": [
    {
     "name": "stdout",
     "output_type": "stream",
     "text": [
      "6\n",
      "4\n",
      "4\n"
     ]
    }
   ],
   "source": [
    "for i in 리스트 :\n",
    "    print(len(i))"
   ]
  },
  {
   "cell_type": "code",
   "execution_count": 29,
   "id": "73a67710-6e4b-4471-bac3-585559df7f71",
   "metadata": {},
   "outputs": [],
   "source": [
    "리스트 = ['dog', 'cat', 'parrot']"
   ]
  },
  {
   "cell_type": "code",
   "execution_count": 31,
   "id": "ed2fbce4-ef5d-4cd6-b3ed-727ed30d2816",
   "metadata": {},
   "outputs": [
    {
     "name": "stdout",
     "output_type": "stream",
     "text": [
      "dog 3\n",
      "cat 3\n",
      "parrot 6\n"
     ]
    }
   ],
   "source": [
    "for i in 리스트:\n",
    "    print(i, len(i))"
   ]
  },
  {
   "cell_type": "code",
   "execution_count": 34,
   "id": "814a5dca-1d36-4c5b-976f-3808a9de9475",
   "metadata": {},
   "outputs": [
    {
     "name": "stdout",
     "output_type": "stream",
     "text": [
      "d\n",
      "c\n",
      "p\n"
     ]
    }
   ],
   "source": [
    "for i in 리스트:\n",
    "    print(i[0])"
   ]
  },
  {
   "cell_type": "code",
   "execution_count": 1,
   "id": "941f8177-7a78-4f78-94f8-cff85f56406c",
   "metadata": {},
   "outputs": [],
   "source": [
    "리스트 = [1, 2, 3]"
   ]
  },
  {
   "cell_type": "code",
   "execution_count": 5,
   "id": "12e0d93b-0da9-45a7-a52e-e63e8d555936",
   "metadata": {},
   "outputs": [
    {
     "name": "stdout",
     "output_type": "stream",
     "text": [
      "3 x 1\n",
      "3 x 2\n",
      "3 x 3\n"
     ]
    }
   ],
   "source": [
    "for i in 리스트 :\n",
    "    print('3 x',i)"
   ]
  },
  {
   "cell_type": "code",
   "execution_count": 7,
   "id": "702a992f-cb40-4e5a-ac13-1bf31c67d737",
   "metadata": {},
   "outputs": [
    {
     "name": "stdout",
     "output_type": "stream",
     "text": [
      "3 x 1 = 3\n",
      "3 x 2 = 6\n",
      "3 x 3 = 9\n"
     ]
    }
   ],
   "source": [
    "for i in 리스트 :\n",
    "    #print('3 x',i,'=',3*i)\n",
    "    print(f'3 x {i} = {3*i}')"
   ]
  },
  {
   "cell_type": "code",
   "execution_count": 8,
   "id": "96846c26-7cf9-46ea-8eb1-3071263811a5",
   "metadata": {},
   "outputs": [],
   "source": [
    "리스트 = [\"가\", \"나\", \"다\", \"라\"]"
   ]
  },
  {
   "cell_type": "code",
   "execution_count": 10,
   "id": "8e2ea122-c1bf-4811-b6af-4cb9e27fe0a5",
   "metadata": {},
   "outputs": [
    {
     "name": "stdout",
     "output_type": "stream",
     "text": [
      "나\n",
      "다\n",
      "라\n"
     ]
    }
   ],
   "source": [
    "for i in 리스트 :\n",
    "    if i == '가' :\n",
    "        pass\n",
    "    else :\n",
    "        print(i)"
   ]
  },
  {
   "cell_type": "code",
   "execution_count": 11,
   "id": "0209daed-84f4-4fdf-9569-b63a22027882",
   "metadata": {},
   "outputs": [],
   "source": [
    "리스트 = [\"가\", \"나\", \"다\", \"라\"]"
   ]
  },
  {
   "cell_type": "code",
   "execution_count": 13,
   "id": "708baa31-9c67-47d6-a294-49a9e9e50343",
   "metadata": {},
   "outputs": [
    {
     "name": "stdout",
     "output_type": "stream",
     "text": [
      "가\n",
      "다\n"
     ]
    }
   ],
   "source": [
    "for i in 리스트[::2] :\n",
    "    print(i)"
   ]
  },
  {
   "cell_type": "code",
   "execution_count": 14,
   "id": "60fdc221-7d7b-4770-9809-a9ec2271f969",
   "metadata": {},
   "outputs": [
    {
     "name": "stdout",
     "output_type": "stream",
     "text": [
      "라\n",
      "다\n",
      "나\n",
      "가\n"
     ]
    }
   ],
   "source": [
    "for i in 리스트[::-1] :\n",
    "    print(i)"
   ]
  },
  {
   "cell_type": "code",
   "execution_count": 15,
   "id": "03c259d9-ac02-47c2-81c3-230f3f2efc4d",
   "metadata": {},
   "outputs": [],
   "source": [
    "리스트 = [3, -20, -3, 44]"
   ]
  },
  {
   "cell_type": "code",
   "execution_count": 17,
   "id": "a7b14ea1-38bb-4abb-92db-7064971bcdc7",
   "metadata": {},
   "outputs": [
    {
     "name": "stdout",
     "output_type": "stream",
     "text": [
      "-20\n",
      "-3\n"
     ]
    }
   ],
   "source": [
    "for i in 리스트 :\n",
    "    if i <0 :\n",
    "        print(i)\n",
    "    else :\n",
    "        pass"
   ]
  },
  {
   "cell_type": "code",
   "execution_count": 18,
   "id": "1c860499-a0df-419e-a3e6-19404cdcfabe",
   "metadata": {},
   "outputs": [
    {
     "name": "stdout",
     "output_type": "stream",
     "text": [
      "3\n"
     ]
    }
   ],
   "source": [
    "리스트 = [3, 100, 23, 44]\n",
    "for i in 리스트 :\n",
    "    if i%3 ==0 :\n",
    "        print(i)"
   ]
  },
  {
   "cell_type": "code",
   "execution_count": 22,
   "id": "7a5fd6c1-c6db-49da-ae59-30dee36d5f69",
   "metadata": {},
   "outputs": [
    {
     "name": "stdout",
     "output_type": "stream",
     "text": [
      "12\n",
      "18\n"
     ]
    }
   ],
   "source": [
    "리스트 = [13, 21, 12, 14, 30, 18]\n",
    "for i in 리스트 :\n",
    "    if (i%3 ==0) and (i<20) :\n",
    "        print(i)"
   ]
  },
  {
   "cell_type": "code",
   "execution_count": 24,
   "id": "562c1763-868c-458c-9a17-df1287a4dc07",
   "metadata": {},
   "outputs": [
    {
     "name": "stdout",
     "output_type": "stream",
     "text": [
      "study\n",
      "python\n",
      "language\n"
     ]
    }
   ],
   "source": [
    "리스트 = [\"I\", \"study\", \"python\", \"language\", \"!\"]\n",
    "for i in 리스트:\n",
    "    if len(i)>=3 :\n",
    "        print(i)"
   ]
  },
  {
   "cell_type": "code",
   "execution_count": 26,
   "id": "804dea33-6916-4891-96e8-dd215bcc313d",
   "metadata": {},
   "outputs": [
    {
     "name": "stdout",
     "output_type": "stream",
     "text": [
      "A\n",
      "D\n"
     ]
    }
   ],
   "source": [
    "리스트 = [\"A\", \"b\", \"c\", \"D\"]\n",
    "for i in 리스트 :\n",
    "    if i.isupper() ==True :\n",
    "        print(i)"
   ]
  },
  {
   "cell_type": "code",
   "execution_count": 27,
   "id": "c4974882-be4a-45ac-8a7c-bc4a9d705889",
   "metadata": {},
   "outputs": [
    {
     "name": "stdout",
     "output_type": "stream",
     "text": [
      "b\n",
      "c\n"
     ]
    }
   ],
   "source": [
    "리스트 = [\"A\", \"b\", \"c\", \"D\"]\n",
    "for i in 리스트 :\n",
    "    if i.isupper() !=True :\n",
    "        print(i)"
   ]
  },
  {
   "cell_type": "code",
   "execution_count": 32,
   "id": "7761aa05-2089-4faf-af75-e667101ecf86",
   "metadata": {},
   "outputs": [
    {
     "name": "stdout",
     "output_type": "stream",
     "text": [
      "Dog\n",
      "Cat\n",
      "Parrot\n"
     ]
    }
   ],
   "source": [
    "리스트 = ['dog', 'cat', 'parrot']\n",
    "for i in 리스트 :\n",
    "    print(i[0].upper()+i[1:])"
   ]
  },
  {
   "cell_type": "code",
   "execution_count": 37,
   "id": "45351edb-0352-4261-b2f5-26ad0d49cfcd",
   "metadata": {},
   "outputs": [
    {
     "name": "stdout",
     "output_type": "stream",
     "text": [
      "hello\n",
      "ex01\n",
      "intro\n"
     ]
    }
   ],
   "source": [
    "리스트 = ['hello.py', 'ex01.py', 'intro.hwp']\n",
    "for i in 리스트 :\n",
    "    print(i.split('.')[0])"
   ]
  },
  {
   "cell_type": "code",
   "execution_count": 40,
   "id": "5c501ee5-5c75-44ff-8f00-8f92b3a56d67",
   "metadata": {},
   "outputs": [
    {
     "name": "stdout",
     "output_type": "stream",
     "text": [
      "intra.h\n",
      "define.h\n"
     ]
    }
   ],
   "source": [
    "리스트 = ['intra.h', 'intra.c', 'define.h', 'run.py']\n",
    "for i in 리스트 :\n",
    "    if i.split('.')[-1]=='h' :\n",
    "        print(i)"
   ]
  },
  {
   "cell_type": "code",
   "execution_count": 46,
   "id": "e292ad37-ce70-40d3-8192-ef14b0e7be00",
   "metadata": {},
   "outputs": [
    {
     "name": "stdout",
     "output_type": "stream",
     "text": [
      "intra.h\n",
      "intra.c\n",
      "define.h\n"
     ]
    }
   ],
   "source": [
    "리스트 = ['intra.h', 'intra.c', 'define.h', 'run.py']\n",
    "for i in 리스트 :\n",
    "    if i.split('.')[-1]=='h'or i.split('.')[-1]=='c' :\n",
    "        print(i)"
   ]
  },
  {
   "cell_type": "code",
   "execution_count": 47,
   "id": "e07b1efd-bb3a-4511-b6a7-660c224c39b4",
   "metadata": {
    "collapsed": true,
    "jupyter": {
     "outputs_hidden": true
    },
    "tags": []
   },
   "outputs": [
    {
     "name": "stdout",
     "output_type": "stream",
     "text": [
      "0\n",
      "1\n",
      "2\n",
      "3\n",
      "4\n",
      "5\n",
      "6\n",
      "7\n",
      "8\n",
      "9\n",
      "10\n",
      "11\n",
      "12\n",
      "13\n",
      "14\n",
      "15\n",
      "16\n",
      "17\n",
      "18\n",
      "19\n",
      "20\n",
      "21\n",
      "22\n",
      "23\n",
      "24\n",
      "25\n",
      "26\n",
      "27\n",
      "28\n",
      "29\n",
      "30\n",
      "31\n",
      "32\n",
      "33\n",
      "34\n",
      "35\n",
      "36\n",
      "37\n",
      "38\n",
      "39\n",
      "40\n",
      "41\n",
      "42\n",
      "43\n",
      "44\n",
      "45\n",
      "46\n",
      "47\n",
      "48\n",
      "49\n",
      "50\n",
      "51\n",
      "52\n",
      "53\n",
      "54\n",
      "55\n",
      "56\n",
      "57\n",
      "58\n",
      "59\n",
      "60\n",
      "61\n",
      "62\n",
      "63\n",
      "64\n",
      "65\n",
      "66\n",
      "67\n",
      "68\n",
      "69\n",
      "70\n",
      "71\n",
      "72\n",
      "73\n",
      "74\n",
      "75\n",
      "76\n",
      "77\n",
      "78\n",
      "79\n",
      "80\n",
      "81\n",
      "82\n",
      "83\n",
      "84\n",
      "85\n",
      "86\n",
      "87\n",
      "88\n",
      "89\n",
      "90\n",
      "91\n",
      "92\n",
      "93\n",
      "94\n",
      "95\n",
      "96\n",
      "97\n",
      "98\n",
      "99\n"
     ]
    }
   ],
   "source": [
    "for i in range(100) :\n",
    "    print(i)"
   ]
  },
  {
   "cell_type": "code",
   "execution_count": 48,
   "id": "43f26d46-3365-401e-9f31-e581a1df8ce3",
   "metadata": {},
   "outputs": [
    {
     "name": "stdout",
     "output_type": "stream",
     "text": [
      "2002\n",
      "2006\n",
      "2010\n",
      "2014\n",
      "2018\n",
      "2022\n",
      "2026\n",
      "2030\n",
      "2034\n",
      "2038\n",
      "2042\n",
      "2046\n",
      "2050\n"
     ]
    }
   ],
   "source": [
    "for i in range(2002,2051,4) :\n",
    "    print(i)"
   ]
  },
  {
   "cell_type": "code",
   "execution_count": 52,
   "id": "8215daa4-f09c-4f63-9dde-91a3c2ed14cb",
   "metadata": {},
   "outputs": [
    {
     "name": "stdout",
     "output_type": "stream",
     "text": [
      "3\n",
      "6\n",
      "9\n",
      "12\n",
      "15\n",
      "18\n",
      "21\n",
      "24\n",
      "27\n",
      "30\n"
     ]
    }
   ],
   "source": [
    "for i in range(3,31,3) :\n",
    "    print(i)"
   ]
  },
  {
   "cell_type": "code",
   "execution_count": 56,
   "id": "50cb0119-fc18-4a1f-80eb-270839bd66ea",
   "metadata": {
    "collapsed": true,
    "jupyter": {
     "outputs_hidden": true
    },
    "tags": []
   },
   "outputs": [
    {
     "name": "stdout",
     "output_type": "stream",
     "text": [
      "99\n",
      "98\n",
      "97\n",
      "96\n",
      "95\n",
      "94\n",
      "93\n",
      "92\n",
      "91\n",
      "90\n",
      "89\n",
      "88\n",
      "87\n",
      "86\n",
      "85\n",
      "84\n",
      "83\n",
      "82\n",
      "81\n",
      "80\n",
      "79\n",
      "78\n",
      "77\n",
      "76\n",
      "75\n",
      "74\n",
      "73\n",
      "72\n",
      "71\n",
      "70\n",
      "69\n",
      "68\n",
      "67\n",
      "66\n",
      "65\n",
      "64\n",
      "63\n",
      "62\n",
      "61\n",
      "60\n",
      "59\n",
      "58\n",
      "57\n",
      "56\n",
      "55\n",
      "54\n",
      "53\n",
      "52\n",
      "51\n",
      "50\n",
      "49\n",
      "48\n",
      "47\n",
      "46\n",
      "45\n",
      "44\n",
      "43\n",
      "42\n",
      "41\n",
      "40\n",
      "39\n",
      "38\n",
      "37\n",
      "36\n",
      "35\n",
      "34\n",
      "33\n",
      "32\n",
      "31\n",
      "30\n",
      "29\n",
      "28\n",
      "27\n",
      "26\n",
      "25\n",
      "24\n",
      "23\n",
      "22\n",
      "21\n",
      "20\n",
      "19\n",
      "18\n",
      "17\n",
      "16\n",
      "15\n",
      "14\n",
      "13\n",
      "12\n",
      "11\n",
      "10\n",
      "9\n",
      "8\n",
      "7\n",
      "6\n",
      "5\n",
      "4\n",
      "3\n",
      "2\n",
      "1\n",
      "0\n"
     ]
    }
   ],
   "source": [
    "for i in range(99,-1,-1) :\n",
    "    print(i)"
   ]
  },
  {
   "cell_type": "code",
   "execution_count": 61,
   "id": "56a55cb1-5b13-4606-86d2-06070b1bedce",
   "metadata": {},
   "outputs": [
    {
     "name": "stdout",
     "output_type": "stream",
     "text": [
      "0.0\n",
      "0.1\n",
      "0.2\n",
      "0.3\n",
      "0.4\n",
      "0.5\n",
      "0.6\n",
      "0.7\n",
      "0.8\n",
      "0.9\n"
     ]
    }
   ],
   "source": [
    "for i in range(0,10) :\n",
    "    print(i/10)"
   ]
  },
  {
   "cell_type": "code",
   "execution_count": 66,
   "id": "3c670028-1580-4fe0-b09b-b4ec140c5d15",
   "metadata": {},
   "outputs": [
    {
     "name": "stdout",
     "output_type": "stream",
     "text": [
      "3x1=3\n",
      "3x3=9\n",
      "3x5=15\n",
      "3x7=21\n",
      "3x9=27\n"
     ]
    }
   ],
   "source": [
    "for i in range(1,10,2) :\n",
    "    print(f'3x{i}={3*i}')"
   ]
  },
  {
   "cell_type": "code",
   "execution_count": 79,
   "id": "42d7fe6d-c9e1-4f37-8cfd-3709ccb7dee9",
   "metadata": {},
   "outputs": [
    {
     "name": "stdout",
     "output_type": "stream",
     "text": [
      "1\n",
      "1\n",
      "-----\n",
      "2\n",
      "3\n",
      "-----\n",
      "3\n",
      "6\n",
      "-----\n",
      "4\n",
      "10\n",
      "-----\n",
      "5\n",
      "15\n",
      "-----\n",
      "6\n",
      "21\n",
      "-----\n",
      "7\n",
      "28\n",
      "-----\n",
      "8\n",
      "36\n",
      "-----\n",
      "9\n",
      "45\n",
      "-----\n",
      "10\n",
      "55\n",
      "-----\n"
     ]
    }
   ],
   "source": [
    "n=0\n",
    "for i in range(1,11) :\n",
    "    print(i)\n",
    "    n=n+i\n",
    "    print(n)\n",
    "    print('-----')"
   ]
  },
  {
   "cell_type": "code",
   "execution_count": 80,
   "id": "3ac23cd5-9338-4971-a279-e4078b39482a",
   "metadata": {},
   "outputs": [
    {
     "name": "stdout",
     "output_type": "stream",
     "text": [
      "1\n",
      "1\n",
      "-----\n",
      "3\n",
      "4\n",
      "-----\n",
      "5\n",
      "9\n",
      "-----\n",
      "7\n",
      "16\n",
      "-----\n",
      "9\n",
      "25\n",
      "-----\n"
     ]
    }
   ],
   "source": [
    "n=0\n",
    "for i in range(1,11,2) :\n",
    "    print(i)\n",
    "    n=n+i\n",
    "    print(n)\n",
    "    print('-----')"
   ]
  },
  {
   "cell_type": "code",
   "execution_count": 84,
   "id": "feaa906e-50cc-4782-8ae8-5a84615e2ff5",
   "metadata": {},
   "outputs": [
    {
     "name": "stdout",
     "output_type": "stream",
     "text": [
      "1\n",
      "2\n",
      "6\n",
      "24\n",
      "120\n",
      "720\n",
      "5040\n",
      "40320\n",
      "362880\n",
      "3628800\n"
     ]
    }
   ],
   "source": [
    "n=1\n",
    "for i in range(1,11) :\n",
    "    #print(i)\n",
    "    n*= i\n",
    "    print(n)\n",
    "    "
   ]
  },
  {
   "cell_type": "code",
   "execution_count": 87,
   "id": "38a743c3-e71f-4efd-b2bc-eb97d0e7ff1e",
   "metadata": {},
   "outputs": [
    {
     "name": "stdout",
     "output_type": "stream",
     "text": [
      "32100\n",
      "32150\n",
      "32000\n",
      "32500\n"
     ]
    }
   ],
   "source": [
    "price_list = [32100, 32150, 32000, 32500]\n",
    "for i in range(len(price_list)) :\n",
    "    print(price_list[i])"
   ]
  },
  {
   "cell_type": "code",
   "execution_count": 88,
   "id": "63f2c693-6607-461d-b2a3-22c96d26fd20",
   "metadata": {},
   "outputs": [
    {
     "name": "stdout",
     "output_type": "stream",
     "text": [
      "0 32100\n",
      "1 32150\n",
      "2 32000\n",
      "3 32500\n"
     ]
    }
   ],
   "source": [
    "price_list = [32100, 32150, 32000, 32500]\n",
    "for i in range(len(price_list)) :\n",
    "    print(i, price_list[i])"
   ]
  },
  {
   "cell_type": "code",
   "execution_count": 91,
   "id": "0ee8e888-78be-402a-bcfe-83da5d158b51",
   "metadata": {},
   "outputs": [
    {
     "name": "stdout",
     "output_type": "stream",
     "text": [
      "3 32100\n",
      "2 32150\n",
      "1 32000\n",
      "0 32500\n"
     ]
    }
   ],
   "source": [
    "price_list = [32100, 32150, 32000, 32500]\n",
    "for i in range(len(price_list)) :\n",
    "    print(len(price_list)-(i+1), price_list[i])"
   ]
  },
  {
   "cell_type": "code",
   "execution_count": 102,
   "id": "39462ccf-6704-44f2-b59b-5006aeba0347",
   "metadata": {},
   "outputs": [
    {
     "name": "stdout",
     "output_type": "stream",
     "text": [
      "100 32150\n",
      "110 32000\n",
      "120 32500\n"
     ]
    }
   ],
   "source": [
    "price_list = [32100, 32150, 32000, 32500]\n",
    "r_price_list=price_list[1:]\n",
    "for i in range(len(r_price_list)) :\n",
    "    print(100+10*i, r_price_list[i])"
   ]
  },
  {
   "cell_type": "code",
   "execution_count": 96,
   "id": "c55561bf-77ba-44cf-b436-89d30e2b49fe",
   "metadata": {},
   "outputs": [
    {
     "data": {
      "text/plain": [
       "[32150, 32000, 32500]"
      ]
     },
     "execution_count": 96,
     "metadata": {},
     "output_type": "execute_result"
    }
   ],
   "source": [
    "r_price_list"
   ]
  },
  {
   "cell_type": "code",
   "execution_count": 103,
   "id": "feb34268-1f7a-4cf9-bfe0-202a63480bc4",
   "metadata": {},
   "outputs": [],
   "source": [
    "my_list = [\"가\", \"나\", \"다\", \"라\"]"
   ]
  },
  {
   "cell_type": "code",
   "execution_count": 107,
   "id": "bf9c2007-4e6e-4008-83a4-e5a345085cf4",
   "metadata": {},
   "outputs": [
    {
     "name": "stdout",
     "output_type": "stream",
     "text": [
      "가 나\n",
      "나 다\n",
      "다 라\n"
     ]
    }
   ],
   "source": [
    "for i in range(len(my_list)-1) :\n",
    "    print(my_list[i], my_list[i+1])"
   ]
  },
  {
   "cell_type": "code",
   "execution_count": 123,
   "id": "315639de-3a72-4eb5-a8c9-3a567a718121",
   "metadata": {},
   "outputs": [
    {
     "name": "stdout",
     "output_type": "stream",
     "text": [
      "가 나 다\n",
      "나 다 라\n",
      "다 라 마\n"
     ]
    }
   ],
   "source": [
    "my_list = [\"가\", \"나\", \"다\", \"라\", \"마\"]\n",
    "for i in range(len(my_list)-2) :\n",
    "    print(my_list[i], my_list[i+1], my_list[i+2])\n",
    "    # for j in range(len(my_list)-2) :\n",
    "    #     print(my_list[j], end=' ')"
   ]
  },
  {
   "cell_type": "code",
   "execution_count": null,
   "id": "c5a3721f-7b11-4b02-937f-fa5560daa3d0",
   "metadata": {},
   "outputs": [],
   "source": []
  },
  {
   "cell_type": "code",
   "execution_count": null,
   "id": "3e5ac018-183b-427a-a9d4-00f87f3549d2",
   "metadata": {},
   "outputs": [],
   "source": []
  },
  {
   "cell_type": "code",
   "execution_count": null,
   "id": "3f6a8093-5b04-4851-aeed-4b9633a3b253",
   "metadata": {},
   "outputs": [],
   "source": []
  },
  {
   "cell_type": "code",
   "execution_count": null,
   "id": "c25bc69a-4e9c-4cdc-901a-07ef22e24d98",
   "metadata": {},
   "outputs": [],
   "source": []
  },
  {
   "cell_type": "code",
   "execution_count": null,
   "id": "2876f2b7-ddd9-4cfb-89b5-ecf32a9afbd9",
   "metadata": {},
   "outputs": [],
   "source": []
  },
  {
   "cell_type": "code",
   "execution_count": null,
   "id": "0f08be47-626e-45bf-9a14-79b1514c77c7",
   "metadata": {},
   "outputs": [],
   "source": []
  },
  {
   "cell_type": "code",
   "execution_count": null,
   "id": "422163d0-976f-474a-bc2b-c439d4a3899f",
   "metadata": {},
   "outputs": [],
   "source": []
  },
  {
   "cell_type": "code",
   "execution_count": null,
   "id": "25842bb6-5950-41b3-b202-af0750fbff89",
   "metadata": {},
   "outputs": [],
   "source": []
  },
  {
   "cell_type": "code",
   "execution_count": null,
   "id": "01c917f5-c6a8-4bcb-b2df-a3dc3cffd3b3",
   "metadata": {},
   "outputs": [],
   "source": []
  },
  {
   "cell_type": "code",
   "execution_count": null,
   "id": "c0748650-abad-4697-925d-1c05b08095fc",
   "metadata": {},
   "outputs": [],
   "source": []
  },
  {
   "cell_type": "code",
   "execution_count": null,
   "id": "07e0d3ae-f138-4341-b4fc-fdd0c09e3886",
   "metadata": {},
   "outputs": [],
   "source": []
  },
  {
   "cell_type": "code",
   "execution_count": null,
   "id": "77e153a2-50f7-4d6a-ab29-0dd31439be7f",
   "metadata": {},
   "outputs": [],
   "source": []
  },
  {
   "cell_type": "code",
   "execution_count": null,
   "id": "c3b56d22-8184-4744-9d6f-f8a22bf6618a",
   "metadata": {},
   "outputs": [],
   "source": []
  },
  {
   "cell_type": "code",
   "execution_count": null,
   "id": "18c9b8cc-97d6-43ff-acd0-b1ed4b878e5b",
   "metadata": {},
   "outputs": [],
   "source": []
  },
  {
   "cell_type": "code",
   "execution_count": null,
   "id": "6c3521e1-b46e-4f27-98ef-0a45bfc99e7a",
   "metadata": {},
   "outputs": [],
   "source": []
  },
  {
   "cell_type": "code",
   "execution_count": null,
   "id": "20888e08-c207-41c1-9964-7f063c219398",
   "metadata": {},
   "outputs": [],
   "source": []
  },
  {
   "cell_type": "code",
   "execution_count": null,
   "id": "fe8a0617-bb51-4af5-9316-3eeed147c419",
   "metadata": {},
   "outputs": [],
   "source": []
  },
  {
   "cell_type": "code",
   "execution_count": null,
   "id": "4ad923a1-3dfd-461a-be9b-c05a6c2c943d",
   "metadata": {},
   "outputs": [],
   "source": []
  },
  {
   "cell_type": "code",
   "execution_count": null,
   "id": "b45c5c31-d9ca-45e8-8b71-2f32325189e2",
   "metadata": {},
   "outputs": [],
   "source": []
  },
  {
   "cell_type": "code",
   "execution_count": null,
   "id": "ce02c849-d690-433b-810b-26303a7590c3",
   "metadata": {},
   "outputs": [],
   "source": []
  },
  {
   "cell_type": "code",
   "execution_count": null,
   "id": "387674a5-733b-4e37-9734-95052d108ab6",
   "metadata": {},
   "outputs": [],
   "source": []
  },
  {
   "cell_type": "code",
   "execution_count": null,
   "id": "0167bcff-4a5b-42ba-81ad-375e3d9e5047",
   "metadata": {},
   "outputs": [],
   "source": []
  },
  {
   "cell_type": "code",
   "execution_count": null,
   "id": "285bb1ea-db3a-4efc-95b6-b3b2bb523f0d",
   "metadata": {},
   "outputs": [],
   "source": []
  },
  {
   "cell_type": "code",
   "execution_count": null,
   "id": "d8d759e6-947e-4796-b3a4-46c5681d0e74",
   "metadata": {},
   "outputs": [],
   "source": []
  },
  {
   "cell_type": "code",
   "execution_count": null,
   "id": "8b51da8e-9571-4eb9-84fe-bfc179e09cad",
   "metadata": {},
   "outputs": [],
   "source": []
  },
  {
   "cell_type": "code",
   "execution_count": null,
   "id": "9cab97f2-d133-4434-8a28-21ee2c160c0a",
   "metadata": {},
   "outputs": [],
   "source": []
  },
  {
   "cell_type": "code",
   "execution_count": null,
   "id": "f4702911-1e57-4826-85d7-b88577529249",
   "metadata": {},
   "outputs": [],
   "source": []
  },
  {
   "cell_type": "code",
   "execution_count": null,
   "id": "e439968f-b18c-4a40-b032-424589ce4ce0",
   "metadata": {},
   "outputs": [],
   "source": []
  },
  {
   "cell_type": "code",
   "execution_count": null,
   "id": "f3c3a03d-8c7b-4cc3-ae78-86a4d32b07d4",
   "metadata": {},
   "outputs": [],
   "source": []
  },
  {
   "cell_type": "code",
   "execution_count": null,
   "id": "2a036ea4-0911-4e0b-af58-0de335c7abab",
   "metadata": {},
   "outputs": [],
   "source": []
  },
  {
   "cell_type": "code",
   "execution_count": null,
   "id": "d49024ce-15c5-4cf6-ae81-444d12fbe645",
   "metadata": {},
   "outputs": [],
   "source": []
  }
 ],
 "metadata": {
  "kernelspec": {
   "display_name": "Python 3 (ipykernel)",
   "language": "python",
   "name": "python3"
  },
  "language_info": {
   "codemirror_mode": {
    "name": "ipython",
    "version": 3
   },
   "file_extension": ".py",
   "mimetype": "text/x-python",
   "name": "python",
   "nbconvert_exporter": "python",
   "pygments_lexer": "ipython3",
   "version": "3.9.12"
  }
 },
 "nbformat": 4,
 "nbformat_minor": 5
}
