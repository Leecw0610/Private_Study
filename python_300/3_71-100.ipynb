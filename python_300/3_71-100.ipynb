{
 "cells": [
  {
   "cell_type": "markdown",
   "id": "f7ef63c2-0ae4-4106-9e76-568c62387bfc",
   "metadata": {},
   "source": [
    "# Q.71-100\n",
    "\n",
    "# 파이썬 튜플 / 파이썬 딕셔너리"
   ]
  },
  {
   "cell_type": "code",
   "execution_count": null,
   "id": "268272c3-045d-4b08-b3a5-ca7454579232",
   "metadata": {},
   "outputs": [],
   "source": []
  },
  {
   "cell_type": "code",
   "execution_count": 1,
   "id": "b258ca83-5223-481c-a75d-14bb43e45fc2",
   "metadata": {},
   "outputs": [],
   "source": [
    "my_variable= ()"
   ]
  },
  {
   "cell_type": "code",
   "execution_count": 2,
   "id": "c031ce5f-e83b-418a-9f0e-5dfc8a8ead07",
   "metadata": {},
   "outputs": [],
   "source": [
    "movie_rank=('닥터 스트레인지','스플릿','럭키')"
   ]
  },
  {
   "cell_type": "code",
   "execution_count": 3,
   "id": "384435d3-adfc-43da-a2e4-ed0a174954c2",
   "metadata": {},
   "outputs": [
    {
     "data": {
      "text/plain": [
       "('닥터 스트레인지', '스플릿', '럭키')"
      ]
     },
     "execution_count": 3,
     "metadata": {},
     "output_type": "execute_result"
    }
   ],
   "source": [
    "movie_rank"
   ]
  },
  {
   "cell_type": "code",
   "execution_count": 6,
   "id": "72a2db79-6c00-4fc4-9f52-507230edf64c",
   "metadata": {},
   "outputs": [],
   "source": [
    "t = (1,)"
   ]
  },
  {
   "cell_type": "code",
   "execution_count": 7,
   "id": "ae25b259-8bcb-422d-89a1-afda8581cb30",
   "metadata": {},
   "outputs": [
    {
     "data": {
      "text/plain": [
       "(1,)"
      ]
     },
     "execution_count": 7,
     "metadata": {},
     "output_type": "execute_result"
    }
   ],
   "source": [
    "t"
   ]
  },
  {
   "cell_type": "code",
   "execution_count": 8,
   "id": "2f1642de-846f-4938-8559-3ee053340b6c",
   "metadata": {},
   "outputs": [
    {
     "data": {
      "text/plain": [
       "tuple"
      ]
     },
     "execution_count": 8,
     "metadata": {},
     "output_type": "execute_result"
    }
   ],
   "source": [
    "type(t)"
   ]
  },
  {
   "cell_type": "code",
   "execution_count": 9,
   "id": "f483aef0-3844-4a1d-b628-788a47d96afb",
   "metadata": {},
   "outputs": [],
   "source": [
    "t = 1, 2, 3, 4"
   ]
  },
  {
   "cell_type": "code",
   "execution_count": 10,
   "id": "9cd89b34-b90d-4ffe-8b19-32d813d1e9ac",
   "metadata": {},
   "outputs": [
    {
     "data": {
      "text/plain": [
       "(1, 2, 3, 4)"
      ]
     },
     "execution_count": 10,
     "metadata": {},
     "output_type": "execute_result"
    }
   ],
   "source": [
    "t"
   ]
  },
  {
   "cell_type": "code",
   "execution_count": 11,
   "id": "db946cc4-9581-4dcb-b2a8-7ec1fdee4ac2",
   "metadata": {},
   "outputs": [
    {
     "data": {
      "text/plain": [
       "tuple"
      ]
     },
     "execution_count": 11,
     "metadata": {},
     "output_type": "execute_result"
    }
   ],
   "source": [
    "type(t)"
   ]
  },
  {
   "cell_type": "code",
   "execution_count": 12,
   "id": "dfa86aad-3dd0-4e85-9f39-dabef94c7fe0",
   "metadata": {},
   "outputs": [],
   "source": [
    "t = ('a', 'b', 'c')"
   ]
  },
  {
   "cell_type": "code",
   "execution_count": 13,
   "id": "715c27ad-2c0c-41d7-888b-a4ff45047c60",
   "metadata": {},
   "outputs": [],
   "source": [
    "t = ('A', 'b', 'c')"
   ]
  },
  {
   "cell_type": "code",
   "execution_count": 14,
   "id": "636c765d-e180-4e2b-bda5-e2c40595cb6f",
   "metadata": {},
   "outputs": [],
   "source": [
    "interest = ['삼성전자', 'LG전자', 'SK Hynix']"
   ]
  },
  {
   "cell_type": "code",
   "execution_count": 18,
   "id": "d72fae58-1082-42d8-ab62-e5c82028ffe7",
   "metadata": {},
   "outputs": [
    {
     "data": {
      "text/plain": [
       "('삼성전자', 'LG전자', 'SK Hynix')"
      ]
     },
     "execution_count": 18,
     "metadata": {},
     "output_type": "execute_result"
    }
   ],
   "source": [
    "tuple(interest)"
   ]
  },
  {
   "cell_type": "code",
   "execution_count": 19,
   "id": "2abd3546-6dba-480a-be85-adbaf5fc22b4",
   "metadata": {},
   "outputs": [],
   "source": [
    "temp = ('apple', 'banana', 'cake')\n",
    "a, b, c = temp"
   ]
  },
  {
   "cell_type": "code",
   "execution_count": 20,
   "id": "2da5bac3-a342-47c4-b619-7643aaff605c",
   "metadata": {},
   "outputs": [
    {
     "name": "stdout",
     "output_type": "stream",
     "text": [
      "apple banana cake\n"
     ]
    }
   ],
   "source": [
    "print(a,b,c)"
   ]
  },
  {
   "cell_type": "code",
   "execution_count": 26,
   "id": "1b15dcad-bef4-462f-9eb7-1ba0242ec97d",
   "metadata": {},
   "outputs": [
    {
     "name": "stdout",
     "output_type": "stream",
     "text": [
      "(2, 4, 6, 8, 10, 12, 14, 16, 18, 20, 22, 24, 26, 28, 30, 32, 34, 36, 38, 40, 42, 44, 46, 48, 50, 52, 54, 56, 58, 60, 62, 64, 66, 68, 70, 72, 74, 76, 78, 80, 82, 84, 86, 88, 90, 92, 94, 96, 98)"
     ]
    }
   ],
   "source": [
    "print(tuple(range(2,100,2)),end='' )"
   ]
  },
  {
   "cell_type": "code",
   "execution_count": 27,
   "id": "9e188a82-ead9-45dd-8eff-8d1261f77369",
   "metadata": {},
   "outputs": [],
   "source": [
    "scores = [8.8, 8.9, 8.7, 9.2, 9.3, 9.7, 9.9, 9.5, 7.8, 9.4]"
   ]
  },
  {
   "cell_type": "code",
   "execution_count": 28,
   "id": "821e5d15-fee1-4f9d-b10f-d4e284b12163",
   "metadata": {},
   "outputs": [
    {
     "name": "stdout",
     "output_type": "stream",
     "text": [
      "[8.8, 8.9, 8.7, 9.2, 9.3, 9.7, 9.9, 9.5]\n"
     ]
    }
   ],
   "source": [
    "*valid_score, _, _=scores\n",
    "print(valid_score)"
   ]
  },
  {
   "cell_type": "code",
   "execution_count": 29,
   "id": "0d52da6a-13fd-47ac-bd1c-68fdbc7371ca",
   "metadata": {},
   "outputs": [
    {
     "name": "stdout",
     "output_type": "stream",
     "text": [
      "[8.7, 9.2, 9.3, 9.7, 9.9, 9.5, 7.8, 9.4]\n"
     ]
    }
   ],
   "source": [
    " _, _, *valid_score=scores\n",
    "print(valid_score)"
   ]
  },
  {
   "cell_type": "code",
   "execution_count": 30,
   "id": "04ce7721-33aa-4e5e-98ea-fd35760a5755",
   "metadata": {},
   "outputs": [
    {
     "name": "stdout",
     "output_type": "stream",
     "text": [
      "[8.9, 8.7, 9.2, 9.3, 9.7, 9.9, 9.5, 7.8]\n"
     ]
    }
   ],
   "source": [
    " _, *valid_score, _ =scores\n",
    "print(valid_score)"
   ]
  },
  {
   "cell_type": "code",
   "execution_count": 31,
   "id": "dbce567f-38a4-4bd8-9fcd-5e392013479a",
   "metadata": {},
   "outputs": [],
   "source": [
    "temp={}"
   ]
  },
  {
   "cell_type": "raw",
   "id": "37529801-fe99-44dd-986c-a281d217d87a",
   "metadata": {},
   "source": [
    "이름\t희망 가격\n",
    "메로나\t1000\n",
    "폴라포\t1200\n",
    "빵빠레\t1800\n"
   ]
  },
  {
   "cell_type": "code",
   "execution_count": 32,
   "id": "a2d76758-5573-4490-be24-e5489a6bb618",
   "metadata": {},
   "outputs": [],
   "source": [
    "icecream = {\"메로나\": 1000, \"폴라포\": 1200, \"빵빠레\": 1800}"
   ]
  },
  {
   "cell_type": "code",
   "execution_count": 33,
   "id": "8293afcd-a311-431f-9736-06c6f35c4c33",
   "metadata": {},
   "outputs": [],
   "source": [
    "add = {\"죠스바\" : 1200, \"월드콘\" : 1500}"
   ]
  },
  {
   "cell_type": "code",
   "execution_count": 37,
   "id": "ac7f3781-ee33-4012-ad0d-ca24ebd3483d",
   "metadata": {},
   "outputs": [],
   "source": [
    "icecream['죠스바']=1200"
   ]
  },
  {
   "cell_type": "code",
   "execution_count": 38,
   "id": "2cf00783-1849-4476-b38b-9a97644dc8d7",
   "metadata": {},
   "outputs": [],
   "source": [
    "icecream['월드콘']=1500"
   ]
  },
  {
   "cell_type": "code",
   "execution_count": 39,
   "id": "5d7f3c4e-03d9-40b7-a12f-340e62b86fcb",
   "metadata": {},
   "outputs": [
    {
     "data": {
      "text/plain": [
       "{'메로나': 1000, '폴라포': 1200, '빵빠레': 1800, '죠스바': 1200, '월드콘': 1500}"
      ]
     },
     "execution_count": 39,
     "metadata": {},
     "output_type": "execute_result"
    }
   ],
   "source": [
    "icecream"
   ]
  },
  {
   "cell_type": "code",
   "execution_count": 40,
   "id": "e3563c59-83c7-4822-89a3-1c8bd5a526df",
   "metadata": {},
   "outputs": [],
   "source": [
    "ice = {'메로나': 1000,\n",
    "       '폴로포': 1200,\n",
    "       '빵빠레': 1800,\n",
    "       '죠스바': 1200,\n",
    "       '월드콘': 1500}"
   ]
  },
  {
   "cell_type": "code",
   "execution_count": 41,
   "id": "d724afb8-07be-40e8-8ab0-e69f39b77542",
   "metadata": {},
   "outputs": [
    {
     "data": {
      "text/plain": [
       "1000"
      ]
     },
     "execution_count": 41,
     "metadata": {},
     "output_type": "execute_result"
    }
   ],
   "source": [
    "ice['메로나']"
   ]
  },
  {
   "cell_type": "code",
   "execution_count": 42,
   "id": "594a51bf-93d4-4cfa-9163-886d88689907",
   "metadata": {},
   "outputs": [
    {
     "name": "stdout",
     "output_type": "stream",
     "text": [
      "메로나 가격: 1000\n"
     ]
    }
   ],
   "source": [
    "print('메로나 가격:', ice['메로나'])"
   ]
  },
  {
   "cell_type": "code",
   "execution_count": 43,
   "id": "374b82d4-871f-47a6-baba-bd650e15035e",
   "metadata": {},
   "outputs": [],
   "source": [
    "ice['메로나']=1300"
   ]
  },
  {
   "cell_type": "code",
   "execution_count": 44,
   "id": "b21dbf93-1721-461e-972b-fa3d4aed5bbb",
   "metadata": {},
   "outputs": [
    {
     "data": {
      "text/plain": [
       "{'메로나': 1300, '폴로포': 1200, '빵빠레': 1800, '죠스바': 1200, '월드콘': 1500}"
      ]
     },
     "execution_count": 44,
     "metadata": {},
     "output_type": "execute_result"
    }
   ],
   "source": [
    "ice"
   ]
  },
  {
   "cell_type": "code",
   "execution_count": 45,
   "id": "dd576386-d4d1-4053-9b69-fd8fcab90282",
   "metadata": {},
   "outputs": [],
   "source": [
    "del ice['메로나']"
   ]
  },
  {
   "cell_type": "code",
   "execution_count": 46,
   "id": "87d85bc5-6830-4507-b199-27a0818b15b1",
   "metadata": {},
   "outputs": [
    {
     "data": {
      "text/plain": [
       "{'폴로포': 1200, '빵빠레': 1800, '죠스바': 1200, '월드콘': 1500}"
      ]
     },
     "execution_count": 46,
     "metadata": {},
     "output_type": "execute_result"
    }
   ],
   "source": [
    "ice"
   ]
  },
  {
   "cell_type": "raw",
   "id": "ba9258c0-e2c8-4bd9-96c5-a82c3d21111d",
   "metadata": {},
   "source": [
    "메로나\t300\t20\n",
    "비비빅\t400\t3\n",
    "죠스바\t250\t100"
   ]
  },
  {
   "cell_type": "code",
   "execution_count": 47,
   "id": "4f41938c-50a2-46f2-89f0-d653758fb07a",
   "metadata": {},
   "outputs": [],
   "source": [
    "inventory = {\"메로나\": [300, 20], \n",
    "             \"비비빅\": [400, 3], \n",
    "             \"죠스바\": [250, 100]}"
   ]
  },
  {
   "cell_type": "code",
   "execution_count": 48,
   "id": "c894c915-69ee-4a14-b33e-b202c339ac3b",
   "metadata": {},
   "outputs": [
    {
     "data": {
      "text/plain": [
       "300"
      ]
     },
     "execution_count": 48,
     "metadata": {},
     "output_type": "execute_result"
    }
   ],
   "source": [
    "inventory['메로나'][0]"
   ]
  },
  {
   "cell_type": "code",
   "execution_count": 49,
   "id": "fec8f1a3-8013-4bd7-9311-a0d5d98714db",
   "metadata": {},
   "outputs": [
    {
     "data": {
      "text/plain": [
       "20"
      ]
     },
     "execution_count": 49,
     "metadata": {},
     "output_type": "execute_result"
    }
   ],
   "source": [
    "inventory['메로나'][1]"
   ]
  },
  {
   "cell_type": "code",
   "execution_count": 52,
   "id": "94a105e2-6686-47af-b3a6-b443f2fb23f9",
   "metadata": {},
   "outputs": [],
   "source": [
    "inventory['월드콘']=[500,70]"
   ]
  },
  {
   "cell_type": "code",
   "execution_count": 53,
   "id": "62006adf-275a-441d-adda-436f4d06d3f4",
   "metadata": {},
   "outputs": [
    {
     "data": {
      "text/plain": [
       "{'메로나': [300, 20], '비비빅': [400, 3], '죠스바': [250, 100], '월드콘': [500, 70]}"
      ]
     },
     "execution_count": 53,
     "metadata": {},
     "output_type": "execute_result"
    }
   ],
   "source": [
    "inventory"
   ]
  },
  {
   "cell_type": "code",
   "execution_count": 54,
   "id": "3ad40d90-3ab5-41ad-9f51-378c72b3a0fe",
   "metadata": {},
   "outputs": [],
   "source": [
    "icecream = {'탱크보이': 1200, '폴라포': 1200, '빵빠레': 1800, '월드콘': 1500, '메로나': 1000}"
   ]
  },
  {
   "cell_type": "code",
   "execution_count": 55,
   "id": "e1475ea3-8aa6-443d-b683-af65c46ce9b5",
   "metadata": {},
   "outputs": [
    {
     "data": {
      "text/plain": [
       "dict_keys(['탱크보이', '폴라포', '빵빠레', '월드콘', '메로나'])"
      ]
     },
     "execution_count": 55,
     "metadata": {},
     "output_type": "execute_result"
    }
   ],
   "source": [
    "icecream.keys()"
   ]
  },
  {
   "cell_type": "code",
   "execution_count": 56,
   "id": "f87bea15-b1ba-4cd2-9297-d50c043e85b2",
   "metadata": {},
   "outputs": [
    {
     "data": {
      "text/plain": [
       "dict_values([1200, 1200, 1800, 1500, 1000])"
      ]
     },
     "execution_count": 56,
     "metadata": {},
     "output_type": "execute_result"
    }
   ],
   "source": [
    "icecream.values()"
   ]
  },
  {
   "cell_type": "code",
   "execution_count": 59,
   "id": "255a8bc0-3438-47ae-b932-69e4b0c5c994",
   "metadata": {},
   "outputs": [
    {
     "data": {
      "text/plain": [
       "6700"
      ]
     },
     "execution_count": 59,
     "metadata": {},
     "output_type": "execute_result"
    }
   ],
   "source": [
    "sum(icecream.values())"
   ]
  },
  {
   "cell_type": "code",
   "execution_count": 60,
   "id": "ab8ca0c4-d0ca-408a-823c-e8a1c495d3e4",
   "metadata": {},
   "outputs": [],
   "source": [
    "icecream = {'탱크보이': 1200, '폴라포': 1200, '빵빠레': 1800, '월드콘': 1500, '메로나': 1000}\n",
    "new_product = {'팥빙수':2700, '아맛나':1000}"
   ]
  },
  {
   "cell_type": "code",
   "execution_count": 61,
   "id": "05a7dee6-e677-43b1-89ff-930250a7ef7b",
   "metadata": {},
   "outputs": [],
   "source": [
    "icecream.update(new_product)"
   ]
  },
  {
   "cell_type": "code",
   "execution_count": 62,
   "id": "6331447e-b907-41b0-ace6-facf4a018da5",
   "metadata": {},
   "outputs": [
    {
     "name": "stdout",
     "output_type": "stream",
     "text": [
      "{'탱크보이': 1200, '폴라포': 1200, '빵빠레': 1800, '월드콘': 1500, '메로나': 1000, '팥빙수': 2700, '아맛나': 1000}\n"
     ]
    }
   ],
   "source": [
    "print(icecream)"
   ]
  },
  {
   "cell_type": "code",
   "execution_count": 63,
   "id": "ce3532f4-d8f7-4b64-aaa4-92ad77c8aa28",
   "metadata": {},
   "outputs": [],
   "source": [
    "keys = (\"apple\", \"pear\", \"peach\")\n",
    "vals = (300, 250, 400)"
   ]
  },
  {
   "cell_type": "code",
   "execution_count": 65,
   "id": "e8ea986a-c6fa-4c7b-abf0-84a2438a3437",
   "metadata": {},
   "outputs": [],
   "source": [
    "result=dict(zip(keys,vals))"
   ]
  },
  {
   "cell_type": "code",
   "execution_count": 66,
   "id": "723dabd5-3c66-4ce2-8363-8f0b3c481264",
   "metadata": {},
   "outputs": [
    {
     "data": {
      "text/plain": [
       "{'apple': 300, 'pear': 250, 'peach': 400}"
      ]
     },
     "execution_count": 66,
     "metadata": {},
     "output_type": "execute_result"
    }
   ],
   "source": [
    "result"
   ]
  },
  {
   "cell_type": "code",
   "execution_count": 67,
   "id": "758a6880-072d-465a-902c-58accd4fa217",
   "metadata": {},
   "outputs": [],
   "source": [
    "date = ['09/05', '09/06', '09/07', '09/08', '09/09']\n",
    "close_price = [10500, 10300, 10100, 10800, 11000]"
   ]
  },
  {
   "cell_type": "code",
   "execution_count": 68,
   "id": "e1e9a72d-83d8-4a5d-8e77-1b2c84466544",
   "metadata": {},
   "outputs": [],
   "source": [
    "close_table=dict(zip(date,close_price))"
   ]
  },
  {
   "cell_type": "code",
   "execution_count": 69,
   "id": "d95eab45-1921-4aec-804a-0f1e4334c6a2",
   "metadata": {},
   "outputs": [
    {
     "data": {
      "text/plain": [
       "{'09/05': 10500,\n",
       " '09/06': 10300,\n",
       " '09/07': 10100,\n",
       " '09/08': 10800,\n",
       " '09/09': 11000}"
      ]
     },
     "execution_count": 69,
     "metadata": {},
     "output_type": "execute_result"
    }
   ],
   "source": [
    "close_table"
   ]
  },
  {
   "cell_type": "code",
   "execution_count": null,
   "id": "07eb981e-d1bb-416c-94bb-afe0b998c721",
   "metadata": {},
   "outputs": [],
   "source": []
  }
 ],
 "metadata": {
  "kernelspec": {
   "display_name": "Python 3 (ipykernel)",
   "language": "python",
   "name": "python3"
  },
  "language_info": {
   "codemirror_mode": {
    "name": "ipython",
    "version": 3
   },
   "file_extension": ".py",
   "mimetype": "text/x-python",
   "name": "python",
   "nbconvert_exporter": "python",
   "pygments_lexer": "ipython3",
   "version": "3.9.12"
  }
 },
 "nbformat": 4,
 "nbformat_minor": 5
}
