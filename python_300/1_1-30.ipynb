{
 "cells": [
  {
   "cell_type": "markdown",
   "id": "fda66bb5-0d5f-4ec6-a235-5dc81c100369",
   "metadata": {},
   "source": [
    "# Q.1-30\n",
    "\n",
    "# 파이썬 시작하기 / 파이썬 변수 / 파이썬 문자열"
   ]
  },
  {
   "cell_type": "code",
   "execution_count": 1,
   "id": "b2c1a74f-8705-41ab-9c7b-e16f228569b2",
   "metadata": {},
   "outputs": [
    {
     "name": "stdout",
     "output_type": "stream",
     "text": [
      "Hello World\n"
     ]
    }
   ],
   "source": [
    "print('Hello World')"
   ]
  },
  {
   "cell_type": "code",
   "execution_count": 3,
   "id": "3090d29a-97c5-4415-889f-7a66d14abbdf",
   "metadata": {},
   "outputs": [
    {
     "name": "stdout",
     "output_type": "stream",
     "text": [
      "Mary's cosmetics\n"
     ]
    }
   ],
   "source": [
    "print(\"Mary's cosmetics\")"
   ]
  },
  {
   "cell_type": "code",
   "execution_count": 4,
   "id": "9b0a680a-c591-4d7b-bcb1-da0360ec51e7",
   "metadata": {},
   "outputs": [
    {
     "name": "stdout",
     "output_type": "stream",
     "text": [
      "신씨가 소리질렀다. \"도둑이야\".\n"
     ]
    }
   ],
   "source": [
    "print('신씨가 소리질렀다. \"도둑이야\".')"
   ]
  },
  {
   "cell_type": "code",
   "execution_count": 5,
   "id": "96a56153-831e-4c17-b9f1-2f05c600ec71",
   "metadata": {},
   "outputs": [
    {
     "name": "stdout",
     "output_type": "stream",
     "text": [
      "C:\\Windows\n"
     ]
    }
   ],
   "source": [
    "print(\"C:\\Windows\")"
   ]
  },
  {
   "cell_type": "code",
   "execution_count": 6,
   "id": "fd898453-e6cb-4c76-bd66-8e5cbf33d520",
   "metadata": {},
   "outputs": [
    {
     "name": "stdout",
     "output_type": "stream",
     "text": [
      "안녕하세요.\n",
      "만나서\t\t반갑습니다.\n"
     ]
    }
   ],
   "source": [
    "print(\"안녕하세요.\\n만나서\\t\\t반갑습니다.\")"
   ]
  },
  {
   "cell_type": "code",
   "execution_count": 7,
   "id": "91b8d8e4-e4d2-4f50-869b-ad4dc3772151",
   "metadata": {},
   "outputs": [
    {
     "name": "stdout",
     "output_type": "stream",
     "text": [
      "오늘은 일요일\n"
     ]
    }
   ],
   "source": [
    "print (\"오늘은\", \"일요일\")"
   ]
  },
  {
   "cell_type": "code",
   "execution_count": 9,
   "id": "d45f8fee-9f4c-4ed8-aad9-3acc7dfe26de",
   "metadata": {},
   "outputs": [
    {
     "name": "stdout",
     "output_type": "stream",
     "text": [
      "naver;kakao;sk;samsung\n"
     ]
    }
   ],
   "source": [
    "print('naver;kakao;sk;samsung')"
   ]
  },
  {
   "cell_type": "code",
   "execution_count": 10,
   "id": "263363c4-905e-4510-af17-592858d2efee",
   "metadata": {},
   "outputs": [
    {
     "name": "stdout",
     "output_type": "stream",
     "text": [
      "naver;kakao;sk;samsung\n"
     ]
    }
   ],
   "source": [
    "print(\"naver\", \"kakao\", \"sk\", \"samsung\", sep=\";\")"
   ]
  },
  {
   "cell_type": "code",
   "execution_count": 11,
   "id": "3c4f7c85-ef39-4d89-a86c-d80eb5aa4ce9",
   "metadata": {},
   "outputs": [
    {
     "name": "stdout",
     "output_type": "stream",
     "text": [
      "naver/kakao/sk/samsung\n"
     ]
    }
   ],
   "source": [
    "print('naver','kakao','sk','samsung', sep= \"/\")"
   ]
  },
  {
   "cell_type": "code",
   "execution_count": 14,
   "id": "a96ed0ea-c34e-49d0-8ce2-03e9ac31286a",
   "metadata": {},
   "outputs": [
    {
     "name": "stdout",
     "output_type": "stream",
     "text": [
      "firstsecond\n"
     ]
    }
   ],
   "source": [
    "print(\"first\", end='');print(\"second\")"
   ]
  },
  {
   "cell_type": "code",
   "execution_count": 15,
   "id": "3829e9b4-3b65-4c5d-b2b7-aa1db082a20c",
   "metadata": {},
   "outputs": [
    {
     "name": "stdout",
     "output_type": "stream",
     "text": [
      "1.6666666666666667\n"
     ]
    }
   ],
   "source": [
    "print(5/3)"
   ]
  },
  {
   "cell_type": "code",
   "execution_count": null,
   "id": "4360bf94-dc0a-4046-b530-ee639f285970",
   "metadata": {},
   "outputs": [],
   "source": []
  },
  {
   "cell_type": "code",
   "execution_count": 19,
   "id": "6bdf9098-6a54-4652-a5f4-d517f43dedd7",
   "metadata": {},
   "outputs": [],
   "source": [
    "삼성전자 = '50000'"
   ]
  },
  {
   "cell_type": "code",
   "execution_count": 21,
   "id": "e52bda0a-0f49-44aa-a153-9fa80225be22",
   "metadata": {},
   "outputs": [
    {
     "data": {
      "text/plain": [
       "500000"
      ]
     },
     "execution_count": 21,
     "metadata": {},
     "output_type": "execute_result"
    }
   ],
   "source": [
    "int(삼성전자) * 10"
   ]
  },
  {
   "cell_type": "code",
   "execution_count": 22,
   "id": "282eccbd-1dbe-4dc8-8c8e-10300c8159e0",
   "metadata": {},
   "outputs": [],
   "source": [
    "s = \"hello\"\n",
    "t = \"python\""
   ]
  },
  {
   "cell_type": "code",
   "execution_count": 26,
   "id": "e58ee1c7-ba9c-41e0-a966-99be0e4fc3e4",
   "metadata": {},
   "outputs": [
    {
     "name": "stdout",
     "output_type": "stream",
     "text": [
      "hello! python\n"
     ]
    }
   ],
   "source": [
    "print(s +'!', t)"
   ]
  },
  {
   "cell_type": "code",
   "execution_count": 27,
   "id": "0c317bc3-5b1c-464f-96d4-1eea53750af8",
   "metadata": {},
   "outputs": [
    {
     "data": {
      "text/plain": [
       "8"
      ]
     },
     "execution_count": 27,
     "metadata": {},
     "output_type": "execute_result"
    }
   ],
   "source": [
    "2 + 2 * 3 "
   ]
  },
  {
   "cell_type": "code",
   "execution_count": 28,
   "id": "bf077fad-440b-49f3-bbcb-d6eb66e0c5ce",
   "metadata": {},
   "outputs": [],
   "source": [
    " a = \"132\""
   ]
  },
  {
   "cell_type": "code",
   "execution_count": 29,
   "id": "7ab6d9ea-72e0-41b9-bb9c-a9da071d27f4",
   "metadata": {},
   "outputs": [
    {
     "data": {
      "text/plain": [
       "str"
      ]
     },
     "execution_count": 29,
     "metadata": {},
     "output_type": "execute_result"
    }
   ],
   "source": [
    "type(a)"
   ]
  },
  {
   "cell_type": "code",
   "execution_count": 30,
   "id": "3e0dd9b5-d416-4c24-98e7-71ed0a983765",
   "metadata": {},
   "outputs": [],
   "source": [
    "num_str = \"720\""
   ]
  },
  {
   "cell_type": "code",
   "execution_count": 31,
   "id": "0ed2bdb7-3b49-4fec-8e42-793fd9f42ca1",
   "metadata": {},
   "outputs": [
    {
     "data": {
      "text/plain": [
       "720"
      ]
     },
     "execution_count": 31,
     "metadata": {},
     "output_type": "execute_result"
    }
   ],
   "source": [
    "int(num_str)"
   ]
  },
  {
   "cell_type": "code",
   "execution_count": 32,
   "id": "a2211645-3342-4eea-b421-1a05545eb607",
   "metadata": {},
   "outputs": [],
   "source": [
    "num = 100"
   ]
  },
  {
   "cell_type": "code",
   "execution_count": 33,
   "id": "b1948206-c96c-43f5-8ea3-f42fc8f6a302",
   "metadata": {},
   "outputs": [
    {
     "data": {
      "text/plain": [
       "'100'"
      ]
     },
     "execution_count": 33,
     "metadata": {},
     "output_type": "execute_result"
    }
   ],
   "source": [
    "str(num)"
   ]
  },
  {
   "cell_type": "code",
   "execution_count": 35,
   "id": "1767e71d-ed2e-44e9-ac65-f0d5f6b539a7",
   "metadata": {},
   "outputs": [
    {
     "data": {
      "text/plain": [
       "15.79"
      ]
     },
     "execution_count": 35,
     "metadata": {},
     "output_type": "execute_result"
    }
   ],
   "source": [
    "float(\"15.79\")"
   ]
  },
  {
   "cell_type": "code",
   "execution_count": 36,
   "id": "4e996d72-5c80-407e-ba72-1d81eac56063",
   "metadata": {},
   "outputs": [],
   "source": [
    "year = \"2020\""
   ]
  },
  {
   "cell_type": "code",
   "execution_count": 73,
   "id": "b444b244-0de6-482e-8b04-9ce02d507ebd",
   "metadata": {},
   "outputs": [
    {
     "name": "stdout",
     "output_type": "stream",
     "text": [
      "2017~2020\n"
     ]
    }
   ],
   "source": [
    "print(str(int(year)-3) + '~' + str(year))"
   ]
  },
  {
   "cell_type": "code",
   "execution_count": 74,
   "id": "df3daae3-4c3d-4746-a4af-d6553a94765c",
   "metadata": {},
   "outputs": [
    {
     "name": "stdout",
     "output_type": "stream",
     "text": [
      "2017\n"
     ]
    }
   ],
   "source": [
    "print((int(year)-3))"
   ]
  },
  {
   "cell_type": "code",
   "execution_count": 75,
   "id": "c1ddd663-96ff-4743-913f-3e7a25d983f4",
   "metadata": {},
   "outputs": [
    {
     "data": {
      "text/plain": [
       "2020"
      ]
     },
     "execution_count": 75,
     "metadata": {},
     "output_type": "execute_result"
    }
   ],
   "source": [
    "int(year)"
   ]
  },
  {
   "cell_type": "code",
   "execution_count": 43,
   "id": "2106801c-4fb5-465e-bcbf-052991e71acf",
   "metadata": {},
   "outputs": [],
   "source": [
    "에어컨='월 48,584원'"
   ]
  },
  {
   "cell_type": "code",
   "execution_count": 70,
   "id": "7a796a5e-f9f7-43b8-be9a-5d47abd35d10",
   "metadata": {},
   "outputs": [
    {
     "data": {
      "text/plain": [
       "1749024"
      ]
     },
     "execution_count": 70,
     "metadata": {},
     "output_type": "execute_result"
    }
   ],
   "source": [
    "int(에어컨[2:-1].replace(\",\",\"\")) * 36"
   ]
  },
  {
   "cell_type": "code",
   "execution_count": 76,
   "id": "99953815-5441-4dce-8765-1c7ceb050e18",
   "metadata": {},
   "outputs": [],
   "source": [
    "letters = 'python'"
   ]
  },
  {
   "cell_type": "code",
   "execution_count": 78,
   "id": "1cfabdca-dc88-42ea-bc97-2a73ee6b969c",
   "metadata": {},
   "outputs": [
    {
     "data": {
      "text/plain": [
       "('p', 't')"
      ]
     },
     "execution_count": 78,
     "metadata": {},
     "output_type": "execute_result"
    }
   ],
   "source": [
    "letters[0], letters[2]"
   ]
  },
  {
   "cell_type": "code",
   "execution_count": 79,
   "id": "14c5521e-713d-420b-92a0-a7cbd67023dc",
   "metadata": {},
   "outputs": [],
   "source": [
    "license_plate = \"24가 2210\""
   ]
  },
  {
   "cell_type": "code",
   "execution_count": 80,
   "id": "72c0d018-3615-4b6b-af3b-66eddd18d08f",
   "metadata": {},
   "outputs": [
    {
     "data": {
      "text/plain": [
       "'2210'"
      ]
     },
     "execution_count": 80,
     "metadata": {},
     "output_type": "execute_result"
    }
   ],
   "source": [
    "license_plate[-4:]"
   ]
  },
  {
   "cell_type": "code",
   "execution_count": 81,
   "id": "84710f21-1aeb-4be5-85aa-261ec9a9b3d3",
   "metadata": {},
   "outputs": [],
   "source": [
    "string = \"홀짝홀짝홀짝\""
   ]
  },
  {
   "cell_type": "code",
   "execution_count": 82,
   "id": "f429068a-d9fa-4b96-8f4c-535c3a8f3642",
   "metadata": {},
   "outputs": [
    {
     "data": {
      "text/plain": [
       "'홀홀홀'"
      ]
     },
     "execution_count": 82,
     "metadata": {},
     "output_type": "execute_result"
    }
   ],
   "source": [
    "string[::2]"
   ]
  },
  {
   "cell_type": "code",
   "execution_count": 84,
   "id": "1b174cf6-c879-46d3-8024-157d81a7b305",
   "metadata": {},
   "outputs": [],
   "source": [
    "string = \"PYTHON\""
   ]
  },
  {
   "cell_type": "code",
   "execution_count": 85,
   "id": "e58869f5-a3a0-4518-9d80-53e4becfb685",
   "metadata": {},
   "outputs": [
    {
     "data": {
      "text/plain": [
       "'NOHTYP'"
      ]
     },
     "execution_count": 85,
     "metadata": {},
     "output_type": "execute_result"
    }
   ],
   "source": [
    "string[::-1]"
   ]
  },
  {
   "cell_type": "code",
   "execution_count": 86,
   "id": "29205356-2649-437d-9e84-51237e025210",
   "metadata": {},
   "outputs": [],
   "source": [
    "phone_number = \"010-1111-2222\""
   ]
  },
  {
   "cell_type": "code",
   "execution_count": 89,
   "id": "d7051b03-2b7b-4f62-b5bc-aca7f1112193",
   "metadata": {},
   "outputs": [
    {
     "data": {
      "text/plain": [
       "'010 1111 2222'"
      ]
     },
     "execution_count": 89,
     "metadata": {},
     "output_type": "execute_result"
    }
   ],
   "source": [
    "phone_number.replace('-',' ')"
   ]
  },
  {
   "cell_type": "code",
   "execution_count": 90,
   "id": "691d98b3-bf36-4ca4-8349-270c43b213c8",
   "metadata": {},
   "outputs": [
    {
     "data": {
      "text/plain": [
       "'01011112222'"
      ]
     },
     "execution_count": 90,
     "metadata": {},
     "output_type": "execute_result"
    }
   ],
   "source": [
    "phone_number.replace('-','')"
   ]
  },
  {
   "cell_type": "code",
   "execution_count": 91,
   "id": "536565f8-8d6d-4c53-869a-7335e6d65714",
   "metadata": {},
   "outputs": [],
   "source": [
    "url = \"http://sharebook.kr\""
   ]
  },
  {
   "cell_type": "code",
   "execution_count": 93,
   "id": "a5349d3a-c23a-4268-8d98-76d2900ed395",
   "metadata": {},
   "outputs": [
    {
     "data": {
      "text/plain": [
       "'kr'"
      ]
     },
     "execution_count": 93,
     "metadata": {},
     "output_type": "execute_result"
    }
   ],
   "source": [
    "url.split('.')[-1]"
   ]
  },
  {
   "cell_type": "code",
   "execution_count": 94,
   "id": "17040f29-8307-4b66-a09b-5d590f5b5762",
   "metadata": {},
   "outputs": [
    {
     "ename": "TypeError",
     "evalue": "'str' object does not support item assignment",
     "output_type": "error",
     "traceback": [
      "\u001b[1;31m---------------------------------------------------------------------------\u001b[0m",
      "\u001b[1;31mTypeError\u001b[0m                                 Traceback (most recent call last)",
      "Input \u001b[1;32mIn [94]\u001b[0m, in \u001b[0;36m<cell line: 2>\u001b[1;34m()\u001b[0m\n\u001b[0;32m      1\u001b[0m lang \u001b[38;5;241m=\u001b[39m \u001b[38;5;124m'\u001b[39m\u001b[38;5;124mpython\u001b[39m\u001b[38;5;124m'\u001b[39m\n\u001b[1;32m----> 2\u001b[0m lang[\u001b[38;5;241m0\u001b[39m] \u001b[38;5;241m=\u001b[39m \u001b[38;5;124m'\u001b[39m\u001b[38;5;124mP\u001b[39m\u001b[38;5;124m'\u001b[39m\n\u001b[0;32m      3\u001b[0m \u001b[38;5;28mprint\u001b[39m(lang)\n",
      "\u001b[1;31mTypeError\u001b[0m: 'str' object does not support item assignment"
     ]
    }
   ],
   "source": [
    "lang = 'python'\n",
    "lang[0] = 'P'\n",
    "print(lang)"
   ]
  },
  {
   "cell_type": "code",
   "execution_count": 95,
   "id": "1eddb499-2484-4012-8a31-2496e054c4df",
   "metadata": {},
   "outputs": [],
   "source": [
    "string = 'abcdfe2a354a32a'"
   ]
  },
  {
   "cell_type": "code",
   "execution_count": 96,
   "id": "34ba4e4b-273b-46d3-9a33-585f34a4b8dc",
   "metadata": {},
   "outputs": [
    {
     "data": {
      "text/plain": [
       "'Abcdfe2A354A32A'"
      ]
     },
     "execution_count": 96,
     "metadata": {},
     "output_type": "execute_result"
    }
   ],
   "source": [
    "string.replace('a','A')"
   ]
  },
  {
   "cell_type": "code",
   "execution_count": 97,
   "id": "b8a39c50-0fe9-4d0b-84c9-132081701b99",
   "metadata": {},
   "outputs": [
    {
     "name": "stdout",
     "output_type": "stream",
     "text": [
      "abcd\n"
     ]
    }
   ],
   "source": [
    "string = 'abcd'\n",
    "string.replace('b', 'B')\n",
    "print(string)"
   ]
  },
  {
   "cell_type": "code",
   "execution_count": null,
   "id": "828a52b1-d911-4a7b-b1a6-a098e9b4899b",
   "metadata": {},
   "outputs": [],
   "source": []
  },
  {
   "cell_type": "code",
   "execution_count": null,
   "id": "ac068fc3-1573-4148-be6e-e56d73590394",
   "metadata": {},
   "outputs": [],
   "source": []
  },
  {
   "cell_type": "code",
   "execution_count": null,
   "id": "2385d0b7-0168-4010-b022-673bd4b90854",
   "metadata": {},
   "outputs": [],
   "source": []
  },
  {
   "cell_type": "code",
   "execution_count": null,
   "id": "c46e24da-025b-4b90-903b-219e6f38368b",
   "metadata": {},
   "outputs": [],
   "source": []
  },
  {
   "cell_type": "code",
   "execution_count": null,
   "id": "84c0747c-4032-43de-ae90-6c3b908dcb00",
   "metadata": {},
   "outputs": [],
   "source": []
  },
  {
   "cell_type": "code",
   "execution_count": null,
   "id": "41d7ef74-2bde-4738-bdea-d273de706e6f",
   "metadata": {},
   "outputs": [],
   "source": []
  },
  {
   "cell_type": "code",
   "execution_count": null,
   "id": "71e173cb-8d01-41c3-be0e-952962f1196e",
   "metadata": {},
   "outputs": [],
   "source": []
  },
  {
   "cell_type": "code",
   "execution_count": null,
   "id": "63f22564-9861-469c-afd9-932bc6c0b37f",
   "metadata": {},
   "outputs": [],
   "source": []
  },
  {
   "cell_type": "code",
   "execution_count": null,
   "id": "7cf7c385-92bb-4bd0-a8b0-63080735ff77",
   "metadata": {},
   "outputs": [],
   "source": []
  },
  {
   "cell_type": "code",
   "execution_count": null,
   "id": "51a42f18-84fa-43a4-bfcf-63656bad286e",
   "metadata": {},
   "outputs": [],
   "source": []
  },
  {
   "cell_type": "code",
   "execution_count": null,
   "id": "1ca404da-6b7f-41ba-bf67-fd0fc9483a06",
   "metadata": {},
   "outputs": [],
   "source": []
  },
  {
   "cell_type": "code",
   "execution_count": null,
   "id": "247f67c4-22d0-4fe3-b4b7-77c2fe45f06d",
   "metadata": {},
   "outputs": [],
   "source": []
  },
  {
   "cell_type": "code",
   "execution_count": null,
   "id": "d970ba86-5ef5-49a0-8dc0-1fb3560e91dd",
   "metadata": {},
   "outputs": [],
   "source": []
  },
  {
   "cell_type": "code",
   "execution_count": null,
   "id": "f142dbac-bdc8-4957-84e8-d383934a5f03",
   "metadata": {},
   "outputs": [],
   "source": []
  },
  {
   "cell_type": "code",
   "execution_count": null,
   "id": "56e05b92-05e0-448a-99aa-91c1b53b2356",
   "metadata": {},
   "outputs": [],
   "source": []
  },
  {
   "cell_type": "code",
   "execution_count": null,
   "id": "f31ea33a-19ae-432d-84df-ba43376f6549",
   "metadata": {},
   "outputs": [],
   "source": []
  },
  {
   "cell_type": "code",
   "execution_count": null,
   "id": "17bb85db-2f86-4d6f-948e-4f57e646229c",
   "metadata": {},
   "outputs": [],
   "source": []
  },
  {
   "cell_type": "markdown",
   "id": "29637bbf-5358-45df-b877-09f05256fc22",
   "metadata": {},
   "source": [
    "### Q.38 #replace"
   ]
  },
  {
   "cell_type": "code",
   "execution_count": 2,
   "id": "7fae0397-c859-4e40-a7f6-13b1a2365806",
   "metadata": {},
   "outputs": [
    {
     "name": "stdout",
     "output_type": "stream",
     "text": [
      "5969782550 <class 'int'>\n"
     ]
    }
   ],
   "source": [
    "상장주식수 = \"5,969,782,550\"\n",
    "컴마제거 = 상장주식수.replace(\",\", \"\")\n",
    "타입변환 = int(컴마제거)\n",
    "print(타입변환, type(타입변환))"
   ]
  },
  {
   "cell_type": "markdown",
   "id": "09d1a729-97df-49d8-bd48-76cf893dee83",
   "metadata": {},
   "source": [
    "### Q.39 #slicing"
   ]
  },
  {
   "cell_type": "code",
   "execution_count": 5,
   "id": "238e789e-3e12-4fe5-a952-96542a0c55bf",
   "metadata": {},
   "outputs": [
    {
     "name": "stdout",
     "output_type": "stream",
     "text": [
      "2020/03\n"
     ]
    }
   ],
   "source": [
    "분기 = \"2020/03(E) (IFRS연결)\"\n",
    "\n",
    "print(분기[:7])"
   ]
  },
  {
   "cell_type": "markdown",
   "id": "2958c991-2c5e-4edf-a50f-e7592c7646f8",
   "metadata": {},
   "source": [
    "### Q.40 #strip"
   ]
  },
  {
   "cell_type": "code",
   "execution_count": 6,
   "id": "952fdbab-0fe9-48a4-a0e5-d6416178e98b",
   "metadata": {},
   "outputs": [
    {
     "name": "stdout",
     "output_type": "stream",
     "text": [
      "삼성전자\n"
     ]
    }
   ],
   "source": [
    "data = \"       삼성전자     \"\n",
    "data1 = data.strip()\n",
    "print(data1)"
   ]
  },
  {
   "cell_type": "markdown",
   "id": "ed10dded-b1cd-4b9f-95cd-6b09df7fb94a",
   "metadata": {},
   "source": [
    "### Q.47"
   ]
  },
  {
   "cell_type": "code",
   "execution_count": 7,
   "id": "3f04d2ac-76d3-4a32-877d-1c5fba89237f",
   "metadata": {},
   "outputs": [
    {
     "data": {
      "text/plain": [
       "['hello', 'world']"
      ]
     },
     "execution_count": 7,
     "metadata": {},
     "output_type": "execute_result"
    }
   ],
   "source": [
    "a = \"hello world\"\n",
    "a.split()"
   ]
  },
  {
   "cell_type": "markdown",
   "id": "4b605004-a25b-4c6b-9c1d-e5203edbd3ef",
   "metadata": {},
   "source": [
    "### Q.48 #split"
   ]
  },
  {
   "cell_type": "code",
   "execution_count": 8,
   "id": "936155ef-ed96-4c5a-90d4-6483a69f8439",
   "metadata": {},
   "outputs": [],
   "source": [
    "ticker = \"btc_krw\""
   ]
  },
  {
   "cell_type": "code",
   "execution_count": 9,
   "id": "eb33626e-7918-461f-962d-4510b31b63d5",
   "metadata": {},
   "outputs": [
    {
     "data": {
      "text/plain": [
       "['btc', 'krw']"
      ]
     },
     "execution_count": 9,
     "metadata": {},
     "output_type": "execute_result"
    }
   ],
   "source": [
    "ticker.split(\"_\")"
   ]
  },
  {
   "cell_type": "code",
   "execution_count": 10,
   "id": "d3f4817f-2990-4fa5-bbb1-e2f26adc6a0d",
   "metadata": {},
   "outputs": [
    {
     "data": {
      "text/plain": [
       "['bt', '_krw']"
      ]
     },
     "execution_count": 10,
     "metadata": {},
     "output_type": "execute_result"
    }
   ],
   "source": [
    "ticker.split(\"c\")"
   ]
  },
  {
   "cell_type": "code",
   "execution_count": 11,
   "id": "7d7a0eea-8be9-413f-9631-caa64ce83960",
   "metadata": {},
   "outputs": [
    {
     "name": "stdout",
     "output_type": "stream",
     "text": [
      "btc_krw\n"
     ]
    }
   ],
   "source": [
    "print(ticker)"
   ]
  },
  {
   "cell_type": "markdown",
   "id": "698ca1d8-42fa-4bab-8f7c-1a03d9414113",
   "metadata": {},
   "source": [
    "### Q.52 #append"
   ]
  },
  {
   "cell_type": "code",
   "execution_count": 12,
   "id": "10fb5fae-d4f7-45a6-8a81-cf99289b7523",
   "metadata": {},
   "outputs": [
    {
     "name": "stdout",
     "output_type": "stream",
     "text": [
      "['닥터 스트레인지', '스플릿', '럭키', '배트맨']\n"
     ]
    }
   ],
   "source": [
    "movie_rank = [\"닥터 스트레인지\", \"스플릿\", \"럭키\"]\n",
    "movie_rank.append(\"배트맨\")\n",
    "print(movie_rank)"
   ]
  },
  {
   "cell_type": "markdown",
   "id": "9d9ebe7f-7cb6-4cc7-ad86-e3513fa8568b",
   "metadata": {},
   "source": [
    "### Q.53 #insert"
   ]
  },
  {
   "cell_type": "code",
   "execution_count": 13,
   "id": "781e156f-5669-48f3-967f-0731b6d368cf",
   "metadata": {},
   "outputs": [
    {
     "name": "stdout",
     "output_type": "stream",
     "text": [
      "['닥터 스트레인지', '슈퍼맨', '스플릿', '럭키', '배트맨']\n"
     ]
    }
   ],
   "source": [
    "movie_rank = ['닥터 스트레인지', '스플릿', '럭키', '배트맨']\n",
    "movie_rank.insert(1, \"슈퍼맨\")\n",
    "print(movie_rank)"
   ]
  },
  {
   "cell_type": "markdown",
   "id": "03e26dc0-3120-4da8-94df-ab142b8d2526",
   "metadata": {},
   "source": [
    "### Q.54 #del"
   ]
  },
  {
   "cell_type": "code",
   "execution_count": 14,
   "id": "64563bb2-933c-4faf-a657-fcf3ae85674f",
   "metadata": {},
   "outputs": [
    {
     "name": "stdout",
     "output_type": "stream",
     "text": [
      "['닥터 스트레인지', '슈퍼맨', '스플릿', '배트맨']\n"
     ]
    }
   ],
   "source": [
    "del movie_rank[3]\n",
    "print(movie_rank)"
   ]
  },
  {
   "cell_type": "markdown",
   "id": "9f335de5-da7e-4d72-922e-34412fb6e414",
   "metadata": {},
   "source": [
    "### Q.67 #join"
   ]
  },
  {
   "cell_type": "code",
   "execution_count": 16,
   "id": "a61477e6-4cbb-4f29-8192-1138d8aba839",
   "metadata": {},
   "outputs": [
    {
     "name": "stdout",
     "output_type": "stream",
     "text": [
      "삼성전자/LG전자/Naver/SK하이닉스/미래에셋대우\n"
     ]
    }
   ],
   "source": [
    "interest = ['삼성전자', 'LG전자', 'Naver', 'SK하이닉스', '미래에셋대우']\n",
    "print(\"/\".join(interest))"
   ]
  },
  {
   "cell_type": "markdown",
   "id": "63596027-2430-4ac5-9373-aedde677552d",
   "metadata": {},
   "source": [
    "### Q.70 #list sort"
   ]
  },
  {
   "cell_type": "code",
   "execution_count": 17,
   "id": "4b54fc51-95d8-4cb6-955d-296a1caec78c",
   "metadata": {},
   "outputs": [
    {
     "name": "stdout",
     "output_type": "stream",
     "text": [
      "[1, 2, 3, 4, 5, 9, 10]\n"
     ]
    }
   ],
   "source": [
    "data = [2, 4, 3, 1, 5, 10, 9]\n",
    "data.sort()\n",
    "print(data)"
   ]
  },
  {
   "cell_type": "code",
   "execution_count": 20,
   "id": "75f44024-cb23-456b-a376-0b1ef61e76db",
   "metadata": {},
   "outputs": [
    {
     "name": "stdout",
     "output_type": "stream",
     "text": [
      "[1, 2, 3, 4, 5, 9, 10]\n"
     ]
    }
   ],
   "source": [
    "data = [2, 4, 3, 1, 5, 10, 9]\n",
    "data2 = sorted(data)\n",
    "print(data2)"
   ]
  },
  {
   "cell_type": "markdown",
   "id": "3e7521e0-c40d-404e-912c-f9abaec7df79",
   "metadata": {},
   "source": [
    "### Q.71 #tuple"
   ]
  },
  {
   "cell_type": "code",
   "execution_count": 1,
   "id": "14644522-86cb-4ce0-ad45-f1d3c1a89ca4",
   "metadata": {},
   "outputs": [],
   "source": [
    "my_variable = ()"
   ]
  },
  {
   "cell_type": "code",
   "execution_count": 2,
   "id": "140abe88-1f41-4772-95f1-560dfd6ba197",
   "metadata": {},
   "outputs": [
    {
     "name": "stdout",
     "output_type": "stream",
     "text": [
      "<class 'tuple'>\n"
     ]
    }
   ],
   "source": [
    "print(type(my_variable))"
   ]
  },
  {
   "cell_type": "code",
   "execution_count": 3,
   "id": "8425e5b0-4927-4c76-9822-b8b72cf0fb9c",
   "metadata": {},
   "outputs": [],
   "source": [
    "movie_rank = ('닥터 스트레인지', '스플릿', '럭키')"
   ]
  },
  {
   "cell_type": "code",
   "execution_count": 4,
   "id": "8a142b76-41bb-411c-88c3-e3a722edf746",
   "metadata": {},
   "outputs": [
    {
     "name": "stdout",
     "output_type": "stream",
     "text": [
      "('닥터 스트레인지', '스플릿', '럭키')\n"
     ]
    }
   ],
   "source": [
    "print(movie_rank)"
   ]
  },
  {
   "cell_type": "markdown",
   "id": "59a623dd-a7dc-4b58-a8d8-a7260c3ca7ea",
   "metadata": {},
   "source": [
    "### Q.73 #한개의 값만 tuple 저장"
   ]
  },
  {
   "cell_type": "code",
   "execution_count": 7,
   "id": "45d6dbf1-af96-4ecd-9570-9edb2974dba1",
   "metadata": {},
   "outputs": [],
   "source": [
    "num = (1, )"
   ]
  },
  {
   "cell_type": "code",
   "execution_count": 8,
   "id": "8fcee005-412b-4a46-a292-75ec2334b170",
   "metadata": {},
   "outputs": [
    {
     "name": "stdout",
     "output_type": "stream",
     "text": [
      "(1,)\n"
     ]
    }
   ],
   "source": [
    "print(num)"
   ]
  },
  {
   "cell_type": "code",
   "execution_count": 9,
   "id": "5670d109-5095-469b-bb68-c3add4191261",
   "metadata": {},
   "outputs": [
    {
     "data": {
      "text/plain": [
       "tuple"
      ]
     },
     "execution_count": 9,
     "metadata": {},
     "output_type": "execute_result"
    }
   ],
   "source": [
    "type(num)"
   ]
  },
  {
   "cell_type": "markdown",
   "id": "7dc3b239-cdc4-49f2-8119-47f57ce12597",
   "metadata": {},
   "source": [
    "### Q.78 #리스트를 튜플로 변환"
   ]
  },
  {
   "cell_type": "code",
   "execution_count": 10,
   "id": "5998e1a9-5918-402e-8f50-6fb7a627481a",
   "metadata": {},
   "outputs": [],
   "source": [
    "interest = ['삼성전자', 'LG전자', 'SK Hynix']"
   ]
  },
  {
   "cell_type": "code",
   "execution_count": 11,
   "id": "1e3f29cf-fda7-4295-b7b4-311944573400",
   "metadata": {},
   "outputs": [
    {
     "data": {
      "text/plain": [
       "('삼성전자', 'LG전자', 'SK Hynix')"
      ]
     },
     "execution_count": 11,
     "metadata": {},
     "output_type": "execute_result"
    }
   ],
   "source": [
    "tuple(interest)"
   ]
  },
  {
   "cell_type": "markdown",
   "id": "fe7265ae-34e9-4377-9468-347566427ead",
   "metadata": {},
   "source": [
    "### Q.80 range함수"
   ]
  },
  {
   "cell_type": "code",
   "execution_count": 12,
   "id": "0999ecfa-46c2-4cf6-8c5c-c59e665ca4df",
   "metadata": {},
   "outputs": [
    {
     "name": "stdout",
     "output_type": "stream",
     "text": [
      "(2, 4, 6, 8, 10, 12, 14, 16, 18, 20, 22, 24, 26, 28, 30, 32, 34, 36, 38, 40, 42, 44, 46, 48, 50, 52, 54, 56, 58, 60, 62, 64, 66, 68, 70, 72, 74, 76, 78, 80, 82, 84, 86, 88, 90, 92, 94, 96, 98)\n"
     ]
    }
   ],
   "source": [
    "data = tuple(range(2, 100, 2))\n",
    "print(data)"
   ]
  },
  {
   "cell_type": "code",
   "execution_count": 13,
   "id": "42fee1b7-7c70-4f71-b8b6-8f4dd1527343",
   "metadata": {},
   "outputs": [],
   "source": [
    "data = tuple(range(2, 99, 2))"
   ]
  },
  {
   "cell_type": "code",
   "execution_count": 14,
   "id": "b7250c7a-aba7-40e6-8d9b-13d5e39cf051",
   "metadata": {},
   "outputs": [
    {
     "name": "stdout",
     "output_type": "stream",
     "text": [
      "(2, 4, 6, 8, 10, 12, 14, 16, 18, 20, 22, 24, 26, 28, 30, 32, 34, 36, 38, 40, 42, 44, 46, 48, 50, 52, 54, 56, 58, 60, 62, 64, 66, 68, 70, 72, 74, 76, 78, 80, 82, 84, 86, 88, 90, 92, 94, 96, 98)\n"
     ]
    }
   ],
   "source": [
    "print(data)"
   ]
  },
  {
   "cell_type": "code",
   "execution_count": 16,
   "id": "fca77fd7-8bf1-430f-a03f-74718f50dd3d",
   "metadata": {},
   "outputs": [],
   "source": [
    "data = tuple(range(2, 100, 3))"
   ]
  },
  {
   "cell_type": "code",
   "execution_count": 17,
   "id": "6eb771ea-5caf-449f-84d7-0a129d6044b6",
   "metadata": {},
   "outputs": [
    {
     "name": "stdout",
     "output_type": "stream",
     "text": [
      "(2, 5, 8, 11, 14, 17, 20, 23, 26, 29, 32, 35, 38, 41, 44, 47, 50, 53, 56, 59, 62, 65, 68, 71, 74, 77, 80, 83, 86, 89, 92, 95, 98)\n"
     ]
    }
   ],
   "source": [
    "print(data)"
   ]
  },
  {
   "cell_type": "markdown",
   "id": "b3450fa3-fc8f-47cb-b18d-87a73c2a6392",
   "metadata": {},
   "source": [
    "### Q.81~83 #star expression"
   ]
  },
  {
   "cell_type": "code",
   "execution_count": 2,
   "id": "585ab376-278a-4668-8577-bfd6a2df0a75",
   "metadata": {},
   "outputs": [
    {
     "name": "stdout",
     "output_type": "stream",
     "text": [
      "[8.7, 9.2, 9.3, 9.7, 9.9, 9.5, 7.8, 9.4]\n"
     ]
    }
   ],
   "source": [
    "scores = [8.8, 8.9, 8.7, 9.2, 9.3, 9.7, 9.9, 9.5, 7.8, 9.4]\n",
    "_, _, *valid_score = scores\n",
    "print(valid_score)"
   ]
  },
  {
   "cell_type": "code",
   "execution_count": null,
   "id": "646f8dc0-1619-4591-95f3-da8016e306ff",
   "metadata": {},
   "outputs": [],
   "source": []
  }
 ],
 "metadata": {
  "kernelspec": {
   "display_name": "Python 3 (ipykernel)",
   "language": "python",
   "name": "python3"
  },
  "language_info": {
   "codemirror_mode": {
    "name": "ipython",
    "version": 3
   },
   "file_extension": ".py",
   "mimetype": "text/x-python",
   "name": "python",
   "nbconvert_exporter": "python",
   "pygments_lexer": "ipython3",
   "version": "3.9.12"
  }
 },
 "nbformat": 4,
 "nbformat_minor": 5
}
