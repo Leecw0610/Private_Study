{
 "cells": [
  {
   "cell_type": "markdown",
   "id": "e6de30bd-e5cc-4547-b3fd-ab25a5454048",
   "metadata": {},
   "source": [
    "# 19. 시각화"
   ]
  },
  {
   "cell_type": "code",
   "execution_count": null,
   "id": "d1ce5d13-5d30-4ad6-be30-187c51263302",
   "metadata": {},
   "outputs": [],
   "source": []
  },
  {
   "cell_type": "code",
   "execution_count": null,
   "id": "47252e7f-e803-4cc2-93e9-9ffcebb75ccb",
   "metadata": {},
   "outputs": [],
   "source": []
  },
  {
   "cell_type": "markdown",
   "id": "ba96c3ca-497e-4333-a8fd-d108aac8c069",
   "metadata": {},
   "source": [
    "## 211~220"
   ]
  },
  {
   "cell_type": "code",
   "execution_count": null,
   "id": "078c3976-9c02-40f1-8235-145933d84311",
   "metadata": {},
   "outputs": [],
   "source": []
  },
  {
   "cell_type": "code",
   "execution_count": null,
   "id": "40aa1de1-8208-4b89-865d-ee6912d7797d",
   "metadata": {},
   "outputs": [],
   "source": []
  },
  {
   "cell_type": "code",
   "execution_count": 1,
   "id": "bf06fe41-1100-4edb-93f0-d9836601597c",
   "metadata": {},
   "outputs": [],
   "source": [
    "import matplotlib.pyplot as plt"
   ]
  },
  {
   "cell_type": "code",
   "execution_count": 2,
   "id": "2b8aa859-92dc-4575-8cb0-34f3a049511b",
   "metadata": {},
   "outputs": [
    {
     "name": "stdout",
     "output_type": "stream",
     "text": [
      "Collecting finance-datareader\n",
      "  Downloading finance_datareader-0.9.50-py3-none-any.whl (19 kB)\n",
      "Requirement already satisfied: requests-file in c:\\users\\user\\anaconda3\\lib\\site-packages (from finance-datareader) (1.5.1)\n",
      "Requirement already satisfied: pandas>=0.19.2 in c:\\users\\user\\anaconda3\\lib\\site-packages (from finance-datareader) (1.4.2)\n",
      "Requirement already satisfied: requests>=2.3.0 in c:\\users\\user\\anaconda3\\lib\\site-packages (from finance-datareader) (2.27.1)\n",
      "Requirement already satisfied: lxml in c:\\users\\user\\anaconda3\\lib\\site-packages (from finance-datareader) (4.8.0)\n",
      "Requirement already satisfied: tqdm in c:\\users\\user\\anaconda3\\lib\\site-packages (from finance-datareader) (4.64.0)\n",
      "Requirement already satisfied: pytz>=2020.1 in c:\\users\\user\\anaconda3\\lib\\site-packages (from pandas>=0.19.2->finance-datareader) (2021.3)\n",
      "Requirement already satisfied: python-dateutil>=2.8.1 in c:\\users\\user\\anaconda3\\lib\\site-packages (from pandas>=0.19.2->finance-datareader) (2.8.2)\n",
      "Requirement already satisfied: numpy>=1.18.5 in c:\\users\\user\\anaconda3\\lib\\site-packages (from pandas>=0.19.2->finance-datareader) (1.21.5)\n",
      "Requirement already satisfied: six>=1.5 in c:\\users\\user\\anaconda3\\lib\\site-packages (from python-dateutil>=2.8.1->pandas>=0.19.2->finance-datareader) (1.16.0)\n",
      "Requirement already satisfied: charset-normalizer~=2.0.0 in c:\\users\\user\\anaconda3\\lib\\site-packages (from requests>=2.3.0->finance-datareader) (2.0.4)\n",
      "Requirement already satisfied: certifi>=2017.4.17 in c:\\users\\user\\anaconda3\\lib\\site-packages (from requests>=2.3.0->finance-datareader) (2021.10.8)\n",
      "Requirement already satisfied: urllib3<1.27,>=1.21.1 in c:\\users\\user\\anaconda3\\lib\\site-packages (from requests>=2.3.0->finance-datareader) (1.26.9)\n",
      "Requirement already satisfied: idna<4,>=2.5 in c:\\users\\user\\anaconda3\\lib\\site-packages (from requests>=2.3.0->finance-datareader) (3.3)\n",
      "Requirement already satisfied: colorama in c:\\users\\user\\anaconda3\\lib\\site-packages (from tqdm->finance-datareader) (0.4.4)\n",
      "Installing collected packages: finance-datareader\n",
      "Successfully installed finance-datareader-0.9.50\n"
     ]
    }
   ],
   "source": [
    "!pip install finance-datareader"
   ]
  },
  {
   "cell_type": "code",
   "execution_count": 3,
   "id": "ffecc039-5da4-4c1c-8eda-1c24725eb087",
   "metadata": {},
   "outputs": [],
   "source": [
    "import FinanceDataReader as fdr\n",
    "\n",
    "df = fdr.DataReader(\"KS11\")\n",
    "df2021 = df.loc['2021']"
   ]
  },
  {
   "cell_type": "code",
   "execution_count": 6,
   "id": "26a446f0-cb9b-4500-aadc-100939254fd3",
   "metadata": {},
   "outputs": [
    {
     "data": {
      "text/plain": [
       "Date\n",
       "2021-01-04    2944.449951\n",
       "2021-01-05    2990.570068\n",
       "2021-01-06    2968.209961\n",
       "2021-01-07    3031.679932\n",
       "2021-01-08    3152.179932\n",
       "                 ...     \n",
       "2021-12-24    3012.429932\n",
       "2021-12-27    2999.550049\n",
       "2021-12-28    3020.239990\n",
       "2021-12-29    2993.290039\n",
       "2021-12-30    2977.649902\n",
       "Name: Close, Length: 248, dtype: float64"
      ]
     },
     "execution_count": 6,
     "metadata": {},
     "output_type": "execute_result"
    }
   ],
   "source": [
    "df2021['Close']"
   ]
  },
  {
   "cell_type": "code",
   "execution_count": 7,
   "id": "b9852221-819d-4494-9efb-b32cad238ebe",
   "metadata": {},
   "outputs": [
    {
     "data": {
      "text/plain": [
       "<AxesSubplot:xlabel='Date'>"
      ]
     },
     "execution_count": 7,
     "metadata": {},
     "output_type": "execute_result"
    },
    {
     "data": {
      "image/png": "[encoded data removed]",
      "text/plain": [
       "<Figure size 432x288 with 1 Axes>"
      ]
     },
     "metadata": {
      "needs_background": "light"
     },
     "output_type": "display_data"
    }
   ],
   "source": [
    "df2021['Close'].plot()"
   ]
  },
  {
   "cell_type": "code",
   "execution_count": 8,
   "id": "76d7fa61-3c9c-4fab-a2c3-8b3d704c4c8e",
   "metadata": {},
   "outputs": [],
   "source": [
    "import seaborn as sns\n",
    "\n",
    "iris = sns.load_dataset(\"iris\")"
   ]
  },
  {
   "cell_type": "code",
   "execution_count": 9,
   "id": "c6dc407c-8518-4a04-b7b0-a6b9484476fd",
   "metadata": {},
   "outputs": [
    {
     "data": {
      "text/html": [
       "<div>\n",
       "<style scoped>\n",
       "    .dataframe tbody tr th:only-of-type {\n",
       "        vertical-align: middle;\n",
       "    }\n",
       "\n",
       "    .dataframe tbody tr th {\n",
       "        vertical-align: top;\n",
       "    }\n",
       "\n",
       "    .dataframe thead th {\n",
       "        text-align: right;\n",
       "    }\n",
       "</style>\n",
       "<table border=\"1\" class=\"dataframe\">\n",
       "  <thead>\n",
       "    <tr style=\"text-align: right;\">\n",
       "      <th></th>\n",
       "      <th>sepal_length</th>\n",
       "      <th>sepal_width</th>\n",
       "      <th>petal_length</th>\n",
       "      <th>petal_width</th>\n",
       "      <th>species</th>\n",
       "    </tr>\n",
       "  </thead>\n",
       "  <tbody>\n",
       "    <tr>\n",
       "      <th>0</th>\n",
       "      <td>5.1</td>\n",
       "      <td>3.5</td>\n",
       "      <td>1.4</td>\n",
       "      <td>0.2</td>\n",
       "      <td>setosa</td>\n",
       "    </tr>\n",
       "    <tr>\n",
       "      <th>1</th>\n",
       "      <td>4.9</td>\n",
       "      <td>3.0</td>\n",
       "      <td>1.4</td>\n",
       "      <td>0.2</td>\n",
       "      <td>setosa</td>\n",
       "    </tr>\n",
       "    <tr>\n",
       "      <th>2</th>\n",
       "      <td>4.7</td>\n",
       "      <td>3.2</td>\n",
       "      <td>1.3</td>\n",
       "      <td>0.2</td>\n",
       "      <td>setosa</td>\n",
       "    </tr>\n",
       "    <tr>\n",
       "      <th>3</th>\n",
       "      <td>4.6</td>\n",
       "      <td>3.1</td>\n",
       "      <td>1.5</td>\n",
       "      <td>0.2</td>\n",
       "      <td>setosa</td>\n",
       "    </tr>\n",
       "    <tr>\n",
       "      <th>4</th>\n",
       "      <td>5.0</td>\n",
       "      <td>3.6</td>\n",
       "      <td>1.4</td>\n",
       "      <td>0.2</td>\n",
       "      <td>setosa</td>\n",
       "    </tr>\n",
       "    <tr>\n",
       "      <th>...</th>\n",
       "      <td>...</td>\n",
       "      <td>...</td>\n",
       "      <td>...</td>\n",
       "      <td>...</td>\n",
       "      <td>...</td>\n",
       "    </tr>\n",
       "    <tr>\n",
       "      <th>145</th>\n",
       "      <td>6.7</td>\n",
       "      <td>3.0</td>\n",
       "      <td>5.2</td>\n",
       "      <td>2.3</td>\n",
       "      <td>virginica</td>\n",
       "    </tr>\n",
       "    <tr>\n",
       "      <th>146</th>\n",
       "      <td>6.3</td>\n",
       "      <td>2.5</td>\n",
       "      <td>5.0</td>\n",
       "      <td>1.9</td>\n",
       "      <td>virginica</td>\n",
       "    </tr>\n",
       "    <tr>\n",
       "      <th>147</th>\n",
       "      <td>6.5</td>\n",
       "      <td>3.0</td>\n",
       "      <td>5.2</td>\n",
       "      <td>2.0</td>\n",
       "      <td>virginica</td>\n",
       "    </tr>\n",
       "    <tr>\n",
       "      <th>148</th>\n",
       "      <td>6.2</td>\n",
       "      <td>3.4</td>\n",
       "      <td>5.4</td>\n",
       "      <td>2.3</td>\n",
       "      <td>virginica</td>\n",
       "    </tr>\n",
       "    <tr>\n",
       "      <th>149</th>\n",
       "      <td>5.9</td>\n",
       "      <td>3.0</td>\n",
       "      <td>5.1</td>\n",
       "      <td>1.8</td>\n",
       "      <td>virginica</td>\n",
       "    </tr>\n",
       "  </tbody>\n",
       "</table>\n",
       "<p>150 rows × 5 columns</p>\n",
       "</div>"
      ],
      "text/plain": [
       "     sepal_length  sepal_width  petal_length  petal_width    species\n",
       "0             5.1          3.5           1.4          0.2     setosa\n",
       "1             4.9          3.0           1.4          0.2     setosa\n",
       "2             4.7          3.2           1.3          0.2     setosa\n",
       "3             4.6          3.1           1.5          0.2     setosa\n",
       "4             5.0          3.6           1.4          0.2     setosa\n",
       "..            ...          ...           ...          ...        ...\n",
       "145           6.7          3.0           5.2          2.3  virginica\n",
       "146           6.3          2.5           5.0          1.9  virginica\n",
       "147           6.5          3.0           5.2          2.0  virginica\n",
       "148           6.2          3.4           5.4          2.3  virginica\n",
       "149           5.9          3.0           5.1          1.8  virginica\n",
       "\n",
       "[150 rows x 5 columns]"
      ]
     },
     "execution_count": 9,
     "metadata": {},
     "output_type": "execute_result"
    }
   ],
   "source": [
    "iris"
   ]
  },
  {
   "cell_type": "code",
   "execution_count": 12,
   "id": "d5cce89f-eb58-4ad9-a584-c62f5f074820",
   "metadata": {},
   "outputs": [],
   "source": [
    "spe_sep=iris.groupby('species')[['sepal_length']].mean()"
   ]
  },
  {
   "cell_type": "code",
   "execution_count": 19,
   "id": "12a81013-4bd7-4d87-a8a5-93ffe5d56d56",
   "metadata": {},
   "outputs": [
    {
     "data": {
      "text/plain": [
       "<AxesSubplot:xlabel='species'>"
      ]
     },
     "execution_count": 19,
     "metadata": {},
     "output_type": "execute_result"
    },
    {
     "data": {
      "image/png": "[encoded data removed]",
      "text/plain": [
       "<Figure size 432x288 with 1 Axes>"
      ]
     },
     "metadata": {
      "needs_background": "light"
     },
     "output_type": "display_data"
    }
   ],
   "source": [
    "spe_sep.plot(kind='bar')"
   ]
  },
  {
   "cell_type": "code",
   "execution_count": 23,
   "id": "e3b9a96f-b387-4ecd-b061-7913b5a13d03",
   "metadata": {},
   "outputs": [
    {
     "data": {
      "text/plain": [
       "<AxesSubplot:ylabel='species'>"
      ]
     },
     "execution_count": 23,
     "metadata": {},
     "output_type": "execute_result"
    },
    {
     "data": {
      "image/png": "[encoded data removed]",
      "text/plain": [
       "<Figure size 432x288 with 1 Axes>"
      ]
     },
     "metadata": {
      "needs_background": "light"
     },
     "output_type": "display_data"
    }
   ],
   "source": [
    "iris.groupby('species').mean().plot.barh()"
   ]
  },
  {
   "cell_type": "code",
   "execution_count": 24,
   "id": "85900a76-5afc-4f25-b3c2-106a50d63f2a",
   "metadata": {},
   "outputs": [
    {
     "data": {
      "text/plain": [
       "<AxesSubplot:>"
      ]
     },
     "execution_count": 24,
     "metadata": {},
     "output_type": "execute_result"
    },
    {
     "data": {
      "image/png": "[encoded data removed]",
      "text/plain": [
       "<Figure size 432x288 with 1 Axes>"
      ]
     },
     "metadata": {
      "needs_background": "light"
     },
     "output_type": "display_data"
    }
   ],
   "source": [
    "iris.groupby('species').mean().T.plot.barh()"
   ]
  },
  {
   "cell_type": "code",
   "execution_count": 26,
   "id": "847f6149-4e6a-4bac-9a4a-9974f985f8a3",
   "metadata": {},
   "outputs": [],
   "source": [
    "s=iris.groupby('species')['sepal_length'].count()"
   ]
  },
  {
   "cell_type": "code",
   "execution_count": 31,
   "id": "6dffec99-4a3e-476d-be2d-289e5feff7d7",
   "metadata": {},
   "outputs": [],
   "source": [
    "s.name = \"\""
   ]
  },
  {
   "cell_type": "code",
   "execution_count": 34,
   "id": "264c3a24-7e3b-4bea-8ff9-d8eb3139a0da",
   "metadata": {},
   "outputs": [
    {
     "data": {
      "image/png": "[encoded data removed]",
      "text/plain": [
       "<Figure size 432x288 with 1 Axes>"
      ]
     },
     "metadata": {},
     "output_type": "display_data"
    }
   ],
   "source": [
    "s.plot.pie(autopct=\"%.2f%%\");"
   ]
  },
  {
   "cell_type": "code",
   "execution_count": 35,
   "id": "9d30312f-6ddf-4f22-b8bd-02b4316d88f9",
   "metadata": {},
   "outputs": [
    {
     "data": {
      "text/plain": [
       "<AxesSubplot:xlabel='petal_width', ylabel='petal_length'>"
      ]
     },
     "execution_count": 35,
     "metadata": {},
     "output_type": "execute_result"
    },
    {
     "data": {
      "image/png": "[encoded data removed]",
      "text/plain": [
       "<Figure size 432x288 with 1 Axes>"
      ]
     },
     "metadata": {
      "needs_background": "light"
     },
     "output_type": "display_data"
    }
   ],
   "source": [
    "sns.scatterplot(\n",
    "    x='petal_width',\n",
    "    y='petal_length',\n",
    "    hue='species',\n",
    "    data=iris\n",
    ")"
   ]
  },
  {
   "cell_type": "code",
   "execution_count": 36,
   "id": "1f14077d-049c-441c-ab17-2fb6151b5acc",
   "metadata": {},
   "outputs": [
    {
     "data": {
      "text/plain": [
       "<AxesSubplot:xlabel='species', ylabel='petal_length'>"
      ]
     },
     "execution_count": 36,
     "metadata": {},
     "output_type": "execute_result"
    },
    {
     "data": {
      "image/png": "[encoded data removed]",
      "text/plain": [
       "<Figure size 432x288 with 1 Axes>"
      ]
     },
     "metadata": {
      "needs_background": "light"
     },
     "output_type": "display_data"
    }
   ],
   "source": [
    "sns.boxplot(\n",
    "    x='species',\n",
    "    y='petal_length',\n",
    "    data=iris\n",
    ")"
   ]
  },
  {
   "cell_type": "code",
   "execution_count": 37,
   "id": "971dea65-9a4c-4f43-9cd1-37111f1b7457",
   "metadata": {},
   "outputs": [
    {
     "data": {
      "text/plain": [
       "<AxesSubplot:xlabel='petal_length', ylabel='Density'>"
      ]
     },
     "execution_count": 37,
     "metadata": {},
     "output_type": "execute_result"
    },
    {
     "data": {
      "image/png": "[encoded data removed]",
      "text/plain": [
       "<Figure size 432x288 with 1 Axes>"
      ]
     },
     "metadata": {
      "needs_background": "light"
     },
     "output_type": "display_data"
    }
   ],
   "source": [
    "sns.kdeplot(\n",
    "    data=iris,\n",
    "    x='petal_length',\n",
    "    hue='species'\n",
    ")"
   ]
  },
  {
   "cell_type": "code",
   "execution_count": 38,
   "id": "96cc7c41-36da-4c3a-b7ec-2419b28480fe",
   "metadata": {},
   "outputs": [
    {
     "data": {
      "text/plain": [
       "<seaborn.axisgrid.FacetGrid at 0x1a07503afd0>"
      ]
     },
     "execution_count": 38,
     "metadata": {},
     "output_type": "execute_result"
    },
    {
     "data": {
      "image/png": "[encoded data removed]",
      "text/plain": [
       "<Figure size 648x216 with 3 Axes>"
      ]
     },
     "metadata": {
      "needs_background": "light"
     },
     "output_type": "display_data"
    }
   ],
   "source": [
    "g = sns.FacetGrid(iris, col='species')\n",
    "g.set(xlim=(0, 10))\n",
    "g.map(sns.histplot, 'petal_length')"
   ]
  },
  {
   "cell_type": "code",
   "execution_count": null,
   "id": "708a62e2-b2ae-489e-92d0-b9a74a64dee0",
   "metadata": {},
   "outputs": [],
   "source": []
  },
  {
   "cell_type": "code",
   "execution_count": null,
   "id": "a8b22e79-101d-45d8-9759-f3f8c7db0337",
   "metadata": {},
   "outputs": [],
   "source": []
  },
  {
   "cell_type": "markdown",
   "id": "c7bba93f-421b-4f39-ac8f-e7da6fd867ae",
   "metadata": {},
   "source": [
    "# 20. 시계열 데이터"
   ]
  },
  {
   "cell_type": "code",
   "execution_count": null,
   "id": "5376b6cd-eaf7-402e-8d6f-ba679b515cc4",
   "metadata": {},
   "outputs": [],
   "source": []
  },
  {
   "cell_type": "code",
   "execution_count": null,
   "id": "ceb5b499-534f-4aeb-acaa-ee8dab15291b",
   "metadata": {},
   "outputs": [],
   "source": []
  },
  {
   "cell_type": "markdown",
   "id": "28047cdf-c602-41ee-be17-026422ebea96",
   "metadata": {},
   "source": [
    "## 221~230"
   ]
  },
  {
   "cell_type": "code",
   "execution_count": null,
   "id": "0480c58b-67ab-418c-8a44-74f480df155f",
   "metadata": {},
   "outputs": [],
   "source": []
  },
  {
   "cell_type": "code",
   "execution_count": null,
   "id": "4d0641bd-0721-47ba-b9d7-fd37861c2494",
   "metadata": {},
   "outputs": [],
   "source": []
  },
  {
   "cell_type": "code",
   "execution_count": 39,
   "id": "6b0ea3e6-ab93-44db-b215-24883d5ebb4d",
   "metadata": {},
   "outputs": [],
   "source": [
    "from datetime import datetime\n",
    "now = datetime.now()"
   ]
  },
  {
   "cell_type": "code",
   "execution_count": 40,
   "id": "c8ad0fda-e78b-40d7-9c0e-4f4d0a53eef6",
   "metadata": {},
   "outputs": [
    {
     "data": {
      "text/plain": [
       "datetime.datetime(2022, 11, 29, 19, 32, 26, 538551)"
      ]
     },
     "execution_count": 40,
     "metadata": {},
     "output_type": "execute_result"
    }
   ],
   "source": [
    "now"
   ]
  },
  {
   "cell_type": "code",
   "execution_count": 41,
   "id": "df038395-02bc-4346-ba9e-804aa646067c",
   "metadata": {},
   "outputs": [],
   "source": [
    "from datetime import datetime\n",
    "now = datetime.now()"
   ]
  },
  {
   "cell_type": "code",
   "execution_count": 42,
   "id": "40ad19ae-9924-412a-98db-7ca43b5f71b4",
   "metadata": {},
   "outputs": [
    {
     "data": {
      "text/plain": [
       "datetime.datetime(2022, 11, 29, 19, 32, 54, 691393)"
      ]
     },
     "execution_count": 42,
     "metadata": {},
     "output_type": "execute_result"
    }
   ],
   "source": [
    "now"
   ]
  },
  {
   "cell_type": "code",
   "execution_count": 44,
   "id": "80c3a0a1-6d5f-4ecf-896c-d90876754902",
   "metadata": {},
   "outputs": [
    {
     "data": {
      "text/plain": [
       "(2022, 11, 29)"
      ]
     },
     "execution_count": 44,
     "metadata": {},
     "output_type": "execute_result"
    }
   ],
   "source": [
    "now.year, now.month, now.day"
   ]
  },
  {
   "cell_type": "code",
   "execution_count": 46,
   "id": "3a3c709e-9f22-47f5-80b2-ea96b1154cd3",
   "metadata": {},
   "outputs": [],
   "source": [
    "from datetime import timedelta\n",
    "\n",
    "tomorrow = now + timedelta(days=1)"
   ]
  },
  {
   "cell_type": "code",
   "execution_count": 50,
   "id": "5e4ae488-95f0-443c-8ba0-9d78fbdbe3e2",
   "metadata": {},
   "outputs": [
    {
     "data": {
      "text/plain": [
       "datetime.datetime(2022, 11, 30, 19, 32, 54, 691393)"
      ]
     },
     "execution_count": 50,
     "metadata": {},
     "output_type": "execute_result"
    }
   ],
   "source": [
    "tomorrow"
   ]
  },
  {
   "cell_type": "code",
   "execution_count": 51,
   "id": "b5c28559-64bb-43bf-8128-4ef5afd965ea",
   "metadata": {},
   "outputs": [],
   "source": [
    "yesterday = now + timedelta(days=-1)"
   ]
  },
  {
   "cell_type": "code",
   "execution_count": 52,
   "id": "4d41f67a-061f-4ab4-904d-0912826efada",
   "metadata": {},
   "outputs": [
    {
     "data": {
      "text/plain": [
       "datetime.datetime(2022, 11, 28, 19, 32, 54, 691393)"
      ]
     },
     "execution_count": 52,
     "metadata": {},
     "output_type": "execute_result"
    }
   ],
   "source": [
    "yesterday"
   ]
  },
  {
   "cell_type": "code",
   "execution_count": 53,
   "id": "10d2a528-c52f-4eae-80fc-a5fffa478b75",
   "metadata": {},
   "outputs": [],
   "source": [
    "now = datetime.now()\n",
    "utc = now - timedelta(hours=9)\n"
   ]
  },
  {
   "cell_type": "code",
   "execution_count": 54,
   "id": "a515f3d2-e8af-465c-b5ce-79a4f620a24d",
   "metadata": {},
   "outputs": [
    {
     "data": {
      "text/plain": [
       "datetime.datetime(2022, 11, 29, 10, 36, 42, 622798)"
      ]
     },
     "execution_count": 54,
     "metadata": {},
     "output_type": "execute_result"
    }
   ],
   "source": [
    "utc"
   ]
  },
  {
   "cell_type": "code",
   "execution_count": 55,
   "id": "42a2fbfc-a27d-4dd9-8343-1f5eca10d204",
   "metadata": {},
   "outputs": [
    {
     "data": {
      "text/plain": [
       "'2022-11-29'"
      ]
     },
     "execution_count": 55,
     "metadata": {},
     "output_type": "execute_result"
    }
   ],
   "source": [
    "now.strftime(\"%Y-%m-%d\")"
   ]
  },
  {
   "cell_type": "code",
   "execution_count": 56,
   "id": "5997d01a-7a45-48b6-b7c9-94011d8e4d50",
   "metadata": {},
   "outputs": [
    {
     "data": {
      "text/plain": [
       "'2022-11-29 19:36:42'"
      ]
     },
     "execution_count": 56,
     "metadata": {},
     "output_type": "execute_result"
    }
   ],
   "source": [
    "now.strftime(\"%Y-%m-%d %H:%M:%S\")"
   ]
  },
  {
   "cell_type": "code",
   "execution_count": 57,
   "id": "b19feb5b-a344-4d45-87e5-8887e7106c3e",
   "metadata": {},
   "outputs": [],
   "source": [
    "dt_fmt = \"2023-01-01 00:00:00\" "
   ]
  },
  {
   "cell_type": "code",
   "execution_count": 58,
   "id": "310114c4-54eb-4732-b7a4-c2689cb7653f",
   "metadata": {},
   "outputs": [
    {
     "data": {
      "text/plain": [
       "datetime.datetime(2023, 1, 1, 0, 0)"
      ]
     },
     "execution_count": 58,
     "metadata": {},
     "output_type": "execute_result"
    }
   ],
   "source": [
    "datetime.strptime(dt_fmt, \"%Y-%m-%d %H:%M:%S\")"
   ]
  },
  {
   "cell_type": "raw",
   "id": "5a7ce6ab-97db-4311-89e3-11ea3e144ea7",
   "metadata": {},
   "source": [
    "datetime(날짜,시간)을 str로 출력할 때는 strftime(),\n",
    "문자열에서 다시 datetime으로 변환하려면 strptime() 을 사용한다."
   ]
  },
  {
   "cell_type": "code",
   "execution_count": 59,
   "id": "903541fd-2091-4c32-8e12-74a2fdfb90ef",
   "metadata": {},
   "outputs": [],
   "source": [
    "import pandas as pd\n",
    "\n",
    "date_fmt = [\"2022-09-09 00:00:00\", \"2022-09-09 00:00:01\", \"2022-09-09 00:00:02\"]\n",
    "ts = pd.to_datetime(date_fmt)"
   ]
  },
  {
   "cell_type": "code",
   "execution_count": 60,
   "id": "2f8b1dda-ef56-4f16-af80-0619e6939019",
   "metadata": {},
   "outputs": [
    {
     "data": {
      "text/plain": [
       "DatetimeIndex(['2022-09-09 00:00:00', '2022-09-09 00:00:01',\n",
       "               '2022-09-09 00:00:02'],\n",
       "              dtype='datetime64[ns]', freq=None)"
      ]
     },
     "execution_count": 60,
     "metadata": {},
     "output_type": "execute_result"
    }
   ],
   "source": [
    "ts"
   ]
  },
  {
   "cell_type": "code",
   "execution_count": 67,
   "id": "d7b61499-f2c2-4aae-ba1c-c467e7211fdd",
   "metadata": {},
   "outputs": [],
   "source": [
    "date='2023-01-01 00:00:00'"
   ]
  },
  {
   "cell_type": "code",
   "execution_count": 68,
   "id": "3b84410e-7165-44b7-be62-1312fabfd1f0",
   "metadata": {},
   "outputs": [
    {
     "data": {
      "text/plain": [
       "str"
      ]
     },
     "execution_count": 68,
     "metadata": {},
     "output_type": "execute_result"
    }
   ],
   "source": [
    "type(date)"
   ]
  },
  {
   "cell_type": "code",
   "execution_count": 62,
   "id": "730722ff-66d4-40f8-947f-b71eade35b57",
   "metadata": {},
   "outputs": [],
   "source": [
    "dt= datetime(year=2023, month=1, day=1, hour=0, minute=0, second=0)"
   ]
  },
  {
   "cell_type": "code",
   "execution_count": 63,
   "id": "aea770b6-45e3-4ef0-96d8-ca39b016756e",
   "metadata": {},
   "outputs": [
    {
     "data": {
      "text/plain": [
       "datetime.datetime(2023, 1, 1, 0, 0)"
      ]
     },
     "execution_count": 63,
     "metadata": {},
     "output_type": "execute_result"
    }
   ],
   "source": [
    "dt"
   ]
  },
  {
   "cell_type": "code",
   "execution_count": 70,
   "id": "5946334a-52e7-480f-873c-2fb702268a4c",
   "metadata": {},
   "outputs": [
    {
     "data": {
      "text/plain": [
       "datetime.datetime(2023, 1, 1, 0, 0)"
      ]
     },
     "execution_count": 70,
     "metadata": {},
     "output_type": "execute_result"
    }
   ],
   "source": [
    "datetime.strptime(date, \"%Y-%m-%d %H:%M:%S\")"
   ]
  },
  {
   "cell_type": "code",
   "execution_count": null,
   "id": "2786bc00-da3a-4e96-b602-37ea63daeb73",
   "metadata": {},
   "outputs": [],
   "source": []
  },
  {
   "cell_type": "code",
   "execution_count": null,
   "id": "fc7aafd3-1f9e-41a2-8e68-aa3d43ab0ed8",
   "metadata": {},
   "outputs": [],
   "source": []
  },
  {
   "cell_type": "markdown",
   "id": "dd2e1758-2200-4d29-9ae2-dc8e92a114f0",
   "metadata": {},
   "source": [
    "## 231~240"
   ]
  },
  {
   "cell_type": "code",
   "execution_count": null,
   "id": "699f2678-e2ea-4139-9e55-3539f51d9a5e",
   "metadata": {},
   "outputs": [],
   "source": []
  },
  {
   "cell_type": "code",
   "execution_count": null,
   "id": "5331b152-758c-41f9-965b-0ff6e9d36991",
   "metadata": {},
   "outputs": [],
   "source": []
  },
  {
   "cell_type": "code",
   "execution_count": 72,
   "id": "f2eac73b-dd25-4670-a828-8646fd3e888f",
   "metadata": {},
   "outputs": [
    {
     "data": {
      "text/html": [
       "<div>\n",
       "<style scoped>\n",
       "    .dataframe tbody tr th:only-of-type {\n",
       "        vertical-align: middle;\n",
       "    }\n",
       "\n",
       "    .dataframe tbody tr th {\n",
       "        vertical-align: top;\n",
       "    }\n",
       "\n",
       "    .dataframe thead th {\n",
       "        text-align: right;\n",
       "    }\n",
       "</style>\n",
       "<table border=\"1\" class=\"dataframe\">\n",
       "  <thead>\n",
       "    <tr style=\"text-align: right;\">\n",
       "      <th></th>\n",
       "      <th>카카오</th>\n",
       "      <th>NAVER</th>\n",
       "      <th>삼성전자</th>\n",
       "    </tr>\n",
       "  </thead>\n",
       "  <tbody>\n",
       "    <tr>\n",
       "      <th>2019-12-01</th>\n",
       "      <td>NaN</td>\n",
       "      <td>52</td>\n",
       "      <td>17</td>\n",
       "    </tr>\n",
       "    <tr>\n",
       "      <th>2020-12-01</th>\n",
       "      <td>221.0</td>\n",
       "      <td>47</td>\n",
       "      <td>21</td>\n",
       "    </tr>\n",
       "    <tr>\n",
       "      <th>2021-12-01</th>\n",
       "      <td>35.0</td>\n",
       "      <td>3</td>\n",
       "      <td>13</td>\n",
       "    </tr>\n",
       "  </tbody>\n",
       "</table>\n",
       "</div>"
      ],
      "text/plain": [
       "              카카오  NAVER  삼성전자\n",
       "2019-12-01    NaN     52    17\n",
       "2020-12-01  221.0     47    21\n",
       "2021-12-01   35.0      3    13"
      ]
     },
     "execution_count": 72,
     "metadata": {},
     "output_type": "execute_result"
    }
   ],
   "source": [
    "import numpy as np\n",
    "import pandas as pd\n",
    "from datetime import datetime\n",
    "\n",
    "data = {\n",
    "    \"카카오\": [np.nan, 221, 35], \n",
    "    \"NAVER\": [52, 47, 3],\n",
    "    \"삼성전자\": [17, 21, 13]\n",
    "}\n",
    "index = [datetime(2019, 12, 1), datetime(2020, 12, 1), datetime(2021, 12, 1)]\n",
    "df = pd.DataFrame(data=data, index=index)\n",
    "df"
   ]
  },
  {
   "cell_type": "code",
   "execution_count": 73,
   "id": "d1495379-3a4f-4947-8ed9-47a8324dfc8a",
   "metadata": {},
   "outputs": [],
   "source": [
    "import pandas as pd\n",
    "from datetime import datetime\n",
    "\n",
    "data = {\n",
    "    \"카카오\": [np.nan, 221, 35], \n",
    "    \"NAVER\": [52, 47, 3],\n",
    "    \"삼성전자\": [17, 21, 13]\n",
    "}\n",
    "index = [datetime(2019, 12, 1), datetime(2020, 12, 1), datetime(2021, 12, 1)]\n",
    "df = pd.DataFrame(data=data, index=index)"
   ]
  },
  {
   "cell_type": "code",
   "execution_count": 74,
   "id": "33d33f0d-11f9-4bf9-bc69-a8272bd2969b",
   "metadata": {},
   "outputs": [
    {
     "data": {
      "text/html": [
       "<div>\n",
       "<style scoped>\n",
       "    .dataframe tbody tr th:only-of-type {\n",
       "        vertical-align: middle;\n",
       "    }\n",
       "\n",
       "    .dataframe tbody tr th {\n",
       "        vertical-align: top;\n",
       "    }\n",
       "\n",
       "    .dataframe thead th {\n",
       "        text-align: right;\n",
       "    }\n",
       "</style>\n",
       "<table border=\"1\" class=\"dataframe\">\n",
       "  <thead>\n",
       "    <tr style=\"text-align: right;\">\n",
       "      <th></th>\n",
       "      <th>카카오</th>\n",
       "      <th>NAVER</th>\n",
       "      <th>삼성전자</th>\n",
       "    </tr>\n",
       "  </thead>\n",
       "  <tbody>\n",
       "    <tr>\n",
       "      <th>2019-12-01</th>\n",
       "      <td>NaN</td>\n",
       "      <td>52</td>\n",
       "      <td>17</td>\n",
       "    </tr>\n",
       "    <tr>\n",
       "      <th>2020-12-01</th>\n",
       "      <td>221.0</td>\n",
       "      <td>47</td>\n",
       "      <td>21</td>\n",
       "    </tr>\n",
       "    <tr>\n",
       "      <th>2021-12-01</th>\n",
       "      <td>35.0</td>\n",
       "      <td>3</td>\n",
       "      <td>13</td>\n",
       "    </tr>\n",
       "  </tbody>\n",
       "</table>\n",
       "</div>"
      ],
      "text/plain": [
       "              카카오  NAVER  삼성전자\n",
       "2019-12-01    NaN     52    17\n",
       "2020-12-01  221.0     47    21\n",
       "2021-12-01   35.0      3    13"
      ]
     },
     "execution_count": 74,
     "metadata": {},
     "output_type": "execute_result"
    }
   ],
   "source": [
    "df"
   ]
  },
  {
   "cell_type": "code",
   "execution_count": 77,
   "id": "274ba3d5-e3fe-4670-bdc4-71d52a1f8c20",
   "metadata": {},
   "outputs": [
    {
     "data": {
      "text/plain": [
       "dtype('<M8[ns]')"
      ]
     },
     "execution_count": 77,
     "metadata": {},
     "output_type": "execute_result"
    }
   ],
   "source": [
    "df.index.dtype"
   ]
  },
  {
   "cell_type": "code",
   "execution_count": 81,
   "id": "e21c8ca7-014a-4a1b-afbe-ddac36894025",
   "metadata": {},
   "outputs": [
    {
     "data": {
      "text/plain": [
       "Timestamp('2019-12-01 00:00:00')"
      ]
     },
     "execution_count": 81,
     "metadata": {},
     "output_type": "execute_result"
    }
   ],
   "source": [
    "df.index[0]"
   ]
  },
  {
   "cell_type": "code",
   "execution_count": 82,
   "id": "c948606d-051e-4647-9ebf-54044c6a4273",
   "metadata": {},
   "outputs": [
    {
     "data": {
      "text/html": [
       "<div>\n",
       "<style scoped>\n",
       "    .dataframe tbody tr th:only-of-type {\n",
       "        vertical-align: middle;\n",
       "    }\n",
       "\n",
       "    .dataframe tbody tr th {\n",
       "        vertical-align: top;\n",
       "    }\n",
       "\n",
       "    .dataframe thead th {\n",
       "        text-align: right;\n",
       "    }\n",
       "</style>\n",
       "<table border=\"1\" class=\"dataframe\">\n",
       "  <thead>\n",
       "    <tr style=\"text-align: right;\">\n",
       "      <th></th>\n",
       "      <th>카카오</th>\n",
       "      <th>NAVER</th>\n",
       "      <th>삼성전자</th>\n",
       "    </tr>\n",
       "  </thead>\n",
       "  <tbody>\n",
       "    <tr>\n",
       "      <th>2021-12-01</th>\n",
       "      <td>35.0</td>\n",
       "      <td>3</td>\n",
       "      <td>13</td>\n",
       "    </tr>\n",
       "  </tbody>\n",
       "</table>\n",
       "</div>"
      ],
      "text/plain": [
       "             카카오  NAVER  삼성전자\n",
       "2021-12-01  35.0      3    13"
      ]
     },
     "execution_count": 82,
     "metadata": {},
     "output_type": "execute_result"
    }
   ],
   "source": [
    "df.loc[\"2021\"]"
   ]
  },
  {
   "cell_type": "code",
   "execution_count": 83,
   "id": "97f13e00-dcb3-4e94-8f9d-d2c1232e577a",
   "metadata": {},
   "outputs": [],
   "source": [
    "dt_range = pd.date_range(start=\"2022-01-01\", end=\"2022-12-31\")"
   ]
  },
  {
   "cell_type": "code",
   "execution_count": 84,
   "id": "1f1e5a28-2b94-47c8-ba73-1495cd53573f",
   "metadata": {},
   "outputs": [
    {
     "data": {
      "text/plain": [
       "DatetimeIndex(['2022-01-01', '2022-01-02', '2022-01-03', '2022-01-04',\n",
       "               '2022-01-05', '2022-01-06', '2022-01-07', '2022-01-08',\n",
       "               '2022-01-09', '2022-01-10',\n",
       "               ...\n",
       "               '2022-12-22', '2022-12-23', '2022-12-24', '2022-12-25',\n",
       "               '2022-12-26', '2022-12-27', '2022-12-28', '2022-12-29',\n",
       "               '2022-12-30', '2022-12-31'],\n",
       "              dtype='datetime64[ns]', length=365, freq='D')"
      ]
     },
     "execution_count": 84,
     "metadata": {},
     "output_type": "execute_result"
    }
   ],
   "source": [
    "dt_range"
   ]
  },
  {
   "cell_type": "code",
   "execution_count": 89,
   "id": "27338f59-8215-4a5d-aa3b-722537b30110",
   "metadata": {},
   "outputs": [],
   "source": [
    "dt = pd.date_range(start=\"2023-01-01\", periods=31)"
   ]
  },
  {
   "cell_type": "code",
   "execution_count": 90,
   "id": "6eb92201-510e-465a-b487-a3ba7c3b152d",
   "metadata": {},
   "outputs": [
    {
     "data": {
      "text/plain": [
       "DatetimeIndex(['2023-01-01', '2023-01-02', '2023-01-03', '2023-01-04',\n",
       "               '2023-01-05', '2023-01-06', '2023-01-07', '2023-01-08',\n",
       "               '2023-01-09', '2023-01-10', '2023-01-11', '2023-01-12',\n",
       "               '2023-01-13', '2023-01-14', '2023-01-15', '2023-01-16',\n",
       "               '2023-01-17', '2023-01-18', '2023-01-19', '2023-01-20',\n",
       "               '2023-01-21', '2023-01-22', '2023-01-23', '2023-01-24',\n",
       "               '2023-01-25', '2023-01-26', '2023-01-27', '2023-01-28',\n",
       "               '2023-01-29', '2023-01-30', '2023-01-31'],\n",
       "              dtype='datetime64[ns]', freq='D')"
      ]
     },
     "execution_count": 90,
     "metadata": {},
     "output_type": "execute_result"
    }
   ],
   "source": [
    "dt"
   ]
  },
  {
   "cell_type": "code",
   "execution_count": 93,
   "id": "3b53a2f2-25d9-4d05-be66-841d1ee8ff7c",
   "metadata": {},
   "outputs": [],
   "source": [
    "dt1=pd.date_range(start=\"2023-01-01 09:00:00\", periods=5)"
   ]
  },
  {
   "cell_type": "code",
   "execution_count": 94,
   "id": "471fbbb6-f1b9-4343-8ffd-099b50e15bae",
   "metadata": {},
   "outputs": [
    {
     "data": {
      "text/plain": [
       "DatetimeIndex(['2023-01-01 09:00:00', '2023-01-02 09:00:00',\n",
       "               '2023-01-03 09:00:00', '2023-01-04 09:00:00',\n",
       "               '2023-01-05 09:00:00'],\n",
       "              dtype='datetime64[ns]', freq='D')"
      ]
     },
     "execution_count": 94,
     "metadata": {},
     "output_type": "execute_result"
    }
   ],
   "source": [
    "dt1"
   ]
  },
  {
   "cell_type": "code",
   "execution_count": 97,
   "id": "f81c3a5c-0345-48a8-ad00-abb0ca96cab7",
   "metadata": {},
   "outputs": [
    {
     "name": "stdout",
     "output_type": "stream",
     "text": [
      "Collecting pyupbitNote: you may need to restart the kernel to use updated packages.\n",
      "  Downloading pyupbit-0.2.33-py3-none-any.whl (24 kB)\n",
      "Collecting websockets\n",
      "  Downloading websockets-10.4-cp39-cp39-win_amd64.whl (101 kB)\n",
      "Requirement already satisfied: pandas in c:\\users\\user\\anaconda3\\lib\\site-packages (from pyupbit) (1.4.2)\n",
      "\n",
      "Requirement already satisfied: pyjwt>=2.0.0 in c:\\users\\user\\anaconda3\\lib\\site-packages (from pyupbit) (2.1.0)\n",
      "Requirement already satisfied: requests in c:\\users\\user\\anaconda3\\lib\\site-packages (from pyupbit) (2.27.1)\n",
      "Requirement already satisfied: python-dateutil>=2.8.1 in c:\\users\\user\\anaconda3\\lib\\site-packages (from pandas->pyupbit) (2.8.2)\n",
      "Requirement already satisfied: pytz>=2020.1 in c:\\users\\user\\anaconda3\\lib\\site-packages (from pandas->pyupbit) (2021.3)\n",
      "Requirement already satisfied: numpy>=1.18.5 in c:\\users\\user\\anaconda3\\lib\\site-packages (from pandas->pyupbit) (1.21.5)\n",
      "Requirement already satisfied: six>=1.5 in c:\\users\\user\\anaconda3\\lib\\site-packages (from python-dateutil>=2.8.1->pandas->pyupbit) (1.16.0)\n",
      "Requirement already satisfied: idna<4,>=2.5 in c:\\users\\user\\anaconda3\\lib\\site-packages (from requests->pyupbit) (3.3)\n",
      "Requirement already satisfied: certifi>=2017.4.17 in c:\\users\\user\\anaconda3\\lib\\site-packages (from requests->pyupbit) (2021.10.8)\n",
      "Requirement already satisfied: urllib3<1.27,>=1.21.1 in c:\\users\\user\\anaconda3\\lib\\site-packages (from requests->pyupbit) (1.26.9)\n",
      "Requirement already satisfied: charset-normalizer~=2.0.0 in c:\\users\\user\\anaconda3\\lib\\site-packages (from requests->pyupbit) (2.0.4)\n",
      "Installing collected packages: websockets, pyupbit\n",
      "Successfully installed pyupbit-0.2.33 websockets-10.4\n"
     ]
    }
   ],
   "source": [
    "pip install pyupbit"
   ]
  },
  {
   "cell_type": "code",
   "execution_count": 98,
   "id": "f01785b3-626b-4c76-b76d-05230b94e4a2",
   "metadata": {},
   "outputs": [],
   "source": [
    "import pyupbit"
   ]
  },
  {
   "cell_type": "code",
   "execution_count": 99,
   "id": "9d7fed53-ef42-4cdc-b42d-a4f61fbd7fe3",
   "metadata": {},
   "outputs": [],
   "source": [
    "df = pyupbit.get_ohlcv(\"KRW-BTC\")"
   ]
  },
  {
   "cell_type": "code",
   "execution_count": 107,
   "id": "6cf75797-39b7-4b4c-99bc-83ba5abe229e",
   "metadata": {},
   "outputs": [
    {
     "data": {
      "text/html": [
       "<div>\n",
       "<style scoped>\n",
       "    .dataframe tbody tr th:only-of-type {\n",
       "        vertical-align: middle;\n",
       "    }\n",
       "\n",
       "    .dataframe tbody tr th {\n",
       "        vertical-align: top;\n",
       "    }\n",
       "\n",
       "    .dataframe thead th {\n",
       "        text-align: right;\n",
       "    }\n",
       "</style>\n",
       "<table border=\"1\" class=\"dataframe\">\n",
       "  <thead>\n",
       "    <tr style=\"text-align: right;\">\n",
       "      <th></th>\n",
       "      <th>open</th>\n",
       "      <th>high</th>\n",
       "      <th>low</th>\n",
       "      <th>close</th>\n",
       "      <th>volume</th>\n",
       "      <th>value</th>\n",
       "    </tr>\n",
       "  </thead>\n",
       "  <tbody>\n",
       "    <tr>\n",
       "      <th>2022-05-14 09:00:00</th>\n",
       "      <td>39270000.0</td>\n",
       "      <td>40243000.0</td>\n",
       "      <td>38400000.0</td>\n",
       "      <td>39967000.0</td>\n",
       "      <td>5512.195620</td>\n",
       "      <td>2.170088e+11</td>\n",
       "    </tr>\n",
       "    <tr>\n",
       "      <th>2022-05-15 09:00:00</th>\n",
       "      <td>39967000.0</td>\n",
       "      <td>41000000.0</td>\n",
       "      <td>39270000.0</td>\n",
       "      <td>40906000.0</td>\n",
       "      <td>4277.655034</td>\n",
       "      <td>1.706726e+11</td>\n",
       "    </tr>\n",
       "    <tr>\n",
       "      <th>2022-05-16 09:00:00</th>\n",
       "      <td>40902000.0</td>\n",
       "      <td>40940000.0</td>\n",
       "      <td>38620000.0</td>\n",
       "      <td>39256000.0</td>\n",
       "      <td>5678.833853</td>\n",
       "      <td>2.243704e+11</td>\n",
       "    </tr>\n",
       "    <tr>\n",
       "      <th>2022-05-17 09:00:00</th>\n",
       "      <td>39260000.0</td>\n",
       "      <td>39900000.0</td>\n",
       "      <td>38416000.0</td>\n",
       "      <td>39259000.0</td>\n",
       "      <td>5356.753182</td>\n",
       "      <td>2.105359e+11</td>\n",
       "    </tr>\n",
       "    <tr>\n",
       "      <th>2022-05-18 09:00:00</th>\n",
       "      <td>39260000.0</td>\n",
       "      <td>39464000.0</td>\n",
       "      <td>37001000.0</td>\n",
       "      <td>37099000.0</td>\n",
       "      <td>6367.452230</td>\n",
       "      <td>2.430866e+11</td>\n",
       "    </tr>\n",
       "    <tr>\n",
       "      <th>...</th>\n",
       "      <td>...</td>\n",
       "      <td>...</td>\n",
       "      <td>...</td>\n",
       "      <td>...</td>\n",
       "      <td>...</td>\n",
       "      <td>...</td>\n",
       "    </tr>\n",
       "    <tr>\n",
       "      <th>2022-11-25 09:00:00</th>\n",
       "      <td>22735000.0</td>\n",
       "      <td>22794000.0</td>\n",
       "      <td>22370000.0</td>\n",
       "      <td>22676000.0</td>\n",
       "      <td>3000.133450</td>\n",
       "      <td>6.780632e+10</td>\n",
       "    </tr>\n",
       "    <tr>\n",
       "      <th>2022-11-26 09:00:00</th>\n",
       "      <td>22677000.0</td>\n",
       "      <td>22862000.0</td>\n",
       "      <td>22605000.0</td>\n",
       "      <td>22660000.0</td>\n",
       "      <td>2148.775806</td>\n",
       "      <td>4.886589e+10</td>\n",
       "    </tr>\n",
       "    <tr>\n",
       "      <th>2022-11-27 09:00:00</th>\n",
       "      <td>22646000.0</td>\n",
       "      <td>22774000.0</td>\n",
       "      <td>22605000.0</td>\n",
       "      <td>22646000.0</td>\n",
       "      <td>1989.051138</td>\n",
       "      <td>4.517556e+10</td>\n",
       "    </tr>\n",
       "    <tr>\n",
       "      <th>2022-11-28 09:00:00</th>\n",
       "      <td>22661000.0</td>\n",
       "      <td>22690000.0</td>\n",
       "      <td>22217000.0</td>\n",
       "      <td>22339000.0</td>\n",
       "      <td>3579.090571</td>\n",
       "      <td>8.021448e+10</td>\n",
       "    </tr>\n",
       "    <tr>\n",
       "      <th>2022-11-29 09:00:00</th>\n",
       "      <td>22329000.0</td>\n",
       "      <td>22590000.0</td>\n",
       "      <td>22155000.0</td>\n",
       "      <td>22560000.0</td>\n",
       "      <td>1618.643278</td>\n",
       "      <td>3.629771e+10</td>\n",
       "    </tr>\n",
       "  </tbody>\n",
       "</table>\n",
       "<p>200 rows × 6 columns</p>\n",
       "</div>"
      ],
      "text/plain": [
       "                           open        high         low       close  \\\n",
       "2022-05-14 09:00:00  39270000.0  40243000.0  38400000.0  39967000.0   \n",
       "2022-05-15 09:00:00  39967000.0  41000000.0  39270000.0  40906000.0   \n",
       "2022-05-16 09:00:00  40902000.0  40940000.0  38620000.0  39256000.0   \n",
       "2022-05-17 09:00:00  39260000.0  39900000.0  38416000.0  39259000.0   \n",
       "2022-05-18 09:00:00  39260000.0  39464000.0  37001000.0  37099000.0   \n",
       "...                         ...         ...         ...         ...   \n",
       "2022-11-25 09:00:00  22735000.0  22794000.0  22370000.0  22676000.0   \n",
       "2022-11-26 09:00:00  22677000.0  22862000.0  22605000.0  22660000.0   \n",
       "2022-11-27 09:00:00  22646000.0  22774000.0  22605000.0  22646000.0   \n",
       "2022-11-28 09:00:00  22661000.0  22690000.0  22217000.0  22339000.0   \n",
       "2022-11-29 09:00:00  22329000.0  22590000.0  22155000.0  22560000.0   \n",
       "\n",
       "                          volume         value  \n",
       "2022-05-14 09:00:00  5512.195620  2.170088e+11  \n",
       "2022-05-15 09:00:00  4277.655034  1.706726e+11  \n",
       "2022-05-16 09:00:00  5678.833853  2.243704e+11  \n",
       "2022-05-17 09:00:00  5356.753182  2.105359e+11  \n",
       "2022-05-18 09:00:00  6367.452230  2.430866e+11  \n",
       "...                          ...           ...  \n",
       "2022-11-25 09:00:00  3000.133450  6.780632e+10  \n",
       "2022-11-26 09:00:00  2148.775806  4.886589e+10  \n",
       "2022-11-27 09:00:00  1989.051138  4.517556e+10  \n",
       "2022-11-28 09:00:00  3579.090571  8.021448e+10  \n",
       "2022-11-29 09:00:00  1618.643278  3.629771e+10  \n",
       "\n",
       "[200 rows x 6 columns]"
      ]
     },
     "execution_count": 107,
     "metadata": {},
     "output_type": "execute_result"
    }
   ],
   "source": [
    "df"
   ]
  },
  {
   "cell_type": "code",
   "execution_count": 109,
   "id": "071f1821-4514-4e84-af51-de0f36467b9c",
   "metadata": {},
   "outputs": [
    {
     "data": {
      "text/plain": [
       "DatetimeIndex(['2022-05-14 09:00:00', '2022-05-15 09:00:00',\n",
       "               '2022-05-16 09:00:00', '2022-05-17 09:00:00',\n",
       "               '2022-05-18 09:00:00', '2022-05-19 09:00:00',\n",
       "               '2022-05-20 09:00:00', '2022-05-21 09:00:00',\n",
       "               '2022-05-22 09:00:00', '2022-05-23 09:00:00',\n",
       "               ...\n",
       "               '2022-11-20 09:00:00', '2022-11-21 09:00:00',\n",
       "               '2022-11-22 09:00:00', '2022-11-23 09:00:00',\n",
       "               '2022-11-24 09:00:00', '2022-11-25 09:00:00',\n",
       "               '2022-11-26 09:00:00', '2022-11-27 09:00:00',\n",
       "               '2022-11-28 09:00:00', '2022-11-29 09:00:00'],\n",
       "              dtype='datetime64[ns]', length=200, freq=None)"
      ]
     },
     "execution_count": 109,
     "metadata": {},
     "output_type": "execute_result"
    }
   ],
   "source": [
    "df.index"
   ]
  },
  {
   "cell_type": "code",
   "execution_count": 111,
   "id": "a6614677-a79f-4b53-ba9e-196e826876c8",
   "metadata": {},
   "outputs": [
    {
     "data": {
      "text/plain": [
       "1669718202"
      ]
     },
     "execution_count": 111,
     "metadata": {},
     "output_type": "execute_result"
    }
   ],
   "source": [
    "int(now.timestamp())"
   ]
  },
  {
   "cell_type": "code",
   "execution_count": 117,
   "id": "959125ed-1dad-45fd-8c7d-5656b8cdd322",
   "metadata": {},
   "outputs": [],
   "source": [
    "now = datetime.now()"
   ]
  },
  {
   "cell_type": "code",
   "execution_count": 118,
   "id": "5d38ffbe-d8b1-42d2-adfd-068f20f38909",
   "metadata": {},
   "outputs": [
    {
     "data": {
      "text/plain": [
       "datetime.datetime(2022, 11, 29, 20, 3, 17, 181841)"
      ]
     },
     "execution_count": 118,
     "metadata": {},
     "output_type": "execute_result"
    }
   ],
   "source": [
    "now"
   ]
  },
  {
   "cell_type": "code",
   "execution_count": 119,
   "id": "ae8ffc1e-5ff7-4e9f-ae90-546a4e22b11c",
   "metadata": {},
   "outputs": [],
   "source": [
    "ts = pd.Timestamp(now)"
   ]
  },
  {
   "cell_type": "code",
   "execution_count": 120,
   "id": "b68a13d3-c191-439e-be73-ee9a824a0cd4",
   "metadata": {},
   "outputs": [
    {
     "data": {
      "text/plain": [
       "datetime.datetime(2022, 11, 29, 20, 3, 17, 181841)"
      ]
     },
     "execution_count": 120,
     "metadata": {},
     "output_type": "execute_result"
    }
   ],
   "source": [
    "ts.to_pydatetime()"
   ]
  },
  {
   "cell_type": "code",
   "execution_count": 121,
   "id": "2538b32f-132d-4ac8-8ea3-2ea50d536ecb",
   "metadata": {},
   "outputs": [
    {
     "data": {
      "text/plain": [
       "datetime.datetime(2022, 11, 29, 20, 3, 17, 181841)"
      ]
     },
     "execution_count": 121,
     "metadata": {},
     "output_type": "execute_result"
    }
   ],
   "source": [
    "now"
   ]
  },
  {
   "cell_type": "code",
   "execution_count": null,
   "id": "c491a211-db29-42c6-8716-ee3887865576",
   "metadata": {},
   "outputs": [],
   "source": []
  },
  {
   "cell_type": "code",
   "execution_count": null,
   "id": "649c1939-323f-4104-aecf-0f7cd6f6e751",
   "metadata": {},
   "outputs": [],
   "source": []
  },
  {
   "cell_type": "code",
   "execution_count": null,
   "id": "56453ff6-3c02-4f0e-b368-ca9fa03188f2",
   "metadata": {},
   "outputs": [],
   "source": []
  }
 ],
 "metadata": {
  "kernelspec": {
   "display_name": "Python 3 (ipykernel)",
   "language": "python",
   "name": "python3"
  },
  "language_info": {
   "codemirror_mode": {
    "name": "ipython",
    "version": 3
   },
   "file_extension": ".py",
   "mimetype": "text/x-python",
   "name": "python",
   "nbconvert_exporter": "python",
   "pygments_lexer": "ipython3",
   "version": "3.9.12"
  }
 },
 "nbformat": 4,
 "nbformat_minor": 5
}
