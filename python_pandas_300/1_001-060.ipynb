{
 "cells": [
  {
   "cell_type": "markdown",
   "id": "123c9402-c18e-40b8-b044-31103834bf89",
   "metadata": {},
   "source": [
    "# 1. 넘파이"
   ]
  },
  {
   "cell_type": "code",
   "execution_count": null,
   "id": "aa88ded3-9ea0-451a-94f0-f3d06d83f878",
   "metadata": {},
   "outputs": [],
   "source": []
  },
  {
   "cell_type": "code",
   "execution_count": null,
   "id": "154b91e5-33b1-435b-b267-a887e1455cfd",
   "metadata": {},
   "outputs": [],
   "source": []
  },
  {
   "cell_type": "markdown",
   "id": "accd188a-dfc5-4e70-bb07-cc6a647a28d5",
   "metadata": {},
   "source": [
    "## 1~10"
   ]
  },
  {
   "cell_type": "code",
   "execution_count": null,
   "id": "26b6710a-02a9-435f-a04f-c54735efec7d",
   "metadata": {},
   "outputs": [],
   "source": []
  },
  {
   "cell_type": "code",
   "execution_count": null,
   "id": "5e7b3090-6084-45d8-9ecd-6acb846828d8",
   "metadata": {},
   "outputs": [],
   "source": []
  },
  {
   "cell_type": "code",
   "execution_count": 53,
   "id": "c60c4083-ba76-489a-91fb-7ef670afd7ed",
   "metadata": {},
   "outputs": [],
   "source": [
    "import numpy as np"
   ]
  },
  {
   "cell_type": "code",
   "execution_count": 54,
   "id": "60df8f6b-6f27-4b20-9f3e-ad35e39aef4e",
   "metadata": {},
   "outputs": [],
   "source": [
    "data = [1, 2, 3]"
   ]
  },
  {
   "cell_type": "code",
   "execution_count": 55,
   "id": "12f41d6c-8f0f-49c2-934f-3bb25c632c6b",
   "metadata": {},
   "outputs": [
    {
     "data": {
      "text/plain": [
       "array([1, 2, 3])"
      ]
     },
     "execution_count": 55,
     "metadata": {},
     "output_type": "execute_result"
    }
   ],
   "source": [
    "np.array(data)"
   ]
  },
  {
   "cell_type": "code",
   "execution_count": 56,
   "id": "2b979a44-c6a5-4947-b3cb-7caf9b39e43d",
   "metadata": {},
   "outputs": [
    {
     "data": {
      "text/plain": [
       "array([ 0,  1,  2,  3,  4,  5,  6,  7,  8,  9, 10, 11, 12, 13, 14, 15, 16,\n",
       "       17, 18, 19, 20, 21, 22, 23, 24, 25, 26, 27, 28, 29, 30, 31, 32, 33,\n",
       "       34, 35, 36, 37, 38, 39, 40, 41, 42, 43, 44, 45, 46, 47, 48, 49, 50,\n",
       "       51, 52, 53, 54, 55, 56, 57, 58, 59, 60, 61, 62, 63, 64, 65, 66, 67,\n",
       "       68, 69, 70, 71, 72, 73, 74, 75, 76, 77, 78, 79, 80, 81, 82, 83, 84,\n",
       "       85, 86, 87, 88, 89, 90, 91, 92, 93, 94, 95, 96, 97, 98, 99])"
      ]
     },
     "execution_count": 56,
     "metadata": {},
     "output_type": "execute_result"
    }
   ],
   "source": [
    "data =[]\n",
    "for i in range(100) :\n",
    "    data.append(i)\n",
    "np.array(data)"
   ]
  },
  {
   "cell_type": "code",
   "execution_count": 57,
   "id": "54588548-4b3e-4d3b-9200-63d22e02fb91",
   "metadata": {},
   "outputs": [
    {
     "data": {
      "text/plain": [
       "array([ 0,  1,  2,  3,  4,  5,  6,  7,  8,  9, 10, 11, 12, 13, 14, 15, 16,\n",
       "       17, 18, 19, 20, 21, 22, 23, 24, 25, 26, 27, 28, 29, 30, 31, 32, 33,\n",
       "       34, 35, 36, 37, 38, 39, 40, 41, 42, 43, 44, 45, 46, 47, 48, 49, 50,\n",
       "       51, 52, 53, 54, 55, 56, 57, 58, 59, 60, 61, 62, 63, 64, 65, 66, 67,\n",
       "       68, 69, 70, 71, 72, 73, 74, 75, 76, 77, 78, 79, 80, 81, 82, 83, 84,\n",
       "       85, 86, 87, 88, 89, 90, 91, 92, 93, 94, 95, 96, 97, 98, 99])"
      ]
     },
     "execution_count": 57,
     "metadata": {},
     "output_type": "execute_result"
    }
   ],
   "source": [
    "np.arange(100)"
   ]
  },
  {
   "cell_type": "code",
   "execution_count": 58,
   "id": "729dd894-70cc-4568-8b69-413ca205b76f",
   "metadata": {},
   "outputs": [
    {
     "data": {
      "text/plain": [
       "array([ 3,  6,  9, 12, 15, 18, 21, 24, 27])"
      ]
     },
     "execution_count": 58,
     "metadata": {},
     "output_type": "execute_result"
    }
   ],
   "source": [
    "data=[]\n",
    "for i in range(1, 10) :\n",
    "    k = 3 * i\n",
    "    data.append(k)\n",
    "np.array(data)"
   ]
  },
  {
   "cell_type": "code",
   "execution_count": 59,
   "id": "a7e7713f-e660-4937-ad0d-caf2996738d6",
   "metadata": {},
   "outputs": [],
   "source": [
    "arr= np.arange(1,10) * 3"
   ]
  },
  {
   "cell_type": "code",
   "execution_count": 60,
   "id": "e4cef914-b528-4adc-935c-64b95b5868a3",
   "metadata": {},
   "outputs": [
    {
     "data": {
      "text/plain": [
       "array([ 3,  6,  9, 12, 15, 18, 21, 24, 27])"
      ]
     },
     "execution_count": 60,
     "metadata": {},
     "output_type": "execute_result"
    }
   ],
   "source": [
    "arr"
   ]
  },
  {
   "cell_type": "code",
   "execution_count": 61,
   "id": "3859aa8e-d2bf-48bc-9aa3-5ff862f51800",
   "metadata": {
    "tags": []
   },
   "outputs": [
    {
     "data": {
      "text/plain": [
       "array([  2,   4,   6,   8,  10,  12,  14,  16,  18,  20,  22,  24,  26,\n",
       "        28,  30,  32,  34,  36,  38,  40,  42,  44,  46,  48,  50,  52,\n",
       "        54,  56,  58,  60,  62,  64,  66,  68,  70,  72,  74,  76,  78,\n",
       "        80,  82,  84,  86,  88,  90,  92,  94,  96,  98, 100, 102, 104,\n",
       "       106, 108, 110, 112, 114, 116, 118, 120, 122, 124, 126, 128, 130,\n",
       "       132, 134, 136, 138, 140, 142, 144, 146, 148, 150, 152, 154, 156,\n",
       "       158, 160, 162, 164, 166, 168, 170, 172, 174, 176, 178, 180, 182,\n",
       "       184, 186, 188, 190, 192, 194, 196, 198, 200, 202, 204, 206, 208,\n",
       "       210, 212, 214, 216, 218, 220, 222, 224, 226, 228, 230, 232, 234,\n",
       "       236, 238, 240, 242, 244, 246, 248, 250, 252, 254, 256, 258, 260,\n",
       "       262, 264, 266, 268, 270, 272, 274, 276, 278, 280, 282, 284, 286,\n",
       "       288, 290, 292, 294, 296, 298, 300, 302, 304, 306, 308, 310, 312,\n",
       "       314, 316, 318, 320, 322, 324, 326, 328, 330, 332, 334, 336, 338,\n",
       "       340, 342, 344, 346, 348, 350, 352, 354, 356, 358, 360, 362, 364,\n",
       "       366, 368, 370, 372, 374, 376, 378, 380, 382, 384, 386, 388, 390,\n",
       "       392, 394, 396, 398, 400, 402, 404, 406, 408, 410, 412, 414, 416,\n",
       "       418, 420, 422, 424, 426, 428, 430, 432, 434, 436, 438, 440, 442,\n",
       "       444, 446, 448, 450, 452, 454, 456, 458, 460, 462, 464, 466, 468,\n",
       "       470, 472, 474, 476, 478, 480, 482, 484, 486, 488, 490, 492, 494,\n",
       "       496, 498, 500, 502, 504, 506, 508, 510, 512, 514, 516, 518, 520,\n",
       "       522, 524, 526, 528, 530, 532, 534, 536, 538, 540, 542, 544, 546,\n",
       "       548, 550, 552, 554, 556, 558, 560, 562, 564, 566, 568, 570, 572,\n",
       "       574, 576, 578, 580, 582, 584, 586, 588, 590, 592, 594, 596, 598,\n",
       "       600, 602, 604, 606, 608, 610, 612, 614, 616, 618, 620, 622, 624,\n",
       "       626, 628, 630, 632, 634, 636, 638, 640, 642, 644, 646, 648, 650,\n",
       "       652, 654, 656, 658, 660, 662, 664, 666, 668, 670, 672, 674, 676,\n",
       "       678, 680, 682, 684, 686, 688, 690, 692, 694, 696, 698, 700, 702,\n",
       "       704, 706, 708, 710, 712, 714, 716, 718, 720, 722, 724, 726, 728,\n",
       "       730, 732, 734, 736, 738, 740, 742, 744, 746, 748, 750, 752, 754,\n",
       "       756, 758, 760, 762, 764, 766, 768, 770, 772, 774, 776, 778, 780,\n",
       "       782, 784, 786, 788, 790, 792, 794, 796, 798, 800, 802, 804, 806,\n",
       "       808, 810, 812, 814, 816, 818, 820, 822, 824, 826, 828, 830, 832,\n",
       "       834, 836, 838, 840, 842, 844, 846, 848, 850, 852, 854, 856, 858,\n",
       "       860, 862, 864, 866, 868, 870, 872, 874, 876, 878, 880, 882, 884,\n",
       "       886, 888, 890, 892, 894, 896, 898, 900, 902, 904, 906, 908, 910,\n",
       "       912, 914, 916, 918, 920, 922, 924, 926, 928, 930, 932, 934, 936,\n",
       "       938, 940, 942, 944, 946, 948, 950, 952, 954, 956, 958, 960, 962,\n",
       "       964, 966, 968, 970, 972, 974, 976, 978, 980, 982, 984, 986, 988,\n",
       "       990, 992, 994, 996, 998])"
      ]
     },
     "execution_count": 61,
     "metadata": {},
     "output_type": "execute_result"
    }
   ],
   "source": [
    "np.arange(2,1000,2)"
   ]
  },
  {
   "cell_type": "code",
   "execution_count": 62,
   "id": "af249ceb-91c7-4ce4-94af-72bc786f1896",
   "metadata": {},
   "outputs": [
    {
     "data": {
      "text/plain": [
       "array([0. , 0.1, 0.2, 0.3, 0.4, 0.5, 0.6, 0.7, 0.8, 0.9])"
      ]
     },
     "execution_count": 62,
     "metadata": {},
     "output_type": "execute_result"
    }
   ],
   "source": [
    "np.arange(0.0,1.0,0.1)"
   ]
  },
  {
   "cell_type": "code",
   "execution_count": 63,
   "id": "1f44dc21-4ae4-4310-88a9-a207038d6685",
   "metadata": {},
   "outputs": [],
   "source": [
    "data = [0, 1, 2, 3, 4, 5]"
   ]
  },
  {
   "cell_type": "code",
   "execution_count": 64,
   "id": "4f8cd98e-87b0-44fc-9bdf-4ef22cef77de",
   "metadata": {},
   "outputs": [
    {
     "data": {
      "text/plain": [
       "array([0, 1, 2, 3, 4, 5])"
      ]
     },
     "execution_count": 64,
     "metadata": {},
     "output_type": "execute_result"
    }
   ],
   "source": [
    "np.asarray(data)"
   ]
  },
  {
   "cell_type": "code",
   "execution_count": 65,
   "id": "69c015d5-4c46-46bf-9085-01aff898bb75",
   "metadata": {},
   "outputs": [
    {
     "data": {
      "text/plain": [
       "array([[0, 1, 2],\n",
       "       [3, 4, 5]])"
      ]
     },
     "execution_count": 65,
     "metadata": {},
     "output_type": "execute_result"
    }
   ],
   "source": [
    "np.asarray(data).reshape(2,-1)"
   ]
  },
  {
   "cell_type": "code",
   "execution_count": 66,
   "id": "8351f39a-64c4-4f0c-80fd-70036b0464cb",
   "metadata": {},
   "outputs": [],
   "source": [
    "arr = np.array([\n",
    "    [0, 1, 2],\n",
    "    [3, 4, 5]\n",
    "])"
   ]
  },
  {
   "cell_type": "code",
   "execution_count": 67,
   "id": "933e014a-259b-40ef-b9cc-660825ec2925",
   "metadata": {},
   "outputs": [
    {
     "data": {
      "text/plain": [
       "array([0, 1, 2, 3, 4, 5])"
      ]
     },
     "execution_count": 67,
     "metadata": {},
     "output_type": "execute_result"
    }
   ],
   "source": [
    "arr.reshape(6)"
   ]
  },
  {
   "cell_type": "code",
   "execution_count": 68,
   "id": "d0e6003b-cfdd-48e4-9d84-f1fd5f87268c",
   "metadata": {},
   "outputs": [],
   "source": [
    "arr = np.arange(3)"
   ]
  },
  {
   "cell_type": "code",
   "execution_count": 69,
   "id": "105c66ab-affd-48f8-a20f-29a0a705eabd",
   "metadata": {},
   "outputs": [
    {
     "data": {
      "text/plain": [
       "array([0, 1, 2])"
      ]
     },
     "execution_count": 69,
     "metadata": {},
     "output_type": "execute_result"
    }
   ],
   "source": [
    "arr"
   ]
  },
  {
   "cell_type": "code",
   "execution_count": 70,
   "id": "ea5543f6-9f5b-47f3-91fc-fefd38654c69",
   "metadata": {},
   "outputs": [
    {
     "data": {
      "text/plain": [
       "array([[0],\n",
       "       [1],\n",
       "       [2]])"
      ]
     },
     "execution_count": 70,
     "metadata": {},
     "output_type": "execute_result"
    }
   ],
   "source": [
    "arr.reshape(3,1)"
   ]
  },
  {
   "cell_type": "code",
   "execution_count": null,
   "id": "4fb149bd-1d89-4b6a-81e2-88f913640725",
   "metadata": {},
   "outputs": [],
   "source": []
  },
  {
   "cell_type": "code",
   "execution_count": null,
   "id": "72e70acc-8472-4a84-ae44-260227966a26",
   "metadata": {},
   "outputs": [],
   "source": []
  },
  {
   "cell_type": "markdown",
   "id": "b1026a73-a811-4c98-b29d-084817a2a01e",
   "metadata": {},
   "source": [
    "## 11~20"
   ]
  },
  {
   "cell_type": "code",
   "execution_count": null,
   "id": "df7a8da8-5844-4fe6-babe-4dfaad1e0de7",
   "metadata": {},
   "outputs": [],
   "source": []
  },
  {
   "cell_type": "code",
   "execution_count": null,
   "id": "dda68933-1181-4971-b096-c79a2652aa0b",
   "metadata": {},
   "outputs": [],
   "source": []
  },
  {
   "cell_type": "raw",
   "id": "5b014680-4bad-4899-8573-760e66aa1b36",
   "metadata": {},
   "source": [
    "[[0 1 2]\n",
    " [3 4 5]]"
   ]
  },
  {
   "cell_type": "code",
   "execution_count": 73,
   "id": "b3a0f831-e587-472e-84e3-c6daccc88bf1",
   "metadata": {},
   "outputs": [
    {
     "data": {
      "text/plain": [
       "array([[0, 1, 2],\n",
       "       [3, 4, 5]])"
      ]
     },
     "execution_count": 73,
     "metadata": {},
     "output_type": "execute_result"
    }
   ],
   "source": [
    "np.arange(6).reshape(2,-1)"
   ]
  },
  {
   "cell_type": "code",
   "execution_count": 76,
   "id": "054260e6-9f31-4bc3-81a6-e824c145f2d2",
   "metadata": {},
   "outputs": [
    {
     "data": {
      "text/plain": [
       "array([], dtype=int32)"
      ]
     },
     "execution_count": 76,
     "metadata": {},
     "output_type": "execute_result"
    }
   ],
   "source": [
    "np.arange(1,0)"
   ]
  },
  {
   "cell_type": "code",
   "execution_count": 81,
   "id": "11098723-249e-42b7-9c88-4c65c05d48e1",
   "metadata": {},
   "outputs": [
    {
     "data": {
      "text/plain": [
       "array([1, 1, 1, 1, 1, 1, 1, 1, 1, 1, 1, 1, 1, 1, 1, 1, 1, 1, 1, 1])"
      ]
     },
     "execution_count": 81,
     "metadata": {},
     "output_type": "execute_result"
    }
   ],
   "source": [
    "np.ones(20, dtype=int)"
   ]
  },
  {
   "cell_type": "code",
   "execution_count": 84,
   "id": "b1356e9a-238c-441f-bde2-8079cf443b03",
   "metadata": {},
   "outputs": [],
   "source": [
    "data = [1] *20"
   ]
  },
  {
   "cell_type": "code",
   "execution_count": 85,
   "id": "580544f0-d46d-45df-8018-0fcc7105699c",
   "metadata": {},
   "outputs": [
    {
     "data": {
      "text/plain": [
       "[1, 1, 1, 1, 1, 1, 1, 1, 1, 1, 1, 1, 1, 1, 1, 1, 1, 1, 1, 1]"
      ]
     },
     "execution_count": 85,
     "metadata": {},
     "output_type": "execute_result"
    }
   ],
   "source": [
    "data"
   ]
  },
  {
   "cell_type": "code",
   "execution_count": 87,
   "id": "9fef4a84-26bb-4601-8a18-5b5ac41babaf",
   "metadata": {},
   "outputs": [
    {
     "data": {
      "text/plain": [
       "array([1, 1, 1, 1, 1, 1, 1, 1, 1, 1, 1, 1, 1, 1, 1, 1, 1, 1, 1, 1])"
      ]
     },
     "execution_count": 87,
     "metadata": {},
     "output_type": "execute_result"
    }
   ],
   "source": [
    "np.array(data)"
   ]
  },
  {
   "cell_type": "code",
   "execution_count": 89,
   "id": "22d81699-8f4d-4472-acac-9862bbcce3da",
   "metadata": {},
   "outputs": [
    {
     "data": {
      "text/plain": [
       "array([[1, 1, 1, 1, 1],\n",
       "       [1, 1, 1, 1, 1],\n",
       "       [1, 1, 1, 1, 1],\n",
       "       [1, 1, 1, 1, 1]])"
      ]
     },
     "execution_count": 89,
     "metadata": {},
     "output_type": "execute_result"
    }
   ],
   "source": [
    "np.ones(20, dtype=int).reshape(4,-1)"
   ]
  },
  {
   "cell_type": "code",
   "execution_count": 90,
   "id": "a3c1a450-536a-4d81-b39f-1a4574669873",
   "metadata": {},
   "outputs": [],
   "source": [
    "arr=np.ones(100, dtype=int).reshape(10,-1)"
   ]
  },
  {
   "cell_type": "code",
   "execution_count": 91,
   "id": "6ad2c130-d457-423b-b913-44b53cb87c6f",
   "metadata": {},
   "outputs": [
    {
     "data": {
      "text/plain": [
       "array([[1, 1, 1, 1, 1, 1, 1, 1, 1, 1],\n",
       "       [1, 1, 1, 1, 1, 1, 1, 1, 1, 1],\n",
       "       [1, 1, 1, 1, 1, 1, 1, 1, 1, 1],\n",
       "       [1, 1, 1, 1, 1, 1, 1, 1, 1, 1],\n",
       "       [1, 1, 1, 1, 1, 1, 1, 1, 1, 1],\n",
       "       [1, 1, 1, 1, 1, 1, 1, 1, 1, 1],\n",
       "       [1, 1, 1, 1, 1, 1, 1, 1, 1, 1],\n",
       "       [1, 1, 1, 1, 1, 1, 1, 1, 1, 1],\n",
       "       [1, 1, 1, 1, 1, 1, 1, 1, 1, 1],\n",
       "       [1, 1, 1, 1, 1, 1, 1, 1, 1, 1]])"
      ]
     },
     "execution_count": 91,
     "metadata": {},
     "output_type": "execute_result"
    }
   ],
   "source": [
    "arr"
   ]
  },
  {
   "cell_type": "code",
   "execution_count": 92,
   "id": "774856bd-8e17-4fe1-b0d9-d270666d56cd",
   "metadata": {},
   "outputs": [
    {
     "data": {
      "text/plain": [
       "array([[255, 255, 255, 255, 255, 255, 255, 255, 255, 255],\n",
       "       [255, 255, 255, 255, 255, 255, 255, 255, 255, 255],\n",
       "       [255, 255, 255, 255, 255, 255, 255, 255, 255, 255],\n",
       "       [255, 255, 255, 255, 255, 255, 255, 255, 255, 255],\n",
       "       [255, 255, 255, 255, 255, 255, 255, 255, 255, 255],\n",
       "       [255, 255, 255, 255, 255, 255, 255, 255, 255, 255],\n",
       "       [255, 255, 255, 255, 255, 255, 255, 255, 255, 255],\n",
       "       [255, 255, 255, 255, 255, 255, 255, 255, 255, 255],\n",
       "       [255, 255, 255, 255, 255, 255, 255, 255, 255, 255],\n",
       "       [255, 255, 255, 255, 255, 255, 255, 255, 255, 255]])"
      ]
     },
     "execution_count": 92,
     "metadata": {},
     "output_type": "execute_result"
    }
   ],
   "source": [
    "arr *255"
   ]
  },
  {
   "cell_type": "code",
   "execution_count": 93,
   "id": "31698d1d-ddf6-4c26-bdca-8c392ace24ea",
   "metadata": {},
   "outputs": [
    {
     "data": {
      "text/plain": [
       "array([[0., 0., 0., 0.],\n",
       "       [0., 0., 0., 0.],\n",
       "       [0., 0., 0., 0.]])"
      ]
     },
     "execution_count": 93,
     "metadata": {},
     "output_type": "execute_result"
    }
   ],
   "source": [
    "np.zeros(12).reshape(3,-1)"
   ]
  },
  {
   "cell_type": "code",
   "execution_count": 95,
   "id": "09b51640-c631-4456-b4c9-2c8c00c7efb2",
   "metadata": {},
   "outputs": [
    {
     "data": {
      "text/plain": [
       "array([[0., 0., 0., 0.],\n",
       "       [0., 0., 0., 0.],\n",
       "       [0., 0., 0., 0.]])"
      ]
     },
     "execution_count": 95,
     "metadata": {},
     "output_type": "execute_result"
    }
   ],
   "source": [
    "np.zeros((3,4))"
   ]
  },
  {
   "cell_type": "code",
   "execution_count": 98,
   "id": "30db70fd-9db5-43ea-a824-6e711fa0304a",
   "metadata": {},
   "outputs": [
    {
     "data": {
      "text/plain": [
       "array([[255., 255., 255., 255., 255., 255., 255., 255., 255., 255.],\n",
       "       [255., 255., 255., 255., 255., 255., 255., 255., 255., 255.],\n",
       "       [255., 255., 255., 255., 255., 255., 255., 255., 255., 255.],\n",
       "       [255., 255., 255., 255., 255., 255., 255., 255., 255., 255.],\n",
       "       [255., 255., 255., 255., 255., 255., 255., 255., 255., 255.],\n",
       "       [255., 255., 255., 255., 255., 255., 255., 255., 255., 255.],\n",
       "       [255., 255., 255., 255., 255., 255., 255., 255., 255., 255.],\n",
       "       [255., 255., 255., 255., 255., 255., 255., 255., 255., 255.],\n",
       "       [255., 255., 255., 255., 255., 255., 255., 255., 255., 255.],\n",
       "       [255., 255., 255., 255., 255., 255., 255., 255., 255., 255.]])"
      ]
     },
     "execution_count": 98,
     "metadata": {},
     "output_type": "execute_result"
    }
   ],
   "source": [
    "np.ones((10,10)) *255"
   ]
  },
  {
   "cell_type": "code",
   "execution_count": 100,
   "id": "300d9421-3dcc-424a-82bb-95393c052f40",
   "metadata": {},
   "outputs": [],
   "source": [
    "data=[1, 2, 3]"
   ]
  },
  {
   "cell_type": "code",
   "execution_count": 101,
   "id": "adf2c2c0-9df9-48c7-b9dc-f5d76bbff268",
   "metadata": {},
   "outputs": [
    {
     "data": {
      "text/plain": [
       "[1, 2, 3]"
      ]
     },
     "execution_count": 101,
     "metadata": {},
     "output_type": "execute_result"
    }
   ],
   "source": [
    "data"
   ]
  },
  {
   "cell_type": "code",
   "execution_count": 103,
   "id": "442bd5c1-1f63-4eba-88fc-4981c99ff840",
   "metadata": {},
   "outputs": [
    {
     "data": {
      "text/plain": [
       "array([1, 2, 3])"
      ]
     },
     "execution_count": 103,
     "metadata": {},
     "output_type": "execute_result"
    }
   ],
   "source": [
    "np.array(data, dtype=np.int32)"
   ]
  },
  {
   "cell_type": "code",
   "execution_count": 104,
   "id": "6c21dd8a-2f6f-4a4d-b204-65109b120f4b",
   "metadata": {},
   "outputs": [],
   "source": [
    "arr = np.array([1, 2, 3])"
   ]
  },
  {
   "cell_type": "code",
   "execution_count": 105,
   "id": "1577da9e-6d74-4d8d-90d0-f1aea2f121f5",
   "metadata": {},
   "outputs": [
    {
     "data": {
      "text/plain": [
       "numpy.ndarray"
      ]
     },
     "execution_count": 105,
     "metadata": {},
     "output_type": "execute_result"
    }
   ],
   "source": [
    "type(arr)"
   ]
  },
  {
   "cell_type": "code",
   "execution_count": 106,
   "id": "5d8f2646-868c-48c7-bcb5-8082c30aa385",
   "metadata": {},
   "outputs": [
    {
     "data": {
      "text/plain": [
       "numpy.dtype[int32]"
      ]
     },
     "execution_count": 106,
     "metadata": {},
     "output_type": "execute_result"
    }
   ],
   "source": [
    "type(arr.dtype)"
   ]
  },
  {
   "cell_type": "code",
   "execution_count": 107,
   "id": "e78bca93-880f-4152-b0b6-1284e706c622",
   "metadata": {},
   "outputs": [
    {
     "data": {
      "text/plain": [
       "dtype('int32')"
      ]
     },
     "execution_count": 107,
     "metadata": {},
     "output_type": "execute_result"
    }
   ],
   "source": [
    "arr.dtype"
   ]
  },
  {
   "cell_type": "code",
   "execution_count": 108,
   "id": "2537eef7-70da-406d-9e20-e070a3cddb95",
   "metadata": {},
   "outputs": [],
   "source": [
    "arr = np.array(['1', '2', '3'])"
   ]
  },
  {
   "cell_type": "code",
   "execution_count": 109,
   "id": "4d3e6730-4a08-42cc-a102-c911273f5d6b",
   "metadata": {},
   "outputs": [
    {
     "data": {
      "text/plain": [
       "numpy.ndarray"
      ]
     },
     "execution_count": 109,
     "metadata": {},
     "output_type": "execute_result"
    }
   ],
   "source": [
    "type(arr)"
   ]
  },
  {
   "cell_type": "code",
   "execution_count": 113,
   "id": "a1502837-041d-48a8-9616-5817a096d1bd",
   "metadata": {},
   "outputs": [
    {
     "data": {
      "text/plain": [
       "numpy.dtype[str_]"
      ]
     },
     "execution_count": 113,
     "metadata": {},
     "output_type": "execute_result"
    }
   ],
   "source": [
    "type(arr.dtype)"
   ]
  },
  {
   "cell_type": "code",
   "execution_count": 114,
   "id": "d8af7df7-23ab-43f7-b81a-b7d0c1a75f3a",
   "metadata": {},
   "outputs": [
    {
     "name": "stdout",
     "output_type": "stream",
     "text": [
      "<U1\n"
     ]
    }
   ],
   "source": [
    "print(arr.dtype)"
   ]
  },
  {
   "cell_type": "code",
   "execution_count": 115,
   "id": "795b6f56-b77f-4166-af51-dcd667baf8ea",
   "metadata": {},
   "outputs": [],
   "source": [
    "arr = np.array([1, 2, 3])"
   ]
  },
  {
   "cell_type": "code",
   "execution_count": 116,
   "id": "645f6f9e-5a2d-4d6d-8520-a6307908f87d",
   "metadata": {},
   "outputs": [
    {
     "name": "stdout",
     "output_type": "stream",
     "text": [
      "int32\n"
     ]
    }
   ],
   "source": [
    "print(arr.dtype)"
   ]
  },
  {
   "cell_type": "code",
   "execution_count": 119,
   "id": "d86de98a-114e-440d-ad56-45e2684ce316",
   "metadata": {},
   "outputs": [
    {
     "data": {
      "text/plain": [
       "array([1, 2, 3], dtype=int16)"
      ]
     },
     "execution_count": 119,
     "metadata": {},
     "output_type": "execute_result"
    }
   ],
   "source": [
    "arr.astype(np.int16)"
   ]
  },
  {
   "cell_type": "code",
   "execution_count": null,
   "id": "27084b95-9d2f-45f3-91f2-3a003054c7a7",
   "metadata": {},
   "outputs": [],
   "source": []
  },
  {
   "cell_type": "code",
   "execution_count": null,
   "id": "1a7e7501-adee-4cb3-8d7b-6cb525f9ec75",
   "metadata": {},
   "outputs": [],
   "source": []
  },
  {
   "cell_type": "markdown",
   "id": "1b53ed12-5f69-4fb5-9d85-ae59216baace",
   "metadata": {},
   "source": [
    "## 21~30"
   ]
  },
  {
   "cell_type": "code",
   "execution_count": null,
   "id": "44f35325-f3e7-45d5-997e-353b8701031e",
   "metadata": {},
   "outputs": [],
   "source": []
  },
  {
   "cell_type": "code",
   "execution_count": null,
   "id": "b3ed3b55-2b28-445e-996b-ff1c6d1f6e06",
   "metadata": {},
   "outputs": [],
   "source": []
  },
  {
   "cell_type": "code",
   "execution_count": 120,
   "id": "ba68fe8e-3f88-4da5-ad35-64e41326c1de",
   "metadata": {},
   "outputs": [
    {
     "data": {
      "text/plain": [
       "array([1.1, 2.1, 3.1])"
      ]
     },
     "execution_count": 120,
     "metadata": {},
     "output_type": "execute_result"
    }
   ],
   "source": [
    "arr = np.array([1.1, 2.1, 3.1])\n",
    "arr"
   ]
  },
  {
   "cell_type": "code",
   "execution_count": 124,
   "id": "ef31d906-08c1-4f84-ae0d-c91b70c16c68",
   "metadata": {},
   "outputs": [
    {
     "data": {
      "text/plain": [
       "array([1, 2, 3])"
      ]
     },
     "execution_count": 124,
     "metadata": {},
     "output_type": "execute_result"
    }
   ],
   "source": [
    "arr.astype(np.int32)"
   ]
  },
  {
   "cell_type": "code",
   "execution_count": 125,
   "id": "f8190fc0-90e0-40ae-8fe2-159903111f98",
   "metadata": {},
   "outputs": [
    {
     "data": {
      "text/plain": [
       "array([ 0.        ,  0.52631579,  1.05263158,  1.57894737,  2.10526316,\n",
       "        2.63157895,  3.15789474,  3.68421053,  4.21052632,  4.73684211,\n",
       "        5.26315789,  5.78947368,  6.31578947,  6.84210526,  7.36842105,\n",
       "        7.89473684,  8.42105263,  8.94736842,  9.47368421, 10.        ])"
      ]
     },
     "execution_count": 125,
     "metadata": {},
     "output_type": "execute_result"
    }
   ],
   "source": [
    "np.linspace(0,10, 20)"
   ]
  },
  {
   "cell_type": "code",
   "execution_count": 130,
   "id": "6a1ae144-fd31-49fe-9215-f8a1514f2f4d",
   "metadata": {},
   "outputs": [
    {
     "data": {
      "text/plain": [
       "array([[0, 1, 2],\n",
       "       [3, 4, 5],\n",
       "       [6, 7, 8]])"
      ]
     },
     "execution_count": 130,
     "metadata": {},
     "output_type": "execute_result"
    }
   ],
   "source": [
    "arr = np.arange(9).reshape(3, 3)\n",
    "arr"
   ]
  },
  {
   "cell_type": "code",
   "execution_count": 137,
   "id": "73369818-8ca4-42ca-b3a7-9cc3244f5334",
   "metadata": {},
   "outputs": [
    {
     "data": {
      "text/plain": [
       "array([6, 7, 8])"
      ]
     },
     "execution_count": 137,
     "metadata": {},
     "output_type": "execute_result"
    }
   ],
   "source": [
    "arr[2]"
   ]
  },
  {
   "cell_type": "code",
   "execution_count": 138,
   "id": "86a0abfd-8978-4e08-b69c-a23386c086a9",
   "metadata": {},
   "outputs": [
    {
     "data": {
      "text/plain": [
       "array([6, 7, 8])"
      ]
     },
     "execution_count": 138,
     "metadata": {},
     "output_type": "execute_result"
    }
   ],
   "source": [
    "arr[-1]"
   ]
  },
  {
   "cell_type": "code",
   "execution_count": 144,
   "id": "5629d647-0eb1-4c9f-8554-ea90805c050a",
   "metadata": {},
   "outputs": [
    {
     "data": {
      "text/plain": [
       "1"
      ]
     },
     "execution_count": 144,
     "metadata": {},
     "output_type": "execute_result"
    }
   ],
   "source": [
    "arr[0,1]"
   ]
  },
  {
   "cell_type": "code",
   "execution_count": 142,
   "id": "417b056a-22da-4642-af34-54400881cd10",
   "metadata": {},
   "outputs": [
    {
     "data": {
      "text/plain": [
       "4"
      ]
     },
     "execution_count": 142,
     "metadata": {},
     "output_type": "execute_result"
    }
   ],
   "source": [
    "arr[1][1]"
   ]
  },
  {
   "cell_type": "code",
   "execution_count": 143,
   "id": "ac57c87a-108f-4af5-a36c-f2091031d10b",
   "metadata": {},
   "outputs": [
    {
     "data": {
      "text/plain": [
       "array([3, 4, 5])"
      ]
     },
     "execution_count": 143,
     "metadata": {},
     "output_type": "execute_result"
    }
   ],
   "source": [
    "arr[0:2][1]"
   ]
  },
  {
   "cell_type": "code",
   "execution_count": 146,
   "id": "57403561-b0cf-413d-bad9-d0325f3803be",
   "metadata": {},
   "outputs": [
    {
     "data": {
      "text/plain": [
       "array([1, 4, 7])"
      ]
     },
     "execution_count": 146,
     "metadata": {},
     "output_type": "execute_result"
    }
   ],
   "source": [
    "arr[0:3,1]"
   ]
  },
  {
   "cell_type": "code",
   "execution_count": 147,
   "id": "9203023b-acff-4bce-a98d-794d62630bff",
   "metadata": {},
   "outputs": [
    {
     "data": {
      "text/plain": [
       "array([1, 4, 7])"
      ]
     },
     "execution_count": 147,
     "metadata": {},
     "output_type": "execute_result"
    }
   ],
   "source": [
    "arr[:,1]"
   ]
  },
  {
   "cell_type": "code",
   "execution_count": 149,
   "id": "63648aed-30ff-4e9a-99bf-438dbed3027f",
   "metadata": {},
   "outputs": [
    {
     "data": {
      "text/plain": [
       "array([[ 0,  1,  2,  3,  4],\n",
       "       [ 5,  6,  7,  8,  9],\n",
       "       [10, 11, 12, 13, 14],\n",
       "       [15, 16, 17, 18, 19],\n",
       "       [20, 21, 22, 23, 24]])"
      ]
     },
     "execution_count": 149,
     "metadata": {},
     "output_type": "execute_result"
    }
   ],
   "source": [
    "arr = np.arange(25).reshape(5, 5)\n",
    "arr"
   ]
  },
  {
   "cell_type": "code",
   "execution_count": 151,
   "id": "e0e97444-de03-4431-b05e-5e087ab094e1",
   "metadata": {},
   "outputs": [
    {
     "data": {
      "text/plain": [
       "17"
      ]
     },
     "execution_count": 151,
     "metadata": {},
     "output_type": "execute_result"
    }
   ],
   "source": [
    "arr[3,2]"
   ]
  },
  {
   "cell_type": "code",
   "execution_count": 152,
   "id": "2b6ad50e-4835-43f3-b578-96c07024f08a",
   "metadata": {},
   "outputs": [
    {
     "data": {
      "text/plain": [
       "array([0, 1, 2, 3, 4])"
      ]
     },
     "execution_count": 152,
     "metadata": {},
     "output_type": "execute_result"
    }
   ],
   "source": [
    "arr = np.arange(5)\n",
    "arr"
   ]
  },
  {
   "cell_type": "code",
   "execution_count": 162,
   "id": "cfa1f85b-b731-4f71-8ece-8fe7bdd1cc16",
   "metadata": {},
   "outputs": [
    {
     "data": {
      "text/plain": [
       "array([1, 3])"
      ]
     },
     "execution_count": 162,
     "metadata": {},
     "output_type": "execute_result"
    }
   ],
   "source": [
    "arr[1::2]"
   ]
  },
  {
   "cell_type": "code",
   "execution_count": 163,
   "id": "671d4a79-9e91-4c54-a07e-2e283925bb39",
   "metadata": {},
   "outputs": [
    {
     "data": {
      "text/plain": [
       "array([1, 3])"
      ]
     },
     "execution_count": 163,
     "metadata": {},
     "output_type": "execute_result"
    }
   ],
   "source": [
    "arr[[1,3]]"
   ]
  },
  {
   "cell_type": "code",
   "execution_count": 164,
   "id": "8a48e6c2-9d5f-4c9c-a393-0d7e8eff0e2c",
   "metadata": {},
   "outputs": [
    {
     "data": {
      "text/plain": [
       "1"
      ]
     },
     "execution_count": 164,
     "metadata": {},
     "output_type": "execute_result"
    }
   ],
   "source": [
    "arr[1]"
   ]
  },
  {
   "cell_type": "code",
   "execution_count": 165,
   "id": "b31a5182-d7f9-445e-a4ec-8a8255da4000",
   "metadata": {},
   "outputs": [
    {
     "data": {
      "text/plain": [
       "2"
      ]
     },
     "execution_count": 165,
     "metadata": {},
     "output_type": "execute_result"
    }
   ],
   "source": [
    "arr[2]"
   ]
  },
  {
   "cell_type": "code",
   "execution_count": 166,
   "id": "7a5fcaa0-14ae-4271-894b-caaf8836b79a",
   "metadata": {},
   "outputs": [
    {
     "data": {
      "text/plain": [
       "3"
      ]
     },
     "execution_count": 166,
     "metadata": {},
     "output_type": "execute_result"
    }
   ],
   "source": [
    "arr[3]"
   ]
  },
  {
   "cell_type": "code",
   "execution_count": 167,
   "id": "2c2eb44b-77ad-485f-979d-d51c5a88d184",
   "metadata": {},
   "outputs": [
    {
     "data": {
      "text/plain": [
       "0"
      ]
     },
     "execution_count": 167,
     "metadata": {},
     "output_type": "execute_result"
    }
   ],
   "source": [
    "arr[0]"
   ]
  },
  {
   "cell_type": "code",
   "execution_count": 169,
   "id": "1e5dc502-88ec-4520-9dd9-b8513d848638",
   "metadata": {},
   "outputs": [
    {
     "data": {
      "text/plain": [
       "array([1, 3])"
      ]
     },
     "execution_count": 169,
     "metadata": {},
     "output_type": "execute_result"
    }
   ],
   "source": [
    "arr[[1,3]]"
   ]
  },
  {
   "cell_type": "code",
   "execution_count": null,
   "id": "3bf6a6d6-e519-440c-9b1a-982c67c9182e",
   "metadata": {},
   "outputs": [],
   "source": []
  },
  {
   "cell_type": "code",
   "execution_count": 170,
   "id": "6613a7de-a365-452d-86a2-95cd7e91d07d",
   "metadata": {},
   "outputs": [
    {
     "data": {
      "text/plain": [
       "array([[ 0,  1,  2,  3,  4],\n",
       "       [ 5,  6,  7,  8,  9],\n",
       "       [10, 11, 12, 13, 14],\n",
       "       [15, 16, 17, 18, 19],\n",
       "       [20, 21, 22, 23, 24]])"
      ]
     },
     "execution_count": 170,
     "metadata": {},
     "output_type": "execute_result"
    }
   ],
   "source": [
    "arr = np.arange(25).reshape(5, 5)\n",
    "arr"
   ]
  },
  {
   "cell_type": "code",
   "execution_count": 171,
   "id": "c932ce92-4c43-429a-99de-eacb97bc0e03",
   "metadata": {},
   "outputs": [
    {
     "data": {
      "text/plain": [
       "array([0, 1, 2, 3, 4])"
      ]
     },
     "execution_count": 171,
     "metadata": {},
     "output_type": "execute_result"
    }
   ],
   "source": [
    "arr[0]"
   ]
  },
  {
   "cell_type": "code",
   "execution_count": 172,
   "id": "20a82075-400b-409d-8899-8e11725c7b75",
   "metadata": {},
   "outputs": [
    {
     "data": {
      "text/plain": [
       "6"
      ]
     },
     "execution_count": 172,
     "metadata": {},
     "output_type": "execute_result"
    }
   ],
   "source": [
    "arr[1][1]"
   ]
  },
  {
   "cell_type": "code",
   "execution_count": 173,
   "id": "94539035-61fa-488f-a6f0-1bfd478559b2",
   "metadata": {},
   "outputs": [
    {
     "data": {
      "text/plain": [
       "array([6, 7, 8, 9])"
      ]
     },
     "execution_count": 173,
     "metadata": {},
     "output_type": "execute_result"
    }
   ],
   "source": [
    "arr[1][1:]"
   ]
  },
  {
   "cell_type": "code",
   "execution_count": 174,
   "id": "4bbfae2e-cfe5-4716-8c1b-e19ccb6bb6f9",
   "metadata": {},
   "outputs": [
    {
     "data": {
      "text/plain": [
       "array([6, 7, 8, 9])"
      ]
     },
     "execution_count": 174,
     "metadata": {},
     "output_type": "execute_result"
    }
   ],
   "source": [
    "arr[1,1:]"
   ]
  },
  {
   "cell_type": "code",
   "execution_count": 175,
   "id": "d94fa8fd-8e79-4e05-899c-c21b05daa594",
   "metadata": {},
   "outputs": [
    {
     "data": {
      "text/plain": [
       "array([ 1,  6, 11, 16, 21])"
      ]
     },
     "execution_count": 175,
     "metadata": {},
     "output_type": "execute_result"
    }
   ],
   "source": [
    "arr[:,1]"
   ]
  },
  {
   "cell_type": "code",
   "execution_count": 176,
   "id": "cbfb6d34-297f-4221-90ba-835d58d87b73",
   "metadata": {},
   "outputs": [
    {
     "data": {
      "text/plain": [
       "array([ 0,  5, 10, 15, 20])"
      ]
     },
     "execution_count": 176,
     "metadata": {},
     "output_type": "execute_result"
    }
   ],
   "source": [
    "arr[:,0]"
   ]
  },
  {
   "cell_type": "code",
   "execution_count": 177,
   "id": "8a38859d-9668-48f7-b8f5-4698dee7b796",
   "metadata": {},
   "outputs": [
    {
     "data": {
      "text/plain": [
       "array([[ 0,  1],\n",
       "       [ 5,  6],\n",
       "       [10, 11],\n",
       "       [15, 16],\n",
       "       [20, 21]])"
      ]
     },
     "execution_count": 177,
     "metadata": {},
     "output_type": "execute_result"
    }
   ],
   "source": [
    "arr[:,:2]"
   ]
  },
  {
   "cell_type": "code",
   "execution_count": 178,
   "id": "4c0057ad-804e-49c9-a34c-7ed230cf5d0b",
   "metadata": {},
   "outputs": [
    {
     "data": {
      "text/plain": [
       "array([[ 6,  7],\n",
       "       [11, 12]])"
      ]
     },
     "execution_count": 178,
     "metadata": {},
     "output_type": "execute_result"
    }
   ],
   "source": [
    "arr[1:3,1:3]"
   ]
  },
  {
   "cell_type": "code",
   "execution_count": 186,
   "id": "ca79ce12-8c44-4cd4-9931-09749711c4db",
   "metadata": {},
   "outputs": [
    {
     "data": {
      "text/plain": [
       "4"
      ]
     },
     "execution_count": 186,
     "metadata": {},
     "output_type": "execute_result"
    }
   ],
   "source": [
    "arr[0,-1]"
   ]
  },
  {
   "cell_type": "code",
   "execution_count": 187,
   "id": "ec30340e-09d5-48e4-8a48-c5242ce32e5f",
   "metadata": {},
   "outputs": [
    {
     "data": {
      "text/plain": [
       "3"
      ]
     },
     "execution_count": 187,
     "metadata": {},
     "output_type": "execute_result"
    }
   ],
   "source": [
    "arr[0, 3]"
   ]
  },
  {
   "cell_type": "code",
   "execution_count": 202,
   "id": "9585a12f-3bc9-475b-8abb-5f586874bd47",
   "metadata": {},
   "outputs": [
    {
     "data": {
      "text/plain": [
       "array([[ 0,  1,  2,  3,  4],\n",
       "       [ 5,  6,  7,  8,  9],\n",
       "       [10, 11, 12, 13, 14],\n",
       "       [15, 16, 17, 18, 19],\n",
       "       [20, 21, 22, 23, 24]])"
      ]
     },
     "execution_count": 202,
     "metadata": {},
     "output_type": "execute_result"
    }
   ],
   "source": [
    "arr = np.arange(25).reshape(5, 5)\n",
    "arr"
   ]
  },
  {
   "cell_type": "code",
   "execution_count": 203,
   "id": "f7bd484d-079e-4bea-aedb-105f5fcd9550",
   "metadata": {},
   "outputs": [
    {
     "data": {
      "text/plain": [
       "array([ 0, 23])"
      ]
     },
     "execution_count": 203,
     "metadata": {},
     "output_type": "execute_result"
    }
   ],
   "source": [
    "arr[ [0,-1] , [0, 3] ]"
   ]
  },
  {
   "cell_type": "code",
   "execution_count": null,
   "id": "2f82599b-e66e-41b1-8717-e75f7312f18b",
   "metadata": {},
   "outputs": [],
   "source": []
  },
  {
   "cell_type": "code",
   "execution_count": null,
   "id": "7f551150-f21b-4ca2-b889-905b9cdd0576",
   "metadata": {},
   "outputs": [],
   "source": []
  },
  {
   "cell_type": "markdown",
   "id": "e01fd029-3118-4fc7-9630-d161e98de493",
   "metadata": {},
   "source": [
    "## 31~40"
   ]
  },
  {
   "cell_type": "code",
   "execution_count": null,
   "id": "0e374009-e0e3-42be-8e3d-a61f2f94b6b4",
   "metadata": {},
   "outputs": [],
   "source": []
  },
  {
   "cell_type": "code",
   "execution_count": null,
   "id": "d63cd7b7-3d3c-4222-89fd-70599e5beb50",
   "metadata": {},
   "outputs": [],
   "source": []
  },
  {
   "cell_type": "code",
   "execution_count": null,
   "id": "17034b02-eb8d-4e0a-9b45-47c00b5b1e03",
   "metadata": {},
   "outputs": [],
   "source": [
    "data = [1, 2, 3]"
   ]
  },
  {
   "cell_type": "code",
   "execution_count": 205,
   "id": "51bb1d4d-bd76-4325-b993-c29258c00c15",
   "metadata": {},
   "outputs": [],
   "source": [
    "arr =np.array(data)"
   ]
  },
  {
   "cell_type": "code",
   "execution_count": 206,
   "id": "c5eea634-d241-4945-af7c-798275fb37e6",
   "metadata": {},
   "outputs": [
    {
     "data": {
      "text/plain": [
       "array([10, 20, 30])"
      ]
     },
     "execution_count": 206,
     "metadata": {},
     "output_type": "execute_result"
    }
   ],
   "source": [
    "arr *10"
   ]
  },
  {
   "cell_type": "code",
   "execution_count": 207,
   "id": "ad69c9de-782e-4909-9654-116c620aed19",
   "metadata": {},
   "outputs": [],
   "source": [
    "ndarray=np.array(data)**2"
   ]
  },
  {
   "cell_type": "code",
   "execution_count": 208,
   "id": "51e11fdc-cde8-40b9-acd2-e993b63661c0",
   "metadata": {},
   "outputs": [
    {
     "data": {
      "text/plain": [
       "array([1, 4, 9], dtype=int32)"
      ]
     },
     "execution_count": 208,
     "metadata": {},
     "output_type": "execute_result"
    }
   ],
   "source": [
    "ndarray"
   ]
  },
  {
   "cell_type": "code",
   "execution_count": 209,
   "id": "3e9bcae6-8b1a-4814-a8b9-3d1281c17305",
   "metadata": {},
   "outputs": [
    {
     "data": {
      "text/plain": [
       "array([1.        , 1.41421356, 1.73205081])"
      ]
     },
     "execution_count": 209,
     "metadata": {},
     "output_type": "execute_result"
    }
   ],
   "source": [
    "np.array(data) **(0.5)"
   ]
  },
  {
   "cell_type": "code",
   "execution_count": 210,
   "id": "d72941ca-605b-4f56-8f16-b9c4b68285b2",
   "metadata": {},
   "outputs": [
    {
     "data": {
      "text/plain": [
       "array([1.        , 1.41421356, 1.73205081])"
      ]
     },
     "execution_count": 210,
     "metadata": {},
     "output_type": "execute_result"
    }
   ],
   "source": [
    "np.sqrt(data)"
   ]
  },
  {
   "cell_type": "code",
   "execution_count": 211,
   "id": "fda3fef7-1aa6-4ebd-89ea-66b74183aaff",
   "metadata": {},
   "outputs": [],
   "source": [
    "score = np.array([\n",
    "    [10, 20],  # 중간고사\n",
    "    [14, 16]   # 기말고사\n",
    "])"
   ]
  },
  {
   "cell_type": "code",
   "execution_count": 216,
   "id": "bea8fbbf-6bbe-4b39-ad98-e6147ee466f9",
   "metadata": {},
   "outputs": [
    {
     "data": {
      "text/plain": [
       "array([12., 18.])"
      ]
     },
     "execution_count": 216,
     "metadata": {},
     "output_type": "execute_result"
    }
   ],
   "source": [
    "score.mean(axis=0)"
   ]
  },
  {
   "cell_type": "code",
   "execution_count": 217,
   "id": "e96f04c2-e3c4-4501-a08a-2aac78865924",
   "metadata": {},
   "outputs": [
    {
     "data": {
      "text/plain": [
       "array([5., 1.])"
      ]
     },
     "execution_count": 217,
     "metadata": {},
     "output_type": "execute_result"
    }
   ],
   "source": [
    "score.std(axis=1)"
   ]
  },
  {
   "cell_type": "code",
   "execution_count": 218,
   "id": "580b29cd-2bd0-420f-8503-a2c02b868df8",
   "metadata": {},
   "outputs": [],
   "source": [
    "a = np.arange(   4).reshape(2,2)\n",
    "b = np.arange(1, 5).reshape(2,2)"
   ]
  },
  {
   "cell_type": "code",
   "execution_count": 219,
   "id": "49ff3368-24a0-4d87-9c37-cc2e37fed1fd",
   "metadata": {},
   "outputs": [
    {
     "data": {
      "text/plain": [
       "array([[1, 3],\n",
       "       [5, 7]])"
      ]
     },
     "execution_count": 219,
     "metadata": {},
     "output_type": "execute_result"
    }
   ],
   "source": [
    "a+b"
   ]
  },
  {
   "cell_type": "code",
   "execution_count": 220,
   "id": "d0b940f3-9659-40dc-8cca-d1d67a74a4bf",
   "metadata": {},
   "outputs": [
    {
     "data": {
      "text/plain": [
       "array([[ 0,  2],\n",
       "       [ 6, 12]])"
      ]
     },
     "execution_count": 220,
     "metadata": {},
     "output_type": "execute_result"
    }
   ],
   "source": [
    "a*b"
   ]
  },
  {
   "cell_type": "code",
   "execution_count": 221,
   "id": "41d1c962-3843-491d-bca2-1a45cb8cf44a",
   "metadata": {},
   "outputs": [],
   "source": [
    "arr = np.arange(9).reshape(3, 3)"
   ]
  },
  {
   "cell_type": "code",
   "execution_count": 222,
   "id": "7229d3e9-e006-4de3-ba9c-464f56069015",
   "metadata": {},
   "outputs": [
    {
     "data": {
      "text/plain": [
       "array([[0, 1, 2],\n",
       "       [3, 4, 5],\n",
       "       [6, 7, 8]])"
      ]
     },
     "execution_count": 222,
     "metadata": {},
     "output_type": "execute_result"
    }
   ],
   "source": [
    "arr"
   ]
  },
  {
   "cell_type": "code",
   "execution_count": 223,
   "id": "3b2c83ad-c299-4778-80e1-802360c36927",
   "metadata": {},
   "outputs": [
    {
     "data": {
      "text/plain": [
       "array([[0, 3, 6],\n",
       "       [1, 4, 7],\n",
       "       [2, 5, 8]])"
      ]
     },
     "execution_count": 223,
     "metadata": {},
     "output_type": "execute_result"
    }
   ],
   "source": [
    "arr.T"
   ]
  },
  {
   "cell_type": "code",
   "execution_count": 224,
   "id": "fa1191cb-2a1d-4abc-95af-9857220293e3",
   "metadata": {},
   "outputs": [
    {
     "data": {
      "text/plain": [
       "array([[0, 3, 6],\n",
       "       [1, 4, 7],\n",
       "       [2, 5, 8]])"
      ]
     },
     "execution_count": 224,
     "metadata": {},
     "output_type": "execute_result"
    }
   ],
   "source": [
    "arr.transpose()"
   ]
  },
  {
   "cell_type": "code",
   "execution_count": 242,
   "id": "986c89b9-75cf-442e-8d9e-31071399fbdf",
   "metadata": {},
   "outputs": [],
   "source": [
    "arr = np.arange(10)"
   ]
  },
  {
   "cell_type": "code",
   "execution_count": 243,
   "id": "cee8ba8a-9b35-4326-be76-bfee5cb59c74",
   "metadata": {},
   "outputs": [
    {
     "data": {
      "text/plain": [
       "array([0, 1, 2, 3, 4, 5, 6, 7, 8, 9])"
      ]
     },
     "execution_count": 243,
     "metadata": {},
     "output_type": "execute_result"
    }
   ],
   "source": [
    "arr"
   ]
  },
  {
   "cell_type": "code",
   "execution_count": 251,
   "id": "df121401-88e0-4284-86ac-5c46205e541c",
   "metadata": {},
   "outputs": [
    {
     "data": {
      "text/plain": [
       "array([0, 2, 4, 6, 8])"
      ]
     },
     "execution_count": 251,
     "metadata": {},
     "output_type": "execute_result"
    }
   ],
   "source": [
    "arr[0:10:2]"
   ]
  },
  {
   "cell_type": "code",
   "execution_count": 252,
   "id": "77b5500c-54f9-45c7-afeb-6784cde7e6f9",
   "metadata": {},
   "outputs": [
    {
     "data": {
      "text/plain": [
       "array([1, 3, 5, 7, 9])"
      ]
     },
     "execution_count": 252,
     "metadata": {},
     "output_type": "execute_result"
    }
   ],
   "source": [
    "arr[1:10:2]"
   ]
  },
  {
   "cell_type": "code",
   "execution_count": 255,
   "id": "4b916e4c-2c14-4438-9a66-2e30657d46dd",
   "metadata": {},
   "outputs": [
    {
     "data": {
      "text/plain": [
       "array([4, 5, 6])"
      ]
     },
     "execution_count": 255,
     "metadata": {},
     "output_type": "execute_result"
    }
   ],
   "source": [
    "arr[4:7]"
   ]
  },
  {
   "cell_type": "code",
   "execution_count": 256,
   "id": "3bb8ade2-e1d1-42df-ad28-2fa9c72a7f7f",
   "metadata": {},
   "outputs": [
    {
     "data": {
      "text/plain": [
       "array([4, 5, 6])"
      ]
     },
     "execution_count": 256,
     "metadata": {},
     "output_type": "execute_result"
    }
   ],
   "source": [
    "arr[(arr>3)&(arr<7)]"
   ]
  },
  {
   "cell_type": "code",
   "execution_count": null,
   "id": "5718be34-7a74-4eb8-a443-fd97e3648355",
   "metadata": {},
   "outputs": [],
   "source": []
  },
  {
   "cell_type": "code",
   "execution_count": null,
   "id": "02d11ee0-13b9-47a8-bee2-79c7847c132e",
   "metadata": {},
   "outputs": [],
   "source": []
  },
  {
   "cell_type": "markdown",
   "id": "8f1ee8a2-8cb6-498f-b1c0-883661f2f22f",
   "metadata": {},
   "source": [
    "## 41-50"
   ]
  },
  {
   "cell_type": "code",
   "execution_count": null,
   "id": "97582342-af40-4092-8311-30b7ca82bc4c",
   "metadata": {},
   "outputs": [],
   "source": []
  },
  {
   "cell_type": "code",
   "execution_count": null,
   "id": "4a91b237-dc72-431d-8481-52054620de03",
   "metadata": {},
   "outputs": [],
   "source": []
  },
  {
   "cell_type": "code",
   "execution_count": 257,
   "id": "b93626a9-4cff-4313-9582-0754619d5a69",
   "metadata": {},
   "outputs": [],
   "source": [
    "arr = np.array([-1, 2, -3, 4])"
   ]
  },
  {
   "cell_type": "code",
   "execution_count": 259,
   "id": "f8927190-ab51-447f-b3f2-920373a9c07a",
   "metadata": {},
   "outputs": [],
   "source": [
    "arr[(arr<0)] =0"
   ]
  },
  {
   "cell_type": "code",
   "execution_count": 260,
   "id": "181997ec-8382-4cde-9be4-e525911003a7",
   "metadata": {},
   "outputs": [
    {
     "data": {
      "text/plain": [
       "array([0, 2, 0, 4])"
      ]
     },
     "execution_count": 260,
     "metadata": {},
     "output_type": "execute_result"
    }
   ],
   "source": [
    "arr"
   ]
  },
  {
   "cell_type": "code",
   "execution_count": 268,
   "id": "6c6955b7-257f-4cf9-a848-7942932e055d",
   "metadata": {},
   "outputs": [],
   "source": [
    "arr = np.array([-1, 2, -3, 4])"
   ]
  },
  {
   "cell_type": "code",
   "execution_count": 262,
   "id": "44809833-c731-4797-a7f7-3921e09249c5",
   "metadata": {},
   "outputs": [
    {
     "data": {
      "text/plain": [
       "dtype('int32')"
      ]
     },
     "execution_count": 262,
     "metadata": {},
     "output_type": "execute_result"
    }
   ],
   "source": [
    "arr.dtype"
   ]
  },
  {
   "cell_type": "code",
   "execution_count": 264,
   "id": "1c2c2ad7-334b-49f9-9730-baad52878bd6",
   "metadata": {},
   "outputs": [],
   "source": [
    "cond=arr<0"
   ]
  },
  {
   "cell_type": "code",
   "execution_count": 266,
   "id": "677a6773-aab5-4a9a-b23e-768571dd9a10",
   "metadata": {},
   "outputs": [],
   "source": [
    "arr[cond] = -arr[cond]"
   ]
  },
  {
   "cell_type": "code",
   "execution_count": 267,
   "id": "373c7181-ade7-4b63-8d42-eb690b9e8f43",
   "metadata": {},
   "outputs": [
    {
     "data": {
      "text/plain": [
       "array([1, 2, 3, 4])"
      ]
     },
     "execution_count": 267,
     "metadata": {},
     "output_type": "execute_result"
    }
   ],
   "source": [
    "arr"
   ]
  },
  {
   "cell_type": "code",
   "execution_count": 269,
   "id": "c3b31dfe-98b9-4e49-bd6e-e857d4428bd5",
   "metadata": {},
   "outputs": [
    {
     "data": {
      "text/plain": [
       "array([-1,  2, -3,  4])"
      ]
     },
     "execution_count": 269,
     "metadata": {},
     "output_type": "execute_result"
    }
   ],
   "source": [
    "arr"
   ]
  },
  {
   "cell_type": "code",
   "execution_count": 270,
   "id": "c2332ce0-c00f-4019-aa1e-02d83f988e0e",
   "metadata": {},
   "outputs": [
    {
     "data": {
      "text/plain": [
       "array([1, 2, 3, 4])"
      ]
     },
     "execution_count": 270,
     "metadata": {},
     "output_type": "execute_result"
    }
   ],
   "source": [
    "abs(arr)"
   ]
  },
  {
   "cell_type": "code",
   "execution_count": 271,
   "id": "b125a486-6197-43ac-82de-a22624c6a538",
   "metadata": {},
   "outputs": [],
   "source": [
    "arr = np.array([-1, 2, -3, 4])"
   ]
  },
  {
   "cell_type": "code",
   "execution_count": 272,
   "id": "8c5585e1-c1ee-454e-ad04-4e32a280d8fe",
   "metadata": {},
   "outputs": [
    {
     "data": {
      "text/plain": [
       "array([-11,  12, -13,  14])"
      ]
     },
     "execution_count": 272,
     "metadata": {},
     "output_type": "execute_result"
    }
   ],
   "source": [
    "np.where(arr >=0, arr+10, arr-10)"
   ]
  },
  {
   "cell_type": "code",
   "execution_count": 273,
   "id": "f56738c2-93ca-45c5-8828-22d4f2871bec",
   "metadata": {},
   "outputs": [],
   "source": [
    "arr = [1, 2, 3, 4, 5]"
   ]
  },
  {
   "cell_type": "code",
   "execution_count": 283,
   "id": "cf5daf28-49e9-49f5-8e84-b78ae9ae20bc",
   "metadata": {},
   "outputs": [],
   "source": [
    "np.random.shuffle(arr)"
   ]
  },
  {
   "cell_type": "code",
   "execution_count": 276,
   "id": "cc3530b2-80c8-426d-b3d3-222d91a5b579",
   "metadata": {},
   "outputs": [
    {
     "data": {
      "text/plain": [
       "[3, 1, 5, 2, 4]"
      ]
     },
     "execution_count": 276,
     "metadata": {},
     "output_type": "execute_result"
    }
   ],
   "source": [
    "arr"
   ]
  },
  {
   "cell_type": "code",
   "execution_count": 277,
   "id": "907c2087-1225-4021-a7f5-04e51b9660c9",
   "metadata": {},
   "outputs": [],
   "source": [
    "arr = np.array([1, 2, 3, 4, 5])"
   ]
  },
  {
   "cell_type": "code",
   "execution_count": 284,
   "id": "3eaaee3e-80a0-47f1-a697-fc96723e7c24",
   "metadata": {},
   "outputs": [
    {
     "data": {
      "text/plain": [
       "3"
      ]
     },
     "execution_count": 284,
     "metadata": {},
     "output_type": "execute_result"
    }
   ],
   "source": [
    "arr.argmin()"
   ]
  },
  {
   "cell_type": "code",
   "execution_count": 285,
   "id": "84feaf0b-9f16-4dd6-a7f7-24abe8482b23",
   "metadata": {},
   "outputs": [
    {
     "data": {
      "text/plain": [
       "1"
      ]
     },
     "execution_count": 285,
     "metadata": {},
     "output_type": "execute_result"
    }
   ],
   "source": [
    "arr.argmax()"
   ]
  },
  {
   "cell_type": "code",
   "execution_count": 286,
   "id": "d1ddbb70-0953-435a-b153-f0474c7e00fe",
   "metadata": {},
   "outputs": [],
   "source": [
    "arr = np.array([2, 1, 5, 3, 7, 4, 6, 8])"
   ]
  },
  {
   "cell_type": "code",
   "execution_count": 304,
   "id": "c51d91ed-1460-40a6-a8cb-26700876eafa",
   "metadata": {},
   "outputs": [
    {
     "data": {
      "text/plain": [
       "array([8, 7, 6, 5, 4, 3, 2, 1])"
      ]
     },
     "execution_count": 304,
     "metadata": {},
     "output_type": "execute_result"
    }
   ],
   "source": [
    "np.sort(arr)[::-1]"
   ]
  },
  {
   "cell_type": "raw",
   "id": "321e3f43-6ff1-498e-96c8-10b44e6443f1",
   "metadata": {},
   "source": [
    "array([[1, 2],\n",
    "       [3, 4]])"
   ]
  },
  {
   "cell_type": "code",
   "execution_count": 306,
   "id": "d84699cf-85bc-4c3e-83d1-0d75980f41c6",
   "metadata": {},
   "outputs": [],
   "source": [
    "arr1 = np.array([1, 2])\n",
    "arr2 = np.array([3, 4])"
   ]
  },
  {
   "cell_type": "code",
   "execution_count": 308,
   "id": "2c42dee6-c6a4-4fe4-8c3d-b4d6629b488e",
   "metadata": {},
   "outputs": [],
   "source": [
    "arrr =np.vstack((arr1,arr2))"
   ]
  },
  {
   "cell_type": "code",
   "execution_count": 309,
   "id": "de959c1a-fe09-4388-b52b-8010a7603a52",
   "metadata": {},
   "outputs": [
    {
     "data": {
      "text/plain": [
       "array([[1, 2],\n",
       "       [3, 4]])"
      ]
     },
     "execution_count": 309,
     "metadata": {},
     "output_type": "execute_result"
    }
   ],
   "source": [
    "arrr"
   ]
  },
  {
   "cell_type": "code",
   "execution_count": 310,
   "id": "56d1627a-9492-4edf-8ef1-72370ef0f64d",
   "metadata": {},
   "outputs": [],
   "source": [
    "arr = np.array([ [1, 2], [3, 4] ])"
   ]
  },
  {
   "cell_type": "code",
   "execution_count": 317,
   "id": "17f3b2db-ba45-4f26-a6a1-8844e031b521",
   "metadata": {},
   "outputs": [
    {
     "data": {
      "text/plain": [
       "array([1, 2, 3, 4])"
      ]
     },
     "execution_count": 317,
     "metadata": {},
     "output_type": "execute_result"
    }
   ],
   "source": [
    "arr.reshape(-1)"
   ]
  },
  {
   "cell_type": "code",
   "execution_count": null,
   "id": "f5cb9af3-d963-4c45-98d7-31d6a7f9110c",
   "metadata": {},
   "outputs": [],
   "source": []
  },
  {
   "cell_type": "code",
   "execution_count": null,
   "id": "8fb4dde3-d80e-4db4-bb46-83abfe2fd8fd",
   "metadata": {},
   "outputs": [],
   "source": []
  },
  {
   "cell_type": "markdown",
   "id": "b443db35-6b5a-4a38-bdef-5d00c8dda15c",
   "metadata": {},
   "source": [
    "# 2. 시리즈 생성"
   ]
  },
  {
   "cell_type": "code",
   "execution_count": null,
   "id": "2dfd253e-9fac-4776-93c9-a482007b50c3",
   "metadata": {},
   "outputs": [],
   "source": []
  },
  {
   "cell_type": "code",
   "execution_count": null,
   "id": "c1cc63b5-52b6-4b14-aa66-7257acab9ac4",
   "metadata": {},
   "outputs": [],
   "source": []
  },
  {
   "cell_type": "markdown",
   "id": "81184ae0-c38c-4b30-ace2-01803349cce6",
   "metadata": {},
   "source": [
    "## 51~60"
   ]
  },
  {
   "cell_type": "code",
   "execution_count": null,
   "id": "0e2168dc-3b7d-4551-a16d-f9a238b39c42",
   "metadata": {},
   "outputs": [],
   "source": []
  },
  {
   "cell_type": "code",
   "execution_count": null,
   "id": "48fb2e15-684f-4979-8878-b0e4b7c7496e",
   "metadata": {},
   "outputs": [],
   "source": []
  },
  {
   "cell_type": "code",
   "execution_count": 319,
   "id": "0910ff02-847d-41ee-8a98-9f1eaa6ad096",
   "metadata": {},
   "outputs": [],
   "source": [
    "import pandas as pd"
   ]
  },
  {
   "cell_type": "code",
   "execution_count": 320,
   "id": "53a6151f-7f46-4cc1-b928-96d7525421af",
   "metadata": {},
   "outputs": [],
   "source": [
    "data = [100,200,300]\n",
    "s= pd.Series(data)"
   ]
  },
  {
   "cell_type": "code",
   "execution_count": 322,
   "id": "70867d53-dff5-491a-9942-ac4fa3c5d623",
   "metadata": {},
   "outputs": [],
   "source": [
    "s.index = ['철수','영희','아름']"
   ]
  },
  {
   "cell_type": "code",
   "execution_count": 323,
   "id": "393a3eec-890e-4f7f-8c08-4415fb288c8a",
   "metadata": {},
   "outputs": [
    {
     "data": {
      "text/plain": [
       "철수    100\n",
       "영희    200\n",
       "아름    300\n",
       "dtype: int64"
      ]
     },
     "execution_count": 323,
     "metadata": {},
     "output_type": "execute_result"
    }
   ],
   "source": [
    "s"
   ]
  },
  {
   "cell_type": "code",
   "execution_count": 325,
   "id": "c5f93ace-8a18-4c8a-abc9-2baf51cfbf14",
   "metadata": {},
   "outputs": [],
   "source": [
    "s.loc['철수'] =500"
   ]
  },
  {
   "cell_type": "code",
   "execution_count": 326,
   "id": "f2e09aa1-2979-454d-8a7f-25d282735e46",
   "metadata": {},
   "outputs": [
    {
     "data": {
      "text/plain": [
       "철수    500\n",
       "영희    200\n",
       "아름    300\n",
       "dtype: int64"
      ]
     },
     "execution_count": 326,
     "metadata": {},
     "output_type": "execute_result"
    }
   ],
   "source": [
    "s"
   ]
  },
  {
   "cell_type": "code",
   "execution_count": 327,
   "id": "0fe53da9-0dd1-4305-b5f1-b6b5e9bd8962",
   "metadata": {},
   "outputs": [
    {
     "data": {
      "text/plain": [
       "철수    500\n",
       "영희    200\n",
       "아름    300\n",
       "dtype: int64"
      ]
     },
     "execution_count": 327,
     "metadata": {},
     "output_type": "execute_result"
    }
   ],
   "source": [
    "s"
   ]
  },
  {
   "cell_type": "code",
   "execution_count": 328,
   "id": "f57a842d-6f0c-41cd-b216-9987458d4cc6",
   "metadata": {},
   "outputs": [],
   "source": [
    "dict_ = {'철수':100, '영희':200, '아름':300}"
   ]
  },
  {
   "cell_type": "code",
   "execution_count": 329,
   "id": "1451ae61-2737-4550-9fdb-6f601869af1d",
   "metadata": {},
   "outputs": [],
   "source": [
    "score = pd.Series(dict_)"
   ]
  },
  {
   "cell_type": "code",
   "execution_count": 330,
   "id": "97f0ca63-d910-4307-a236-3dc2129ce2ab",
   "metadata": {},
   "outputs": [
    {
     "data": {
      "text/plain": [
       "철수    100\n",
       "영희    200\n",
       "아름    300\n",
       "dtype: int64"
      ]
     },
     "execution_count": 330,
     "metadata": {},
     "output_type": "execute_result"
    }
   ],
   "source": [
    "score"
   ]
  },
  {
   "cell_type": "code",
   "execution_count": 332,
   "id": "47594708-fc81-4a7c-9d4b-bd6c8a351c51",
   "metadata": {},
   "outputs": [],
   "source": [
    "fin={'삼성전자':\t73000,\n",
    "'셀트리온':\t356000,\n",
    "'카카오'\t:367000,\n",
    "'삼성전자우':\t68600,\n",
    "'현대바이오':\t34150}"
   ]
  },
  {
   "cell_type": "code",
   "execution_count": 333,
   "id": "84ee8b8a-bf59-4239-8a8c-76a8ce2c2f65",
   "metadata": {},
   "outputs": [
    {
     "data": {
      "text/plain": [
       "{'삼성전자': 73000, '셀트리온': 356000, '카카오': 367000, '삼성전자우': 68600, '현대바이오': 34150}"
      ]
     },
     "execution_count": 333,
     "metadata": {},
     "output_type": "execute_result"
    }
   ],
   "source": [
    "fin"
   ]
  },
  {
   "cell_type": "code",
   "execution_count": 347,
   "id": "f9752b59-ce7b-46d7-9b11-ae9382149910",
   "metadata": {},
   "outputs": [],
   "source": [
    "fin_s=pd.Series(fin)"
   ]
  },
  {
   "cell_type": "code",
   "execution_count": 348,
   "id": "24871517-8485-4bcb-922a-88d815e50b7f",
   "metadata": {},
   "outputs": [
    {
     "data": {
      "text/plain": [
       "{'삼성전자': 73000, '셀트리온': 356000, '카카오': 367000, '삼성전자우': 68600, '현대바이오': 34150}"
      ]
     },
     "execution_count": 348,
     "metadata": {},
     "output_type": "execute_result"
    }
   ],
   "source": [
    "fin"
   ]
  },
  {
   "cell_type": "code",
   "execution_count": 349,
   "id": "9029ebf9-052e-4223-ae79-9094e8511cc5",
   "metadata": {},
   "outputs": [
    {
     "data": {
      "text/plain": [
       "삼성전자      73000\n",
       "셀트리온     356000\n",
       "카카오      367000\n",
       "삼성전자우     68600\n",
       "현대바이오     34150\n",
       "dtype: int64"
      ]
     },
     "execution_count": 349,
     "metadata": {},
     "output_type": "execute_result"
    }
   ],
   "source": [
    "fin_s"
   ]
  },
  {
   "cell_type": "code",
   "execution_count": 350,
   "id": "572a4fe5-a509-497f-b843-c6b8c699b999",
   "metadata": {},
   "outputs": [],
   "source": [
    "fin_s.columns =['종목명','종가']"
   ]
  },
  {
   "cell_type": "code",
   "execution_count": 351,
   "id": "905ec3c4-d00b-47b4-a4c4-92eef80a5671",
   "metadata": {},
   "outputs": [
    {
     "data": {
      "text/plain": [
       "Index(['삼성전자', '셀트리온', '카카오', '삼성전자우', '현대바이오'], dtype='object')"
      ]
     },
     "execution_count": 351,
     "metadata": {},
     "output_type": "execute_result"
    }
   ],
   "source": [
    "fin_s.index"
   ]
  },
  {
   "cell_type": "code",
   "execution_count": 352,
   "id": "2307d76e-1707-4e08-ab34-64b941164f9e",
   "metadata": {},
   "outputs": [
    {
     "data": {
      "text/plain": [
       "array([ 73000, 356000, 367000,  68600,  34150], dtype=int64)"
      ]
     },
     "execution_count": 352,
     "metadata": {},
     "output_type": "execute_result"
    }
   ],
   "source": [
    "fin_s.values"
   ]
  },
  {
   "cell_type": "code",
   "execution_count": 355,
   "id": "e863bcc2-967f-4c92-8885-a01d0613d939",
   "metadata": {},
   "outputs": [],
   "source": [
    "data = [100, 200, 300]\n",
    "index = [\"철수\", \"영희\", \"아름\"]\n",
    "s = pd.Series(data, index)"
   ]
  },
  {
   "cell_type": "code",
   "execution_count": 356,
   "id": "6c54be44-1771-44b4-9689-12b96934af7a",
   "metadata": {},
   "outputs": [
    {
     "data": {
      "text/plain": [
       "철수    100\n",
       "영희    200\n",
       "아름    300\n",
       "dtype: int64"
      ]
     },
     "execution_count": 356,
     "metadata": {},
     "output_type": "execute_result"
    }
   ],
   "source": [
    "s"
   ]
  },
  {
   "cell_type": "code",
   "execution_count": 357,
   "id": "3f2ee923-ee2d-477f-98fd-5075dafabf95",
   "metadata": {},
   "outputs": [
    {
     "data": {
      "text/plain": [
       "{'철수': 100, '영희': 200, '아름': 300}"
      ]
     },
     "execution_count": 357,
     "metadata": {},
     "output_type": "execute_result"
    }
   ],
   "source": [
    "s.to_dict()"
   ]
  },
  {
   "cell_type": "code",
   "execution_count": null,
   "id": "4064f820-1ff4-4f7e-bc78-52f10ffadfcd",
   "metadata": {},
   "outputs": [],
   "source": []
  },
  {
   "cell_type": "code",
   "execution_count": null,
   "id": "59939a90-1999-4698-8157-5f9656962d3c",
   "metadata": {},
   "outputs": [],
   "source": []
  }
 ],
 "metadata": {
  "kernelspec": {
   "display_name": "Python 3 (ipykernel)",
   "language": "python",
   "name": "python3"
  },
  "language_info": {
   "codemirror_mode": {
    "name": "ipython",
    "version": 3
   },
   "file_extension": ".py",
   "mimetype": "text/x-python",
   "name": "python",
   "nbconvert_exporter": "python",
   "pygments_lexer": "ipython3",
   "version": "3.9.12"
  }
 },
 "nbformat": 4,
 "nbformat_minor": 5
}
