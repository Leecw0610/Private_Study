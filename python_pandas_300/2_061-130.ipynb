{
 "cells": [
  {
   "cell_type": "markdown",
   "id": "1f622e51-80b0-4351-8625-3e0b58d18d72",
   "metadata": {},
   "source": [
    "# 3. 시리즈데이터 타입"
   ]
  },
  {
   "cell_type": "code",
   "execution_count": null,
   "id": "90e697af-0206-4935-a538-a070acd0a1ae",
   "metadata": {},
   "outputs": [],
   "source": []
  },
  {
   "cell_type": "code",
   "execution_count": null,
   "id": "7d6af470-69f1-4b02-b759-edd94ca166e9",
   "metadata": {},
   "outputs": [],
   "source": []
  },
  {
   "cell_type": "markdown",
   "id": "b8ee14db-fe4d-43a1-92ab-606990fbe3b5",
   "metadata": {},
   "source": [
    "## 61~70"
   ]
  },
  {
   "cell_type": "code",
   "execution_count": null,
   "id": "90ed4c55-ebee-4d66-b44b-58a737ba8e32",
   "metadata": {},
   "outputs": [],
   "source": []
  },
  {
   "cell_type": "code",
   "execution_count": null,
   "id": "05af8d2e-7f3c-42ec-bcff-8e4bff4fd586",
   "metadata": {},
   "outputs": [],
   "source": []
  },
  {
   "cell_type": "code",
   "execution_count": 4,
   "id": "369b5ad4-cf0b-4fbb-aaa8-c15d1a5837aa",
   "metadata": {},
   "outputs": [],
   "source": [
    "import pandas as pd\n",
    "import numpy as np"
   ]
  },
  {
   "cell_type": "code",
   "execution_count": 4,
   "id": "0a410159-2646-40fa-90d8-b3e879fed856",
   "metadata": {},
   "outputs": [],
   "source": [
    "data = [100, 200, 300]\n",
    "index = [\"철수\", \"영희\", \"아름\"]\n",
    "s = pd.Series(data, index)"
   ]
  },
  {
   "cell_type": "code",
   "execution_count": 5,
   "id": "55993497-86c4-4661-bcf6-4741d4ed1984",
   "metadata": {},
   "outputs": [
    {
     "data": {
      "text/plain": [
       "철수    100\n",
       "영희    200\n",
       "아름    300\n",
       "dtype: int64"
      ]
     },
     "execution_count": 5,
     "metadata": {},
     "output_type": "execute_result"
    }
   ],
   "source": [
    "s"
   ]
  },
  {
   "cell_type": "code",
   "execution_count": 6,
   "id": "a9d77df9-4edf-444a-a3f4-3704b1e756c9",
   "metadata": {},
   "outputs": [
    {
     "data": {
      "text/plain": [
       "pandas.core.series.Series"
      ]
     },
     "execution_count": 6,
     "metadata": {},
     "output_type": "execute_result"
    }
   ],
   "source": [
    "type(s)"
   ]
  },
  {
   "cell_type": "code",
   "execution_count": 9,
   "id": "45de42c0-22ba-4052-b5ab-50faed086b84",
   "metadata": {},
   "outputs": [
    {
     "data": {
      "text/plain": [
       "dtype('int64')"
      ]
     },
     "execution_count": 9,
     "metadata": {},
     "output_type": "execute_result"
    }
   ],
   "source": [
    "s.dtypes"
   ]
  },
  {
   "cell_type": "code",
   "execution_count": 11,
   "id": "b4d11374-11eb-40ef-8623-4e30684e7770",
   "metadata": {},
   "outputs": [
    {
     "data": {
      "text/plain": [
       "dtype('int64')"
      ]
     },
     "execution_count": 11,
     "metadata": {},
     "output_type": "execute_result"
    }
   ],
   "source": [
    "s.dtype"
   ]
  },
  {
   "cell_type": "code",
   "execution_count": 13,
   "id": "5bdb6d5f-e2d6-48fd-9438-563255d64a88",
   "metadata": {},
   "outputs": [],
   "source": [
    "data = [  10,  \"가\" ]\n",
    "s = pd.Series( data )"
   ]
  },
  {
   "cell_type": "code",
   "execution_count": 14,
   "id": "2c101a5d-8ce2-4827-8e64-b79a0a5293bb",
   "metadata": {},
   "outputs": [
    {
     "data": {
      "text/plain": [
       "0    10\n",
       "1     가\n",
       "dtype: object"
      ]
     },
     "execution_count": 14,
     "metadata": {},
     "output_type": "execute_result"
    }
   ],
   "source": [
    "s"
   ]
  },
  {
   "cell_type": "code",
   "execution_count": 17,
   "id": "3bd486ef-b83e-4062-9c48-d42273bba532",
   "metadata": {},
   "outputs": [
    {
     "data": {
      "text/plain": [
       "dtype('O')"
      ]
     },
     "execution_count": 17,
     "metadata": {},
     "output_type": "execute_result"
    }
   ],
   "source": [
    "s.dtypes"
   ]
  },
  {
   "cell_type": "code",
   "execution_count": 18,
   "id": "23d1646e-080a-4073-a529-4e8517d91c48",
   "metadata": {},
   "outputs": [
    {
     "data": {
      "text/plain": [
       "pandas.core.series.Series"
      ]
     },
     "execution_count": 18,
     "metadata": {},
     "output_type": "execute_result"
    }
   ],
   "source": [
    "type(s)"
   ]
  },
  {
   "cell_type": "code",
   "execution_count": 19,
   "id": "fb18fbf5-2032-4a31-a897-01a4303507b0",
   "metadata": {},
   "outputs": [],
   "source": [
    "data = [100, 200, 300]\n",
    "index = [\"철수\", \"영희\", \"아름\"]\n",
    "s = pd.Series(data, index)"
   ]
  },
  {
   "cell_type": "code",
   "execution_count": 20,
   "id": "503107ff-0406-4379-84da-93053898b051",
   "metadata": {},
   "outputs": [
    {
     "data": {
      "text/plain": [
       "철수    100\n",
       "영희    200\n",
       "아름    300\n",
       "dtype: int64"
      ]
     },
     "execution_count": 20,
     "metadata": {},
     "output_type": "execute_result"
    }
   ],
   "source": [
    "s"
   ]
  },
  {
   "cell_type": "code",
   "execution_count": 22,
   "id": "3d9a5197-2d32-4d06-a9c3-83525b601503",
   "metadata": {},
   "outputs": [
    {
     "name": "stdout",
     "output_type": "stream",
     "text": [
      "object\n"
     ]
    }
   ],
   "source": [
    "print(s.index.dtype)"
   ]
  },
  {
   "cell_type": "code",
   "execution_count": 37,
   "id": "55a2c012-b00f-4aeb-a782-703aa32bca73",
   "metadata": {},
   "outputs": [],
   "source": [
    "data = {\n",
    "    \"2020-12-11\": 73400,\n",
    "    \"2020-12-10\": 72900,\n",
    "    \"2020-12-09\": 73900,\n",
    "    \"2020-12-08\": 71700,\n",
    "    \"2020-12-07\": 72900\n",
    "}"
   ]
  },
  {
   "cell_type": "code",
   "execution_count": 33,
   "id": "5c29caa5-0675-41da-8345-c4666d88ee7a",
   "metadata": {},
   "outputs": [],
   "source": [
    "s = pd.Series(data)\n",
    "s.name = \"종가\"\n",
    "s.index.name = \"날짜\""
   ]
  },
  {
   "cell_type": "code",
   "execution_count": 34,
   "id": "efbf32f8-72a8-4259-87ce-91b17da4c108",
   "metadata": {},
   "outputs": [
    {
     "data": {
      "text/plain": [
       "날짜\n",
       "2020-12-11    73400\n",
       "2020-12-10    72900\n",
       "2020-12-09    73900\n",
       "2020-12-08    71700\n",
       "2020-12-07    72900\n",
       "Name: 종가, dtype: int64"
      ]
     },
     "execution_count": 34,
     "metadata": {},
     "output_type": "execute_result"
    }
   ],
   "source": [
    "s"
   ]
  },
  {
   "cell_type": "code",
   "execution_count": 25,
   "id": "31c6a13a-2c4a-4a7d-b210-1bddc5de2c73",
   "metadata": {},
   "outputs": [
    {
     "data": {
      "text/plain": [
       "날짜\n",
       "2020-12-11    73400\n",
       "2020-12-10    72900\n",
       "2020-12-09    73900\n",
       "2020-12-08    71700\n",
       "2020-12-07    72900\n",
       "Name: 종가, dtype: int64"
      ]
     },
     "execution_count": 25,
     "metadata": {},
     "output_type": "execute_result"
    }
   ],
   "source": [
    "s"
   ]
  },
  {
   "cell_type": "code",
   "execution_count": 47,
   "id": "d8761dd3-deb1-49a7-9c1e-56920effb176",
   "metadata": {},
   "outputs": [],
   "source": [
    "data = {\"apple\": 1500, \"banana\": 3000}\n",
    "s = pd.Series(data)"
   ]
  },
  {
   "cell_type": "code",
   "execution_count": 48,
   "id": "c5c9a7fe-ce3c-42d7-bfcd-dddceb3c1ee2",
   "metadata": {},
   "outputs": [
    {
     "data": {
      "text/plain": [
       "{'apple': 1500, 'banana': 3000}"
      ]
     },
     "execution_count": 48,
     "metadata": {},
     "output_type": "execute_result"
    }
   ],
   "source": [
    "data"
   ]
  },
  {
   "cell_type": "code",
   "execution_count": 49,
   "id": "08d5852b-65f7-407b-afb9-0a11f466aa0a",
   "metadata": {},
   "outputs": [
    {
     "data": {
      "text/plain": [
       "apple     1500\n",
       "banana    3000\n",
       "dtype: int64"
      ]
     },
     "execution_count": 49,
     "metadata": {},
     "output_type": "execute_result"
    }
   ],
   "source": [
    "s"
   ]
  },
  {
   "cell_type": "code",
   "execution_count": 52,
   "id": "d77ffd4f-fdef-4e89-938c-a14afdefbdc9",
   "metadata": {},
   "outputs": [
    {
     "data": {
      "text/plain": [
       "{'apple': 1500, 'banana': 3000}"
      ]
     },
     "execution_count": 52,
     "metadata": {},
     "output_type": "execute_result"
    }
   ],
   "source": [
    "s.to_dict()"
   ]
  },
  {
   "cell_type": "code",
   "execution_count": 53,
   "id": "911b7cbb-4a82-4d7b-9696-329d84b02302",
   "metadata": {},
   "outputs": [
    {
     "data": {
      "text/plain": [
       "apple     1500\n",
       "banana    3000\n",
       "dtype: int64"
      ]
     },
     "execution_count": 53,
     "metadata": {},
     "output_type": "execute_result"
    }
   ],
   "source": [
    "s"
   ]
  },
  {
   "cell_type": "code",
   "execution_count": 54,
   "id": "21b2eba5-909f-4634-a918-821ab1b482c3",
   "metadata": {},
   "outputs": [
    {
     "data": {
      "text/plain": [
       "apple     1500\n",
       "banana    3000\n",
       "dtype: int64"
      ]
     },
     "execution_count": 54,
     "metadata": {},
     "output_type": "execute_result"
    }
   ],
   "source": [
    "data = {\"apple\": 1500, \"banana\": 3000}\n",
    "s = pd.Series(data)\n",
    "s"
   ]
  },
  {
   "cell_type": "code",
   "execution_count": 57,
   "id": "138cb0e4-221d-478a-b784-9c0bcfec29a5",
   "metadata": {},
   "outputs": [],
   "source": [
    "s.index.name='icecream'"
   ]
  },
  {
   "cell_type": "code",
   "execution_count": 58,
   "id": "9dec9dca-1201-47f1-a08b-c819902ac4e3",
   "metadata": {},
   "outputs": [
    {
     "data": {
      "text/plain": [
       "icecream\n",
       "apple     1500\n",
       "banana    3000\n",
       "dtype: int64"
      ]
     },
     "execution_count": 58,
     "metadata": {},
     "output_type": "execute_result"
    }
   ],
   "source": [
    "s"
   ]
  },
  {
   "cell_type": "code",
   "execution_count": 59,
   "id": "4f99450b-152b-4d9b-ba3d-be8ecc8bb141",
   "metadata": {},
   "outputs": [],
   "source": [
    "s = pd.Series(data=[1, 2, 3])"
   ]
  },
  {
   "cell_type": "code",
   "execution_count": 60,
   "id": "7f8d0ddc-1ec6-4b84-9be1-c4b527d493bf",
   "metadata": {},
   "outputs": [],
   "source": [
    "s.name='number'"
   ]
  },
  {
   "cell_type": "code",
   "execution_count": 61,
   "id": "c5825483-83a1-41a5-b295-d672caeba658",
   "metadata": {},
   "outputs": [
    {
     "data": {
      "text/plain": [
       "0    1\n",
       "1    2\n",
       "2    3\n",
       "Name: number, dtype: int64"
      ]
     },
     "execution_count": 61,
     "metadata": {},
     "output_type": "execute_result"
    }
   ],
   "source": [
    "s"
   ]
  },
  {
   "cell_type": "code",
   "execution_count": 62,
   "id": "6cb5b059-9dd1-48cc-9931-4e2a5308a479",
   "metadata": {},
   "outputs": [
    {
     "data": {
      "text/plain": [
       "3"
      ]
     },
     "execution_count": 62,
     "metadata": {},
     "output_type": "execute_result"
    }
   ],
   "source": [
    "s[2]"
   ]
  },
  {
   "cell_type": "code",
   "execution_count": 63,
   "id": "f8e2461a-cab7-42ba-8beb-8adfcd4a5f69",
   "metadata": {},
   "outputs": [],
   "source": [
    "s[2] = None"
   ]
  },
  {
   "cell_type": "code",
   "execution_count": 64,
   "id": "7d30b301-ca20-4b6f-b7ef-071df22561ba",
   "metadata": {},
   "outputs": [
    {
     "data": {
      "text/plain": [
       "0    1.0\n",
       "1    2.0\n",
       "2    NaN\n",
       "Name: number, dtype: float64"
      ]
     },
     "execution_count": 64,
     "metadata": {},
     "output_type": "execute_result"
    }
   ],
   "source": [
    "s"
   ]
  },
  {
   "cell_type": "code",
   "execution_count": 65,
   "id": "f3791154-550c-4938-8e72-b9162223cda6",
   "metadata": {},
   "outputs": [
    {
     "data": {
      "text/plain": [
       "dtype('int64')"
      ]
     },
     "execution_count": 65,
     "metadata": {},
     "output_type": "execute_result"
    }
   ],
   "source": [
    "s.index.dtype"
   ]
  },
  {
   "cell_type": "code",
   "execution_count": 66,
   "id": "3545e2d6-7f55-4d4b-8ff6-7f51f3d38c0d",
   "metadata": {},
   "outputs": [
    {
     "data": {
      "text/plain": [
       "array([0, 1, 2], dtype=int64)"
      ]
     },
     "execution_count": 66,
     "metadata": {},
     "output_type": "execute_result"
    }
   ],
   "source": [
    "s.index.to_numpy()"
   ]
  },
  {
   "cell_type": "code",
   "execution_count": 67,
   "id": "7b8d6615-1a1c-4b6a-bcd3-11c288acd4a4",
   "metadata": {},
   "outputs": [],
   "source": [
    "s = pd.Series([1, 2, 3])"
   ]
  },
  {
   "cell_type": "code",
   "execution_count": 68,
   "id": "1f5ff676-2d53-4672-8ba9-729c9d251c7b",
   "metadata": {},
   "outputs": [
    {
     "data": {
      "text/plain": [
       "dtype('int64')"
      ]
     },
     "execution_count": 68,
     "metadata": {},
     "output_type": "execute_result"
    }
   ],
   "source": [
    "s.dtype"
   ]
  },
  {
   "cell_type": "code",
   "execution_count": 69,
   "id": "15af919d-a4c8-48cb-9987-1a0cb53ef8e3",
   "metadata": {},
   "outputs": [],
   "source": [
    "df = pd.DataFrame({'A': [1, 2, 3], 'B': [4, 5, 6]}, index=['a', 'b', 'c']); "
   ]
  },
  {
   "cell_type": "code",
   "execution_count": 70,
   "id": "0fff335f-c823-4626-be9a-8f74a1fc2190",
   "metadata": {},
   "outputs": [
    {
     "data": {
      "text/html": [
       "<div>\n",
       "<style scoped>\n",
       "    .dataframe tbody tr th:only-of-type {\n",
       "        vertical-align: middle;\n",
       "    }\n",
       "\n",
       "    .dataframe tbody tr th {\n",
       "        vertical-align: top;\n",
       "    }\n",
       "\n",
       "    .dataframe thead th {\n",
       "        text-align: right;\n",
       "    }\n",
       "</style>\n",
       "<table border=\"1\" class=\"dataframe\">\n",
       "  <thead>\n",
       "    <tr style=\"text-align: right;\">\n",
       "      <th></th>\n",
       "      <th>A</th>\n",
       "      <th>B</th>\n",
       "    </tr>\n",
       "  </thead>\n",
       "  <tbody>\n",
       "    <tr>\n",
       "      <th>a</th>\n",
       "      <td>1</td>\n",
       "      <td>4</td>\n",
       "    </tr>\n",
       "    <tr>\n",
       "      <th>b</th>\n",
       "      <td>2</td>\n",
       "      <td>5</td>\n",
       "    </tr>\n",
       "    <tr>\n",
       "      <th>c</th>\n",
       "      <td>3</td>\n",
       "      <td>6</td>\n",
       "    </tr>\n",
       "  </tbody>\n",
       "</table>\n",
       "</div>"
      ],
      "text/plain": [
       "   A  B\n",
       "a  1  4\n",
       "b  2  5\n",
       "c  3  6"
      ]
     },
     "execution_count": 70,
     "metadata": {},
     "output_type": "execute_result"
    }
   ],
   "source": [
    "df"
   ]
  },
  {
   "cell_type": "code",
   "execution_count": 72,
   "id": "a9e7705d-b284-4e0f-a7f7-8dee114cfa74",
   "metadata": {},
   "outputs": [
    {
     "name": "stdout",
     "output_type": "stream",
     "text": [
      "['a' 'b' 'c']\n"
     ]
    }
   ],
   "source": [
    "array = np.array(df.index.array)\n",
    "print(array)"
   ]
  },
  {
   "cell_type": "code",
   "execution_count": 73,
   "id": "2de5bde7-b5c0-4624-96b8-0c614fe23a01",
   "metadata": {},
   "outputs": [
    {
     "data": {
      "text/plain": [
       "dtype('O')"
      ]
     },
     "execution_count": 73,
     "metadata": {},
     "output_type": "execute_result"
    }
   ],
   "source": [
    "array.dtype"
   ]
  },
  {
   "cell_type": "code",
   "execution_count": null,
   "id": "5478a21d-74d1-4c19-906c-e1a9644a97c2",
   "metadata": {},
   "outputs": [],
   "source": []
  },
  {
   "cell_type": "code",
   "execution_count": null,
   "id": "cca6e3a4-7139-4427-b71c-19b3ae1b7152",
   "metadata": {},
   "outputs": [],
   "source": []
  },
  {
   "cell_type": "markdown",
   "id": "553b2c25-6d4e-488d-b473-262670ed5ffd",
   "metadata": {},
   "source": [
    "# 4. 시리즈 인덱싱과 슬라이싱"
   ]
  },
  {
   "cell_type": "code",
   "execution_count": null,
   "id": "053a0e7a-c030-429b-a0b1-ca105350007f",
   "metadata": {},
   "outputs": [],
   "source": []
  },
  {
   "cell_type": "code",
   "execution_count": null,
   "id": "258861bc-a3f1-4159-810f-341c6e159c8c",
   "metadata": {},
   "outputs": [],
   "source": []
  },
  {
   "cell_type": "markdown",
   "id": "bac0afb5-d0c1-45ce-b218-1ccebd136538",
   "metadata": {},
   "source": [
    "## 71~80"
   ]
  },
  {
   "cell_type": "code",
   "execution_count": null,
   "id": "15042479-afce-4fc6-8775-aa6ffdbdf8e0",
   "metadata": {},
   "outputs": [],
   "source": []
  },
  {
   "cell_type": "code",
   "execution_count": null,
   "id": "65328683-2cdf-46c6-8b1f-0d8fcd96cfc6",
   "metadata": {},
   "outputs": [],
   "source": []
  },
  {
   "cell_type": "code",
   "execution_count": 1,
   "id": "f9b5e6ab-a8f7-4e01-83e8-20ecb816bb20",
   "metadata": {},
   "outputs": [
    {
     "name": "stdout",
     "output_type": "stream",
     "text": [
      "object\n"
     ]
    }
   ],
   "source": [
    "import pandas as pd\n",
    "\n",
    "s = pd.Series([1, 2, 'python'])\n",
    "print(s.dtype)"
   ]
  },
  {
   "cell_type": "code",
   "execution_count": 2,
   "id": "9d8760d4-1942-4a69-895d-522b54d48bce",
   "metadata": {},
   "outputs": [],
   "source": [
    "s = pd.Series(['1', '2', '3'])"
   ]
  },
  {
   "cell_type": "code",
   "execution_count": 3,
   "id": "013af200-e886-4ad9-8443-eac3fc3e3cbf",
   "metadata": {},
   "outputs": [
    {
     "data": {
      "text/plain": [
       "0    1\n",
       "1    2\n",
       "2    3\n",
       "dtype: object"
      ]
     },
     "execution_count": 3,
     "metadata": {},
     "output_type": "execute_result"
    }
   ],
   "source": [
    "s"
   ]
  },
  {
   "cell_type": "code",
   "execution_count": 5,
   "id": "3f55f8cb-6b0d-457f-829e-8207a306ea0b",
   "metadata": {},
   "outputs": [
    {
     "data": {
      "text/plain": [
       "0    1\n",
       "1    2\n",
       "2    3\n",
       "dtype: int32"
      ]
     },
     "execution_count": 5,
     "metadata": {},
     "output_type": "execute_result"
    }
   ],
   "source": [
    "s.astype('int32')"
   ]
  },
  {
   "cell_type": "code",
   "execution_count": 12,
   "id": "96c1ff1d-4106-42c1-bf1a-5f7fa837c05f",
   "metadata": {},
   "outputs": [],
   "source": [
    "amount =pd.Series(['50000','1','4000'], index= ['BTC','XRP','ETH'])"
   ]
  },
  {
   "cell_type": "code",
   "execution_count": 18,
   "id": "23151350-745b-46a8-9c0b-c54180f85925",
   "metadata": {},
   "outputs": [],
   "source": [
    "amount=amount.astype('float')"
   ]
  },
  {
   "cell_type": "code",
   "execution_count": 19,
   "id": "ddf86490-115d-41b9-a3f3-f13d335e0c5f",
   "metadata": {},
   "outputs": [
    {
     "data": {
      "text/plain": [
       "BTC    50000.0\n",
       "XRP        1.0\n",
       "ETH     4000.0\n",
       "dtype: float64"
      ]
     },
     "execution_count": 19,
     "metadata": {},
     "output_type": "execute_result"
    }
   ],
   "source": [
    "amount"
   ]
  },
  {
   "cell_type": "code",
   "execution_count": 21,
   "id": "d1cea33b-6fc2-4c82-8f39-91429f63e3e0",
   "metadata": {},
   "outputs": [],
   "source": [
    "data = [100, 200, 300]\n",
    "index = [\"철수\", \"영희\", \"아름\"]\n",
    "s = pd.Series(data, index)"
   ]
  },
  {
   "cell_type": "code",
   "execution_count": 22,
   "id": "3db79185-0de0-4212-98a0-50c608a5303a",
   "metadata": {},
   "outputs": [
    {
     "data": {
      "text/plain": [
       "철수    100\n",
       "영희    200\n",
       "아름    300\n",
       "dtype: int64"
      ]
     },
     "execution_count": 22,
     "metadata": {},
     "output_type": "execute_result"
    }
   ],
   "source": [
    "s"
   ]
  },
  {
   "cell_type": "code",
   "execution_count": 23,
   "id": "b16b0623-62f1-4056-b3ab-f375e223c918",
   "metadata": {},
   "outputs": [
    {
     "data": {
      "text/plain": [
       "200"
      ]
     },
     "execution_count": 23,
     "metadata": {},
     "output_type": "execute_result"
    }
   ],
   "source": [
    "s['영희']"
   ]
  },
  {
   "cell_type": "code",
   "execution_count": 24,
   "id": "f7de73dd-ef68-434e-84a3-9b04568a5e72",
   "metadata": {},
   "outputs": [
    {
     "data": {
      "text/plain": [
       "200"
      ]
     },
     "execution_count": 24,
     "metadata": {},
     "output_type": "execute_result"
    }
   ],
   "source": [
    "s.iloc[1]"
   ]
  },
  {
   "cell_type": "code",
   "execution_count": 25,
   "id": "a2e83d4b-578b-4e5e-ba9e-3a9b62d9adbc",
   "metadata": {},
   "outputs": [
    {
     "data": {
      "text/plain": [
       "200"
      ]
     },
     "execution_count": 25,
     "metadata": {},
     "output_type": "execute_result"
    }
   ],
   "source": [
    "s.loc['영희']"
   ]
  },
  {
   "cell_type": "code",
   "execution_count": 30,
   "id": "9c32e285-5804-47d4-ad3a-4fb259088683",
   "metadata": {},
   "outputs": [
    {
     "name": "stdout",
     "output_type": "stream",
     "text": [
      "200\n"
     ]
    }
   ],
   "source": [
    "print(s[\"영희\"])"
   ]
  },
  {
   "cell_type": "code",
   "execution_count": 32,
   "id": "1856ab8a-0351-4996-bcd3-7ffa08312560",
   "metadata": {},
   "outputs": [
    {
     "data": {
      "text/plain": [
       "철수    100\n",
       "영희    200\n",
       "dtype: int64"
      ]
     },
     "execution_count": 32,
     "metadata": {},
     "output_type": "execute_result"
    }
   ],
   "source": [
    "s.iloc[:2]"
   ]
  },
  {
   "cell_type": "code",
   "execution_count": 33,
   "id": "5a4ec0be-b37d-4fbd-a341-3da1c9063130",
   "metadata": {},
   "outputs": [],
   "source": [
    "data = [100, 200, 300, 400, 500, 600]\n",
    "index = [\"08/01\", \"08/02\", \"08/03\", \"08/04\", \"08/05\", \"08/06\"]\n",
    "s = pd.Series(data, index)"
   ]
  },
  {
   "cell_type": "code",
   "execution_count": 34,
   "id": "3a8df96d-51f9-4110-82f8-e805f209f17d",
   "metadata": {},
   "outputs": [
    {
     "data": {
      "text/plain": [
       "08/01    100\n",
       "08/02    200\n",
       "08/03    300\n",
       "08/04    400\n",
       "08/05    500\n",
       "08/06    600\n",
       "dtype: int64"
      ]
     },
     "execution_count": 34,
     "metadata": {},
     "output_type": "execute_result"
    }
   ],
   "source": [
    "s"
   ]
  },
  {
   "cell_type": "code",
   "execution_count": 41,
   "id": "daea092d-a4c5-4bfa-991e-0b1c3be93ee6",
   "metadata": {},
   "outputs": [
    {
     "data": {
      "text/plain": [
       "Index(['08/01', '08/02', '08/03'], dtype='object')"
      ]
     },
     "execution_count": 41,
     "metadata": {},
     "output_type": "execute_result"
    }
   ],
   "source": [
    "s.iloc[:3].index"
   ]
  },
  {
   "cell_type": "code",
   "execution_count": 40,
   "id": "397fc2bc-5c4e-46ac-8162-b7153f16361f",
   "metadata": {},
   "outputs": [
    {
     "data": {
      "text/plain": [
       "array([100, 300, 500], dtype=int64)"
      ]
     },
     "execution_count": 40,
     "metadata": {},
     "output_type": "execute_result"
    }
   ],
   "source": [
    "s.iloc[::2].values"
   ]
  },
  {
   "cell_type": "code",
   "execution_count": null,
   "id": "46663f4c-eed2-4ac1-91ce-ba86d404ae6c",
   "metadata": {},
   "outputs": [],
   "source": []
  },
  {
   "cell_type": "code",
   "execution_count": null,
   "id": "23bbd228-b425-42b2-b8b6-235d69e71607",
   "metadata": {},
   "outputs": [],
   "source": []
  },
  {
   "cell_type": "markdown",
   "id": "db8f5cef-574a-4191-8366-12cb8c82d49c",
   "metadata": {},
   "source": [
    "# 5. 시리즈 수정, 추가 및 삭제"
   ]
  },
  {
   "cell_type": "code",
   "execution_count": null,
   "id": "60dc290a-2dd5-42bd-a762-4e5fd19c1f2b",
   "metadata": {},
   "outputs": [],
   "source": []
  },
  {
   "cell_type": "code",
   "execution_count": null,
   "id": "6a86d8be-4438-49d1-b550-fac5bdc67576",
   "metadata": {},
   "outputs": [],
   "source": []
  },
  {
   "cell_type": "markdown",
   "id": "3570826f-d7b1-40c3-abe7-64fe4a28cbcf",
   "metadata": {},
   "source": [
    "## 81~90"
   ]
  },
  {
   "cell_type": "code",
   "execution_count": null,
   "id": "f33cc3e5-e745-40f7-9715-b5042d3cc08e",
   "metadata": {},
   "outputs": [],
   "source": []
  },
  {
   "cell_type": "code",
   "execution_count": null,
   "id": "9c9dec98-b407-472f-aa49-d6558e69bf49",
   "metadata": {},
   "outputs": [],
   "source": []
  },
  {
   "cell_type": "code",
   "execution_count": 52,
   "id": "76825356-5ab9-4dae-8b19-484ab180fa02",
   "metadata": {},
   "outputs": [],
   "source": [
    "data = [100, 200, 300]\n",
    "index = [\"철수\", \"영희\", \"아름\"]\n",
    "s = pd.Series(data, index)"
   ]
  },
  {
   "cell_type": "code",
   "execution_count": 43,
   "id": "7f4fcfba-10d7-4f05-94d2-f3b20c8e9f21",
   "metadata": {},
   "outputs": [
    {
     "data": {
      "text/plain": [
       "철수    100\n",
       "영희    200\n",
       "아름    300\n",
       "dtype: int64"
      ]
     },
     "execution_count": 43,
     "metadata": {},
     "output_type": "execute_result"
    }
   ],
   "source": [
    "s"
   ]
  },
  {
   "cell_type": "code",
   "execution_count": 53,
   "id": "169781d8-0faf-457b-bdb0-eb9ce81dfeae",
   "metadata": {},
   "outputs": [],
   "source": [
    "s.loc[\"순이\"]=400"
   ]
  },
  {
   "cell_type": "code",
   "execution_count": 45,
   "id": "61d1adc0-d3cb-4ae1-b8c5-c7c0c5f6d4b3",
   "metadata": {},
   "outputs": [
    {
     "data": {
      "text/plain": [
       "철수    100\n",
       "영희    200\n",
       "아름    300\n",
       "순이    400\n",
       "dtype: int64"
      ]
     },
     "execution_count": 45,
     "metadata": {},
     "output_type": "execute_result"
    }
   ],
   "source": [
    "s"
   ]
  },
  {
   "cell_type": "code",
   "execution_count": 48,
   "id": "23cc9612-d119-49b7-9e1d-dd35347b8318",
   "metadata": {},
   "outputs": [],
   "source": [
    "s.drop(\"철수\", inplace=True)"
   ]
  },
  {
   "cell_type": "code",
   "execution_count": 54,
   "id": "06e223d2-8a91-4908-afa8-10e181a77d82",
   "metadata": {},
   "outputs": [
    {
     "data": {
      "text/plain": [
       "철수    100\n",
       "영희    200\n",
       "아름    300\n",
       "순이    400\n",
       "dtype: int64"
      ]
     },
     "execution_count": 54,
     "metadata": {},
     "output_type": "execute_result"
    }
   ],
   "source": [
    "s"
   ]
  },
  {
   "cell_type": "code",
   "execution_count": 55,
   "id": "7b343e44-b650-4f2f-8b70-5ac18ce81769",
   "metadata": {},
   "outputs": [],
   "source": [
    "s=s.iloc[1:]"
   ]
  },
  {
   "cell_type": "code",
   "execution_count": 56,
   "id": "1ff33fde-d666-46b9-ae38-7809d8ea5dfb",
   "metadata": {},
   "outputs": [
    {
     "data": {
      "text/plain": [
       "영희    200\n",
       "아름    300\n",
       "순이    400\n",
       "dtype: int64"
      ]
     },
     "execution_count": 56,
     "metadata": {},
     "output_type": "execute_result"
    }
   ],
   "source": [
    "s"
   ]
  },
  {
   "cell_type": "code",
   "execution_count": 57,
   "id": "1bb063e1-d191-40ad-bb45-85f76631e771",
   "metadata": {},
   "outputs": [],
   "source": [
    "from pandas import Series\n",
    "\n",
    "data = {\n",
    "    \"삼성전자\": \"전기,전자\",\n",
    "    \"LG전자\": \"전기,전자\",\n",
    "    \"현대차\": \"운수장비\",\n",
    "    \"NAVER\": \"서비스업\",\n",
    "    \"카카오\": \"서비스업\"\n",
    "}\n",
    "s = Series(data)"
   ]
  },
  {
   "cell_type": "code",
   "execution_count": 58,
   "id": "0d1cf120-ac7b-4771-a01a-349f34c7fb18",
   "metadata": {},
   "outputs": [
    {
     "data": {
      "text/plain": [
       "삼성전자     전기,전자\n",
       "LG전자     전기,전자\n",
       "현대차       운수장비\n",
       "NAVER     서비스업\n",
       "카카오       서비스업\n",
       "dtype: object"
      ]
     },
     "execution_count": 58,
     "metadata": {},
     "output_type": "execute_result"
    }
   ],
   "source": [
    "s"
   ]
  },
  {
   "cell_type": "code",
   "execution_count": 59,
   "id": "f7087590-5ce4-4654-9f3e-ff985a75571d",
   "metadata": {},
   "outputs": [
    {
     "data": {
      "text/plain": [
       "array(['전기,전자', '운수장비', '서비스업'], dtype=object)"
      ]
     },
     "execution_count": 59,
     "metadata": {},
     "output_type": "execute_result"
    }
   ],
   "source": [
    "s.unique()"
   ]
  },
  {
   "cell_type": "code",
   "execution_count": 60,
   "id": "5217d681-d920-4346-bd58-93464118014c",
   "metadata": {},
   "outputs": [],
   "source": [
    "s = pd.Series(\n",
    "    data = [9000, 9000, 8000, 9000, 10000],\n",
    "    index = ['김과장', '이대리', '박전무', '이대리', '이대리']\n",
    ")"
   ]
  },
  {
   "cell_type": "code",
   "execution_count": 63,
   "id": "0892513b-4625-4fd7-9c48-1ba6aa4cf0ed",
   "metadata": {},
   "outputs": [
    {
     "data": {
      "text/plain": [
       "array([ 9000,  8000, 10000], dtype=int64)"
      ]
     },
     "execution_count": 63,
     "metadata": {},
     "output_type": "execute_result"
    }
   ],
   "source": [
    "s.unique()"
   ]
  },
  {
   "cell_type": "code",
   "execution_count": 68,
   "id": "2d9f9ce5-2459-4b02-a985-39364a33f4af",
   "metadata": {},
   "outputs": [
    {
     "data": {
      "text/plain": [
       "Index(['김과장', '이대리', '박전무'], dtype='object')"
      ]
     },
     "execution_count": 68,
     "metadata": {},
     "output_type": "execute_result"
    }
   ],
   "source": [
    "s.index.unique()"
   ]
  },
  {
   "cell_type": "code",
   "execution_count": 69,
   "id": "3363721c-df65-4e5e-bd33-acc3d510c2e0",
   "metadata": {},
   "outputs": [
    {
     "data": {
      "text/plain": [
       "9000     3\n",
       "8000     1\n",
       "10000    1\n",
       "dtype: int64"
      ]
     },
     "execution_count": 69,
     "metadata": {},
     "output_type": "execute_result"
    }
   ],
   "source": [
    "s.value_counts()"
   ]
  },
  {
   "cell_type": "code",
   "execution_count": 72,
   "id": "e52dab1a-9503-4708-9c2a-7cabb64ddcc4",
   "metadata": {},
   "outputs": [
    {
     "data": {
      "text/plain": [
       "이대리    3\n",
       "김과장    1\n",
       "박전무    1\n",
       "dtype: int64"
      ]
     },
     "execution_count": 72,
     "metadata": {},
     "output_type": "execute_result"
    }
   ],
   "source": [
    "s.index.value_counts()"
   ]
  },
  {
   "cell_type": "code",
   "execution_count": 74,
   "id": "b59e29d4-3a1a-45ca-b615-0dba756f14bb",
   "metadata": {},
   "outputs": [],
   "source": [
    "data = {\n",
    "    \"삼성전자\": \"전기,전자\",\n",
    "    \"LG전자\": \"전기,전자\",\n",
    "    \"현대차\": \"운수장비\",\n",
    "    \"NAVER\": \"서비스업\",\n",
    "    \"카카오\": \"서비스업\"\n",
    "}\n",
    "s = Series(data)"
   ]
  },
  {
   "cell_type": "code",
   "execution_count": 75,
   "id": "7e5c87e5-b86e-4c36-88c0-b651fc5d471d",
   "metadata": {},
   "outputs": [
    {
     "data": {
      "text/plain": [
       "전기,전자    2\n",
       "서비스업     2\n",
       "운수장비     1\n",
       "dtype: int64"
      ]
     },
     "execution_count": 75,
     "metadata": {},
     "output_type": "execute_result"
    }
   ],
   "source": [
    "s.value_counts()"
   ]
  },
  {
   "cell_type": "code",
   "execution_count": 76,
   "id": "b61f46d7-f587-4e6b-8a12-f54db0a32dbb",
   "metadata": {},
   "outputs": [],
   "source": [
    "data = {\"매출액\" : \"300\", \"PER\" : None, \"PBR\" : \"2.0\"}"
   ]
  },
  {
   "cell_type": "code",
   "execution_count": 77,
   "id": "5152c158-9e33-463b-9d3c-0caf664171af",
   "metadata": {},
   "outputs": [
    {
     "data": {
      "text/plain": [
       "{'매출액': '300', 'PER': None, 'PBR': '2.0'}"
      ]
     },
     "execution_count": 77,
     "metadata": {},
     "output_type": "execute_result"
    }
   ],
   "source": [
    "data"
   ]
  },
  {
   "cell_type": "code",
   "execution_count": 80,
   "id": "e5b95381-73c3-42bb-aff7-ced622b88c01",
   "metadata": {},
   "outputs": [],
   "source": [
    "s=pd.Series(data)"
   ]
  },
  {
   "cell_type": "code",
   "execution_count": 86,
   "id": "8cd6d6ed-b0b2-4b17-948a-6bb02c0ee05b",
   "metadata": {},
   "outputs": [],
   "source": [
    "s=s.reset_index()"
   ]
  },
  {
   "cell_type": "code",
   "execution_count": 87,
   "id": "1d180835-0409-418a-97a5-a6bb4f80db11",
   "metadata": {},
   "outputs": [
    {
     "data": {
      "text/html": [
       "<div>\n",
       "<style scoped>\n",
       "    .dataframe tbody tr th:only-of-type {\n",
       "        vertical-align: middle;\n",
       "    }\n",
       "\n",
       "    .dataframe tbody tr th {\n",
       "        vertical-align: top;\n",
       "    }\n",
       "\n",
       "    .dataframe thead th {\n",
       "        text-align: right;\n",
       "    }\n",
       "</style>\n",
       "<table border=\"1\" class=\"dataframe\">\n",
       "  <thead>\n",
       "    <tr style=\"text-align: right;\">\n",
       "      <th></th>\n",
       "      <th>index</th>\n",
       "      <th>0</th>\n",
       "    </tr>\n",
       "  </thead>\n",
       "  <tbody>\n",
       "    <tr>\n",
       "      <th>0</th>\n",
       "      <td>매출액</td>\n",
       "      <td>300</td>\n",
       "    </tr>\n",
       "    <tr>\n",
       "      <th>1</th>\n",
       "      <td>PER</td>\n",
       "      <td>None</td>\n",
       "    </tr>\n",
       "    <tr>\n",
       "      <th>2</th>\n",
       "      <td>PBR</td>\n",
       "      <td>2.0</td>\n",
       "    </tr>\n",
       "  </tbody>\n",
       "</table>\n",
       "</div>"
      ],
      "text/plain": [
       "  index     0\n",
       "0   매출액   300\n",
       "1   PER  None\n",
       "2   PBR   2.0"
      ]
     },
     "execution_count": 87,
     "metadata": {},
     "output_type": "execute_result"
    }
   ],
   "source": [
    "s"
   ]
  },
  {
   "cell_type": "code",
   "execution_count": 94,
   "id": "d7f61d88-edfe-4d9c-8753-2215b9a77ad1",
   "metadata": {},
   "outputs": [],
   "source": [
    "s.columns = [ '항목','값']"
   ]
  },
  {
   "cell_type": "code",
   "execution_count": 96,
   "id": "c91cb42a-2c5a-4958-b435-95089a1e6ecd",
   "metadata": {},
   "outputs": [
    {
     "data": {
      "text/html": [
       "<div>\n",
       "<style scoped>\n",
       "    .dataframe tbody tr th:only-of-type {\n",
       "        vertical-align: middle;\n",
       "    }\n",
       "\n",
       "    .dataframe tbody tr th {\n",
       "        vertical-align: top;\n",
       "    }\n",
       "\n",
       "    .dataframe thead th {\n",
       "        text-align: right;\n",
       "    }\n",
       "</style>\n",
       "<table border=\"1\" class=\"dataframe\">\n",
       "  <thead>\n",
       "    <tr style=\"text-align: right;\">\n",
       "      <th></th>\n",
       "      <th>항목</th>\n",
       "      <th>값</th>\n",
       "    </tr>\n",
       "  </thead>\n",
       "  <tbody>\n",
       "    <tr>\n",
       "      <th>0</th>\n",
       "      <td>매출액</td>\n",
       "      <td>300</td>\n",
       "    </tr>\n",
       "    <tr>\n",
       "      <th>1</th>\n",
       "      <td>PER</td>\n",
       "      <td>None</td>\n",
       "    </tr>\n",
       "    <tr>\n",
       "      <th>2</th>\n",
       "      <td>PBR</td>\n",
       "      <td>2.0</td>\n",
       "    </tr>\n",
       "  </tbody>\n",
       "</table>\n",
       "</div>"
      ],
      "text/plain": [
       "    항목     값\n",
       "0  매출액   300\n",
       "1  PER  None\n",
       "2  PBR   2.0"
      ]
     },
     "execution_count": 96,
     "metadata": {},
     "output_type": "execute_result"
    }
   ],
   "source": [
    "s"
   ]
  },
  {
   "cell_type": "code",
   "execution_count": null,
   "id": "22c8fe3d-aa39-4251-899e-b51a8b5910d4",
   "metadata": {},
   "outputs": [],
   "source": []
  },
  {
   "cell_type": "code",
   "execution_count": null,
   "id": "23d508d2-69c3-4359-8f49-54ade79c9d39",
   "metadata": {},
   "outputs": [],
   "source": []
  },
  {
   "cell_type": "markdown",
   "id": "bb55a883-a912-4d63-b7a3-9477c4943134",
   "metadata": {},
   "source": [
    "# 6. 시리즈 정렬, 순위 및 비교"
   ]
  },
  {
   "cell_type": "code",
   "execution_count": null,
   "id": "d7095fb6-a4b0-4711-988a-81958ed89435",
   "metadata": {},
   "outputs": [],
   "source": []
  },
  {
   "cell_type": "code",
   "execution_count": null,
   "id": "c37c4033-724e-4603-a32e-ae04cbdb348d",
   "metadata": {},
   "outputs": [],
   "source": []
  },
  {
   "cell_type": "markdown",
   "id": "9802d900-837b-47b0-bbb4-927a2e9cfba5",
   "metadata": {},
   "source": [
    "## 91~100"
   ]
  },
  {
   "cell_type": "code",
   "execution_count": null,
   "id": "6166d107-0cae-4f79-8a1a-3f4b2b3c0371",
   "metadata": {},
   "outputs": [],
   "source": []
  },
  {
   "cell_type": "code",
   "execution_count": null,
   "id": "54c9c15c-9098-4850-833a-0f3c96c4134b",
   "metadata": {},
   "outputs": [],
   "source": []
  },
  {
   "cell_type": "code",
   "execution_count": 97,
   "id": "ed2b5208-26d9-4300-9354-eb06b3f4cbc0",
   "metadata": {},
   "outputs": [],
   "source": [
    "data = [100, 300, 200]\n",
    "index = [\"08/01\", \"08/02\", \"08/03\"]\n",
    "s = Series(data, index)"
   ]
  },
  {
   "cell_type": "code",
   "execution_count": 98,
   "id": "4480ee18-101f-40a1-9c02-028a7217cf21",
   "metadata": {},
   "outputs": [
    {
     "data": {
      "text/plain": [
       "08/01    100\n",
       "08/02    300\n",
       "08/03    200\n",
       "dtype: int64"
      ]
     },
     "execution_count": 98,
     "metadata": {},
     "output_type": "execute_result"
    }
   ],
   "source": [
    "s"
   ]
  },
  {
   "cell_type": "code",
   "execution_count": 99,
   "id": "c2937e28-6fbd-4f50-a5bf-96eef883e1e1",
   "metadata": {},
   "outputs": [
    {
     "data": {
      "text/plain": [
       "08/01    100\n",
       "08/03    200\n",
       "08/02    300\n",
       "dtype: int64"
      ]
     },
     "execution_count": 99,
     "metadata": {},
     "output_type": "execute_result"
    }
   ],
   "source": [
    "s.sort_values()"
   ]
  },
  {
   "cell_type": "code",
   "execution_count": 100,
   "id": "6b8c6d56-ff9a-4ee4-a504-c5699569b200",
   "metadata": {},
   "outputs": [
    {
     "data": {
      "text/plain": [
       "08/01    100\n",
       "08/03    200\n",
       "08/02    300\n",
       "dtype: int64"
      ]
     },
     "execution_count": 100,
     "metadata": {},
     "output_type": "execute_result"
    }
   ],
   "source": [
    "s.iloc[[0,2,1]]"
   ]
  },
  {
   "cell_type": "code",
   "execution_count": 101,
   "id": "84dc29b3-df9f-4566-8bce-7fc787bc5156",
   "metadata": {},
   "outputs": [
    {
     "data": {
      "text/plain": [
       "08/01    100\n",
       "08/03    200\n",
       "08/02    300\n",
       "dtype: int64"
      ]
     },
     "execution_count": 101,
     "metadata": {},
     "output_type": "execute_result"
    }
   ],
   "source": [
    "s.loc[['08/01','08/03','08/02']]"
   ]
  },
  {
   "cell_type": "code",
   "execution_count": 3,
   "id": "2eeec472-0166-40dc-812b-3c3cea022129",
   "metadata": {},
   "outputs": [
    {
     "ename": "NameError",
     "evalue": "name 'Series' is not defined",
     "output_type": "error",
     "traceback": [
      "\u001b[1;31m---------------------------------------------------------------------------\u001b[0m",
      "\u001b[1;31mNameError\u001b[0m                                 Traceback (most recent call last)",
      "Input \u001b[1;32mIn [3]\u001b[0m, in \u001b[0;36m<cell line: 4>\u001b[1;34m()\u001b[0m\n\u001b[0;32m      1\u001b[0m \u001b[38;5;28;01mimport\u001b[39;00m \u001b[38;5;21;01mnumpy\u001b[39;00m \u001b[38;5;28;01mas\u001b[39;00m \u001b[38;5;21;01mnp\u001b[39;00m\n\u001b[0;32m      3\u001b[0m data \u001b[38;5;241m=\u001b[39m np\u001b[38;5;241m.\u001b[39mrandom\u001b[38;5;241m.\u001b[39mrandint(\u001b[38;5;241m10\u001b[39m, size\u001b[38;5;241m=\u001b[39m\u001b[38;5;241m4\u001b[39m)\n\u001b[1;32m----> 4\u001b[0m s \u001b[38;5;241m=\u001b[39m \u001b[43mSeries\u001b[49m(data)\n",
      "\u001b[1;31mNameError\u001b[0m: name 'Series' is not defined"
     ]
    }
   ],
   "source": [
    "import numpy as np\n",
    "\n",
    "data = np.random.randint(10, size=4)\n",
    "s = Series(data)"
   ]
  },
  {
   "cell_type": "code",
   "execution_count": 103,
   "id": "98a724ab-3e63-45ca-82e6-35b27ff371a4",
   "metadata": {},
   "outputs": [
    {
     "data": {
      "text/plain": [
       "0    5\n",
       "1    6\n",
       "2    2\n",
       "3    6\n",
       "dtype: int32"
      ]
     },
     "execution_count": 103,
     "metadata": {},
     "output_type": "execute_result"
    }
   ],
   "source": [
    "s"
   ]
  },
  {
   "cell_type": "code",
   "execution_count": 104,
   "id": "f4df1039-097f-4650-ae5f-b67a99564c26",
   "metadata": {},
   "outputs": [
    {
     "data": {
      "text/plain": [
       "2    2\n",
       "0    5\n",
       "1    6\n",
       "3    6\n",
       "dtype: int32"
      ]
     },
     "execution_count": 104,
     "metadata": {},
     "output_type": "execute_result"
    }
   ],
   "source": [
    "s.sort_values()"
   ]
  },
  {
   "cell_type": "code",
   "execution_count": 108,
   "id": "39c929c7-25ec-4864-9642-f68733725d7f",
   "metadata": {},
   "outputs": [
    {
     "data": {
      "text/plain": [
       "1    6\n",
       "3    6\n",
       "0    5\n",
       "2    2\n",
       "dtype: int32"
      ]
     },
     "execution_count": 108,
     "metadata": {},
     "output_type": "execute_result"
    }
   ],
   "source": [
    "s.sort_values(ascending=False)"
   ]
  },
  {
   "cell_type": "code",
   "execution_count": 109,
   "id": "d612e649-c6e0-4a8c-ba1f-8e1366d954ec",
   "metadata": {},
   "outputs": [],
   "source": [
    "s = Series(np.random.randint(10, size=4), [\"b\", \"c\", \"a\", \"d\"])"
   ]
  },
  {
   "cell_type": "code",
   "execution_count": 110,
   "id": "d269ec4f-9cf1-4961-bf3e-e062ecb50c6d",
   "metadata": {},
   "outputs": [
    {
     "data": {
      "text/plain": [
       "b    4\n",
       "c    6\n",
       "a    5\n",
       "d    8\n",
       "dtype: int32"
      ]
     },
     "execution_count": 110,
     "metadata": {},
     "output_type": "execute_result"
    }
   ],
   "source": [
    "s"
   ]
  },
  {
   "cell_type": "code",
   "execution_count": 111,
   "id": "958c793c-08c6-4cd7-b3c4-ea80e5b6b2f1",
   "metadata": {},
   "outputs": [
    {
     "data": {
      "text/plain": [
       "a    5\n",
       "b    4\n",
       "c    6\n",
       "d    8\n",
       "dtype: int32"
      ]
     },
     "execution_count": 111,
     "metadata": {},
     "output_type": "execute_result"
    }
   ],
   "source": [
    "s.sort_index()"
   ]
  },
  {
   "cell_type": "code",
   "execution_count": 112,
   "id": "dd652475-3adf-4cc0-869a-de6797183b6a",
   "metadata": {},
   "outputs": [],
   "source": [
    "data = [100, 300, 200]\n",
    "s = Series(data)"
   ]
  },
  {
   "cell_type": "code",
   "execution_count": 113,
   "id": "1aa7fac0-18f9-4eb6-b551-8a19ec30ee7a",
   "metadata": {},
   "outputs": [
    {
     "data": {
      "text/plain": [
       "0    100\n",
       "1    300\n",
       "2    200\n",
       "dtype: int64"
      ]
     },
     "execution_count": 113,
     "metadata": {},
     "output_type": "execute_result"
    }
   ],
   "source": [
    "s"
   ]
  },
  {
   "cell_type": "code",
   "execution_count": 115,
   "id": "6a0375e5-1634-4f3e-a71d-34023c86c411",
   "metadata": {},
   "outputs": [
    {
     "data": {
      "text/plain": [
       "0     100000000\n",
       "1    8100000000\n",
       "2    1600000000\n",
       "dtype: int64"
      ]
     },
     "execution_count": 115,
     "metadata": {},
     "output_type": "execute_result"
    }
   ],
   "source": [
    "s**4"
   ]
  },
  {
   "cell_type": "code",
   "execution_count": 116,
   "id": "f354d17a-7eaa-403b-b732-134527804167",
   "metadata": {},
   "outputs": [],
   "source": [
    "data = [100, 300, 200]\n",
    "s0 = Series(data, [\"a\", \"b\", \"c\"])\n",
    "s1 = Series(data, [\"a\", \"c\", \"b\"])"
   ]
  },
  {
   "cell_type": "code",
   "execution_count": 117,
   "id": "85e41237-f63b-4663-8bfa-8667bc5aa868",
   "metadata": {},
   "outputs": [
    {
     "data": {
      "text/plain": [
       "[100, 300, 200]"
      ]
     },
     "execution_count": 117,
     "metadata": {},
     "output_type": "execute_result"
    }
   ],
   "source": [
    "data"
   ]
  },
  {
   "cell_type": "code",
   "execution_count": 118,
   "id": "f8435451-8e7c-47a6-af1f-a4f5e0d40fef",
   "metadata": {},
   "outputs": [
    {
     "data": {
      "text/plain": [
       "a    100\n",
       "b    300\n",
       "c    200\n",
       "dtype: int64"
      ]
     },
     "execution_count": 118,
     "metadata": {},
     "output_type": "execute_result"
    }
   ],
   "source": [
    "s0"
   ]
  },
  {
   "cell_type": "code",
   "execution_count": 119,
   "id": "c7ecf8bb-b1ca-427c-8e04-2f3c6831339b",
   "metadata": {},
   "outputs": [
    {
     "data": {
      "text/plain": [
       "a    100\n",
       "c    300\n",
       "b    200\n",
       "dtype: int64"
      ]
     },
     "execution_count": 119,
     "metadata": {},
     "output_type": "execute_result"
    }
   ],
   "source": [
    "s1"
   ]
  },
  {
   "cell_type": "code",
   "execution_count": 120,
   "id": "ace61702-4d2b-4874-a995-c0274e371c1d",
   "metadata": {},
   "outputs": [
    {
     "data": {
      "text/plain": [
       "a    200\n",
       "b    500\n",
       "c    500\n",
       "dtype: int64"
      ]
     },
     "execution_count": 120,
     "metadata": {},
     "output_type": "execute_result"
    }
   ],
   "source": [
    "s0 + s1"
   ]
  },
  {
   "cell_type": "code",
   "execution_count": 121,
   "id": "add68666-65cc-4a10-8376-f750b545e0cc",
   "metadata": {},
   "outputs": [],
   "source": [
    "high = Series(data=[51500, 51200, 52500], index=[\"5/1\", \"5/2\", \"5/3\"])\n",
    "low = Series(data=[50700, 50500, 50500], index=[\"5/1\", \"5/2\", \"5/4\"])"
   ]
  },
  {
   "cell_type": "code",
   "execution_count": 122,
   "id": "c0599c8e-5893-4463-b16b-bd157a9fb9fb",
   "metadata": {},
   "outputs": [
    {
     "data": {
      "text/plain": [
       "5/1    51500\n",
       "5/2    51200\n",
       "5/3    52500\n",
       "dtype: int64"
      ]
     },
     "execution_count": 122,
     "metadata": {},
     "output_type": "execute_result"
    }
   ],
   "source": [
    "high"
   ]
  },
  {
   "cell_type": "code",
   "execution_count": 123,
   "id": "e1f9d3ac-4fc8-447d-aaff-378ab3f47ea6",
   "metadata": {},
   "outputs": [
    {
     "data": {
      "text/plain": [
       "5/1    50700\n",
       "5/2    50500\n",
       "5/4    50500\n",
       "dtype: int64"
      ]
     },
     "execution_count": 123,
     "metadata": {},
     "output_type": "execute_result"
    }
   ],
   "source": [
    "low"
   ]
  },
  {
   "cell_type": "code",
   "execution_count": 126,
   "id": "7cd5b3d0-2368-481c-8e34-7cfdbc95f17c",
   "metadata": {},
   "outputs": [
    {
     "data": {
      "text/plain": [
       "5/1    800.0\n",
       "5/2    700.0\n",
       "5/3      NaN\n",
       "5/4      NaN\n",
       "dtype: float64"
      ]
     },
     "execution_count": 126,
     "metadata": {},
     "output_type": "execute_result"
    }
   ],
   "source": [
    "high - low"
   ]
  },
  {
   "cell_type": "code",
   "execution_count": 7,
   "id": "24643716-afb8-4000-8eab-3f452a9ea609",
   "metadata": {},
   "outputs": [],
   "source": [
    "import pandas as pd\n",
    "import numpy as np"
   ]
  },
  {
   "cell_type": "code",
   "execution_count": 9,
   "id": "c5bf8703-7d3a-4b7f-acce-eb20d9672eda",
   "metadata": {},
   "outputs": [],
   "source": [
    "s =pd.Series(data=[51500, 51200, 52500], index=[\"5/1\", \"5/2\", \"5/3\"])"
   ]
  },
  {
   "cell_type": "code",
   "execution_count": 10,
   "id": "fde4f961-b4aa-4c5c-909c-aa5f198c328e",
   "metadata": {},
   "outputs": [
    {
     "data": {
      "text/plain": [
       "5/1    51500\n",
       "5/2    51200\n",
       "5/3    52500\n",
       "dtype: int64"
      ]
     },
     "execution_count": 10,
     "metadata": {},
     "output_type": "execute_result"
    }
   ],
   "source": [
    "s"
   ]
  },
  {
   "cell_type": "code",
   "execution_count": 11,
   "id": "9444ea95-5eea-42df-830f-580d5a18caec",
   "metadata": {},
   "outputs": [],
   "source": [
    "s1=s < 52000"
   ]
  },
  {
   "cell_type": "code",
   "execution_count": 12,
   "id": "be5a1467-6285-425e-8873-f9feeaa055e7",
   "metadata": {},
   "outputs": [
    {
     "data": {
      "text/plain": [
       "5/1     True\n",
       "5/2     True\n",
       "5/3    False\n",
       "dtype: bool"
      ]
     },
     "execution_count": 12,
     "metadata": {},
     "output_type": "execute_result"
    }
   ],
   "source": [
    "s1"
   ]
  },
  {
   "cell_type": "code",
   "execution_count": 13,
   "id": "93c258b5-119d-4614-a9b6-8852c664259a",
   "metadata": {},
   "outputs": [
    {
     "data": {
      "text/plain": [
       "5/1    51500\n",
       "5/2    51200\n",
       "dtype: int64"
      ]
     },
     "execution_count": 13,
     "metadata": {},
     "output_type": "execute_result"
    }
   ],
   "source": [
    "s[s1]"
   ]
  },
  {
   "cell_type": "code",
   "execution_count": 14,
   "id": "9f4831e5-5118-461a-8bf9-dfc97c64581d",
   "metadata": {},
   "outputs": [],
   "source": [
    "조건 = s.index > \"5/1\""
   ]
  },
  {
   "cell_type": "code",
   "execution_count": 15,
   "id": "9a718075-7222-42b4-9704-3a55cc3c1ae5",
   "metadata": {},
   "outputs": [
    {
     "data": {
      "text/plain": [
       "5/2    51200\n",
       "5/3    52500\n",
       "dtype: int64"
      ]
     },
     "execution_count": 15,
     "metadata": {},
     "output_type": "execute_result"
    }
   ],
   "source": [
    "s.loc[조건]"
   ]
  },
  {
   "cell_type": "code",
   "execution_count": 16,
   "id": "9c214e14-de77-48a2-bfca-3d73028b3d7a",
   "metadata": {},
   "outputs": [
    {
     "data": {
      "text/plain": [
       "5/1    51500\n",
       "5/2    51200\n",
       "5/3    52500\n",
       "dtype: int64"
      ]
     },
     "execution_count": 16,
     "metadata": {},
     "output_type": "execute_result"
    }
   ],
   "source": [
    "s"
   ]
  },
  {
   "cell_type": "code",
   "execution_count": 28,
   "id": "69e02002-2399-44e7-b93c-d6289011e264",
   "metadata": {},
   "outputs": [],
   "source": [
    "s = pd.Series(data=[51500, 51200, 52500], index=[\"5/1\", \"5/2\", \"5/3\"])"
   ]
  },
  {
   "cell_type": "code",
   "execution_count": 30,
   "id": "6cd70124-6776-48e2-8e0d-77ac1fe8edf1",
   "metadata": {},
   "outputs": [
    {
     "data": {
      "text/plain": [
       "5/1    51500\n",
       "5/2    51200\n",
       "5/3    52500\n",
       "dtype: int64"
      ]
     },
     "execution_count": 30,
     "metadata": {},
     "output_type": "execute_result"
    }
   ],
   "source": [
    "s"
   ]
  },
  {
   "cell_type": "code",
   "execution_count": 29,
   "id": "0583baca-344f-4b10-894e-a2927c45b683",
   "metadata": {},
   "outputs": [
    {
     "data": {
      "text/plain": [
       "Index(['5/1', '5/2', '5/3'], dtype='object')"
      ]
     },
     "execution_count": 29,
     "metadata": {},
     "output_type": "execute_result"
    }
   ],
   "source": [
    "조건0 = s >= 51400\n",
    "조건1 = s <= 53000\n",
    "(조건0 & 조건1).index"
   ]
  },
  {
   "cell_type": "code",
   "execution_count": 31,
   "id": "685e6623-7127-4600-a6c3-474e1a34300e",
   "metadata": {},
   "outputs": [],
   "source": [
    "조건=s<= 52000"
   ]
  },
  {
   "cell_type": "code",
   "execution_count": 32,
   "id": "83ab6f78-faa6-45c6-b5e2-8df5ec86deac",
   "metadata": {},
   "outputs": [
    {
     "data": {
      "text/plain": [
       "2"
      ]
     },
     "execution_count": 32,
     "metadata": {},
     "output_type": "execute_result"
    }
   ],
   "source": [
    "len(s[조건])"
   ]
  },
  {
   "cell_type": "code",
   "execution_count": null,
   "id": "ae566387-8cd4-4e35-b607-3d66e322ca1c",
   "metadata": {},
   "outputs": [],
   "source": []
  },
  {
   "cell_type": "code",
   "execution_count": null,
   "id": "dc614756-2abe-418a-8193-b8dbd107e2ef",
   "metadata": {},
   "outputs": [],
   "source": []
  },
  {
   "cell_type": "markdown",
   "id": "cd40a62c-f24c-4903-8cab-9026a5221f03",
   "metadata": {},
   "source": [
    "# 7. 시리즈 기본 메소드"
   ]
  },
  {
   "cell_type": "code",
   "execution_count": null,
   "id": "9acd15a5-c211-474c-9100-4ef238399b6c",
   "metadata": {},
   "outputs": [],
   "source": []
  },
  {
   "cell_type": "code",
   "execution_count": null,
   "id": "40cc5e48-ed8a-4ff5-8aa4-67c33e48acb5",
   "metadata": {},
   "outputs": [],
   "source": []
  },
  {
   "cell_type": "markdown",
   "id": "d64d8ab4-ab4a-420f-a0b0-f794cf9aec60",
   "metadata": {},
   "source": [
    "## 101~110"
   ]
  },
  {
   "cell_type": "code",
   "execution_count": null,
   "id": "c1a966d5-4009-4b12-a229-37898c50de9d",
   "metadata": {},
   "outputs": [],
   "source": []
  },
  {
   "cell_type": "code",
   "execution_count": null,
   "id": "5722b916-af2b-426f-9628-9d8ad8e483bd",
   "metadata": {},
   "outputs": [],
   "source": []
  },
  {
   "cell_type": "code",
   "execution_count": 33,
   "id": "6ed34596-0566-4b95-b276-b60e235572d9",
   "metadata": {},
   "outputs": [],
   "source": [
    "data = {'2020-12-07':'72900','2020-12-08':'71700','2020-12-09':'73900','2020-12-10':'72900','2020-12-11':'73400'}"
   ]
  },
  {
   "cell_type": "code",
   "execution_count": 34,
   "id": "dd82dea1-fea5-4a4a-9101-64cfbd490eee",
   "metadata": {},
   "outputs": [],
   "source": [
    "jongga=pd.Series(data)"
   ]
  },
  {
   "cell_type": "code",
   "execution_count": 41,
   "id": "a20eefad-5a82-46d4-8a00-f6602dca2159",
   "metadata": {},
   "outputs": [],
   "source": [
    "jongga=jongga.astype('int')"
   ]
  },
  {
   "cell_type": "code",
   "execution_count": 42,
   "id": "3e0b9eb6-74e5-47e8-a60e-2104a2e45986",
   "metadata": {},
   "outputs": [
    {
     "data": {
      "text/plain": [
       "364800"
      ]
     },
     "execution_count": 42,
     "metadata": {},
     "output_type": "execute_result"
    }
   ],
   "source": [
    "jongga.sum()"
   ]
  },
  {
   "cell_type": "code",
   "execution_count": 44,
   "id": "866635ab-a4ad-4d22-9239-242c304e04a1",
   "metadata": {},
   "outputs": [
    {
     "data": {
      "text/plain": [
       "72960.0"
      ]
     },
     "execution_count": 44,
     "metadata": {},
     "output_type": "execute_result"
    }
   ],
   "source": [
    "jongga.mean()"
   ]
  },
  {
   "cell_type": "code",
   "execution_count": 45,
   "id": "605615d9-5003-4677-9295-697707b064b0",
   "metadata": {},
   "outputs": [],
   "source": [
    "ratio={'2020-12-07':1,'2020-12-08':1.02,'2020-12-09':1.03,'2020-12-10':0.99,'2020-12-11':1.01}"
   ]
  },
  {
   "cell_type": "code",
   "execution_count": 52,
   "id": "d0b21573-7531-427c-bec2-a796cb97a536",
   "metadata": {},
   "outputs": [],
   "source": [
    "ratio=pd.Series(data=ratio)"
   ]
  },
  {
   "cell_type": "code",
   "execution_count": 53,
   "id": "da48e16a-0e75-47f9-b7ba-4491d4c1a3d9",
   "metadata": {
    "tags": []
   },
   "outputs": [],
   "source": [
    "jongga=jongga.astype('float')"
   ]
  },
  {
   "cell_type": "code",
   "execution_count": 54,
   "id": "34cbfdfa-1aa5-4f17-9bfb-44ff2ccb9dc7",
   "metadata": {
    "tags": []
   },
   "outputs": [
    {
     "data": {
      "text/plain": [
       "2020-12-07    72900.0\n",
       "2020-12-08    73134.0\n",
       "2020-12-09    76117.0\n",
       "2020-12-10    72171.0\n",
       "2020-12-11    74134.0\n",
       "dtype: float64"
      ]
     },
     "execution_count": 54,
     "metadata": {},
     "output_type": "execute_result"
    }
   ],
   "source": [
    "jongga * ratio"
   ]
  },
  {
   "cell_type": "code",
   "execution_count": 55,
   "id": "cec26bae-fd63-4c07-81c6-9359a65bb435",
   "metadata": {},
   "outputs": [
    {
     "data": {
      "text/plain": [
       "1.05049494"
      ]
     },
     "execution_count": 55,
     "metadata": {},
     "output_type": "execute_result"
    }
   ],
   "source": [
    "ratio.product() #각 행의 value들을 곱한값"
   ]
  },
  {
   "cell_type": "code",
   "execution_count": 56,
   "id": "9664c276-c133-41b5-9a38-8752914c2482",
   "metadata": {},
   "outputs": [
    {
     "data": {
      "text/plain": [
       "2020-12-07    72900.0\n",
       "2020-12-08    71700.0\n",
       "2020-12-09    73900.0\n",
       "2020-12-10    72900.0\n",
       "2020-12-11    73400.0\n",
       "dtype: float64"
      ]
     },
     "execution_count": 56,
     "metadata": {},
     "output_type": "execute_result"
    }
   ],
   "source": [
    "jongga"
   ]
  },
  {
   "cell_type": "code",
   "execution_count": 57,
   "id": "54c4d38f-3bad-4ab2-8158-f2c49c9ae1bf",
   "metadata": {},
   "outputs": [
    {
     "data": {
      "text/plain": [
       "73900.0"
      ]
     },
     "execution_count": 57,
     "metadata": {},
     "output_type": "execute_result"
    }
   ],
   "source": [
    "jongga.max()"
   ]
  },
  {
   "cell_type": "code",
   "execution_count": 58,
   "id": "c20a87dd-3023-4286-9fcd-266fe5de8ca6",
   "metadata": {},
   "outputs": [
    {
     "data": {
      "text/plain": [
       "71700.0"
      ]
     },
     "execution_count": 58,
     "metadata": {},
     "output_type": "execute_result"
    }
   ],
   "source": [
    "jongga.min()"
   ]
  },
  {
   "cell_type": "code",
   "execution_count": null,
   "id": "9c37ca9b-b40e-4cc3-b311-39c816a7b1a3",
   "metadata": {},
   "outputs": [],
   "source": []
  },
  {
   "cell_type": "code",
   "execution_count": null,
   "id": "9d80aaab-df67-4166-9904-b1d7290ee8b2",
   "metadata": {},
   "outputs": [],
   "source": []
  },
  {
   "cell_type": "markdown",
   "id": "3f04557b-ac00-48c2-9654-401769084dc7",
   "metadata": {},
   "source": [
    "# 8. 시리즈 데이터 변경"
   ]
  },
  {
   "cell_type": "code",
   "execution_count": null,
   "id": "ee2ad3da-9170-4790-91a0-e3afbede8a26",
   "metadata": {},
   "outputs": [],
   "source": []
  },
  {
   "cell_type": "code",
   "execution_count": null,
   "id": "e33c332e-f327-465d-be9c-a36143dbb8ee",
   "metadata": {},
   "outputs": [],
   "source": []
  },
  {
   "cell_type": "markdown",
   "id": "b7041f7e-d22d-4f8f-a02f-9abc442db547",
   "metadata": {},
   "source": [
    "## 111~120"
   ]
  },
  {
   "cell_type": "code",
   "execution_count": null,
   "id": "27ad172f-0ad5-481d-a3ca-8d4927adf51d",
   "metadata": {},
   "outputs": [],
   "source": []
  },
  {
   "cell_type": "code",
   "execution_count": null,
   "id": "00362f85-0b8b-459c-9ae9-713aaca5d014",
   "metadata": {},
   "outputs": [],
   "source": []
  },
  {
   "cell_type": "code",
   "execution_count": 59,
   "id": "a3191f04-431e-4aac-b90d-6941e17db06c",
   "metadata": {},
   "outputs": [],
   "source": [
    "import numpy as np\n",
    "from pandas import Series \n",
    "\n",
    "data = [1, 2, 3, 4, np.nan]\n",
    "s = Series(data=data)"
   ]
  },
  {
   "cell_type": "code",
   "execution_count": 60,
   "id": "7e37a18f-3fed-44dd-9feb-d42676ddd89f",
   "metadata": {},
   "outputs": [
    {
     "data": {
      "text/plain": [
       "0    1.0\n",
       "1    2.0\n",
       "2    3.0\n",
       "3    4.0\n",
       "4    NaN\n",
       "dtype: float64"
      ]
     },
     "execution_count": 60,
     "metadata": {},
     "output_type": "execute_result"
    }
   ],
   "source": [
    "s"
   ]
  },
  {
   "cell_type": "code",
   "execution_count": 61,
   "id": "3f388448-3c46-4ad7-b1af-0f20af16e729",
   "metadata": {},
   "outputs": [
    {
     "data": {
      "text/plain": [
       "4"
      ]
     },
     "execution_count": 61,
     "metadata": {},
     "output_type": "execute_result"
    }
   ],
   "source": [
    "s.count()"
   ]
  },
  {
   "cell_type": "code",
   "execution_count": 62,
   "id": "56cb6ba9-faa1-4d4f-994f-feb06c02dbfe",
   "metadata": {},
   "outputs": [],
   "source": [
    "data = [\"100\", \"200\", \"300\"]\n",
    "index = [\"철수\", \"영희\", \"아름\"]\n",
    "s = Series(data, index)"
   ]
  },
  {
   "cell_type": "code",
   "execution_count": 67,
   "id": "0277010d-429a-4048-97db-d5be01d059ab",
   "metadata": {},
   "outputs": [
    {
     "data": {
      "text/plain": [
       "철수    100\n",
       "영희    200\n",
       "아름    300\n",
       "dtype: object"
      ]
     },
     "execution_count": 67,
     "metadata": {},
     "output_type": "execute_result"
    }
   ],
   "source": [
    "s"
   ]
  },
  {
   "cell_type": "code",
   "execution_count": 68,
   "id": "2ff020f5-9606-45bd-a39a-d8b86edb2012",
   "metadata": {},
   "outputs": [
    {
     "data": {
      "text/plain": [
       "철수    100\n",
       "영희    200\n",
       "아름    300\n",
       "dtype: int32"
      ]
     },
     "execution_count": 68,
     "metadata": {},
     "output_type": "execute_result"
    }
   ],
   "source": [
    "s.astype('int')"
   ]
  },
  {
   "cell_type": "code",
   "execution_count": 66,
   "id": "86adfad2-a9fc-45ff-9371-beec60237399",
   "metadata": {},
   "outputs": [
    {
     "data": {
      "text/plain": [
       "철수    100\n",
       "영희    200\n",
       "아름    300\n",
       "dtype: int32"
      ]
     },
     "execution_count": 66,
     "metadata": {},
     "output_type": "execute_result"
    }
   ],
   "source": [
    "s.astype(np.int32)"
   ]
  },
  {
   "cell_type": "code",
   "execution_count": 69,
   "id": "0d8cd1a7-cf6a-4189-b27e-60e9deae26c0",
   "metadata": {},
   "outputs": [],
   "source": [
    "data = [\"100,000\", \"200,000\", \"300,000\"]\n",
    "index = [\"철수\", \"영희\", \"아름\"]\n",
    "s = Series(data, index)"
   ]
  },
  {
   "cell_type": "code",
   "execution_count": 70,
   "id": "d30a9540-9ff3-416f-bd5b-008433618e2d",
   "metadata": {},
   "outputs": [
    {
     "data": {
      "text/plain": [
       "철수    100,000\n",
       "영희    200,000\n",
       "아름    300,000\n",
       "dtype: object"
      ]
     },
     "execution_count": 70,
     "metadata": {},
     "output_type": "execute_result"
    }
   ],
   "source": [
    "s"
   ]
  },
  {
   "cell_type": "code",
   "execution_count": 71,
   "id": "3373cf2d-495e-498e-ba20-7f130e4a5f7e",
   "metadata": {},
   "outputs": [
    {
     "data": {
      "text/plain": [
       "철수    100000\n",
       "영희    200000\n",
       "아름    300000\n",
       "dtype: int32"
      ]
     },
     "execution_count": 71,
     "metadata": {},
     "output_type": "execute_result"
    }
   ],
   "source": [
    "s.str.replace(',', '').astype('int')"
   ]
  },
  {
   "cell_type": "code",
   "execution_count": 72,
   "id": "6e36fd52-b4b6-432b-bb4a-aa120c2bb071",
   "metadata": {},
   "outputs": [
    {
     "name": "stdout",
     "output_type": "stream",
     "text": [
      "김대리    30세\n",
      "이과장    40세\n",
      "박차장    50세\n",
      "dtype: object\n"
     ]
    }
   ],
   "source": [
    "s = pd.Series([\"30세\", \"40세\", \"50세\"], index=[\"김대리\", \"이과장\", \"박차장\"])\n",
    "print(s)\n",
    "# 김대리    30세\n",
    "# 이과장    40세\n",
    "# 박차장    50세\n",
    "# dtype: object"
   ]
  },
  {
   "cell_type": "code",
   "execution_count": 73,
   "id": "5edc0922-76e0-4b35-a96e-b109da938dbe",
   "metadata": {},
   "outputs": [
    {
     "data": {
      "text/plain": [
       "김대리    30세\n",
       "이과장    40세\n",
       "박차장    50세\n",
       "dtype: object"
      ]
     },
     "execution_count": 73,
     "metadata": {},
     "output_type": "execute_result"
    }
   ],
   "source": [
    "s"
   ]
  },
  {
   "cell_type": "code",
   "execution_count": 75,
   "id": "31d64c07-ecad-4870-b6a0-f968c99c102c",
   "metadata": {},
   "outputs": [
    {
     "data": {
      "text/plain": [
       "김대리    30\n",
       "이과장    40\n",
       "박차장    50\n",
       "dtype: int32"
      ]
     },
     "execution_count": 75,
     "metadata": {},
     "output_type": "execute_result"
    }
   ],
   "source": [
    "s.str.replace('세','').astype('int32')"
   ]
  },
  {
   "cell_type": "code",
   "execution_count": 76,
   "id": "6d338ba7-472d-49d2-97cc-b83950ea9367",
   "metadata": {},
   "outputs": [
    {
     "data": {
      "text/plain": [
       "d    1\n",
       "c    2\n",
       "a    3\n",
       "b    4\n",
       "dtype: int64"
      ]
     },
     "execution_count": 76,
     "metadata": {},
     "output_type": "execute_result"
    }
   ],
   "source": [
    "s = pd.Series([1, 2, 3, 4], index=[\"d\", \"c\", \"a\", \"b\"])\n",
    "s"
   ]
  },
  {
   "cell_type": "code",
   "execution_count": 77,
   "id": "9e648711-c1de-4545-8e3a-954d66773795",
   "metadata": {},
   "outputs": [
    {
     "data": {
      "text/plain": [
       "a    3\n",
       "b    4\n",
       "c    2\n",
       "d    1\n",
       "dtype: int64"
      ]
     },
     "execution_count": 77,
     "metadata": {},
     "output_type": "execute_result"
    }
   ],
   "source": [
    "s.sort_index()"
   ]
  },
  {
   "cell_type": "code",
   "execution_count": 78,
   "id": "3232c6f1-0d68-4f36-9bf2-11f65895c22e",
   "metadata": {},
   "outputs": [],
   "source": [
    "s = pd.Series([1, 2, 3])"
   ]
  },
  {
   "cell_type": "code",
   "execution_count": 79,
   "id": "4a801c42-787b-46bc-8927-a6e24a71feb8",
   "metadata": {},
   "outputs": [
    {
     "data": {
      "text/plain": [
       "0    1\n",
       "1    2\n",
       "2    3\n",
       "dtype: int64"
      ]
     },
     "execution_count": 79,
     "metadata": {},
     "output_type": "execute_result"
    }
   ],
   "source": [
    "s"
   ]
  },
  {
   "cell_type": "code",
   "execution_count": 80,
   "id": "0ebcd293-b075-454f-aadc-59f6d78817f0",
   "metadata": {},
   "outputs": [
    {
     "data": {
      "text/plain": [
       "[1, 2, 3]"
      ]
     },
     "execution_count": 80,
     "metadata": {},
     "output_type": "execute_result"
    }
   ],
   "source": [
    "list(s)"
   ]
  },
  {
   "cell_type": "code",
   "execution_count": 81,
   "id": "fe9af7ae-c2d1-4329-a9ce-2e561a1dfaef",
   "metadata": {},
   "outputs": [],
   "source": [
    "s = pd.Series([1, 2, 3])"
   ]
  },
  {
   "cell_type": "code",
   "execution_count": 82,
   "id": "e1a894fd-21de-4122-859c-9fc63805d672",
   "metadata": {},
   "outputs": [
    {
     "data": {
      "text/plain": [
       "{0: 1, 1: 2, 2: 3}"
      ]
     },
     "execution_count": 82,
     "metadata": {},
     "output_type": "execute_result"
    }
   ],
   "source": [
    "dict(s)"
   ]
  },
  {
   "cell_type": "code",
   "execution_count": 83,
   "id": "62fa8e8b-9a44-402b-842f-5ec22ea452d7",
   "metadata": {},
   "outputs": [],
   "source": [
    "s = pd.Series([1, 2, 3, np.nan])"
   ]
  },
  {
   "cell_type": "code",
   "execution_count": 84,
   "id": "c00f7990-1fa3-4f19-9b21-5a5e860ec58b",
   "metadata": {},
   "outputs": [
    {
     "data": {
      "text/plain": [
       "0    1.0\n",
       "1    2.0\n",
       "2    3.0\n",
       "3    NaN\n",
       "dtype: float64"
      ]
     },
     "execution_count": 84,
     "metadata": {},
     "output_type": "execute_result"
    }
   ],
   "source": [
    "s"
   ]
  },
  {
   "cell_type": "code",
   "execution_count": 85,
   "id": "1970afcc-9d5d-4332-99a2-597f627a57c3",
   "metadata": {},
   "outputs": [],
   "source": [
    "s.dropna(inplace=True)"
   ]
  },
  {
   "cell_type": "code",
   "execution_count": 86,
   "id": "3ca4bcbb-217a-4731-815d-95a57888bbd7",
   "metadata": {},
   "outputs": [
    {
     "data": {
      "text/plain": [
       "0    1.0\n",
       "1    2.0\n",
       "2    3.0\n",
       "dtype: float64"
      ]
     },
     "execution_count": 86,
     "metadata": {},
     "output_type": "execute_result"
    }
   ],
   "source": [
    "s"
   ]
  },
  {
   "cell_type": "code",
   "execution_count": 106,
   "id": "61d62a1c-6a93-4335-a26b-0fa0ee01151e",
   "metadata": {},
   "outputs": [],
   "source": [
    "s = pd.Series([\"1,234\", \"5,678\", \"9,876\"])"
   ]
  },
  {
   "cell_type": "code",
   "execution_count": 100,
   "id": "e6fceb67-40d0-4219-82d2-3bc20267c397",
   "metadata": {},
   "outputs": [
    {
     "data": {
      "text/plain": [
       "0    1,234\n",
       "1    5,678\n",
       "2    9,876\n",
       "dtype: object"
      ]
     },
     "execution_count": 100,
     "metadata": {},
     "output_type": "execute_result"
    }
   ],
   "source": [
    "s"
   ]
  },
  {
   "cell_type": "code",
   "execution_count": 107,
   "id": "cef4185a-361a-4d30-a8ba-e7d498f8e32d",
   "metadata": {},
   "outputs": [],
   "source": [
    "s1 = pd.Series(['1234','5678','9876'])"
   ]
  },
  {
   "cell_type": "code",
   "execution_count": 102,
   "id": "55a5bb71-bf49-46ac-845f-177335acd1ca",
   "metadata": {},
   "outputs": [
    {
     "data": {
      "text/plain": [
       "0    1234\n",
       "1    5678\n",
       "2    9876\n",
       "dtype: object"
      ]
     },
     "execution_count": 102,
     "metadata": {},
     "output_type": "execute_result"
    }
   ],
   "source": [
    "s1"
   ]
  },
  {
   "cell_type": "code",
   "execution_count": 103,
   "id": "3bd55284-7761-431a-ae48-a85839ed4da0",
   "metadata": {},
   "outputs": [
    {
     "data": {
      "text/plain": [
       "0    NaN\n",
       "1    NaN\n",
       "2    NaN\n",
       "dtype: object"
      ]
     },
     "execution_count": 103,
     "metadata": {},
     "output_type": "execute_result"
    }
   ],
   "source": [
    "s.map(s1)"
   ]
  },
  {
   "cell_type": "code",
   "execution_count": 116,
   "id": "917765d9-5623-4872-bba4-390ce94e4dbf",
   "metadata": {},
   "outputs": [
    {
     "data": {
      "text/plain": [
       "0    1234\n",
       "1    5678\n",
       "2    9876\n",
       "dtype: object"
      ]
     },
     "execution_count": 116,
     "metadata": {},
     "output_type": "execute_result"
    }
   ],
   "source": [
    "s1"
   ]
  },
  {
   "cell_type": "code",
   "execution_count": 105,
   "id": "9f3cb199-751f-4143-8348-149fbc68a580",
   "metadata": {},
   "outputs": [
    {
     "data": {
      "text/plain": [
       "0    NaN\n",
       "1    NaN\n",
       "2    NaN\n",
       "dtype: object"
      ]
     },
     "execution_count": 105,
     "metadata": {},
     "output_type": "execute_result"
    }
   ],
   "source": [
    "s1.map(s)"
   ]
  },
  {
   "cell_type": "code",
   "execution_count": 119,
   "id": "f45208e3-e935-4dde-b97b-6a685dea20d7",
   "metadata": {},
   "outputs": [],
   "source": [
    "s=s.str.replace(',','')"
   ]
  },
  {
   "cell_type": "code",
   "execution_count": 120,
   "id": "8b1d9be6-8d03-4ac1-81be-ba2bfa413213",
   "metadata": {},
   "outputs": [
    {
     "data": {
      "text/plain": [
       "0    1234\n",
       "1    5678\n",
       "2    9876\n",
       "dtype: object"
      ]
     },
     "execution_count": 120,
     "metadata": {},
     "output_type": "execute_result"
    }
   ],
   "source": [
    "s"
   ]
  },
  {
   "cell_type": "code",
   "execution_count": 121,
   "id": "29bc0dbb-82e8-4767-b333-4409821d941b",
   "metadata": {},
   "outputs": [],
   "source": [
    "s = pd.Series([10, 100, 1000])"
   ]
  },
  {
   "cell_type": "code",
   "execution_count": 122,
   "id": "d49f880c-5a77-4445-a65e-dd6eb929ac7e",
   "metadata": {},
   "outputs": [
    {
     "data": {
      "text/plain": [
       "0      10\n",
       "1     100\n",
       "2    1000\n",
       "dtype: int64"
      ]
     },
     "execution_count": 122,
     "metadata": {},
     "output_type": "execute_result"
    }
   ],
   "source": [
    "s"
   ]
  },
  {
   "cell_type": "code",
   "execution_count": 123,
   "id": "0a64db82-8f00-42c0-855c-764f9591636f",
   "metadata": {},
   "outputs": [
    {
     "data": {
      "text/plain": [
       "0    1.0\n",
       "1    2.0\n",
       "2    3.0\n",
       "dtype: float64"
      ]
     },
     "execution_count": 123,
     "metadata": {},
     "output_type": "execute_result"
    }
   ],
   "source": [
    "s.apply(np.log10)"
   ]
  },
  {
   "cell_type": "code",
   "execution_count": null,
   "id": "2e8f7b94-9ffa-44c2-96d7-bfd998df8ae9",
   "metadata": {},
   "outputs": [],
   "source": []
  },
  {
   "cell_type": "code",
   "execution_count": null,
   "id": "eef77119-ef01-4da7-97b2-390f34b2bd03",
   "metadata": {},
   "outputs": [],
   "source": []
  },
  {
   "cell_type": "markdown",
   "id": "fe7a2374-3482-401e-9d24-dd43ad17022c",
   "metadata": {},
   "source": [
    "# 9. 시리즈 기타 주제"
   ]
  },
  {
   "cell_type": "code",
   "execution_count": null,
   "id": "47e7f90c-f3c0-4384-9c26-85eb803b926a",
   "metadata": {},
   "outputs": [],
   "source": []
  },
  {
   "cell_type": "code",
   "execution_count": null,
   "id": "5c9177c4-3767-4d76-9a85-ef652a1c4bb5",
   "metadata": {},
   "outputs": [],
   "source": []
  },
  {
   "cell_type": "markdown",
   "id": "6b048c19-e07f-437d-8731-dc80f13354f6",
   "metadata": {},
   "source": [
    "## 121~130"
   ]
  },
  {
   "cell_type": "code",
   "execution_count": null,
   "id": "dc3bcfcd-b5e7-46eb-8b20-8d3bda4f3e7c",
   "metadata": {},
   "outputs": [],
   "source": []
  },
  {
   "cell_type": "code",
   "execution_count": null,
   "id": "847474bb-51a3-47bf-be08-d2b319eb85f6",
   "metadata": {},
   "outputs": [],
   "source": []
  },
  {
   "cell_type": "code",
   "execution_count": 124,
   "id": "de203b6c-f9e6-415d-8919-b03c042bd167",
   "metadata": {},
   "outputs": [
    {
     "data": {
      "text/plain": [
       "0    1.0\n",
       "1    2.0\n",
       "2    3.0\n",
       "3    4.0\n",
       "4    NaN\n",
       "dtype: float64"
      ]
     },
     "execution_count": 124,
     "metadata": {},
     "output_type": "execute_result"
    }
   ],
   "source": [
    "import numpy as np\n",
    "from pandas import Series\n",
    "\n",
    "data = [1, 2, 3, 4, np.nan]\n",
    "s = Series(data=data)\n",
    "s"
   ]
  },
  {
   "cell_type": "code",
   "execution_count": 125,
   "id": "2fe0e84c-0214-4990-ae3f-d142aa9d5f08",
   "metadata": {},
   "outputs": [
    {
     "data": {
      "text/plain": [
       "0    1.0\n",
       "1    2.0\n",
       "2    3.0\n",
       "3    4.0\n",
       "dtype: float64"
      ]
     },
     "execution_count": 125,
     "metadata": {},
     "output_type": "execute_result"
    }
   ],
   "source": [
    "s.dropna()"
   ]
  },
  {
   "cell_type": "code",
   "execution_count": 126,
   "id": "e15feb9c-1aa0-47e0-96ec-e7f53fdf4f32",
   "metadata": {},
   "outputs": [
    {
     "data": {
      "text/plain": [
       "0     1\n",
       "1     2\n",
       "2     3\n",
       "3     4\n",
       "4     5\n",
       "5     6\n",
       "6     7\n",
       "7     8\n",
       "8     9\n",
       "9    10\n",
       "dtype: int64"
      ]
     },
     "execution_count": 126,
     "metadata": {},
     "output_type": "execute_result"
    }
   ],
   "source": [
    "from pandas import Series\n",
    "\n",
    "data = range(1, 11)\n",
    "s = Series(data=data)\n",
    "s"
   ]
  },
  {
   "cell_type": "code",
   "execution_count": 127,
   "id": "f40b8de5-5876-480a-84e2-d5927cf56e58",
   "metadata": {},
   "outputs": [
    {
     "data": {
      "text/plain": [
       "9    10\n",
       "8     9\n",
       "7     8\n",
       "dtype: int64"
      ]
     },
     "execution_count": 127,
     "metadata": {},
     "output_type": "execute_result"
    }
   ],
   "source": [
    "s.nlargest(n=3)"
   ]
  },
  {
   "cell_type": "code",
   "execution_count": 128,
   "id": "823ba7c9-5d62-4134-ace5-30882efd4d3a",
   "metadata": {},
   "outputs": [
    {
     "data": {
      "text/plain": [
       "0    1\n",
       "1    2\n",
       "2    3\n",
       "dtype: int64"
      ]
     },
     "execution_count": 128,
     "metadata": {},
     "output_type": "execute_result"
    }
   ],
   "source": [
    "s.nsmallest(n=3)"
   ]
  },
  {
   "cell_type": "code",
   "execution_count": 129,
   "id": "c2de57da-b043-440f-b571-6bf88b542a32",
   "metadata": {},
   "outputs": [],
   "source": [
    "import pandas as pd\n",
    "from datetime import datetime\n",
    "s = pd.Series([datetime(2020,1,1), datetime(2021,1,1), datetime(2022,1,1)])"
   ]
  },
  {
   "cell_type": "code",
   "execution_count": 130,
   "id": "51b439d7-f4ec-4771-bb43-66156fa37fe7",
   "metadata": {},
   "outputs": [
    {
     "data": {
      "text/plain": [
       "0   2020-01-01\n",
       "1   2021-01-01\n",
       "2   2022-01-01\n",
       "dtype: datetime64[ns]"
      ]
     },
     "execution_count": 130,
     "metadata": {},
     "output_type": "execute_result"
    }
   ],
   "source": [
    "s"
   ]
  },
  {
   "cell_type": "code",
   "execution_count": 140,
   "id": "cc93e6aa-b556-436c-a438-47bcbd83852b",
   "metadata": {},
   "outputs": [
    {
     "data": {
      "text/plain": [
       "0    2020\n",
       "1    2021\n",
       "2    2022\n",
       "dtype: int64"
      ]
     },
     "execution_count": 140,
     "metadata": {},
     "output_type": "execute_result"
    }
   ],
   "source": [
    "s.dt.year"
   ]
  },
  {
   "cell_type": "code",
   "execution_count": 141,
   "id": "a532adc1-c550-4b2f-96ca-6ef094d446f5",
   "metadata": {},
   "outputs": [],
   "source": [
    "import pandas as pd\n",
    "from datetime import datetime\n",
    "\n",
    "index = [datetime(2020,1,1), datetime(2021,1,1), datetime(2022,1,1)]\n",
    "data = [100, 200, 300]\n",
    "s = pd.Series(data=data, index=index)"
   ]
  },
  {
   "cell_type": "code",
   "execution_count": 142,
   "id": "28808a3e-1bfb-4467-8dcf-4a314baaca59",
   "metadata": {},
   "outputs": [
    {
     "data": {
      "text/plain": [
       "2020-01-01    100\n",
       "2021-01-01    200\n",
       "2022-01-01    300\n",
       "dtype: int64"
      ]
     },
     "execution_count": 142,
     "metadata": {},
     "output_type": "execute_result"
    }
   ],
   "source": [
    "s"
   ]
  },
  {
   "cell_type": "code",
   "execution_count": 150,
   "id": "0cfb883d-afe1-47b8-8d47-3a4a3fd68247",
   "metadata": {},
   "outputs": [
    {
     "data": {
      "text/plain": [
       "Int64Index([2020, 2021, 2022], dtype='int64')"
      ]
     },
     "execution_count": 150,
     "metadata": {},
     "output_type": "execute_result"
    }
   ],
   "source": [
    "s.index.year"
   ]
  },
  {
   "cell_type": "code",
   "execution_count": 151,
   "id": "d42f75ea-c2fa-462b-a0e9-2f44169a5238",
   "metadata": {},
   "outputs": [
    {
     "data": {
      "text/plain": [
       "pandas.core.indexes.datetimes.DatetimeIndex"
      ]
     },
     "execution_count": 151,
     "metadata": {},
     "output_type": "execute_result"
    }
   ],
   "source": [
    "type(s.index)"
   ]
  },
  {
   "cell_type": "code",
   "execution_count": 152,
   "id": "5e72a888-a896-46f5-bf12-9647521d0e3f",
   "metadata": {},
   "outputs": [],
   "source": [
    "import pandas as pd\n",
    "from datetime import datetime\n",
    "s = pd.Series([datetime(2022,1,1), datetime(2022,1,2), datetime(2022,1,3)])"
   ]
  },
  {
   "cell_type": "code",
   "execution_count": 153,
   "id": "753eeaed-88cc-426a-9e26-c76cfb3aa550",
   "metadata": {},
   "outputs": [
    {
     "data": {
      "text/plain": [
       "0   2022-01-01\n",
       "1   2022-01-02\n",
       "2   2022-01-03\n",
       "dtype: datetime64[ns]"
      ]
     },
     "execution_count": 153,
     "metadata": {},
     "output_type": "execute_result"
    }
   ],
   "source": [
    "s"
   ]
  },
  {
   "cell_type": "code",
   "execution_count": 154,
   "id": "b1ba3992-a11b-492d-81f9-7be396ecbd37",
   "metadata": {},
   "outputs": [
    {
     "data": {
      "text/plain": [
       "0    1\n",
       "1    2\n",
       "2    3\n",
       "dtype: int64"
      ]
     },
     "execution_count": 154,
     "metadata": {},
     "output_type": "execute_result"
    }
   ],
   "source": [
    "s.dt.day"
   ]
  },
  {
   "cell_type": "raw",
   "id": "8741f1a4-057f-4952-8150-6069422430eb",
   "metadata": {},
   "source": [
    "# Index(['2020-01-01 00:00:00', '2021-01-01 00:00:00', '2022-01-01 00:00:00'], dtype='object')"
   ]
  },
  {
   "cell_type": "code",
   "execution_count": 157,
   "id": "98ced6ce-e538-4901-a774-e8f19f7f530d",
   "metadata": {},
   "outputs": [],
   "source": [
    "import pandas as pd\n",
    "from datetime import datetime\n",
    "\n",
    "index = [datetime(2020,1,1), datetime(2021,1,1), datetime(2022,1,1)]\n",
    "data = [100, 200, 300]\n",
    "s = pd.Series(data=data, index=index)"
   ]
  },
  {
   "cell_type": "code",
   "execution_count": 158,
   "id": "ac3144d4-f100-450f-b123-9500fb9c3794",
   "metadata": {},
   "outputs": [
    {
     "data": {
      "text/plain": [
       "2020-01-01    100\n",
       "2021-01-01    200\n",
       "2022-01-01    300\n",
       "dtype: int64"
      ]
     },
     "execution_count": 158,
     "metadata": {},
     "output_type": "execute_result"
    }
   ],
   "source": [
    "s"
   ]
  },
  {
   "cell_type": "code",
   "execution_count": 159,
   "id": "8ba42f32-1d81-4091-b211-242589f4f264",
   "metadata": {},
   "outputs": [
    {
     "data": {
      "text/plain": [
       "Index(['2020-01-01 00:00:00', '2021-01-01 00:00:00', '2022-01-01 00:00:00'], dtype='object')"
      ]
     },
     "execution_count": 159,
     "metadata": {},
     "output_type": "execute_result"
    }
   ],
   "source": [
    "s.index.strftime(\"%Y-%m-%d 00:00:00\")"
   ]
  },
  {
   "cell_type": "code",
   "execution_count": 160,
   "id": "a9bd1b50-da66-4421-8c27-11b9d781f0c1",
   "metadata": {},
   "outputs": [],
   "source": [
    "s = pd.Series([\"000020\", \"000040\", \"005930\"])"
   ]
  },
  {
   "cell_type": "code",
   "execution_count": 161,
   "id": "2b702b46-049a-402f-b965-30d170500baa",
   "metadata": {},
   "outputs": [
    {
     "data": {
      "text/plain": [
       "0    000020\n",
       "1    000040\n",
       "2    005930\n",
       "dtype: object"
      ]
     },
     "execution_count": 161,
     "metadata": {},
     "output_type": "execute_result"
    }
   ],
   "source": [
    "s"
   ]
  },
  {
   "cell_type": "code",
   "execution_count": 162,
   "id": "f5640766-4bf7-486f-9161-242fa47fc014",
   "metadata": {},
   "outputs": [
    {
     "data": {
      "text/plain": [
       "'000020;000040;005930'"
      ]
     },
     "execution_count": 162,
     "metadata": {},
     "output_type": "execute_result"
    }
   ],
   "source": [
    "s.str.cat(sep=';')"
   ]
  },
  {
   "cell_type": "code",
   "execution_count": 163,
   "id": "704fecbb-2edd-42c3-b609-48e23e9dd31e",
   "metadata": {},
   "outputs": [],
   "source": [
    "s = pd.Series([\"000020\", \"000040\", \"005930\"])"
   ]
  },
  {
   "cell_type": "code",
   "execution_count": 164,
   "id": "c4ff777e-806d-4abd-ae31-2b781ce9cd04",
   "metadata": {},
   "outputs": [
    {
     "data": {
      "text/plain": [
       "0    000020\n",
       "1    000040\n",
       "2    005930\n",
       "dtype: object"
      ]
     },
     "execution_count": 164,
     "metadata": {},
     "output_type": "execute_result"
    }
   ],
   "source": [
    "s"
   ]
  },
  {
   "cell_type": "code",
   "execution_count": 165,
   "id": "19b74445-e3ab-4247-89f1-10d46f163829",
   "metadata": {},
   "outputs": [
    {
     "data": {
      "text/plain": [
       "0    A000020\n",
       "1    A000040\n",
       "2    A005930\n",
       "dtype: object"
      ]
     },
     "execution_count": 165,
     "metadata": {},
     "output_type": "execute_result"
    }
   ],
   "source": [
    "'A' +s"
   ]
  },
  {
   "cell_type": "code",
   "execution_count": 166,
   "id": "6bcc309c-7b60-47b5-9634-7390a92ae690",
   "metadata": {},
   "outputs": [],
   "source": [
    "s = pd.Series([\"20\", \"40\", \"5930\"])"
   ]
  },
  {
   "cell_type": "code",
   "execution_count": 167,
   "id": "46482939-1df0-4e67-9827-8c94cea52ffe",
   "metadata": {},
   "outputs": [
    {
     "data": {
      "text/plain": [
       "0      20\n",
       "1      40\n",
       "2    5930\n",
       "dtype: object"
      ]
     },
     "execution_count": 167,
     "metadata": {},
     "output_type": "execute_result"
    }
   ],
   "source": [
    "s"
   ]
  },
  {
   "cell_type": "code",
   "execution_count": 169,
   "id": "08fd65d1-bbf9-420c-a604-35c8ebd0cf0d",
   "metadata": {},
   "outputs": [
    {
     "data": {
      "text/plain": [
       "0    000020\n",
       "1    000040\n",
       "2    005930\n",
       "dtype: object"
      ]
     },
     "execution_count": 169,
     "metadata": {},
     "output_type": "execute_result"
    }
   ],
   "source": [
    "s.str.zfill(6)"
   ]
  },
  {
   "cell_type": "code",
   "execution_count": null,
   "id": "81e5821b-9832-434a-b5a1-864c0e1b4013",
   "metadata": {},
   "outputs": [],
   "source": []
  }
 ],
 "metadata": {
  "kernelspec": {
   "display_name": "Python 3 (ipykernel)",
   "language": "python",
   "name": "python3"
  },
  "language_info": {
   "codemirror_mode": {
    "name": "ipython",
    "version": 3
   },
   "file_extension": ".py",
   "mimetype": "text/x-python",
   "name": "python",
   "nbconvert_exporter": "python",
   "pygments_lexer": "ipython3",
   "version": "3.9.12"
  }
 },
 "nbformat": 4,
 "nbformat_minor": 5
}
