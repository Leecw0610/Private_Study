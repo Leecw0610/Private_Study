{
 "cells": [
  {
   "cell_type": "code",
   "execution_count": 1,
   "metadata": {},
   "outputs": [
    {
     "name": "stdout",
     "output_type": "stream",
     "text": [
      "Hello!\n"
     ]
    }
   ],
   "source": [
    "print('Hello!')"
   ]
  },
  {
   "cell_type": "code",
   "execution_count": 3,
   "metadata": {},
   "outputs": [
    {
     "name": "stdout",
     "output_type": "stream",
     "text": [
      "Hello, world!\n"
     ]
    }
   ],
   "source": [
    "print('Hello, world!')"
   ]
  },
  {
   "cell_type": "code",
   "execution_count": 4,
   "metadata": {},
   "outputs": [
    {
     "name": "stdout",
     "output_type": "stream",
     "text": [
      "Hello, world!\n",
      "Hello, world!\n",
      "Hello, world!\n"
     ]
    }
   ],
   "source": [
    "print('Hello, world!')\n",
    "print('Hello, world!')\n",
    "print('Hello, world!')"
   ]
  },
  {
   "cell_type": "code",
   "execution_count": 6,
   "metadata": {},
   "outputs": [
    {
     "name": "stdout",
     "output_type": "stream",
     "text": [
      "안녕! 나는 지구인 이야. 나는 다리가 4 개 있어.\n"
     ]
    }
   ],
   "source": [
    "print('안녕! 나는', '지구인','이야. 나는 다리가', 4,'개 있어.')"
   ]
  },
  {
   "cell_type": "code",
   "execution_count": 7,
   "metadata": {},
   "outputs": [
    {
     "name": "stdout",
     "output_type": "stream",
     "text": [
      "안녕! 나는 지구인 이야. 나는 다리가 4 개 있어.\n"
     ]
    }
   ],
   "source": [
    "identity = '지구인'\n",
    "number_of_legs = 4\n",
    "\n",
    "print('안녕! 나는', identity,'이야. 나는 다리가', number_of_legs,'개 있어.')"
   ]
  },
  {
   "cell_type": "code",
   "execution_count": 8,
   "metadata": {},
   "outputs": [
    {
     "name": "stdout",
     "output_type": "stream",
     "text": [
      "안녕! 나는 한국인 이야. 나는 다리가 2 개 있어.\n"
     ]
    }
   ],
   "source": [
    "identity = '한국인'\n",
    "number_of_legs = 2\n",
    "\n",
    "print('안녕! 나는', identity,'이야. 나는 다리가', number_of_legs,'개 있어.')"
   ]
  },
  {
   "cell_type": "code",
   "execution_count": 9,
   "metadata": {},
   "outputs": [
    {
     "data": {
      "text/plain": [
       "' 대량 주석\\n'"
      ]
     },
     "execution_count": 9,
     "metadata": {},
     "output_type": "execute_result"
    }
   ],
   "source": [
    "# 주우석~\n",
    "# 코드 꺼두기\n",
    "\"\"\" 대량 주석\n",
    "\"\"\""
   ]
  },
  {
   "cell_type": "code",
   "execution_count": 10,
   "metadata": {},
   "outputs": [],
   "source": [
    "my_name = 'Python' # 문자열\n",
    "my_age = 25 # 숫자"
   ]
  },
  {
   "cell_type": "code",
   "execution_count": 11,
   "metadata": {},
   "outputs": [
    {
     "name": "stdout",
     "output_type": "stream",
     "text": [
      "Python 은 이제 25 살\n"
     ]
    }
   ],
   "source": [
    "print(my_name, '은 이제', my_age, '살')"
   ]
  },
  {
   "cell_type": "code",
   "execution_count": 12,
   "metadata": {},
   "outputs": [],
   "source": [
    "my_next_age = my_age + 1"
   ]
  },
  {
   "cell_type": "code",
   "execution_count": 13,
   "metadata": {},
   "outputs": [
    {
     "name": "stdout",
     "output_type": "stream",
     "text": [
      "내년에는 26 살\n"
     ]
    }
   ],
   "source": [
    "print('내년에는', my_next_age, '살')"
   ]
  },
  {
   "cell_type": "code",
   "execution_count": 14,
   "metadata": {},
   "outputs": [
    {
     "data": {
      "text/plain": [
       "'c:\\\\Python\\\\private_study\\\\programmers_python_intro'"
      ]
     },
     "execution_count": 14,
     "metadata": {},
     "output_type": "execute_result"
    }
   ],
   "source": [
    "pwd"
   ]
  },
  {
   "cell_type": "code",
   "execution_count": 15,
   "metadata": {},
   "outputs": [
    {
     "name": "stdout",
     "output_type": "stream",
     "text": [
      " C ����̺��� ����: Windows\n",
      " ���� �Ϸ� ��ȣ: 70B5-D29D\n",
      "\n",
      " c:\\Python\\private_study\\programmers_python_intro ���͸�\n",
      "\n",
      "2023-01-22  ���� 03:45    <DIR>          .\n",
      "2023-01-22  ���� 03:44    <DIR>          ..\n",
      "2023-01-22  ���� 04:06             4,483 ppi_230122_01.ipynb\n",
      "               1�� ����               4,483 ����Ʈ\n",
      "               2�� ���͸�  413,384,990,720 ����Ʈ ����\n"
     ]
    }
   ],
   "source": [
    "ls"
   ]
  },
  {
   "cell_type": "code",
   "execution_count": 16,
   "metadata": {},
   "outputs": [
    {
     "name": "stdout",
     "output_type": "stream",
     "text": [
      "c:\\Python\\private_study\n"
     ]
    }
   ],
   "source": [
    "cd .."
   ]
  },
  {
   "cell_type": "code",
   "execution_count": 17,
   "metadata": {},
   "outputs": [
    {
     "name": "stdout",
     "output_type": "stream",
     "text": [
      "c:\\Python\\private_study\\programmers_python_intro\n"
     ]
    }
   ],
   "source": [
    "cd programmers_python_intro"
   ]
  },
  {
   "cell_type": "code",
   "execution_count": 18,
   "metadata": {},
   "outputs": [
    {
     "name": "stdout",
     "output_type": "stream",
     "text": [
      " C ����̺��� ����: Windows\n",
      " ���� �Ϸ� ��ȣ: 70B5-D29D\n",
      "\n",
      " c:\\Python\\private_study\\programmers_python_intro ���͸�\n",
      "\n",
      "2023-01-22  ���� 03:45    <DIR>          .\n",
      "2023-01-22  ���� 03:44    <DIR>          ..\n",
      "2023-01-22  ���� 04:06             4,483 ppi_230122_01.ipynb\n",
      "               1�� ����               4,483 ����Ʈ\n",
      "               2�� ���͸�  413,384,306,688 ����Ʈ ����\n"
     ]
    }
   ],
   "source": [
    "ls"
   ]
  },
  {
   "cell_type": "code",
   "execution_count": null,
   "metadata": {},
   "outputs": [],
   "source": []
  }
 ],
 "metadata": {
  "kernelspec": {
   "display_name": "base",
   "language": "python",
   "name": "python3"
  },
  "language_info": {
   "codemirror_mode": {
    "name": "ipython",
    "version": 3
   },
   "file_extension": ".py",
   "mimetype": "text/x-python",
   "name": "python",
   "nbconvert_exporter": "python",
   "pygments_lexer": "ipython3",
   "version": "3.9.15"
  },
  "orig_nbformat": 4,
  "vscode": {
   "interpreter": {
    "hash": "cef5bb54941aca950c93b0ced18fcc5cb49b2d36f6c89d37f011af61e4a6718a"
   }
  }
 },
 "nbformat": 4,
 "nbformat_minor": 2
}
