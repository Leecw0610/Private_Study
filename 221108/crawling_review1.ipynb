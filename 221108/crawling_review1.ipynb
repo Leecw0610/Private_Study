{
 "cells": [
  {
   "cell_type": "code",
   "execution_count": 1,
   "id": "3d583b50-64a4-446d-82a6-0e127c95b4c9",
   "metadata": {},
   "outputs": [],
   "source": [
    "import pandas as pd\n",
    "import numpy as np"
   ]
  },
  {
   "cell_type": "code",
   "execution_count": 2,
   "id": "dec4f59e-5bab-4d26-b1e5-9893df8e244f",
   "metadata": {},
   "outputs": [],
   "source": [
    "sales = pd.read_csv('../../221031/sales.csv')"
   ]
  },
  {
   "cell_type": "code",
   "execution_count": null,
   "id": "a15aa36e-96cf-48f1-9888-09e5f7a0803b",
   "metadata": {},
   "outputs": [],
   "source": [
    "sales.info()"
   ]
  },
  {
   "cell_type": "code",
   "execution_count": null,
   "id": "1bfe0ae9-2f64-429f-9b54-77769d37d93e",
   "metadata": {},
   "outputs": [],
   "source": [
    "sales.head(1)"
   ]
  },
  {
   "cell_type": "code",
   "execution_count": null,
   "id": "311e0420-9cf3-4d0a-bfb1-496a4e4e8ec8",
   "metadata": {},
   "outputs": [],
   "source": [
    "len(sales['shop_id'].unique()) #판매장소의 수"
   ]
  },
  {
   "cell_type": "code",
   "execution_count": null,
   "id": "a9f3813e-713a-492f-a04b-e38fce883c8a",
   "metadata": {},
   "outputs": [],
   "source": [
    "sales.value_counts(['item_id']) #물품당 판매량"
   ]
  },
  {
   "cell_type": "code",
   "execution_count": null,
   "id": "9d8e705c-c1ca-4a5d-9315-82ff7feb1822",
   "metadata": {},
   "outputs": [],
   "source": [
    "len(sales['item_id'].unique()) #판매물품 종류의 개수"
   ]
  },
  {
   "cell_type": "code",
   "execution_count": null,
   "id": "199da82d-f0dd-4506-b265-da57bca56271",
   "metadata": {},
   "outputs": [],
   "source": [
    "sales[sales['item_price'] <0]"
   ]
  },
  {
   "cell_type": "code",
   "execution_count": 3,
   "id": "01265c8d-5b8e-468e-8b49-45eb3a8fc4f9",
   "metadata": {},
   "outputs": [],
   "source": [
    "sales1=sales.drop(sales[sales['item_price'] <0].index)"
   ]
  },
  {
   "cell_type": "code",
   "execution_count": null,
   "id": "a1fa57ff-b51f-46b2-b68a-339517c81ac8",
   "metadata": {},
   "outputs": [],
   "source": [
    "sales[sales['shop_id']==59].index"
   ]
  },
  {
   "cell_type": "code",
   "execution_count": null,
   "id": "085317fd-5107-4459-96f0-461362111a87",
   "metadata": {},
   "outputs": [],
   "source": [
    "sales1[sales1['item_cnt_day'] <= 0]"
   ]
  },
  {
   "cell_type": "code",
   "execution_count": 4,
   "id": "1d82c843-3362-43ef-8a40-5ac54c14151c",
   "metadata": {},
   "outputs": [],
   "source": [
    "sales2=sales1.drop(sales1[sales1['item_cnt_day'] <= 0].index)"
   ]
  },
  {
   "cell_type": "code",
   "execution_count": null,
   "id": "a17b15a2-46cd-43ac-a650-6d4dd1dcf4f1",
   "metadata": {},
   "outputs": [],
   "source": [
    "sales2"
   ]
  },
  {
   "cell_type": "code",
   "execution_count": null,
   "id": "3fa008d2-9e47-4721-bfe3-feba57e7801f",
   "metadata": {},
   "outputs": [],
   "source": [
    "sales.iloc[0]['date'].split('.')[0]"
   ]
  },
  {
   "cell_type": "code",
   "execution_count": null,
   "id": "0085ef31-bec4-40cc-9954-bc96c5d506ee",
   "metadata": {},
   "outputs": [],
   "source": [
    "len(sales)"
   ]
  },
  {
   "cell_type": "code",
   "execution_count": null,
   "id": "6ca7f69c-094e-4fa7-a0e3-996a1d6cf8d3",
   "metadata": {},
   "outputs": [],
   "source": [
    "type(sales)"
   ]
  },
  {
   "cell_type": "raw",
   "id": "edc821a5-11df-464a-949e-a99c5a59b82c",
   "metadata": {},
   "source": [
    "sales['day'] = sales['date']"
   ]
  },
  {
   "cell_type": "raw",
   "id": "d3c95d3b-1d52-425b-8eec-61c6f4491163",
   "metadata": {},
   "source": [
    "sales['month']=sales['date']"
   ]
  },
  {
   "cell_type": "raw",
   "id": "3b02965d-f04b-4052-8ea6-6ea65b2538f7",
   "metadata": {},
   "source": [
    "sales['year']=sales['date']"
   ]
  },
  {
   "cell_type": "code",
   "execution_count": null,
   "id": "28c93e48-139a-4ac0-96ea-d43fa533646e",
   "metadata": {},
   "outputs": [],
   "source": []
  },
  {
   "cell_type": "raw",
   "id": "44537921-239e-431e-800a-9106aa6afb0f",
   "metadata": {
    "jupyter": {
     "outputs_hidden": true
    },
    "tags": []
   },
   "source": [
    "for i in range(len(sales)):\n",
    "    sales['day'][i] = sales.iloc[i]['date'].split('.')[0]\n",
    "    sales['month'][i] = sales.iloc[i]['date'].split('.')[1]\n",
    "    sales['year'][i] = sales.iloc[i]['date'].split('.')[2]\n"
   ]
  },
  {
   "cell_type": "code",
   "execution_count": null,
   "id": "5520276e-60d4-410e-bdee-31ab9b5b32fb",
   "metadata": {},
   "outputs": [],
   "source": [
    "sales.head(1)"
   ]
  },
  {
   "cell_type": "code",
   "execution_count": 5,
   "id": "216d7eb2-3604-4ec1-ac07-f2247453f21a",
   "metadata": {},
   "outputs": [],
   "source": [
    "sales2['income'] = sales2['item_price'] *sales2['item_cnt_day']"
   ]
  },
  {
   "cell_type": "code",
   "execution_count": 6,
   "id": "7540e6c1-9f9e-4bb4-927b-d58e8d147220",
   "metadata": {},
   "outputs": [
    {
     "data": {
      "text/plain": [
       "0           999.00\n",
       "1           899.00\n",
       "3          1709.05\n",
       "4          1099.00\n",
       "5           349.00\n",
       "            ...   \n",
       "2935844     299.00\n",
       "2935845     299.00\n",
       "2935846     349.00\n",
       "2935847     299.00\n",
       "2935848     299.00\n",
       "Name: income, Length: 2928492, dtype: float64"
      ]
     },
     "execution_count": 6,
     "metadata": {},
     "output_type": "execute_result"
    }
   ],
   "source": [
    "sales2['income']"
   ]
  },
  {
   "cell_type": "code",
   "execution_count": 7,
   "id": "926be6ab-216e-4477-88dd-472cc860755e",
   "metadata": {},
   "outputs": [
    {
     "data": {
      "text/plain": [
       "0         2013-01-02\n",
       "1         2013-01-03\n",
       "3         2013-01-06\n",
       "4         2013-01-15\n",
       "5         2013-01-10\n",
       "             ...    \n",
       "2935844   2015-10-10\n",
       "2935845   2015-10-09\n",
       "2935846   2015-10-14\n",
       "2935847   2015-10-22\n",
       "2935848   2015-10-03\n",
       "Name: date, Length: 2928492, dtype: datetime64[ns]"
      ]
     },
     "execution_count": 7,
     "metadata": {},
     "output_type": "execute_result"
    }
   ],
   "source": [
    "pd.to_datetime(sales2['date'], format = '%d.%m.%Y')"
   ]
  },
  {
   "cell_type": "code",
   "execution_count": 8,
   "id": "76f5119f-f208-4e5e-ba2e-9e6396b271a5",
   "metadata": {
    "tags": []
   },
   "outputs": [],
   "source": [
    "sales2[['day','month','year']]= sales2['date'].str.split('.', expand = True)"
   ]
  },
  {
   "cell_type": "code",
   "execution_count": 9,
   "id": "eb2e981b-39be-4685-b6ae-95bb4955a7bb",
   "metadata": {},
   "outputs": [
    {
     "data": {
      "text/plain": [
       "0          02.01.2013\n",
       "1          03.01.2013\n",
       "3          06.01.2013\n",
       "4          15.01.2013\n",
       "5          10.01.2013\n",
       "              ...    \n",
       "2935844    10.10.2015\n",
       "2935845    09.10.2015\n",
       "2935846    14.10.2015\n",
       "2935847    22.10.2015\n",
       "2935848    03.10.2015\n",
       "Name: date, Length: 2928492, dtype: object"
      ]
     },
     "execution_count": 9,
     "metadata": {},
     "output_type": "execute_result"
    }
   ],
   "source": [
    "sales2['date']"
   ]
  },
  {
   "cell_type": "code",
   "execution_count": null,
   "id": "d20d3654-8dfb-49f2-b37d-e08813bdbc89",
   "metadata": {},
   "outputs": [],
   "source": [
    "sales2.head(1)"
   ]
  },
  {
   "cell_type": "code",
   "execution_count": 10,
   "id": "2e1c90a2-9548-4765-b81d-379402d17eae",
   "metadata": {},
   "outputs": [],
   "source": [
    "sales2['y_m'] = sales2['year'] + '.' + sales2['month']"
   ]
  },
  {
   "cell_type": "code",
   "execution_count": 11,
   "id": "27fb9c17-f863-44b0-b97d-9f29b6e23ef5",
   "metadata": {},
   "outputs": [],
   "source": [
    "sales2['m_d'] = sales2['month'] + '.' + sales2['day']"
   ]
  },
  {
   "cell_type": "code",
   "execution_count": null,
   "id": "184d1f8c-059c-40a9-b6eb-d3970310db27",
   "metadata": {},
   "outputs": [],
   "source": [
    "sales2.head(1)"
   ]
  },
  {
   "cell_type": "code",
   "execution_count": 12,
   "id": "d18c7a9a-188a-4bea-b384-263323f0a3ad",
   "metadata": {},
   "outputs": [],
   "source": [
    "sales=sales2"
   ]
  },
  {
   "cell_type": "code",
   "execution_count": null,
   "id": "148ce8ce-27ad-4cdb-93ce-b64c6b4c05c6",
   "metadata": {},
   "outputs": [],
   "source": [
    "sales['year'].value_counts()"
   ]
  },
  {
   "cell_type": "code",
   "execution_count": null,
   "id": "9f421faf-f159-40e7-9459-c5b2618bdc1f",
   "metadata": {
    "tags": []
   },
   "outputs": [],
   "source": [
    "sales['month'].value_counts().sort_index()"
   ]
  },
  {
   "cell_type": "code",
   "execution_count": null,
   "id": "4260c8c3-3718-4ed1-8434-cb592e0f5fda",
   "metadata": {},
   "outputs": [],
   "source": [
    "sales10=sales['day'].value_counts().sort_index()"
   ]
  },
  {
   "cell_type": "code",
   "execution_count": null,
   "id": "b0385b9d-bfd9-4710-a309-90cef3783bfa",
   "metadata": {},
   "outputs": [],
   "source": [
    "sales10=sales10.reset_index()"
   ]
  },
  {
   "cell_type": "code",
   "execution_count": null,
   "id": "da6b2b79-0c4f-4d25-9199-3b3407f9963c",
   "metadata": {
    "tags": []
   },
   "outputs": [],
   "source": [
    "sales10"
   ]
  },
  {
   "cell_type": "code",
   "execution_count": null,
   "id": "339d50c6-426b-46c4-a03c-bc80dae9c942",
   "metadata": {},
   "outputs": [],
   "source": [
    "import seaborn as sns"
   ]
  },
  {
   "cell_type": "code",
   "execution_count": null,
   "id": "f8176f3c-650f-46cb-8be9-809b0791a1e7",
   "metadata": {
    "tags": []
   },
   "outputs": [],
   "source": [
    "sns.lineplot(data=sales10 ,x ='index',y='day')"
   ]
  },
  {
   "cell_type": "code",
   "execution_count": 13,
   "id": "19272d48-a46a-497b-9e47-5c7944c58b8b",
   "metadata": {},
   "outputs": [
    {
     "data": {
      "text/html": [
       "<div>\n",
       "<style scoped>\n",
       "    .dataframe tbody tr th:only-of-type {\n",
       "        vertical-align: middle;\n",
       "    }\n",
       "\n",
       "    .dataframe tbody tr th {\n",
       "        vertical-align: top;\n",
       "    }\n",
       "\n",
       "    .dataframe thead th {\n",
       "        text-align: right;\n",
       "    }\n",
       "</style>\n",
       "<table border=\"1\" class=\"dataframe\">\n",
       "  <thead>\n",
       "    <tr style=\"text-align: right;\">\n",
       "      <th></th>\n",
       "      <th>date</th>\n",
       "      <th>shop_id</th>\n",
       "      <th>item_id</th>\n",
       "      <th>item_price</th>\n",
       "      <th>item_cnt_day</th>\n",
       "      <th>income</th>\n",
       "      <th>day</th>\n",
       "      <th>month</th>\n",
       "      <th>year</th>\n",
       "      <th>y_m</th>\n",
       "      <th>m_d</th>\n",
       "    </tr>\n",
       "  </thead>\n",
       "  <tbody>\n",
       "    <tr>\n",
       "      <th>0</th>\n",
       "      <td>02.01.2013</td>\n",
       "      <td>59</td>\n",
       "      <td>22154</td>\n",
       "      <td>999.00</td>\n",
       "      <td>1.0</td>\n",
       "      <td>999.00</td>\n",
       "      <td>02</td>\n",
       "      <td>01</td>\n",
       "      <td>2013</td>\n",
       "      <td>2013.01</td>\n",
       "      <td>01.02</td>\n",
       "    </tr>\n",
       "    <tr>\n",
       "      <th>1</th>\n",
       "      <td>03.01.2013</td>\n",
       "      <td>25</td>\n",
       "      <td>2552</td>\n",
       "      <td>899.00</td>\n",
       "      <td>1.0</td>\n",
       "      <td>899.00</td>\n",
       "      <td>03</td>\n",
       "      <td>01</td>\n",
       "      <td>2013</td>\n",
       "      <td>2013.01</td>\n",
       "      <td>01.03</td>\n",
       "    </tr>\n",
       "    <tr>\n",
       "      <th>3</th>\n",
       "      <td>06.01.2013</td>\n",
       "      <td>25</td>\n",
       "      <td>2554</td>\n",
       "      <td>1709.05</td>\n",
       "      <td>1.0</td>\n",
       "      <td>1709.05</td>\n",
       "      <td>06</td>\n",
       "      <td>01</td>\n",
       "      <td>2013</td>\n",
       "      <td>2013.01</td>\n",
       "      <td>01.06</td>\n",
       "    </tr>\n",
       "    <tr>\n",
       "      <th>4</th>\n",
       "      <td>15.01.2013</td>\n",
       "      <td>25</td>\n",
       "      <td>2555</td>\n",
       "      <td>1099.00</td>\n",
       "      <td>1.0</td>\n",
       "      <td>1099.00</td>\n",
       "      <td>15</td>\n",
       "      <td>01</td>\n",
       "      <td>2013</td>\n",
       "      <td>2013.01</td>\n",
       "      <td>01.15</td>\n",
       "    </tr>\n",
       "    <tr>\n",
       "      <th>5</th>\n",
       "      <td>10.01.2013</td>\n",
       "      <td>25</td>\n",
       "      <td>2564</td>\n",
       "      <td>349.00</td>\n",
       "      <td>1.0</td>\n",
       "      <td>349.00</td>\n",
       "      <td>10</td>\n",
       "      <td>01</td>\n",
       "      <td>2013</td>\n",
       "      <td>2013.01</td>\n",
       "      <td>01.10</td>\n",
       "    </tr>\n",
       "    <tr>\n",
       "      <th>...</th>\n",
       "      <td>...</td>\n",
       "      <td>...</td>\n",
       "      <td>...</td>\n",
       "      <td>...</td>\n",
       "      <td>...</td>\n",
       "      <td>...</td>\n",
       "      <td>...</td>\n",
       "      <td>...</td>\n",
       "      <td>...</td>\n",
       "      <td>...</td>\n",
       "      <td>...</td>\n",
       "    </tr>\n",
       "    <tr>\n",
       "      <th>2935844</th>\n",
       "      <td>10.10.2015</td>\n",
       "      <td>25</td>\n",
       "      <td>7409</td>\n",
       "      <td>299.00</td>\n",
       "      <td>1.0</td>\n",
       "      <td>299.00</td>\n",
       "      <td>10</td>\n",
       "      <td>10</td>\n",
       "      <td>2015</td>\n",
       "      <td>2015.10</td>\n",
       "      <td>10.10</td>\n",
       "    </tr>\n",
       "    <tr>\n",
       "      <th>2935845</th>\n",
       "      <td>09.10.2015</td>\n",
       "      <td>25</td>\n",
       "      <td>7460</td>\n",
       "      <td>299.00</td>\n",
       "      <td>1.0</td>\n",
       "      <td>299.00</td>\n",
       "      <td>09</td>\n",
       "      <td>10</td>\n",
       "      <td>2015</td>\n",
       "      <td>2015.10</td>\n",
       "      <td>10.09</td>\n",
       "    </tr>\n",
       "    <tr>\n",
       "      <th>2935846</th>\n",
       "      <td>14.10.2015</td>\n",
       "      <td>25</td>\n",
       "      <td>7459</td>\n",
       "      <td>349.00</td>\n",
       "      <td>1.0</td>\n",
       "      <td>349.00</td>\n",
       "      <td>14</td>\n",
       "      <td>10</td>\n",
       "      <td>2015</td>\n",
       "      <td>2015.10</td>\n",
       "      <td>10.14</td>\n",
       "    </tr>\n",
       "    <tr>\n",
       "      <th>2935847</th>\n",
       "      <td>22.10.2015</td>\n",
       "      <td>25</td>\n",
       "      <td>7440</td>\n",
       "      <td>299.00</td>\n",
       "      <td>1.0</td>\n",
       "      <td>299.00</td>\n",
       "      <td>22</td>\n",
       "      <td>10</td>\n",
       "      <td>2015</td>\n",
       "      <td>2015.10</td>\n",
       "      <td>10.22</td>\n",
       "    </tr>\n",
       "    <tr>\n",
       "      <th>2935848</th>\n",
       "      <td>03.10.2015</td>\n",
       "      <td>25</td>\n",
       "      <td>7460</td>\n",
       "      <td>299.00</td>\n",
       "      <td>1.0</td>\n",
       "      <td>299.00</td>\n",
       "      <td>03</td>\n",
       "      <td>10</td>\n",
       "      <td>2015</td>\n",
       "      <td>2015.10</td>\n",
       "      <td>10.03</td>\n",
       "    </tr>\n",
       "  </tbody>\n",
       "</table>\n",
       "<p>2928492 rows × 11 columns</p>\n",
       "</div>"
      ],
      "text/plain": [
       "               date  shop_id  item_id  item_price  item_cnt_day   income day  \\\n",
       "0        02.01.2013       59    22154      999.00           1.0   999.00  02   \n",
       "1        03.01.2013       25     2552      899.00           1.0   899.00  03   \n",
       "3        06.01.2013       25     2554     1709.05           1.0  1709.05  06   \n",
       "4        15.01.2013       25     2555     1099.00           1.0  1099.00  15   \n",
       "5        10.01.2013       25     2564      349.00           1.0   349.00  10   \n",
       "...             ...      ...      ...         ...           ...      ...  ..   \n",
       "2935844  10.10.2015       25     7409      299.00           1.0   299.00  10   \n",
       "2935845  09.10.2015       25     7460      299.00           1.0   299.00  09   \n",
       "2935846  14.10.2015       25     7459      349.00           1.0   349.00  14   \n",
       "2935847  22.10.2015       25     7440      299.00           1.0   299.00  22   \n",
       "2935848  03.10.2015       25     7460      299.00           1.0   299.00  03   \n",
       "\n",
       "        month  year      y_m    m_d  \n",
       "0          01  2013  2013.01  01.02  \n",
       "1          01  2013  2013.01  01.03  \n",
       "3          01  2013  2013.01  01.06  \n",
       "4          01  2013  2013.01  01.15  \n",
       "5          01  2013  2013.01  01.10  \n",
       "...       ...   ...      ...    ...  \n",
       "2935844    10  2015  2015.10  10.10  \n",
       "2935845    10  2015  2015.10  10.09  \n",
       "2935846    10  2015  2015.10  10.14  \n",
       "2935847    10  2015  2015.10  10.22  \n",
       "2935848    10  2015  2015.10  10.03  \n",
       "\n",
       "[2928492 rows x 11 columns]"
      ]
     },
     "execution_count": 13,
     "metadata": {},
     "output_type": "execute_result"
    }
   ],
   "source": [
    "sales"
   ]
  },
  {
   "cell_type": "code",
   "execution_count": 19,
   "id": "82988ac6-fd16-4a29-9f22-b7566ddbc07a",
   "metadata": {
    "tags": []
   },
   "outputs": [],
   "source": [
    "sales3 =sales2[(sales2['month']!=11) & (sales2['month']!=12)] "
   ]
  },
  {
   "cell_type": "code",
   "execution_count": 20,
   "id": "6ddea74d-7a16-4e2b-a66f-5ba22c23c197",
   "metadata": {},
   "outputs": [],
   "source": [
    "item_cnt_year_not1112 = sales3.groupby('year')['item_cnt_day'].sum()"
   ]
  },
  {
   "cell_type": "code",
   "execution_count": 21,
   "id": "0b9f73ca-46e7-41d8-a2f7-804b1819fcaa",
   "metadata": {},
   "outputs": [
    {
     "data": {
      "text/plain": [
       "year\n",
       "2013    1565896.0\n",
       "2014    1323594.0\n",
       "2015     766256.0\n",
       "Name: item_cnt_day, dtype: float64"
      ]
     },
     "execution_count": 21,
     "metadata": {},
     "output_type": "execute_result"
    }
   ],
   "source": [
    "item_cnt_year_not1112"
   ]
  },
  {
   "cell_type": "code",
   "execution_count": null,
   "id": "d2afebaa-7064-4a3c-b4b4-f0c504738200",
   "metadata": {},
   "outputs": [],
   "source": [
    "sales1['item_cnt_day'].value_counts()"
   ]
  },
  {
   "cell_type": "code",
   "execution_count": null,
   "id": "f1ce7fb2-372a-42ff-83d9-584445b17dc9",
   "metadata": {},
   "outputs": [],
   "source": [
    "sales2"
   ]
  },
  {
   "cell_type": "code",
   "execution_count": 22,
   "id": "05491134-da7e-4631-bad8-b37bd58572d9",
   "metadata": {},
   "outputs": [
    {
     "data": {
      "text/plain": [
       "Index(['date', 'shop_id', 'item_id', 'item_price', 'item_cnt_day', 'income',\n",
       "       'day', 'month', 'year', 'y_m', 'm_d'],\n",
       "      dtype='object')"
      ]
     },
     "execution_count": 22,
     "metadata": {},
     "output_type": "execute_result"
    }
   ],
   "source": [
    "sales.columns"
   ]
  },
  {
   "cell_type": "code",
   "execution_count": null,
   "id": "78cc4d91-781f-47a0-97b9-c4409fd98cd8",
   "metadata": {},
   "outputs": [],
   "source": []
  }
 ],
 "metadata": {
  "kernelspec": {
   "display_name": "Python 3 (ipykernel)",
   "language": "python",
   "name": "python3"
  },
  "language_info": {
   "codemirror_mode": {
    "name": "ipython",
    "version": 3
   },
   "file_extension": ".py",
   "mimetype": "text/x-python",
   "name": "python",
   "nbconvert_exporter": "python",
   "pygments_lexer": "ipython3",
   "version": "3.9.13"
  }
 },
 "nbformat": 4,
 "nbformat_minor": 5
}
