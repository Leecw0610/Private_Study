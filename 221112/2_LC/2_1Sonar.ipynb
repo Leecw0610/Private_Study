{
 "cells": [
  {
   "cell_type": "markdown",
   "id": "ccc47004-e58d-474c-b786-1c76240b3494",
   "metadata": {},
   "source": [
    "# 2.Logistic Classification"
   ]
  },
  {
   "cell_type": "code",
   "execution_count": null,
   "id": "4f1a126b-4ce6-42fb-bc2e-da4cb9a68105",
   "metadata": {},
   "outputs": [],
   "source": [
    "import pandas as pd\n",
    "from sklearn.linear_model import LogisticRegression"
   ]
  },
  {
   "cell_type": "code",
   "execution_count": null,
   "id": "8b7fea7b-52ae-4864-ae78-cc72322135d9",
   "metadata": {},
   "outputs": [],
   "source": [
    "sonar = pd.read_csv('sonar_csv.csv')"
   ]
  },
  {
   "cell_type": "code",
   "execution_count": null,
   "id": "b1aa7a6d-1a90-4aba-8dc0-669e9394a41c",
   "metadata": {},
   "outputs": [],
   "source": [
    "sonar"
   ]
  },
  {
   "cell_type": "code",
   "execution_count": null,
   "id": "dff792e4-d62e-4534-b053-cf5a47c432a6",
   "metadata": {},
   "outputs": [],
   "source": [
    "sonar['Class'].value_counts()"
   ]
  },
  {
   "cell_type": "code",
   "execution_count": null,
   "id": "59026bba-28c1-410b-962d-27e07939f504",
   "metadata": {},
   "outputs": [],
   "source": [
    "sonar['Class'].unique()"
   ]
  },
  {
   "cell_type": "code",
   "execution_count": null,
   "id": "41879783-1113-4907-a21a-3326460702c4",
   "metadata": {},
   "outputs": [],
   "source": [
    "from sklearn.preprocessing import LabelEncoder"
   ]
  },
  {
   "cell_type": "code",
   "execution_count": null,
   "id": "a7b0188f-88be-40bb-bf86-4810462cac92",
   "metadata": {},
   "outputs": [],
   "source": [
    "col_list= ['Class']\n",
    "for col in col_list :\n",
    "    label = LabelEncoder()\n",
    "    label.fit(sonar[col].unique())\n",
    "    sonar[col] = label.transform(sonar[col])"
   ]
  },
  {
   "cell_type": "code",
   "execution_count": null,
   "id": "4899a5bb-64b7-48c7-97ee-470909a48f86",
   "metadata": {},
   "outputs": [],
   "source": [
    "sonar #1이 Rock 0이 Mine"
   ]
  },
  {
   "cell_type": "code",
   "execution_count": null,
   "id": "f8063633-3241-4bad-b2ac-72e9c818cf26",
   "metadata": {},
   "outputs": [],
   "source": []
  },
  {
   "cell_type": "code",
   "execution_count": null,
   "id": "df087f8f-055f-447f-94a5-91f94cbe2785",
   "metadata": {},
   "outputs": [],
   "source": [
    "from sklearn.model_selection import train_test_split\n",
    "from sklearn.metrics import mean_absolute_error"
   ]
  },
  {
   "cell_type": "code",
   "execution_count": null,
   "id": "9929d0e3-50bf-4006-8d34-797d9a49c6c1",
   "metadata": {},
   "outputs": [],
   "source": [
    "model = LogisticRegression()"
   ]
  },
  {
   "cell_type": "code",
   "execution_count": null,
   "id": "9bc32808-213a-4773-bb8b-6334617beda1",
   "metadata": {},
   "outputs": [],
   "source": [
    "x = sonar.drop(['Class'],axis=1)"
   ]
  },
  {
   "cell_type": "code",
   "execution_count": null,
   "id": "a6592864-b5e2-4033-b162-595d2fedef68",
   "metadata": {},
   "outputs": [],
   "source": [
    "y = sonar['Class']"
   ]
  },
  {
   "cell_type": "code",
   "execution_count": null,
   "id": "eeac9375-d957-4032-87dd-b854b628edcc",
   "metadata": {},
   "outputs": [],
   "source": [
    "x_train, x_test, y_train, y_test = train_test_split(x,y,test_size=0.1, random_state=0, stratify=y)"
   ]
  },
  {
   "cell_type": "code",
   "execution_count": null,
   "id": "8ac9a660-116d-4c9d-b5d4-0b41e89860b1",
   "metadata": {},
   "outputs": [],
   "source": [
    "model.fit(x_train, y_train)"
   ]
  },
  {
   "cell_type": "code",
   "execution_count": null,
   "id": "940f1317-bddc-4b0b-a5de-935529a089dc",
   "metadata": {},
   "outputs": [],
   "source": [
    "pre_train = model.predict(x_train)"
   ]
  },
  {
   "cell_type": "code",
   "execution_count": null,
   "id": "820f3337-fb3a-4906-9836-4570039bab26",
   "metadata": {},
   "outputs": [],
   "source": [
    "mean_absolute_error(pre_train, y_train)"
   ]
  },
  {
   "cell_type": "code",
   "execution_count": null,
   "id": "950a4198-cdfd-4d06-a8b7-faba63a72516",
   "metadata": {},
   "outputs": [],
   "source": [
    "model.score(x_train, y_train)"
   ]
  },
  {
   "cell_type": "code",
   "execution_count": null,
   "id": "d66c5ea7-8992-4a3b-925c-c48e3bbec515",
   "metadata": {},
   "outputs": [],
   "source": [
    "pre_test = model.predict(x_test)"
   ]
  },
  {
   "cell_type": "code",
   "execution_count": null,
   "id": "3ba90dfa-93ff-4504-bb04-d43830aeb02f",
   "metadata": {},
   "outputs": [],
   "source": [
    "mean_absolute_error(pre_test, y_test)"
   ]
  },
  {
   "cell_type": "code",
   "execution_count": null,
   "id": "8d1b1c04-f129-45b0-8e86-b4ea1e7bf82c",
   "metadata": {},
   "outputs": [],
   "source": [
    "model.score(x_test, y_test)"
   ]
  },
  {
   "cell_type": "markdown",
   "id": "7d7b4826-e8da-4b2c-88c5-3dc55e5501dd",
   "metadata": {},
   "source": [
    "------------------------"
   ]
  },
  {
   "cell_type": "raw",
   "id": "e72cb3a8-3fc8-4656-93a6-3ec766ee2081",
   "metadata": {},
   "source": [
    "모델 2로 해보기"
   ]
  },
  {
   "cell_type": "code",
   "execution_count": null,
   "id": "49dc9745-28a9-49d2-822f-27a5297e22e9",
   "metadata": {},
   "outputs": [],
   "source": [
    "model2 = LogisticRegression(max_iter=1000)"
   ]
  },
  {
   "cell_type": "code",
   "execution_count": null,
   "id": "39f4be16-40a0-4e47-8cfc-5f1c70818589",
   "metadata": {},
   "outputs": [],
   "source": [
    "model2.fit(x_train, y_train)"
   ]
  },
  {
   "cell_type": "code",
   "execution_count": null,
   "id": "ed44d48f-8dfb-4984-b404-1d8684c025dd",
   "metadata": {},
   "outputs": [],
   "source": [
    "model2.score(x_train, y_train)"
   ]
  },
  {
   "cell_type": "code",
   "execution_count": null,
   "id": "4fef88a4-33bb-4855-ad04-73060989285f",
   "metadata": {},
   "outputs": [],
   "source": [
    "model2.score(x_test, y_test)"
   ]
  },
  {
   "cell_type": "code",
   "execution_count": null,
   "id": "834ef81f-85d0-40e0-aef2-c9ffb735db71",
   "metadata": {},
   "outputs": [],
   "source": [
    "from sklearn.preprocessing import StandardScaler"
   ]
  },
  {
   "cell_type": "code",
   "execution_count": null,
   "id": "c92c5300-e74f-4ce0-a427-6a8e4ced8d20",
   "metadata": {},
   "outputs": [],
   "source": [
    "scaler = StandardScaler()"
   ]
  },
  {
   "cell_type": "code",
   "execution_count": null,
   "id": "7d0c0dea-627e-4ef2-b2a6-c763a7d68082",
   "metadata": {},
   "outputs": [],
   "source": [
    "x_train = scaler.fit_transform(x_train)\n",
    "x_test = scaler.fit_transform(x_test)"
   ]
  },
  {
   "cell_type": "code",
   "execution_count": null,
   "id": "932da30b-8dba-46c1-bdcc-ac081b449b4f",
   "metadata": {},
   "outputs": [],
   "source": [
    "model.fit(x_train, y_train)"
   ]
  },
  {
   "cell_type": "code",
   "execution_count": null,
   "id": "24ca99e2-c8d9-46c1-b7df-938a641f9918",
   "metadata": {},
   "outputs": [],
   "source": [
    "model.score(x_train, y_train)"
   ]
  },
  {
   "cell_type": "code",
   "execution_count": null,
   "id": "da34b74c-9246-40d8-9f7d-103f99cd7b57",
   "metadata": {},
   "outputs": [],
   "source": [
    "model.score(x_test, y_test)"
   ]
  },
  {
   "cell_type": "code",
   "execution_count": null,
   "id": "4ccad634-8794-486b-ac7d-ebb6743b73a1",
   "metadata": {},
   "outputs": [],
   "source": [
    "model2.fit(x_train, y_train)"
   ]
  },
  {
   "cell_type": "code",
   "execution_count": null,
   "id": "da8433d9-96a9-4ca6-86d2-61ea46ec4546",
   "metadata": {},
   "outputs": [],
   "source": [
    "model2.score(x_train, y_train)"
   ]
  },
  {
   "cell_type": "code",
   "execution_count": null,
   "id": "0c6b3a83-1e5f-4e58-ae35-3e441b70f0cd",
   "metadata": {},
   "outputs": [],
   "source": [
    "model2.score(x_test, y_test)"
   ]
  },
  {
   "cell_type": "raw",
   "id": "9f8206f3-4bc1-4180-926c-e659a18db60f",
   "metadata": {
    "jupyter": {
     "outputs_hidden": true
    },
    "tags": []
   },
   "source": [
    "x_train[0].values.reshape(1,-1)"
   ]
  },
  {
   "cell_type": "code",
   "execution_count": null,
   "id": "70c40a3a-4d51-46e9-9d96-f6b2700851a4",
   "metadata": {},
   "outputs": [],
   "source": [
    "sensor =x_train[0].reshape(1,-1)"
   ]
  },
  {
   "cell_type": "code",
   "execution_count": null,
   "id": "ac2ad292-f5fb-48f3-a1a9-3ce212879087",
   "metadata": {},
   "outputs": [],
   "source": [
    "print(model2.predict(sensor) , ' 이 탐지되었습니다')"
   ]
  },
  {
   "cell_type": "code",
   "execution_count": null,
   "id": "84c6fda6-0d15-457f-8f09-6776d3bba005",
   "metadata": {},
   "outputs": [],
   "source": [
    "model2.predict(sensor)"
   ]
  },
  {
   "cell_type": "code",
   "execution_count": null,
   "id": "12cd9f91-90d4-4bae-bd8b-0320dc5e2c06",
   "metadata": {},
   "outputs": [],
   "source": [
    "pip search sklearn"
   ]
  },
  {
   "cell_type": "code",
   "execution_count": null,
   "id": "37493079-327f-415a-a671-3e1dd7d96b0f",
   "metadata": {},
   "outputs": [],
   "source": [
    "sonar.describe()"
   ]
  },
  {
   "cell_type": "code",
   "execution_count": null,
   "id": "7c6101ec-98bc-4328-8c38-12fc4f04935c",
   "metadata": {},
   "outputs": [],
   "source": [
    "from sklearn.preprocessing import StandardScaler"
   ]
  },
  {
   "cell_type": "code",
   "execution_count": null,
   "id": "50ba6c3a-8af7-4e59-8034-e9b8425c91ae",
   "metadata": {},
   "outputs": [],
   "source": [
    "import pickle"
   ]
  },
  {
   "cell_type": "code",
   "execution_count": null,
   "id": "f97e1997-aa95-4249-9c68-9dccc1eb5eb6",
   "metadata": {},
   "outputs": [],
   "source": [
    "with open('scaler.pkl', 'wb') as f :\n",
    "    pickle.dump(scaler, f)"
   ]
  },
  {
   "cell_type": "code",
   "execution_count": null,
   "id": "b45ab36f-ceaf-4794-a6dd-acec47a86b96",
   "metadata": {},
   "outputs": [],
   "source": [
    "with open('model.pkl', 'wb') as f :\n",
    "    pickle.dump(model, f)"
   ]
  },
  {
   "cell_type": "code",
   "execution_count": null,
   "id": "94b31346-9a2d-4cc4-955e-b65cef917710",
   "metadata": {},
   "outputs": [],
   "source": []
  },
  {
   "cell_type": "code",
   "execution_count": null,
   "id": "4d61d748-fe08-4e2e-a35b-2845b9b00f90",
   "metadata": {},
   "outputs": [],
   "source": [
    "model = LogisticRegression()"
   ]
  },
  {
   "cell_type": "code",
   "execution_count": null,
   "id": "6da8a7d5-181d-4513-95c9-1a3e67087ce1",
   "metadata": {},
   "outputs": [],
   "source": [
    "scaler = StandardScaler()"
   ]
  },
  {
   "cell_type": "code",
   "execution_count": null,
   "id": "97afd7af-7432-426f-b4c0-0836ecb60d4e",
   "metadata": {},
   "outputs": [],
   "source": [
    "x_train = scaler.fit_transform(x_train)\n",
    "x_test = scaler.transform(x_test)"
   ]
  },
  {
   "cell_type": "code",
   "execution_count": null,
   "id": "78e0eb9d-2db5-4e23-8215-7f5df69b576a",
   "metadata": {},
   "outputs": [],
   "source": [
    "model.fit(x_train, y_train)"
   ]
  },
  {
   "cell_type": "code",
   "execution_count": null,
   "id": "0510dfb8-1d93-405b-b750-de5a4a7ca585",
   "metadata": {},
   "outputs": [],
   "source": [
    "model.score(x_train, y_train)"
   ]
  },
  {
   "cell_type": "code",
   "execution_count": null,
   "id": "d4e0867b-bcc7-475d-b2a5-074b2716e0e2",
   "metadata": {},
   "outputs": [],
   "source": [
    "model.score(x_test, y_test)"
   ]
  },
  {
   "cell_type": "code",
   "execution_count": null,
   "id": "408cda01-a14e-4d9b-963a-e99861365882",
   "metadata": {},
   "outputs": [],
   "source": [
    "print(x_train.shape, y_train.shape)"
   ]
  },
  {
   "cell_type": "code",
   "execution_count": null,
   "id": "7f234295-cd77-4cf2-8ac8-e8ab19e745c4",
   "metadata": {},
   "outputs": [],
   "source": [
    "real = x.iloc[0].values.reshape(1, -1) #실제 데이터"
   ]
  },
  {
   "cell_type": "code",
   "execution_count": null,
   "id": "acf03fef-27ef-42fb-8b07-7f1fb91903ac",
   "metadata": {},
   "outputs": [],
   "source": [
    "real"
   ]
  },
  {
   "cell_type": "code",
   "execution_count": null,
   "id": "e4857617-4d73-472e-8b3f-32302c630938",
   "metadata": {},
   "outputs": [],
   "source": [
    "real = scaler.transform(real)"
   ]
  },
  {
   "cell_type": "code",
   "execution_count": null,
   "id": "67e28f97-e8b6-427d-b35f-e749f439ab61",
   "metadata": {},
   "outputs": [],
   "source": [
    "model.predict(real)[0]"
   ]
  },
  {
   "cell_type": "code",
   "execution_count": null,
   "id": "6603481d-f5f2-41e5-8a37-0a28b1a51ac4",
   "metadata": {},
   "outputs": [],
   "source": [
    "real[0]"
   ]
  },
  {
   "cell_type": "markdown",
   "id": "96c03e1a-681f-4e7e-b71d-563776d97bf9",
   "metadata": {},
   "source": [
    "----------------"
   ]
  },
  {
   "cell_type": "raw",
   "id": "029c5b9c-9c8e-4e64-af7a-e6a569660173",
   "metadata": {},
   "source": [
    "Real"
   ]
  },
  {
   "cell_type": "code",
   "execution_count": 1,
   "id": "d3958a7b-8c6d-48af-bbfb-789c98b2e7fa",
   "metadata": {},
   "outputs": [],
   "source": [
    "import pandas as pd\n",
    "import pickle"
   ]
  },
  {
   "cell_type": "code",
   "execution_count": 2,
   "id": "31921d79-c100-46e8-866f-651f1bc21eb5",
   "metadata": {},
   "outputs": [],
   "source": [
    "real_data = pd.read_csv('sonar_csv.csv')"
   ]
  },
  {
   "cell_type": "code",
   "execution_count": 3,
   "id": "95401afd-114b-4747-9b1d-4c8be753c3d5",
   "metadata": {},
   "outputs": [],
   "source": [
    "real = real_data.drop('Class', axis=1)"
   ]
  },
  {
   "cell_type": "code",
   "execution_count": 5,
   "id": "73798a1b-bd45-4c9d-a6c8-1d804e5ee6e3",
   "metadata": {
    "tags": []
   },
   "outputs": [
    {
     "data": {
      "text/plain": [
       "array([0.0629, 0.1065, 0.1526, 0.1229, 0.1437, 0.119 , 0.0884, 0.0907,\n",
       "       0.2107, 0.3597, 0.5466, 0.5205, 0.5127, 0.5395, 0.6558, 0.8705,\n",
       "       0.9786, 0.9335, 0.7917, 0.7383, 0.6908, 0.385 , 0.0671, 0.0502,\n",
       "       0.2717, 0.2839, 0.2234, 0.1911, 0.0408, 0.2531, 0.1979, 0.1891,\n",
       "       0.2433, 0.1956, 0.2667, 0.134 , 0.1073, 0.2023, 0.1794, 0.0227,\n",
       "       0.1313, 0.1775, 0.1549, 0.1626, 0.0708, 0.0129, 0.0795, 0.0762,\n",
       "       0.0117, 0.0061, 0.0257, 0.0089, 0.0262, 0.0108, 0.0138, 0.0187,\n",
       "       0.023 , 0.0057, 0.0113, 0.0131])"
      ]
     },
     "execution_count": 5,
     "metadata": {},
     "output_type": "execute_result"
    }
   ],
   "source": [
    "real.iloc[100].values"
   ]
  },
  {
   "cell_type": "code",
   "execution_count": 6,
   "id": "b81daed0-d8c6-4ac1-8b2c-f1ea00a63810",
   "metadata": {},
   "outputs": [],
   "source": [
    "real2=real.iloc[100].values.reshape(1, -1) #reshape은 재구조화!!"
   ]
  },
  {
   "cell_type": "code",
   "execution_count": 7,
   "id": "a7f9ee7c-631f-42a2-9d2b-326f542fce0f",
   "metadata": {},
   "outputs": [
    {
     "data": {
      "text/plain": [
       "array([[0.0629, 0.1065, 0.1526, 0.1229, 0.1437, 0.119 , 0.0884, 0.0907,\n",
       "        0.2107, 0.3597, 0.5466, 0.5205, 0.5127, 0.5395, 0.6558, 0.8705,\n",
       "        0.9786, 0.9335, 0.7917, 0.7383, 0.6908, 0.385 , 0.0671, 0.0502,\n",
       "        0.2717, 0.2839, 0.2234, 0.1911, 0.0408, 0.2531, 0.1979, 0.1891,\n",
       "        0.2433, 0.1956, 0.2667, 0.134 , 0.1073, 0.2023, 0.1794, 0.0227,\n",
       "        0.1313, 0.1775, 0.1549, 0.1626, 0.0708, 0.0129, 0.0795, 0.0762,\n",
       "        0.0117, 0.0061, 0.0257, 0.0089, 0.0262, 0.0108, 0.0138, 0.0187,\n",
       "        0.023 , 0.0057, 0.0113, 0.0131]])"
      ]
     },
     "execution_count": 7,
     "metadata": {},
     "output_type": "execute_result"
    }
   ],
   "source": [
    "real2"
   ]
  },
  {
   "cell_type": "code",
   "execution_count": 8,
   "id": "930ea4b8-a460-4faa-8c45-4150470e5d0b",
   "metadata": {},
   "outputs": [],
   "source": [
    "with open('scaler.pkl', 'rb') as f :\n",
    "    scal = pickle.load(f)"
   ]
  },
  {
   "cell_type": "code",
   "execution_count": 9,
   "id": "9d6388db-a6ef-4f1f-905a-999a11cd855f",
   "metadata": {},
   "outputs": [],
   "source": [
    "real_pre=scal.transform(real2)"
   ]
  },
  {
   "cell_type": "code",
   "execution_count": 10,
   "id": "d4269e9c-0ef5-4c37-a7aa-2c2345acd228",
   "metadata": {},
   "outputs": [
    {
     "data": {
      "text/plain": [
       "array([[0.0629, 0.1065, 0.1526, 0.1229, 0.1437, 0.119 , 0.0884, 0.0907,\n",
       "        0.2107, 0.3597, 0.5466, 0.5205, 0.5127, 0.5395, 0.6558, 0.8705,\n",
       "        0.9786, 0.9335, 0.7917, 0.7383, 0.6908, 0.385 , 0.0671, 0.0502,\n",
       "        0.2717, 0.2839, 0.2234, 0.1911, 0.0408, 0.2531, 0.1979, 0.1891,\n",
       "        0.2433, 0.1956, 0.2667, 0.134 , 0.1073, 0.2023, 0.1794, 0.0227,\n",
       "        0.1313, 0.1775, 0.1549, 0.1626, 0.0708, 0.0129, 0.0795, 0.0762,\n",
       "        0.0117, 0.0061, 0.0257, 0.0089, 0.0262, 0.0108, 0.0138, 0.0187,\n",
       "        0.023 , 0.0057, 0.0113, 0.0131]])"
      ]
     },
     "execution_count": 10,
     "metadata": {},
     "output_type": "execute_result"
    }
   ],
   "source": [
    "real_pre"
   ]
  },
  {
   "cell_type": "code",
   "execution_count": 11,
   "id": "b3d3ae0e-18d9-4100-87fe-49d0aede1f98",
   "metadata": {},
   "outputs": [],
   "source": [
    "with open('model.pkl', 'rb') as f :\n",
    "    model1 = pickle.load(f)"
   ]
  },
  {
   "cell_type": "code",
   "execution_count": 12,
   "id": "87fe8e4c-3750-4d56-b910-084020bda32d",
   "metadata": {},
   "outputs": [
    {
     "data": {
      "text/plain": [
       "0"
      ]
     },
     "execution_count": 12,
     "metadata": {},
     "output_type": "execute_result"
    }
   ],
   "source": [
    "model1.predict(real_pre)[0]"
   ]
  },
  {
   "cell_type": "code",
   "execution_count": null,
   "id": "9b74486e-c184-4961-8197-26ba68783d2a",
   "metadata": {},
   "outputs": [],
   "source": []
  }
 ],
 "metadata": {
  "kernelspec": {
   "display_name": "Python 3 (ipykernel)",
   "language": "python",
   "name": "python3"
  },
  "language_info": {
   "codemirror_mode": {
    "name": "ipython",
    "version": 3
   },
   "file_extension": ".py",
   "mimetype": "text/x-python",
   "name": "python",
   "nbconvert_exporter": "python",
   "pygments_lexer": "ipython3",
   "version": "3.9.12"
  }
 },
 "nbformat": 4,
 "nbformat_minor": 5
}
