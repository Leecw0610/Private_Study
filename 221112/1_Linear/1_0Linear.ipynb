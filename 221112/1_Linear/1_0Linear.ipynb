{
 "cells": [
  {
   "cell_type": "markdown",
   "id": "eac53c57-4a6d-4dbb-ab78-3fd0d56dfe96",
   "metadata": {},
   "source": [
    "# Linear Regression"
   ]
  },
  {
   "cell_type": "code",
   "execution_count": 1,
   "id": "6170c4f4-1fc9-4965-9675-cd53651a0c60",
   "metadata": {},
   "outputs": [],
   "source": [
    "import pandas as pd\n",
    "import matplotlib.pyplot as plt\n",
    "from sklearn.linear_model import LinearRegression"
   ]
  },
  {
   "cell_type": "code",
   "execution_count": 2,
   "id": "6674e23c-f9b3-4d72-a8b4-f2c10b05421e",
   "metadata": {
    "tags": []
   },
   "outputs": [],
   "source": [
    "data = pd.read_csv('weight-height.csv')"
   ]
  },
  {
   "cell_type": "code",
   "execution_count": 3,
   "id": "3ef57978-bafb-4381-8d6e-3a2990ca2e50",
   "metadata": {
    "collapsed": true,
    "jupyter": {
     "outputs_hidden": true
    },
    "tags": []
   },
   "outputs": [
    {
     "data": {
      "text/html": [
       "<div>\n",
       "<style scoped>\n",
       "    .dataframe tbody tr th:only-of-type {\n",
       "        vertical-align: middle;\n",
       "    }\n",
       "\n",
       "    .dataframe tbody tr th {\n",
       "        vertical-align: top;\n",
       "    }\n",
       "\n",
       "    .dataframe thead th {\n",
       "        text-align: right;\n",
       "    }\n",
       "</style>\n",
       "<table border=\"1\" class=\"dataframe\">\n",
       "  <thead>\n",
       "    <tr style=\"text-align: right;\">\n",
       "      <th></th>\n",
       "      <th>Gender</th>\n",
       "      <th>Height</th>\n",
       "      <th>Weight</th>\n",
       "    </tr>\n",
       "  </thead>\n",
       "  <tbody>\n",
       "    <tr>\n",
       "      <th>0</th>\n",
       "      <td>Male</td>\n",
       "      <td>73.847017</td>\n",
       "      <td>241.893563</td>\n",
       "    </tr>\n",
       "    <tr>\n",
       "      <th>1</th>\n",
       "      <td>Male</td>\n",
       "      <td>68.781904</td>\n",
       "      <td>162.310473</td>\n",
       "    </tr>\n",
       "    <tr>\n",
       "      <th>2</th>\n",
       "      <td>Male</td>\n",
       "      <td>74.110105</td>\n",
       "      <td>212.740856</td>\n",
       "    </tr>\n",
       "    <tr>\n",
       "      <th>3</th>\n",
       "      <td>Male</td>\n",
       "      <td>71.730978</td>\n",
       "      <td>220.042470</td>\n",
       "    </tr>\n",
       "    <tr>\n",
       "      <th>4</th>\n",
       "      <td>Male</td>\n",
       "      <td>69.881796</td>\n",
       "      <td>206.349801</td>\n",
       "    </tr>\n",
       "    <tr>\n",
       "      <th>...</th>\n",
       "      <td>...</td>\n",
       "      <td>...</td>\n",
       "      <td>...</td>\n",
       "    </tr>\n",
       "    <tr>\n",
       "      <th>9995</th>\n",
       "      <td>Female</td>\n",
       "      <td>66.172652</td>\n",
       "      <td>136.777454</td>\n",
       "    </tr>\n",
       "    <tr>\n",
       "      <th>9996</th>\n",
       "      <td>Female</td>\n",
       "      <td>67.067155</td>\n",
       "      <td>170.867906</td>\n",
       "    </tr>\n",
       "    <tr>\n",
       "      <th>9997</th>\n",
       "      <td>Female</td>\n",
       "      <td>63.867992</td>\n",
       "      <td>128.475319</td>\n",
       "    </tr>\n",
       "    <tr>\n",
       "      <th>9998</th>\n",
       "      <td>Female</td>\n",
       "      <td>69.034243</td>\n",
       "      <td>163.852461</td>\n",
       "    </tr>\n",
       "    <tr>\n",
       "      <th>9999</th>\n",
       "      <td>Female</td>\n",
       "      <td>61.944246</td>\n",
       "      <td>113.649103</td>\n",
       "    </tr>\n",
       "  </tbody>\n",
       "</table>\n",
       "<p>10000 rows × 3 columns</p>\n",
       "</div>"
      ],
      "text/plain": [
       "      Gender     Height      Weight\n",
       "0       Male  73.847017  241.893563\n",
       "1       Male  68.781904  162.310473\n",
       "2       Male  74.110105  212.740856\n",
       "3       Male  71.730978  220.042470\n",
       "4       Male  69.881796  206.349801\n",
       "...      ...        ...         ...\n",
       "9995  Female  66.172652  136.777454\n",
       "9996  Female  67.067155  170.867906\n",
       "9997  Female  63.867992  128.475319\n",
       "9998  Female  69.034243  163.852461\n",
       "9999  Female  61.944246  113.649103\n",
       "\n",
       "[10000 rows x 3 columns]"
      ]
     },
     "execution_count": 3,
     "metadata": {},
     "output_type": "execute_result"
    }
   ],
   "source": [
    "data"
   ]
  },
  {
   "cell_type": "code",
   "execution_count": 4,
   "id": "27be03b4-12e6-498f-a99f-e9aae34549d6",
   "metadata": {},
   "outputs": [
    {
     "data": {
      "text/plain": [
       "(10000, 3)"
      ]
     },
     "execution_count": 4,
     "metadata": {},
     "output_type": "execute_result"
    }
   ],
   "source": [
    "data.shape"
   ]
  },
  {
   "cell_type": "code",
   "execution_count": 5,
   "id": "1711bc77-954b-400a-bb85-50175c7cd484",
   "metadata": {},
   "outputs": [
    {
     "data": {
      "text/plain": [
       "Index(['Gender', 'Height', 'Weight'], dtype='object')"
      ]
     },
     "execution_count": 5,
     "metadata": {},
     "output_type": "execute_result"
    }
   ],
   "source": [
    "data.columns"
   ]
  },
  {
   "cell_type": "code",
   "execution_count": 6,
   "id": "1d292a5c-8a19-4196-b5bd-747ef50674b4",
   "metadata": {},
   "outputs": [
    {
     "name": "stdout",
     "output_type": "stream",
     "text": [
      "<class 'pandas.core.frame.DataFrame'>\n",
      "RangeIndex: 10000 entries, 0 to 9999\n",
      "Data columns (total 3 columns):\n",
      " #   Column  Non-Null Count  Dtype  \n",
      "---  ------  --------------  -----  \n",
      " 0   Gender  10000 non-null  object \n",
      " 1   Height  10000 non-null  float64\n",
      " 2   Weight  10000 non-null  float64\n",
      "dtypes: float64(2), object(1)\n",
      "memory usage: 234.5+ KB\n"
     ]
    }
   ],
   "source": [
    "data.info()"
   ]
  },
  {
   "cell_type": "code",
   "execution_count": 7,
   "id": "afadda3d-3ff6-4294-b1fa-a76d76d23fa8",
   "metadata": {},
   "outputs": [],
   "source": [
    "data1= data.head(100)"
   ]
  },
  {
   "cell_type": "code",
   "execution_count": 8,
   "id": "23ef219f-3170-4fe5-a866-926e78df6adf",
   "metadata": {
    "collapsed": true,
    "jupyter": {
     "outputs_hidden": true
    },
    "tags": []
   },
   "outputs": [
    {
     "data": {
      "text/html": [
       "<div>\n",
       "<style scoped>\n",
       "    .dataframe tbody tr th:only-of-type {\n",
       "        vertical-align: middle;\n",
       "    }\n",
       "\n",
       "    .dataframe tbody tr th {\n",
       "        vertical-align: top;\n",
       "    }\n",
       "\n",
       "    .dataframe thead th {\n",
       "        text-align: right;\n",
       "    }\n",
       "</style>\n",
       "<table border=\"1\" class=\"dataframe\">\n",
       "  <thead>\n",
       "    <tr style=\"text-align: right;\">\n",
       "      <th></th>\n",
       "      <th>Gender</th>\n",
       "      <th>Height</th>\n",
       "      <th>Weight</th>\n",
       "    </tr>\n",
       "  </thead>\n",
       "  <tbody>\n",
       "    <tr>\n",
       "      <th>0</th>\n",
       "      <td>Male</td>\n",
       "      <td>73.847017</td>\n",
       "      <td>241.893563</td>\n",
       "    </tr>\n",
       "    <tr>\n",
       "      <th>1</th>\n",
       "      <td>Male</td>\n",
       "      <td>68.781904</td>\n",
       "      <td>162.310473</td>\n",
       "    </tr>\n",
       "    <tr>\n",
       "      <th>2</th>\n",
       "      <td>Male</td>\n",
       "      <td>74.110105</td>\n",
       "      <td>212.740856</td>\n",
       "    </tr>\n",
       "    <tr>\n",
       "      <th>3</th>\n",
       "      <td>Male</td>\n",
       "      <td>71.730978</td>\n",
       "      <td>220.042470</td>\n",
       "    </tr>\n",
       "    <tr>\n",
       "      <th>4</th>\n",
       "      <td>Male</td>\n",
       "      <td>69.881796</td>\n",
       "      <td>206.349801</td>\n",
       "    </tr>\n",
       "    <tr>\n",
       "      <th>...</th>\n",
       "      <td>...</td>\n",
       "      <td>...</td>\n",
       "      <td>...</td>\n",
       "    </tr>\n",
       "    <tr>\n",
       "      <th>95</th>\n",
       "      <td>Male</td>\n",
       "      <td>65.117485</td>\n",
       "      <td>165.717112</td>\n",
       "    </tr>\n",
       "    <tr>\n",
       "      <th>96</th>\n",
       "      <td>Male</td>\n",
       "      <td>71.701234</td>\n",
       "      <td>193.094164</td>\n",
       "    </tr>\n",
       "    <tr>\n",
       "      <th>97</th>\n",
       "      <td>Male</td>\n",
       "      <td>66.832878</td>\n",
       "      <td>180.683887</td>\n",
       "    </tr>\n",
       "    <tr>\n",
       "      <th>98</th>\n",
       "      <td>Male</td>\n",
       "      <td>66.471275</td>\n",
       "      <td>172.773723</td>\n",
       "    </tr>\n",
       "    <tr>\n",
       "      <th>99</th>\n",
       "      <td>Male</td>\n",
       "      <td>69.411526</td>\n",
       "      <td>177.470616</td>\n",
       "    </tr>\n",
       "  </tbody>\n",
       "</table>\n",
       "<p>100 rows × 3 columns</p>\n",
       "</div>"
      ],
      "text/plain": [
       "   Gender     Height      Weight\n",
       "0    Male  73.847017  241.893563\n",
       "1    Male  68.781904  162.310473\n",
       "2    Male  74.110105  212.740856\n",
       "3    Male  71.730978  220.042470\n",
       "4    Male  69.881796  206.349801\n",
       "..    ...        ...         ...\n",
       "95   Male  65.117485  165.717112\n",
       "96   Male  71.701234  193.094164\n",
       "97   Male  66.832878  180.683887\n",
       "98   Male  66.471275  172.773723\n",
       "99   Male  69.411526  177.470616\n",
       "\n",
       "[100 rows x 3 columns]"
      ]
     },
     "execution_count": 8,
     "metadata": {},
     "output_type": "execute_result"
    }
   ],
   "source": [
    "data1"
   ]
  },
  {
   "cell_type": "code",
   "execution_count": 9,
   "id": "f2e0c9ae-ac39-466d-aec2-789f280ddf6f",
   "metadata": {},
   "outputs": [],
   "source": [
    "x = data['Height'][0:100]\n",
    "y = data['Weight'][0:100]"
   ]
  },
  {
   "cell_type": "code",
   "execution_count": 11,
   "id": "2dac9e91-4ccf-4145-881e-208f05da4102",
   "metadata": {},
   "outputs": [
    {
     "data": {
      "text/html": [
       "<div>\n",
       "<style scoped>\n",
       "    .dataframe tbody tr th:only-of-type {\n",
       "        vertical-align: middle;\n",
       "    }\n",
       "\n",
       "    .dataframe tbody tr th {\n",
       "        vertical-align: top;\n",
       "    }\n",
       "\n",
       "    .dataframe thead th {\n",
       "        text-align: right;\n",
       "    }\n",
       "</style>\n",
       "<table border=\"1\" class=\"dataframe\">\n",
       "  <thead>\n",
       "    <tr style=\"text-align: right;\">\n",
       "      <th></th>\n",
       "      <th>Gender</th>\n",
       "      <th>x</th>\n",
       "      <th>y</th>\n",
       "    </tr>\n",
       "  </thead>\n",
       "  <tbody>\n",
       "    <tr>\n",
       "      <th>0</th>\n",
       "      <td>Male</td>\n",
       "      <td>73.847017</td>\n",
       "      <td>241.893563</td>\n",
       "    </tr>\n",
       "    <tr>\n",
       "      <th>1</th>\n",
       "      <td>Male</td>\n",
       "      <td>68.781904</td>\n",
       "      <td>162.310473</td>\n",
       "    </tr>\n",
       "    <tr>\n",
       "      <th>2</th>\n",
       "      <td>Male</td>\n",
       "      <td>74.110105</td>\n",
       "      <td>212.740856</td>\n",
       "    </tr>\n",
       "    <tr>\n",
       "      <th>3</th>\n",
       "      <td>Male</td>\n",
       "      <td>71.730978</td>\n",
       "      <td>220.042470</td>\n",
       "    </tr>\n",
       "    <tr>\n",
       "      <th>4</th>\n",
       "      <td>Male</td>\n",
       "      <td>69.881796</td>\n",
       "      <td>206.349801</td>\n",
       "    </tr>\n",
       "    <tr>\n",
       "      <th>...</th>\n",
       "      <td>...</td>\n",
       "      <td>...</td>\n",
       "      <td>...</td>\n",
       "    </tr>\n",
       "    <tr>\n",
       "      <th>95</th>\n",
       "      <td>Male</td>\n",
       "      <td>65.117485</td>\n",
       "      <td>165.717112</td>\n",
       "    </tr>\n",
       "    <tr>\n",
       "      <th>96</th>\n",
       "      <td>Male</td>\n",
       "      <td>71.701234</td>\n",
       "      <td>193.094164</td>\n",
       "    </tr>\n",
       "    <tr>\n",
       "      <th>97</th>\n",
       "      <td>Male</td>\n",
       "      <td>66.832878</td>\n",
       "      <td>180.683887</td>\n",
       "    </tr>\n",
       "    <tr>\n",
       "      <th>98</th>\n",
       "      <td>Male</td>\n",
       "      <td>66.471275</td>\n",
       "      <td>172.773723</td>\n",
       "    </tr>\n",
       "    <tr>\n",
       "      <th>99</th>\n",
       "      <td>Male</td>\n",
       "      <td>69.411526</td>\n",
       "      <td>177.470616</td>\n",
       "    </tr>\n",
       "  </tbody>\n",
       "</table>\n",
       "<p>100 rows × 3 columns</p>\n",
       "</div>"
      ],
      "text/plain": [
       "   Gender          x           y\n",
       "0    Male  73.847017  241.893563\n",
       "1    Male  68.781904  162.310473\n",
       "2    Male  74.110105  212.740856\n",
       "3    Male  71.730978  220.042470\n",
       "4    Male  69.881796  206.349801\n",
       "..    ...        ...         ...\n",
       "95   Male  65.117485  165.717112\n",
       "96   Male  71.701234  193.094164\n",
       "97   Male  66.832878  180.683887\n",
       "98   Male  66.471275  172.773723\n",
       "99   Male  69.411526  177.470616\n",
       "\n",
       "[100 rows x 3 columns]"
      ]
     },
     "execution_count": 11,
     "metadata": {},
     "output_type": "execute_result"
    }
   ],
   "source": [
    "data1.rename(columns={'Height':'x','Weight':'y'})"
   ]
  },
  {
   "cell_type": "code",
   "execution_count": 15,
   "id": "e3e65d6f-7c0c-4434-ad0f-17c77288806a",
   "metadata": {},
   "outputs": [
    {
     "data": {
      "text/plain": [
       "[<matplotlib.lines.Line2D at 0x164e776e1f0>]"
      ]
     },
     "execution_count": 15,
     "metadata": {},
     "output_type": "execute_result"
    },
    {
     "data": {
      "image/png": "[encoded data removed]",
      "text/plain": [
       "<Figure size 640x480 with 1 Axes>"
      ]
     },
     "metadata": {},
     "output_type": "display_data"
    }
   ],
   "source": [
    "plt.plot(x,y,'bo')"
   ]
  },
  {
   "cell_type": "code",
   "execution_count": 16,
   "id": "095c0785-4458-4b97-bfec-4df770fc00d3",
   "metadata": {},
   "outputs": [],
   "source": [
    "model = LinearRegression()"
   ]
  },
  {
   "cell_type": "code",
   "execution_count": 19,
   "id": "e31acae0-e261-4b9d-83cc-510a4b25a38e",
   "metadata": {
    "collapsed": true,
    "jupyter": {
     "outputs_hidden": true
    },
    "tags": []
   },
   "outputs": [
    {
     "name": "stdout",
     "output_type": "stream",
     "text": [
      "[[73.84701702]\n",
      " [68.78190405]\n",
      " [74.11010539]\n",
      " [71.7309784 ]\n",
      " [69.88179586]\n",
      " [67.25301569]\n",
      " [68.78508125]\n",
      " [68.34851551]\n",
      " [67.01894966]\n",
      " [63.45649398]\n",
      " [71.19538228]\n",
      " [71.64080512]\n",
      " [64.76632913]\n",
      " [69.2830701 ]\n",
      " [69.24373223]\n",
      " [67.6456197 ]\n",
      " [72.41831663]\n",
      " [63.97432572]\n",
      " [69.6400599 ]\n",
      " [67.93600485]\n",
      " [67.91505019]\n",
      " [69.43943987]\n",
      " [66.14913196]\n",
      " [75.20597361]\n",
      " [67.89319634]\n",
      " [68.1440328 ]\n",
      " [69.08963143]\n",
      " [72.80084352]\n",
      " [67.42124228]\n",
      " [68.49641536]\n",
      " [68.61811055]\n",
      " [74.03380762]\n",
      " [71.52821604]\n",
      " [69.1801611 ]\n",
      " [69.57720237]\n",
      " [70.40092889]\n",
      " [69.07617117]\n",
      " [67.19352328]\n",
      " [65.80731565]\n",
      " [64.30418789]\n",
      " [67.97433623]\n",
      " [72.18942596]\n",
      " [65.27034552]\n",
      " [66.09017738]\n",
      " [67.51032152]\n",
      " [70.10478626]\n",
      " [68.25183644]\n",
      " [72.17270912]\n",
      " [69.17985762]\n",
      " [72.87036015]\n",
      " [64.78258298]\n",
      " [70.18354989]\n",
      " [68.49145025]\n",
      " [67.33083088]\n",
      " [66.99094408]\n",
      " [66.4995499 ]\n",
      " [68.35305665]\n",
      " [70.77445907]\n",
      " [71.21592367]\n",
      " [70.01336535]\n",
      " [71.40318222]\n",
      " [69.55200509]\n",
      " [73.81853456]\n",
      " [66.99688275]\n",
      " [71.41846589]\n",
      " [65.27930021]\n",
      " [68.27419147]\n",
      " [72.76536995]\n",
      " [68.0993798 ]\n",
      " [68.89670607]\n",
      " [69.28950996]\n",
      " [70.52322452]\n",
      " [69.66372523]\n",
      " [67.59526881]\n",
      " [72.50812038]\n",
      " [71.2529856 ]\n",
      " [71.80918689]\n",
      " [72.24516548]\n",
      " [66.51262766]\n",
      " [66.029034  ]\n",
      " [67.57715394]\n",
      " [68.2465686 ]\n",
      " [73.826127  ]\n",
      " [69.80246436]\n",
      " [65.95957778]\n",
      " [71.07901758]\n",
      " [66.59619654]\n",
      " [68.95153509]\n",
      " [68.24446179]\n",
      " [72.31682512]\n",
      " [71.81542045]\n",
      " [65.23704952]\n",
      " [70.64053009]\n",
      " [64.7319256 ]\n",
      " [67.10355118]\n",
      " [65.11748489]\n",
      " [71.70123402]\n",
      " [66.83287821]\n",
      " [66.47127526]\n",
      " [69.41152622]] 0     241.893563\n",
      "1     162.310473\n",
      "2     212.740856\n",
      "3     220.042470\n",
      "4     206.349801\n",
      "         ...    \n",
      "95    165.717112\n",
      "96    193.094164\n",
      "97    180.683887\n",
      "98    172.773723\n",
      "99    177.470616\n",
      "Name: Weight, Length: 100, dtype: float64\n"
     ]
    }
   ],
   "source": [
    "print(x.values.reshape(-1,1),y)"
   ]
  },
  {
   "cell_type": "code",
   "execution_count": 20,
   "id": "451238f1-d464-49ca-a4a2-0f9063479fa2",
   "metadata": {},
   "outputs": [
    {
     "data": {
      "text/plain": [
       "LinearRegression()"
      ]
     },
     "execution_count": 20,
     "metadata": {},
     "output_type": "execute_result"
    }
   ],
   "source": [
    "model.fit(x.values.reshape(-1,1),y)"
   ]
  },
  {
   "cell_type": "code",
   "execution_count": 23,
   "id": "8b39b461-1c40-4a87-aa07-f2e6ef775ab1",
   "metadata": {},
   "outputs": [
    {
     "data": {
      "text/plain": [
       "array([250.91631239])"
      ]
     },
     "execution_count": 23,
     "metadata": {},
     "output_type": "execute_result"
    }
   ],
   "source": [
    "model.predict([[80]])"
   ]
  },
  {
   "cell_type": "code",
   "execution_count": 24,
   "id": "65318092-adfa-4134-9dce-66e0fb86721b",
   "metadata": {},
   "outputs": [
    {
     "data": {
      "text/plain": [
       "array([5.85146979])"
      ]
     },
     "execution_count": 24,
     "metadata": {},
     "output_type": "execute_result"
    }
   ],
   "source": [
    "model.coef_"
   ]
  },
  {
   "cell_type": "code",
   "execution_count": 25,
   "id": "634dfd83-b9c6-4455-af15-a3e4d3fc1cc2",
   "metadata": {},
   "outputs": [
    {
     "data": {
      "text/plain": [
       "-217.20127044144004"
      ]
     },
     "execution_count": 25,
     "metadata": {},
     "output_type": "execute_result"
    }
   ],
   "source": [
    "model.intercept_"
   ]
  },
  {
   "cell_type": "code",
   "execution_count": 26,
   "id": "eab3ded7-fa48-4658-aab9-66a75318d8c6",
   "metadata": {},
   "outputs": [
    {
     "data": {
      "text/plain": [
       "array([250.91631239])"
      ]
     },
     "execution_count": 26,
     "metadata": {},
     "output_type": "execute_result"
    }
   ],
   "source": [
    "80* model.coef_ + model.intercept_"
   ]
  },
  {
   "cell_type": "code",
   "execution_count": 30,
   "id": "607f49b8-dfcc-4f7f-879d-30350638c325",
   "metadata": {},
   "outputs": [],
   "source": [
    "prediction = model.predict(x.values.reshape(-1,1))"
   ]
  },
  {
   "cell_type": "code",
   "execution_count": 35,
   "id": "5d452ccf-2a77-48ea-b4ee-7a8644774bac",
   "metadata": {},
   "outputs": [
    {
     "data": {
      "image/png": "[encoded data removed]",
      "text/plain": [
       "<Figure size 640x480 with 1 Axes>"
      ]
     },
     "metadata": {},
     "output_type": "display_data"
    }
   ],
   "source": [
    "plt.plot(x,y,'go')\n",
    "plt.plot(x,prediction);"
   ]
  },
  {
   "cell_type": "code",
   "execution_count": null,
   "id": "450d2cd9-30ef-4a11-a8f1-fd17936e35bf",
   "metadata": {},
   "outputs": [],
   "source": []
  }
 ],
 "metadata": {
  "kernelspec": {
   "display_name": "Python 3 (ipykernel)",
   "language": "python",
   "name": "python3"
  },
  "language_info": {
   "codemirror_mode": {
    "name": "ipython",
    "version": 3
   },
   "file_extension": ".py",
   "mimetype": "text/x-python",
   "name": "python",
   "nbconvert_exporter": "python",
   "pygments_lexer": "ipython3",
   "version": "3.9.13"
  }
 },
 "nbformat": 4,
 "nbformat_minor": 5
}
