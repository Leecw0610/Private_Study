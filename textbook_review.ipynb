{
 "cells": [
  {
   "cell_type": "markdown",
   "id": "d17a1ba2-e78b-4958-a083-dcbe100617fc",
   "metadata": {},
   "source": [
    "# 교재 (쉽게 배우는 파이썬 데이터분석) 복습"
   ]
  },
  {
   "cell_type": "markdown",
   "id": "86b6d7ea-c435-4c82-9098-f095c39b2baf",
   "metadata": {
    "tags": []
   },
   "source": [
    "## 1> 교재복습 (p.1~)"
   ]
  },
  {
   "cell_type": "code",
   "execution_count": null,
   "id": "fc0a7235-8b0c-41cb-887f-d3bfcc319771",
   "metadata": {},
   "outputs": [],
   "source": [
    "1+1"
   ]
  },
  {
   "cell_type": "code",
   "execution_count": null,
   "id": "c1ddde7b-11c5-45cb-993d-985f9eec69fa",
   "metadata": {},
   "outputs": [],
   "source": [
    "2*3"
   ]
  },
  {
   "cell_type": "code",
   "execution_count": null,
   "id": "163e3f93-4e5a-410d-ac53-7c898a0755fe",
   "metadata": {},
   "outputs": [],
   "source": [
    "a = 1\n",
    "b = 2\n",
    "a+b"
   ]
  },
  {
   "cell_type": "code",
   "execution_count": null,
   "id": "0b4ea9fa-7e06-480c-a716-84ddcccddad7",
   "metadata": {},
   "outputs": [],
   "source": [
    "1+1\n",
    "2+2\n",
    "\n",
    "print(1+1)\n",
    "print(2+2)"
   ]
  },
  {
   "cell_type": "markdown",
   "id": "9d195eef-4e62-4089-8499-ed85a0c1ab33",
   "metadata": {
    "jp-MarkdownHeadingCollapsed": true,
    "tags": []
   },
   "source": [
    "### 3. 데이터 분석에 필요한 연장 챙기기"
   ]
  },
  {
   "cell_type": "markdown",
   "id": "0a8fbcf8-78f1-4da7-ac2c-3367b05e7e73",
   "metadata": {
    "jp-MarkdownHeadingCollapsed": true,
    "tags": []
   },
   "source": [
    "#### 1)변수 이해하기"
   ]
  },
  {
   "cell_type": "code",
   "execution_count": null,
   "id": "2f63aa42-e681-426c-9c52-10e51dc4c262",
   "metadata": {},
   "outputs": [],
   "source": [
    "a = 1"
   ]
  },
  {
   "cell_type": "code",
   "execution_count": null,
   "id": "9ff1ebda-52c0-4170-98e3-169190a70a3b",
   "metadata": {},
   "outputs": [],
   "source": [
    "a"
   ]
  },
  {
   "cell_type": "code",
   "execution_count": null,
   "id": "6aa7e939-1a31-4218-8875-9c08e9db5b2a",
   "metadata": {},
   "outputs": [],
   "source": [
    "b= 2\n",
    "b"
   ]
  },
  {
   "cell_type": "code",
   "execution_count": null,
   "id": "bb611f70-7464-4913-ad19-360bf35d4f77",
   "metadata": {},
   "outputs": [],
   "source": [
    "c=3\n",
    "c"
   ]
  },
  {
   "cell_type": "code",
   "execution_count": null,
   "id": "5405a84a-28a8-418f-8fbe-85246813ec70",
   "metadata": {},
   "outputs": [],
   "source": [
    "d= 3.5\n",
    "d"
   ]
  },
  {
   "cell_type": "code",
   "execution_count": null,
   "id": "25730edd-ce71-4273-9e5b-d42ff65538fe",
   "metadata": {},
   "outputs": [],
   "source": [
    "a+b"
   ]
  },
  {
   "cell_type": "code",
   "execution_count": null,
   "id": "9b54d74b-7c0e-408c-bfc9-da11aec920c9",
   "metadata": {},
   "outputs": [],
   "source": [
    "a+b+c"
   ]
  },
  {
   "cell_type": "code",
   "execution_count": null,
   "id": "d3802f14-d6f2-434f-adb5-c0c015f12ab6",
   "metadata": {},
   "outputs": [],
   "source": [
    "4 / b"
   ]
  },
  {
   "cell_type": "code",
   "execution_count": null,
   "id": "da477616-4438-42ba-b730-46d4a2dd031b",
   "metadata": {},
   "outputs": [],
   "source": [
    "5*b"
   ]
  },
  {
   "cell_type": "markdown",
   "id": "66c16f81-10a7-41af-b5a5-102b7d114124",
   "metadata": {},
   "source": [
    "##### * 변수명 정하기\n",
    "- 반드시 문자로 시작해야한다!!(숫자시작X)\n",
    "- 한글은 오류가 날 수 있어서, 영문으로 정하기\n",
    "- 대소문자를 구분하므로 변수를 소문자로 만드는 습관"
   ]
  },
  {
   "cell_type": "code",
   "execution_count": null,
   "id": "8688dcd9-f845-474b-924b-26ea84306c80",
   "metadata": {},
   "outputs": [],
   "source": [
    "var1 = [1,2,3]\n",
    "var1"
   ]
  },
  {
   "cell_type": "code",
   "execution_count": null,
   "id": "a6481c45-807c-43a3-84c0-01dedb070d92",
   "metadata": {},
   "outputs": [],
   "source": [
    "type(var1)"
   ]
  },
  {
   "cell_type": "code",
   "execution_count": null,
   "id": "7c5ad2ae-feb9-48ca-adaf-f2751923e198",
   "metadata": {},
   "outputs": [],
   "source": [
    "var2 = [4,5,6]\n",
    "var2"
   ]
  },
  {
   "cell_type": "code",
   "execution_count": null,
   "id": "6d0be020-1c06-4e60-b084-ed102f8b6d42",
   "metadata": {},
   "outputs": [],
   "source": [
    "var1 + var2"
   ]
  },
  {
   "cell_type": "code",
   "execution_count": null,
   "id": "1ad8ca7d-ac96-4276-8604-cc4a03688369",
   "metadata": {},
   "outputs": [],
   "source": [
    "str1 = 'a'\n",
    "str1"
   ]
  },
  {
   "cell_type": "code",
   "execution_count": null,
   "id": "c2acd88c-7bff-44c8-bd5d-55246aa39171",
   "metadata": {},
   "outputs": [],
   "source": [
    "str2 = 'text'\n",
    "str2"
   ]
  },
  {
   "cell_type": "code",
   "execution_count": null,
   "id": "6702e0ba-bb5a-4ddb-90d4-77a25c3fcb9e",
   "metadata": {},
   "outputs": [],
   "source": [
    "str3 = 'Hello World!'\n",
    "str3"
   ]
  },
  {
   "cell_type": "code",
   "execution_count": null,
   "id": "01eefd6c-6566-4c90-b715-455157f634c8",
   "metadata": {},
   "outputs": [],
   "source": [
    "str4 = ['a','b','c']\n",
    "str4"
   ]
  },
  {
   "cell_type": "code",
   "execution_count": null,
   "id": "cca41f4f-a899-478a-b96d-c5d0b15b2da6",
   "metadata": {},
   "outputs": [],
   "source": [
    "str5 = ['Hello!', 'World', 'is', 'good!']\n",
    "str5"
   ]
  },
  {
   "cell_type": "code",
   "execution_count": null,
   "id": "534be2f0-64a5-4847-ace9-4ec574849ddc",
   "metadata": {},
   "outputs": [],
   "source": [
    "str2 + str3"
   ]
  },
  {
   "cell_type": "code",
   "execution_count": null,
   "id": "6a77d876-ef1a-40da-bb14-b527335ce5d2",
   "metadata": {},
   "outputs": [],
   "source": [
    "str2 + ' ' + str3"
   ]
  },
  {
   "cell_type": "code",
   "execution_count": null,
   "id": "a0ad3eac-c78e-4fad-acde-282eeb10d30a",
   "metadata": {
    "tags": []
   },
   "outputs": [],
   "source": [
    "#str1 + 2 문자열과 숫자의 연산은 Error!"
   ]
  },
  {
   "cell_type": "markdown",
   "id": "f927e977-918e-4331-9507-200fe5044dbe",
   "metadata": {
    "jp-MarkdownHeadingCollapsed": true,
    "tags": []
   },
   "source": [
    "#### 2)함수이해하기"
   ]
  },
  {
   "cell_type": "code",
   "execution_count": null,
   "id": "4484b86a-a398-421c-bca2-60c302fa3d39",
   "metadata": {},
   "outputs": [],
   "source": [
    "x = [1,2,3]\n",
    "x"
   ]
  },
  {
   "cell_type": "code",
   "execution_count": null,
   "id": "14535148-3697-4abe-a72a-f9d1a5d29c80",
   "metadata": {},
   "outputs": [],
   "source": [
    "sum(x)"
   ]
  },
  {
   "cell_type": "code",
   "execution_count": null,
   "id": "ec16e9ea-af2e-4541-9ef1-ecb67fd50d72",
   "metadata": {},
   "outputs": [],
   "source": [
    "max(x)"
   ]
  },
  {
   "cell_type": "code",
   "execution_count": null,
   "id": "f8437422-1b18-4ef8-b59b-fcc3629857a7",
   "metadata": {},
   "outputs": [],
   "source": [
    "min(x)"
   ]
  },
  {
   "cell_type": "code",
   "execution_count": null,
   "id": "f12f8e8c-14a7-43e1-aebb-ade5a7e4cbf4",
   "metadata": {},
   "outputs": [],
   "source": [
    "x_sum = sum(x)\n",
    "x_sum"
   ]
  },
  {
   "cell_type": "code",
   "execution_count": null,
   "id": "5b4f1d8a-950a-4114-9a89-de12a250e712",
   "metadata": {},
   "outputs": [],
   "source": [
    "x_max= max(x)\n",
    "x_max"
   ]
  },
  {
   "cell_type": "markdown",
   "id": "1a701860-f1d4-4fc9-b6ee-a82c5d381e53",
   "metadata": {
    "tags": []
   },
   "source": [
    "#### 3)패키지 이해하기"
   ]
  },
  {
   "cell_type": "markdown",
   "id": "c8b35895-da39-4842-9f85-8c2fe0eaee4c",
   "metadata": {},
   "source": [
    "##### * 패키지 활용하기\n",
    "|- 패키지를 설치하고 사용하는 방법"
   ]
  },
  {
   "cell_type": "code",
   "execution_count": null,
   "id": "d2230105-2422-40a0-b84a-6ec0121c445d",
   "metadata": {},
   "outputs": [],
   "source": [
    "import seaborn"
   ]
  },
  {
   "cell_type": "code",
   "execution_count": null,
   "id": "ca72c6a1-9631-47b0-8ae1-39d1d6dfd1a4",
   "metadata": {},
   "outputs": [],
   "source": [
    "var = ['a', 'b','c','d','a']\n",
    "var"
   ]
  },
  {
   "cell_type": "code",
   "execution_count": null,
   "id": "543ac273-31fe-487d-82a4-79406ce00515",
   "metadata": {
    "tags": []
   },
   "outputs": [],
   "source": [
    "seaborn.countplot(x=var)"
   ]
  },
  {
   "cell_type": "markdown",
   "id": "f30d3781-aa2a-4be7-b15c-a40bd76ea6e9",
   "metadata": {},
   "source": [
    "- 패키지함수 vs 내장함수"
   ]
  },
  {
   "cell_type": "markdown",
   "id": "87b5851e-7e2a-4809-afcb-c162553c0e20",
   "metadata": {},
   "source": [
    "- 패키지약어 활용하기"
   ]
  },
  {
   "cell_type": "code",
   "execution_count": null,
   "id": "1187dd1d-d17a-44eb-b808-a7580b85ec55",
   "metadata": {},
   "outputs": [],
   "source": [
    "import seaborn as sns"
   ]
  },
  {
   "cell_type": "code",
   "execution_count": null,
   "id": "851a9e9d-4702-428c-ac54-4b034df7e621",
   "metadata": {
    "tags": []
   },
   "outputs": [],
   "source": [
    "sns.countplot(x=var)"
   ]
  },
  {
   "cell_type": "markdown",
   "id": "0db4fc76-8aef-46cf-8630-e96eedb47f2f",
   "metadata": {
    "tags": []
   },
   "source": [
    "- seaborn의 titanic 데이터로 그래프 만들기"
   ]
  },
  {
   "cell_type": "code",
   "execution_count": null,
   "id": "a6253728-538b-4270-ab1d-1866f6caed15",
   "metadata": {},
   "outputs": [],
   "source": [
    "df =sns.load_dataset('titanic')"
   ]
  },
  {
   "cell_type": "code",
   "execution_count": null,
   "id": "d58967fc-a3b9-4ffa-9a4e-a722bc83df98",
   "metadata": {
    "tags": []
   },
   "outputs": [],
   "source": [
    "df"
   ]
  },
  {
   "cell_type": "code",
   "execution_count": null,
   "id": "d6d00a57-3bd8-43e1-9734-6dfc1dbd6a64",
   "metadata": {},
   "outputs": [],
   "source": [
    "# '성별 빈도 막대 그래프'"
   ]
  },
  {
   "cell_type": "code",
   "execution_count": null,
   "id": "0f52918d-8c02-4021-811b-73d2fa95821a",
   "metadata": {
    "tags": []
   },
   "outputs": [],
   "source": [
    "sns.countplot(data = df, x = 'sex')"
   ]
  },
  {
   "cell_type": "code",
   "execution_count": null,
   "id": "1f0c2754-f8f9-474c-b7bc-d6e933299651",
   "metadata": {
    "tags": []
   },
   "outputs": [],
   "source": [
    "sns.countplot(data=df, x ='class')"
   ]
  },
  {
   "cell_type": "code",
   "execution_count": null,
   "id": "c8348b31-f945-43a8-a187-92c31711353d",
   "metadata": {
    "tags": []
   },
   "outputs": [],
   "source": [
    "sns.countplot(data=df, x ='class', hue ='alive', hue_order=['yes','no'])"
   ]
  },
  {
   "cell_type": "code",
   "execution_count": null,
   "id": "d5415bc8-22fd-4883-b1cd-657f7c5879fd",
   "metadata": {
    "tags": []
   },
   "outputs": [],
   "source": [
    "sns.countplot(data=df, y='class', hue ='alive',  hue_order=['yes','no'])"
   ]
  },
  {
   "cell_type": "code",
   "execution_count": null,
   "id": "bda73a03-4f94-41ec-8005-bd390c3b6d7b",
   "metadata": {
    "tags": []
   },
   "outputs": [],
   "source": [
    "sns.countplot?"
   ]
  },
  {
   "cell_type": "markdown",
   "id": "9d104a85-d8aa-487e-8d17-d513cdbfa36c",
   "metadata": {},
   "source": [
    "- 모듈 알아보기"
   ]
  },
  {
   "cell_type": "code",
   "execution_count": null,
   "id": "0345a79f-5472-4f74-abb0-4a2e009ae537",
   "metadata": {},
   "outputs": [],
   "source": [
    "import sklearn.metrics #sklearn패키지의 metrics 모듈 로드하기"
   ]
  },
  {
   "cell_type": "raw",
   "id": "43c68035-f9ea-4910-abc4-46101915b81c",
   "metadata": {},
   "source": [
    " sklearn.metrics.accuracy_score()\n",
    "#패키지명.모듈명.함수명()"
   ]
  },
  {
   "cell_type": "markdown",
   "id": "2161eb13-a4f0-45a0-aced-0cd528e30514",
   "metadata": {},
   "source": [
    "1. 모듈을 로드 후 함수사용하기"
   ]
  },
  {
   "cell_type": "raw",
   "id": "a6af4f14-bc4b-43a3-a366-6391c6362937",
   "metadata": {},
   "source": [
    "from sklearn import metrics\n",
    "     패키지명        모듈명\n",
    "metrics.accuracy_score()\n",
    "모듈명.함수명()"
   ]
  },
  {
   "cell_type": "markdown",
   "id": "12808651-289c-4713-a84b-f730164f3eb7",
   "metadata": {},
   "source": [
    "2. 함수명()으로 함수 사용하기"
   ]
  },
  {
   "cell_type": "raw",
   "id": "21f5c456-d975-4faa-a75f-97d5b8590ce8",
   "metadata": {},
   "source": [
    "from sklearn.metrics import accuracy_score\n",
    "from 패키지명.모듈명  import 함수명\n",
    "accuracy_score()\n",
    "함수명()"
   ]
  },
  {
   "cell_type": "markdown",
   "id": "0f664824-75b1-47a6-845d-a92276de85f2",
   "metadata": {},
   "source": [
    "- 패키지 설치하기"
   ]
  },
  {
   "cell_type": "raw",
   "id": "6bc8e103-8516-418a-a701-996c25752aea",
   "metadata": {},
   "source": [
    "pip install 패키지명"
   ]
  },
  {
   "cell_type": "code",
   "execution_count": null,
   "id": "c82340a3-9f27-4e5d-85e6-a7102c1b77e6",
   "metadata": {},
   "outputs": [],
   "source": [
    "pip install pydataset"
   ]
  },
  {
   "cell_type": "code",
   "execution_count": null,
   "id": "b241752f-9c2a-44be-8ad9-7490f4d65ddb",
   "metadata": {},
   "outputs": [],
   "source": [
    "import pydataset"
   ]
  },
  {
   "cell_type": "code",
   "execution_count": null,
   "id": "e1782e78-3f74-46ae-b7da-216a26f0f98c",
   "metadata": {},
   "outputs": [],
   "source": [
    "pydataset.data()"
   ]
  },
  {
   "cell_type": "code",
   "execution_count": null,
   "id": "3df24422-8e5f-4246-9dd5-907acbf31e11",
   "metadata": {},
   "outputs": [],
   "source": [
    "df =pydataset.data('mtcars')"
   ]
  },
  {
   "cell_type": "code",
   "execution_count": null,
   "id": "52154f24-c5a8-428d-8812-7fd4b6bcedcc",
   "metadata": {},
   "outputs": [],
   "source": [
    "df"
   ]
  },
  {
   "cell_type": "markdown",
   "id": "b89cf83e-a996-4a37-bec8-686ec431f273",
   "metadata": {},
   "source": [
    "* page73 혼자서해보기"
   ]
  },
  {
   "cell_type": "code",
   "execution_count": null,
   "id": "aedf887e-ce2e-4bb2-9891-93f9c3ea8729",
   "metadata": {},
   "outputs": [],
   "source": [
    "#Q1.\n",
    "score = [80,60,70,50,90]"
   ]
  },
  {
   "cell_type": "code",
   "execution_count": null,
   "id": "f1a6a768-48f4-41a8-af66-a7ec97c889a0",
   "metadata": {},
   "outputs": [],
   "source": [
    "score"
   ]
  },
  {
   "cell_type": "code",
   "execution_count": null,
   "id": "af0d12c9-6272-4225-b6ca-b8803fbebb8e",
   "metadata": {},
   "outputs": [],
   "source": [
    "sum(score)"
   ]
  },
  {
   "cell_type": "code",
   "execution_count": null,
   "id": "0839ed71-eb8f-43a6-8de0-7c7081b84dad",
   "metadata": {},
   "outputs": [],
   "source": [
    "sum_score = sum(score)"
   ]
  },
  {
   "cell_type": "code",
   "execution_count": null,
   "id": "ba16ed24-cd79-4f31-9523-f464935be5a5",
   "metadata": {},
   "outputs": [],
   "source": [
    "sum_score"
   ]
  },
  {
   "cell_type": "markdown",
   "id": "bef6cbb5-3c9e-424a-a74a-f52011c8824d",
   "metadata": {
    "tags": []
   },
   "source": [
    "### 4.데이터 프레임의 세계로!"
   ]
  },
  {
   "cell_type": "markdown",
   "id": "82398a63-1d37-4ee6-a9e8-e46d5c7cc1d2",
   "metadata": {
    "jp-MarkdownHeadingCollapsed": true,
    "tags": []
   },
   "source": [
    "#### 1)데이터 프레임 이해하기"
   ]
  },
  {
   "cell_type": "markdown",
   "id": "508df8bd-649d-4c06-81f2-23b5420e09f9",
   "metadata": {
    "tags": []
   },
   "source": [
    "##### * 행(row)과 열(column)의 이해"
   ]
  },
  {
   "cell_type": "raw",
   "id": "0464da7e-644b-42f9-a4b6-c493f6bba275",
   "metadata": {},
   "source": [
    "'열(column)'은 속성이다. 또는 변수라고 불림.\n",
    "데이터에 몇개의 열이 있나? == 데이터가 몇개의 속성을 갖고 있나?"
   ]
  },
  {
   "cell_type": "raw",
   "id": "5dc40613-42f7-4cc1-bf08-761f72d3ce60",
   "metadata": {},
   "source": [
    "'행(row)'은 한 사람의 정보이다. 또는 케이스(case)라고 불림.\n",
    "데이터에 몇명의 정보가 담겨있나? == 케이스가 몇개짜리 데이터인가?"
   ]
  },
  {
   "cell_type": "raw",
   "id": "caae1975-32d4-4a41-ae7e-1251add3f58c",
   "metadata": {},
   "source": [
    "- 한사람의 정보는 가로 한줄에 나열된다.\n",
    "- 하나의 단위가 하나의 행이 된다.\n",
    "- 데이터가 크다 = 행이 많다 또는 열이 많다"
   ]
  },
  {
   "cell_type": "markdown",
   "id": "d6c8ae66-515a-4fe2-9b36-a8ed2fafc034",
   "metadata": {
    "jp-MarkdownHeadingCollapsed": true,
    "tags": []
   },
   "source": [
    "#### 2)데이터 프레임 만들기 (직접)"
   ]
  },
  {
   "cell_type": "raw",
   "id": "5cc4c933-1bb5-429a-bea1-b5c33659f4e0",
   "metadata": {},
   "source": [
    "만들 때 key 와 value 사이에 세미콜론(:)이 들어간다는 것과 value값을 []리스트로 표기하는 것 유의!!\n",
    "데이터 프레임 전체는 {} 딕셔너리로 표기!"
   ]
  },
  {
   "cell_type": "code",
   "execution_count": null,
   "id": "87770c7d-853b-4880-b15f-69cf3b3e9164",
   "metadata": {},
   "outputs": [],
   "source": [
    "import pandas as pd"
   ]
  },
  {
   "cell_type": "code",
   "execution_count": null,
   "id": "da69fa12-e5b3-4833-8a2b-436559a8ae71",
   "metadata": {},
   "outputs": [],
   "source": [
    "df = pd.DataFrame({'name':['김지훈','이유진','박동현','김민지'],\n",
    "                  'english':[90,80,60,70],\n",
    "                  'math':[50,60,100,20]})"
   ]
  },
  {
   "cell_type": "code",
   "execution_count": null,
   "id": "1ce9c6fc-4cee-42d0-9167-253e449616b6",
   "metadata": {},
   "outputs": [],
   "source": [
    "df"
   ]
  },
  {
   "cell_type": "code",
   "execution_count": null,
   "id": "9e67b1cb-de39-46b2-bd75-aeed3c567bf0",
   "metadata": {},
   "outputs": [],
   "source": [
    "df['english']"
   ]
  },
  {
   "cell_type": "code",
   "execution_count": null,
   "id": "49c9d9bf-e0bf-419e-bd9d-7286b8425215",
   "metadata": {},
   "outputs": [],
   "source": [
    "sum(df['english'])"
   ]
  },
  {
   "cell_type": "code",
   "execution_count": null,
   "id": "56fbb9d7-76d9-417b-a94c-27081e22d47d",
   "metadata": {},
   "outputs": [],
   "source": [
    "sum(df['math'])"
   ]
  },
  {
   "cell_type": "code",
   "execution_count": null,
   "id": "5a34cc18-c89c-4ce4-b834-7c4bbf9a16d0",
   "metadata": {},
   "outputs": [],
   "source": [
    "sum(df['english']) / len(df['english'])"
   ]
  },
  {
   "cell_type": "code",
   "execution_count": null,
   "id": "846cfa29-baee-48c6-b21b-65772fa19429",
   "metadata": {},
   "outputs": [],
   "source": [
    "sum(df['math']) / len(df['math'])"
   ]
  },
  {
   "cell_type": "markdown",
   "id": "d68c22c8-652a-41e6-95d6-34955c6a6a41",
   "metadata": {},
   "source": [
    "* page84 혼자서해보기"
   ]
  },
  {
   "cell_type": "code",
   "execution_count": null,
   "id": "faace9ce-8fc3-4846-838d-e70d9514154c",
   "metadata": {},
   "outputs": [],
   "source": [
    "import pandas as pd"
   ]
  },
  {
   "cell_type": "code",
   "execution_count": null,
   "id": "98747db1-dedc-4aa7-86cc-ca23da300d3d",
   "metadata": {},
   "outputs": [],
   "source": [
    "df= pd.DataFrame({'제품' : ['사과','딸기','수박'],\n",
    "                  '가격':[1800, 1500, 3000],\n",
    "                 '판매량':[24,38,13]})"
   ]
  },
  {
   "cell_type": "code",
   "execution_count": null,
   "id": "f61a0c6c-0061-4087-bb02-897d9dd286b8",
   "metadata": {},
   "outputs": [],
   "source": [
    "df"
   ]
  },
  {
   "cell_type": "code",
   "execution_count": null,
   "id": "5cf17d40-171f-43ad-af42-61ad24a7373d",
   "metadata": {},
   "outputs": [],
   "source": [
    "sum(df['가격']) / len(df['가격'])"
   ]
  },
  {
   "cell_type": "code",
   "execution_count": null,
   "id": "587bffeb-1417-4ac6-8c86-520ff24449e4",
   "metadata": {},
   "outputs": [],
   "source": [
    "(df['판매량'])"
   ]
  },
  {
   "cell_type": "code",
   "execution_count": null,
   "id": "012623c4-e007-4056-bb6c-a4e156eaee03",
   "metadata": {},
   "outputs": [],
   "source": [
    "sum(df['판매량']) / len((df['판매량']))"
   ]
  },
  {
   "cell_type": "markdown",
   "id": "ea8705a4-feeb-4695-bc97-55aae82df680",
   "metadata": {
    "tags": []
   },
   "source": [
    "#### 3)외부 데이터 이용하기"
   ]
  },
  {
   "cell_type": "markdown",
   "id": "03af1074-952b-417f-a6be-74f5ec975570",
   "metadata": {},
   "source": [
    "##### *엑셀 파일 불러오기"
   ]
  },
  {
   "cell_type": "code",
   "execution_count": null,
   "id": "9f241cbf-7dbd-4817-9b0b-843156e2c977",
   "metadata": {},
   "outputs": [],
   "source": [
    "df_exam = pd.read_excel('../excel_exam.xlsx')"
   ]
  },
  {
   "cell_type": "code",
   "execution_count": null,
   "id": "e7610fe5-b0c7-49f0-be78-55bcd605d5a2",
   "metadata": {
    "tags": []
   },
   "outputs": [],
   "source": [
    "df_exam"
   ]
  },
  {
   "cell_type": "code",
   "execution_count": null,
   "id": "da2a9c8f-c5f0-4b3f-b74a-1382867e1a27",
   "metadata": {},
   "outputs": [],
   "source": [
    "sum(df_exam['math']) /len(df_exam['math'])"
   ]
  },
  {
   "cell_type": "code",
   "execution_count": null,
   "id": "3b0bc618-baf6-4c1f-a6df-36f14f6a788e",
   "metadata": {},
   "outputs": [],
   "source": [
    "sum(df_exam['english']) /len(df_exam['english'])"
   ]
  },
  {
   "cell_type": "code",
   "execution_count": null,
   "id": "2a0a6b12-a65c-45d9-a75d-f89625569af3",
   "metadata": {},
   "outputs": [],
   "source": [
    "sum(df_exam['science']) /len(df_exam['science'])"
   ]
  },
  {
   "cell_type": "markdown",
   "id": "e011d469-4e5f-4b1b-b4af-fc9c5be8ecc3",
   "metadata": {},
   "source": [
    "##### *CSV 파일 불러오기"
   ]
  },
  {
   "cell_type": "code",
   "execution_count": null,
   "id": "37610459-13ed-4699-a98a-b8a34cf17b72",
   "metadata": {},
   "outputs": [],
   "source": [
    "df_csv_exam = pd.read_csv('C:\\Python\\Doit_Python-main\\Data\\exam.csv')"
   ]
  },
  {
   "cell_type": "code",
   "execution_count": null,
   "id": "03144954-998f-4640-beb6-56da1b9cf14b",
   "metadata": {},
   "outputs": [],
   "source": [
    "df_csv_exam"
   ]
  },
  {
   "cell_type": "markdown",
   "id": "5c11b5e3-0340-431a-b7e1-a5a676799de4",
   "metadata": {},
   "source": [
    "##### *데이터프레임을 CSV파일로 저장하기"
   ]
  },
  {
   "cell_type": "code",
   "execution_count": null,
   "id": "7a9e8343-fd4f-4d6d-9669-44ff290c4c14",
   "metadata": {},
   "outputs": [],
   "source": [
    "df_midterm = pd.DataFrame({'english':[90,80,60,70],\n",
    "                         'math':[50,60,100,20],\n",
    "                           'nclass':[1,1,2,2]})"
   ]
  },
  {
   "cell_type": "code",
   "execution_count": null,
   "id": "c7dd3734-490f-4ff3-80d2-bc6f5dfb0a01",
   "metadata": {},
   "outputs": [],
   "source": [
    "df_midterm"
   ]
  },
  {
   "cell_type": "code",
   "execution_count": null,
   "id": "7998e0b7-7c5d-41a8-9dda-fdee437adb00",
   "metadata": {
    "tags": []
   },
   "outputs": [],
   "source": [
    "df_midterm.to_csv(\"output_newdata1.csv\", index=False)"
   ]
  },
  {
   "cell_type": "markdown",
   "id": "ac2be132-09fe-4cbd-b774-fa57ac9b99e8",
   "metadata": {},
   "source": [
    "### 5.데이터 분석 기초!"
   ]
  },
  {
   "cell_type": "markdown",
   "id": "c6af7da8-e139-4c65-bc18-f938942d9e19",
   "metadata": {},
   "source": [
    "#### 1)데이터 파악하기"
   ]
  },
  {
   "cell_type": "code",
   "execution_count": null,
   "id": "c4ce8cc4-bbb7-463d-bc78-629a5af8af94",
   "metadata": {
    "tags": []
   },
   "outputs": [],
   "source": [
    "pip list"
   ]
  },
  {
   "cell_type": "raw",
   "id": "eaa5fa56-c3d3-405c-bf92-11aa45fae588",
   "metadata": {},
   "source": [
    "head(), tail(), shape, info(), describe()"
   ]
  },
  {
   "cell_type": "code",
   "execution_count": null,
   "id": "d8d4975c-3874-4892-87c6-27565908d069",
   "metadata": {},
   "outputs": [],
   "source": [
    "import pandas as pd"
   ]
  },
  {
   "cell_type": "code",
   "execution_count": null,
   "id": "8d3dc64a-1906-4748-851c-4e51ccd77e0d",
   "metadata": {},
   "outputs": [],
   "source": [
    "exam = pd.read_csv('exam.csv')"
   ]
  },
  {
   "cell_type": "code",
   "execution_count": null,
   "id": "eba31f3c-65d5-4357-8543-dd8f3df54d27",
   "metadata": {},
   "outputs": [],
   "source": [
    "exam.head() "
   ]
  },
  {
   "cell_type": "code",
   "execution_count": null,
   "id": "8e414bbc-3fd5-4e1b-83bb-91a0b6520bca",
   "metadata": {},
   "outputs": [],
   "source": [
    "exam.head(10)"
   ]
  },
  {
   "cell_type": "code",
   "execution_count": null,
   "id": "d024c6d5-4063-4eaf-a406-039786a1982b",
   "metadata": {},
   "outputs": [],
   "source": [
    "exam.tail()"
   ]
  },
  {
   "cell_type": "code",
   "execution_count": null,
   "id": "d48f8cec-8e91-4a78-a128-3aaf17462161",
   "metadata": {},
   "outputs": [],
   "source": [
    "exam.tail(3)"
   ]
  },
  {
   "cell_type": "code",
   "execution_count": null,
   "id": "1fd1be8f-c8cc-4466-a1e4-a3efa6385d7d",
   "metadata": {},
   "outputs": [],
   "source": [
    "exam.shape #앞에 힝, 뒤가 열\n",
    "# 20명에 대한 5개 변수의 데이터 프레임이라는 것을 확인."
   ]
  },
  {
   "cell_type": "code",
   "execution_count": null,
   "id": "2dd46fe9-34ca-4734-b9fc-239ca008034d",
   "metadata": {},
   "outputs": [],
   "source": [
    "exam.info()"
   ]
  },
  {
   "cell_type": "code",
   "execution_count": null,
   "id": "5c09351f-b230-4dea-8f80-bb7e98b44afe",
   "metadata": {},
   "outputs": [],
   "source": [
    "exam.describe()"
   ]
  },
  {
   "cell_type": "raw",
   "id": "19adec26-9cb0-4d00-a664-50c14eef8eff",
   "metadata": {},
   "source": [
    "p.105 Do it! 실습 mpg 데이터 파악하기"
   ]
  },
  {
   "cell_type": "code",
   "execution_count": null,
   "id": "bfb9c82d-7228-40de-9d85-cb65f8560f6c",
   "metadata": {},
   "outputs": [],
   "source": [
    "mpg = pd.read_csv('Data/mpg.csv')"
   ]
  },
  {
   "cell_type": "code",
   "execution_count": null,
   "id": "28c9972a-c340-45bf-9716-aad367d96813",
   "metadata": {},
   "outputs": [],
   "source": [
    "mpg.head()"
   ]
  },
  {
   "cell_type": "code",
   "execution_count": null,
   "id": "75937ca7-f337-45ff-8bb5-6f56d4f21bbc",
   "metadata": {},
   "outputs": [],
   "source": [
    "mpg.tail()"
   ]
  },
  {
   "cell_type": "code",
   "execution_count": null,
   "id": "c765f5bc-9d56-4edc-9cfe-60c60cbf5ffb",
   "metadata": {},
   "outputs": [],
   "source": [
    "mpg.shape"
   ]
  },
  {
   "cell_type": "code",
   "execution_count": null,
   "id": "199eaee8-2b36-4584-871b-d91813aa827d",
   "metadata": {},
   "outputs": [],
   "source": [
    "mpg.info() #info에서 각 변수의 의미파악은 매우 중요함.\n",
    "# 교재 107 참조"
   ]
  },
  {
   "cell_type": "code",
   "execution_count": null,
   "id": "855b0134-2150-402f-af89-2827e3ac5249",
   "metadata": {},
   "outputs": [],
   "source": [
    "mpg.describe()"
   ]
  },
  {
   "cell_type": "markdown",
   "id": "b48dc024-3880-47fb-af87-373b25233c7b",
   "metadata": {},
   "source": [
    "#### 2)변수명 바꾸기"
   ]
  },
  {
   "cell_type": "code",
   "execution_count": null,
   "id": "0600bad4-38d9-4ec8-80fe-ea2581e01d88",
   "metadata": {},
   "outputs": [],
   "source": [
    "df_raw = pd.DataFrame({'var1':[1,2,1], 'var2':[2,3,2]})"
   ]
  },
  {
   "cell_type": "code",
   "execution_count": null,
   "id": "b72cc4c3-6f6d-49b5-ab47-d7a9d66a6534",
   "metadata": {},
   "outputs": [],
   "source": [
    "df_raw"
   ]
  },
  {
   "cell_type": "code",
   "execution_count": null,
   "id": "2cee4506-0abb-4483-9ec0-d2e80dd536bd",
   "metadata": {},
   "outputs": [],
   "source": [
    "df_new = df_raw.copy()"
   ]
  },
  {
   "cell_type": "code",
   "execution_count": null,
   "id": "8cbec88a-e878-4546-9fe5-2fdbcddcde92",
   "metadata": {},
   "outputs": [],
   "source": [
    "df_new"
   ]
  },
  {
   "cell_type": "code",
   "execution_count": null,
   "id": "ca368f59-bbe9-44f2-8ae9-dbbda189c512",
   "metadata": {},
   "outputs": [],
   "source": [
    "df_new =df_new.rename(columns = {'var2': 'v2'})"
   ]
  },
  {
   "cell_type": "code",
   "execution_count": null,
   "id": "30a17c6f-46bf-4e57-a576-68bca2e7ab3e",
   "metadata": {},
   "outputs": [],
   "source": [
    "df_new"
   ]
  },
  {
   "cell_type": "raw",
   "id": "65f2834f-8f00-4e3e-8054-59d5a017cfb6",
   "metadata": {},
   "source": [
    "p.115 혼자서 해보기"
   ]
  },
  {
   "cell_type": "code",
   "execution_count": null,
   "id": "5e0042b9-5550-41c0-924c-01763a452775",
   "metadata": {},
   "outputs": [],
   "source": [
    "mpg"
   ]
  },
  {
   "cell_type": "code",
   "execution_count": null,
   "id": "a0c3e3fd-e9d6-4850-87af-7112ea00d6d4",
   "metadata": {},
   "outputs": [],
   "source": [
    "mpg1 = mpg.copy()"
   ]
  },
  {
   "cell_type": "code",
   "execution_count": null,
   "id": "85237119-37cc-483e-a2cb-897e8e1a0250",
   "metadata": {},
   "outputs": [],
   "source": [
    "mpg1 = mpg1.rename(columns = {'cty':'city'})"
   ]
  },
  {
   "cell_type": "code",
   "execution_count": null,
   "id": "ed1f9891-26ec-4b9c-a17a-8aeea91b5a02",
   "metadata": {},
   "outputs": [],
   "source": [
    "mpg1 = mpg1.rename(columns = {'hwy': 'highway'})"
   ]
  },
  {
   "cell_type": "code",
   "execution_count": null,
   "id": "0a4045f8-4d07-4082-be9b-495744572faf",
   "metadata": {},
   "outputs": [],
   "source": [
    "mpg1"
   ]
  },
  {
   "cell_type": "markdown",
   "id": "a6161ffa-ddf0-4ea4-93e2-ed9f29f41b86",
   "metadata": {},
   "source": [
    "#### 3)파생변수 만들기"
   ]
  },
  {
   "cell_type": "markdown",
   "id": "91295d0b-8189-4b54-904c-429c2890fdfc",
   "metadata": {
    "tags": []
   },
   "source": [
    "##### 1]변수를 조합해 파생변수 만들기"
   ]
  },
  {
   "cell_type": "code",
   "execution_count": null,
   "id": "3ee4ef4a-ce88-4320-88ff-b9d5a244d890",
   "metadata": {},
   "outputs": [],
   "source": [
    "df = pd.DataFrame({'var1':[4,3,8],\n",
    "                  'var2' :[2,6,1]})"
   ]
  },
  {
   "cell_type": "code",
   "execution_count": null,
   "id": "faaf7144-3f4f-4c57-a983-e726c14b32e1",
   "metadata": {},
   "outputs": [],
   "source": [
    "df"
   ]
  },
  {
   "cell_type": "code",
   "execution_count": null,
   "id": "80a71e0d-a4ab-40a3-8429-26bd555f6c9a",
   "metadata": {},
   "outputs": [],
   "source": [
    "df['var_sum'] = df['var1']+ df['var2']"
   ]
  },
  {
   "cell_type": "code",
   "execution_count": null,
   "id": "051b74ab-311a-4a8a-a641-2aae75d0c280",
   "metadata": {},
   "outputs": [],
   "source": [
    "df['var_sum']"
   ]
  },
  {
   "cell_type": "code",
   "execution_count": null,
   "id": "993caa8a-e049-4ad8-baf7-0f293da8bd39",
   "metadata": {},
   "outputs": [],
   "source": [
    "df"
   ]
  },
  {
   "cell_type": "code",
   "execution_count": null,
   "id": "872b49d7-ae90-4151-8b37-d2bd082193f2",
   "metadata": {},
   "outputs": [],
   "source": [
    "df['var_mean'] = df['var_sum'] / 2"
   ]
  },
  {
   "cell_type": "code",
   "execution_count": null,
   "id": "709fe667-b907-45e6-913f-b04a6cac12de",
   "metadata": {},
   "outputs": [],
   "source": [
    "df['var_mean']"
   ]
  },
  {
   "cell_type": "code",
   "execution_count": null,
   "id": "9d18eba6-32e5-4885-b46b-9333e34adc7c",
   "metadata": {},
   "outputs": [],
   "source": [
    "df"
   ]
  },
  {
   "cell_type": "code",
   "execution_count": null,
   "id": "79569460-29c4-4b3c-90ba-cbdb4058c4ee",
   "metadata": {},
   "outputs": [],
   "source": [
    "mpg['total'] = (mpg['cty'] +mpg['hwy']) /2"
   ]
  },
  {
   "cell_type": "code",
   "execution_count": null,
   "id": "980ddf50-c337-4874-9af4-cad1f154e2f0",
   "metadata": {},
   "outputs": [],
   "source": [
    "mpg.head()"
   ]
  },
  {
   "cell_type": "code",
   "execution_count": null,
   "id": "9aa60a97-e111-4cff-ae27-c1838f222b53",
   "metadata": {},
   "outputs": [],
   "source": [
    "sum(mpg['total']) / len(mpg)"
   ]
  },
  {
   "cell_type": "code",
   "execution_count": null,
   "id": "eee146e0-044e-4434-8553-542f2886f304",
   "metadata": {},
   "outputs": [],
   "source": [
    "mpg['total'].mean()"
   ]
  },
  {
   "cell_type": "markdown",
   "id": "72c82d79-a97f-47c9-b002-59ded8401824",
   "metadata": {},
   "source": [
    "##### 2]조건문을 활용해 파생변수 만들기\n",
    "- 변수를 조합해 파생변수 만들기\n",
    "- 조건문을 활용해 파생변수 만들기\n",
    "- 중첩조건문 만들기\n",
    "- 목록에 해당하는 행으로 변수 만들기"
   ]
  },
  {
   "cell_type": "code",
   "execution_count": null,
   "id": "d8b158f4-4e54-4f19-88c4-ba8fe86426a0",
   "metadata": {},
   "outputs": [],
   "source": [
    "mpg['total'].describe()"
   ]
  },
  {
   "cell_type": "code",
   "execution_count": null,
   "id": "9c56e86e-03a5-464e-9c38-fe12785e44ff",
   "metadata": {},
   "outputs": [],
   "source": [
    "mpg['total'].plot.hist()"
   ]
  },
  {
   "cell_type": "code",
   "execution_count": null,
   "id": "3556e8f8-73b3-4daa-9861-34bba8009943",
   "metadata": {},
   "outputs": [],
   "source": [
    "import numpy as np"
   ]
  },
  {
   "cell_type": "code",
   "execution_count": null,
   "id": "9d43dc69-fb1b-4f40-a796-820586b015cb",
   "metadata": {},
   "outputs": [],
   "source": [
    "mpg['test'] = np.where(mpg['total'] >=20, 'pass', 'fail')"
   ]
  },
  {
   "cell_type": "code",
   "execution_count": null,
   "id": "4c2a653b-efac-49bb-8b14-65e3f82d0c92",
   "metadata": {},
   "outputs": [],
   "source": [
    "mpg.head()"
   ]
  },
  {
   "cell_type": "code",
   "execution_count": null,
   "id": "1c423e84-fe5f-4cf3-a535-45fbab9c9cb7",
   "metadata": {},
   "outputs": [],
   "source": [
    "mpg['test'].value_counts()"
   ]
  },
  {
   "cell_type": "code",
   "execution_count": null,
   "id": "61fc1b1f-04d3-4d14-ae49-1390312eb98e",
   "metadata": {},
   "outputs": [],
   "source": [
    "count_test=mpg['test'].value_counts()"
   ]
  },
  {
   "cell_type": "code",
   "execution_count": null,
   "id": "76179f87-ab10-4e66-9387-89f9bbea1262",
   "metadata": {},
   "outputs": [],
   "source": [
    "type(count_test)"
   ]
  },
  {
   "cell_type": "code",
   "execution_count": null,
   "id": "37daccc5-9768-4f6a-9e56-ebbbc3961822",
   "metadata": {},
   "outputs": [],
   "source": [
    "count_test"
   ]
  },
  {
   "cell_type": "code",
   "execution_count": null,
   "id": "ce327243-f1a1-4eef-a8e2-d6996dcb8252",
   "metadata": {},
   "outputs": [],
   "source": [
    "count_test.plot.bar(rot =0)"
   ]
  },
  {
   "cell_type": "code",
   "execution_count": null,
   "id": "bf28b8ee-3473-47c8-a79d-9f8330e89b27",
   "metadata": {},
   "outputs": [],
   "source": [
    "mpg['grade'] = np.where(mpg['total'] >=30, 'A',\n",
    "               np.where(mpg['total'] >=20, 'B','C'))"
   ]
  },
  {
   "cell_type": "code",
   "execution_count": null,
   "id": "4ffc7030-4c40-4e39-aa44-0873de3f75a4",
   "metadata": {},
   "outputs": [],
   "source": [
    "mpg.head()"
   ]
  },
  {
   "cell_type": "code",
   "execution_count": null,
   "id": "8f9bed64-aa8c-4543-96f7-195a811369b3",
   "metadata": {},
   "outputs": [],
   "source": [
    "count_grade=mpg['grade'].value_counts().sort_values(ascending =False)"
   ]
  },
  {
   "cell_type": "code",
   "execution_count": null,
   "id": "246db6c9-5845-4224-8b23-8da6ce76e477",
   "metadata": {},
   "outputs": [],
   "source": [
    "count_grade"
   ]
  },
  {
   "cell_type": "code",
   "execution_count": null,
   "id": "2620cd95-35cc-4779-ae9e-dfd95b6d8e26",
   "metadata": {},
   "outputs": [],
   "source": [
    "count_grade.plot.bar(rot=0)"
   ]
  },
  {
   "cell_type": "code",
   "execution_count": null,
   "id": "e057000d-365a-428a-bdf6-f0b500f02134",
   "metadata": {},
   "outputs": [],
   "source": [
    "count_grade = mpg['grade'].value_counts().sort_index()"
   ]
  },
  {
   "cell_type": "code",
   "execution_count": null,
   "id": "0c9b67ea-7acb-4a00-a631-cd57a496d407",
   "metadata": {},
   "outputs": [],
   "source": [
    "count_grade"
   ]
  },
  {
   "cell_type": "code",
   "execution_count": null,
   "id": "4249e3f3-b2dc-4bd6-a683-4e3eca2fd3fc",
   "metadata": {},
   "outputs": [],
   "source": [
    "count_grade.plot.bar(rot=0)"
   ]
  },
  {
   "cell_type": "markdown",
   "id": "98d14527-7380-4a42-ad42-e5210d9fceb2",
   "metadata": {},
   "source": [
    "### 6. 자유자재로 데이터 가공하기"
   ]
  },
  {
   "cell_type": "markdown",
   "id": "4ec0a16c-1bd7-4cfd-b7e0-3b69dfbdd226",
   "metadata": {},
   "source": [
    "#### 1)데이터 전처리"
   ]
  },
  {
   "cell_type": "raw",
   "id": "144e2984-8795-417a-a3ed-1778cd38473d",
   "metadata": {},
   "source": [
    "교재 132쪽 \n",
    "\n",
    "query(), df[], sort_values(), groupby(), assign(),\n",
    "agg(), merge(), concat()"
   ]
  },
  {
   "cell_type": "markdown",
   "id": "2a7d7157-f472-4695-904f-047e60fb09ee",
   "metadata": {},
   "source": [
    "#### 2) 조건에 맞는 데이터 추출"
   ]
  },
  {
   "cell_type": "code",
   "execution_count": null,
   "id": "41c0879c-8300-4a61-9da6-21f161bfd8a0",
   "metadata": {},
   "outputs": [],
   "source": [
    "import pandas as pd"
   ]
  },
  {
   "cell_type": "code",
   "execution_count": null,
   "id": "64cb23c2-aee4-4c8c-97d2-c7eea89c1268",
   "metadata": {},
   "outputs": [],
   "source": [
    "exam = pd.read_csv('Data/exam.csv')"
   ]
  },
  {
   "cell_type": "code",
   "execution_count": null,
   "id": "c8495038-a9c4-4933-bc25-88f0cf424b23",
   "metadata": {},
   "outputs": [],
   "source": [
    "exam"
   ]
  },
  {
   "cell_type": "code",
   "execution_count": null,
   "id": "0adfed99-2a26-4084-9551-0f86652cd980",
   "metadata": {},
   "outputs": [],
   "source": [
    "exam.query('nclass == 1')"
   ]
  },
  {
   "cell_type": "code",
   "execution_count": null,
   "id": "7336af7a-d88e-490f-b425-4e68de0af008",
   "metadata": {},
   "outputs": [],
   "source": [
    "exam.query('nclass ==2')"
   ]
  },
  {
   "cell_type": "code",
   "execution_count": null,
   "id": "0af4b946-bb71-4cdd-a845-a21f301876d7",
   "metadata": {},
   "outputs": [],
   "source": [
    "exam.query('nclass !=2')"
   ]
  },
  {
   "cell_type": "code",
   "execution_count": null,
   "id": "df1cf0ba-cdcf-4905-ae35-5d5566c3251f",
   "metadata": {},
   "outputs": [],
   "source": [
    "exam.query('math >50')"
   ]
  },
  {
   "cell_type": "code",
   "execution_count": null,
   "id": "6566f61e-10aa-427e-82c3-600f36048e37",
   "metadata": {},
   "outputs": [],
   "source": [
    "exam.query('math >= 50 & nclass == 1')"
   ]
  },
  {
   "cell_type": "code",
   "execution_count": null,
   "id": "858644bd-52c9-4805-8a3c-dcb8b7dabd20",
   "metadata": {},
   "outputs": [],
   "source": [
    "exam.query('nclass ==1 | nclass==3 |nclass ==5')"
   ]
  },
  {
   "cell_type": "code",
   "execution_count": null,
   "id": "221a0e65-5e0f-466d-a84e-e04985977013",
   "metadata": {},
   "outputs": [],
   "source": [
    "exam.query('nclass in [1,3,5]')"
   ]
  },
  {
   "cell_type": "code",
   "execution_count": null,
   "id": "5b75e3e9-bea8-40b2-84a7-a99edda2f257",
   "metadata": {},
   "outputs": [],
   "source": [
    "df = pd.DataFrame({'sex': ['F','M','F','M'],\n",
    "                  'country': ['Korea', 'China', 'Japan', 'USA']})"
   ]
  },
  {
   "cell_type": "code",
   "execution_count": null,
   "id": "b69d3e2d-fa55-46fa-8b8c-f6cd26e32d1e",
   "metadata": {},
   "outputs": [],
   "source": [
    "df"
   ]
  },
  {
   "cell_type": "code",
   "execution_count": null,
   "id": "90fcd010-42f0-444b-89cc-a3054e2ddcd9",
   "metadata": {},
   "outputs": [],
   "source": [
    "df.query('sex==\"F\" & country==\"Korea\"')"
   ]
  },
  {
   "cell_type": "code",
   "execution_count": null,
   "id": "974f67c0-3453-468f-a04a-3efb237f9d5e",
   "metadata": {},
   "outputs": [],
   "source": [
    "var = 50\n",
    "exam.query('math >= @var').sort_values(by = 'math',ascending =False)"
   ]
  },
  {
   "cell_type": "raw",
   "id": "becbc90a-0a63-4c99-a1c5-86e7e15b2114",
   "metadata": {},
   "source": [
    "교재p.144 혼자서해보기"
   ]
  },
  {
   "cell_type": "code",
   "execution_count": null,
   "id": "ae493180-70c3-4e8b-876c-daf438b92c31",
   "metadata": {},
   "outputs": [],
   "source": [
    "#Q1"
   ]
  },
  {
   "cell_type": "code",
   "execution_count": null,
   "id": "381ed9f3-02c4-4ffc-b652-419422086436",
   "metadata": {
    "tags": []
   },
   "outputs": [],
   "source": [
    "mpg"
   ]
  },
  {
   "cell_type": "code",
   "execution_count": null,
   "id": "386df36f-23ac-41cf-a65e-cb8c04ac05fb",
   "metadata": {
    "jupyter": {
     "source_hidden": true
    },
    "tags": []
   },
   "outputs": [],
   "source": [
    "import numpy as np"
   ]
  },
  {
   "cell_type": "code",
   "execution_count": null,
   "id": "2a11ca82-1692-4920-8c29-af76cd6ee74c",
   "metadata": {
    "tags": []
   },
   "outputs": [],
   "source": [
    "displ_low=(mpg.query('displ <= 4'))['hwy']"
   ]
  },
  {
   "cell_type": "code",
   "execution_count": null,
   "id": "302b41a7-da91-4a8e-b5a2-cec2931c1257",
   "metadata": {},
   "outputs": [],
   "source": [
    "displ_high=(mpg.query('displ >=5'))['hwy']"
   ]
  },
  {
   "cell_type": "code",
   "execution_count": null,
   "id": "46a13bab-e2bf-4523-8ba2-3114b2ecdf07",
   "metadata": {},
   "outputs": [],
   "source": [
    "type(displ_low)"
   ]
  },
  {
   "cell_type": "code",
   "execution_count": null,
   "id": "9c380a07-551f-4b7a-973f-e963b0e5b72a",
   "metadata": {},
   "outputs": [],
   "source": [
    "sum(displ_low) / len(displ_low)"
   ]
  },
  {
   "cell_type": "code",
   "execution_count": null,
   "id": "e295c57d-9c3e-49bd-b3ae-ff81eeb67a36",
   "metadata": {},
   "outputs": [],
   "source": [
    "sum(displ_high) / len(displ_high)"
   ]
  },
  {
   "cell_type": "raw",
   "id": "f17f469e-c5b8-46b5-befa-a407fbd2010a",
   "metadata": {},
   "source": [
    "배기량이 낮은 차량의 고속도로 연비가 높은 차량의 고속도로 연비보다 확연히 높다고 할 수 있다."
   ]
  },
  {
   "cell_type": "code",
   "execution_count": null,
   "id": "645b971e-a28e-4049-b639-745e083cfe37",
   "metadata": {},
   "outputs": [],
   "source": [
    "#Q2"
   ]
  },
  {
   "cell_type": "code",
   "execution_count": null,
   "id": "f9b5f4a0-483c-48a0-98e1-a31f6263f7e3",
   "metadata": {
    "tags": []
   },
   "outputs": [],
   "source": [
    "audi_cty=mpg.query('manufacturer == \"audi\"')['cty']"
   ]
  },
  {
   "cell_type": "code",
   "execution_count": null,
   "id": "ec0960c5-340c-4c06-8683-791bc9c39170",
   "metadata": {},
   "outputs": [],
   "source": [
    "toyota_cty=mpg.query('manufacturer == \"toyota\"')['cty']"
   ]
  },
  {
   "cell_type": "code",
   "execution_count": null,
   "id": "b94d6afd-5584-4a73-85a2-c88390a40776",
   "metadata": {},
   "outputs": [],
   "source": [
    "sum(audi_cty) / len(audi_cty)"
   ]
  },
  {
   "cell_type": "code",
   "execution_count": null,
   "id": "eac53123-d283-4609-b078-bb79ca150f78",
   "metadata": {},
   "outputs": [],
   "source": [
    "audi_cty.mean()"
   ]
  },
  {
   "cell_type": "code",
   "execution_count": null,
   "id": "145aa95c-00f3-4b4f-aaee-de76a1cd13df",
   "metadata": {},
   "outputs": [],
   "source": [
    "toyota_cty.mean()"
   ]
  },
  {
   "cell_type": "code",
   "execution_count": null,
   "id": "0bb84c1a-87e1-4076-b492-7a761b98a7cc",
   "metadata": {},
   "outputs": [],
   "source": [
    "sum(toyota_cty) / len(toyota_cty)"
   ]
  },
  {
   "cell_type": "raw",
   "id": "94866ae4-63b6-4f84-ac08-7618aff0058a",
   "metadata": {},
   "source": [
    "토요타의 도시연비 평균이 아우디의 도시연비 평균보다 높음을 확인!!"
   ]
  },
  {
   "cell_type": "code",
   "execution_count": null,
   "id": "07ee768e-0933-438f-93af-383826a22dc4",
   "metadata": {},
   "outputs": [],
   "source": [
    "#Q3"
   ]
  },
  {
   "cell_type": "code",
   "execution_count": null,
   "id": "00b36faf-ab70-4ab0-b93d-8a2bf1274817",
   "metadata": {
    "tags": []
   },
   "outputs": [],
   "source": [
    "c3_hwy=mpg.query('manufacturer in [\"chevrolet\", \"ford\", \"honda\"]')['hwy']"
   ]
  },
  {
   "cell_type": "code",
   "execution_count": null,
   "id": "4c1edb5a-6cbf-48be-a10d-48349f74b7c7",
   "metadata": {},
   "outputs": [],
   "source": [
    "sum(c3_hwy) / len(c3_hwy)"
   ]
  },
  {
   "cell_type": "code",
   "execution_count": null,
   "id": "448f53f9-b2ca-449a-a423-b39f91d67165",
   "metadata": {},
   "outputs": [],
   "source": [
    "c3_hwy.mean()"
   ]
  },
  {
   "cell_type": "markdown",
   "id": "ad8ca83f-2b53-457c-9ed3-6f2f7fd68301",
   "metadata": {},
   "source": [
    "#### 3) 필요한 변수만 추출"
   ]
  },
  {
   "cell_type": "code",
   "execution_count": null,
   "id": "ed156e44-d972-46c0-a697-705703927015",
   "metadata": {},
   "outputs": [],
   "source": [
    "exam"
   ]
  },
  {
   "cell_type": "code",
   "execution_count": null,
   "id": "41e43a3c-b35f-48cf-860f-3f93dc3efdcc",
   "metadata": {},
   "outputs": [],
   "source": [
    "exam['math']"
   ]
  },
  {
   "cell_type": "code",
   "execution_count": null,
   "id": "b88b1a07-d526-4ebb-afeb-06b1f73ef1b5",
   "metadata": {},
   "outputs": [],
   "source": [
    "type(exam['english']) #변수 항목 하나만 추출시 시리즈로 변환됨."
   ]
  },
  {
   "cell_type": "code",
   "execution_count": null,
   "id": "4f963dda-e132-4fa0-9333-c8f33385dc7e",
   "metadata": {},
   "outputs": [],
   "source": [
    "type(exam[['english']]) #데이터프레임으로 뽑고싶으면 [[]]!!"
   ]
  },
  {
   "cell_type": "raw",
   "id": "b4bbf4e0-f8ac-4c99-acff-41ac6953d413",
   "metadata": {},
   "source": [
    "1행으로 이뤄진 데이터 ; list\n",
    "1열으로 이뤄진 데이터 ; Series\n",
    "행*열으로 이뤄진 데이터 ; DataFrame"
   ]
  },
  {
   "cell_type": "code",
   "execution_count": null,
   "id": "6838b114-4468-428a-98c3-1c7c82e9b517",
   "metadata": {
    "tags": []
   },
   "outputs": [],
   "source": [
    "exam[['nclass', 'math', 'english']]"
   ]
  },
  {
   "cell_type": "code",
   "execution_count": null,
   "id": "82cda18c-7668-49be-907a-f0300915cbf8",
   "metadata": {
    "tags": []
   },
   "outputs": [],
   "source": [
    "exam.drop(columns = 'math')"
   ]
  },
  {
   "cell_type": "code",
   "execution_count": null,
   "id": "2b821dd1-9e9f-4a47-9f29-ea05c507a288",
   "metadata": {},
   "outputs": [],
   "source": [
    "exam.drop(columns = ['math', 'english'])"
   ]
  },
  {
   "cell_type": "code",
   "execution_count": null,
   "id": "3b19294f-bdf6-467c-9414-6342bb6c4bf0",
   "metadata": {},
   "outputs": [],
   "source": [
    "exam.query('nclass ==1')['english'] #query 와 [ ]의 조합\n",
    "# 특정 변수를 만족하는 값 중 값 찾기 (조건 내 조건 찾기)"
   ]
  },
  {
   "cell_type": "code",
   "execution_count": null,
   "id": "f07cb79b-e6a1-463b-9f84-ed387bab2224",
   "metadata": {},
   "outputs": [],
   "source": [
    "exam.query('math>=50')[['id', 'math']]"
   ]
  },
  {
   "cell_type": "code",
   "execution_count": null,
   "id": "766180cc-a297-48dc-b827-915e24dd8830",
   "metadata": {},
   "outputs": [],
   "source": [
    "exam.query('math>=50 & english>=50')\\\n",
    "    [['id','math']]\\\n",
    "    .head(3)"
   ]
  },
  {
   "cell_type": "raw",
   "id": "9bfbcbd7-2fd6-41c6-a466-ec7b89deea3a",
   "metadata": {},
   "source": [
    "p.150 혼자서 해보기"
   ]
  },
  {
   "cell_type": "code",
   "execution_count": null,
   "id": "6292faba-7a0e-48f4-8b5e-4b04ef6999c5",
   "metadata": {},
   "outputs": [],
   "source": [
    "#Q1."
   ]
  },
  {
   "cell_type": "code",
   "execution_count": null,
   "id": "b65b7a2a-f94c-4b23-b57a-8fd8564bb85a",
   "metadata": {
    "tags": []
   },
   "outputs": [],
   "source": [
    "mpg"
   ]
  },
  {
   "cell_type": "code",
   "execution_count": null,
   "id": "56b3acc0-fc0e-4135-8a88-7dc3fa06df72",
   "metadata": {},
   "outputs": [],
   "source": [
    "mpg.value_counts().head(1)"
   ]
  },
  {
   "cell_type": "code",
   "execution_count": null,
   "id": "102261a8-0917-4226-8773-1e89c80e28d1",
   "metadata": {},
   "outputs": [],
   "source": [
    "mpg1 = mpg[['category','cty']]"
   ]
  },
  {
   "cell_type": "code",
   "execution_count": null,
   "id": "e0d4f9bc-3062-4f5b-8cc8-4216e02f4fa2",
   "metadata": {},
   "outputs": [],
   "source": [
    "mpg1.head(3)"
   ]
  },
  {
   "cell_type": "code",
   "execution_count": null,
   "id": "adba7bc0-a87a-4b63-bbfe-29cdf64284ac",
   "metadata": {},
   "outputs": [],
   "source": [
    "#Q2."
   ]
  },
  {
   "cell_type": "code",
   "execution_count": null,
   "id": "afd200ad",
   "metadata": {
    "tags": []
   },
   "outputs": [],
   "source": [
    "mpg1.query('category in[\"suv\"]')['cty'].mean()"
   ]
  },
  {
   "cell_type": "code",
   "execution_count": null,
   "id": "1cbf9f36-d79d-4137-8aad-aa5f241711c2",
   "metadata": {},
   "outputs": [],
   "source": [
    "mpg1.query('category in[\"compact\"]')['cty'].mean()"
   ]
  },
  {
   "cell_type": "code",
   "execution_count": null,
   "id": "bc3b470b-a61f-4d28-9065-7085fb40f9d5",
   "metadata": {},
   "outputs": [],
   "source": [
    "mpg1['category'].unique()"
   ]
  },
  {
   "cell_type": "markdown",
   "id": "1a0210e9-aa7d-4ba4-a456-9b2835c2c1c2",
   "metadata": {},
   "source": [
    "#### 4) 순서대로 정렬"
   ]
  },
  {
   "cell_type": "code",
   "execution_count": null,
   "id": "b6f6e20e-677d-46e3-9c9b-60915e55c8cb",
   "metadata": {},
   "outputs": [],
   "source": [
    "exam.sort_values('math') #오름차순"
   ]
  },
  {
   "cell_type": "code",
   "execution_count": null,
   "id": "7b9f2dd5-7a2b-43ca-b68a-e307b65a9370",
   "metadata": {},
   "outputs": [],
   "source": [
    "exam.sort_values('math', ascending =False) #내림차순정렬"
   ]
  },
  {
   "cell_type": "code",
   "execution_count": null,
   "id": "8705ee43-6017-4552-a563-30165c244683",
   "metadata": {},
   "outputs": [],
   "source": [
    "exam.sort_values(['nclass','math'])"
   ]
  },
  {
   "cell_type": "code",
   "execution_count": null,
   "id": "627f7ea6-be92-48fa-ae72-e2ed4f6f24ad",
   "metadata": {},
   "outputs": [],
   "source": [
    "exam.sort_values(['nclass','math'], ascending=[True,False])\n",
    "# nclass는 오름차순 정렬, math는 내림차순 정렬"
   ]
  },
  {
   "cell_type": "raw",
   "id": "b2d45adc-f511-4f80-947a-2c5277f5e5b9",
   "metadata": {},
   "source": [
    "p.153 혼자서해보기"
   ]
  },
  {
   "cell_type": "code",
   "execution_count": null,
   "id": "f2c37a09-d6c5-4786-9961-ef483d1a50d0",
   "metadata": {},
   "outputs": [],
   "source": [
    "#Q1."
   ]
  },
  {
   "cell_type": "code",
   "execution_count": null,
   "id": "0f858ea6-efd8-43fc-9eee-b6484e4e0085",
   "metadata": {},
   "outputs": [],
   "source": [
    "mpg"
   ]
  },
  {
   "cell_type": "code",
   "execution_count": null,
   "id": "bba4a696-99b7-4883-8a08-7015e005427c",
   "metadata": {
    "tags": []
   },
   "outputs": [],
   "source": [
    "mpg.query('manufacturer == \"audi\"')\\\n",
    "   .sort_values('hwy', ascending=False)\\\n",
    "   .head(5)"
   ]
  },
  {
   "cell_type": "markdown",
   "id": "0c9dd13a-96d7-4cc8-8505-a80c2e1572fe",
   "metadata": {},
   "source": [
    "#### 5) 파생변수 추가"
   ]
  },
  {
   "cell_type": "code",
   "execution_count": null,
   "id": "5f9827f3-954b-4998-a611-759b92e76eb4",
   "metadata": {},
   "outputs": [],
   "source": [
    "exam.assign(total = exam['math']+exam['english']+exam['science'],\\\n",
    "            mean = (exam['math']+exam['english']+exam['science']) /3)"
   ]
  },
  {
   "cell_type": "code",
   "execution_count": null,
   "id": "f363d433-2b73-4e9c-ab22-168968cd2807",
   "metadata": {},
   "outputs": [],
   "source": [
    "import numpy as np"
   ]
  },
  {
   "cell_type": "code",
   "execution_count": null,
   "id": "43fe89b4-ddf8-4079-8780-c1f2a1c4b841",
   "metadata": {},
   "outputs": [],
   "source": [
    "exam.assign(test = np.where(exam['science']>=60,\n",
    "                           'pass', 'fail'))\\\n",
    "    .sort_values('science', ascending =False)"
   ]
  },
  {
   "cell_type": "code",
   "execution_count": null,
   "id": "726847b1-c281-43d8-9d28-8f6ceedcdac8",
   "metadata": {},
   "outputs": [],
   "source": [
    "exam.assign(total = exam['math']+exam['english']+exam['science'])\\\n",
    "    .sort_values('total', ascending =False)"
   ]
  },
  {
   "cell_type": "raw",
   "id": "c6158a34-60db-49b0-a1d4-6be4090edc81",
   "metadata": {},
   "source": [
    "p.158 혼자서해보기"
   ]
  },
  {
   "cell_type": "code",
   "execution_count": null,
   "id": "c9717c46-e9d2-4fe0-8cdc-f3872a19c696",
   "metadata": {},
   "outputs": [],
   "source": [
    "#Q1"
   ]
  },
  {
   "cell_type": "code",
   "execution_count": null,
   "id": "6f3c532b-fd01-4577-981c-e350fbfd92a3",
   "metadata": {},
   "outputs": [],
   "source": [
    "mpg1 = mpg"
   ]
  },
  {
   "cell_type": "code",
   "execution_count": null,
   "id": "e13e378e-9698-43f2-a36d-4a3f8f8874a4",
   "metadata": {},
   "outputs": [],
   "source": [
    "mpg2=mpg1.assign(total_f = mpg1['hwy']+mpg['cty'])"
   ]
  },
  {
   "cell_type": "code",
   "execution_count": null,
   "id": "092e846d-931b-4564-82e9-08d97c91bfd4",
   "metadata": {},
   "outputs": [],
   "source": [
    "mpg3 = mpg2.assign(mean_f = mpg2['total_f'] / 2)"
   ]
  },
  {
   "cell_type": "code",
   "execution_count": null,
   "id": "ef9a70cd-1648-4061-9934-b1183db4c093",
   "metadata": {},
   "outputs": [],
   "source": [
    "mpg3.sort_values('mean_f', ascending =False)\\\n",
    "    .head(3)"
   ]
  },
  {
   "cell_type": "code",
   "execution_count": null,
   "id": "7a6e7b13-157b-491b-b104-86b432135834",
   "metadata": {},
   "outputs": [],
   "source": [
    "mpg.assign(total = lambda x: x['cty'] + x['hwy'], \\\n",
    "           mean  = lambda x: x['total'] / 2) \\\n",
    "   .sort_values('mean', ascending = False) \\\n",
    "   .head(3)"
   ]
  },
  {
   "cell_type": "markdown",
   "id": "bce66bbd-306d-4972-88f3-cddfb174fa73",
   "metadata": {},
   "source": [
    "#### 6) 집단별로 요약"
   ]
  },
  {
   "cell_type": "code",
   "execution_count": null,
   "id": "1891d05c-642a-4190-83dc-69934e408c63",
   "metadata": {},
   "outputs": [],
   "source": [
    "exam.agg(mean_math = ('math','mean'))"
   ]
  },
  {
   "cell_type": "code",
   "execution_count": null,
   "id": "ca9456e2-89db-480b-b437-dd9ec3abdaf3",
   "metadata": {},
   "outputs": [],
   "source": [
    "exam.groupby('nclass') \\\n",
    "    .agg(mean_math = ('math', 'mean'))"
   ]
  },
  {
   "cell_type": "code",
   "execution_count": null,
   "id": "90534fce-ba85-4c4c-8c0f-0476eac5ff8c",
   "metadata": {},
   "outputs": [],
   "source": [
    "exam.groupby('nclass', as_index =False) \\\n",
    "    .agg(mean_math = ('math', 'mean'))\n",
    "#학급별 수학성적의 평균"
   ]
  },
  {
   "cell_type": "code",
   "execution_count": null,
   "id": "98950fea-d35a-49de-b9b7-31a07cc4e7e6",
   "metadata": {},
   "outputs": [],
   "source": [
    "exam.groupby('nclass') \\\n",
    "    .agg(mean_math   = ('math'  ,'mean'),\\\n",
    "         sum_math    = ('math'  ,'sum'),\\\n",
    "         median_math = ('math'  ,'median'),\\\n",
    "         n           = ('nclass','count'))"
   ]
  },
  {
   "cell_type": "code",
   "execution_count": null,
   "id": "55f76b05-bfa0-4231-a752-dbc2cfe32ee1",
   "metadata": {},
   "outputs": [],
   "source": [
    "exam.groupby('nclass').mean()"
   ]
  },
  {
   "cell_type": "code",
   "execution_count": null,
   "id": "8ad1255f-1e06-4bc0-9a40-58180d753be4",
   "metadata": {},
   "outputs": [],
   "source": [
    "mpg.groupby(['manufacturer','drv'])['cty'].mean()"
   ]
  },
  {
   "cell_type": "code",
   "execution_count": null,
   "id": "ce6bce2a-725c-43dc-827f-0bd7d8144ba0",
   "metadata": {
    "tags": []
   },
   "outputs": [],
   "source": [
    "mpg.query('category ==\"suv\"') \\\n",
    "   .assign(total = (mpg['hwy']+mpg['cty']) /2) \\\n",
    "   .groupby('manufacturer') \\\n",
    "   .agg(mean_tot = ('total','mean')) \\\n",
    "   .sort_values('mean_tot', ascending=False) \\\n",
    "   .head()"
   ]
  },
  {
   "cell_type": "code",
   "execution_count": 2,
   "id": "e1d2ee86-0b55-432c-8fef-f5d9d9ea7109",
   "metadata": {},
   "outputs": [],
   "source": [
    "import pandas as pd"
   ]
  },
  {
   "cell_type": "code",
   "execution_count": 4,
   "id": "b2e1fba5-925b-487a-923d-fca77d704237",
   "metadata": {
    "tags": []
   },
   "outputs": [],
   "source": [
    "mpg = pd.read_csv('Data/mpg.csv')"
   ]
  },
  {
   "cell_type": "code",
   "execution_count": 5,
   "id": "75c46fe1-6116-4667-9c57-e068e73d6c3b",
   "metadata": {},
   "outputs": [
    {
     "name": "stdout",
     "output_type": "stream",
     "text": [
      "<class 'pandas.core.frame.DataFrame'>\n",
      "RangeIndex: 234 entries, 0 to 233\n",
      "Data columns (total 11 columns):\n",
      " #   Column        Non-Null Count  Dtype  \n",
      "---  ------        --------------  -----  \n",
      " 0   manufacturer  234 non-null    object \n",
      " 1   model         234 non-null    object \n",
      " 2   displ         234 non-null    float64\n",
      " 3   year          234 non-null    int64  \n",
      " 4   cyl           234 non-null    int64  \n",
      " 5   trans         234 non-null    object \n",
      " 6   drv           234 non-null    object \n",
      " 7   cty           234 non-null    int64  \n",
      " 8   hwy           234 non-null    int64  \n",
      " 9   fl            234 non-null    object \n",
      " 10  category      234 non-null    object \n",
      "dtypes: float64(1), int64(4), object(6)\n",
      "memory usage: 20.2+ KB\n"
     ]
    }
   ],
   "source": [
    "mpg.info()"
   ]
  },
  {
   "cell_type": "code",
   "execution_count": 7,
   "id": "d6e1021c-a556-49a8-b5f2-9f9f80e68c1f",
   "metadata": {},
   "outputs": [
    {
     "data": {
      "text/plain": [
       "array(['compact', 'midsize', 'suv', '2seater', 'minivan', 'pickup',\n",
       "       'subcompact'], dtype=object)"
      ]
     },
     "execution_count": 7,
     "metadata": {},
     "output_type": "execute_result"
    }
   ],
   "source": [
    "mpg['category'].unique()"
   ]
  },
  {
   "cell_type": "code",
   "execution_count": 8,
   "id": "18c51abd-12fa-4cfb-bb83-b64561220839",
   "metadata": {},
   "outputs": [],
   "source": [
    "df = mpg.groupby('category')['hwy'].mean()"
   ]
  },
  {
   "cell_type": "code",
   "execution_count": 9,
   "id": "8f568704-99cf-4203-a1f6-3585469f0d1e",
   "metadata": {},
   "outputs": [
    {
     "data": {
      "text/plain": [
       "category\n",
       "compact       28.297872\n",
       "subcompact    28.142857\n",
       "midsize       27.292683\n",
       "2seater       24.800000\n",
       "minivan       22.363636\n",
       "suv           18.129032\n",
       "pickup        16.878788\n",
       "Name: hwy, dtype: float64"
      ]
     },
     "execution_count": 9,
     "metadata": {},
     "output_type": "execute_result"
    }
   ],
   "source": [
    "df.sort_values(ascending = False)"
   ]
  },
  {
   "cell_type": "code",
   "execution_count": 11,
   "id": "136837c8-1f6d-4505-9dc4-09326474932b",
   "metadata": {},
   "outputs": [
    {
     "data": {
      "text/plain": [
       "array(['audi', 'chevrolet', 'dodge', 'ford', 'honda', 'hyundai', 'jeep',\n",
       "       'land rover', 'lincoln', 'mercury', 'nissan', 'pontiac', 'subaru',\n",
       "       'toyota', 'volkswagen'], dtype=object)"
      ]
     },
     "execution_count": 11,
     "metadata": {},
     "output_type": "execute_result"
    }
   ],
   "source": [
    "mpg['manufacturer'].unique()"
   ]
  },
  {
   "cell_type": "code",
   "execution_count": 14,
   "id": "32e7c02f-2dad-4592-a133-afb2874115b0",
   "metadata": {},
   "outputs": [],
   "source": [
    "df2=mpg.groupby('manufacturer')['hwy'].mean()"
   ]
  },
  {
   "cell_type": "code",
   "execution_count": 16,
   "id": "a22b8c95-b3b6-4483-a174-605d04d03a29",
   "metadata": {},
   "outputs": [
    {
     "data": {
      "text/plain": [
       "manufacturer\n",
       "honda         32.555556\n",
       "volkswagen    29.222222\n",
       "hyundai       26.857143\n",
       "Name: hwy, dtype: float64"
      ]
     },
     "execution_count": 16,
     "metadata": {},
     "output_type": "execute_result"
    }
   ],
   "source": [
    "df2.sort_values(ascending=False).head(3)"
   ]
  },
  {
   "cell_type": "code",
   "execution_count": 24,
   "id": "5fae2560-e7b8-48e1-a194-55b4c148e8f7",
   "metadata": {},
   "outputs": [
    {
     "data": {
      "text/plain": [
       "0       True\n",
       "1       True\n",
       "2       True\n",
       "3       True\n",
       "4       True\n",
       "       ...  \n",
       "229    False\n",
       "230    False\n",
       "231    False\n",
       "232    False\n",
       "233    False\n",
       "Name: category, Length: 234, dtype: bool"
      ]
     },
     "execution_count": 24,
     "metadata": {},
     "output_type": "execute_result"
    }
   ],
   "source": [
    "mpg['category'] =='compact'"
   ]
  },
  {
   "cell_type": "code",
   "execution_count": 30,
   "id": "411b0b19-6fcb-4ea0-87b4-65c2fb2caa0a",
   "metadata": {},
   "outputs": [
    {
     "data": {
      "text/plain": [
       "False    187\n",
       "True      47\n",
       "Name: category, dtype: int64"
      ]
     },
     "execution_count": 30,
     "metadata": {},
     "output_type": "execute_result"
    }
   ],
   "source": [
    "(mpg['category'] =='compact').value_counts()"
   ]
  },
  {
   "cell_type": "code",
   "execution_count": 36,
   "id": "920f2a64-5fda-4943-959d-7cf8eff7ee04",
   "metadata": {},
   "outputs": [],
   "source": [
    "df4 = mpg.groupby('manufacturer')['category']"
   ]
  },
  {
   "cell_type": "code",
   "execution_count": 37,
   "id": "131a5445-91ed-4de3-a696-4cd34f264c1d",
   "metadata": {},
   "outputs": [
    {
     "data": {
      "text/plain": [
       "<pandas.core.groupby.generic.SeriesGroupBy object at 0x0000012E46AAE310>"
      ]
     },
     "execution_count": 37,
     "metadata": {},
     "output_type": "execute_result"
    }
   ],
   "source": [
    "df4"
   ]
  },
  {
   "cell_type": "code",
   "execution_count": 20,
   "id": "9c819417-4aba-4748-8719-7eb60a903bf8",
   "metadata": {},
   "outputs": [
    {
     "data": {
      "text/plain": [
       "suv           62\n",
       "compact       47\n",
       "midsize       41\n",
       "subcompact    35\n",
       "pickup        33\n",
       "minivan       11\n",
       "2seater        5\n",
       "Name: category, dtype: int64"
      ]
     },
     "execution_count": 20,
     "metadata": {},
     "output_type": "execute_result"
    }
   ],
   "source": [
    "df3.value_counts()"
   ]
  },
  {
   "cell_type": "code",
   "execution_count": 22,
   "id": "4d3789a4-46b0-4c98-ba69-c73a922ec895",
   "metadata": {},
   "outputs": [
    {
     "data": {
      "text/plain": [
       "0      compact\n",
       "1      compact\n",
       "2      compact\n",
       "3      compact\n",
       "4      compact\n",
       "        ...   \n",
       "229    midsize\n",
       "230    midsize\n",
       "231    midsize\n",
       "232    midsize\n",
       "233    midsize\n",
       "Name: category, Length: 234, dtype: object"
      ]
     },
     "execution_count": 22,
     "metadata": {},
     "output_type": "execute_result"
    }
   ],
   "source": [
    "df3"
   ]
  },
  {
   "cell_type": "code",
   "execution_count": 45,
   "id": "8a2accd4-a3bf-482c-acfe-728c3a40cc39",
   "metadata": {},
   "outputs": [
    {
     "data": {
      "text/plain": [
       "audi          15\n",
       "volkswagen    14\n",
       "toyota        12\n",
       "subaru         4\n",
       "nissan         2\n",
       "Name: manufacturer, dtype: int64"
      ]
     },
     "execution_count": 45,
     "metadata": {},
     "output_type": "execute_result"
    }
   ],
   "source": [
    "mpg.query('category==\"compact\"')['manufacturer'].value_counts()"
   ]
  },
  {
   "cell_type": "markdown",
   "id": "d0163f7f-4c69-4149-8438-c38219957ba6",
   "metadata": {},
   "source": [
    "#### 7) 데이터 합치기"
   ]
  },
  {
   "cell_type": "raw",
   "id": "41fc2791-10b3-41b3-bbfb-b4b46c11c1a0",
   "metadata": {},
   "source": [
    "pd.merge()  / pd.concat()"
   ]
  },
  {
   "cell_type": "raw",
   "id": "0f4ae924-4691-4ed8-97eb-cbe24e491cf4",
   "metadata": {},
   "source": [
    "p.173 혼자서 해보기"
   ]
  },
  {
   "cell_type": "code",
   "execution_count": 46,
   "id": "e7e6ffcc-8031-44d1-bab7-a6dc653af196",
   "metadata": {},
   "outputs": [],
   "source": [
    "fuel = pd.DataFrame({'fl':['c','d','e','p','r'],\n",
    "                     'price_fl':[2.35, 2.38,2.11, 2.76, 2.22]})"
   ]
  },
  {
   "cell_type": "code",
   "execution_count": 47,
   "id": "20562593-4ac5-4aa2-ab8c-0cb721645db0",
   "metadata": {},
   "outputs": [
    {
     "data": {
      "text/html": [
       "<div>\n",
       "<style scoped>\n",
       "    .dataframe tbody tr th:only-of-type {\n",
       "        vertical-align: middle;\n",
       "    }\n",
       "\n",
       "    .dataframe tbody tr th {\n",
       "        vertical-align: top;\n",
       "    }\n",
       "\n",
       "    .dataframe thead th {\n",
       "        text-align: right;\n",
       "    }\n",
       "</style>\n",
       "<table border=\"1\" class=\"dataframe\">\n",
       "  <thead>\n",
       "    <tr style=\"text-align: right;\">\n",
       "      <th></th>\n",
       "      <th>fl</th>\n",
       "      <th>price_fl</th>\n",
       "    </tr>\n",
       "  </thead>\n",
       "  <tbody>\n",
       "    <tr>\n",
       "      <th>0</th>\n",
       "      <td>c</td>\n",
       "      <td>2.35</td>\n",
       "    </tr>\n",
       "    <tr>\n",
       "      <th>1</th>\n",
       "      <td>d</td>\n",
       "      <td>2.38</td>\n",
       "    </tr>\n",
       "    <tr>\n",
       "      <th>2</th>\n",
       "      <td>e</td>\n",
       "      <td>2.11</td>\n",
       "    </tr>\n",
       "    <tr>\n",
       "      <th>3</th>\n",
       "      <td>p</td>\n",
       "      <td>2.76</td>\n",
       "    </tr>\n",
       "    <tr>\n",
       "      <th>4</th>\n",
       "      <td>r</td>\n",
       "      <td>2.22</td>\n",
       "    </tr>\n",
       "  </tbody>\n",
       "</table>\n",
       "</div>"
      ],
      "text/plain": [
       "  fl  price_fl\n",
       "0  c      2.35\n",
       "1  d      2.38\n",
       "2  e      2.11\n",
       "3  p      2.76\n",
       "4  r      2.22"
      ]
     },
     "execution_count": 47,
     "metadata": {},
     "output_type": "execute_result"
    }
   ],
   "source": [
    "fuel"
   ]
  },
  {
   "cell_type": "code",
   "execution_count": 52,
   "id": "54464d88-707d-4962-8f60-9197bbf9cf0e",
   "metadata": {},
   "outputs": [
    {
     "data": {
      "text/plain": [
       "r    168\n",
       "p     52\n",
       "e      8\n",
       "d      5\n",
       "c      1\n",
       "Name: fl, dtype: int64"
      ]
     },
     "execution_count": 52,
     "metadata": {},
     "output_type": "execute_result"
    }
   ],
   "source": [
    "mpg['fl'].value_counts()"
   ]
  },
  {
   "cell_type": "code",
   "execution_count": 67,
   "id": "40e96a0d-c41d-49a6-b827-d4180db62b3a",
   "metadata": {},
   "outputs": [],
   "source": [
    "mpg1=pd.merge(mpg, fuel, how ='left', on = 'fl').sort_values('price_fl', ascending = False)"
   ]
  },
  {
   "cell_type": "code",
   "execution_count": 68,
   "id": "07731746-0e94-4dd1-9a03-446d792b7556",
   "metadata": {},
   "outputs": [
    {
     "data": {
      "text/html": [
       "<div>\n",
       "<style scoped>\n",
       "    .dataframe tbody tr th:only-of-type {\n",
       "        vertical-align: middle;\n",
       "    }\n",
       "\n",
       "    .dataframe tbody tr th {\n",
       "        vertical-align: top;\n",
       "    }\n",
       "\n",
       "    .dataframe thead th {\n",
       "        text-align: right;\n",
       "    }\n",
       "</style>\n",
       "<table border=\"1\" class=\"dataframe\">\n",
       "  <thead>\n",
       "    <tr style=\"text-align: right;\">\n",
       "      <th></th>\n",
       "      <th>model</th>\n",
       "      <th>fl</th>\n",
       "      <th>price_fl</th>\n",
       "    </tr>\n",
       "  </thead>\n",
       "  <tbody>\n",
       "    <tr>\n",
       "      <th>0</th>\n",
       "      <td>a4</td>\n",
       "      <td>p</td>\n",
       "      <td>2.76</td>\n",
       "    </tr>\n",
       "    <tr>\n",
       "      <th>98</th>\n",
       "      <td>mustang</td>\n",
       "      <td>p</td>\n",
       "      <td>2.76</td>\n",
       "    </tr>\n",
       "    <tr>\n",
       "      <th>107</th>\n",
       "      <td>civic</td>\n",
       "      <td>p</td>\n",
       "      <td>2.76</td>\n",
       "    </tr>\n",
       "    <tr>\n",
       "      <th>1</th>\n",
       "      <td>a4</td>\n",
       "      <td>p</td>\n",
       "      <td>2.76</td>\n",
       "    </tr>\n",
       "    <tr>\n",
       "      <th>129</th>\n",
       "      <td>grand cherokee 4wd</td>\n",
       "      <td>p</td>\n",
       "      <td>2.76</td>\n",
       "    </tr>\n",
       "  </tbody>\n",
       "</table>\n",
       "</div>"
      ],
      "text/plain": [
       "                  model fl  price_fl\n",
       "0                    a4  p      2.76\n",
       "98              mustang  p      2.76\n",
       "107               civic  p      2.76\n",
       "1                    a4  p      2.76\n",
       "129  grand cherokee 4wd  p      2.76"
      ]
     },
     "execution_count": 68,
     "metadata": {},
     "output_type": "execute_result"
    }
   ],
   "source": [
    "mpg1[['model','fl','price_fl']].head()"
   ]
  },
  {
   "cell_type": "code",
   "execution_count": 70,
   "id": "560e6199-8a6f-4e78-a1ea-9c1d457f0855",
   "metadata": {},
   "outputs": [
    {
     "data": {
      "text/plain": [
       "pandas.core.series.Series"
      ]
     },
     "execution_count": 70,
     "metadata": {},
     "output_type": "execute_result"
    }
   ],
   "source": [
    "type(mpg['fl'])"
   ]
  },
  {
   "cell_type": "code",
   "execution_count": 76,
   "id": "f9667dbb-b148-4d78-b6a2-4864f9977109",
   "metadata": {},
   "outputs": [
    {
     "data": {
      "text/plain": [
       "pandas.core.frame.DataFrame"
      ]
     },
     "execution_count": 76,
     "metadata": {},
     "output_type": "execute_result"
    }
   ],
   "source": [
    "type(mpg.query('manufacturer ==\"audi\" \\\n",
    "           & displ==1.8 & cty ==18 & drv ==\"f\"'))"
   ]
  },
  {
   "cell_type": "code",
   "execution_count": 81,
   "id": "838df0e8-ae2c-4b1e-a5c7-c960445dd211",
   "metadata": {},
   "outputs": [
    {
     "data": {
      "text/plain": [
       "manufacturer  drv\n",
       "audi          4      16.818182\n",
       "              f      18.857143\n",
       "chevrolet     4      12.500000\n",
       "              f      18.800000\n",
       "              r      14.100000\n",
       "dodge         4      12.000000\n",
       "              f      15.818182\n",
       "ford          4      13.307692\n",
       "              r      14.750000\n",
       "honda         f      24.444444\n",
       "hyundai       f      18.642857\n",
       "jeep          4      13.500000\n",
       "land rover    4      11.500000\n",
       "lincoln       r      11.333333\n",
       "mercury       4      13.250000\n",
       "nissan        4      13.750000\n",
       "              f      20.000000\n",
       "pontiac       f      17.000000\n",
       "subaru        4      19.285714\n",
       "toyota        4      14.933333\n",
       "              f      21.368421\n",
       "volkswagen    f      20.925926\n",
       "Name: cty, dtype: float64"
      ]
     },
     "execution_count": 81,
     "metadata": {},
     "output_type": "execute_result"
    }
   ],
   "source": [
    "mpg.groupby(['manufacturer', 'drv'])['cty'].mean()"
   ]
  },
  {
   "cell_type": "markdown",
   "id": "bcf92e98-4871-4636-8340-a968bf8ebebd",
   "metadata": {},
   "source": [
    "### 7. 데이터 정제"
   ]
  },
  {
   "cell_type": "markdown",
   "id": "fd444c7d-676e-4703-8aa8-1a238ffc66c3",
   "metadata": {},
   "source": [
    "#### 1)결측치 정제"
   ]
  },
  {
   "cell_type": "code",
   "execution_count": 82,
   "id": "fec7bb81-51e1-4b37-bda6-53af7733a998",
   "metadata": {},
   "outputs": [],
   "source": [
    "import pandas as pd\n",
    "import numpy as np"
   ]
  },
  {
   "cell_type": "code",
   "execution_count": 83,
   "id": "28f8408c-cc00-470a-9b75-46e24c38e9df",
   "metadata": {},
   "outputs": [],
   "source": [
    "df = pd.DataFrame({'sex':['M','F',np.nan, 'M','F'], \\\n",
    "                   'score':[5,4,3,4,np.nan]})"
   ]
  },
  {
   "cell_type": "code",
   "execution_count": 84,
   "id": "97e76131-8db3-405b-869a-1fb79b720824",
   "metadata": {},
   "outputs": [
    {
     "data": {
      "text/html": [
       "<div>\n",
       "<style scoped>\n",
       "    .dataframe tbody tr th:only-of-type {\n",
       "        vertical-align: middle;\n",
       "    }\n",
       "\n",
       "    .dataframe tbody tr th {\n",
       "        vertical-align: top;\n",
       "    }\n",
       "\n",
       "    .dataframe thead th {\n",
       "        text-align: right;\n",
       "    }\n",
       "</style>\n",
       "<table border=\"1\" class=\"dataframe\">\n",
       "  <thead>\n",
       "    <tr style=\"text-align: right;\">\n",
       "      <th></th>\n",
       "      <th>sex</th>\n",
       "      <th>score</th>\n",
       "    </tr>\n",
       "  </thead>\n",
       "  <tbody>\n",
       "    <tr>\n",
       "      <th>0</th>\n",
       "      <td>M</td>\n",
       "      <td>5.0</td>\n",
       "    </tr>\n",
       "    <tr>\n",
       "      <th>1</th>\n",
       "      <td>F</td>\n",
       "      <td>4.0</td>\n",
       "    </tr>\n",
       "    <tr>\n",
       "      <th>2</th>\n",
       "      <td>NaN</td>\n",
       "      <td>3.0</td>\n",
       "    </tr>\n",
       "    <tr>\n",
       "      <th>3</th>\n",
       "      <td>M</td>\n",
       "      <td>4.0</td>\n",
       "    </tr>\n",
       "    <tr>\n",
       "      <th>4</th>\n",
       "      <td>F</td>\n",
       "      <td>NaN</td>\n",
       "    </tr>\n",
       "  </tbody>\n",
       "</table>\n",
       "</div>"
      ],
      "text/plain": [
       "   sex  score\n",
       "0    M    5.0\n",
       "1    F    4.0\n",
       "2  NaN    3.0\n",
       "3    M    4.0\n",
       "4    F    NaN"
      ]
     },
     "execution_count": 84,
     "metadata": {},
     "output_type": "execute_result"
    }
   ],
   "source": [
    "df"
   ]
  },
  {
   "cell_type": "code",
   "execution_count": 85,
   "id": "39907943-96dc-4403-ae28-9e5a4ff012af",
   "metadata": {},
   "outputs": [
    {
     "data": {
      "text/html": [
       "<div>\n",
       "<style scoped>\n",
       "    .dataframe tbody tr th:only-of-type {\n",
       "        vertical-align: middle;\n",
       "    }\n",
       "\n",
       "    .dataframe tbody tr th {\n",
       "        vertical-align: top;\n",
       "    }\n",
       "\n",
       "    .dataframe thead th {\n",
       "        text-align: right;\n",
       "    }\n",
       "</style>\n",
       "<table border=\"1\" class=\"dataframe\">\n",
       "  <thead>\n",
       "    <tr style=\"text-align: right;\">\n",
       "      <th></th>\n",
       "      <th>sex</th>\n",
       "      <th>score</th>\n",
       "    </tr>\n",
       "  </thead>\n",
       "  <tbody>\n",
       "    <tr>\n",
       "      <th>0</th>\n",
       "      <td>False</td>\n",
       "      <td>False</td>\n",
       "    </tr>\n",
       "    <tr>\n",
       "      <th>1</th>\n",
       "      <td>False</td>\n",
       "      <td>False</td>\n",
       "    </tr>\n",
       "    <tr>\n",
       "      <th>2</th>\n",
       "      <td>True</td>\n",
       "      <td>False</td>\n",
       "    </tr>\n",
       "    <tr>\n",
       "      <th>3</th>\n",
       "      <td>False</td>\n",
       "      <td>False</td>\n",
       "    </tr>\n",
       "    <tr>\n",
       "      <th>4</th>\n",
       "      <td>False</td>\n",
       "      <td>True</td>\n",
       "    </tr>\n",
       "  </tbody>\n",
       "</table>\n",
       "</div>"
      ],
      "text/plain": [
       "     sex  score\n",
       "0  False  False\n",
       "1  False  False\n",
       "2   True  False\n",
       "3  False  False\n",
       "4  False   True"
      ]
     },
     "execution_count": 85,
     "metadata": {},
     "output_type": "execute_result"
    }
   ],
   "source": [
    "df.isnull()"
   ]
  },
  {
   "cell_type": "code",
   "execution_count": 88,
   "id": "d49c1eb1-f343-4999-9318-69b040683229",
   "metadata": {},
   "outputs": [
    {
     "data": {
      "text/plain": [
       "sex      1\n",
       "score    1\n",
       "dtype: int64"
      ]
     },
     "execution_count": 88,
     "metadata": {},
     "output_type": "execute_result"
    }
   ],
   "source": [
    "df.isnull().sum() #결측치의 합을 출력"
   ]
  },
  {
   "cell_type": "code",
   "execution_count": 89,
   "id": "66aae101-1e0c-4fc9-86a3-eb9daa30e9c5",
   "metadata": {},
   "outputs": [
    {
     "data": {
      "text/html": [
       "<div>\n",
       "<style scoped>\n",
       "    .dataframe tbody tr th:only-of-type {\n",
       "        vertical-align: middle;\n",
       "    }\n",
       "\n",
       "    .dataframe tbody tr th {\n",
       "        vertical-align: top;\n",
       "    }\n",
       "\n",
       "    .dataframe thead th {\n",
       "        text-align: right;\n",
       "    }\n",
       "</style>\n",
       "<table border=\"1\" class=\"dataframe\">\n",
       "  <thead>\n",
       "    <tr style=\"text-align: right;\">\n",
       "      <th></th>\n",
       "      <th>sex</th>\n",
       "      <th>score</th>\n",
       "    </tr>\n",
       "  </thead>\n",
       "  <tbody>\n",
       "    <tr>\n",
       "      <th>0</th>\n",
       "      <td>M</td>\n",
       "      <td>5.0</td>\n",
       "    </tr>\n",
       "    <tr>\n",
       "      <th>1</th>\n",
       "      <td>F</td>\n",
       "      <td>4.0</td>\n",
       "    </tr>\n",
       "    <tr>\n",
       "      <th>2</th>\n",
       "      <td>NaN</td>\n",
       "      <td>3.0</td>\n",
       "    </tr>\n",
       "    <tr>\n",
       "      <th>3</th>\n",
       "      <td>M</td>\n",
       "      <td>4.0</td>\n",
       "    </tr>\n",
       "  </tbody>\n",
       "</table>\n",
       "</div>"
      ],
      "text/plain": [
       "   sex  score\n",
       "0    M    5.0\n",
       "1    F    4.0\n",
       "2  NaN    3.0\n",
       "3    M    4.0"
      ]
     },
     "execution_count": 89,
     "metadata": {},
     "output_type": "execute_result"
    }
   ],
   "source": [
    "df.dropna(subset=['score'])"
   ]
  },
  {
   "cell_type": "code",
   "execution_count": 90,
   "id": "abbc98f9-e3f4-4f6e-a72b-283e3ced0b26",
   "metadata": {},
   "outputs": [],
   "source": [
    "df_f = df.dropna(subset=['score'])"
   ]
  },
  {
   "cell_type": "code",
   "execution_count": 109,
   "id": "88ff428e-fa72-4e0f-b879-62d556c4e442",
   "metadata": {},
   "outputs": [],
   "source": [
    "df_f = df.dropna(subset=['score','sex']) #score, sex 변수의 결측치 제거"
   ]
  },
  {
   "cell_type": "code",
   "execution_count": 92,
   "id": "eff11d3b-ad7d-42fc-a8b8-9d6447acb858",
   "metadata": {},
   "outputs": [
    {
     "data": {
      "text/html": [
       "<div>\n",
       "<style scoped>\n",
       "    .dataframe tbody tr th:only-of-type {\n",
       "        vertical-align: middle;\n",
       "    }\n",
       "\n",
       "    .dataframe tbody tr th {\n",
       "        vertical-align: top;\n",
       "    }\n",
       "\n",
       "    .dataframe thead th {\n",
       "        text-align: right;\n",
       "    }\n",
       "</style>\n",
       "<table border=\"1\" class=\"dataframe\">\n",
       "  <thead>\n",
       "    <tr style=\"text-align: right;\">\n",
       "      <th></th>\n",
       "      <th>sex</th>\n",
       "      <th>score</th>\n",
       "    </tr>\n",
       "  </thead>\n",
       "  <tbody>\n",
       "    <tr>\n",
       "      <th>0</th>\n",
       "      <td>M</td>\n",
       "      <td>5.0</td>\n",
       "    </tr>\n",
       "    <tr>\n",
       "      <th>1</th>\n",
       "      <td>F</td>\n",
       "      <td>4.0</td>\n",
       "    </tr>\n",
       "    <tr>\n",
       "      <th>3</th>\n",
       "      <td>M</td>\n",
       "      <td>4.0</td>\n",
       "    </tr>\n",
       "  </tbody>\n",
       "</table>\n",
       "</div>"
      ],
      "text/plain": [
       "  sex  score\n",
       "0   M    5.0\n",
       "1   F    4.0\n",
       "3   M    4.0"
      ]
     },
     "execution_count": 92,
     "metadata": {},
     "output_type": "execute_result"
    }
   ],
   "source": [
    "df_f"
   ]
  },
  {
   "cell_type": "code",
   "execution_count": 93,
   "id": "df1be23d-4aae-45bb-85c6-9ad8f2bbed6c",
   "metadata": {},
   "outputs": [],
   "source": [
    "df_f1 = df.dropna()"
   ]
  },
  {
   "cell_type": "code",
   "execution_count": 94,
   "id": "7f9b487a-ffd4-4106-afc4-4da0e19da74f",
   "metadata": {},
   "outputs": [
    {
     "data": {
      "text/html": [
       "<div>\n",
       "<style scoped>\n",
       "    .dataframe tbody tr th:only-of-type {\n",
       "        vertical-align: middle;\n",
       "    }\n",
       "\n",
       "    .dataframe tbody tr th {\n",
       "        vertical-align: top;\n",
       "    }\n",
       "\n",
       "    .dataframe thead th {\n",
       "        text-align: right;\n",
       "    }\n",
       "</style>\n",
       "<table border=\"1\" class=\"dataframe\">\n",
       "  <thead>\n",
       "    <tr style=\"text-align: right;\">\n",
       "      <th></th>\n",
       "      <th>sex</th>\n",
       "      <th>score</th>\n",
       "    </tr>\n",
       "  </thead>\n",
       "  <tbody>\n",
       "    <tr>\n",
       "      <th>0</th>\n",
       "      <td>M</td>\n",
       "      <td>5.0</td>\n",
       "    </tr>\n",
       "    <tr>\n",
       "      <th>1</th>\n",
       "      <td>F</td>\n",
       "      <td>4.0</td>\n",
       "    </tr>\n",
       "    <tr>\n",
       "      <th>3</th>\n",
       "      <td>M</td>\n",
       "      <td>4.0</td>\n",
       "    </tr>\n",
       "  </tbody>\n",
       "</table>\n",
       "</div>"
      ],
      "text/plain": [
       "  sex  score\n",
       "0   M    5.0\n",
       "1   F    4.0\n",
       "3   M    4.0"
      ]
     },
     "execution_count": 94,
     "metadata": {},
     "output_type": "execute_result"
    }
   ],
   "source": [
    "df_f1"
   ]
  },
  {
   "cell_type": "code",
   "execution_count": 95,
   "id": "54e37dcc-b4ed-4302-a113-bb68ad7d5a86",
   "metadata": {},
   "outputs": [],
   "source": [
    "exam = pd.read_csv('exam.csv')"
   ]
  },
  {
   "cell_type": "code",
   "execution_count": 96,
   "id": "723399d7-d84f-4452-b939-21b59abee377",
   "metadata": {},
   "outputs": [
    {
     "data": {
      "text/html": [
       "<div>\n",
       "<style scoped>\n",
       "    .dataframe tbody tr th:only-of-type {\n",
       "        vertical-align: middle;\n",
       "    }\n",
       "\n",
       "    .dataframe tbody tr th {\n",
       "        vertical-align: top;\n",
       "    }\n",
       "\n",
       "    .dataframe thead th {\n",
       "        text-align: right;\n",
       "    }\n",
       "</style>\n",
       "<table border=\"1\" class=\"dataframe\">\n",
       "  <thead>\n",
       "    <tr style=\"text-align: right;\">\n",
       "      <th></th>\n",
       "      <th>id</th>\n",
       "      <th>nclass</th>\n",
       "      <th>math</th>\n",
       "      <th>english</th>\n",
       "      <th>science</th>\n",
       "    </tr>\n",
       "  </thead>\n",
       "  <tbody>\n",
       "    <tr>\n",
       "      <th>0</th>\n",
       "      <td>1</td>\n",
       "      <td>1</td>\n",
       "      <td>50</td>\n",
       "      <td>98</td>\n",
       "      <td>50</td>\n",
       "    </tr>\n",
       "    <tr>\n",
       "      <th>1</th>\n",
       "      <td>2</td>\n",
       "      <td>1</td>\n",
       "      <td>60</td>\n",
       "      <td>97</td>\n",
       "      <td>60</td>\n",
       "    </tr>\n",
       "    <tr>\n",
       "      <th>2</th>\n",
       "      <td>3</td>\n",
       "      <td>1</td>\n",
       "      <td>45</td>\n",
       "      <td>86</td>\n",
       "      <td>78</td>\n",
       "    </tr>\n",
       "    <tr>\n",
       "      <th>3</th>\n",
       "      <td>4</td>\n",
       "      <td>1</td>\n",
       "      <td>30</td>\n",
       "      <td>98</td>\n",
       "      <td>58</td>\n",
       "    </tr>\n",
       "    <tr>\n",
       "      <th>4</th>\n",
       "      <td>5</td>\n",
       "      <td>2</td>\n",
       "      <td>25</td>\n",
       "      <td>80</td>\n",
       "      <td>65</td>\n",
       "    </tr>\n",
       "    <tr>\n",
       "      <th>5</th>\n",
       "      <td>6</td>\n",
       "      <td>2</td>\n",
       "      <td>50</td>\n",
       "      <td>89</td>\n",
       "      <td>98</td>\n",
       "    </tr>\n",
       "    <tr>\n",
       "      <th>6</th>\n",
       "      <td>7</td>\n",
       "      <td>2</td>\n",
       "      <td>80</td>\n",
       "      <td>90</td>\n",
       "      <td>45</td>\n",
       "    </tr>\n",
       "    <tr>\n",
       "      <th>7</th>\n",
       "      <td>8</td>\n",
       "      <td>2</td>\n",
       "      <td>90</td>\n",
       "      <td>78</td>\n",
       "      <td>25</td>\n",
       "    </tr>\n",
       "    <tr>\n",
       "      <th>8</th>\n",
       "      <td>9</td>\n",
       "      <td>3</td>\n",
       "      <td>20</td>\n",
       "      <td>98</td>\n",
       "      <td>15</td>\n",
       "    </tr>\n",
       "    <tr>\n",
       "      <th>9</th>\n",
       "      <td>10</td>\n",
       "      <td>3</td>\n",
       "      <td>50</td>\n",
       "      <td>98</td>\n",
       "      <td>45</td>\n",
       "    </tr>\n",
       "    <tr>\n",
       "      <th>10</th>\n",
       "      <td>11</td>\n",
       "      <td>3</td>\n",
       "      <td>65</td>\n",
       "      <td>65</td>\n",
       "      <td>65</td>\n",
       "    </tr>\n",
       "    <tr>\n",
       "      <th>11</th>\n",
       "      <td>12</td>\n",
       "      <td>3</td>\n",
       "      <td>45</td>\n",
       "      <td>85</td>\n",
       "      <td>32</td>\n",
       "    </tr>\n",
       "    <tr>\n",
       "      <th>12</th>\n",
       "      <td>13</td>\n",
       "      <td>4</td>\n",
       "      <td>46</td>\n",
       "      <td>98</td>\n",
       "      <td>65</td>\n",
       "    </tr>\n",
       "    <tr>\n",
       "      <th>13</th>\n",
       "      <td>14</td>\n",
       "      <td>4</td>\n",
       "      <td>48</td>\n",
       "      <td>87</td>\n",
       "      <td>12</td>\n",
       "    </tr>\n",
       "    <tr>\n",
       "      <th>14</th>\n",
       "      <td>15</td>\n",
       "      <td>4</td>\n",
       "      <td>75</td>\n",
       "      <td>56</td>\n",
       "      <td>78</td>\n",
       "    </tr>\n",
       "    <tr>\n",
       "      <th>15</th>\n",
       "      <td>16</td>\n",
       "      <td>4</td>\n",
       "      <td>58</td>\n",
       "      <td>98</td>\n",
       "      <td>65</td>\n",
       "    </tr>\n",
       "    <tr>\n",
       "      <th>16</th>\n",
       "      <td>17</td>\n",
       "      <td>5</td>\n",
       "      <td>65</td>\n",
       "      <td>68</td>\n",
       "      <td>98</td>\n",
       "    </tr>\n",
       "    <tr>\n",
       "      <th>17</th>\n",
       "      <td>18</td>\n",
       "      <td>5</td>\n",
       "      <td>80</td>\n",
       "      <td>78</td>\n",
       "      <td>90</td>\n",
       "    </tr>\n",
       "    <tr>\n",
       "      <th>18</th>\n",
       "      <td>19</td>\n",
       "      <td>5</td>\n",
       "      <td>89</td>\n",
       "      <td>68</td>\n",
       "      <td>87</td>\n",
       "    </tr>\n",
       "    <tr>\n",
       "      <th>19</th>\n",
       "      <td>20</td>\n",
       "      <td>5</td>\n",
       "      <td>78</td>\n",
       "      <td>83</td>\n",
       "      <td>58</td>\n",
       "    </tr>\n",
       "  </tbody>\n",
       "</table>\n",
       "</div>"
      ],
      "text/plain": [
       "    id  nclass  math  english  science\n",
       "0    1       1    50       98       50\n",
       "1    2       1    60       97       60\n",
       "2    3       1    45       86       78\n",
       "3    4       1    30       98       58\n",
       "4    5       2    25       80       65\n",
       "5    6       2    50       89       98\n",
       "6    7       2    80       90       45\n",
       "7    8       2    90       78       25\n",
       "8    9       3    20       98       15\n",
       "9   10       3    50       98       45\n",
       "10  11       3    65       65       65\n",
       "11  12       3    45       85       32\n",
       "12  13       4    46       98       65\n",
       "13  14       4    48       87       12\n",
       "14  15       4    75       56       78\n",
       "15  16       4    58       98       65\n",
       "16  17       5    65       68       98\n",
       "17  18       5    80       78       90\n",
       "18  19       5    89       68       87\n",
       "19  20       5    78       83       58"
      ]
     },
     "execution_count": 96,
     "metadata": {},
     "output_type": "execute_result"
    }
   ],
   "source": [
    "exam"
   ]
  },
  {
   "cell_type": "code",
   "execution_count": 97,
   "id": "c5f3db79-49f2-4142-ac79-22484fb57605",
   "metadata": {},
   "outputs": [],
   "source": [
    "exam.loc[[2,7,14],['math']] = np.nan"
   ]
  },
  {
   "cell_type": "code",
   "execution_count": 98,
   "id": "74e93c40-09c8-4762-9122-28c31b01f3f0",
   "metadata": {},
   "outputs": [
    {
     "data": {
      "text/html": [
       "<div>\n",
       "<style scoped>\n",
       "    .dataframe tbody tr th:only-of-type {\n",
       "        vertical-align: middle;\n",
       "    }\n",
       "\n",
       "    .dataframe tbody tr th {\n",
       "        vertical-align: top;\n",
       "    }\n",
       "\n",
       "    .dataframe thead th {\n",
       "        text-align: right;\n",
       "    }\n",
       "</style>\n",
       "<table border=\"1\" class=\"dataframe\">\n",
       "  <thead>\n",
       "    <tr style=\"text-align: right;\">\n",
       "      <th></th>\n",
       "      <th>id</th>\n",
       "      <th>nclass</th>\n",
       "      <th>math</th>\n",
       "      <th>english</th>\n",
       "      <th>science</th>\n",
       "    </tr>\n",
       "  </thead>\n",
       "  <tbody>\n",
       "    <tr>\n",
       "      <th>0</th>\n",
       "      <td>1</td>\n",
       "      <td>1</td>\n",
       "      <td>50.0</td>\n",
       "      <td>98</td>\n",
       "      <td>50</td>\n",
       "    </tr>\n",
       "    <tr>\n",
       "      <th>1</th>\n",
       "      <td>2</td>\n",
       "      <td>1</td>\n",
       "      <td>60.0</td>\n",
       "      <td>97</td>\n",
       "      <td>60</td>\n",
       "    </tr>\n",
       "    <tr>\n",
       "      <th>2</th>\n",
       "      <td>3</td>\n",
       "      <td>1</td>\n",
       "      <td>NaN</td>\n",
       "      <td>86</td>\n",
       "      <td>78</td>\n",
       "    </tr>\n",
       "    <tr>\n",
       "      <th>3</th>\n",
       "      <td>4</td>\n",
       "      <td>1</td>\n",
       "      <td>30.0</td>\n",
       "      <td>98</td>\n",
       "      <td>58</td>\n",
       "    </tr>\n",
       "    <tr>\n",
       "      <th>4</th>\n",
       "      <td>5</td>\n",
       "      <td>2</td>\n",
       "      <td>25.0</td>\n",
       "      <td>80</td>\n",
       "      <td>65</td>\n",
       "    </tr>\n",
       "    <tr>\n",
       "      <th>5</th>\n",
       "      <td>6</td>\n",
       "      <td>2</td>\n",
       "      <td>50.0</td>\n",
       "      <td>89</td>\n",
       "      <td>98</td>\n",
       "    </tr>\n",
       "    <tr>\n",
       "      <th>6</th>\n",
       "      <td>7</td>\n",
       "      <td>2</td>\n",
       "      <td>80.0</td>\n",
       "      <td>90</td>\n",
       "      <td>45</td>\n",
       "    </tr>\n",
       "    <tr>\n",
       "      <th>7</th>\n",
       "      <td>8</td>\n",
       "      <td>2</td>\n",
       "      <td>NaN</td>\n",
       "      <td>78</td>\n",
       "      <td>25</td>\n",
       "    </tr>\n",
       "    <tr>\n",
       "      <th>8</th>\n",
       "      <td>9</td>\n",
       "      <td>3</td>\n",
       "      <td>20.0</td>\n",
       "      <td>98</td>\n",
       "      <td>15</td>\n",
       "    </tr>\n",
       "    <tr>\n",
       "      <th>9</th>\n",
       "      <td>10</td>\n",
       "      <td>3</td>\n",
       "      <td>50.0</td>\n",
       "      <td>98</td>\n",
       "      <td>45</td>\n",
       "    </tr>\n",
       "    <tr>\n",
       "      <th>10</th>\n",
       "      <td>11</td>\n",
       "      <td>3</td>\n",
       "      <td>65.0</td>\n",
       "      <td>65</td>\n",
       "      <td>65</td>\n",
       "    </tr>\n",
       "    <tr>\n",
       "      <th>11</th>\n",
       "      <td>12</td>\n",
       "      <td>3</td>\n",
       "      <td>45.0</td>\n",
       "      <td>85</td>\n",
       "      <td>32</td>\n",
       "    </tr>\n",
       "    <tr>\n",
       "      <th>12</th>\n",
       "      <td>13</td>\n",
       "      <td>4</td>\n",
       "      <td>46.0</td>\n",
       "      <td>98</td>\n",
       "      <td>65</td>\n",
       "    </tr>\n",
       "    <tr>\n",
       "      <th>13</th>\n",
       "      <td>14</td>\n",
       "      <td>4</td>\n",
       "      <td>48.0</td>\n",
       "      <td>87</td>\n",
       "      <td>12</td>\n",
       "    </tr>\n",
       "    <tr>\n",
       "      <th>14</th>\n",
       "      <td>15</td>\n",
       "      <td>4</td>\n",
       "      <td>NaN</td>\n",
       "      <td>56</td>\n",
       "      <td>78</td>\n",
       "    </tr>\n",
       "    <tr>\n",
       "      <th>15</th>\n",
       "      <td>16</td>\n",
       "      <td>4</td>\n",
       "      <td>58.0</td>\n",
       "      <td>98</td>\n",
       "      <td>65</td>\n",
       "    </tr>\n",
       "    <tr>\n",
       "      <th>16</th>\n",
       "      <td>17</td>\n",
       "      <td>5</td>\n",
       "      <td>65.0</td>\n",
       "      <td>68</td>\n",
       "      <td>98</td>\n",
       "    </tr>\n",
       "    <tr>\n",
       "      <th>17</th>\n",
       "      <td>18</td>\n",
       "      <td>5</td>\n",
       "      <td>80.0</td>\n",
       "      <td>78</td>\n",
       "      <td>90</td>\n",
       "    </tr>\n",
       "    <tr>\n",
       "      <th>18</th>\n",
       "      <td>19</td>\n",
       "      <td>5</td>\n",
       "      <td>89.0</td>\n",
       "      <td>68</td>\n",
       "      <td>87</td>\n",
       "    </tr>\n",
       "    <tr>\n",
       "      <th>19</th>\n",
       "      <td>20</td>\n",
       "      <td>5</td>\n",
       "      <td>78.0</td>\n",
       "      <td>83</td>\n",
       "      <td>58</td>\n",
       "    </tr>\n",
       "  </tbody>\n",
       "</table>\n",
       "</div>"
      ],
      "text/plain": [
       "    id  nclass  math  english  science\n",
       "0    1       1  50.0       98       50\n",
       "1    2       1  60.0       97       60\n",
       "2    3       1   NaN       86       78\n",
       "3    4       1  30.0       98       58\n",
       "4    5       2  25.0       80       65\n",
       "5    6       2  50.0       89       98\n",
       "6    7       2  80.0       90       45\n",
       "7    8       2   NaN       78       25\n",
       "8    9       3  20.0       98       15\n",
       "9   10       3  50.0       98       45\n",
       "10  11       3  65.0       65       65\n",
       "11  12       3  45.0       85       32\n",
       "12  13       4  46.0       98       65\n",
       "13  14       4  48.0       87       12\n",
       "14  15       4   NaN       56       78\n",
       "15  16       4  58.0       98       65\n",
       "16  17       5  65.0       68       98\n",
       "17  18       5  80.0       78       90\n",
       "18  19       5  89.0       68       87\n",
       "19  20       5  78.0       83       58"
      ]
     },
     "execution_count": 98,
     "metadata": {},
     "output_type": "execute_result"
    }
   ],
   "source": [
    "exam"
   ]
  },
  {
   "cell_type": "raw",
   "id": "9623e5b5-7a6b-4d4f-98a8-64357653177a",
   "metadata": {},
   "source": [
    "p.185 혼자서 해보기"
   ]
  },
  {
   "cell_type": "code",
   "execution_count": 100,
   "id": "49afbde2-b5b0-41eb-b160-a6a800e55269",
   "metadata": {},
   "outputs": [],
   "source": [
    "mpg = pd.read_csv('Data/mpg.csv')"
   ]
  },
  {
   "cell_type": "code",
   "execution_count": 101,
   "id": "1063b988-c655-4f0c-ab3d-67cebd75a03a",
   "metadata": {},
   "outputs": [
    {
     "data": {
      "text/html": [
       "<div>\n",
       "<style scoped>\n",
       "    .dataframe tbody tr th:only-of-type {\n",
       "        vertical-align: middle;\n",
       "    }\n",
       "\n",
       "    .dataframe tbody tr th {\n",
       "        vertical-align: top;\n",
       "    }\n",
       "\n",
       "    .dataframe thead th {\n",
       "        text-align: right;\n",
       "    }\n",
       "</style>\n",
       "<table border=\"1\" class=\"dataframe\">\n",
       "  <thead>\n",
       "    <tr style=\"text-align: right;\">\n",
       "      <th></th>\n",
       "      <th>manufacturer</th>\n",
       "      <th>model</th>\n",
       "      <th>displ</th>\n",
       "      <th>year</th>\n",
       "      <th>cyl</th>\n",
       "      <th>trans</th>\n",
       "      <th>drv</th>\n",
       "      <th>cty</th>\n",
       "      <th>hwy</th>\n",
       "      <th>fl</th>\n",
       "      <th>category</th>\n",
       "    </tr>\n",
       "  </thead>\n",
       "  <tbody>\n",
       "    <tr>\n",
       "      <th>0</th>\n",
       "      <td>audi</td>\n",
       "      <td>a4</td>\n",
       "      <td>1.8</td>\n",
       "      <td>1999</td>\n",
       "      <td>4</td>\n",
       "      <td>auto(l5)</td>\n",
       "      <td>f</td>\n",
       "      <td>18</td>\n",
       "      <td>29</td>\n",
       "      <td>p</td>\n",
       "      <td>compact</td>\n",
       "    </tr>\n",
       "    <tr>\n",
       "      <th>1</th>\n",
       "      <td>audi</td>\n",
       "      <td>a4</td>\n",
       "      <td>1.8</td>\n",
       "      <td>1999</td>\n",
       "      <td>4</td>\n",
       "      <td>manual(m5)</td>\n",
       "      <td>f</td>\n",
       "      <td>21</td>\n",
       "      <td>29</td>\n",
       "      <td>p</td>\n",
       "      <td>compact</td>\n",
       "    </tr>\n",
       "    <tr>\n",
       "      <th>2</th>\n",
       "      <td>audi</td>\n",
       "      <td>a4</td>\n",
       "      <td>2.0</td>\n",
       "      <td>2008</td>\n",
       "      <td>4</td>\n",
       "      <td>manual(m6)</td>\n",
       "      <td>f</td>\n",
       "      <td>20</td>\n",
       "      <td>31</td>\n",
       "      <td>p</td>\n",
       "      <td>compact</td>\n",
       "    </tr>\n",
       "    <tr>\n",
       "      <th>3</th>\n",
       "      <td>audi</td>\n",
       "      <td>a4</td>\n",
       "      <td>2.0</td>\n",
       "      <td>2008</td>\n",
       "      <td>4</td>\n",
       "      <td>auto(av)</td>\n",
       "      <td>f</td>\n",
       "      <td>21</td>\n",
       "      <td>30</td>\n",
       "      <td>p</td>\n",
       "      <td>compact</td>\n",
       "    </tr>\n",
       "    <tr>\n",
       "      <th>4</th>\n",
       "      <td>audi</td>\n",
       "      <td>a4</td>\n",
       "      <td>2.8</td>\n",
       "      <td>1999</td>\n",
       "      <td>6</td>\n",
       "      <td>auto(l5)</td>\n",
       "      <td>f</td>\n",
       "      <td>16</td>\n",
       "      <td>26</td>\n",
       "      <td>p</td>\n",
       "      <td>compact</td>\n",
       "    </tr>\n",
       "    <tr>\n",
       "      <th>...</th>\n",
       "      <td>...</td>\n",
       "      <td>...</td>\n",
       "      <td>...</td>\n",
       "      <td>...</td>\n",
       "      <td>...</td>\n",
       "      <td>...</td>\n",
       "      <td>...</td>\n",
       "      <td>...</td>\n",
       "      <td>...</td>\n",
       "      <td>...</td>\n",
       "      <td>...</td>\n",
       "    </tr>\n",
       "    <tr>\n",
       "      <th>229</th>\n",
       "      <td>volkswagen</td>\n",
       "      <td>passat</td>\n",
       "      <td>2.0</td>\n",
       "      <td>2008</td>\n",
       "      <td>4</td>\n",
       "      <td>auto(s6)</td>\n",
       "      <td>f</td>\n",
       "      <td>19</td>\n",
       "      <td>28</td>\n",
       "      <td>p</td>\n",
       "      <td>midsize</td>\n",
       "    </tr>\n",
       "    <tr>\n",
       "      <th>230</th>\n",
       "      <td>volkswagen</td>\n",
       "      <td>passat</td>\n",
       "      <td>2.0</td>\n",
       "      <td>2008</td>\n",
       "      <td>4</td>\n",
       "      <td>manual(m6)</td>\n",
       "      <td>f</td>\n",
       "      <td>21</td>\n",
       "      <td>29</td>\n",
       "      <td>p</td>\n",
       "      <td>midsize</td>\n",
       "    </tr>\n",
       "    <tr>\n",
       "      <th>231</th>\n",
       "      <td>volkswagen</td>\n",
       "      <td>passat</td>\n",
       "      <td>2.8</td>\n",
       "      <td>1999</td>\n",
       "      <td>6</td>\n",
       "      <td>auto(l5)</td>\n",
       "      <td>f</td>\n",
       "      <td>16</td>\n",
       "      <td>26</td>\n",
       "      <td>p</td>\n",
       "      <td>midsize</td>\n",
       "    </tr>\n",
       "    <tr>\n",
       "      <th>232</th>\n",
       "      <td>volkswagen</td>\n",
       "      <td>passat</td>\n",
       "      <td>2.8</td>\n",
       "      <td>1999</td>\n",
       "      <td>6</td>\n",
       "      <td>manual(m5)</td>\n",
       "      <td>f</td>\n",
       "      <td>18</td>\n",
       "      <td>26</td>\n",
       "      <td>p</td>\n",
       "      <td>midsize</td>\n",
       "    </tr>\n",
       "    <tr>\n",
       "      <th>233</th>\n",
       "      <td>volkswagen</td>\n",
       "      <td>passat</td>\n",
       "      <td>3.6</td>\n",
       "      <td>2008</td>\n",
       "      <td>6</td>\n",
       "      <td>auto(s6)</td>\n",
       "      <td>f</td>\n",
       "      <td>17</td>\n",
       "      <td>26</td>\n",
       "      <td>p</td>\n",
       "      <td>midsize</td>\n",
       "    </tr>\n",
       "  </tbody>\n",
       "</table>\n",
       "<p>234 rows × 11 columns</p>\n",
       "</div>"
      ],
      "text/plain": [
       "    manufacturer   model  displ  year  cyl       trans drv  cty  hwy fl  \\\n",
       "0           audi      a4    1.8  1999    4    auto(l5)   f   18   29  p   \n",
       "1           audi      a4    1.8  1999    4  manual(m5)   f   21   29  p   \n",
       "2           audi      a4    2.0  2008    4  manual(m6)   f   20   31  p   \n",
       "3           audi      a4    2.0  2008    4    auto(av)   f   21   30  p   \n",
       "4           audi      a4    2.8  1999    6    auto(l5)   f   16   26  p   \n",
       "..           ...     ...    ...   ...  ...         ...  ..  ...  ... ..   \n",
       "229   volkswagen  passat    2.0  2008    4    auto(s6)   f   19   28  p   \n",
       "230   volkswagen  passat    2.0  2008    4  manual(m6)   f   21   29  p   \n",
       "231   volkswagen  passat    2.8  1999    6    auto(l5)   f   16   26  p   \n",
       "232   volkswagen  passat    2.8  1999    6  manual(m5)   f   18   26  p   \n",
       "233   volkswagen  passat    3.6  2008    6    auto(s6)   f   17   26  p   \n",
       "\n",
       "    category  \n",
       "0    compact  \n",
       "1    compact  \n",
       "2    compact  \n",
       "3    compact  \n",
       "4    compact  \n",
       "..       ...  \n",
       "229  midsize  \n",
       "230  midsize  \n",
       "231  midsize  \n",
       "232  midsize  \n",
       "233  midsize  \n",
       "\n",
       "[234 rows x 11 columns]"
      ]
     },
     "execution_count": 101,
     "metadata": {},
     "output_type": "execute_result"
    }
   ],
   "source": [
    "mpg"
   ]
  },
  {
   "cell_type": "code",
   "execution_count": 102,
   "id": "dbb76074-d8f7-4738-99af-ac28c180db77",
   "metadata": {},
   "outputs": [],
   "source": [
    "mpg.loc[[64, 123, 130, 152, 211], \"hwy\"] = np.nan"
   ]
  },
  {
   "cell_type": "code",
   "execution_count": 103,
   "id": "f6028c54-41c0-4b51-bc26-8acdf3c53a64",
   "metadata": {},
   "outputs": [],
   "source": [
    "#Q1"
   ]
  },
  {
   "cell_type": "code",
   "execution_count": 107,
   "id": "136b7315-ee3f-4455-91d6-4dba210a24d4",
   "metadata": {},
   "outputs": [
    {
     "data": {
      "text/plain": [
       "manufacturer    0\n",
       "model           0\n",
       "displ           0\n",
       "year            0\n",
       "cyl             0\n",
       "trans           0\n",
       "drv             0\n",
       "cty             0\n",
       "hwy             5\n",
       "fl              0\n",
       "category        0\n",
       "dtype: int64"
      ]
     },
     "execution_count": 107,
     "metadata": {},
     "output_type": "execute_result"
    }
   ],
   "source": [
    "mpg.isnull().sum()"
   ]
  },
  {
   "cell_type": "code",
   "execution_count": 126,
   "id": "9f9d887a-e0b4-4564-b0d8-3146c1e492af",
   "metadata": {},
   "outputs": [
    {
     "data": {
      "text/plain": [
       "drv\n",
       "4    19.242424\n",
       "f    28.200000\n",
       "r    21.000000\n",
       "Name: hwy, dtype: float64"
      ]
     },
     "execution_count": 126,
     "metadata": {},
     "output_type": "execute_result"
    }
   ],
   "source": [
    "mpg.dropna(subset = ['hwy']).groupby('drv')['hwy'].mean()"
   ]
  },
  {
   "cell_type": "code",
   "execution_count": 128,
   "id": "e97d0dc4-4f72-4845-85e1-5f7a3c32e9d1",
   "metadata": {},
   "outputs": [
    {
     "data": {
      "text/plain": [
       "pandas.core.series.Series"
      ]
     },
     "execution_count": 128,
     "metadata": {},
     "output_type": "execute_result"
    }
   ],
   "source": [
    "type(mpg.dropna(subset = ['hwy']).groupby('drv')['hwy'].mean())"
   ]
  },
  {
   "cell_type": "code",
   "execution_count": 154,
   "id": "8b592443-f306-4f08-a06a-12011e5735ac",
   "metadata": {},
   "outputs": [],
   "source": [
    "import pandas as pd\n",
    "import numpy as np"
   ]
  },
  {
   "cell_type": "code",
   "execution_count": 155,
   "id": "44c03283-ee21-45d4-8b21-23f1354c9fd0",
   "metadata": {},
   "outputs": [],
   "source": [
    "mpg1 = mpg.dropna(subset = ['hwy']).groupby('drv')['hwy'].mean()"
   ]
  },
  {
   "cell_type": "code",
   "execution_count": 156,
   "id": "77576687-3d69-4abb-aa7c-6cd52f0f91ae",
   "metadata": {},
   "outputs": [],
   "source": [
    "mpg1 = mpg.assign(drv_hwy = (mpg['hwy']).mean())"
   ]
  },
  {
   "cell_type": "code",
   "execution_count": 157,
   "id": "b7dddb6c-ed58-4f93-9d05-a7cefec37b59",
   "metadata": {
    "tags": []
   },
   "outputs": [
    {
     "data": {
      "text/html": [
       "<div>\n",
       "<style scoped>\n",
       "    .dataframe tbody tr th:only-of-type {\n",
       "        vertical-align: middle;\n",
       "    }\n",
       "\n",
       "    .dataframe tbody tr th {\n",
       "        vertical-align: top;\n",
       "    }\n",
       "\n",
       "    .dataframe thead th {\n",
       "        text-align: right;\n",
       "    }\n",
       "</style>\n",
       "<table border=\"1\" class=\"dataframe\">\n",
       "  <thead>\n",
       "    <tr style=\"text-align: right;\">\n",
       "      <th></th>\n",
       "      <th>manufacturer</th>\n",
       "      <th>model</th>\n",
       "      <th>displ</th>\n",
       "      <th>year</th>\n",
       "      <th>cyl</th>\n",
       "      <th>trans</th>\n",
       "      <th>drv</th>\n",
       "      <th>cty</th>\n",
       "      <th>hwy</th>\n",
       "      <th>fl</th>\n",
       "      <th>category</th>\n",
       "      <th>drv_hwy</th>\n",
       "    </tr>\n",
       "  </thead>\n",
       "  <tbody>\n",
       "    <tr>\n",
       "      <th>0</th>\n",
       "      <td>audi</td>\n",
       "      <td>a4</td>\n",
       "      <td>1.8</td>\n",
       "      <td>1999</td>\n",
       "      <td>4</td>\n",
       "      <td>auto(l5)</td>\n",
       "      <td>f</td>\n",
       "      <td>18</td>\n",
       "      <td>29.0</td>\n",
       "      <td>p</td>\n",
       "      <td>compact</td>\n",
       "      <td>23.541485</td>\n",
       "    </tr>\n",
       "    <tr>\n",
       "      <th>1</th>\n",
       "      <td>audi</td>\n",
       "      <td>a4</td>\n",
       "      <td>1.8</td>\n",
       "      <td>1999</td>\n",
       "      <td>4</td>\n",
       "      <td>manual(m5)</td>\n",
       "      <td>f</td>\n",
       "      <td>21</td>\n",
       "      <td>29.0</td>\n",
       "      <td>p</td>\n",
       "      <td>compact</td>\n",
       "      <td>23.541485</td>\n",
       "    </tr>\n",
       "    <tr>\n",
       "      <th>2</th>\n",
       "      <td>audi</td>\n",
       "      <td>a4</td>\n",
       "      <td>2.0</td>\n",
       "      <td>2008</td>\n",
       "      <td>4</td>\n",
       "      <td>manual(m6)</td>\n",
       "      <td>f</td>\n",
       "      <td>20</td>\n",
       "      <td>31.0</td>\n",
       "      <td>p</td>\n",
       "      <td>compact</td>\n",
       "      <td>23.541485</td>\n",
       "    </tr>\n",
       "    <tr>\n",
       "      <th>3</th>\n",
       "      <td>audi</td>\n",
       "      <td>a4</td>\n",
       "      <td>2.0</td>\n",
       "      <td>2008</td>\n",
       "      <td>4</td>\n",
       "      <td>auto(av)</td>\n",
       "      <td>f</td>\n",
       "      <td>21</td>\n",
       "      <td>30.0</td>\n",
       "      <td>p</td>\n",
       "      <td>compact</td>\n",
       "      <td>23.541485</td>\n",
       "    </tr>\n",
       "    <tr>\n",
       "      <th>4</th>\n",
       "      <td>audi</td>\n",
       "      <td>a4</td>\n",
       "      <td>2.8</td>\n",
       "      <td>1999</td>\n",
       "      <td>6</td>\n",
       "      <td>auto(l5)</td>\n",
       "      <td>f</td>\n",
       "      <td>16</td>\n",
       "      <td>26.0</td>\n",
       "      <td>p</td>\n",
       "      <td>compact</td>\n",
       "      <td>23.541485</td>\n",
       "    </tr>\n",
       "    <tr>\n",
       "      <th>...</th>\n",
       "      <td>...</td>\n",
       "      <td>...</td>\n",
       "      <td>...</td>\n",
       "      <td>...</td>\n",
       "      <td>...</td>\n",
       "      <td>...</td>\n",
       "      <td>...</td>\n",
       "      <td>...</td>\n",
       "      <td>...</td>\n",
       "      <td>...</td>\n",
       "      <td>...</td>\n",
       "      <td>...</td>\n",
       "    </tr>\n",
       "    <tr>\n",
       "      <th>229</th>\n",
       "      <td>volkswagen</td>\n",
       "      <td>passat</td>\n",
       "      <td>2.0</td>\n",
       "      <td>2008</td>\n",
       "      <td>4</td>\n",
       "      <td>auto(s6)</td>\n",
       "      <td>f</td>\n",
       "      <td>19</td>\n",
       "      <td>28.0</td>\n",
       "      <td>p</td>\n",
       "      <td>midsize</td>\n",
       "      <td>23.541485</td>\n",
       "    </tr>\n",
       "    <tr>\n",
       "      <th>230</th>\n",
       "      <td>volkswagen</td>\n",
       "      <td>passat</td>\n",
       "      <td>2.0</td>\n",
       "      <td>2008</td>\n",
       "      <td>4</td>\n",
       "      <td>manual(m6)</td>\n",
       "      <td>f</td>\n",
       "      <td>21</td>\n",
       "      <td>29.0</td>\n",
       "      <td>p</td>\n",
       "      <td>midsize</td>\n",
       "      <td>23.541485</td>\n",
       "    </tr>\n",
       "    <tr>\n",
       "      <th>231</th>\n",
       "      <td>volkswagen</td>\n",
       "      <td>passat</td>\n",
       "      <td>2.8</td>\n",
       "      <td>1999</td>\n",
       "      <td>6</td>\n",
       "      <td>auto(l5)</td>\n",
       "      <td>f</td>\n",
       "      <td>16</td>\n",
       "      <td>26.0</td>\n",
       "      <td>p</td>\n",
       "      <td>midsize</td>\n",
       "      <td>23.541485</td>\n",
       "    </tr>\n",
       "    <tr>\n",
       "      <th>232</th>\n",
       "      <td>volkswagen</td>\n",
       "      <td>passat</td>\n",
       "      <td>2.8</td>\n",
       "      <td>1999</td>\n",
       "      <td>6</td>\n",
       "      <td>manual(m5)</td>\n",
       "      <td>f</td>\n",
       "      <td>18</td>\n",
       "      <td>26.0</td>\n",
       "      <td>p</td>\n",
       "      <td>midsize</td>\n",
       "      <td>23.541485</td>\n",
       "    </tr>\n",
       "    <tr>\n",
       "      <th>233</th>\n",
       "      <td>volkswagen</td>\n",
       "      <td>passat</td>\n",
       "      <td>3.6</td>\n",
       "      <td>2008</td>\n",
       "      <td>6</td>\n",
       "      <td>auto(s6)</td>\n",
       "      <td>f</td>\n",
       "      <td>17</td>\n",
       "      <td>26.0</td>\n",
       "      <td>p</td>\n",
       "      <td>midsize</td>\n",
       "      <td>23.541485</td>\n",
       "    </tr>\n",
       "  </tbody>\n",
       "</table>\n",
       "<p>234 rows × 12 columns</p>\n",
       "</div>"
      ],
      "text/plain": [
       "    manufacturer   model  displ  year  cyl       trans drv  cty   hwy fl  \\\n",
       "0           audi      a4    1.8  1999    4    auto(l5)   f   18  29.0  p   \n",
       "1           audi      a4    1.8  1999    4  manual(m5)   f   21  29.0  p   \n",
       "2           audi      a4    2.0  2008    4  manual(m6)   f   20  31.0  p   \n",
       "3           audi      a4    2.0  2008    4    auto(av)   f   21  30.0  p   \n",
       "4           audi      a4    2.8  1999    6    auto(l5)   f   16  26.0  p   \n",
       "..           ...     ...    ...   ...  ...         ...  ..  ...   ... ..   \n",
       "229   volkswagen  passat    2.0  2008    4    auto(s6)   f   19  28.0  p   \n",
       "230   volkswagen  passat    2.0  2008    4  manual(m6)   f   21  29.0  p   \n",
       "231   volkswagen  passat    2.8  1999    6    auto(l5)   f   16  26.0  p   \n",
       "232   volkswagen  passat    2.8  1999    6  manual(m5)   f   18  26.0  p   \n",
       "233   volkswagen  passat    3.6  2008    6    auto(s6)   f   17  26.0  p   \n",
       "\n",
       "    category    drv_hwy  \n",
       "0    compact  23.541485  \n",
       "1    compact  23.541485  \n",
       "2    compact  23.541485  \n",
       "3    compact  23.541485  \n",
       "4    compact  23.541485  \n",
       "..       ...        ...  \n",
       "229  midsize  23.541485  \n",
       "230  midsize  23.541485  \n",
       "231  midsize  23.541485  \n",
       "232  midsize  23.541485  \n",
       "233  midsize  23.541485  \n",
       "\n",
       "[234 rows x 12 columns]"
      ]
     },
     "execution_count": 157,
     "metadata": {},
     "output_type": "execute_result"
    }
   ],
   "source": [
    "mpg1"
   ]
  },
  {
   "cell_type": "markdown",
   "id": "15fa632e-29be-408b-ba06-46af61fc4586",
   "metadata": {},
   "source": [
    "#### 2)이상치 정제"
   ]
  },
  {
   "cell_type": "code",
   "execution_count": 158,
   "id": "4269c58b-dab2-4c3e-b7c2-5705a9c93562",
   "metadata": {},
   "outputs": [],
   "source": [
    "df = pd.DataFrame({'sex': [1,2,1,3,2,1],\n",
    "                   'score': [5,4,3,4,2,6]})"
   ]
  },
  {
   "cell_type": "code",
   "execution_count": 159,
   "id": "3643d772-f509-4427-8583-4d4be33107d7",
   "metadata": {},
   "outputs": [
    {
     "data": {
      "text/html": [
       "<div>\n",
       "<style scoped>\n",
       "    .dataframe tbody tr th:only-of-type {\n",
       "        vertical-align: middle;\n",
       "    }\n",
       "\n",
       "    .dataframe tbody tr th {\n",
       "        vertical-align: top;\n",
       "    }\n",
       "\n",
       "    .dataframe thead th {\n",
       "        text-align: right;\n",
       "    }\n",
       "</style>\n",
       "<table border=\"1\" class=\"dataframe\">\n",
       "  <thead>\n",
       "    <tr style=\"text-align: right;\">\n",
       "      <th></th>\n",
       "      <th>sex</th>\n",
       "      <th>score</th>\n",
       "    </tr>\n",
       "  </thead>\n",
       "  <tbody>\n",
       "    <tr>\n",
       "      <th>0</th>\n",
       "      <td>1</td>\n",
       "      <td>5</td>\n",
       "    </tr>\n",
       "    <tr>\n",
       "      <th>1</th>\n",
       "      <td>2</td>\n",
       "      <td>4</td>\n",
       "    </tr>\n",
       "    <tr>\n",
       "      <th>2</th>\n",
       "      <td>1</td>\n",
       "      <td>3</td>\n",
       "    </tr>\n",
       "    <tr>\n",
       "      <th>3</th>\n",
       "      <td>3</td>\n",
       "      <td>4</td>\n",
       "    </tr>\n",
       "    <tr>\n",
       "      <th>4</th>\n",
       "      <td>2</td>\n",
       "      <td>2</td>\n",
       "    </tr>\n",
       "    <tr>\n",
       "      <th>5</th>\n",
       "      <td>1</td>\n",
       "      <td>6</td>\n",
       "    </tr>\n",
       "  </tbody>\n",
       "</table>\n",
       "</div>"
      ],
      "text/plain": [
       "   sex  score\n",
       "0    1      5\n",
       "1    2      4\n",
       "2    1      3\n",
       "3    3      4\n",
       "4    2      2\n",
       "5    1      6"
      ]
     },
     "execution_count": 159,
     "metadata": {},
     "output_type": "execute_result"
    }
   ],
   "source": [
    "df"
   ]
  },
  {
   "cell_type": "code",
   "execution_count": 160,
   "id": "d36dabe7-6639-4db3-924f-d0570cc96325",
   "metadata": {},
   "outputs": [
    {
     "data": {
      "text/plain": [
       "1    3\n",
       "2    2\n",
       "3    1\n",
       "Name: sex, dtype: int64"
      ]
     },
     "execution_count": 160,
     "metadata": {},
     "output_type": "execute_result"
    }
   ],
   "source": [
    "df['sex'].value_counts().sort_index()"
   ]
  },
  {
   "cell_type": "code",
   "execution_count": 161,
   "id": "a02dfb99-98d1-4e82-977b-07e60bb5e318",
   "metadata": {},
   "outputs": [],
   "source": [
    "df['sex'] = np.where(df['sex'] == 3, np.nan, df['sex'])"
   ]
  },
  {
   "cell_type": "code",
   "execution_count": 163,
   "id": "41ad1afe-8168-4e32-b413-36903bd1195c",
   "metadata": {},
   "outputs": [],
   "source": [
    "df['score'] = np.where(df['score'] >5, np.nan, df['score'])"
   ]
  },
  {
   "cell_type": "code",
   "execution_count": 164,
   "id": "6f192a53-9e81-4d75-b45e-1592e068e4c8",
   "metadata": {},
   "outputs": [
    {
     "data": {
      "text/html": [
       "<div>\n",
       "<style scoped>\n",
       "    .dataframe tbody tr th:only-of-type {\n",
       "        vertical-align: middle;\n",
       "    }\n",
       "\n",
       "    .dataframe tbody tr th {\n",
       "        vertical-align: top;\n",
       "    }\n",
       "\n",
       "    .dataframe thead th {\n",
       "        text-align: right;\n",
       "    }\n",
       "</style>\n",
       "<table border=\"1\" class=\"dataframe\">\n",
       "  <thead>\n",
       "    <tr style=\"text-align: right;\">\n",
       "      <th></th>\n",
       "      <th>sex</th>\n",
       "      <th>score</th>\n",
       "    </tr>\n",
       "  </thead>\n",
       "  <tbody>\n",
       "    <tr>\n",
       "      <th>0</th>\n",
       "      <td>1.0</td>\n",
       "      <td>5.0</td>\n",
       "    </tr>\n",
       "    <tr>\n",
       "      <th>1</th>\n",
       "      <td>2.0</td>\n",
       "      <td>4.0</td>\n",
       "    </tr>\n",
       "    <tr>\n",
       "      <th>2</th>\n",
       "      <td>1.0</td>\n",
       "      <td>3.0</td>\n",
       "    </tr>\n",
       "    <tr>\n",
       "      <th>3</th>\n",
       "      <td>NaN</td>\n",
       "      <td>4.0</td>\n",
       "    </tr>\n",
       "    <tr>\n",
       "      <th>4</th>\n",
       "      <td>2.0</td>\n",
       "      <td>2.0</td>\n",
       "    </tr>\n",
       "    <tr>\n",
       "      <th>5</th>\n",
       "      <td>1.0</td>\n",
       "      <td>NaN</td>\n",
       "    </tr>\n",
       "  </tbody>\n",
       "</table>\n",
       "</div>"
      ],
      "text/plain": [
       "   sex  score\n",
       "0  1.0    5.0\n",
       "1  2.0    4.0\n",
       "2  1.0    3.0\n",
       "3  NaN    4.0\n",
       "4  2.0    2.0\n",
       "5  1.0    NaN"
      ]
     },
     "execution_count": 164,
     "metadata": {},
     "output_type": "execute_result"
    }
   ],
   "source": [
    "df"
   ]
  },
  {
   "cell_type": "code",
   "execution_count": 165,
   "id": "33b9ec73-793c-44d3-bb82-acb9980a6aa8",
   "metadata": {},
   "outputs": [
    {
     "data": {
      "text/plain": [
       "sex\n",
       "1.0    4.0\n",
       "2.0    3.0\n",
       "Name: score, dtype: float64"
      ]
     },
     "execution_count": 165,
     "metadata": {},
     "output_type": "execute_result"
    }
   ],
   "source": [
    "df.dropna(subset = ['sex', 'score']) \\\n",
    "  .groupby('sex')['score']\\\n",
    "  .mean()"
   ]
  },
  {
   "cell_type": "code",
   "execution_count": 167,
   "id": "2257a462-83ae-4d1e-a015-cddb694b02dc",
   "metadata": {},
   "outputs": [],
   "source": [
    "mpg= pd.read_csv('Data/mpg.csv')"
   ]
  },
  {
   "cell_type": "code",
   "execution_count": 168,
   "id": "cf48eec7-5416-4b4b-aebd-345ca7af5830",
   "metadata": {},
   "outputs": [
    {
     "data": {
      "text/plain": [
       "<AxesSubplot:ylabel='hwy'>"
      ]
     },
     "execution_count": 168,
     "metadata": {},
     "output_type": "execute_result"
    },
    {
     "data": {
      "image/png": "[encoded data removed]",
      "text/plain": [
       "<Figure size 640x480 with 1 Axes>"
      ]
     },
     "metadata": {},
     "output_type": "display_data"
    }
   ],
   "source": [
    "import seaborn as sns\n",
    "sns.boxplot(data = mpg, y= 'hwy')"
   ]
  },
  {
   "cell_type": "raw",
   "id": "d6c5e570-e9b6-45bd-b64a-86b288cb3ebd",
   "metadata": {},
   "source": [
    "p.194 혼자서 해보기"
   ]
  },
  {
   "cell_type": "code",
   "execution_count": 175,
   "id": "4572f7d9-db2d-4fcc-a08c-2b792e92c9ed",
   "metadata": {},
   "outputs": [],
   "source": [
    "mpg= pd.read_csv('Data/mpg.csv')"
   ]
  },
  {
   "cell_type": "code",
   "execution_count": 176,
   "id": "d0135805-e219-474c-b30e-074a44274345",
   "metadata": {},
   "outputs": [],
   "source": [
    "mpg.loc[[9, 13, 57, 92], 'drv'] = 'k'"
   ]
  },
  {
   "cell_type": "code",
   "execution_count": 177,
   "id": "2605b1ac-aa0b-46b0-a5a3-dfc10fe87b39",
   "metadata": {},
   "outputs": [],
   "source": [
    "mpg.loc[[28, 42, 128, 202], 'cty'] = [3, 4, 39, 42]"
   ]
  },
  {
   "cell_type": "code",
   "execution_count": 178,
   "id": "d93bca10-84ca-4161-8ee1-56083a3a0b74",
   "metadata": {},
   "outputs": [],
   "source": [
    "import pandas as pd\n",
    "import numpy as np"
   ]
  },
  {
   "cell_type": "code",
   "execution_count": 184,
   "id": "95168ee6-d4cf-4b52-8321-aa5ea5328a5c",
   "metadata": {},
   "outputs": [
    {
     "data": {
      "text/plain": [
       "4    100\n",
       "f    106\n",
       "k      4\n",
       "r     24\n",
       "Name: drv, dtype: int64"
      ]
     },
     "execution_count": 184,
     "metadata": {},
     "output_type": "execute_result"
    }
   ],
   "source": [
    "mpg['drv'].value_counts().sort_index()"
   ]
  },
  {
   "cell_type": "code",
   "execution_count": 185,
   "id": "1682589a-de12-4e9c-8277-4abdce7ae43e",
   "metadata": {},
   "outputs": [],
   "source": [
    "mpg['drv'] = np.where(mpg['drv'].isin(['4','f','r']), mpg['drv'], np.nan)"
   ]
  },
  {
   "cell_type": "code",
   "execution_count": 187,
   "id": "f4f9c832-2948-4c22-bc95-e5b0f59b9974",
   "metadata": {},
   "outputs": [
    {
     "data": {
      "text/plain": [
       "4    100\n",
       "f    106\n",
       "r     24\n",
       "Name: drv, dtype: int64"
      ]
     },
     "execution_count": 187,
     "metadata": {},
     "output_type": "execute_result"
    }
   ],
   "source": [
    "mpg['drv'].value_counts().sort_index()"
   ]
  },
  {
   "cell_type": "code",
   "execution_count": 189,
   "id": "06c6f810-7a6e-4e3a-94e9-a9dd535f34cf",
   "metadata": {},
   "outputs": [
    {
     "data": {
      "text/plain": [
       "1.0    3\n",
       "2.0    2\n",
       "Name: sex, dtype: int64"
      ]
     },
     "execution_count": 189,
     "metadata": {},
     "output_type": "execute_result"
    }
   ],
   "source": [
    "df['sex'].value_counts(sort = False)"
   ]
  },
  {
   "cell_type": "code",
   "execution_count": null,
   "id": "47f577b1-e28c-4111-9ee1-7c00991a0ddc",
   "metadata": {},
   "outputs": [],
   "source": []
  }
 ],
 "metadata": {
  "kernelspec": {
   "display_name": "Python 3 (ipykernel)",
   "language": "python",
   "name": "python3"
  },
  "language_info": {
   "codemirror_mode": {
    "name": "ipython",
    "version": 3
   },
   "file_extension": ".py",
   "mimetype": "text/x-python",
   "name": "python",
   "nbconvert_exporter": "python",
   "pygments_lexer": "ipython3",
   "version": "3.9.12"
  }
 },
 "nbformat": 4,
 "nbformat_minor": 5
}
