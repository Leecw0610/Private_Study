{
 "cells": [
  {
   "cell_type": "markdown",
   "metadata": {
    "id": "Eixy3e7S6SgR"
   },
   "source": [
    "# 03 머신러닝의 기초를 다집니다"
   ]
  },
  {
   "cell_type": "markdown",
   "metadata": {
    "id": "czUiXf7q6SgT"
   },
   "source": [
    "이 노트북을 주피터 노트북 뷰어(nbviewer.jupyter.org)로 보거나 구글 코랩(colab.research.google.com)에서 실행할 수 있습니다.\n",
    "\n",
    "<table class=\"tfo-notebook-buttons\" align=\"left\">\n",
    "  <td>\n",
    "    <a target=\"_blank\" href=\"https://nbviewer.org/github/rickiepark/do-it-dl/blob/master/Ch03.ipynb\"><img src=\"https://jupyter.org/assets/share.png\" width=\"60\" />주피터 노트북 뷰어로 보기</a>\n",
    "  </td>\n",
    "  <td>\n",
    "    <a target=\"_blank\" href=\"https://colab.research.google.com/github/rickiepark/do-it-dl/blob/master/Ch03.ipynb\"><img src=\"https://www.tensorflow.org/images/colab_logo_32px.png\" />구글 코랩(Colab)에서 실행하기</a>\n",
    "  </td>\n",
    "</table>"
   ]
  },
  {
   "cell_type": "markdown",
   "metadata": {
    "id": "1kmOWJoZ6SgT"
   },
   "source": [
    "## 03-1 선형 회귀에 대해 알아봅니다"
   ]
  },
  {
   "cell_type": "code",
   "execution_count": 1,
   "metadata": {
    "id": "ep8QyjH36SgU"
   },
   "outputs": [],
   "source": [
    "from sklearn.datasets import load_diabetes\n",
    "diabetes = load_diabetes()"
   ]
  },
  {
   "cell_type": "code",
   "execution_count": 2,
   "metadata": {
    "colab": {
     "base_uri": "https://localhost:8080/"
    },
    "id": "LsnosVo96SgU",
    "outputId": "b72749b2-47a8-42f5-8d86-f1a097a2c1d2"
   },
   "outputs": [
    {
     "name": "stdout",
     "output_type": "stream",
     "text": [
      "(442, 10) (442,)\n"
     ]
    }
   ],
   "source": [
    "print(diabetes.data.shape, diabetes.target.shape)"
   ]
  },
  {
   "cell_type": "code",
   "execution_count": 3,
   "metadata": {
    "colab": {
     "base_uri": "https://localhost:8080/"
    },
    "id": "uWgg7AE36SgV",
    "outputId": "3aad0852-a230-450b-db6f-90768dd12ab2"
   },
   "outputs": [
    {
     "data": {
      "text/plain": [
       "array([[ 0.03807591,  0.05068012,  0.06169621,  0.02187235, -0.0442235 ,\n",
       "        -0.03482076, -0.04340085, -0.00259226,  0.01990842, -0.01764613],\n",
       "       [-0.00188202, -0.04464164, -0.05147406, -0.02632783, -0.00844872,\n",
       "        -0.01916334,  0.07441156, -0.03949338, -0.06832974, -0.09220405],\n",
       "       [ 0.08529891,  0.05068012,  0.04445121, -0.00567061, -0.04559945,\n",
       "        -0.03419447, -0.03235593, -0.00259226,  0.00286377, -0.02593034]])"
      ]
     },
     "execution_count": 3,
     "metadata": {},
     "output_type": "execute_result"
    }
   ],
   "source": [
    "diabetes.data[0:3]"
   ]
  },
  {
   "cell_type": "code",
   "execution_count": 4,
   "metadata": {
    "colab": {
     "base_uri": "https://localhost:8080/"
    },
    "id": "y0GPgsNs6SgV",
    "outputId": "b5484e75-4741-442f-ed53-13573fa51bd1"
   },
   "outputs": [
    {
     "data": {
      "text/plain": [
       "array([151.,  75., 141.])"
      ]
     },
     "execution_count": 4,
     "metadata": {},
     "output_type": "execute_result"
    }
   ],
   "source": [
    "diabetes.target[:3]"
   ]
  },
  {
   "cell_type": "code",
   "execution_count": 5,
   "metadata": {
    "id": "MoMgDqdN6SgW"
   },
   "outputs": [],
   "source": [
    "import matplotlib.pyplot as plt"
   ]
  },
  {
   "cell_type": "code",
   "execution_count": 6,
   "metadata": {
    "colab": {
     "base_uri": "https://localhost:8080/",
     "height": 300
    },
    "id": "LSSQRPKJ6SgW",
    "outputId": "9d9fbf9a-4309-4336-9477-6695faf2aad6"
   },
   "outputs": [
    {
     "data": {
      "image/png": "[encoded data removed]",
      "text/plain": [
       "<Figure size 432x288 with 1 Axes>"
      ]
     },
     "metadata": {
      "needs_background": "light"
     },
     "output_type": "display_data"
    }
   ],
   "source": [
    "plt.scatter(diabetes.data[:, 2], diabetes.target)\n",
    "plt.xlabel('x')\n",
    "plt.ylabel('y')\n",
    "plt.show()"
   ]
  },
  {
   "cell_type": "code",
   "execution_count": 7,
   "metadata": {
    "id": "xPDIzjH56SgX"
   },
   "outputs": [],
   "source": [
    "x = diabetes.data[:, 2]\n",
    "y = diabetes.target"
   ]
  },
  {
   "cell_type": "markdown",
   "metadata": {
    "id": "z1ACLG0D6SgX"
   },
   "source": [
    "<퀴즈> 슬라이싱을 사용해 훈련 데이터 x에서 100번째 부터 109번째 까지 샘플을 출력해 보세요. 슬라이싱한 배열의 크기는 얼마인가요?"
   ]
  },
  {
   "cell_type": "code",
   "execution_count": 8,
   "metadata": {
    "colab": {
     "base_uri": "https://localhost:8080/"
    },
    "id": "BSgqDcOn6SgY",
    "outputId": "6c2aff1f-3499-47eb-a702-10449db76e94"
   },
   "outputs": [
    {
     "name": "stdout",
     "output_type": "stream",
     "text": [
      "[-0.06440781  0.01750591 -0.04500719  0.02828403  0.04121778  0.06492964\n",
      " -0.03207344 -0.07626374  0.04984027  0.04552903] (10,)\n"
     ]
    }
   ],
   "source": [
    "x_sample = x[99:109]\n",
    "print(x_sample, x_sample.shape)"
   ]
  },
  {
   "cell_type": "markdown",
   "metadata": {
    "id": "TmQ-3u306SgY"
   },
   "source": [
    "## 03-2 경사 하강법에 대해 알아봅니다"
   ]
  },
  {
   "cell_type": "code",
   "execution_count": 9,
   "metadata": {
    "id": "Hm2LwCit6SgZ"
   },
   "outputs": [],
   "source": [
    "w = 1.0\n",
    "b = 1.0"
   ]
  },
  {
   "cell_type": "code",
   "execution_count": 10,
   "metadata": {
    "colab": {
     "base_uri": "https://localhost:8080/"
    },
    "id": "r9RIsOex6SgZ",
    "outputId": "98ee4d8c-3fad-4b85-b16c-2f77e99f94dc"
   },
   "outputs": [
    {
     "name": "stdout",
     "output_type": "stream",
     "text": [
      "1.0616962065186886\n"
     ]
    }
   ],
   "source": [
    "y_hat = x[0] * w + b\n",
    "print(y_hat)"
   ]
  },
  {
   "cell_type": "code",
   "execution_count": 11,
   "metadata": {
    "colab": {
     "base_uri": "https://localhost:8080/"
    },
    "id": "SChCm2f_6Sga",
    "outputId": "9479b30d-3731-44e8-c5d3-d433edc264e8"
   },
   "outputs": [
    {
     "name": "stdout",
     "output_type": "stream",
     "text": [
      "151.0\n"
     ]
    }
   ],
   "source": [
    "print(y[0])"
   ]
  },
  {
   "cell_type": "code",
   "execution_count": 12,
   "metadata": {
    "colab": {
     "base_uri": "https://localhost:8080/"
    },
    "id": "tdvDmsNl6Sga",
    "outputId": "cd336588-bf5f-4465-d749-740a834391f0"
   },
   "outputs": [
    {
     "name": "stdout",
     "output_type": "stream",
     "text": [
      "1.0678658271705574\n"
     ]
    }
   ],
   "source": [
    "w_inc = w + 0.1\n",
    "y_hat_inc = w_inc * x[0] + b\n",
    "print(y_hat_inc)"
   ]
  },
  {
   "cell_type": "code",
   "execution_count": 13,
   "metadata": {
    "colab": {
     "base_uri": "https://localhost:8080/"
    },
    "id": "uRgRE2_M6Sgb",
    "outputId": "d508f469-ecc1-4fcc-f6e4-f6ba08c71561"
   },
   "outputs": [
    {
     "name": "stdout",
     "output_type": "stream",
     "text": [
      "0.061696206518688734\n"
     ]
    }
   ],
   "source": [
    "w_rate = (y_hat_inc - y_hat) / (w_inc - w)\n",
    "print(w_rate)"
   ]
  },
  {
   "cell_type": "code",
   "execution_count": 14,
   "metadata": {
    "colab": {
     "base_uri": "https://localhost:8080/"
    },
    "id": "ARhq_leX6Sgb",
    "outputId": "74981716-ffab-4d96-9aed-c1d62e27570d"
   },
   "outputs": [
    {
     "name": "stdout",
     "output_type": "stream",
     "text": [
      "1.0616962065186888\n"
     ]
    }
   ],
   "source": [
    "w_new = w + w_rate\n",
    "print(w_new)"
   ]
  },
  {
   "cell_type": "code",
   "execution_count": 15,
   "metadata": {
    "colab": {
     "base_uri": "https://localhost:8080/"
    },
    "id": "qJ4VOtGw6Sgb",
    "outputId": "df836e65-29bc-4fba-f62a-33be1e0b9d06"
   },
   "outputs": [
    {
     "name": "stdout",
     "output_type": "stream",
     "text": [
      "1.1616962065186887\n"
     ]
    }
   ],
   "source": [
    "b_inc = b + 0.1\n",
    "y_hat_inc = x[0] * w + b_inc\n",
    "print(y_hat_inc)"
   ]
  },
  {
   "cell_type": "code",
   "execution_count": 16,
   "metadata": {
    "colab": {
     "base_uri": "https://localhost:8080/"
    },
    "id": "DXNqaGuZ6Sgc",
    "outputId": "a7f464b5-99ea-44db-aa2d-fb437002dc52"
   },
   "outputs": [
    {
     "name": "stdout",
     "output_type": "stream",
     "text": [
      "1.0\n"
     ]
    }
   ],
   "source": [
    "b_rate = (y_hat_inc - y_hat) / (b_inc - b)\n",
    "print(b_rate)"
   ]
  },
  {
   "cell_type": "code",
   "execution_count": 17,
   "metadata": {
    "colab": {
     "base_uri": "https://localhost:8080/"
    },
    "id": "tmfVGKaP6Sgc",
    "outputId": "4ece1631-1f7e-442a-f2b6-e404149f8ccc",
    "scrolled": true
   },
   "outputs": [
    {
     "name": "stdout",
     "output_type": "stream",
     "text": [
      "2.0\n"
     ]
    }
   ],
   "source": [
    "b_new = b + 1\n",
    "print(b_new)"
   ]
  },
  {
   "cell_type": "code",
   "execution_count": 18,
   "metadata": {
    "colab": {
     "base_uri": "https://localhost:8080/"
    },
    "id": "QeZXDDgs6Sgc",
    "outputId": "2daf1eaf-b6ae-4a45-a14d-7c7f9350dbbd",
    "scrolled": true
   },
   "outputs": [
    {
     "name": "stdout",
     "output_type": "stream",
     "text": [
      "10.250624555904514 150.9383037934813\n"
     ]
    }
   ],
   "source": [
    "err = y[0] - y_hat\n",
    "w_new = w + w_rate * err\n",
    "b_new = b + 1 * err\n",
    "print(w_new, b_new)"
   ]
  },
  {
   "cell_type": "code",
   "execution_count": 19,
   "metadata": {
    "colab": {
     "base_uri": "https://localhost:8080/"
    },
    "id": "lLf4i6xH6Sgc",
    "outputId": "14d2b587-a926-4197-c1b7-2cdd46d7fae9"
   },
   "outputs": [
    {
     "name": "stdout",
     "output_type": "stream",
     "text": [
      "14.132317616381767 75.52764127612664\n"
     ]
    }
   ],
   "source": [
    "y_hat = x[1] * w_new + b_new\n",
    "err = y[1] - y_hat\n",
    "w_rate = x[1]\n",
    "w_new = w_new + w_rate * err\n",
    "b_new = b_new + 1 * err\n",
    "print(w_new, b_new)"
   ]
  },
  {
   "cell_type": "code",
   "execution_count": 20,
   "metadata": {
    "colab": {
     "base_uri": "https://localhost:8080/"
    },
    "id": "a507OWTj6Sgd",
    "outputId": "94b9fc99-e5a8-4d91-d9e1-defb411ad23c",
    "scrolled": true
   },
   "outputs": [
    {
     "name": "stdout",
     "output_type": "stream",
     "text": [
      "587.8654539985689 99.40935564531424\n"
     ]
    }
   ],
   "source": [
    "for x_i, y_i in zip(x, y):\n",
    "    y_hat = x_i * w + b\n",
    "    err = y_i - y_hat\n",
    "    w_rate = x_i\n",
    "    w = w + w_rate * err\n",
    "    b = b + 1 * err\n",
    "print(w, b)"
   ]
  },
  {
   "cell_type": "code",
   "execution_count": 21,
   "metadata": {
    "colab": {
     "base_uri": "https://localhost:8080/",
     "height": 300
    },
    "id": "JjlN1y6W6Sgd",
    "outputId": "de4a2336-a529-41d4-f74d-81085e4ce579",
    "scrolled": true
   },
   "outputs": [
    {
     "data": {
      "image/png": "[encoded data removed]",
      "text/plain": [
       "<Figure size 432x288 with 1 Axes>"
      ]
     },
     "metadata": {
      "needs_background": "light"
     },
     "output_type": "display_data"
    }
   ],
   "source": [
    "plt.scatter(x, y)\n",
    "pt1 = (-0.1, -0.1 * w + b)\n",
    "pt2 = (0.15, 0.15 * w + b)\n",
    "plt.plot([pt1[0], pt2[0]], [pt1[1], pt2[1]])\n",
    "plt.xlabel('x')\n",
    "plt.ylabel('y')\n",
    "plt.show()"
   ]
  },
  {
   "cell_type": "code",
   "execution_count": 22,
   "metadata": {
    "colab": {
     "base_uri": "https://localhost:8080/"
    },
    "id": "DRSSCJiD6Sgd",
    "outputId": "2b4a492c-1902-47e4-e5d6-f17682e48309"
   },
   "outputs": [
    {
     "name": "stdout",
     "output_type": "stream",
     "text": [
      "913.5973364345905 123.39414383177204\n"
     ]
    }
   ],
   "source": [
    "for i in range(1, 100):\n",
    "    for x_i, y_i in zip(x, y):\n",
    "        y_hat = x_i * w + b\n",
    "        err = y_i - y_hat\n",
    "        w_rate = x_i\n",
    "        w = w + w_rate * err\n",
    "        b = b + 1 * err\n",
    "print(w, b)"
   ]
  },
  {
   "cell_type": "code",
   "execution_count": 23,
   "metadata": {
    "colab": {
     "base_uri": "https://localhost:8080/",
     "height": 300
    },
    "id": "U6Ha09PJ6Sge",
    "outputId": "260d5899-7505-44f5-e9b8-54a73e2c181e",
    "scrolled": false
   },
   "outputs": [
    {
     "data": {
      "image/png": "[encoded data removed]",
      "text/plain": [
       "<Figure size 432x288 with 1 Axes>"
      ]
     },
     "metadata": {
      "needs_background": "light"
     },
     "output_type": "display_data"
    }
   ],
   "source": [
    "plt.scatter(x, y)\n",
    "pt1 = (-0.1, -0.1 * w + b)\n",
    "pt2 = (0.15, 0.15 * w + b)\n",
    "plt.plot([pt1[0], pt2[0]], [pt1[1], pt2[1]])\n",
    "plt.xlabel('x')\n",
    "plt.ylabel('y')\n",
    "plt.show()"
   ]
  },
  {
   "cell_type": "code",
   "execution_count": 24,
   "metadata": {
    "colab": {
     "base_uri": "https://localhost:8080/"
    },
    "id": "_nATDouZ6Sge",
    "outputId": "dd132774-7ea4-4518-9942-b1e96627efae"
   },
   "outputs": [
    {
     "name": "stdout",
     "output_type": "stream",
     "text": [
      "287.8416643899983\n"
     ]
    }
   ],
   "source": [
    "x_new = 0.18\n",
    "y_pred = x_new * w + b\n",
    "print(y_pred)"
   ]
  },
  {
   "cell_type": "code",
   "execution_count": 25,
   "metadata": {
    "colab": {
     "base_uri": "https://localhost:8080/",
     "height": 300
    },
    "id": "xmSu0SFi6Sge",
    "outputId": "acdcca10-bed3-4ac0-81b8-d4c8bee09292",
    "scrolled": true
   },
   "outputs": [
    {
     "data": {
      "image/png": "[encoded data removed]",
      "text/plain": [
       "<Figure size 432x288 with 1 Axes>"
      ]
     },
     "metadata": {
      "needs_background": "light"
     },
     "output_type": "display_data"
    }
   ],
   "source": [
    "plt.scatter(x, y)\n",
    "plt.scatter(x_new, y_pred)\n",
    "plt.xlabel('x')\n",
    "plt.ylabel('y')\n",
    "plt.show()"
   ]
  },
  {
   "cell_type": "markdown",
   "metadata": {
    "id": "rI_dgx-36Sgf"
   },
   "source": [
    "## 03-4 뉴런을 만들어봅니다"
   ]
  },
  {
   "cell_type": "code",
   "execution_count": 26,
   "metadata": {
    "id": "MQBkMMmG6Sgf"
   },
   "outputs": [],
   "source": [
    "class Neuron:\n",
    "    \n",
    "    def __init__(self):\n",
    "        self.w = 1.0     # 가중치를 초기화합니다\n",
    "        self.b = 1.0     # 절편을 초기화합니다\n",
    "    \n",
    "    def forpass(self, x):\n",
    "        y_hat = x * self.w + self.b       # 직선 방정식을 계산합니다\n",
    "        return y_hat\n",
    "    \n",
    "    def backprop(self, x, err):\n",
    "        w_grad = x * err    # 가중치에 대한 그래디언트를 계산합니다\n",
    "        b_grad = 1 * err    # 절편에 대한 그래디언트를 계산합니다\n",
    "        return w_grad, b_grad\n",
    "\n",
    "    def fit(self, x, y, epochs=100):\n",
    "        for i in range(epochs):           # 에포크만큼 반복합니다\n",
    "            for x_i, y_i in zip(x, y):    # 모든 샘플에 대해 반복합니다\n",
    "                y_hat = self.forpass(x_i) # 정방향 계산\n",
    "                err = -(y_i - y_hat)      # 오차 계산\n",
    "                w_grad, b_grad = self.backprop(x_i, err)  # 역방향 계산\n",
    "                self.w -= w_grad          # 가중치 업데이트\n",
    "                self.b -= b_grad          # 절편 업데이트"
   ]
  },
  {
   "cell_type": "code",
   "execution_count": 27,
   "metadata": {
    "id": "Y6m6-_cv6Sgg"
   },
   "outputs": [],
   "source": [
    "neuron = Neuron()\n",
    "neuron.fit(x, y)"
   ]
  },
  {
   "cell_type": "code",
   "execution_count": 28,
   "metadata": {
    "colab": {
     "base_uri": "https://localhost:8080/",
     "height": 300
    },
    "id": "SEwLEPiQ6Sgh",
    "outputId": "96ba8553-93e3-42fc-db21-cd1af865848e",
    "scrolled": true
   },
   "outputs": [
    {
     "data": {
      "image/png": "[encoded data removed]",
      "text/plain": [
       "<Figure size 432x288 with 1 Axes>"
      ]
     },
     "metadata": {
      "needs_background": "light"
     },
     "output_type": "display_data"
    }
   ],
   "source": [
    "plt.scatter(x, y)\n",
    "pt1 = (-0.1, -0.1 * neuron.w + neuron.b)\n",
    "pt2 = (0.15, 0.15 * neuron.w + neuron.b)\n",
    "plt.plot([pt1[0], pt2[0]], [pt1[1], pt2[1]])\n",
    "plt.xlabel('x')\n",
    "plt.ylabel('y')\n",
    "plt.show()"
   ]
  }
 ],
 "metadata": {
  "colab": {
   "name": "Ch03.ipynb",
   "provenance": []
  },
  "kernelspec": {
   "display_name": "Python 3 (ipykernel)",
   "language": "python",
   "name": "python3"
  },
  "language_info": {
   "codemirror_mode": {
    "name": "ipython",
    "version": 3
   },
   "file_extension": ".py",
   "mimetype": "text/x-python",
   "name": "python",
   "nbconvert_exporter": "python",
   "pygments_lexer": "ipython3",
   "version": "3.7.3"
  }
 },
 "nbformat": 4,
 "nbformat_minor": 1
}
