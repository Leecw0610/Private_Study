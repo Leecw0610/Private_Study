{
 "cells": [
  {
   "cell_type": "code",
   "execution_count": null,
   "id": "ec128e20-0394-4d15-a1b2-28ba2b44cda9",
   "metadata": {},
   "outputs": [],
   "source": [
    "import pandas as pd\n",
    "from sklearn.svm import SVC\n",
    "import numpy as np"
   ]
  },
  {
   "cell_type": "code",
   "execution_count": null,
   "id": "ef7b4226-4d9c-42c3-8894-9e04dcbc177d",
   "metadata": {},
   "outputs": [],
   "source": [
    "data = pd.read_csv('diabetes.csv')"
   ]
  },
  {
   "cell_type": "code",
   "execution_count": null,
   "id": "2f2bb542-d725-4e8d-ba66-f7f989d4494b",
   "metadata": {},
   "outputs": [],
   "source": [
    "data"
   ]
  },
  {
   "cell_type": "code",
   "execution_count": null,
   "id": "3ffe72b4-06b1-4712-9e23-95ea7088c271",
   "metadata": {},
   "outputs": [],
   "source": [
    "data.info()"
   ]
  },
  {
   "cell_type": "code",
   "execution_count": null,
   "id": "9bc39c5e-0edd-46f2-938e-944da25cc0e6",
   "metadata": {},
   "outputs": [],
   "source": [
    "data.describe()"
   ]
  },
  {
   "cell_type": "raw",
   "id": "d89d5c98-2a34-4eec-8a03-a15b35c7d61f",
   "metadata": {},
   "source": [
    "1 Pregnancies 임신 횟수\n",
    "2 Glucose 포도당 부하 검사 수치\n",
    "3 BloodPressure 혈압(mm Hg)\n",
    "4 SkinThickness 팔 삼두근 뒤쪽의 피하지방 측정값(mm)\n",
    "5 Insulin 혈청 인슐린(mu U/ml)\n",
    "6 BMI 체질량지수 (체중(kg) / 키(m)^2)\n",
    "7 DiabetesPedigreeFunction 당뇨 내력 가중치 값\n",
    "8 Age 나이\n",
    "9 Outcome 당뇨 여부\n"
   ]
  },
  {
   "cell_type": "code",
   "execution_count": null,
   "id": "04e2a5d3-b9a8-4b3a-a196-19ccbb953d8e",
   "metadata": {},
   "outputs": [],
   "source": [
    "data['Pregnancies'].value_counts().sort_index()"
   ]
  },
  {
   "cell_type": "code",
   "execution_count": null,
   "id": "a55022dc-c988-479d-96c5-c2d02d39c8e6",
   "metadata": {},
   "outputs": [],
   "source": [
    "col_list = ['Glucose','BloodPressure','SkinThickness','Insulin','BMI']\n",
    "\n",
    "for col in col_list :\n",
    "    data[col] = np.where(data[col]==0 , np.nan, data[col])\n",
    "    "
   ]
  },
  {
   "cell_type": "code",
   "execution_count": null,
   "id": "64eb0a4d-e7b1-4e1d-a921-1cfdec6e6e1a",
   "metadata": {},
   "outputs": [],
   "source": [
    "data"
   ]
  },
  {
   "cell_type": "code",
   "execution_count": null,
   "id": "22f23906-b9b6-46cf-90fe-89ba5dfe6888",
   "metadata": {},
   "outputs": [],
   "source": [
    "data.isnull().sum()"
   ]
  },
  {
   "cell_type": "raw",
   "id": "f3720483-f1ac-4293-b062-443a0f69a3e5",
   "metadata": {},
   "source": [
    "0 / 1 // 2 // 34 // 56 // 789 // 10+"
   ]
  },
  {
   "cell_type": "code",
   "execution_count": null,
   "id": "ed5ef458-a512-4167-8558-32a9256b51e7",
   "metadata": {},
   "outputs": [],
   "source": [
    "def pre_range(p) :\n",
    "    if p == 0 :\n",
    "        return 0\n",
    "    elif p == 1 :\n",
    "        return 1\n",
    "    elif p == 2 :\n",
    "        return 2\n",
    "    elif p == 3 or 4 :\n",
    "        return 3\n",
    "    elif p == 5 or 6 :\n",
    "        return 4\n",
    "    elif p == 7 or 8 or 9 :\n",
    "        return 5\n",
    "    else :\n",
    "        return 6"
   ]
  },
  {
   "cell_type": "code",
   "execution_count": null,
   "id": "8a9bf608-597a-403d-bfae-f43ae86382d9",
   "metadata": {},
   "outputs": [],
   "source": [
    "data['Pregnancies2'] = data['Pregnancies'].apply(pre_range)"
   ]
  },
  {
   "cell_type": "code",
   "execution_count": null,
   "id": "f4ec5ac7-a2d8-448c-8f27-4edbb36d5265",
   "metadata": {},
   "outputs": [],
   "source": [
    "data"
   ]
  },
  {
   "cell_type": "code",
   "execution_count": null,
   "id": "83ecc3a0-2828-4bb3-8d7e-51b7af1f4337",
   "metadata": {},
   "outputs": [],
   "source": [
    "col_list = ['Glucose','BloodPressure','SkinThickness','Insulin','BMI']\n",
    "for col in col_list :\n",
    "    print(data.groupby('Pregnancies2')[col].median)"
   ]
  },
  {
   "cell_type": "code",
   "execution_count": null,
   "id": "e65376d4-baab-4cc4-b3b4-3c24e02e11cd",
   "metadata": {
    "tags": []
   },
   "outputs": [],
   "source": [
    "data.groupby('Pregnancies2')"
   ]
  },
  {
   "cell_type": "code",
   "execution_count": null,
   "id": "73c823e6-7252-42ea-b5f3-d7d5dbfc0aa7",
   "metadata": {},
   "outputs": [],
   "source": [
    "col_list = ['Glucose','BloodPressure','SkinThickness','Insulin','BMI']\n",
    "for col in col_list :\n",
    "    data[col].fillna(data.groupby('Pregnancies2')[col].transform('median'), inplace=True)"
   ]
  },
  {
   "cell_type": "code",
   "execution_count": null,
   "id": "eb5db93d-ac17-4d72-bdfb-819eae951f0a",
   "metadata": {},
   "outputs": [],
   "source": [
    "data"
   ]
  },
  {
   "cell_type": "code",
   "execution_count": null,
   "id": "36781dc5-5485-477a-8141-466d44e2eda5",
   "metadata": {},
   "outputs": [],
   "source": [
    "model=SVC(kernel='sigmoid',C=5, gamma=0.0001)     #모델을 변화시켜서 정확도 변화 확인!!"
   ]
  },
  {
   "cell_type": "code",
   "execution_count": null,
   "id": "30799505-2334-480f-a7a7-4637e9ebe254",
   "metadata": {},
   "outputs": [],
   "source": [
    "x = data.drop('Outcome', axis=1)"
   ]
  },
  {
   "cell_type": "code",
   "execution_count": null,
   "id": "7db9f77b-144d-4186-bb62-538ab4869a10",
   "metadata": {},
   "outputs": [],
   "source": [
    "y = data['Outcome']"
   ]
  },
  {
   "cell_type": "code",
   "execution_count": null,
   "id": "4559d810-dc2d-4ac6-95b8-622c7a73a920",
   "metadata": {},
   "outputs": [],
   "source": [
    "from sklearn.model_selection import train_test_split\n",
    "import warnings\n",
    "warnings.filterwarnings('ignore')"
   ]
  },
  {
   "cell_type": "code",
   "execution_count": null,
   "id": "d544f866-7875-44b7-bbe6-3f5545ae7041",
   "metadata": {},
   "outputs": [],
   "source": [
    "x_train, x_test, y_train, y_test = train_test_split\\\n",
    "(x,y,test_size=0.2, random_state=0, stratify=y)"
   ]
  },
  {
   "cell_type": "code",
   "execution_count": null,
   "id": "650d022a-898b-4b96-90da-1704fd123258",
   "metadata": {},
   "outputs": [],
   "source": [
    "model.fit(x_train, y_train)"
   ]
  },
  {
   "cell_type": "code",
   "execution_count": null,
   "id": "cb066626-da7d-437e-ae37-bc46d56e0e42",
   "metadata": {},
   "outputs": [],
   "source": [
    "model.score(x_train, y_train)"
   ]
  },
  {
   "cell_type": "code",
   "execution_count": null,
   "id": "119de625-2638-451a-af58-b6f5441c57aa",
   "metadata": {},
   "outputs": [],
   "source": [
    "model.score(x_test, y_test)"
   ]
  },
  {
   "cell_type": "code",
   "execution_count": null,
   "id": "2e058981-40e4-497c-96fa-d72542736675",
   "metadata": {},
   "outputs": [],
   "source": []
  },
  {
   "cell_type": "code",
   "execution_count": 1,
   "id": "2df54bfc-9886-41ff-976d-0916097c7451",
   "metadata": {
    "tags": []
   },
   "outputs": [
    {
     "ename": "NameError",
     "evalue": "name 'SVC' is not defined",
     "output_type": "error",
     "traceback": [
      "\u001b[1;31m---------------------------------------------------------------------------\u001b[0m",
      "\u001b[1;31mNameError\u001b[0m                                 Traceback (most recent call last)",
      "Input \u001b[1;32mIn [1]\u001b[0m, in \u001b[0;36m<cell line: 3>\u001b[1;34m()\u001b[0m\n\u001b[0;32m      5\u001b[0m \u001b[38;5;28;01mfor\u001b[39;00m k \u001b[38;5;129;01min\u001b[39;00m ker_name :\n\u001b[0;32m      6\u001b[0m     gamma \u001b[38;5;241m=\u001b[39m \u001b[38;5;241m0.0001\u001b[39m \u001b[38;5;241m*\u001b[39m i\n\u001b[1;32m----> 7\u001b[0m     model \u001b[38;5;241m=\u001b[39m \u001b[43mSVC\u001b[49m(kernel\u001b[38;5;241m=\u001b[39mk , C\u001b[38;5;241m=\u001b[39mc , gamma\u001b[38;5;241m=\u001b[39mgamma)\n\u001b[0;32m      8\u001b[0m     model\u001b[38;5;241m.\u001b[39mfit(x_train,y_train)\n\u001b[0;32m      9\u001b[0m     ret1 \u001b[38;5;241m=\u001b[39m model\u001b[38;5;241m.\u001b[39mscore(x_train, y_train)\n",
      "\u001b[1;31mNameError\u001b[0m: name 'SVC' is not defined"
     ]
    }
   ],
   "source": [
    "final_data=[]\n",
    "ker_name = ['linear','rbf','poly','sigmoid']\n",
    "for c in range(1,5) : \n",
    "    for i in range(1, 10) :\n",
    "        for k in ker_name :\n",
    "            gamma = 0.0001 * i\n",
    "            model = SVC(kernel=k , C=c , gamma=gamma)\n",
    "            model.fit(x_train,y_train)\n",
    "            ret1 = model.score(x_train, y_train)\n",
    "            ret2 = model.score(x_test, y_test)\n",
    "            temp=[]\n",
    "            temp.append(kernel)\n",
    "            temp.append(c)\n",
    "            temp.append(gamma)\n",
    "            temp.append(ret1)\n",
    "            temp.append(ret2)\n",
    "            final_data.append(temp)"
   ]
  },
  {
   "cell_type": "code",
   "execution_count": null,
   "id": "1a609e3b-dcfe-4861-8cc6-6feeaca923e3",
   "metadata": {},
   "outputs": [],
   "source": []
  },
  {
   "cell_type": "code",
   "execution_count": null,
   "id": "31d65fd5-794b-4339-9222-f0205c0885a4",
   "metadata": {},
   "outputs": [],
   "source": [
    "ker_name = ['linear','rbf','poly','sigmoid']\n",
    "for k in ker_name :\n",
    "    print('kernel=',k)\n",
    "\n"
   ]
  },
  {
   "cell_type": "code",
   "execution_count": null,
   "id": "930c1807-90e5-4b86-a380-1f00b331933b",
   "metadata": {},
   "outputs": [],
   "source": []
  },
  {
   "cell_type": "code",
   "execution_count": null,
   "id": "3d70c2ee-8c17-4784-9ae9-581a2a9a000e",
   "metadata": {},
   "outputs": [],
   "source": []
  }
 ],
 "metadata": {
  "kernelspec": {
   "display_name": "Python 3 (ipykernel)",
   "language": "python",
   "name": "python3"
  },
  "language_info": {
   "codemirror_mode": {
    "name": "ipython",
    "version": 3
   },
   "file_extension": ".py",
   "mimetype": "text/x-python",
   "name": "python",
   "nbconvert_exporter": "python",
   "pygments_lexer": "ipython3",
   "version": "3.9.12"
  }
 },
 "nbformat": 4,
 "nbformat_minor": 5
}
