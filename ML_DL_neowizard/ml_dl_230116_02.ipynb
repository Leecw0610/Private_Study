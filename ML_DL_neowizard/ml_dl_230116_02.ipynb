{
 "cells": [
  {
   "cell_type": "markdown",
   "metadata": {},
   "source": [
    "### 04 파이썬 함수 람다"
   ]
  },
  {
   "cell_type": "code",
   "execution_count": 1,
   "metadata": {},
   "outputs": [],
   "source": [
    "def test_lambda(s,t) :\n",
    "    print(\"input1 ==\", s, \", input2 ==\", t)"
   ]
  },
  {
   "cell_type": "code",
   "execution_count": 2,
   "metadata": {},
   "outputs": [],
   "source": [
    "# s = 100\n",
    "# t = 200"
   ]
  },
  {
   "cell_type": "code",
   "execution_count": 3,
   "metadata": {},
   "outputs": [],
   "source": [
    "fx = lambda x, y : test_lambda(s,t)"
   ]
  },
  {
   "cell_type": "code",
   "execution_count": 4,
   "metadata": {},
   "outputs": [
    {
     "ename": "NameError",
     "evalue": "name 's' is not defined",
     "output_type": "error",
     "traceback": [
      "\u001b[1;31m---------------------------------------------------------------------------\u001b[0m",
      "\u001b[1;31mNameError\u001b[0m                                 Traceback (most recent call last)",
      "\u001b[1;32mc:\\Users\\user\\Desktop\\Python\\private_study\\ML_DL_neowizard\\ml_dl_230116_02.ipynb 셀 5\u001b[0m in \u001b[0;36m<cell line: 1>\u001b[1;34m()\u001b[0m\n\u001b[1;32m----> <a href='vscode-notebook-cell:/c%3A/Users/user/Desktop/Python/private_study/ML_DL_neowizard/ml_dl_230116_02.ipynb#W6sZmlsZQ%3D%3D?line=0'>1</a>\u001b[0m fx(\u001b[39m500\u001b[39;49m,\u001b[39m1000\u001b[39;49m)\n",
      "\u001b[1;32mc:\\Users\\user\\Desktop\\Python\\private_study\\ML_DL_neowizard\\ml_dl_230116_02.ipynb 셀 5\u001b[0m in \u001b[0;36m<lambda>\u001b[1;34m(x, y)\u001b[0m\n\u001b[1;32m----> <a href='vscode-notebook-cell:/c%3A/Users/user/Desktop/Python/private_study/ML_DL_neowizard/ml_dl_230116_02.ipynb#W6sZmlsZQ%3D%3D?line=0'>1</a>\u001b[0m fx \u001b[39m=\u001b[39m \u001b[39mlambda\u001b[39;00m x, y : test_lambda(s,t)\n",
      "\u001b[1;31mNameError\u001b[0m: name 's' is not defined"
     ]
    }
   ],
   "source": [
    "fx(500,1000)"
   ]
  },
  {
   "cell_type": "code",
   "execution_count": 9,
   "metadata": {},
   "outputs": [
    {
     "name": "stdout",
     "output_type": "stream",
     "text": [
      "[def] LEE\n",
      "[SameTest]  LEE\n",
      "[def] KIM\n",
      "[SameTest]  KIM\n"
     ]
    }
   ],
   "source": [
    "def print_name(name):\n",
    "    print(\"[def]\",  name)\n",
    "    \n",
    "class SameTest :\n",
    "    def __init__(self) :\n",
    "        pass\n",
    "    \n",
    "    def print_name(self, name) :\n",
    "        print(\"[SameTest] \", name)\n",
    "        \n",
    "    def call_test(self) :\n",
    "        print_name(\"KIM\") # 외부함수 호출\n",
    "        self.print_name(\"KIM\") # 클래스 내부 method 호출\n",
    "\n",
    "obj = SameTest()\n",
    "print_name(\"LEE\")\n",
    "obj.print_name(\"LEE\")\n",
    "obj.call_test()"
   ]
  },
  {
   "cell_type": "code",
   "execution_count": 12,
   "metadata": {},
   "outputs": [],
   "source": [
    "import numpy as np\n",
    "import math"
   ]
  },
  {
   "cell_type": "code",
   "execution_count": 14,
   "metadata": {},
   "outputs": [
    {
     "data": {
      "text/plain": [
       "1.4142135623730951"
      ]
     },
     "execution_count": 14,
     "metadata": {},
     "output_type": "execute_result"
    }
   ],
   "source": [
    "2 **0.5"
   ]
  },
  {
   "cell_type": "code",
   "execution_count": null,
   "metadata": {},
   "outputs": [],
   "source": []
  }
 ],
 "metadata": {
  "kernelspec": {
   "display_name": "base",
   "language": "python",
   "name": "python3"
  },
  "language_info": {
   "codemirror_mode": {
    "name": "ipython",
    "version": 3
   },
   "file_extension": ".py",
   "mimetype": "text/x-python",
   "name": "python",
   "nbconvert_exporter": "python",
   "pygments_lexer": "ipython3",
   "version": "3.9.12 (main, Apr  4 2022, 05:22:27) [MSC v.1916 64 bit (AMD64)]"
  },
  "orig_nbformat": 4,
  "vscode": {
   "interpreter": {
    "hash": "a077222d77dfe082b8f1dd562ad70e458ac2ab76993a0b248ab0476e32e9e8dd"
   }
  }
 },
 "nbformat": 4,
 "nbformat_minor": 2
}
