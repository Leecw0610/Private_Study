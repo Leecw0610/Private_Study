{
 "cells": [
  {
   "attachments": {},
   "cell_type": "markdown",
   "metadata": {},
   "source": [
    "### 26069번"
   ]
  },
  {
   "cell_type": "code",
   "execution_count": null,
   "metadata": {},
   "outputs": [],
   "source": [
    "import sys; input = sys.stdin.readline\n",
    "from collections import defaultdict\n",
    "\n",
    "dance = defaultdict(bool)\n",
    "dance['ChongChong'] = True\n",
    "answer = 1\n",
    "\n",
    "for _ in range(int(input())):\n",
    "    A, B = input().split()\n",
    "    if dance[A]:\n",
    "        if not dance[B]:\n",
    "            dance[B] = True\n",
    "            answer += 1\n",
    "    elif dance[B]:\n",
    "        dance[A] = True\n",
    "        answer += 1\n",
    "\n",
    "print(answer)"
   ]
  },
  {
   "cell_type": "code",
   "execution_count": null,
   "metadata": {},
   "outputs": [],
   "source": []
  },
  {
   "cell_type": "code",
   "execution_count": null,
   "metadata": {},
   "outputs": [],
   "source": []
  },
  {
   "cell_type": "code",
   "execution_count": null,
   "metadata": {},
   "outputs": [],
   "source": []
  }
 ],
 "metadata": {
  "kernelspec": {
   "display_name": "base",
   "language": "python",
   "name": "python3"
  },
  "language_info": {
   "name": "python",
   "version": "3.9.15"
  },
  "orig_nbformat": 4
 },
 "nbformat": 4,
 "nbformat_minor": 2
}
