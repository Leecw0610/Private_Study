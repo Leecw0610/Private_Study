{
 "cells": [
  {
   "cell_type": "markdown",
   "id": "2cb96762-da3a-42d5-895b-2e28c7beec2c",
   "metadata": {},
   "source": [
    "##### 크롤링 복습! 수업때 5문항 다시 해보기"
   ]
  },
  {
   "cell_type": "markdown",
   "id": "87cb93af-a78a-4b0b-b488-c204a993b3b9",
   "metadata": {},
   "source": [
    "## 1. baseball"
   ]
  },
  {
   "cell_type": "raw",
   "id": "fcad42e5-9142-4ac1-a530-f95939d5c5fd",
   "metadata": {},
   "source": [
    "야구전적 사이트에서 '선수명','팀명','AB','H','AVG'를 크롤링하라."
   ]
  },
  {
   "cell_type": "code",
   "execution_count": null,
   "id": "5ca6754f-ca43-4dce-a5d6-517444d7ac97",
   "metadata": {},
   "outputs": [],
   "source": []
  },
  {
   "cell_type": "code",
   "execution_count": null,
   "id": "0e4cbe89-4d4f-4c73-8f3d-b5df2c0ce3d0",
   "metadata": {},
   "outputs": [],
   "source": []
  },
  {
   "cell_type": "code",
   "execution_count": null,
   "id": "f90fdb88-b2e5-4026-9d00-63b121d72a52",
   "metadata": {},
   "outputs": [],
   "source": []
  },
  {
   "cell_type": "markdown",
   "id": "d163eedb-c7f4-42c5-ad32-6c427992e07e",
   "metadata": {},
   "source": [
    "## 2. lotto"
   ]
  },
  {
   "cell_type": "raw",
   "id": "b58de1f7-5946-4e3d-83ef-81d160d0c222",
   "metadata": {},
   "source": [
    "로또복권사이트에서 1등배출점 을 크롤링하라."
   ]
  },
  {
   "cell_type": "code",
   "execution_count": null,
   "id": "9bce6e58-f3ea-4de7-be15-add617d87b69",
   "metadata": {},
   "outputs": [],
   "source": []
  },
  {
   "cell_type": "code",
   "execution_count": null,
   "id": "43dc57f3-69ad-48b7-9074-24025dfceff2",
   "metadata": {},
   "outputs": [],
   "source": []
  },
  {
   "cell_type": "code",
   "execution_count": null,
   "id": "3c842200-0bb5-463d-a1e4-794edd0b9d65",
   "metadata": {},
   "outputs": [],
   "source": []
  },
  {
   "cell_type": "markdown",
   "id": "86f6ec00-0034-454d-b717-c6d81574a762",
   "metadata": {},
   "source": [
    "## 3. 부동산"
   ]
  },
  {
   "cell_type": "raw",
   "id": "43b34bb0-d6de-45be-afc1-d5629f1dfa85",
   "metadata": {},
   "source": [
    "부동산 매매 사이트에서 '건축년도','법정동','보증금액','아파트','월세금액','전용면적','층'을 크롤링하라."
   ]
  },
  {
   "cell_type": "code",
   "execution_count": null,
   "id": "5bef32a5-070d-40d1-aa16-9d48b75bbdc9",
   "metadata": {},
   "outputs": [],
   "source": []
  },
  {
   "cell_type": "code",
   "execution_count": null,
   "id": "fb4f6fde-fd56-4848-b4f9-9aac01177cb5",
   "metadata": {},
   "outputs": [],
   "source": []
  },
  {
   "cell_type": "code",
   "execution_count": null,
   "id": "2982ea94-5107-4f6a-8999-39496cf3697f",
   "metadata": {},
   "outputs": [],
   "source": []
  },
  {
   "cell_type": "code",
   "execution_count": null,
   "id": "fc2ec000-fe2f-4782-bb30-d9efd511a126",
   "metadata": {},
   "outputs": [],
   "source": []
  },
  {
   "cell_type": "markdown",
   "id": "14d4379c-520a-4174-874a-9cc745d8e30c",
   "metadata": {},
   "source": [
    "## 4. 승강기"
   ]
  },
  {
   "cell_type": "raw",
   "id": "166ee735-1599-40de-a007-cb30fc83ea75",
   "metadata": {},
   "source": [
    "주소1, 주소2, 건물명, 승강기번호, 승강기상태, 최종검사일, 적재하중, 제조업체전화번호 가져오기"
   ]
  },
  {
   "cell_type": "code",
   "execution_count": null,
   "id": "e87e58c1-2461-49b1-a7e0-962bdae12cc6",
   "metadata": {},
   "outputs": [],
   "source": []
  },
  {
   "cell_type": "code",
   "execution_count": null,
   "id": "0b07870c-a6c1-40a6-a259-b7119650002a",
   "metadata": {},
   "outputs": [],
   "source": []
  },
  {
   "cell_type": "code",
   "execution_count": null,
   "id": "29ef27ad-a78f-4cfe-983f-2b9d41834c37",
   "metadata": {},
   "outputs": [],
   "source": []
  },
  {
   "cell_type": "markdown",
   "id": "87cb58b9-f99a-4f26-8943-b3fdae000944",
   "metadata": {},
   "source": [
    "## 5. 영화"
   ]
  },
  {
   "cell_type": "raw",
   "id": "13597af4-6059-4e95-977e-bce948b2a176",
   "metadata": {},
   "source": [
    " IMDB 사이트에서 Top Box Office(US)에서\n",
    "\n",
    " Movie , Title, content, score, 4개 영화에서 크롤링~"
   ]
  },
  {
   "cell_type": "code",
   "execution_count": null,
   "id": "b1c5f323-2159-4c98-8be7-724659dd47f3",
   "metadata": {},
   "outputs": [],
   "source": []
  },
  {
   "cell_type": "code",
   "execution_count": null,
   "id": "ce931120-2147-4273-8a8c-7c9067a9bc0f",
   "metadata": {},
   "outputs": [],
   "source": []
  },
  {
   "cell_type": "code",
   "execution_count": null,
   "id": "7133e7b8-0224-4fde-a74f-fc92a273483c",
   "metadata": {},
   "outputs": [],
   "source": []
  }
 ],
 "metadata": {
  "kernelspec": {
   "display_name": "Python 3 (ipykernel)",
   "language": "python",
   "name": "python3"
  },
  "language_info": {
   "codemirror_mode": {
    "name": "ipython",
    "version": 3
   },
   "file_extension": ".py",
   "mimetype": "text/x-python",
   "name": "python",
   "nbconvert_exporter": "python",
   "pygments_lexer": "ipython3",
   "version": "3.9.13"
  }
 },
 "nbformat": 4,
 "nbformat_minor": 5
}
