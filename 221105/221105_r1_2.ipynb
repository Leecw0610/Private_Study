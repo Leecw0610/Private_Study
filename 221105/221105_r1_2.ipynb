{
 "cells": [
  {
   "cell_type": "raw",
   "id": "a9aa3666-4c19-48af-b643-a0849f099886",
   "metadata": {},
   "source": [
    "로또복권사이트에서 1등배출점 을 크롤링하라."
   ]
  },
  {
   "cell_type": "code",
   "execution_count": 1,
   "id": "03b1036c-329e-47f6-9713-4ecaa529d794",
   "metadata": {},
   "outputs": [],
   "source": [
    "import pandas as pd\n",
    "import requests\n",
    "from bs4 import BeautifulSoup"
   ]
  },
  {
   "cell_type": "code",
   "execution_count": 2,
   "id": "b1b8d8f5-cc57-499e-a399-4ff31a326118",
   "metadata": {},
   "outputs": [],
   "source": [
    "url = 'https://dhlottery.co.kr/store.do?method=topStore&pageGubun=L645'"
   ]
  },
  {
   "cell_type": "code",
   "execution_count": 6,
   "id": "4f987737-4b43-4fad-b5d3-c23f560767f0",
   "metadata": {},
   "outputs": [],
   "source": [
    "req = requests.get(url)\n",
    "html = req.text\n",
    "soup = BeautifulSoup(html, 'html.parser')"
   ]
  },
  {
   "cell_type": "code",
   "execution_count": 7,
   "id": "fdcd948c-e845-4adc-b2d2-213731d2c7ab",
   "metadata": {},
   "outputs": [
    {
     "data": {
      "text/plain": [
       "[<td>복권마을</td>]"
      ]
     },
     "execution_count": 7,
     "metadata": {},
     "output_type": "execute_result"
    }
   ],
   "source": [
    "soup.select('#article > div:nth-child(2) > div > div:nth-child(4) > table > tbody > tr:nth-child(1) > td:nth-child(2)')"
   ]
  },
  {
   "cell_type": "code",
   "execution_count": 8,
   "id": "fe91819b-cc81-4f68-8a44-8eb6ab38f66a",
   "metadata": {
    "tags": []
   },
   "outputs": [],
   "source": [
    "name =soup.select('#article > div:nth-child(2) > div > div:nth-child(4) > table > tbody > tr > td:nth-child(2)')"
   ]
  },
  {
   "cell_type": "code",
   "execution_count": 15,
   "id": "217cbb9b-01ed-4823-bf89-0e626522a3b5",
   "metadata": {},
   "outputs": [
    {
     "data": {
      "text/plain": [
       "<td>복권마을</td>"
      ]
     },
     "execution_count": 15,
     "metadata": {},
     "output_type": "execute_result"
    }
   ],
   "source": [
    "name[0]"
   ]
  },
  {
   "cell_type": "code",
   "execution_count": 13,
   "id": "fad3dd3a-61e7-4a4f-98be-1088438908c8",
   "metadata": {},
   "outputs": [],
   "source": [
    "way = soup.select('#article > div:nth-child(2) > div > div:nth-child(4) > table > tbody > tr > td:nth-child(3)')"
   ]
  },
  {
   "cell_type": "code",
   "execution_count": 14,
   "id": "d79f1ab9-648b-4563-88bd-99072b1513d0",
   "metadata": {},
   "outputs": [],
   "source": [
    "where = soup.select('#article > div:nth-child(2) > div > div:nth-child(4) > table > tbody > tr > td:nth-child(4)')"
   ]
  },
  {
   "cell_type": "code",
   "execution_count": 19,
   "id": "b95c7eda-b8b5-4afe-84b5-e6d308cee7af",
   "metadata": {
    "collapsed": true,
    "jupyter": {
     "outputs_hidden": true
    },
    "tags": []
   },
   "outputs": [
    {
     "data": {
      "text/plain": [
       "[<td>서울 구로구 구로동로 72 </td>,\n",
       " <td>서울 송파구 올림픽로 269 잠실역 8번출구 앞 가판</td>,\n",
       " <td>부산 동구 범일로90번길 6-1 1층</td>,\n",
       " <td>인천 남동구 구월남로 212  동원프라자 101호</td>,\n",
       " <td>인천 중구 연안부두로53번길 36 5호</td>,\n",
       " <td>광주 광산구 수등로 253 1층 알리바이</td>,\n",
       " <td>경기 남양주시 진건오남로 112-1 동양할인마트 앞 로또판매점</td>,\n",
       " <td>경기 부천시 소사로794번길 6 </td>,\n",
       " <td>경기 부천시 석천로177번길 11 제이클래스중동 1층 105호</td>,\n",
       " <td>경기 양주시 옥정동로5길 6 </td>,\n",
       " <td>충북 청주시 상당구 단재로 119,(영운동) </td>,\n",
       " <td>충남 천안시 서북구 불당21로 40 501동 지1층 B143호</td>,\n",
       " <td>전북 익산시 동서로61길 41 현대아파트1층108호</td>,\n",
       " <td>전남 나주시 나주로 142 알리바이</td>,\n",
       " <td>전남 나주시 나주로 142 알리바이</td>,\n",
       " <td>제주 서귀포시 상모로 326 </td>]"
      ]
     },
     "execution_count": 19,
     "metadata": {},
     "output_type": "execute_result"
    }
   ],
   "source": [
    "where"
   ]
  },
  {
   "cell_type": "code",
   "execution_count": 20,
   "id": "2e62ef86-edc0-4ff9-872e-2265ccc3f076",
   "metadata": {},
   "outputs": [],
   "source": [
    "data = []\n",
    "for i in range (len(way)):\n",
    "    temp=[]\n",
    "    temp.append(name[i].text)\n",
    "    temp.append(way[i].text.strip())\n",
    "    temp.append(where[i].text)\n",
    "    data.append(temp)"
   ]
  },
  {
   "cell_type": "code",
   "execution_count": 21,
   "id": "9db00c2d-4623-471d-bd16-4e67bd8cb997",
   "metadata": {
    "collapsed": true,
    "jupyter": {
     "outputs_hidden": true
    },
    "tags": []
   },
   "outputs": [
    {
     "data": {
      "text/plain": [
       "[['복권마을', '반자동', '서울 구로구 구로동로 72 '],\n",
       " ['잠실매점', '자동', '서울 송파구 올림픽로 269 잠실역 8번출구 앞 가판'],\n",
       " ['당첨로또', '자동', '부산 동구 범일로90번길 6-1 1층'],\n",
       " ['위너로또', '자동', '인천 남동구 구월남로 212  동원프라자 101호'],\n",
       " ['라이프마트', '자동', '인천 중구 연안부두로53번길 36 5호'],\n",
       " ['알리바이', '자동', '광주 광산구 수등로 253 1층 알리바이'],\n",
       " ['토큰박스', '자동', '경기 남양주시 진건오남로 112-1 동양할인마트 앞 로또판매점'],\n",
       " ['은미복권방', '자동', '경기 부천시 소사로794번길 6 '],\n",
       " ['로또대박', '자동', '경기 부천시 석천로177번길 11 제이클래스중동 1층 105호'],\n",
       " ['대박명당', '자동', '경기 양주시 옥정동로5길 6 '],\n",
       " ['행운복권방', '자동', '충북 청주시 상당구 단재로 119,(영운동) '],\n",
       " ['신불당로또', '자동', '충남 천안시 서북구 불당21로 40 501동 지1층 B143호'],\n",
       " ['현대장미슈퍼', '자동', '전북 익산시 동서로61길 41 현대아파트1층108호'],\n",
       " ['알리바이(나주점)', '자동', '전남 나주시 나주로 142 알리바이'],\n",
       " ['알리바이(나주점)', '자동', '전남 나주시 나주로 142 알리바이'],\n",
       " ['복권방', '자동', '제주 서귀포시 상모로 326 ']]"
      ]
     },
     "execution_count": 21,
     "metadata": {},
     "output_type": "execute_result"
    }
   ],
   "source": [
    "data"
   ]
  },
  {
   "cell_type": "code",
   "execution_count": 22,
   "id": "af7c92a0-db5c-4751-b99c-54bfa37b221a",
   "metadata": {},
   "outputs": [],
   "source": [
    "df = pd.DataFrame(data, columns=['상호명','구분','소재지'])"
   ]
  },
  {
   "cell_type": "code",
   "execution_count": 23,
   "id": "917881d0-b5dc-4312-9ebe-002f4987157c",
   "metadata": {
    "collapsed": true,
    "jupyter": {
     "outputs_hidden": true
    },
    "tags": []
   },
   "outputs": [
    {
     "data": {
      "text/html": [
       "<div>\n",
       "<style scoped>\n",
       "    .dataframe tbody tr th:only-of-type {\n",
       "        vertical-align: middle;\n",
       "    }\n",
       "\n",
       "    .dataframe tbody tr th {\n",
       "        vertical-align: top;\n",
       "    }\n",
       "\n",
       "    .dataframe thead th {\n",
       "        text-align: right;\n",
       "    }\n",
       "</style>\n",
       "<table border=\"1\" class=\"dataframe\">\n",
       "  <thead>\n",
       "    <tr style=\"text-align: right;\">\n",
       "      <th></th>\n",
       "      <th>상호명</th>\n",
       "      <th>구분</th>\n",
       "      <th>소재지</th>\n",
       "    </tr>\n",
       "  </thead>\n",
       "  <tbody>\n",
       "    <tr>\n",
       "      <th>0</th>\n",
       "      <td>복권마을</td>\n",
       "      <td>반자동</td>\n",
       "      <td>서울 구로구 구로동로 72</td>\n",
       "    </tr>\n",
       "    <tr>\n",
       "      <th>1</th>\n",
       "      <td>잠실매점</td>\n",
       "      <td>자동</td>\n",
       "      <td>서울 송파구 올림픽로 269 잠실역 8번출구 앞 가판</td>\n",
       "    </tr>\n",
       "    <tr>\n",
       "      <th>2</th>\n",
       "      <td>당첨로또</td>\n",
       "      <td>자동</td>\n",
       "      <td>부산 동구 범일로90번길 6-1 1층</td>\n",
       "    </tr>\n",
       "    <tr>\n",
       "      <th>3</th>\n",
       "      <td>위너로또</td>\n",
       "      <td>자동</td>\n",
       "      <td>인천 남동구 구월남로 212  동원프라자 101호</td>\n",
       "    </tr>\n",
       "    <tr>\n",
       "      <th>4</th>\n",
       "      <td>라이프마트</td>\n",
       "      <td>자동</td>\n",
       "      <td>인천 중구 연안부두로53번길 36 5호</td>\n",
       "    </tr>\n",
       "    <tr>\n",
       "      <th>5</th>\n",
       "      <td>알리바이</td>\n",
       "      <td>자동</td>\n",
       "      <td>광주 광산구 수등로 253 1층 알리바이</td>\n",
       "    </tr>\n",
       "    <tr>\n",
       "      <th>6</th>\n",
       "      <td>토큰박스</td>\n",
       "      <td>자동</td>\n",
       "      <td>경기 남양주시 진건오남로 112-1 동양할인마트 앞 로또판매점</td>\n",
       "    </tr>\n",
       "    <tr>\n",
       "      <th>7</th>\n",
       "      <td>은미복권방</td>\n",
       "      <td>자동</td>\n",
       "      <td>경기 부천시 소사로794번길 6</td>\n",
       "    </tr>\n",
       "    <tr>\n",
       "      <th>8</th>\n",
       "      <td>로또대박</td>\n",
       "      <td>자동</td>\n",
       "      <td>경기 부천시 석천로177번길 11 제이클래스중동 1층 105호</td>\n",
       "    </tr>\n",
       "    <tr>\n",
       "      <th>9</th>\n",
       "      <td>대박명당</td>\n",
       "      <td>자동</td>\n",
       "      <td>경기 양주시 옥정동로5길 6</td>\n",
       "    </tr>\n",
       "    <tr>\n",
       "      <th>10</th>\n",
       "      <td>행운복권방</td>\n",
       "      <td>자동</td>\n",
       "      <td>충북 청주시 상당구 단재로 119,(영운동)</td>\n",
       "    </tr>\n",
       "    <tr>\n",
       "      <th>11</th>\n",
       "      <td>신불당로또</td>\n",
       "      <td>자동</td>\n",
       "      <td>충남 천안시 서북구 불당21로 40 501동 지1층 B143호</td>\n",
       "    </tr>\n",
       "    <tr>\n",
       "      <th>12</th>\n",
       "      <td>현대장미슈퍼</td>\n",
       "      <td>자동</td>\n",
       "      <td>전북 익산시 동서로61길 41 현대아파트1층108호</td>\n",
       "    </tr>\n",
       "    <tr>\n",
       "      <th>13</th>\n",
       "      <td>알리바이(나주점)</td>\n",
       "      <td>자동</td>\n",
       "      <td>전남 나주시 나주로 142 알리바이</td>\n",
       "    </tr>\n",
       "    <tr>\n",
       "      <th>14</th>\n",
       "      <td>알리바이(나주점)</td>\n",
       "      <td>자동</td>\n",
       "      <td>전남 나주시 나주로 142 알리바이</td>\n",
       "    </tr>\n",
       "    <tr>\n",
       "      <th>15</th>\n",
       "      <td>복권방</td>\n",
       "      <td>자동</td>\n",
       "      <td>제주 서귀포시 상모로 326</td>\n",
       "    </tr>\n",
       "  </tbody>\n",
       "</table>\n",
       "</div>"
      ],
      "text/plain": [
       "          상호명   구분                                 소재지\n",
       "0        복권마을  반자동                     서울 구로구 구로동로 72 \n",
       "1        잠실매점   자동       서울 송파구 올림픽로 269 잠실역 8번출구 앞 가판\n",
       "2        당첨로또   자동                부산 동구 범일로90번길 6-1 1층\n",
       "3        위너로또   자동         인천 남동구 구월남로 212  동원프라자 101호\n",
       "4       라이프마트   자동               인천 중구 연안부두로53번길 36 5호\n",
       "5        알리바이   자동              광주 광산구 수등로 253 1층 알리바이\n",
       "6        토큰박스   자동  경기 남양주시 진건오남로 112-1 동양할인마트 앞 로또판매점\n",
       "7       은미복권방   자동                  경기 부천시 소사로794번길 6 \n",
       "8        로또대박   자동  경기 부천시 석천로177번길 11 제이클래스중동 1층 105호\n",
       "9        대박명당   자동                    경기 양주시 옥정동로5길 6 \n",
       "10      행운복권방   자동           충북 청주시 상당구 단재로 119,(영운동) \n",
       "11      신불당로또   자동  충남 천안시 서북구 불당21로 40 501동 지1층 B143호\n",
       "12     현대장미슈퍼   자동        전북 익산시 동서로61길 41 현대아파트1층108호\n",
       "13  알리바이(나주점)   자동                 전남 나주시 나주로 142 알리바이\n",
       "14  알리바이(나주점)   자동                 전남 나주시 나주로 142 알리바이\n",
       "15        복권방   자동                    제주 서귀포시 상모로 326 "
      ]
     },
     "execution_count": 23,
     "metadata": {},
     "output_type": "execute_result"
    }
   ],
   "source": [
    "df"
   ]
  },
  {
   "cell_type": "raw",
   "id": "c51d988f-fe6e-48ae-bff1-04a18921d0b3",
   "metadata": {},
   "source": [
    "로또 회차 목록을 추가하고, 1000회부터 1038회까지"
   ]
  },
  {
   "cell_type": "code",
   "execution_count": 27,
   "id": "5e282354-17a6-450b-b93c-efe3e86e0a3f",
   "metadata": {},
   "outputs": [],
   "source": [
    "data = []\n",
    "for i in range (len(way)):\n",
    "    temp=[]\n",
    "    temp.append(name[i].text)\n",
    "    temp.append(way[i].text.strip())\n",
    "    temp.append(where[i].text)\n",
    "    data.append(temp)"
   ]
  },
  {
   "cell_type": "code",
   "execution_count": 24,
   "id": "c1a5541d-456c-42af-8b28-e604380f68c9",
   "metadata": {},
   "outputs": [],
   "source": [
    "data = {'method':'topStore',\n",
    "        'nowPage':'1',\n",
    "        'rankNo':'',\n",
    "        'gameNo':'5133',\n",
    "        'drwNo':'1037',\n",
    "        'schKey':'all',\n",
    "        'schVal':''}"
   ]
  },
  {
   "cell_type": "code",
   "execution_count": 28,
   "id": "8b110d00-366c-4275-ab99-289a1a7bd559",
   "metadata": {},
   "outputs": [],
   "source": [
    "data.append(1)"
   ]
  },
  {
   "cell_type": "code",
   "execution_count": 29,
   "id": "ee7f21d4-7c2e-4d7d-9e29-395b98357b5a",
   "metadata": {
    "collapsed": true,
    "jupyter": {
     "outputs_hidden": true
    },
    "tags": []
   },
   "outputs": [
    {
     "data": {
      "text/plain": [
       "[['복권마을', '반자동', '서울 구로구 구로동로 72 '],\n",
       " ['잠실매점', '자동', '서울 송파구 올림픽로 269 잠실역 8번출구 앞 가판'],\n",
       " ['당첨로또', '자동', '부산 동구 범일로90번길 6-1 1층'],\n",
       " ['위너로또', '자동', '인천 남동구 구월남로 212  동원프라자 101호'],\n",
       " ['라이프마트', '자동', '인천 중구 연안부두로53번길 36 5호'],\n",
       " ['알리바이', '자동', '광주 광산구 수등로 253 1층 알리바이'],\n",
       " ['토큰박스', '자동', '경기 남양주시 진건오남로 112-1 동양할인마트 앞 로또판매점'],\n",
       " ['은미복권방', '자동', '경기 부천시 소사로794번길 6 '],\n",
       " ['로또대박', '자동', '경기 부천시 석천로177번길 11 제이클래스중동 1층 105호'],\n",
       " ['대박명당', '자동', '경기 양주시 옥정동로5길 6 '],\n",
       " ['행운복권방', '자동', '충북 청주시 상당구 단재로 119,(영운동) '],\n",
       " ['신불당로또', '자동', '충남 천안시 서북구 불당21로 40 501동 지1층 B143호'],\n",
       " ['현대장미슈퍼', '자동', '전북 익산시 동서로61길 41 현대아파트1층108호'],\n",
       " ['알리바이(나주점)', '자동', '전남 나주시 나주로 142 알리바이'],\n",
       " ['알리바이(나주점)', '자동', '전남 나주시 나주로 142 알리바이'],\n",
       " ['복권방', '자동', '제주 서귀포시 상모로 326 '],\n",
       " 1]"
      ]
     },
     "execution_count": 29,
     "metadata": {},
     "output_type": "execute_result"
    }
   ],
   "source": [
    "data"
   ]
  },
  {
   "cell_type": "code",
   "execution_count": 36,
   "id": "9af8f717-d7a7-464d-acef-c097acc099f8",
   "metadata": {},
   "outputs": [],
   "source": [
    "all_data = []\n",
    "for n in range (1000,1039) :\n",
    "    data_n = {'method':'topStore',\n",
    "        'nowPage':'1',\n",
    "        'rankNo':'',\n",
    "        'gameNo':'5133',\n",
    "        'drwNo':n,\n",
    "        'schKey':'all',\n",
    "        'schVal':''}\n",
    "    \n",
    "    req = requests.post(url, data= data_n)\n",
    "    html = req.text\n",
    "    soup = BeautifulSoup(html, 'html.parser')\n",
    "    \n",
    "    name =soup.select('#article > div:nth-child(2) > div > div:nth-child(4) > table > tbody > tr > td:nth-child(2)')\n",
    "    way = soup.select('#article > div:nth-child(2) > div > div:nth-child(4) > table > tbody > tr > td:nth-child(3)')\n",
    "    where = soup.select('#article > div:nth-child(2) > div > div:nth-child(4) > table > tbody > tr > td:nth-child(4)')\n",
    "    \n",
    "    for i in range (len(way)):\n",
    "        temp=[]\n",
    "        temp.append(n)\n",
    "        temp.append(name[i].text)\n",
    "        temp.append(way[i].text.strip())\n",
    "        temp.append(where[i].text)\n",
    "        all_data.append(temp)\n",
    "    "
   ]
  },
  {
   "cell_type": "code",
   "execution_count": 37,
   "id": "a9219ccb-c303-41e9-a389-e488846e431e",
   "metadata": {},
   "outputs": [
    {
     "data": {
      "text/plain": [
       "[1000, '행운식품', '자동', '서울 관악구 신원로3길 21 ']"
      ]
     },
     "execution_count": 37,
     "metadata": {},
     "output_type": "execute_result"
    }
   ],
   "source": [
    "all_data[0]"
   ]
  },
  {
   "cell_type": "code",
   "execution_count": 38,
   "id": "9e571a08-e764-4add-99a3-7a8ccbcb9986",
   "metadata": {},
   "outputs": [],
   "source": [
    "lotto = pd.DataFrame(all_data, columns=['회차','상호명','구분','소재지'])"
   ]
  },
  {
   "cell_type": "code",
   "execution_count": 40,
   "id": "4a339786-e8c1-47a1-84f5-dde34cc10b4c",
   "metadata": {},
   "outputs": [
    {
     "data": {
      "text/html": [
       "<div>\n",
       "<style scoped>\n",
       "    .dataframe tbody tr th:only-of-type {\n",
       "        vertical-align: middle;\n",
       "    }\n",
       "\n",
       "    .dataframe tbody tr th {\n",
       "        vertical-align: top;\n",
       "    }\n",
       "\n",
       "    .dataframe thead th {\n",
       "        text-align: right;\n",
       "    }\n",
       "</style>\n",
       "<table border=\"1\" class=\"dataframe\">\n",
       "  <thead>\n",
       "    <tr style=\"text-align: right;\">\n",
       "      <th></th>\n",
       "      <th>회차</th>\n",
       "      <th>상호명</th>\n",
       "      <th>구분</th>\n",
       "      <th>소재지</th>\n",
       "    </tr>\n",
       "  </thead>\n",
       "  <tbody>\n",
       "    <tr>\n",
       "      <th>0</th>\n",
       "      <td>1000</td>\n",
       "      <td>행운식품</td>\n",
       "      <td>자동</td>\n",
       "      <td>서울 관악구 신원로3길 21</td>\n",
       "    </tr>\n",
       "    <tr>\n",
       "      <th>1</th>\n",
       "      <td>1000</td>\n",
       "      <td>로또백화점 홍은점</td>\n",
       "      <td>수동</td>\n",
       "      <td>서울 서대문구 세검정로 99-1 1층 좌측</td>\n",
       "    </tr>\n",
       "    <tr>\n",
       "      <th>2</th>\n",
       "      <td>1000</td>\n",
       "      <td>인터넷 복권판매사이트</td>\n",
       "      <td>수동</td>\n",
       "      <td>동행복권(dhlottery.co.kr)</td>\n",
       "    </tr>\n",
       "    <tr>\n",
       "      <th>3</th>\n",
       "      <td>1000</td>\n",
       "      <td>복권나라</td>\n",
       "      <td>수동</td>\n",
       "      <td>서울 성동구 용답중앙15길 12-1 1층</td>\n",
       "    </tr>\n",
       "    <tr>\n",
       "      <th>4</th>\n",
       "      <td>1000</td>\n",
       "      <td>티에스네트웍스</td>\n",
       "      <td>자동</td>\n",
       "      <td>서울 영등포구 신길로28길  9 상가동 B2층 00006호(신길동, 힐스테이트클래시안)</td>\n",
       "    </tr>\n",
       "    <tr>\n",
       "      <th>...</th>\n",
       "      <td>...</td>\n",
       "      <td>...</td>\n",
       "      <td>...</td>\n",
       "      <td>...</td>\n",
       "    </tr>\n",
       "    <tr>\n",
       "      <th>454</th>\n",
       "      <td>1038</td>\n",
       "      <td>이마트24망상해변점</td>\n",
       "      <td>자동</td>\n",
       "      <td>강원 동해시 동해대로 6270-20 1층 118호, 이마트24망상해변점</td>\n",
       "    </tr>\n",
       "    <tr>\n",
       "      <th>455</th>\n",
       "      <td>1038</td>\n",
       "      <td>NG24</td>\n",
       "      <td>수동</td>\n",
       "      <td>경북 칠곡군 북중리3길 59</td>\n",
       "    </tr>\n",
       "    <tr>\n",
       "      <th>456</th>\n",
       "      <td>1038</td>\n",
       "      <td>천하명당(팔용점)</td>\n",
       "      <td>자동</td>\n",
       "      <td>경남 창원시 의창구 사화로 26</td>\n",
       "    </tr>\n",
       "    <tr>\n",
       "      <th>457</th>\n",
       "      <td>1038</td>\n",
       "      <td>킹로또</td>\n",
       "      <td>수동</td>\n",
       "      <td>제주 제주시 아란4길 85-5 1층</td>\n",
       "    </tr>\n",
       "    <tr>\n",
       "      <th>458</th>\n",
       "      <td>1038</td>\n",
       "      <td>행운복권방</td>\n",
       "      <td>수동</td>\n",
       "      <td>제주 제주시 우정로11길 12</td>\n",
       "    </tr>\n",
       "  </tbody>\n",
       "</table>\n",
       "<p>459 rows × 4 columns</p>\n",
       "</div>"
      ],
      "text/plain": [
       "       회차          상호명  구분                                               소재지\n",
       "0    1000         행운식품  자동                                  서울 관악구 신원로3길 21 \n",
       "1    1000    로또백화점 홍은점  수동                           서울 서대문구 세검정로 99-1 1층 좌측\n",
       "2    1000  인터넷 복권판매사이트  수동                            동행복권(dhlottery.co.kr) \n",
       "3    1000         복권나라  수동                            서울 성동구 용답중앙15길 12-1 1층\n",
       "4    1000      티에스네트웍스  자동  서울 영등포구 신길로28길  9 상가동 B2층 00006호(신길동, 힐스테이트클래시안)\n",
       "..    ...          ...  ..                                               ...\n",
       "454  1038   이마트24망상해변점  자동           강원 동해시 동해대로 6270-20 1층 118호, 이마트24망상해변점\n",
       "455  1038         NG24  수동                                  경북 칠곡군 북중리3길 59 \n",
       "456  1038    천하명당(팔용점)  자동                                경남 창원시 의창구 사화로 26 \n",
       "457  1038          킹로또  수동                               제주 제주시 아란4길 85-5 1층\n",
       "458  1038        행운복권방  수동                                 제주 제주시 우정로11길 12 \n",
       "\n",
       "[459 rows x 4 columns]"
      ]
     },
     "execution_count": 40,
     "metadata": {},
     "output_type": "execute_result"
    }
   ],
   "source": [
    "lotto"
   ]
  },
  {
   "cell_type": "code",
   "execution_count": null,
   "id": "1ff1425f-1973-4225-a2b6-a0d400208c4f",
   "metadata": {},
   "outputs": [],
   "source": []
  }
 ],
 "metadata": {
  "kernelspec": {
   "display_name": "Python 3 (ipykernel)",
   "language": "python",
   "name": "python3"
  },
  "language_info": {
   "codemirror_mode": {
    "name": "ipython",
    "version": 3
   },
   "file_extension": ".py",
   "mimetype": "text/x-python",
   "name": "python",
   "nbconvert_exporter": "python",
   "pygments_lexer": "ipython3",
   "version": "3.9.13"
  }
 },
 "nbformat": 4,
 "nbformat_minor": 5
}
