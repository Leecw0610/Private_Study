{
 "cells": [
  {
   "cell_type": "markdown",
   "metadata": {},
   "source": [
    "### 10163번"
   ]
  },
  {
   "cell_type": "code",
   "execution_count": 1,
   "metadata": {},
   "outputs": [
    {
     "name": "stdout",
     "output_type": "stream",
     "text": [
      "62\n",
      "24\n",
      "0\n",
      "120\n"
     ]
    }
   ],
   "source": [
    "grid = [[0 for _ in range(1001)] for _ in range(1001)]\n",
    "num_of_papers = int(input())\n",
    "\n",
    "for p in range(1, num_of_papers+1):\n",
    "    p_x, p_y, width, height = map(int, input().split())\n",
    "    for y in range(p_y, p_y+height):\n",
    "        grid[y][p_x:(p_x+width)] = [p]*width\n",
    "\n",
    "for p in range(1, num_of_papers+1):\n",
    "    result = 0\n",
    "    for cnt in range(1001):\n",
    "        result += grid[cnt].count(p)\n",
    "    print(result)"
   ]
  },
  {
   "cell_type": "code",
   "execution_count": null,
   "metadata": {},
   "outputs": [],
   "source": []
  },
  {
   "cell_type": "code",
   "execution_count": null,
   "metadata": {},
   "outputs": [],
   "source": []
  }
 ],
 "metadata": {
  "kernelspec": {
   "display_name": "Python 3",
   "language": "python",
   "name": "python3"
  },
  "language_info": {
   "codemirror_mode": {
    "name": "ipython",
    "version": 3
   },
   "file_extension": ".py",
   "mimetype": "text/x-python",
   "name": "python",
   "nbconvert_exporter": "python",
   "pygments_lexer": "ipython3",
   "version": "3.11.1"
  }
 },
 "nbformat": 4,
 "nbformat_minor": 2
}
