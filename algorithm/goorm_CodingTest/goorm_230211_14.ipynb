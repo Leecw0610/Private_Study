{
 "cells": [
  {
   "attachments": {},
   "cell_type": "markdown",
   "metadata": {},
   "source": [
    "##### 31. 양팔저울"
   ]
  },
  {
   "cell_type": "code",
   "execution_count": 2,
   "metadata": {},
   "outputs": [
    {
     "name": "stdout",
     "output_type": "stream",
     "text": [
      "1\n",
      "5\n",
      "7\n"
     ]
    }
   ],
   "source": [
    "k = 3\n",
    "g = [1, 5, 7]\n",
    "\n",
    "lis =[]\n",
    "for i in range(k):\n",
    "    print(g[i])\n",
    "    for i\n",
    "        \n"
   ]
  },
  {
   "cell_type": "code",
   "execution_count": 3,
   "metadata": {},
   "outputs": [
    {
     "name": "stdout",
     "output_type": "stream",
     "text": [
      "2\n"
     ]
    }
   ],
   "source": [
    "def dfs(l,sum) :\n",
    "    global res\n",
    "    if l==n:\n",
    "        if 0<sum<=s:\n",
    "            res.add(sum)\n",
    "\n",
    "    else :\n",
    "        dfs(l+1, sum+g[l])\n",
    "        dfs(l+1, sum-g[l])\n",
    "        dfs(l+1, sum)\n",
    "\n",
    "if __name__=='__main__' :\n",
    "    n=int(input())\n",
    "    g=list(map(int,input().split()))\n",
    "    s=sum(g)\n",
    "    res=set()\n",
    "    dfs(0,0)\n",
    "    print(s-len(res))"
   ]
  },
  {
   "cell_type": "code",
   "execution_count": null,
   "metadata": {},
   "outputs": [],
   "source": []
  }
 ],
 "metadata": {
  "kernelspec": {
   "display_name": "base",
   "language": "python",
   "name": "python3"
  },
  "language_info": {
   "codemirror_mode": {
    "name": "ipython",
    "version": 3
   },
   "file_extension": ".py",
   "mimetype": "text/x-python",
   "name": "python",
   "nbconvert_exporter": "python",
   "pygments_lexer": "ipython3",
   "version": "3.9.15"
  },
  "orig_nbformat": 4,
  "vscode": {
   "interpreter": {
    "hash": "cef5bb54941aca950c93b0ced18fcc5cb49b2d36f6c89d37f011af61e4a6718a"
   }
  }
 },
 "nbformat": 4,
 "nbformat_minor": 2
}
