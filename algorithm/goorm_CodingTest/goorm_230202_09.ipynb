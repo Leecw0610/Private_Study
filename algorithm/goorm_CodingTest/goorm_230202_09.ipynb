{
 "cells": [
  {
   "attachments": {},
   "cell_type": "markdown",
   "metadata": {},
   "source": [
    "##### 19. 막대기"
   ]
  },
  {
   "cell_type": "code",
   "execution_count": 18,
   "metadata": {},
   "outputs": [],
   "source": [
    "stick=[]\n",
    "N = int(input())\n",
    "n = N\n",
    "while n > 0:\n",
    "    stick.append(int(input()))\n",
    "    n -= 1"
   ]
  },
  {
   "cell_type": "code",
   "execution_count": 19,
   "metadata": {},
   "outputs": [
    {
     "name": "stdout",
     "output_type": "stream",
     "text": [
      "5 [5, 4, 3, 2, 1]\n"
     ]
    }
   ],
   "source": [
    "print(N, stick)"
   ]
  },
  {
   "cell_type": "code",
   "execution_count": 20,
   "metadata": {},
   "outputs": [],
   "source": [
    "\n",
    "arr = sorted(list(set(stick)))"
   ]
  },
  {
   "cell_type": "code",
   "execution_count": 21,
   "metadata": {},
   "outputs": [
    {
     "data": {
      "text/plain": [
       "[1, 2, 3, 4, 5]"
      ]
     },
     "execution_count": 21,
     "metadata": {},
     "output_type": "execute_result"
    }
   ],
   "source": [
    "arr"
   ]
  },
  {
   "cell_type": "code",
   "execution_count": 22,
   "metadata": {},
   "outputs": [
    {
     "data": {
      "text/plain": [
       "1"
      ]
     },
     "execution_count": 22,
     "metadata": {},
     "output_type": "execute_result"
    }
   ],
   "source": [
    "stick[-1]"
   ]
  },
  {
   "cell_type": "code",
   "execution_count": 23,
   "metadata": {},
   "outputs": [
    {
     "data": {
      "text/plain": [
       "0"
      ]
     },
     "execution_count": 23,
     "metadata": {},
     "output_type": "execute_result"
    }
   ],
   "source": [
    "arr.index(stick[-1])"
   ]
  },
  {
   "cell_type": "code",
   "execution_count": 24,
   "metadata": {},
   "outputs": [
    {
     "data": {
      "text/plain": [
       "5"
      ]
     },
     "execution_count": 24,
     "metadata": {},
     "output_type": "execute_result"
    }
   ],
   "source": [
    "len(arr) - arr.index(stick[-1]) # 막대기 총 개수\n"
   ]
  },
  {
   "cell_type": "code",
   "execution_count": 25,
   "metadata": {},
   "outputs": [],
   "source": [
    "import sys\n",
    "input = sys.stdin.readline\n",
    "\n",
    "N = int(input())\n",
    "\n",
    "board = []\n",
    "\n",
    "for _ in range(N):\n",
    "    temp = int(input())\n",
    "    board.append(temp)\n",
    "\n",
    "cnt = 1\n",
    "maxNum = board[-1]\n",
    "\n",
    "for i in range(N-1, -1, -1):\n",
    "    if maxNum < board[i-1]:\n",
    "        cnt += 1\n",
    "        maxNum = max(board[i-1], board[i])\n",
    "\n",
    "print(cnt)"
   ]
  },
  {
   "attachments": {},
   "cell_type": "markdown",
   "metadata": {},
   "source": [
    "##### 20. 뱀이 지나간 자리"
   ]
  },
  {
   "cell_type": "code",
   "execution_count": 32,
   "metadata": {},
   "outputs": [
    {
     "name": "stdout",
     "output_type": "stream",
     "text": [
      "#########\n",
      "........#\n",
      "#########\n",
      "#........\n",
      "#########\n",
      "........#\n",
      "#########\n",
      "#........\n",
      "#########\n"
     ]
    }
   ],
   "source": [
    "N, M = 9,9 # 세로, 가로\n",
    "\n",
    "cnt = 0\n",
    "\n",
    "for num in range(1,N+1):\n",
    "    # print(num)\n",
    "    if num % 2 == 1:\n",
    "        print('#'* M)\n",
    "    else :\n",
    "        if cnt % 2 == 0:\n",
    "            print('.'*(M-1)+'#')\n",
    "        else:\n",
    "            print('#'+'.'*(M-1))\n",
    "        cnt += 1\n"
   ]
  },
  {
   "attachments": {},
   "cell_type": "markdown",
   "metadata": {},
   "source": [
    "##### 21. 앵무새 꼬꼬"
   ]
  },
  {
   "cell_type": "code",
   "execution_count": 33,
   "metadata": {},
   "outputs": [],
   "source": [
    "import sys\n",
    "input = sys.stdin.readline\n",
    "\n",
    "N = int(input())\n",
    "board = []\n",
    "checkword = ['a', 'e', 'i', 'o', 'u',\n",
    "             'A', 'E', 'I', 'O', 'U']\n",
    "answer = \"\"\n",
    "\n",
    "for i in range(N):\n",
    "    board.append(input())\n",
    "\n",
    "for j in range(N):\n",
    "    str = board[j]\n",
    "    answer = \"\"\n",
    "    for k in str:\n",
    "        if k in checkword:\n",
    "            answer += k\n",
    "    if len(answer) == 0:\n",
    "        answer = \"???\"\n",
    "    print(answer)\n"
   ]
  },
  {
   "cell_type": "code",
   "execution_count": 1,
   "metadata": {},
   "outputs": [
    {
     "ename": "SyntaxError",
     "evalue": "invalid syntax (2764773792.py, line 2)",
     "output_type": "error",
     "traceback": [
      "\u001b[1;36m  Input \u001b[1;32mIn [1]\u001b[1;36m\u001b[0m\n\u001b[1;33m    Hello, World!\u001b[0m\n\u001b[1;37m                ^\u001b[0m\n\u001b[1;31mSyntaxError\u001b[0m\u001b[1;31m:\u001b[0m invalid syntax\n"
     ]
    }
   ],
   "source": [
    "3\n",
    "Hello, World!\n",
    "I'm your father.\n",
    "What are you doing here?"
   ]
  },
  {
   "cell_type": "code",
   "execution_count": null,
   "metadata": {},
   "outputs": [],
   "source": []
  }
 ],
 "metadata": {
  "kernelspec": {
   "display_name": "base",
   "language": "python",
   "name": "python3"
  },
  "language_info": {
   "codemirror_mode": {
    "name": "ipython",
    "version": 3
   },
   "file_extension": ".py",
   "mimetype": "text/x-python",
   "name": "python",
   "nbconvert_exporter": "python",
   "pygments_lexer": "ipython3",
   "version": "3.9.12"
  },
  "orig_nbformat": 4,
  "vscode": {
   "interpreter": {
    "hash": "a077222d77dfe082b8f1dd562ad70e458ac2ab76993a0b248ab0476e32e9e8dd"
   }
  }
 },
 "nbformat": 4,
 "nbformat_minor": 2
}
