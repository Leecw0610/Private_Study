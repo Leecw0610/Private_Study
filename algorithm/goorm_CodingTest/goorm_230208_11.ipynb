{
 "cells": [
  {
   "cell_type": "markdown",
   "metadata": {},
   "source": [
    "##### 23. 여름의 대삼각형"
   ]
  },
  {
   "cell_type": "code",
   "execution_count": null,
   "metadata": {},
   "outputs": [
    {
     "name": "stdout",
     "output_type": "stream",
     "text": [
      "6.00\n"
     ]
    }
   ],
   "source": [
    "def triangle(a, d, b, e, c, f):\n",
    "    first = (a * e) + (b * f) + (c * d)\n",
    "    second = (d * b) + (e * c) + (f * a)\n",
    "    r = (first - second) * 0.5\n",
    "    if r >= 0:\n",
    "        return round(r, 2)\n",
    "    else:\n",
    "        return r * -1\n",
    "\n",
    "a, d = map(int, input().split())\n",
    "b, e = map(int, input().split())\n",
    "c, f = map(int, input().split())\n",
    "\n",
    "print(f'{triangle(a, d, b, e, c, f):.2f}')\n",
    "\n"
   ]
  },
  {
   "cell_type": "code",
   "execution_count": null,
   "metadata": {},
   "outputs": [],
   "source": []
  },
  {
   "cell_type": "code",
   "execution_count": null,
   "metadata": {},
   "outputs": [],
   "source": []
  },
  {
   "cell_type": "markdown",
   "metadata": {},
   "source": [
    "##### 24. 인공지능 청소기"
   ]
  },
  {
   "cell_type": "code",
   "execution_count": null,
   "metadata": {},
   "outputs": [],
   "source": [
    "a, b, n = -5, -2, 7"
   ]
  },
  {
   "cell_type": "code",
   "execution_count": null,
   "metadata": {},
   "outputs": [],
   "source": [
    "import sys\n",
    "input = sys.stdin.readline\n",
    "\n",
    "board = []\n",
    "N = int(input())\n",
    "for i in range(N):\n",
    "    board.append(list(map(int, input().split(' '))))\n",
    "# print(board)"
   ]
  },
  {
   "cell_type": "code",
   "execution_count": null,
   "metadata": {},
   "outputs": [],
   "source": [
    "N = 4\n",
    "board=[[-5,-2,7],[5,-5,2],[0,5,6],[1,2,7]]"
   ]
  },
  {
   "cell_type": "code",
   "execution_count": null,
   "metadata": {},
   "outputs": [
    {
     "name": "stdout",
     "output_type": "stream",
     "text": [
      "YES\n",
      "NO\n",
      "NO\n",
      "YES\n"
     ]
    }
   ],
   "source": [
    "for i in range(N):\n",
    "    if abs(board[i][0]) + abs(board[i][1]) > board[i][2]:\n",
    "        print(\"NO\")\n",
    "    elif abs(board[i][0]) + abs(board[i][1]) == board[i][2]:\n",
    "        print(\"YES\")\n",
    "    else:\n",
    "        if (abs(board[i][0]) + abs(board[i][1])) % 2 != board[i][2] % 2:\n",
    "            print(\"NO\")\n",
    "        else:\n",
    "            print(\"YES\")"
   ]
  },
  {
   "cell_type": "code",
   "execution_count": null,
   "metadata": {},
   "outputs": [],
   "source": []
  },
  {
   "attachments": {},
   "cell_type": "markdown",
   "metadata": {},
   "source": [
    "##### 25. 파도 센서"
   ]
  },
  {
   "cell_type": "code",
   "execution_count": 3,
   "metadata": {},
   "outputs": [],
   "source": [
    "x, y, r = -9, -2, 10\n",
    "sensor = [[9,-5],[8, 10],[-5,-9],[2,4],[-5,9]]"
   ]
  },
  {
   "cell_type": "code",
   "execution_count": 4,
   "metadata": {},
   "outputs": [
    {
     "data": {
      "text/plain": [
       "18.24828759089466"
      ]
     },
     "execution_count": 4,
     "metadata": {},
     "output_type": "execute_result"
    }
   ],
   "source": [
    "(abs(-9 - 9)**2 + abs(-2 - (-5))**2)**0.5"
   ]
  },
  {
   "cell_type": "code",
   "execution_count": 5,
   "metadata": {},
   "outputs": [
    {
     "name": "stdout",
     "output_type": "stream",
     "text": [
      "[9, -5]\n",
      "[8, 10]\n",
      "[-5, -9]\n",
      "[2, 4]\n",
      "[-5, 9]\n"
     ]
    }
   ],
   "source": [
    "for i in sensor:\n",
    "    # print(i)\n",
    "    (abs(x - i[0])**2 + abs(y - i[1]))**0.5"
   ]
  },
  {
   "cell_type": "code",
   "execution_count": null,
   "metadata": {},
   "outputs": [],
   "source": []
  }
 ],
 "metadata": {
  "kernelspec": {
   "display_name": "base",
   "language": "python",
   "name": "python3"
  },
  "language_info": {
   "codemirror_mode": {
    "name": "ipython",
    "version": 3
   },
   "file_extension": ".py",
   "mimetype": "text/x-python",
   "name": "python",
   "nbconvert_exporter": "python",
   "pygments_lexer": "ipython3",
   "version": "3.9.12"
  },
  "orig_nbformat": 4,
  "vscode": {
   "interpreter": {
    "hash": "a077222d77dfe082b8f1dd562ad70e458ac2ab76993a0b248ab0476e32e9e8dd"
   }
  }
 },
 "nbformat": 4,
 "nbformat_minor": 2
}
