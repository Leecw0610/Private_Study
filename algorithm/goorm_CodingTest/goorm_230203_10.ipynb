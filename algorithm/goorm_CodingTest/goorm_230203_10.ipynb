{
 "cells": [
  {
   "attachments": {},
   "cell_type": "markdown",
   "metadata": {},
   "source": [
    "##### 22. 파손된 램"
   ]
  },
  {
   "cell_type": "code",
   "execution_count": null,
   "metadata": {},
   "outputs": [],
   "source": [
    "N = int(input())\n",
    "input_list = list(map(int, input().split(' ')))"
   ]
  },
  {
   "cell_type": "code",
   "execution_count": null,
   "metadata": {},
   "outputs": [],
   "source": [
    "ram_list = []\n",
    "for i in range(7, 31):\n",
    "    ram_list.append(2**i)"
   ]
  },
  {
   "cell_type": "code",
   "execution_count": null,
   "metadata": {},
   "outputs": [],
   "source": [
    "ram_list"
   ]
  },
  {
   "cell_type": "code",
   "execution_count": null,
   "metadata": {},
   "outputs": [],
   "source": [
    "2**31"
   ]
  },
  {
   "cell_type": "code",
   "execution_count": null,
   "metadata": {},
   "outputs": [],
   "source": [
    "input_list = [256, 274, 512]\n",
    "cnt = 0\n",
    "index_list = []\n",
    "\n",
    "for input in input_list:\n",
    "    if input not in ram_list:\n",
    "        index_list.append(input_list.index(input))\n",
    "        cnt += 1\n",
    "print(cnt)\n",
    "for index in index_list:\n",
    "    print(index + 1, end=' ')"
   ]
  },
  {
   "attachments": {},
   "cell_type": "markdown",
   "metadata": {},
   "source": [
    "##### 23. 여름의 대삼각형"
   ]
  },
  {
   "cell_type": "code",
   "execution_count": 2,
   "metadata": {},
   "outputs": [
    {
     "ename": "ValueError",
     "evalue": "not enough values to unpack (expected 2, got 1)",
     "output_type": "error",
     "traceback": [
      "\u001b[1;31m---------------------------------------------------------------------------\u001b[0m",
      "\u001b[1;31mValueError\u001b[0m                                Traceback (most recent call last)",
      "\u001b[1;32mc:\\Users\\user\\Desktop\\Python\\private_study\\algorithm\\goorm_CodingTest\\goorm_230203_10.ipynb 셀 8\u001b[0m in \u001b[0;36m<cell line: 12>\u001b[1;34m()\u001b[0m\n\u001b[0;32m     <a href='vscode-notebook-cell:/c%3A/Users/user/Desktop/Python/private_study/algorithm/goorm_CodingTest/goorm_230203_10.ipynb#X10sZmlsZQ%3D%3D?line=9'>10</a>\u001b[0m a, d \u001b[39m=\u001b[39m \u001b[39mmap\u001b[39m(\u001b[39mint\u001b[39m, \u001b[39minput\u001b[39m()\u001b[39m.\u001b[39msplit())\n\u001b[0;32m     <a href='vscode-notebook-cell:/c%3A/Users/user/Desktop/Python/private_study/algorithm/goorm_CodingTest/goorm_230203_10.ipynb#X10sZmlsZQ%3D%3D?line=10'>11</a>\u001b[0m b, e \u001b[39m=\u001b[39m \u001b[39mmap\u001b[39m(\u001b[39mint\u001b[39m, \u001b[39minput\u001b[39m()\u001b[39m.\u001b[39msplit())\n\u001b[1;32m---> <a href='vscode-notebook-cell:/c%3A/Users/user/Desktop/Python/private_study/algorithm/goorm_CodingTest/goorm_230203_10.ipynb#X10sZmlsZQ%3D%3D?line=11'>12</a>\u001b[0m c, f \u001b[39m=\u001b[39m \u001b[39mmap\u001b[39m(\u001b[39mint\u001b[39m, \u001b[39minput\u001b[39m()\u001b[39m.\u001b[39msplit())\n\u001b[0;32m     <a href='vscode-notebook-cell:/c%3A/Users/user/Desktop/Python/private_study/algorithm/goorm_CodingTest/goorm_230203_10.ipynb#X10sZmlsZQ%3D%3D?line=12'>13</a>\u001b[0m \u001b[39mprint\u001b[39m(triangle(a, d, b, e, c, f))\n",
      "\u001b[1;31mValueError\u001b[0m: not enough values to unpack (expected 2, got 1)"
     ]
    }
   ],
   "source": [
    "def triangle(a, d, b, e, c, f):\n",
    "    first = (a * e) + (b * f) + (c * d)\n",
    "    second = (d * b) + (e * c) + (f * a)\n",
    "    r = (first - second) * 0.5\n",
    "    if r >= 0:\n",
    "        return round(r, 2)\n",
    "    else:\n",
    "        return r * -1\n",
    "\n",
    "a, d = map(int, input().split())\n",
    "b, e = map(int, input().split())\n",
    "c, f = map(int, input().split())\n",
    "print(triangle(a, d, b, e, c, f))\n",
    "\n"
   ]
  },
  {
   "cell_type": "code",
   "execution_count": null,
   "metadata": {},
   "outputs": [],
   "source": []
  },
  {
   "cell_type": "code",
   "execution_count": null,
   "metadata": {},
   "outputs": [],
   "source": []
  },
  {
   "attachments": {},
   "cell_type": "markdown",
   "metadata": {},
   "source": [
    "##### 24. 인공지능 청소기"
   ]
  },
  {
   "cell_type": "code",
   "execution_count": null,
   "metadata": {},
   "outputs": [],
   "source": []
  },
  {
   "cell_type": "code",
   "execution_count": null,
   "metadata": {},
   "outputs": [],
   "source": []
  },
  {
   "cell_type": "code",
   "execution_count": null,
   "metadata": {},
   "outputs": [],
   "source": []
  }
 ],
 "metadata": {
  "kernelspec": {
   "display_name": "base",
   "language": "python",
   "name": "python3"
  },
  "language_info": {
   "codemirror_mode": {
    "name": "ipython",
    "version": 3
   },
   "file_extension": ".py",
   "mimetype": "text/x-python",
   "name": "python",
   "nbconvert_exporter": "python",
   "pygments_lexer": "ipython3",
   "version": "3.9.12"
  },
  "orig_nbformat": 4,
  "vscode": {
   "interpreter": {
    "hash": "a077222d77dfe082b8f1dd562ad70e458ac2ab76993a0b248ab0476e32e9e8dd"
   }
  }
 },
 "nbformat": 4,
 "nbformat_minor": 2
}
