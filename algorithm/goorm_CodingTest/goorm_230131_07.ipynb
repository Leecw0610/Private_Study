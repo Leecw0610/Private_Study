{
 "cells": [
  {
   "attachments": {},
   "cell_type": "markdown",
   "metadata": {},
   "source": [
    "##### 13. 의좋은 형제"
   ]
  },
  {
   "cell_type": "code",
   "execution_count": 2,
   "metadata": {},
   "outputs": [],
   "source": [
    "N_1 , N_2 = 100, 100"
   ]
  },
  {
   "cell_type": "code",
   "execution_count": 3,
   "metadata": {},
   "outputs": [],
   "source": [
    "N_1, N_2 = map(int, input().split(' '))"
   ]
  },
  {
   "cell_type": "code",
   "execution_count": 5,
   "metadata": {},
   "outputs": [
    {
     "name": "stdout",
     "output_type": "stream",
     "text": [
      "100 100\n"
     ]
    }
   ],
   "source": [
    "print(N_1, N_2)"
   ]
  },
  {
   "cell_type": "code",
   "execution_count": 6,
   "metadata": {},
   "outputs": [],
   "source": [
    "D = int(input())"
   ]
  },
  {
   "cell_type": "code",
   "execution_count": 7,
   "metadata": {},
   "outputs": [
    {
     "name": "stdout",
     "output_type": "stream",
     "text": [
      "4\n"
     ]
    }
   ],
   "source": [
    "print(D)"
   ]
  },
  {
   "cell_type": "code",
   "execution_count": 21,
   "metadata": {},
   "outputs": [
    {
     "name": "stdout",
     "output_type": "stream",
     "text": [
      "1\n",
      "35 135\n"
     ]
    }
   ],
   "source": [
    "N_1, N_2 = 70, 100\n",
    "D = 1\n",
    "food = 0\n",
    "\n",
    "for i in range(1, D+1):\n",
    "    # print(i)\n",
    "    if i % 2 == 1:\n",
    "        if N_1 % 2 == 1:\n",
    "            food = N_1//2 + 1\n",
    "        else:\n",
    "            food = N_1//2\n",
    "\n",
    "        N_2 += food\n",
    "        N_1 -= food\n",
    "        \n",
    "        print(N_1, N_2)\n",
    "\n",
    "    else:\n",
    "        if N_2 % 2 == 1:\n",
    "            food = N_2//2 + 1\n",
    "        else:\n",
    "            food = N_2//2\n",
    "\n",
    "        N_1 += food\n",
    "        N_2 -= food\n",
    "        \n",
    "        print(N_1, N_2)\n"
   ]
  },
  {
   "cell_type": "code",
   "execution_count": 11,
   "metadata": {},
   "outputs": [
    {
     "name": "stdout",
     "output_type": "stream",
     "text": [
      "62 138\n"
     ]
    }
   ],
   "source": [
    "print(N_1, N_2)"
   ]
  },
  {
   "attachments": {},
   "cell_type": "markdown",
   "metadata": {},
   "source": [
    "##### 14. 단어의 개수 세기"
   ]
  },
  {
   "cell_type": "code",
   "execution_count": 31,
   "metadata": {},
   "outputs": [
    {
     "data": {
      "text/plain": [
       "5"
      ]
     },
     "execution_count": 31,
     "metadata": {},
     "output_type": "execute_result"
    }
   ],
   "source": [
    "s = \" goo r m e du\"\n",
    "\n",
    "import re\n",
    "\n",
    "p = re.findall(r'\\w+', s)\n",
    "\n",
    "len(p)"
   ]
  },
  {
   "attachments": {},
   "cell_type": "markdown",
   "metadata": {},
   "source": [
    "##### 15. 헷갈리는 작대기"
   ]
  },
  {
   "cell_type": "code",
   "execution_count": 41,
   "metadata": {},
   "outputs": [
    {
     "name": "stdout",
     "output_type": "stream",
     "text": [
      "3\n",
      "3\n",
      "2\n",
      "1\n"
     ]
    }
   ],
   "source": [
    "from collections import Counter\n",
    "\n",
    "s = '''~]I=-f{UX5%X<]`kQl8?O^UDflq=2`;1LM7a/74([|8qAO<.CJY>i_'\\n*A-q(QWFgBL+}RU(ZITZL:\\0?FWb1+bUeP0/Y%\"1IB\\ '''\n",
    "counter = Counter(s)\n",
    "\n",
    "print(counter[\"1\"])\n",
    "print(counter[\"I\"])\n",
    "print(counter[\"l\"])\n",
    "print(counter[\"|\"])"
   ]
  },
  {
   "cell_type": "code",
   "execution_count": null,
   "metadata": {},
   "outputs": [],
   "source": []
  }
 ],
 "metadata": {
  "kernelspec": {
   "display_name": "base",
   "language": "python",
   "name": "python3"
  },
  "language_info": {
   "codemirror_mode": {
    "name": "ipython",
    "version": 3
   },
   "file_extension": ".py",
   "mimetype": "text/x-python",
   "name": "python",
   "nbconvert_exporter": "python",
   "pygments_lexer": "ipython3",
   "version": "3.9.12"
  },
  "orig_nbformat": 4,
  "vscode": {
   "interpreter": {
    "hash": "a077222d77dfe082b8f1dd562ad70e458ac2ab76993a0b248ab0476e32e9e8dd"
   }
  }
 },
 "nbformat": 4,
 "nbformat_minor": 2
}
