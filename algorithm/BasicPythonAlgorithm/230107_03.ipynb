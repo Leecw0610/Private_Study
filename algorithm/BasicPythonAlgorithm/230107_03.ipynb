{
 "cells": [
  {
   "attachments": {},
   "cell_type": "markdown",
   "metadata": {},
   "source": [
    "### 3강. 알고리즘의 분석과 차수"
   ]
  },
  {
   "attachments": {},
   "cell_type": "markdown",
   "metadata": {},
   "source": [
    "- 알고리즘에 대한 두가지 중요한 질문\n",
    "\n",
    "    - 정확한가? > 모든 입력에 대해서 해답을 찾을 수 있는가? (corr)\n",
    "        >> 정확성 분석\n",
    "    \n",
    "    - 효율적인가? 입력 크기가 커지면 성능이 어떻게 변화하는가? (eff)\n",
    "        >> 효율성 분석\n",
    "            - 시간 복잡도\n",
    "            - 공간 복잡도"
   ]
  },
  {
   "attachments": {},
   "cell_type": "markdown",
   "metadata": {},
   "source": [
    "- 알고리즘의 성능 분석\n",
    "\n",
    "     - 퍼포먼스 측정 : 실행시간을 직접 측정\n",
    "\n",
    "     - 복잡도 분석 : 입력 크기(n)에 따른 단위 연산의 실행 횟수 세기\n",
    "\n",
    "- 복잡도 분석\n",
    "\n",
    "     - 입력 크기 : 문제가 가진 파라미터, 입력 사례의 크기 (n)\n",
    "\n",
    "     - 단위 연산 (Basic operation) ; 몇번 실행하는가?"
   ]
  },
  {
   "attachments": {},
   "cell_type": "markdown",
   "metadata": {},
   "source": [
    "- 입력 사례에 따른 시간 복잡도 분석\n",
    "\n",
    "     - 일정 시간 복잡도 : 입력 사례에 따라 달라지지 않는 경우\n",
    "\n",
    "     - **최악**, 최적, 평균 시간 복잡도 분석 : 입력 사례에 따라 달라지는 경우"
   ]
  },
  {
   "attachments": {},
   "cell_type": "markdown",
   "metadata": {},
   "source": [
    "**차수(Order)** ; 알고리즘의 궁극적인 성능 분류"
   ]
  },
  {
   "attachments": {},
   "cell_type": "markdown",
   "metadata": {},
   "source": [
    "**점근적 표기법**\n",
    "\n",
    "- 빅오(O) : 복잡도 함수의 점근적 상한을 표기\n",
    "- 오메가 : 복잡도 함수의 점근적 하한을 표기\n",
    "- 쎄타(=차수) : 복잡도 함수의 점근적 상한과 하한을 동시에 만족"
   ]
  }
 ],
 "metadata": {
  "kernelspec": {
   "display_name": "base",
   "language": "python",
   "name": "python3"
  },
  "language_info": {
   "name": "python",
   "version": "3.9.15 (main, Nov 24 2022, 14:39:17) [MSC v.1916 64 bit (AMD64)]"
  },
  "orig_nbformat": 4,
  "vscode": {
   "interpreter": {
    "hash": "cef5bb54941aca950c93b0ced18fcc5cb49b2d36f6c89d37f011af61e4a6718a"
   }
  }
 },
 "nbformat": 4,
 "nbformat_minor": 2
}
