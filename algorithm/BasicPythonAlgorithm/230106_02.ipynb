{
 "cells": [
  {
   "attachments": {},
   "cell_type": "markdown",
   "metadata": {},
   "source": [
    "### 2강. 알고리즘의 효율성"
   ]
  },
  {
   "attachments": {},
   "cell_type": "markdown",
   "metadata": {},
   "source": [
    "##### 2-1. 순차탐색 vs 이분검색"
   ]
  },
  {
   "cell_type": "code",
   "execution_count": null,
   "metadata": {},
   "outputs": [],
   "source": [
    "# 이분검색 = 이진탐색\n",
    "def binsearch(n, S, x) :\n",
    "    low = 1\n",
    "    high = n\n",
    "    location = 0\n",
    "    while (low <= high and location == 0):\n",
    "        mid = (low+ high)//2\n",
    "        if (x == S[mid]) :\n",
    "            location = mid\n",
    "        elif (x < S[mid]):\n",
    "            high = mid - 1\n",
    "        else :\n",
    "            low = mid + 1\n",
    "    return location"
   ]
  },
  {
   "cell_type": "code",
   "execution_count": null,
   "metadata": {},
   "outputs": [
    {
     "name": "stdout",
     "output_type": "stream",
     "text": [
      "S= [-1, 5, 7, 8, 10, 11, 13]\n",
      "x= 2\n",
      "location= 0\n"
     ]
    }
   ],
   "source": [
    "S = [-1,5,7,8,10,11,13]\n",
    "x = 2\n",
    "\n",
    "location= binsearch(len(S)-1, S, x)\n",
    "print('S=',S)\n",
    "print('x=',x)\n",
    "print('location=',location)"
   ]
  },
  {
   "cell_type": "code",
   "execution_count": null,
   "metadata": {},
   "outputs": [
    {
     "name": "stdout",
     "output_type": "stream",
     "text": [
      "S= [-1, 5, 7, 8, 10, 11, 13]\n",
      "x= 7\n",
      "location= 2\n"
     ]
    }
   ],
   "source": [
    "S = [-1,5,7,8,10,11,13]\n",
    "x = 7\n",
    "\n",
    "location= binsearch(len(S)-1, S, x)\n",
    "print('S=',S)\n",
    "print('x=',x)\n",
    "print('location=',location)"
   ]
  },
  {
   "cell_type": "code",
   "execution_count": null,
   "metadata": {},
   "outputs": [
    {
     "name": "stdout",
     "output_type": "stream",
     "text": [
      "S= [-1, 5, 7, 8, 10, 11, 13]\n",
      "x= 13\n",
      "location= 6\n"
     ]
    }
   ],
   "source": [
    "S = [-1,5,7,8,10,11,13]\n",
    "x = 13\n",
    "\n",
    "location= binsearch(len(S)-1, S, x)\n",
    "print('S=',S)\n",
    "print('x=',x)\n",
    "print('location=',location)"
   ]
  },
  {
   "cell_type": "markdown",
   "metadata": {},
   "source": [
    "```\n",
    "순차탐색: 크기가 n인 리스트에서 n번을 비교 수행.\n",
    "이분검색: 크기가 n인 리스트에서 log(n)+1번을 비교 수행.\n",
    "```"
   ]
  },
  {
   "cell_type": "markdown",
   "metadata": {},
   "source": [
    "##### 2-2. 피보나치 수열의 n번째 항 구하기"
   ]
  },
  {
   "attachments": {},
   "cell_type": "markdown",
   "metadata": {},
   "source": [
    "* Recursive(재귀) //\n",
    "f0 , f1 = 0, 1\n",
    "fn = f(n-1) + f(n-2) 단, (n>=2)"
   ]
  },
  {
   "cell_type": "code",
   "execution_count": null,
   "metadata": {},
   "outputs": [],
   "source": [
    "# 피보나치 수열\n",
    "def fib(n) :\n",
    "    if (n <= 1) :\n",
    "        return n\n",
    "    else :\n",
    "        return fib(n-1) + fib(n-2)\n",
    "\n"
   ]
  },
  {
   "cell_type": "code",
   "execution_count": null,
   "metadata": {},
   "outputs": [
    {
     "name": "stdout",
     "output_type": "stream",
     "text": [
      "0 1 1 2 3 5 8 13 21 34 55 "
     ]
    }
   ],
   "source": [
    "for i in range(11):\n",
    "    print(fib(i), end=\" \")"
   ]
  },
  {
   "cell_type": "code",
   "execution_count": null,
   "metadata": {},
   "outputs": [],
   "source": [
    "# 알고리즘 측면에서 비효율적 왜??\n",
    "# ; 중복된 함수호출 계산때문\n",
    "# 결국 효율적인 알고리즘을 찾아 개선해야함.\n",
    "# >> 같은값을 재귀적으로 계산하지 않도록!\n",
    "# >> 계산한 피보나치 항의 값을 리스트에 저장\n",
    "# >> 이미 계산된 피보나치 항을 꺼내서 씀!"
   ]
  },
  {
   "cell_type": "code",
   "execution_count": null,
   "metadata": {},
   "outputs": [],
   "source": [
    "def fib2(n) :\n",
    "    f = [0] * (n+1) # n개의 0을 원소로 갖는 리스트 생성\n",
    "    if (n>0) :\n",
    "        f[1] = 1\n",
    "        for i in range(2, n+1):\n",
    "            f[i] = f[i-1] + f[i-2]\n",
    "    return f[n]"
   ]
  },
  {
   "cell_type": "code",
   "execution_count": null,
   "metadata": {},
   "outputs": [
    {
     "name": "stdout",
     "output_type": "stream",
     "text": [
      "0 1 1 2 3 5 8 13 21 34 55 "
     ]
    }
   ],
   "source": [
    "for i in range(11):\n",
    "    print(fib2(i), end=\" \")"
   ]
  },
  {
   "cell_type": "code",
   "execution_count": null,
   "metadata": {},
   "outputs": [
    {
     "name": "stdout",
     "output_type": "stream",
     "text": [
      "0 1 1 2 3 5 8 13 21 34 55 89 144 233 377 610 987 1597 2584 4181 6765 10946 17711 28657 46368 75025 121393 196418 317811 514229 832040 1346269 2178309 3524578 5702887 9227465 14930352 24157817 39088169 63245986 102334155 165580141 267914296 433494437 701408733 1134903170 1836311903 2971215073 4807526976 7778742049 12586269025 20365011074 32951280099 53316291173 86267571272 139583862445 225851433717 365435296162 591286729879 956722026041 1548008755920 2504730781961 4052739537881 6557470319842 10610209857723 17167680177565 27777890035288 44945570212853 72723460248141 117669030460994 190392490709135 308061521170129 498454011879264 806515533049393 1304969544928657 2111485077978050 3416454622906707 5527939700884757 8944394323791464 14472334024676221 23416728348467685 37889062373143906 61305790721611591 99194853094755497 160500643816367088 259695496911122585 420196140727489673 679891637638612258 1100087778366101931 1779979416004714189 2880067194370816120 4660046610375530309 7540113804746346429 12200160415121876738 19740274219868223167 31940434634990099905 51680708854858323072 83621143489848422977 135301852344706746049 218922995834555169026 354224848179261915075 "
     ]
    }
   ],
   "source": [
    "for i in range(101):\n",
    "    print(fib2(i), end=\" \")"
   ]
  },
  {
   "cell_type": "code",
   "execution_count": 1,
   "metadata": {},
   "outputs": [],
   "source": [
    "# 피보나치함수 fib2에서 리스트 f를 사용하지 않고 반복문으로 피보나치 항을 구한다면?"
   ]
  },
  {
   "cell_type": "code",
   "execution_count": 2,
   "metadata": {},
   "outputs": [
    {
     "name": "stdout",
     "output_type": "stream",
     "text": [
      "0 1 1 2 3 5 8 13 21 34 55 "
     ]
    }
   ],
   "source": [
    "def fib3 (n):\n",
    "    if (n <= 1):\n",
    "        return n\n",
    "    else:\n",
    "        pprv = 0\n",
    "        prv = 1\n",
    "        for i in range(2, n + 1):\n",
    "            nxt = pprv + prv\n",
    "            pprv, prv = prv, nxt\n",
    "        return prv\n",
    "\n",
    "for i in range(11):\n",
    "    print(fib3(i), end=\" \")"
   ]
  },
  {
   "cell_type": "code",
   "execution_count": null,
   "metadata": {},
   "outputs": [],
   "source": []
  }
 ],
 "metadata": {
  "kernelspec": {
   "display_name": "base",
   "language": "python",
   "name": "python3"
  },
  "language_info": {
   "codemirror_mode": {
    "name": "ipython",
    "version": 3
   },
   "file_extension": ".py",
   "mimetype": "text/x-python",
   "name": "python",
   "nbconvert_exporter": "python",
   "pygments_lexer": "ipython3",
   "version": "3.9.15"
  },
  "orig_nbformat": 4,
  "vscode": {
   "interpreter": {
    "hash": "cef5bb54941aca950c93b0ced18fcc5cb49b2d36f6c89d37f011af61e4a6718a"
   }
  }
 },
 "nbformat": 4,
 "nbformat_minor": 2
}
