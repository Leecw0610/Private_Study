{
 "cells": [
  {
   "attachments": {},
   "cell_type": "markdown",
   "metadata": {},
   "source": [
    "### 10강. 최단경로 (플로이드 알고리즘)"
   ]
  },
  {
   "attachments": {},
   "cell_type": "markdown",
   "metadata": {},
   "source": [
    "##### 10-1. 최단경로 문제의 이해\n",
    "    각 정점에서 다른 정점으로 갈 때 최단 경로를 계산했을 시, 효율성이 n! \n",
    "    >> 최적화가 필요!\n",
    "    >>  동적계획\n",
    "    >>> 재귀관계식을 찾는다"
   ]
  },
  {
   "cell_type": "code",
   "execution_count": 1,
   "metadata": {},
   "outputs": [
    {
     "name": "stdout",
     "output_type": "stream",
     "text": [
      "k = 0\n",
      "[0, 1, 999, 1, 5]\n",
      "[9, 0, 3, 2, 14]\n",
      "[999, 999, 0, 4, 999]\n",
      "[999, 999, 2, 0, 3]\n",
      "[3, 4, 999, 4, 0]\n",
      "k = 1\n",
      "[0, 1, 4, 1, 5]\n",
      "[9, 0, 3, 2, 14]\n",
      "[999, 999, 0, 4, 999]\n",
      "[999, 999, 2, 0, 3]\n",
      "[3, 4, 7, 4, 0]\n",
      "k = 2\n",
      "[0, 1, 4, 1, 5]\n",
      "[9, 0, 3, 2, 14]\n",
      "[999, 999, 0, 4, 999]\n",
      "[999, 999, 2, 0, 3]\n",
      "[3, 4, 7, 4, 0]\n",
      "k = 3\n",
      "[0, 1, 3, 1, 4]\n",
      "[9, 0, 3, 2, 5]\n",
      "[999, 999, 0, 4, 7]\n",
      "[999, 999, 2, 0, 3]\n",
      "[3, 4, 6, 4, 0]\n",
      "k = 4\n",
      "[0, 1, 3, 1, 4]\n",
      "[8, 0, 3, 2, 5]\n",
      "[10, 11, 0, 4, 7]\n",
      "[6, 7, 2, 0, 3]\n",
      "[3, 4, 6, 4, 0]\n",
      "[0, 1, 3, 1, 4]\n",
      "[8, 0, 3, 2, 5]\n",
      "[10, 11, 0, 4, 7]\n",
      "[6, 7, 2, 0, 3]\n",
      "[3, 4, 6, 4, 0]\n"
     ]
    }
   ],
   "source": [
    "def floyd (W):\n",
    "    D = W\n",
    "    n = len(W)\n",
    "    for k in range(n):\n",
    "        for i in range(n):\n",
    "            for j in range(n):\n",
    "                D[i][j] = min(D[i][j], D[i][k] + D[k][j])\n",
    "        print('k =', k)\n",
    "        for i in range(len(D)):\n",
    "            print(D[i])\n",
    "    return D\n",
    "\n",
    "INF = 999\n",
    "W = [\n",
    "    [0, 1, INF, 1, 5],\n",
    "    [9, 0, 3, 2, INF],\n",
    "    [INF, INF, 0, 4, INF],\n",
    "    [INF, INF, 2, 0, 3],\n",
    "    [3, INF, INF, INF, 0]\n",
    "]\n",
    "\n",
    "D = floyd(W)\n",
    "for i in range(len(D)):\n",
    "    print(D[i])\n",
    "    \n",
    "\n"
   ]
  },
  {
   "cell_type": "code",
   "execution_count": 2,
   "metadata": {},
   "outputs": [
    {
     "name": "stdout",
     "output_type": "stream",
     "text": [
      "[0, 1, 3, 1, 4]\n",
      "[8, 0, 3, 2, 5]\n",
      "[10, 11, 0, 4, 7]\n",
      "[6, 7, 2, 0, 3]\n",
      "[3, 4, 6, 4, 0]\n",
      "[-1, -1, 3, -1, 3]\n",
      "[4, -1, -1, -1, 3]\n",
      "[4, 4, -1, -1, 3]\n",
      "[4, 4, -1, -1, -1]\n",
      "[-1, 0, 3, 0, -1]\n",
      "shortest path from v0 to v2: v0-> v3-> v2 "
     ]
    }
   ],
   "source": [
    "def floyd2 (W):\n",
    "    n = len(W)\n",
    "    D = W\n",
    "    P = [[-1] * n for _ in range(n)]\n",
    "    for k in range(n):\n",
    "        for i in range(n):\n",
    "            for j in range(n):\n",
    "                if (D[i][j] > D[i][k] + D[k][j]):\n",
    "                    D[i][j] = D[i][k] + D[k][j]\n",
    "                    P[i][j] = k\n",
    "    return D, P\n",
    "\n",
    "def path (P, u, v):\n",
    "    if (P[u][v] != -1):\n",
    "        path(P, u, P[u][v])\n",
    "        print('v%d'%(P[u][v]), end='-> ')\n",
    "        path(P, P[u][v], v)\n",
    "\n",
    "INF = 999\n",
    "W = [\n",
    "    [0, 1, INF, 1, 5],\n",
    "    [9, 0, 3, 2, INF],\n",
    "    [INF, INF, 0, 4, INF],\n",
    "    [INF, INF, 2, 0, 3],\n",
    "    [3, INF, INF, INF, 0]\n",
    "]\n",
    "\n",
    "D, P = floyd2(W)\n",
    "for i in range(len(D)):\n",
    "    print(D[i])\n",
    "for i in range(len(P)):\n",
    "    print(P[i])\n",
    "\n",
    "u = 0\n",
    "v = 2\n",
    "print('shortest path from v%d to v%d:'%(u, v), end=' ')\n",
    "print('v%d'%(u), end='-> ')\n",
    "path(P, u, v)\n",
    "print('v%d'%(v), end=' ')"
   ]
  },
  {
   "cell_type": "code",
   "execution_count": null,
   "metadata": {},
   "outputs": [],
   "source": []
  }
 ],
 "metadata": {
  "kernelspec": {
   "display_name": "base",
   "language": "python",
   "name": "python3"
  },
  "language_info": {
   "codemirror_mode": {
    "name": "ipython",
    "version": 3
   },
   "file_extension": ".py",
   "mimetype": "text/x-python",
   "name": "python",
   "nbconvert_exporter": "python",
   "pygments_lexer": "ipython3",
   "version": "3.9.12"
  },
  "orig_nbformat": 4,
  "vscode": {
   "interpreter": {
    "hash": "a077222d77dfe082b8f1dd562ad70e458ac2ab76993a0b248ab0476e32e9e8dd"
   }
  }
 },
 "nbformat": 4,
 "nbformat_minor": 2
}
