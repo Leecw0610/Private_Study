{
 "cells": [
  {
   "attachments": {},
   "cell_type": "markdown",
   "metadata": {},
   "source": [
    "### 4강. 분할정복"
   ]
  },
  {
   "attachments": {},
   "cell_type": "markdown",
   "metadata": {},
   "source": [
    "##### 4-1. 이분검색 ; 분할정복(Divide and Conquer)\n"
   ]
  },
  {
   "cell_type": "code",
   "execution_count": 49,
   "metadata": {},
   "outputs": [],
   "source": [
    "#Binary Search (Recursive)\n",
    "def location(S, low, high):\n",
    "    if (low > high):\n",
    "        return 0\n",
    "    else :\n",
    "        mid = (low + high) // 2\n",
    "        print(low,mid,high)\n",
    "        if (x == S[mid]) :\n",
    "            return mid\n",
    "        elif (x < S[mid]) :\n",
    "            return location(S, low, mid-1)\n",
    "        else :\n",
    "            return location(S, mid+1, high)"
   ]
  },
  {
   "cell_type": "code",
   "execution_count": 50,
   "metadata": {},
   "outputs": [
    {
     "name": "stdout",
     "output_type": "stream",
     "text": [
      "1 7 13\n",
      "8 10 13\n",
      "8 8 9\n",
      "9 9 9\n"
     ]
    }
   ],
   "source": [
    "S = [-1,10,12,13,14,18,20,25,27,30,35,40,45,47]\n",
    "x = 30\n",
    "loc = location(S,1,len(S)-1)\n"
   ]
  },
  {
   "cell_type": "code",
   "execution_count": 51,
   "metadata": {},
   "outputs": [
    {
     "name": "stdout",
     "output_type": "stream",
     "text": [
      "S= [-1, 10, 12, 13, 14, 18, 20, 25, 27, 30, 35, 40, 45, 47]\n",
      "x= 30\n",
      "loc= 9\n"
     ]
    }
   ],
   "source": [
    "print('S=',S)\n",
    "print('x=',x)\n",
    "print('loc=',loc)"
   ]
  },
  {
   "attachments": {},
   "cell_type": "markdown",
   "metadata": {},
   "source": [
    "##### 4-2. 합병 정렬 ; 분할정복(Divide and Conquer)\n"
   ]
  },
  {
   "cell_type": "code",
   "execution_count": 52,
   "metadata": {},
   "outputs": [],
   "source": [
    "# 합병 정렬\n",
    "def mergesort(S):\n",
    "    n = len(S)\n",
    "    if (n<=1) :\n",
    "        return S\n",
    "    else :\n",
    "        mid = n//2\n",
    "        U = mergesort(S[0:mid])\n",
    "        V = mergesort(S[mid:n])\n",
    "    return merge(U,V)\n",
    "\n",
    "def merge(U,V):\n",
    "    S= []\n",
    "    i= j = 0\n",
    "    while(i<len(U) and j < len(V)):\n",
    "        if (U[i]< V[j]):\n",
    "            S.append(U[i])\n",
    "            i+= 1\n",
    "        else :\n",
    "            S.append(V[j])\n",
    "            j+=1\n",
    "    if (i<len(U)):\n",
    "        S+= U[i:len(U)]\n",
    "    else :\n",
    "        S+= V[j:len(V)]\n",
    "    return S"
   ]
  },
  {
   "cell_type": "code",
   "execution_count": 39,
   "metadata": {},
   "outputs": [
    {
     "name": "stdout",
     "output_type": "stream",
     "text": [
      "Before:  [27, 10, 12, 20, 25, 13, 15, 22]\n",
      " After:  [10, 12, 13, 15, 20, 22, 25, 27]\n"
     ]
    }
   ],
   "source": [
    "S = [27, 10, 12, 20, 25, 13, 15, 22]\n",
    "print('Before: ', S)\n",
    "X = mergesort(S)\n",
    "print(' After: ', X)"
   ]
  },
  {
   "cell_type": "code",
   "execution_count": 40,
   "metadata": {},
   "outputs": [],
   "source": [
    "# 공간복잡도(2n)를 좀더 줄일수 있지않을까?\n",
    "def mergesort2 (S, low, high):\n",
    "    if (low < high):\n",
    "        mid = (low + high) // 2\n",
    "        mergesort2(S, low, mid)\n",
    "        mergesort2(S, mid + 1, high)\n",
    "        print(S[low:high+1])\n",
    "        merge2(S, low, mid, high)\n",
    "\n",
    "def merge2 (S, low, mid, high):\n",
    "    U = []\n",
    "    i = low\n",
    "    j = mid + 1\n",
    "    while (i <= mid and j <= high):\n",
    "        if (S[i] < S[j]):\n",
    "            U.append(S[i])\n",
    "            i += 1\n",
    "        else:\n",
    "            U.append(S[j])\n",
    "            j += 1\n",
    "    if (i <= mid):\n",
    "        U += S[i : mid + 1]\n",
    "    else:\n",
    "        U += S[j : high + 1]\n",
    "    for k in range(low, high + 1):\n",
    "        S[k] = U[k - low]\n",
    "        \n",
    "# 추가적으로 만들어지는 원소의 수를 대략 n개로 절약!"
   ]
  },
  {
   "cell_type": "code",
   "execution_count": 41,
   "metadata": {},
   "outputs": [
    {
     "name": "stdout",
     "output_type": "stream",
     "text": [
      "Before:  [27, 10, 12, 20, 25, 13, 15, 22]\n",
      "[27, 10]\n",
      "[12, 20]\n",
      "[10, 27, 12, 20]\n",
      "[25, 13]\n",
      "[15, 22]\n",
      "[13, 25, 15, 22]\n",
      "[10, 12, 20, 27, 13, 15, 22, 25]\n",
      " After:  [10, 12, 13, 15, 20, 22, 25, 27]\n"
     ]
    }
   ],
   "source": [
    "S = [27, 10, 12, 20, 25, 13, 15, 22]\n",
    "print('Before: ', S)\n",
    "mergesort2(S, 0, len(S) - 1)\n",
    "print(' After: ', S)\n"
   ]
  },
  {
   "cell_type": "code",
   "execution_count": null,
   "metadata": {},
   "outputs": [],
   "source": []
  }
 ],
 "metadata": {
  "kernelspec": {
   "display_name": "base",
   "language": "python",
   "name": "python3"
  },
  "language_info": {
   "codemirror_mode": {
    "name": "ipython",
    "version": 3
   },
   "file_extension": ".py",
   "mimetype": "text/x-python",
   "name": "python",
   "nbconvert_exporter": "python",
   "pygments_lexer": "ipython3",
   "version": "3.9.15 (main, Nov 24 2022, 14:39:17) [MSC v.1916 64 bit (AMD64)]"
  },
  "orig_nbformat": 4,
  "vscode": {
   "interpreter": {
    "hash": "cef5bb54941aca950c93b0ced18fcc5cb49b2d36f6c89d37f011af61e4a6718a"
   }
  }
 },
 "nbformat": 4,
 "nbformat_minor": 2
}
