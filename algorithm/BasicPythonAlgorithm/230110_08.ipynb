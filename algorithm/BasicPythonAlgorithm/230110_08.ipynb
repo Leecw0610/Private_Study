{
 "cells": [
  {
   "attachments": {},
   "cell_type": "markdown",
   "metadata": {},
   "source": [
    "### 8강. 분할정복과 트로미노 퍼즐"
   ]
  },
  {
   "attachments": {},
   "cell_type": "markdown",
   "metadata": {},
   "source": [
    "##### 8-1. 트로미노 퍼즐"
   ]
  },
  {
   "cell_type": "code",
   "execution_count": 8,
   "metadata": {},
   "outputs": [
    {
     "name": "stdout",
     "output_type": "stream",
     "text": [
      "3 1\n",
      "  4  4  5  5  9  9 10 10 25 25 26 26 30 30 31 31\n",
      "  4  3  3  5  9  8  8 10 25 24 24 26 30 29 29 31\n",
      "  6  6  3  7 11 11  8 12 27 24 28 28 32 32 29 33\n",
      "  6  X  7  7  2 11 12 12 27 27 28 23 23 32 33 33\n",
      " 14 14 15  2  2 19 20 20 35 35 36 36 23 40 41 41\n",
      " 14 13 15 15 19 19 18 20 35 34 34 36 40 40 39 41\n",
      " 16 13 13 17 21 18 18 22 37 37 34 38 42 39 39 43\n",
      " 16 16 17 17 21 21 22 22  1 37 38 38 42 42 43 43\n",
      " 46 46 47 47 51 51 52  1  1 67 68 68 72 72 73 73\n",
      " 46 45 45 47 51 50 52 52 67 67 66 68 72 71 71 73\n",
      " 48 45 49 49 53 50 50 54 69 66 66 70 74 74 71 75\n",
      " 48 48 49 44 53 53 54 54 69 69 70 70 65 74 75 75\n",
      " 56 56 57 44 44 61 62 62 77 77 78 65 65 82 83 83\n",
      " 56 55 57 57 61 61 60 62 77 76 78 78 82 82 81 83\n",
      " 58 55 55 59 63 60 60 64 79 76 76 80 84 81 81 85\n",
      " 58 58 59 59 63 63 64 64 79 79 80 80 84 84 85 85\n"
     ]
    }
   ],
   "source": [
    "\n",
    "def fillCenterExcept(board, mrow, mcol, part):\n",
    "    global tromino_count \n",
    "    tromino_count += 1\n",
    "    if (part != 1):\n",
    "        board[mrow-1][mcol-1] = tromino_count\n",
    "    if (part != 2):\n",
    "        board[mrow-1][mcol] = tromino_count\n",
    "    if (part != 3):\n",
    "        board[mrow][mcol-1] = tromino_count\n",
    "    if (part != 4):\n",
    "        board[mrow][mcol] = tromino_count\n",
    "\n",
    "def tromino(board, srow, scol, size, xrow, xcol):\n",
    "    if (size == 1):\n",
    "        return\n",
    "    else:\n",
    "        mrow = srow + (size // 2)\n",
    "        mcol = scol + (size // 2)\n",
    "        xrow1, xcol1 = mrow - 1, mcol -1\n",
    "        xrow2, xcol2 = mrow - 1, mcol\n",
    "        xrow3, xcol3 = mrow, mcol - 1\n",
    "        xrow4, xcol4 = mrow, mcol\n",
    "        if (xrow < mrow and xcol < mcol): # 1사분면\n",
    "            fillCenterExcept(board, mrow, mcol, 1)\n",
    "            xrow1, xcol1 = xrow, xcol\n",
    "        elif (xrow < mrow and xcol >= mcol): # 2사분면\n",
    "            fillCenterExcept(board, mrow, mcol, 2)\n",
    "            xrow2, xcol2 = xrow, xcol\n",
    "        elif (xrow >= mrow and xcol < mcol): # 3사분면\n",
    "            fillCenterExcept(board, mrow, mcol, 3)\n",
    "            xrow3, xcol3 = xrow, xcol\n",
    "        elif (xrow >= mrow and xcol >= mcol): # 4사분면\n",
    "            fillCenterExcept(board, mrow, mcol, 4)\n",
    "            xrow4, xcol4 = xrow, xcol\n",
    "        tromino(board, srow, scol, size // 2, xrow1, xcol1)\n",
    "        tromino(board, srow, mcol, size // 2, xrow2, xcol2)\n",
    "        tromino(board, mrow, scol, size // 2, xrow3, xcol3)\n",
    "        tromino(board, mrow, mcol, size // 2, xrow4, xcol4)\n",
    "\n",
    "def print_board(board):\n",
    "    for i in range(m):\n",
    "        for j in range(m):\n",
    "            if (board[i][j] < 0):\n",
    "                print(\"%3s\"%\"X\", end=\"\")\n",
    "            else: \n",
    "                print(\"%3d\"%board[i][j], end=\"\")\n",
    "        print()\n",
    "    \n",
    "import random\n",
    "m = 16\n",
    "xrow = random.randint(0, m - 1)\n",
    "xcol = random.randint(0, m - 1)\n",
    "print(xrow, xcol)\n",
    "board = [[0] * m for _ in range(m)]\n",
    "board[xrow][xcol] = -1\n",
    "tromino_count = 0\n",
    "tromino(board, 0, 0, m, xrow, xcol)\n",
    "print_board(board)\n"
   ]
  },
  {
   "cell_type": "code",
   "execution_count": 10,
   "metadata": {},
   "outputs": [
    {
     "data": {
      "text/plain": [
       "85"
      ]
     },
     "execution_count": 10,
     "metadata": {},
     "output_type": "execute_result"
    }
   ],
   "source": [
    "16*16 //3 "
   ]
  },
  {
   "cell_type": "code",
   "execution_count": null,
   "metadata": {},
   "outputs": [],
   "source": []
  }
 ],
 "metadata": {
  "kernelspec": {
   "display_name": "base",
   "language": "python",
   "name": "python3"
  },
  "language_info": {
   "codemirror_mode": {
    "name": "ipython",
    "version": 3
   },
   "file_extension": ".py",
   "mimetype": "text/x-python",
   "name": "python",
   "nbconvert_exporter": "python",
   "pygments_lexer": "ipython3",
   "version": "3.9.12"
  },
  "orig_nbformat": 4,
  "vscode": {
   "interpreter": {
    "hash": "a077222d77dfe082b8f1dd562ad70e458ac2ab76993a0b248ab0476e32e9e8dd"
   }
  }
 },
 "nbformat": 4,
 "nbformat_minor": 2
}
