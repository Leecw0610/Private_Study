{
 "cells": [
  {
   "attachments": {},
   "cell_type": "markdown",
   "metadata": {},
   "source": [
    "### 6강. 분할정복의 쉬트라쎈 행렬 곱셈"
   ]
  },
  {
   "attachments": {},
   "cell_type": "markdown",
   "metadata": {},
   "source": [
    "##### 6-1. 행렬 곱셈 문제\n",
    "\n",
    "8 multiplication + 4 additions vs 7 multiplication + 18 additions\n"
   ]
  },
  {
   "attachments": {},
   "cell_type": "markdown",
   "metadata": {},
   "source": [
    "##### 6-2. 8x8 >> 4x4 (x4) >> 2x2 >>(x4x4)"
   ]
  },
  {
   "cell_type": "code",
   "execution_count": 2,
   "metadata": {},
   "outputs": [
    {
     "name": "stdout",
     "output_type": "stream",
     "text": [
      "threshold = 2\n",
      "A = [[1, 2, 3, 4], [5, 6, 7, 8], [9, 1, 2, 3], [4, 5, 6, 7]]\n",
      "B = [[8, 9, 1, 2], [3, 4, 5, 6], [7, 8, 9, 1], [2, 3, 4, 5]]\n",
      "C[0] =  [43, 53, 54, 37]\n",
      "C[1] =  [123, 149, 130, 93]\n",
      "C[2] =  [95, 110, 44, 41]\n",
      "C[3] =  [103, 125, 111, 79]\n",
      "D[0] =  [43, 53, 54, 37]\n",
      "D[1] =  [123, 149, 130, 93]\n",
      "D[2] =  [95, 110, 44, 41]\n",
      "D[3] =  [103, 125, 111, 79]\n"
     ]
    }
   ],
   "source": [
    "\n",
    "# Algorithm 1.4: Matrix Muiltiplication\n",
    "def matrixmult (A, B):\n",
    "    n = len(A)\n",
    "    C = [[0] * n for _ in range(n)]\n",
    "    for i in range(n):\n",
    "        for j in range(n):\n",
    "            for k in range(n):\n",
    "                C[i][j] += A[i][k] * B[k][j]\n",
    "    return C\n",
    "\n",
    "def madd (A, B):\n",
    "    n = len(A)\n",
    "    C = [[0] * n for _ in range(n)]\n",
    "    for i in range(n):\n",
    "        for j in range(n):\n",
    "            C[i][j] = A[i][j] + B[i][j]\n",
    "    return C\n",
    "\n",
    "def msub (A, B):\n",
    "    n = len(A)\n",
    "    C = [[0] * n for _ in range(n)]\n",
    "    for i in range(n):\n",
    "        for j in range(n):\n",
    "            C[i][j] = A[i][j] - B[i][j]\n",
    "    return C\n",
    "\n",
    "def divide(A):\n",
    "    n = len(A)\n",
    "    m = n // 2\n",
    "    A11 = [[0] * m for _ in range(m)]\n",
    "    A12 = [[0] * m for _ in range(m)]\n",
    "    A21 = [[0] * m for _ in range(m)]\n",
    "    A22 = [[0] * m for _ in range(m)]\n",
    "    for i in range(m):\n",
    "        for j in range(m):\n",
    "            A11[i][j] = A[i][j]\n",
    "            A12[i][j] = A[i][j + m]\n",
    "            A21[i][j] = A[i + m][j]\n",
    "            A22[i][j] = A[i + m][j + m]\n",
    "    return A11, A12, A21, A22\n",
    "\n",
    "def conquer(M1, M2, M3, M4, M5, M6, M7):\n",
    "    C11 = madd(msub(madd(M1, M4), M5), M7)\n",
    "    C12 = madd(M3, M5)\n",
    "    C21 = madd(M2, M4)\n",
    "    C22 = madd(msub(madd(M1, M3), M2), M6)\n",
    "    m = len(C11)\n",
    "    n = 2 * m\n",
    "    C = [[0] * n for _ in range(n)]\n",
    "    for i in range(m):\n",
    "        for j in range(m):\n",
    "            C[i][j] = C11[i][j]\n",
    "            C[i][j + m] = C12[i][j]\n",
    "            C[i + m][j] = C21[i][j]\n",
    "            C[i + m][j + m] = C22[i][j]\n",
    "    return C\n",
    "\n",
    "def strassen (A, B):\n",
    "    n = len(A)\n",
    "    if (n <= threshold):\n",
    "        return matrixmult(A, B)\n",
    "    A11, A12, A21, A22 = divide(A)\n",
    "    B11, B12, B21, B22 = divide(B)\n",
    "    M1 = strassen(madd(A11, A22), madd(B11, B22))\n",
    "    M2 = strassen(madd(A21, A22), B11)\n",
    "    M3 = strassen(A11, msub(B12, B22))\n",
    "    M4 = strassen(A22, msub(B21, B11))\n",
    "    M5 = strassen(madd(A11, A12), B22)\n",
    "    M6 = strassen(msub(A21, A11), madd(B11, B12))\n",
    "    M7 = strassen(msub(A12, A22), madd(B21, B22))\n",
    "    return conquer(M1, M2, M3, M4, M5, M6, M7)\n",
    "\n",
    "threshold = 2\n",
    "A = [\n",
    "    [1, 2, 3, 4],\n",
    "    [5, 6, 7, 8],\n",
    "    [9, 1, 2, 3],\n",
    "    [4, 5, 6, 7],\n",
    "]\n",
    "\n",
    "B = [\n",
    "    [8, 9, 1, 2],\n",
    "    [3, 4, 5, 6],\n",
    "    [7, 8, 9, 1],\n",
    "    [2, 3, 4, 5],\n",
    "]\n",
    "\n",
    "print('threshold =', threshold)\n",
    "print('A =', A)\n",
    "print('B =', B)\n",
    "C = strassen(A, B)\n",
    "for i in range(len(C)):\n",
    "    print('C[%d] = '%(i), C[i])\n",
    "\n",
    "D = matrixmult(A, B)\n",
    "for i in range(len(D)):\n",
    "    print('D[%d] = '%(i), D[i])\n"
   ]
  },
  {
   "cell_type": "code",
   "execution_count": null,
   "metadata": {},
   "outputs": [],
   "source": []
  }
 ],
 "metadata": {
  "kernelspec": {
   "display_name": "base",
   "language": "python",
   "name": "python3"
  },
  "language_info": {
   "codemirror_mode": {
    "name": "ipython",
    "version": 3
   },
   "file_extension": ".py",
   "mimetype": "text/x-python",
   "name": "python",
   "nbconvert_exporter": "python",
   "pygments_lexer": "ipython3",
   "version": "3.9.15"
  },
  "orig_nbformat": 4,
  "vscode": {
   "interpreter": {
    "hash": "cef5bb54941aca950c93b0ced18fcc5cb49b2d36f6c89d37f011af61e4a6718a"
   }
  }
 },
 "nbformat": 4,
 "nbformat_minor": 2
}
