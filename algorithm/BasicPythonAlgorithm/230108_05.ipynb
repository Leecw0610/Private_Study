{
 "cells": [
  {
   "attachments": {},
   "cell_type": "markdown",
   "metadata": {},
   "source": [
    "### 5강. 분할정복과 퀵 정렬"
   ]
  },
  {
   "attachments": {},
   "cell_type": "markdown",
   "metadata": {},
   "source": [
    "##### 5-1. 분할정복(Divide and Conquer) 설계방법\n"
   ]
  },
  {
   "attachments": {},
   "cell_type": "markdown",
   "metadata": {},
   "source": [
    "##### 5-2. 퀵 정렬 : 분할정복(Divide and Conquer)\n",
    "\n",
    "    - 내부 정렬 ; 추가적인 리스트를 사용하지 않는 정렬\n",
    "\n",
    "    - pivot을 어떻게 정하느냐"
   ]
  },
  {
   "cell_type": "code",
   "execution_count": 7,
   "metadata": {},
   "outputs": [
    {
     "name": "stdout",
     "output_type": "stream",
     "text": [
      "Before: [11, 5, 19, 1, 15, 26, 59, 61, 48, 37]\n",
      "2 3 [11, 5, 1, 19, 15, 26, 59, 61, 48, 37]\n",
      "3 2 [11, 5, 1, 19, 15, 26, 59, 61, 48, 37]\n",
      "1 0 [1, 5, 11, 19, 15, 26, 59, 61, 48, 37]\n",
      "5 4 [1, 5, 11, 19, 15, 26, 59, 61, 48, 37]\n",
      "6 5 [1, 5, 11, 15, 19, 26, 59, 61, 48, 37]\n",
      "7 9 [1, 5, 11, 15, 19, 26, 59, 37, 48, 61]\n",
      "9 8 [1, 5, 11, 15, 19, 26, 59, 37, 48, 61]\n",
      "8 7 [1, 5, 11, 15, 19, 26, 48, 37, 59, 61]\n",
      " After: [1, 5, 11, 15, 19, 26, 37, 48, 59, 61]\n"
     ]
    }
   ],
   "source": [
    "\n",
    "# def partition (S, low, high):\n",
    "#     pivotitem = S[low]\n",
    "#     j = low\n",
    "#     for i in range(low + 1, high + 1):\n",
    "#         print(i, j, S)\n",
    "#         if (S[i] < pivotitem):\n",
    "#             j += 1\n",
    "#             S[i], S[j] = S[j], S[i] # swap\n",
    "#     pivotpoint = j\n",
    "#     S[low], S[pivotpoint] = S[pivotpoint], S[low] # swap\n",
    "#     return pivotpoint\n",
    "\n",
    "# def quicksort (S, low, high):\n",
    "#     if (high > low):\n",
    "#         pivotpoint = partition(S, low, high)\n",
    "#         # print(S)\n",
    "#         quicksort(S, low, pivotpoint - 1)\n",
    "#         quicksort(S, pivotpoint + 1, high)\n",
    "\n",
    "# S = [15, 22, 13, 27, 12, 10, 20, 25]\n",
    "# print('Before:', S)\n",
    "# quicksort(S, 0, len(S) - 1)\n",
    "# print(' After:', S)\n",
    "\n",
    "# S = [15, 22, 13, 27, 12, 10, 20, 25]\n",
    "# print('Before:', S)\n",
    "# partition(S, 0, len(S) - 1)\n",
    "# print(' After:', S)\n",
    "\n",
    "def partition2 (S, low, high):\n",
    "    pivotitem = S[low]\n",
    "    i = low + 1\n",
    "    j = high\n",
    "    while (i <= j):\n",
    "        while (S[i] < pivotitem):\n",
    "            i += 1\n",
    "        while (S[j] > pivotitem):\n",
    "            j -= 1\n",
    "        if (i < j):\n",
    "            S[i], S[j] = S[j], S[i] # swap\n",
    "        print(i, j, S)\n",
    "    pivotpoint = j\n",
    "    S[low], S[pivotpoint] = S[pivotpoint], S[low] # swap\n",
    "    return pivotpoint\n",
    "\n",
    "def quicksort2 (S, low, high):\n",
    "    if (high > low):\n",
    "        pivotpoint = partition2(S, low, high)\n",
    "        # print(S)\n",
    "        quicksort2(S, low, pivotpoint - 1)\n",
    "        quicksort2(S, pivotpoint + 1, high)\n",
    "\n",
    "# S = [15, 22, 13, 27, 12, 10, 20, 25]\n",
    "# S = [26, 5, 37, 1, 61, 11, 59, 15, 48, 19]\n",
    "\n",
    "print('Before:', S)\n",
    "quicksort2(S, 0, len(S) - 1)\n",
    "print(' After:', S)\n",
    "\n",
    "# S = [26, 5, 37, 1, 61, 11, 59, 15, 48, 19]\n",
    "# print('Before:', S)\n",
    "# partition2(S, 0, len(S) - 1)\n",
    "# print(' After:', S)\n"
   ]
  },
  {
   "cell_type": "code",
   "execution_count": null,
   "metadata": {},
   "outputs": [],
   "source": []
  }
 ],
 "metadata": {
  "kernelspec": {
   "display_name": "base",
   "language": "python",
   "name": "python3"
  },
  "language_info": {
   "codemirror_mode": {
    "name": "ipython",
    "version": 3
   },
   "file_extension": ".py",
   "mimetype": "text/x-python",
   "name": "python",
   "nbconvert_exporter": "python",
   "pygments_lexer": "ipython3",
   "version": "3.9.15"
  },
  "orig_nbformat": 4,
  "vscode": {
   "interpreter": {
    "hash": "cef5bb54941aca950c93b0ced18fcc5cb49b2d36f6c89d37f011af61e4a6718a"
   }
  }
 },
 "nbformat": 4,
 "nbformat_minor": 2
}
