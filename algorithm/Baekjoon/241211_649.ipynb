{
 "cells": [
  {
   "cell_type": "markdown",
   "metadata": {
    "vscode": {
     "languageId": "plaintext"
    }
   },
   "source": [
    "### 21918번"
   ]
  },
  {
   "cell_type": "code",
   "execution_count": 1,
   "metadata": {},
   "outputs": [
    {
     "name": "stdout",
     "output_type": "stream",
     "text": [
      "1 1 0 1 1 1 0 0 "
     ]
    }
   ],
   "source": [
    "n, m = map(int,input().split())\n",
    "bulb = [0] + list(map(int,input().split()))\n",
    "for _ in range(m):\n",
    "\ta,b,c = map(int, input().split())\n",
    "\tif a == 1:\n",
    "\t\tbulb[b] = c\n",
    "\n",
    "\telif a == 2:\n",
    "\t\tfor i in range(b,c+1):\n",
    "\t\t\tif bulb[i] == 0:\n",
    "\t\t\t\tbulb[i] = 1\n",
    "\t\t\telif bulb[i] == 1:\n",
    "\t\t\t\tbulb[i] = 0\n",
    "\n",
    "\telif a == 3:\n",
    "\t\tfor i in range(b,c+1):\n",
    "\t\t\tif bulb[i] == 1:\n",
    "\t\t\t\tbulb[i] = 0\n",
    "\telif a == 4:\n",
    "\t\tfor i in range(b,c+1):\n",
    "\t\t\tif bulb[i] == 0:\n",
    "\t\t\t\tbulb[i] = 1\n",
    "\n",
    "for i in range(1, n+1):\n",
    "\tprint(bulb[i], end=' ')"
   ]
  },
  {
   "cell_type": "code",
   "execution_count": null,
   "metadata": {},
   "outputs": [],
   "source": []
  },
  {
   "cell_type": "code",
   "execution_count": null,
   "metadata": {},
   "outputs": [],
   "source": []
  }
 ],
 "metadata": {
  "kernelspec": {
   "display_name": "Python 3",
   "language": "python",
   "name": "python3"
  },
  "language_info": {
   "codemirror_mode": {
    "name": "ipython",
    "version": 3
   },
   "file_extension": ".py",
   "mimetype": "text/x-python",
   "name": "python",
   "nbconvert_exporter": "python",
   "pygments_lexer": "ipython3",
   "version": "3.11.1"
  }
 },
 "nbformat": 4,
 "nbformat_minor": 2
}
