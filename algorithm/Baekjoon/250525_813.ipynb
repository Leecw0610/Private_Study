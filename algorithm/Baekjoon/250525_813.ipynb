{
 "cells": [
  {
   "cell_type": "markdown",
   "id": "92e899f5",
   "metadata": {},
   "source": [
    "### 31832번"
   ]
  },
  {
   "cell_type": "code",
   "execution_count": 1,
   "id": "c81564ce",
   "metadata": {},
   "outputs": [
    {
     "name": "stdout",
     "output_type": "stream",
     "text": [
      "PS-akgwi\n"
     ]
    }
   ],
   "source": [
    "# 알파벳 대문자, 알파벳 소문자, 숫자, 하이픈의 아스키코드는 각각 65-90, 97-122, 48-57, 45이다.\n",
    "\n",
    "\n",
    "# 첫 번째 조건\n",
    "def conditionOne(teamName):\n",
    "    upperCase, lowerCase = 0, 0\n",
    "    for i in teamName:\n",
    "        if 65 <= ord(i) <= 90:\n",
    "            upperCase += 1\n",
    "        elif 97 <= ord(i) <= 122:\n",
    "            lowerCase += 1\n",
    "\n",
    "    return lowerCase >= upperCase\n",
    "\n",
    "\n",
    "# 두 번째 조건\n",
    "def conditionTwo(teamName):\n",
    "    return len(teamName) <= 10\n",
    "\n",
    "\n",
    "# 세 번째 조건\n",
    "def conditionThree(teamName):\n",
    "    letterCheck = False\n",
    "    for i in teamName:\n",
    "        if ord(i) < 48 or ord(i) > 57:\n",
    "            letterCheck = True\n",
    "    return letterCheck\n",
    "\n",
    "\n",
    "N = int(input())\n",
    "result = \"\"\n",
    "\n",
    "for _ in range(N):\n",
    "    S = input()\n",
    "\n",
    "    if conditionOne(S) and conditionTwo(S) and conditionThree(S):  # 세 조건 모두 참이면\n",
    "        result = S\n",
    "\n",
    "\n",
    "print(result)"
   ]
  },
  {
   "cell_type": "code",
   "execution_count": null,
   "id": "469c3e1c",
   "metadata": {},
   "outputs": [],
   "source": []
  },
  {
   "cell_type": "code",
   "execution_count": null,
   "id": "6654ddaa",
   "metadata": {},
   "outputs": [],
   "source": []
  },
  {
   "cell_type": "code",
   "execution_count": null,
   "id": "d067c3ce",
   "metadata": {},
   "outputs": [],
   "source": []
  }
 ],
 "metadata": {
  "kernelspec": {
   "display_name": "Python 3",
   "language": "python",
   "name": "python3"
  },
  "language_info": {
   "codemirror_mode": {
    "name": "ipython",
    "version": 3
   },
   "file_extension": ".py",
   "mimetype": "text/x-python",
   "name": "python",
   "nbconvert_exporter": "python",
   "pygments_lexer": "ipython3",
   "version": "3.11.1"
  }
 },
 "nbformat": 4,
 "nbformat_minor": 5
}
