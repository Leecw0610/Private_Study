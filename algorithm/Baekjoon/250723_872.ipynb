{
 "cells": [
  {
   "cell_type": "markdown",
   "id": "35828d23",
   "metadata": {},
   "source": [
    "### 1024번"
   ]
  },
  {
   "cell_type": "code",
   "execution_count": 1,
   "id": "2faf0538",
   "metadata": {},
   "outputs": [
    {
     "name": "stdout",
     "output_type": "stream",
     "text": [
      "0 1 2 3 4 5 6 7 8 9 "
     ]
    }
   ],
   "source": [
    "# 입력\n",
    "N, L = map(int, input().split())\n",
    "\n",
    "# 탐색\n",
    "for n in range(L, 101):\n",
    "    x = N/n - (n+1)/2\n",
    "    if int(x) == x:\n",
    "        x = int(x)\n",
    "        if x + 1 >= 0:\n",
    "            for i in range(x+1, x+n+1):\n",
    "                print(i, end=\" \")\n",
    "            break\n",
    "else:\n",
    "    print(-1)"
   ]
  },
  {
   "cell_type": "code",
   "execution_count": null,
   "id": "63be135b",
   "metadata": {},
   "outputs": [],
   "source": []
  },
  {
   "cell_type": "code",
   "execution_count": null,
   "id": "ecd8be71",
   "metadata": {},
   "outputs": [],
   "source": []
  },
  {
   "cell_type": "code",
   "execution_count": null,
   "id": "8119e399",
   "metadata": {},
   "outputs": [],
   "source": []
  }
 ],
 "metadata": {
  "kernelspec": {
   "display_name": "Python 3",
   "language": "python",
   "name": "python3"
  },
  "language_info": {
   "codemirror_mode": {
    "name": "ipython",
    "version": 3
   },
   "file_extension": ".py",
   "mimetype": "text/x-python",
   "name": "python",
   "nbconvert_exporter": "python",
   "pygments_lexer": "ipython3",
   "version": "3.11.1"
  }
 },
 "nbformat": 4,
 "nbformat_minor": 5
}
