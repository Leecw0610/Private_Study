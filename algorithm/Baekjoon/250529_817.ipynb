{
 "cells": [
  {
   "cell_type": "markdown",
   "id": "6ebd10ac",
   "metadata": {},
   "source": [
    "### 31867번"
   ]
  },
  {
   "cell_type": "code",
   "execution_count": 1,
   "id": "d4d8f63f",
   "metadata": {},
   "outputs": [
    {
     "name": "stdout",
     "output_type": "stream",
     "text": [
      "-1\n"
     ]
    }
   ],
   "source": [
    "N = int(input())\n",
    "K = input()\n",
    "odd, even = 0, 0\n",
    "\n",
    "for i in K:\n",
    "    if int(i) % 2 != 0:\n",
    "        odd += 1\n",
    "    else:\n",
    "        even += 1\n",
    "\n",
    "if odd > even:\n",
    "    print(1)\n",
    "elif odd < even:\n",
    "    print(0)\n",
    "else:\n",
    "    print(-1)"
   ]
  },
  {
   "cell_type": "code",
   "execution_count": null,
   "id": "512c4299",
   "metadata": {},
   "outputs": [],
   "source": []
  },
  {
   "cell_type": "code",
   "execution_count": null,
   "id": "aab9bcc5",
   "metadata": {},
   "outputs": [],
   "source": []
  },
  {
   "cell_type": "code",
   "execution_count": null,
   "id": "465ceba9",
   "metadata": {},
   "outputs": [],
   "source": []
  }
 ],
 "metadata": {
  "kernelspec": {
   "display_name": "Python 3",
   "language": "python",
   "name": "python3"
  },
  "language_info": {
   "codemirror_mode": {
    "name": "ipython",
    "version": 3
   },
   "file_extension": ".py",
   "mimetype": "text/x-python",
   "name": "python",
   "nbconvert_exporter": "python",
   "pygments_lexer": "ipython3",
   "version": "3.11.1"
  }
 },
 "nbformat": 4,
 "nbformat_minor": 5
}
