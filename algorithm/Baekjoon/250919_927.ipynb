{
 "cells": [
  {
   "cell_type": "markdown",
   "id": "a219f789",
   "metadata": {},
   "source": [
    "### 1389번"
   ]
  },
  {
   "cell_type": "code",
   "execution_count": null,
   "id": "d664ca98",
   "metadata": {},
   "outputs": [],
   "source": [
    "import sys\n",
    "from collections import deque\n",
    "\n",
    "\n",
    "# bfs 탐색\n",
    "def bfs(v):\n",
    "    queue = deque([v])\n",
    "    visited[v] = 1\n",
    "\n",
    "    while queue:\n",
    "        target = queue.popleft()\n",
    "\n",
    "        # 친구 관계를 확인하고 탐색하지 않은 친구라면 탐색한다.\n",
    "        for i in graph[target]:\n",
    "            if not visited[i]:\n",
    "                # 탐색하기 위한 횟수를 체크한다.\n",
    "                visited[i] = visited[target] + 1\n",
    "                queue.append(i)\n",
    "\n",
    "\n",
    "n, m = map(int, sys.stdin.readline().split())\n",
    "\n",
    "# 2차원 그래프를 표현\n",
    "graph = [[] for _ in range(n + 1)]\n",
    "for i in range(m):\n",
    "    a, b = map(int, sys.stdin.readline().split())\n",
    "    graph[a].append(b)\n",
    "    graph[b].append(a)\n",
    "\n",
    "# 케빈 베이컨의 수를 담는 리스트\n",
    "res = []\n",
    "\n",
    "# 반복문을 통해 모든 친구를 탐색한다.\n",
    "for i in range(1, n + 1):\n",
    "    visited = [0] * (n + 1)\n",
    "    bfs(i)\n",
    "    res.append(sum(visited))\n",
    "\n",
    "# 가장 작은 케빈 베이컨의 수를 가지고 있는 사람의 인덱스 + 1 을 해주어 출력한다.\n",
    "print(res.index(min(res)) + 1)"
   ]
  },
  {
   "cell_type": "code",
   "execution_count": null,
   "id": "31bca27c",
   "metadata": {},
   "outputs": [],
   "source": []
  },
  {
   "cell_type": "code",
   "execution_count": null,
   "id": "4ca00bbf",
   "metadata": {},
   "outputs": [],
   "source": []
  },
  {
   "cell_type": "code",
   "execution_count": null,
   "id": "1ddc6b39",
   "metadata": {},
   "outputs": [],
   "source": []
  }
 ],
 "metadata": {
  "kernelspec": {
   "display_name": "Python 3",
   "language": "python",
   "name": "python3"
  },
  "language_info": {
   "codemirror_mode": {
    "name": "ipython",
    "version": 3
   },
   "file_extension": ".py",
   "mimetype": "text/x-python",
   "name": "python",
   "nbconvert_exporter": "python",
   "pygments_lexer": "ipython3",
   "version": "3.13.6"
  }
 },
 "nbformat": 4,
 "nbformat_minor": 5
}
