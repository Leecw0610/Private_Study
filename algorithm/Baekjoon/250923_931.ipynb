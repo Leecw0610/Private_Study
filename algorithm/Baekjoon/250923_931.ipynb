{
 "cells": [
  {
   "cell_type": "markdown",
   "id": "e492c7c7",
   "metadata": {},
   "source": [
    "### 1411번"
   ]
  },
  {
   "cell_type": "code",
   "execution_count": null,
   "id": "dfca0879",
   "metadata": {},
   "outputs": [],
   "source": [
    "import sys\n",
    "\n",
    "\n",
    "n = int(sys.stdin.readline())\n",
    "temp = [[] for _ in range(101)]\n",
    "dic = [{} for i in range(101)]\n",
    "cnt = 0\n",
    "\n",
    "# 반복문을 통해 단어를 확인\n",
    "for i in range(n):\n",
    "    num = 0\n",
    "    m = str(sys.stdin.readline()).rstrip('\\n')\n",
    "\n",
    "    # 반복문을 통해 알파벳을 확인하고\n",
    "    # 그 알파벳을 수와 같이 딕셔너리형으로 추가한다.\n",
    "    for j in m:\n",
    "        if j not in dic[i]:\n",
    "            dic[i][j] = str(num)\n",
    "            num += 1\n",
    "\n",
    "        # 현재 확인한 알파벳을 temp에 추가한다.\n",
    "        temp[i] += dic[i][j]\n",
    "\n",
    "# 반복문을 통해 같은 단어라면 카운트한다.\n",
    "for i in range(n):\n",
    "    for j in range(i + 1, n):\n",
    "        if temp[i] == temp[j]:\n",
    "            cnt += 1\n",
    "\n",
    "print(cnt)"
   ]
  },
  {
   "cell_type": "code",
   "execution_count": null,
   "id": "3d02747f",
   "metadata": {},
   "outputs": [],
   "source": []
  },
  {
   "cell_type": "code",
   "execution_count": null,
   "id": "fd824b9d",
   "metadata": {},
   "outputs": [],
   "source": []
  },
  {
   "cell_type": "code",
   "execution_count": null,
   "id": "e442c1dc",
   "metadata": {},
   "outputs": [],
   "source": []
  }
 ],
 "metadata": {
  "kernelspec": {
   "display_name": "Python 3",
   "language": "python",
   "name": "python3"
  },
  "language_info": {
   "codemirror_mode": {
    "name": "ipython",
    "version": 3
   },
   "file_extension": ".py",
   "mimetype": "text/x-python",
   "name": "python",
   "nbconvert_exporter": "python",
   "pygments_lexer": "ipython3",
   "version": "3.13.6"
  }
 },
 "nbformat": 4,
 "nbformat_minor": 5
}
