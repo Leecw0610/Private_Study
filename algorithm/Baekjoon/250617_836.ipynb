{
 "cells": [
  {
   "cell_type": "markdown",
   "id": "c3585d8e",
   "metadata": {},
   "source": [
    "### 32278번"
   ]
  },
  {
   "cell_type": "code",
   "execution_count": 1,
   "id": "61cfaf72",
   "metadata": {},
   "outputs": [
    {
     "name": "stdout",
     "output_type": "stream",
     "text": [
      "short\n"
     ]
    }
   ],
   "source": [
    "N = int(input())\n",
    "\n",
    "if N >= -32768 and N <= 32767:\n",
    "    print(\"short\")\n",
    "elif N >= -2147483648 and N <= 2147483647:\n",
    "    print(\"int\")\n",
    "else:\n",
    "    print(\"long long\")"
   ]
  },
  {
   "cell_type": "code",
   "execution_count": null,
   "id": "a3c89f85",
   "metadata": {},
   "outputs": [],
   "source": []
  },
  {
   "cell_type": "code",
   "execution_count": null,
   "id": "c6082898",
   "metadata": {},
   "outputs": [],
   "source": []
  }
 ],
 "metadata": {
  "kernelspec": {
   "display_name": "Python 3",
   "language": "python",
   "name": "python3"
  },
  "language_info": {
   "codemirror_mode": {
    "name": "ipython",
    "version": 3
   },
   "file_extension": ".py",
   "mimetype": "text/x-python",
   "name": "python",
   "nbconvert_exporter": "python",
   "pygments_lexer": "ipython3",
   "version": "3.11.1"
  }
 },
 "nbformat": 4,
 "nbformat_minor": 5
}
