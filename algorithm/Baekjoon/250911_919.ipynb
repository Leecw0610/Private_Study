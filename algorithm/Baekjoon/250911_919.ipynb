{
 "cells": [
  {
   "cell_type": "markdown",
   "id": "810c35a0",
   "metadata": {},
   "source": [
    "### 1342번"
   ]
  },
  {
   "cell_type": "code",
   "execution_count": null,
   "id": "89cc2a54",
   "metadata": {},
   "outputs": [],
   "source": [
    "import sys\n",
    "from collections import Counter\n",
    "\n",
    "\n",
    "def backTracking(pre, l):\n",
    "    answer = 0\n",
    "\n",
    "    # 행운의 문자열이므로 1를 리턴\n",
    "    if l == len(s):\n",
    "        return 1\n",
    "\n",
    "    # 반복문을 통해 단어를 확인\n",
    "    for k in cnt.keys():\n",
    "        # 현재 단어가 이전 단어일 경우와 현재 단어의 개수가 0일 경우 다음 단어를 확인한다.\n",
    "        if k == pre or cnt[k] == 0:\n",
    "            continue\n",
    "\n",
    "        cnt[k] -= 1 # 현재 단어의 개수를 감소\n",
    "        answer += backTracking(k, l + 1) # 백트래킹 후 리턴 받은 수를 answer에 더한다.\n",
    "        cnt[k] += 1 # 현재 단어의 개수를 증가\n",
    "\n",
    "    # answer 리턴\n",
    "    return answer\n",
    "\n",
    "\n",
    "s = list(map(str, sys.stdin.readline().strip()))\n",
    "cnt = Counter(s) # 문자의 개수를 딕셔너리로 변환\n",
    "print(backTracking('', 0))"
   ]
  },
  {
   "cell_type": "code",
   "execution_count": null,
   "id": "e35d47f0",
   "metadata": {},
   "outputs": [],
   "source": []
  },
  {
   "cell_type": "code",
   "execution_count": null,
   "id": "c93d238a",
   "metadata": {},
   "outputs": [],
   "source": []
  },
  {
   "cell_type": "code",
   "execution_count": null,
   "id": "5ccf16d9",
   "metadata": {},
   "outputs": [],
   "source": []
  },
  {
   "cell_type": "code",
   "execution_count": null,
   "id": "be912ca1",
   "metadata": {},
   "outputs": [],
   "source": []
  }
 ],
 "metadata": {
  "kernelspec": {
   "display_name": "Python 3",
   "language": "python",
   "name": "python3"
  },
  "language_info": {
   "codemirror_mode": {
    "name": "ipython",
    "version": 3
   },
   "file_extension": ".py",
   "mimetype": "text/x-python",
   "name": "python",
   "nbconvert_exporter": "python",
   "pygments_lexer": "ipython3",
   "version": "3.13.6"
  }
 },
 "nbformat": 4,
 "nbformat_minor": 5
}
