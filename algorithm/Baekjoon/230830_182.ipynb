{
 "cells": [
  {
   "cell_type": "markdown",
   "metadata": {},
   "source": [
    "### 2804번"
   ]
  },
  {
   "cell_type": "code",
   "execution_count": 1,
   "metadata": {},
   "outputs": [
    {
     "name": "stdout",
     "output_type": "stream",
     "text": [
      ".P....\n",
      ".I....\n",
      ".D....\n",
      ".Z....\n",
      "BANANA\n",
      ".M....\n",
      ".A....\n"
     ]
    }
   ],
   "source": [
    "s1, s2 = map(str, input().split())\n",
    "\n",
    "for i in range(len(s1)):\n",
    "    if s1[i] in s2:\n",
    "        col = i\n",
    "        row = s2.index(s1[i])\n",
    "        break\n",
    "\n",
    "for i in range(len(s2)):\n",
    "    if i == row:\n",
    "        print(s1)\n",
    "    else:\n",
    "        print('.' * col + s2[i] + '.' * (len(s1) - col - 1))"
   ]
  },
  {
   "cell_type": "code",
   "execution_count": null,
   "metadata": {},
   "outputs": [],
   "source": []
  },
  {
   "cell_type": "code",
   "execution_count": null,
   "metadata": {},
   "outputs": [],
   "source": []
  },
  {
   "cell_type": "code",
   "execution_count": null,
   "metadata": {},
   "outputs": [],
   "source": []
  }
 ],
 "metadata": {
  "kernelspec": {
   "display_name": "Python 3",
   "language": "python",
   "name": "python3"
  },
  "language_info": {
   "codemirror_mode": {
    "name": "ipython",
    "version": 3
   },
   "file_extension": ".py",
   "mimetype": "text/x-python",
   "name": "python",
   "nbconvert_exporter": "python",
   "pygments_lexer": "ipython3",
   "version": "3.11.1"
  },
  "orig_nbformat": 4
 },
 "nbformat": 4,
 "nbformat_minor": 2
}
