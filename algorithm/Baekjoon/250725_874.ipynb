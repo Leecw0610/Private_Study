{
 "cells": [
  {
   "cell_type": "markdown",
   "id": "bf988d84",
   "metadata": {},
   "source": [
    "### 1049번"
   ]
  },
  {
   "cell_type": "code",
   "execution_count": 1,
   "id": "f0dacf78",
   "metadata": {},
   "outputs": [
    {
     "name": "stdout",
     "output_type": "stream",
     "text": [
      "36\n"
     ]
    }
   ],
   "source": [
    "n, m = map(int, input().split())\n",
    "package = []\n",
    "single = []\n",
    "\n",
    "for _ in range(m):\n",
    "    a, b = map(int, input().split())\n",
    "    package.append(a)\n",
    "    single.append(b)\n",
    "\n",
    "min_package = min(package)\n",
    "\n",
    "ans = 0\n",
    "while n > 0:\n",
    "    if n >= 6:\n",
    "        min_single = min(single)*6\n",
    "        n -= 6\n",
    "    else:\n",
    "        min_single = min(single)*n\n",
    "        n -= n\n",
    "    if min_single < min_package:\n",
    "        ans += min_single\n",
    "    else:\n",
    "        ans += min_package\n",
    "\n",
    "print(ans)"
   ]
  },
  {
   "cell_type": "code",
   "execution_count": null,
   "id": "dd49480d",
   "metadata": {},
   "outputs": [],
   "source": []
  },
  {
   "cell_type": "code",
   "execution_count": null,
   "id": "899f8bf9",
   "metadata": {},
   "outputs": [],
   "source": []
  },
  {
   "cell_type": "code",
   "execution_count": null,
   "id": "0d714566",
   "metadata": {},
   "outputs": [],
   "source": []
  }
 ],
 "metadata": {
  "kernelspec": {
   "display_name": "Python 3",
   "language": "python",
   "name": "python3"
  },
  "language_info": {
   "codemirror_mode": {
    "name": "ipython",
    "version": 3
   },
   "file_extension": ".py",
   "mimetype": "text/x-python",
   "name": "python",
   "nbconvert_exporter": "python",
   "pygments_lexer": "ipython3",
   "version": "3.11.1"
  }
 },
 "nbformat": 4,
 "nbformat_minor": 5
}
