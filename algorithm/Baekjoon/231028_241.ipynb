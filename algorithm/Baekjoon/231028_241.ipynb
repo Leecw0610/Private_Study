{
 "cells": [
  {
   "cell_type": "markdown",
   "metadata": {},
   "source": [
    "### 4447번"
   ]
  },
  {
   "cell_type": "code",
   "execution_count": 1,
   "metadata": {},
   "outputs": [
    {
     "name": "stdout",
     "output_type": "stream",
     "text": [
      "Algorithm Crunching Man is GOOD\n",
      "Green Lantern is GOOD\n",
      "Boba Fett is A BADDY\n",
      "Superman is NEUTRAL\n",
      "Batman is A BADDY\n",
      "Green Goblin is GOOD\n",
      "Barney is A BADDY\n",
      "Spider Pig is GOOD\n"
     ]
    }
   ],
   "source": [
    "from collections import Counter\n",
    "N = int(input())\n",
    "for _ in range(N):\n",
    "    S = input()\n",
    "    cnt = 0\n",
    "    for i in Counter(S):\n",
    "        if i.lower() == 'g':\n",
    "            cnt += Counter(S)[i]\n",
    "        elif i.lower() == 'b':\n",
    "            cnt -= Counter(S)[i]\n",
    "    if cnt > 0:\n",
    "        print(S + \" is GOOD\")\n",
    "    elif cnt == 0:\n",
    "        print(S + \" is NEUTRAL\")\n",
    "    elif cnt < 0:\n",
    "        print(S + \" is A BADDY\")"
   ]
  },
  {
   "cell_type": "code",
   "execution_count": null,
   "metadata": {},
   "outputs": [],
   "source": []
  },
  {
   "cell_type": "code",
   "execution_count": null,
   "metadata": {},
   "outputs": [],
   "source": []
  },
  {
   "cell_type": "code",
   "execution_count": null,
   "metadata": {},
   "outputs": [],
   "source": []
  }
 ],
 "metadata": {
  "kernelspec": {
   "display_name": "Python 3",
   "language": "python",
   "name": "python3"
  },
  "language_info": {
   "codemirror_mode": {
    "name": "ipython",
    "version": 3
   },
   "file_extension": ".py",
   "mimetype": "text/x-python",
   "name": "python",
   "nbconvert_exporter": "python",
   "pygments_lexer": "ipython3",
   "version": "3.11.1"
  }
 },
 "nbformat": 4,
 "nbformat_minor": 2
}
