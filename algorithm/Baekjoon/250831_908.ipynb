{
 "cells": [
  {
   "cell_type": "markdown",
   "id": "2a53e3ef",
   "metadata": {},
   "source": [
    "### 1291번"
   ]
  },
  {
   "cell_type": "code",
   "execution_count": 1,
   "id": "3f17a574",
   "metadata": {},
   "outputs": [
    {
     "name": "stdout",
     "output_type": "stream",
     "text": [
      "3\n"
     ]
    }
   ],
   "source": [
    "def generatePrimeNumber(size):  # 소수 생성기\n",
    "    DP = [0] * size\n",
    "    prime = []\n",
    "    for i in range(2, size, 1):\n",
    "        if not DP[i]:\n",
    "            prime.append(i)\n",
    "            for j in range(i*2, size, i):\n",
    "                DP[j] = 1\n",
    "    return prime\n",
    "\n",
    "\n",
    "def isDigitOdd(n):  # 각 자릿수가 홀수인가?\n",
    "    sum_value = 0\n",
    "    for ch in str(n):\n",
    "        sum_value += int(ch)\n",
    "    if sum_value % 2 == 0:\n",
    "        return False\n",
    "    else:\n",
    "        return True\n",
    "\n",
    "\n",
    "def getPrimeFactor(n, primes):  # 소인수 분해\n",
    "    factors = []\n",
    "    for prime in primes:\n",
    "        if n < prime:\n",
    "            break\n",
    "\n",
    "        count = 0\n",
    "        while n % prime == 0:\n",
    "            n //= prime\n",
    "            count += 1\n",
    "        if count > 0:\n",
    "            factors.append([prime, count])\n",
    "    return factors\n",
    "\n",
    "\n",
    "def isCompositeNumber(n):  # 합성수 판별\n",
    "    if 1 < n and n not in primes:\n",
    "        return True\n",
    "    return False\n",
    "\n",
    "\n",
    "def isImyeonsu(n):  # 이면수 판별\n",
    "    if 6 <= N and isDigitOdd(N):\n",
    "        return True\n",
    "    return False\n",
    "\n",
    "\n",
    "def isImHyunsoo(n):  # 임현수 판별\n",
    "    if N == 2 or N == 4 or (isCompositeNumber(N) and len(getPrimeFactor(N, primes)) % 2 == 0):\n",
    "        return True\n",
    "    return False\n",
    "\n",
    "\n",
    "N = int(input())\n",
    "primes = generatePrimeNumber(2700)\n",
    "# 4. 이면수 and 임현수\n",
    "if isImyeonsu(N) and isImHyunsoo(N):\n",
    "    print(4)\n",
    "# 1. 이면수\n",
    "elif isImyeonsu(N):\n",
    "    print(1)\n",
    "# 2. 임현수\n",
    "elif isImHyunsoo(N):\n",
    "    print(2)\n",
    "# 3. not 이면수 and not 임현수\n",
    "elif not isImyeonsu(N) and not isImHyunsoo(N):\n",
    "    print(3)"
   ]
  },
  {
   "cell_type": "code",
   "execution_count": null,
   "id": "4f99f137",
   "metadata": {},
   "outputs": [],
   "source": []
  },
  {
   "cell_type": "code",
   "execution_count": null,
   "id": "10a6d8ea",
   "metadata": {},
   "outputs": [],
   "source": []
  },
  {
   "cell_type": "code",
   "execution_count": null,
   "id": "20a947ef",
   "metadata": {},
   "outputs": [],
   "source": []
  }
 ],
 "metadata": {
  "kernelspec": {
   "display_name": "Python 3",
   "language": "python",
   "name": "python3"
  },
  "language_info": {
   "codemirror_mode": {
    "name": "ipython",
    "version": 3
   },
   "file_extension": ".py",
   "mimetype": "text/x-python",
   "name": "python",
   "nbconvert_exporter": "python",
   "pygments_lexer": "ipython3",
   "version": "3.13.6"
  }
 },
 "nbformat": 4,
 "nbformat_minor": 5
}
