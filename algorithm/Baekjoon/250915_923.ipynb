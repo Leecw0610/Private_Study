{
 "cells": [
  {
   "cell_type": "markdown",
   "id": "542c7bfb",
   "metadata": {},
   "source": [
    "### 1359번"
   ]
  },
  {
   "cell_type": "code",
   "execution_count": 1,
   "id": "46e4110a",
   "metadata": {},
   "outputs": [
    {
     "name": "stdout",
     "output_type": "stream",
     "text": [
      "0.7571428571428571\n"
     ]
    }
   ],
   "source": [
    "from itertools import combinations\n",
    "n, m, k = map(int, input().split())\n",
    "winning = 0\n",
    "for case in combinations([x for x in range(n)],m):\n",
    "    count = 0\n",
    "    for i in range(m):\n",
    "        if case[i] < m:\n",
    "            count += 1\n",
    "    if count >= k:\n",
    "        winning += 1\n",
    "\n",
    "print(winning/len(list(combinations([x for x in range(n)],m))))"
   ]
  },
  {
   "cell_type": "code",
   "execution_count": null,
   "id": "d26a9c2a",
   "metadata": {},
   "outputs": [],
   "source": []
  },
  {
   "cell_type": "code",
   "execution_count": null,
   "id": "1d89a453",
   "metadata": {},
   "outputs": [],
   "source": []
  },
  {
   "cell_type": "code",
   "execution_count": null,
   "id": "2986cd14",
   "metadata": {},
   "outputs": [],
   "source": []
  }
 ],
 "metadata": {
  "kernelspec": {
   "display_name": "Python 3",
   "language": "python",
   "name": "python3"
  },
  "language_info": {
   "codemirror_mode": {
    "name": "ipython",
    "version": 3
   },
   "file_extension": ".py",
   "mimetype": "text/x-python",
   "name": "python",
   "nbconvert_exporter": "python",
   "pygments_lexer": "ipython3",
   "version": "3.13.6"
  }
 },
 "nbformat": 4,
 "nbformat_minor": 5
}
