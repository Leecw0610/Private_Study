{
 "cells": [
  {
   "cell_type": "markdown",
   "id": "fc78bce0",
   "metadata": {},
   "source": [
    "### 31798번"
   ]
  },
  {
   "cell_type": "code",
   "execution_count": 1,
   "id": "25656560",
   "metadata": {},
   "outputs": [
    {
     "name": "stdout",
     "output_type": "stream",
     "text": [
      "26\n"
     ]
    }
   ],
   "source": [
    "a, b, c = map(int, input().split())\n",
    "\n",
    "if a == 0:\n",
    "    print(int(c**2 - b))\n",
    "elif b == 0:\n",
    "    print(int(c**2 - a))\n",
    "elif c == 0:\n",
    "    print(int((a + b) ** (1 / 2)))"
   ]
  },
  {
   "cell_type": "code",
   "execution_count": null,
   "id": "e5207f21",
   "metadata": {},
   "outputs": [],
   "source": []
  },
  {
   "cell_type": "code",
   "execution_count": null,
   "id": "78bc3573",
   "metadata": {},
   "outputs": [],
   "source": []
  }
 ],
 "metadata": {
  "kernelspec": {
   "display_name": "Python 3",
   "language": "python",
   "name": "python3"
  },
  "language_info": {
   "codemirror_mode": {
    "name": "ipython",
    "version": 3
   },
   "file_extension": ".py",
   "mimetype": "text/x-python",
   "name": "python",
   "nbconvert_exporter": "python",
   "pygments_lexer": "ipython3",
   "version": "3.11.1"
  }
 },
 "nbformat": 4,
 "nbformat_minor": 5
}
