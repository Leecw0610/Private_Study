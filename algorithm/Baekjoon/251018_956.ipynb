{
 "cells": [
  {
   "cell_type": "markdown",
   "id": "fd9cecdc",
   "metadata": {},
   "source": [
    "### 1531번"
   ]
  },
  {
   "cell_type": "code",
   "execution_count": 1,
   "id": "f05b19da",
   "metadata": {},
   "outputs": [
    {
     "name": "stdout",
     "output_type": "stream",
     "text": [
      "500\n"
     ]
    }
   ],
   "source": [
    "N, M = map(int, input().split())\n",
    "li = [[0]*100 for _ in range(100)]\n",
    "for _ in range(N):\n",
    "    x1, y1, x2, y2 = map(int, input().split())\n",
    "    for i in range(x1, x2+1):\n",
    "        for j in range(y1, y2+1):\n",
    "            li[i-1][j-1] += 1\n",
    "cnt = 0\n",
    "for i in range(100):\n",
    "    for j in range(100):\n",
    "        if li[i][j] > M:\n",
    "            cnt += 1\n",
    "print(cnt)"
   ]
  },
  {
   "cell_type": "code",
   "execution_count": null,
   "id": "78d13a91",
   "metadata": {},
   "outputs": [],
   "source": []
  },
  {
   "cell_type": "code",
   "execution_count": null,
   "id": "8b00928a",
   "metadata": {},
   "outputs": [],
   "source": []
  },
  {
   "cell_type": "code",
   "execution_count": null,
   "id": "53cc6c0d",
   "metadata": {},
   "outputs": [],
   "source": []
  }
 ],
 "metadata": {
  "kernelspec": {
   "display_name": "Python 3",
   "language": "python",
   "name": "python3"
  },
  "language_info": {
   "codemirror_mode": {
    "name": "ipython",
    "version": 3
   },
   "file_extension": ".py",
   "mimetype": "text/x-python",
   "name": "python",
   "nbconvert_exporter": "python",
   "pygments_lexer": "ipython3",
   "version": "3.13.6"
  }
 },
 "nbformat": 4,
 "nbformat_minor": 5
}
