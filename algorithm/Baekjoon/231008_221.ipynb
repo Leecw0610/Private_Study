{
 "cells": [
  {
   "cell_type": "markdown",
   "metadata": {},
   "source": [
    "### 3041번"
   ]
  },
  {
   "cell_type": "code",
   "execution_count": 1,
   "metadata": {},
   "outputs": [
    {
     "name": "stdout",
     "output_type": "stream",
     "text": [
      "6\n"
     ]
    }
   ],
   "source": [
    "puzzle = ['ABCD', 'EFGH', 'IJKL', 'MNO.']\n",
    "puzzle2 = []\n",
    "pos = {}\n",
    "cnt = 0\n",
    "\n",
    "for _ in range(4):\n",
    "    puzzle2.append(input())\n",
    "\n",
    "for i in range(4):\n",
    "    for j in range(4):\n",
    "        if puzzle[i][j] != puzzle2[i][j] and puzzle2[i][j] != '.':\n",
    "            pos[puzzle2[i][j]] = (i, j)\n",
    "\n",
    "for i in range(4):\n",
    "    for j in range(4):\n",
    "        if puzzle[i][j] in pos.keys():\n",
    "            cnt += abs(pos[puzzle[i][j]][0] - i) + abs(pos[puzzle[i][j]][1] - j)\n",
    "print(cnt)"
   ]
  },
  {
   "cell_type": "code",
   "execution_count": null,
   "metadata": {},
   "outputs": [],
   "source": []
  },
  {
   "cell_type": "code",
   "execution_count": null,
   "metadata": {},
   "outputs": [],
   "source": []
  },
  {
   "cell_type": "code",
   "execution_count": null,
   "metadata": {},
   "outputs": [],
   "source": []
  }
 ],
 "metadata": {
  "kernelspec": {
   "display_name": "Python 3",
   "language": "python",
   "name": "python3"
  },
  "language_info": {
   "codemirror_mode": {
    "name": "ipython",
    "version": 3
   },
   "file_extension": ".py",
   "mimetype": "text/x-python",
   "name": "python",
   "nbconvert_exporter": "python",
   "pygments_lexer": "ipython3",
   "version": "3.11.1"
  },
  "orig_nbformat": 4
 },
 "nbformat": 4,
 "nbformat_minor": 2
}
