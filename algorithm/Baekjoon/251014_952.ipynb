{
 "cells": [
  {
   "cell_type": "markdown",
   "id": "9dfa52c1",
   "metadata": {},
   "source": [
    "### 1503번"
   ]
  },
  {
   "cell_type": "code",
   "execution_count": null,
   "id": "c55c954b",
   "metadata": {},
   "outputs": [],
   "source": [
    "import sys\n",
    "input = sys.stdin.readline\n",
    "INF = sys.maxsize\n",
    "\n",
    "n, m = list(map(int, input().rstrip().split()))\n",
    "s = list(map(int, input().rstrip().split()))\n",
    "res = INF\n",
    "\n",
    "for i in range(1, 1002):\n",
    "    if i in s: continue\n",
    "    for j in range(1, 1002):\n",
    "        if j in s: continue\n",
    "        for k in range(1, 1002):\n",
    "            if k in s: continue\n",
    "            q = (i * j * k)\n",
    "            if abs(n - q) < res: res = abs(n - q)\n",
    "            if n + 1 < q: break\n",
    "\n",
    "print(res)"
   ]
  },
  {
   "cell_type": "code",
   "execution_count": null,
   "id": "ebd64fb5",
   "metadata": {},
   "outputs": [],
   "source": []
  },
  {
   "cell_type": "code",
   "execution_count": null,
   "id": "b4638111",
   "metadata": {},
   "outputs": [],
   "source": []
  },
  {
   "cell_type": "code",
   "execution_count": null,
   "id": "0acc9277",
   "metadata": {},
   "outputs": [],
   "source": []
  }
 ],
 "metadata": {
  "kernelspec": {
   "display_name": "Python 3",
   "language": "python",
   "name": "python3"
  },
  "language_info": {
   "name": "python",
   "version": "3.13.6"
  }
 },
 "nbformat": 4,
 "nbformat_minor": 5
}
