{
 "cells": [
  {
   "cell_type": "markdown",
   "id": "09905298",
   "metadata": {},
   "source": [
    "### 1614번"
   ]
  },
  {
   "cell_type": "code",
   "execution_count": null,
   "id": "413df133",
   "metadata": {},
   "outputs": [],
   "source": [
    "import sys\n",
    "hurtFinger = int(sys.stdin.readline())\n",
    "maxRepeat = int(sys.stdin.readline())\n",
    "answer = 0\n",
    "hurtCount = 0\n",
    "\n",
    "\n",
    "# if hurtfinger is 1 or 5\n",
    "if hurtFinger == 1:\n",
    "    if maxRepeat == 0:\n",
    "        answer += hurtFinger-1\n",
    "    else:\n",
    "        answer += 8*maxRepeat\n",
    "elif hurtFinger == 5:\n",
    "    if maxRepeat == 0:\n",
    "        answer += hurtFinger-1\n",
    "    else:\n",
    "        answer += 4 + 8*(maxRepeat)\n",
    "\n",
    "\n",
    "# else hurtfinger is 2,3,4\n",
    "else:\n",
    "    if maxRepeat == 0:\n",
    "        answer += hurtFinger-1\n",
    "    else:\n",
    "        answer += 4*(maxRepeat) + 1\n",
    "        if maxRepeat % 2 == 0:\n",
    "            answer += hurtFinger-2\n",
    "        else:\n",
    "            answer += 4-hurtFinger\n",
    "\n",
    "\n",
    "print(answer)"
   ]
  },
  {
   "cell_type": "code",
   "execution_count": null,
   "id": "c9364f9f",
   "metadata": {},
   "outputs": [],
   "source": []
  },
  {
   "cell_type": "code",
   "execution_count": null,
   "id": "7d62fba4",
   "metadata": {},
   "outputs": [],
   "source": []
  },
  {
   "cell_type": "code",
   "execution_count": null,
   "id": "27fa53d8",
   "metadata": {},
   "outputs": [],
   "source": []
  }
 ],
 "metadata": {
  "kernelspec": {
   "display_name": "Python 3",
   "language": "python",
   "name": "python3"
  },
  "language_info": {
   "codemirror_mode": {
    "name": "ipython",
    "version": 3
   },
   "file_extension": ".py",
   "mimetype": "text/x-python",
   "name": "python",
   "nbconvert_exporter": "python",
   "pygments_lexer": "ipython3",
   "version": "3.11.1"
  }
 },
 "nbformat": 4,
 "nbformat_minor": 5
}
