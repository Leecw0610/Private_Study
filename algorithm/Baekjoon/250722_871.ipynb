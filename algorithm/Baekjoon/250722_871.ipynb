{
 "cells": [
  {
   "cell_type": "markdown",
   "id": "4969def5",
   "metadata": {},
   "source": [
    "### 1021번"
   ]
  },
  {
   "cell_type": "code",
   "execution_count": null,
   "id": "2e0ca45f",
   "metadata": {},
   "outputs": [],
   "source": [
    "from collections import deque\n",
    "import sys\n",
    "input = sys.stdin.readline\n",
    "\n",
    "n, m = map(int, input().split())    # 큐의 크기 n과 뽑아내려고 하는 수의 개수 m을 입력값으로 받기\n",
    "position = list(map(int, input().split()))  # 뽑아내려는 수의 위치를 입력값으로 받기\n",
    "dq = deque([i for i in range(1, n+1)])  # deque([1, 2, 3,...,n])\n",
    "\n",
    "count = 0   # 2, 3번 수행하면 카운트 올리기\n",
    "for i in position:  # 뽑아내려는 수의 위치 하나씩 반복문 돌리기\n",
    "    while True:     # 뽑을 때까지 계속 돌리기\n",
    "        if dq[0] == i:  # dq의 첫인덱스가 뽑아내려는 수의 위치와 같다면 1번 수행\n",
    "            dq.popleft()\n",
    "            break\n",
    "        else:\n",
    "            if dq.index(i) < len(dq)/2:  # 뽑아내려는 수의 위치 인덱스가 dq의 길이를 반으로 나눈것보다 작을때는 왼쪽으로 움직여야 최소\n",
    "                while dq[0] != i:   # dq의 첫번째 인덱스가 i와 같아질때까지 반복\n",
    "                    dq.append(dq.popleft())  \n",
    "                    count += 1\n",
    "            else:   # 뽑아내려는 수의 위치 인덱스가 dq의 길이를 반으로 나눈것보다 클때는 오른쪽으로 움직여야 최소\n",
    "                while dq[0] != i:\n",
    "                    dq.appendleft(dq.pop())  \n",
    "                    count += 1\n",
    "print(count)"
   ]
  },
  {
   "cell_type": "code",
   "execution_count": null,
   "id": "cfad1402",
   "metadata": {},
   "outputs": [],
   "source": []
  },
  {
   "cell_type": "code",
   "execution_count": null,
   "id": "957fe9b8",
   "metadata": {},
   "outputs": [],
   "source": []
  },
  {
   "cell_type": "code",
   "execution_count": null,
   "id": "abde9ccd",
   "metadata": {},
   "outputs": [],
   "source": []
  }
 ],
 "metadata": {
  "kernelspec": {
   "display_name": "Python 3",
   "language": "python",
   "name": "python3"
  },
  "language_info": {
   "codemirror_mode": {
    "name": "ipython",
    "version": 3
   },
   "file_extension": ".py",
   "mimetype": "text/x-python",
   "name": "python",
   "nbconvert_exporter": "python",
   "pygments_lexer": "ipython3",
   "version": "3.11.1"
  }
 },
 "nbformat": 4,
 "nbformat_minor": 5
}
