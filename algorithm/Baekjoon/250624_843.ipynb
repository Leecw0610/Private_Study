{
 "cells": [
  {
   "cell_type": "markdown",
   "id": "f885a7d0",
   "metadata": {},
   "source": [
    "### 32642번"
   ]
  },
  {
   "cell_type": "code",
   "execution_count": 1,
   "id": "40d91ef7",
   "metadata": {},
   "outputs": [
    {
     "name": "stdout",
     "output_type": "stream",
     "text": [
      "5\n"
     ]
    }
   ],
   "source": [
    "N = int(input())\n",
    "weather = list(map(int, input().split()))\n",
    "anger = [0] * N  # 각 날 마다의 분노 리스트\n",
    "status = 0  # 동우의 현재 분노 0\n",
    "\n",
    "for i in range(N):\n",
    "    if weather[i] == 1:\n",
    "        status += 1\n",
    "    elif weather[i] == 0:\n",
    "        status -= 1\n",
    "\n",
    "    anger[i] = status\n",
    "\n",
    "print(sum(anger))"
   ]
  },
  {
   "cell_type": "code",
   "execution_count": null,
   "id": "11156619",
   "metadata": {},
   "outputs": [],
   "source": []
  },
  {
   "cell_type": "code",
   "execution_count": null,
   "id": "b8e29947",
   "metadata": {},
   "outputs": [],
   "source": []
  },
  {
   "cell_type": "code",
   "execution_count": null,
   "id": "702e47af",
   "metadata": {},
   "outputs": [],
   "source": []
  }
 ],
 "metadata": {
  "kernelspec": {
   "display_name": "Python 3",
   "language": "python",
   "name": "python3"
  },
  "language_info": {
   "codemirror_mode": {
    "name": "ipython",
    "version": 3
   },
   "file_extension": ".py",
   "mimetype": "text/x-python",
   "name": "python",
   "nbconvert_exporter": "python",
   "pygments_lexer": "ipython3",
   "version": "3.11.1"
  }
 },
 "nbformat": 4,
 "nbformat_minor": 5
}
