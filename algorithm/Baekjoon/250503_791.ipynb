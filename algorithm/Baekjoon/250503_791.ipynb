{
 "cells": [
  {
   "cell_type": "markdown",
   "id": "f90925d2",
   "metadata": {},
   "source": [
    "### 30979번"
   ]
  },
  {
   "cell_type": "code",
   "execution_count": 1,
   "id": "92d10311",
   "metadata": {},
   "outputs": [
    {
     "name": "stdout",
     "output_type": "stream",
     "text": [
      "Padaeng_i Cry\n"
     ]
    }
   ],
   "source": [
    "T = int(input())\n",
    "N = int(input())\n",
    "F = list(map(int, input().split()))\n",
    "\n",
    "if T <= sum(F):\n",
    "    print(\"Padaeng_i Happy\")\n",
    "else:\n",
    "    print(\"Padaeng_i Cry\")"
   ]
  },
  {
   "cell_type": "code",
   "execution_count": null,
   "id": "f5914c9e",
   "metadata": {},
   "outputs": [],
   "source": []
  },
  {
   "cell_type": "code",
   "execution_count": null,
   "id": "38290ee8",
   "metadata": {},
   "outputs": [],
   "source": []
  },
  {
   "cell_type": "code",
   "execution_count": null,
   "id": "415224ff",
   "metadata": {},
   "outputs": [],
   "source": []
  }
 ],
 "metadata": {
  "kernelspec": {
   "display_name": "Python 3",
   "language": "python",
   "name": "python3"
  },
  "language_info": {
   "codemirror_mode": {
    "name": "ipython",
    "version": 3
   },
   "file_extension": ".py",
   "mimetype": "text/x-python",
   "name": "python",
   "nbconvert_exporter": "python",
   "pygments_lexer": "ipython3",
   "version": "3.11.1"
  }
 },
 "nbformat": 4,
 "nbformat_minor": 5
}
