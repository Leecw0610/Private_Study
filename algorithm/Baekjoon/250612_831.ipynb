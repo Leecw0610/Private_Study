{
 "cells": [
  {
   "cell_type": "markdown",
   "id": "9aad82f9",
   "metadata": {},
   "source": [
    "### 32193번"
   ]
  },
  {
   "cell_type": "code",
   "execution_count": null,
   "id": "2e7a0926",
   "metadata": {},
   "outputs": [],
   "source": [
    "import sys\n",
    "input = sys.stdin.readline\n",
    "\n",
    "N = int(input())\n",
    "platform = [0]  # 원본 배열\n",
    "S = [0] * (N + 1)  # 누적합 배열\n",
    "\n",
    "# 원본 배열 작업\n",
    "for _ in range(N):\n",
    "    A, B = map(int, input().split())\n",
    "    platform.append(A - B)\n",
    "\n",
    "# 누적합 배열 작업\n",
    "for k in range(1, N + 1):\n",
    "    S[k] = S[k - 1] + platform[k]\n",
    "\n",
    "# 출력\n",
    "for i in S[1:]:\n",
    "    print(i)"
   ]
  },
  {
   "cell_type": "code",
   "execution_count": null,
   "id": "22df9086",
   "metadata": {},
   "outputs": [],
   "source": []
  },
  {
   "cell_type": "code",
   "execution_count": null,
   "id": "590bd1e5",
   "metadata": {},
   "outputs": [],
   "source": []
  },
  {
   "cell_type": "code",
   "execution_count": null,
   "id": "76c3b31d",
   "metadata": {},
   "outputs": [],
   "source": []
  }
 ],
 "metadata": {
  "kernelspec": {
   "display_name": "Python 3",
   "language": "python",
   "name": "python3"
  },
  "language_info": {
   "codemirror_mode": {
    "name": "ipython",
    "version": 3
   },
   "file_extension": ".py",
   "mimetype": "text/x-python",
   "name": "python",
   "nbconvert_exporter": "python",
   "pygments_lexer": "ipython3",
   "version": "3.11.1"
  }
 },
 "nbformat": 4,
 "nbformat_minor": 5
}
