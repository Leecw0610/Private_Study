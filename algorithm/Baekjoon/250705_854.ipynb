{
 "cells": [
  {
   "cell_type": "markdown",
   "id": "2329a14c",
   "metadata": {},
   "source": [
    "### 32951번"
   ]
  },
  {
   "cell_type": "code",
   "execution_count": 1,
   "id": "40adf750",
   "metadata": {},
   "outputs": [
    {
     "name": "stdout",
     "output_type": "stream",
     "text": [
      "7975\n"
     ]
    }
   ],
   "source": [
    "N = int(input())\n",
    "\n",
    "print(N - 2024)"
   ]
  },
  {
   "cell_type": "code",
   "execution_count": null,
   "id": "3b28ea46",
   "metadata": {},
   "outputs": [],
   "source": []
  },
  {
   "cell_type": "code",
   "execution_count": null,
   "id": "7f5aa9bc",
   "metadata": {},
   "outputs": [],
   "source": []
  },
  {
   "cell_type": "code",
   "execution_count": null,
   "id": "f5a51137",
   "metadata": {},
   "outputs": [],
   "source": []
  }
 ],
 "metadata": {
  "kernelspec": {
   "display_name": "Python 3",
   "language": "python",
   "name": "python3"
  },
  "language_info": {
   "codemirror_mode": {
    "name": "ipython",
    "version": 3
   },
   "file_extension": ".py",
   "mimetype": "text/x-python",
   "name": "python",
   "nbconvert_exporter": "python",
   "pygments_lexer": "ipython3",
   "version": "3.11.1"
  }
 },
 "nbformat": 4,
 "nbformat_minor": 5
}
