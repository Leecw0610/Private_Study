{
 "cells": [
  {
   "cell_type": "markdown",
   "id": "a94b64fc",
   "metadata": {},
   "source": [
    "### 1652번"
   ]
  },
  {
   "cell_type": "code",
   "execution_count": 1,
   "id": "aedcfb8b",
   "metadata": {},
   "outputs": [
    {
     "name": "stdout",
     "output_type": "stream",
     "text": [
      "5 4\n"
     ]
    }
   ],
   "source": [
    "n = int(input())\n",
    "li = []\n",
    "r, c = 0, 0\n",
    "cnt = 0\n",
    "for i in range(n):\n",
    "    li.append(list(input()))\n",
    "for i in range(n):\n",
    "    cnt = 0\n",
    "    for j in range(n):\n",
    "        if li[i][j] == '.':\n",
    "            cnt += 1\n",
    "        else:\n",
    "            cnt = 0\n",
    "        if cnt == 2:\n",
    "            r += 1\n",
    "for i in range(n):\n",
    "    cnt = 0\n",
    "    for j in range(n):\n",
    "        if li[j][i] == '.':\n",
    "            cnt += 1\n",
    "        else:\n",
    "            cnt = 0\n",
    "        if cnt == 2:\n",
    "            c += 1\n",
    "print(r, c)"
   ]
  },
  {
   "cell_type": "code",
   "execution_count": null,
   "id": "db56adb7",
   "metadata": {},
   "outputs": [],
   "source": []
  },
  {
   "cell_type": "code",
   "execution_count": null,
   "id": "5e5061a2",
   "metadata": {},
   "outputs": [],
   "source": []
  },
  {
   "cell_type": "code",
   "execution_count": null,
   "id": "5c51603a",
   "metadata": {},
   "outputs": [],
   "source": []
  }
 ],
 "metadata": {
  "kernelspec": {
   "display_name": "Python 3",
   "language": "python",
   "name": "python3"
  },
  "language_info": {
   "codemirror_mode": {
    "name": "ipython",
    "version": 3
   },
   "file_extension": ".py",
   "mimetype": "text/x-python",
   "name": "python",
   "nbconvert_exporter": "python",
   "pygments_lexer": "ipython3",
   "version": "3.13.6"
  }
 },
 "nbformat": 4,
 "nbformat_minor": 5
}
