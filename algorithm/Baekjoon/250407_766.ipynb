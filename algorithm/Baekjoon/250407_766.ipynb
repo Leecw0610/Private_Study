{
 "cells": [
  {
   "cell_type": "markdown",
   "id": "507a2cef",
   "metadata": {},
   "source": [
    "### 29807번"
   ]
  },
  {
   "cell_type": "code",
   "execution_count": 1,
   "id": "83325698",
   "metadata": {},
   "outputs": [
    {
     "name": "stdout",
     "output_type": "stream",
     "text": [
      "96807975\n"
     ]
    }
   ],
   "source": [
    "T = int(input())\n",
    "subject = list(map(int, input().split()))\n",
    "if T < 5:\n",
    "    subject += [0] * (5 - T)\n",
    "\n",
    "total = 0\n",
    "if subject[0] > subject[2]:\n",
    "    total += (subject[0] - subject[2]) * 508\n",
    "else:\n",
    "    total += abs(subject[0] - subject[2]) * 108\n",
    "\n",
    "if subject[1] > subject[3]:\n",
    "    total += (subject[1] - subject[3]) * 212\n",
    "else:\n",
    "    total += abs(subject[1] - subject[3]) * 305\n",
    "\n",
    "if subject[4] > 0:\n",
    "    total += subject[4] * 707\n",
    "\n",
    "print(total * 4763)"
   ]
  },
  {
   "cell_type": "code",
   "execution_count": null,
   "id": "ed6faac5",
   "metadata": {},
   "outputs": [],
   "source": []
  },
  {
   "cell_type": "code",
   "execution_count": null,
   "id": "86a13a6d",
   "metadata": {},
   "outputs": [],
   "source": []
  },
  {
   "cell_type": "code",
   "execution_count": null,
   "id": "bb423907",
   "metadata": {},
   "outputs": [],
   "source": []
  }
 ],
 "metadata": {
  "kernelspec": {
   "display_name": "Python 3",
   "language": "python",
   "name": "python3"
  },
  "language_info": {
   "codemirror_mode": {
    "name": "ipython",
    "version": 3
   },
   "file_extension": ".py",
   "mimetype": "text/x-python",
   "name": "python",
   "nbconvert_exporter": "python",
   "pygments_lexer": "ipython3",
   "version": "3.11.1"
  }
 },
 "nbformat": 4,
 "nbformat_minor": 5
}
