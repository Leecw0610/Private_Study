{
 "cells": [
  {
   "cell_type": "markdown",
   "id": "494aede0",
   "metadata": {},
   "source": [
    "### 33884번"
   ]
  },
  {
   "cell_type": "code",
   "execution_count": null,
   "id": "d2147a53",
   "metadata": {},
   "outputs": [],
   "source": [
    "import sys\n",
    "input = sys.stdin.readline\n",
    "\n",
    "N = int(input())\n",
    "first_shooting = [list(map(int, input().split())) for _ in range(N)]\n",
    "second_shooting = [list(map(int, input().split())) for _ in range(N)]\n",
    "\n",
    "first_shooting.sort(key=lambda x: (x[0], x[1]))\n",
    "second_shooting.sort(key=lambda x: (x[0], x[1]))\n",
    "\n",
    "A = second_shooting[0][0] - first_shooting[0][0]\n",
    "B = second_shooting[0][1] - first_shooting[0][1]\n",
    "\n",
    "print(A, B)"
   ]
  },
  {
   "cell_type": "code",
   "execution_count": null,
   "id": "ca44f2d9",
   "metadata": {},
   "outputs": [],
   "source": []
  },
  {
   "cell_type": "code",
   "execution_count": null,
   "id": "7207a344",
   "metadata": {},
   "outputs": [],
   "source": []
  },
  {
   "cell_type": "code",
   "execution_count": null,
   "id": "fed57263",
   "metadata": {},
   "outputs": [],
   "source": []
  }
 ],
 "metadata": {
  "kernelspec": {
   "display_name": "Python 3",
   "language": "python",
   "name": "python3"
  },
  "language_info": {
   "codemirror_mode": {
    "name": "ipython",
    "version": 3
   },
   "file_extension": ".py",
   "mimetype": "text/x-python",
   "name": "python",
   "nbconvert_exporter": "python",
   "pygments_lexer": "ipython3",
   "version": "3.11.1"
  }
 },
 "nbformat": 4,
 "nbformat_minor": 5
}
