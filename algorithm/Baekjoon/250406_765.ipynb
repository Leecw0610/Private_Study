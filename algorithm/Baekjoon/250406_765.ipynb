{
 "cells": [
  {
   "cell_type": "markdown",
   "id": "fafd8fac",
   "metadata": {},
   "source": [
    "### 29790번"
   ]
  },
  {
   "cell_type": "code",
   "execution_count": 1,
   "id": "abcd9a5c",
   "metadata": {},
   "outputs": [
    {
     "name": "stdout",
     "output_type": "stream",
     "text": [
      "Bad\n"
     ]
    }
   ],
   "source": [
    "n, u, l = map(int, input().split())\n",
    "\n",
    "if n < 1000:\n",
    "    print(\"Bad\")\n",
    "elif u >= 8000 or l >= 260:\n",
    "    print(\"Very Good\")\n",
    "else:\n",
    "    print(\"Good\")"
   ]
  },
  {
   "cell_type": "code",
   "execution_count": null,
   "id": "90489195",
   "metadata": {},
   "outputs": [],
   "source": []
  },
  {
   "cell_type": "code",
   "execution_count": null,
   "id": "9911f6ce",
   "metadata": {},
   "outputs": [],
   "source": []
  },
  {
   "cell_type": "code",
   "execution_count": null,
   "id": "570db0b6",
   "metadata": {},
   "outputs": [],
   "source": []
  }
 ],
 "metadata": {
  "kernelspec": {
   "display_name": "Python 3",
   "language": "python",
   "name": "python3"
  },
  "language_info": {
   "codemirror_mode": {
    "name": "ipython",
    "version": 3
   },
   "file_extension": ".py",
   "mimetype": "text/x-python",
   "name": "python",
   "nbconvert_exporter": "python",
   "pygments_lexer": "ipython3",
   "version": "3.11.1"
  }
 },
 "nbformat": 4,
 "nbformat_minor": 5
}
