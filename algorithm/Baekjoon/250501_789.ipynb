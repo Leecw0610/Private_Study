{
 "cells": [
  {
   "cell_type": "markdown",
   "id": "0f51838f",
   "metadata": {},
   "source": [
    "### 30957번"
   ]
  },
  {
   "cell_type": "code",
   "execution_count": 1,
   "id": "ca01395e",
   "metadata": {},
   "outputs": [
    {
     "name": "stdout",
     "output_type": "stream",
     "text": [
      "SCU\n"
     ]
    }
   ],
   "source": [
    "N = int(input())\n",
    "B = S = A = 0\n",
    "\n",
    "for i in input():\n",
    "    if i == \"B\":\n",
    "        B += 1\n",
    "    elif i == \"S\":\n",
    "        S += 1\n",
    "    elif i == \"A\":\n",
    "        A += 1\n",
    "\n",
    "if B == S and S == A and B == A:\n",
    "    print(\"SCU\")\n",
    "else:\n",
    "    if B == max(B, S, A):\n",
    "        print(\"B\", end=\"\")\n",
    "    if S == max(B, S, A):\n",
    "        print(\"S\", end=\"\")\n",
    "    if A == max(B, S, A):\n",
    "        print(\"A\", end=\"\")"
   ]
  },
  {
   "cell_type": "code",
   "execution_count": null,
   "id": "ced5750e",
   "metadata": {},
   "outputs": [],
   "source": []
  },
  {
   "cell_type": "code",
   "execution_count": null,
   "id": "0a0eaaf8",
   "metadata": {},
   "outputs": [],
   "source": []
  }
 ],
 "metadata": {
  "kernelspec": {
   "display_name": "Python 3",
   "language": "python",
   "name": "python3"
  },
  "language_info": {
   "codemirror_mode": {
    "name": "ipython",
    "version": 3
   },
   "file_extension": ".py",
   "mimetype": "text/x-python",
   "name": "python",
   "nbconvert_exporter": "python",
   "pygments_lexer": "ipython3",
   "version": "3.11.1"
  }
 },
 "nbformat": 4,
 "nbformat_minor": 5
}
