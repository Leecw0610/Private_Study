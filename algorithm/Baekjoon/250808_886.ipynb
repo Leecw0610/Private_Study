{
 "cells": [
  {
   "cell_type": "markdown",
   "id": "b213004c",
   "metadata": {},
   "source": [
    "### 1124번"
   ]
  },
  {
   "cell_type": "code",
   "execution_count": null,
   "id": "b7ad31d5",
   "metadata": {},
   "outputs": [],
   "source": [
    "input = __import__('sys').stdin.readline\n",
    "import math\n",
    "\n",
    "def find(n):\n",
    "    cnt=0\n",
    "    for i in range(2, int(math.sqrt(n) + 1)):\n",
    "        while n % i == 0:\n",
    "            cnt+=1\n",
    "            n //= i\n",
    "    if n != 1:\n",
    "        cnt+=1\n",
    "    return cnt\n",
    "\n",
    "\n",
    "a,b = map(int,input().split())\n",
    "is_prime = [True for i in range(b + 1)]\n",
    "\n",
    "is_prime[1] = False\n",
    "for i in range(2, b + 1):\n",
    "    if not is_prime[i]:\n",
    "        continue\n",
    "    \n",
    "    for j in range(i * i, b + 1, i):\n",
    "        is_prime[j] = False\n",
    "cnt=0\n",
    "for i in range(a,b+1):\n",
    "    if is_prime[find(i)] == True:\n",
    "        cnt+=1\n",
    "print(cnt)"
   ]
  },
  {
   "cell_type": "code",
   "execution_count": null,
   "id": "2c0d0905",
   "metadata": {},
   "outputs": [],
   "source": []
  },
  {
   "cell_type": "code",
   "execution_count": null,
   "id": "32cb9308",
   "metadata": {},
   "outputs": [],
   "source": []
  },
  {
   "cell_type": "code",
   "execution_count": null,
   "id": "f736ea75",
   "metadata": {},
   "outputs": [],
   "source": []
  }
 ],
 "metadata": {
  "kernelspec": {
   "display_name": "Python 3",
   "language": "python",
   "name": "python3"
  },
  "language_info": {
   "codemirror_mode": {
    "name": "ipython",
    "version": 3
   },
   "file_extension": ".py",
   "mimetype": "text/x-python",
   "name": "python",
   "nbconvert_exporter": "python",
   "pygments_lexer": "ipython3",
   "version": "3.11.1"
  }
 },
 "nbformat": 4,
 "nbformat_minor": 5
}
