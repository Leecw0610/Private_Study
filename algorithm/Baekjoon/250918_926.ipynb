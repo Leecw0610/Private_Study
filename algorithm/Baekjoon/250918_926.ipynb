{
 "cells": [
  {
   "cell_type": "markdown",
   "id": "dd8f5d6f",
   "metadata": {},
   "source": [
    "### 1388번"
   ]
  },
  {
   "cell_type": "code",
   "execution_count": null,
   "id": "cb291b1d",
   "metadata": {},
   "outputs": [],
   "source": [
    "# 방 바닥의 세로 크기 n, 가로 크기 m\n",
    "n,m = map(int, input().split())\n",
    "graph = [] \t# 2차원 리스트의 맵 정보 저장할 공간\n",
    "for _ in range(n):\n",
    "    graph.append(list(input()))\n",
    " \n",
    "# '-'모양의 나무 판자 개수 계산\n",
    "count = 0\n",
    "for i in range(n):\n",
    "    a = ''\n",
    "    for j in range(m):\n",
    "        if graph[i][j] == '-':\n",
    "            if graph[i][j] != a:\n",
    "                count += 1\n",
    "        a = graph[i][j]\n",
    " \n",
    "# 'ㅣ'모양의 나무 판자 개수 계산\n",
    "for j in range(m):\n",
    "    a = ''\n",
    "    for i in range(n):\n",
    "        if graph[i][j] == '|':\n",
    "            if graph[i][j] != a:\n",
    "                count += 1\n",
    "        a = graph[i][j]\n",
    " \n",
    "print(count)"
   ]
  },
  {
   "cell_type": "code",
   "execution_count": null,
   "id": "c42d10d2",
   "metadata": {},
   "outputs": [],
   "source": []
  },
  {
   "cell_type": "code",
   "execution_count": null,
   "id": "631b7f4b",
   "metadata": {},
   "outputs": [],
   "source": []
  },
  {
   "cell_type": "code",
   "execution_count": null,
   "id": "7ef01d01",
   "metadata": {},
   "outputs": [],
   "source": []
  }
 ],
 "metadata": {
  "kernelspec": {
   "display_name": "Python 3",
   "language": "python",
   "name": "python3"
  },
  "language_info": {
   "name": "python",
   "version": "3.13.6"
  }
 },
 "nbformat": 4,
 "nbformat_minor": 5
}
