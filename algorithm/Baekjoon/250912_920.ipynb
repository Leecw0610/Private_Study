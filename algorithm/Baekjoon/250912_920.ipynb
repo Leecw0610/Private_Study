{
 "cells": [
  {
   "cell_type": "markdown",
   "id": "53a43169",
   "metadata": {},
   "source": [
    "### 1343번"
   ]
  },
  {
   "cell_type": "code",
   "execution_count": 1,
   "id": "07e1aa4b",
   "metadata": {},
   "outputs": [
    {
     "name": "stdout",
     "output_type": "stream",
     "text": [
      "AAAABB\n"
     ]
    }
   ],
   "source": [
    "board = input()\n",
    "\n",
    "board = board.replace(\"XXXX\", \"AAAA\")\n",
    "board = board.replace(\"XX\", \"BB\")\n",
    "\n",
    "if 'X' in board:\n",
    "    print(-1)\n",
    "\n",
    "else:\n",
    "    print(board)"
   ]
  },
  {
   "cell_type": "code",
   "execution_count": null,
   "id": "9e745909",
   "metadata": {},
   "outputs": [],
   "source": []
  },
  {
   "cell_type": "code",
   "execution_count": null,
   "id": "5bfec8ea",
   "metadata": {},
   "outputs": [],
   "source": []
  },
  {
   "cell_type": "code",
   "execution_count": null,
   "id": "aaf54394",
   "metadata": {},
   "outputs": [],
   "source": []
  }
 ],
 "metadata": {
  "kernelspec": {
   "display_name": "Python 3",
   "language": "python",
   "name": "python3"
  },
  "language_info": {
   "codemirror_mode": {
    "name": "ipython",
    "version": 3
   },
   "file_extension": ".py",
   "mimetype": "text/x-python",
   "name": "python",
   "nbconvert_exporter": "python",
   "pygments_lexer": "ipython3",
   "version": "3.13.6"
  }
 },
 "nbformat": 4,
 "nbformat_minor": 5
}
