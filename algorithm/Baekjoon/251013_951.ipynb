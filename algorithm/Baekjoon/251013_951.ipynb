{
 "cells": [
  {
   "cell_type": "markdown",
   "id": "5873ea5f",
   "metadata": {},
   "source": [
    "### 1500번"
   ]
  },
  {
   "cell_type": "code",
   "execution_count": 1,
   "id": "35df53eb",
   "metadata": {},
   "outputs": [
    {
     "name": "stdout",
     "output_type": "stream",
     "text": [
      "12\n"
     ]
    }
   ],
   "source": [
    "s, k = map(int, input().split())\n",
    "print((s//k)**(k-s%k) * (s//k+1)**(s%k))"
   ]
  },
  {
   "cell_type": "code",
   "execution_count": null,
   "id": "72a238e4",
   "metadata": {},
   "outputs": [],
   "source": []
  },
  {
   "cell_type": "code",
   "execution_count": null,
   "id": "d1c2a0a9",
   "metadata": {},
   "outputs": [],
   "source": []
  },
  {
   "cell_type": "code",
   "execution_count": null,
   "id": "a7d48a12",
   "metadata": {},
   "outputs": [],
   "source": []
  }
 ],
 "metadata": {
  "kernelspec": {
   "display_name": "Python 3",
   "language": "python",
   "name": "python3"
  },
  "language_info": {
   "codemirror_mode": {
    "name": "ipython",
    "version": 3
   },
   "file_extension": ".py",
   "mimetype": "text/x-python",
   "name": "python",
   "nbconvert_exporter": "python",
   "pygments_lexer": "ipython3",
   "version": "3.13.6"
  }
 },
 "nbformat": 4,
 "nbformat_minor": 5
}
