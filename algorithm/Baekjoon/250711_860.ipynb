{
 "cells": [
  {
   "cell_type": "markdown",
   "id": "3429ec11",
   "metadata": {},
   "source": [
    "### 33868번"
   ]
  },
  {
   "cell_type": "code",
   "execution_count": 3,
   "id": "9d32b2fa",
   "metadata": {},
   "outputs": [
    {
     "name": "stdout",
     "output_type": "stream",
     "text": [
      "7\n"
     ]
    }
   ],
   "source": [
    "N = int(input())\n",
    "max_T, min_B = 1, 5000\n",
    "\n",
    "for _ in range(N):\n",
    "    T, B = map(int, input().split())\n",
    "    max_T = max(max_T, T)\n",
    "    min_B = min(min_B, B)\n",
    "\n",
    "print((max_T * min_B) % 7 + 1)"
   ]
  },
  {
   "cell_type": "code",
   "execution_count": null,
   "id": "5b452447",
   "metadata": {},
   "outputs": [],
   "source": []
  },
  {
   "cell_type": "code",
   "execution_count": null,
   "id": "2e8e5d9c",
   "metadata": {},
   "outputs": [],
   "source": []
  },
  {
   "cell_type": "code",
   "execution_count": null,
   "id": "fb067110",
   "metadata": {},
   "outputs": [],
   "source": []
  }
 ],
 "metadata": {
  "kernelspec": {
   "display_name": "Python 3",
   "language": "python",
   "name": "python3"
  },
  "language_info": {
   "codemirror_mode": {
    "name": "ipython",
    "version": 3
   },
   "file_extension": ".py",
   "mimetype": "text/x-python",
   "name": "python",
   "nbconvert_exporter": "python",
   "pygments_lexer": "ipython3",
   "version": "3.11.1"
  }
 },
 "nbformat": 4,
 "nbformat_minor": 5
}
