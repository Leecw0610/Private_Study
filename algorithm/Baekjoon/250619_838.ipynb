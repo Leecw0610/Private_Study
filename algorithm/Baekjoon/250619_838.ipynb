{
 "cells": [
  {
   "cell_type": "markdown",
   "id": "11391b0a",
   "metadata": {},
   "source": [
    "### 32288번"
   ]
  },
  {
   "cell_type": "code",
   "execution_count": 3,
   "id": "bd742e8e",
   "metadata": {},
   "outputs": [
    {
     "name": "stdout",
     "output_type": "stream",
     "text": [
      "iLLiLLiLiL\n"
     ]
    }
   ],
   "source": [
    "n = int(input())\n",
    "S = input()\n",
    "result = \"\"\n",
    "\n",
    "for s in S:\n",
    "    if s == \"I\":\n",
    "        result += \"i\"\n",
    "    elif s == \"l\":\n",
    "        result += \"L\"\n",
    "\n",
    "print(result)"
   ]
  },
  {
   "cell_type": "code",
   "execution_count": null,
   "id": "f2a839e4",
   "metadata": {},
   "outputs": [],
   "source": []
  },
  {
   "cell_type": "code",
   "execution_count": null,
   "id": "8f99ecc0",
   "metadata": {},
   "outputs": [],
   "source": []
  },
  {
   "cell_type": "code",
   "execution_count": null,
   "id": "bdcf1549",
   "metadata": {},
   "outputs": [],
   "source": []
  }
 ],
 "metadata": {
  "kernelspec": {
   "display_name": "Python 3",
   "language": "python",
   "name": "python3"
  },
  "language_info": {
   "codemirror_mode": {
    "name": "ipython",
    "version": 3
   },
   "file_extension": ".py",
   "mimetype": "text/x-python",
   "name": "python",
   "nbconvert_exporter": "python",
   "pygments_lexer": "ipython3",
   "version": "3.11.1"
  }
 },
 "nbformat": 4,
 "nbformat_minor": 5
}
