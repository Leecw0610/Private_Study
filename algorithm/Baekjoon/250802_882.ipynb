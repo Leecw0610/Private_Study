{
 "cells": [
  {
   "cell_type": "markdown",
   "id": "bd0803ca",
   "metadata": {},
   "source": [
    "### 1080번"
   ]
  },
  {
   "cell_type": "code",
   "execution_count": null,
   "id": "9c8e5b5b",
   "metadata": {},
   "outputs": [],
   "source": [
    "from sys import stdin\n",
    "\n",
    "def toggle(r,c):\n",
    "    for i in range(r,r+3):\n",
    "        for j in range(c,c+3):\n",
    "            A[i][j] ^= 1\n",
    "\n",
    "N,M = map(int,stdin.readline().split())\n",
    "A = [list(map(int,stdin.readline().rstrip())) for _ in range(N)]\n",
    "B = [list(map(int,stdin.readline().rstrip())) for _ in range(N)]\n",
    "\n",
    "cnt = 0\n",
    "for i in range(N-2):\n",
    "    for j in range(M-2):\n",
    "        if A[i][j] != B[i][j]:\n",
    "            toggle(i,j)\n",
    "            cnt += 1\n",
    "\n",
    "print(cnt if A == B else -1)"
   ]
  },
  {
   "cell_type": "code",
   "execution_count": null,
   "id": "d1a7c993",
   "metadata": {},
   "outputs": [],
   "source": []
  },
  {
   "cell_type": "code",
   "execution_count": null,
   "id": "b853ff46",
   "metadata": {},
   "outputs": [],
   "source": []
  },
  {
   "cell_type": "code",
   "execution_count": null,
   "id": "096dee41",
   "metadata": {},
   "outputs": [],
   "source": []
  }
 ],
 "metadata": {
  "kernelspec": {
   "display_name": "Python 3",
   "language": "python",
   "name": "python3"
  },
  "language_info": {
   "name": "python",
   "version": "3.11.1"
  }
 },
 "nbformat": 4,
 "nbformat_minor": 5
}
