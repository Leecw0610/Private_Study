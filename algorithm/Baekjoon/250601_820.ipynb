{
 "cells": [
  {
   "cell_type": "markdown",
   "id": "03fa8b05",
   "metadata": {},
   "source": [
    "### 31881번"
   ]
  },
  {
   "cell_type": "code",
   "execution_count": null,
   "id": "fb1d2280",
   "metadata": {},
   "outputs": [],
   "source": [
    "import sys\n",
    "input = sys.stdin.readline\n",
    "\n",
    "N, Q = map(int, input().rstrip().split())\n",
    "virus_computer = [False] * (N + 1)\n",
    "result = N\n",
    "\n",
    "for _ in range(Q):\n",
    "    query = input().split()\n",
    "    if len(query) > 1:\n",
    "        case, x = int(query[0]), int(query[1])\n",
    "    else:\n",
    "        case = int(query[0])\n",
    "\n",
    "    if case == 1:\n",
    "        if not virus_computer[x]:\n",
    "            result -= 1\n",
    "        virus_computer[x] = True\n",
    "\n",
    "    elif case == 2:\n",
    "        if virus_computer[x]:\n",
    "            result += 1\n",
    "        virus_computer[x] = False\n",
    "\n",
    "    elif case == 3:\n",
    "        print(result)"
   ]
  },
  {
   "cell_type": "code",
   "execution_count": null,
   "id": "68d60008",
   "metadata": {},
   "outputs": [],
   "source": []
  },
  {
   "cell_type": "code",
   "execution_count": null,
   "id": "0542555c",
   "metadata": {},
   "outputs": [],
   "source": []
  },
  {
   "cell_type": "code",
   "execution_count": null,
   "id": "2d5b70de",
   "metadata": {},
   "outputs": [],
   "source": []
  }
 ],
 "metadata": {
  "kernelspec": {
   "display_name": "Python 3",
   "language": "python",
   "name": "python3"
  },
  "language_info": {
   "codemirror_mode": {
    "name": "ipython",
    "version": 3
   },
   "file_extension": ".py",
   "mimetype": "text/x-python",
   "name": "python",
   "nbconvert_exporter": "python",
   "pygments_lexer": "ipython3",
   "version": "3.11.1"
  }
 },
 "nbformat": 4,
 "nbformat_minor": 5
}
