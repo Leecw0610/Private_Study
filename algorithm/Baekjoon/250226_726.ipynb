{
 "cells": [
  {
   "cell_type": "markdown",
   "metadata": {
    "vscode": {
     "languageId": "plaintext"
    }
   },
   "source": [
    "### 27522번"
   ]
  },
  {
   "cell_type": "code",
   "execution_count": 1,
   "metadata": {},
   "outputs": [
    {
     "name": "stdout",
     "output_type": "stream",
     "text": [
      "Red\n"
     ]
    }
   ],
   "source": [
    "all_record = {}\n",
    "\n",
    "for i in range(8):\n",
    "    record, team = input().split()\n",
    "    M, SS, sss = record.split(\":\")\n",
    "    result = float(str(int(M) * 60 + int(SS)) + \".\" + sss)\n",
    "    all_record[result] = team\n",
    "\n",
    "all_record = sorted(all_record.items())\n",
    "\n",
    "point = [10, 8, 6, 5, 4, 3, 2, 1]\n",
    "R, B = 0, 0\n",
    "\n",
    "for i in range(8):\n",
    "    if all_record[i][1] == \"R\":\n",
    "        R += point[i]\n",
    "    else:\n",
    "        B += point[i]\n",
    "\n",
    "if R > B:\n",
    "    print(\"Red\")\n",
    "else:\n",
    "    print(\"Blue\")"
   ]
  },
  {
   "cell_type": "code",
   "execution_count": null,
   "metadata": {},
   "outputs": [],
   "source": []
  },
  {
   "cell_type": "code",
   "execution_count": null,
   "metadata": {},
   "outputs": [],
   "source": []
  },
  {
   "cell_type": "code",
   "execution_count": null,
   "metadata": {},
   "outputs": [],
   "source": []
  }
 ],
 "metadata": {
  "kernelspec": {
   "display_name": "Python 3",
   "language": "python",
   "name": "python3"
  },
  "language_info": {
   "codemirror_mode": {
    "name": "ipython",
    "version": 3
   },
   "file_extension": ".py",
   "mimetype": "text/x-python",
   "name": "python",
   "nbconvert_exporter": "python",
   "pygments_lexer": "ipython3",
   "version": "3.11.1"
  }
 },
 "nbformat": 4,
 "nbformat_minor": 2
}
