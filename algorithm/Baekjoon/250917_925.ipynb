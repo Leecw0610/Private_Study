{
 "cells": [
  {
   "cell_type": "markdown",
   "id": "8a39cb58",
   "metadata": {},
   "source": [
    "### 1384번"
   ]
  },
  {
   "cell_type": "code",
   "execution_count": null,
   "id": "32531cfa",
   "metadata": {},
   "outputs": [],
   "source": [
    "import sys\n",
    "input=sys.stdin.readline\n",
    "\n",
    "g=1\n",
    "while True:\n",
    "    n=int(input())\n",
    "    if n==0:\n",
    "        break\n",
    "    kids=[]\n",
    "    bad_words=[]\n",
    "    for i in range(n):\n",
    "        tmp=list(input().rstrip().split())\n",
    "        kids.append(tmp[0])\n",
    "        for j in range(1,n):\n",
    "            if tmp[j]==\"N\":\n",
    "                bad_words.append([(i-j)%n,i])\n",
    "\n",
    "    print(\"Group \"+str(g))\n",
    "    if len(bad_words)==0:\n",
    "        print(\"Nobody was nasty\")\n",
    "    else:\n",
    "        for i in bad_words:\n",
    "            print(kids[i[0]]+\" was nasty about \"+kids[i[1]])\n",
    "    print(\"\")\n",
    "    g+=1"
   ]
  },
  {
   "cell_type": "code",
   "execution_count": null,
   "id": "6f527eb7",
   "metadata": {},
   "outputs": [],
   "source": []
  },
  {
   "cell_type": "code",
   "execution_count": null,
   "id": "18f8ac86",
   "metadata": {},
   "outputs": [],
   "source": []
  },
  {
   "cell_type": "code",
   "execution_count": null,
   "id": "e31f9abb",
   "metadata": {},
   "outputs": [],
   "source": []
  }
 ],
 "metadata": {
  "language_info": {
   "name": "python"
  }
 },
 "nbformat": 4,
 "nbformat_minor": 5
}
