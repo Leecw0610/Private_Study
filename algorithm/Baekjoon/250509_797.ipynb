{
 "cells": [
  {
   "cell_type": "markdown",
   "id": "a7c4167a",
   "metadata": {},
   "source": [
    "### 31429번"
   ]
  },
  {
   "cell_type": "code",
   "execution_count": null,
   "id": "f0bf3ad4",
   "metadata": {},
   "outputs": [
    {
     "name": "stdout",
     "output_type": "stream",
     "text": [
      "11 1327\n"
     ]
    }
   ],
   "source": [
    "score_board = {\n",
    "    1 : (12,1600),\n",
    "    2 : (11,894),\n",
    "    3 : (11,1327),\n",
    "    4 : (10,1311),\n",
    "    5 : (9,1004),\n",
    "    6 : (9, 1178),\n",
    "    7 : (9, 1357),\n",
    "    8 : (8, 837),\n",
    "    9 : (7,1055),\n",
    "    10 : (6,556),\n",
    "    11 : (6,773)\n",
    "}\n",
    "\n",
    "N = int(input())\n",
    "\n",
    "print(score_board[N][0],score_board[N][1])"
   ]
  },
  {
   "cell_type": "code",
   "execution_count": null,
   "id": "1b0cf203",
   "metadata": {},
   "outputs": [],
   "source": []
  },
  {
   "cell_type": "code",
   "execution_count": null,
   "id": "2c2dfab6",
   "metadata": {},
   "outputs": [],
   "source": []
  },
  {
   "cell_type": "code",
   "execution_count": null,
   "id": "07700138",
   "metadata": {},
   "outputs": [],
   "source": []
  }
 ],
 "metadata": {
  "kernelspec": {
   "display_name": "Python 3",
   "language": "python",
   "name": "python3"
  },
  "language_info": {
   "codemirror_mode": {
    "name": "ipython",
    "version": 3
   },
   "file_extension": ".py",
   "mimetype": "text/x-python",
   "name": "python",
   "nbconvert_exporter": "python",
   "pygments_lexer": "ipython3",
   "version": "3.11.1"
  }
 },
 "nbformat": 4,
 "nbformat_minor": 5
}
