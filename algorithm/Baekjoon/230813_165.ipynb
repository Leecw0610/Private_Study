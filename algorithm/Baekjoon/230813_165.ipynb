{
 "cells": [
  {
   "cell_type": "markdown",
   "metadata": {},
   "source": [
    "### 2684번"
   ]
  },
  {
   "cell_type": "code",
   "execution_count": 1,
   "metadata": {},
   "outputs": [
    {
     "name": "stdout",
     "output_type": "stream",
     "text": [
      "0 0 0 0 0 0 0 38 \n",
      "38 0 0 0 0 0 0 0 \n",
      "4 7 6 4 7 4 5 1 \n",
      "6 3 4 5 3 6 5 6 \n"
     ]
    }
   ],
   "source": [
    "for _ in range(int(input())):\n",
    "    d = {\"TTT\": 0, \"TTH\": 0, \"THT\": 0, \"THH\": 0, \"HTT\": 0, \"HTH\": 0, \"HHT\": 0, \"HHH\": 0}\n",
    "    s = input()\n",
    "    for i in range(38):\n",
    "        d[s[i:i+3]] += 1\n",
    "    for t, n in d.items():\n",
    "        print(n, end=' ')\n",
    "    print()"
   ]
  },
  {
   "cell_type": "code",
   "execution_count": null,
   "metadata": {},
   "outputs": [],
   "source": []
  },
  {
   "cell_type": "code",
   "execution_count": null,
   "metadata": {},
   "outputs": [],
   "source": []
  },
  {
   "cell_type": "code",
   "execution_count": null,
   "metadata": {},
   "outputs": [],
   "source": []
  },
  {
   "cell_type": "code",
   "execution_count": null,
   "metadata": {},
   "outputs": [],
   "source": []
  }
 ],
 "metadata": {
  "kernelspec": {
   "display_name": "Python 3",
   "language": "python",
   "name": "python3"
  },
  "language_info": {
   "codemirror_mode": {
    "name": "ipython",
    "version": 3
   },
   "file_extension": ".py",
   "mimetype": "text/x-python",
   "name": "python",
   "nbconvert_exporter": "python",
   "pygments_lexer": "ipython3",
   "version": "3.11.1"
  },
  "orig_nbformat": 4
 },
 "nbformat": 4,
 "nbformat_minor": 2
}
