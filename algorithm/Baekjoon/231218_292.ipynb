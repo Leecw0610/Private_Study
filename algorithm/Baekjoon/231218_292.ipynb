{
 "cells": [
  {
   "cell_type": "code",
   "execution_count": 1,
   "metadata": {},
   "outputs": [
    {
     "name": "stdout",
     "output_type": "stream",
     "text": [
      "0\n",
      "63\n",
      "63\n"
     ]
    }
   ],
   "source": [
    "n = int(input())\n",
    "score = [[], [], []]\n",
    "sum = []\n",
    " \n",
    "for i in range(n):\n",
    "    a, b, c = map(int, input().split())\n",
    "    score[0].append(a)\n",
    "    score[1].append(b)\n",
    "    score[2].append(c)\n",
    "    \n",
    "for i in range(n):\n",
    "    get = 0\n",
    "    for j in range(3):\n",
    "        if score[j].count(score[j][i]) == 1:\n",
    "            get += score[j][i]\n",
    "    sum.append(get)\n",
    "for i in sum:\n",
    "    print(i)"
   ]
  },
  {
   "cell_type": "code",
   "execution_count": null,
   "metadata": {},
   "outputs": [],
   "source": []
  },
  {
   "cell_type": "code",
   "execution_count": null,
   "metadata": {},
   "outputs": [],
   "source": []
  },
  {
   "cell_type": "code",
   "execution_count": null,
   "metadata": {},
   "outputs": [],
   "source": []
  }
 ],
 "metadata": {
  "kernelspec": {
   "display_name": "Python 3",
   "language": "python",
   "name": "python3"
  },
  "language_info": {
   "codemirror_mode": {
    "name": "ipython",
    "version": 3
   },
   "file_extension": ".py",
   "mimetype": "text/x-python",
   "name": "python",
   "nbconvert_exporter": "python",
   "pygments_lexer": "ipython3",
   "version": "3.11.1"
  }
 },
 "nbformat": 4,
 "nbformat_minor": 2
}
