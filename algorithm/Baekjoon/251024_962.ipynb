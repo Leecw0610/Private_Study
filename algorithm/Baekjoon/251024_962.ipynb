{
 "cells": [
  {
   "cell_type": "markdown",
   "id": "4ac7b737",
   "metadata": {},
   "source": [
    "### 1564번"
   ]
  },
  {
   "cell_type": "code",
   "execution_count": 1,
   "id": "31130400",
   "metadata": {},
   "outputs": [
    {
     "name": "stdout",
     "output_type": "stream",
     "text": [
      "05728\n"
     ]
    }
   ],
   "source": [
    "n = int(input())\n",
    "f = 1\n",
    "for i in range(2,n+1):\n",
    "    f*=i\n",
    "    while True:\n",
    "        if str(f)[-1] == \"0\":\n",
    "            f //= 10\n",
    "        else:\n",
    "            break\n",
    "    f%=100000000000000000\n",
    "print(str(f)[-5:])"
   ]
  },
  {
   "cell_type": "code",
   "execution_count": null,
   "id": "bae93f88",
   "metadata": {},
   "outputs": [],
   "source": []
  },
  {
   "cell_type": "code",
   "execution_count": null,
   "id": "a814fd26",
   "metadata": {},
   "outputs": [],
   "source": []
  },
  {
   "cell_type": "code",
   "execution_count": null,
   "id": "3025fe38",
   "metadata": {},
   "outputs": [],
   "source": []
  }
 ],
 "metadata": {
  "kernelspec": {
   "display_name": "Python 3",
   "language": "python",
   "name": "python3"
  },
  "language_info": {
   "codemirror_mode": {
    "name": "ipython",
    "version": 3
   },
   "file_extension": ".py",
   "mimetype": "text/x-python",
   "name": "python",
   "nbconvert_exporter": "python",
   "pygments_lexer": "ipython3",
   "version": "3.13.6"
  }
 },
 "nbformat": 4,
 "nbformat_minor": 5
}
