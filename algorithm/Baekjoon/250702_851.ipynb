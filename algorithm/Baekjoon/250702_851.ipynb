{
 "cells": [
  {
   "cell_type": "markdown",
   "id": "536d0a97",
   "metadata": {},
   "source": [
    "### 32866번"
   ]
  },
  {
   "cell_type": "code",
   "execution_count": 1,
   "id": "85464650",
   "metadata": {},
   "outputs": [
    {
     "name": "stdout",
     "output_type": "stream",
     "text": [
      "14.942529\n"
     ]
    }
   ],
   "source": [
    "N = int(input())\n",
    "X = int(input())\n",
    "\n",
    "coin_amount = N * (1 - X / 100)\n",
    "Y = (N / coin_amount - 1) * 100\n",
    "\n",
    "print(f\"{Y:.6f}\")"
   ]
  },
  {
   "cell_type": "code",
   "execution_count": null,
   "id": "b4bf095c",
   "metadata": {},
   "outputs": [],
   "source": []
  },
  {
   "cell_type": "code",
   "execution_count": null,
   "id": "e8226f2e",
   "metadata": {},
   "outputs": [],
   "source": []
  },
  {
   "cell_type": "code",
   "execution_count": null,
   "id": "0dbf010b",
   "metadata": {},
   "outputs": [],
   "source": []
  }
 ],
 "metadata": {
  "kernelspec": {
   "display_name": "Python 3",
   "language": "python",
   "name": "python3"
  },
  "language_info": {
   "codemirror_mode": {
    "name": "ipython",
    "version": 3
   },
   "file_extension": ".py",
   "mimetype": "text/x-python",
   "name": "python",
   "nbconvert_exporter": "python",
   "pygments_lexer": "ipython3",
   "version": "3.11.1"
  }
 },
 "nbformat": 4,
 "nbformat_minor": 5
}
