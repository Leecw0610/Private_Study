{
 "cells": [
  {
   "cell_type": "markdown",
   "metadata": {},
   "source": [
    "### 3076번"
   ]
  },
  {
   "cell_type": "code",
   "execution_count": 1,
   "metadata": {},
   "outputs": [
    {
     "name": "stdout",
     "output_type": "stream",
     "text": [
      "XXX...XXX...XXX\n",
      "XXX...XXX...XXX\n",
      "...XXX...XXX...\n",
      "...XXX...XXX...\n",
      "XXX...XXX...XXX\n",
      "XXX...XXX...XXX\n",
      "...XXX...XXX...\n",
      "...XXX...XXX...\n",
      "XXX...XXX...XXX\n",
      "XXX...XXX...XXX\n"
     ]
    }
   ],
   "source": [
    "R, C = map(int, input().split())\n",
    "A, B = map(int, input().split())\n",
    "\n",
    "li = []\n",
    "t1, t2 = '', ''\n",
    "for i in range(C):\n",
    "    if i % 2:\n",
    "        t1 += '.' * B\n",
    "    else:\n",
    "        t1 += 'X' * B\n",
    "    if i % 2:\n",
    "        t2 += 'X' * B\n",
    "    else:\n",
    "        t2 += '.' * B\n",
    "for i in range(R):\n",
    "    if i % 2:\n",
    "        for _ in range(A):\n",
    "            print(t2)\n",
    "    else:\n",
    "        for _ in range(A):\n",
    "            print(t1)"
   ]
  },
  {
   "cell_type": "code",
   "execution_count": null,
   "metadata": {},
   "outputs": [],
   "source": []
  },
  {
   "cell_type": "code",
   "execution_count": null,
   "metadata": {},
   "outputs": [],
   "source": []
  },
  {
   "cell_type": "code",
   "execution_count": null,
   "metadata": {},
   "outputs": [],
   "source": []
  },
  {
   "cell_type": "code",
   "execution_count": null,
   "metadata": {},
   "outputs": [],
   "source": []
  },
  {
   "cell_type": "code",
   "execution_count": null,
   "metadata": {},
   "outputs": [],
   "source": []
  }
 ],
 "metadata": {
  "kernelspec": {
   "display_name": "Python 3",
   "language": "python",
   "name": "python3"
  },
  "language_info": {
   "codemirror_mode": {
    "name": "ipython",
    "version": 3
   },
   "file_extension": ".py",
   "mimetype": "text/x-python",
   "name": "python",
   "nbconvert_exporter": "python",
   "pygments_lexer": "ipython3",
   "version": "3.11.1"
  }
 },
 "nbformat": 4,
 "nbformat_minor": 2
}
