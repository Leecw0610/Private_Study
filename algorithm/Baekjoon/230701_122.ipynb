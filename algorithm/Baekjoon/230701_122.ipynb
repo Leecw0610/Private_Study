{
 "cells": [
  {
   "attachments": {},
   "cell_type": "markdown",
   "metadata": {},
   "source": [
    "### 2160번"
   ]
  },
  {
   "cell_type": "code",
   "execution_count": null,
   "metadata": {},
   "outputs": [],
   "source": [
    "import sys\n",
    "input=sys.stdin.readline\n",
    "\n",
    "n = int(input())\n",
    "pic = []\n",
    "for i in range(n):\n",
    "    pic.append(list([input().rstrip() for _ in range(5)]))\n",
    "\n",
    "a = []\n",
    "for i in range(n - 1):\n",
    "    for j in range(i + 1, n):\n",
    "        temp = 0\n",
    "        for k in range(5):\n",
    "            for l in range(7):\n",
    "                if pic[i][k][l] != pic[j][k][l]:\n",
    "                    temp += 1\n",
    "        a.append((temp, i + 1, j + 1))\n",
    "\n",
    "result = min(a)\n",
    "print(result[1], result[2])"
   ]
  },
  {
   "cell_type": "code",
   "execution_count": null,
   "metadata": {},
   "outputs": [],
   "source": []
  },
  {
   "cell_type": "code",
   "execution_count": null,
   "metadata": {},
   "outputs": [],
   "source": []
  },
  {
   "cell_type": "code",
   "execution_count": null,
   "metadata": {},
   "outputs": [],
   "source": []
  }
 ],
 "metadata": {
  "kernelspec": {
   "display_name": "Python 3",
   "language": "python",
   "name": "python3"
  },
  "language_info": {
   "name": "python",
   "version": "3.11.1"
  },
  "orig_nbformat": 4
 },
 "nbformat": 4,
 "nbformat_minor": 2
}
