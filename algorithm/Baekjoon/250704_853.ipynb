{
 "cells": [
  {
   "cell_type": "markdown",
   "id": "b9d99b26",
   "metadata": {},
   "source": [
    "### 32941번"
   ]
  },
  {
   "cell_type": "code",
   "execution_count": 1,
   "id": "201a1cda",
   "metadata": {},
   "outputs": [
    {
     "name": "stdout",
     "output_type": "stream",
     "text": [
      "NO\n"
     ]
    }
   ],
   "source": [
    "T, X = map(int, input().split())\n",
    "N = int(input())\n",
    "result = True  # 모든 조원 참석 가능 여부\n",
    "\n",
    "for _ in range(N):\n",
    "    K = int(input())\n",
    "    A = list(map(int, input().split()))\n",
    "\n",
    "    if X not in A:\n",
    "        result = False\n",
    "\n",
    "if result:\n",
    "    print(\"YES\")\n",
    "else:\n",
    "    print(\"NO\")"
   ]
  },
  {
   "cell_type": "code",
   "execution_count": null,
   "id": "d7ea463b",
   "metadata": {},
   "outputs": [],
   "source": []
  },
  {
   "cell_type": "code",
   "execution_count": null,
   "id": "cb0dfc5a",
   "metadata": {},
   "outputs": [],
   "source": []
  },
  {
   "cell_type": "code",
   "execution_count": null,
   "id": "e1e55854",
   "metadata": {},
   "outputs": [],
   "source": []
  }
 ],
 "metadata": {
  "kernelspec": {
   "display_name": "Python 3",
   "language": "python",
   "name": "python3"
  },
  "language_info": {
   "codemirror_mode": {
    "name": "ipython",
    "version": 3
   },
   "file_extension": ".py",
   "mimetype": "text/x-python",
   "name": "python",
   "nbconvert_exporter": "python",
   "pygments_lexer": "ipython3",
   "version": "3.11.1"
  }
 },
 "nbformat": 4,
 "nbformat_minor": 5
}
