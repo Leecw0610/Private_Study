{
 "cells": [
  {
   "cell_type": "markdown",
   "id": "3e9e72cf",
   "metadata": {},
   "source": [
    "### 1303번"
   ]
  },
  {
   "cell_type": "code",
   "execution_count": 3,
   "id": "82d49940",
   "metadata": {},
   "outputs": [
    {
     "name": "stdout",
     "output_type": "stream",
     "text": [
      "130 65\n"
     ]
    }
   ],
   "source": [
    "from collections import deque\n",
    "\n",
    "# BFS\n",
    "def bfs(x, y, color):\n",
    "    cnt = 0  # 병사 수\n",
    "    queue = deque()\n",
    "    # 시작 지점 삽입, 방문 처리\n",
    "    queue.append((x, y))\n",
    "    graph[x][y] = 0\n",
    "\n",
    "    while queue:\n",
    "        x, y = queue.popleft()\n",
    "        cnt += 1\n",
    "        for i in range(4):\n",
    "            nx = x + dx[i]\n",
    "            ny = y + dy[i]\n",
    "            if(0 <= nx < m and 0 <= ny < n):\n",
    "                # 방문한적이 없으면 삽입, 방문 처리\n",
    "                if(graph[nx][ny] == color):\n",
    "                    queue.append((nx, ny))\n",
    "                    graph[nx][ny] = 0\n",
    "    return cnt\n",
    "\n",
    "n, m = map(int, input().split())  # 가로, 세로\n",
    "# m * n (W:흰색 옷, B: 파란색 옷)\n",
    "graph = [list(input()) for _ in range(m)]\n",
    "dx = [-1, 1, 0, 0]\n",
    "dy = [0, 0, -1, 1]\n",
    "\n",
    "white = 0\n",
    "blue = 0\n",
    "for i in range(m):\n",
    "    for j in range(n):\n",
    "        if(graph[i][j] == 'W'):\n",
    "            white += (bfs(i, j, 'W'))**2\n",
    "        elif(graph[i][j] == 'B'):\n",
    "            blue += (bfs(i, j, 'B'))**2\n",
    "\n",
    "print(white, blue)"
   ]
  },
  {
   "cell_type": "code",
   "execution_count": null,
   "id": "076f606e",
   "metadata": {},
   "outputs": [],
   "source": []
  },
  {
   "cell_type": "code",
   "execution_count": null,
   "id": "4741531a",
   "metadata": {},
   "outputs": [],
   "source": []
  },
  {
   "cell_type": "code",
   "execution_count": null,
   "id": "e95363fa",
   "metadata": {},
   "outputs": [],
   "source": []
  }
 ],
 "metadata": {
  "kernelspec": {
   "display_name": "Python 3",
   "language": "python",
   "name": "python3"
  },
  "language_info": {
   "codemirror_mode": {
    "name": "ipython",
    "version": 3
   },
   "file_extension": ".py",
   "mimetype": "text/x-python",
   "name": "python",
   "nbconvert_exporter": "python",
   "pygments_lexer": "ipython3",
   "version": "3.13.6"
  }
 },
 "nbformat": 4,
 "nbformat_minor": 5
}
