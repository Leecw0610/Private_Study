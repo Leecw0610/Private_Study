{
 "cells": [
  {
   "cell_type": "markdown",
   "metadata": {},
   "source": [
    "### 1173번"
   ]
  },
  {
   "cell_type": "code",
   "execution_count": 1,
   "metadata": {},
   "outputs": [],
   "source": [
    "import sys\n",
    "\n",
    "input = sys.stdin.readline\n",
    "N, m, M, T, R = map(int, input().split())\n",
    "pulse = m\n",
    "time = 0\n",
    "exercise = 0\n",
    "\n",
    "while exercise < N:\n",
    "    if m + T > M:\n",
    "        time = -1\n",
    "        break\n",
    "    time += 1\n",
    "    if pulse + T < M:\n",
    "        pulse += T\n",
    "        exercise += 1\n",
    "    else:\n",
    "        if pulse - R < m:\n",
    "            pulse = m\n",
    "        else:\n",
    "            pulse -= R\n",
    "print(time)\n",
    "\n"
   ]
  },
  {
   "cell_type": "code",
   "execution_count": null,
   "metadata": {},
   "outputs": [],
   "source": []
  },
  {
   "cell_type": "code",
   "execution_count": null,
   "metadata": {},
   "outputs": [],
   "source": []
  }
 ],
 "metadata": {
  "kernelspec": {
   "display_name": "base",
   "language": "python",
   "name": "python3"
  },
  "language_info": {
   "codemirror_mode": {
    "name": "ipython",
    "version": 3
   },
   "file_extension": ".py",
   "mimetype": "text/x-python",
   "name": "python",
   "nbconvert_exporter": "python",
   "pygments_lexer": "ipython3",
   "version": "3.9.15"
  },
  "orig_nbformat": 4
 },
 "nbformat": 4,
 "nbformat_minor": 2
}
