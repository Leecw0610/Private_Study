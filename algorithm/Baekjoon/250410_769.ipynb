{
 "cells": [
  {
   "cell_type": "markdown",
   "id": "d24dc24e",
   "metadata": {},
   "source": [
    "### 30017번"
   ]
  },
  {
   "cell_type": "code",
   "execution_count": 2,
   "id": "bc32f6d4",
   "metadata": {},
   "outputs": [
    {
     "name": "stdout",
     "output_type": "stream",
     "text": [
      "5\n"
     ]
    }
   ],
   "source": [
    "A, B = map(int, input().split())\n",
    "\n",
    "while A >= 2:\n",
    "    if B >= A - 1:\n",
    "        print(2 * A - 1)\n",
    "        break\n",
    "    else:\n",
    "        A -= 1"
   ]
  },
  {
   "cell_type": "code",
   "execution_count": null,
   "id": "d4daa118",
   "metadata": {},
   "outputs": [],
   "source": []
  },
  {
   "cell_type": "code",
   "execution_count": null,
   "id": "912cd071",
   "metadata": {},
   "outputs": [],
   "source": []
  },
  {
   "cell_type": "code",
   "execution_count": null,
   "id": "a531f37a",
   "metadata": {},
   "outputs": [],
   "source": []
  }
 ],
 "metadata": {
  "kernelspec": {
   "display_name": "Python 3",
   "language": "python",
   "name": "python3"
  },
  "language_info": {
   "codemirror_mode": {
    "name": "ipython",
    "version": 3
   },
   "file_extension": ".py",
   "mimetype": "text/x-python",
   "name": "python",
   "nbconvert_exporter": "python",
   "pygments_lexer": "ipython3",
   "version": "3.11.1"
  }
 },
 "nbformat": 4,
 "nbformat_minor": 5
}
