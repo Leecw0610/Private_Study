{
 "cells": [
  {
   "cell_type": "markdown",
   "id": "2c98a428",
   "metadata": {},
   "source": [
    "### 30889번"
   ]
  },
  {
   "cell_type": "code",
   "execution_count": 1,
   "id": "c6bebb30",
   "metadata": {},
   "outputs": [
    {
     "name": "stdout",
     "output_type": "stream",
     "text": [
      "....o...............\n",
      "....................\n",
      "....................\n",
      "...o................\n",
      "....................\n",
      ".............o......\n",
      "....................\n",
      "....................\n",
      "o...................\n",
      "....................\n"
     ]
    }
   ],
   "source": [
    "N = int(input())\n",
    "seat = [[\".\" for _ in range(20)] for _ in range(10)]\n",
    "\n",
    "for _ in range(N):\n",
    "    info = input()\n",
    "    row, column = info[0], int(info[1:])\n",
    "    seat[ord(row) - 65][column - 1] = \"o\"\n",
    "\n",
    "for s in seat:\n",
    "    print(\"\".join(s))"
   ]
  },
  {
   "cell_type": "code",
   "execution_count": null,
   "id": "7019330e",
   "metadata": {},
   "outputs": [],
   "source": []
  },
  {
   "cell_type": "code",
   "execution_count": null,
   "id": "78a786a2",
   "metadata": {},
   "outputs": [],
   "source": []
  },
  {
   "cell_type": "code",
   "execution_count": null,
   "id": "ce714bc5",
   "metadata": {},
   "outputs": [],
   "source": []
  }
 ],
 "metadata": {
  "kernelspec": {
   "display_name": "Python 3",
   "language": "python",
   "name": "python3"
  },
  "language_info": {
   "codemirror_mode": {
    "name": "ipython",
    "version": 3
   },
   "file_extension": ".py",
   "mimetype": "text/x-python",
   "name": "python",
   "nbconvert_exporter": "python",
   "pygments_lexer": "ipython3",
   "version": "3.11.1"
  }
 },
 "nbformat": 4,
 "nbformat_minor": 5
}
