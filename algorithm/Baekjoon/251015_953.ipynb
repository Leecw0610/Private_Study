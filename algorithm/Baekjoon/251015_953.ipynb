{
 "cells": [
  {
   "cell_type": "markdown",
   "id": "4a5ed596",
   "metadata": {},
   "source": [
    "### 1515번"
   ]
  },
  {
   "cell_type": "code",
   "execution_count": null,
   "id": "a33c3287",
   "metadata": {},
   "outputs": [],
   "source": [
    "input = __import__('sys').stdin.readline\n",
    "import math\n",
    "\n",
    "n = list(map(str,input().strip()))\n",
    "\n",
    "i = 1\n",
    "now_point = 0\n",
    "while now_point <len(n) :\n",
    "    temp = str(i)\n",
    "\n",
    "    for j in range(len(temp)):\n",
    "        if now_point >= len(n):\n",
    "            break\n",
    "        if temp[j] == n[now_point]:\n",
    "            now_point+=1\n",
    "\n",
    "    i+=1\n",
    "\n",
    "print(i-1)"
   ]
  },
  {
   "cell_type": "code",
   "execution_count": null,
   "id": "ca4da7db",
   "metadata": {},
   "outputs": [],
   "source": []
  },
  {
   "cell_type": "code",
   "execution_count": null,
   "id": "534bd638",
   "metadata": {},
   "outputs": [],
   "source": []
  },
  {
   "cell_type": "code",
   "execution_count": null,
   "id": "38cc78c9",
   "metadata": {},
   "outputs": [],
   "source": []
  }
 ],
 "metadata": {
  "kernelspec": {
   "display_name": "Python 3",
   "language": "python",
   "name": "python3"
  },
  "language_info": {
   "name": "python",
   "version": "3.13.6"
  }
 },
 "nbformat": 4,
 "nbformat_minor": 5
}
