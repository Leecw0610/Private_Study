{
 "cells": [
  {
   "cell_type": "markdown",
   "id": "4a2a6a9c",
   "metadata": {},
   "source": [
    "### 31844번"
   ]
  },
  {
   "cell_type": "code",
   "execution_count": 1,
   "id": "f577f415",
   "metadata": {},
   "outputs": [
    {
     "name": "stdout",
     "output_type": "stream",
     "text": [
      "-1\n"
     ]
    }
   ],
   "source": [
    "storage = list(input())\n",
    "robot = storage.index(\"@\")\t# 로봇의 위치\n",
    "box = storage.index(\"#\")\t# 박스의 위치\n",
    "flag = storage.index(\"!\")\t# 깃발의 위치\n",
    "\n",
    "if (robot < box < flag) or (robot > box > flag):\n",
    "    commandFirst = abs(box - robot) - 1\n",
    "    commandSecond = abs(flag - box)\n",
    "    print(commandFirst + commandSecond)\n",
    "else:\n",
    "    print(-1)"
   ]
  },
  {
   "cell_type": "code",
   "execution_count": null,
   "id": "9fb38ab3",
   "metadata": {},
   "outputs": [],
   "source": []
  },
  {
   "cell_type": "code",
   "execution_count": null,
   "id": "f410664e",
   "metadata": {},
   "outputs": [],
   "source": []
  },
  {
   "cell_type": "code",
   "execution_count": null,
   "id": "a4caabed",
   "metadata": {},
   "outputs": [],
   "source": []
  }
 ],
 "metadata": {
  "kernelspec": {
   "display_name": "Python 3",
   "language": "python",
   "name": "python3"
  },
  "language_info": {
   "codemirror_mode": {
    "name": "ipython",
    "version": 3
   },
   "file_extension": ".py",
   "mimetype": "text/x-python",
   "name": "python",
   "nbconvert_exporter": "python",
   "pygments_lexer": "ipython3",
   "version": "3.11.1"
  }
 },
 "nbformat": 4,
 "nbformat_minor": 5
}
