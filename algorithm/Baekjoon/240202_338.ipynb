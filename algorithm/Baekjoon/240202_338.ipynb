{
 "cells": [
  {
   "cell_type": "markdown",
   "metadata": {},
   "source": [
    "### 7510번"
   ]
  },
  {
   "cell_type": "code",
   "execution_count": 1,
   "metadata": {},
   "outputs": [
    {
     "name": "stdout",
     "output_type": "stream",
     "text": [
      "Scenario #1:\n",
      "yes\n",
      "\n",
      "Scenario #2:\n",
      "no\n",
      "\n"
     ]
    }
   ],
   "source": [
    "for i in range(int(input())):\n",
    "    li = sorted(map(int, input().split()))\n",
    "    if li[0] ** 2 + li[1] ** 2 == li[2] ** 2:\n",
    "        print(f\"Scenario #{i + 1}:\")\n",
    "        print(\"yes\\n\")\n",
    "    else:\n",
    "        print(f\"Scenario #{i + 1}:\")\n",
    "        print(\"no\\n\")"
   ]
  },
  {
   "cell_type": "code",
   "execution_count": null,
   "metadata": {},
   "outputs": [],
   "source": []
  },
  {
   "cell_type": "code",
   "execution_count": null,
   "metadata": {},
   "outputs": [],
   "source": []
  }
 ],
 "metadata": {
  "kernelspec": {
   "display_name": "Python 3",
   "language": "python",
   "name": "python3"
  },
  "language_info": {
   "codemirror_mode": {
    "name": "ipython",
    "version": 3
   },
   "file_extension": ".py",
   "mimetype": "text/x-python",
   "name": "python",
   "nbconvert_exporter": "python",
   "pygments_lexer": "ipython3",
   "version": "3.11.1"
  }
 },
 "nbformat": 4,
 "nbformat_minor": 2
}
