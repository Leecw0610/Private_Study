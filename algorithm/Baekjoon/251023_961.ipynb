{
 "cells": [
  {
   "cell_type": "markdown",
   "id": "a34c658c",
   "metadata": {},
   "source": [
    "### 1560번"
   ]
  },
  {
   "cell_type": "code",
   "execution_count": 1,
   "id": "3185dce4",
   "metadata": {},
   "outputs": [
    {
     "name": "stdout",
     "output_type": "stream",
     "text": [
      "4\n"
     ]
    }
   ],
   "source": [
    "a = int(input())\n",
    "if a <= 2:\n",
    "    print(a)\n",
    "else:\n",
    "    print(a + (a - 2))"
   ]
  },
  {
   "cell_type": "code",
   "execution_count": null,
   "id": "e71c3e09",
   "metadata": {},
   "outputs": [],
   "source": []
  },
  {
   "cell_type": "code",
   "execution_count": null,
   "id": "59d26b68",
   "metadata": {},
   "outputs": [],
   "source": []
  },
  {
   "cell_type": "code",
   "execution_count": null,
   "id": "5fe0f492",
   "metadata": {},
   "outputs": [],
   "source": []
  }
 ],
 "metadata": {
  "kernelspec": {
   "display_name": "Python 3",
   "language": "python",
   "name": "python3"
  },
  "language_info": {
   "codemirror_mode": {
    "name": "ipython",
    "version": 3
   },
   "file_extension": ".py",
   "mimetype": "text/x-python",
   "name": "python",
   "nbconvert_exporter": "python",
   "pygments_lexer": "ipython3",
   "version": "3.13.6"
  }
 },
 "nbformat": 4,
 "nbformat_minor": 5
}
