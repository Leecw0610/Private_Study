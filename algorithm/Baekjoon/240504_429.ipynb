{
 "cells": [
  {
   "cell_type": "markdown",
   "metadata": {},
   "source": [
    "### 10820번"
   ]
  },
  {
   "cell_type": "code",
   "execution_count": 1,
   "metadata": {},
   "outputs": [],
   "source": [
    "import sys\n",
    "\n",
    "while True:\n",
    "    line = sys.stdin.readline().rstrip('\\n')\n",
    "\n",
    "    if not line:\n",
    "        break\n",
    "\n",
    "    l, u, d, s = 0, 0, 0, 0\n",
    "    for each in line:\n",
    "        if each.islower():\n",
    "            l += 1\n",
    "        elif each.isupper():\n",
    "            u += 1\n",
    "        elif each.isdigit():\n",
    "            d += 1\n",
    "        elif each.isspace():\n",
    "            s += 1\n",
    "\n",
    "    print(l, u, d, s)"
   ]
  },
  {
   "cell_type": "code",
   "execution_count": null,
   "metadata": {},
   "outputs": [],
   "source": []
  },
  {
   "cell_type": "code",
   "execution_count": null,
   "metadata": {},
   "outputs": [],
   "source": []
  }
 ],
 "metadata": {
  "kernelspec": {
   "display_name": "Python 3",
   "language": "python",
   "name": "python3"
  },
  "language_info": {
   "codemirror_mode": {
    "name": "ipython",
    "version": 3
   },
   "file_extension": ".py",
   "mimetype": "text/x-python",
   "name": "python",
   "nbconvert_exporter": "python",
   "pygments_lexer": "ipython3",
   "version": "3.11.1"
  }
 },
 "nbformat": 4,
 "nbformat_minor": 2
}
