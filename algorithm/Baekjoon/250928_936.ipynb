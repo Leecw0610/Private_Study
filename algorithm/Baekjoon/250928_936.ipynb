{
 "cells": [
  {
   "cell_type": "markdown",
   "id": "4edce5de",
   "metadata": {},
   "source": [
    "### 1439번"
   ]
  },
  {
   "cell_type": "code",
   "execution_count": 1,
   "id": "68f1e3b5",
   "metadata": {},
   "outputs": [
    {
     "name": "stdout",
     "output_type": "stream",
     "text": [
      "0\n"
     ]
    }
   ],
   "source": [
    "s = input()\n",
    "cnt = 0\n",
    "for i in range(len(s)-1):\n",
    "    if s[i] != s[i+1]:\n",
    "        cnt += 1\n",
    "print(cnt//2 + 1 if cnt % 2 else cnt//2)"
   ]
  },
  {
   "cell_type": "code",
   "execution_count": null,
   "id": "8bc25847",
   "metadata": {},
   "outputs": [],
   "source": []
  },
  {
   "cell_type": "code",
   "execution_count": null,
   "id": "92972d65",
   "metadata": {},
   "outputs": [],
   "source": []
  },
  {
   "cell_type": "code",
   "execution_count": null,
   "id": "a192d3bf",
   "metadata": {},
   "outputs": [],
   "source": []
  }
 ],
 "metadata": {
  "kernelspec": {
   "display_name": "Python 3",
   "language": "python",
   "name": "python3"
  },
  "language_info": {
   "codemirror_mode": {
    "name": "ipython",
    "version": 3
   },
   "file_extension": ".py",
   "mimetype": "text/x-python",
   "name": "python",
   "nbconvert_exporter": "python",
   "pygments_lexer": "ipython3",
   "version": "3.13.6"
  }
 },
 "nbformat": 4,
 "nbformat_minor": 5
}
