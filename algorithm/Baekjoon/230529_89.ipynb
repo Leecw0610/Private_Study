{
 "cells": [
  {
   "attachments": {},
   "cell_type": "markdown",
   "metadata": {},
   "source": [
    "### 1672번"
   ]
  },
  {
   "cell_type": "code",
   "execution_count": 1,
   "metadata": {},
   "outputs": [
    {
     "name": "stdout",
     "output_type": "stream",
     "text": [
      "A\n"
     ]
    }
   ],
   "source": [
    "n=int(input())\n",
    "s=list(input())\n",
    "\n",
    "dna = {\"AA\" : \"A\", \"AG\" : \"C\", \"AC\" : \"A\", \"AT\" : \"G\", \"GA\" : \"C\",\"GG\" : \"G\",\n",
    "    \"GC\" : \"T\", \"GT\" : \"A\", \"CA\" : \"A\", \"CG\" : \"T\", \"CC\" : \"C\", \"CT\" : \"G\",\n",
    "    \"TA\" : \"G\", \"TG\" : \"A\", \"TC\" : \"G\",\"TT\" : \"T\"}\n",
    "\n",
    "while True:\n",
    "    if len(s) == 1:\n",
    "        break\n",
    "    ss = s[-2] + s[-1]\n",
    "    if ss in dna:\n",
    "        del s[-2:]\n",
    "        s.append(dna.get(ss))\n",
    "print(*s)\n"
   ]
  },
  {
   "cell_type": "code",
   "execution_count": null,
   "metadata": {},
   "outputs": [],
   "source": []
  },
  {
   "cell_type": "code",
   "execution_count": null,
   "metadata": {},
   "outputs": [],
   "source": []
  },
  {
   "cell_type": "code",
   "execution_count": null,
   "metadata": {},
   "outputs": [],
   "source": []
  },
  {
   "cell_type": "code",
   "execution_count": null,
   "metadata": {},
   "outputs": [],
   "source": []
  }
 ],
 "metadata": {
  "kernelspec": {
   "display_name": "Python 3",
   "language": "python",
   "name": "python3"
  },
  "language_info": {
   "codemirror_mode": {
    "name": "ipython",
    "version": 3
   },
   "file_extension": ".py",
   "mimetype": "text/x-python",
   "name": "python",
   "nbconvert_exporter": "python",
   "pygments_lexer": "ipython3",
   "version": "3.11.1"
  },
  "orig_nbformat": 4
 },
 "nbformat": 4,
 "nbformat_minor": 2
}
