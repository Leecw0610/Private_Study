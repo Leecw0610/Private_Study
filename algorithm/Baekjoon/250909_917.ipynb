{
 "cells": [
  {
   "cell_type": "markdown",
   "id": "dab18d46",
   "metadata": {},
   "source": [
    "### 1337번"
   ]
  },
  {
   "cell_type": "code",
   "execution_count": 1,
   "id": "a9a5fab0",
   "metadata": {},
   "outputs": [
    {
     "name": "stdout",
     "output_type": "stream",
     "text": [
      "1\n"
     ]
    }
   ],
   "source": [
    "n = int(input())\n",
    "data = sorted([int(input()) for _ in range(n)])\n",
    "mn = float('inf')\n",
    "for i in range(n):\n",
    "    cnt = 0\n",
    "    for j in range(data[i],data[i]+5):\n",
    "        if j not in data:\n",
    "            cnt+=1\n",
    "    mn = min(mn,cnt)\n",
    "print(mn)"
   ]
  },
  {
   "cell_type": "code",
   "execution_count": null,
   "id": "ba405363",
   "metadata": {},
   "outputs": [],
   "source": []
  },
  {
   "cell_type": "code",
   "execution_count": null,
   "id": "0a413e28",
   "metadata": {},
   "outputs": [],
   "source": []
  },
  {
   "cell_type": "code",
   "execution_count": null,
   "id": "e62057da",
   "metadata": {},
   "outputs": [],
   "source": []
  }
 ],
 "metadata": {
  "kernelspec": {
   "display_name": "Python 3",
   "language": "python",
   "name": "python3"
  },
  "language_info": {
   "codemirror_mode": {
    "name": "ipython",
    "version": 3
   },
   "file_extension": ".py",
   "mimetype": "text/x-python",
   "name": "python",
   "nbconvert_exporter": "python",
   "pygments_lexer": "ipython3",
   "version": "3.13.6"
  }
 },
 "nbformat": 4,
 "nbformat_minor": 5
}
