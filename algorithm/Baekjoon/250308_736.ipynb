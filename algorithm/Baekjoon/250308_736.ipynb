{
 "cells": [
  {
   "cell_type": "markdown",
   "metadata": {},
   "source": [
    "### 28062번"
   ]
  },
  {
   "cell_type": "code",
   "execution_count": 2,
   "metadata": {},
   "outputs": [
    {
     "name": "stdout",
     "output_type": "stream",
     "text": [
      "0\n"
     ]
    }
   ],
   "source": [
    "N = int(input())\n",
    "candy = list(map(int, input().split()))\n",
    "result = 0\n",
    "odd_candy = []\n",
    "\n",
    "for i in candy:\n",
    "    if i % 2 == 1:\n",
    "        odd_candy.append(i)\n",
    "    else:\n",
    "        result += i\n",
    "\n",
    "if len(odd_candy) % 2 == 1:\n",
    "    odd_candy.sort(reverse=True)\n",
    "    del odd_candy[-1]\n",
    "    result += sum(odd_candy)\n",
    "else:\n",
    "    result += sum(odd_candy)\n",
    "\n",
    "print(result)"
   ]
  },
  {
   "cell_type": "code",
   "execution_count": null,
   "metadata": {},
   "outputs": [],
   "source": []
  },
  {
   "cell_type": "code",
   "execution_count": null,
   "metadata": {},
   "outputs": [],
   "source": []
  }
 ],
 "metadata": {
  "kernelspec": {
   "display_name": "Python 3",
   "language": "python",
   "name": "python3"
  },
  "language_info": {
   "codemirror_mode": {
    "name": "ipython",
    "version": 3
   },
   "file_extension": ".py",
   "mimetype": "text/x-python",
   "name": "python",
   "nbconvert_exporter": "python",
   "pygments_lexer": "ipython3",
   "version": "3.11.1"
  }
 },
 "nbformat": 4,
 "nbformat_minor": 2
}
