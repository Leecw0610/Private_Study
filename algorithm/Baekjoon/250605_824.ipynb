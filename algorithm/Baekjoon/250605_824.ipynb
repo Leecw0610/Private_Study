{
 "cells": [
  {
   "cell_type": "markdown",
   "id": "777439b7",
   "metadata": {},
   "source": [
    "### 31995번"
   ]
  },
  {
   "cell_type": "code",
   "execution_count": null,
   "id": "51330f5d",
   "metadata": {},
   "outputs": [],
   "source": [
    "N = int(input())\n",
    "M = int(input())\n",
    "\n",
    "if N == 1 or M == 1:\n",
    "    print(0)\n",
    "else:\n",
    "    print((N - 1) * (M - 1) * 2)"
   ]
  },
  {
   "cell_type": "code",
   "execution_count": null,
   "id": "3d67e5fe",
   "metadata": {},
   "outputs": [],
   "source": []
  },
  {
   "cell_type": "code",
   "execution_count": null,
   "id": "efdc3ecd",
   "metadata": {},
   "outputs": [],
   "source": []
  },
  {
   "cell_type": "code",
   "execution_count": null,
   "id": "ae40f783",
   "metadata": {},
   "outputs": [],
   "source": []
  }
 ],
 "metadata": {
  "kernelspec": {
   "display_name": "Python 3",
   "language": "python",
   "name": "python3"
  },
  "language_info": {
   "name": "python",
   "version": "3.11.1"
  }
 },
 "nbformat": 4,
 "nbformat_minor": 5
}
