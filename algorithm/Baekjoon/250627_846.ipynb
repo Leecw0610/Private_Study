{
 "cells": [
  {
   "cell_type": "markdown",
   "id": "46abf7ce",
   "metadata": {},
   "source": [
    "### 32684번"
   ]
  },
  {
   "cell_type": "code",
   "execution_count": 1,
   "id": "69142e35",
   "metadata": {},
   "outputs": [
    {
     "name": "stdout",
     "output_type": "stream",
     "text": [
      "cocjr0208\n"
     ]
    }
   ],
   "source": [
    "def Janggi(x):\n",
    "    result = 0\n",
    "    point = [13, 7, 5, 3, 3, 2]\n",
    "    for i in range(6):\n",
    "        result += x[i] * point[i]\n",
    "\n",
    "    return result\n",
    "\n",
    "\n",
    "A = list(map(int, input().split()))  # 척이\n",
    "B = list(map(int, input().split()))  # 은규\n",
    "\n",
    "A_Point = Janggi(A)\n",
    "B_Point = Janggi(B) + 1.5\n",
    "\n",
    "if A_Point > B_Point:\n",
    "    print(\"cocjr0208\")\n",
    "else:\n",
    "    print(\"ekwoo\")"
   ]
  },
  {
   "cell_type": "code",
   "execution_count": null,
   "id": "ef90faae",
   "metadata": {},
   "outputs": [],
   "source": []
  },
  {
   "cell_type": "code",
   "execution_count": null,
   "id": "6cdebf40",
   "metadata": {},
   "outputs": [],
   "source": []
  },
  {
   "cell_type": "code",
   "execution_count": null,
   "id": "c1d20deb",
   "metadata": {},
   "outputs": [],
   "source": []
  }
 ],
 "metadata": {
  "kernelspec": {
   "display_name": "Python 3",
   "language": "python",
   "name": "python3"
  },
  "language_info": {
   "codemirror_mode": {
    "name": "ipython",
    "version": 3
   },
   "file_extension": ".py",
   "mimetype": "text/x-python",
   "name": "python",
   "nbconvert_exporter": "python",
   "pygments_lexer": "ipython3",
   "version": "3.11.1"
  }
 },
 "nbformat": 4,
 "nbformat_minor": 5
}
