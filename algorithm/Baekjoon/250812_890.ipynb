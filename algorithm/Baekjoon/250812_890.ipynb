{
 "cells": [
  {
   "cell_type": "markdown",
   "id": "fd417af3",
   "metadata": {},
   "source": [
    "### 1158번"
   ]
  },
  {
   "cell_type": "code",
   "execution_count": 1,
   "id": "0ea12c27",
   "metadata": {},
   "outputs": [
    {
     "name": "stdout",
     "output_type": "stream",
     "text": [
      "<3, 6, 2, 7, 5, 1, 4>\n"
     ]
    }
   ],
   "source": [
    "N,K = map(int,input().split())\n",
    "arr = [i for i in range(1,N+1)]    # 맨 처음에 원에 앉아있는 사람들\n",
    "\n",
    "answer = []   # 제거된 사람들을 넣을 배열\n",
    "num = 0  # 제거될 사람의 인덱스 번호\n",
    "\n",
    "for t in range(N):\n",
    "    num += K-1  \n",
    "    if num >= len(arr):   # 한바퀴를 돌고 그다음으로 돌아올때를 대비해 값을 나머지로 바꿈  \n",
    "        num = num%len(arr)\n",
    "\n",
    "    answer.append(str(arr.pop(num)))\n",
    "print(\"<\",\", \".join(answer)[:],\">\", sep='')"
   ]
  },
  {
   "cell_type": "code",
   "execution_count": null,
   "id": "f10873c1",
   "metadata": {},
   "outputs": [],
   "source": []
  },
  {
   "cell_type": "code",
   "execution_count": null,
   "id": "36089dcc",
   "metadata": {},
   "outputs": [],
   "source": []
  },
  {
   "cell_type": "code",
   "execution_count": null,
   "id": "51726675",
   "metadata": {},
   "outputs": [],
   "source": []
  }
 ],
 "metadata": {
  "kernelspec": {
   "display_name": "Python 3",
   "language": "python",
   "name": "python3"
  },
  "language_info": {
   "codemirror_mode": {
    "name": "ipython",
    "version": 3
   },
   "file_extension": ".py",
   "mimetype": "text/x-python",
   "name": "python",
   "nbconvert_exporter": "python",
   "pygments_lexer": "ipython3",
   "version": "3.13.6"
  }
 },
 "nbformat": 4,
 "nbformat_minor": 5
}
