{
 "cells": [
  {
   "cell_type": "markdown",
   "id": "efe8a774",
   "metadata": {},
   "source": [
    "### 1141번"
   ]
  },
  {
   "cell_type": "code",
   "execution_count": null,
   "id": "d2f9f8c2",
   "metadata": {},
   "outputs": [],
   "source": [
    "import sys\n",
    "\n",
    "N = int(input())\n",
    "words = [(sys.stdin.readline()).rstrip() for _ in range(N)]\n",
    "\n",
    "words.sort(key=len)\n",
    "src = 0\n",
    "for i in range(N):\n",
    "    nTrue = False\n",
    "    for j in range(i + 1, N):\n",
    "        if words[i] == words[j][0:len(words[i])]:\n",
    "            nTrue = True\n",
    "            break\n",
    "    if not nTrue:\n",
    "        src += 1\n",
    "print(src)"
   ]
  },
  {
   "cell_type": "code",
   "execution_count": null,
   "id": "e067c76e",
   "metadata": {},
   "outputs": [],
   "source": []
  },
  {
   "cell_type": "code",
   "execution_count": null,
   "id": "51daa926",
   "metadata": {},
   "outputs": [],
   "source": []
  },
  {
   "cell_type": "code",
   "execution_count": null,
   "id": "3076e459",
   "metadata": {},
   "outputs": [],
   "source": []
  }
 ],
 "metadata": {
  "kernelspec": {
   "display_name": "Python 3",
   "language": "python",
   "name": "python3"
  },
  "language_info": {
   "codemirror_mode": {
    "name": "ipython",
    "version": 3
   },
   "file_extension": ".py",
   "mimetype": "text/x-python",
   "name": "python",
   "nbconvert_exporter": "python",
   "pygments_lexer": "ipython3",
   "version": "3.13.6"
  }
 },
 "nbformat": 4,
 "nbformat_minor": 5
}
