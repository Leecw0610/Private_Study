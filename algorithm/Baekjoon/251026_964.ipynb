{
 "cells": [
  {
   "cell_type": "markdown",
   "id": "0d2cb8fc",
   "metadata": {},
   "source": [
    "### 1590번"
   ]
  },
  {
   "cell_type": "code",
   "execution_count": 2,
   "id": "0c4f89f3",
   "metadata": {},
   "outputs": [
    {
     "name": "stdout",
     "output_type": "stream",
     "text": [
      "0\n"
     ]
    }
   ],
   "source": [
    "N, T = map(int, input().split())\n",
    "res = []\n",
    "for _ in range(N):\n",
    "    t, d, n = map(int, input().split())\n",
    "    li = [t+d*i for i in range(n)]\n",
    "    if li[-1] < T:\n",
    "        continue\n",
    "    s, e = 0, n-1\n",
    "    a = 0\n",
    "    while s <= e:\n",
    "        m = (s+e)//2\n",
    "        if li[m] >= T:\n",
    "            a = m\n",
    "            e = m-1\n",
    "        else:\n",
    "            s = m+1\n",
    "    res.append(li[a]-T)\n",
    "print(min(res) if res else -1)"
   ]
  },
  {
   "cell_type": "code",
   "execution_count": null,
   "id": "28491e57",
   "metadata": {},
   "outputs": [],
   "source": []
  },
  {
   "cell_type": "code",
   "execution_count": null,
   "id": "ae1d095c",
   "metadata": {},
   "outputs": [],
   "source": []
  },
  {
   "cell_type": "code",
   "execution_count": null,
   "id": "afbc9f6f",
   "metadata": {},
   "outputs": [],
   "source": []
  }
 ],
 "metadata": {
  "kernelspec": {
   "display_name": "Python 3",
   "language": "python",
   "name": "python3"
  },
  "language_info": {
   "codemirror_mode": {
    "name": "ipython",
    "version": 3
   },
   "file_extension": ".py",
   "mimetype": "text/x-python",
   "name": "python",
   "nbconvert_exporter": "python",
   "pygments_lexer": "ipython3",
   "version": "3.13.6"
  }
 },
 "nbformat": 4,
 "nbformat_minor": 5
}
