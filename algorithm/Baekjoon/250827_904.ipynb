{
 "cells": [
  {
   "cell_type": "markdown",
   "id": "9764a979",
   "metadata": {},
   "source": [
    "### 1260번"
   ]
  },
  {
   "cell_type": "code",
   "execution_count": 1,
   "id": "6add1b70",
   "metadata": {},
   "outputs": [
    {
     "name": "stdout",
     "output_type": "stream",
     "text": [
      "3 1 2 5 4 \n",
      "3 1 4 2 5 "
     ]
    }
   ],
   "source": [
    "from collections import deque\n",
    "\n",
    "\n",
    "def dfs(start):\n",
    "    visited[start] = True\n",
    "    print(start, end=\" \")\n",
    "\n",
    "    for i in graph[start]:\n",
    "        if not visited[i]:\n",
    "            dfs(i)\n",
    "\n",
    "\n",
    "def bfs(start):\n",
    "    queue = deque([start])\n",
    "    visited[start] = True\n",
    "    while queue:\n",
    "\n",
    "        v = queue.popleft()\n",
    "        print(v, end=\" \")\n",
    "        for i in graph[v]:\n",
    "            if not visited[i]:\n",
    "                visited[i] = True\n",
    "                queue.append(i)\n",
    "\n",
    "\n",
    "N, M, V = map(int, input().split())\n",
    "graph = [[] for _ in range(N + 1)]\n",
    "\n",
    "for _ in range(M):\n",
    "    a, b = map(int, input().split())\n",
    "    graph[a].append(b)\n",
    "    graph[b].append(a)\n",
    "\n",
    "# 정렬\n",
    "for i in graph:\n",
    "    i.sort()\n",
    "\n",
    "# dfs\n",
    "visited = [False] * (N + 1)\n",
    "dfs(V)\n",
    "print()\n",
    "\n",
    "# bfs\n",
    "visited = [False] * (N + 1)\n",
    "bfs(V)"
   ]
  },
  {
   "cell_type": "code",
   "execution_count": null,
   "id": "f86de1a3",
   "metadata": {},
   "outputs": [],
   "source": []
  },
  {
   "cell_type": "code",
   "execution_count": null,
   "id": "a897c67c",
   "metadata": {},
   "outputs": [],
   "source": []
  },
  {
   "cell_type": "code",
   "execution_count": null,
   "id": "266dddf5",
   "metadata": {},
   "outputs": [],
   "source": []
  }
 ],
 "metadata": {
  "kernelspec": {
   "display_name": "Python 3",
   "language": "python",
   "name": "python3"
  },
  "language_info": {
   "codemirror_mode": {
    "name": "ipython",
    "version": 3
   },
   "file_extension": ".py",
   "mimetype": "text/x-python",
   "name": "python",
   "nbconvert_exporter": "python",
   "pygments_lexer": "ipython3",
   "version": "3.13.6"
  }
 },
 "nbformat": 4,
 "nbformat_minor": 5
}
