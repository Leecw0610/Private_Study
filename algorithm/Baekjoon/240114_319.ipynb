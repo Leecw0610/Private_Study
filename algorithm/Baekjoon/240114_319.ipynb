{
 "cells": [
  {
   "cell_type": "markdown",
   "metadata": {},
   "source": [
    "### 6321번"
   ]
  },
  {
   "cell_type": "code",
   "execution_count": 1,
   "metadata": {},
   "outputs": [
    {
     "name": "stdout",
     "output_type": "stream",
     "text": [
      "String #1\n",
      "IBM\n",
      "\n",
      "String #2\n",
      "TXFSD\n",
      "\n"
     ]
    }
   ],
   "source": [
    "n = int(input())\n",
    "\n",
    "for x in range(1, n+1) :\n",
    "    data = input()\n",
    "    result = ''\n",
    "    for i in range(len(data)) :\n",
    "        value = ord(data[i]) + 1\n",
    "        if value > 90 :\n",
    "            value = 65\n",
    "        result += chr(value)\n",
    "    print('String #%d' % x)\n",
    "    print(result)\n",
    "    print()"
   ]
  },
  {
   "cell_type": "code",
   "execution_count": null,
   "metadata": {},
   "outputs": [],
   "source": []
  },
  {
   "cell_type": "code",
   "execution_count": null,
   "metadata": {},
   "outputs": [],
   "source": []
  }
 ],
 "metadata": {
  "kernelspec": {
   "display_name": "Python 3",
   "language": "python",
   "name": "python3"
  },
  "language_info": {
   "codemirror_mode": {
    "name": "ipython",
    "version": 3
   },
   "file_extension": ".py",
   "mimetype": "text/x-python",
   "name": "python",
   "nbconvert_exporter": "python",
   "pygments_lexer": "ipython3",
   "version": "3.11.1"
  }
 },
 "nbformat": 4,
 "nbformat_minor": 2
}
