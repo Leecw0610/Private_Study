{
 "cells": [
  {
   "attachments": {},
   "cell_type": "markdown",
   "metadata": {},
   "source": [
    "### 1952번"
   ]
  },
  {
   "cell_type": "code",
   "execution_count": 2,
   "metadata": {},
   "outputs": [
    {
     "name": "stdout",
     "output_type": "stream",
     "text": [
      "5\n"
     ]
    }
   ],
   "source": [
    "m, n = map(int,input().split())\n",
    "grid = [[0 for _ in range(n)] for _ in range(m)]\n",
    "# 우하좌상\n",
    "direct = {0:[0,1],1:[1,0],2:[0,-1],3:[-1,0]}\n",
    "\n",
    "end = m*n-2\n",
    "cnt = 0\n",
    "head = 0\n",
    "i,j = 0,0\n",
    "grid[i][j] = \"X\"\n",
    "while end>=0:\n",
    "    condi = False\n",
    "    if 0<=i+direct[head][0]<m and 0<=j+direct[head][1]<n:\n",
    "        if grid[i+direct[head][0]][j+direct[head][1]] != \"X\":\n",
    "            grid[i+direct[head][0]][j+direct[head][1]] = \"X\"\n",
    "            i,j = i+direct[head][0],j+direct[head][1]\n",
    "            condi = True\n",
    "    if not condi:\n",
    "        cnt += 1\n",
    "        head = (head+1)%4\n",
    "        i,j = i+direct[head][0],j+direct[head][1]\n",
    "        grid[i][j] = \"X\"\n",
    "    end -= 1\n",
    "print(cnt)"
   ]
  },
  {
   "cell_type": "code",
   "execution_count": null,
   "metadata": {},
   "outputs": [],
   "source": []
  },
  {
   "cell_type": "code",
   "execution_count": null,
   "metadata": {},
   "outputs": [],
   "source": []
  },
  {
   "cell_type": "code",
   "execution_count": null,
   "metadata": {},
   "outputs": [],
   "source": []
  }
 ],
 "metadata": {
  "kernelspec": {
   "display_name": "Python 3",
   "language": "python",
   "name": "python3"
  },
  "language_info": {
   "codemirror_mode": {
    "name": "ipython",
    "version": 3
   },
   "file_extension": ".py",
   "mimetype": "text/x-python",
   "name": "python",
   "nbconvert_exporter": "python",
   "pygments_lexer": "ipython3",
   "version": "3.11.1"
  },
  "orig_nbformat": 4
 },
 "nbformat": 4,
 "nbformat_minor": 2
}
