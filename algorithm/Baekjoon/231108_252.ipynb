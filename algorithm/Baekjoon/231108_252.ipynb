{
 "cells": [
  {
   "cell_type": "markdown",
   "metadata": {},
   "source": [
    "### 4613번"
   ]
  },
  {
   "cell_type": "code",
   "execution_count": 1,
   "metadata": {},
   "outputs": [
    {
     "name": "stdout",
     "output_type": "stream",
     "text": [
      "46\n",
      "650\n",
      "4690\n",
      "49\n",
      "75\n",
      "14\n",
      "15\n"
     ]
    }
   ],
   "source": [
    "alphabet = ' ABCDEFGHIJKLMNOPQRSTUVWXYZ'\n",
    "string = input()\n",
    "\n",
    "while string != '#':\n",
    "    result = 0\n",
    "    for i in range(len(string)):\n",
    "        result += alphabet.index(string[i]) * (i + 1)\n",
    "    print(result)\n",
    "    string = input()"
   ]
  },
  {
   "cell_type": "code",
   "execution_count": null,
   "metadata": {},
   "outputs": [],
   "source": []
  },
  {
   "cell_type": "code",
   "execution_count": null,
   "metadata": {},
   "outputs": [],
   "source": []
  }
 ],
 "metadata": {
  "kernelspec": {
   "display_name": "Python 3",
   "language": "python",
   "name": "python3"
  },
  "language_info": {
   "codemirror_mode": {
    "name": "ipython",
    "version": 3
   },
   "file_extension": ".py",
   "mimetype": "text/x-python",
   "name": "python",
   "nbconvert_exporter": "python",
   "pygments_lexer": "ipython3",
   "version": "3.11.1"
  }
 },
 "nbformat": 4,
 "nbformat_minor": 2
}
