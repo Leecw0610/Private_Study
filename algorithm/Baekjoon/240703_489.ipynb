{
 "cells": [
  {
   "cell_type": "markdown",
   "metadata": {},
   "source": [
    "### 13304번"
   ]
  },
  {
   "cell_type": "code",
   "execution_count": 1,
   "metadata": {},
   "outputs": [
    {
     "name": "stdout",
     "output_type": "stream",
     "text": [
      "3\n"
     ]
    }
   ],
   "source": [
    "import math\n",
    "\n",
    "N, K = map(int, input().split())\n",
    "student = [0, 0, 0, 0, 0]\n",
    "\n",
    "for _ in range(N):\n",
    "    S, Y = map(int, input().split())\n",
    "    if Y == 1 or Y == 2:\n",
    "        student[0] += 1\n",
    "    elif S == 0 and (Y == 3 or Y == 4):\n",
    "        student[1] += 1\n",
    "    elif S == 1 and (Y == 3 or Y == 4):\n",
    "        student[2] += 1\n",
    "    elif S == 0 and (Y == 5 or Y == 6):\n",
    "        student[3] += 1\n",
    "    else:\n",
    "        student[4] += 1\n",
    "        \n",
    "room = 0\n",
    "for i in student:\n",
    "    room += math.ceil(i / K)\n",
    "print(room)"
   ]
  },
  {
   "cell_type": "code",
   "execution_count": null,
   "metadata": {},
   "outputs": [],
   "source": []
  },
  {
   "cell_type": "code",
   "execution_count": null,
   "metadata": {},
   "outputs": [],
   "source": []
  }
 ],
 "metadata": {
  "kernelspec": {
   "display_name": "Python 3",
   "language": "python",
   "name": "python3"
  },
  "language_info": {
   "codemirror_mode": {
    "name": "ipython",
    "version": 3
   },
   "file_extension": ".py",
   "mimetype": "text/x-python",
   "name": "python",
   "nbconvert_exporter": "python",
   "pygments_lexer": "ipython3",
   "version": "3.11.1"
  }
 },
 "nbformat": 4,
 "nbformat_minor": 2
}
