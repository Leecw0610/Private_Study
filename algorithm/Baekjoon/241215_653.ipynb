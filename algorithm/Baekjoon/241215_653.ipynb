{
 "cells": [
  {
   "cell_type": "markdown",
   "metadata": {
    "vscode": {
     "languageId": "plaintext"
    }
   },
   "source": [
    "### 22864번"
   ]
  },
  {
   "cell_type": "code",
   "execution_count": null,
   "metadata": {},
   "outputs": [],
   "source": [
    "import sys\n",
    "\n",
    "A,B,C,M = map(int, sys.stdin.readline().split())\n",
    "\n",
    "T = 0\n",
    "DW = 0\n",
    "\n",
    "for i in range(24):\n",
    "    if T > M:\n",
    "        print(0)\n",
    "    else:\n",
    "        if T + A <= M:\n",
    "            T += A\n",
    "            DW += B\n",
    "        else:\n",
    "            if T - C >=0:\n",
    "                T -= C\n",
    "            else:\n",
    "                T = 0\n",
    "print(DW)"
   ]
  },
  {
   "cell_type": "code",
   "execution_count": null,
   "metadata": {},
   "outputs": [],
   "source": []
  },
  {
   "cell_type": "code",
   "execution_count": null,
   "metadata": {},
   "outputs": [],
   "source": []
  }
 ],
 "metadata": {
  "kernelspec": {
   "display_name": "Python 3",
   "language": "python",
   "name": "python3"
  },
  "language_info": {
   "codemirror_mode": {
    "name": "ipython",
    "version": 3
   },
   "file_extension": ".py",
   "mimetype": "text/x-python",
   "name": "python",
   "nbconvert_exporter": "python",
   "pygments_lexer": "ipython3",
   "version": "3.11.1"
  }
 },
 "nbformat": 4,
 "nbformat_minor": 2
}
