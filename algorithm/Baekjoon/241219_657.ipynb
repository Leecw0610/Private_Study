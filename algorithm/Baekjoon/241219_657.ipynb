{
 "cells": [
  {
   "cell_type": "markdown",
   "metadata": {
    "vscode": {
     "languageId": "plaintext"
    }
   },
   "source": [
    "### 23027번"
   ]
  },
  {
   "cell_type": "code",
   "execution_count": 1,
   "metadata": {},
   "outputs": [
    {
     "name": "stdout",
     "output_type": "stream",
     "text": [
      "AAAAAAAAAAA\n"
     ]
    }
   ],
   "source": [
    "s = input()\n",
    "n = len(s)\n",
    "tmpA = 'BCDF'\n",
    "tmpB = 'CDF'\n",
    "tmpC = 'DF'\n",
    "\n",
    "if 'A' in s:\n",
    "    for i in s:\n",
    "        if i in tmpA:\n",
    "            s = s.replace(i, 'A')\n",
    "elif 'B' in s:\n",
    "    for i in s:\n",
    "        if i in tmpB:\n",
    "            s = s.replace(i, 'B')\n",
    "elif 'C' in s:\n",
    "    for i in s:\n",
    "        if i in tmpC:\n",
    "            s = s.replace(i, 'C')\n",
    "else:\n",
    "    s = 'A'*n\n",
    "print(s)"
   ]
  },
  {
   "cell_type": "code",
   "execution_count": null,
   "metadata": {},
   "outputs": [],
   "source": []
  },
  {
   "cell_type": "code",
   "execution_count": null,
   "metadata": {},
   "outputs": [],
   "source": []
  },
  {
   "cell_type": "code",
   "execution_count": null,
   "metadata": {},
   "outputs": [],
   "source": []
  }
 ],
 "metadata": {
  "kernelspec": {
   "display_name": "Python 3",
   "language": "python",
   "name": "python3"
  },
  "language_info": {
   "codemirror_mode": {
    "name": "ipython",
    "version": 3
   },
   "file_extension": ".py",
   "mimetype": "text/x-python",
   "name": "python",
   "nbconvert_exporter": "python",
   "pygments_lexer": "ipython3",
   "version": "3.11.1"
  }
 },
 "nbformat": 4,
 "nbformat_minor": 2
}
