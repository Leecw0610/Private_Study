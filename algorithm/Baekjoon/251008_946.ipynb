{
 "cells": [
  {
   "cell_type": "markdown",
   "id": "13076865",
   "metadata": {},
   "source": [
    "### 1485번"
   ]
  },
  {
   "cell_type": "code",
   "execution_count": null,
   "id": "616e2d5a",
   "metadata": {},
   "outputs": [],
   "source": [
    "from sys import stdin\n",
    "\n",
    "def distance(p1,p2):\n",
    "    return (p1[0]-p2[0])**2 + (p1[1]-p2[1])**2\n",
    "\n",
    "T = int(stdin.readline())\n",
    "for _ in range(T):\n",
    "    arr = []\n",
    "    for _ in range(4):\n",
    "        x,y = map(int,stdin.readline().split())\n",
    "        arr.append((x,y))\n",
    "    arr.sort()\n",
    "    # 가장 x 좌표가 작은 점, x 좌표가 같다면 y 좌표가 작은 점\n",
    "    p = arr[0]\n",
    "    # 반시계 방향으로 정렬\n",
    "    arr[2],arr[3] = arr[3],arr[2]\n",
    "    # 변의 길이\n",
    "    d = distance(p,arr[1])\n",
    "    # 대각선의 길이\n",
    "    l = distance(p,arr[2])\n",
    "    ans = 1\n",
    "    for i in range(1,4):\n",
    "        if d != distance(arr[i],arr[(i+1)%4]):\n",
    "            ans = 0\n",
    "    if l != distance(arr[1],arr[3]):\n",
    "        ans = 0\n",
    "    print(ans)"
   ]
  },
  {
   "cell_type": "code",
   "execution_count": null,
   "id": "eb10a8ce",
   "metadata": {},
   "outputs": [],
   "source": []
  },
  {
   "cell_type": "code",
   "execution_count": null,
   "id": "04e3b7df",
   "metadata": {},
   "outputs": [],
   "source": []
  },
  {
   "cell_type": "code",
   "execution_count": null,
   "id": "7783dccf",
   "metadata": {},
   "outputs": [],
   "source": []
  }
 ],
 "metadata": {
  "kernelspec": {
   "display_name": "Python 3",
   "language": "python",
   "name": "python3"
  },
  "language_info": {
   "name": "python",
   "version": "3.13.6"
  }
 },
 "nbformat": 4,
 "nbformat_minor": 5
}
