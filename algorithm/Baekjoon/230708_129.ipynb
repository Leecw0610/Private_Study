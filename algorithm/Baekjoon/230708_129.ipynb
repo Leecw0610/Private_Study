{
 "cells": [
  {
   "attachments": {},
   "cell_type": "markdown",
   "metadata": {},
   "source": [
    "### 2372번"
   ]
  },
  {
   "cell_type": "code",
   "execution_count": null,
   "metadata": {},
   "outputs": [],
   "source": [
    "with Ada.Text_IO; use Ada.Text_IO;\n",
    "\n",
    "procedure program_alioolio is\n",
    "begin\n",
    "  Put_Line(\"Animal      Count\");\n",
    "  Put_Line(\"-----------------\");\n",
    "  Put_Line(\"Chickens      100\");\n",
    "  Put_Line(\"Clydesdales     5\");\n",
    "  Put_Line(\"Cows           40\");\n",
    "  Put_Line(\"Goats          22\");\n",
    "  Put_Line(\"Steers          2\");\n",
    "end program_alioolio;"
   ]
  },
  {
   "cell_type": "code",
   "execution_count": null,
   "metadata": {},
   "outputs": [],
   "source": []
  },
  {
   "cell_type": "code",
   "execution_count": null,
   "metadata": {},
   "outputs": [],
   "source": []
  },
  {
   "cell_type": "code",
   "execution_count": null,
   "metadata": {},
   "outputs": [],
   "source": []
  },
  {
   "cell_type": "code",
   "execution_count": null,
   "metadata": {},
   "outputs": [],
   "source": []
  }
 ],
 "metadata": {
  "kernelspec": {
   "display_name": "Python 3",
   "language": "python",
   "name": "python3"
  },
  "language_info": {
   "name": "python",
   "version": "3.11.1"
  },
  "orig_nbformat": 4
 },
 "nbformat": 4,
 "nbformat_minor": 2
}
