{
 "cells": [
  {
   "cell_type": "markdown",
   "id": "d61541fd",
   "metadata": {},
   "source": [
    "### 30008번"
   ]
  },
  {
   "cell_type": "code",
   "execution_count": 1,
   "id": "49dfb04d",
   "metadata": {},
   "outputs": [
    {
     "name": "stdout",
     "output_type": "stream",
     "text": [
      "1 2 3 4 5 6 7 8 9\n"
     ]
    }
   ],
   "source": [
    "N, K = map(int, input().split())\n",
    "G = list(map(int, input().split()))\n",
    "result = []\n",
    "\n",
    "for i in G:\n",
    "    P = (i * 100) // N\n",
    "    if 0 <= P <= 4:\n",
    "        result.append(1)\n",
    "    elif 4 < P <= 11:\n",
    "        result.append(2)\n",
    "    elif 11 < P <= 23:\n",
    "        result.append(3)\n",
    "    elif 23 < P <= 40:\n",
    "        result.append(4)\n",
    "    elif 40 < P <= 60:\n",
    "        result.append(5)\n",
    "    elif 60 < P <= 77:\n",
    "        result.append(6)\n",
    "    elif 77 < P <= 89:\n",
    "        result.append(7)\n",
    "    elif 89 < P <= 96:\n",
    "        result.append(8)\n",
    "    elif 96 < P <= 100:\n",
    "        result.append(9)\n",
    "print(\" \".join(map(str, result)))\n"
   ]
  },
  {
   "cell_type": "code",
   "execution_count": null,
   "id": "94672e0f",
   "metadata": {},
   "outputs": [],
   "source": []
  },
  {
   "cell_type": "code",
   "execution_count": null,
   "id": "865c7547",
   "metadata": {},
   "outputs": [],
   "source": []
  },
  {
   "cell_type": "code",
   "execution_count": null,
   "id": "5cb1dcb7",
   "metadata": {},
   "outputs": [],
   "source": []
  }
 ],
 "metadata": {
  "kernelspec": {
   "display_name": "Python 3",
   "language": "python",
   "name": "python3"
  },
  "language_info": {
   "codemirror_mode": {
    "name": "ipython",
    "version": 3
   },
   "file_extension": ".py",
   "mimetype": "text/x-python",
   "name": "python",
   "nbconvert_exporter": "python",
   "pygments_lexer": "ipython3",
   "version": "3.11.1"
  }
 },
 "nbformat": 4,
 "nbformat_minor": 5
}
