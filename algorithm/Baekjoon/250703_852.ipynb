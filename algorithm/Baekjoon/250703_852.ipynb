{
 "cells": [
  {
   "cell_type": "markdown",
   "id": "2fae06a2",
   "metadata": {},
   "source": [
    "### 32929번"
   ]
  },
  {
   "cell_type": "code",
   "execution_count": 1,
   "id": "fb322745",
   "metadata": {},
   "outputs": [
    {
     "name": "stdout",
     "output_type": "stream",
     "text": [
      "U\n"
     ]
    }
   ],
   "source": [
    "x = int(input())\n",
    "result = x % 3\n",
    "\n",
    "if result == 1:\n",
    "    print(\"U\")\n",
    "elif result == 2:\n",
    "    print(\"O\")\n",
    "else:\n",
    "    print(\"S\")"
   ]
  },
  {
   "cell_type": "code",
   "execution_count": null,
   "id": "aa88765f",
   "metadata": {},
   "outputs": [],
   "source": []
  },
  {
   "cell_type": "code",
   "execution_count": null,
   "id": "52f16c9f",
   "metadata": {},
   "outputs": [],
   "source": []
  },
  {
   "cell_type": "code",
   "execution_count": null,
   "id": "a8bdd6fe",
   "metadata": {},
   "outputs": [],
   "source": []
  }
 ],
 "metadata": {
  "kernelspec": {
   "display_name": "Python 3",
   "language": "python",
   "name": "python3"
  },
  "language_info": {
   "codemirror_mode": {
    "name": "ipython",
    "version": 3
   },
   "file_extension": ".py",
   "mimetype": "text/x-python",
   "name": "python",
   "nbconvert_exporter": "python",
   "pygments_lexer": "ipython3",
   "version": "3.11.1"
  }
 },
 "nbformat": 4,
 "nbformat_minor": 5
}
