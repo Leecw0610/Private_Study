{
 "cells": [
  {
   "cell_type": "markdown",
   "metadata": {},
   "source": [
    "### 29725번"
   ]
  },
  {
   "cell_type": "code",
   "execution_count": 1,
   "metadata": {},
   "outputs": [
    {
     "name": "stdout",
     "output_type": "stream",
     "text": [
      "-320\n"
     ]
    }
   ],
   "source": [
    "chess = {\n",
    "    \"K\": 0,\n",
    "    \"k\": 0,\n",
    "    \"P\": 1,\n",
    "    \"p\": 1,\n",
    "    \"N\": 3,\n",
    "    \"n\": 3,\n",
    "    \"B\": 3,\n",
    "    \"b\": 3,\n",
    "    \"R\": 5,\n",
    "    \"r\": 5,\n",
    "    \"Q\": 9,\n",
    "    \"q\": 9,\n",
    "}\n",
    "\n",
    "white, black = 0, 0\n",
    "for _ in range(8):\n",
    "    pieces = input()\n",
    "    for p in pieces:\n",
    "        if p == \".\":\n",
    "            continue\n",
    "        if p.isupper():\n",
    "            white += chess[p]\n",
    "        else:\n",
    "            black += chess[p]\n",
    "\n",
    "print(white - black)"
   ]
  },
  {
   "cell_type": "code",
   "execution_count": null,
   "metadata": {},
   "outputs": [],
   "source": []
  },
  {
   "cell_type": "code",
   "execution_count": null,
   "metadata": {},
   "outputs": [],
   "source": []
  },
  {
   "cell_type": "code",
   "execution_count": null,
   "metadata": {},
   "outputs": [],
   "source": []
  }
 ],
 "metadata": {
  "kernelspec": {
   "display_name": "Python 3",
   "language": "python",
   "name": "python3"
  },
  "language_info": {
   "codemirror_mode": {
    "name": "ipython",
    "version": 3
   },
   "file_extension": ".py",
   "mimetype": "text/x-python",
   "name": "python",
   "nbconvert_exporter": "python",
   "pygments_lexer": "ipython3",
   "version": "3.11.1"
  }
 },
 "nbformat": 4,
 "nbformat_minor": 2
}
