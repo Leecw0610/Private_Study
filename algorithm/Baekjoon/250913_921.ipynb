{
 "cells": [
  {
   "cell_type": "markdown",
   "id": "90ac3a33",
   "metadata": {},
   "source": [
    "### 1347번"
   ]
  },
  {
   "cell_type": "code",
   "execution_count": 1,
   "id": "457f33a8",
   "metadata": {},
   "outputs": [
    {
     "name": "stdout",
     "output_type": "stream",
     "text": [
      "..\n",
      ".#\n"
     ]
    }
   ],
   "source": [
    "n = int(input())\n",
    "cmd = input()\n",
    "\n",
    "dx, dy = [-1, 0, 1, 0], [0, 1, 0, -1]\n",
    "V = [['#' for j in range(101)] for i in range(101)]\n",
    "\n",
    "x, y, d = 50, 50, 2\n",
    "ex = ey = sy = sx = 50\n",
    "V[x][y] = '.'\n",
    "\n",
    "for i in cmd:\n",
    "    if(i == 'L'):\n",
    "        d = (d+3) % 4\n",
    "    elif(i == 'R'):\n",
    "        d = (d+1) % 4\n",
    "    else:\n",
    "        x = x + dx[d]\n",
    "        y = y + dy[d]\n",
    "        V[x][y] = '.'\n",
    "        sy, ey, sx, ex = min(sy, y), max(ey, y), min(sx, x), max(ex, x)\n",
    "\n",
    "for i in range(sx, ex+1):\n",
    "    print(''.join(V[i][sy:ey+1]))"
   ]
  },
  {
   "cell_type": "code",
   "execution_count": null,
   "id": "863ae9e2",
   "metadata": {},
   "outputs": [],
   "source": []
  },
  {
   "cell_type": "code",
   "execution_count": null,
   "id": "2e82a7b4",
   "metadata": {},
   "outputs": [],
   "source": []
  },
  {
   "cell_type": "code",
   "execution_count": null,
   "id": "8824dfe8",
   "metadata": {},
   "outputs": [],
   "source": []
  }
 ],
 "metadata": {
  "kernelspec": {
   "display_name": "Python 3",
   "language": "python",
   "name": "python3"
  },
  "language_info": {
   "codemirror_mode": {
    "name": "ipython",
    "version": 3
   },
   "file_extension": ".py",
   "mimetype": "text/x-python",
   "name": "python",
   "nbconvert_exporter": "python",
   "pygments_lexer": "ipython3",
   "version": "3.13.6"
  }
 },
 "nbformat": 4,
 "nbformat_minor": 5
}
