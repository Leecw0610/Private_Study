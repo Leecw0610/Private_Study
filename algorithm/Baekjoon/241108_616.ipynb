{
 "cells": [
  {
   "cell_type": "markdown",
   "metadata": {
    "vscode": {
     "languageId": "plaintext"
    }
   },
   "source": [
    "### 18312번"
   ]
  },
  {
   "cell_type": "code",
   "execution_count": 1,
   "metadata": {},
   "outputs": [
    {
     "name": "stdout",
     "output_type": "stream",
     "text": [
      "11475\n"
     ]
    }
   ],
   "source": [
    "n, k = map(int, input().split())\n",
    "k = str(k)\n",
    "\n",
    "cnt = 0\n",
    "\n",
    "for i in range(0, n+1):\n",
    "    if i < 10:\n",
    "        i = '0' + str(i)\n",
    "    for j in range(0, 60):\n",
    "        if j < 10:\n",
    "            j = '0' + str(j)\n",
    "        for m in range(0, 60):\n",
    "            if m < 10:\n",
    "                m = '0' + str(m)\n",
    "            if str(k) in (str(i) + str(j) + str(m)):\n",
    "                cnt += 1\n",
    "\n",
    "print(cnt)"
   ]
  },
  {
   "cell_type": "code",
   "execution_count": null,
   "metadata": {},
   "outputs": [],
   "source": []
  },
  {
   "cell_type": "code",
   "execution_count": null,
   "metadata": {},
   "outputs": [],
   "source": []
  }
 ],
 "metadata": {
  "kernelspec": {
   "display_name": "Python 3",
   "language": "python",
   "name": "python3"
  },
  "language_info": {
   "codemirror_mode": {
    "name": "ipython",
    "version": 3
   },
   "file_extension": ".py",
   "mimetype": "text/x-python",
   "name": "python",
   "nbconvert_exporter": "python",
   "pygments_lexer": "ipython3",
   "version": "3.11.1"
  }
 },
 "nbformat": 4,
 "nbformat_minor": 2
}
