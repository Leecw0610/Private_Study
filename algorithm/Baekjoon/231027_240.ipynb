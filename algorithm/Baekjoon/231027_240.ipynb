{
 "cells": [
  {
   "cell_type": "markdown",
   "metadata": {},
   "source": [
    "### 4435번"
   ]
  },
  {
   "cell_type": "code",
   "execution_count": 2,
   "metadata": {},
   "outputs": [
    {
     "name": "stdout",
     "output_type": "stream",
     "text": [
      "Battle 1: Evil eradicates all trace of Good\n",
      "Battle 2: Good triumphs over Evil\n",
      "Battle 3: No victor on this battle field\n"
     ]
    }
   ],
   "source": [
    "t = int(input())\n",
    "\n",
    "for i in range(t):\n",
    "    a, b, c, d, e, f = map(int,input().split())\n",
    "    A, B, C, D, E, F, G = map(int,input().split())\n",
    "\n",
    "    if a + 2 * b + 3 * c + 3 * d + 4 * e + 10 * f > A + 2 * B + 2 * C + 2 * D + 3 * E + 5 * F + 10 *G:\n",
    "        print(\"Battle \" + str(i + 1) + \": Good triumphs over Evil\")\n",
    "    elif a + 2 * b + 3 * c + 3 * d + 4 * e + 10 * f < A + 2 * B + 2 * C + 2 * D + 3 * E + 5 * F + 10 * G:\n",
    "        print(\"Battle \" + str(i + 1) + \": Evil eradicates all trace of Good\")\n",
    "    else:\n",
    "        print(\"Battle \" + str(i + 1) + \": No victor on this battle field\")"
   ]
  },
  {
   "cell_type": "code",
   "execution_count": null,
   "metadata": {},
   "outputs": [],
   "source": []
  },
  {
   "cell_type": "code",
   "execution_count": null,
   "metadata": {},
   "outputs": [],
   "source": []
  },
  {
   "cell_type": "code",
   "execution_count": null,
   "metadata": {},
   "outputs": [],
   "source": []
  }
 ],
 "metadata": {
  "kernelspec": {
   "display_name": "Python 3",
   "language": "python",
   "name": "python3"
  },
  "language_info": {
   "codemirror_mode": {
    "name": "ipython",
    "version": 3
   },
   "file_extension": ".py",
   "mimetype": "text/x-python",
   "name": "python",
   "nbconvert_exporter": "python",
   "pygments_lexer": "ipython3",
   "version": "3.11.1"
  }
 },
 "nbformat": 4,
 "nbformat_minor": 2
}
