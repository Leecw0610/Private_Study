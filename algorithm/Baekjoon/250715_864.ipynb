{
 "cells": [
  {
   "cell_type": "markdown",
   "id": "4c645d88",
   "metadata": {},
   "source": [
    "### 33990번"
   ]
  },
  {
   "cell_type": "code",
   "execution_count": 1,
   "id": "0cc3c129",
   "metadata": {},
   "outputs": [
    {
     "name": "stdout",
     "output_type": "stream",
     "text": [
      "-1\n"
     ]
    }
   ],
   "source": [
    "N = int(input())\n",
    "result = []\n",
    "\n",
    "for _ in range(N):\n",
    "    A, B, C = map(int, input().split())\n",
    "    if A + B + C >= 512:\n",
    "        result.append(A + B + C)\n",
    "\n",
    "if result:\n",
    "    result.sort()\n",
    "    print(result[0])\n",
    "else:\n",
    "    print(-1)"
   ]
  },
  {
   "cell_type": "code",
   "execution_count": null,
   "id": "11f6fabb",
   "metadata": {},
   "outputs": [],
   "source": []
  },
  {
   "cell_type": "code",
   "execution_count": null,
   "id": "c6443ed0",
   "metadata": {},
   "outputs": [],
   "source": []
  },
  {
   "cell_type": "code",
   "execution_count": null,
   "id": "9bf4f813",
   "metadata": {},
   "outputs": [],
   "source": []
  }
 ],
 "metadata": {
  "kernelspec": {
   "display_name": "Python 3",
   "language": "python",
   "name": "python3"
  },
  "language_info": {
   "codemirror_mode": {
    "name": "ipython",
    "version": 3
   },
   "file_extension": ".py",
   "mimetype": "text/x-python",
   "name": "python",
   "nbconvert_exporter": "python",
   "pygments_lexer": "ipython3",
   "version": "3.11.1"
  }
 },
 "nbformat": 4,
 "nbformat_minor": 5
}
