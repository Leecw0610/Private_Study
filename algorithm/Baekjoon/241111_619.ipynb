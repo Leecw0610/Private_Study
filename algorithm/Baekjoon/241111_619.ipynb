{
 "cells": [
  {
   "cell_type": "markdown",
   "metadata": {
    "vscode": {
     "languageId": "plaintext"
    }
   },
   "source": [
    "### 18512번"
   ]
  },
  {
   "cell_type": "code",
   "execution_count": 1,
   "metadata": {},
   "outputs": [
    {
     "name": "stdout",
     "output_type": "stream",
     "text": [
      "-1\n"
     ]
    }
   ],
   "source": [
    "x, y, p1, p2 = map(int, input().split())\n",
    "cnt = 1\n",
    "\n",
    "found = False\n",
    "xVisited = [p1]\n",
    "yVisited = [p2]\n",
    "\n",
    "while cnt < 1000:\n",
    "    p1 += x\n",
    "    p2 += y\n",
    "    xVisited.append(p1)\n",
    "    yVisited.append(p2)\n",
    "\n",
    "    if p1 in yVisited or p2 in xVisited:\n",
    "        print(min(p1, p2))\n",
    "        found = True\n",
    "        break\n",
    "    cnt += 1\n",
    "\n",
    "if not found:\n",
    "    print(-1)"
   ]
  },
  {
   "cell_type": "code",
   "execution_count": null,
   "metadata": {},
   "outputs": [],
   "source": []
  },
  {
   "cell_type": "code",
   "execution_count": null,
   "metadata": {},
   "outputs": [],
   "source": []
  }
 ],
 "metadata": {
  "kernelspec": {
   "display_name": "Python 3",
   "language": "python",
   "name": "python3"
  },
  "language_info": {
   "codemirror_mode": {
    "name": "ipython",
    "version": 3
   },
   "file_extension": ".py",
   "mimetype": "text/x-python",
   "name": "python",
   "nbconvert_exporter": "python",
   "pygments_lexer": "ipython3",
   "version": "3.11.1"
  }
 },
 "nbformat": 4,
 "nbformat_minor": 2
}
