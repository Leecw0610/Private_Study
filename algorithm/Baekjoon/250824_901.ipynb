{
 "cells": [
  {
   "cell_type": "markdown",
   "id": "139a9c3a",
   "metadata": {},
   "source": [
    "### 1246번"
   ]
  },
  {
   "cell_type": "code",
   "execution_count": 1,
   "id": "9ca1f82a",
   "metadata": {},
   "outputs": [
    {
     "name": "stdout",
     "output_type": "stream",
     "text": [
      "7 21\n"
     ]
    }
   ],
   "source": [
    "n,m = map(int, input().split())\n",
    "\n",
    "p = []\n",
    "for _ in range(m):\n",
    "    p.append(int(input()))\n",
    "\n",
    "p.sort() #오름차순으로 정렬\n",
    "\n",
    "result = 0 #총 수익\n",
    "A = 0 #달걀 가격\n",
    "for i in range(m):\n",
    "    #i번째 가격을 채택하면 p[i]보다 싼 가격을 원하는 고객은 구매하지 않으므로 구매할 고객의 수를 구한다.\n",
    "    cnt = m-i \n",
    "\n",
    "    if n  <= cnt: #달걀의 수가 고객보다 적다면 모든 달걀을 다 팔아야 함\n",
    "        sum = n * p[i]\n",
    "    else:\n",
    "        sum = cnt * p[i]\n",
    "\n",
    "    if sum > result:\n",
    "        result = sum\n",
    "        A = p[i]\n",
    "\n",
    "print(\"%d %d\" %(A, result))"
   ]
  },
  {
   "cell_type": "code",
   "execution_count": null,
   "id": "950b35e2",
   "metadata": {},
   "outputs": [],
   "source": []
  },
  {
   "cell_type": "code",
   "execution_count": null,
   "id": "a1923f0b",
   "metadata": {},
   "outputs": [],
   "source": []
  },
  {
   "cell_type": "code",
   "execution_count": null,
   "id": "d09c4137",
   "metadata": {},
   "outputs": [],
   "source": []
  }
 ],
 "metadata": {
  "kernelspec": {
   "display_name": "Python 3",
   "language": "python",
   "name": "python3"
  },
  "language_info": {
   "codemirror_mode": {
    "name": "ipython",
    "version": 3
   },
   "file_extension": ".py",
   "mimetype": "text/x-python",
   "name": "python",
   "nbconvert_exporter": "python",
   "pygments_lexer": "ipython3",
   "version": "3.13.6"
  }
 },
 "nbformat": 4,
 "nbformat_minor": 5
}
