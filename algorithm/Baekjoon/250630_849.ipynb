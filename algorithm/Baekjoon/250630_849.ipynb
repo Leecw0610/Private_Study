{
 "cells": [
  {
   "cell_type": "markdown",
   "id": "eafad919",
   "metadata": {},
   "source": [
    "### 32776번"
   ]
  },
  {
   "cell_type": "code",
   "execution_count": 1,
   "id": "c8020642",
   "metadata": {},
   "outputs": [
    {
     "name": "stdout",
     "output_type": "stream",
     "text": [
      "high speed rail\n"
     ]
    }
   ],
   "source": [
    "S = int(input())\n",
    "Ma, F, Mb = map(int, input().split())\n",
    "\n",
    "if S <= Ma + F + Mb or S <= 240:\n",
    "    print(\"high speed rail\")\n",
    "else:\n",
    "    print(\"flight\")"
   ]
  },
  {
   "cell_type": "code",
   "execution_count": null,
   "id": "dab526a0",
   "metadata": {},
   "outputs": [],
   "source": []
  },
  {
   "cell_type": "code",
   "execution_count": null,
   "id": "9f453f6d",
   "metadata": {},
   "outputs": [],
   "source": []
  },
  {
   "cell_type": "code",
   "execution_count": null,
   "id": "142b9348",
   "metadata": {},
   "outputs": [],
   "source": []
  }
 ],
 "metadata": {
  "kernelspec": {
   "display_name": "Python 3",
   "language": "python",
   "name": "python3"
  },
  "language_info": {
   "codemirror_mode": {
    "name": "ipython",
    "version": 3
   },
   "file_extension": ".py",
   "mimetype": "text/x-python",
   "name": "python",
   "nbconvert_exporter": "python",
   "pygments_lexer": "ipython3",
   "version": "3.11.1"
  }
 },
 "nbformat": 4,
 "nbformat_minor": 5
}
