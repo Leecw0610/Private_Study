{
 "cells": [
  {
   "cell_type": "markdown",
   "id": "ae7e80ec",
   "metadata": {},
   "source": [
    "### 1004번"
   ]
  },
  {
   "cell_type": "code",
   "execution_count": 3,
   "id": "7c9e55ae",
   "metadata": {},
   "outputs": [
    {
     "name": "stdout",
     "output_type": "stream",
     "text": [
      "3\n",
      "0\n"
     ]
    }
   ],
   "source": [
    "T = int(input())\n",
    "\n",
    "for _ in range(T):\n",
    "    # 출발점 도착점\n",
    "    x1, y1, x2, y2 = list(map(int, input().split()))\n",
    "    # 행성계의 개수\n",
    "    n = int(input())\n",
    "    count = 0\n",
    "    for _ in range(n):\n",
    "        cx, cy, cr = map(int, input().split())\n",
    "        dis1 = (x1 - cx)**2 + (y1 - cy)**2\n",
    "        dis2 = (x2 - cx)**2 + (y2 - cy)**2\n",
    "        pow_cr = cr**2\n",
    "\n",
    "        if pow_cr > dis1 and pow_cr > dis2:\n",
    "            pass\n",
    "        elif pow_cr > dis1:\n",
    "            count += 1\n",
    "        elif pow_cr > dis2:\n",
    "            count += 1\n",
    "\n",
    "    print(count)"
   ]
  },
  {
   "cell_type": "code",
   "execution_count": null,
   "id": "367fd8dc",
   "metadata": {},
   "outputs": [],
   "source": []
  },
  {
   "cell_type": "code",
   "execution_count": null,
   "id": "30932928",
   "metadata": {},
   "outputs": [],
   "source": []
  },
  {
   "cell_type": "code",
   "execution_count": null,
   "id": "4dd7a50f",
   "metadata": {},
   "outputs": [],
   "source": []
  }
 ],
 "metadata": {
  "kernelspec": {
   "display_name": "Python 3",
   "language": "python",
   "name": "python3"
  },
  "language_info": {
   "codemirror_mode": {
    "name": "ipython",
    "version": 3
   },
   "file_extension": ".py",
   "mimetype": "text/x-python",
   "name": "python",
   "nbconvert_exporter": "python",
   "pygments_lexer": "ipython3",
   "version": "3.11.1"
  }
 },
 "nbformat": 4,
 "nbformat_minor": 5
}
