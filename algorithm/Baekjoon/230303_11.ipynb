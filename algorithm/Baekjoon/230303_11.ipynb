{
 "cells": [
  {
   "cell_type": "markdown",
   "metadata": {},
   "source": [
    "### 10812번"
   ]
  },
  {
   "cell_type": "code",
   "execution_count": 8,
   "metadata": {},
   "outputs": [
    {
     "name": "stdout",
     "output_type": "stream",
     "text": [
      "[1, 2, 3, 4, 5, 6, 7, 8, 9, 10]\n",
      "1 4 6 2 3 7 10 5 8 9 "
     ]
    }
   ],
   "source": [
    "N, M = map(int, input().split())\n",
    "\n",
    "basket = [a+1 for a in range(N)]\n",
    "# print(basket)\n",
    "for _ in range(M):\n",
    "    i, j, k = map(int, input().split())\n",
    "    basket = basket[:i-1] + basket[k-1:j] + basket[i-1:k-1] + basket[j:]\n",
    "    # print(basket)\n",
    "\n",
    "# print(basket)\n",
    "for ele in basket:\n",
    "    print(ele, end=' ')\n",
    "\n"
   ]
  },
  {
   "cell_type": "markdown",
   "metadata": {},
   "source": [
    "### 10988번"
   ]
  },
  {
   "cell_type": "code",
   "execution_count": 10,
   "metadata": {},
   "outputs": [
    {
     "name": "stdout",
     "output_type": "stream",
     "text": [
      "0\n"
     ]
    }
   ],
   "source": [
    "S = input()\n",
    "\n",
    "if S == S[::-1]:\n",
    "    print(1)\n",
    "else:\n",
    "    print(0)"
   ]
  },
  {
   "cell_type": "markdown",
   "metadata": {},
   "source": [
    "### 25206번"
   ]
  },
  {
   "cell_type": "code",
   "execution_count": 12,
   "metadata": {},
   "outputs": [
    {
     "ename": "ValueError",
     "evalue": "not enough values to unpack (expected 3, got 0)",
     "output_type": "error",
     "traceback": [
      "\u001b[1;31m---------------------------------------------------------------------------\u001b[0m",
      "\u001b[1;31mValueError\u001b[0m                                Traceback (most recent call last)",
      "\u001b[1;32m~\\AppData\\Local\\Temp\\ipykernel_16612\\2358789281.py\u001b[0m in \u001b[0;36m<module>\u001b[1;34m\u001b[0m\n\u001b[0;32m      4\u001b[0m \u001b[1;32mwhile\u001b[0m \u001b[1;32mTrue\u001b[0m\u001b[1;33m:\u001b[0m\u001b[1;33m\u001b[0m\u001b[1;33m\u001b[0m\u001b[0m\n\u001b[0;32m      5\u001b[0m     \u001b[1;32mtry\u001b[0m\u001b[1;33m:\u001b[0m\u001b[1;33m\u001b[0m\u001b[1;33m\u001b[0m\u001b[0m\n\u001b[1;32m----> 6\u001b[1;33m         \u001b[0msub\u001b[0m\u001b[1;33m,\u001b[0m \u001b[0mscore\u001b[0m\u001b[1;33m,\u001b[0m \u001b[0msub_mean\u001b[0m\u001b[1;33m=\u001b[0m \u001b[0minput\u001b[0m\u001b[1;33m(\u001b[0m\u001b[1;33m)\u001b[0m\u001b[1;33m.\u001b[0m\u001b[0msplit\u001b[0m\u001b[1;33m(\u001b[0m\u001b[1;33m)\u001b[0m\u001b[1;33m\u001b[0m\u001b[1;33m\u001b[0m\u001b[0m\n\u001b[0m\u001b[0;32m      7\u001b[0m         \u001b[0mtotal_score\u001b[0m \u001b[1;33m+=\u001b[0m \u001b[0mfloat\u001b[0m\u001b[1;33m(\u001b[0m\u001b[0mscore\u001b[0m\u001b[1;33m)\u001b[0m\u001b[1;33m\u001b[0m\u001b[1;33m\u001b[0m\u001b[0m\n\u001b[0;32m      8\u001b[0m         \u001b[1;32mif\u001b[0m \u001b[0msub_mean\u001b[0m \u001b[1;33m==\u001b[0m \u001b[1;34m'A+'\u001b[0m\u001b[1;33m:\u001b[0m\u001b[1;33m\u001b[0m\u001b[1;33m\u001b[0m\u001b[0m\n",
      "\u001b[1;31mValueError\u001b[0m: not enough values to unpack (expected 3, got 0)"
     ]
    }
   ],
   "source": [
    "total_score = 0\n",
    "total_sub = 0\n",
    "\n",
    "while True:\n",
    "    try:\n",
    "        _, score, sub_mean= input().split()\n",
    "        total_score += float(score)\n",
    "        if sub_mean == 'A+':\n",
    "            total_sub += 4.5 * float(score)\n",
    "        elif sub_mean == 'A0':\n",
    "            total_sub += 4.0 * float(score)\n",
    "        elif sub_mean == 'B+':\n",
    "            total_sub += 3.5 * float(score)\n",
    "        elif sub_mean == 'B0':\n",
    "            total_sub += 3.0 * float(score)\n",
    "        elif sub_mean == 'C+':\n",
    "            total_sub += 2.5 * float(score)\n",
    "        elif sub_mean == 'C0':\n",
    "            total_sub += 2.0 * float(score)\n",
    "        elif sub_mean == 'D+':\n",
    "            total_sub += 1.5 * float(score)\n",
    "        elif sub_mean == 'D0':\n",
    "            total_sub += 1.0 * float(score)\n",
    "        elif sub_mean == 'F':\n",
    "            total_sub += 0.0\n",
    "        else:\n",
    "            continue\n",
    "    except EOFError:\n",
    "        break\n",
    "\n",
    "print(total_sub / total_score)"
   ]
  },
  {
   "cell_type": "code",
   "execution_count": null,
   "metadata": {},
   "outputs": [],
   "source": [
    "rate = 0\n",
    "scoreSum = 0\n",
    "\n",
    "rating = {\"A+\": 4.5, \"A0\": 4.0, \"B+\": 3.5, \"B0\": 3.0, \"C+\": 2.5, \"C0\": 2.0, \"D+\": 1.5, \"D0\": 1.0, \"F\": 0.0}\n",
    "\n",
    "for _ in range(20):\n",
    "    subject, score, grade = input().split()\n",
    "    if grade == \"P\":\n",
    "        continue\n",
    "    rate += float(score) * rating[grade]\n",
    "    scoreSum += float(score)\n",
    "\n",
    "print(rate / scoreSum)"
   ]
  },
  {
   "cell_type": "markdown",
   "metadata": {},
   "source": [
    "### 2738번"
   ]
  },
  {
   "cell_type": "code",
   "execution_count": 15,
   "metadata": {},
   "outputs": [
    {
     "name": "stdout",
     "output_type": "stream",
     "text": [
      "4 4 4 \n",
      "6 6 6 \n",
      "5 6 100 \n"
     ]
    }
   ],
   "source": [
    "N, M = map(int, input().split())\n",
    "N_list = []\n",
    "M_list = []\n",
    "\n",
    "for i in range(N):\n",
    "    temp = list(map(int, input().split()))\n",
    "    N_list.append(temp)\n",
    "for j in range(M):\n",
    "    temp = list(map(int, input().split()))\n",
    "    M_list.append(temp)\n",
    "\n",
    "for n in range(N):\n",
    "    for m in range(M):\n",
    "        print(N_list[n][m] + M_list[n][m], end=' ')\n",
    "    print()"
   ]
  },
  {
   "cell_type": "markdown",
   "metadata": {},
   "source": [
    "### 2566번"
   ]
  },
  {
   "cell_type": "code",
   "execution_count": null,
   "metadata": {},
   "outputs": [],
   "source": [
    "total = []\n",
    "row_max = []\n",
    "\n",
    "\n",
    "for i in range(9):\n",
    "    row = list(map(int, input().split()))\n",
    "    row_max.append(max(row))\n",
    "    total.append(row)\n",
    "\n",
    "print(max(row_max))\n",
    "m_row = row_max.index(max(row_max))\n",
    "print(row_maximum + 1,  , end=' ')"
   ]
  },
  {
   "cell_type": "code",
   "execution_count": 1,
   "metadata": {},
   "outputs": [
    {
     "data": {
      "text/plain": [
       "3"
      ]
     },
     "execution_count": 1,
     "metadata": {},
     "output_type": "execute_result"
    }
   ],
   "source": [
    "max([1,2,3])"
   ]
  },
  {
   "cell_type": "code",
   "execution_count": 2,
   "metadata": {},
   "outputs": [
    {
     "ename": "ValueError",
     "evalue": "max() arg is an empty sequence",
     "output_type": "error",
     "traceback": [
      "\u001b[1;31m---------------------------------------------------------------------------\u001b[0m",
      "\u001b[1;31mValueError\u001b[0m                                Traceback (most recent call last)",
      "\u001b[1;32m~\\AppData\\Local\\Temp\\ipykernel_17740\\1107944811.py\u001b[0m in \u001b[0;36m<module>\u001b[1;34m\u001b[0m\n\u001b[0;32m      4\u001b[0m \u001b[1;32mfor\u001b[0m \u001b[0mi\u001b[0m \u001b[1;32min\u001b[0m \u001b[0mrange\u001b[0m\u001b[1;33m(\u001b[0m\u001b[1;36m9\u001b[0m\u001b[1;33m)\u001b[0m\u001b[1;33m:\u001b[0m\u001b[1;33m\u001b[0m\u001b[1;33m\u001b[0m\u001b[0m\n\u001b[0;32m      5\u001b[0m     \u001b[0mline\u001b[0m \u001b[1;33m=\u001b[0m \u001b[0mlist\u001b[0m\u001b[1;33m(\u001b[0m\u001b[0mmap\u001b[0m\u001b[1;33m(\u001b[0m\u001b[0mint\u001b[0m\u001b[1;33m,\u001b[0m\u001b[0minput\u001b[0m\u001b[1;33m(\u001b[0m\u001b[1;33m)\u001b[0m\u001b[1;33m.\u001b[0m\u001b[0msplit\u001b[0m\u001b[1;33m(\u001b[0m\u001b[1;33m)\u001b[0m\u001b[1;33m)\u001b[0m\u001b[1;33m)\u001b[0m\u001b[1;33m\u001b[0m\u001b[1;33m\u001b[0m\u001b[0m\n\u001b[1;32m----> 6\u001b[1;33m     \u001b[1;32mif\u001b[0m \u001b[0mmax\u001b[0m\u001b[1;33m(\u001b[0m\u001b[0mline\u001b[0m\u001b[1;33m)\u001b[0m\u001b[1;33m>\u001b[0m\u001b[0mmax_num\u001b[0m\u001b[1;33m:\u001b[0m\u001b[1;33m\u001b[0m\u001b[1;33m\u001b[0m\u001b[0m\n\u001b[0m\u001b[0;32m      7\u001b[0m         \u001b[0mmax_num\u001b[0m\u001b[1;33m=\u001b[0m\u001b[0mmax\u001b[0m\u001b[1;33m(\u001b[0m\u001b[0mline\u001b[0m\u001b[1;33m)\u001b[0m\u001b[1;33m\u001b[0m\u001b[1;33m\u001b[0m\u001b[0m\n\u001b[0;32m      8\u001b[0m         \u001b[0mcol\u001b[0m\u001b[1;33m=\u001b[0m\u001b[0mi\u001b[0m\u001b[1;33m\u001b[0m\u001b[1;33m\u001b[0m\u001b[0m\n",
      "\u001b[1;31mValueError\u001b[0m: max() arg is an empty sequence"
     ]
    }
   ],
   "source": [
    "max_num=0\n",
    "col=0\n",
    "row=0\n",
    "for i in range(9):\n",
    "    line = list(map(int,input().split()))\n",
    "    if max(line)>max_num:\n",
    "        max_num=max(line)\n",
    "        col=i\n",
    "        row=line.index(max_num)\n",
    "print(max_num)\n",
    "print(col+1,row+1)"
   ]
  },
  {
   "cell_type": "code",
   "execution_count": null,
   "metadata": {},
   "outputs": [],
   "source": []
  }
 ],
 "metadata": {
  "kernelspec": {
   "display_name": "base",
   "language": "python",
   "name": "python3"
  },
  "language_info": {
   "codemirror_mode": {
    "name": "ipython",
    "version": 3
   },
   "file_extension": ".py",
   "mimetype": "text/x-python",
   "name": "python",
   "nbconvert_exporter": "python",
   "pygments_lexer": "ipython3",
   "version": "3.9.15"
  },
  "orig_nbformat": 4
 },
 "nbformat": 4,
 "nbformat_minor": 2
}
