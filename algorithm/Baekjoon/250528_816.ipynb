{
 "cells": [
  {
   "cell_type": "markdown",
   "id": "c98cfe5f",
   "metadata": {},
   "source": [
    "### 31866번"
   ]
  },
  {
   "cell_type": "code",
   "execution_count": 1,
   "id": "3413dc60",
   "metadata": {},
   "outputs": [
    {
     "name": "stdout",
     "output_type": "stream",
     "text": [
      "=\n"
     ]
    }
   ],
   "source": [
    "A, B = input().split()\n",
    "\n",
    "if A in (\"0\", \"2\", \"5\") and B not in (\"0\", \"2\", \"5\"):\n",
    "    print(\">\")\n",
    "elif A not in (\"0\", \"2\", \"5\") and B in (\"0\", \"2\", \"5\"):\n",
    "    print(\"<\")\n",
    "elif (A, B) in ((\"0\", \"2\"), (\"2\", \"5\"), (\"5\", \"0\")):\n",
    "    print(\">\")\n",
    "elif (A, B) in ((\"2\", \"0\"), (\"5\", \"2\"), (\"0\", \"5\")):\n",
    "    print(\"<\")\n",
    "else:\n",
    "    print(\"=\")"
   ]
  },
  {
   "cell_type": "code",
   "execution_count": null,
   "id": "27728bca",
   "metadata": {},
   "outputs": [],
   "source": []
  },
  {
   "cell_type": "code",
   "execution_count": null,
   "id": "d8746152",
   "metadata": {},
   "outputs": [],
   "source": []
  },
  {
   "cell_type": "code",
   "execution_count": null,
   "id": "580022c6",
   "metadata": {},
   "outputs": [],
   "source": []
  }
 ],
 "metadata": {
  "kernelspec": {
   "display_name": "Python 3",
   "language": "python",
   "name": "python3"
  },
  "language_info": {
   "codemirror_mode": {
    "name": "ipython",
    "version": 3
   },
   "file_extension": ".py",
   "mimetype": "text/x-python",
   "name": "python",
   "nbconvert_exporter": "python",
   "pygments_lexer": "ipython3",
   "version": "3.11.1"
  }
 },
 "nbformat": 4,
 "nbformat_minor": 5
}
