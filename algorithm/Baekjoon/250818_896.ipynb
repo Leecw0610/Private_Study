{
 "cells": [
  {
   "cell_type": "markdown",
   "id": "74ce943d",
   "metadata": {},
   "source": [
    "### 1198번"
   ]
  },
  {
   "cell_type": "code",
   "execution_count": null,
   "id": "b6bbb56f",
   "metadata": {},
   "outputs": [],
   "source": [
    "from itertools import combinations\n",
    "import sys\n",
    "\n",
    "\n",
    "def triangle_area(x, y, z):\n",
    "    return abs((x[0]*y[1]+y[0]*z[1]+z[0]*x[1]-x[1]*y[0]-y[1]*z[0]-z[1]*x[0]))/2\n",
    "\n",
    "\n",
    "jum = []\n",
    "max_area = []\n",
    "a = []\n",
    "inp = sys.stdin.readline()\n",
    "\n",
    "for i in range(int(inp)):\n",
    "    inpp = sys.stdin.readline()\n",
    "    jum.append(list(map(int, inpp.split())))\n",
    "\n",
    "jum_list = list(combinations(jum, 3))\n",
    "for k in range(len(jum_list)):\n",
    "    max_area.append(triangle_area(jum_list[k][0], jum_list[k][1], jum_list[k][2]))\n",
    "print(max(max_area))"
   ]
  },
  {
   "cell_type": "code",
   "execution_count": null,
   "id": "8dce3e1c",
   "metadata": {},
   "outputs": [],
   "source": []
  },
  {
   "cell_type": "code",
   "execution_count": null,
   "id": "36a6d064",
   "metadata": {},
   "outputs": [],
   "source": []
  },
  {
   "cell_type": "code",
   "execution_count": null,
   "id": "69ac45cf",
   "metadata": {},
   "outputs": [],
   "source": []
  }
 ],
 "metadata": {
  "kernelspec": {
   "display_name": "Python 3",
   "language": "python",
   "name": "python3"
  },
  "language_info": {
   "codemirror_mode": {
    "name": "ipython",
    "version": 3
   },
   "file_extension": ".py",
   "mimetype": "text/x-python",
   "name": "python",
   "nbconvert_exporter": "python",
   "pygments_lexer": "ipython3",
   "version": "3.13.6"
  }
 },
 "nbformat": 4,
 "nbformat_minor": 5
}
