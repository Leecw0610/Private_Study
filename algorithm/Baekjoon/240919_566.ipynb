{
 "cells": [
  {
   "cell_type": "markdown",
   "metadata": {},
   "source": [
    "### 16099번"
   ]
  },
  {
   "cell_type": "code",
   "execution_count": 1,
   "metadata": {},
   "outputs": [
    {
     "name": "stdout",
     "output_type": "stream",
     "text": [
      "Eurecom\n",
      "TelecomParisTech\n"
     ]
    }
   ],
   "source": [
    "test_case = int(input())\n",
    "\n",
    "for _ in range (test_case):\n",
    "    LT, WT, LE, WE = map(int, input().split())\n",
    "    if LT * WT > LE * WE :\n",
    "        print(\"TelecomParisTech\")\n",
    "    elif LT * WT < LE * WE :\n",
    "        print(\"Eurecom\")\n",
    "    else :\n",
    "        print(\"Tie\")"
   ]
  },
  {
   "cell_type": "code",
   "execution_count": null,
   "metadata": {},
   "outputs": [],
   "source": []
  },
  {
   "cell_type": "code",
   "execution_count": null,
   "metadata": {},
   "outputs": [],
   "source": []
  }
 ],
 "metadata": {
  "kernelspec": {
   "display_name": "Python 3",
   "language": "python",
   "name": "python3"
  },
  "language_info": {
   "codemirror_mode": {
    "name": "ipython",
    "version": 3
   },
   "file_extension": ".py",
   "mimetype": "text/x-python",
   "name": "python",
   "nbconvert_exporter": "python",
   "pygments_lexer": "ipython3",
   "version": "3.11.1"
  }
 },
 "nbformat": 4,
 "nbformat_minor": 2
}
