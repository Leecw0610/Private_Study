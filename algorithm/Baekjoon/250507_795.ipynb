{
 "cells": [
  {
   "cell_type": "markdown",
   "id": "5d3c00d1",
   "metadata": {},
   "source": [
    "### 31403번"
   ]
  },
  {
   "cell_type": "code",
   "execution_count": 1,
   "id": "2cb2199d",
   "metadata": {},
   "outputs": [
    {
     "name": "stdout",
     "output_type": "stream",
     "text": [
      "2\n",
      "29\n"
     ]
    }
   ],
   "source": [
    "def sol(a, b, c):\n",
    "    print(int(a) + int(b) - int(c))\n",
    "    print(int(a+b) - int(c))\n",
    "\n",
    "if __name__ == '__main__':\n",
    "    a = input()\n",
    "    b = input()\n",
    "    c = input()\n",
    "    sol(a, b, c)"
   ]
  },
  {
   "cell_type": "code",
   "execution_count": null,
   "id": "dfaea28f",
   "metadata": {},
   "outputs": [],
   "source": []
  },
  {
   "cell_type": "code",
   "execution_count": null,
   "id": "7f6617ef",
   "metadata": {},
   "outputs": [],
   "source": []
  },
  {
   "cell_type": "code",
   "execution_count": null,
   "id": "10eef8e3",
   "metadata": {},
   "outputs": [],
   "source": []
  }
 ],
 "metadata": {
  "kernelspec": {
   "display_name": "Python 3",
   "language": "python",
   "name": "python3"
  },
  "language_info": {
   "codemirror_mode": {
    "name": "ipython",
    "version": 3
   },
   "file_extension": ".py",
   "mimetype": "text/x-python",
   "name": "python",
   "nbconvert_exporter": "python",
   "pygments_lexer": "ipython3",
   "version": "3.11.1"
  }
 },
 "nbformat": 4,
 "nbformat_minor": 5
}
