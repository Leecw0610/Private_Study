{
 "cells": [
  {
   "cell_type": "markdown",
   "id": "0ce3a8cf",
   "metadata": {},
   "source": [
    "### 32141번"
   ]
  },
  {
   "cell_type": "code",
   "execution_count": 1,
   "id": "1bd3bd09",
   "metadata": {},
   "outputs": [
    {
     "name": "stdout",
     "output_type": "stream",
     "text": [
      "-1\n"
     ]
    }
   ],
   "source": [
    "N, H = map(int, input().split())\n",
    "d = [0] + list(map(int, input().split()))\n",
    "S = [0] * (N + 1)  # 공격력 누적합 배열\n",
    "\n",
    "for k in range(1, N + 1):\n",
    "    S[k] = S[k - 1] + d[k]\n",
    "\n",
    "if H > S[-1]:\n",
    "    print(-1)\n",
    "else:\n",
    "    for i in range(1, N + 1):\n",
    "        if H <= S[i]:\n",
    "            print(i)\n",
    "            break"
   ]
  },
  {
   "cell_type": "code",
   "execution_count": null,
   "id": "5ef8495b",
   "metadata": {},
   "outputs": [],
   "source": []
  },
  {
   "cell_type": "code",
   "execution_count": null,
   "id": "71b02869",
   "metadata": {},
   "outputs": [],
   "source": []
  },
  {
   "cell_type": "code",
   "execution_count": null,
   "id": "093f4f1b",
   "metadata": {},
   "outputs": [],
   "source": []
  }
 ],
 "metadata": {
  "kernelspec": {
   "display_name": "Python 3",
   "language": "python",
   "name": "python3"
  },
  "language_info": {
   "codemirror_mode": {
    "name": "ipython",
    "version": 3
   },
   "file_extension": ".py",
   "mimetype": "text/x-python",
   "name": "python",
   "nbconvert_exporter": "python",
   "pygments_lexer": "ipython3",
   "version": "3.11.1"
  }
 },
 "nbformat": 4,
 "nbformat_minor": 5
}
