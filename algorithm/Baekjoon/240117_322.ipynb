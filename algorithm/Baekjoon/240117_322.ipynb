{
 "cells": [
  {
   "cell_type": "code",
   "execution_count": 1,
   "metadata": {},
   "outputs": [
    {
     "name": "stdout",
     "output_type": "stream",
     "text": [
      "n e\n",
      "- -----------\n",
      "0 1\n",
      "1 2\n",
      "2 2.5\n",
      "3 2.666666667\n",
      "4 2.708333333\n",
      "5 2.716666667\n",
      "6 2.718055556\n",
      "7 2.718253968\n",
      "8 2.718278770\n",
      "9 2.718281526\n"
     ]
    }
   ],
   "source": [
    "import math\n",
    "\n",
    "print('n e\\n- -----------')\n",
    "for n in range(10):\n",
    "    s = str(sum(map(lambda i: 1 / math.factorial(i), range(n + 1)))).split('.')\n",
    "    print(n, f'{float(\".\".join(s)):0.9f}' if len(s[1]) > 9 else \".\".join(s) if s[1] != '0'else s[0])"
   ]
  },
  {
   "cell_type": "code",
   "execution_count": null,
   "metadata": {},
   "outputs": [],
   "source": []
  },
  {
   "cell_type": "code",
   "execution_count": null,
   "metadata": {},
   "outputs": [],
   "source": []
  },
  {
   "cell_type": "code",
   "execution_count": null,
   "metadata": {},
   "outputs": [],
   "source": []
  }
 ],
 "metadata": {
  "kernelspec": {
   "display_name": "Python 3",
   "language": "python",
   "name": "python3"
  },
  "language_info": {
   "codemirror_mode": {
    "name": "ipython",
    "version": 3
   },
   "file_extension": ".py",
   "mimetype": "text/x-python",
   "name": "python",
   "nbconvert_exporter": "python",
   "pygments_lexer": "ipython3",
   "version": "3.11.1"
  }
 },
 "nbformat": 4,
 "nbformat_minor": 2
}
