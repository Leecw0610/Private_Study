{
 "cells": [
  {
   "cell_type": "markdown",
   "id": "c76dd699",
   "metadata": {},
   "source": [
    "### 1262번"
   ]
  },
  {
   "cell_type": "code",
   "execution_count": null,
   "id": "c7410147",
   "metadata": {},
   "outputs": [],
   "source": [
    "import sys\n",
    "input = sys.stdin.readline\n",
    "\n",
    "N, r1, c1, r2, c2 = map(int, input().split())\n",
    "\n",
    "alphabet = [\"a\", \"b\", \"c\", \"d\", \"e\", \"f\", \"g\", \"h\", \"i\", \"j\", \"k\", \"l\", \"m\", \"n\", \"o\", \"p\", \"q\", \"r\", \"s\", \"t\", \"u\", \"v\", \"w\", \"x\", \"y\", \"z\"]\n",
    "dia = 2*N-1\n",
    "for i in range(r1, r2+1):\n",
    "    for j in range(c1, c2+1):\n",
    "        i %= dia\n",
    "        j %= dia\n",
    "        dis = abs(N-1-i) + abs(N-1-j)\n",
    "        if dis > N-1:\n",
    "            print(\".\", end=\"\")\n",
    "        else:\n",
    "            print(alphabet[dis%26], end=\"\")\n",
    "    print()"
   ]
  },
  {
   "cell_type": "code",
   "execution_count": null,
   "id": "a0181462",
   "metadata": {},
   "outputs": [],
   "source": []
  },
  {
   "cell_type": "code",
   "execution_count": null,
   "id": "4f2ceeee",
   "metadata": {},
   "outputs": [],
   "source": []
  },
  {
   "cell_type": "code",
   "execution_count": null,
   "id": "f7509428",
   "metadata": {},
   "outputs": [],
   "source": []
  }
 ],
 "metadata": {
  "kernelspec": {
   "display_name": "Python 3",
   "language": "python",
   "name": "python3"
  },
  "language_info": {
   "codemirror_mode": {
    "name": "ipython",
    "version": 3
   },
   "file_extension": ".py",
   "mimetype": "text/x-python",
   "name": "python",
   "nbconvert_exporter": "python",
   "pygments_lexer": "ipython3",
   "version": "3.13.6"
  }
 },
 "nbformat": 4,
 "nbformat_minor": 5
}
