{
 "cells": [
  {
   "cell_type": "markdown",
   "metadata": {},
   "source": [
    "### 4714번"
   ]
  },
  {
   "cell_type": "code",
   "execution_count": 1,
   "metadata": {},
   "outputs": [
    {
     "name": "stdout",
     "output_type": "stream",
     "text": [
      "Objects weighing 100.00 on Earth will weigh 16.70 on the moon.\n",
      "Objects weighing 12.00 on Earth will weigh 2.00 on the moon.\n",
      "Objects weighing 0.12 on Earth will weigh 0.02 on the moon.\n",
      "Objects weighing 120000.00 on Earth will weigh 20040.00 on the moon.\n"
     ]
    }
   ],
   "source": [
    "while 1:\n",
    "    w = float(input())\n",
    "    if w == -1:\n",
    "        break\n",
    "    print(\"Objects weighing %.2f on Earth will weigh %.2f on the moon.\" % (w, w * 0.167))"
   ]
  },
  {
   "cell_type": "code",
   "execution_count": null,
   "metadata": {},
   "outputs": [],
   "source": []
  },
  {
   "cell_type": "code",
   "execution_count": null,
   "metadata": {},
   "outputs": [],
   "source": []
  }
 ],
 "metadata": {
  "kernelspec": {
   "display_name": "Python 3",
   "language": "python",
   "name": "python3"
  },
  "language_info": {
   "codemirror_mode": {
    "name": "ipython",
    "version": 3
   },
   "file_extension": ".py",
   "mimetype": "text/x-python",
   "name": "python",
   "nbconvert_exporter": "python",
   "pygments_lexer": "ipython3",
   "version": "3.11.1"
  }
 },
 "nbformat": 4,
 "nbformat_minor": 2
}
