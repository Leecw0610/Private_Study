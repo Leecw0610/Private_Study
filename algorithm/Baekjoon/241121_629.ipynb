{
 "cells": [
  {
   "cell_type": "markdown",
   "metadata": {
    "vscode": {
     "languageId": "plaintext"
    }
   },
   "source": [
    "### 20232번"
   ]
  },
  {
   "cell_type": "code",
   "execution_count": 1,
   "metadata": {},
   "outputs": [
    {
     "name": "stdout",
     "output_type": "stream",
     "text": [
      "ITMO\n"
     ]
    }
   ],
   "source": [
    "y = int(input())\n",
    "d = {1995: \"ITMO\", 1996: \"SPbSU\", 1997: \"SPbSU\", 1998: \"ITMO\", \\\n",
    "     1999: \"ITMO\", 2000: \"SPbSU\", 2001: \"ITMO\", 2002: \"ITMO\", \\\n",
    "     2003: \"ITMO\", 2004: \"ITMO\", 2005: \"ITMO\", 2006: \"PetrSU, ITMO\", \\\n",
    "     2007: \"SPbSU\", 2008: \"SPbSU\", 2009: \"ITMO\", 2010: 'ITMO', \\\n",
    "     2011: 'ITMO', 2012: 'ITMO', 2013: \"SPbSU\", 2014: \"ITMO\", \\\n",
    "     2015: \"ITMO\", 2016: \"ITMO\", 2017: \"ITMO\", 2018: \"SPbSU\", 2019: \"ITMO\"}\n",
    "print(d[y])"
   ]
  },
  {
   "cell_type": "code",
   "execution_count": null,
   "metadata": {},
   "outputs": [],
   "source": []
  },
  {
   "cell_type": "code",
   "execution_count": null,
   "metadata": {},
   "outputs": [],
   "source": []
  }
 ],
 "metadata": {
  "kernelspec": {
   "display_name": "Python 3",
   "language": "python",
   "name": "python3"
  },
  "language_info": {
   "codemirror_mode": {
    "name": "ipython",
    "version": 3
   },
   "file_extension": ".py",
   "mimetype": "text/x-python",
   "name": "python",
   "nbconvert_exporter": "python",
   "pygments_lexer": "ipython3",
   "version": "3.11.1"
  }
 },
 "nbformat": 4,
 "nbformat_minor": 2
}
