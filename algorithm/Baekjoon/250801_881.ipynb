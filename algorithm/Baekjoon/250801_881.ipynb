{
 "cells": [
  {
   "cell_type": "markdown",
   "id": "0236c19a",
   "metadata": {},
   "source": [
    "### 1072번"
   ]
  },
  {
   "cell_type": "code",
   "execution_count": null,
   "id": "5f353582",
   "metadata": {},
   "outputs": [
    {
     "name": "stdout",
     "output_type": "stream",
     "text": [
      "6\n"
     ]
    }
   ],
   "source": [
    "x, y = map(int,input().split()) \n",
    "z = (100*y)//x \n",
    "left = 0 \n",
    "right = x \n",
    "res = x \n",
    "if z >= 99: \n",
    "    print(-1)\n",
    "else: \n",
    "    while left <= right: \n",
    "        mid = (left + right)//2 \n",
    "        if (100*(y+mid))//(x+mid)>z: \n",
    "            res = mid \n",
    "            right = mid-1 \n",
    "        else: \n",
    "            left = mid+1\n",
    "    print(res)"
   ]
  },
  {
   "cell_type": "code",
   "execution_count": null,
   "id": "97115f73",
   "metadata": {},
   "outputs": [],
   "source": []
  },
  {
   "cell_type": "code",
   "execution_count": null,
   "id": "22e94abf",
   "metadata": {},
   "outputs": [],
   "source": []
  },
  {
   "cell_type": "code",
   "execution_count": null,
   "id": "8a87684e",
   "metadata": {},
   "outputs": [],
   "source": []
  }
 ],
 "metadata": {
  "kernelspec": {
   "display_name": "Python 3",
   "language": "python",
   "name": "python3"
  },
  "language_info": {
   "codemirror_mode": {
    "name": "ipython",
    "version": 3
   },
   "file_extension": ".py",
   "mimetype": "text/x-python",
   "name": "python",
   "nbconvert_exporter": "python",
   "pygments_lexer": "ipython3",
   "version": "3.11.1"
  }
 },
 "nbformat": 4,
 "nbformat_minor": 5
}
