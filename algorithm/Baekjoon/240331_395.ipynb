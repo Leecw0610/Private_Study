{
 "cells": [
  {
   "cell_type": "markdown",
   "metadata": {},
   "source": [
    "### 10040번"
   ]
  },
  {
   "cell_type": "code",
   "execution_count": 1,
   "metadata": {},
   "outputs": [
    {
     "name": "stdout",
     "output_type": "stream",
     "text": [
      "2\n"
     ]
    }
   ],
   "source": [
    "N, M = map(int, input().split(\" \"))\n",
    "A = []\n",
    "B = []\n",
    "C = []\n",
    "for i in range(N):\n",
    "    A.append(int(input()))\n",
    "for j in range(M):\n",
    "    B.append(int(input()))\n",
    "for i in range(N):\n",
    "    C.append(0)\n",
    "for j in range(M):\n",
    "    for i in range(N):\n",
    "        if A[i] <= B[j]:\n",
    "            C[i] += 1\n",
    "            break\n",
    "print(C.index(max(C)) + 1)"
   ]
  },
  {
   "cell_type": "code",
   "execution_count": null,
   "metadata": {},
   "outputs": [],
   "source": []
  },
  {
   "cell_type": "code",
   "execution_count": null,
   "metadata": {},
   "outputs": [],
   "source": []
  }
 ],
 "metadata": {
  "kernelspec": {
   "display_name": "Python 3",
   "language": "python",
   "name": "python3"
  },
  "language_info": {
   "codemirror_mode": {
    "name": "ipython",
    "version": 3
   },
   "file_extension": ".py",
   "mimetype": "text/x-python",
   "name": "python",
   "nbconvert_exporter": "python",
   "pygments_lexer": "ipython3",
   "version": "3.11.1"
  }
 },
 "nbformat": 4,
 "nbformat_minor": 2
}
