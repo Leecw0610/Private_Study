{
 "cells": [
  {
   "cell_type": "markdown",
   "metadata": {},
   "source": [
    "### 9063번"
   ]
  },
  {
   "cell_type": "code",
   "execution_count": 3,
   "metadata": {},
   "outputs": [
    {
     "name": "stdout",
     "output_type": "stream",
     "text": [
      "9\n"
     ]
    }
   ],
   "source": [
    "n = int(input())\n",
    "x_list = []\n",
    "y_list = []\n",
    "\n",
    "for i in range(n):\n",
    "    x, y = map(int, input().split())\n",
    "    x_list.append(x)\n",
    "    y_list.append(y)\n",
    "x_dis = abs(max(x_list) - min(x_list))\n",
    "y_dis = abs(max(y_list) - min(y_list))\n",
    "\n",
    "print(x_dis * y_dis)"
   ]
  },
  {
   "cell_type": "markdown",
   "metadata": {},
   "source": [
    "### 10101번"
   ]
  },
  {
   "cell_type": "code",
   "execution_count": 5,
   "metadata": {},
   "outputs": [
    {
     "name": "stdout",
     "output_type": "stream",
     "text": [
      "Scalene\n"
     ]
    }
   ],
   "source": [
    "angle = []\n",
    "\n",
    "for _ in range(3):\n",
    "    angle.append(int(input()))\n",
    "angle = sorted(angle)\n",
    "\n",
    "if angle[0] + angle[1] + angle[2] == 180:\n",
    "    if angle[0] == angle[1]:\n",
    "        if angle[1] == angle[2]:\n",
    "            print('Equilateral')\n",
    "        else:\n",
    "            print('Isosceles')\n",
    "    else:\n",
    "        if angle[1] == angle[2]:\n",
    "            print('Isosceles')\n",
    "        else:\n",
    "            print('Scalene')\n",
    "else:\n",
    "    print('Error')\n"
   ]
  },
  {
   "cell_type": "markdown",
   "metadata": {},
   "source": [
    "### 5073번"
   ]
  },
  {
   "cell_type": "code",
   "execution_count": 13,
   "metadata": {},
   "outputs": [
    {
     "name": "stdout",
     "output_type": "stream",
     "text": [
      "Equilateral\n",
      "Scalene\n",
      "Invalid\n",
      "Isosceles\n"
     ]
    }
   ],
   "source": [
    "while True:\n",
    "    a, b, c = map(int, input().split())\n",
    "    if a == 0 and b == 0 and c == 0:\n",
    "        break\n",
    "    else:\n",
    "        leng = []\n",
    "        leng.append(a)\n",
    "        leng.append(b)\n",
    "        leng.append(c)\n",
    "        leng = sorted(leng)\n",
    "        if leng[0] + leng[1] <= leng[2]:\n",
    "            print('Invalid')\n",
    "        else:\n",
    "            if leng[0] == leng[1]:\n",
    "                if leng[1] == leng[2]:\n",
    "                    print('Equilateral')\n",
    "                else:\n",
    "                    print('Isosceles')\n",
    "            else:\n",
    "                if leng[1] == leng[2]:\n",
    "                    print('Isosceles')\n",
    "                else:\n",
    "                    print('Scalene')"
   ]
  },
  {
   "cell_type": "code",
   "execution_count": 11,
   "metadata": {},
   "outputs": [
    {
     "ename": "TypeError",
     "evalue": "list.append() takes exactly one argument (3 given)",
     "output_type": "error",
     "traceback": [
      "\u001b[1;31m---------------------------------------------------------------------------\u001b[0m",
      "\u001b[1;31mTypeError\u001b[0m                                 Traceback (most recent call last)",
      "\u001b[1;32m~\\AppData\\Local\\Temp\\ipykernel_7192\\2737622463.py\u001b[0m in \u001b[0;36m<module>\u001b[1;34m\u001b[0m\n\u001b[0;32m      4\u001b[0m \u001b[0mc\u001b[0m \u001b[1;33m=\u001b[0m \u001b[1;36m5\u001b[0m\u001b[1;33m\u001b[0m\u001b[1;33m\u001b[0m\u001b[0m\n\u001b[0;32m      5\u001b[0m \u001b[1;33m\u001b[0m\u001b[0m\n\u001b[1;32m----> 6\u001b[1;33m \u001b[0mlis\u001b[0m\u001b[1;33m.\u001b[0m\u001b[0mappend\u001b[0m\u001b[1;33m(\u001b[0m\u001b[0ma\u001b[0m\u001b[1;33m,\u001b[0m\u001b[0mb\u001b[0m\u001b[1;33m,\u001b[0m\u001b[0mc\u001b[0m\u001b[1;33m)\u001b[0m\u001b[1;33m\u001b[0m\u001b[1;33m\u001b[0m\u001b[0m\n\u001b[0m\u001b[0;32m      7\u001b[0m \u001b[1;31m# sorted(list(a,b,c))\u001b[0m\u001b[1;33m\u001b[0m\u001b[1;33m\u001b[0m\u001b[0m\n",
      "\u001b[1;31mTypeError\u001b[0m: list.append() takes exactly one argument (3 given)"
     ]
    }
   ],
   "source": [
    "lis = []\n",
    "a = 3\n",
    "b = 2\n",
    "c = 5\n",
    "\n",
    "lis.append(a)\n",
    "lis.append(b)\n",
    "lis.append(c)\n",
    "# sorted(list(a,b,c))"
   ]
  },
  {
   "cell_type": "markdown",
   "metadata": {},
   "source": [
    "### 14215번"
   ]
  },
  {
   "cell_type": "code",
   "execution_count": 20,
   "metadata": {},
   "outputs": [
    {
     "name": "stdout",
     "output_type": "stream",
     "text": [
      "113\n"
     ]
    }
   ],
   "source": [
    "stick = sorted(list(map(int, input().split())))\n",
    "bigger = 0\n",
    "\n",
    "if stick[0] + stick[1] <= stick[2]:\n",
    "    bigger = stick[0] + stick[1] - 1\n",
    "    print(stick[0] + stick[1] + bigger)\n",
    "else:\n",
    "    print(stick[0] + stick[1] + stick[2])"
   ]
  },
  {
   "cell_type": "code",
   "execution_count": null,
   "metadata": {},
   "outputs": [],
   "source": []
  },
  {
   "cell_type": "code",
   "execution_count": null,
   "metadata": {},
   "outputs": [],
   "source": []
  },
  {
   "cell_type": "code",
   "execution_count": null,
   "metadata": {},
   "outputs": [],
   "source": []
  }
 ],
 "metadata": {
  "kernelspec": {
   "display_name": "base",
   "language": "python",
   "name": "python3"
  },
  "language_info": {
   "codemirror_mode": {
    "name": "ipython",
    "version": 3
   },
   "file_extension": ".py",
   "mimetype": "text/x-python",
   "name": "python",
   "nbconvert_exporter": "python",
   "pygments_lexer": "ipython3",
   "version": "3.9.15"
  },
  "orig_nbformat": 4
 },
 "nbformat": 4,
 "nbformat_minor": 2
}
