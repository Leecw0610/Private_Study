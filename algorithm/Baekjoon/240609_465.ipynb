{
 "cells": [
  {
   "cell_type": "markdown",
   "metadata": {},
   "source": [
    "### 11655번"
   ]
  },
  {
   "cell_type": "code",
   "execution_count": 1,
   "metadata": {},
   "outputs": [
    {
     "name": "stdout",
     "output_type": "stream",
     "text": [
      "Bar vf 1\n"
     ]
    }
   ],
   "source": [
    "s = input()\n",
    "res = ''\n",
    "for c in s:\n",
    "    if 'a' <= c <= 'z':\n",
    "        res += chr((ord(c)+13) if c <= 'm' else ord(c)-13)\n",
    "    elif 'A' <= c <= 'Z':\n",
    "        res += chr((ord(c)+13) if c <= 'M' else ord(c)-13)\n",
    "    else:\n",
    "        res += c\n",
    "print(res)"
   ]
  },
  {
   "cell_type": "code",
   "execution_count": null,
   "metadata": {},
   "outputs": [],
   "source": []
  },
  {
   "cell_type": "code",
   "execution_count": null,
   "metadata": {},
   "outputs": [],
   "source": []
  }
 ],
 "metadata": {
  "kernelspec": {
   "display_name": "Python 3",
   "language": "python",
   "name": "python3"
  },
  "language_info": {
   "codemirror_mode": {
    "name": "ipython",
    "version": 3
   },
   "file_extension": ".py",
   "mimetype": "text/x-python",
   "name": "python",
   "nbconvert_exporter": "python",
   "pygments_lexer": "ipython3",
   "version": "3.11.1"
  }
 },
 "nbformat": 4,
 "nbformat_minor": 2
}
