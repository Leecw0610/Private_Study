{
 "cells": [
  {
   "cell_type": "markdown",
   "id": "5a69ae95",
   "metadata": {},
   "source": [
    "### 1449번"
   ]
  },
  {
   "cell_type": "code",
   "execution_count": 1,
   "id": "08ba0633",
   "metadata": {},
   "outputs": [
    {
     "name": "stdout",
     "output_type": "stream",
     "text": [
      "3\n"
     ]
    }
   ],
   "source": [
    "n, l = map(int, input().split())\n",
    "\n",
    "rocate = list(map(int, input().split()))\n",
    "\n",
    "rocate.sort()\n",
    "\n",
    "tmp = rocate[0]\n",
    "answer = 1\n",
    "for i in range(1, n):\n",
    "    if rocate[i] - tmp >= l:\n",
    "        answer += 1\n",
    "        tmp = rocate[i]\n",
    "print(answer)"
   ]
  },
  {
   "cell_type": "code",
   "execution_count": null,
   "id": "e2800549",
   "metadata": {},
   "outputs": [],
   "source": []
  },
  {
   "cell_type": "code",
   "execution_count": null,
   "id": "fb275f82",
   "metadata": {},
   "outputs": [],
   "source": []
  },
  {
   "cell_type": "code",
   "execution_count": null,
   "id": "f750e9f3",
   "metadata": {},
   "outputs": [],
   "source": []
  }
 ],
 "metadata": {
  "kernelspec": {
   "display_name": "Python 3",
   "language": "python",
   "name": "python3"
  },
  "language_info": {
   "codemirror_mode": {
    "name": "ipython",
    "version": 3
   },
   "file_extension": ".py",
   "mimetype": "text/x-python",
   "name": "python",
   "nbconvert_exporter": "python",
   "pygments_lexer": "ipython3",
   "version": "3.13.6"
  }
 },
 "nbformat": 4,
 "nbformat_minor": 5
}
