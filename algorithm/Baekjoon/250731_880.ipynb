{
 "cells": [
  {
   "cell_type": "markdown",
   "id": "006c24aa",
   "metadata": {},
   "source": [
    "### 1064번"
   ]
  },
  {
   "cell_type": "code",
   "execution_count": 1,
   "id": "d350b01f",
   "metadata": {},
   "outputs": [
    {
     "name": "stdout",
     "output_type": "stream",
     "text": [
      "11.547796284592874\n"
     ]
    }
   ],
   "source": [
    "ax, ay, bx, by, cx, cy = map(int, input().split())\n",
    "\n",
    "if ((ax-bx)*(ay-cy)==(ay-by)*(ax-cx)):\n",
    "    print(-1.0)\n",
    "    exit(0)\n",
    "\n",
    "ab_length = ((ax-bx)**2 + (ay-by)**2)**0.5\n",
    "ac_length = ((ax-cx)**2 + (ay-cy)**2)**0.5\n",
    "bc_length = ((bx-cx)**2 + (by-cy)**2)**0.5\n",
    "\n",
    "length = [ab_length+ac_length, ab_length+bc_length, ac_length+bc_length]\n",
    "result = max(length) - min(length)\n",
    "print(2*result)"
   ]
  },
  {
   "cell_type": "code",
   "execution_count": null,
   "id": "250ec9e7",
   "metadata": {},
   "outputs": [],
   "source": []
  },
  {
   "cell_type": "code",
   "execution_count": null,
   "id": "639400f5",
   "metadata": {},
   "outputs": [],
   "source": []
  },
  {
   "cell_type": "code",
   "execution_count": null,
   "id": "d8531add",
   "metadata": {},
   "outputs": [],
   "source": []
  }
 ],
 "metadata": {
  "kernelspec": {
   "display_name": "Python 3",
   "language": "python",
   "name": "python3"
  },
  "language_info": {
   "codemirror_mode": {
    "name": "ipython",
    "version": 3
   },
   "file_extension": ".py",
   "mimetype": "text/x-python",
   "name": "python",
   "nbconvert_exporter": "python",
   "pygments_lexer": "ipython3",
   "version": "3.11.1"
  }
 },
 "nbformat": 4,
 "nbformat_minor": 5
}
