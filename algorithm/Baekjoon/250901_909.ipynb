{
 "cells": [
  {
   "cell_type": "markdown",
   "id": "2c074920",
   "metadata": {},
   "source": [
    "### 1302번"
   ]
  },
  {
   "cell_type": "code",
   "execution_count": null,
   "id": "e215dcbf",
   "metadata": {},
   "outputs": [],
   "source": [
    "import sys\n",
    "input = sys.stdin.readline\n",
    "\n",
    "n = int(input())\n",
    "sell = {}\n",
    "\n",
    "for i in range(n):\n",
    "    name = input()\n",
    "    if name not in sell:\n",
    "        sell[name] = 1\n",
    "    else:\n",
    "        sell[name] += 1\n",
    "\n",
    "max_value = max(sell.values())\n",
    "\n",
    "best = []\n",
    "for key, value in sell.items():\n",
    "    if value == max_value:\n",
    "        best.append(key)\n",
    "\n",
    "best = sorted(best)\n",
    "print(best[0])"
   ]
  },
  {
   "cell_type": "code",
   "execution_count": null,
   "id": "71b8c1f3",
   "metadata": {},
   "outputs": [],
   "source": []
  },
  {
   "cell_type": "code",
   "execution_count": null,
   "id": "7b5e038c",
   "metadata": {},
   "outputs": [],
   "source": []
  }
 ],
 "metadata": {
  "kernelspec": {
   "display_name": "Python 3",
   "language": "python",
   "name": "python3"
  },
  "language_info": {
   "codemirror_mode": {
    "name": "ipython",
    "version": 3
   },
   "file_extension": ".py",
   "mimetype": "text/x-python",
   "name": "python",
   "nbconvert_exporter": "python",
   "pygments_lexer": "ipython3",
   "version": "3.13.6"
  }
 },
 "nbformat": 4,
 "nbformat_minor": 5
}
