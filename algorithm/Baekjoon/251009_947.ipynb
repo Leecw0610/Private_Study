{
 "cells": [
  {
   "cell_type": "markdown",
   "id": "5ce102d9",
   "metadata": {},
   "source": [
    "### 1487번"
   ]
  },
  {
   "cell_type": "code",
   "execution_count": 1,
   "id": "e44341c0",
   "metadata": {},
   "outputs": [
    {
     "name": "stdout",
     "output_type": "stream",
     "text": [
      "0\n"
     ]
    }
   ],
   "source": [
    "n = int(input())\n",
    "c_list = []\n",
    "d_list = []\n",
    "for i in range(n):\n",
    "\tcost,deli = map(int,input().split())\n",
    "\tc_list.append(cost)\n",
    "\td_list.append(deli)\n",
    "\n",
    "c_set = sorted(set(c_list))\n",
    "\n",
    "max_m = 0\n",
    "ans = 0\n",
    "for i in c_set:\n",
    "\tmoney = 0\n",
    "\tfor j in range(n):\n",
    "\t\tif i <= c_list[j] and i > d_list[j]:\n",
    "\t\t\tmoney += i-d_list[j]\n",
    "\n",
    "\tif max_m < money:\n",
    "\t\tmax_m = money\n",
    "\t\tans = i\n",
    "\n",
    "print(ans)"
   ]
  },
  {
   "cell_type": "code",
   "execution_count": null,
   "id": "e57aea48",
   "metadata": {},
   "outputs": [],
   "source": []
  },
  {
   "cell_type": "code",
   "execution_count": null,
   "id": "ff17fa82",
   "metadata": {},
   "outputs": [],
   "source": []
  }
 ],
 "metadata": {
  "kernelspec": {
   "display_name": "Python 3",
   "language": "python",
   "name": "python3"
  },
  "language_info": {
   "codemirror_mode": {
    "name": "ipython",
    "version": 3
   },
   "file_extension": ".py",
   "mimetype": "text/x-python",
   "name": "python",
   "nbconvert_exporter": "python",
   "pygments_lexer": "ipython3",
   "version": "3.13.6"
  }
 },
 "nbformat": 4,
 "nbformat_minor": 5
}
