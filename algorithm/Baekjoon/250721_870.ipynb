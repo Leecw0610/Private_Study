{
 "cells": [
  {
   "cell_type": "markdown",
   "id": "392af216",
   "metadata": {},
   "source": [
    "### 1015번"
   ]
  },
  {
   "cell_type": "code",
   "execution_count": null,
   "id": "1f131bad",
   "metadata": {},
   "outputs": [],
   "source": [
    "import sys\n",
    "import math\n",
    "\n",
    "A_size = int(sys.stdin.readline())\n",
    "A = sys.stdin.readline().replace(\"\\n\", \"\").split(' ')\n",
    "A = [int(i) for i in A]\n",
    "\n",
    "# A를 오름차순으로 정렬하여 작은 숫자부터 순서대로 정리된 새로운 list를 할당 \n",
    "sorted_A = [i for i in A]\n",
    "sorted_A.sort()\n",
    "\n",
    "P = []\n",
    "# A의 각 숫자들에 대해 sorted_A에서의 index를 찾아 몇번째로 작은 숫자인지 P 수열에 새롭게 append함.\n",
    "for i in A:\n",
    "    P.append(sorted_A.index(i))\n",
    "    # 이미 할당한 숫자는 sorted_A에서 -1로 대채해 재탐색되지 않도록 함.\n",
    "    sorted_A[sorted_A.index(i)] = -1\n",
    "\n",
    "results = [i for i in P]\n",
    "\n",
    "for result in results:\n",
    "    sys.stdout.write(str(result)+' ')"
   ]
  },
  {
   "cell_type": "code",
   "execution_count": null,
   "id": "07662ac9",
   "metadata": {},
   "outputs": [],
   "source": []
  },
  {
   "cell_type": "code",
   "execution_count": null,
   "id": "ae0d35fb",
   "metadata": {},
   "outputs": [],
   "source": []
  },
  {
   "cell_type": "code",
   "execution_count": null,
   "id": "1d5963b0",
   "metadata": {},
   "outputs": [],
   "source": []
  }
 ],
 "metadata": {
  "kernelspec": {
   "display_name": "Python 3",
   "language": "python",
   "name": "python3"
  },
  "language_info": {
   "codemirror_mode": {
    "name": "ipython",
    "version": 3
   },
   "file_extension": ".py",
   "mimetype": "text/x-python",
   "name": "python",
   "nbconvert_exporter": "python",
   "pygments_lexer": "ipython3",
   "version": "3.11.1"
  }
 },
 "nbformat": 4,
 "nbformat_minor": 5
}
