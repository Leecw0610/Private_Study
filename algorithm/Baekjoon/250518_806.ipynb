{
 "cells": [
  {
   "cell_type": "markdown",
   "id": "659298cd",
   "metadata": {},
   "source": [
    "### 31775번"
   ]
  },
  {
   "cell_type": "code",
   "execution_count": 1,
   "id": "2874ad55",
   "metadata": {},
   "outputs": [
    {
     "name": "stdout",
     "output_type": "stream",
     "text": [
      "GLOBAL\n"
     ]
    }
   ],
   "source": [
    "Global_Ponix = [input() for _ in range(3)]\n",
    "l = k = p = False\n",
    "\n",
    "for i in Global_Ponix:\n",
    "    if i[0] == \"l\":\n",
    "        l = True\n",
    "    elif i[0] == \"k\":\n",
    "        k = True\n",
    "    elif i[0] == \"p\":\n",
    "        p = True\n",
    "\n",
    "if l == k == p == True:\n",
    "    print(\"GLOBAL\")\n",
    "else:\n",
    "    print(\"PONIX\")"
   ]
  },
  {
   "cell_type": "code",
   "execution_count": null,
   "id": "369f92a7",
   "metadata": {},
   "outputs": [],
   "source": []
  },
  {
   "cell_type": "code",
   "execution_count": null,
   "id": "59ad659a",
   "metadata": {},
   "outputs": [],
   "source": []
  },
  {
   "cell_type": "code",
   "execution_count": null,
   "id": "adabc927",
   "metadata": {},
   "outputs": [],
   "source": []
  }
 ],
 "metadata": {
  "kernelspec": {
   "display_name": "Python 3",
   "language": "python",
   "name": "python3"
  },
  "language_info": {
   "codemirror_mode": {
    "name": "ipython",
    "version": 3
   },
   "file_extension": ".py",
   "mimetype": "text/x-python",
   "name": "python",
   "nbconvert_exporter": "python",
   "pygments_lexer": "ipython3",
   "version": "3.11.1"
  }
 },
 "nbformat": 4,
 "nbformat_minor": 5
}
