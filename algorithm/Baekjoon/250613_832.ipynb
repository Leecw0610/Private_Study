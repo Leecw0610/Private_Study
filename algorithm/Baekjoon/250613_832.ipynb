{
 "cells": [
  {
   "cell_type": "markdown",
   "id": "6039a0a7",
   "metadata": {},
   "source": [
    "### 32209번"
   ]
  },
  {
   "cell_type": "code",
   "execution_count": 1,
   "id": "6358cc67",
   "metadata": {},
   "outputs": [
    {
     "name": "stdout",
     "output_type": "stream",
     "text": [
      "Adios\n"
     ]
    }
   ],
   "source": [
    "Q = int(input())\n",
    "result = 0\n",
    "check = True\n",
    "\n",
    "while Q:\n",
    "    a, b = map(int, input().split())\n",
    "    if a == 1:\n",
    "        result += b\n",
    "    elif a == 2:\n",
    "        result -= b\n",
    "\n",
    "    if result < 0:\n",
    "        check = False\n",
    "\n",
    "    Q -= 1\n",
    "\n",
    "if check:\n",
    "    print(\"See you next month\")\n",
    "else:\n",
    "    print(\"Adios\")"
   ]
  },
  {
   "cell_type": "code",
   "execution_count": null,
   "id": "efb47d55",
   "metadata": {},
   "outputs": [],
   "source": []
  },
  {
   "cell_type": "code",
   "execution_count": null,
   "id": "b0103352",
   "metadata": {},
   "outputs": [],
   "source": []
  },
  {
   "cell_type": "code",
   "execution_count": null,
   "id": "4dd503ef",
   "metadata": {},
   "outputs": [],
   "source": []
  }
 ],
 "metadata": {
  "kernelspec": {
   "display_name": "Python 3",
   "language": "python",
   "name": "python3"
  },
  "language_info": {
   "codemirror_mode": {
    "name": "ipython",
    "version": 3
   },
   "file_extension": ".py",
   "mimetype": "text/x-python",
   "name": "python",
   "nbconvert_exporter": "python",
   "pygments_lexer": "ipython3",
   "version": "3.11.1"
  }
 },
 "nbformat": 4,
 "nbformat_minor": 5
}
