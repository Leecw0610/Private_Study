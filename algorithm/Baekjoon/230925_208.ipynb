{
 "cells": [
  {
   "cell_type": "markdown",
   "metadata": {},
   "source": [
    "### 2979번"
   ]
  },
  {
   "cell_type": "code",
   "execution_count": 1,
   "metadata": {},
   "outputs": [
    {
     "name": "stdout",
     "output_type": "stream",
     "text": [
      "480\n"
     ]
    }
   ],
   "source": [
    "a, b, c = map(int,input().split())\n",
    "time = [0] * 100\n",
    "sum = 0\n",
    "\n",
    "for _ in range(3):\n",
    "    start, end = map(int,input().split())\n",
    "    for i in range(start, end):\n",
    "        time[i] += 1\n",
    "\n",
    "for j in time:\n",
    "    if j == 0:\n",
    "        sum += 0\n",
    "    elif j == 1:\n",
    "        sum += a\n",
    "    elif j == 2:\n",
    "        sum += (b * 2)\n",
    "    elif j == 3:\n",
    "        sum += (c * 3)\n",
    "\n",
    "print(sum)"
   ]
  },
  {
   "cell_type": "code",
   "execution_count": null,
   "metadata": {},
   "outputs": [],
   "source": []
  },
  {
   "cell_type": "code",
   "execution_count": null,
   "metadata": {},
   "outputs": [],
   "source": []
  },
  {
   "cell_type": "code",
   "execution_count": null,
   "metadata": {},
   "outputs": [],
   "source": []
  }
 ],
 "metadata": {
  "kernelspec": {
   "display_name": "Python 3",
   "language": "python",
   "name": "python3"
  },
  "language_info": {
   "codemirror_mode": {
    "name": "ipython",
    "version": 3
   },
   "file_extension": ".py",
   "mimetype": "text/x-python",
   "name": "python",
   "nbconvert_exporter": "python",
   "pygments_lexer": "ipython3",
   "version": "3.11.1"
  },
  "orig_nbformat": 4
 },
 "nbformat": 4,
 "nbformat_minor": 2
}
