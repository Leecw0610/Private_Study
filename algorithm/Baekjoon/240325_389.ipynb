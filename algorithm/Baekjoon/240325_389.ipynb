{
 "cells": [
  {
   "cell_type": "markdown",
   "metadata": {},
   "source": [
    "### 9653번"
   ]
  },
  {
   "cell_type": "code",
   "execution_count": null,
   "metadata": {},
   "outputs": [],
   "source": [
    "print(\"    8888888888  888    88888\")\n",
    "print(\"   88     88   88 88   88  88\")\n",
    "print(\"    8888  88  88   88  88888\")\n",
    "print(\"       88 88 888888888 88   88\")\n",
    "print(\"88888888  88 88     88 88    888888\")\n",
    "print(\"\")\n",
    "print(\"88  88  88   888    88888    888888\")\n",
    "print(\"88  88  88  88 88   88  88  88\")\n",
    "print(\"88 8888 88 88   88  88888    8888\")\n",
    "print(\" 888  888 888888888 88  88      88\")\n",
    "print(\"  88  88  88     88 88   88888888\")"
   ]
  },
  {
   "cell_type": "code",
   "execution_count": null,
   "metadata": {},
   "outputs": [],
   "source": []
  },
  {
   "cell_type": "code",
   "execution_count": null,
   "metadata": {},
   "outputs": [],
   "source": []
  }
 ],
 "metadata": {
  "language_info": {
   "name": "python"
  }
 },
 "nbformat": 4,
 "nbformat_minor": 2
}
