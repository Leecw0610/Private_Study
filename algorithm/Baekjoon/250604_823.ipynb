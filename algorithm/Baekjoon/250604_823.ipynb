{
 "cells": [
  {
   "cell_type": "markdown",
   "id": "5554b4e6",
   "metadata": {},
   "source": [
    "### 31994번"
   ]
  },
  {
   "cell_type": "code",
   "execution_count": 1,
   "id": "dbb8d6f8",
   "metadata": {},
   "outputs": [
    {
     "name": "stdout",
     "output_type": "stream",
     "text": [
      "ArtificialIntelligence\n"
     ]
    }
   ],
   "source": [
    "result = []\n",
    "\n",
    "for _ in range(7):\n",
    "    seminar, num = input().split()\n",
    "    result.append([seminar, int(num)])\n",
    "\n",
    "result.sort(key=lambda x: -x[1])\n",
    "print(result[0][0])"
   ]
  },
  {
   "cell_type": "code",
   "execution_count": null,
   "id": "4e2326b7",
   "metadata": {},
   "outputs": [],
   "source": []
  },
  {
   "cell_type": "code",
   "execution_count": null,
   "id": "83d14cce",
   "metadata": {},
   "outputs": [],
   "source": []
  },
  {
   "cell_type": "code",
   "execution_count": null,
   "id": "54d71397",
   "metadata": {},
   "outputs": [],
   "source": []
  }
 ],
 "metadata": {
  "kernelspec": {
   "display_name": "Python 3",
   "language": "python",
   "name": "python3"
  },
  "language_info": {
   "codemirror_mode": {
    "name": "ipython",
    "version": 3
   },
   "file_extension": ".py",
   "mimetype": "text/x-python",
   "name": "python",
   "nbconvert_exporter": "python",
   "pygments_lexer": "ipython3",
   "version": "3.11.1"
  }
 },
 "nbformat": 4,
 "nbformat_minor": 5
}
