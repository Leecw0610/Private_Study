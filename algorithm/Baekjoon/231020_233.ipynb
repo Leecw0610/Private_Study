{
 "cells": [
  {
   "cell_type": "markdown",
   "metadata": {},
   "source": [
    "### 3985번"
   ]
  },
  {
   "cell_type": "code",
   "execution_count": 3,
   "metadata": {},
   "outputs": [
    {
     "name": "stdout",
     "output_type": "stream",
     "text": [
      "4\n",
      "5\n"
     ]
    }
   ],
   "source": [
    "l = int(input())\n",
    "n = int(input())\n",
    "\n",
    "want=[]\n",
    "max_if, max_real = 0, 0\n",
    "idx_if, idx_real = 0, 0\n",
    "for i in range(n):\n",
    "    tmp = tuple(map(int,input().split()))\n",
    "    if (tmp[1] - tmp[0] + 1) > max_if:\n",
    "        max_if = tmp[1] - tmp[0] + 1\n",
    "        idx_if = i + 1\n",
    "    want.append(tmp)\n",
    "print(idx_if)\n",
    "\n",
    "cake = [True] * l\n",
    "for idx, rnge in enumerate(want):\n",
    "    chk = 0\n",
    "    for i in range(rnge[0] - 1, rnge[1]):\n",
    "        if cake[i]:\n",
    "            cake[i] = False\n",
    "            chk += 1\n",
    "    if chk > max_real:\n",
    "        max_real = chk\n",
    "        idx_real = idx + 1\n",
    "print(idx_real)\n"
   ]
  },
  {
   "cell_type": "code",
   "execution_count": null,
   "metadata": {},
   "outputs": [],
   "source": []
  },
  {
   "cell_type": "code",
   "execution_count": null,
   "metadata": {},
   "outputs": [],
   "source": []
  }
 ],
 "metadata": {
  "kernelspec": {
   "display_name": "Python 3",
   "language": "python",
   "name": "python3"
  },
  "language_info": {
   "codemirror_mode": {
    "name": "ipython",
    "version": 3
   },
   "file_extension": ".py",
   "mimetype": "text/x-python",
   "name": "python",
   "nbconvert_exporter": "python",
   "pygments_lexer": "ipython3",
   "version": "3.11.1"
  }
 },
 "nbformat": 4,
 "nbformat_minor": 2
}
