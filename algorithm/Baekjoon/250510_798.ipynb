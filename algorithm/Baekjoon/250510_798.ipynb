{
 "cells": [
  {
   "cell_type": "markdown",
   "id": "ca3c4b16",
   "metadata": {},
   "source": [
    "### 31450번"
   ]
  },
  {
   "cell_type": "code",
   "execution_count": 1,
   "id": "2d1678aa",
   "metadata": {},
   "outputs": [
    {
     "name": "stdout",
     "output_type": "stream",
     "text": [
      "No\n"
     ]
    }
   ],
   "source": [
    "def sol(m, k):\n",
    "    if m % k == 0:\n",
    "        return \"Yes\"\n",
    "    else:\n",
    "        return \"No\"\n",
    "\n",
    "if __name__ == '__main__':\n",
    "    m, k = map(int, input().split())\n",
    "    print(sol(m, k))"
   ]
  },
  {
   "cell_type": "code",
   "execution_count": null,
   "id": "e33b74b5",
   "metadata": {},
   "outputs": [],
   "source": []
  },
  {
   "cell_type": "code",
   "execution_count": null,
   "id": "a6eb4bc0",
   "metadata": {},
   "outputs": [],
   "source": []
  },
  {
   "cell_type": "code",
   "execution_count": null,
   "id": "af898304",
   "metadata": {},
   "outputs": [],
   "source": []
  }
 ],
 "metadata": {
  "kernelspec": {
   "display_name": "Python 3",
   "language": "python",
   "name": "python3"
  },
  "language_info": {
   "codemirror_mode": {
    "name": "ipython",
    "version": 3
   },
   "file_extension": ".py",
   "mimetype": "text/x-python",
   "name": "python",
   "nbconvert_exporter": "python",
   "pygments_lexer": "ipython3",
   "version": "3.11.1"
  }
 },
 "nbformat": 4,
 "nbformat_minor": 5
}
