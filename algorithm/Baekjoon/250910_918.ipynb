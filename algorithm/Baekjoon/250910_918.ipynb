{
 "cells": [
  {
   "cell_type": "markdown",
   "id": "39a1e0f6",
   "metadata": {},
   "source": [
    "### 1340번"
   ]
  },
  {
   "cell_type": "code",
   "execution_count": 1,
   "id": "78be5cd3",
   "metadata": {},
   "outputs": [
    {
     "name": "stdout",
     "output_type": "stream",
     "text": [
      "8.228120243531203\n"
     ]
    }
   ],
   "source": [
    "Month, D, Y, T = input().split()\n",
    "D = int(D[:-1])\n",
    "Y = int(Y)\n",
    "H, M = map(int, T.split(':'))\n",
    "month_name_li = [\"January\" , \"February\", \"March\", \"April\", \"May\", \"June\", \n",
    "            \"July\", \"August\", \"September\", \"October\", \"November\", \"December\"]\n",
    "month_day_li = [31, 28, 31, 30, 31, 30, 31, 31, 30, 31, 30, 31]\n",
    "if Y%400 == 0 or (Y%4 == 0 and Y%100 != 0):\n",
    "    month_day_li[1] += 1\n",
    "total_time = sum(month_day_li) * 24 * 60\n",
    "\n",
    "last_month_idx = month_name_li.index(Month)\n",
    "current_time = (sum(month_day_li[:last_month_idx]) + D-1)*24*60 + H*60 + M\n",
    "print(current_time/total_time * 100)"
   ]
  },
  {
   "cell_type": "code",
   "execution_count": null,
   "id": "603bb647",
   "metadata": {},
   "outputs": [],
   "source": []
  },
  {
   "cell_type": "code",
   "execution_count": null,
   "id": "68059541",
   "metadata": {},
   "outputs": [],
   "source": []
  },
  {
   "cell_type": "code",
   "execution_count": null,
   "id": "9dc7facf",
   "metadata": {},
   "outputs": [],
   "source": []
  }
 ],
 "metadata": {
  "kernelspec": {
   "display_name": "Python 3",
   "language": "python",
   "name": "python3"
  },
  "language_info": {
   "codemirror_mode": {
    "name": "ipython",
    "version": 3
   },
   "file_extension": ".py",
   "mimetype": "text/x-python",
   "name": "python",
   "nbconvert_exporter": "python",
   "pygments_lexer": "ipython3",
   "version": "3.13.6"
  }
 },
 "nbformat": 4,
 "nbformat_minor": 5
}
