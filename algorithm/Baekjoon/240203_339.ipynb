{
 "cells": [
  {
   "cell_type": "markdown",
   "metadata": {},
   "source": [
    "### 7513번"
   ]
  },
  {
   "cell_type": "code",
   "execution_count": null,
   "metadata": {},
   "outputs": [],
   "source": [
    "for case in range(int(input())):\n",
    "    words = [input() for _ in range(int(input()))]\n",
    "    print(f\"Scenario #{case+1}:\")\n",
    "    for _ in range(int(input())):\n",
    "        li = list(map(int, input().split()))\n",
    "        k, li = li[0], li[1:]\n",
    "        res = ''.join([words[i] for i in li])\n",
    "        print(res)\n",
    "    print()"
   ]
  },
  {
   "cell_type": "code",
   "execution_count": null,
   "metadata": {},
   "outputs": [],
   "source": []
  },
  {
   "cell_type": "code",
   "execution_count": null,
   "metadata": {},
   "outputs": [],
   "source": []
  }
 ],
 "metadata": {
  "kernelspec": {
   "display_name": "Python 3",
   "language": "python",
   "name": "python3"
  },
  "language_info": {
   "name": "python",
   "version": "3.11.1"
  }
 },
 "nbformat": 4,
 "nbformat_minor": 2
}
