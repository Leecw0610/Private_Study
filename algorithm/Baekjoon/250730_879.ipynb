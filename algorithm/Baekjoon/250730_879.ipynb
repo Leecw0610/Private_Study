{
 "cells": [
  {
   "cell_type": "markdown",
   "id": "1be67f12",
   "metadata": {},
   "source": [
    "### 1063번"
   ]
  },
  {
   "cell_type": "code",
   "execution_count": null,
   "id": "981383d9",
   "metadata": {},
   "outputs": [],
   "source": [
    "import sys\n",
    "king, stone, N = sys.stdin.readline().split()\n",
    "#킹의 이동 방향\n",
    "move = {'R':(0,1), 'L':(0,-1), 'B':(1,0), 'T':(-1,0), 'RT':(-1,1), 'LT':(-1,-1), 'RB':(1,1), 'LB':(1,-1)}\n",
    "chess = ['A', 'B' ,'C', 'D', 'E', 'F', 'G', 'H'] # 가로 위치\n",
    "k1, k2 = (8-(int(king[1])),chess.index(king[0])) # 킹의 열, 행\n",
    "s1, s2 = (8-(int(stone[1])),chess.index(stone[0])) # 돌의 열, 행\n",
    "for _ in range(int(N)):\n",
    "    a, b = move[sys.stdin.readline().strip()]\n",
    "    if 0 <= k1+a < 8 and 0 <= k2+b < 8: # 킹이 범위 밖을 벗어나지 않으면\n",
    "        k1, k2 = k1 + a, k2 + b # 킹 이동해보고\n",
    "        if k1 == s1 and k2 == s2: #그 때 돌과 킹의 위치가 같아지면\n",
    "            s1, s2 = s1 + a, s2 + b # 돌도 킹과 같은 방향으로 이동\n",
    "    if s1 <0 or s1 >= 8 or s2 <0 or s2 >= 8: # 만약 돌을 옮겨서 범위를 벗어나면\n",
    "        k1, k2 = k1 -a, k2 - b # 킹 원위치\n",
    "        s1, s2 = s1 -a, s2 - b # 돌도 원위치\n",
    "print(chess[k2], 8-k1,sep='')\n",
    "print(chess[s2], 8-s1,sep='')"
   ]
  },
  {
   "cell_type": "code",
   "execution_count": null,
   "id": "1dd0254d",
   "metadata": {},
   "outputs": [],
   "source": []
  },
  {
   "cell_type": "code",
   "execution_count": null,
   "id": "8f0c966c",
   "metadata": {},
   "outputs": [],
   "source": []
  },
  {
   "cell_type": "code",
   "execution_count": null,
   "id": "c3abe0dc",
   "metadata": {},
   "outputs": [],
   "source": []
  }
 ],
 "metadata": {
  "kernelspec": {
   "display_name": "Python 3",
   "language": "python",
   "name": "python3"
  },
  "language_info": {
   "codemirror_mode": {
    "name": "ipython",
    "version": 3
   },
   "file_extension": ".py",
   "mimetype": "text/x-python",
   "name": "python",
   "nbconvert_exporter": "python",
   "pygments_lexer": "ipython3",
   "version": "3.11.1"
  }
 },
 "nbformat": 4,
 "nbformat_minor": 5
}
