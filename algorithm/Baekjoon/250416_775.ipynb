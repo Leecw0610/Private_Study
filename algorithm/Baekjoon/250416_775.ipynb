{
 "cells": [
  {
   "cell_type": "markdown",
   "id": "9cfda620",
   "metadata": {},
   "source": [
    "### 30402번"
   ]
  },
  {
   "cell_type": "code",
   "execution_count": 1,
   "id": "25df4a40",
   "metadata": {},
   "outputs": [
    {
     "name": "stdout",
     "output_type": "stream",
     "text": [
      "chunbae\n"
     ]
    }
   ],
   "source": [
    "for _ in range(15):\n",
    "    pic = list(input().split())\n",
    "\n",
    "    if \"w\" in pic:\n",
    "        print(\"chunbae\")\n",
    "        break\n",
    "    elif \"b\" in pic:\n",
    "        print(\"nabi\")\n",
    "        break\n",
    "    elif \"g\" in pic:\n",
    "        print(\"yeongcheol\")\n",
    "        break"
   ]
  },
  {
   "cell_type": "code",
   "execution_count": null,
   "id": "d6a1c0be",
   "metadata": {},
   "outputs": [],
   "source": []
  },
  {
   "cell_type": "code",
   "execution_count": null,
   "id": "fa0d9cf4",
   "metadata": {},
   "outputs": [],
   "source": []
  },
  {
   "cell_type": "code",
   "execution_count": null,
   "id": "1bb08cd3",
   "metadata": {},
   "outputs": [],
   "source": []
  }
 ],
 "metadata": {
  "kernelspec": {
   "display_name": "base",
   "language": "python",
   "name": "python3"
  },
  "language_info": {
   "codemirror_mode": {
    "name": "ipython",
    "version": 3
   },
   "file_extension": ".py",
   "mimetype": "text/x-python",
   "name": "python",
   "nbconvert_exporter": "python",
   "pygments_lexer": "ipython3",
   "version": "3.9.15"
  }
 },
 "nbformat": 4,
 "nbformat_minor": 5
}
