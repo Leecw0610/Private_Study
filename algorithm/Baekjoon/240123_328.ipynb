{
 "cells": [
  {
   "cell_type": "markdown",
   "metadata": {},
   "source": [
    "### 6763번"
   ]
  },
  {
   "cell_type": "code",
   "execution_count": 1,
   "metadata": {},
   "outputs": [
    {
     "name": "stdout",
     "output_type": "stream",
     "text": [
      "You are speeding and your fine is $100.\n"
     ]
    }
   ],
   "source": [
    "limit = int(input())\n",
    "speed = int(input())\n",
    "d = speed - limit\n",
    "if d <= 0:\n",
    "    print(\"Congratulations, you are within the speed limit!\")\n",
    "elif d >= 1 and d <= 20:\n",
    "    print(\"You are speeding and your fine is ${}.\".format(100))\n",
    "elif d >= 21 and d <= 30:\n",
    "    print(\"You are speeding and your fine is ${}.\".format(270))\n",
    "elif d >= 31:\n",
    "    print(\"You are speeding and your fine is ${}.\".format(500))"
   ]
  },
  {
   "cell_type": "code",
   "execution_count": null,
   "metadata": {},
   "outputs": [],
   "source": []
  },
  {
   "cell_type": "code",
   "execution_count": null,
   "metadata": {},
   "outputs": [],
   "source": []
  }
 ],
 "metadata": {
  "kernelspec": {
   "display_name": "Python 3",
   "language": "python",
   "name": "python3"
  },
  "language_info": {
   "codemirror_mode": {
    "name": "ipython",
    "version": 3
   },
   "file_extension": ".py",
   "mimetype": "text/x-python",
   "name": "python",
   "nbconvert_exporter": "python",
   "pygments_lexer": "ipython3",
   "version": "3.11.1"
  }
 },
 "nbformat": 4,
 "nbformat_minor": 2
}
