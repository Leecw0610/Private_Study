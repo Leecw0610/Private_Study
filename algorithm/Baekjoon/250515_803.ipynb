{
 "cells": [
  {
   "cell_type": "markdown",
   "id": "0d1a2a32",
   "metadata": {},
   "source": [
    "### 31669번"
   ]
  },
  {
   "cell_type": "code",
   "execution_count": 1,
   "id": "aec670a2",
   "metadata": {},
   "outputs": [
    {
     "name": "stdout",
     "output_type": "stream",
     "text": [
      "ESCAPE FAILED\n"
     ]
    }
   ],
   "source": [
    "N, M = map(int, input().split())\n",
    "schoolClass = [list(input()) for _ in range(N)]\n",
    "zipClass = list(map(list, zip(*schoolClass)))\n",
    "\n",
    "result = 0\n",
    "for i in range(len(zipClass)):\n",
    "    if zipClass[i].count(\"X\") == N:\n",
    "        result = i + 1\n",
    "        break\n",
    "\n",
    "if result > 0:\n",
    "    print(result)\n",
    "else:\n",
    "    print(\"ESCAPE FAILED\")"
   ]
  },
  {
   "cell_type": "code",
   "execution_count": null,
   "id": "1c42fe7a",
   "metadata": {},
   "outputs": [],
   "source": []
  },
  {
   "cell_type": "code",
   "execution_count": null,
   "id": "c6d8faee",
   "metadata": {},
   "outputs": [],
   "source": []
  },
  {
   "cell_type": "code",
   "execution_count": null,
   "id": "d81dc2f5",
   "metadata": {},
   "outputs": [],
   "source": []
  }
 ],
 "metadata": {
  "kernelspec": {
   "display_name": "Python 3",
   "language": "python",
   "name": "python3"
  },
  "language_info": {
   "codemirror_mode": {
    "name": "ipython",
    "version": 3
   },
   "file_extension": ".py",
   "mimetype": "text/x-python",
   "name": "python",
   "nbconvert_exporter": "python",
   "pygments_lexer": "ipython3",
   "version": "3.11.1"
  }
 },
 "nbformat": 4,
 "nbformat_minor": 5
}
