{
 "cells": [
  {
   "cell_type": "markdown",
   "metadata": {
    "vscode": {
     "languageId": "plaintext"
    }
   },
   "source": [
    "### 17487번"
   ]
  },
  {
   "cell_type": "code",
   "execution_count": 1,
   "metadata": {},
   "outputs": [
    {
     "name": "stdout",
     "output_type": "stream",
     "text": [
      "7 6\n"
     ]
    }
   ],
   "source": [
    "S = input() \n",
    "li_left = 'qwertyasdfgzxcvb' \n",
    "li_right = 'uiophjklnm' \n",
    "cnt_left, cnt_right, cnt_other = 0, 0, 0 \n",
    "\n",
    "for i in S: \n",
    "    if i.isupper(): \n",
    "        cnt_other += 1 \n",
    "         \n",
    "for i in S.lower(): \n",
    "    if i in li_right: \n",
    "        cnt_right += 1 \n",
    "    elif i in li_left: \n",
    "        cnt_left += 1 \n",
    "    else: \n",
    "        cnt_other += 1 \n",
    "\n",
    "while cnt_other != 0: \n",
    "    if cnt_left <= cnt_right: \n",
    "        cnt_left += 1 \n",
    "    else: \n",
    "        cnt_right += 1 \n",
    "    cnt_other -= 1 \n",
    "     \n",
    "print(cnt_left, cnt_right)"
   ]
  },
  {
   "cell_type": "code",
   "execution_count": null,
   "metadata": {},
   "outputs": [],
   "source": []
  },
  {
   "cell_type": "code",
   "execution_count": null,
   "metadata": {},
   "outputs": [],
   "source": []
  }
 ],
 "metadata": {
  "kernelspec": {
   "display_name": "Python 3",
   "language": "python",
   "name": "python3"
  },
  "language_info": {
   "codemirror_mode": {
    "name": "ipython",
    "version": 3
   },
   "file_extension": ".py",
   "mimetype": "text/x-python",
   "name": "python",
   "nbconvert_exporter": "python",
   "pygments_lexer": "ipython3",
   "version": "3.11.1"
  }
 },
 "nbformat": 4,
 "nbformat_minor": 2
}
