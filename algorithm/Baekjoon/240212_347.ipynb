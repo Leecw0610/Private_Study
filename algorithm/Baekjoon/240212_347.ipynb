{
 "cells": [
  {
   "cell_type": "markdown",
   "metadata": {},
   "source": [
    "### 7789번"
   ]
  },
  {
   "cell_type": "code",
   "execution_count": 1,
   "metadata": {},
   "outputs": [
    {
     "name": "stdout",
     "output_type": "stream",
     "text": [
      "Yes\n"
     ]
    }
   ],
   "source": [
    "n1, a = input().split()\n",
    "n2 = int(a + n1)\n",
    "n1 = int(n1)\n",
    "\n",
    "li = [1] * (n2 + 1)\n",
    "for i in range(2, int(n2 ** 0.5) + 1):\n",
    "    if li[i] == 1:\n",
    "        for j in range(i + i, n2 + 1, i):\n",
    "            li[j] = 0\n",
    "prime = [i for i in range(2, n2 + 1) if li[i] == 1]\n",
    "print(\"Yes\" if n1 in prime and n2 in prime else \"No\")"
   ]
  },
  {
   "cell_type": "code",
   "execution_count": null,
   "metadata": {},
   "outputs": [],
   "source": []
  },
  {
   "cell_type": "code",
   "execution_count": null,
   "metadata": {},
   "outputs": [],
   "source": []
  }
 ],
 "metadata": {
  "kernelspec": {
   "display_name": "Python 3",
   "language": "python",
   "name": "python3"
  },
  "language_info": {
   "codemirror_mode": {
    "name": "ipython",
    "version": 3
   },
   "file_extension": ".py",
   "mimetype": "text/x-python",
   "name": "python",
   "nbconvert_exporter": "python",
   "pygments_lexer": "ipython3",
   "version": "3.11.1"
  }
 },
 "nbformat": 4,
 "nbformat_minor": 2
}
