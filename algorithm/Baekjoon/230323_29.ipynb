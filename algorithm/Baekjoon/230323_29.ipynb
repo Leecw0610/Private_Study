{
 "cells": [
  {
   "cell_type": "markdown",
   "metadata": {},
   "source": [
    "### 1735번"
   ]
  },
  {
   "cell_type": "code",
   "execution_count": 2,
   "metadata": {},
   "outputs": [],
   "source": [
    "def gcd(x,y): #최대공약수, 유클리드 호제\n",
    "    mod = x % y\n",
    "    while mod >0:\n",
    "        x = y\n",
    "        y = mod\n",
    "        mod = x % y\n",
    "    return y\n"
   ]
  },
  {
   "cell_type": "code",
   "execution_count": 4,
   "metadata": {},
   "outputs": [
    {
     "name": "stdout",
     "output_type": "stream",
     "text": [
      "31 35\n"
     ]
    }
   ],
   "source": [
    "a, b = map(int, input().split())\n",
    "c, d = map(int, input().split())\n",
    "\n",
    "n = gcd((a * d + b * c), b * d)\n",
    "print((a * d + b * c)//n, (b * d)//n)"
   ]
  },
  {
   "cell_type": "code",
   "execution_count": 5,
   "metadata": {},
   "outputs": [],
   "source": [
    "a = 2\n",
    "b = 7\n",
    "c = 3\n",
    "d = 5\n",
    "\n",
    "b * d // b\n",
    "b * d // d"
   ]
  },
  {
   "cell_type": "markdown",
   "metadata": {},
   "source": [
    "### 2485번"
   ]
  },
  {
   "cell_type": "code",
   "execution_count": 7,
   "metadata": {},
   "outputs": [
    {
     "name": "stdout",
     "output_type": "stream",
     "text": [
      "5\n"
     ]
    }
   ],
   "source": [
    "n = int(input())\n",
    "\n",
    "def GCD(a,b):\n",
    "    if(b==0):\n",
    "        return a\n",
    "    else:\n",
    "        return GCD(b,a%b)\n",
    "\n",
    "arr=[]\n",
    "for _ in range(n):\n",
    "    arr.append(int(input()))\n",
    "\n",
    "distances =[]\n",
    "for i in range(len(arr)-1):\n",
    "    distances.append(abs(arr[i+1]-arr[i]))\n",
    "\n",
    "temp =distances[0]\n",
    "\n",
    "for i in distances:\n",
    "    temp = GCD(temp,i)\n",
    "\n",
    "len_arr = (max(arr)-min(arr))//temp +1\n",
    "print(len_arr-len(arr))"
   ]
  },
  {
   "cell_type": "code",
   "execution_count": null,
   "metadata": {},
   "outputs": [],
   "source": []
  },
  {
   "cell_type": "code",
   "execution_count": null,
   "metadata": {},
   "outputs": [],
   "source": []
  }
 ],
 "metadata": {
  "kernelspec": {
   "display_name": "base",
   "language": "python",
   "name": "python3"
  },
  "language_info": {
   "codemirror_mode": {
    "name": "ipython",
    "version": 3
   },
   "file_extension": ".py",
   "mimetype": "text/x-python",
   "name": "python",
   "nbconvert_exporter": "python",
   "pygments_lexer": "ipython3",
   "version": "3.9.15"
  },
  "orig_nbformat": 4
 },
 "nbformat": 4,
 "nbformat_minor": 2
}
