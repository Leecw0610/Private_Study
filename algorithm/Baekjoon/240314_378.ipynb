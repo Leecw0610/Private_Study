{
 "cells": [
  {
   "cell_type": "markdown",
   "metadata": {},
   "source": [
    "### 9366번"
   ]
  },
  {
   "cell_type": "code",
   "execution_count": 1,
   "metadata": {},
   "outputs": [
    {
     "name": "stdout",
     "output_type": "stream",
     "text": [
      "Case #1: isosceles\n",
      "Case #2: invalid!\n"
     ]
    }
   ],
   "source": [
    "for case in range(int(input())):\n",
    "    li = sorted(map(int, input().split()))\n",
    "    print(f\"Case #{case+1}: \", end='')\n",
    "    if li[0]+li[1] <= li[2]:\n",
    "        print(\"invalid!\")\n",
    "    elif li[0] == li[1] == li[2]:\n",
    "        print(\"equilateral\")\n",
    "    elif li[0]==li[1] or li[1]==li[2] or li[2]==li[0]:\n",
    "        print(\"isosceles\")\n",
    "    else:\n",
    "        print(\"scalene\")"
   ]
  },
  {
   "cell_type": "code",
   "execution_count": null,
   "metadata": {},
   "outputs": [],
   "source": []
  },
  {
   "cell_type": "code",
   "execution_count": null,
   "metadata": {},
   "outputs": [],
   "source": []
  },
  {
   "cell_type": "code",
   "execution_count": null,
   "metadata": {},
   "outputs": [],
   "source": []
  }
 ],
 "metadata": {
  "kernelspec": {
   "display_name": "Python 3",
   "language": "python",
   "name": "python3"
  },
  "language_info": {
   "codemirror_mode": {
    "name": "ipython",
    "version": 3
   },
   "file_extension": ".py",
   "mimetype": "text/x-python",
   "name": "python",
   "nbconvert_exporter": "python",
   "pygments_lexer": "ipython3",
   "version": "3.11.1"
  }
 },
 "nbformat": 4,
 "nbformat_minor": 2
}
