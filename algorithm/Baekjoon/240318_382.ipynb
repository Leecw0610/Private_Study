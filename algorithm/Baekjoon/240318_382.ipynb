{
 "cells": [
  {
   "cell_type": "markdown",
   "metadata": {},
   "source": [
    "### 9494번"
   ]
  },
  {
   "cell_type": "code",
   "execution_count": 1,
   "metadata": {},
   "outputs": [],
   "source": [
    "import sys\n",
    "\n",
    "def text_roll():\n",
    "    while True:\n",
    "        num = int(sys.stdin.readline().rstrip())\n",
    "\n",
    "        if num == 0:\n",
    "            exit()\n",
    "\n",
    "        roll = 0\n",
    "        for i in range(num):\n",
    "            line = sys.stdin.readline().rstrip()\n",
    "            line += \" \"\n",
    "\n",
    "            idx = []\n",
    "            for j in range(len(line)):\n",
    "                if line[j] == ' ':\n",
    "                    idx.append(j)\n",
    "\n",
    "            if i == 0:\n",
    "                roll = idx[0]\n",
    "\n",
    "            for k in range(len(idx)):\n",
    "                if idx[k] >= roll:\n",
    "                    roll = idx[k]\n",
    "                    break\n",
    "        print(roll+1)\n",
    "text_roll()"
   ]
  },
  {
   "cell_type": "code",
   "execution_count": null,
   "metadata": {},
   "outputs": [],
   "source": []
  },
  {
   "cell_type": "code",
   "execution_count": null,
   "metadata": {},
   "outputs": [],
   "source": []
  }
 ],
 "metadata": {
  "kernelspec": {
   "display_name": "Python 3",
   "language": "python",
   "name": "python3"
  },
  "language_info": {
   "codemirror_mode": {
    "name": "ipython",
    "version": 3
   },
   "file_extension": ".py",
   "mimetype": "text/x-python",
   "name": "python",
   "nbconvert_exporter": "python",
   "pygments_lexer": "ipython3",
   "version": "3.11.1"
  }
 },
 "nbformat": 4,
 "nbformat_minor": 2
}
