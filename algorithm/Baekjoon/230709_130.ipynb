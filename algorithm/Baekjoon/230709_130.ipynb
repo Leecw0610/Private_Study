{
 "cells": [
  {
   "cell_type": "markdown",
   "metadata": {},
   "source": [
    "### 2377번"
   ]
  },
  {
   "cell_type": "code",
   "execution_count": null,
   "metadata": {},
   "outputs": [],
   "source": [
    "PRINT \" _________\"\n",
    "PRINT \" \\_     _/\"\n",
    "PRINT \"   \\   /\"\n",
    "PRINT \"    | |\"\n",
    "PRINT \"   /   \\\"\n",
    "PRINT \"  /     \\\"\n",
    "PRINT \" |       |\"\n",
    "PRINT \"/---------\\\"\n",
    "PRINT \"| \\-/ \\-/ |\"\n",
    "PRINT \"\\---------/\"\n",
    "PRINT \" \\_______/\""
   ]
  },
  {
   "cell_type": "code",
   "execution_count": null,
   "metadata": {},
   "outputs": [],
   "source": []
  },
  {
   "cell_type": "code",
   "execution_count": null,
   "metadata": {},
   "outputs": [],
   "source": []
  }
 ],
 "metadata": {
  "kernelspec": {
   "display_name": "Python 3",
   "language": "python",
   "name": "python3"
  },
  "language_info": {
   "name": "python",
   "version": "3.11.1"
  },
  "orig_nbformat": 4
 },
 "nbformat": 4,
 "nbformat_minor": 2
}
