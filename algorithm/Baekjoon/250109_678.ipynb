{
 "cells": [
  {
   "cell_type": "markdown",
   "metadata": {
    "vscode": {
     "languageId": "plaintext"
    }
   },
   "source": [
    "### 23841번"
   ]
  },
  {
   "cell_type": "code",
   "execution_count": 1,
   "metadata": {},
   "outputs": [
    {
     "name": "stdout",
     "output_type": "stream",
     "text": [
      "G.RR.G\n",
      "..BB..\n",
      "Y....Y\n"
     ]
    }
   ],
   "source": [
    "n, m = map(int,input().split())\n",
    "graph = []\n",
    "\n",
    "for i in range(n):\n",
    "    temp=list(input())\n",
    "    for j in range(m//2):\n",
    "        if temp[j] != '.':\n",
    "            temp[m-j-1] = temp[j]\n",
    "        elif temp[m-j-1] != '.':\n",
    "            temp[j] = temp[m-j-1]\n",
    "    graph.append(temp)\n",
    "\n",
    "for i in range(len(graph)):\n",
    "    for j in range(len(graph[i])):\n",
    "        print(graph[i][j], end = \"\")\n",
    "    print()"
   ]
  },
  {
   "cell_type": "code",
   "execution_count": null,
   "metadata": {},
   "outputs": [],
   "source": []
  },
  {
   "cell_type": "code",
   "execution_count": null,
   "metadata": {},
   "outputs": [],
   "source": []
  }
 ],
 "metadata": {
  "kernelspec": {
   "display_name": "Python 3",
   "language": "python",
   "name": "python3"
  },
  "language_info": {
   "codemirror_mode": {
    "name": "ipython",
    "version": 3
   },
   "file_extension": ".py",
   "mimetype": "text/x-python",
   "name": "python",
   "nbconvert_exporter": "python",
   "pygments_lexer": "ipython3",
   "version": "3.11.1"
  }
 },
 "nbformat": 4,
 "nbformat_minor": 2
}
