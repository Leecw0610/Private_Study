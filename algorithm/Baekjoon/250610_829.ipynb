{
 "cells": [
  {
   "cell_type": "markdown",
   "id": "45a2baac",
   "metadata": {},
   "source": [
    "### 32171번"
   ]
  },
  {
   "cell_type": "code",
   "execution_count": 1,
   "id": "2d3f7c9c",
   "metadata": {},
   "outputs": [
    {
     "name": "stdout",
     "output_type": "stream",
     "text": [
      "8\n",
      "12\n"
     ]
    }
   ],
   "source": [
    "def calPerimeter(x1, y1, x2, y2):\n",
    "    return ((x2 - x1) + (y2 - y1)) * 2\n",
    "\n",
    "\n",
    "N = int(input())\n",
    "a, b, c, d = map(int, input().split())\n",
    "print(calPerimeter(a, b, c, d))\n",
    "\n",
    "for _ in range(N - 1):\n",
    "    newA, newB, newC, newD = map(int, input().split())\n",
    "    a, b = min(a, newA), min(b, newB)\n",
    "    c, d = max(c, newC), max(d, newD)\n",
    "    print(calPerimeter(a, b, c, d))"
   ]
  },
  {
   "cell_type": "code",
   "execution_count": null,
   "id": "91d62779",
   "metadata": {},
   "outputs": [],
   "source": []
  },
  {
   "cell_type": "code",
   "execution_count": null,
   "id": "3ea59b5b",
   "metadata": {},
   "outputs": [],
   "source": []
  },
  {
   "cell_type": "code",
   "execution_count": null,
   "id": "65a57154",
   "metadata": {},
   "outputs": [],
   "source": []
  }
 ],
 "metadata": {
  "kernelspec": {
   "display_name": "Python 3",
   "language": "python",
   "name": "python3"
  },
  "language_info": {
   "codemirror_mode": {
    "name": "ipython",
    "version": 3
   },
   "file_extension": ".py",
   "mimetype": "text/x-python",
   "name": "python",
   "nbconvert_exporter": "python",
   "pygments_lexer": "ipython3",
   "version": "3.11.1"
  }
 },
 "nbformat": 4,
 "nbformat_minor": 5
}
