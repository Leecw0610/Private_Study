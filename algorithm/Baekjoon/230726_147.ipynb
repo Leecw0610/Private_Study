{
 "cells": [
  {
   "cell_type": "markdown",
   "metadata": {},
   "source": [
    "### 2476번"
   ]
  },
  {
   "cell_type": "code",
   "execution_count": 1,
   "metadata": {},
   "outputs": [
    {
     "name": "stdout",
     "output_type": "stream",
     "text": [
      "12000\n"
     ]
    }
   ],
   "source": [
    "case = int(input())\n",
    "answer = 0\n",
    "\n",
    "for _ in range(case):\n",
    "    a, b, c = map(int, input().split())\n",
    "\n",
    "    if a == b == c:\n",
    "        answer = max(answer, 10000 + a * 1000)\n",
    "    elif a == b:\n",
    "        answer = max(answer, 1000 + a * 100)\n",
    "    elif a == c:\n",
    "        answer = max(answer, 1000+ a * 100)\n",
    "    elif b == c:\n",
    "        answer = max(answer, 1000 + b * 100)\n",
    "    else:\n",
    "        answer = max(answer, 100 * max(a, b, c))\n",
    "\n",
    "print(answer)"
   ]
  },
  {
   "cell_type": "code",
   "execution_count": null,
   "metadata": {},
   "outputs": [],
   "source": []
  },
  {
   "cell_type": "code",
   "execution_count": null,
   "metadata": {},
   "outputs": [],
   "source": []
  },
  {
   "cell_type": "code",
   "execution_count": null,
   "metadata": {},
   "outputs": [],
   "source": []
  }
 ],
 "metadata": {
  "kernelspec": {
   "display_name": "Python 3",
   "language": "python",
   "name": "python3"
  },
  "language_info": {
   "codemirror_mode": {
    "name": "ipython",
    "version": 3
   },
   "file_extension": ".py",
   "mimetype": "text/x-python",
   "name": "python",
   "nbconvert_exporter": "python",
   "pygments_lexer": "ipython3",
   "version": "3.11.1"
  },
  "orig_nbformat": 4
 },
 "nbformat": 4,
 "nbformat_minor": 2
}
