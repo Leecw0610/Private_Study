{
 "cells": [
  {
   "cell_type": "markdown",
   "metadata": {},
   "source": [
    "### 15947번"
   ]
  },
  {
   "cell_type": "code",
   "execution_count": 1,
   "metadata": {},
   "outputs": [
    {
     "name": "stdout",
     "output_type": "stream",
     "text": [
      "tu+ru*5\n"
     ]
    }
   ],
   "source": [
    "li = [\"baby\", \"sukhwan\", \"tururu\", \"turu\", \"very\", \"cute\", \"tururu\", \n",
    "      \"turu\", \"in\", \"bed\", \"tururu\", \"turu\", \"baby\", \"sukhwan\"]\n",
    "N = int(input())-1\n",
    "k = N//14\n",
    "if N%14 in [3, 7, 11]:\n",
    "    print(f\"tu+ru*{k+1}\" if k >= 4 else \"turu\"+\"ru\"*k)    \n",
    "elif N%14 in [2, 6, 10]:\n",
    "    print(f\"tu+ru*{k+2}\" if k >= 3 else \"tururu\"+\"ru\"*k)    \n",
    "else:\n",
    "    print(li[N%14])"
   ]
  },
  {
   "cell_type": "code",
   "execution_count": null,
   "metadata": {},
   "outputs": [],
   "source": []
  },
  {
   "cell_type": "code",
   "execution_count": null,
   "metadata": {},
   "outputs": [],
   "source": []
  }
 ],
 "metadata": {
  "kernelspec": {
   "display_name": "Python 3",
   "language": "python",
   "name": "python3"
  },
  "language_info": {
   "codemirror_mode": {
    "name": "ipython",
    "version": 3
   },
   "file_extension": ".py",
   "mimetype": "text/x-python",
   "name": "python",
   "nbconvert_exporter": "python",
   "pygments_lexer": "ipython3",
   "version": "3.11.1"
  }
 },
 "nbformat": 4,
 "nbformat_minor": 2
}
