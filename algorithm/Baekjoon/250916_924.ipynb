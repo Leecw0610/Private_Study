{
 "cells": [
  {
   "cell_type": "markdown",
   "id": "074d4d56",
   "metadata": {},
   "source": [
    "### 1380번"
   ]
  },
  {
   "cell_type": "code",
   "execution_count": null,
   "id": "c04f2f12",
   "metadata": {},
   "outputs": [],
   "source": [
    "case = 1\n",
    "while 1:\n",
    "    n = int(input())\n",
    "    if n == 0:\n",
    "        break\n",
    "    names = [input() for _ in range(n)]\n",
    "    li = [0]*n\n",
    "    for _ in range(2*n-1):\n",
    "        i, a = input().split()\n",
    "        li[int(i)-1] += 1\n",
    "    res = names[[i for i in range(n) if li[i] != 2][0]]\n",
    "    print(f\"{case} {res}\")\n",
    "    case += 1"
   ]
  },
  {
   "cell_type": "code",
   "execution_count": null,
   "id": "dfd8b656",
   "metadata": {},
   "outputs": [],
   "source": []
  },
  {
   "cell_type": "code",
   "execution_count": null,
   "id": "bafba2fd",
   "metadata": {},
   "outputs": [],
   "source": []
  },
  {
   "cell_type": "code",
   "execution_count": null,
   "id": "9bd909b1",
   "metadata": {},
   "outputs": [],
   "source": []
  }
 ],
 "metadata": {
  "kernelspec": {
   "display_name": "Python 3",
   "language": "python",
   "name": "python3"
  },
  "language_info": {
   "codemirror_mode": {
    "name": "ipython",
    "version": 3
   },
   "file_extension": ".py",
   "mimetype": "text/x-python",
   "name": "python",
   "nbconvert_exporter": "python",
   "pygments_lexer": "ipython3",
   "version": "3.13.6"
  }
 },
 "nbformat": 4,
 "nbformat_minor": 5
}
