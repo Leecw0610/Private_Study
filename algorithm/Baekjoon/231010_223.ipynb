{
 "cells": [
  {
   "cell_type": "markdown",
   "metadata": {},
   "source": [
    "### 3047번"
   ]
  },
  {
   "cell_type": "code",
   "execution_count": 1,
   "metadata": {},
   "outputs": [
    {
     "name": "stdout",
     "output_type": "stream",
     "text": [
      "6 2 4 "
     ]
    }
   ],
   "source": [
    "numbers = list(map(int, input().split()))\n",
    "order = input()\n",
    "numbers = sorted(numbers)\n",
    "\n",
    "for i in order:\n",
    "    if i == 'A':\n",
    "        print(numbers[0], end =' ')\n",
    "    elif i == 'B':\n",
    "        print(numbers[1], end =' ')\n",
    "    elif i == 'C':\n",
    "        print(numbers[2], end =' ')"
   ]
  },
  {
   "cell_type": "code",
   "execution_count": null,
   "metadata": {},
   "outputs": [],
   "source": []
  },
  {
   "cell_type": "code",
   "execution_count": null,
   "metadata": {},
   "outputs": [],
   "source": []
  }
 ],
 "metadata": {
  "kernelspec": {
   "display_name": "Python 3",
   "language": "python",
   "name": "python3"
  },
  "language_info": {
   "codemirror_mode": {
    "name": "ipython",
    "version": 3
   },
   "file_extension": ".py",
   "mimetype": "text/x-python",
   "name": "python",
   "nbconvert_exporter": "python",
   "pygments_lexer": "ipython3",
   "version": "3.11.1"
  },
  "orig_nbformat": 4
 },
 "nbformat": 4,
 "nbformat_minor": 2
}
