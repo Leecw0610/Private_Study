{
 "cells": [
  {
   "cell_type": "markdown",
   "id": "57c5fc6c",
   "metadata": {},
   "source": [
    "### 1105번"
   ]
  },
  {
   "cell_type": "code",
   "execution_count": 1,
   "id": "614c2489",
   "metadata": {},
   "outputs": [
    {
     "name": "stdout",
     "output_type": "stream",
     "text": [
      "2\n"
     ]
    }
   ],
   "source": [
    "L, R = map(str, input().split())\n",
    "count = 0\n",
    "\n",
    "if L == R:\n",
    "    count = str(L).count('8')\n",
    "elif len(L) == len(R):\n",
    "    for i in range(len(L)):\n",
    "        if L[i] == '8' and R[i] == '8':\n",
    "            count += 1\n",
    "        elif L[i] != R[i]:\n",
    "            break\n",
    "\n",
    "print(count)"
   ]
  },
  {
   "cell_type": "code",
   "execution_count": null,
   "id": "dc5158ad",
   "metadata": {},
   "outputs": [],
   "source": []
  },
  {
   "cell_type": "code",
   "execution_count": null,
   "id": "825f0ae5",
   "metadata": {},
   "outputs": [],
   "source": []
  }
 ],
 "metadata": {
  "kernelspec": {
   "display_name": "Python 3",
   "language": "python",
   "name": "python3"
  },
  "language_info": {
   "codemirror_mode": {
    "name": "ipython",
    "version": 3
   },
   "file_extension": ".py",
   "mimetype": "text/x-python",
   "name": "python",
   "nbconvert_exporter": "python",
   "pygments_lexer": "ipython3",
   "version": "3.11.1"
  }
 },
 "nbformat": 4,
 "nbformat_minor": 5
}
