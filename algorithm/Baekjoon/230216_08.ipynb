{
 "cells": [
  {
   "cell_type": "markdown",
   "metadata": {},
   "source": [
    "### 2941번"
   ]
  },
  {
   "cell_type": "code",
   "execution_count": 2,
   "metadata": {},
   "outputs": [
    {
     "name": "stdout",
     "output_type": "stream",
     "text": [
      "ljes=njak\n"
     ]
    }
   ],
   "source": [
    "S = input()\n",
    "print(S)"
   ]
  },
  {
   "cell_type": "code",
   "execution_count": 11,
   "metadata": {},
   "outputs": [
    {
     "ename": "TypeError",
     "evalue": "'str' object does not support item assignment",
     "output_type": "error",
     "traceback": [
      "\u001b[1;31m---------------------------------------------------------------------------\u001b[0m",
      "\u001b[1;31mTypeError\u001b[0m                                 Traceback (most recent call last)",
      "\u001b[1;32mc:\\Users\\user\\Desktop\\Python\\private_study\\algorithm\\Baekjoon\\230216_08.ipynb 셀 3\u001b[0m in \u001b[0;36m<cell line: 4>\u001b[1;34m()\u001b[0m\n\u001b[0;32m     <a href='vscode-notebook-cell:/c%3A/Users/user/Desktop/Python/private_study/algorithm/Baekjoon/230216_08.ipynb#W1sZmlsZQ%3D%3D?line=13'>14</a>\u001b[0m     \u001b[39melif\u001b[39;00m S[i\u001b[39m+\u001b[39m\u001b[39m1\u001b[39m] \u001b[39m==\u001b[39m \u001b[39m'\u001b[39m\u001b[39mz\u001b[39m\u001b[39m'\u001b[39m \u001b[39mand\u001b[39;00m S[i\u001b[39m+\u001b[39m\u001b[39m2\u001b[39m] \u001b[39m==\u001b[39m \u001b[39m'\u001b[39m\u001b[39m=\u001b[39m\u001b[39m'\u001b[39m:\n\u001b[0;32m     <a href='vscode-notebook-cell:/c%3A/Users/user/Desktop/Python/private_study/algorithm/Baekjoon/230216_08.ipynb#W1sZmlsZQ%3D%3D?line=14'>15</a>\u001b[0m         alp_sum \u001b[39m-\u001b[39m\u001b[39m=\u001b[39m \u001b[39m2\u001b[39m\n\u001b[1;32m---> <a href='vscode-notebook-cell:/c%3A/Users/user/Desktop/Python/private_study/algorithm/Baekjoon/230216_08.ipynb#W1sZmlsZQ%3D%3D?line=15'>16</a>\u001b[0m         S[i\u001b[39m+\u001b[39m\u001b[39m1\u001b[39m] \u001b[39m=\u001b[39m \u001b[39m'\u001b[39m\u001b[39m \u001b[39m\u001b[39m'\u001b[39m\n\u001b[0;32m     <a href='vscode-notebook-cell:/c%3A/Users/user/Desktop/Python/private_study/algorithm/Baekjoon/230216_08.ipynb#W1sZmlsZQ%3D%3D?line=16'>17</a>\u001b[0m         S[i\u001b[39m+\u001b[39m\u001b[39m2\u001b[39m] \u001b[39m=\u001b[39m \u001b[39m'\u001b[39m\u001b[39m \u001b[39m\u001b[39m'\u001b[39m\n\u001b[0;32m     <a href='vscode-notebook-cell:/c%3A/Users/user/Desktop/Python/private_study/algorithm/Baekjoon/230216_08.ipynb#W1sZmlsZQ%3D%3D?line=17'>18</a>\u001b[0m \u001b[39mif\u001b[39;00m S[i] \u001b[39m==\u001b[39m \u001b[39m'\u001b[39m\u001b[39ml\u001b[39m\u001b[39m'\u001b[39m:\n",
      "\u001b[1;31mTypeError\u001b[0m: 'str' object does not support item assignment"
     ]
    }
   ],
   "source": [
    "S = input()\n",
    "alp_sum = len(S)\n",
    "\n",
    "for i in range(len(S)):\n",
    "    # print(i)\n",
    "    if S[i] == 'c':\n",
    "        if S[i+1] in ['=', '-']:\n",
    "            alp_sum -= 1\n",
    "            S[i+1] = ' '\n",
    "    if S[i] == 'd':\n",
    "        if S[i+1] == '-':\n",
    "            alp_sum -= 1\n",
    "            S[i+1] = ' '\n",
    "        elif S[i+1] == 'z' and S[i+2] == '=':\n",
    "            alp_sum -= 2\n",
    "            S[i+1] = ' '\n",
    "            S[i+2] = ' '\n",
    "    if S[i] == 'l':\n",
    "        if S[i+1] == 'j':\n",
    "            alp_sum -= 1\n",
    "            S[i+1] = ' '\n",
    "    if S[i] == 'n':\n",
    "        if S[i+1] == 'j':\n",
    "            alp_sum -= 1\n",
    "            S[i+1] = ' '\n",
    "    if S[i] == 's':\n",
    "        if S[i+1] == '=':\n",
    "            alp_sum -= 1\n",
    "            S[i+1] = ' '\n",
    "    if S[i] == 'z':\n",
    "        if S[i+1] == '=':\n",
    "            alp_sum -= 1\n",
    "            S[i+1] = ' '\n",
    "\n",
    "print(alp_sum)\n"
   ]
  },
  {
   "cell_type": "code",
   "execution_count": 7,
   "metadata": {},
   "outputs": [
    {
     "name": "stdout",
     "output_type": "stream",
     "text": [
      "rara\n"
     ]
    }
   ],
   "source": [
    "if 1 in [1,2,3]:\n",
    "    print('rara')"
   ]
  },
  {
   "cell_type": "code",
   "execution_count": 12,
   "metadata": {},
   "outputs": [
    {
     "name": "stdout",
     "output_type": "stream",
     "text": [
      "3\n"
     ]
    }
   ],
   "source": [
    "S = input()\n",
    "cro = ['c=', 'c-', 'dz=', 'd-', 'lj', 'nj', 's=', 'z=']\n",
    "\n",
    "for i in cro:\n",
    "    S = S.replace(i, ' ')\n",
    "print(len(S))\n"
   ]
  },
  {
   "cell_type": "code",
   "execution_count": null,
   "metadata": {},
   "outputs": [],
   "source": []
  }
 ],
 "metadata": {
  "kernelspec": {
   "display_name": "base",
   "language": "python",
   "name": "python3"
  },
  "language_info": {
   "codemirror_mode": {
    "name": "ipython",
    "version": 3
   },
   "file_extension": ".py",
   "mimetype": "text/x-python",
   "name": "python",
   "nbconvert_exporter": "python",
   "pygments_lexer": "ipython3",
   "version": "3.9.12"
  },
  "orig_nbformat": 4,
  "vscode": {
   "interpreter": {
    "hash": "a077222d77dfe082b8f1dd562ad70e458ac2ab76993a0b248ab0476e32e9e8dd"
   }
  }
 },
 "nbformat": 4,
 "nbformat_minor": 2
}
