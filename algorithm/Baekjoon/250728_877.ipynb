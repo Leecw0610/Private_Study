{
 "cells": [
  {
   "cell_type": "markdown",
   "id": "2b37e135",
   "metadata": {},
   "source": [
    "### 1058번"
   ]
  },
  {
   "cell_type": "code",
   "execution_count": null,
   "id": "33bf19d4",
   "metadata": {},
   "outputs": [],
   "source": [
    "import sys\n",
    "from collections import deque\n",
    "\n",
    "n = int(sys.stdin.readline())\n",
    "graph = [list(sys.stdin.readline().strip()) for _ in range(n)]\n",
    "# 2-친구 사이일 때 1, 아니면 0\n",
    "f = [[0] * n for _ in range(n)]\n",
    "\n",
    "for k in range(n):\n",
    "  for i in range(n):\n",
    "    for j in range(n):\n",
    "      if i == j:\n",
    "        continue\n",
    "      # 2-친구인 경우\n",
    "      if graph[i][j] == 'Y' or (graph[i][k] == 'Y' and graph[k][j] =='Y'):\n",
    "        f[i][j] = 1\n",
    "\n",
    "res = 0\n",
    "\n",
    "for row in f:\n",
    "  res = max(res,sum(row))\n",
    "print(res)"
   ]
  },
  {
   "cell_type": "code",
   "execution_count": null,
   "id": "aa5c15e9",
   "metadata": {},
   "outputs": [],
   "source": []
  },
  {
   "cell_type": "code",
   "execution_count": null,
   "id": "7f5fa72f",
   "metadata": {},
   "outputs": [],
   "source": []
  },
  {
   "cell_type": "code",
   "execution_count": null,
   "id": "f895bfba",
   "metadata": {},
   "outputs": [],
   "source": []
  }
 ],
 "metadata": {
  "kernelspec": {
   "display_name": "Python 3",
   "language": "python",
   "name": "python3"
  },
  "language_info": {
   "codemirror_mode": {
    "name": "ipython",
    "version": 3
   },
   "file_extension": ".py",
   "mimetype": "text/x-python",
   "name": "python",
   "nbconvert_exporter": "python",
   "pygments_lexer": "ipython3",
   "version": "3.11.1"
  }
 },
 "nbformat": 4,
 "nbformat_minor": 5
}
