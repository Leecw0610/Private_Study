{
 "cells": [
  {
   "attachments": {},
   "cell_type": "markdown",
   "metadata": {},
   "source": [
    "### 2139번"
   ]
  },
  {
   "cell_type": "code",
   "execution_count": 2,
   "metadata": {},
   "outputs": [
    {
     "name": "stdout",
     "output_type": "stream",
     "text": [
      "227\n",
      "1\n",
      "31\n",
      "60\n",
      "61\n",
      "161\n"
     ]
    }
   ],
   "source": [
    "from datetime import date\n",
    "def numOfDays(date1, date2):\n",
    "    return (date2 - date1).days\n",
    "while 1:\n",
    "    d, m, y = map(int, input().split())\n",
    "    if d == 0 and m == 0 and y == 0 :\n",
    "        break\n",
    "    date1 = date(y, 1, 1)\n",
    "    date2 = date(y, m, d)\n",
    "    print(numOfDays(date1, date2) + 1)"
   ]
  },
  {
   "cell_type": "code",
   "execution_count": null,
   "metadata": {},
   "outputs": [],
   "source": []
  },
  {
   "cell_type": "code",
   "execution_count": null,
   "metadata": {},
   "outputs": [],
   "source": []
  }
 ],
 "metadata": {
  "kernelspec": {
   "display_name": "Python 3",
   "language": "python",
   "name": "python3"
  },
  "language_info": {
   "codemirror_mode": {
    "name": "ipython",
    "version": 3
   },
   "file_extension": ".py",
   "mimetype": "text/x-python",
   "name": "python",
   "nbconvert_exporter": "python",
   "pygments_lexer": "ipython3",
   "version": "3.11.1"
  },
  "orig_nbformat": 4
 },
 "nbformat": 4,
 "nbformat_minor": 2
}
