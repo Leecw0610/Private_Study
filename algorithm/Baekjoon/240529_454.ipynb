{
 "cells": [
  {
   "cell_type": "markdown",
   "metadata": {},
   "source": [
    "### 11109번"
   ]
  },
  {
   "cell_type": "code",
   "execution_count": 1,
   "metadata": {},
   "outputs": [
    {
     "name": "stdout",
     "output_type": "stream",
     "text": [
      "do not parallelize\n",
      "parallelize\n",
      "does not matter\n"
     ]
    }
   ],
   "source": [
    "for _ in range(int(input())):\n",
    "    d, n, s, p = map(int, input().split())\n",
    "    if d + p*n == n*s:\n",
    "        print(\"does not matter\")\n",
    "    elif d + p*n > n*s:\n",
    "        print(\"do not parallelize\")\n",
    "    else:\n",
    "        print(\"parallelize\")"
   ]
  },
  {
   "cell_type": "code",
   "execution_count": null,
   "metadata": {},
   "outputs": [],
   "source": []
  },
  {
   "cell_type": "code",
   "execution_count": null,
   "metadata": {},
   "outputs": [],
   "source": []
  }
 ],
 "metadata": {
  "kernelspec": {
   "display_name": "base",
   "language": "python",
   "name": "python3"
  },
  "language_info": {
   "codemirror_mode": {
    "name": "ipython",
    "version": 3
   },
   "file_extension": ".py",
   "mimetype": "text/x-python",
   "name": "python",
   "nbconvert_exporter": "python",
   "pygments_lexer": "ipython3",
   "version": "3.11.1"
  }
 },
 "nbformat": 4,
 "nbformat_minor": 2
}
