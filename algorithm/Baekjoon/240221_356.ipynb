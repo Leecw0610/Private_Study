{
 "cells": [
  {
   "cell_type": "markdown",
   "metadata": {},
   "source": [
    "### 8595번"
   ]
  },
  {
   "cell_type": "code",
   "execution_count": 1,
   "metadata": {},
   "outputs": [
    {
     "name": "stdout",
     "output_type": "stream",
     "text": [
      "29\n"
     ]
    }
   ],
   "source": [
    "input()\n",
    "s = input()\n",
    "hidden_numbers = []\n",
    "is_number = False\n",
    "num = \"\"\n",
    "for i in s:\n",
    "    if i not in ['0', '1', '2', '3', '4', '5', '6', '7', '8', '9']:\n",
    "        if len(num) < 7 and len(num) != 0:\n",
    "            hidden_numbers.append(int(num))\n",
    "        num = \"\"\n",
    "        continue\n",
    "    num += i\n",
    "if len(num) < 7 and len(num) != 0:\n",
    "        hidden_numbers.append(int(num))\n",
    "print(sum(hidden_numbers))"
   ]
  },
  {
   "cell_type": "code",
   "execution_count": null,
   "metadata": {},
   "outputs": [],
   "source": []
  },
  {
   "cell_type": "code",
   "execution_count": null,
   "metadata": {},
   "outputs": [],
   "source": []
  }
 ],
 "metadata": {
  "kernelspec": {
   "display_name": "Python 3",
   "language": "python",
   "name": "python3"
  },
  "language_info": {
   "codemirror_mode": {
    "name": "ipython",
    "version": 3
   },
   "file_extension": ".py",
   "mimetype": "text/x-python",
   "name": "python",
   "nbconvert_exporter": "python",
   "pygments_lexer": "ipython3",
   "version": "3.11.1"
  }
 },
 "nbformat": 4,
 "nbformat_minor": 2
}
