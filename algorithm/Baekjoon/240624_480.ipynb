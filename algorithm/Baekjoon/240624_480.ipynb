{
 "cells": [
  {
   "cell_type": "markdown",
   "metadata": {},
   "source": [
    "### 12813번"
   ]
  },
  {
   "cell_type": "code",
   "execution_count": 2,
   "metadata": {},
   "outputs": [
    {
     "name": "stdout",
     "output_type": "stream",
     "text": [
      "0000001000\n",
      "0001111111\n",
      "0001110111\n",
      "1110100111\n",
      "1111010000\n"
     ]
    }
   ],
   "source": [
    "A = input()\n",
    "B = input()\n",
    "a = int(A, 2)\n",
    "b = int(B, 2)\n",
    "\n",
    "print(bin(a&b)[2:].zfill(len(A)))\n",
    "print(bin(a|b)[2:].zfill(len(A)))\n",
    "print(bin(a^b)[2:].zfill(len(A)))\n",
    "for i in range(len(A)):\n",
    "  print(1-int(A[i]), end='')\n",
    "print()\n",
    "\n",
    "for i in range(len(B)):\n",
    "  print(1-int(B[i]), end='')\n",
    "print()"
   ]
  },
  {
   "cell_type": "code",
   "execution_count": null,
   "metadata": {},
   "outputs": [],
   "source": []
  },
  {
   "cell_type": "code",
   "execution_count": null,
   "metadata": {},
   "outputs": [],
   "source": []
  }
 ],
 "metadata": {
  "kernelspec": {
   "display_name": "Python 3",
   "language": "python",
   "name": "python3"
  },
  "language_info": {
   "codemirror_mode": {
    "name": "ipython",
    "version": 3
   },
   "file_extension": ".py",
   "mimetype": "text/x-python",
   "name": "python",
   "nbconvert_exporter": "python",
   "pygments_lexer": "ipython3",
   "version": "3.11.1"
  }
 },
 "nbformat": 4,
 "nbformat_minor": 2
}
