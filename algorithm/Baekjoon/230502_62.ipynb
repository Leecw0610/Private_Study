{
 "cells": [
  {
   "cell_type": "markdown",
   "metadata": {},
   "source": [
    "### 1268번"
   ]
  },
  {
   "cell_type": "code",
   "execution_count": 1,
   "metadata": {},
   "outputs": [
    {
     "name": "stdout",
     "output_type": "stream",
     "text": [
      "4\n"
     ]
    }
   ],
   "source": [
    "n = int(input())\n",
    "\n",
    "student = []\n",
    "for _ in range(n):\n",
    "    stu = list(map(int, input().split()))\n",
    "    student.append(stu)\n",
    "\n",
    "answer = [[0 for _ in range(n)] for _ in range(n)]\n",
    "for i in range(5):\n",
    "    for j in range(n):\n",
    "        for k in range(j+1, n):\n",
    "            if student[j][i] == student[k][i]:\n",
    "                answer[j][k] = 1\n",
    "                answer[k][i] = 1\n",
    "\n",
    "count = []\n",
    "for a in answer:\n",
    "    count.append(a.count(1))\n",
    "\n",
    "print(count.index(max(count)) + 1)"
   ]
  },
  {
   "cell_type": "code",
   "execution_count": 2,
   "metadata": {},
   "outputs": [
    {
     "name": "stdout",
     "output_type": "stream",
     "text": [
      "4\n"
     ]
    }
   ],
   "source": [
    "n = int(input())\n",
    "\n",
    "cls = []\n",
    "same_class = [0] * n\n",
    "\n",
    "for i in range(n):\n",
    "    cls.append(list(map(int, input().split())))\n",
    "    same_class[i] = [0] * n\n",
    "\n",
    "for i in range(5):\n",
    "    for j in range(n):\n",
    "        for k in range(j+1, n):\n",
    "            if cls[j][i] == cls[k][i]:\n",
    "                same_class[k][j] = 1\n",
    "                same_class[j][k] = 1\n",
    "\n",
    "count = []\n",
    "for a in same_class:\n",
    "    count.append(a.count(1))\n",
    "\n",
    "print(count.index(max(count)) + 1)"
   ]
  },
  {
   "cell_type": "code",
   "execution_count": null,
   "metadata": {},
   "outputs": [],
   "source": []
  },
  {
   "cell_type": "code",
   "execution_count": null,
   "metadata": {},
   "outputs": [],
   "source": []
  },
  {
   "cell_type": "code",
   "execution_count": null,
   "metadata": {},
   "outputs": [],
   "source": []
  }
 ],
 "metadata": {
  "kernelspec": {
   "display_name": "base",
   "language": "python",
   "name": "python3"
  },
  "language_info": {
   "codemirror_mode": {
    "name": "ipython",
    "version": 3
   },
   "file_extension": ".py",
   "mimetype": "text/x-python",
   "name": "python",
   "nbconvert_exporter": "python",
   "pygments_lexer": "ipython3",
   "version": "3.9.15"
  },
  "orig_nbformat": 4
 },
 "nbformat": 4,
 "nbformat_minor": 2
}
