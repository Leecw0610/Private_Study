{
 "cells": [
  {
   "attachments": {},
   "cell_type": "markdown",
   "metadata": {},
   "source": [
    "### 1942번"
   ]
  },
  {
   "cell_type": "code",
   "execution_count": 1,
   "metadata": {},
   "outputs": [
    {
     "name": "stdout",
     "output_type": "stream",
     "text": [
      "29\n",
      "2727\n",
      "70\n"
     ]
    }
   ],
   "source": [
    "import datetime\n",
    "from datetime import timedelta\n",
    "\n",
    "for i in range(3):\n",
    "    start,end=input().split()\n",
    "\n",
    "    st=int(start.replace(\":\",\"\"))\n",
    "    ed=int(end.replace(\":\",\"\"))\n",
    "\n",
    "    stH,stM,stS=map(int,start.split(\":\"))\n",
    "    edH,edM,edS=map(int,end.split(\":\"))\n",
    "\n",
    "    stime=datetime.datetime(2021,1,1,stH,stM,stS)\n",
    "\n",
    "    tmp_time=stime.strftime('%H%M%S')\n",
    "\n",
    "    # 1씩 더하기 때문\n",
    "    sec=1\n",
    "\n",
    "    cnt=0\n",
    "    if int(tmp_time)%3==0:\n",
    "            cnt+=1\n",
    "    etime=datetime.datetime(2021,1,1,edH,edM,edS)\n",
    "    etime=etime.strftime('%H%M%S')\n",
    "\n",
    "    while True:\n",
    "        if tmp_time==etime:\n",
    "            break\n",
    "\n",
    "        # sec만큼 증가 (여기서 sec은 1)\n",
    "        stime=stime+timedelta(seconds=sec)\n",
    "        tmp_time=stime.strftime('%H%M%S')\n",
    "        if int(tmp_time)%3==0:\n",
    "            cnt+=1\n",
    "\n",
    "\n",
    "    print(cnt)"
   ]
  },
  {
   "cell_type": "code",
   "execution_count": null,
   "metadata": {},
   "outputs": [],
   "source": []
  },
  {
   "cell_type": "code",
   "execution_count": null,
   "metadata": {},
   "outputs": [],
   "source": []
  },
  {
   "cell_type": "code",
   "execution_count": null,
   "metadata": {},
   "outputs": [],
   "source": []
  }
 ],
 "metadata": {
  "kernelspec": {
   "display_name": "Python 3",
   "language": "python",
   "name": "python3"
  },
  "language_info": {
   "codemirror_mode": {
    "name": "ipython",
    "version": 3
   },
   "file_extension": ".py",
   "mimetype": "text/x-python",
   "name": "python",
   "nbconvert_exporter": "python",
   "pygments_lexer": "ipython3",
   "version": "3.11.1"
  },
  "orig_nbformat": 4
 },
 "nbformat": 4,
 "nbformat_minor": 2
}
