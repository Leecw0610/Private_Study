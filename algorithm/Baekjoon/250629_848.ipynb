{
 "cells": [
  {
   "cell_type": "markdown",
   "id": "39af71e5",
   "metadata": {},
   "source": [
    "### 32775번"
   ]
  },
  {
   "cell_type": "code",
   "execution_count": 2,
   "id": "b0b04c0d",
   "metadata": {},
   "outputs": [
    {
     "name": "stdout",
     "output_type": "stream",
     "text": [
      "flight\n"
     ]
    }
   ],
   "source": [
    "S = int(input())\n",
    "F = int(input())\n",
    "\n",
    "if S <= F:\n",
    "    print(\"high speed rail\")\n",
    "else:\n",
    "    print(\"flight\")"
   ]
  },
  {
   "cell_type": "code",
   "execution_count": null,
   "id": "745f0539",
   "metadata": {},
   "outputs": [],
   "source": []
  },
  {
   "cell_type": "code",
   "execution_count": null,
   "id": "a31aa088",
   "metadata": {},
   "outputs": [],
   "source": []
  },
  {
   "cell_type": "code",
   "execution_count": null,
   "id": "604b10eb",
   "metadata": {},
   "outputs": [],
   "source": []
  }
 ],
 "metadata": {
  "kernelspec": {
   "display_name": "Python 3",
   "language": "python",
   "name": "python3"
  },
  "language_info": {
   "codemirror_mode": {
    "name": "ipython",
    "version": 3
   },
   "file_extension": ".py",
   "mimetype": "text/x-python",
   "name": "python",
   "nbconvert_exporter": "python",
   "pygments_lexer": "ipython3",
   "version": "3.11.1"
  }
 },
 "nbformat": 4,
 "nbformat_minor": 5
}
