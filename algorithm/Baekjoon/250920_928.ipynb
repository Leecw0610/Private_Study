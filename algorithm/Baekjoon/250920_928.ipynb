{
 "cells": [
  {
   "cell_type": "markdown",
   "id": "8e3de02e",
   "metadata": {},
   "source": [
    "### 1393번"
   ]
  },
  {
   "cell_type": "code",
   "execution_count": null,
   "id": "718b8b8e",
   "metadata": {},
   "outputs": [],
   "source": [
    "import sys\n",
    "import math\n",
    " \n",
    "def get_gcd(a, b):\n",
    "    while b:\n",
    "        a, b = b, a%b\n",
    "    return a\n",
    " \n",
    "def check_distance(x, y):\n",
    "    return math.sqrt((x - xs)**2 + (y - ys)**2)\n",
    " \n",
    "xs, ys = map(int, sys.stdin.readline().split())\n",
    "xe, ye, dx, dy = map(int, sys.stdin.readline().split())\n",
    " \n",
    "d_gcd = get_gcd(dx, dy)\n",
    "dx, dy = dx//d_gcd, dy//d_gcd\n",
    " \n",
    "curx, cury = xe, ye\n",
    "while check_distance(curx, cury) > check_distance(curx + dx, cury + dy):\n",
    "    curx += dx\n",
    "    cury += dy\n",
    " \n",
    "print(curx, cury)\n"
   ]
  },
  {
   "cell_type": "code",
   "execution_count": null,
   "id": "1ce832d3",
   "metadata": {},
   "outputs": [],
   "source": []
  },
  {
   "cell_type": "code",
   "execution_count": null,
   "id": "49d9d25e",
   "metadata": {},
   "outputs": [],
   "source": []
  },
  {
   "cell_type": "code",
   "execution_count": null,
   "id": "07afe613",
   "metadata": {},
   "outputs": [],
   "source": []
  }
 ],
 "metadata": {
  "kernelspec": {
   "display_name": "Python 3",
   "language": "python",
   "name": "python3"
  },
  "language_info": {
   "codemirror_mode": {
    "name": "ipython",
    "version": 3
   },
   "file_extension": ".py",
   "mimetype": "text/x-python",
   "name": "python",
   "nbconvert_exporter": "python",
   "pygments_lexer": "ipython3",
   "version": "3.13.6"
  }
 },
 "nbformat": 4,
 "nbformat_minor": 5
}
