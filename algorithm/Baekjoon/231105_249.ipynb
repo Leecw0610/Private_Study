{
 "cells": [
  {
   "cell_type": "markdown",
   "metadata": {},
   "source": [
    "#### 4589번"
   ]
  },
  {
   "cell_type": "code",
   "execution_count": 1,
   "metadata": {},
   "outputs": [
    {
     "name": "stdout",
     "output_type": "stream",
     "text": [
      "Gnomes:\n",
      "Ordered\n",
      "Unordered\n",
      "Ordered\n"
     ]
    }
   ],
   "source": [
    "def sol(nums):\n",
    "    ans = False\n",
    "    if nums == sorted(nums) or nums == sorted(nums, reverse = True):\n",
    "        ans = True\n",
    "    return ans\n",
    "\n",
    "print(\"Gnomes:\")\n",
    "for i in range(int(input())):\n",
    "    nums = list(map(int, input().split()))\n",
    "    if sol(nums) == True:\n",
    "        print(\"Ordered\")\n",
    "    else:\n",
    "        print(\"Unordered\")\n"
   ]
  },
  {
   "cell_type": "code",
   "execution_count": null,
   "metadata": {},
   "outputs": [],
   "source": []
  },
  {
   "cell_type": "code",
   "execution_count": null,
   "metadata": {},
   "outputs": [],
   "source": []
  },
  {
   "cell_type": "code",
   "execution_count": null,
   "metadata": {},
   "outputs": [],
   "source": []
  }
 ],
 "metadata": {
  "kernelspec": {
   "display_name": "Python 3",
   "language": "python",
   "name": "python3"
  },
  "language_info": {
   "codemirror_mode": {
    "name": "ipython",
    "version": 3
   },
   "file_extension": ".py",
   "mimetype": "text/x-python",
   "name": "python",
   "nbconvert_exporter": "python",
   "pygments_lexer": "ipython3",
   "version": "3.11.1"
  }
 },
 "nbformat": 4,
 "nbformat_minor": 2
}
