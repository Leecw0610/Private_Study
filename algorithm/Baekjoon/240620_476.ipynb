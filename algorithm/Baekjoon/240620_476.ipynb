{
 "cells": [
  {
   "cell_type": "markdown",
   "metadata": {},
   "source": [
    "### 12756번"
   ]
  },
  {
   "cell_type": "code",
   "execution_count": 1,
   "metadata": {},
   "outputs": [
    {
     "name": "stdout",
     "output_type": "stream",
     "text": [
      "PLAYER A\n"
     ]
    }
   ],
   "source": [
    "a1, h1 = map(int, input().split())\n",
    "a2, h2 = map(int, input().split())\n",
    "a, b = h1//a2 + (1 if h1%a2 else 0), h2//a1 + (1 if h2%a1 else 0)\n",
    "if a == b:\n",
    "    print(\"DRAW\")\n",
    "elif a > b:\n",
    "    print(\"PLAYER A\")\n",
    "else:\n",
    "    print(\"PLAYER B\")"
   ]
  },
  {
   "cell_type": "code",
   "execution_count": null,
   "metadata": {},
   "outputs": [],
   "source": []
  },
  {
   "cell_type": "code",
   "execution_count": null,
   "metadata": {},
   "outputs": [],
   "source": []
  }
 ],
 "metadata": {
  "kernelspec": {
   "display_name": "Python 3",
   "language": "python",
   "name": "python3"
  },
  "language_info": {
   "codemirror_mode": {
    "name": "ipython",
    "version": 3
   },
   "file_extension": ".py",
   "mimetype": "text/x-python",
   "name": "python",
   "nbconvert_exporter": "python",
   "pygments_lexer": "ipython3",
   "version": "3.11.1"
  }
 },
 "nbformat": 4,
 "nbformat_minor": 2
}
