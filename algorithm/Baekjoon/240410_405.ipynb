{
 "cells": [
  {
   "cell_type": "markdown",
   "metadata": {},
   "source": [
    "### 10178번"
   ]
  },
  {
   "cell_type": "code",
   "execution_count": 1,
   "metadata": {},
   "outputs": [
    {
     "name": "stdout",
     "output_type": "stream",
     "text": [
      "You get 7 piece(s) and your dad gets 1 piece(s).\n",
      "You get 3 piece(s) and your dad gets 0 piece(s).\n",
      "You get 12 piece(s) and your dad gets 3 piece(s).\n",
      "You get 1 piece(s) and your dad gets 3 piece(s).\n",
      "You get 20 piece(s) and your dad gets 1 piece(s).\n"
     ]
    }
   ],
   "source": [
    "for _ in range(int(input())):\n",
    "    c, v = map(int, input().split())\n",
    "    print(f\"You get {c // v} piece(s) and your dad gets {c % v} piece(s).\")"
   ]
  },
  {
   "cell_type": "code",
   "execution_count": null,
   "metadata": {},
   "outputs": [],
   "source": []
  },
  {
   "cell_type": "code",
   "execution_count": null,
   "metadata": {},
   "outputs": [],
   "source": []
  }
 ],
 "metadata": {
  "kernelspec": {
   "display_name": "Python 3",
   "language": "python",
   "name": "python3"
  },
  "language_info": {
   "codemirror_mode": {
    "name": "ipython",
    "version": 3
   },
   "file_extension": ".py",
   "mimetype": "text/x-python",
   "name": "python",
   "nbconvert_exporter": "python",
   "pygments_lexer": "ipython3",
   "version": "3.11.1"
  }
 },
 "nbformat": 4,
 "nbformat_minor": 2
}
