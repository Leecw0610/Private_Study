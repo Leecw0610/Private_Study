{
 "cells": [
  {
   "cell_type": "markdown",
   "metadata": {},
   "source": [
    "### 28290번"
   ]
  },
  {
   "cell_type": "code",
   "execution_count": 1,
   "metadata": {},
   "outputs": [
    {
     "name": "stdout",
     "output_type": "stream",
     "text": [
      "molu\n"
     ]
    }
   ],
   "source": [
    "S = input()\n",
    "\n",
    "if S == \"fdsajkl;\" or S == \"jkl;fdsa\":\n",
    "    print(\"in-out\")\n",
    "elif S == \"asdf;lkj\" or S == \";lkjasdf\":\n",
    "    print(\"out-in\")\n",
    "elif S == \"asdfjkl;\":\n",
    "    print(\"stairs\")\n",
    "elif S == \";lkjfdsa\":\n",
    "    print(\"reverse\")\n",
    "else:\n",
    "    print(\"molu\")"
   ]
  },
  {
   "cell_type": "code",
   "execution_count": null,
   "metadata": {},
   "outputs": [],
   "source": []
  },
  {
   "cell_type": "code",
   "execution_count": null,
   "metadata": {},
   "outputs": [],
   "source": []
  },
  {
   "cell_type": "code",
   "execution_count": null,
   "metadata": {},
   "outputs": [],
   "source": []
  }
 ],
 "metadata": {
  "kernelspec": {
   "display_name": "Python 3",
   "language": "python",
   "name": "python3"
  },
  "language_info": {
   "codemirror_mode": {
    "name": "ipython",
    "version": 3
   },
   "file_extension": ".py",
   "mimetype": "text/x-python",
   "name": "python",
   "nbconvert_exporter": "python",
   "pygments_lexer": "ipython3",
   "version": "3.11.1"
  }
 },
 "nbformat": 4,
 "nbformat_minor": 2
}
