{
 "cells": [
  {
   "cell_type": "markdown",
   "id": "14a9792d",
   "metadata": {},
   "source": [
    "### 1476번"
   ]
  },
  {
   "cell_type": "code",
   "execution_count": 1,
   "id": "7e9f1e31",
   "metadata": {},
   "outputs": [
    {
     "name": "stdout",
     "output_type": "stream",
     "text": [
      "5266\n"
     ]
    }
   ],
   "source": [
    "g = list(map(int, input().split()))\n",
    "li = [1, 1, 1]\n",
    "cnt = 1\n",
    "while li != g:\n",
    "    for i in range(3):\n",
    "        li[i] += 1\n",
    "    if li[0] == 16:\n",
    "        li[0] = 1\n",
    "    if li[1] == 29:\n",
    "        li[1] = 1\n",
    "    if li[2] == 20:\n",
    "        li[2] = 1\n",
    "    cnt += 1\n",
    "\n",
    "print(cnt)"
   ]
  },
  {
   "cell_type": "code",
   "execution_count": null,
   "id": "8d321ef5",
   "metadata": {},
   "outputs": [],
   "source": []
  },
  {
   "cell_type": "code",
   "execution_count": null,
   "id": "a86df0ed",
   "metadata": {},
   "outputs": [],
   "source": []
  },
  {
   "cell_type": "code",
   "execution_count": null,
   "id": "165dfd33",
   "metadata": {},
   "outputs": [],
   "source": []
  }
 ],
 "metadata": {
  "kernelspec": {
   "display_name": "Python 3",
   "language": "python",
   "name": "python3"
  },
  "language_info": {
   "codemirror_mode": {
    "name": "ipython",
    "version": 3
   },
   "file_extension": ".py",
   "mimetype": "text/x-python",
   "name": "python",
   "nbconvert_exporter": "python",
   "pygments_lexer": "ipython3",
   "version": "3.13.6"
  }
 },
 "nbformat": 4,
 "nbformat_minor": 5
}
