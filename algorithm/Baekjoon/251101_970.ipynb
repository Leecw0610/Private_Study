{
 "cells": [
  {
   "cell_type": "markdown",
   "id": "0c24536a",
   "metadata": {},
   "source": [
    "### 1654번"
   ]
  },
  {
   "cell_type": "code",
   "execution_count": 1,
   "id": "4122246e",
   "metadata": {},
   "outputs": [
    {
     "name": "stdout",
     "output_type": "stream",
     "text": [
      "200\n"
     ]
    }
   ],
   "source": [
    "def count(li, m):\n",
    "    cnt = 0\n",
    "    for n in li:\n",
    "        cnt += (n // m)\n",
    "    return cnt\n",
    "\n",
    "def binarySearch(li, K):\n",
    "    s, e = 1, max(li)\n",
    "    while s <= e:\n",
    "        m = (s + e) // 2\n",
    "        if count(li, m) >= K:\n",
    "            ans = m\n",
    "            s = m + 1\n",
    "        else:\n",
    "            e = m - 1\n",
    "    return ans\n",
    "\n",
    "\n",
    "N, K = map(int, input().split())\n",
    "li = sorted([int(input()) for _ in range(N)])\n",
    "\n",
    "print(binarySearch(li, K))"
   ]
  },
  {
   "cell_type": "code",
   "execution_count": null,
   "id": "f16e0e64",
   "metadata": {},
   "outputs": [],
   "source": []
  },
  {
   "cell_type": "code",
   "execution_count": null,
   "id": "ec79fae7",
   "metadata": {},
   "outputs": [],
   "source": []
  },
  {
   "cell_type": "code",
   "execution_count": null,
   "id": "12076284",
   "metadata": {},
   "outputs": [],
   "source": []
  }
 ],
 "metadata": {
  "kernelspec": {
   "display_name": "Python 3",
   "language": "python",
   "name": "python3"
  },
  "language_info": {
   "codemirror_mode": {
    "name": "ipython",
    "version": 3
   },
   "file_extension": ".py",
   "mimetype": "text/x-python",
   "name": "python",
   "nbconvert_exporter": "python",
   "pygments_lexer": "ipython3",
   "version": "3.13.6"
  }
 },
 "nbformat": 4,
 "nbformat_minor": 5
}
