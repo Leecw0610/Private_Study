{
 "cells": [
  {
   "cell_type": "markdown",
   "metadata": {},
   "source": [
    "#### 2999번"
   ]
  },
  {
   "cell_type": "code",
   "execution_count": 1,
   "metadata": {},
   "outputs": [],
   "source": [
    "import sys\n",
    "my_str = str(sys.stdin.readline().rstrip())\n",
    "r = 1\n",
    "c = len(my_str)\n",
    "\n",
    "for i in range(1, len(my_str) + 1) :\n",
    "    if len(my_str) % i == 0 :\n",
    "        if r < i and i <= len(my_str) // i  :\n",
    "            r = i\n",
    "            c = len(my_str) // i\n",
    "\n",
    "d = [[] for _ in range(r)]\n",
    "cnt = 0\n",
    "\n",
    "for i in range(c) :\n",
    "    for k in range(r) :\n",
    "        d[k].append(my_str[cnt])\n",
    "        cnt += 1\n",
    "\n",
    "for i in range(r) :\n",
    "    print(''.join(d[i]), end='')"
   ]
  },
  {
   "cell_type": "code",
   "execution_count": null,
   "metadata": {},
   "outputs": [],
   "source": []
  },
  {
   "cell_type": "code",
   "execution_count": null,
   "metadata": {},
   "outputs": [],
   "source": []
  },
  {
   "cell_type": "code",
   "execution_count": null,
   "metadata": {},
   "outputs": [],
   "source": []
  }
 ],
 "metadata": {
  "kernelspec": {
   "display_name": "Python 3",
   "language": "python",
   "name": "python3"
  },
  "language_info": {
   "codemirror_mode": {
    "name": "ipython",
    "version": 3
   },
   "file_extension": ".py",
   "mimetype": "text/x-python",
   "name": "python",
   "nbconvert_exporter": "python",
   "pygments_lexer": "ipython3",
   "version": "3.11.1"
  },
  "orig_nbformat": 4
 },
 "nbformat": 4,
 "nbformat_minor": 2
}
