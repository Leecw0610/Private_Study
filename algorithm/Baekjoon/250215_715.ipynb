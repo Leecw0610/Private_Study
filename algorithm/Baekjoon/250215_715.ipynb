{
 "cells": [
  {
   "cell_type": "markdown",
   "metadata": {
    "vscode": {
     "languageId": "plaintext"
    }
   },
   "source": [
    "### 25965번"
   ]
  },
  {
   "cell_type": "code",
   "execution_count": 2,
   "metadata": {},
   "outputs": [
    {
     "name": "stdout",
     "output_type": "stream",
     "text": [
      "328352\n",
      "282474\n",
      "368303\n"
     ]
    }
   ],
   "source": [
    "N = int(input())\n",
    "for _ in range(N):\n",
    "    M = int(input())\n",
    "    cnt = 0\t# 최종 도네이션 금액\n",
    "    lst = []\n",
    "    for _ in range(M):\n",
    "        lst.append(list(map(int, input().split())))\n",
    "    KDA = list(map(int, input().split()))\n",
    "\n",
    "    for i in lst :\n",
    "        tmp = 0\n",
    "        for j in range(3):\n",
    "            if j != 1:\n",
    "                tmp += i[j] * KDA[j]\n",
    "            else:\n",
    "                tmp -= i[j] * KDA[j]\n",
    "        if tmp > 0:\n",
    "            cnt += tmp\n",
    "    print(cnt)"
   ]
  },
  {
   "cell_type": "code",
   "execution_count": null,
   "metadata": {},
   "outputs": [],
   "source": []
  },
  {
   "cell_type": "code",
   "execution_count": null,
   "metadata": {},
   "outputs": [],
   "source": []
  },
  {
   "cell_type": "code",
   "execution_count": null,
   "metadata": {},
   "outputs": [],
   "source": []
  }
 ],
 "metadata": {
  "kernelspec": {
   "display_name": "Python 3",
   "language": "python",
   "name": "python3"
  },
  "language_info": {
   "codemirror_mode": {
    "name": "ipython",
    "version": 3
   },
   "file_extension": ".py",
   "mimetype": "text/x-python",
   "name": "python",
   "nbconvert_exporter": "python",
   "pygments_lexer": "ipython3",
   "version": "3.11.1"
  }
 },
 "nbformat": 4,
 "nbformat_minor": 2
}
