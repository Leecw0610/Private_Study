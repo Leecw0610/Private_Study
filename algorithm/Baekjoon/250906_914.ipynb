{
 "cells": [
  {
   "cell_type": "markdown",
   "id": "c6c4770a",
   "metadata": {},
   "source": [
    "### 1325번"
   ]
  },
  {
   "cell_type": "code",
   "execution_count": 1,
   "id": "8e6f3326",
   "metadata": {},
   "outputs": [
    {
     "name": "stdout",
     "output_type": "stream",
     "text": [
      "1 2 "
     ]
    }
   ],
   "source": [
    "from collections import deque\n",
    "\n",
    "def bfs(start):\n",
    "    count = 0\n",
    "    q = deque()\n",
    "    q.append(start)\n",
    "    visited[start] = 1\n",
    "    while q:\n",
    "        now = q.popleft()    # 큐에서 꺼냄\n",
    "        for i in graph[now]: # 연결된 노드 확인\n",
    "            if visited[i] == 0: # 방문하지 않았다면\n",
    "                visited[i] = 1  # 방문처리\n",
    "                q.append(i)     # 큐에 삽입\n",
    "                count += 1      # 개수 세어줌\n",
    "    return count\n",
    "\n",
    "n, m = map(int,input().split()) # 컴퓨터의 수, 신뢰관계의 수\n",
    "\n",
    "graph = [[] for _ in range(n + 1)] # 신뢰관계 그래프\n",
    "for _ in range(m):\n",
    "    a, b = map(int,input().split()) # A가 B를 신뢰\n",
    "    graph[b].append(a)              # 반대 방향으로 간선 연결\n",
    "\n",
    "max_count = -1e9\n",
    "result = []\n",
    "for i in range(1, n + 1):  # 각 노드별로 탐색\n",
    "    visited = [0] * (n + 1) # 방문했음을 체크할 list\n",
    "    count = bfs(i)          # 탐색할 수 있는 노드의 수 \n",
    "    max_count = max(max_count, count) # 최댓값 구함\n",
    "    result.append((i, count)) # 노드 번호별 count 값 저장\n",
    "\n",
    "for i in result:\n",
    "    if i[1] == max_count: # 만약 count 값이 최댓값과 같다면\n",
    "        print(i[0], end = ' ') # 해당 노드 번호 출력"
   ]
  },
  {
   "cell_type": "code",
   "execution_count": null,
   "id": "190267c5",
   "metadata": {},
   "outputs": [],
   "source": []
  },
  {
   "cell_type": "code",
   "execution_count": null,
   "id": "2428a179",
   "metadata": {},
   "outputs": [],
   "source": []
  },
  {
   "cell_type": "code",
   "execution_count": null,
   "id": "a06fb054",
   "metadata": {},
   "outputs": [],
   "source": []
  }
 ],
 "metadata": {
  "kernelspec": {
   "display_name": "Python 3",
   "language": "python",
   "name": "python3"
  },
  "language_info": {
   "codemirror_mode": {
    "name": "ipython",
    "version": 3
   },
   "file_extension": ".py",
   "mimetype": "text/x-python",
   "name": "python",
   "nbconvert_exporter": "python",
   "pygments_lexer": "ipython3",
   "version": "3.13.6"
  }
 },
 "nbformat": 4,
 "nbformat_minor": 5
}
