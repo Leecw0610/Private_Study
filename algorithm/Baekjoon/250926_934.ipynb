{
 "cells": [
  {
   "cell_type": "markdown",
   "id": "f233bbda",
   "metadata": {},
   "source": [
    "### 1421번"
   ]
  },
  {
   "cell_type": "code",
   "execution_count": 1,
   "id": "0fd8f189",
   "metadata": {},
   "outputs": [
    {
     "name": "stdout",
     "output_type": "stream",
     "text": [
      "1770\n"
     ]
    }
   ],
   "source": [
    "from math import ceil \n",
    "\n",
    "n, c, w = map(int, input().split())\n",
    "trees = [int(input()) for _ in range(n)]\n",
    "profits=[]\n",
    "\n",
    "for L in range(1,max(trees)+1):\n",
    "    profit = []\n",
    "    for tree in trees:\n",
    "        profit.append(max(0,(tree // L)*L*w - (ceil(tree / L)-1)*c))\n",
    "    profits.append(sum(profit))\n",
    "\n",
    "print(max(profits))"
   ]
  },
  {
   "cell_type": "code",
   "execution_count": null,
   "id": "87a35efe",
   "metadata": {},
   "outputs": [],
   "source": []
  },
  {
   "cell_type": "code",
   "execution_count": null,
   "id": "ac6f8cd5",
   "metadata": {},
   "outputs": [],
   "source": []
  },
  {
   "cell_type": "code",
   "execution_count": null,
   "id": "3ec32095",
   "metadata": {},
   "outputs": [],
   "source": []
  }
 ],
 "metadata": {
  "kernelspec": {
   "display_name": "Python 3",
   "language": "python",
   "name": "python3"
  },
  "language_info": {
   "codemirror_mode": {
    "name": "ipython",
    "version": 3
   },
   "file_extension": ".py",
   "mimetype": "text/x-python",
   "name": "python",
   "nbconvert_exporter": "python",
   "pygments_lexer": "ipython3",
   "version": "3.13.6"
  }
 },
 "nbformat": 4,
 "nbformat_minor": 5
}
