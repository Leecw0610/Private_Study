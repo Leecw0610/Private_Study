{
 "cells": [
  {
   "cell_type": "markdown",
   "metadata": {
    "vscode": {
     "languageId": "plaintext"
    }
   },
   "source": [
    "### 25703번"
   ]
  },
  {
   "cell_type": "code",
   "execution_count": 1,
   "metadata": {},
   "outputs": [
    {
     "name": "stdout",
     "output_type": "stream",
     "text": [
      "int a;\n",
      "int *ptr = &a;\n",
      "int **ptr2 = &ptr;\n",
      "int ***ptr3 = &ptr2;\n",
      "int ****ptr4 = &ptr3;\n",
      "int *****ptr5 = &ptr4;\n",
      "int ******ptr6 = &ptr5;\n",
      "int *******ptr7 = &ptr6;\n",
      "int ********ptr8 = &ptr7;\n",
      "int *********ptr9 = &ptr8;\n"
     ]
    }
   ],
   "source": [
    "def point_study(N):\n",
    "    print(\"int a;\")\n",
    "\n",
    "    for idx in range(1, N + 1):\n",
    "        before_and_string = f\"ptr{idx-1 if idx-1 > 1 else ''};\" if idx > 1 else \"a;\"\n",
    "        print(f\"int {'*' * idx}ptr{idx if idx > 1 else ''} = &{before_and_string}\")\n",
    "\n",
    "if __name__ == \"__main__\":\n",
    "    N = int(input())\n",
    "    point_study(N=N)"
   ]
  },
  {
   "cell_type": "code",
   "execution_count": null,
   "metadata": {},
   "outputs": [],
   "source": []
  },
  {
   "cell_type": "code",
   "execution_count": null,
   "metadata": {},
   "outputs": [],
   "source": []
  },
  {
   "cell_type": "code",
   "execution_count": null,
   "metadata": {},
   "outputs": [],
   "source": []
  }
 ],
 "metadata": {
  "kernelspec": {
   "display_name": "Python 3",
   "language": "python",
   "name": "python3"
  },
  "language_info": {
   "codemirror_mode": {
    "name": "ipython",
    "version": 3
   },
   "file_extension": ".py",
   "mimetype": "text/x-python",
   "name": "python",
   "nbconvert_exporter": "python",
   "pygments_lexer": "ipython3",
   "version": "3.11.1"
  }
 },
 "nbformat": 4,
 "nbformat_minor": 2
}
