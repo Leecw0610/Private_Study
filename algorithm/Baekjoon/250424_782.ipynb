{
 "cells": [
  {
   "cell_type": "markdown",
   "id": "b0811da2",
   "metadata": {},
   "source": [
    "### 30684번"
   ]
  },
  {
   "cell_type": "code",
   "execution_count": 1,
   "id": "e7ff5662",
   "metadata": {},
   "outputs": [
    {
     "name": "stdout",
     "output_type": "stream",
     "text": [
      "AHC\n"
     ]
    }
   ],
   "source": [
    "N = int(input())\n",
    "candidate = []\n",
    "\n",
    "for _ in range(N):\n",
    "    name = input()\n",
    "    if len(name) == 3:\n",
    "        candidate.append(name)\n",
    "\n",
    "candidate.sort()\n",
    "print(candidate[0])"
   ]
  },
  {
   "cell_type": "code",
   "execution_count": null,
   "id": "bb25b838",
   "metadata": {},
   "outputs": [],
   "source": []
  },
  {
   "cell_type": "code",
   "execution_count": null,
   "id": "3ca4dcb5",
   "metadata": {},
   "outputs": [],
   "source": []
  },
  {
   "cell_type": "code",
   "execution_count": null,
   "id": "8fbe81d9",
   "metadata": {},
   "outputs": [],
   "source": []
  }
 ],
 "metadata": {
  "kernelspec": {
   "display_name": "Python 3",
   "language": "python",
   "name": "python3"
  },
  "language_info": {
   "codemirror_mode": {
    "name": "ipython",
    "version": 3
   },
   "file_extension": ".py",
   "mimetype": "text/x-python",
   "name": "python",
   "nbconvert_exporter": "python",
   "pygments_lexer": "ipython3",
   "version": "3.11.1"
  }
 },
 "nbformat": 4,
 "nbformat_minor": 5
}
