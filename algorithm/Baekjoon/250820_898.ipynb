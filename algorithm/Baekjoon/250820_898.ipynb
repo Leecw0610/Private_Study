{
 "cells": [
  {
   "cell_type": "markdown",
   "id": "acfcc905",
   "metadata": {},
   "source": [
    "### 1213번"
   ]
  },
  {
   "cell_type": "code",
   "execution_count": 1,
   "id": "26799996",
   "metadata": {},
   "outputs": [
    {
     "name": "stdout",
     "output_type": "stream",
     "text": [
      "ABABA\n"
     ]
    }
   ],
   "source": [
    "from collections import Counter\n",
    "\n",
    "name = list(map(str,input()))\n",
    "name.sort()\n",
    "count = Counter(name)\n",
    "odd = 0\n",
    "odd_alpha = ''\n",
    "ans = ''\n",
    "for i in count:\n",
    "\tif count[i] % 2 != 0:\n",
    "\t\todd += 1\n",
    "\t\todd_alpha += i\n",
    "\n",
    "\tfor _ in range(count[i]//2):\n",
    "\t\tans += i\n",
    "\n",
    "if odd > 1:\n",
    "\tprint(\"I'm Sorry Hansoo\")\n",
    "\n",
    "elif odd == 0:\n",
    "\tprint(ans + ans[::-1])\n",
    "\n",
    "else:\n",
    "\tprint(ans + odd_alpha + ans[::-1])"
   ]
  },
  {
   "cell_type": "code",
   "execution_count": null,
   "id": "49e036a6",
   "metadata": {},
   "outputs": [],
   "source": []
  },
  {
   "cell_type": "code",
   "execution_count": null,
   "id": "b3b90e35",
   "metadata": {},
   "outputs": [],
   "source": []
  },
  {
   "cell_type": "code",
   "execution_count": null,
   "id": "e5015777",
   "metadata": {},
   "outputs": [],
   "source": []
  }
 ],
 "metadata": {
  "kernelspec": {
   "display_name": "Python 3",
   "language": "python",
   "name": "python3"
  },
  "language_info": {
   "codemirror_mode": {
    "name": "ipython",
    "version": 3
   },
   "file_extension": ".py",
   "mimetype": "text/x-python",
   "name": "python",
   "nbconvert_exporter": "python",
   "pygments_lexer": "ipython3",
   "version": "3.13.6"
  }
 },
 "nbformat": 4,
 "nbformat_minor": 5
}
