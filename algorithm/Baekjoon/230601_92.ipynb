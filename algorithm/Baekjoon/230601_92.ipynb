{
 "cells": [
  {
   "cell_type": "code",
   "execution_count": null,
   "metadata": {},
   "outputs": [],
   "source": [
    "while True:\n",
    "    li = list(map(int, input().split()))\n",
    "    leaf = 1\n",
    "    if li[0] == 0:\n",
    "        break\n",
    "\n",
    "    for i in range(1, len(li), 2):\n",
    "        leaf = leaf * li[i] - li[i + 1]\n",
    "    print(leaf)"
   ]
  }
 ],
 "metadata": {
  "kernelspec": {
   "display_name": "Python 3",
   "language": "python",
   "name": "python3"
  },
  "language_info": {
   "name": "python",
   "version": "3.11.1"
  },
  "orig_nbformat": 4
 },
 "nbformat": 4,
 "nbformat_minor": 2
}
