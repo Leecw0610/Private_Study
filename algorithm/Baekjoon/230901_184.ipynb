{
 "cells": [
  {
   "cell_type": "markdown",
   "metadata": {},
   "source": [
    "### 2765번"
   ]
  },
  {
   "cell_type": "code",
   "execution_count": 1,
   "metadata": {},
   "outputs": [
    {
     "name": "stdout",
     "output_type": "stream",
     "text": [
      "Trip #1: 1.29 928.20\n",
      "Trip #2: 1179.86 1415.84\n"
     ]
    }
   ],
   "source": [
    "from math import pi\n",
    "\n",
    "i = 1\n",
    "while 1:\n",
    "    d, r, t = map(float, input().split())\n",
    "    if r == 0:\n",
    "        break\n",
    "    dis = d / 63360 * pi * r\n",
    "    mph = dis / t * 3600\n",
    "    print(\"Trip #%d: %.2f %.2f\" % (i, dis, mph))\n",
    "    i += 1"
   ]
  },
  {
   "cell_type": "code",
   "execution_count": null,
   "metadata": {},
   "outputs": [],
   "source": []
  },
  {
   "cell_type": "code",
   "execution_count": null,
   "metadata": {},
   "outputs": [],
   "source": []
  }
 ],
 "metadata": {
  "kernelspec": {
   "display_name": "Python 3",
   "language": "python",
   "name": "python3"
  },
  "language_info": {
   "codemirror_mode": {
    "name": "ipython",
    "version": 3
   },
   "file_extension": ".py",
   "mimetype": "text/x-python",
   "name": "python",
   "nbconvert_exporter": "python",
   "pygments_lexer": "ipython3",
   "version": "3.11.1"
  },
  "orig_nbformat": 4
 },
 "nbformat": 4,
 "nbformat_minor": 2
}
