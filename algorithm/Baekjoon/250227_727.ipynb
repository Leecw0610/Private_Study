{
 "cells": [
  {
   "cell_type": "markdown",
   "metadata": {
    "vscode": {
     "languageId": "plaintext"
    }
   },
   "source": [
    "### 27736번"
   ]
  },
  {
   "cell_type": "code",
   "execution_count": 1,
   "metadata": {},
   "outputs": [
    {
     "name": "stdout",
     "output_type": "stream",
     "text": [
      "INVALID\n"
     ]
    }
   ],
   "source": [
    "N = int(input())\n",
    "N_list = list(map(int, input().split()))\n",
    "approved, rejected, invalid = 0, 0, 0\n",
    "\n",
    "for i in N_list :\n",
    "    if i == 1 :\n",
    "        approved += 1\n",
    "    elif i == -1 :\n",
    "        rejected += 1\n",
    "    else :\n",
    "        invalid += 1\n",
    "\n",
    "if invalid >= N / 2 :\n",
    "    print('INVALID')\n",
    "elif approved > rejected :\n",
    "    print('APPROVED')\n",
    "else :\n",
    "    print('REJECTED')"
   ]
  },
  {
   "cell_type": "code",
   "execution_count": null,
   "metadata": {},
   "outputs": [],
   "source": []
  },
  {
   "cell_type": "code",
   "execution_count": null,
   "metadata": {},
   "outputs": [],
   "source": []
  },
  {
   "cell_type": "code",
   "execution_count": null,
   "metadata": {},
   "outputs": [],
   "source": []
  }
 ],
 "metadata": {
  "kernelspec": {
   "display_name": "Python 3",
   "language": "python",
   "name": "python3"
  },
  "language_info": {
   "codemirror_mode": {
    "name": "ipython",
    "version": 3
   },
   "file_extension": ".py",
   "mimetype": "text/x-python",
   "name": "python",
   "nbconvert_exporter": "python",
   "pygments_lexer": "ipython3",
   "version": "3.11.1"
  }
 },
 "nbformat": 4,
 "nbformat_minor": 2
}
