{
 "cells": [
  {
   "cell_type": "markdown",
   "metadata": {
    "vscode": {
     "languageId": "plaintext"
    }
   },
   "source": [
    "### 21866번"
   ]
  },
  {
   "cell_type": "code",
   "execution_count": 1,
   "metadata": {},
   "outputs": [
    {
     "name": "stdout",
     "output_type": "stream",
     "text": [
      "hacker\n"
     ]
    }
   ],
   "source": [
    "max_score = [100, 100, 200, 200, 300, 300, 400, 400, 500]\n",
    "score = list(map(int, input().split()))\n",
    "total_score, hacker = 0, 0\n",
    "for i in range(9):\n",
    "    if score[i] > max_score[i]:\n",
    "        hacker = 1\n",
    "    total_score += score[i]\n",
    "if hacker:\n",
    "    print(\"hacker\")\n",
    "else:\n",
    "    print(\"draw\" if total_score >= 100 else \"none\")"
   ]
  },
  {
   "cell_type": "code",
   "execution_count": null,
   "metadata": {},
   "outputs": [],
   "source": []
  },
  {
   "cell_type": "code",
   "execution_count": null,
   "metadata": {},
   "outputs": [],
   "source": []
  }
 ],
 "metadata": {
  "kernelspec": {
   "display_name": "Python 3",
   "language": "python",
   "name": "python3"
  },
  "language_info": {
   "codemirror_mode": {
    "name": "ipython",
    "version": 3
   },
   "file_extension": ".py",
   "mimetype": "text/x-python",
   "name": "python",
   "nbconvert_exporter": "python",
   "pygments_lexer": "ipython3",
   "version": "3.11.1"
  }
 },
 "nbformat": 4,
 "nbformat_minor": 2
}
