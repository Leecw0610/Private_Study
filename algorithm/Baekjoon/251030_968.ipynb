{
 "cells": [
  {
   "cell_type": "markdown",
   "id": "ee470495",
   "metadata": {},
   "source": [
    "### 1639번"
   ]
  },
  {
   "cell_type": "code",
   "execution_count": 1,
   "id": "1130ddac",
   "metadata": {},
   "outputs": [
    {
     "name": "stdout",
     "output_type": "stream",
     "text": [
      "6\n"
     ]
    }
   ],
   "source": [
    "def S_sum(S):        # 좌우 구간 각각의 합을 비교하는 함수\n",
    "    S_L_sum = sum(int(num) for num in S[:len(S) // 2])\n",
    "    S_R_sum = sum(int(num) for num in S[len(S) // 2:])\n",
    "    if S_L_sum == S_R_sum:\n",
    "        return True\n",
    "\n",
    "\n",
    "def S_sliced_len(S):\n",
    "    L = len(S)\n",
    "    if L % 2:        # 문자열의 길이가 홀수일 경우\n",
    "        S1 = S[:-1]\n",
    "        S2 = S[1:]\n",
    "        for i in range(0, L, 2):\n",
    "            for j in range(0, i + 1, 2):\n",
    "                S_sliced = S1[j:L - 1 - i + j]\n",
    "                if S_sum(S_sliced):\n",
    "                    result = len(S_sliced)\n",
    "                    return result\n",
    "            for j in range(0, i + 1, 2):\n",
    "                S_sliced = S2[j:L - 1 - i + j]\n",
    "                if S_sum(S_sliced):\n",
    "                    result = len(S_sliced)\n",
    "                    return result\n",
    "\n",
    "    else:            # 문자열의 길이가 짝수일 경우\n",
    "        for i in range(0, L + 1, 2):    # 부분 문자열 길이에 대한 for문\n",
    "            for j in range(0, i + 1):    # 부분 문자열 위치에 대한 for문\n",
    "                S_sliced = S[j:L - i + j]\n",
    "                if S_sum(S_sliced):        # 부분 문자열 좌우구간 합이 같으면 실행\n",
    "                    return len(S_sliced)\n",
    "\n",
    "\n",
    "S = input()\n",
    "print(S_sliced_len(S))"
   ]
  },
  {
   "cell_type": "code",
   "execution_count": null,
   "id": "b6a3a838",
   "metadata": {},
   "outputs": [],
   "source": []
  },
  {
   "cell_type": "code",
   "execution_count": null,
   "id": "4aa246f1",
   "metadata": {},
   "outputs": [],
   "source": []
  },
  {
   "cell_type": "code",
   "execution_count": null,
   "id": "aae1416a",
   "metadata": {},
   "outputs": [],
   "source": []
  }
 ],
 "metadata": {
  "kernelspec": {
   "display_name": "Python 3",
   "language": "python",
   "name": "python3"
  },
  "language_info": {
   "codemirror_mode": {
    "name": "ipython",
    "version": 3
   },
   "file_extension": ".py",
   "mimetype": "text/x-python",
   "name": "python",
   "nbconvert_exporter": "python",
   "pygments_lexer": "ipython3",
   "version": "3.11.1"
  }
 },
 "nbformat": 4,
 "nbformat_minor": 5
}
