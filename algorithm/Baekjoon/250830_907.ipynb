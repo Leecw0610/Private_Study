{
 "cells": [
  {
   "cell_type": "markdown",
   "id": "9575343a",
   "metadata": {},
   "source": [
    "### 1283번"
   ]
  },
  {
   "cell_type": "code",
   "execution_count": 1,
   "id": "1bd1cbef",
   "metadata": {},
   "outputs": [
    {
     "name": "stdout",
     "output_type": "stream",
     "text": [
      "[N]ew\n",
      "[O]pen\n",
      "[S]ave\n",
      "Save [A]s\n",
      "Sa[v]e all\n"
     ]
    }
   ],
   "source": [
    "n = int(input())\n",
    "\n",
    "exist = []\n",
    "for _ in range(n):\n",
    "    words = list(input().split())\n",
    "\n",
    "    flag = False \n",
    "    for i in range(len(words)):\n",
    "        if words[i][0].upper() not in exist:\n",
    "            exist.append(words[i][0].upper())\n",
    "            flag = True \n",
    "            words[i] = '[' + words[i][0] + ']' + words[i][1:]\n",
    "            print(' '.join(words)) \n",
    "            break \n",
    "\n",
    "    if not flag:\n",
    "        for i in range(len(words)):\n",
    "            check = False \n",
    "            for j in range(len(words[i])):\n",
    "                if words[i][j].upper() not in exist:\n",
    "                    exist.append(words[i][j].upper())\n",
    "                    flag = True \n",
    "                    check = True \n",
    "                    words[i] = words[i][:j] + '[' + words[i][j] + ']' + words[i][j+1:]\n",
    "                    print(' '.join(words))\n",
    "                    break \n",
    "            if check: break \n",
    "\n",
    "    if not flag:\n",
    "        print(' '.join(words))"
   ]
  },
  {
   "cell_type": "code",
   "execution_count": null,
   "id": "4f00c7d7",
   "metadata": {},
   "outputs": [],
   "source": []
  },
  {
   "cell_type": "code",
   "execution_count": null,
   "id": "e7aadec2",
   "metadata": {},
   "outputs": [],
   "source": []
  },
  {
   "cell_type": "code",
   "execution_count": null,
   "id": "5eaf7251",
   "metadata": {},
   "outputs": [],
   "source": []
  }
 ],
 "metadata": {
  "kernelspec": {
   "display_name": "Python 3",
   "language": "python",
   "name": "python3"
  },
  "language_info": {
   "codemirror_mode": {
    "name": "ipython",
    "version": 3
   },
   "file_extension": ".py",
   "mimetype": "text/x-python",
   "name": "python",
   "nbconvert_exporter": "python",
   "pygments_lexer": "ipython3",
   "version": "3.13.6"
  }
 },
 "nbformat": 4,
 "nbformat_minor": 5
}
