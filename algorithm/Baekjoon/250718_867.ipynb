{
 "cells": [
  {
   "cell_type": "markdown",
   "id": "4666f565",
   "metadata": {},
   "source": [
    "### 1003번"
   ]
  },
  {
   "cell_type": "code",
   "execution_count": null,
   "id": "c6e74051",
   "metadata": {},
   "outputs": [
    {
     "name": "stdout",
     "output_type": "stream",
     "text": [
      "1 0\n",
      "0 1\n",
      "1 2\n"
     ]
    }
   ],
   "source": [
    "t = int(input()) # 테스트 케이스\n",
    "for _ in range(t):\n",
    "    n = int(input())\n",
    "\n",
    "    # 0과 1의 호출 횟수(N은 40보다 작거나 같은 자연수 또는 0)\n",
    "    zero = [0] * (41)\n",
    "    one = [0] * (41)\n",
    "    \n",
    "    zero[0], one[0] = 1, 0 # f(0)\n",
    "    zero[1], one[1] = 0, 1 # f(1)\n",
    "\n",
    "    for i in range(2, n+1):\n",
    "        zero[i] = zero[i-1] + zero[i-2]\n",
    "        one[i] = one[i-1] + one[i-2]\n",
    "\n",
    "    print(zero[n], one[n])"
   ]
  },
  {
   "cell_type": "code",
   "execution_count": null,
   "id": "1b5f1ffd",
   "metadata": {},
   "outputs": [],
   "source": []
  },
  {
   "cell_type": "code",
   "execution_count": null,
   "id": "269666a8",
   "metadata": {},
   "outputs": [],
   "source": []
  },
  {
   "cell_type": "code",
   "execution_count": null,
   "id": "b03c5dce",
   "metadata": {},
   "outputs": [],
   "source": []
  }
 ],
 "metadata": {
  "kernelspec": {
   "display_name": "Python 3",
   "language": "python",
   "name": "python3"
  },
  "language_info": {
   "codemirror_mode": {
    "name": "ipython",
    "version": 3
   },
   "file_extension": ".py",
   "mimetype": "text/x-python",
   "name": "python",
   "nbconvert_exporter": "python",
   "pygments_lexer": "ipython3",
   "version": "3.11.1"
  }
 },
 "nbformat": 4,
 "nbformat_minor": 5
}
