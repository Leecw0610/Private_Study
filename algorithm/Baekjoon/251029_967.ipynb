{
 "cells": [
  {
   "cell_type": "markdown",
   "id": "e8ef0100",
   "metadata": {},
   "source": [
    "### 1629번"
   ]
  },
  {
   "cell_type": "code",
   "execution_count": 1,
   "id": "0fd2c9c8",
   "metadata": {},
   "outputs": [
    {
     "name": "stdout",
     "output_type": "stream",
     "text": [
      "4\n"
     ]
    }
   ],
   "source": [
    "def reduce_pow(a, b, c):\n",
    "    if (b == 1):\n",
    "        return a % c\n",
    "\n",
    "    X = reduce_pow(a, b//2, c)\n",
    "\n",
    "    if (b % 2 == 0): # 짝수라면\n",
    "        return X * X % c\n",
    "    else: # 홀수라면\n",
    "        return a * X * X % c\n",
    "\n",
    "A, B, C = map(int, input().split())\n",
    "\n",
    "print(reduce_pow(A, B, C))"
   ]
  },
  {
   "cell_type": "code",
   "execution_count": null,
   "id": "232f85fd",
   "metadata": {},
   "outputs": [],
   "source": []
  },
  {
   "cell_type": "code",
   "execution_count": null,
   "id": "926b1c5a",
   "metadata": {},
   "outputs": [],
   "source": []
  },
  {
   "cell_type": "code",
   "execution_count": null,
   "id": "1d9949b3",
   "metadata": {},
   "outputs": [],
   "source": []
  }
 ],
 "metadata": {
  "kernelspec": {
   "display_name": "Python 3",
   "language": "python",
   "name": "python3"
  },
  "language_info": {
   "codemirror_mode": {
    "name": "ipython",
    "version": 3
   },
   "file_extension": ".py",
   "mimetype": "text/x-python",
   "name": "python",
   "nbconvert_exporter": "python",
   "pygments_lexer": "ipython3",
   "version": "3.11.1"
  }
 },
 "nbformat": 4,
 "nbformat_minor": 5
}
