{
 "cells": [
  {
   "cell_type": "markdown",
   "id": "e2826570",
   "metadata": {},
   "source": [
    "### 32710번"
   ]
  },
  {
   "cell_type": "code",
   "execution_count": null,
   "id": "33ed9c26",
   "metadata": {},
   "outputs": [],
   "source": [
    "N = int(input())\n",
    "check = False\n",
    "\n",
    "for i in range(2, 10):\n",
    "    if not check:  # check이 False 일 때,\n",
    "        for j in range(1, 10):\n",
    "            table = [i, j, i * j]\n",
    "            if N in table:\n",
    "                check = True\n",
    "                break\n",
    "    else:  # check이 True 일 때,\n",
    "        break\n",
    "\n",
    "if check:\n",
    "    print(1)\n",
    "else:\n",
    "    print(0)"
   ]
  },
  {
   "cell_type": "code",
   "execution_count": null,
   "id": "fc2cbcb2",
   "metadata": {},
   "outputs": [],
   "source": []
  },
  {
   "cell_type": "code",
   "execution_count": null,
   "id": "10c5adf8",
   "metadata": {},
   "outputs": [],
   "source": []
  },
  {
   "cell_type": "code",
   "execution_count": null,
   "id": "df4b4fc6",
   "metadata": {},
   "outputs": [],
   "source": []
  }
 ],
 "metadata": {
  "kernelspec": {
   "display_name": "Python 3",
   "language": "python",
   "name": "python3"
  },
  "language_info": {
   "name": "python",
   "version": "3.11.1"
  }
 },
 "nbformat": 4,
 "nbformat_minor": 5
}
