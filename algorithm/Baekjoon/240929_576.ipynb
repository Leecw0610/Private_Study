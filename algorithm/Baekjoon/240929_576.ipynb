{
 "cells": [
  {
   "cell_type": "markdown",
   "metadata": {},
   "source": [
    "### 16431번"
   ]
  },
  {
   "cell_type": "code",
   "execution_count": 1,
   "metadata": {},
   "outputs": [
    {
     "name": "stdout",
     "output_type": "stream",
     "text": [
      "bessie\n"
     ]
    }
   ],
   "source": [
    "Br, Bc = map(int, input().split())\n",
    "Dr, Dc = map(int, input().split())\n",
    "Jr, Jc = map(int, input().split())\n",
    "B = max(abs(Jr-Br), abs(Jc-Bc))\n",
    "D = abs(Jr-Dr) + abs(Jc-Dc)\n",
    "if B == D:\n",
    "    print(\"tie\")\n",
    "elif B < D:\n",
    "    print(\"bessie\")\n",
    "else:\n",
    "    print(\"daisy\")"
   ]
  },
  {
   "cell_type": "code",
   "execution_count": null,
   "metadata": {},
   "outputs": [],
   "source": []
  },
  {
   "cell_type": "code",
   "execution_count": null,
   "metadata": {},
   "outputs": [],
   "source": []
  }
 ],
 "metadata": {
  "kernelspec": {
   "display_name": "Python 3",
   "language": "python",
   "name": "python3"
  },
  "language_info": {
   "codemirror_mode": {
    "name": "ipython",
    "version": 3
   },
   "file_extension": ".py",
   "mimetype": "text/x-python",
   "name": "python",
   "nbconvert_exporter": "python",
   "pygments_lexer": "ipython3",
   "version": "3.11.1"
  }
 },
 "nbformat": 4,
 "nbformat_minor": 2
}
