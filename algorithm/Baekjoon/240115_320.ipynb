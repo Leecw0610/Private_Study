{
 "cells": [
  {
   "cell_type": "markdown",
   "metadata": {},
   "source": [
    "### 6322번"
   ]
  },
  {
   "cell_type": "code",
   "execution_count": 1,
   "metadata": {},
   "outputs": [
    {
     "name": "stdout",
     "output_type": "stream",
     "text": [
      "Triangle #1\n",
      "c = 5.000\n",
      "\n",
      "Triangle #2\n",
      "a = 6.708\n",
      "\n",
      "Triangle #3\n",
      "Impossible.\n"
     ]
    }
   ],
   "source": [
    "cnt = 1\n",
    "while 1:\n",
    "    a, b, c = map(int, input().split())\n",
    "    if a == b == c == 0:\n",
    "        break\n",
    "    if cnt > 1:\n",
    "        print()\n",
    "    print(f\"Triangle #{cnt}\")\n",
    "\n",
    "    if c == -1:\n",
    "        print(\"c = %.3f\" % ((a**2+b**2)**0.5))\n",
    "    elif max(a, b) >= c:\n",
    "        print(\"Impossible.\")\n",
    "    elif a == -1:\n",
    "        print(\"a = %.3f\" % ((c**2-b**2)**0.5))\n",
    "    elif b == -1:\n",
    "        print(\"b = %.3f\" % ((c**2-a**2)**0.5))\n",
    "    cnt += 1"
   ]
  },
  {
   "cell_type": "code",
   "execution_count": null,
   "metadata": {},
   "outputs": [],
   "source": []
  },
  {
   "cell_type": "code",
   "execution_count": null,
   "metadata": {},
   "outputs": [],
   "source": []
  }
 ],
 "metadata": {
  "kernelspec": {
   "display_name": "Python 3",
   "language": "python",
   "name": "python3"
  },
  "language_info": {
   "codemirror_mode": {
    "name": "ipython",
    "version": 3
   },
   "file_extension": ".py",
   "mimetype": "text/x-python",
   "name": "python",
   "nbconvert_exporter": "python",
   "pygments_lexer": "ipython3",
   "version": "3.11.1"
  }
 },
 "nbformat": 4,
 "nbformat_minor": 2
}
