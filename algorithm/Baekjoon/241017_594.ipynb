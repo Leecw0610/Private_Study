{
 "cells": [
  {
   "cell_type": "markdown",
   "metadata": {
    "vscode": {
     "languageId": "plaintext"
    }
   },
   "source": [
    "### 17202번"
   ]
  },
  {
   "cell_type": "code",
   "execution_count": 1,
   "metadata": {},
   "outputs": [
    {
     "name": "stdout",
     "output_type": "stream",
     "text": [
      "02\n"
     ]
    }
   ],
   "source": [
    "A = list(map(int, input()))\n",
    "B = list(map(int, input()))\n",
    "arr = [0]*16\n",
    "for i in range(16):\n",
    "    if i % 2 == 0:\n",
    "        arr[i] = A[i//2]\n",
    "    else:\n",
    "        arr[i] = B[i//2]\n",
    "\n",
    "#print(arr)\n",
    "\n",
    "while len(arr) != 2:\n",
    "    temp = []\n",
    "    for i in range(len(arr)-1):\n",
    "        num = (arr[i]+arr[i+1]) % 10\n",
    "        temp.append(num)\n",
    "    arr = temp\n",
    "\n",
    "print(*arr, sep=\"\")"
   ]
  },
  {
   "cell_type": "code",
   "execution_count": null,
   "metadata": {},
   "outputs": [],
   "source": []
  },
  {
   "cell_type": "code",
   "execution_count": null,
   "metadata": {},
   "outputs": [],
   "source": []
  }
 ],
 "metadata": {
  "kernelspec": {
   "display_name": "Python 3",
   "language": "python",
   "name": "python3"
  },
  "language_info": {
   "codemirror_mode": {
    "name": "ipython",
    "version": 3
   },
   "file_extension": ".py",
   "mimetype": "text/x-python",
   "name": "python",
   "nbconvert_exporter": "python",
   "pygments_lexer": "ipython3",
   "version": "3.11.1"
  }
 },
 "nbformat": 4,
 "nbformat_minor": 2
}
