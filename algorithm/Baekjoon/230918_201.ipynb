{
 "cells": [
  {
   "cell_type": "markdown",
   "metadata": {},
   "source": [
    "### 2947번"
   ]
  },
  {
   "cell_type": "code",
   "execution_count": 1,
   "metadata": {},
   "outputs": [
    {
     "name": "stdout",
     "output_type": "stream",
     "text": [
      "2 3 4 1 5\n",
      "2 3 1 4 5\n",
      "2 1 3 4 5\n",
      "1 2 3 4 5\n"
     ]
    }
   ],
   "source": [
    "tree = list(map(int, input().split()))\n",
    "answer = [1, 2, 3, 4, 5]\n",
    "\n",
    "while True:\n",
    "    for i in range(len(tree) - 1):\n",
    "        if tree[i] > tree[i + 1]:\n",
    "            tree[i], tree[i + 1] = tree[i + 1], tree[i]\n",
    "            print(\" \".join(map(str, tree)))\n",
    "\n",
    "    if tree == answer:\n",
    "        break"
   ]
  },
  {
   "cell_type": "code",
   "execution_count": null,
   "metadata": {},
   "outputs": [],
   "source": []
  },
  {
   "cell_type": "code",
   "execution_count": null,
   "metadata": {},
   "outputs": [],
   "source": []
  },
  {
   "cell_type": "code",
   "execution_count": null,
   "metadata": {},
   "outputs": [],
   "source": []
  }
 ],
 "metadata": {
  "kernelspec": {
   "display_name": "Python 3",
   "language": "python",
   "name": "python3"
  },
  "language_info": {
   "codemirror_mode": {
    "name": "ipython",
    "version": 3
   },
   "file_extension": ".py",
   "mimetype": "text/x-python",
   "name": "python",
   "nbconvert_exporter": "python",
   "pygments_lexer": "ipython3",
   "version": "3.11.1"
  },
  "orig_nbformat": 4
 },
 "nbformat": 4,
 "nbformat_minor": 2
}
