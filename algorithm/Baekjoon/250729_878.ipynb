{
 "cells": [
  {
   "cell_type": "markdown",
   "id": "ff69755f",
   "metadata": {},
   "source": [
    "### 1059번"
   ]
  },
  {
   "cell_type": "code",
   "execution_count": null,
   "id": "5f8abada",
   "metadata": {},
   "outputs": [],
   "source": [
    "import sys\n",
    "L = int(sys.stdin.readline())\n",
    "nums = list(map(int, sys.stdin.readline().split()))\n",
    "n = int(sys.stdin.readline())\n",
    "nums.sort()  # 두 수 사이에 있는 n을 찾아야 하므로 정렬\n",
    "if n in nums:\n",
    "    print(0)\n",
    "else:\n",
    "    min = 0\n",
    "    max = 0\n",
    "    for num in nums:            # 배열중에서 n과 가장 근접한 두 수를 구한다.\n",
    "        if num < n:     \n",
    "            min = num\n",
    "        elif num > n and max == 0:\n",
    "            max = num\n",
    "    max -= 1                    # 1과 7사이에 n이 2이면 1과 7은 제외\n",
    "    min += 1\n",
    "    print((n-min)*(max-n+1) + (max-n))\n",
    "    # n보다 작은 수와 만족할 경우 + n보다 큰 수와 만족할 경우"
   ]
  },
  {
   "cell_type": "code",
   "execution_count": null,
   "id": "f2f3aa76",
   "metadata": {},
   "outputs": [],
   "source": []
  },
  {
   "cell_type": "code",
   "execution_count": null,
   "id": "1c27b362",
   "metadata": {},
   "outputs": [],
   "source": []
  },
  {
   "cell_type": "code",
   "execution_count": null,
   "id": "0471ff2e",
   "metadata": {},
   "outputs": [],
   "source": []
  }
 ],
 "metadata": {
  "kernelspec": {
   "display_name": "Python 3",
   "language": "python",
   "name": "python3"
  },
  "language_info": {
   "codemirror_mode": {
    "name": "ipython",
    "version": 3
   },
   "file_extension": ".py",
   "mimetype": "text/x-python",
   "name": "python",
   "nbconvert_exporter": "python",
   "pygments_lexer": "ipython3",
   "version": "3.11.1"
  }
 },
 "nbformat": 4,
 "nbformat_minor": 5
}
