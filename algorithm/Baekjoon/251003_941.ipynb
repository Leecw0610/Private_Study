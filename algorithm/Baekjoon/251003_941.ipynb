{
 "cells": [
  {
   "cell_type": "markdown",
   "id": "98732737",
   "metadata": {},
   "source": [
    "### 1459번"
   ]
  },
  {
   "cell_type": "code",
   "execution_count": 1,
   "id": "3b3d9381",
   "metadata": {},
   "outputs": [
    {
     "name": "stdout",
     "output_type": "stream",
     "text": [
      "20\n"
     ]
    }
   ],
   "source": [
    "X, Y, W, S = map(int, input().split())\n",
    "X, Y = min(X, Y), max(X, Y)\n",
    "if S < W*2:\n",
    "    s, b = min(X, Y), max(X, Y)\n",
    "    if S <= W:\n",
    "        m = (X+Y)%2\n",
    "        print((Y-m)*S + m*W)\n",
    "    else:\n",
    "        print(X*S + (Y-X)*W)\n",
    "else:\n",
    "    print((X+Y)*W)"
   ]
  },
  {
   "cell_type": "code",
   "execution_count": null,
   "id": "1c38148c",
   "metadata": {},
   "outputs": [],
   "source": []
  },
  {
   "cell_type": "code",
   "execution_count": null,
   "id": "c761f485",
   "metadata": {},
   "outputs": [],
   "source": []
  },
  {
   "cell_type": "code",
   "execution_count": null,
   "id": "a60c5d37",
   "metadata": {},
   "outputs": [],
   "source": []
  }
 ],
 "metadata": {
  "kernelspec": {
   "display_name": "Python 3",
   "language": "python",
   "name": "python3"
  },
  "language_info": {
   "codemirror_mode": {
    "name": "ipython",
    "version": 3
   },
   "file_extension": ".py",
   "mimetype": "text/x-python",
   "name": "python",
   "nbconvert_exporter": "python",
   "pygments_lexer": "ipython3",
   "version": "3.13.6"
  }
 },
 "nbformat": 4,
 "nbformat_minor": 5
}
