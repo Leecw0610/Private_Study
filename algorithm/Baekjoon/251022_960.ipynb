{
 "cells": [
  {
   "cell_type": "markdown",
   "id": "390a728c",
   "metadata": {},
   "source": [
    "### 1544번"
   ]
  },
  {
   "cell_type": "code",
   "execution_count": null,
   "id": "e4c581e0",
   "metadata": {},
   "outputs": [],
   "source": [
    "from collections import deque\n",
    "import sys\n",
    "input = sys.stdin.readline\n",
    "\n",
    "N = int(input())\n",
    "cycle_words = list()\n",
    "for _ in range(N):\n",
    "    flag = False\n",
    "    word = deque(input().rstrip())\n",
    "    for words in cycle_words:\n",
    "        if ''.join(list(word)) in words:\n",
    "            flag = True\n",
    "            break\n",
    "    if flag:\n",
    "        continue\n",
    "    words = list()\n",
    "    for _ in range(len(word)):\n",
    "        word.rotate(1)\n",
    "        words.append(''.join(list(word)))\n",
    "    cycle_words.append(words)\n",
    "print(len(cycle_words))"
   ]
  },
  {
   "cell_type": "code",
   "execution_count": null,
   "id": "06794b13",
   "metadata": {},
   "outputs": [],
   "source": []
  },
  {
   "cell_type": "code",
   "execution_count": null,
   "id": "e363c16d",
   "metadata": {},
   "outputs": [],
   "source": []
  },
  {
   "cell_type": "code",
   "execution_count": null,
   "id": "5beca87c",
   "metadata": {},
   "outputs": [],
   "source": []
  }
 ],
 "metadata": {
  "kernelspec": {
   "display_name": "Python 3",
   "language": "python",
   "name": "python3"
  },
  "language_info": {
   "codemirror_mode": {
    "name": "ipython",
    "version": 3
   },
   "file_extension": ".py",
   "mimetype": "text/x-python",
   "name": "python",
   "nbconvert_exporter": "python",
   "pygments_lexer": "ipython3",
   "version": "3.13.6"
  }
 },
 "nbformat": 4,
 "nbformat_minor": 5
}
