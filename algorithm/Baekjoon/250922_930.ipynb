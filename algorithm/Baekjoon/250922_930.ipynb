{
 "cells": [
  {
   "cell_type": "markdown",
   "id": "bb1f6ae5",
   "metadata": {},
   "source": [
    "### 1406번"
   ]
  },
  {
   "cell_type": "code",
   "execution_count": 2,
   "id": "9090f270",
   "metadata": {},
   "outputs": [
    {
     "name": "stdout",
     "output_type": "stream",
     "text": [
      "abcdyx\n"
     ]
    }
   ],
   "source": [
    "string_list = list(input())\n",
    "cursor = len(string_list)\n",
    "\n",
    "for _ in range(int(input())):\n",
    "    command = list(input().split())\n",
    "    if command[0] == 'P':\n",
    "        string_list.insert(cursor, command[1])\n",
    "        cursor += 1\n",
    "\n",
    "    elif command[0] == 'L':\n",
    "        if cursor > 0:\n",
    "            cursor -= 1\n",
    "\n",
    "    elif command[0] =='D':\n",
    "        if cursor < len(string_list):\n",
    "            cursor += 1\n",
    "\n",
    "    else:\n",
    "        if cursor > 0:\n",
    "            string_list.remove(string_list[cursor-1])\n",
    "\n",
    "print(''.join(string_list))"
   ]
  },
  {
   "cell_type": "code",
   "execution_count": null,
   "id": "f7de7267",
   "metadata": {},
   "outputs": [],
   "source": []
  },
  {
   "cell_type": "code",
   "execution_count": null,
   "id": "7335f4ff",
   "metadata": {},
   "outputs": [],
   "source": []
  },
  {
   "cell_type": "code",
   "execution_count": null,
   "id": "a821eaf0",
   "metadata": {},
   "outputs": [],
   "source": []
  }
 ],
 "metadata": {
  "kernelspec": {
   "display_name": "Python 3",
   "language": "python",
   "name": "python3"
  },
  "language_info": {
   "codemirror_mode": {
    "name": "ipython",
    "version": 3
   },
   "file_extension": ".py",
   "mimetype": "text/x-python",
   "name": "python",
   "nbconvert_exporter": "python",
   "pygments_lexer": "ipython3",
   "version": "3.13.6"
  }
 },
 "nbformat": 4,
 "nbformat_minor": 5
}
