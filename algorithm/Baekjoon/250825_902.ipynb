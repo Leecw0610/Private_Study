{
 "cells": [
  {
   "cell_type": "markdown",
   "id": "27c4df6f",
   "metadata": {},
   "source": [
    "### 1251번"
   ]
  },
  {
   "cell_type": "code",
   "execution_count": 1,
   "id": "0a87e6b9",
   "metadata": {},
   "outputs": [
    {
     "name": "stdout",
     "output_type": "stream",
     "text": [
      "bometil\n"
     ]
    }
   ],
   "source": [
    "word = list(input())\n",
    "answer = []\n",
    "tmp = []\n",
    "\n",
    "for i in range(1, len(word) - 1):\n",
    "    for j in range(i + 1, len(word) ):\n",
    "        a = word[:i]\n",
    "        b = word[i:j]\n",
    "        c = word[j:]\n",
    "        a.reverse()\n",
    "        b.reverse()\n",
    "        c.reverse()\n",
    "        tmp.append(a + b + c)\n",
    "\n",
    "for a in tmp:\n",
    "    answer.append(''.join(a))\n",
    "\n",
    "print(sorted(answer)[0])"
   ]
  },
  {
   "cell_type": "code",
   "execution_count": null,
   "id": "afbe3265",
   "metadata": {},
   "outputs": [],
   "source": []
  },
  {
   "cell_type": "code",
   "execution_count": null,
   "id": "ec293ad2",
   "metadata": {},
   "outputs": [],
   "source": []
  },
  {
   "cell_type": "code",
   "execution_count": null,
   "id": "93ae2377",
   "metadata": {},
   "outputs": [],
   "source": []
  }
 ],
 "metadata": {
  "kernelspec": {
   "display_name": "Python 3",
   "language": "python",
   "name": "python3"
  },
  "language_info": {
   "codemirror_mode": {
    "name": "ipython",
    "version": 3
   },
   "file_extension": ".py",
   "mimetype": "text/x-python",
   "name": "python",
   "nbconvert_exporter": "python",
   "pygments_lexer": "ipython3",
   "version": "3.13.6"
  }
 },
 "nbformat": 4,
 "nbformat_minor": 5
}
