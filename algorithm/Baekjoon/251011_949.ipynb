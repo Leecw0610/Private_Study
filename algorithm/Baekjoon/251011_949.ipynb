{
 "cells": [
  {
   "cell_type": "markdown",
   "id": "c58a60dc",
   "metadata": {},
   "source": [
    "### 1495번"
   ]
  },
  {
   "cell_type": "code",
   "execution_count": 1,
   "id": "39ac3a58",
   "metadata": {},
   "outputs": [
    {
     "name": "stdout",
     "output_type": "stream",
     "text": [
      "-1\n"
     ]
    }
   ],
   "source": [
    "n, s, m = map(int, input().split())\n",
    "v = list(map(int, input().split()))\n",
    "dp = [[0] * (m+1) for _ in range(n+1)]\n",
    "dp[0][s] = 1\n",
    "\n",
    "for i in range(n):\n",
    "    for j in range(m+1):\n",
    "        if dp[i][j] == 1:\n",
    "            if j+v[i] <= m:\n",
    "                dp[i+1][j+v[i]] = 1\n",
    "            if j-v[i] >= 0:\n",
    "                dp[i+1][j-v[i]] = 1\n",
    "\n",
    "ans = -1\n",
    "for i in range(m, -1, -1):\n",
    "    if dp[n][i]==1:\n",
    "        ans = i\n",
    "        break\n",
    "print(ans)"
   ]
  },
  {
   "cell_type": "code",
   "execution_count": null,
   "id": "dca11abb",
   "metadata": {},
   "outputs": [],
   "source": []
  },
  {
   "cell_type": "code",
   "execution_count": null,
   "id": "0724e4ca",
   "metadata": {},
   "outputs": [],
   "source": []
  },
  {
   "cell_type": "code",
   "execution_count": null,
   "id": "d532e667",
   "metadata": {},
   "outputs": [],
   "source": []
  }
 ],
 "metadata": {
  "kernelspec": {
   "display_name": "Python 3",
   "language": "python",
   "name": "python3"
  },
  "language_info": {
   "codemirror_mode": {
    "name": "ipython",
    "version": 3
   },
   "file_extension": ".py",
   "mimetype": "text/x-python",
   "name": "python",
   "nbconvert_exporter": "python",
   "pygments_lexer": "ipython3",
   "version": "3.13.6"
  }
 },
 "nbformat": 4,
 "nbformat_minor": 5
}
