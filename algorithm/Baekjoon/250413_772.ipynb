{
 "cells": [
  {
   "cell_type": "markdown",
   "id": "3337ca52",
   "metadata": {},
   "source": [
    "### 30032번"
   ]
  },
  {
   "cell_type": "code",
   "execution_count": 1,
   "id": "f88e075b",
   "metadata": {},
   "outputs": [
    {
     "name": "stdout",
     "output_type": "stream",
     "text": [
      "bbb\n",
      "ddd\n",
      "bbb\n"
     ]
    }
   ],
   "source": [
    "N, D = map(int, input().split())\n",
    "\n",
    "for _ in range(N):\n",
    "    result = \"\"\n",
    "    word = input()\n",
    "    if D == 1:\n",
    "        for i in word:\n",
    "            if i == \"d\":\n",
    "                result += \"q\"\n",
    "            elif i == \"q\":\n",
    "                result += \"d\"\n",
    "            elif i == \"b\":\n",
    "                result += \"p\"\n",
    "            elif i == \"p\":\n",
    "                result += \"b\"\n",
    "    elif D == 2:\n",
    "        for i in word:\n",
    "            if i == \"d\":\n",
    "                result += \"b\"\n",
    "            elif i == \"b\":\n",
    "                result += \"d\"\n",
    "            elif i == \"q\":\n",
    "                result += \"p\"\n",
    "            elif i == \"p\":\n",
    "                result += \"q\"\n",
    "    print(result)"
   ]
  },
  {
   "cell_type": "code",
   "execution_count": null,
   "id": "1515e778",
   "metadata": {},
   "outputs": [],
   "source": []
  },
  {
   "cell_type": "code",
   "execution_count": null,
   "id": "19ee19a7",
   "metadata": {},
   "outputs": [],
   "source": []
  },
  {
   "cell_type": "code",
   "execution_count": null,
   "id": "ca475407",
   "metadata": {},
   "outputs": [],
   "source": []
  }
 ],
 "metadata": {
  "kernelspec": {
   "display_name": "Python 3",
   "language": "python",
   "name": "python3"
  },
  "language_info": {
   "codemirror_mode": {
    "name": "ipython",
    "version": 3
   },
   "file_extension": ".py",
   "mimetype": "text/x-python",
   "name": "python",
   "nbconvert_exporter": "python",
   "pygments_lexer": "ipython3",
   "version": "3.11.1"
  }
 },
 "nbformat": 4,
 "nbformat_minor": 5
}
