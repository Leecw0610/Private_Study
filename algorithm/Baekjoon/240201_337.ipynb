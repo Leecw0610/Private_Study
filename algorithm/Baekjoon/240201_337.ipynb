{
 "cells": [
  {
   "cell_type": "markdown",
   "metadata": {},
   "source": [
    "### 7489번"
   ]
  },
  {
   "cell_type": "code",
   "execution_count": 1,
   "metadata": {},
   "outputs": [],
   "source": [
    "import sys\n",
    "\n",
    "def newfactorial(n):\n",
    "    ans = 1\n",
    "    for i in range(1, n + 1):\n",
    "        ans *= i\n",
    "        ans %= 1000000000000\n",
    "        while ans % 10 == 0: ans /= 10\n",
    "    return int (ans % 10)\n",
    "for _ in range(int(sys.stdin.readline())):\n",
    "    n = int(sys.stdin.readline())\n",
    "    print(newfactorial(n))"
   ]
  },
  {
   "cell_type": "code",
   "execution_count": null,
   "metadata": {},
   "outputs": [],
   "source": []
  },
  {
   "cell_type": "code",
   "execution_count": null,
   "metadata": {},
   "outputs": [],
   "source": []
  }
 ],
 "metadata": {
  "kernelspec": {
   "display_name": "Python 3",
   "language": "python",
   "name": "python3"
  },
  "language_info": {
   "codemirror_mode": {
    "name": "ipython",
    "version": 3
   },
   "file_extension": ".py",
   "mimetype": "text/x-python",
   "name": "python",
   "nbconvert_exporter": "python",
   "pygments_lexer": "ipython3",
   "version": "3.11.1"
  }
 },
 "nbformat": 4,
 "nbformat_minor": 2
}
