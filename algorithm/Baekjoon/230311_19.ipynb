{
 "cells": [
  {
   "cell_type": "markdown",
   "metadata": {},
   "source": [
    "### 2750번"
   ]
  },
  {
   "cell_type": "code",
   "execution_count": 3,
   "metadata": {},
   "outputs": [
    {
     "name": "stdout",
     "output_type": "stream",
     "text": [
      "1\n",
      "2\n",
      "3\n",
      "4\n",
      "5\n"
     ]
    }
   ],
   "source": [
    "N = int(input())\n",
    "temp = []\n",
    "\n",
    "for _ in range(N):\n",
    "    temp.append(int(input()))\n",
    "temp = sorted(temp)\n",
    "for i in temp:\n",
    "    print(i)"
   ]
  },
  {
   "cell_type": "markdown",
   "metadata": {},
   "source": [
    "### 2587번"
   ]
  },
  {
   "cell_type": "code",
   "execution_count": 8,
   "metadata": {},
   "outputs": [
    {
     "name": "stdout",
     "output_type": "stream",
     "text": [
      "34\n",
      "30\n"
     ]
    }
   ],
   "source": [
    "temp = []\n",
    "summ = 0\n",
    "for _ in range(5):\n",
    "    i = int(input())\n",
    "    temp.append(i)\n",
    "    summ += i\n",
    "temp = sorted(temp)\n",
    "print(int(summ / 5))\n",
    "print(temp[2])"
   ]
  },
  {
   "cell_type": "markdown",
   "metadata": {},
   "source": [
    "### 25305번"
   ]
  },
  {
   "cell_type": "code",
   "execution_count": 12,
   "metadata": {},
   "outputs": [
    {
     "name": "stdout",
     "output_type": "stream",
     "text": [
      "98\n"
     ]
    }
   ],
   "source": [
    "N, k = map(int, input().split())\n",
    "\n",
    "stu_score = list(map(int, input().split()))\n",
    "stu_score = sorted(stu_score, reverse=True)\n",
    "print(stu_score[k-1])"
   ]
  },
  {
   "cell_type": "code",
   "execution_count": 9,
   "metadata": {},
   "outputs": [],
   "source": [
    "lis = [1,2,3]"
   ]
  },
  {
   "cell_type": "code",
   "execution_count": 10,
   "metadata": {},
   "outputs": [
    {
     "data": {
      "text/plain": [
       "[3, 2, 1]"
      ]
     },
     "execution_count": 10,
     "metadata": {},
     "output_type": "execute_result"
    }
   ],
   "source": [
    "sorted(lis, reverse=True)"
   ]
  },
  {
   "cell_type": "code",
   "execution_count": 11,
   "metadata": {},
   "outputs": [
    {
     "data": {
      "text/plain": [
       "[1, 2, 3]"
      ]
     },
     "execution_count": 11,
     "metadata": {},
     "output_type": "execute_result"
    }
   ],
   "source": [
    "lis"
   ]
  },
  {
   "cell_type": "markdown",
   "metadata": {},
   "source": [
    "### 2751번"
   ]
  },
  {
   "cell_type": "code",
   "execution_count": 13,
   "metadata": {},
   "outputs": [
    {
     "name": "stdout",
     "output_type": "stream",
     "text": [
      "1\n",
      "2\n",
      "3\n",
      "4\n",
      "5\n"
     ]
    }
   ],
   "source": [
    "N = int(input())\n",
    "temp = []\n",
    "\n",
    "for _ in range(N):\n",
    "    temp.append(int(input()))\n",
    "temp = sorted(temp)\n",
    "for i in temp:\n",
    "    print(i)"
   ]
  },
  {
   "cell_type": "markdown",
   "metadata": {},
   "source": [
    "### 10989번"
   ]
  },
  {
   "cell_type": "code",
   "execution_count": 14,
   "metadata": {},
   "outputs": [
    {
     "name": "stdout",
     "output_type": "stream",
     "text": [
      "1\n",
      "1\n",
      "2\n",
      "2\n",
      "3\n",
      "3\n",
      "3\n",
      "4\n",
      "5\n",
      "5\n"
     ]
    }
   ],
   "source": [
    "N = int(input())\n",
    "temp = []\n",
    "\n",
    "for _ in range(N):\n",
    "    temp.append(int(input()))\n",
    "temp = sorted(temp)\n",
    "for i in temp:\n",
    "    print(i)"
   ]
  },
  {
   "cell_type": "code",
   "execution_count": 15,
   "metadata": {},
   "outputs": [],
   "source": [
    "import sys\n",
    "\n",
    "n = int(sys.stdin.readline())\n",
    "array = [0] * 10001\n",
    "\n",
    "for i in range(n):\n",
    "    data = int(sys.stdin.readline())\n",
    "    array[data] += 1\n",
    "\n",
    "for i in range(10001):\n",
    "    if array[i] != 0:\n",
    "        for j in range(array[i]):\n",
    "            print(i)"
   ]
  },
  {
   "cell_type": "markdown",
   "metadata": {},
   "source": [
    "### 2108번"
   ]
  },
  {
   "cell_type": "code",
   "execution_count": 34,
   "metadata": {},
   "outputs": [
    {
     "name": "stdout",
     "output_type": "stream",
     "text": [
      "2\n",
      "2\n",
      "1\n",
      "10\n"
     ]
    }
   ],
   "source": [
    "N = int(input())\n",
    "temp = []\n",
    "summ = 0\n",
    "\n",
    "for _ in range(N):\n",
    "    i = int(input())\n",
    "    temp.append(i)\n",
    "    summ += i\n",
    "temp = sorted(temp)\n",
    "\n",
    "from collections import Counter\n",
    "\n",
    "def most_c(array):\n",
    "    answer = Counter(array)\n",
    "    most = answer.most_common()\n",
    "\n",
    "    if len(answer) == 1:\n",
    "        return most[0][0]\n",
    "    else:\n",
    "        first = most[0][0]\n",
    "        second = most[1][0]\n",
    "\n",
    "        if most[0][1] == most[1][1]:\n",
    "            return second\n",
    "        else:\n",
    "            return first\n",
    "\n",
    "# print(temp)\n",
    "\n",
    "print(round(summ / N))\n",
    "print(temp[N//2])\n",
    "print(most_c(temp))\n",
    "print(temp[-1] - temp[0])\n"
   ]
  },
  {
   "cell_type": "code",
   "execution_count": 29,
   "metadata": {},
   "outputs": [],
   "source": [
    "\n",
    "\n",
    "from collections import Counter\n",
    "\n",
    "def most_c(array):\n",
    "    answer = Counter(array)\n",
    "    most = answer.most_common()\n",
    "\n",
    "    if len(answer) == 1:\n",
    "        return most[0][0]\n",
    "    else:\n",
    "        first = most[0][0]\n",
    "        second = most[1][0]\n",
    "\n",
    "        if most[0][1] == most[1][1]:\n",
    "            return second\n",
    "        else:\n",
    "            return first\n",
    "\n"
   ]
  },
  {
   "cell_type": "code",
   "execution_count": 30,
   "metadata": {},
   "outputs": [
    {
     "name": "stdout",
     "output_type": "stream",
     "text": [
      "[-3, -2, -2, -1, -1]\n"
     ]
    },
    {
     "data": {
      "text/plain": [
       "-1"
      ]
     },
     "execution_count": 30,
     "metadata": {},
     "output_type": "execute_result"
    }
   ],
   "source": [
    "t = [-1,-2,-3,-1,-2]\n",
    "t = sorted(t)\n",
    "print(t)\n",
    "most_c(t)"
   ]
  },
  {
   "cell_type": "code",
   "execution_count": 3,
   "metadata": {},
   "outputs": [
    {
     "data": {
      "text/plain": [
       "3"
      ]
     },
     "execution_count": 3,
     "metadata": {},
     "output_type": "execute_result"
    }
   ],
   "source": [
    "round(3.141592)"
   ]
  },
  {
   "cell_type": "code",
   "execution_count": null,
   "metadata": {},
   "outputs": [],
   "source": [
    "import sys\n",
    "\n",
    "n = int(sys.stdin.readline())\n",
    "temp = []\n",
    "\n",
    "for i in range(n):\n",
    "    data = int(sys.stdin.readline())"
   ]
  }
 ],
 "metadata": {
  "kernelspec": {
   "display_name": "base",
   "language": "python",
   "name": "python3"
  },
  "language_info": {
   "codemirror_mode": {
    "name": "ipython",
    "version": 3
   },
   "file_extension": ".py",
   "mimetype": "text/x-python",
   "name": "python",
   "nbconvert_exporter": "python",
   "pygments_lexer": "ipython3",
   "version": "3.9.15"
  },
  "orig_nbformat": 4
 },
 "nbformat": 4,
 "nbformat_minor": 2
}
