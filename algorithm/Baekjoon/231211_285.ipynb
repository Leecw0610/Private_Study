{
 "cells": [
  {
   "cell_type": "markdown",
   "metadata": {},
   "source": [
    "### 5355번"
   ]
  },
  {
   "cell_type": "code",
   "execution_count": null,
   "metadata": {},
   "outputs": [],
   "source": [
    "case = int(input())\n",
    "\n",
    "for _ in range(case):\n",
    "    mars = list(map(str, input().split()))\n",
    "    answer = 0\n",
    "    for i in range(len(mars)):\n",
    "        if i == 0:\n",
    "            answer += float(mars[i])\n",
    "        else:\n",
    "            if mars[i] == \"#\":\n",
    "                answer -= 7\n",
    "            elif mars[i] == \"%\":\n",
    "                answer += 5\n",
    "            elif mars[i] == \"@\":\n",
    "                answer *= 3\n",
    "\n",
    "    print(\"%0.2f\" % answer)"
   ]
  },
  {
   "cell_type": "code",
   "execution_count": null,
   "metadata": {},
   "outputs": [],
   "source": []
  },
  {
   "cell_type": "code",
   "execution_count": null,
   "metadata": {},
   "outputs": [],
   "source": []
  },
  {
   "cell_type": "code",
   "execution_count": null,
   "metadata": {},
   "outputs": [],
   "source": []
  }
 ],
 "metadata": {
  "kernelspec": {
   "display_name": "Python 3",
   "language": "python",
   "name": "python3"
  },
  "language_info": {
   "name": "python",
   "version": "3.11.1"
  }
 },
 "nbformat": 4,
 "nbformat_minor": 2
}
