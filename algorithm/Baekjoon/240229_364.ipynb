{
 "cells": [
  {
   "cell_type": "markdown",
   "metadata": {},
   "source": [
    "### 8932번"
   ]
  },
  {
   "cell_type": "code",
   "execution_count": 2,
   "metadata": {},
   "outputs": [
    {
     "name": "stdout",
     "output_type": "stream",
     "text": [
      "2901\n",
      "3419\n",
      "3772\n"
     ]
    }
   ],
   "source": [
    "def track(A, B, C, P):\n",
    "    return int(A * (B-P)**C)\n",
    "\n",
    "def field(A, B, C, P):\n",
    "    return int(A * (P-B)**C)\n",
    "\n",
    "for _ in range(int(input())):\n",
    "    li = list(map(int, input().split()))\n",
    "    res = track(9.23076, 26.7, 1.835, li[0]) + field(1.84523, 75, 1.348, li[1]) + \\\n",
    "        field(56.0211, 1.5, 1.05, li[2]) + track(4.99087, 42.5, 1.81, li[3]) + \\\n",
    "        field(0.188807, 210, 1.41, li[4]) + field(15.9803, 3.8, 1.04, li[5]) + \\\n",
    "        track(0.11193, 254, 1.88, li[6])\n",
    "    print(res)"
   ]
  },
  {
   "cell_type": "code",
   "execution_count": null,
   "metadata": {},
   "outputs": [],
   "source": []
  },
  {
   "cell_type": "code",
   "execution_count": null,
   "metadata": {},
   "outputs": [],
   "source": []
  }
 ],
 "metadata": {
  "kernelspec": {
   "display_name": "Python 3",
   "language": "python",
   "name": "python3"
  },
  "language_info": {
   "codemirror_mode": {
    "name": "ipython",
    "version": 3
   },
   "file_extension": ".py",
   "mimetype": "text/x-python",
   "name": "python",
   "nbconvert_exporter": "python",
   "pygments_lexer": "ipython3",
   "version": "3.11.1"
  }
 },
 "nbformat": 4,
 "nbformat_minor": 2
}
