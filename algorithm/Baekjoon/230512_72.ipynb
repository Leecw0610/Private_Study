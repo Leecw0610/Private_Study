{
 "cells": [
  {
   "attachments": {},
   "cell_type": "markdown",
   "metadata": {},
   "source": [
    "### 1362번"
   ]
  },
  {
   "cell_type": "code",
   "execution_count": 1,
   "metadata": {},
   "outputs": [],
   "source": [
    "from sys import stdin\n",
    "input = stdin.readline\n",
    "\n",
    "scene_num = 0\n",
    "state = [\":-)\", \":-(\", \"RIP\"]\n",
    "\n",
    "while (n:=input().split()) != [\"0\", \"0\"]:\n",
    "    o, w = map(int, n)\n",
    "    while (m:=input().split()) != [\"#\", \"0\"]:\n",
    "        if w > 0:\n",
    "            if m[0] == \"F\":\n",
    "                w += int(m[1])\n",
    "            else:\n",
    "                w -= int(m[1])\n",
    "\n",
    "    scene_num += 1\n",
    "    if (o * 0.5) < w < (o * 2):\n",
    "        print(scene_num, state[0])\n",
    "    elif w <= 0:\n",
    "        print(scene_num, state[2])\n",
    "    else:\n",
    "        print(scene_num, state[1])"
   ]
  },
  {
   "cell_type": "code",
   "execution_count": null,
   "metadata": {},
   "outputs": [],
   "source": []
  },
  {
   "cell_type": "code",
   "execution_count": null,
   "metadata": {},
   "outputs": [],
   "source": []
  },
  {
   "cell_type": "code",
   "execution_count": null,
   "metadata": {},
   "outputs": [],
   "source": []
  }
 ],
 "metadata": {
  "kernelspec": {
   "display_name": "Python 3",
   "language": "python",
   "name": "python3"
  },
  "language_info": {
   "codemirror_mode": {
    "name": "ipython",
    "version": 3
   },
   "file_extension": ".py",
   "mimetype": "text/x-python",
   "name": "python",
   "nbconvert_exporter": "python",
   "pygments_lexer": "ipython3",
   "version": "3.11.1"
  },
  "orig_nbformat": 4
 },
 "nbformat": 4,
 "nbformat_minor": 2
}
