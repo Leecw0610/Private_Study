{
 "cells": [
  {
   "cell_type": "markdown",
   "metadata": {
    "vscode": {
     "languageId": "plaintext"
    }
   },
   "source": [
    "### 23881번"
   ]
  },
  {
   "cell_type": "code",
   "execution_count": null,
   "metadata": {},
   "outputs": [],
   "source": [
    "import sys\n",
    "def select_sort(x, num):\n",
    "    cnt = 0\n",
    "    for i in range(len(x)-1,0,-1):\n",
    "        max = i\n",
    "        for j in range(0, i, 1):\n",
    "            if x[j] > x[max]:\n",
    "                max = j\n",
    "        if x[i] != x[max]:\n",
    "            x[i],x[max] = x[max], x[i]\n",
    "            cnt += 1\n",
    "        if cnt == num:\n",
    "            return x[max],x[i]\n",
    "    return -1\n",
    "\n",
    "n, k = map(int,sys.stdin.readline().split())\n",
    "arr = list(map(int,sys.stdin.readline().split()))\n",
    "result = select_sort(arr,k)\n",
    "if result != -1:\n",
    "    for i in result:\n",
    "        print(i,end = \" \")\n",
    "else:\n",
    "    print(result)"
   ]
  },
  {
   "cell_type": "code",
   "execution_count": null,
   "metadata": {},
   "outputs": [],
   "source": []
  },
  {
   "cell_type": "code",
   "execution_count": null,
   "metadata": {},
   "outputs": [],
   "source": []
  }
 ],
 "metadata": {
  "kernelspec": {
   "display_name": "Python 3",
   "language": "python",
   "name": "python3"
  },
  "language_info": {
   "codemirror_mode": {
    "name": "ipython",
    "version": 3
   },
   "file_extension": ".py",
   "mimetype": "text/x-python",
   "name": "python",
   "nbconvert_exporter": "python",
   "pygments_lexer": "ipython3",
   "version": "3.11.1"
  }
 },
 "nbformat": 4,
 "nbformat_minor": 2
}
