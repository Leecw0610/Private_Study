{
 "cells": [
  {
   "cell_type": "markdown",
   "id": "3db708b7",
   "metadata": {},
   "source": [
    "### 1183번"
   ]
  },
  {
   "cell_type": "code",
   "execution_count": 1,
   "id": "008f2be1",
   "metadata": {},
   "outputs": [
    {
     "name": "stdout",
     "output_type": "stream",
     "text": [
      "5\n"
     ]
    }
   ],
   "source": [
    "n = int(input())\n",
    "l = []\n",
    "\n",
    "for i in range(n):\n",
    "    a, b = map(int, input().split())\n",
    "    l.append(a-b)\n",
    "\n",
    "l.sort()\n",
    "\n",
    "if n%2 == 1:\n",
    "    print(1)\n",
    "else:\n",
    "    print(abs(l[n//2] - l[n//2-1]) + 1)"
   ]
  },
  {
   "cell_type": "code",
   "execution_count": null,
   "id": "468644ab",
   "metadata": {},
   "outputs": [],
   "source": []
  },
  {
   "cell_type": "code",
   "execution_count": null,
   "id": "d2a51a85",
   "metadata": {},
   "outputs": [],
   "source": []
  }
 ],
 "metadata": {
  "kernelspec": {
   "display_name": "Python 3",
   "language": "python",
   "name": "python3"
  },
  "language_info": {
   "codemirror_mode": {
    "name": "ipython",
    "version": 3
   },
   "file_extension": ".py",
   "mimetype": "text/x-python",
   "name": "python",
   "nbconvert_exporter": "python",
   "pygments_lexer": "ipython3",
   "version": "3.13.6"
  }
 },
 "nbformat": 4,
 "nbformat_minor": 5
}
