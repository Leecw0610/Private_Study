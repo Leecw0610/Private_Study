{
 "cells": [
  {
   "cell_type": "markdown",
   "id": "71df9df3",
   "metadata": {},
   "source": [
    "### 1569번"
   ]
  },
  {
   "cell_type": "code",
   "execution_count": 1,
   "id": "a513038e",
   "metadata": {},
   "outputs": [
    {
     "name": "stdout",
     "output_type": "stream",
     "text": [
      "5\n"
     ]
    }
   ],
   "source": [
    "spot = []\n",
    "mnx, mxx, mny, mxy = 1e9, -1e9, 1e9, -1e9\n",
    "\n",
    "for _ in range(int(input())):\n",
    "    x, y = map(int, input().split())\n",
    "    if x < mnx: mnx = x\n",
    "    if x > mxx: mxx = x\n",
    "    if y < mny: mny = y\n",
    "    if y > mxy: mxy = y\n",
    "    spot.append([x, y])\n",
    "\n",
    "length = max(mxx - mnx, mxy - mny)\n",
    "cnt1, cnt2 = 0, 0\n",
    "for i in spot:\n",
    "    x, y = i\n",
    "    if x in (mnx, mnx + length):\n",
    "        if mny <= y <= mny + length:\n",
    "            cnt1 += 1\n",
    "    elif y in (mny, mny + length):\n",
    "        if mnx <= x <= mnx + length:\n",
    "            cnt1 += 1\n",
    "\n",
    "for i in spot:\n",
    "    x, y = i\n",
    "    if x in (mxx, mxx - length):\n",
    "        if mxy - length <= y <= mxy:\n",
    "            cnt2 += 1\n",
    "    elif y in (mxy, mxy - length):\n",
    "        if mxx - length <= x <= mxx:\n",
    "            cnt2 += 1\n",
    "\n",
    "if len(spot) not in (cnt1, cnt2):\n",
    "    print(-1)\n",
    "else:\n",
    "    print(length)"
   ]
  },
  {
   "cell_type": "code",
   "execution_count": null,
   "id": "d017ed4e",
   "metadata": {},
   "outputs": [],
   "source": []
  },
  {
   "cell_type": "code",
   "execution_count": null,
   "id": "c0c58a2f",
   "metadata": {},
   "outputs": [],
   "source": []
  },
  {
   "cell_type": "code",
   "execution_count": null,
   "id": "3b0f2df4",
   "metadata": {},
   "outputs": [],
   "source": []
  }
 ],
 "metadata": {
  "kernelspec": {
   "display_name": "Python 3",
   "language": "python",
   "name": "python3"
  },
  "language_info": {
   "codemirror_mode": {
    "name": "ipython",
    "version": 3
   },
   "file_extension": ".py",
   "mimetype": "text/x-python",
   "name": "python",
   "nbconvert_exporter": "python",
   "pygments_lexer": "ipython3",
   "version": "3.13.6"
  }
 },
 "nbformat": 4,
 "nbformat_minor": 5
}
