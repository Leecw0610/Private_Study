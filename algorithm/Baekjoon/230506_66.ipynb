{
 "cells": [
  {
   "attachments": {},
   "cell_type": "markdown",
   "metadata": {},
   "source": [
    "### 1296번"
   ]
  },
  {
   "cell_type": "code",
   "execution_count": 1,
   "metadata": {},
   "outputs": [
    {
     "name": "stdout",
     "output_type": "stream",
     "text": [
      "FRANK\n"
     ]
    }
   ],
   "source": [
    "yd = input()\n",
    "n = int(input())\n",
    "li = sorted([input() for i in range(n)])\n",
    "max_p = max_i = 0\n",
    "for i in range(n):\n",
    "    L = yd.count(\"L\") + li[i].count(\"L\")\n",
    "    O = yd.count(\"O\") + li[i].count(\"O\")\n",
    "    V = yd.count(\"V\") + li[i].count(\"V\")\n",
    "    E = yd.count(\"E\") + li[i].count(\"E\")\n",
    "    p = ((L + O) * (L + V) * (L + E) * (O + V) * (O + E) * (V + E)) % 100\n",
    "    if max_p < p:\n",
    "        max_p = p\n",
    "        max_i = i\n",
    "print(li[max_i])"
   ]
  },
  {
   "cell_type": "code",
   "execution_count": null,
   "metadata": {},
   "outputs": [],
   "source": []
  },
  {
   "cell_type": "code",
   "execution_count": null,
   "metadata": {},
   "outputs": [],
   "source": []
  },
  {
   "cell_type": "code",
   "execution_count": null,
   "metadata": {},
   "outputs": [],
   "source": []
  }
 ],
 "metadata": {
  "kernelspec": {
   "display_name": "base",
   "language": "python",
   "name": "python3"
  },
  "language_info": {
   "codemirror_mode": {
    "name": "ipython",
    "version": 3
   },
   "file_extension": ".py",
   "mimetype": "text/x-python",
   "name": "python",
   "nbconvert_exporter": "python",
   "pygments_lexer": "ipython3",
   "version": "3.11.1"
  },
  "orig_nbformat": 4
 },
 "nbformat": 4,
 "nbformat_minor": 2
}
