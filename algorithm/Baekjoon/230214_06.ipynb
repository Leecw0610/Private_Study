{
 "cells": [
  {
   "cell_type": "markdown",
   "metadata": {},
   "source": [
    "### 1152번"
   ]
  },
  {
   "cell_type": "code",
   "execution_count": 11,
   "metadata": {},
   "outputs": [
    {
     "data": {
      "text/plain": [
       "6"
      ]
     },
     "execution_count": 11,
     "metadata": {},
     "output_type": "execute_result"
    }
   ],
   "source": [
    "S = input()\n",
    "if S[0] == ' ':\n",
    "    S[0].replace(' ', '0')\n",
    "elif S[-1] == ' ':\n",
    "    S[-1].replace(' ', '0')\n",
    "\n",
    "print(len(S.split()))\n",
    "\n",
    "# cnt = 0\n",
    "# for i in S:\n",
    "#     if i == ' ':\n",
    "#         cnt += 1\n",
    "# print(cnt+1)"
   ]
  },
  {
   "cell_type": "code",
   "execution_count": 7,
   "metadata": {},
   "outputs": [
    {
     "ename": "IndentationError",
     "evalue": "expected an indented block (607281736.py, line 4)",
     "output_type": "error",
     "traceback": [
      "\u001b[1;36m  Input \u001b[1;32mIn [7]\u001b[1;36m\u001b[0m\n\u001b[1;33m    \u001b[0m\n\u001b[1;37m    ^\u001b[0m\n\u001b[1;31mIndentationError\u001b[0m\u001b[1;31m:\u001b[0m expected an indented block\n"
     ]
    }
   ],
   "source": [
    "S = input()\n",
    "\n",
    "for i in S:\n",
    "    "
   ]
  },
  {
   "cell_type": "markdown",
   "metadata": {},
   "source": [
    "### 2908번"
   ]
  },
  {
   "cell_type": "code",
   "execution_count": 54,
   "metadata": {},
   "outputs": [
    {
     "name": "stdout",
     "output_type": "stream",
     "text": [
      "938\n"
     ]
    }
   ],
   "source": [
    "A, B = input().split()\n",
    "# A, B = '734', '893'\n",
    "a, b = 0, 0\n",
    "\n",
    "def abc(x):\n",
    "    return x * (10 ** x)\n",
    "\n",
    "for i in range(len(A)-1,-1,-1):\n",
    "    # print(i)\n",
    "    # print(A[i])\n",
    "    # a += lambda x : x * (10**x), int(A[i])\n",
    "    # a += map(i * (10**i), int(i))\n",
    "    a += int(A[i]) * (10**(int(i)))\n",
    "    # print(a)\n",
    "# print(a)\n",
    "\n",
    "for j in range(len(B)-1,-1,-1):\n",
    "    # print(i)\n",
    "    # print(A[i])\n",
    "    # a += lambda x : x * (10**x), int(A[i])\n",
    "    # a += map(i * (10**i), int(i))\n",
    "    b += int(B[j]) * (10**(int(j)))\n",
    "    # print(a)\n",
    "# print(b)\n",
    "\n",
    "if a > b :\n",
    "    print(a)\n",
    "else:\n",
    "    print(b)"
   ]
  },
  {
   "cell_type": "code",
   "execution_count": 37,
   "metadata": {},
   "outputs": [
    {
     "name": "stdout",
     "output_type": "stream",
     "text": [
      "0\n"
     ]
    }
   ],
   "source": [
    "print(a)"
   ]
  },
  {
   "cell_type": "code",
   "execution_count": 12,
   "metadata": {},
   "outputs": [],
   "source": [
    "A = '734'"
   ]
  },
  {
   "cell_type": "code",
   "execution_count": 13,
   "metadata": {},
   "outputs": [
    {
     "data": {
      "text/plain": [
       "'4'"
      ]
     },
     "execution_count": 13,
     "metadata": {},
     "output_type": "execute_result"
    }
   ],
   "source": [
    "A[-1],"
   ]
  },
  {
   "cell_type": "code",
   "execution_count": null,
   "metadata": {},
   "outputs": [],
   "source": []
  }
 ],
 "metadata": {
  "language_info": {
   "name": "python"
  },
  "orig_nbformat": 4
 },
 "nbformat": 4,
 "nbformat_minor": 2
}
