{
 "cells": [
  {
   "cell_type": "markdown",
   "id": "7423de2c",
   "metadata": {},
   "source": [
    "### 1455번"
   ]
  },
  {
   "cell_type": "code",
   "execution_count": 2,
   "id": "3d7e6c2c",
   "metadata": {},
   "outputs": [
    {
     "name": "stdout",
     "output_type": "stream",
     "text": [
      "4\n"
     ]
    }
   ],
   "source": [
    "N, M = map(int, input().split())\n",
    "src = []\n",
    "for _ in range(N):\n",
    "    tmp = []\n",
    "    for i in input():\n",
    "        tmp.append(i)\n",
    "    tmp = list(map(int, tmp))\n",
    "    src.append(tmp)\n",
    "cnt = 0\n",
    "for i in range(N - 1, -1, -1):\n",
    "    for j in range(M - 1, -1, -1):\n",
    "        if src[i][j]:\n",
    "            cnt += 1\n",
    "            for p in range(i + 1):\n",
    "                for q in range(j + 1):\n",
    "                    if src[p][q] == 1:\n",
    "                        src[p][q] = 0\n",
    "                    else:\n",
    "                        src[p][q] = 1\n",
    "print(cnt)"
   ]
  },
  {
   "cell_type": "code",
   "execution_count": null,
   "id": "b3050485",
   "metadata": {},
   "outputs": [],
   "source": []
  },
  {
   "cell_type": "code",
   "execution_count": null,
   "id": "58a3aca2",
   "metadata": {},
   "outputs": [],
   "source": []
  },
  {
   "cell_type": "code",
   "execution_count": null,
   "id": "e074a113",
   "metadata": {},
   "outputs": [],
   "source": []
  }
 ],
 "metadata": {
  "kernelspec": {
   "display_name": "Python 3",
   "language": "python",
   "name": "python3"
  },
  "language_info": {
   "codemirror_mode": {
    "name": "ipython",
    "version": 3
   },
   "file_extension": ".py",
   "mimetype": "text/x-python",
   "name": "python",
   "nbconvert_exporter": "python",
   "pygments_lexer": "ipython3",
   "version": "3.13.6"
  }
 },
 "nbformat": 4,
 "nbformat_minor": 5
}
