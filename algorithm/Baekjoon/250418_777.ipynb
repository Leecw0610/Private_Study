{
 "cells": [
  {
   "cell_type": "markdown",
   "id": "8f16af14",
   "metadata": {},
   "source": [
    "### 30455번"
   ]
  },
  {
   "cell_type": "code",
   "execution_count": 1,
   "id": "d9f3ce88",
   "metadata": {},
   "outputs": [
    {
     "name": "stdout",
     "output_type": "stream",
     "text": [
      "Goose\n"
     ]
    }
   ],
   "source": [
    "N = int(input())\n",
    "\n",
    "print(\"Duck\" if N % 2 == 0 else \"Goose\")"
   ]
  },
  {
   "cell_type": "code",
   "execution_count": null,
   "id": "1b24bc53",
   "metadata": {},
   "outputs": [],
   "source": []
  },
  {
   "cell_type": "code",
   "execution_count": null,
   "id": "0c9ff80d",
   "metadata": {},
   "outputs": [],
   "source": []
  },
  {
   "cell_type": "code",
   "execution_count": null,
   "id": "89a73852",
   "metadata": {},
   "outputs": [],
   "source": []
  },
  {
   "cell_type": "code",
   "execution_count": null,
   "id": "4a76a01c",
   "metadata": {},
   "outputs": [],
   "source": []
  }
 ],
 "metadata": {
  "kernelspec": {
   "display_name": "Python 3",
   "language": "python",
   "name": "python3"
  },
  "language_info": {
   "codemirror_mode": {
    "name": "ipython",
    "version": 3
   },
   "file_extension": ".py",
   "mimetype": "text/x-python",
   "name": "python",
   "nbconvert_exporter": "python",
   "pygments_lexer": "ipython3",
   "version": "3.11.1"
  }
 },
 "nbformat": 4,
 "nbformat_minor": 5
}
