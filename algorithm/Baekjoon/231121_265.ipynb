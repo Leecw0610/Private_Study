{
 "cells": [
  {
   "cell_type": "markdown",
   "metadata": {},
   "source": [
    "### 3226번"
   ]
  },
  {
   "cell_type": "code",
   "execution_count": 1,
   "metadata": {},
   "outputs": [
    {
     "name": "stdout",
     "output_type": "stream",
     "text": [
      "1035\n"
     ]
    }
   ],
   "source": [
    "N = int(input())\n",
    "ans = 0\n",
    "for i in range(N):\n",
    "    line = input()\n",
    "    H = int(line[0:2])\n",
    "    M = int(line[3:5])\n",
    "    D = int(line[6:])\n",
    "    end_H, end_M = H, M\n",
    "\n",
    "    if M + D < 60:\n",
    "        end_M = M + D\n",
    "    else :\n",
    "        Q, end_M = (M + D) // 60, (M + D) % 60\n",
    "        if H + Q < 24:\n",
    "            end_H = H + Q\n",
    "        else:\n",
    "            end_H = (H + Q) % 24\n",
    "    if H == 6 and end_H == 7:\n",
    "        ans += (D - end_M) * 5 + end_M * 10\n",
    "    elif H == 18 and end_H == 19:\n",
    "        ans += (D - end_M) * 10 + end_M * 5\n",
    "    else:\n",
    "        if 6 < H < 19:\n",
    "            ans += 10 * D\n",
    "        else:\n",
    "            ans += 5 * D\n",
    "print(ans)"
   ]
  },
  {
   "cell_type": "code",
   "execution_count": null,
   "metadata": {},
   "outputs": [],
   "source": []
  },
  {
   "cell_type": "code",
   "execution_count": null,
   "metadata": {},
   "outputs": [],
   "source": []
  },
  {
   "cell_type": "code",
   "execution_count": null,
   "metadata": {},
   "outputs": [],
   "source": []
  }
 ],
 "metadata": {
  "kernelspec": {
   "display_name": "Python 3",
   "language": "python",
   "name": "python3"
  },
  "language_info": {
   "codemirror_mode": {
    "name": "ipython",
    "version": 3
   },
   "file_extension": ".py",
   "mimetype": "text/x-python",
   "name": "python",
   "nbconvert_exporter": "python",
   "pygments_lexer": "ipython3",
   "version": "3.11.1"
  }
 },
 "nbformat": 4,
 "nbformat_minor": 2
}
