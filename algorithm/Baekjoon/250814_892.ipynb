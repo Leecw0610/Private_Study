{
 "cells": [
  {
   "cell_type": "markdown",
   "id": "8d1f9260",
   "metadata": {},
   "source": [
    "### 1182번"
   ]
  },
  {
   "cell_type": "code",
   "execution_count": null,
   "id": "76127d47",
   "metadata": {},
   "outputs": [],
   "source": [
    "import sys\n",
    "input = sys.stdin.readline\n",
    "n, s = map(int, input().split())\n",
    "arr = list(map(int, input().split()))\n",
    "cnt = 0\n",
    "\n",
    "def subset_sum(idx, sub_sum):\n",
    "    global cnt\n",
    "\n",
    "    if idx >= n:\n",
    "        return\n",
    "\n",
    "    sub_sum += arr[idx]\n",
    "\n",
    "    if sub_sum == s:\n",
    "        cnt += 1\n",
    "\n",
    "    # 현재 arr[idx]를 선택한 경우의 가지\n",
    "    subset_sum(idx+1, sub_sum)\n",
    "\n",
    "    # 현재 arr[idx]를 선택하지 않은 경우의 가지\n",
    "    subset_sum(idx+1, sub_sum - arr[idx])\n",
    "\n",
    "subset_sum(0, 0)\n",
    "print(cnt)"
   ]
  },
  {
   "cell_type": "code",
   "execution_count": null,
   "id": "03f4ae62",
   "metadata": {},
   "outputs": [],
   "source": []
  },
  {
   "cell_type": "code",
   "execution_count": null,
   "id": "c18420e9",
   "metadata": {},
   "outputs": [],
   "source": []
  },
  {
   "cell_type": "code",
   "execution_count": null,
   "id": "c38c0183",
   "metadata": {},
   "outputs": [],
   "source": []
  }
 ],
 "metadata": {
  "kernelspec": {
   "display_name": "Python 3",
   "language": "python",
   "name": "python3"
  },
  "language_info": {
   "codemirror_mode": {
    "name": "ipython",
    "version": 3
   },
   "file_extension": ".py",
   "mimetype": "text/x-python",
   "name": "python",
   "nbconvert_exporter": "python",
   "pygments_lexer": "ipython3",
   "version": "3.13.6"
  }
 },
 "nbformat": 4,
 "nbformat_minor": 5
}
