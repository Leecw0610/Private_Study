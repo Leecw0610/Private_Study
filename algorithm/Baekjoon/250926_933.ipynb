{
 "cells": [
  {
   "cell_type": "markdown",
   "id": "9d9dda15",
   "metadata": {},
   "source": [
    "### 1418번"
   ]
  },
  {
   "cell_type": "code",
   "execution_count": null,
   "id": "48559e7a",
   "metadata": {},
   "outputs": [],
   "source": [
    "import sys\n",
    "n = int(sys.stdin.readline())\n",
    "m = int(sys.stdin.readline())\n",
    "\n",
    "s = [0 for i in range(n+1)]\n",
    "for i in range(2,n+1):\n",
    "    if s[i] == 0:\n",
    "        for t in range(i,n+1,i):\n",
    "            if t%i == 0:\n",
    "                s[t] = max(s[t],i)\n",
    "ans = 0\n",
    "for i in s:\n",
    "    if i <= m:\n",
    "        ans += 1\n",
    "print(ans-1)"
   ]
  },
  {
   "cell_type": "code",
   "execution_count": null,
   "id": "6090e717",
   "metadata": {},
   "outputs": [],
   "source": []
  },
  {
   "cell_type": "code",
   "execution_count": null,
   "id": "fbdcc114",
   "metadata": {},
   "outputs": [],
   "source": []
  },
  {
   "cell_type": "code",
   "execution_count": null,
   "id": "d8f07e3d",
   "metadata": {},
   "outputs": [],
   "source": []
  }
 ],
 "metadata": {
  "kernelspec": {
   "display_name": "Python 3",
   "language": "python",
   "name": "python3"
  },
  "language_info": {
   "codemirror_mode": {
    "name": "ipython",
    "version": 3
   },
   "file_extension": ".py",
   "mimetype": "text/x-python",
   "name": "python",
   "nbconvert_exporter": "python",
   "pygments_lexer": "ipython3",
   "version": "3.13.6"
  }
 },
 "nbformat": 4,
 "nbformat_minor": 5
}
