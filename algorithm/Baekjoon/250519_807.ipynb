{
 "cells": [
  {
   "cell_type": "markdown",
   "id": "71cce0c0",
   "metadata": {},
   "source": [
    "### 31776번"
   ]
  },
  {
   "cell_type": "code",
   "execution_count": 1,
   "id": "c988f551",
   "metadata": {},
   "outputs": [
    {
     "name": "stdout",
     "output_type": "stream",
     "text": [
      "4\n"
     ]
    }
   ],
   "source": [
    "N = int(input())\n",
    "result = 0\n",
    "\n",
    "for _ in range(N):\n",
    "    solve = list(map(int, input().split()))\n",
    "\n",
    "    if sum(solve) == -3:\n",
    "        continue\n",
    "\n",
    "    for i in range(3):\n",
    "        if solve[i] == -1:\n",
    "            solve[i] = 121\n",
    "\n",
    "    if solve[0] <= solve[1] <= solve[2]:\n",
    "        result += 1\n",
    "\n",
    "print(result)"
   ]
  },
  {
   "cell_type": "code",
   "execution_count": null,
   "id": "6a894c05",
   "metadata": {},
   "outputs": [],
   "source": []
  },
  {
   "cell_type": "code",
   "execution_count": null,
   "id": "bbe1fbad",
   "metadata": {},
   "outputs": [],
   "source": []
  },
  {
   "cell_type": "code",
   "execution_count": null,
   "id": "c25d2865",
   "metadata": {},
   "outputs": [],
   "source": []
  }
 ],
 "metadata": {
  "kernelspec": {
   "display_name": "Python 3",
   "language": "python",
   "name": "python3"
  },
  "language_info": {
   "codemirror_mode": {
    "name": "ipython",
    "version": 3
   },
   "file_extension": ".py",
   "mimetype": "text/x-python",
   "name": "python",
   "nbconvert_exporter": "python",
   "pygments_lexer": "ipython3",
   "version": "3.11.1"
  }
 },
 "nbformat": 4,
 "nbformat_minor": 5
}
