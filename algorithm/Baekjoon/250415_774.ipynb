{
 "cells": [
  {
   "cell_type": "markdown",
   "id": "0456564e",
   "metadata": {},
   "source": [
    "### 30224번"
   ]
  },
  {
   "cell_type": "code",
   "execution_count": 1,
   "id": "62bd853c",
   "metadata": {},
   "outputs": [
    {
     "name": "stdout",
     "output_type": "stream",
     "text": [
      "3\n"
     ]
    }
   ],
   "source": [
    "number = input()\n",
    "\n",
    "if \"7\" in number:\n",
    "    if not int(number) % 7:\n",
    "        print(3)\n",
    "    else:\n",
    "        print(2)\n",
    "else:\n",
    "    if not int(number) % 7:\n",
    "        print(1)\n",
    "    else:\n",
    "        print(0)"
   ]
  },
  {
   "cell_type": "code",
   "execution_count": null,
   "id": "da5b2d15",
   "metadata": {},
   "outputs": [],
   "source": []
  },
  {
   "cell_type": "code",
   "execution_count": null,
   "id": "fcebec1e",
   "metadata": {},
   "outputs": [],
   "source": []
  },
  {
   "cell_type": "code",
   "execution_count": null,
   "id": "c6d2b16b",
   "metadata": {},
   "outputs": [],
   "source": []
  }
 ],
 "metadata": {
  "kernelspec": {
   "display_name": "Python 3",
   "language": "python",
   "name": "python3"
  },
  "language_info": {
   "codemirror_mode": {
    "name": "ipython",
    "version": 3
   },
   "file_extension": ".py",
   "mimetype": "text/x-python",
   "name": "python",
   "nbconvert_exporter": "python",
   "pygments_lexer": "ipython3",
   "version": "3.11.1"
  }
 },
 "nbformat": 4,
 "nbformat_minor": 5
}
