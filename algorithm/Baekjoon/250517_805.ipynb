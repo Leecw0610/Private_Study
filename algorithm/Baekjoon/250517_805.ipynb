{
 "cells": [
  {
   "cell_type": "markdown",
   "id": "74bdec10",
   "metadata": {},
   "source": [
    "### 31746번"
   ]
  },
  {
   "cell_type": "code",
   "execution_count": 1,
   "id": "9ad56198",
   "metadata": {},
   "outputs": [
    {
     "name": "stdout",
     "output_type": "stream",
     "text": [
      "SciComLove\n"
     ]
    }
   ],
   "source": [
    "N = int(input())\n",
    "stringWord = \"SciComLove\"\n",
    "\n",
    "if N % 2 == 0:\n",
    "    print(stringWord)\n",
    "else:\n",
    "    print(stringWord[::-1])"
   ]
  },
  {
   "cell_type": "code",
   "execution_count": null,
   "id": "66e269e2",
   "metadata": {},
   "outputs": [],
   "source": []
  },
  {
   "cell_type": "code",
   "execution_count": null,
   "id": "bbc8417f",
   "metadata": {},
   "outputs": [],
   "source": []
  },
  {
   "cell_type": "code",
   "execution_count": null,
   "id": "f929eb87",
   "metadata": {},
   "outputs": [],
   "source": []
  }
 ],
 "metadata": {
  "kernelspec": {
   "display_name": "Python 3",
   "language": "python",
   "name": "python3"
  },
  "language_info": {
   "codemirror_mode": {
    "name": "ipython",
    "version": 3
   },
   "file_extension": ".py",
   "mimetype": "text/x-python",
   "name": "python",
   "nbconvert_exporter": "python",
   "pygments_lexer": "ipython3",
   "version": "3.11.1"
  }
 },
 "nbformat": 4,
 "nbformat_minor": 5
}
