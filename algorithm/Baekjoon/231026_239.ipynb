{
 "cells": [
  {
   "cell_type": "markdown",
   "metadata": {},
   "source": [
    "### 4388번"
   ]
  },
  {
   "cell_type": "code",
   "execution_count": 1,
   "metadata": {},
   "outputs": [
    {
     "name": "stdout",
     "output_type": "stream",
     "text": [
      "0\n",
      "3\n",
      "1\n"
     ]
    }
   ],
   "source": [
    "while 1:\n",
    "    a, b = input().split()\n",
    "    if a == b == '0':\n",
    "        break\n",
    "    if len(a) > len(b):\n",
    "        b = (len(a) - len(b)) * '0' + b\n",
    "    else:\n",
    "        a = (len(b) - len(a)) * '0' + a\n",
    "    cnt = carry = 0\n",
    "    for i in range(len(a) - 1, -1, -1):\n",
    "        if int(a[i]) + int(b[i]) + carry >= 10:\n",
    "            cnt += 1\n",
    "            carry = 1\n",
    "        else:\n",
    "            carry = 0\n",
    "    print(cnt)"
   ]
  },
  {
   "cell_type": "code",
   "execution_count": null,
   "metadata": {},
   "outputs": [],
   "source": []
  },
  {
   "cell_type": "code",
   "execution_count": null,
   "metadata": {},
   "outputs": [],
   "source": []
  }
 ],
 "metadata": {
  "kernelspec": {
   "display_name": "Python 3",
   "language": "python",
   "name": "python3"
  },
  "language_info": {
   "codemirror_mode": {
    "name": "ipython",
    "version": 3
   },
   "file_extension": ".py",
   "mimetype": "text/x-python",
   "name": "python",
   "nbconvert_exporter": "python",
   "pygments_lexer": "ipython3",
   "version": "3.11.1"
  }
 },
 "nbformat": 4,
 "nbformat_minor": 2
}
