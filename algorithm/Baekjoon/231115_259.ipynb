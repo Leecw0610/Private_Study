{
 "cells": [
  {
   "cell_type": "markdown",
   "metadata": {},
   "source": [
    "### 2755번"
   ]
  },
  {
   "cell_type": "code",
   "execution_count": 4,
   "metadata": {},
   "outputs": [
    {
     "name": "stdout",
     "output_type": "stream",
     "text": [
      "3.28\n"
     ]
    }
   ],
   "source": [
    "d = {\"A+\": 4.3, \"A0\": 4.0, \"A-\": 3.7, \"B+\": 3.3, \"B0\": 3.0, \n",
    "     \"B-\": 2.7, \"C+\": 2.3, \"C0\": 2.0, \"C-\": 1.7, \"D+\": 1.3, \n",
    "     \"D0\": 1.0, \"D-\": 0.7, \"F\": 0.0}\n",
    "N = t = 0\n",
    "for _ in range(int(input())):\n",
    "    s, n, g = input().split()\n",
    "    n = int(n) \n",
    "    N += n\n",
    "    t += n * d[g]\n",
    "print(\"%.2f\" % (round(t/N + 10**-10, 2)))"
   ]
  },
  {
   "cell_type": "code",
   "execution_count": null,
   "metadata": {},
   "outputs": [],
   "source": []
  },
  {
   "cell_type": "code",
   "execution_count": null,
   "metadata": {},
   "outputs": [],
   "source": []
  }
 ],
 "metadata": {
  "kernelspec": {
   "display_name": "Python 3",
   "language": "python",
   "name": "python3"
  },
  "language_info": {
   "codemirror_mode": {
    "name": "ipython",
    "version": 3
   },
   "file_extension": ".py",
   "mimetype": "text/x-python",
   "name": "python",
   "nbconvert_exporter": "python",
   "pygments_lexer": "ipython3",
   "version": "3.11.1"
  }
 },
 "nbformat": 4,
 "nbformat_minor": 2
}
