{
 "cells": [
  {
   "cell_type": "markdown",
   "metadata": {},
   "source": [
    "### 13420번"
   ]
  },
  {
   "cell_type": "code",
   "execution_count": 1,
   "metadata": {},
   "outputs": [
    {
     "name": "stdout",
     "output_type": "stream",
     "text": [
      "correct\n",
      "wrong answer\n",
      "correct\n",
      "correct\n"
     ]
    }
   ],
   "source": [
    "for _ in range(int(input())):\n",
    "    li = input().split()\n",
    "    a, b, c = int(li[0]), int(li[2]), int(li[4])\n",
    "    op = li[1]\n",
    "    if op == '+':\n",
    "        t = a+b\n",
    "    elif op == '-':\n",
    "        t = a-b\n",
    "    elif op == '*':\n",
    "        t = a*b\n",
    "    elif op == '/':\n",
    "        t = a//b\n",
    "    print(\"correct\" if t == c else \"wrong answer\")"
   ]
  },
  {
   "cell_type": "code",
   "execution_count": null,
   "metadata": {},
   "outputs": [],
   "source": []
  },
  {
   "cell_type": "code",
   "execution_count": null,
   "metadata": {},
   "outputs": [],
   "source": []
  }
 ],
 "metadata": {
  "kernelspec": {
   "display_name": "Python 3",
   "language": "python",
   "name": "python3"
  },
  "language_info": {
   "codemirror_mode": {
    "name": "ipython",
    "version": 3
   },
   "file_extension": ".py",
   "mimetype": "text/x-python",
   "name": "python",
   "nbconvert_exporter": "python",
   "pygments_lexer": "ipython3",
   "version": "3.11.1"
  }
 },
 "nbformat": 4,
 "nbformat_minor": 2
}
