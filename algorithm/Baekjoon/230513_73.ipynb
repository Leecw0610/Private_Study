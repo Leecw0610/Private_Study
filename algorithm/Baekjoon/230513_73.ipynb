{
 "cells": [
  {
   "cell_type": "code",
   "execution_count": 1,
   "metadata": {},
   "outputs": [],
   "source": [
    "import sys\n",
    "input = sys.stdin.read\n",
    "\n",
    "s = input().replace(\"\\n\",\"\").replace(\" \",\"\")\n",
    "c = [0] * 26\n",
    "for i in s:\n",
    "    c[ord(i)-97]+=1\n",
    "\n",
    "maxx = max(c)\n",
    "r = []\n",
    "for i in range(len(c)):\n",
    "    if c[i] == maxx:\n",
    "        r.append(chr(i+97))\n",
    "\n",
    "r.sort()\n",
    "print(*r,sep=\"\")"
   ]
  },
  {
   "cell_type": "code",
   "execution_count": null,
   "metadata": {},
   "outputs": [],
   "source": []
  },
  {
   "cell_type": "code",
   "execution_count": null,
   "metadata": {},
   "outputs": [],
   "source": []
  },
  {
   "cell_type": "code",
   "execution_count": null,
   "metadata": {},
   "outputs": [],
   "source": []
  },
  {
   "cell_type": "code",
   "execution_count": null,
   "metadata": {},
   "outputs": [],
   "source": []
  }
 ],
 "metadata": {
  "kernelspec": {
   "display_name": "Python 3",
   "language": "python",
   "name": "python3"
  },
  "language_info": {
   "codemirror_mode": {
    "name": "ipython",
    "version": 3
   },
   "file_extension": ".py",
   "mimetype": "text/x-python",
   "name": "python",
   "nbconvert_exporter": "python",
   "pygments_lexer": "ipython3",
   "version": "3.11.1"
  },
  "orig_nbformat": 4
 },
 "nbformat": 4,
 "nbformat_minor": 2
}
