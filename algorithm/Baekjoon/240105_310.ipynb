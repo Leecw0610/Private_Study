{
 "cells": [
  {
   "cell_type": "markdown",
   "metadata": {},
   "source": [
    "### 5698번"
   ]
  },
  {
   "cell_type": "code",
   "execution_count": 1,
   "metadata": {},
   "outputs": [
    {
     "name": "stdout",
     "output_type": "stream",
     "text": [
      "Y\n",
      "Y\n",
      "Y\n",
      "Y\n",
      "N\n"
     ]
    }
   ],
   "source": [
    "def sol(s):\n",
    "    s = s.lower()\n",
    "    s = list(s.split())\n",
    "    answer = 'Y'\n",
    "    for i in range(1, len(s)):\n",
    "        if s[i][0] != s[i - 1][0]:\n",
    "            answer = 'N'\n",
    "    return answer\n",
    "if __name__ == '__main__':\n",
    "    while True:\n",
    "        s = input()\n",
    "        if s == '*':\n",
    "            break\n",
    "        print(sol(s))"
   ]
  },
  {
   "cell_type": "code",
   "execution_count": null,
   "metadata": {},
   "outputs": [],
   "source": []
  },
  {
   "cell_type": "code",
   "execution_count": null,
   "metadata": {},
   "outputs": [],
   "source": []
  }
 ],
 "metadata": {
  "kernelspec": {
   "display_name": "Python 3",
   "language": "python",
   "name": "python3"
  },
  "language_info": {
   "codemirror_mode": {
    "name": "ipython",
    "version": 3
   },
   "file_extension": ".py",
   "mimetype": "text/x-python",
   "name": "python",
   "nbconvert_exporter": "python",
   "pygments_lexer": "ipython3",
   "version": "3.11.1"
  }
 },
 "nbformat": 4,
 "nbformat_minor": 2
}
