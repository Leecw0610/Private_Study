{
 "cells": [
  {
   "cell_type": "markdown",
   "id": "82bcd0ae",
   "metadata": {},
   "source": [
    "### 33663번"
   ]
  },
  {
   "cell_type": "code",
   "execution_count": 1,
   "id": "acc29479",
   "metadata": {},
   "outputs": [
    {
     "name": "stdout",
     "output_type": "stream",
     "text": [
      "Lumi will not like it.\n"
     ]
    }
   ],
   "source": [
    "Hlo, Hhi = map(int, input().split())\n",
    "Slo, Shi = map(int, input().split())\n",
    "Vlo, Vhi = map(int, input().split())\n",
    "R, G, B = map(int, input().split())\n",
    "\n",
    "# V\n",
    "V, m = max(R, G, B), min(R, G, B)\n",
    "\n",
    "# S\n",
    "S = 255 * (V - m) / V\n",
    "\n",
    "# H\n",
    "if V == R:\n",
    "    H = 60 * (G - B) / (V - m)\n",
    "elif V == G:\n",
    "    H = 120 + 60 * (B - R) / (V - m)\n",
    "elif V == B:\n",
    "    H = 240 + 60 * (R - G) / (V - m)\n",
    "\n",
    "if H < 0:\n",
    "    H += 360\n",
    "\n",
    "# 진정한™ 보라색 찾기\n",
    "if Hlo <= H <= Hhi and Slo <= S <= Shi and Vlo <= V <= Vhi:\n",
    "    print(\"Lumi will like it.\")\n",
    "else:\n",
    "    print(\"Lumi will not like it.\")"
   ]
  },
  {
   "cell_type": "code",
   "execution_count": null,
   "id": "f6282a90",
   "metadata": {},
   "outputs": [],
   "source": []
  },
  {
   "cell_type": "code",
   "execution_count": null,
   "id": "d55acb01",
   "metadata": {},
   "outputs": [],
   "source": []
  },
  {
   "cell_type": "code",
   "execution_count": null,
   "id": "47d0d886",
   "metadata": {},
   "outputs": [],
   "source": []
  }
 ],
 "metadata": {
  "kernelspec": {
   "display_name": "Python 3",
   "language": "python",
   "name": "python3"
  },
  "language_info": {
   "codemirror_mode": {
    "name": "ipython",
    "version": 3
   },
   "file_extension": ".py",
   "mimetype": "text/x-python",
   "name": "python",
   "nbconvert_exporter": "python",
   "pygments_lexer": "ipython3",
   "version": "3.11.1"
  }
 },
 "nbformat": 4,
 "nbformat_minor": 5
}
