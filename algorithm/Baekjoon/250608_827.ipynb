{
 "cells": [
  {
   "cell_type": "markdown",
   "id": "ea5c82c0",
   "metadata": {},
   "source": [
    "### 32132번"
   ]
  },
  {
   "cell_type": "code",
   "execution_count": 1,
   "id": "61671b29",
   "metadata": {},
   "outputs": [
    {
     "name": "stdout",
     "output_type": "stream",
     "text": [
      "PS64\n"
     ]
    }
   ],
   "source": [
    "N = int(input())\n",
    "word = input()\n",
    "\n",
    "while True:\n",
    "    if \"PS4\" in word or \"PS5\" in word:\n",
    "        word = word.replace(\"PS4\", \"PS\").replace(\"PS5\", \"PS\")\n",
    "    else:\n",
    "        break\n",
    "\n",
    "print(word)"
   ]
  },
  {
   "cell_type": "code",
   "execution_count": null,
   "id": "d8975e00",
   "metadata": {},
   "outputs": [],
   "source": []
  },
  {
   "cell_type": "code",
   "execution_count": null,
   "id": "79e2e5ca",
   "metadata": {},
   "outputs": [],
   "source": []
  },
  {
   "cell_type": "code",
   "execution_count": null,
   "id": "3c606acd",
   "metadata": {},
   "outputs": [],
   "source": []
  }
 ],
 "metadata": {
  "kernelspec": {
   "display_name": "Python 3",
   "language": "python",
   "name": "python3"
  },
  "language_info": {
   "codemirror_mode": {
    "name": "ipython",
    "version": 3
   },
   "file_extension": ".py",
   "mimetype": "text/x-python",
   "name": "python",
   "nbconvert_exporter": "python",
   "pygments_lexer": "ipython3",
   "version": "3.11.1"
  }
 },
 "nbformat": 4,
 "nbformat_minor": 5
}
