{
 "cells": [
  {
   "cell_type": "markdown",
   "id": "b0bee3e0",
   "metadata": {},
   "source": [
    "### 1535번"
   ]
  },
  {
   "cell_type": "code",
   "execution_count": null,
   "id": "8afdc101",
   "metadata": {},
   "outputs": [],
   "source": [
    "import sys\n",
    "\n",
    "input = sys.stdin.readline\n",
    "\n",
    "N = int(input())\n",
    "L = list(map(int, input().split()))\n",
    "J = list(map(int, input().split()))\n",
    "L, J = [0] + L, [0] + J\n",
    "dp = [[0 for _ in range(101)] for _ in range(N+1)]\n",
    "\n",
    "for i in range(1, N+1):\n",
    "    for j in range(1, 101):\n",
    "        if L[i] <= j:\n",
    "            dp[i][j] = max(dp[i-1][j], dp[i-1][j-L[i]] + J[i])\n",
    "        else:\n",
    "            dp[i][j] = dp[i-1][j]\n",
    "\n",
    "print(dp[N][99])"
   ]
  },
  {
   "cell_type": "code",
   "execution_count": null,
   "id": "06f45370",
   "metadata": {},
   "outputs": [],
   "source": []
  },
  {
   "cell_type": "code",
   "execution_count": null,
   "id": "02acbe85",
   "metadata": {},
   "outputs": [],
   "source": []
  }
 ],
 "metadata": {
  "language_info": {
   "name": "python"
  }
 },
 "nbformat": 4,
 "nbformat_minor": 5
}
