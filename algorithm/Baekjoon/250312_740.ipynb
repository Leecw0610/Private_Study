{
 "cells": [
  {
   "cell_type": "markdown",
   "metadata": {},
   "source": [
    "### 28114번"
   ]
  },
  {
   "cell_type": "code",
   "execution_count": 1,
   "metadata": {},
   "outputs": [
    {
     "name": "stdout",
     "output_type": "stream",
     "text": [
      "192122\n",
      "NLP\n"
     ]
    }
   ],
   "source": [
    "first_lst = []\n",
    "second_lst = []\n",
    "\n",
    "for _ in range(3):\n",
    "    P, Y, S = input().split()\n",
    "    first_lst.append(int(Y))\n",
    "    second_lst.append([int(P), S])\n",
    "\n",
    "first_lst.sort()\n",
    "second_lst.sort(reverse=True)\n",
    "\n",
    "first_teamName = \"\"\n",
    "second_teamName = \"\"\n",
    "\n",
    "for i in range(3):\n",
    "    first_teamName += str(first_lst[i] % 100)\n",
    "    second_teamName += second_lst[i][1][0]\n",
    "\n",
    "print(first_teamName)\n",
    "print(second_teamName)"
   ]
  },
  {
   "cell_type": "code",
   "execution_count": null,
   "metadata": {},
   "outputs": [],
   "source": []
  },
  {
   "cell_type": "code",
   "execution_count": null,
   "metadata": {},
   "outputs": [],
   "source": []
  }
 ],
 "metadata": {
  "kernelspec": {
   "display_name": "Python 3",
   "language": "python",
   "name": "python3"
  },
  "language_info": {
   "codemirror_mode": {
    "name": "ipython",
    "version": 3
   },
   "file_extension": ".py",
   "mimetype": "text/x-python",
   "name": "python",
   "nbconvert_exporter": "python",
   "pygments_lexer": "ipython3",
   "version": "3.11.1"
  }
 },
 "nbformat": 4,
 "nbformat_minor": 2
}
