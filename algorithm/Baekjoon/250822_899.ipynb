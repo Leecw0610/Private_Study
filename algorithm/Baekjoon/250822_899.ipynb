{
 "cells": [
  {
   "cell_type": "markdown",
   "id": "590514dd",
   "metadata": {},
   "source": [
    "### 1235번"
   ]
  },
  {
   "cell_type": "code",
   "execution_count": 1,
   "id": "c515b672",
   "metadata": {},
   "outputs": [
    {
     "name": "stdout",
     "output_type": "stream",
     "text": [
      "3\n"
     ]
    }
   ],
   "source": [
    "n = int(input(''))\n",
    "num = []\n",
    "for i in range(n):\n",
    "    N = input('')\n",
    "    num.append(N)\n",
    "cnt = 1\n",
    "\n",
    "while(1):\n",
    "    if len({i[-cnt:] for i in num}) == n:\n",
    "        print(cnt)\n",
    "        break\n",
    "    cnt = cnt + 1"
   ]
  },
  {
   "cell_type": "code",
   "execution_count": null,
   "id": "96b79ab9",
   "metadata": {},
   "outputs": [],
   "source": []
  },
  {
   "cell_type": "code",
   "execution_count": null,
   "id": "21138314",
   "metadata": {},
   "outputs": [],
   "source": []
  }
 ],
 "metadata": {
  "kernelspec": {
   "display_name": "Python 3",
   "language": "python",
   "name": "python3"
  },
  "language_info": {
   "codemirror_mode": {
    "name": "ipython",
    "version": 3
   },
   "file_extension": ".py",
   "mimetype": "text/x-python",
   "name": "python",
   "nbconvert_exporter": "python",
   "pygments_lexer": "ipython3",
   "version": "3.13.6"
  }
 },
 "nbformat": 4,
 "nbformat_minor": 5
}
