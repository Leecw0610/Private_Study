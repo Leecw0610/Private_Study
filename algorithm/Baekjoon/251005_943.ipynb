{
 "cells": [
  {
   "cell_type": "markdown",
   "id": "74b03c64",
   "metadata": {},
   "source": [
    "### 1474번"
   ]
  },
  {
   "cell_type": "code",
   "execution_count": 1,
   "id": "f82ae9df",
   "metadata": {},
   "outputs": [
    {
     "name": "stdout",
     "output_type": "stream",
     "text": [
      "Hello____world___John____said\n"
     ]
    }
   ],
   "source": [
    "a, b = map(int, input().split())\n",
    "total = []\n",
    "cnt = 0\n",
    "flag = 0\n",
    "so = []\n",
    "da = []\n",
    "for i in range(a):\n",
    "    c = input()\n",
    "    cnt += len(c)\n",
    "    total.append(c)\n",
    "    if i != 0:\n",
    "        if c[0].isupper() == True:\n",
    "            da.append(c)\n",
    "        else : \n",
    "            so.append(c)\n",
    "q = da+so\n",
    "length = b-cnt\n",
    "oo = length % len(q)\n",
    "nn = length // len(q)\n",
    "ans=''\n",
    "flag = 0\n",
    "for i in total[1:]:\n",
    "    if i in so and oo != 0:\n",
    "        oo -= 1\n",
    "        ans += ('_'*(nn+1))+i\n",
    "        flag += 1\n",
    "    elif len(total[1:]) - flag == oo :\n",
    "        ans += ('_'*(nn+1))+i\n",
    "    else :\n",
    "        ans += ('_'*nn)+i\n",
    "        flag += 1\n",
    "print(total[0]+ans)"
   ]
  },
  {
   "cell_type": "code",
   "execution_count": null,
   "id": "84ae826a",
   "metadata": {},
   "outputs": [],
   "source": []
  },
  {
   "cell_type": "code",
   "execution_count": null,
   "id": "6b0d55ed",
   "metadata": {},
   "outputs": [],
   "source": []
  },
  {
   "cell_type": "code",
   "execution_count": null,
   "id": "cde608cb",
   "metadata": {},
   "outputs": [],
   "source": []
  }
 ],
 "metadata": {
  "kernelspec": {
   "display_name": "Python 3",
   "language": "python",
   "name": "python3"
  },
  "language_info": {
   "codemirror_mode": {
    "name": "ipython",
    "version": 3
   },
   "file_extension": ".py",
   "mimetype": "text/x-python",
   "name": "python",
   "nbconvert_exporter": "python",
   "pygments_lexer": "ipython3",
   "version": "3.13.6"
  }
 },
 "nbformat": 4,
 "nbformat_minor": 5
}
