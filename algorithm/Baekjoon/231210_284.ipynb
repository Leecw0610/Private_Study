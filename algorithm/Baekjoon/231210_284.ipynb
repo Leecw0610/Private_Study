{
 "cells": [
  {
   "cell_type": "markdown",
   "metadata": {},
   "source": [
    "### 5354번"
   ]
  },
  {
   "cell_type": "code",
   "execution_count": 1,
   "metadata": {},
   "outputs": [
    {
     "name": "stdout",
     "output_type": "stream",
     "text": [
      "###\n",
      "#J#\n",
      "### \n",
      "\n",
      "#####\n",
      "#JJJ#\n",
      "#JJJ#\n",
      "#JJJ#\n",
      "##### \n",
      "\n",
      "####\n",
      "#JJ#\n",
      "#JJ#\n",
      "#### \n",
      "\n"
     ]
    }
   ],
   "source": [
    "for _ in range(int(input())):\n",
    "    n = int(input())\n",
    "    if n < 3:\n",
    "        for i in range(n):\n",
    "            print('#' * n)\n",
    "        print()\n",
    "    else:\n",
    "        print('#' * n)\n",
    "        for i in range(n - 2):\n",
    "            print('#' + 'J' * (n - 2) + '#')\n",
    "        print('#' * n, '\\n')"
   ]
  },
  {
   "cell_type": "code",
   "execution_count": null,
   "metadata": {},
   "outputs": [],
   "source": []
  },
  {
   "cell_type": "code",
   "execution_count": null,
   "metadata": {},
   "outputs": [],
   "source": []
  },
  {
   "cell_type": "code",
   "execution_count": null,
   "metadata": {},
   "outputs": [],
   "source": []
  }
 ],
 "metadata": {
  "kernelspec": {
   "display_name": "Python 3",
   "language": "python",
   "name": "python3"
  },
  "language_info": {
   "codemirror_mode": {
    "name": "ipython",
    "version": 3
   },
   "file_extension": ".py",
   "mimetype": "text/x-python",
   "name": "python",
   "nbconvert_exporter": "python",
   "pygments_lexer": "ipython3",
   "version": "3.11.1"
  }
 },
 "nbformat": 4,
 "nbformat_minor": 2
}
