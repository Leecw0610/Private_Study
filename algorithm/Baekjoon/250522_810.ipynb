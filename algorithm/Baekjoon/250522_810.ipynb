{
 "cells": [
  {
   "cell_type": "markdown",
   "id": "7e88f9a6",
   "metadata": {},
   "source": [
    "### 31821번"
   ]
  },
  {
   "cell_type": "code",
   "execution_count": 1,
   "id": "335c6ce6",
   "metadata": {},
   "outputs": [
    {
     "name": "stdout",
     "output_type": "stream",
     "text": [
      "8400\n"
     ]
    }
   ],
   "source": [
    "N = int(input())\n",
    "menu = [int(input()) for _ in range(N)]\n",
    "result = 0\n",
    "\n",
    "M = int(input())\n",
    "for _ in range(M):\n",
    "    eatMenu = int(input())\n",
    "    result += menu[eatMenu - 1]\n",
    "\n",
    "print(result)"
   ]
  },
  {
   "cell_type": "code",
   "execution_count": null,
   "id": "c471ae71",
   "metadata": {},
   "outputs": [],
   "source": []
  },
  {
   "cell_type": "code",
   "execution_count": null,
   "id": "44d61186",
   "metadata": {},
   "outputs": [],
   "source": []
  },
  {
   "cell_type": "code",
   "execution_count": null,
   "id": "aeff66ca",
   "metadata": {},
   "outputs": [],
   "source": []
  }
 ],
 "metadata": {
  "kernelspec": {
   "display_name": "Python 3",
   "language": "python",
   "name": "python3"
  },
  "language_info": {
   "codemirror_mode": {
    "name": "ipython",
    "version": 3
   },
   "file_extension": ".py",
   "mimetype": "text/x-python",
   "name": "python",
   "nbconvert_exporter": "python",
   "pygments_lexer": "ipython3",
   "version": "3.11.1"
  }
 },
 "nbformat": 4,
 "nbformat_minor": 5
}
