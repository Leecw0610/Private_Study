{
 "cells": [
  {
   "cell_type": "markdown",
   "id": "bd07f073",
   "metadata": {},
   "source": [
    "### 1195번"
   ]
  },
  {
   "cell_type": "code",
   "execution_count": 1,
   "id": "8c30c106",
   "metadata": {},
   "outputs": [
    {
     "name": "stdout",
     "output_type": "stream",
     "text": [
      "10\n"
     ]
    }
   ],
   "source": [
    "a = input()\n",
    "b = input()\n",
    "if int(a)<int(b):\n",
    "    a ,b = b,a\n",
    "at =len(a)\n",
    "bt = len(b)\n",
    "e =0\n",
    "re =10**5\n",
    "for i in range(len(a)):\n",
    "    c = 0\n",
    "    t=0\n",
    "    for j in range(len(b)):\n",
    "        try:\n",
    "            if a[i+j] == '2' and b[j]=='2':\n",
    "                t=1\n",
    "                break\n",
    "            else:\n",
    "                c+=1\n",
    "        except:\n",
    "            break\n",
    "    if c == bt:\n",
    "        e =1\n",
    "        re =min(re,at)\n",
    "        break\n",
    "    if t==0:\n",
    "        re = min(re,at+len(b)-c)\n",
    "\n",
    "e=0\n",
    "for i in range(len(b)):\n",
    "    c = 0\n",
    "    t=0\n",
    "    for j in range(len(a)):\n",
    "        try:\n",
    "            if b[i+j] == '2' and a[j]=='2':\n",
    "                t=1\n",
    "                break\n",
    "            else:\n",
    "                c+=1\n",
    "        except:\n",
    "            break\n",
    "    if c == bt:\n",
    "        e =1\n",
    "        re =min(re,at)\n",
    "        break\n",
    "    if t==0:\n",
    "        re = min(re,bt+len(a)-c)\n",
    "\n",
    "if re==10**5:\n",
    "    print(bt+at)\n",
    "else:\n",
    "    print(re)"
   ]
  },
  {
   "cell_type": "code",
   "execution_count": null,
   "id": "dd6a9bf8",
   "metadata": {},
   "outputs": [],
   "source": []
  },
  {
   "cell_type": "code",
   "execution_count": null,
   "id": "5a65f299",
   "metadata": {},
   "outputs": [],
   "source": []
  },
  {
   "cell_type": "code",
   "execution_count": null,
   "id": "9427b33e",
   "metadata": {},
   "outputs": [],
   "source": []
  }
 ],
 "metadata": {
  "kernelspec": {
   "display_name": "Python 3",
   "language": "python",
   "name": "python3"
  },
  "language_info": {
   "codemirror_mode": {
    "name": "ipython",
    "version": 3
   },
   "file_extension": ".py",
   "mimetype": "text/x-python",
   "name": "python",
   "nbconvert_exporter": "python",
   "pygments_lexer": "ipython3",
   "version": "3.13.6"
  }
 },
 "nbformat": 4,
 "nbformat_minor": 5
}
