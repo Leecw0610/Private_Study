{
 "cells": [
  {
   "cell_type": "markdown",
   "metadata": {
    "vscode": {
     "languageId": "plaintext"
    }
   },
   "source": [
    "### 16727번"
   ]
  },
  {
   "cell_type": "code",
   "execution_count": 1,
   "metadata": {},
   "outputs": [
    {
     "name": "stdout",
     "output_type": "stream",
     "text": [
      "Penalty\n"
     ]
    }
   ],
   "source": [
    "p1, s1 = map(int, input().split())\n",
    "s2, p2 = map(int, input().split())\n",
    "p = p1+p2\n",
    "s = s1+s2\n",
    "if p == s:\n",
    "    if p1 == s2:\n",
    "        print(\"Penalty\")\n",
    "    elif p1 > s2:\n",
    "        print(\"Esteghlal\")\n",
    "    else:\n",
    "        print(\"Persepolis\")\n",
    "elif p > s:\n",
    "    print(\"Persepolis\")\n",
    "else:\n",
    "    print(\"Esteghlal\")"
   ]
  },
  {
   "cell_type": "code",
   "execution_count": null,
   "metadata": {},
   "outputs": [],
   "source": []
  },
  {
   "cell_type": "code",
   "execution_count": null,
   "metadata": {},
   "outputs": [],
   "source": []
  }
 ],
 "metadata": {
  "kernelspec": {
   "display_name": "Python 3",
   "language": "python",
   "name": "python3"
  },
  "language_info": {
   "codemirror_mode": {
    "name": "ipython",
    "version": 3
   },
   "file_extension": ".py",
   "mimetype": "text/x-python",
   "name": "python",
   "nbconvert_exporter": "python",
   "pygments_lexer": "ipython3",
   "version": "3.11.1"
  }
 },
 "nbformat": 4,
 "nbformat_minor": 2
}
