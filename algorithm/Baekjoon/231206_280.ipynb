{
 "cells": [
  {
   "cell_type": "markdown",
   "metadata": {},
   "source": [
    "### 5218번"
   ]
  },
  {
   "cell_type": "code",
   "execution_count": 1,
   "metadata": {},
   "outputs": [
    {
     "name": "stdout",
     "output_type": "stream",
     "text": [
      "Distances: 0 1 2 3\n",
      "Distances: 0 25 24 23\n",
      "Distances: 8 14 19 24\n",
      "Distances: 1 14 9 25 1 12\n",
      "Distances: 17 7 19 5 1 16\n"
     ]
    }
   ],
   "source": [
    "for _ in range(int(input())):\n",
    "    a, b = input().split()\n",
    "    li = []\n",
    "    for i in range(len(a)):\n",
    "        if ord(a[i]) > ord(b[i]):\n",
    "            li.append(26 - (ord(a[i]) - ord(b[i])))\n",
    "        else:\n",
    "            li.append(ord(b[i]) - ord(a[i]))\n",
    "    print(\"Distances:\", *li)"
   ]
  },
  {
   "cell_type": "code",
   "execution_count": null,
   "metadata": {},
   "outputs": [],
   "source": []
  },
  {
   "cell_type": "code",
   "execution_count": null,
   "metadata": {},
   "outputs": [],
   "source": []
  },
  {
   "cell_type": "code",
   "execution_count": null,
   "metadata": {},
   "outputs": [],
   "source": []
  }
 ],
 "metadata": {
  "kernelspec": {
   "display_name": "Python 3",
   "language": "python",
   "name": "python3"
  },
  "language_info": {
   "codemirror_mode": {
    "name": "ipython",
    "version": 3
   },
   "file_extension": ".py",
   "mimetype": "text/x-python",
   "name": "python",
   "nbconvert_exporter": "python",
   "pygments_lexer": "ipython3",
   "version": "3.11.1"
  }
 },
 "nbformat": 4,
 "nbformat_minor": 2
}
