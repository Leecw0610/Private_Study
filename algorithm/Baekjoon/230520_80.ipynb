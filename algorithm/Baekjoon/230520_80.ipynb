{
 "cells": [
  {
   "attachments": {},
   "cell_type": "markdown",
   "metadata": {},
   "source": [
    "### 1524번"
   ]
  },
  {
   "cell_type": "code",
   "execution_count": 3,
   "metadata": {},
   "outputs": [
    {
     "name": "stdout",
     "output_type": "stream",
     "text": [
      "S\n",
      "B\n"
     ]
    }
   ],
   "source": [
    "t = int(input())\n",
    "for i in range(t) :\n",
    "    input()\n",
    "    N, M = map(int, input().split())\n",
    "    sj = sorted(list(map(int, input().split())), reverse=True)\n",
    "    sb = sorted(list(map(int, input().split())), reverse=True)\n",
    "\n",
    "    while sj and sb :\n",
    "        if sj[-1] >= sb[-1] :\n",
    "            sb.pop()\n",
    "        else :\n",
    "            sj.pop()\n",
    "\n",
    "    if sj :\n",
    "        print('S')\n",
    "    elif sb :\n",
    "        print('B')\n",
    "    else :\n",
    "        print('C')"
   ]
  },
  {
   "cell_type": "code",
   "execution_count": null,
   "metadata": {},
   "outputs": [],
   "source": []
  },
  {
   "cell_type": "code",
   "execution_count": null,
   "metadata": {},
   "outputs": [],
   "source": []
  },
  {
   "cell_type": "code",
   "execution_count": null,
   "metadata": {},
   "outputs": [],
   "source": []
  }
 ],
 "metadata": {
  "kernelspec": {
   "display_name": "Python 3",
   "language": "python",
   "name": "python3"
  },
  "language_info": {
   "codemirror_mode": {
    "name": "ipython",
    "version": 3
   },
   "file_extension": ".py",
   "mimetype": "text/x-python",
   "name": "python",
   "nbconvert_exporter": "python",
   "pygments_lexer": "ipython3",
   "version": "3.11.1"
  },
  "orig_nbformat": 4
 },
 "nbformat": 4,
 "nbformat_minor": 2
}
