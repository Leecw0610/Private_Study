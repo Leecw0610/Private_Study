{
 "cells": [
  {
   "cell_type": "markdown",
   "id": "ff3fbbae",
   "metadata": {},
   "source": [
    "### 1205번"
   ]
  },
  {
   "cell_type": "code",
   "execution_count": 1,
   "id": "6a2c9ac5",
   "metadata": {},
   "outputs": [
    {
     "name": "stdout",
     "output_type": "stream",
     "text": [
      "1\n"
     ]
    }
   ],
   "source": [
    "n, score, p = map(int, input().split())\n",
    "\n",
    "if n == 0:\n",
    "  print(1)\n",
    "else:\n",
    "  rank = list(map(int, input().split()))\n",
    "\n",
    "  if n == p and rank[-1] >= score:\n",
    "    print(-1)\n",
    "  else:\n",
    "    result = n+1\n",
    "    for i in range(n):\n",
    "      if rank[i] <= score:\n",
    "        result = i+1\n",
    "        break\n",
    "    print(result)"
   ]
  },
  {
   "cell_type": "code",
   "execution_count": null,
   "id": "aa7633a0",
   "metadata": {},
   "outputs": [],
   "source": []
  },
  {
   "cell_type": "code",
   "execution_count": null,
   "id": "2da67e61",
   "metadata": {},
   "outputs": [],
   "source": []
  },
  {
   "cell_type": "code",
   "execution_count": null,
   "id": "5f87540b",
   "metadata": {},
   "outputs": [],
   "source": []
  }
 ],
 "metadata": {
  "kernelspec": {
   "display_name": "Python 3",
   "language": "python",
   "name": "python3"
  },
  "language_info": {
   "codemirror_mode": {
    "name": "ipython",
    "version": 3
   },
   "file_extension": ".py",
   "mimetype": "text/x-python",
   "name": "python",
   "nbconvert_exporter": "python",
   "pygments_lexer": "ipython3",
   "version": "3.13.6"
  }
 },
 "nbformat": 4,
 "nbformat_minor": 5
}
