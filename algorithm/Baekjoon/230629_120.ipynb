{
 "cells": [
  {
   "attachments": {},
   "cell_type": "markdown",
   "metadata": {},
   "source": [
    "### 2153번"
   ]
  },
  {
   "cell_type": "code",
   "execution_count": 1,
   "metadata": {},
   "outputs": [
    {
     "name": "stdout",
     "output_type": "stream",
     "text": [
      "It is not a prime word.\n"
     ]
    }
   ],
   "source": [
    "import math\n",
    "\n",
    "word = input()\n",
    "\n",
    "total = 0\n",
    "for w in word:\n",
    "    if w.islower():\n",
    "        total += ord(w) - 96\n",
    "    else:\n",
    "        total += ord(w) - 38\n",
    "\n",
    "isPrime = True\n",
    "for i in range(2, int(math.sqrt(total)) + 1):\n",
    "    if total % i == 0:\n",
    "        isPrime = False\n",
    "\n",
    "if isPrime:\n",
    "    print('It is a prime word.')\n",
    "else:\n",
    "    print('It is not a prime word.')"
   ]
  },
  {
   "cell_type": "code",
   "execution_count": null,
   "metadata": {},
   "outputs": [],
   "source": []
  },
  {
   "cell_type": "code",
   "execution_count": null,
   "metadata": {},
   "outputs": [],
   "source": []
  },
  {
   "cell_type": "code",
   "execution_count": null,
   "metadata": {},
   "outputs": [],
   "source": []
  }
 ],
 "metadata": {
  "kernelspec": {
   "display_name": "Python 3",
   "language": "python",
   "name": "python3"
  },
  "language_info": {
   "codemirror_mode": {
    "name": "ipython",
    "version": 3
   },
   "file_extension": ".py",
   "mimetype": "text/x-python",
   "name": "python",
   "nbconvert_exporter": "python",
   "pygments_lexer": "ipython3",
   "version": "3.11.1"
  },
  "orig_nbformat": 4
 },
 "nbformat": 4,
 "nbformat_minor": 2
}
