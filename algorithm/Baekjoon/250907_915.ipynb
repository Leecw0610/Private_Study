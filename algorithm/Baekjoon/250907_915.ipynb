{
 "cells": [
  {
   "cell_type": "markdown",
   "id": "0135e697",
   "metadata": {},
   "source": [
    "### 1326번"
   ]
  },
  {
   "cell_type": "code",
   "execution_count": 1,
   "id": "a1e1a379",
   "metadata": {},
   "outputs": [
    {
     "name": "stdout",
     "output_type": "stream",
     "text": [
      "1\n"
     ]
    }
   ],
   "source": [
    "from collections import deque\n",
    "\n",
    "def bfs(a, b, bridge, N):\n",
    "    q = deque()\n",
    "    q.append(a-1)\n",
    "    check = [-1]*N\n",
    "    check[a-1] = 0\n",
    "    while q:\n",
    "        node = q.popleft()\n",
    "        for n in range(N):\n",
    "            if (n-node)%bridge[node] == 0 and check[n] == -1:\n",
    "                q.append(n)\n",
    "                check[n] = check[node] + 1\n",
    "                if n == b-1:\n",
    "                    return check[n]\n",
    "    return -1\n",
    "\n",
    "N = int(input())\n",
    "bridge = list(map(int, input().split()))\n",
    "a, b = map(int, input().split())\n",
    "print(bfs(a, b, bridge, N))"
   ]
  },
  {
   "cell_type": "code",
   "execution_count": null,
   "id": "829f61cc",
   "metadata": {},
   "outputs": [],
   "source": []
  },
  {
   "cell_type": "code",
   "execution_count": null,
   "id": "0213604a",
   "metadata": {},
   "outputs": [],
   "source": []
  },
  {
   "cell_type": "code",
   "execution_count": null,
   "id": "30de2263",
   "metadata": {},
   "outputs": [],
   "source": []
  }
 ],
 "metadata": {
  "kernelspec": {
   "display_name": "Python 3",
   "language": "python",
   "name": "python3"
  },
  "language_info": {
   "codemirror_mode": {
    "name": "ipython",
    "version": 3
   },
   "file_extension": ".py",
   "mimetype": "text/x-python",
   "name": "python",
   "nbconvert_exporter": "python",
   "pygments_lexer": "ipython3",
   "version": "3.13.6"
  }
 },
 "nbformat": 4,
 "nbformat_minor": 5
}
