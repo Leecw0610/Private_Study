{
 "cells": [
  {
   "cell_type": "markdown",
   "metadata": {
    "vscode": {
     "languageId": "plaintext"
    }
   },
   "source": [
    "### 23805번"
   ]
  },
  {
   "cell_type": "code",
   "execution_count": 2,
   "metadata": {},
   "outputs": [
    {
     "name": "stdout",
     "output_type": "stream",
     "text": [
      "@@@@@@@@@   @@@\n",
      "@@@@@@@@@   @@@\n",
      "@@@@@@@@@   @@@\n",
      "@@@   @@@   @@@\n",
      "@@@   @@@   @@@\n",
      "@@@   @@@   @@@\n",
      "@@@   @@@   @@@\n",
      "@@@   @@@   @@@\n",
      "@@@   @@@   @@@\n",
      "@@@   @@@   @@@\n",
      "@@@   @@@   @@@\n",
      "@@@   @@@   @@@\n",
      "@@@   @@@@@@@@@\n",
      "@@@   @@@@@@@@@\n",
      "@@@   @@@@@@@@@\n"
     ]
    }
   ],
   "source": [
    "def golbange_print_rotate_f(N):\n",
    "    answer = ['' for _ in range(N * 5)]\n",
    "    \n",
    "    for idx in range(N*5):\n",
    "        if idx < N:\n",
    "            answer[idx] = f\"{'@' * (N * 3)}{' ' * N}{'@' * N}\"\n",
    "        elif N <= idx < N * 5 - N:\n",
    "            answer[idx] = f\"{'@' * N}{' ' * N}{'@' * N}{' ' * N}{'@' * N}\"\n",
    "        else:\n",
    "            answer[idx] = f\"{'@' * (N)}{' ' * N}{'@' * N * 3}\"\n",
    "            \n",
    "        \n",
    "    return \"\\n\".join(answer)\n",
    "\n",
    "\n",
    "if __name__ == \"__main__\":\n",
    "    N = int(input())\n",
    "    \n",
    "    print(golbange_print_rotate_f(N=N))"
   ]
  },
  {
   "cell_type": "code",
   "execution_count": null,
   "metadata": {},
   "outputs": [],
   "source": []
  },
  {
   "cell_type": "code",
   "execution_count": null,
   "metadata": {},
   "outputs": [],
   "source": []
  },
  {
   "cell_type": "code",
   "execution_count": null,
   "metadata": {},
   "outputs": [],
   "source": []
  }
 ],
 "metadata": {
  "kernelspec": {
   "display_name": "Python 3",
   "language": "python",
   "name": "python3"
  },
  "language_info": {
   "codemirror_mode": {
    "name": "ipython",
    "version": 3
   },
   "file_extension": ".py",
   "mimetype": "text/x-python",
   "name": "python",
   "nbconvert_exporter": "python",
   "pygments_lexer": "ipython3",
   "version": "3.11.1"
  }
 },
 "nbformat": 4,
 "nbformat_minor": 2
}
