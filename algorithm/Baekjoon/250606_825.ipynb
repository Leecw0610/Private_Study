{
 "cells": [
  {
   "cell_type": "markdown",
   "id": "9a279d54",
   "metadata": {},
   "source": [
    "### 32025번"
   ]
  },
  {
   "cell_type": "code",
   "execution_count": null,
   "id": "1bb5d3e8",
   "metadata": {},
   "outputs": [
    {
     "name": "stdout",
     "output_type": "stream",
     "text": [
      "250\n"
     ]
    }
   ],
   "source": [
    "H = int(input())\n",
    "W = int(input())\n",
    "\n",
    "print(int(min(H, W) * 100 / 2))"
   ]
  },
  {
   "cell_type": "code",
   "execution_count": null,
   "id": "06abf708",
   "metadata": {},
   "outputs": [],
   "source": []
  },
  {
   "cell_type": "code",
   "execution_count": null,
   "id": "a26949c4",
   "metadata": {},
   "outputs": [],
   "source": []
  },
  {
   "cell_type": "code",
   "execution_count": null,
   "id": "711a1581",
   "metadata": {},
   "outputs": [],
   "source": []
  }
 ],
 "metadata": {
  "kernelspec": {
   "display_name": "Python 3",
   "language": "python",
   "name": "python3"
  },
  "language_info": {
   "codemirror_mode": {
    "name": "ipython",
    "version": 3
   },
   "file_extension": ".py",
   "mimetype": "text/x-python",
   "name": "python",
   "nbconvert_exporter": "python",
   "pygments_lexer": "ipython3",
   "version": "3.11.1"
  }
 },
 "nbformat": 4,
 "nbformat_minor": 5
}
