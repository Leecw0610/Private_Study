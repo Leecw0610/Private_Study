{
 "cells": [
  {
   "cell_type": "markdown",
   "id": "e8ebc3db",
   "metadata": {},
   "source": [
    "### 33631번"
   ]
  },
  {
   "cell_type": "code",
   "execution_count": 1,
   "id": "ebff3e0a",
   "metadata": {},
   "outputs": [
    {
     "name": "stdout",
     "output_type": "stream",
     "text": [
      "Hello, siumii\n",
      "Hello, siumii\n",
      "30\n",
      "Hello, siumii\n",
      "1\n"
     ]
    }
   ],
   "source": [
    "Fs, Cs, Es, Bs = map(int, input().split())\n",
    "Fn, Cn, En, Bn = map(int, input().split())\n",
    "Q = int(input())\n",
    "cookie = 0\n",
    "\n",
    "for _ in range(Q):\n",
    "    q, i = map(int, input().split())\n",
    "    if q == 1:\n",
    "        max_cookie = min(Fs // Fn, Cs // Cn, Es // En, Bs // Bn)\n",
    "        if max_cookie >= i:\n",
    "            Fs, Cs, Es, Bs = Fs - Fn * i, Cs - Cn * i, Es - En * i, Bs - Bn * i\n",
    "            cookie += i\n",
    "            print(cookie)\n",
    "        else:\n",
    "            print(\"Hello, siumii\")\n",
    "\n",
    "    elif q == 2:\n",
    "        Fs += i\n",
    "        print(Fs)\n",
    "    elif q == 3:\n",
    "        Cs += i\n",
    "        print(Cs)\n",
    "    elif q == 4:\n",
    "        Es += i\n",
    "        print(Es)\n",
    "    elif q == 5:\n",
    "        Bs += i\n",
    "        print(Bs)"
   ]
  },
  {
   "cell_type": "code",
   "execution_count": null,
   "id": "a35a7032",
   "metadata": {},
   "outputs": [],
   "source": []
  },
  {
   "cell_type": "code",
   "execution_count": null,
   "id": "ee2c531a",
   "metadata": {},
   "outputs": [],
   "source": []
  },
  {
   "cell_type": "code",
   "execution_count": null,
   "id": "32170236",
   "metadata": {},
   "outputs": [],
   "source": []
  }
 ],
 "metadata": {
  "kernelspec": {
   "display_name": "Python 3",
   "language": "python",
   "name": "python3"
  },
  "language_info": {
   "codemirror_mode": {
    "name": "ipython",
    "version": 3
   },
   "file_extension": ".py",
   "mimetype": "text/x-python",
   "name": "python",
   "nbconvert_exporter": "python",
   "pygments_lexer": "ipython3",
   "version": "3.11.1"
  }
 },
 "nbformat": 4,
 "nbformat_minor": 5
}
