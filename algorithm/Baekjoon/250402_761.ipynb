{
 "cells": [
  {
   "cell_type": "markdown",
   "metadata": {},
   "source": [
    "### 29731번"
   ]
  },
  {
   "cell_type": "code",
   "execution_count": 1,
   "metadata": {},
   "outputs": [
    {
     "name": "stdout",
     "output_type": "stream",
     "text": [
      "Yes\n"
     ]
    }
   ],
   "source": [
    "promise = [\n",
    "    \"Never gonna give you up\",\n",
    "    \"Never gonna let you down\",\n",
    "    \"Never gonna run around and desert you\",\n",
    "    \"Never gonna make you cry\",\n",
    "    \"Never gonna say goodbye\",\n",
    "    \"Never gonna tell a lie and hurt you\",\n",
    "    \"Never gonna stop\",\n",
    "]\n",
    "\n",
    "N = int(input())\n",
    "check = False\n",
    "\n",
    "for _ in range(N):\n",
    "    p = input()\n",
    "    if p not in promise:\n",
    "        check = True\n",
    "        break\n",
    "\n",
    "if check:\n",
    "    print(\"Yes\")\n",
    "else:\n",
    "    print(\"No\")"
   ]
  },
  {
   "cell_type": "code",
   "execution_count": null,
   "metadata": {},
   "outputs": [],
   "source": []
  },
  {
   "cell_type": "code",
   "execution_count": null,
   "metadata": {},
   "outputs": [],
   "source": []
  }
 ],
 "metadata": {
  "kernelspec": {
   "display_name": "Python 3",
   "language": "python",
   "name": "python3"
  },
  "language_info": {
   "codemirror_mode": {
    "name": "ipython",
    "version": 3
   },
   "file_extension": ".py",
   "mimetype": "text/x-python",
   "name": "python",
   "nbconvert_exporter": "python",
   "pygments_lexer": "ipython3",
   "version": "3.11.1"
  }
 },
 "nbformat": 4,
 "nbformat_minor": 2
}
