{
 "cells": [
  {
   "cell_type": "markdown",
   "id": "0b2477b3",
   "metadata": {},
   "source": [
    "### 32342번"
   ]
  },
  {
   "cell_type": "code",
   "execution_count": 1,
   "id": "59178de5",
   "metadata": {},
   "outputs": [
    {
     "name": "stdout",
     "output_type": "stream",
     "text": [
      "1\n",
      "0\n",
      "3\n",
      "0\n"
     ]
    }
   ],
   "source": [
    "Q = int(input())\n",
    "\n",
    "for _ in range(Q):\n",
    "    S = input()\n",
    "    result = 0\n",
    "    for i in range(len(S) - 2):\n",
    "        if S[i : i + 3] == \"WOW\":\n",
    "            result += 1\n",
    "\n",
    "    print(result)"
   ]
  },
  {
   "cell_type": "code",
   "execution_count": null,
   "id": "ce57cf71",
   "metadata": {},
   "outputs": [],
   "source": []
  },
  {
   "cell_type": "code",
   "execution_count": null,
   "id": "3f918f40",
   "metadata": {},
   "outputs": [],
   "source": []
  },
  {
   "cell_type": "code",
   "execution_count": null,
   "id": "6888ecd5",
   "metadata": {},
   "outputs": [],
   "source": []
  }
 ],
 "metadata": {
  "kernelspec": {
   "display_name": "Python 3",
   "language": "python",
   "name": "python3"
  },
  "language_info": {
   "codemirror_mode": {
    "name": "ipython",
    "version": 3
   },
   "file_extension": ".py",
   "mimetype": "text/x-python",
   "name": "python",
   "nbconvert_exporter": "python",
   "pygments_lexer": "ipython3",
   "version": "3.11.1"
  }
 },
 "nbformat": 4,
 "nbformat_minor": 5
}
