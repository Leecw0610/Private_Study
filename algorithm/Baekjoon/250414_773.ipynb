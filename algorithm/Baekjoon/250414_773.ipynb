{
 "cells": [
  {
   "cell_type": "markdown",
   "id": "0fc60bb2",
   "metadata": {},
   "source": [
    "### 30087번"
   ]
  },
  {
   "cell_type": "code",
   "execution_count": 1,
   "id": "59222f25",
   "metadata": {},
   "outputs": [
    {
     "name": "stdout",
     "output_type": "stream",
     "text": [
      "303\n",
      "204\n"
     ]
    }
   ],
   "source": [
    "seminar = {\n",
    "    \"Algorithm\": \"204\",\n",
    "    \"DataAnalysis\": \"207\",\n",
    "    \"ArtificialIntelligence\": \"302\",\n",
    "    \"CyberSecurity\": \"B101\",\n",
    "    \"Network\": \"303\",\n",
    "    \"Startup\": \"501\",\n",
    "    \"TestStrategy\": \"105\",\n",
    "}\n",
    "\n",
    "N = int(input())\n",
    "\n",
    "for _ in range(N):\n",
    "    L = input()\n",
    "    print(seminar[L])"
   ]
  },
  {
   "cell_type": "code",
   "execution_count": null,
   "id": "656ff45d",
   "metadata": {},
   "outputs": [],
   "source": []
  },
  {
   "cell_type": "code",
   "execution_count": null,
   "id": "18e0637a",
   "metadata": {},
   "outputs": [],
   "source": []
  },
  {
   "cell_type": "code",
   "execution_count": null,
   "id": "296fe421",
   "metadata": {},
   "outputs": [],
   "source": []
  }
 ],
 "metadata": {
  "kernelspec": {
   "display_name": "Python 3",
   "language": "python",
   "name": "python3"
  },
  "language_info": {
   "codemirror_mode": {
    "name": "ipython",
    "version": 3
   },
   "file_extension": ".py",
   "mimetype": "text/x-python",
   "name": "python",
   "nbconvert_exporter": "python",
   "pygments_lexer": "ipython3",
   "version": "3.11.1"
  }
 },
 "nbformat": 4,
 "nbformat_minor": 5
}
