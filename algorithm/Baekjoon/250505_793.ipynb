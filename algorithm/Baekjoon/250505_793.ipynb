{
 "cells": [
  {
   "cell_type": "markdown",
   "id": "8ca1dd20",
   "metadata": {},
   "source": [
    "### 31009번"
   ]
  },
  {
   "cell_type": "code",
   "execution_count": 1,
   "id": "62bc6455",
   "metadata": {},
   "outputs": [
    {
     "name": "stdout",
     "output_type": "stream",
     "text": [
      "90\n",
      "3\n"
     ]
    }
   ],
   "source": [
    "N = int(input())\n",
    "Bus = []\n",
    "result1 = result2 = 0\n",
    "\n",
    "for _ in range(N):\n",
    "    D, C = input().split()\n",
    "    Bus.append([D, int(C)])\n",
    "    if D == \"jinju\":\n",
    "        result1 = int(C)\n",
    "\n",
    "for i in Bus:\n",
    "    if i[1] > result1:\n",
    "        result2 += 1\n",
    "\n",
    "print(result1)\n",
    "print(result2)"
   ]
  },
  {
   "cell_type": "code",
   "execution_count": null,
   "id": "0ed8dd11",
   "metadata": {},
   "outputs": [],
   "source": []
  },
  {
   "cell_type": "code",
   "execution_count": null,
   "id": "5f57b8b6",
   "metadata": {},
   "outputs": [],
   "source": []
  }
 ],
 "metadata": {
  "kernelspec": {
   "display_name": "Python 3",
   "language": "python",
   "name": "python3"
  },
  "language_info": {
   "codemirror_mode": {
    "name": "ipython",
    "version": 3
   },
   "file_extension": ".py",
   "mimetype": "text/x-python",
   "name": "python",
   "nbconvert_exporter": "python",
   "pygments_lexer": "ipython3",
   "version": "3.11.1"
  }
 },
 "nbformat": 4,
 "nbformat_minor": 5
}
