{
 "cells": [
  {
   "cell_type": "markdown",
   "metadata": {},
   "source": [
    "### 9654번"
   ]
  },
  {
   "cell_type": "code",
   "execution_count": 1,
   "metadata": {},
   "outputs": [
    {
     "name": "stdout",
     "output_type": "stream",
     "text": [
      "SHIP NAME      CLASS          DEPLOYMENT IN SERVICE\n",
      "N2 Bomber      Heavy Fighter  Limited    21        \n",
      "J-Type 327     Light Combat   Unlimited  1         \n",
      "NX Cruiser     Medium Fighter Limited    18        \n",
      "N1 Starfighter Medium Fighter Unlimited  25        \n",
      "Royal Cruiser  Light Combat   Limited    4         \n"
     ]
    }
   ],
   "source": [
    "print(\"SHIP NAME      CLASS          DEPLOYMENT IN SERVICE\")\n",
    "print(\"N2 Bomber      Heavy Fighter  Limited    21        \")\n",
    "print(\"J-Type 327     Light Combat   Unlimited  1         \")\n",
    "print(\"NX Cruiser     Medium Fighter Limited    18        \")\n",
    "print(\"N1 Starfighter Medium Fighter Unlimited  25        \")\n",
    "print(\"Royal Cruiser  Light Combat   Limited    4         \")"
   ]
  },
  {
   "cell_type": "code",
   "execution_count": null,
   "metadata": {},
   "outputs": [],
   "source": []
  },
  {
   "cell_type": "code",
   "execution_count": null,
   "metadata": {},
   "outputs": [],
   "source": []
  },
  {
   "cell_type": "code",
   "execution_count": null,
   "metadata": {},
   "outputs": [],
   "source": []
  }
 ],
 "metadata": {
  "kernelspec": {
   "display_name": "Python 3",
   "language": "python",
   "name": "python3"
  },
  "language_info": {
   "codemirror_mode": {
    "name": "ipython",
    "version": 3
   },
   "file_extension": ".py",
   "mimetype": "text/x-python",
   "name": "python",
   "nbconvert_exporter": "python",
   "pygments_lexer": "ipython3",
   "version": "3.11.1"
  }
 },
 "nbformat": 4,
 "nbformat_minor": 2
}
