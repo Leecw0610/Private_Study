{
 "cells": [
  {
   "cell_type": "markdown",
   "id": "2ca6c686",
   "metadata": {},
   "source": [
    "### 1012번"
   ]
  },
  {
   "cell_type": "code",
   "execution_count": 1,
   "id": "06d728ad",
   "metadata": {},
   "outputs": [
    {
     "name": "stdout",
     "output_type": "stream",
     "text": [
      "2\n"
     ]
    }
   ],
   "source": [
    "# dfs 정의\n",
    "def dfs(x, y):\n",
    "    # 상하좌우\n",
    "    dx = [0, 0, -1, 1] \n",
    "    dy = [1, -1, 0, 0]\n",
    "\n",
    "    # 네 방향 탐색\n",
    "    for i in range(4):\n",
    "        nx = x + dx[i]\n",
    "        ny = y + dy[i]\n",
    "        # 범위 안에 있고 1이면(=배추이면) 지나간것을 -1로 표시하고 주변 탐색\n",
    "        if (0 <= nx < m) and (0 <= ny < n) and graph[ny][nx] == 1:\n",
    "            graph[ny][nx] = -1\n",
    "            dfs(nx, ny)\n",
    "\n",
    "t = int(input()) # 테스트 케이스의 개수\n",
    "for _ in range(t):\n",
    "    m, n, k = map(int, input().split()) # 가로, 세로, 배추 개수\n",
    "    graph = [[0 for _ in range(m)] for _ in range(n)]\n",
    "\n",
    "    # 배추 위치 표시\n",
    "    for _ in range(k):\n",
    "        X, Y = map(int, input().split()) \n",
    "        graph[Y][X] = 1 # X, Y 바꿔서 표시해야하는거 주의!\n",
    "\n",
    "    # 배추 그룹 수(=배추흰지렁이 개수) 세기\n",
    "    count = 0\n",
    "    for a in range(m):\n",
    "        for b in range(n):\n",
    "            if graph[b][a] == 1:\n",
    "                dfs(a ,b)\n",
    "                count += 1\n",
    "    print(count)"
   ]
  },
  {
   "cell_type": "code",
   "execution_count": null,
   "id": "ba2793f9",
   "metadata": {},
   "outputs": [],
   "source": []
  },
  {
   "cell_type": "code",
   "execution_count": null,
   "id": "17b6781c",
   "metadata": {},
   "outputs": [],
   "source": []
  },
  {
   "cell_type": "code",
   "execution_count": null,
   "id": "e07adda9",
   "metadata": {},
   "outputs": [],
   "source": []
  }
 ],
 "metadata": {
  "kernelspec": {
   "display_name": "Python 3",
   "language": "python",
   "name": "python3"
  },
  "language_info": {
   "codemirror_mode": {
    "name": "ipython",
    "version": 3
   },
   "file_extension": ".py",
   "mimetype": "text/x-python",
   "name": "python",
   "nbconvert_exporter": "python",
   "pygments_lexer": "ipython3",
   "version": "3.11.1"
  }
 },
 "nbformat": 4,
 "nbformat_minor": 5
}
