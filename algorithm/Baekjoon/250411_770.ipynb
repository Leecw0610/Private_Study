{
 "cells": [
  {
   "cell_type": "markdown",
   "id": "b0c7b0ca",
   "metadata": {},
   "source": [
    "### 30030번"
   ]
  },
  {
   "cell_type": "code",
   "execution_count": 2,
   "id": "a0bd68f9",
   "metadata": {},
   "outputs": [
    {
     "name": "stdout",
     "output_type": "stream",
     "text": [
      "9000\n"
     ]
    }
   ],
   "source": [
    "B = int(input())\n",
    "A = B * 100 / 110\n",
    "\n",
    "print(int(A))"
   ]
  },
  {
   "cell_type": "code",
   "execution_count": null,
   "id": "ed178e10",
   "metadata": {},
   "outputs": [],
   "source": []
  },
  {
   "cell_type": "code",
   "execution_count": null,
   "id": "6755fc68",
   "metadata": {},
   "outputs": [],
   "source": []
  }
 ],
 "metadata": {
  "kernelspec": {
   "display_name": "Python 3",
   "language": "python",
   "name": "python3"
  },
  "language_info": {
   "codemirror_mode": {
    "name": "ipython",
    "version": 3
   },
   "file_extension": ".py",
   "mimetype": "text/x-python",
   "name": "python",
   "nbconvert_exporter": "python",
   "pygments_lexer": "ipython3",
   "version": "3.11.1"
  }
 },
 "nbformat": 4,
 "nbformat_minor": 5
}
