{
 "cells": [
  {
   "cell_type": "markdown",
   "id": "f5ac5ec6",
   "metadata": {},
   "source": [
    "### 32216번"
   ]
  },
  {
   "cell_type": "code",
   "execution_count": 1,
   "id": "50418c76",
   "metadata": {},
   "outputs": [
    {
     "name": "stdout",
     "output_type": "stream",
     "text": [
      "53\n"
     ]
    }
   ],
   "source": [
    "n, k, T = map(int, input().split())\n",
    "d = [0] + list(map(int, input().split()))\n",
    "T_lst = [T] + [0] * n\n",
    "\n",
    "for i in range(n):\n",
    "    if T_lst[i] > k:  # 물이 너무 뜨거울 때\n",
    "        T_lst[i + 1] = T_lst[i] + d[i + 1] - abs(T_lst[i] - k)\n",
    "    elif T_lst[i - 1] < k:  # 물이 너무 차가울 때\n",
    "        T_lst[i + 1] = T_lst[i] + d[i + 1] + abs(T_lst[i] - k)\n",
    "    else:  # 물 온도가 적절할 때\n",
    "        T_lst[i + 1] = T_lst[i] + d[i + 1]\n",
    "\n",
    "result = 0\n",
    "for t in T_lst[1:]:\n",
    "    result += abs(t - k)\n",
    "\n",
    "print(result)"
   ]
  },
  {
   "cell_type": "code",
   "execution_count": null,
   "id": "aa88be6d",
   "metadata": {},
   "outputs": [],
   "source": []
  },
  {
   "cell_type": "code",
   "execution_count": null,
   "id": "4d96d661",
   "metadata": {},
   "outputs": [],
   "source": []
  },
  {
   "cell_type": "code",
   "execution_count": null,
   "id": "4d94cc13",
   "metadata": {},
   "outputs": [],
   "source": []
  }
 ],
 "metadata": {
  "kernelspec": {
   "display_name": "Python 3",
   "language": "python",
   "name": "python3"
  },
  "language_info": {
   "codemirror_mode": {
    "name": "ipython",
    "version": 3
   },
   "file_extension": ".py",
   "mimetype": "text/x-python",
   "name": "python",
   "nbconvert_exporter": "python",
   "pygments_lexer": "ipython3",
   "version": "3.11.1"
  }
 },
 "nbformat": 4,
 "nbformat_minor": 5
}
