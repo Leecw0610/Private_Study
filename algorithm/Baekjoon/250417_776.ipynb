{
 "cells": [
  {
   "cell_type": "markdown",
   "id": "44e42fc4",
   "metadata": {},
   "source": [
    "### 30454번"
   ]
  },
  {
   "cell_type": "code",
   "execution_count": 1,
   "id": "da64ac16",
   "metadata": {},
   "outputs": [
    {
     "name": "stdout",
     "output_type": "stream",
     "text": [
      "4 3\n"
     ]
    }
   ],
   "source": [
    "N, L = map(int, input().split())\n",
    "result = []\n",
    "\n",
    "for _ in range(N):\n",
    "    zebra = input() + \"0\"\n",
    "    tmp1 = []\n",
    "    tmp2 = \"\"\n",
    "    for i in range(L + 1):\n",
    "        if zebra[i] == \"1\":\n",
    "            tmp2 += \"1\"\n",
    "        elif len(tmp2) > 0:\n",
    "            tmp1.append(tmp2)\n",
    "            tmp2 = \"\"\n",
    "\n",
    "    result.append(len(tmp1))\n",
    "\n",
    "print(max(result), result.count(max(result)))"
   ]
  },
  {
   "cell_type": "code",
   "execution_count": null,
   "id": "1c619759",
   "metadata": {},
   "outputs": [],
   "source": []
  },
  {
   "cell_type": "code",
   "execution_count": null,
   "id": "314bd72b",
   "metadata": {},
   "outputs": [],
   "source": []
  },
  {
   "cell_type": "code",
   "execution_count": null,
   "id": "9f1dc27e",
   "metadata": {},
   "outputs": [],
   "source": []
  }
 ],
 "metadata": {
  "kernelspec": {
   "display_name": "Python 3",
   "language": "python",
   "name": "python3"
  },
  "language_info": {
   "codemirror_mode": {
    "name": "ipython",
    "version": 3
   },
   "file_extension": ".py",
   "mimetype": "text/x-python",
   "name": "python",
   "nbconvert_exporter": "python",
   "pygments_lexer": "ipython3",
   "version": "3.11.1"
  }
 },
 "nbformat": 4,
 "nbformat_minor": 5
}
