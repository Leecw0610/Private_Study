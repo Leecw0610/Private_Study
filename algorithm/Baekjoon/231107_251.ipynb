{
 "cells": [
  {
   "cell_type": "markdown",
   "metadata": {},
   "source": [
    "### 4597번"
   ]
  },
  {
   "cell_type": "code",
   "execution_count": 1,
   "metadata": {},
   "outputs": [
    {
     "name": "stdout",
     "output_type": "stream",
     "text": [
      "1010\n",
      "0100101\n",
      "11\n",
      "0000\n",
      "1101001010\n"
     ]
    }
   ],
   "source": [
    "while True:\n",
    "    bitString = input()\n",
    "    if bitString == '#':\n",
    "        break\n",
    "    p = bitString[-1]\n",
    "    bitString = bitString[:-1]\n",
    "    bitCnt = bitString.count('1')\n",
    "    if p == 'e':\n",
    "        if bitCnt % 2 == 0:\n",
    "            bitString += '0'\n",
    "        else:\n",
    "            bitString += '1'\n",
    "    else:\n",
    "        if bitCnt % 2 == 0:\n",
    "            bitString += '1'\n",
    "        else:\n",
    "            bitString += '0'\n",
    "    print(bitString)"
   ]
  },
  {
   "cell_type": "code",
   "execution_count": null,
   "metadata": {},
   "outputs": [],
   "source": []
  },
  {
   "cell_type": "code",
   "execution_count": null,
   "metadata": {},
   "outputs": [],
   "source": []
  }
 ],
 "metadata": {
  "kernelspec": {
   "display_name": "Python 3",
   "language": "python",
   "name": "python3"
  },
  "language_info": {
   "codemirror_mode": {
    "name": "ipython",
    "version": 3
   },
   "file_extension": ".py",
   "mimetype": "text/x-python",
   "name": "python",
   "nbconvert_exporter": "python",
   "pygments_lexer": "ipython3",
   "version": "3.11.1"
  }
 },
 "nbformat": 4,
 "nbformat_minor": 2
}
