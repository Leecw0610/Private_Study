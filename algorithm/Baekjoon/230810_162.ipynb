{
 "cells": [
  {
   "cell_type": "markdown",
   "metadata": {},
   "source": [
    "### 2596번"
   ]
  },
  {
   "cell_type": "code",
   "execution_count": 1,
   "metadata": {},
   "outputs": [
    {
     "name": "stdout",
     "output_type": "stream",
     "text": [
      "3\n"
     ]
    }
   ],
   "source": [
    "def fcn(arr):\n",
    "    k = []\n",
    "    k_temp = []\n",
    "    for i in range(8):\n",
    "        check = 0\n",
    "        for j in range(6):\n",
    "            if arr[j] != p[i][j]:\n",
    "                check += 1\n",
    "        k.append([check, i])\n",
    "        k.sort()\n",
    "\n",
    "    if k[0][0] == 1:\n",
    "        return k[0][1]\n",
    "    else:\n",
    "        return -1\n",
    "\n",
    "\n",
    "p = [['0', '0', '0', '0', '0', '0'],\n",
    "     ['0', '0', '1', '1', '1', '1'],\n",
    "     ['0', '1', '0', '0', '1', '1'],\n",
    "     ['0', '1', '1', '1', '0', '0'],\n",
    "     ['1', '0', '0', '1', '1', '0'],\n",
    "     ['1', '0', '1', '0', '0', '1'],\n",
    "     ['1', '1', '0', '1', '0', '1'],\n",
    "     ['1', '1', '1', '0', '1', '0']]\n",
    "pp = ['A', 'B', 'C', 'D', 'E', 'F', 'G', 'H']\n",
    "\n",
    "n = int(input())\n",
    "arr = list(str(input()))\n",
    "ans = []\n",
    "err = 0\n",
    "\n",
    "for i in range(n):\n",
    "    ch = False\n",
    "    for j in range(8):\n",
    "        if arr[0 : 6] == p[j]:\n",
    "            ans.append(pp[j])\n",
    "            ch = True\n",
    "        else:\n",
    "            pass\n",
    "\n",
    "    if ch == False:\n",
    "        if fcn(arr[0 : 6]) == -1:\n",
    "            err = 1\n",
    "            m = i + 1\n",
    "            break\n",
    "        else:\n",
    "            ans.append(pp[fcn(arr[0 : 6])])\n",
    "    del arr[0 : 6]\n",
    "    if err == 1:\n",
    "        break\n",
    "\n",
    "if err == 1:\n",
    "    print(m)\n",
    "else:\n",
    "    for i in range(n):\n",
    "        print(ans[i], end='')"
   ]
  },
  {
   "cell_type": "code",
   "execution_count": null,
   "metadata": {},
   "outputs": [],
   "source": []
  },
  {
   "cell_type": "code",
   "execution_count": null,
   "metadata": {},
   "outputs": [],
   "source": []
  },
  {
   "cell_type": "code",
   "execution_count": null,
   "metadata": {},
   "outputs": [],
   "source": []
  }
 ],
 "metadata": {
  "kernelspec": {
   "display_name": "Python 3",
   "language": "python",
   "name": "python3"
  },
  "language_info": {
   "codemirror_mode": {
    "name": "ipython",
    "version": 3
   },
   "file_extension": ".py",
   "mimetype": "text/x-python",
   "name": "python",
   "nbconvert_exporter": "python",
   "pygments_lexer": "ipython3",
   "version": "3.11.1"
  },
  "orig_nbformat": 4
 },
 "nbformat": 4,
 "nbformat_minor": 2
}
