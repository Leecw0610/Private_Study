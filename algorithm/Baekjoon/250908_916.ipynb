{
 "cells": [
  {
   "cell_type": "markdown",
   "id": "03c5b55e",
   "metadata": {},
   "source": [
    "### 1331번"
   ]
  },
  {
   "cell_type": "code",
   "execution_count": null,
   "id": "32265abc",
   "metadata": {},
   "outputs": [],
   "source": [
    "def check_valid(now, dest):\n",
    "    if abs(ord(now[0]) - ord(dest[0])) == 2 and abs(int(now[1]) - int(dest[1])) == 1:\n",
    "        return 1\n",
    "    elif abs(ord(now[0]) - ord(dest[0])) == 1 and abs(int(now[1]) - int(dest[1])) == 2:\n",
    "        return 1\n",
    "    else:\n",
    "        return 0\n",
    "\n",
    "sqrs = []\n",
    "now = input()\n",
    "sqrs.append(now)\n",
    "\n",
    "cnt = 1\n",
    "for i in range(35):\n",
    "    dest = input()\n",
    "    sqrs.append(dest)\n",
    "\n",
    "    if check_valid(now,dest) == 1:\n",
    "        cnt += 1\n",
    "        now = dest\n",
    "    else:\n",
    "        break\n",
    "\n",
    "if cnt == 36 and len(set(sqrs))== 36 and check_valid(sqrs[0],sqrs[-1]):\n",
    "    print('Valid')\n",
    "else:\n",
    "    print('Invalid')"
   ]
  },
  {
   "cell_type": "code",
   "execution_count": null,
   "id": "f5bc2173",
   "metadata": {},
   "outputs": [],
   "source": []
  },
  {
   "cell_type": "code",
   "execution_count": null,
   "id": "286a65ea",
   "metadata": {},
   "outputs": [],
   "source": []
  },
  {
   "cell_type": "code",
   "execution_count": null,
   "id": "c9dfce9a",
   "metadata": {},
   "outputs": [],
   "source": []
  }
 ],
 "metadata": {
  "language_info": {
   "name": "python"
  }
 },
 "nbformat": 4,
 "nbformat_minor": 5
}
