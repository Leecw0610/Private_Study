{
 "cells": [
  {
   "cell_type": "markdown",
   "id": "fef0e36f",
   "metadata": {},
   "source": [
    "### 30642번"
   ]
  },
  {
   "cell_type": "code",
   "execution_count": 1,
   "id": "8171334a",
   "metadata": {},
   "outputs": [
    {
     "name": "stdout",
     "output_type": "stream",
     "text": [
      "8\n"
     ]
    }
   ],
   "source": [
    "N = int(input())\n",
    "mascot = input()\n",
    "K = int(input())\n",
    "\n",
    "if mascot == \"annyong\":\n",
    "    if K % 2 == 1:\n",
    "        print(K)\n",
    "    else:\n",
    "        print(K + 1 if K + 1 <= N else K - 1)\n",
    "elif mascot == \"induck\":\n",
    "    if K % 2 == 0:\n",
    "        print(K)\n",
    "    else:\n",
    "        print(K + 1 if K + 1 <= N else K - 1)"
   ]
  },
  {
   "cell_type": "code",
   "execution_count": null,
   "id": "2879b99b",
   "metadata": {},
   "outputs": [],
   "source": []
  },
  {
   "cell_type": "code",
   "execution_count": null,
   "id": "26434088",
   "metadata": {},
   "outputs": [],
   "source": []
  }
 ],
 "metadata": {
  "kernelspec": {
   "display_name": "Python 3",
   "language": "python",
   "name": "python3"
  },
  "language_info": {
   "codemirror_mode": {
    "name": "ipython",
    "version": 3
   },
   "file_extension": ".py",
   "mimetype": "text/x-python",
   "name": "python",
   "nbconvert_exporter": "python",
   "pygments_lexer": "ipython3",
   "version": "3.11.1"
  }
 },
 "nbformat": 4,
 "nbformat_minor": 5
}
