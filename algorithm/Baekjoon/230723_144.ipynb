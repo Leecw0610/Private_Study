{
 "cells": [
  {
   "cell_type": "markdown",
   "metadata": {},
   "source": [
    "### 2456번"
   ]
  },
  {
   "cell_type": "code",
   "execution_count": 1,
   "metadata": {},
   "outputs": [],
   "source": [
    "import sys\n",
    "input = sys.stdin.readline\n",
    "\n",
    "N = int(input())\n",
    "arr1 = [0] * 3\n",
    "arr2 = [0] * 3\n",
    "for _ in range(N):\n",
    "    a, b, c = map(int, input().strip().split())\n",
    "    arr1[0] += a\n",
    "    arr1[1] += b\n",
    "    arr1[2] += c\n",
    "\n",
    "    arr2[0] += a * a\n",
    "    arr2[1] += b * b\n",
    "    arr2[2] += c * c\n",
    "# print(arr1, arr2)\n",
    "\n",
    "max_value = max(arr1)\n",
    "if arr1.count(max_value) == 1:\n",
    "    for i in range(3):\n",
    "        if arr1[i] == max_value:\n",
    "            print(i + 1, max_value)\n",
    "else:\n",
    "    next_max_value = max(arr2)\n",
    "    idx = arr2.index(next_max_value)\n",
    "    if arr2.count(next_max_value) == 1:\n",
    "        print(idx + 1, arr1[idx])\n",
    "    else:\n",
    "        print(0, arr1[idx])"
   ]
  },
  {
   "cell_type": "code",
   "execution_count": null,
   "metadata": {},
   "outputs": [],
   "source": []
  },
  {
   "cell_type": "code",
   "execution_count": null,
   "metadata": {},
   "outputs": [],
   "source": []
  },
  {
   "cell_type": "code",
   "execution_count": null,
   "metadata": {},
   "outputs": [],
   "source": []
  }
 ],
 "metadata": {
  "kernelspec": {
   "display_name": "Python 3",
   "language": "python",
   "name": "python3"
  },
  "language_info": {
   "codemirror_mode": {
    "name": "ipython",
    "version": 3
   },
   "file_extension": ".py",
   "mimetype": "text/x-python",
   "name": "python",
   "nbconvert_exporter": "python",
   "pygments_lexer": "ipython3",
   "version": "3.11.1"
  },
  "orig_nbformat": 4
 },
 "nbformat": 4,
 "nbformat_minor": 2
}
