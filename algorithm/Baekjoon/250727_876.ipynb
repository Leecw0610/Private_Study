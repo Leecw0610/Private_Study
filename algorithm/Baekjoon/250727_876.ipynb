{
 "cells": [
  {
   "cell_type": "markdown",
   "id": "0ec2a566",
   "metadata": {},
   "source": [
    "### 1057번"
   ]
  },
  {
   "cell_type": "code",
   "execution_count": null,
   "id": "b5c986a3",
   "metadata": {},
   "outputs": [],
   "source": [
    "import sys\n",
    "input = sys.stdin.readline\n",
    "\n",
    "# 입력\n",
    "N, a, b = map(int, input().split())\n",
    "\n",
    "# 토너먼트\n",
    "cnt = 0\n",
    "while a != b:\n",
    "    a -= a // 2\n",
    "    b -= b // 2\n",
    "    cnt += 1\n",
    "print(cnt)"
   ]
  },
  {
   "cell_type": "code",
   "execution_count": null,
   "id": "25d81e35",
   "metadata": {},
   "outputs": [],
   "source": []
  },
  {
   "cell_type": "code",
   "execution_count": null,
   "id": "bf97939e",
   "metadata": {},
   "outputs": [],
   "source": []
  },
  {
   "cell_type": "code",
   "execution_count": null,
   "id": "96f21792",
   "metadata": {},
   "outputs": [],
   "source": []
  }
 ],
 "metadata": {
  "kernelspec": {
   "display_name": "Python 3",
   "language": "python",
   "name": "python3"
  },
  "language_info": {
   "codemirror_mode": {
    "name": "ipython",
    "version": 3
   },
   "file_extension": ".py",
   "mimetype": "text/x-python",
   "name": "python",
   "nbconvert_exporter": "python",
   "pygments_lexer": "ipython3",
   "version": "3.11.1"
  }
 },
 "nbformat": 4,
 "nbformat_minor": 5
}
