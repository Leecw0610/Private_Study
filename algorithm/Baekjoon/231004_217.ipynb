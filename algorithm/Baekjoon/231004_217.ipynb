{
 "cells": [
  {
   "cell_type": "markdown",
   "metadata": {},
   "source": [
    "### 3029번"
   ]
  },
  {
   "cell_type": "code",
   "execution_count": null,
   "metadata": {},
   "outputs": [],
   "source": [
    "h1, m1, s1 = map(int, input().split(':'))\n",
    "h2, m2, s2 = map(int, input().split(':'))\n",
    "t1 = h1 * 60 * 60 + m1 * 60 + s1\n",
    "t2 = h2 * 60 * 60 + m2 * 60 + s2\n",
    "t = t2 - t1 if t2 > t1 else t2 - t1 + 24 * 60 * 60\n",
    "h = t // 60 // 60\n",
    "m = t // 60 % 60\n",
    "s = t % 60\n",
    "print(\"%02d:%02d:%02d\" % (h, m, s))"
   ]
  },
  {
   "cell_type": "code",
   "execution_count": null,
   "metadata": {},
   "outputs": [],
   "source": []
  },
  {
   "cell_type": "code",
   "execution_count": null,
   "metadata": {},
   "outputs": [],
   "source": []
  },
  {
   "cell_type": "code",
   "execution_count": null,
   "metadata": {},
   "outputs": [],
   "source": []
  }
 ],
 "metadata": {
  "kernelspec": {
   "display_name": "Python 3",
   "language": "python",
   "name": "python3"
  },
  "language_info": {
   "name": "python",
   "version": "3.11.1"
  },
  "orig_nbformat": 4
 },
 "nbformat": 4,
 "nbformat_minor": 2
}
