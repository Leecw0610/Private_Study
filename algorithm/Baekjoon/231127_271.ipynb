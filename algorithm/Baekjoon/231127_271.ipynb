{
 "cells": [
  {
   "cell_type": "markdown",
   "metadata": {},
   "source": [
    "### 4892번"
   ]
  },
  {
   "cell_type": "code",
   "execution_count": 1,
   "metadata": {},
   "outputs": [
    {
     "name": "stdout",
     "output_type": "stream",
     "text": [
      "1. odd 18\n",
      "2. even 19\n"
     ]
    }
   ],
   "source": [
    "i = 1\n",
    "while 1:\n",
    "    n0 = int(input())\n",
    "    if n0 == 0:\n",
    "        break\n",
    "    n1 = 3 * n0\n",
    "    n2 = (n1 + 1) // 2 if n1 % 2 else n1 // 2\n",
    "    n3 = 3 * n2\n",
    "    n4 = n3 // 9\n",
    "    if n0 == 2 * n4:\n",
    "        print(f\"{i}. even {n4}\")\n",
    "    else:\n",
    "        print(f\"{i}. odd {n4}\")\n",
    "    i += 1"
   ]
  },
  {
   "cell_type": "code",
   "execution_count": null,
   "metadata": {},
   "outputs": [],
   "source": []
  },
  {
   "cell_type": "code",
   "execution_count": null,
   "metadata": {},
   "outputs": [],
   "source": []
  },
  {
   "cell_type": "code",
   "execution_count": null,
   "metadata": {},
   "outputs": [],
   "source": []
  }
 ],
 "metadata": {
  "kernelspec": {
   "display_name": "Python 3",
   "language": "python",
   "name": "python3"
  },
  "language_info": {
   "codemirror_mode": {
    "name": "ipython",
    "version": 3
   },
   "file_extension": ".py",
   "mimetype": "text/x-python",
   "name": "python",
   "nbconvert_exporter": "python",
   "pygments_lexer": "ipython3",
   "version": "3.11.1"
  }
 },
 "nbformat": 4,
 "nbformat_minor": 2
}
