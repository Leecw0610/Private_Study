{
 "cells": [
  {
   "cell_type": "markdown",
   "id": "db47b283",
   "metadata": {},
   "source": [
    "### 1308번"
   ]
  },
  {
   "cell_type": "code",
   "execution_count": null,
   "id": "834afc52",
   "metadata": {},
   "outputs": [],
   "source": [
    "from datetime import *\n",
    "\n",
    "today = list(map(int, input().split()))\n",
    "d_day = list(map(int, input().split()))\n",
    "\n",
    "if today[0] + 1000 < d_day[0]:\n",
    "    print(\"gg\")\n",
    "elif today[0] + 1000 == d_day[0] and (today[1], today[2]) <= (d_day[1], d_day[2]):\n",
    "    print(\"gg\")\n",
    "else:\n",
    "    today = date(*today)\n",
    "    d_day = date(*d_day)\n",
    "    print(\"D-\"+str(d_day.toordinal() - today.toordinal()))"
   ]
  },
  {
   "cell_type": "code",
   "execution_count": null,
   "id": "dae6a05c",
   "metadata": {},
   "outputs": [],
   "source": []
  },
  {
   "cell_type": "code",
   "execution_count": null,
   "id": "e05f0f34",
   "metadata": {},
   "outputs": [],
   "source": []
  },
  {
   "cell_type": "code",
   "execution_count": null,
   "id": "9a961abd",
   "metadata": {},
   "outputs": [],
   "source": []
  }
 ],
 "metadata": {
  "language_info": {
   "name": "python"
  }
 },
 "nbformat": 4,
 "nbformat_minor": 5
}
