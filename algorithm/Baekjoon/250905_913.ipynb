{
 "cells": [
  {
   "cell_type": "markdown",
   "id": "d80c8c18",
   "metadata": {},
   "source": [
    "### 1312번"
   ]
  },
  {
   "cell_type": "code",
   "execution_count": 2,
   "id": "0c880d72",
   "metadata": {},
   "outputs": [
    {
     "name": "stdout",
     "output_type": "stream",
     "text": [
      "2\n"
     ]
    }
   ],
   "source": [
    "A,B,N = map(int, input().split())\n",
    "\n",
    "for i in range(N) :\n",
    "    A = (A%B)*10\n",
    "    result = A//B\n",
    "\n",
    "print(result)"
   ]
  },
  {
   "cell_type": "code",
   "execution_count": null,
   "id": "f0b7f322",
   "metadata": {},
   "outputs": [],
   "source": []
  },
  {
   "cell_type": "code",
   "execution_count": null,
   "id": "fc2a9528",
   "metadata": {},
   "outputs": [],
   "source": []
  }
 ],
 "metadata": {
  "kernelspec": {
   "display_name": "Python 3",
   "language": "python",
   "name": "python3"
  },
  "language_info": {
   "codemirror_mode": {
    "name": "ipython",
    "version": 3
   },
   "file_extension": ".py",
   "mimetype": "text/x-python",
   "name": "python",
   "nbconvert_exporter": "python",
   "pygments_lexer": "ipython3",
   "version": "3.13.6"
  }
 },
 "nbformat": 4,
 "nbformat_minor": 5
}
