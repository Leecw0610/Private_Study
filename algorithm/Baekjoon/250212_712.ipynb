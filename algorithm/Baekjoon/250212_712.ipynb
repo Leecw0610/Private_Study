{
 "cells": [
  {
   "cell_type": "markdown",
   "metadata": {
    "vscode": {
     "languageId": "plaintext"
    }
   },
   "source": [
    "### 25756번"
   ]
  },
  {
   "cell_type": "code",
   "execution_count": 2,
   "metadata": {},
   "outputs": [
    {
     "name": "stdout",
     "output_type": "stream",
     "text": [
      "20.0\n",
      "36.0\n",
      "48.8\n",
      "59.04\n",
      "67.232\n"
     ]
    }
   ],
   "source": [
    "def sol(nums):\n",
    "    n = len(nums)\n",
    "    current_defend = 0\n",
    "    for i in range(n):\n",
    "        defend =  100 - (100-current_defend)*(100-nums[i])/100\n",
    "        print(defend)\n",
    "        current_defend = defend\n",
    "\n",
    "if __name__ == '__main__':\n",
    "    len_nums = int(input())\n",
    "    nums = list(map(int, input().split()))\n",
    "    sol(nums)"
   ]
  },
  {
   "cell_type": "code",
   "execution_count": null,
   "metadata": {},
   "outputs": [],
   "source": []
  },
  {
   "cell_type": "code",
   "execution_count": null,
   "metadata": {},
   "outputs": [],
   "source": []
  },
  {
   "cell_type": "code",
   "execution_count": null,
   "metadata": {},
   "outputs": [],
   "source": []
  }
 ],
 "metadata": {
  "kernelspec": {
   "display_name": "Python 3",
   "language": "python",
   "name": "python3"
  },
  "language_info": {
   "codemirror_mode": {
    "name": "ipython",
    "version": 3
   },
   "file_extension": ".py",
   "mimetype": "text/x-python",
   "name": "python",
   "nbconvert_exporter": "python",
   "pygments_lexer": "ipython3",
   "version": "3.11.1"
  }
 },
 "nbformat": 4,
 "nbformat_minor": 2
}
