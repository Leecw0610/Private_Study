{
 "cells": [
  {
   "cell_type": "markdown",
   "id": "df6a1b23",
   "metadata": {},
   "source": [
    "### 30822번"
   ]
  },
  {
   "cell_type": "code",
   "execution_count": 1,
   "id": "f873b3ca",
   "metadata": {},
   "outputs": [
    {
     "name": "stdout",
     "output_type": "stream",
     "text": [
      "2\n"
     ]
    }
   ],
   "source": [
    "n = int(input())\n",
    "S = input()\n",
    "C = [S.count(i) for i in \"uospc\"]\n",
    "\n",
    "print(min(C))"
   ]
  },
  {
   "cell_type": "code",
   "execution_count": null,
   "id": "e71b4156",
   "metadata": {},
   "outputs": [],
   "source": []
  },
  {
   "cell_type": "code",
   "execution_count": null,
   "id": "69cbcdab",
   "metadata": {},
   "outputs": [],
   "source": []
  }
 ],
 "metadata": {
  "kernelspec": {
   "display_name": "Python 3",
   "language": "python",
   "name": "python3"
  },
  "language_info": {
   "codemirror_mode": {
    "name": "ipython",
    "version": 3
   },
   "file_extension": ".py",
   "mimetype": "text/x-python",
   "name": "python",
   "nbconvert_exporter": "python",
   "pygments_lexer": "ipython3",
   "version": "3.11.1"
  }
 },
 "nbformat": 4,
 "nbformat_minor": 5
}
