{
 "cells": [
  {
   "cell_type": "markdown",
   "id": "a7fdf12e",
   "metadata": {},
   "source": [
    "### 30031번"
   ]
  },
  {
   "cell_type": "code",
   "execution_count": 1,
   "id": "1ea4bd79",
   "metadata": {},
   "outputs": [
    {
     "name": "stdout",
     "output_type": "stream",
     "text": [
      "66000\n"
     ]
    }
   ],
   "source": [
    "N = int(input())\n",
    "result = 0\n",
    "\n",
    "for _ in range(N):\n",
    "    w, h = map(int, input().split())\n",
    "    if w == 136:\n",
    "        result += 1000\n",
    "    elif w == 142:\n",
    "        result += 5000\n",
    "    elif w == 148:\n",
    "        result += 10000\n",
    "    elif w == 154:\n",
    "        result += 50000\n",
    "print(result)"
   ]
  },
  {
   "cell_type": "code",
   "execution_count": null,
   "id": "4f540474",
   "metadata": {},
   "outputs": [],
   "source": []
  },
  {
   "cell_type": "code",
   "execution_count": null,
   "id": "5959516b",
   "metadata": {},
   "outputs": [],
   "source": []
  },
  {
   "cell_type": "code",
   "execution_count": null,
   "id": "5890437e",
   "metadata": {},
   "outputs": [],
   "source": []
  }
 ],
 "metadata": {
  "kernelspec": {
   "display_name": "Python 3",
   "language": "python",
   "name": "python3"
  },
  "language_info": {
   "codemirror_mode": {
    "name": "ipython",
    "version": 3
   },
   "file_extension": ".py",
   "mimetype": "text/x-python",
   "name": "python",
   "nbconvert_exporter": "python",
   "pygments_lexer": "ipython3",
   "version": "3.11.1"
  }
 },
 "nbformat": 4,
 "nbformat_minor": 5
}
