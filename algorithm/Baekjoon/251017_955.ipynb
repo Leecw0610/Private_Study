{
 "cells": [
  {
   "cell_type": "markdown",
   "id": "68efe842",
   "metadata": {},
   "source": [
    "### 1527번"
   ]
  },
  {
   "cell_type": "code",
   "execution_count": 1,
   "id": "5c77cbcd",
   "metadata": {},
   "outputs": [
    {
     "name": "stdout",
     "output_type": "stream",
     "text": [
      "2\n"
     ]
    }
   ],
   "source": [
    "from itertools import product\n",
    "\n",
    "a, b = map(int, input().split())\n",
    "a_len = len(str(a))\n",
    "b_len = len(str(b))\n",
    "count = 0\n",
    "for i in range(a_len, b_len + 1):\n",
    "    for n in product([4, 7], repeat=i):\n",
    "        join = ''.join(list(map(str, n)))\n",
    "        if a <= int(join) <= b:\n",
    "            count += 1\n",
    "print(count)"
   ]
  },
  {
   "cell_type": "code",
   "execution_count": null,
   "id": "66c35b91",
   "metadata": {},
   "outputs": [],
   "source": []
  },
  {
   "cell_type": "code",
   "execution_count": null,
   "id": "68aec851",
   "metadata": {},
   "outputs": [],
   "source": []
  },
  {
   "cell_type": "code",
   "execution_count": null,
   "id": "8b4549e1",
   "metadata": {},
   "outputs": [],
   "source": []
  }
 ],
 "metadata": {
  "kernelspec": {
   "display_name": "Python 3",
   "language": "python",
   "name": "python3"
  },
  "language_info": {
   "codemirror_mode": {
    "name": "ipython",
    "version": 3
   },
   "file_extension": ".py",
   "mimetype": "text/x-python",
   "name": "python",
   "nbconvert_exporter": "python",
   "pygments_lexer": "ipython3",
   "version": "3.13.6"
  }
 },
 "nbformat": 4,
 "nbformat_minor": 5
}
