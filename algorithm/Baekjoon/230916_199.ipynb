{
 "cells": [
  {
   "cell_type": "markdown",
   "metadata": {},
   "source": [
    "### 2930번"
   ]
  },
  {
   "cell_type": "code",
   "execution_count": 1,
   "metadata": {},
   "outputs": [
    {
     "name": "stdout",
     "output_type": "stream",
     "text": [
      "12\n",
      "21\n"
     ]
    }
   ],
   "source": [
    "r = int(input())\n",
    "s = input()\n",
    "n = int(input())\n",
    "fs = [input() for _ in range(n)]\n",
    "\n",
    "rsp = {'R':0, 'S':1, 'P':2}\n",
    "\n",
    "cs = ms = 0\n",
    "for i in range(r):\n",
    "    ts = [[0, 'R'], [0, 'S'], [0, 'P']]\n",
    "    for j in range(n):\n",
    "        if (rsp[s[i]] + 1) % 3 == rsp[fs[j][i]]: cs += 2\n",
    "        elif s[i] == fs[j][i]: cs += 1\n",
    "\n",
    "        for t in ts:\n",
    "            if (rsp[t[1]] + 1) % 3 == rsp[fs[j][i]]: t[0] += 2\n",
    "            elif t[1] == fs[j][i]: t[0] += 1\n",
    "    ms += max(ts)[0]\n",
    "print(cs)\n",
    "print(ms)"
   ]
  },
  {
   "cell_type": "code",
   "execution_count": null,
   "metadata": {},
   "outputs": [],
   "source": []
  },
  {
   "cell_type": "code",
   "execution_count": null,
   "metadata": {},
   "outputs": [],
   "source": []
  },
  {
   "cell_type": "code",
   "execution_count": null,
   "metadata": {},
   "outputs": [],
   "source": []
  }
 ],
 "metadata": {
  "kernelspec": {
   "display_name": "Python 3",
   "language": "python",
   "name": "python3"
  },
  "language_info": {
   "codemirror_mode": {
    "name": "ipython",
    "version": 3
   },
   "file_extension": ".py",
   "mimetype": "text/x-python",
   "name": "python",
   "nbconvert_exporter": "python",
   "pygments_lexer": "ipython3",
   "version": "3.11.1"
  },
  "orig_nbformat": 4
 },
 "nbformat": 4,
 "nbformat_minor": 2
}
