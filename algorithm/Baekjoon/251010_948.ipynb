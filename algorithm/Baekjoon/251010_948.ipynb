{
 "cells": [
  {
   "cell_type": "markdown",
   "id": "fb74c719",
   "metadata": {},
   "source": [
    "### 1491번"
   ]
  },
  {
   "cell_type": "code",
   "execution_count": null,
   "id": "33aeb5ea",
   "metadata": {},
   "outputs": [],
   "source": [
    "t = int(input())\n",
    "\n",
    "for tc in range(1, t + 1):\n",
    "    n, a, b = map(int, input().split())\n",
    "    min_value = float('inf')  # 각 테스트케이스마다 최소값 초기화\n",
    "\n",
    "    for r in range(1, n + 1):\n",
    "        c = 1\n",
    "        while r * c <= n:\n",
    "            value = a * abs(r - c) + b * (n - (r * c))\n",
    "            min_value = min(min_value, value)\n",
    "            c += 1\n",
    "\n",
    "    print(f'#{tc} {min_value}')"
   ]
  },
  {
   "cell_type": "code",
   "execution_count": null,
   "id": "1e56e5c5",
   "metadata": {},
   "outputs": [],
   "source": []
  },
  {
   "cell_type": "code",
   "execution_count": null,
   "id": "957ca416",
   "metadata": {},
   "outputs": [],
   "source": []
  },
  {
   "cell_type": "code",
   "execution_count": null,
   "id": "d68baa11",
   "metadata": {},
   "outputs": [],
   "source": []
  }
 ],
 "metadata": {
  "kernelspec": {
   "display_name": "Python 3",
   "language": "python",
   "name": "python3"
  },
  "language_info": {
   "name": "python",
   "version": "3.13.6"
  }
 },
 "nbformat": 4,
 "nbformat_minor": 5
}
