{
 "cells": [
  {
   "cell_type": "markdown",
   "id": "9b428ab0",
   "metadata": {},
   "source": [
    "### 1166번"
   ]
  },
  {
   "cell_type": "code",
   "execution_count": 1,
   "id": "8cb2289b",
   "metadata": {},
   "outputs": [
    {
     "name": "stdout",
     "output_type": "stream",
     "text": [
      "1.0000000000\n"
     ]
    }
   ],
   "source": [
    "N, L, W, H = map(int, input().split())\n",
    "s, e = 0, max(L, W, H)\n",
    "for _ in range(100):\n",
    "    m = (s+e)/2\n",
    "    if (L//m)*(W//m)*(H//m) >= N:\n",
    "        s = m\n",
    "    else:\n",
    "        e = m\n",
    "print(\"%.10f\" %(e))"
   ]
  },
  {
   "cell_type": "code",
   "execution_count": null,
   "id": "ed6f8f9e",
   "metadata": {},
   "outputs": [],
   "source": []
  },
  {
   "cell_type": "code",
   "execution_count": null,
   "id": "8625d808",
   "metadata": {},
   "outputs": [],
   "source": []
  }
 ],
 "metadata": {
  "kernelspec": {
   "display_name": "Python 3",
   "language": "python",
   "name": "python3"
  },
  "language_info": {
   "codemirror_mode": {
    "name": "ipython",
    "version": 3
   },
   "file_extension": ".py",
   "mimetype": "text/x-python",
   "name": "python",
   "nbconvert_exporter": "python",
   "pygments_lexer": "ipython3",
   "version": "3.13.6"
  }
 },
 "nbformat": 4,
 "nbformat_minor": 5
}
