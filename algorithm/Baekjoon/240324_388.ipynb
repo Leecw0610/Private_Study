{
 "cells": [
  {
   "cell_type": "markdown",
   "metadata": {},
   "source": [
    "### 9610번"
   ]
  },
  {
   "cell_type": "code",
   "execution_count": 2,
   "metadata": {},
   "outputs": [
    {
     "name": "stdout",
     "output_type": "stream",
     "text": [
      "Q1: 2\n",
      "Q2: 0\n",
      "Q3: 0\n",
      "Q4: 1\n",
      "AXIS: 2\n"
     ]
    }
   ],
   "source": [
    "li = [0]*5\n",
    "for _ in range(int(input())):\n",
    "    x, y = map(int, input().split())\n",
    "    if x == 0 or y == 0:\n",
    "        li[4] += 1\n",
    "    elif x > 0 and y > 0:\n",
    "        li[0] += 1\n",
    "    elif x < 0 and y > 0:\n",
    "        li[1] += 1\n",
    "    elif x < 0 and y < 0:\n",
    "        li[2] += 1\n",
    "    else:\n",
    "        li[3] += 1\n",
    "for i in range(4):\n",
    "    print(f\"Q{i+1}: {li[i]}\")\n",
    "print(f\"AXIS: {li[4]}\")"
   ]
  },
  {
   "cell_type": "code",
   "execution_count": null,
   "metadata": {},
   "outputs": [],
   "source": []
  },
  {
   "cell_type": "code",
   "execution_count": null,
   "metadata": {},
   "outputs": [],
   "source": []
  }
 ],
 "metadata": {
  "kernelspec": {
   "display_name": "Python 3",
   "language": "python",
   "name": "python3"
  },
  "language_info": {
   "codemirror_mode": {
    "name": "ipython",
    "version": 3
   },
   "file_extension": ".py",
   "mimetype": "text/x-python",
   "name": "python",
   "nbconvert_exporter": "python",
   "pygments_lexer": "ipython3",
   "version": "3.11.1"
  }
 },
 "nbformat": 4,
 "nbformat_minor": 2
}
