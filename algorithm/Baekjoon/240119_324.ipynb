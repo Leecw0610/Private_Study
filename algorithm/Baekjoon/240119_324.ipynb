{
 "cells": [
  {
   "cell_type": "markdown",
   "metadata": {},
   "source": [
    "### 6502번"
   ]
  },
  {
   "cell_type": "code",
   "execution_count": 1,
   "metadata": {},
   "outputs": [
    {
     "name": "stdout",
     "output_type": "stream",
     "text": [
      "Pizza 1 fits on the table.\n",
      "Pizza 2 does not fit on the table.\n",
      "Pizza 3 fits on the table.\n"
     ]
    }
   ],
   "source": [
    "i = 1\n",
    "while 1:\n",
    "    li = list(map(int, input().split()))\n",
    "    if li[0] == 0:\n",
    "        break\n",
    "    r, w, l = li\n",
    "    d = (w / 2) ** 2 + (l / 2) ** 2\n",
    "    if r ** 2 >= d:\n",
    "        print(f\"Pizza {i} fits on the table.\")\n",
    "    else: \n",
    "        print(f\"Pizza {i} does not fit on the table.\")\n",
    "    i += 1"
   ]
  },
  {
   "cell_type": "code",
   "execution_count": null,
   "metadata": {},
   "outputs": [],
   "source": []
  },
  {
   "cell_type": "code",
   "execution_count": null,
   "metadata": {},
   "outputs": [],
   "source": []
  }
 ],
 "metadata": {
  "kernelspec": {
   "display_name": "Python 3",
   "language": "python",
   "name": "python3"
  },
  "language_info": {
   "codemirror_mode": {
    "name": "ipython",
    "version": 3
   },
   "file_extension": ".py",
   "mimetype": "text/x-python",
   "name": "python",
   "nbconvert_exporter": "python",
   "pygments_lexer": "ipython3",
   "version": "3.11.1"
  }
 },
 "nbformat": 4,
 "nbformat_minor": 2
}
