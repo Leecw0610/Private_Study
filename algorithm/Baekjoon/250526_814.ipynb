{
 "cells": [
  {
   "cell_type": "markdown",
   "id": "2b9c4f89",
   "metadata": {},
   "source": [
    "### 31833번"
   ]
  },
  {
   "cell_type": "code",
   "execution_count": 1,
   "id": "f7dd56d0",
   "metadata": {},
   "outputs": [
    {
     "name": "stdout",
     "output_type": "stream",
     "text": [
      "54321\n"
     ]
    }
   ],
   "source": [
    "N = int(input())\n",
    "A = int(\"\".join(input().split()))\n",
    "B = int(\"\".join(input().split()))\n",
    "\n",
    "if A < B:\n",
    "    print(A)\n",
    "else:\n",
    "    print(B)"
   ]
  },
  {
   "cell_type": "code",
   "execution_count": null,
   "id": "fce1381c",
   "metadata": {},
   "outputs": [],
   "source": []
  },
  {
   "cell_type": "code",
   "execution_count": null,
   "id": "d03174a8",
   "metadata": {},
   "outputs": [],
   "source": []
  }
 ],
 "metadata": {
  "kernelspec": {
   "display_name": "Python 3",
   "language": "python",
   "name": "python3"
  },
  "language_info": {
   "codemirror_mode": {
    "name": "ipython",
    "version": 3
   },
   "file_extension": ".py",
   "mimetype": "text/x-python",
   "name": "python",
   "nbconvert_exporter": "python",
   "pygments_lexer": "ipython3",
   "version": "3.11.1"
  }
 },
 "nbformat": 4,
 "nbformat_minor": 5
}
