{
 "cells": [
  {
   "cell_type": "markdown",
   "metadata": {},
   "source": [
    "### 2712번"
   ]
  },
  {
   "cell_type": "code",
   "execution_count": 1,
   "metadata": {},
   "outputs": [
    {
     "name": "stdout",
     "output_type": "stream",
     "text": [
      "2.2046 lb\n",
      "3.1752 kg\n",
      "13.2489 l\n",
      "0.0000 g\n"
     ]
    }
   ],
   "source": [
    "for _ in range(int(input())):\n",
    "    n, s = input().split()\n",
    "    if s == \"kg\":\n",
    "        print(\"%.4f %s\" % (float(n) * 2.2046, \"lb\"))\n",
    "    elif s == \"lb\":\n",
    "        print(\"%.4f %s\" % (float(n) * 0.4536, \"kg\"))\n",
    "    elif s == \"l\":\n",
    "        print(\"%.4f %s\" % (float(n) * 0.2642, \"g\"))\n",
    "    elif s == \"g\":\n",
    "        print(\"%.4f %s\" % (float(n) * 3.7854, \"l\"))"
   ]
  },
  {
   "cell_type": "code",
   "execution_count": null,
   "metadata": {},
   "outputs": [],
   "source": []
  },
  {
   "cell_type": "code",
   "execution_count": null,
   "metadata": {},
   "outputs": [],
   "source": []
  },
  {
   "cell_type": "code",
   "execution_count": null,
   "metadata": {},
   "outputs": [],
   "source": []
  }
 ],
 "metadata": {
  "kernelspec": {
   "display_name": "base",
   "language": "python",
   "name": "python3"
  },
  "language_info": {
   "codemirror_mode": {
    "name": "ipython",
    "version": 3
   },
   "file_extension": ".py",
   "mimetype": "text/x-python",
   "name": "python",
   "nbconvert_exporter": "python",
   "pygments_lexer": "ipython3",
   "version": "3.11.1"
  },
  "orig_nbformat": 4
 },
 "nbformat": 4,
 "nbformat_minor": 2
}
