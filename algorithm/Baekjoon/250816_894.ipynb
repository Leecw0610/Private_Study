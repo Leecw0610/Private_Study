{
 "cells": [
  {
   "cell_type": "markdown",
   "id": "6f1394c5",
   "metadata": {},
   "source": [
    "### 1189번"
   ]
  },
  {
   "cell_type": "code",
   "execution_count": null,
   "id": "b3be7e90",
   "metadata": {},
   "outputs": [],
   "source": [
    "import sys\n",
    "input = sys.stdin.readline\n",
    "\n",
    "# r X c  맵\n",
    "# 거리가 k 인 가짓수 구하기\n",
    "r,c,k = map(int, input().split())\n",
    "graph = []\n",
    "for _ in range(r):\n",
    "    graph.append(list(input().rstrip()))\n",
    "\n",
    "dx = [1,-1,0,0]\n",
    "dy = [0,0,1,-1]\n",
    "\n",
    "answer = 0\n",
    "def dfs(x,y,distance):\n",
    "    global answer\n",
    "    # 목표 도착 지점 : (0,c-1)\n",
    "    # 목표 거리 : k\n",
    "    if distance == k and y == c-1 and x==0:\n",
    "        answer += 1\n",
    "    else:\n",
    "        # T로 방문처리\n",
    "        graph[x][y]='T'\n",
    "        for i in range(4):\n",
    "            nx = x+dx[i]\n",
    "            ny = y+dy[i]\n",
    "            # 백트래킹 한정 조건 : graph[nx][ny] == '.'\n",
    "            if(0 <= nx < r and 0 <= ny < c and graph[nx][ny] == '.'):\n",
    "                graph[nx][ny]='T'\n",
    "                dfs(nx,ny,distance+1)\n",
    "                # 원래 상태로 돌려 놓아 다른 방향으로 다시 탐색하도록 한다.\n",
    "                graph[nx][ny]='.'\n",
    "\n",
    "# 시작점 : (r-1,0)\n",
    "# 초기 distance : 1\n",
    "dfs(r-1,0,1)\n",
    "# 정답\n",
    "print(answer)"
   ]
  },
  {
   "cell_type": "code",
   "execution_count": null,
   "id": "90561c21",
   "metadata": {},
   "outputs": [],
   "source": []
  },
  {
   "cell_type": "code",
   "execution_count": null,
   "id": "1456bee5",
   "metadata": {},
   "outputs": [],
   "source": []
  },
  {
   "cell_type": "code",
   "execution_count": null,
   "id": "d194b606",
   "metadata": {},
   "outputs": [],
   "source": []
  }
 ],
 "metadata": {
  "kernelspec": {
   "display_name": "Python 3",
   "language": "python",
   "name": "python3"
  },
  "language_info": {
   "name": "python",
   "version": "3.13.6"
  }
 },
 "nbformat": 4,
 "nbformat_minor": 5
}
