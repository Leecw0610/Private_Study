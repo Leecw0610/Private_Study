{
 "cells": [
  {
   "cell_type": "markdown",
   "id": "3b9ffb37",
   "metadata": {},
   "source": [
    "### 1622번"
   ]
  },
  {
   "cell_type": "code",
   "execution_count": null,
   "id": "ccf46ce1",
   "metadata": {},
   "outputs": [
    {
     "name": "stdout",
     "output_type": "stream",
     "text": [
      "e\n",
      "nw\n",
      "et\n",
      "\n",
      "\n",
      "\n",
      "\n",
      "\n"
     ]
    }
   ],
   "source": [
    "while True:\n",
    "    try:\n",
    "        a = input()\n",
    "        b = input()\n",
    "\n",
    "        a_set = set(a)\n",
    "        b_set = set(b)\n",
    "\n",
    "        x = a_set & b_set\n",
    "\n",
    "        answer = []\n",
    "        for w in x:\n",
    "            a_count = a.count(w)\n",
    "            b_count = b.count(w)\n",
    "            answer.append(w*min(a_count, b_count))\n",
    "\n",
    "        answer.sort()\n",
    "        print(''.join(answer))\n",
    "    except:\n",
    "        break"
   ]
  },
  {
   "cell_type": "code",
   "execution_count": null,
   "id": "64ce8908",
   "metadata": {},
   "outputs": [],
   "source": []
  },
  {
   "cell_type": "code",
   "execution_count": null,
   "id": "d93c8594",
   "metadata": {},
   "outputs": [],
   "source": []
  },
  {
   "cell_type": "code",
   "execution_count": null,
   "id": "806268ea",
   "metadata": {},
   "outputs": [],
   "source": []
  }
 ],
 "metadata": {
  "kernelspec": {
   "display_name": "Python 3",
   "language": "python",
   "name": "python3"
  },
  "language_info": {
   "codemirror_mode": {
    "name": "ipython",
    "version": 3
   },
   "file_extension": ".py",
   "mimetype": "text/x-python",
   "name": "python",
   "nbconvert_exporter": "python",
   "pygments_lexer": "ipython3",
   "version": "3.11.1"
  }
 },
 "nbformat": 4,
 "nbformat_minor": 5
}
