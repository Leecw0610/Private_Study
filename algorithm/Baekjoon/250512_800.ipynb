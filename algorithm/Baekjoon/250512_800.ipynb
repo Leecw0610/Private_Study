{
 "cells": [
  {
   "cell_type": "markdown",
   "id": "dfb673fe",
   "metadata": {},
   "source": [
    "### 31495번"
   ]
  },
  {
   "cell_type": "code",
   "execution_count": 1,
   "id": "a7826c0a",
   "metadata": {},
   "outputs": [
    {
     "name": "stdout",
     "output_type": "stream",
     "text": [
      "Hello World\n"
     ]
    }
   ],
   "source": [
    "code = input()\n",
    "\n",
    "if code[0] == code[-1] == '\"' and len(code[1:-1]) > 0:\n",
    "    print(code[1:-1])\n",
    "else:\n",
    "    print(\"CE\")"
   ]
  },
  {
   "cell_type": "code",
   "execution_count": null,
   "id": "306163fa",
   "metadata": {},
   "outputs": [],
   "source": []
  },
  {
   "cell_type": "code",
   "execution_count": null,
   "id": "e6a4b195",
   "metadata": {},
   "outputs": [],
   "source": []
  },
  {
   "cell_type": "code",
   "execution_count": null,
   "id": "512de0fb",
   "metadata": {},
   "outputs": [],
   "source": []
  }
 ],
 "metadata": {
  "kernelspec": {
   "display_name": "Python 3",
   "language": "python",
   "name": "python3"
  },
  "language_info": {
   "codemirror_mode": {
    "name": "ipython",
    "version": 3
   },
   "file_extension": ".py",
   "mimetype": "text/x-python",
   "name": "python",
   "nbconvert_exporter": "python",
   "pygments_lexer": "ipython3",
   "version": "3.11.1"
  }
 },
 "nbformat": 4,
 "nbformat_minor": 5
}
