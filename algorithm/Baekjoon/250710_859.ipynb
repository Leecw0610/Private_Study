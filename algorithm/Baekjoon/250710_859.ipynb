{
 "cells": [
  {
   "cell_type": "markdown",
   "id": "d5f56217",
   "metadata": {},
   "source": [
    "### 33709번"
   ]
  },
  {
   "cell_type": "code",
   "execution_count": 1,
   "id": "28144cae",
   "metadata": {},
   "outputs": [
    {
     "name": "stdout",
     "output_type": "stream",
     "text": [
      "9\n"
     ]
    }
   ],
   "source": [
    "N = int(input())\n",
    "slogan = input()\n",
    "separator = [\"|\", \":\", \"#\"]\n",
    "\n",
    "for s in separator:\n",
    "    slogan = slogan.replace(s, \".\")\n",
    "\n",
    "numberList = slogan.split(\".\")\n",
    "result = 0\n",
    "\n",
    "for n in numberList:\n",
    "    result += int(n)\n",
    "\n",
    "print(result)"
   ]
  },
  {
   "cell_type": "code",
   "execution_count": null,
   "id": "732e107d",
   "metadata": {},
   "outputs": [],
   "source": []
  },
  {
   "cell_type": "code",
   "execution_count": null,
   "id": "d10982b9",
   "metadata": {},
   "outputs": [],
   "source": []
  },
  {
   "cell_type": "code",
   "execution_count": null,
   "id": "79b0314a",
   "metadata": {},
   "outputs": [],
   "source": []
  },
  {
   "cell_type": "code",
   "execution_count": null,
   "id": "3daa3123",
   "metadata": {},
   "outputs": [],
   "source": []
  }
 ],
 "metadata": {
  "kernelspec": {
   "display_name": "Python 3",
   "language": "python",
   "name": "python3"
  },
  "language_info": {
   "codemirror_mode": {
    "name": "ipython",
    "version": 3
   },
   "file_extension": ".py",
   "mimetype": "text/x-python",
   "name": "python",
   "nbconvert_exporter": "python",
   "pygments_lexer": "ipython3",
   "version": "3.11.1"
  }
 },
 "nbformat": 4,
 "nbformat_minor": 5
}
