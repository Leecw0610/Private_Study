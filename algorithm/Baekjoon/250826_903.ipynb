{
 "cells": [
  {
   "cell_type": "markdown",
   "id": "120f33bb",
   "metadata": {},
   "source": [
    "### 1254번"
   ]
  },
  {
   "cell_type": "code",
   "execution_count": null,
   "id": "42893bde",
   "metadata": {},
   "outputs": [],
   "source": [
    "import sys\n",
    "\n",
    "word = str(sys.stdin.readline().rstrip(\"\\n\"))\n",
    "\n",
    "# 반복문을 통해 문자를 확인\n",
    "for i in range(len(word)):\n",
    "\n",
    "    # i번째로 시작한 문자열과 i번째로 시작한 문자를 뒤에서부터 확인한 문자열을 확인\n",
    "    # 같을 경우 i번째 이전에 문자가 다른 것으로 문자열 뒤에 추가해주면 된다.\n",
    "    if word[i:] == word[i:][::-1]:\n",
    "        print(len(word) + i)\n",
    "        break"
   ]
  },
  {
   "cell_type": "code",
   "execution_count": null,
   "id": "779d0fd4",
   "metadata": {},
   "outputs": [],
   "source": []
  },
  {
   "cell_type": "code",
   "execution_count": null,
   "id": "db7ffbd5",
   "metadata": {},
   "outputs": [],
   "source": []
  },
  {
   "cell_type": "code",
   "execution_count": null,
   "id": "16d33385",
   "metadata": {},
   "outputs": [],
   "source": []
  }
 ],
 "metadata": {
  "kernelspec": {
   "display_name": "Python 3",
   "language": "python",
   "name": "python3"
  },
  "language_info": {
   "codemirror_mode": {
    "name": "ipython",
    "version": 3
   },
   "file_extension": ".py",
   "mimetype": "text/x-python",
   "name": "python",
   "nbconvert_exporter": "python",
   "pygments_lexer": "ipython3",
   "version": "3.13.6"
  }
 },
 "nbformat": 4,
 "nbformat_minor": 5
}
