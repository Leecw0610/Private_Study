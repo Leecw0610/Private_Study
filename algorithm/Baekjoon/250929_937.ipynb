{
 "cells": [
  {
   "cell_type": "markdown",
   "id": "61fb0a7e",
   "metadata": {},
   "source": [
    "### 1446번"
   ]
  },
  {
   "cell_type": "code",
   "execution_count": 1,
   "id": "d1e34178",
   "metadata": {},
   "outputs": [
    {
     "name": "stdout",
     "output_type": "stream",
     "text": [
      "80\n"
     ]
    }
   ],
   "source": [
    "N, D = map(int, input().split())\n",
    "li = [list(map(int, input().split())) for _ in range(N)]\n",
    "dis = [i for i in range(D+1)]\n",
    "for i in range(D+1):\n",
    "    if i > 0:\n",
    "        dis[i] = min(dis[i], dis[i-1]+1)\n",
    "    for s, e, d in li:\n",
    "        if i == s and e <= D and dis[i]+d < dis[e]:\n",
    "            dis[e] = dis[i]+d\n",
    "print(dis[D])"
   ]
  },
  {
   "cell_type": "code",
   "execution_count": null,
   "id": "bbc46cc5",
   "metadata": {},
   "outputs": [],
   "source": []
  },
  {
   "cell_type": "code",
   "execution_count": null,
   "id": "23af4eeb",
   "metadata": {},
   "outputs": [],
   "source": []
  },
  {
   "cell_type": "code",
   "execution_count": null,
   "id": "b863a1b8",
   "metadata": {},
   "outputs": [],
   "source": []
  }
 ],
 "metadata": {
  "kernelspec": {
   "display_name": "Python 3",
   "language": "python",
   "name": "python3"
  },
  "language_info": {
   "codemirror_mode": {
    "name": "ipython",
    "version": 3
   },
   "file_extension": ".py",
   "mimetype": "text/x-python",
   "name": "python",
   "nbconvert_exporter": "python",
   "pygments_lexer": "ipython3",
   "version": "3.13.6"
  }
 },
 "nbformat": 4,
 "nbformat_minor": 5
}
