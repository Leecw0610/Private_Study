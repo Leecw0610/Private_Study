{
 "cells": [
  {
   "cell_type": "markdown",
   "id": "5dfe3f6f",
   "metadata": {},
   "source": [
    "### 1244번"
   ]
  },
  {
   "cell_type": "code",
   "execution_count": null,
   "id": "7d18fc67",
   "metadata": {},
   "outputs": [],
   "source": [
    "import sys\n",
    "N = int(sys.stdin.readline())\n",
    "switch = [-1] + list(map(int, sys.stdin.readline().split()))\n",
    "M = int(sys.stdin.readline())\n",
    "for _ in range(M):\n",
    "    student, num = map(int, sys.stdin.readline().split())\n",
    "    if student == 1 :\n",
    "        for i in range(1, N//num+1):\n",
    "            if switch[i*num] == 0 :\n",
    "                switch[i*num] = 1\n",
    "            else     :\n",
    "                switch[i*num] = 0\n",
    "    if student == 2 :\n",
    "        if switch[num] == 0:\n",
    "            switch[num] = 1\n",
    "        else :\n",
    "            switch[num] = 0\n",
    "        left, right = num-1, num+1\n",
    "        while left > 0 and right <= N and switch[left] == switch[right]:\n",
    "            if switch[left] == 0:\n",
    "                switch[left], switch[right] = 1,1\n",
    "            else :\n",
    "                switch[left], switch[right] = 0,0\n",
    "            left = left - 1\n",
    "            right = right + 1\n",
    "for k in range(1,N+1):\n",
    "    print(switch[k], end=\" \")\n",
    "    if k % 20 == 0:\n",
    "        print()"
   ]
  },
  {
   "cell_type": "code",
   "execution_count": null,
   "id": "01ceebfa",
   "metadata": {},
   "outputs": [],
   "source": []
  },
  {
   "cell_type": "code",
   "execution_count": null,
   "id": "933d2354",
   "metadata": {},
   "outputs": [],
   "source": []
  },
  {
   "cell_type": "code",
   "execution_count": null,
   "id": "2f1cadff",
   "metadata": {},
   "outputs": [],
   "source": []
  }
 ],
 "metadata": {
  "kernelspec": {
   "display_name": "Python 3",
   "language": "python",
   "name": "python3"
  },
  "language_info": {
   "name": "python",
   "version": "3.13.6"
  }
 },
 "nbformat": 4,
 "nbformat_minor": 5
}
