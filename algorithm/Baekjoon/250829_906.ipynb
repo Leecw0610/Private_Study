{
 "cells": [
  {
   "cell_type": "markdown",
   "id": "d51dd119",
   "metadata": {},
   "source": [
    "### 1270번"
   ]
  },
  {
   "cell_type": "code",
   "execution_count": 2,
   "id": "1a3bdd7b",
   "metadata": {},
   "outputs": [
    {
     "name": "stdout",
     "output_type": "stream",
     "text": [
      "SYJKGW\n",
      "1\n",
      "10\n",
      "SYJKGW\n"
     ]
    }
   ],
   "source": [
    "n = int(input())\n",
    "\n",
    "for _ in range(n):\n",
    "    d = dict()\n",
    "    line = input().split()\n",
    "    t = int(line[0])\n",
    "    max_val = 0\n",
    "    max_key = 0\n",
    "    for i in range(1, len(line)):\n",
    "        num = int(line[i])\n",
    "        if num not in d:\n",
    "            d[num] = 1\n",
    "        else:\n",
    "            d[num] += 1\n",
    "        if d[num] > max_val:\n",
    "            max_val = d[num]\n",
    "            max_key = num\n",
    "    if max_val > t / 2:\n",
    "        # 전쟁 끝\n",
    "        print(max_key)\n",
    "    else:\n",
    "        print('SYJKGW')"
   ]
  },
  {
   "cell_type": "code",
   "execution_count": null,
   "id": "4354a8ad",
   "metadata": {},
   "outputs": [],
   "source": []
  },
  {
   "cell_type": "code",
   "execution_count": null,
   "id": "ce3badac",
   "metadata": {},
   "outputs": [],
   "source": []
  },
  {
   "cell_type": "code",
   "execution_count": null,
   "id": "252df89c",
   "metadata": {},
   "outputs": [],
   "source": []
  },
  {
   "cell_type": "code",
   "execution_count": null,
   "id": "170e58f6",
   "metadata": {},
   "outputs": [],
   "source": []
  }
 ],
 "metadata": {
  "kernelspec": {
   "display_name": "Python 3",
   "language": "python",
   "name": "python3"
  },
  "language_info": {
   "codemirror_mode": {
    "name": "ipython",
    "version": 3
   },
   "file_extension": ".py",
   "mimetype": "text/x-python",
   "name": "python",
   "nbconvert_exporter": "python",
   "pygments_lexer": "ipython3",
   "version": "3.13.6"
  }
 },
 "nbformat": 4,
 "nbformat_minor": 5
}
