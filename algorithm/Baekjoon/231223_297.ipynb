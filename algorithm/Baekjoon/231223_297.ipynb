{
 "cells": [
  {
   "cell_type": "markdown",
   "metadata": {},
   "source": [
    "### 5575번"
   ]
  },
  {
   "cell_type": "code",
   "execution_count": 1,
   "metadata": {},
   "outputs": [
    {
     "name": "stdout",
     "output_type": "stream",
     "text": [
      "9 0 0\n",
      "8 59 59\n",
      "0 0 38\n"
     ]
    }
   ],
   "source": [
    "for _ in range(3):\n",
    "    h1, m1, s1, h2, m2, s2 = map(int, input().split())\n",
    "    t1 = h1 * 60 * 60 + m1 * 60 + s1\n",
    "    t2 = h2 * 60 * 60 + m2 * 60 + s2\n",
    "    t = t2 - t1\n",
    "    h = t // 60 // 60 % 24\n",
    "    m = t // 60 % 60\n",
    "    s = t % 60\n",
    "    print(h, m, s)"
   ]
  },
  {
   "cell_type": "code",
   "execution_count": null,
   "metadata": {},
   "outputs": [],
   "source": []
  },
  {
   "cell_type": "code",
   "execution_count": null,
   "metadata": {},
   "outputs": [],
   "source": []
  }
 ],
 "metadata": {
  "kernelspec": {
   "display_name": "Python 3",
   "language": "python",
   "name": "python3"
  },
  "language_info": {
   "codemirror_mode": {
    "name": "ipython",
    "version": 3
   },
   "file_extension": ".py",
   "mimetype": "text/x-python",
   "name": "python",
   "nbconvert_exporter": "python",
   "pygments_lexer": "ipython3",
   "version": "3.11.1"
  }
 },
 "nbformat": 4,
 "nbformat_minor": 2
}
