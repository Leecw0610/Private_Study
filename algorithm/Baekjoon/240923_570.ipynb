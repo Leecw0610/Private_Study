{
 "cells": [
  {
   "cell_type": "markdown",
   "metadata": {},
   "source": [
    "### 16199번"
   ]
  },
  {
   "cell_type": "code",
   "execution_count": 1,
   "metadata": {},
   "outputs": [
    {
     "name": "stdout",
     "output_type": "stream",
     "text": [
      "1\n",
      "3\n",
      "2\n"
     ]
    }
   ],
   "source": [
    "y1, m1, d1 = map(int, input().split())\n",
    "y2, m2, d2 = map(int, input().split())\n",
    "man_old = 0\n",
    "if m1 < m2:\n",
    "    man_old = y2-y1\n",
    "elif m1 == m2:\n",
    "    if d1 <= d2:\n",
    "        man_old = y2-y1\n",
    "    else:\n",
    "        man_old = y2-y1-1\n",
    "else:\n",
    "    man_old = y2-y1-1\n",
    "count_old = y2-y1+1\n",
    "year_old = y2-y1\n",
    "print(man_old)\n",
    "print(count_old)\n",
    "print(year_old)"
   ]
  },
  {
   "cell_type": "code",
   "execution_count": null,
   "metadata": {},
   "outputs": [],
   "source": []
  },
  {
   "cell_type": "code",
   "execution_count": null,
   "metadata": {},
   "outputs": [],
   "source": []
  }
 ],
 "metadata": {
  "kernelspec": {
   "display_name": "Python 3",
   "language": "python",
   "name": "python3"
  },
  "language_info": {
   "codemirror_mode": {
    "name": "ipython",
    "version": 3
   },
   "file_extension": ".py",
   "mimetype": "text/x-python",
   "name": "python",
   "nbconvert_exporter": "python",
   "pygments_lexer": "ipython3",
   "version": "3.11.1"
  }
 },
 "nbformat": 4,
 "nbformat_minor": 2
}
