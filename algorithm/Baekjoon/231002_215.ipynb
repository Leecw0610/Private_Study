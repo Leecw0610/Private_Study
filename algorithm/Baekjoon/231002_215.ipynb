{
 "cells": [
  {
   "cell_type": "markdown",
   "metadata": {},
   "source": [
    "### 3023번"
   ]
  },
  {
   "cell_type": "code",
   "execution_count": 1,
   "metadata": {},
   "outputs": [
    {
     "ename": "",
     "evalue": "",
     "output_type": "error",
     "traceback": [
      "\u001b[1;31m현재 셀 또는 이전 셀에서 코드를 실행하는 동안 Kernel이 충돌했습니다. 셀의 코드를 검토하여 오류의 가능한 원인을 식별하세요. 자세한 내용을 보려면 <a href='https://aka.ms/vscodeJupyterKernelCrash'> 여기 </a> 를 클릭하세요. 자세한 내용은 Jupyter <a href='command:jupyter.viewOutput'>로그</a>를 참조하세요."
     ]
    }
   ],
   "source": [
    "import sys\n",
    "R, C = map(int, sys.stdin.readline().split())\n",
    "a = []\n",
    "b = [[0 for j in range(2 * C)] for i in range(2 * R)]\n",
    "\n",
    "for r in range(R):\n",
    "    a.append(sys.stdin.readline().strip())\n",
    "for i in range(R):\n",
    "    for j in range(C):\n",
    "        b[i][j] = a[i][j]\n",
    "for i in range(R):\n",
    "    for j in range(C, 2 * C):\n",
    "        b[i][j] = b[i][2 * C - j - 1]\n",
    "for i in range(R, 2 * R):\n",
    "    for j in range(2 * C):\n",
    "        b[i][j] = b[2 * R - i - 1][j]\n",
    "\n",
    "A, B = map(int, sys.stdin.readline().split())\n",
    "\n",
    "if b[A - 1][B - 1] == '#':\n",
    "    b[A - 1][B - 1] = '.'\n",
    "else:\n",
    "    b[A - 1][B - 1] = '#'\n",
    "\n",
    "for r in range(2 * R):\n",
    "    for c in range(2 * C):\n",
    "        print(b[r][c], end = '')\n",
    "    print()\n"
   ]
  },
  {
   "cell_type": "code",
   "execution_count": null,
   "metadata": {},
   "outputs": [],
   "source": []
  },
  {
   "cell_type": "code",
   "execution_count": null,
   "metadata": {},
   "outputs": [],
   "source": []
  },
  {
   "cell_type": "code",
   "execution_count": null,
   "metadata": {},
   "outputs": [],
   "source": []
  },
  {
   "cell_type": "code",
   "execution_count": null,
   "metadata": {},
   "outputs": [],
   "source": []
  }
 ],
 "metadata": {
  "kernelspec": {
   "display_name": "Python 3",
   "language": "python",
   "name": "python3"
  },
  "language_info": {
   "codemirror_mode": {
    "name": "ipython",
    "version": 3
   },
   "file_extension": ".py",
   "mimetype": "text/x-python",
   "name": "python",
   "nbconvert_exporter": "python",
   "pygments_lexer": "ipython3",
   "version": "3.11.1"
  },
  "orig_nbformat": 4
 },
 "nbformat": 4,
 "nbformat_minor": 2
}
