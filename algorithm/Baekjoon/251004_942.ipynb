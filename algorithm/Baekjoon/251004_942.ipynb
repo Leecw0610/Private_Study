{
 "cells": [
  {
   "cell_type": "markdown",
   "id": "72dda1a7",
   "metadata": {},
   "source": [
    "### 1463번"
   ]
  },
  {
   "cell_type": "code",
   "execution_count": null,
   "id": "eb090490",
   "metadata": {},
   "outputs": [
    {
     "name": "stdout",
     "output_type": "stream",
     "text": [
      "3\n"
     ]
    }
   ],
   "source": [
    "N = int(input())\n",
    "\n",
    "dp = [0] * 10000001\n",
    "\n",
    "#dp[i] : 숫자 i를 만드는데 필요한 최소 연산 횟수\n",
    "\n",
    "for i in range (2, N+1) :\n",
    "    dp[i] = dp[i-1] + 1 # 1을 빼주는 경우는 모든 숫자에 대해서 가능\n",
    "\n",
    "    if i % 2 == 0: # 2로 나누어 떨어지는 경우, 최소값 갱신\n",
    "        dp[i] = min(dp[i], dp[i//2] + 1)\n",
    "\n",
    "    if i % 3 == 0 :# 3으로 나누어 떨어지는 경우, 최소값 갱신\n",
    "        dp[i] = min(dp[i], dp[i//3] + 1)\n",
    "\n",
    "print(dp[N])"
   ]
  },
  {
   "cell_type": "code",
   "execution_count": null,
   "id": "c8bbb85e",
   "metadata": {},
   "outputs": [],
   "source": []
  },
  {
   "cell_type": "code",
   "execution_count": null,
   "id": "7d7b4af7",
   "metadata": {},
   "outputs": [],
   "source": []
  },
  {
   "cell_type": "code",
   "execution_count": null,
   "id": "caadf19e",
   "metadata": {},
   "outputs": [],
   "source": []
  }
 ],
 "metadata": {
  "kernelspec": {
   "display_name": "Python 3",
   "language": "python",
   "name": "python3"
  },
  "language_info": {
   "codemirror_mode": {
    "name": "ipython",
    "version": 3
   },
   "file_extension": ".py",
   "mimetype": "text/x-python",
   "name": "python",
   "nbconvert_exporter": "python",
   "pygments_lexer": "ipython3",
   "version": "3.13.6"
  }
 },
 "nbformat": 4,
 "nbformat_minor": 5
}
