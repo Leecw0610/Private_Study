{
 "cells": [
  {
   "cell_type": "markdown",
   "id": "a939f008",
   "metadata": {},
   "source": [
    "### 2546번"
   ]
  },
  {
   "cell_type": "code",
   "execution_count": 1,
   "id": "6ad7c916",
   "metadata": {},
   "outputs": [
    {
     "name": "stdout",
     "output_type": "stream",
     "text": [
      "0\n"
     ]
    }
   ],
   "source": [
    "T = int(input())\n",
    "\n",
    "for t in range(T):\n",
    "    empty_line = input()\n",
    "    N, M = map(int, input().split())\n",
    "    C = list(map(int, input().split()))\n",
    "    Economics = list(map(int, input().split()))\n",
    "\n",
    "    # 평균\n",
    "    C_avg = sum(C) / N\n",
    "    Economics_avg = sum(Economics) / M\n",
    "\n",
    "    result = 0\n",
    "\n",
    "    # C언어 평균보다 낮고 경제학 원론 평균보다 높은 수강생 찾기\n",
    "    for c in C:\n",
    "        if c < C_avg and c > Economics_avg:\n",
    "            result += 1\n",
    "    print(result)"
   ]
  },
  {
   "cell_type": "code",
   "execution_count": null,
   "id": "2e518123",
   "metadata": {},
   "outputs": [],
   "source": []
  },
  {
   "cell_type": "code",
   "execution_count": null,
   "id": "54dbdb95",
   "metadata": {},
   "outputs": [],
   "source": []
  },
  {
   "cell_type": "code",
   "execution_count": null,
   "id": "c001e365",
   "metadata": {},
   "outputs": [],
   "source": []
  }
 ],
 "metadata": {
  "kernelspec": {
   "display_name": "Python 3",
   "language": "python",
   "name": "python3"
  },
  "language_info": {
   "codemirror_mode": {
    "name": "ipython",
    "version": 3
   },
   "file_extension": ".py",
   "mimetype": "text/x-python",
   "name": "python",
   "nbconvert_exporter": "python",
   "pygments_lexer": "ipython3",
   "version": "3.11.1"
  }
 },
 "nbformat": 4,
 "nbformat_minor": 5
}
