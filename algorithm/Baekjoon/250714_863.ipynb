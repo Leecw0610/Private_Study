{
 "cells": [
  {
   "cell_type": "markdown",
   "id": "48b9385f",
   "metadata": {},
   "source": [
    "### 33963번"
   ]
  },
  {
   "cell_type": "code",
   "execution_count": 2,
   "id": "291eb49c",
   "metadata": {},
   "outputs": [
    {
     "name": "stdout",
     "output_type": "stream",
     "text": [
      "0\n"
     ]
    }
   ],
   "source": [
    "N = input()\n",
    "N_digit = len(N)\n",
    "click = 0\n",
    "\n",
    "while True:\n",
    "    N = str(int(N) * 2)\n",
    "\n",
    "    if N_digit < len(N):\n",
    "        break\n",
    "    else:\n",
    "        click += 1\n",
    "\n",
    "print(click)"
   ]
  },
  {
   "cell_type": "code",
   "execution_count": null,
   "id": "d31b146d",
   "metadata": {},
   "outputs": [],
   "source": []
  },
  {
   "cell_type": "code",
   "execution_count": null,
   "id": "7beec9bf",
   "metadata": {},
   "outputs": [],
   "source": []
  }
 ],
 "metadata": {
  "kernelspec": {
   "display_name": "Python 3",
   "language": "python",
   "name": "python3"
  },
  "language_info": {
   "codemirror_mode": {
    "name": "ipython",
    "version": 3
   },
   "file_extension": ".py",
   "mimetype": "text/x-python",
   "name": "python",
   "nbconvert_exporter": "python",
   "pygments_lexer": "ipython3",
   "version": "3.11.1"
  }
 },
 "nbformat": 4,
 "nbformat_minor": 5
}
