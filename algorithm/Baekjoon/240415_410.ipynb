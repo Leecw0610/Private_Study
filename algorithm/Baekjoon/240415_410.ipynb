{
 "cells": [
  {
   "cell_type": "markdown",
   "metadata": {},
   "source": [
    "### 10219번"
   ]
  },
  {
   "cell_type": "code",
   "execution_count": 2,
   "metadata": {},
   "outputs": [
    {
     "name": "stdout",
     "output_type": "stream",
     "text": [
      "bbba\n",
      "bbaa\n",
      "..aa\n"
     ]
    }
   ],
   "source": [
    "count = int(input())\n",
    "\n",
    "for j in range(count):\n",
    "    h, w = map(int, input().split())\n",
    "    for i in range(h):\n",
    "        a = input()\n",
    "        b = w - 1\n",
    "        while b >= 0:\n",
    "            print(a[b], end = \"\")\n",
    "            b = b - 1\n",
    "        print()\n"
   ]
  },
  {
   "cell_type": "code",
   "execution_count": null,
   "metadata": {},
   "outputs": [],
   "source": []
  },
  {
   "cell_type": "code",
   "execution_count": null,
   "metadata": {},
   "outputs": [],
   "source": []
  }
 ],
 "metadata": {
  "kernelspec": {
   "display_name": "Python 3",
   "language": "python",
   "name": "python3"
  },
  "language_info": {
   "codemirror_mode": {
    "name": "ipython",
    "version": 3
   },
   "file_extension": ".py",
   "mimetype": "text/x-python",
   "name": "python",
   "nbconvert_exporter": "python",
   "pygments_lexer": "ipython3",
   "version": "3.11.1"
  }
 },
 "nbformat": 4,
 "nbformat_minor": 2
}
