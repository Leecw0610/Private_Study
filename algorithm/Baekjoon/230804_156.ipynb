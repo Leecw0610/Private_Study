{
 "cells": [
  {
   "cell_type": "markdown",
   "metadata": {},
   "source": [
    "### 2530번"
   ]
  },
  {
   "cell_type": "code",
   "execution_count": 2,
   "metadata": {},
   "outputs": [
    {
     "name": "stdout",
     "output_type": "stream",
     "text": [
      "0 30 54\n"
     ]
    }
   ],
   "source": [
    "H, M, S = map(int, input().split())\n",
    "D = int(input())\n",
    "\n",
    "S += D % 60\n",
    "D = D // 60\n",
    "if S >= 60:\n",
    "    S -= 60\n",
    "    M += 1\n",
    "\n",
    "M += D % 60\n",
    "D = D // 60\n",
    "if M >= 60:\n",
    "    M -= 60\n",
    "    H += 1\n",
    "\n",
    "H += D % 24\n",
    "if H >= 24:\n",
    "    H -= 24\n",
    "\n",
    "print(H, M, S)"
   ]
  },
  {
   "cell_type": "code",
   "execution_count": null,
   "metadata": {},
   "outputs": [],
   "source": []
  },
  {
   "cell_type": "code",
   "execution_count": null,
   "metadata": {},
   "outputs": [],
   "source": []
  }
 ],
 "metadata": {
  "kernelspec": {
   "display_name": "Python 3",
   "language": "python",
   "name": "python3"
  },
  "language_info": {
   "codemirror_mode": {
    "name": "ipython",
    "version": 3
   },
   "file_extension": ".py",
   "mimetype": "text/x-python",
   "name": "python",
   "nbconvert_exporter": "python",
   "pygments_lexer": "ipython3",
   "version": "3.11.1"
  },
  "orig_nbformat": 4
 },
 "nbformat": 4,
 "nbformat_minor": 2
}
