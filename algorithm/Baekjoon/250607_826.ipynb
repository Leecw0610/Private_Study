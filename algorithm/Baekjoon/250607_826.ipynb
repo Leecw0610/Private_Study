{
 "cells": [
  {
   "cell_type": "markdown",
   "id": "3d919476",
   "metadata": {},
   "source": [
    "### 32068번"
   ]
  },
  {
   "cell_type": "code",
   "execution_count": 1,
   "id": "e30f3a7d",
   "metadata": {},
   "outputs": [
    {
     "name": "stdout",
     "output_type": "stream",
     "text": [
      "5\n",
      "4\n"
     ]
    }
   ],
   "source": [
    "T = int(input())\n",
    "\n",
    "for _ in range(T):\n",
    "    L, R, S = map(int, input().split())\n",
    "    L_Check, R_Check = S - L, R - S\n",
    "    if L_Check < R_Check:\n",
    "        print(L_Check * 2 + 1)\n",
    "    else:\n",
    "        print(R_Check * 2)"
   ]
  },
  {
   "cell_type": "code",
   "execution_count": null,
   "id": "4e8f3da0",
   "metadata": {},
   "outputs": [],
   "source": []
  },
  {
   "cell_type": "code",
   "execution_count": null,
   "id": "0750d3d5",
   "metadata": {},
   "outputs": [],
   "source": []
  },
  {
   "cell_type": "code",
   "execution_count": null,
   "id": "6cacc156",
   "metadata": {},
   "outputs": [],
   "source": []
  }
 ],
 "metadata": {
  "kernelspec": {
   "display_name": "Python 3",
   "language": "python",
   "name": "python3"
  },
  "language_info": {
   "codemirror_mode": {
    "name": "ipython",
    "version": 3
   },
   "file_extension": ".py",
   "mimetype": "text/x-python",
   "name": "python",
   "nbconvert_exporter": "python",
   "pygments_lexer": "ipython3",
   "version": "3.11.1"
  }
 },
 "nbformat": 4,
 "nbformat_minor": 5
}
