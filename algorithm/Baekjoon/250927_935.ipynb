{
 "cells": [
  {
   "cell_type": "markdown",
   "id": "0e7d70de",
   "metadata": {},
   "source": [
    "### 1431번"
   ]
  },
  {
   "cell_type": "code",
   "execution_count": 1,
   "id": "1ad46e07",
   "metadata": {},
   "outputs": [
    {
     "name": "stdout",
     "output_type": "stream",
     "text": [
      "Z20\n",
      "Z19\n"
     ]
    }
   ],
   "source": [
    "def num(s):\n",
    "    return sum([int(c) for c in s if '0' <= c <= '9'])\n",
    "\n",
    "N = int(input())\n",
    "li = []\n",
    "for _ in range(N):\n",
    "    s = input()\n",
    "    li.append([len(s), num(s) , s])\n",
    "li.sort(key=lambda x:(x[0], x[1], x[2]))\n",
    "for t in li:\n",
    "    print(t[-1])"
   ]
  },
  {
   "cell_type": "code",
   "execution_count": null,
   "id": "e32e901c",
   "metadata": {},
   "outputs": [],
   "source": []
  },
  {
   "cell_type": "code",
   "execution_count": null,
   "id": "78641054",
   "metadata": {},
   "outputs": [],
   "source": []
  },
  {
   "cell_type": "code",
   "execution_count": null,
   "id": "4b1b22f1",
   "metadata": {},
   "outputs": [],
   "source": []
  }
 ],
 "metadata": {
  "kernelspec": {
   "display_name": "Python 3",
   "language": "python",
   "name": "python3"
  },
  "language_info": {
   "codemirror_mode": {
    "name": "ipython",
    "version": 3
   },
   "file_extension": ".py",
   "mimetype": "text/x-python",
   "name": "python",
   "nbconvert_exporter": "python",
   "pygments_lexer": "ipython3",
   "version": "3.13.6"
  }
 },
 "nbformat": 4,
 "nbformat_minor": 5
}
