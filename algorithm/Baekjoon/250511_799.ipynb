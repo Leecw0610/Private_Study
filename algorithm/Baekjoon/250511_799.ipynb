{
 "cells": [
  {
   "cell_type": "markdown",
   "id": "48f38db9",
   "metadata": {},
   "source": [
    "### 31472번"
   ]
  },
  {
   "cell_type": "code",
   "execution_count": 1,
   "id": "db0a875a",
   "metadata": {},
   "outputs": [
    {
     "name": "stdout",
     "output_type": "stream",
     "text": [
      "24\n"
     ]
    }
   ],
   "source": [
    "W = int(input())\n",
    "a = int((2 * W) ** (1 / 2))\n",
    "print(a * 4)"
   ]
  },
  {
   "cell_type": "code",
   "execution_count": null,
   "id": "91ba9557",
   "metadata": {},
   "outputs": [],
   "source": []
  },
  {
   "cell_type": "code",
   "execution_count": null,
   "id": "6968479c",
   "metadata": {},
   "outputs": [],
   "source": []
  },
  {
   "cell_type": "code",
   "execution_count": null,
   "id": "66567ace",
   "metadata": {},
   "outputs": [],
   "source": []
  }
 ],
 "metadata": {
  "kernelspec": {
   "display_name": "Python 3",
   "language": "python",
   "name": "python3"
  },
  "language_info": {
   "codemirror_mode": {
    "name": "ipython",
    "version": 3
   },
   "file_extension": ".py",
   "mimetype": "text/x-python",
   "name": "python",
   "nbconvert_exporter": "python",
   "pygments_lexer": "ipython3",
   "version": "3.11.1"
  }
 },
 "nbformat": 4,
 "nbformat_minor": 5
}
