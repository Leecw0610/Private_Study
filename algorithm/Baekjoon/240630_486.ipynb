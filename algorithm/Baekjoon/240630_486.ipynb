{
 "cells": [
  {
   "cell_type": "markdown",
   "metadata": {},
   "source": [
    "### 13223번"
   ]
  },
  {
   "cell_type": "code",
   "execution_count": 1,
   "metadata": {},
   "outputs": [
    {
     "name": "stdout",
     "output_type": "stream",
     "text": [
      "02:01:26\n"
     ]
    }
   ],
   "source": [
    "now = list(map(int, input().split(':')))\n",
    "salt= list(map(int, input().split(':')))\n",
    "\n",
    "now_time = now[0] * 3600 + now[1] * 60 + now[2]\n",
    "salt_time = salt[0] * 3600 + salt[1] * 60 + salt[2]\n",
    "\n",
    "if now_time >= salt_time:\n",
    "    salt_time += 24 * 3600\n",
    "\n",
    "result = salt_time - now_time\n",
    "\n",
    "hh = str(result // 3600).zfill(2)\n",
    "mm = str((result % 3600) // 60).zfill(2)\n",
    "ss = str(result % 60).zfill(2)\n",
    "print('{}:{}:{}'.format(hh, mm, ss))"
   ]
  },
  {
   "cell_type": "code",
   "execution_count": null,
   "metadata": {},
   "outputs": [],
   "source": []
  },
  {
   "cell_type": "code",
   "execution_count": null,
   "metadata": {},
   "outputs": [],
   "source": []
  }
 ],
 "metadata": {
  "kernelspec": {
   "display_name": "Python 3",
   "language": "python",
   "name": "python3"
  },
  "language_info": {
   "codemirror_mode": {
    "name": "ipython",
    "version": 3
   },
   "file_extension": ".py",
   "mimetype": "text/x-python",
   "name": "python",
   "nbconvert_exporter": "python",
   "pygments_lexer": "ipython3",
   "version": "3.11.1"
  }
 },
 "nbformat": 4,
 "nbformat_minor": 2
}
