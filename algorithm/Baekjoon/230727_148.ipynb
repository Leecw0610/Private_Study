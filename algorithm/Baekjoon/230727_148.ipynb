{
 "cells": [
  {
   "cell_type": "markdown",
   "metadata": {},
   "source": [
    "### 2484번"
   ]
  },
  {
   "cell_type": "code",
   "execution_count": 4,
   "metadata": {},
   "outputs": [
    {
     "name": "stdout",
     "output_type": "stream",
     "text": [
      "65000\n"
     ]
    }
   ],
   "source": [
    "def money():\n",
    "    lst = sorted(list(map(int, input().split())))\n",
    "    s = len(set(lst))\n",
    "    if s == 1:\n",
    "        return 50000 + lst[0] * 5000\n",
    "    elif s == 2:\n",
    "        if lst[1] == lst[2]:\n",
    "            return 10000 + lst[1] * 1000\n",
    "        else:\n",
    "            return 2000 + lst[0] * 500 + lst[3] * 500\n",
    "    for i in range(3):\n",
    "        if lst[i] == lst[i+1]:\n",
    "            return 1000 + lst[i] * 100\n",
    "    return lst[-1] * 100\n",
    "\n",
    "N = int(input())\n",
    "\n",
    "print(max(money() for i in range(N)))"
   ]
  },
  {
   "cell_type": "code",
   "execution_count": null,
   "metadata": {},
   "outputs": [],
   "source": []
  },
  {
   "cell_type": "code",
   "execution_count": null,
   "metadata": {},
   "outputs": [],
   "source": []
  }
 ],
 "metadata": {
  "kernelspec": {
   "display_name": "Python 3",
   "language": "python",
   "name": "python3"
  },
  "language_info": {
   "codemirror_mode": {
    "name": "ipython",
    "version": 3
   },
   "file_extension": ".py",
   "mimetype": "text/x-python",
   "name": "python",
   "nbconvert_exporter": "python",
   "pygments_lexer": "ipython3",
   "version": "3.11.1"
  },
  "orig_nbformat": 4
 },
 "nbformat": 4,
 "nbformat_minor": 2
}
