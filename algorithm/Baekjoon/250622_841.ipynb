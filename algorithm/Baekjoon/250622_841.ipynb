{
 "cells": [
  {
   "cell_type": "markdown",
   "id": "679a4d85",
   "metadata": {},
   "source": [
    "### 32369번"
   ]
  },
  {
   "cell_type": "code",
   "execution_count": 1,
   "id": "97abe87d",
   "metadata": {},
   "outputs": [
    {
     "name": "stdout",
     "output_type": "stream",
     "text": [
      "12 11\n"
     ]
    }
   ],
   "source": [
    "N, A, B = map(int, input().split())\n",
    "x, y = 1, 1\n",
    "\n",
    "while N:\n",
    "    # 1번 조건\n",
    "    x += A\n",
    "    y += B\n",
    "\n",
    "    # 2번 조건\n",
    "    if x < y:\n",
    "        x, y = y, x\n",
    "\n",
    "    # 3번 조건\n",
    "    if x == y:\n",
    "        y -= 1\n",
    "\n",
    "    N -= 1\n",
    "\n",
    "print(x, y)"
   ]
  },
  {
   "cell_type": "code",
   "execution_count": null,
   "id": "671db9d5",
   "metadata": {},
   "outputs": [],
   "source": []
  },
  {
   "cell_type": "code",
   "execution_count": null,
   "id": "4fa6283b",
   "metadata": {},
   "outputs": [],
   "source": []
  },
  {
   "cell_type": "code",
   "execution_count": null,
   "id": "7be26e9f",
   "metadata": {},
   "outputs": [],
   "source": []
  }
 ],
 "metadata": {
  "kernelspec": {
   "display_name": "Python 3",
   "language": "python",
   "name": "python3"
  },
  "language_info": {
   "codemirror_mode": {
    "name": "ipython",
    "version": 3
   },
   "file_extension": ".py",
   "mimetype": "text/x-python",
   "name": "python",
   "nbconvert_exporter": "python",
   "pygments_lexer": "ipython3",
   "version": "3.11.1"
  }
 },
 "nbformat": 4,
 "nbformat_minor": 5
}
