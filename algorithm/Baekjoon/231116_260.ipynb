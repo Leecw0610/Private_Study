{
 "cells": [
  {
   "cell_type": "markdown",
   "metadata": {},
   "source": [
    "### 2897번"
   ]
  },
  {
   "cell_type": "code",
   "execution_count": 1,
   "metadata": {},
   "outputs": [
    {
     "name": "stdout",
     "output_type": "stream",
     "text": [
      "2\n",
      "1\n",
      "1\n",
      "0\n",
      "1\n"
     ]
    }
   ],
   "source": [
    "r,c = map(int, input().split(' '))\n",
    "place = []\n",
    "for _ in range(r):\n",
    "    arr= list(map(str, input()))\n",
    "    place.append(arr)\n",
    "\n",
    "monster_truck =[]\n",
    "for i in range(r-1):\n",
    "    for j in range(c-1):\n",
    "        monster_truck.append([place[i][j],place[i][j+1],place[i+1][j], place[i+1][j+1]])\n",
    "\n",
    "result =[0 for _ in range(5)]\n",
    "\n",
    "for i in range(len(monster_truck)):\n",
    "        if '#' in monster_truck[i] :\n",
    "            continue\n",
    "        elif monster_truck[i].count('.') == 4:\n",
    "            result[0] +=1\n",
    "        elif monster_truck[i].count('X') == 1:\n",
    "            result[1] +=1\n",
    "        elif monster_truck[i].count('X') == 2:\n",
    "            result[2] +=1\n",
    "        elif monster_truck[i].count('X') == 3:\n",
    "            result[3] +=1\n",
    "        elif monster_truck[i].count('X') == 4:\n",
    "            result[4] +=1\n",
    "\n",
    "for i in range(len(result)):\n",
    "    print(result[i])"
   ]
  },
  {
   "cell_type": "code",
   "execution_count": null,
   "metadata": {},
   "outputs": [],
   "source": []
  },
  {
   "cell_type": "code",
   "execution_count": null,
   "metadata": {},
   "outputs": [],
   "source": []
  }
 ],
 "metadata": {
  "kernelspec": {
   "display_name": "Python 3",
   "language": "python",
   "name": "python3"
  },
  "language_info": {
   "codemirror_mode": {
    "name": "ipython",
    "version": 3
   },
   "file_extension": ".py",
   "mimetype": "text/x-python",
   "name": "python",
   "nbconvert_exporter": "python",
   "pygments_lexer": "ipython3",
   "version": "3.11.1"
  }
 },
 "nbformat": 4,
 "nbformat_minor": 2
}
