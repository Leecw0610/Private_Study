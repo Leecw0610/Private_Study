{
 "cells": [
  {
   "cell_type": "markdown",
   "id": "7712c289",
   "metadata": {},
   "source": [
    "### 31712번"
   ]
  },
  {
   "cell_type": "code",
   "execution_count": 1,
   "id": "f82c2b57",
   "metadata": {},
   "outputs": [
    {
     "name": "stdout",
     "output_type": "stream",
     "text": [
      "12\n"
     ]
    }
   ],
   "source": [
    "skillDamage = [list(map(int, input().split())) for _ in range(3)]\n",
    "H = int(input())\n",
    "second = 0\n",
    "\n",
    "while True:\n",
    "    for s in skillDamage:\n",
    "        C, D = s[0], s[1]\n",
    "        if second % C == 0:\n",
    "            H -= D\n",
    "\n",
    "    if H <= 0:\n",
    "        print(second)\n",
    "        break\n",
    "    else:\n",
    "        second += 1"
   ]
  },
  {
   "cell_type": "code",
   "execution_count": null,
   "id": "fb2ea53f",
   "metadata": {},
   "outputs": [],
   "source": []
  },
  {
   "cell_type": "code",
   "execution_count": null,
   "id": "acea3c44",
   "metadata": {},
   "outputs": [],
   "source": []
  },
  {
   "cell_type": "code",
   "execution_count": null,
   "id": "326f2d1e",
   "metadata": {},
   "outputs": [],
   "source": []
  }
 ],
 "metadata": {
  "kernelspec": {
   "display_name": "Python 3",
   "language": "python",
   "name": "python3"
  },
  "language_info": {
   "codemirror_mode": {
    "name": "ipython",
    "version": 3
   },
   "file_extension": ".py",
   "mimetype": "text/x-python",
   "name": "python",
   "nbconvert_exporter": "python",
   "pygments_lexer": "ipython3",
   "version": "3.11.1"
  }
 },
 "nbformat": 4,
 "nbformat_minor": 5
}
