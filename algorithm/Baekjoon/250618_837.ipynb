{
 "cells": [
  {
   "cell_type": "markdown",
   "id": "e90e80f5",
   "metadata": {},
   "source": [
    "### 32280번"
   ]
  },
  {
   "cell_type": "code",
   "execution_count": 1,
   "id": "3c619667",
   "metadata": {},
   "outputs": [
    {
     "name": "stdout",
     "output_type": "stream",
     "text": [
      "5\n"
     ]
    }
   ],
   "source": [
    "N = int(input())\n",
    "timeTable = []\n",
    "teacherTime = \"\"\n",
    "\n",
    "for _ in range(N + 1):\n",
    "    a, b = input().split()\n",
    "    if b == \"teacher\":  # 선생님 도착 시간\n",
    "        teacherTime = a\n",
    "    else:  # 학생들 도착 시간\n",
    "        timeTable.append(a)\n",
    "\n",
    "startTime = input()  # 정해진 등교 시간\n",
    "\n",
    "result = 0\n",
    "\n",
    "for t in timeTable:\n",
    "    if t >= startTime and t >= teacherTime:\n",
    "        result += 1\n",
    "\n",
    "print(result)"
   ]
  },
  {
   "cell_type": "code",
   "execution_count": null,
   "id": "989b0a1b",
   "metadata": {},
   "outputs": [],
   "source": []
  },
  {
   "cell_type": "code",
   "execution_count": null,
   "id": "ac3bc8c3",
   "metadata": {},
   "outputs": [],
   "source": []
  },
  {
   "cell_type": "code",
   "execution_count": null,
   "id": "8e38e3bf",
   "metadata": {},
   "outputs": [],
   "source": []
  },
  {
   "cell_type": "code",
   "execution_count": null,
   "id": "497efd7b",
   "metadata": {},
   "outputs": [],
   "source": []
  }
 ],
 "metadata": {
  "kernelspec": {
   "display_name": "Python 3",
   "language": "python",
   "name": "python3"
  },
  "language_info": {
   "codemirror_mode": {
    "name": "ipython",
    "version": 3
   },
   "file_extension": ".py",
   "mimetype": "text/x-python",
   "name": "python",
   "nbconvert_exporter": "python",
   "pygments_lexer": "ipython3",
   "version": "3.11.1"
  }
 },
 "nbformat": 4,
 "nbformat_minor": 5
}
