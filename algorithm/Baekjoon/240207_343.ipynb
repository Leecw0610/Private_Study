{
 "cells": [
  {
   "cell_type": "markdown",
   "metadata": {},
   "source": [
    "### 7581번"
   ]
  },
  {
   "cell_type": "code",
   "execution_count": 1,
   "metadata": {},
   "outputs": [
    {
     "name": "stdout",
     "output_type": "stream",
     "text": [
      "2 1 3 6\n",
      "6 5 4 120\n",
      "2 8 5 80\n",
      "9 8 8 576\n"
     ]
    }
   ],
   "source": [
    "while 1:\n",
    "    l, w, h, v = map(int ,input().split())\n",
    "    if l == w == h == v == 0:\n",
    "        break\n",
    "    if l == 0:\n",
    "        l = (v // w // h)\n",
    "    elif w == 0:\n",
    "        w = (v // l // h)\n",
    "    elif h == 0:\n",
    "        h = (v // l // w)\n",
    "    elif v == 0:\n",
    "        v = (l * w * h)\n",
    "    print(l, w, h, v)"
   ]
  },
  {
   "cell_type": "code",
   "execution_count": null,
   "metadata": {},
   "outputs": [],
   "source": []
  },
  {
   "cell_type": "code",
   "execution_count": null,
   "metadata": {},
   "outputs": [],
   "source": []
  },
  {
   "cell_type": "code",
   "execution_count": null,
   "metadata": {},
   "outputs": [],
   "source": []
  }
 ],
 "metadata": {
  "kernelspec": {
   "display_name": "Python 3",
   "language": "python",
   "name": "python3"
  },
  "language_info": {
   "codemirror_mode": {
    "name": "ipython",
    "version": 3
   },
   "file_extension": ".py",
   "mimetype": "text/x-python",
   "name": "python",
   "nbconvert_exporter": "python",
   "pygments_lexer": "ipython3",
   "version": "3.11.1"
  }
 },
 "nbformat": 4,
 "nbformat_minor": 2
}
