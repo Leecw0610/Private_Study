{
 "cells": [
  {
   "cell_type": "markdown",
   "id": "ba575251",
   "metadata": {},
   "source": [
    "### 1358번"
   ]
  },
  {
   "cell_type": "code",
   "execution_count": null,
   "id": "b2271492",
   "metadata": {},
   "outputs": [],
   "source": [
    "import sys\n",
    "input = sys.stdin.readline\n",
    "\n",
    "W, H, X, Y, P = map(int, input().split())\n",
    "count = 0\n",
    "for _ in range(P):\n",
    "    x, y = map(int, input().split())\n",
    "\n",
    "    # 가운데 직사각형 내부에 있는 경우(둘레 포함)\n",
    "    if (X <= x <= X+W) and (Y <= y <= Y+H):\n",
    "        count +=1\n",
    "        continue\n",
    "\n",
    "    # 왼쪽 반원, 오른쪽 반원 내부에 있는 경우(둘레 포함)\n",
    "    R = H/2\n",
    "    d1 = ((x-X)**2 + (y-(Y+R))**2)**0.5\n",
    "    d2 = ((x-(X+W))**2 + (y-(Y+R))**2)**0.5\n",
    "    if d1 <= R or d2 <= R:\n",
    "        count += 1\n",
    "\n",
    "print(count)"
   ]
  },
  {
   "cell_type": "code",
   "execution_count": null,
   "id": "27dde2f0",
   "metadata": {},
   "outputs": [],
   "source": []
  },
  {
   "cell_type": "code",
   "execution_count": null,
   "id": "d0623f75",
   "metadata": {},
   "outputs": [],
   "source": []
  },
  {
   "cell_type": "code",
   "execution_count": null,
   "id": "480143f6",
   "metadata": {},
   "outputs": [],
   "source": []
  }
 ],
 "metadata": {
  "kernelspec": {
   "display_name": "Python 3",
   "language": "python",
   "name": "python3"
  },
  "language_info": {
   "codemirror_mode": {
    "name": "ipython",
    "version": 3
   },
   "file_extension": ".py",
   "mimetype": "text/x-python",
   "name": "python",
   "nbconvert_exporter": "python",
   "pygments_lexer": "ipython3",
   "version": "3.13.6"
  }
 },
 "nbformat": 4,
 "nbformat_minor": 5
}
