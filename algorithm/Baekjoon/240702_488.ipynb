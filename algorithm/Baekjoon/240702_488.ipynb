{
 "cells": [
  {
   "cell_type": "markdown",
   "metadata": {},
   "source": [
    "### 13300번"
   ]
  },
  {
   "cell_type": "code",
   "execution_count": 1,
   "metadata": {},
   "outputs": [
    {
     "name": "stdout",
     "output_type": "stream",
     "text": [
      "12\n"
     ]
    }
   ],
   "source": [
    "N , k = map(int, input().split())\n",
    "\n",
    "cnt = [[0,0,0,0,0,0],[0,0,0,0,0,0]]\n",
    "result = 0\n",
    "for i in range(N):\n",
    "    sex , grade  = map(int, input().split())\n",
    "    cnt[sex][grade - 1] += 1\n",
    "\n",
    "for i in cnt :\n",
    "    for j in i:\n",
    "        if j % k == 0:\n",
    "            result += j//k\n",
    "        else:\n",
    "            result += (j//k) + 1\n",
    "print(result)"
   ]
  },
  {
   "cell_type": "code",
   "execution_count": null,
   "metadata": {},
   "outputs": [],
   "source": []
  },
  {
   "cell_type": "code",
   "execution_count": null,
   "metadata": {},
   "outputs": [],
   "source": []
  }
 ],
 "metadata": {
  "kernelspec": {
   "display_name": "Python 3",
   "language": "python",
   "name": "python3"
  },
  "language_info": {
   "codemirror_mode": {
    "name": "ipython",
    "version": 3
   },
   "file_extension": ".py",
   "mimetype": "text/x-python",
   "name": "python",
   "nbconvert_exporter": "python",
   "pygments_lexer": "ipython3",
   "version": "3.11.1"
  }
 },
 "nbformat": 4,
 "nbformat_minor": 2
}
