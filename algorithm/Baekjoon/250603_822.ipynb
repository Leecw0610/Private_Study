{
 "cells": [
  {
   "cell_type": "markdown",
   "id": "04cc5f5c",
   "metadata": {},
   "source": [
    "### 31962번"
   ]
  },
  {
   "cell_type": "code",
   "execution_count": 1,
   "id": "1d0a7c0b",
   "metadata": {},
   "outputs": [
    {
     "name": "stdout",
     "output_type": "stream",
     "text": [
      "-1\n"
     ]
    }
   ],
   "source": [
    "N, X = map(int, input().split())\n",
    "busInfo = []\n",
    "for _ in range(N):\n",
    "    S, T = map(int, input().split())\n",
    "    busInfo.append([S, T])\n",
    "\n",
    "busInfo.sort(key=lambda x: -x[0])\n",
    "\n",
    "arriveCheck = False\n",
    "for k, d in busInfo:\n",
    "    if k + d > X:\n",
    "        continue\n",
    "    else:\n",
    "        arriveCheck = True\n",
    "        takeTime = k\n",
    "        break\n",
    "\n",
    "if arriveCheck:\n",
    "    print(takeTime)\n",
    "else:\n",
    "    print(-1)"
   ]
  },
  {
   "cell_type": "code",
   "execution_count": null,
   "id": "4bcfd579",
   "metadata": {},
   "outputs": [],
   "source": []
  },
  {
   "cell_type": "code",
   "execution_count": null,
   "id": "07b5637d",
   "metadata": {},
   "outputs": [],
   "source": []
  },
  {
   "cell_type": "code",
   "execution_count": null,
   "id": "57f996f6",
   "metadata": {},
   "outputs": [],
   "source": []
  }
 ],
 "metadata": {
  "kernelspec": {
   "display_name": "Python 3",
   "language": "python",
   "name": "python3"
  },
  "language_info": {
   "codemirror_mode": {
    "name": "ipython",
    "version": 3
   },
   "file_extension": ".py",
   "mimetype": "text/x-python",
   "name": "python",
   "nbconvert_exporter": "python",
   "pygments_lexer": "ipython3",
   "version": "3.11.1"
  }
 },
 "nbformat": 4,
 "nbformat_minor": 5
}
