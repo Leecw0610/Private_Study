{
 "cells": [
  {
   "cell_type": "markdown",
   "id": "ce21ec8f",
   "metadata": {},
   "source": [
    "### 32860번"
   ]
  },
  {
   "cell_type": "code",
   "execution_count": 1,
   "id": "4428f12e",
   "metadata": {},
   "outputs": [
    {
     "name": "stdout",
     "output_type": "stream",
     "text": [
      "SN 1A\n"
     ]
    }
   ],
   "source": [
    "N, M = map(int, input().split())\n",
    "\n",
    "lowercase = [''] + [chr(i) for i in range(ord('a'), ord('z') + 1)]\n",
    "q = M // 26\n",
    "r = M % 26\n",
    "\n",
    "sn_id = ''\n",
    "\n",
    "if M <= 26:\n",
    "    sn_id = lowercase[M].upper()\n",
    "elif r == 0:\n",
    "    sn_id = lowercase[q - 1] + lowercase[-1]\n",
    "else:\n",
    "    sn_id = lowercase[q] + lowercase[r]\n",
    "\n",
    "print(f'SN {N}{sn_id}')"
   ]
  },
  {
   "cell_type": "code",
   "execution_count": null,
   "id": "c94bed68",
   "metadata": {},
   "outputs": [],
   "source": []
  },
  {
   "cell_type": "code",
   "execution_count": null,
   "id": "98cc7810",
   "metadata": {},
   "outputs": [],
   "source": []
  },
  {
   "cell_type": "code",
   "execution_count": null,
   "id": "a91616e2",
   "metadata": {},
   "outputs": [],
   "source": []
  }
 ],
 "metadata": {
  "kernelspec": {
   "display_name": "Python 3",
   "language": "python",
   "name": "python3"
  },
  "language_info": {
   "codemirror_mode": {
    "name": "ipython",
    "version": 3
   },
   "file_extension": ".py",
   "mimetype": "text/x-python",
   "name": "python",
   "nbconvert_exporter": "python",
   "pygments_lexer": "ipython3",
   "version": "3.11.1"
  }
 },
 "nbformat": 4,
 "nbformat_minor": 5
}
