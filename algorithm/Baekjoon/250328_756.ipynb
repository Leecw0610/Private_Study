{
 "cells": [
  {
   "cell_type": "markdown",
   "metadata": {},
   "source": [
    "### 29614번"
   ]
  },
  {
   "cell_type": "code",
   "execution_count": 1,
   "metadata": {},
   "outputs": [
    {
     "name": "stdout",
     "output_type": "stream",
     "text": [
      "3.4285714285714284\n"
     ]
    }
   ],
   "source": [
    "grade_dict = {\n",
    "    \"A+\": 4.5,\n",
    "    \"A\": 4.0,\n",
    "    \"B+\": 3.5,\n",
    "    \"B\": 3.0,\n",
    "    \"C+\": 2.5,\n",
    "    \"C\": 2.0,\n",
    "    \"D+\": 1.5,\n",
    "    \"D\": 1.0,\n",
    "    \"F\": 0.0,\n",
    "}\n",
    "\n",
    "grade = input() + \"@\"\n",
    "\n",
    "subject = []\n",
    "for i in range(len(grade) - 1):\n",
    "    if grade[i] == \"+\":\n",
    "        continue\n",
    "\n",
    "    if grade[i + 1] == \"+\":\n",
    "        subject.append(grade[i] + \"+\")\n",
    "    else:\n",
    "        subject.append(grade[i])\n",
    "\n",
    "total = 0\n",
    "for s in subject:\n",
    "    total += grade_dict[s]\n",
    "\n",
    "print(total / len(subject))"
   ]
  },
  {
   "cell_type": "code",
   "execution_count": null,
   "metadata": {},
   "outputs": [],
   "source": []
  },
  {
   "cell_type": "code",
   "execution_count": null,
   "metadata": {},
   "outputs": [],
   "source": []
  },
  {
   "cell_type": "code",
   "execution_count": null,
   "metadata": {},
   "outputs": [],
   "source": []
  }
 ],
 "metadata": {
  "kernelspec": {
   "display_name": "Python 3",
   "language": "python",
   "name": "python3"
  },
  "language_info": {
   "codemirror_mode": {
    "name": "ipython",
    "version": 3
   },
   "file_extension": ".py",
   "mimetype": "text/x-python",
   "name": "python",
   "nbconvert_exporter": "python",
   "pygments_lexer": "ipython3",
   "version": "3.11.1"
  }
 },
 "nbformat": 4,
 "nbformat_minor": 2
}
