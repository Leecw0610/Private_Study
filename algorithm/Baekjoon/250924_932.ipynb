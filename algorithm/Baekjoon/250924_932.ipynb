{
 "cells": [
  {
   "cell_type": "markdown",
   "id": "e759604d",
   "metadata": {},
   "source": [
    "### 1417번"
   ]
  },
  {
   "cell_type": "code",
   "execution_count": 1,
   "id": "d3f5e68e",
   "metadata": {},
   "outputs": [
    {
     "name": "stdout",
     "output_type": "stream",
     "text": [
      "1\n"
     ]
    }
   ],
   "source": [
    "n = int(input()) # 후보의 수\n",
    "dasom = int(input()) # 기호 1번을 찍으려고 하는 사람의 수\n",
    "vote = [] # 다른 후보를 찍으려고 하는 사람의 수\n",
    "count = 0 # 매수해야하는 사람의 수\n",
    "for _ in range(n - 1):\n",
    "    vote.append(int(input()))\n",
    "vote.sort(reverse=True) # 내림차순 정렬\n",
    "if n == 1:\n",
    "    print(0)\n",
    "else:\n",
    "    # 표가 제일 많은 후보를 찍으려고 하는사람을 매수\n",
    "    while vote[0] >= dasom:\n",
    "        dasom += 1\n",
    "        vote[0] -= 1\n",
    "        count += 1\n",
    "        vote.sort(reverse=True)\n",
    "    print(count)"
   ]
  },
  {
   "cell_type": "code",
   "execution_count": null,
   "id": "7351175f",
   "metadata": {},
   "outputs": [],
   "source": []
  },
  {
   "cell_type": "code",
   "execution_count": null,
   "id": "9f03fa8c",
   "metadata": {},
   "outputs": [],
   "source": []
  },
  {
   "cell_type": "code",
   "execution_count": null,
   "id": "9fe48bb5",
   "metadata": {},
   "outputs": [],
   "source": []
  }
 ],
 "metadata": {
  "kernelspec": {
   "display_name": "Python 3",
   "language": "python",
   "name": "python3"
  },
  "language_info": {
   "codemirror_mode": {
    "name": "ipython",
    "version": 3
   },
   "file_extension": ".py",
   "mimetype": "text/x-python",
   "name": "python",
   "nbconvert_exporter": "python",
   "pygments_lexer": "ipython3",
   "version": "3.13.6"
  }
 },
 "nbformat": 4,
 "nbformat_minor": 5
}
