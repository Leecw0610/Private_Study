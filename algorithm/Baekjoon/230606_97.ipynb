{
 "cells": [
  {
   "attachments": {},
   "cell_type": "markdown",
   "metadata": {},
   "source": [
    "### 1816번"
   ]
  },
  {
   "cell_type": "code",
   "execution_count": 1,
   "metadata": {},
   "outputs": [
    {
     "name": "stdout",
     "output_type": "stream",
     "text": [
      "YES\n",
      "NO\n",
      "NO\n"
     ]
    }
   ],
   "source": [
    "def prime(n):\n",
    "    li = [0, 0] + [1] * n\n",
    "    for i in range(2, n + 1):\n",
    "        if li[i]:\n",
    "            for j in range(2 * i, n + 1, i):\n",
    "                li[j] = 0\n",
    "    return li\n",
    "\n",
    "li = prime(1000000)\n",
    "\n",
    "for _ in range(int(input())):\n",
    "    n = int(input())\n",
    "    flag = 1\n",
    "    for i in range(2, min(1000001, int(n ** 0.5) + 1)):\n",
    "        if li[i] and not n % i:\n",
    "            flag = 0\n",
    "            break\n",
    "    print('YES' if flag else 'NO')"
   ]
  },
  {
   "cell_type": "code",
   "execution_count": null,
   "metadata": {},
   "outputs": [],
   "source": []
  },
  {
   "cell_type": "code",
   "execution_count": null,
   "metadata": {},
   "outputs": [],
   "source": []
  },
  {
   "cell_type": "code",
   "execution_count": null,
   "metadata": {},
   "outputs": [],
   "source": []
  }
 ],
 "metadata": {
  "kernelspec": {
   "display_name": "Python 3",
   "language": "python",
   "name": "python3"
  },
  "language_info": {
   "codemirror_mode": {
    "name": "ipython",
    "version": 3
   },
   "file_extension": ".py",
   "mimetype": "text/x-python",
   "name": "python",
   "nbconvert_exporter": "python",
   "pygments_lexer": "ipython3",
   "version": "3.11.1"
  },
  "orig_nbformat": 4
 },
 "nbformat": 4,
 "nbformat_minor": 2
}
