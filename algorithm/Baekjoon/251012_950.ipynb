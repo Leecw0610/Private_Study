{
 "cells": [
  {
   "cell_type": "markdown",
   "id": "e86b72fe",
   "metadata": {},
   "source": [
    "### 1497번"
   ]
  },
  {
   "cell_type": "code",
   "execution_count": 1,
   "id": "33f03340",
   "metadata": {},
   "outputs": [
    {
     "name": "stdout",
     "output_type": "stream",
     "text": [
      "1\n"
     ]
    }
   ],
   "source": [
    "N, M = map(int, input().split())\n",
    "guitars = list()\n",
    "\n",
    "# 기타 입력받기\n",
    "for _ in range(N):\n",
    "    _, guitar = input().split()\n",
    "    guitars.append(guitar)\n",
    "\n",
    "# 최대 기타 갯수\n",
    "maximum = -1\n",
    "# 기타 치는 사람 수\n",
    "person_count = -1\n",
    "\n",
    "# [0, 0, 0, 0], [0, 0, 0, 1], [0, 0, 1, 0]과 같이 bit 연산을 위한 준비\n",
    "# 2^N개 입력받기\n",
    "for idx in range(2 ** N):\n",
    "    numbers = list()\n",
    "    # 숫자 N개 입력해주기\n",
    "    for j in range(1, N + 1):\n",
    "        # print(f\"idx: {idx}, j: {j}, 2**j: {2**j}, idx % 2**j: {(idx) % (2**j)}\")\n",
    "        if idx % (2 ** j) >= (2 ** (j - 1)):\n",
    "            numbers.append(1)\n",
    "        else:\n",
    "            numbers.append(0)\n",
    "    \n",
    "    # 뒤집기\n",
    "    numbers = numbers[::-1]\n",
    "    \n",
    "    # 방문 여부 확인\n",
    "    visited = [0] * M\n",
    "\n",
    "    # 사람 N명에 대한 탐색\n",
    "    for i in range(N):\n",
    "        # 기타 연주할 수 있는 사람이면 연주시키기\n",
    "        if numbers[i] == 1:\n",
    "            # 사람 i가 연주할수도 아닐수도 있는 곡 M개\n",
    "            for j in range(M):\n",
    "                # print(print(i, j, guitars[i][j]))\n",
    "                # 만약 아직 연주하지 않았고 연주할 수 있는 곡이라면 visited 처리\n",
    "                if visited[j] == 0 and guitars[i][j] == 'Y':\n",
    "                    visited[j] = 1\n",
    "    \n",
    "    # print(numbers, visited)\n",
    "    # print(sum(visited), maximum, sum(numbers), person_count)\n",
    "    # 연주한 곡이 없다면 continue\n",
    "    if sum(visited) == 0:\n",
    "        continue\n",
    "    # 지금 연주한 곡 수가 최고치를 경신했다면\n",
    "    if sum(visited) > maximum:\n",
    "        # 최고치 재기록\n",
    "        maximum = sum(visited)\n",
    "        # 연주한 사람 숫자 갱신\n",
    "        person_count = sum(numbers)\n",
    "    # 지금 연주한 곡 수가 타이 기록이고, 연주한 사람 수가 적다면\n",
    "    elif sum(visited) == maximum and sum(numbers) < person_count:\n",
    "        # 최고치 재기록\n",
    "        maximum = sum(visited)\n",
    "        # 연주한 사람 숫자 갱신\n",
    "        person_count = sum(numbers)\n",
    "\n",
    "\n",
    "# print(maximum)\n",
    "# 사람 숫자 return\n",
    "print(person_count)\n",
    "# print(ans)"
   ]
  },
  {
   "cell_type": "code",
   "execution_count": null,
   "id": "208cdf36",
   "metadata": {},
   "outputs": [],
   "source": []
  },
  {
   "cell_type": "code",
   "execution_count": null,
   "id": "0267bf5a",
   "metadata": {},
   "outputs": [],
   "source": []
  },
  {
   "cell_type": "code",
   "execution_count": null,
   "id": "06570560",
   "metadata": {},
   "outputs": [],
   "source": []
  }
 ],
 "metadata": {
  "kernelspec": {
   "display_name": "Python 3",
   "language": "python",
   "name": "python3"
  },
  "language_info": {
   "codemirror_mode": {
    "name": "ipython",
    "version": 3
   },
   "file_extension": ".py",
   "mimetype": "text/x-python",
   "name": "python",
   "nbconvert_exporter": "python",
   "pygments_lexer": "ipython3",
   "version": "3.13.6"
  }
 },
 "nbformat": 4,
 "nbformat_minor": 5
}
