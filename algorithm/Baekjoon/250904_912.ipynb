{
 "cells": [
  {
   "cell_type": "markdown",
   "id": "142a020b",
   "metadata": {},
   "source": [
    "### 1309번"
   ]
  },
  {
   "cell_type": "code",
   "execution_count": 1,
   "id": "c0549503",
   "metadata": {},
   "outputs": [
    {
     "name": "stdout",
     "output_type": "stream",
     "text": [
      "41\n"
     ]
    }
   ],
   "source": [
    "n = int(input())\n",
    "\n",
    "dp = [[0] * 3 for _ in range(n+1)]\n",
    "dp[1][0] = 1\n",
    "dp[1][1] = 1\n",
    "dp[1][2] = 1\n",
    "\n",
    "for i in range(2, n + 1):\n",
    "    for j in range(3):\n",
    "        if j == 0:\n",
    "            dp[i][j] = (dp[i-1][j] + dp[i-1][j+1] + dp[i-1][j+2]) % 9901\n",
    "        elif j == 1:\n",
    "            dp[i][j] = (dp[i-1][j-1] + dp[i-1][j+1]) % 9901\n",
    "        else:\n",
    "            dp[i][j] = (dp[i-1][j-1] + dp[i-1][j-2]) % 9901\n",
    "\n",
    "print(sum(dp[n]) % 9901)"
   ]
  },
  {
   "cell_type": "code",
   "execution_count": null,
   "id": "c5b1c26f",
   "metadata": {},
   "outputs": [],
   "source": []
  },
  {
   "cell_type": "code",
   "execution_count": null,
   "id": "911c862c",
   "metadata": {},
   "outputs": [],
   "source": []
  },
  {
   "cell_type": "code",
   "execution_count": null,
   "id": "b27b6046",
   "metadata": {},
   "outputs": [],
   "source": []
  }
 ],
 "metadata": {
  "kernelspec": {
   "display_name": "Python 3",
   "language": "python",
   "name": "python3"
  },
  "language_info": {
   "codemirror_mode": {
    "name": "ipython",
    "version": 3
   },
   "file_extension": ".py",
   "mimetype": "text/x-python",
   "name": "python",
   "nbconvert_exporter": "python",
   "pygments_lexer": "ipython3",
   "version": "3.13.6"
  }
 },
 "nbformat": 4,
 "nbformat_minor": 5
}
