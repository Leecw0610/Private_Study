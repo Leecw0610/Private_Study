{
 "cells": [
  {
   "cell_type": "markdown",
   "metadata": {},
   "source": [
    "### 29701번"
   ]
  },
  {
   "cell_type": "code",
   "execution_count": 1,
   "metadata": {},
   "outputs": [
    {
     "name": "stdout",
     "output_type": "stream",
     "text": [
      "HELLO\n"
     ]
    }
   ],
   "source": [
    "morse_code = {\n",
    "    \".-\": \"A\",\n",
    "    \"-...\": \"B\",\n",
    "    \"-.-.\": \"C\",\n",
    "    \"-..\": \"D\",\n",
    "    \".\": \"E\",\n",
    "    \"..-.\": \"F\",\n",
    "    \"--.\": \"G\",\n",
    "    \"....\": \"H\",\n",
    "    \"..\": \"I\",\n",
    "    \".---\": \"J\",\n",
    "    \"-.-\": \"K\",\n",
    "    \".-..\": \"L\",\n",
    "    \"--\": \"M\",\n",
    "    \"-.\": \"N\",\n",
    "    \"---\": \"O\",\n",
    "    \".--.\": \"P\",\n",
    "    \"--.-\": \"Q\",\n",
    "    \".-.\": \"R\",\n",
    "    \"...\": \"S\",\n",
    "    \"-\": \"T\",\n",
    "    \"..-\": \"U\",\n",
    "    \"...-\": \"V\",\n",
    "    \".--\": \"W\",\n",
    "    \"-..-\": \"X\",\n",
    "    \"-.--\": \"Y\",\n",
    "    \"--..\": \"Z\",\n",
    "    \".----\": \"1\",\n",
    "    \"..---\": \"2\",\n",
    "    \"...--\": \"3\",\n",
    "    \"....-\": \"4\",\n",
    "    \".....\": \"5\",\n",
    "    \"-....\": \"6\",\n",
    "    \"--...\": \"7\",\n",
    "    \"---..\": \"8\",\n",
    "    \"----.\": \"9\",\n",
    "    \"-----\": \"0\",\n",
    "    \"--..--\": \",\",\n",
    "    \".-.-.-\": \".\",\n",
    "    \"..--..\": \"?\",\n",
    "    \"---...\": \":\",\n",
    "    \"-....-\": \"-\",\n",
    "    \".--.-.\": \"@\",\n",
    "}\n",
    "\n",
    "N = int(input())\n",
    "morse = input().split()\n",
    "result = \"\"\n",
    "\n",
    "for m in morse:\n",
    "    result += morse_code[m]\n",
    "\n",
    "print(result)"
   ]
  },
  {
   "cell_type": "code",
   "execution_count": null,
   "metadata": {},
   "outputs": [],
   "source": []
  },
  {
   "cell_type": "code",
   "execution_count": null,
   "metadata": {},
   "outputs": [],
   "source": []
  },
  {
   "cell_type": "code",
   "execution_count": null,
   "metadata": {},
   "outputs": [],
   "source": []
  }
 ],
 "metadata": {
  "kernelspec": {
   "display_name": "Python 3",
   "language": "python",
   "name": "python3"
  },
  "language_info": {
   "codemirror_mode": {
    "name": "ipython",
    "version": 3
   },
   "file_extension": ".py",
   "mimetype": "text/x-python",
   "name": "python",
   "nbconvert_exporter": "python",
   "pygments_lexer": "ipython3",
   "version": "3.11.1"
  }
 },
 "nbformat": 4,
 "nbformat_minor": 2
}
