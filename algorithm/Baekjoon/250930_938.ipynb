{
 "cells": [
  {
   "cell_type": "markdown",
   "id": "0892ed16",
   "metadata": {},
   "source": [
    "### 1448번"
   ]
  },
  {
   "cell_type": "code",
   "execution_count": null,
   "id": "666df960",
   "metadata": {},
   "outputs": [],
   "source": [
    "import sys\n",
    "\n",
    "n = int(sys.stdin.readline())\n",
    "m = sorted([int(sys.stdin.readline()) for _ in range(n)], reverse=True)\n",
    "answer = -1\n",
    "\n",
    "for i in range(n - 2):\n",
    "    if m[i] < m[i + 1] + m[i + 2]:\n",
    "        answer = m[i] + m[i + 1] + m[i + 2]\n",
    "        break\n",
    "print(answer)"
   ]
  },
  {
   "cell_type": "code",
   "execution_count": null,
   "id": "b01cd38b",
   "metadata": {},
   "outputs": [],
   "source": []
  },
  {
   "cell_type": "code",
   "execution_count": null,
   "id": "07f584a8",
   "metadata": {},
   "outputs": [],
   "source": []
  },
  {
   "cell_type": "code",
   "execution_count": null,
   "id": "76ab6d3c",
   "metadata": {},
   "outputs": [],
   "source": []
  }
 ],
 "metadata": {
  "kernelspec": {
   "display_name": "Python 3",
   "language": "python",
   "name": "python3"
  },
  "language_info": {
   "name": "python",
   "version": "3.13.6"
  }
 },
 "nbformat": 4,
 "nbformat_minor": 5
}
