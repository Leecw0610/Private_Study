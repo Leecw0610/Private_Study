{
 "cells": [
  {
   "cell_type": "markdown",
   "metadata": {},
   "source": [
    "### 2798번"
   ]
  },
  {
   "cell_type": "code",
   "execution_count": 12,
   "metadata": {},
   "outputs": [
    {
     "name": "stdout",
     "output_type": "stream",
     "text": [
      "21\n"
     ]
    }
   ],
   "source": [
    "from itertools import permutations\n",
    "\n",
    "N, M = map(int, input().split())\n",
    "card = list(map(int, input().split()))\n",
    "blackjack = 0\n",
    "summ = []\n",
    "\n",
    "for cards in permutations(card, 3):\n",
    "    summ.append(sum(cards))\n",
    "max_summ = sorted(summ, reverse=True)\n",
    "for i in max_summ:\n",
    "    if i <= M:\n",
    "        print(i)\n",
    "        break"
   ]
  },
  {
   "cell_type": "code",
   "execution_count": 9,
   "metadata": {},
   "outputs": [
    {
     "name": "stdout",
     "output_type": "stream",
     "text": [
      "(1, 2)\n",
      "3\n",
      "(1, 3)\n",
      "4\n",
      "(2, 1)\n",
      "3\n",
      "(2, 3)\n",
      "5\n",
      "(3, 1)\n",
      "4\n",
      "(3, 2)\n",
      "5\n"
     ]
    }
   ],
   "source": [
    "from itertools import permutations\n",
    "\n",
    "a = [1,2,3]\n",
    "b = 2\n",
    "\n",
    "for cards in permutations(a, b):\n",
    "    print(cards)\n",
    "    print(sum(cards))"
   ]
  },
  {
   "cell_type": "markdown",
   "metadata": {},
   "source": [
    "### 2231번"
   ]
  },
  {
   "cell_type": "code",
   "execution_count": 14,
   "metadata": {},
   "outputs": [
    {
     "name": "stdout",
     "output_type": "stream",
     "text": [
      "198\n"
     ]
    }
   ],
   "source": [
    "N = int(input())\n",
    "result = 0\n",
    "\n",
    "for i in range(1, N+1):\n",
    "    summ = list(map(int, str(i)))\n",
    "    result = i + sum(summ)\n",
    "    if result == N:\n",
    "        print(i)\n",
    "        break\n",
    "    if i == N:\n",
    "        print(0)\n"
   ]
  },
  {
   "cell_type": "markdown",
   "metadata": {},
   "source": [
    "### 7568번"
   ]
  },
  {
   "cell_type": "code",
   "execution_count": 15,
   "metadata": {},
   "outputs": [
    {
     "name": "stdout",
     "output_type": "stream",
     "text": [
      "2 2 1 2 5 "
     ]
    }
   ],
   "source": [
    "num_student = int(input())\n",
    "student_list = []\n",
    "\n",
    "for _ in range(num_student):\n",
    "    weight, height = map(int, input().split())\n",
    "    student_list.append((weight, height))\n",
    "\n",
    "for i in student_list:\n",
    "    rank = 1\n",
    "    for j in student_list:\n",
    "        if i[0] < j[0] and i[1] < j[1]:\n",
    "                rank += 1\n",
    "    print(rank, end = \" \")"
   ]
  },
  {
   "cell_type": "code",
   "execution_count": 17,
   "metadata": {},
   "outputs": [
    {
     "name": "stdout",
     "output_type": "stream",
     "text": [
      "a\n",
      "a\n",
      "b\n",
      "c\n",
      "d\n",
      "e\n",
      "b\n",
      "a\n",
      "b\n",
      "c\n",
      "d\n",
      "e\n",
      "c\n",
      "a\n",
      "b\n",
      "c\n",
      "d\n",
      "e\n",
      "d\n",
      "a\n",
      "b\n",
      "c\n",
      "d\n",
      "e\n",
      "e\n",
      "a\n",
      "b\n",
      "c\n",
      "d\n",
      "e\n"
     ]
    }
   ],
   "source": [
    "stu = ['a','b','c','d','e']\n",
    "\n",
    "for i in stu:\n",
    "    print(i)\n",
    "    for j in stu:\n",
    "        print(j)"
   ]
  },
  {
   "cell_type": "code",
   "execution_count": null,
   "metadata": {},
   "outputs": [],
   "source": []
  },
  {
   "cell_type": "code",
   "execution_count": null,
   "metadata": {},
   "outputs": [],
   "source": []
  }
 ],
 "metadata": {
  "kernelspec": {
   "display_name": "base",
   "language": "python",
   "name": "python3"
  },
  "language_info": {
   "codemirror_mode": {
    "name": "ipython",
    "version": 3
   },
   "file_extension": ".py",
   "mimetype": "text/x-python",
   "name": "python",
   "nbconvert_exporter": "python",
   "pygments_lexer": "ipython3",
   "version": "3.9.15"
  },
  "orig_nbformat": 4
 },
 "nbformat": 4,
 "nbformat_minor": 2
}
