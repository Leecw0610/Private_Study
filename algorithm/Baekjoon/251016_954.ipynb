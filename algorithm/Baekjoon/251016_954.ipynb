{
 "cells": [
  {
   "cell_type": "markdown",
   "id": "0fe8cd7f",
   "metadata": {},
   "source": [
    "### 1522번"
   ]
  },
  {
   "cell_type": "code",
   "execution_count": 1,
   "id": "61269cd9",
   "metadata": {},
   "outputs": [
    {
     "name": "stdout",
     "output_type": "stream",
     "text": [
      "1\n"
     ]
    }
   ],
   "source": [
    "arr=input()\n",
    "result=[]\n",
    "size=arr.count('a')     #윈도우 크기\n",
    "\n",
    "for i in range(len(arr)):\n",
    "    b_count=0\n",
    "    for j in range(size):\n",
    "        index=i+j\n",
    "        if index>len(arr)-1:index-=len(arr)     #index가 리스트를 넘어간다면 -=리스트크기 해주기-> 원형 유지\n",
    "        if arr[index]==\"b\":b_count+=1\n",
    "    result.append(b_count)\n",
    "\n",
    "print(min(result))"
   ]
  },
  {
   "cell_type": "code",
   "execution_count": null,
   "id": "12bb2c0b",
   "metadata": {},
   "outputs": [],
   "source": []
  },
  {
   "cell_type": "code",
   "execution_count": null,
   "id": "61d82e4f",
   "metadata": {},
   "outputs": [],
   "source": []
  },
  {
   "cell_type": "code",
   "execution_count": null,
   "id": "ea7b2ede",
   "metadata": {},
   "outputs": [],
   "source": []
  }
 ],
 "metadata": {
  "kernelspec": {
   "display_name": "Python 3",
   "language": "python",
   "name": "python3"
  },
  "language_info": {
   "codemirror_mode": {
    "name": "ipython",
    "version": 3
   },
   "file_extension": ".py",
   "mimetype": "text/x-python",
   "name": "python",
   "nbconvert_exporter": "python",
   "pygments_lexer": "ipython3",
   "version": "3.13.6"
  }
 },
 "nbformat": 4,
 "nbformat_minor": 5
}
