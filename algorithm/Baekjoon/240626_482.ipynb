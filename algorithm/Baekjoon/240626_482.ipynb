{
 "cells": [
  {
   "cell_type": "markdown",
   "metadata": {},
   "source": [
    "### 12840번"
   ]
  },
  {
   "cell_type": "code",
   "execution_count": 1,
   "metadata": {},
   "outputs": [],
   "source": [
    "import sys\n",
    "\n",
    "h, m, s = map(int, sys.stdin.readline().split())\n",
    "for _ in range(int(sys.stdin.readline())):\n",
    "    li = list(map(int, sys.stdin.readline().split()))\n",
    "    if len(li) == 1 and li[0] == 3:\n",
    "        print(h, m, s)\n",
    "    else:\n",
    "        t = h*3600 + m*60 + s\n",
    "        t += (li[1] if li[0] == 1 else -li[1])\n",
    "        if t < 0:\n",
    "            t += 86400\n",
    "        t = t%86400\n",
    "        h, m, s = t//3600, (t%3600)//60, t%60"
   ]
  },
  {
   "cell_type": "code",
   "execution_count": null,
   "metadata": {},
   "outputs": [],
   "source": []
  },
  {
   "cell_type": "code",
   "execution_count": null,
   "metadata": {},
   "outputs": [],
   "source": []
  }
 ],
 "metadata": {
  "kernelspec": {
   "display_name": "Python 3",
   "language": "python",
   "name": "python3"
  },
  "language_info": {
   "codemirror_mode": {
    "name": "ipython",
    "version": 3
   },
   "file_extension": ".py",
   "mimetype": "text/x-python",
   "name": "python",
   "nbconvert_exporter": "python",
   "pygments_lexer": "ipython3",
   "version": "3.11.1"
  }
 },
 "nbformat": 4,
 "nbformat_minor": 2
}
