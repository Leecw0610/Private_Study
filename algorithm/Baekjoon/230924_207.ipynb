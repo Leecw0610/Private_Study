{
 "cells": [
  {
   "cell_type": "markdown",
   "metadata": {},
   "source": [
    "### 2966번"
   ]
  },
  {
   "cell_type": "code",
   "execution_count": 1,
   "metadata": {},
   "outputs": [
    {
     "name": "stdout",
     "output_type": "stream",
     "text": [
      "4\n",
      "Adrian\n",
      "Bruno\n",
      "Goran\n"
     ]
    }
   ],
   "source": [
    "N = int(input())\n",
    "S = input()\n",
    "Adrian = 'ABC' * (N // 3) + 'ABC'[:N % 3]\n",
    "Bruno = 'BABC' * (N // 4) + 'BABC'[:N % 4]\n",
    "Goran = 'CCAABB' * (N // 6) + 'CCAABB'[:N % 6]\n",
    "\n",
    "A = 0\n",
    "B = 0\n",
    "G = 0\n",
    "for i in range(N):\n",
    "    if S[i] == Adrian[i]:\n",
    "        A += 1\n",
    "    if S[i] == Bruno[i]:\n",
    "        B += 1\n",
    "    if S[i] == Goran[i]:\n",
    "        G += 1\n",
    "\n",
    "print(max(A, B, G))\n",
    "if max(A, B, G) == A:\n",
    "    print('Adrian')\n",
    "if max(A, B, G) == B:\n",
    "    print('Bruno')\n",
    "if max(A, B, G) == G:\n",
    "    print('Goran')"
   ]
  },
  {
   "cell_type": "code",
   "execution_count": null,
   "metadata": {},
   "outputs": [],
   "source": []
  },
  {
   "cell_type": "code",
   "execution_count": null,
   "metadata": {},
   "outputs": [],
   "source": []
  },
  {
   "cell_type": "code",
   "execution_count": null,
   "metadata": {},
   "outputs": [],
   "source": []
  }
 ],
 "metadata": {
  "kernelspec": {
   "display_name": "Python 3",
   "language": "python",
   "name": "python3"
  },
  "language_info": {
   "codemirror_mode": {
    "name": "ipython",
    "version": 3
   },
   "file_extension": ".py",
   "mimetype": "text/x-python",
   "name": "python",
   "nbconvert_exporter": "python",
   "pygments_lexer": "ipython3",
   "version": "3.11.1"
  },
  "orig_nbformat": 4
 },
 "nbformat": 4,
 "nbformat_minor": 2
}
