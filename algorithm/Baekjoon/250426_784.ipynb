{
 "cells": [
  {
   "cell_type": "markdown",
   "id": "da5c3301",
   "metadata": {},
   "source": [
    "### 30794번"
   ]
  },
  {
   "cell_type": "code",
   "execution_count": 2,
   "id": "ad5daa08",
   "metadata": {},
   "outputs": [
    {
     "name": "stdout",
     "output_type": "stream",
     "text": [
      "7000\n"
     ]
    }
   ],
   "source": [
    "keyNote = input().split()\n",
    "\n",
    "if keyNote[1] == \"miss\":\n",
    "    print(0)\n",
    "elif keyNote[1] == \"bad\":\n",
    "    print(200 * int(keyNote[0]))\n",
    "elif keyNote[1] == \"cool\":\n",
    "    print(400 * int(keyNote[0]))\n",
    "elif keyNote[1] == \"great\":\n",
    "    print(600 * int(keyNote[0]))\n",
    "elif keyNote[1] == \"perfect\":\n",
    "    print(1000 * int(keyNote[0]))"
   ]
  },
  {
   "cell_type": "code",
   "execution_count": null,
   "id": "8d39438f",
   "metadata": {},
   "outputs": [],
   "source": []
  },
  {
   "cell_type": "code",
   "execution_count": null,
   "id": "a938d3f1",
   "metadata": {},
   "outputs": [],
   "source": []
  },
  {
   "cell_type": "code",
   "execution_count": null,
   "id": "716cbebd",
   "metadata": {},
   "outputs": [],
   "source": []
  }
 ],
 "metadata": {
  "kernelspec": {
   "display_name": "Python 3",
   "language": "python",
   "name": "python3"
  },
  "language_info": {
   "codemirror_mode": {
    "name": "ipython",
    "version": 3
   },
   "file_extension": ".py",
   "mimetype": "text/x-python",
   "name": "python",
   "nbconvert_exporter": "python",
   "pygments_lexer": "ipython3",
   "version": "3.11.1"
  }
 },
 "nbformat": 4,
 "nbformat_minor": 5
}
