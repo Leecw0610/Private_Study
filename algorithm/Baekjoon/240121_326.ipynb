{
 "cells": [
  {
   "cell_type": "markdown",
   "metadata": {},
   "source": [
    "### 6679번"
   ]
  },
  {
   "cell_type": "code",
   "execution_count": 1,
   "metadata": {},
   "outputs": [
    {
     "name": "stdout",
     "output_type": "stream",
     "text": [
      "2992\n",
      "2993\n",
      "2994\n",
      "2995\n",
      "2996\n",
      "2997\n",
      "2998\n",
      "2999\n",
      "4470\n",
      "4471\n",
      "4472\n",
      "4473\n",
      "4474\n",
      "4475\n",
      "4970\n",
      "4971\n",
      "4972\n",
      "4973\n",
      "4974\n",
      "4975\n",
      "5460\n",
      "5461\n",
      "5462\n",
      "5463\n",
      "5464\n",
      "5465\n",
      "5466\n",
      "5467\n",
      "5468\n",
      "5469\n",
      "5960\n",
      "5961\n",
      "5962\n",
      "5963\n",
      "6456\n",
      "6457\n",
      "6458\n",
      "6459\n",
      "7440\n",
      "7441\n",
      "7442\n",
      "7443\n",
      "7444\n",
      "7445\n",
      "7446\n",
      "7447\n",
      "7448\n",
      "7449\n",
      "7940\n",
      "7941\n",
      "7942\n",
      "7943\n",
      "8436\n",
      "8437\n",
      "8438\n",
      "8439\n",
      "9424\n",
      "9425\n",
      "9426\n",
      "9427\n",
      "9428\n",
      "9429\n",
      "9924\n",
      "9925\n",
      "9926\n",
      "9927\n",
      "9928\n",
      "9929\n"
     ]
    }
   ],
   "source": [
    "for i in range(1000, 10000):\n",
    "\n",
    "\t#16진수\n",
    "    num = i\n",
    "    sixteen = 0 \n",
    "    while num != 0:\n",
    "        sixteen += num % 16\n",
    "        num //= 16\n",
    "    \n",
    "    #12진수\n",
    "    num = i\n",
    "    twelve = 0\n",
    "    while num != 0:\n",
    "        twelve += num % 12\n",
    "        num //= 12\n",
    "    \n",
    "    #10진수\n",
    "    num = i\n",
    "    ten = 0\n",
    "    while num != 0:\n",
    "        ten += num % 10\n",
    "        num //= 10\n",
    "    \n",
    "    if sixteen == twelve == ten:\n",
    "        print(i)"
   ]
  },
  {
   "cell_type": "code",
   "execution_count": null,
   "metadata": {},
   "outputs": [],
   "source": []
  },
  {
   "cell_type": "code",
   "execution_count": null,
   "metadata": {},
   "outputs": [],
   "source": []
  },
  {
   "cell_type": "code",
   "execution_count": null,
   "metadata": {},
   "outputs": [],
   "source": []
  }
 ],
 "metadata": {
  "kernelspec": {
   "display_name": "Python 3",
   "language": "python",
   "name": "python3"
  },
  "language_info": {
   "codemirror_mode": {
    "name": "ipython",
    "version": 3
   },
   "file_extension": ".py",
   "mimetype": "text/x-python",
   "name": "python",
   "nbconvert_exporter": "python",
   "pygments_lexer": "ipython3",
   "version": "3.11.1"
  }
 },
 "nbformat": 4,
 "nbformat_minor": 2
}
