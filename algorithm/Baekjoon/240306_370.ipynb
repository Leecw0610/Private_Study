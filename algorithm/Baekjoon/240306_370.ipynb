{
 "cells": [
  {
   "cell_type": "markdown",
   "metadata": {},
   "source": [
    "### 9226번"
   ]
  },
  {
   "cell_type": "code",
   "execution_count": 3,
   "metadata": {},
   "outputs": [
    {
     "name": "stdout",
     "output_type": "stream",
     "text": [
      "ogfray\n",
      "appleay\n",
      "earpay\n"
     ]
    },
    {
     "ename": "SystemExit",
     "evalue": "",
     "output_type": "error",
     "traceback": [
      "An exception has occurred, use %tb to see the full traceback.\n",
      "\u001b[1;31mSystemExit\u001b[0m\n"
     ]
    }
   ],
   "source": [
    "import sys\n",
    "while True:\n",
    "    x = input()\n",
    "    tex = list(x)\n",
    "    if x == '#':\n",
    "        sys.exit()\n",
    "    fix=['a','e','i','o','u']\n",
    "    s = 0\n",
    "    for i in tex:\n",
    "        if i in fix:\n",
    "            s = 1\n",
    "            break\n",
    "    if s == 0:\n",
    "        tex.extend('ay')\n",
    "        b = ''.join(tex)\n",
    "        print(b)\n",
    "        continue\n",
    "\n",
    "    for i in range(len(tex)):\n",
    "        if tex[0] in fix:\n",
    "            break\n",
    "        else:\n",
    "            y = tex.pop(0)\n",
    "            tex.append(y)\n",
    "\n",
    "    tex.extend('ay')\n",
    "    b = ''.join(tex)\n",
    "    print(b)"
   ]
  },
  {
   "cell_type": "code",
   "execution_count": null,
   "metadata": {},
   "outputs": [],
   "source": []
  },
  {
   "cell_type": "code",
   "execution_count": null,
   "metadata": {},
   "outputs": [],
   "source": []
  }
 ],
 "metadata": {
  "kernelspec": {
   "display_name": "Python 3",
   "language": "python",
   "name": "python3"
  },
  "language_info": {
   "codemirror_mode": {
    "name": "ipython",
    "version": 3
   },
   "file_extension": ".py",
   "mimetype": "text/x-python",
   "name": "python",
   "nbconvert_exporter": "python",
   "pygments_lexer": "ipython3",
   "version": "3.11.1"
  }
 },
 "nbformat": 4,
 "nbformat_minor": 2
}
