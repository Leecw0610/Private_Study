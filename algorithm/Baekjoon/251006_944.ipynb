{
 "cells": [
  {
   "cell_type": "markdown",
   "id": "ff46da8d",
   "metadata": {},
   "source": [
    "### 1475번"
   ]
  },
  {
   "cell_type": "code",
   "execution_count": 1,
   "id": "ec90d4fd",
   "metadata": {},
   "outputs": [
    {
     "name": "stdout",
     "output_type": "stream",
     "text": [
      "6\n"
     ]
    }
   ],
   "source": [
    "n = input()\n",
    "li = [0]*9\n",
    "for i in n:\n",
    "    i = int(i)\n",
    "    if i == 9:\n",
    "        i = 6\n",
    "    li[i] += 1\n",
    "li[6] = (li[6]+1)//2\n",
    "print(max(li))"
   ]
  },
  {
   "cell_type": "code",
   "execution_count": null,
   "id": "f86a23f8",
   "metadata": {},
   "outputs": [],
   "source": []
  },
  {
   "cell_type": "code",
   "execution_count": null,
   "id": "a49fec6d",
   "metadata": {},
   "outputs": [],
   "source": []
  }
 ],
 "metadata": {
  "kernelspec": {
   "display_name": "Python 3",
   "language": "python",
   "name": "python3"
  },
  "language_info": {
   "codemirror_mode": {
    "name": "ipython",
    "version": 3
   },
   "file_extension": ".py",
   "mimetype": "text/x-python",
   "name": "python",
   "nbconvert_exporter": "python",
   "pygments_lexer": "ipython3",
   "version": "3.13.6"
  }
 },
 "nbformat": 4,
 "nbformat_minor": 5
}
