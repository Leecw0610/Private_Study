{
 "cells": [
  {
   "cell_type": "markdown",
   "id": "7139fbfa",
   "metadata": {},
   "source": [
    "### 30676번"
   ]
  },
  {
   "cell_type": "code",
   "execution_count": 1,
   "id": "0db85d55",
   "metadata": {},
   "outputs": [
    {
     "name": "stdout",
     "output_type": "stream",
     "text": [
      "Green\n"
     ]
    }
   ],
   "source": [
    "wavelength = int(input())\n",
    "\n",
    "if 620 <= wavelength <= 780:\n",
    "    print(\"Red\")\n",
    "elif 590 <= wavelength < 620:\n",
    "    print(\"Orange\")\n",
    "elif 570 <= wavelength < 590:\n",
    "    print(\"Yellow\")\n",
    "elif 495 <= wavelength < 570:\n",
    "    print(\"Green\")\n",
    "elif 450 <= wavelength < 495:\n",
    "    print(\"Blue\")\n",
    "elif 425 <= wavelength < 450:\n",
    "    print(\"Indigo\")\n",
    "elif 380 <= wavelength < 425:\n",
    "    print(\"Violet\")"
   ]
  },
  {
   "cell_type": "code",
   "execution_count": null,
   "id": "fef255bf",
   "metadata": {},
   "outputs": [],
   "source": []
  },
  {
   "cell_type": "code",
   "execution_count": null,
   "id": "f2befab5",
   "metadata": {},
   "outputs": [],
   "source": []
  },
  {
   "cell_type": "code",
   "execution_count": null,
   "id": "28637258",
   "metadata": {},
   "outputs": [],
   "source": []
  }
 ],
 "metadata": {
  "kernelspec": {
   "display_name": "Python 3",
   "language": "python",
   "name": "python3"
  },
  "language_info": {
   "codemirror_mode": {
    "name": "ipython",
    "version": 3
   },
   "file_extension": ".py",
   "mimetype": "text/x-python",
   "name": "python",
   "nbconvert_exporter": "python",
   "pygments_lexer": "ipython3",
   "version": "3.11.1"
  }
 },
 "nbformat": 4,
 "nbformat_minor": 5
}
