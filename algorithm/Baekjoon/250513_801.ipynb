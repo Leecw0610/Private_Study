{
 "cells": [
  {
   "cell_type": "markdown",
   "id": "49591eaa",
   "metadata": {},
   "source": [
    "### 31628번"
   ]
  },
  {
   "cell_type": "code",
   "execution_count": 1,
   "id": "bf51ef97",
   "metadata": {},
   "outputs": [
    {
     "name": "stdout",
     "output_type": "stream",
     "text": [
      "1\n"
     ]
    }
   ],
   "source": [
    "def setEggplant(x):\n",
    "    for e in x:\n",
    "        check = set(e)\n",
    "        if len(check) == 1:\n",
    "            return True\n",
    "\n",
    "\n",
    "eggplant1 = [input().split() for _ in range(10)]\n",
    "eggplant2 = list(zip(*eggplant1))\n",
    "\n",
    "result1, result2 = setEggplant(eggplant1), setEggplant(eggplant2)\n",
    "\n",
    "if result1 or result2:\n",
    "    print(1)\n",
    "else:\n",
    "    print(0)"
   ]
  },
  {
   "cell_type": "code",
   "execution_count": null,
   "id": "5173742f",
   "metadata": {},
   "outputs": [],
   "source": []
  },
  {
   "cell_type": "code",
   "execution_count": null,
   "id": "d2a057d6",
   "metadata": {},
   "outputs": [],
   "source": []
  },
  {
   "cell_type": "code",
   "execution_count": null,
   "id": "9d38bb60",
   "metadata": {},
   "outputs": [],
   "source": []
  }
 ],
 "metadata": {
  "kernelspec": {
   "display_name": "Python 3",
   "language": "python",
   "name": "python3"
  },
  "language_info": {
   "codemirror_mode": {
    "name": "ipython",
    "version": 3
   },
   "file_extension": ".py",
   "mimetype": "text/x-python",
   "name": "python",
   "nbconvert_exporter": "python",
   "pygments_lexer": "ipython3",
   "version": "3.11.1"
  }
 },
 "nbformat": 4,
 "nbformat_minor": 5
}
