{
 "cells": [
  {
   "cell_type": "markdown",
   "id": "4648b469",
   "metadata": {},
   "source": [
    "### 30802번"
   ]
  },
  {
   "cell_type": "code",
   "execution_count": null,
   "id": "0e78fa42",
   "metadata": {},
   "outputs": [],
   "source": [
    "import sys\n",
    "import math\n",
    "\n",
    "input = sys.stdin.readline\n",
    "\n",
    "n = int(input())\n",
    "\n",
    "sizes = map(int, input().split())\n",
    "\n",
    "t, p = map(int, input().split())\n",
    "\n",
    "shirts_set_count = 0\n",
    "\n",
    "for size in sizes:\n",
    "    if size > 0:\n",
    "        shirts_set_count += math.ceil(size / t)\n",
    "\n",
    "print(shirts_set_count)\n",
    "print(n // p, n % p)"
   ]
  },
  {
   "cell_type": "code",
   "execution_count": null,
   "id": "8b526a01",
   "metadata": {},
   "outputs": [],
   "source": []
  },
  {
   "cell_type": "code",
   "execution_count": null,
   "id": "3dcb53d0",
   "metadata": {},
   "outputs": [],
   "source": []
  },
  {
   "cell_type": "code",
   "execution_count": null,
   "id": "05aa98c5",
   "metadata": {},
   "outputs": [],
   "source": []
  }
 ],
 "metadata": {
  "kernelspec": {
   "display_name": "Python 3",
   "language": "python",
   "name": "python3"
  },
  "language_info": {
   "codemirror_mode": {
    "name": "ipython",
    "version": 3
   },
   "file_extension": ".py",
   "mimetype": "text/x-python",
   "name": "python",
   "nbconvert_exporter": "python",
   "pygments_lexer": "ipython3",
   "version": "3.11.1"
  }
 },
 "nbformat": 4,
 "nbformat_minor": 5
}
