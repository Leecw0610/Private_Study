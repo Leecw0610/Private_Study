{
 "cells": [
  {
   "cell_type": "markdown",
   "metadata": {
    "vscode": {
     "languageId": "plaintext"
    }
   },
   "source": [
    "### 20001번"
   ]
  },
  {
   "cell_type": "code",
   "execution_count": 1,
   "metadata": {},
   "outputs": [
    {
     "name": "stdout",
     "output_type": "stream",
     "text": [
      "힝구\n"
     ]
    }
   ],
   "source": [
    "from collections import deque\n",
    "\n",
    "_ = input()\n",
    "stack = deque()\n",
    "while 1:\n",
    "    s = input()\n",
    "    if s == \"고무오리 디버깅 끝\":\n",
    "        break\n",
    "    if s == \"문제\":\n",
    "        stack.append(1)\n",
    "    elif stack and s == \"고무오리\":\n",
    "        stack.pop()\n",
    "    else:\n",
    "        stack.append(1); stack.append(1)\n",
    "print(\"고무오리야 사랑해\" if not stack else \"힝구\")"
   ]
  },
  {
   "cell_type": "code",
   "execution_count": null,
   "metadata": {},
   "outputs": [],
   "source": []
  },
  {
   "cell_type": "code",
   "execution_count": null,
   "metadata": {},
   "outputs": [],
   "source": []
  },
  {
   "cell_type": "code",
   "execution_count": null,
   "metadata": {},
   "outputs": [],
   "source": []
  }
 ],
 "metadata": {
  "kernelspec": {
   "display_name": "Python 3",
   "language": "python",
   "name": "python3"
  },
  "language_info": {
   "codemirror_mode": {
    "name": "ipython",
    "version": 3
   },
   "file_extension": ".py",
   "mimetype": "text/x-python",
   "name": "python",
   "nbconvert_exporter": "python",
   "pygments_lexer": "ipython3",
   "version": "3.11.1"
  }
 },
 "nbformat": 4,
 "nbformat_minor": 2
}
