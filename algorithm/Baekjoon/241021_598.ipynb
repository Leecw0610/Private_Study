{
 "cells": [
  {
   "cell_type": "markdown",
   "metadata": {
    "vscode": {
     "languageId": "plaintext"
    }
   },
   "source": [
    "### 17294번"
   ]
  },
  {
   "cell_type": "code",
   "execution_count": 1,
   "metadata": {},
   "outputs": [
    {
     "name": "stdout",
     "output_type": "stream",
     "text": [
      "◝(⑅•ᴗ•⑅)◜..°♡ 뀌요미!!\n"
     ]
    }
   ],
   "source": [
    "s = input()\n",
    "if len(s) <= 2:\n",
    "    print(\"◝(⑅•ᴗ•⑅)◜..°♡ 뀌요미!!\")\n",
    "else:\n",
    "    ok = 1\n",
    "    t = int(s[0])-int(s[1])\n",
    "    for i in range(1, len(s)-1):\n",
    "        if int(s[i])-int(s[i+1]) != t:\n",
    "            ok = 0\n",
    "    print(\"◝(⑅•ᴗ•⑅)◜..°♡ 뀌요미!!\" if ok else \"흥칫뿡!! <(￣ ﹌ ￣)>\")"
   ]
  },
  {
   "cell_type": "code",
   "execution_count": null,
   "metadata": {},
   "outputs": [],
   "source": []
  },
  {
   "cell_type": "code",
   "execution_count": null,
   "metadata": {},
   "outputs": [],
   "source": []
  }
 ],
 "metadata": {
  "kernelspec": {
   "display_name": "Python 3",
   "language": "python",
   "name": "python3"
  },
  "language_info": {
   "codemirror_mode": {
    "name": "ipython",
    "version": 3
   },
   "file_extension": ".py",
   "mimetype": "text/x-python",
   "name": "python",
   "nbconvert_exporter": "python",
   "pygments_lexer": "ipython3",
   "version": "3.11.1"
  }
 },
 "nbformat": 4,
 "nbformat_minor": 2
}
