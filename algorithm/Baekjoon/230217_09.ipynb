{
 "cells": [
  {
   "cell_type": "markdown",
   "metadata": {},
   "source": [
    "### 1316번"
   ]
  },
  {
   "cell_type": "code",
   "execution_count": null,
   "metadata": {},
   "outputs": [],
   "source": [
    "N = int(input())\n"
   ]
  },
  {
   "cell_type": "code",
   "execution_count": null,
   "metadata": {},
   "outputs": [],
   "source": [
    "N = 3\n",
    "\n",
    "for _ in range(N):\n",
    "    a = input()"
   ]
  },
  {
   "cell_type": "code",
   "execution_count": 28,
   "metadata": {},
   "outputs": [
    {
     "name": "stdout",
     "output_type": "stream",
     "text": [
      "a\n",
      "ab\n",
      "aba\n",
      "3\n"
     ]
    }
   ],
   "source": [
    "a = 'abab'\n",
    "test =''\n",
    "cnt = len(a)\n",
    "\n",
    "for i in range(len(a)):\n",
    "    # print(i)\n",
    "    test += a[i]\n",
    "    print(test)\n",
    "    try :\n",
    "        if test[i] in test[:i] and test[i] != test[-2]:\n",
    "            cnt -= 1\n",
    "            break\n",
    "    except :\n",
    "        pass\n",
    "print(cnt)"
   ]
  },
  {
   "cell_type": "code",
   "execution_count": 32,
   "metadata": {},
   "outputs": [
    {
     "name": "stdout",
     "output_type": "stream",
     "text": [
      "1\n"
     ]
    }
   ],
   "source": [
    "N = int(input())\n",
    "cnt = N\n",
    "\n",
    "for _ in range(N):\n",
    "    a = input()\n",
    "    test = ''\n",
    "    for i in range(len(a)):\n",
    "        # print(i)\n",
    "        test += a[i]\n",
    "        # print(test)\n",
    "        try :\n",
    "            if test[i] in test[:i] and test[i] != test[-2]:\n",
    "                cnt -= 1\n",
    "                break\n",
    "        except :\n",
    "            pass\n",
    "print(cnt)\n"
   ]
  },
  {
   "cell_type": "markdown",
   "metadata": {},
   "source": [
    "### 1712번"
   ]
  },
  {
   "cell_type": "code",
   "execution_count": null,
   "metadata": {},
   "outputs": [],
   "source": [
    "A, B, C = map(int, input().split())"
   ]
  },
  {
   "cell_type": "code",
   "execution_count": 35,
   "metadata": {},
   "outputs": [
    {
     "name": "stdout",
     "output_type": "stream",
     "text": [
      "2100000001\n"
     ]
    }
   ],
   "source": [
    "# A + B * x < C * x\n",
    "# A < (C-B) * x\n",
    "A, B, C = map(int, input().split())\n",
    "if B>=C:\n",
    "    print(-1)\n",
    "else:\n",
    "    print(A//(C-B) +1)"
   ]
  },
  {
   "cell_type": "markdown",
   "metadata": {},
   "source": [
    "### 2292번"
   ]
  },
  {
   "cell_type": "markdown",
   "metadata": {},
   "source": [
    "1 -> 1 (1개= 6*0개)\n",
    "2 -> 2 ~ 7 (6개= 6*1개)\n",
    "3 -> 8 ~ 19 (12개= 6*2개)\n",
    "4 -> 20 ~ 37 (18개= 6*3개)\n",
    "5 -> 38 ~ 61 (24개= 6*4개)\n"
   ]
  },
  {
   "cell_type": "code",
   "execution_count": 36,
   "metadata": {},
   "outputs": [
    {
     "name": "stdout",
     "output_type": "stream",
     "text": [
      "3\n"
     ]
    }
   ],
   "source": [
    "N = int(input())\n",
    "cnt = 1\n",
    "honeycomb = 1\n",
    "\n",
    "while N > honeycomb:\n",
    "    honeycomb += 6 * cnt\n",
    "    cnt += 1\n",
    "print(cnt)"
   ]
  },
  {
   "cell_type": "markdown",
   "metadata": {},
   "source": [
    "### 1193번"
   ]
  },
  {
   "cell_type": "markdown",
   "metadata": {},
   "source": [
    "floor = 1\n",
    "\n",
    "i, j = 1, 1\n",
    "\n",
    "floor = 2\n",
    "\n",
    "i, j = 2, 1 /// i, j = 1, 2\n",
    "\n",
    "floor = 3\n",
    "\n",
    "i, j = 3, 1 /// i, j = 2, 2 /// i, j = 1, 3"
   ]
  },
  {
   "cell_type": "code",
   "execution_count": null,
   "metadata": {},
   "outputs": [],
   "source": [
    "X = int(input())"
   ]
  },
  {
   "cell_type": "code",
   "execution_count": null,
   "metadata": {},
   "outputs": [],
   "source": [
    "floor = 1\n",
    "while X > floor:\n",
    "    X -= floor\n",
    "    floor += 1\n",
    "if floor % 2 == 0:\n",
    "    a = X\n",
    "    b = floor - X + 1\n",
    "else:\n",
    "    a = floor - X + 1\n",
    "    b = X\n",
    "\n",
    "print(a, '/', b, sep='')\n"
   ]
  },
  {
   "cell_type": "code",
   "execution_count": null,
   "metadata": {},
   "outputs": [],
   "source": []
  },
  {
   "cell_type": "code",
   "execution_count": null,
   "metadata": {},
   "outputs": [],
   "source": []
  },
  {
   "cell_type": "code",
   "execution_count": null,
   "metadata": {},
   "outputs": [],
   "source": []
  }
 ],
 "metadata": {
  "kernelspec": {
   "display_name": "base",
   "language": "python",
   "name": "python3"
  },
  "language_info": {
   "codemirror_mode": {
    "name": "ipython",
    "version": 3
   },
   "file_extension": ".py",
   "mimetype": "text/x-python",
   "name": "python",
   "nbconvert_exporter": "python",
   "pygments_lexer": "ipython3",
   "version": "3.9.15"
  },
  "orig_nbformat": 4,
  "vscode": {
   "interpreter": {
    "hash": "cef5bb54941aca950c93b0ced18fcc5cb49b2d36f6c89d37f011af61e4a6718a"
   }
  }
 },
 "nbformat": 4,
 "nbformat_minor": 2
}
