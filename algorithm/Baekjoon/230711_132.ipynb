{
 "cells": [
  {
   "cell_type": "markdown",
   "metadata": {},
   "source": [
    "### 2393번"
   ]
  },
  {
   "cell_type": "code",
   "execution_count": null,
   "metadata": {},
   "outputs": [],
   "source": [
    "Console.WriteLine(@\"  ___  ___  ___\");\n",
    "Console.WriteLine(@\"  | |__| |__| |\");\n",
    "Console.WriteLine(@\"  |           |\");\n",
    "Console.WriteLine(@\"   \\_________/\");\n",
    "Console.WriteLine(@\"    \\_______/\");\n",
    "Console.WriteLine(@\"     |     |\");\n",
    "Console.WriteLine(@\"     |     |\");\n",
    "Console.WriteLine(@\"     |     |\");\n",
    "Console.WriteLine(@\"     |     |\");\n",
    "Console.WriteLine(@\"     |_____|\");\n",
    "Console.WriteLine(@\"  __/       \\__\");\n",
    "Console.WriteLine(@\" /             \\\");\n",
    "Console.WriteLine(@\"/_______________\\\");\n"
   ]
  },
  {
   "cell_type": "code",
   "execution_count": null,
   "metadata": {},
   "outputs": [],
   "source": []
  },
  {
   "cell_type": "code",
   "execution_count": null,
   "metadata": {},
   "outputs": [],
   "source": []
  },
  {
   "cell_type": "code",
   "execution_count": null,
   "metadata": {},
   "outputs": [],
   "source": []
  }
 ],
 "metadata": {
  "kernelspec": {
   "display_name": "Python 3",
   "language": "python",
   "name": "python3"
  },
  "language_info": {
   "name": "python",
   "version": "3.11.1"
  },
  "orig_nbformat": 4
 },
 "nbformat": 4,
 "nbformat_minor": 2
}
