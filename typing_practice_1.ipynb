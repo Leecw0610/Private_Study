{
 "cells": [
  {
   "cell_type": "code",
   "execution_count": 1,
   "id": "cae1d405-5c61-4955-aad9-7447cadfda3a",
   "metadata": {},
   "outputs": [],
   "source": [
    "a = 1"
   ]
  },
  {
   "cell_type": "code",
   "execution_count": 2,
   "id": "14099221-e5bf-40ef-b97f-b87f2b327fd4",
   "metadata": {},
   "outputs": [],
   "source": [
    "a = 'a'"
   ]
  },
  {
   "cell_type": "code",
   "execution_count": 3,
   "id": "ea38303a-c115-48a2-9843-6c0f3ddcb4aa",
   "metadata": {},
   "outputs": [],
   "source": [
    "name = 'chanwoong'"
   ]
  },
  {
   "cell_type": "code",
   "execution_count": 4,
   "id": "0b695bc9-9512-445a-8890-94ea8eee7482",
   "metadata": {},
   "outputs": [
    {
     "data": {
      "text/plain": [
       "'chanwoong'"
      ]
     },
     "execution_count": 4,
     "metadata": {},
     "output_type": "execute_result"
    }
   ],
   "source": [
    "name"
   ]
  },
  {
   "cell_type": "code",
   "execution_count": 5,
   "id": "7b5923ee-335c-4bfd-9b05-84b80e4cb474",
   "metadata": {},
   "outputs": [],
   "source": [
    "이름 = '찬웅'"
   ]
  },
  {
   "cell_type": "code",
   "execution_count": 6,
   "id": "c1d920d1-4ce5-4ff2-a442-3e7983781897",
   "metadata": {},
   "outputs": [
    {
     "data": {
      "text/plain": [
       "'찬웅'"
      ]
     },
     "execution_count": 6,
     "metadata": {},
     "output_type": "execute_result"
    }
   ],
   "source": [
    "이름"
   ]
  },
  {
   "cell_type": "code",
   "execution_count": 7,
   "id": "7335f0ae-1094-4848-b323-6fb451db77ff",
   "metadata": {},
   "outputs": [
    {
     "ename": "NameError",
     "evalue": "name 'nAme' is not defined",
     "output_type": "error",
     "traceback": [
      "\u001b[1;31m---------------------------------------------------------------------------\u001b[0m",
      "\u001b[1;31mNameError\u001b[0m                                 Traceback (most recent call last)",
      "Input \u001b[1;32mIn [7]\u001b[0m, in \u001b[0;36m<cell line: 1>\u001b[1;34m()\u001b[0m\n\u001b[1;32m----> 1\u001b[0m \u001b[43mnAme\u001b[49m\n",
      "\u001b[1;31mNameError\u001b[0m: name 'nAme' is not defined"
     ]
    }
   ],
   "source": [
    "nAme"
   ]
  },
  {
   "cell_type": "code",
   "execution_count": 8,
   "id": "0bc0117f-bdc2-416a-a42c-a7427f66f86d",
   "metadata": {},
   "outputs": [],
   "source": [
    "name1 = 'test'"
   ]
  },
  {
   "cell_type": "code",
   "execution_count": 9,
   "id": "486bc287-4809-4057-bf31-09c51d823514",
   "metadata": {},
   "outputs": [
    {
     "data": {
      "text/plain": [
       "'test'"
      ]
     },
     "execution_count": 9,
     "metadata": {},
     "output_type": "execute_result"
    }
   ],
   "source": [
    "name1"
   ]
  },
  {
   "cell_type": "code",
   "execution_count": 10,
   "id": "3824dbdb-41d6-4c1a-9ca0-3ca30ac84d25",
   "metadata": {},
   "outputs": [
    {
     "ename": "SyntaxError",
     "evalue": "invalid syntax (1251804328.py, line 1)",
     "output_type": "error",
     "traceback": [
      "\u001b[1;36m  Input \u001b[1;32mIn [10]\u001b[1;36m\u001b[0m\n\u001b[1;33m    1name\u001b[0m\n\u001b[1;37m     ^\u001b[0m\n\u001b[1;31mSyntaxError\u001b[0m\u001b[1;31m:\u001b[0m invalid syntax\n"
     ]
    }
   ],
   "source": [
    "1name"
   ]
  },
  {
   "cell_type": "markdown",
   "id": "6ba3784f-165c-4660-92db-73f0269e5dda",
   "metadata": {},
   "source": [
    "- 숫자형\n",
    "- 문자형\n",
    "- bool(true/false) 0 or 1"
   ]
  },
  {
   "cell_type": "markdown",
   "id": "a4b53af0-d9e5-4ee8-a8c6-a89d5adf6b8b",
   "metadata": {
    "tags": []
   },
   "source": [
    "## 숫자형"
   ]
  },
  {
   "cell_type": "code",
   "execution_count": 11,
   "id": "be290993-02ee-4e98-a4a6-503aba2bb7c6",
   "metadata": {},
   "outputs": [
    {
     "data": {
      "text/plain": [
       "123"
      ]
     },
     "execution_count": 11,
     "metadata": {},
     "output_type": "execute_result"
    }
   ],
   "source": [
    "123 #int"
   ]
  },
  {
   "cell_type": "code",
   "execution_count": 12,
   "id": "d4dbcaf5-ab44-4398-8351-79b9f391499b",
   "metadata": {},
   "outputs": [],
   "source": [
    "num1 = 123 #int"
   ]
  },
  {
   "cell_type": "code",
   "execution_count": 13,
   "id": "584045e5-2620-4d23-94a7-c0d28acf1a09",
   "metadata": {},
   "outputs": [
    {
     "data": {
      "text/plain": [
       "123"
      ]
     },
     "execution_count": 13,
     "metadata": {},
     "output_type": "execute_result"
    }
   ],
   "source": [
    "num1"
   ]
  },
  {
   "cell_type": "code",
   "execution_count": 14,
   "id": "bcfc3feb-283a-483f-9912-7642911ffec2",
   "metadata": {},
   "outputs": [],
   "source": [
    "num2 = 1.1 #float"
   ]
  },
  {
   "cell_type": "code",
   "execution_count": 15,
   "id": "4cc7568e-ed05-4e35-80a1-29075d865dfc",
   "metadata": {},
   "outputs": [
    {
     "data": {
      "text/plain": [
       "1.1"
      ]
     },
     "execution_count": 15,
     "metadata": {},
     "output_type": "execute_result"
    }
   ],
   "source": [
    "num2"
   ]
  },
  {
   "cell_type": "code",
   "execution_count": 16,
   "id": "7a2042dc-fd42-4f98-9c77-5956209749d2",
   "metadata": {},
   "outputs": [
    {
     "data": {
      "text/plain": [
       "int"
      ]
     },
     "execution_count": 16,
     "metadata": {},
     "output_type": "execute_result"
    }
   ],
   "source": [
    "type(num1)"
   ]
  },
  {
   "cell_type": "code",
   "execution_count": 17,
   "id": "fe051368-c096-49c3-ae86-a2319f2f2646",
   "metadata": {},
   "outputs": [
    {
     "name": "stdout",
     "output_type": "stream",
     "text": [
      "1.1\n"
     ]
    }
   ],
   "source": [
    "print(num2)"
   ]
  },
  {
   "cell_type": "code",
   "execution_count": 18,
   "id": "8b9c9952-a954-40a8-8d16-7f6710f3bb96",
   "metadata": {},
   "outputs": [
    {
     "data": {
      "text/plain": [
       "float"
      ]
     },
     "execution_count": 18,
     "metadata": {},
     "output_type": "execute_result"
    }
   ],
   "source": [
    "type(num2)"
   ]
  },
  {
   "cell_type": "code",
   "execution_count": 19,
   "id": "15cd6f6f-bb5b-4d44-8b75-b743dad79b0e",
   "metadata": {},
   "outputs": [
    {
     "data": {
      "text/plain": [
       "124.1"
      ]
     },
     "execution_count": 19,
     "metadata": {},
     "output_type": "execute_result"
    }
   ],
   "source": [
    "num1 + num2"
   ]
  },
  {
   "cell_type": "code",
   "execution_count": 20,
   "id": "a52068d7-605f-4009-90ba-2ef71e836ba2",
   "metadata": {},
   "outputs": [
    {
     "data": {
      "text/plain": [
       "1"
      ]
     },
     "execution_count": 20,
     "metadata": {},
     "output_type": "execute_result"
    }
   ],
   "source": [
    "int(num2)"
   ]
  },
  {
   "cell_type": "code",
   "execution_count": 21,
   "id": "437ccf4f-d184-4f1e-a7e7-99faa84ff9c1",
   "metadata": {},
   "outputs": [
    {
     "data": {
      "text/plain": [
       "123.0"
      ]
     },
     "execution_count": 21,
     "metadata": {},
     "output_type": "execute_result"
    }
   ],
   "source": [
    "float(num1)"
   ]
  },
  {
   "cell_type": "code",
   "execution_count": 22,
   "id": "1473a150-5b82-47a5-bb17-3c1ca7ab0fb1",
   "metadata": {},
   "outputs": [
    {
     "data": {
      "text/plain": [
       "int"
      ]
     },
     "execution_count": 22,
     "metadata": {},
     "output_type": "execute_result"
    }
   ],
   "source": [
    "type(num1)"
   ]
  },
  {
   "cell_type": "code",
   "execution_count": 23,
   "id": "cf03e829-c3df-4fcb-af6d-269ec277dd45",
   "metadata": {},
   "outputs": [
    {
     "data": {
      "text/plain": [
       "float"
      ]
     },
     "execution_count": 23,
     "metadata": {},
     "output_type": "execute_result"
    }
   ],
   "source": [
    "type(num2)"
   ]
  },
  {
   "cell_type": "markdown",
   "id": "c892f79e-d213-42ea-95e1-56a9c01a5853",
   "metadata": {
    "tags": []
   },
   "source": [
    "### 사칙연산 + - * / % ** //"
   ]
  },
  {
   "cell_type": "code",
   "execution_count": 24,
   "id": "a11d9dde-c933-439d-9196-4eb752db28ad",
   "metadata": {},
   "outputs": [
    {
     "data": {
      "text/plain": [
       "300"
      ]
     },
     "execution_count": 24,
     "metadata": {},
     "output_type": "execute_result"
    }
   ],
   "source": [
    "100 + 200"
   ]
  },
  {
   "cell_type": "code",
   "execution_count": 25,
   "id": "616272f4-f629-44ca-89f2-2c48523a37f5",
   "metadata": {},
   "outputs": [
    {
     "data": {
      "text/plain": [
       "100"
      ]
     },
     "execution_count": 25,
     "metadata": {},
     "output_type": "execute_result"
    }
   ],
   "source": [
    "200 - 100"
   ]
  },
  {
   "cell_type": "code",
   "execution_count": 26,
   "id": "59e95eba-6f26-4a42-926e-2a0dd1f65c70",
   "metadata": {},
   "outputs": [
    {
     "data": {
      "text/plain": [
       "20000"
      ]
     },
     "execution_count": 26,
     "metadata": {},
     "output_type": "execute_result"
    }
   ],
   "source": [
    "200 * 100"
   ]
  },
  {
   "cell_type": "code",
   "execution_count": 27,
   "id": "fa446f44-1112-4f9b-a746-08053f360174",
   "metadata": {},
   "outputs": [
    {
     "data": {
      "text/plain": [
       "2.5"
      ]
     },
     "execution_count": 27,
     "metadata": {},
     "output_type": "execute_result"
    }
   ],
   "source": [
    "5 / 2"
   ]
  },
  {
   "cell_type": "code",
   "execution_count": 28,
   "id": "e5b4c815-5e0a-425e-944a-94f43f08ebb2",
   "metadata": {},
   "outputs": [
    {
     "data": {
      "text/plain": [
       "1"
      ]
     },
     "execution_count": 28,
     "metadata": {},
     "output_type": "execute_result"
    }
   ],
   "source": [
    "5 % 2"
   ]
  },
  {
   "cell_type": "code",
   "execution_count": 29,
   "id": "1b2ca2a4-2061-4565-b635-9e140a4db4f8",
   "metadata": {},
   "outputs": [
    {
     "data": {
      "text/plain": [
       "25"
      ]
     },
     "execution_count": 29,
     "metadata": {},
     "output_type": "execute_result"
    }
   ],
   "source": [
    "5 ** 2"
   ]
  },
  {
   "cell_type": "markdown",
   "id": "bd83c6f2-d020-443c-a9c4-2192e5d02f0c",
   "metadata": {},
   "source": [
    "#### quiz"
   ]
  },
  {
   "cell_type": "code",
   "execution_count": 30,
   "id": "2cf941fa-ecc2-425d-b2ba-10ac8c65aa04",
   "metadata": {},
   "outputs": [
    {
     "data": {
      "text/plain": [
       "359"
      ]
     },
     "execution_count": 30,
     "metadata": {},
     "output_type": "execute_result"
    }
   ],
   "source": [
    "57 + 84 + 93 +58 + 67"
   ]
  },
  {
   "cell_type": "code",
   "execution_count": 31,
   "id": "ceac8807-73a4-4764-8ad0-2bdcf97755d0",
   "metadata": {},
   "outputs": [
    {
     "data": {
      "text/plain": [
       "71.8"
      ]
     },
     "execution_count": 31,
     "metadata": {},
     "output_type": "execute_result"
    }
   ],
   "source": [
    "359 / 5"
   ]
  },
  {
   "cell_type": "code",
   "execution_count": 32,
   "id": "04639eed-efd6-4353-824d-be5bbdbc2a15",
   "metadata": {},
   "outputs": [
    {
     "data": {
      "text/plain": [
       "1441.2586111111111"
      ]
     },
     "execution_count": 32,
     "metadata": {},
     "output_type": "execute_result"
    }
   ],
   "source": [
    "5188531 / 3600"
   ]
  },
  {
   "cell_type": "code",
   "execution_count": 33,
   "id": "2a628626-5d39-4072-a26c-752a1cffc201",
   "metadata": {},
   "outputs": [
    {
     "data": {
      "text/plain": [
       "5187600"
      ]
     },
     "execution_count": 33,
     "metadata": {},
     "output_type": "execute_result"
    }
   ],
   "source": [
    "3600 *1441"
   ]
  },
  {
   "cell_type": "code",
   "execution_count": 34,
   "id": "b6b99a50-78dc-4d7d-a1c3-99a58bd1c1df",
   "metadata": {},
   "outputs": [
    {
     "data": {
      "text/plain": [
       "931"
      ]
     },
     "execution_count": 34,
     "metadata": {},
     "output_type": "execute_result"
    }
   ],
   "source": [
    "5188531 - 5187600"
   ]
  },
  {
   "cell_type": "code",
   "execution_count": 35,
   "id": "ca88bda6-3091-4942-8c87-d53cf76e9d00",
   "metadata": {},
   "outputs": [
    {
     "data": {
      "text/plain": [
       "15.516666666666667"
      ]
     },
     "execution_count": 35,
     "metadata": {},
     "output_type": "execute_result"
    }
   ],
   "source": [
    "931 / 60"
   ]
  },
  {
   "cell_type": "code",
   "execution_count": 36,
   "id": "797404f3-faad-40b7-8475-7cc6a8d92d33",
   "metadata": {},
   "outputs": [
    {
     "data": {
      "text/plain": [
       "1.8109294288974705e+29"
      ]
     },
     "execution_count": 36,
     "metadata": {},
     "output_type": "execute_result"
    }
   ],
   "source": [
    "2 ** 100 / 7"
   ]
  },
  {
   "cell_type": "code",
   "execution_count": 37,
   "id": "4cb7f5e1-7aa6-4591-b05b-18bfaa921ef3",
   "metadata": {},
   "outputs": [],
   "source": [
    "a = 2 ** 100"
   ]
  },
  {
   "cell_type": "code",
   "execution_count": 38,
   "id": "488c60e1-6574-401f-8b6e-61808ec3d6aa",
   "metadata": {},
   "outputs": [
    {
     "data": {
      "text/plain": [
       "1267650600228229401496703205376"
      ]
     },
     "execution_count": 38,
     "metadata": {},
     "output_type": "execute_result"
    }
   ],
   "source": [
    "a"
   ]
  },
  {
   "cell_type": "code",
   "execution_count": 39,
   "id": "33dc96ca-2bbd-4885-bfbd-9fb0a560c453",
   "metadata": {},
   "outputs": [
    {
     "data": {
      "text/plain": [
       "1.8109294288974705e+29"
      ]
     },
     "execution_count": 39,
     "metadata": {},
     "output_type": "execute_result"
    }
   ],
   "source": [
    "a / 7"
   ]
  },
  {
   "cell_type": "code",
   "execution_count": 40,
   "id": "13511243-6b96-4bed-b2a7-cf2b794949dc",
   "metadata": {},
   "outputs": [
    {
     "data": {
      "text/plain": [
       "2"
      ]
     },
     "execution_count": 40,
     "metadata": {},
     "output_type": "execute_result"
    }
   ],
   "source": [
    "a % 7"
   ]
  },
  {
   "cell_type": "code",
   "execution_count": 41,
   "id": "2c863bf3-c1df-4ba4-90a9-b41ac63b4b64",
   "metadata": {},
   "outputs": [
    {
     "data": {
      "text/plain": [
       "181092942889747057356671886482"
      ]
     },
     "execution_count": 41,
     "metadata": {},
     "output_type": "execute_result"
    }
   ],
   "source": [
    "a // 7"
   ]
  },
  {
   "cell_type": "code",
   "execution_count": 42,
   "id": "c288ac79-8481-49b5-84cc-c46ed54009af",
   "metadata": {},
   "outputs": [
    {
     "name": "stdout",
     "output_type": "stream",
     "text": [
      "71.8\n"
     ]
    }
   ],
   "source": [
    "print((57+84+93+58+67) /5)"
   ]
  },
  {
   "cell_type": "code",
   "execution_count": 43,
   "id": "d8e6feb9-6419-4632-bd97-653fc522dceb",
   "metadata": {},
   "outputs": [
    {
     "name": "stdout",
     "output_type": "stream",
     "text": [
      "1441\n",
      "15\n",
      "31\n"
     ]
    }
   ],
   "source": [
    "print(5188531//3600)\n",
    "print((5188531%3600)//60)\n",
    "print(((5188531%3600)%60))"
   ]
  },
  {
   "cell_type": "code",
   "execution_count": 44,
   "id": "1327dda4-954e-4493-b50e-ee01b31bc2d2",
   "metadata": {},
   "outputs": [
    {
     "name": "stdout",
     "output_type": "stream",
     "text": [
      "181092942889747057356671886482\n",
      "2\n"
     ]
    }
   ],
   "source": [
    "print((2**100)//7)\n",
    "print((2**100)%7)"
   ]
  },
  {
   "cell_type": "markdown",
   "id": "671fe827-1898-435f-b1c4-8bfba8dbdfb6",
   "metadata": {},
   "source": [
    "## 문자열"
   ]
  },
  {
   "cell_type": "code",
   "execution_count": 45,
   "id": "109e9566-40b6-4ea7-830b-db1256e2fda7",
   "metadata": {},
   "outputs": [
    {
     "data": {
      "text/plain": [
       "'hello'"
      ]
     },
     "execution_count": 45,
     "metadata": {},
     "output_type": "execute_result"
    }
   ],
   "source": [
    "'hello'"
   ]
  },
  {
   "cell_type": "code",
   "execution_count": 46,
   "id": "23e4f4f8-b85e-4ae5-a177-19546a31a3de",
   "metadata": {},
   "outputs": [
    {
     "ename": "SyntaxError",
     "evalue": "invalid syntax (4173396712.py, line 1)",
     "output_type": "error",
     "traceback": [
      "\u001b[1;36m  Input \u001b[1;32mIn [46]\u001b[1;36m\u001b[0m\n\u001b[1;33m    ''hello''\u001b[0m\n\u001b[1;37m      ^\u001b[0m\n\u001b[1;31mSyntaxError\u001b[0m\u001b[1;31m:\u001b[0m invalid syntax\n"
     ]
    }
   ],
   "source": [
    "''hello''"
   ]
  },
  {
   "cell_type": "code",
   "execution_count": 47,
   "id": "19f7d835-0052-4bff-89d3-01168f50c5ea",
   "metadata": {},
   "outputs": [
    {
     "data": {
      "text/plain": [
       "'hello'"
      ]
     },
     "execution_count": 47,
     "metadata": {},
     "output_type": "execute_result"
    }
   ],
   "source": [
    "\"hello\""
   ]
  },
  {
   "cell_type": "code",
   "execution_count": 48,
   "id": "f98e4308-9031-4252-9fb0-4a0ddfa60cec",
   "metadata": {},
   "outputs": [
    {
     "data": {
      "text/plain": [
       "False"
      ]
     },
     "execution_count": 48,
     "metadata": {},
     "output_type": "execute_result"
    }
   ],
   "source": [
    "1=='1'"
   ]
  },
  {
   "cell_type": "code",
   "execution_count": 49,
   "id": "3aeb6999-6531-40b6-a266-67b9ba36bc34",
   "metadata": {},
   "outputs": [
    {
     "ename": "SyntaxError",
     "evalue": "invalid syntax (3706990057.py, line 1)",
     "output_type": "error",
     "traceback": [
      "\u001b[1;36m  Input \u001b[1;32mIn [49]\u001b[1;36m\u001b[0m\n\u001b[1;33m    ''I'm chanwoong''\u001b[0m\n\u001b[1;37m      ^\u001b[0m\n\u001b[1;31mSyntaxError\u001b[0m\u001b[1;31m:\u001b[0m invalid syntax\n"
     ]
    }
   ],
   "source": [
    "''I'm chanwoong''"
   ]
  },
  {
   "cell_type": "code",
   "execution_count": 50,
   "id": "5589db21-4540-4656-9326-923790338db5",
   "metadata": {},
   "outputs": [
    {
     "data": {
      "text/plain": [
       "\"I'm chanwoong\""
      ]
     },
     "execution_count": 50,
     "metadata": {},
     "output_type": "execute_result"
    }
   ],
   "source": [
    "\"I'm chanwoong\""
   ]
  },
  {
   "cell_type": "code",
   "execution_count": 51,
   "id": "4bb3a17c-6177-4cbb-bdfe-b7d89d2f7458",
   "metadata": {},
   "outputs": [
    {
     "data": {
      "text/plain": [
       "\"I'm chanwoong\""
      ]
     },
     "execution_count": 51,
     "metadata": {},
     "output_type": "execute_result"
    }
   ],
   "source": [
    "'I\\'m chanwoong'"
   ]
  },
  {
   "cell_type": "code",
   "execution_count": 52,
   "id": "e45d29ec-dfd2-44e9-a63d-f0e219c989ea",
   "metadata": {},
   "outputs": [
    {
     "name": "stdout",
     "output_type": "stream",
     "text": [
      "Hello world! \n",
      "Hello world!\n"
     ]
    }
   ],
   "source": [
    "print('Hello world! \\nHello world!')"
   ]
  },
  {
   "cell_type": "code",
   "execution_count": 53,
   "id": "51f2204e-72f7-4370-9ef0-5ebb57d562be",
   "metadata": {},
   "outputs": [
    {
     "name": "stdout",
     "output_type": "stream",
     "text": [
      "hello world!\n",
      "\n",
      "hello world!\n"
     ]
    }
   ],
   "source": [
    "print('''hello world!\n",
    "\n",
    "hello world!''')"
   ]
  },
  {
   "cell_type": "markdown",
   "id": "33c89bb6-b2a9-4316-893c-a45cc001f028",
   "metadata": {},
   "source": [
    "### 문자열 연산 (+) (*)"
   ]
  },
  {
   "cell_type": "code",
   "execution_count": 56,
   "id": "6f707dac-82a2-4ce9-9f8b-57c319c214ea",
   "metadata": {},
   "outputs": [],
   "source": [
    "a = 'Hello'\n",
    "b = ' Python!'"
   ]
  },
  {
   "cell_type": "code",
   "execution_count": 57,
   "id": "e4ca7cf7-1119-4f8e-8b10-7f3e303d2bcc",
   "metadata": {},
   "outputs": [
    {
     "data": {
      "text/plain": [
       "'Hello Python!'"
      ]
     },
     "execution_count": 57,
     "metadata": {},
     "output_type": "execute_result"
    }
   ],
   "source": [
    "a+b"
   ]
  },
  {
   "cell_type": "code",
   "execution_count": 59,
   "id": "8d5d068d-f5ac-4ca7-bf72-b58cc110ad99",
   "metadata": {},
   "outputs": [
    {
     "name": "stdout",
     "output_type": "stream",
     "text": [
      "Hello, Python!Hello, Python!Hello, Python!Hello, Python!Hello, Python!\n"
     ]
    }
   ],
   "source": [
    "print (  'Hello, Python!'   * 5 )"
   ]
  },
  {
   "cell_type": "code",
   "execution_count": 60,
   "id": "db5cb694-2c9c-4e5a-8ca9-bd698f2011e0",
   "metadata": {},
   "outputs": [],
   "source": [
    "c = 1"
   ]
  },
  {
   "cell_type": "code",
   "execution_count": 61,
   "id": "38c539a6-9879-4360-8d41-1fb49c5bdc70",
   "metadata": {},
   "outputs": [
    {
     "ename": "TypeError",
     "evalue": "can only concatenate str (not \"int\") to str",
     "output_type": "error",
     "traceback": [
      "\u001b[1;31m---------------------------------------------------------------------------\u001b[0m",
      "\u001b[1;31mTypeError\u001b[0m                                 Traceback (most recent call last)",
      "Input \u001b[1;32mIn [61]\u001b[0m, in \u001b[0;36m<cell line: 1>\u001b[1;34m()\u001b[0m\n\u001b[1;32m----> 1\u001b[0m \u001b[43ma\u001b[49m\u001b[43m \u001b[49m\u001b[38;5;241;43m+\u001b[39;49m\u001b[43m \u001b[49m\u001b[43mb\u001b[49m\u001b[43m \u001b[49m\u001b[38;5;241;43m+\u001b[39;49m\u001b[43mc\u001b[49m\n",
      "\u001b[1;31mTypeError\u001b[0m: can only concatenate str (not \"int\") to str"
     ]
    }
   ],
   "source": [
    "a + b +c"
   ]
  },
  {
   "cell_type": "code",
   "execution_count": 62,
   "id": "8d5453f7-47af-451b-89ba-52ecd21c171b",
   "metadata": {},
   "outputs": [
    {
     "name": "stdout",
     "output_type": "stream",
     "text": [
      "Hello Python! 1\n"
     ]
    }
   ],
   "source": [
    "print (a+b, c)"
   ]
  },
  {
   "cell_type": "code",
   "execution_count": 63,
   "id": "9b7cd268-343f-4e58-9354-ee298b65ac1d",
   "metadata": {},
   "outputs": [
    {
     "data": {
      "text/plain": [
       "'Hello Python!1'"
      ]
     },
     "execution_count": 63,
     "metadata": {},
     "output_type": "execute_result"
    }
   ],
   "source": [
    "a+b+str(c)"
   ]
  },
  {
   "cell_type": "markdown",
   "id": "a45f2545-c6ac-47fd-b9ed-9cb0b31dfd80",
   "metadata": {},
   "source": [
    "### 인덱싱과 슬라이싱"
   ]
  },
  {
   "cell_type": "code",
   "execution_count": 64,
   "id": "acfbb9f9-a7ec-467c-b47e-1075ceccbb7c",
   "metadata": {},
   "outputs": [],
   "source": [
    "t = 'Hello Sesac!'"
   ]
  },
  {
   "cell_type": "code",
   "execution_count": 65,
   "id": "8aabec57-4de7-4642-a9c9-d22922c57179",
   "metadata": {},
   "outputs": [
    {
     "ename": "NameError",
     "evalue": "name 'index' is not defined",
     "output_type": "error",
     "traceback": [
      "\u001b[1;31m---------------------------------------------------------------------------\u001b[0m",
      "\u001b[1;31mNameError\u001b[0m                                 Traceback (most recent call last)",
      "Input \u001b[1;32mIn [65]\u001b[0m, in \u001b[0;36m<cell line: 1>\u001b[1;34m()\u001b[0m\n\u001b[1;32m----> 1\u001b[0m \u001b[43mindex\u001b[49m(\u001b[38;5;241m0\u001b[39m)\n",
      "\u001b[1;31mNameError\u001b[0m: name 'index' is not defined"
     ]
    }
   ],
   "source": [
    "index(0)"
   ]
  },
  {
   "cell_type": "code",
   "execution_count": 66,
   "id": "3a61630d-f7b5-4878-8c14-682d1cd2f606",
   "metadata": {},
   "outputs": [
    {
     "ename": "TypeError",
     "evalue": "'str' object is not callable",
     "output_type": "error",
     "traceback": [
      "\u001b[1;31m---------------------------------------------------------------------------\u001b[0m",
      "\u001b[1;31mTypeError\u001b[0m                                 Traceback (most recent call last)",
      "Input \u001b[1;32mIn [66]\u001b[0m, in \u001b[0;36m<cell line: 1>\u001b[1;34m()\u001b[0m\n\u001b[1;32m----> 1\u001b[0m \u001b[43mt\u001b[49m\u001b[43m(\u001b[49m\u001b[38;5;241;43m0\u001b[39;49m\u001b[43m)\u001b[49m\n",
      "\u001b[1;31mTypeError\u001b[0m: 'str' object is not callable"
     ]
    }
   ],
   "source": [
    "t(0)"
   ]
  },
  {
   "cell_type": "code",
   "execution_count": 67,
   "id": "025c642c-ce8d-4f39-aeda-9ae0bc054fb9",
   "metadata": {},
   "outputs": [
    {
     "data": {
      "text/plain": [
       "'H'"
      ]
     },
     "execution_count": 67,
     "metadata": {},
     "output_type": "execute_result"
    }
   ],
   "source": [
    "t[0]"
   ]
  },
  {
   "cell_type": "code",
   "execution_count": 68,
   "id": "b720634c-6106-49d7-8046-9f35b0bdd767",
   "metadata": {},
   "outputs": [
    {
     "data": {
      "text/plain": [
       "12"
      ]
     },
     "execution_count": 68,
     "metadata": {},
     "output_type": "execute_result"
    }
   ],
   "source": [
    "len(t)"
   ]
  },
  {
   "cell_type": "code",
   "execution_count": 69,
   "id": "60195f5d-4e14-4ff1-b362-ddf1ac88c094",
   "metadata": {},
   "outputs": [
    {
     "data": {
      "text/plain": [
       "'!'"
      ]
     },
     "execution_count": 69,
     "metadata": {},
     "output_type": "execute_result"
    }
   ],
   "source": [
    "t[11]"
   ]
  },
  {
   "cell_type": "code",
   "execution_count": 70,
   "id": "d8d99395-25bd-431c-bc8b-66430ea75683",
   "metadata": {},
   "outputs": [
    {
     "data": {
      "text/plain": [
       "'!'"
      ]
     },
     "execution_count": 70,
     "metadata": {},
     "output_type": "execute_result"
    }
   ],
   "source": [
    "t[-1]"
   ]
  },
  {
   "cell_type": "code",
   "execution_count": 71,
   "id": "98d6e6f3-c6fe-4c1f-881b-7e3af52f0340",
   "metadata": {},
   "outputs": [
    {
     "data": {
      "text/plain": [
       "'H'"
      ]
     },
     "execution_count": 71,
     "metadata": {},
     "output_type": "execute_result"
    }
   ],
   "source": [
    "t[-12]"
   ]
  },
  {
   "cell_type": "code",
   "execution_count": 72,
   "id": "4f2f7613-c426-43ea-800c-80892a44de3b",
   "metadata": {},
   "outputs": [
    {
     "data": {
      "text/plain": [
       "'Hello'"
      ]
     },
     "execution_count": 72,
     "metadata": {},
     "output_type": "execute_result"
    }
   ],
   "source": [
    "t[0] + t[1] + t[2] + t[3]+ t[4]"
   ]
  },
  {
   "cell_type": "code",
   "execution_count": 73,
   "id": "6040c51b-2cfc-455a-a987-80571138d1ec",
   "metadata": {},
   "outputs": [
    {
     "data": {
      "text/plain": [
       "'Hello'"
      ]
     },
     "execution_count": 73,
     "metadata": {},
     "output_type": "execute_result"
    }
   ],
   "source": [
    "t[0:5]"
   ]
  },
  {
   "cell_type": "code",
   "execution_count": 74,
   "id": "1de729c9-6286-4f82-9e0f-105f271d9406",
   "metadata": {},
   "outputs": [
    {
     "data": {
      "text/plain": [
       "''"
      ]
     },
     "execution_count": 74,
     "metadata": {},
     "output_type": "execute_result"
    }
   ],
   "source": [
    "t[-1:-5]"
   ]
  },
  {
   "cell_type": "code",
   "execution_count": 75,
   "id": "733317c2-231b-463d-9d7a-46bd1785604a",
   "metadata": {},
   "outputs": [
    {
     "data": {
      "text/plain": [
       "'Sesac'"
      ]
     },
     "execution_count": 75,
     "metadata": {},
     "output_type": "execute_result"
    }
   ],
   "source": [
    "t[-6:-1]"
   ]
  },
  {
   "cell_type": "code",
   "execution_count": 76,
   "id": "b448051d-4951-4986-b28d-d0cddd8606c0",
   "metadata": {},
   "outputs": [
    {
     "data": {
      "text/plain": [
       "'Sesac'"
      ]
     },
     "execution_count": 76,
     "metadata": {},
     "output_type": "execute_result"
    }
   ],
   "source": [
    "t[6:11]"
   ]
  },
  {
   "cell_type": "code",
   "execution_count": 77,
   "id": "a46b57df-a8dc-4b30-a49a-ee0ec15a355a",
   "metadata": {},
   "outputs": [
    {
     "data": {
      "text/plain": [
       "'Sesac'"
      ]
     },
     "execution_count": 77,
     "metadata": {},
     "output_type": "execute_result"
    }
   ],
   "source": [
    "t[6:-1]"
   ]
  },
  {
   "cell_type": "code",
   "execution_count": 78,
   "id": "86c1ff1a-be07-4570-a3e7-75fd14464316",
   "metadata": {},
   "outputs": [
    {
     "data": {
      "text/plain": [
       "'Sesac!'"
      ]
     },
     "execution_count": 78,
     "metadata": {},
     "output_type": "execute_result"
    }
   ],
   "source": [
    "t[6:]"
   ]
  },
  {
   "cell_type": "code",
   "execution_count": 79,
   "id": "e3d9638a-0cd3-4c18-ab36-e18768b8345f",
   "metadata": {},
   "outputs": [
    {
     "data": {
      "text/plain": [
       "'Hello '"
      ]
     },
     "execution_count": 79,
     "metadata": {},
     "output_type": "execute_result"
    }
   ],
   "source": [
    "t[:6]"
   ]
  },
  {
   "cell_type": "code",
   "execution_count": 80,
   "id": "4399d5a9-82d6-4666-a377-bd80a3d0b4b5",
   "metadata": {},
   "outputs": [
    {
     "data": {
      "text/plain": [
       "'Hello Sesac!'"
      ]
     },
     "execution_count": 80,
     "metadata": {},
     "output_type": "execute_result"
    }
   ],
   "source": [
    "t[:]"
   ]
  },
  {
   "cell_type": "code",
   "execution_count": 81,
   "id": "4ab357c9-f701-4073-b5e8-ff99a46becec",
   "metadata": {},
   "outputs": [
    {
     "ename": "TypeError",
     "evalue": "string indices must be integers",
     "output_type": "error",
     "traceback": [
      "\u001b[1;31m---------------------------------------------------------------------------\u001b[0m",
      "\u001b[1;31mTypeError\u001b[0m                                 Traceback (most recent call last)",
      "Input \u001b[1;32mIn [81]\u001b[0m, in \u001b[0;36m<cell line: 1>\u001b[1;34m()\u001b[0m\n\u001b[1;32m----> 1\u001b[0m \u001b[43mt\u001b[49m\u001b[43m[\u001b[49m\u001b[43m:\u001b[49m\u001b[43m,\u001b[49m\u001b[43m:\u001b[49m\u001b[38;5;241;43m-\u001b[39;49m\u001b[38;5;241;43m1\u001b[39;49m\u001b[43m]\u001b[49m\n",
      "\u001b[1;31mTypeError\u001b[0m: string indices must be integers"
     ]
    }
   ],
   "source": [
    "t[:,:-1]"
   ]
  },
  {
   "cell_type": "markdown",
   "id": "0659c839-dc9f-4b75-b10f-331db71b7c5d",
   "metadata": {
    "jp-MarkdownHeadingCollapsed": true,
    "tags": []
   },
   "source": [
    "### !!문자열 관련 함수!!"
   ]
  },
  {
   "cell_type": "markdown",
   "id": "97587e99-edd2-426e-83e6-ce8d8c286f06",
   "metadata": {},
   "source": [
    "### count ### 숫자 세기"
   ]
  },
  {
   "cell_type": "code",
   "execution_count": 82,
   "id": "a13b752f-c8af-4729-b9cd-5d658b3b0010",
   "metadata": {},
   "outputs": [],
   "source": [
    "name = 'KIMLEECHOIPARKLEELEE'"
   ]
  },
  {
   "cell_type": "code",
   "execution_count": 83,
   "id": "20ffa58f-b561-4889-9591-537020088c0d",
   "metadata": {},
   "outputs": [
    {
     "data": {
      "text/plain": [
       "3"
      ]
     },
     "execution_count": 83,
     "metadata": {},
     "output_type": "execute_result"
    }
   ],
   "source": [
    "name.count('LEE')"
   ]
  },
  {
   "cell_type": "code",
   "execution_count": 84,
   "id": "d0b7ae3e-a243-45a2-a58b-c4366b890392",
   "metadata": {},
   "outputs": [
    {
     "data": {
      "text/plain": [
       "6"
      ]
     },
     "execution_count": 84,
     "metadata": {},
     "output_type": "execute_result"
    }
   ],
   "source": [
    "name.count('E')"
   ]
  },
  {
   "cell_type": "markdown",
   "id": "5d607078-a934-4f02-8660-e8a536a2ce83",
   "metadata": {},
   "source": [
    "### find ### 문자 찾기"
   ]
  },
  {
   "cell_type": "code",
   "execution_count": 85,
   "id": "12f48395-06ec-4cbb-ba7a-bb21a073bd66",
   "metadata": {},
   "outputs": [
    {
     "data": {
      "text/plain": [
       "6"
      ]
     },
     "execution_count": 85,
     "metadata": {},
     "output_type": "execute_result"
    }
   ],
   "source": [
    "name.find('CHOI')"
   ]
  },
  {
   "cell_type": "code",
   "execution_count": 86,
   "id": "d96cd9df-94d5-468b-84de-ef2fdc844b55",
   "metadata": {},
   "outputs": [
    {
     "data": {
      "text/plain": [
       "-1"
      ]
     },
     "execution_count": 86,
     "metadata": {},
     "output_type": "execute_result"
    }
   ],
   "source": [
    "name.find('KWON')"
   ]
  },
  {
   "cell_type": "markdown",
   "id": "64e02fa3-bf14-4252-9a6a-a395cddf0844",
   "metadata": {},
   "source": [
    "### index ###문자 찾기"
   ]
  },
  {
   "cell_type": "code",
   "execution_count": 88,
   "id": "e525620f-be94-4494-ab2d-41075311706c",
   "metadata": {},
   "outputs": [
    {
     "data": {
      "text/plain": [
       "6"
      ]
     },
     "execution_count": 88,
     "metadata": {},
     "output_type": "execute_result"
    }
   ],
   "source": [
    "name.index('CHOI')"
   ]
  },
  {
   "cell_type": "code",
   "execution_count": 89,
   "id": "f303f45b-d647-44bc-b869-d3c64d9809c9",
   "metadata": {},
   "outputs": [
    {
     "data": {
      "text/plain": [
       "-1"
      ]
     },
     "execution_count": 89,
     "metadata": {},
     "output_type": "execute_result"
    }
   ],
   "source": [
    "name.find('KWON')"
   ]
  },
  {
   "cell_type": "markdown",
   "id": "cfbb7a06-e47b-4042-83a4-48cb4d263e03",
   "metadata": {},
   "source": [
    "### join ### 문자 삽입"
   ]
  },
  {
   "cell_type": "code",
   "execution_count": 90,
   "id": "04861ccd-0283-4599-b64b-3c99ddd7733c",
   "metadata": {},
   "outputs": [
    {
     "data": {
      "text/plain": [
       "'a-b-c-d-e'"
      ]
     },
     "execution_count": 90,
     "metadata": {},
     "output_type": "execute_result"
    }
   ],
   "source": [
    "'-'.join('abcde')"
   ]
  },
  {
   "cell_type": "code",
   "execution_count": 91,
   "id": "38c1503b-4af1-4e94-ac4e-13a831973850",
   "metadata": {},
   "outputs": [
    {
     "data": {
      "text/plain": [
       "'zHixHicHivHib'"
      ]
     },
     "execution_count": 91,
     "metadata": {},
     "output_type": "execute_result"
    }
   ],
   "source": [
    "'Hi'.join('zxcvb')"
   ]
  },
  {
   "cell_type": "markdown",
   "id": "2bb38776-9bc7-4eef-9e61-218d85defe36",
   "metadata": {},
   "source": [
    "### upper 대문자\n",
    "### lower 소문자"
   ]
  },
  {
   "cell_type": "code",
   "execution_count": 92,
   "id": "eeb383cf-c7f7-4172-993a-73ab9bf33882",
   "metadata": {},
   "outputs": [],
   "source": [
    "msg = 'This is my phone'"
   ]
  },
  {
   "cell_type": "code",
   "execution_count": 93,
   "id": "91300a36-f9ed-4998-aeaa-5a85cfd9aa00",
   "metadata": {},
   "outputs": [
    {
     "data": {
      "text/plain": [
       "'THIS IS MY PHONE'"
      ]
     },
     "execution_count": 93,
     "metadata": {},
     "output_type": "execute_result"
    }
   ],
   "source": [
    "msg.upper()"
   ]
  },
  {
   "cell_type": "code",
   "execution_count": 94,
   "id": "c7ccc40f-3cd8-4fa4-8ed6-f887448db42d",
   "metadata": {},
   "outputs": [
    {
     "data": {
      "text/plain": [
       "'this is my phone'"
      ]
     },
     "execution_count": 94,
     "metadata": {},
     "output_type": "execute_result"
    }
   ],
   "source": [
    "msg.lower()"
   ]
  },
  {
   "cell_type": "code",
   "execution_count": 95,
   "id": "75de1f66-2e0d-4117-9ad9-7a3d1168e63b",
   "metadata": {},
   "outputs": [
    {
     "data": {
      "text/plain": [
       "'THihHiiHisHi HiiHisHi HimHiyHi HipHihHioHinHie'"
      ]
     },
     "execution_count": 95,
     "metadata": {},
     "output_type": "execute_result"
    }
   ],
   "source": [
    "'Hi'.join(msg)"
   ]
  },
  {
   "cell_type": "code",
   "execution_count": 96,
   "id": "668042be-b078-4f8d-ad6f-0504ce525daa",
   "metadata": {},
   "outputs": [
    {
     "data": {
      "text/plain": [
       "11"
      ]
     },
     "execution_count": 96,
     "metadata": {},
     "output_type": "execute_result"
    }
   ],
   "source": [
    "msg.lower().find('phone')"
   ]
  },
  {
   "cell_type": "code",
   "execution_count": 97,
   "id": "853795ba-3316-4a8b-9d74-daf874d39612",
   "metadata": {},
   "outputs": [
    {
     "data": {
      "text/plain": [
       "11"
      ]
     },
     "execution_count": 97,
     "metadata": {},
     "output_type": "execute_result"
    }
   ],
   "source": [
    "msg.upper().find('PHONE')"
   ]
  },
  {
   "cell_type": "markdown",
   "id": "cf5bf53e-9fcb-45e7-bdee-6d8ae4bf7e2f",
   "metadata": {},
   "source": [
    "### Strip\n",
    "### Lstrip\n",
    "### Rstrip"
   ]
  },
  {
   "cell_type": "code",
   "execution_count": 98,
   "id": "6dcf71ff-62ee-49d8-b102-d3e3440fee59",
   "metadata": {},
   "outputs": [
    {
     "data": {
      "text/plain": [
       "'This is my phone'"
      ]
     },
     "execution_count": 98,
     "metadata": {},
     "output_type": "execute_result"
    }
   ],
   "source": [
    "msg"
   ]
  },
  {
   "cell_type": "code",
   "execution_count": 99,
   "id": "998f0cc5-d414-4fc0-b9d5-dba412215638",
   "metadata": {},
   "outputs": [
    {
     "data": {
      "text/plain": [
       "'This is my phone'"
      ]
     },
     "execution_count": 99,
     "metadata": {},
     "output_type": "execute_result"
    }
   ],
   "source": [
    "msg.strip()"
   ]
  },
  {
   "cell_type": "code",
   "execution_count": 100,
   "id": "ab3d8b0a-8d12-45bd-a368-a5cc4347423a",
   "metadata": {},
   "outputs": [],
   "source": [
    "msg = '                 This is my phone            '"
   ]
  },
  {
   "cell_type": "code",
   "execution_count": 101,
   "id": "61aa55b7-a041-44bf-8613-e0554758b8b7",
   "metadata": {},
   "outputs": [
    {
     "data": {
      "text/plain": [
       "'This is my phone'"
      ]
     },
     "execution_count": 101,
     "metadata": {},
     "output_type": "execute_result"
    }
   ],
   "source": [
    "msg.strip()"
   ]
  },
  {
   "cell_type": "code",
   "execution_count": 102,
   "id": "4e092b29-950e-4888-828d-c631fbb9c5a9",
   "metadata": {},
   "outputs": [
    {
     "data": {
      "text/plain": [
       "'This is my phone            '"
      ]
     },
     "execution_count": 102,
     "metadata": {},
     "output_type": "execute_result"
    }
   ],
   "source": [
    "msg.lstrip()"
   ]
  },
  {
   "cell_type": "code",
   "execution_count": 103,
   "id": "0445904b-6120-45a1-a724-b534fbc78d6f",
   "metadata": {},
   "outputs": [
    {
     "data": {
      "text/plain": [
       "'                 This is my phone'"
      ]
     },
     "execution_count": 103,
     "metadata": {},
     "output_type": "execute_result"
    }
   ],
   "source": [
    "msg.rstrip()"
   ]
  },
  {
   "cell_type": "code",
   "execution_count": 104,
   "id": "19341ecb-bab4-4dbb-8827-2748077883ab",
   "metadata": {},
   "outputs": [
    {
     "data": {
      "text/plain": [
       "'                 This is my phone            '"
      ]
     },
     "execution_count": 104,
     "metadata": {},
     "output_type": "execute_result"
    }
   ],
   "source": [
    "msg"
   ]
  },
  {
   "cell_type": "code",
   "execution_count": 105,
   "id": "23167a66-0232-4bb8-a83f-c2eb3f596833",
   "metadata": {},
   "outputs": [],
   "source": [
    "msg= msg.strip()"
   ]
  },
  {
   "cell_type": "code",
   "execution_count": 106,
   "id": "8e111d96-ce69-417f-982d-373cd9765592",
   "metadata": {},
   "outputs": [
    {
     "data": {
      "text/plain": [
       "'This is my phone'"
      ]
     },
     "execution_count": 106,
     "metadata": {},
     "output_type": "execute_result"
    }
   ],
   "source": [
    "msg"
   ]
  },
  {
   "cell_type": "markdown",
   "id": "8d1a3964-a8ef-4222-ba3b-cae52041455c",
   "metadata": {},
   "source": [
    "### Replace"
   ]
  },
  {
   "cell_type": "code",
   "execution_count": 107,
   "id": "5dd3ac28-62e6-41fb-a9c7-438845795654",
   "metadata": {},
   "outputs": [
    {
     "data": {
      "text/plain": [
       "'This is your phone'"
      ]
     },
     "execution_count": 107,
     "metadata": {},
     "output_type": "execute_result"
    }
   ],
   "source": [
    "msg.replace('my','your')"
   ]
  },
  {
   "cell_type": "code",
   "execution_count": 116,
   "id": "695c8832-0ba7-47ca-8cd8-e2f30c237ed0",
   "metadata": {},
   "outputs": [
    {
     "data": {
      "text/plain": [
       "'This is \"chanwoong\\'s\" phone'"
      ]
     },
     "execution_count": 116,
     "metadata": {},
     "output_type": "execute_result"
    }
   ],
   "source": [
    "msg.replace('my','\"chanwoong\\'s\"')"
   ]
  },
  {
   "cell_type": "code",
   "execution_count": 117,
   "id": "6c7fa435-c87c-4f68-9a39-3611f64e8dd0",
   "metadata": {},
   "outputs": [
    {
     "data": {
      "text/plain": [
       "'Thisismyphone'"
      ]
     },
     "execution_count": 117,
     "metadata": {},
     "output_type": "execute_result"
    }
   ],
   "source": [
    "msg.replace(' ', '')"
   ]
  },
  {
   "cell_type": "markdown",
   "id": "60d1eaa6-e357-433b-aebc-bfc2a3529f0a",
   "metadata": {
    "tags": []
   },
   "source": [
    "### Split"
   ]
  },
  {
   "cell_type": "code",
   "execution_count": 118,
   "id": "43808592-8e0d-4033-8ac6-64cda74483fb",
   "metadata": {},
   "outputs": [
    {
     "data": {
      "text/plain": [
       "['This', 'is', 'my', 'phone']"
      ]
     },
     "execution_count": 118,
     "metadata": {},
     "output_type": "execute_result"
    }
   ],
   "source": [
    "msg.split(' ')"
   ]
  },
  {
   "cell_type": "code",
   "execution_count": 119,
   "id": "5fb8668e-f0a4-497d-bad8-68c3853d0f45",
   "metadata": {},
   "outputs": [
    {
     "data": {
      "text/plain": [
       "['010', '0000', '0000']"
      ]
     },
     "execution_count": 119,
     "metadata": {},
     "output_type": "execute_result"
    }
   ],
   "source": [
    "'010-0000-0000'.split('-')"
   ]
  },
  {
   "cell_type": "code",
   "execution_count": 120,
   "id": "22424646-3cbf-464b-83e3-d6dd0cfc9305",
   "metadata": {},
   "outputs": [
    {
     "data": {
      "text/plain": [
       "'0000'"
      ]
     },
     "execution_count": 120,
     "metadata": {},
     "output_type": "execute_result"
    }
   ],
   "source": [
    "'010-0000-0000'.split('-')[2]"
   ]
  },
  {
   "cell_type": "markdown",
   "id": "f8fcae4d-e759-4df0-8c79-4fb524567a08",
   "metadata": {},
   "source": [
    "#### Quiz"
   ]
  },
  {
   "cell_type": "code",
   "execution_count": 121,
   "id": "0b4f75e4-d89a-4afb-9276-f6dc039ac1af",
   "metadata": {},
   "outputs": [],
   "source": [
    "jumin = '900101-1234567'"
   ]
  },
  {
   "cell_type": "code",
   "execution_count": 122,
   "id": "4f8e4d0a-7751-4533-9621-f680819a72d6",
   "metadata": {},
   "outputs": [
    {
     "data": {
      "text/plain": [
       "'1'"
      ]
     },
     "execution_count": 122,
     "metadata": {},
     "output_type": "execute_result"
    }
   ],
   "source": [
    "jumin[7]"
   ]
  },
  {
   "cell_type": "code",
   "execution_count": 123,
   "id": "eae265a2-b2d8-492d-a382-08a15586bafb",
   "metadata": {},
   "outputs": [
    {
     "data": {
      "text/plain": [
       "'1234567'"
      ]
     },
     "execution_count": 123,
     "metadata": {},
     "output_type": "execute_result"
    }
   ],
   "source": [
    "jumin[7:]"
   ]
  },
  {
   "cell_type": "code",
   "execution_count": 124,
   "id": "1d0fbe17-de50-4482-8e06-bd67bb694ec7",
   "metadata": {},
   "outputs": [
    {
     "data": {
      "text/plain": [
       "str"
      ]
     },
     "execution_count": 124,
     "metadata": {},
     "output_type": "execute_result"
    }
   ],
   "source": [
    "type (jumin)"
   ]
  },
  {
   "cell_type": "code",
   "execution_count": 125,
   "id": "508f8001-19fe-42b0-8637-8ca64556a687",
   "metadata": {},
   "outputs": [
    {
     "ename": "ValueError",
     "evalue": "invalid literal for int() with base 10: '900101-1234567'",
     "output_type": "error",
     "traceback": [
      "\u001b[1;31m---------------------------------------------------------------------------\u001b[0m",
      "\u001b[1;31mValueError\u001b[0m                                Traceback (most recent call last)",
      "Input \u001b[1;32mIn [125]\u001b[0m, in \u001b[0;36m<cell line: 1>\u001b[1;34m()\u001b[0m\n\u001b[1;32m----> 1\u001b[0m \u001b[38;5;28;43mint\u001b[39;49m\u001b[43m \u001b[49m\u001b[43m(\u001b[49m\u001b[43mjumin\u001b[49m\u001b[43m)\u001b[49m\n",
      "\u001b[1;31mValueError\u001b[0m: invalid literal for int() with base 10: '900101-1234567'"
     ]
    }
   ],
   "source": [
    "int (jumin)"
   ]
  },
  {
   "cell_type": "code",
   "execution_count": 126,
   "id": "2e1f511f-729d-4199-8385-ad19b99b3b9f",
   "metadata": {},
   "outputs": [
    {
     "data": {
      "text/plain": [
       "33"
      ]
     },
     "execution_count": 126,
     "metadata": {},
     "output_type": "execute_result"
    }
   ],
   "source": [
    "122 - int(jumin[:2]) + 1"
   ]
  },
  {
   "cell_type": "code",
   "execution_count": 127,
   "id": "cc58978e-52ed-484f-b0cb-03b3effb9cff",
   "metadata": {},
   "outputs": [
    {
     "data": {
      "text/plain": [
       "'1'"
      ]
     },
     "execution_count": 127,
     "metadata": {},
     "output_type": "execute_result"
    }
   ],
   "source": [
    "jumin[jumin.find('-')+1]"
   ]
  },
  {
   "cell_type": "code",
   "execution_count": 128,
   "id": "6ed3aaa2-2f58-4ce8-81d8-eeb3aac4d03c",
   "metadata": {},
   "outputs": [
    {
     "data": {
      "text/plain": [
       "33"
      ]
     },
     "execution_count": 128,
     "metadata": {},
     "output_type": "execute_result"
    }
   ],
   "source": [
    "2022 - int('19' + jumin[:2]) + 1"
   ]
  },
  {
   "cell_type": "code",
   "execution_count": 129,
   "id": "6396463c-7bfc-4f53-8599-76e4d43ee87b",
   "metadata": {},
   "outputs": [
    {
     "data": {
      "text/plain": [
       "-67"
      ]
     },
     "execution_count": 129,
     "metadata": {},
     "output_type": "execute_result"
    }
   ],
   "source": [
    "2022 - int('20' + jumin[:2]) + 1"
   ]
  },
  {
   "cell_type": "code",
   "execution_count": 130,
   "id": "69a5b733-f94b-44a6-a713-845730e422e1",
   "metadata": {},
   "outputs": [
    {
     "data": {
      "text/plain": [
       "'1234567'"
      ]
     },
     "execution_count": 130,
     "metadata": {},
     "output_type": "execute_result"
    }
   ],
   "source": [
    "jumin[jumin.find('-')+1:] #find 햠수로 (-)를 찾은 후 1더한값을 슬라이싱"
   ]
  },
  {
   "cell_type": "code",
   "execution_count": 132,
   "id": "fc86228e-9700-4f52-85db-950692e626d3",
   "metadata": {},
   "outputs": [
    {
     "data": {
      "text/plain": [
       "'1234567'"
      ]
     },
     "execution_count": 132,
     "metadata": {},
     "output_type": "execute_result"
    }
   ],
   "source": [
    "jumin.split('-')[1] #split 함수로 (-)를 기준으로 두 개로 나눈 뒤 뒤의 값을 인덱싱"
   ]
  },
  {
   "cell_type": "markdown",
   "id": "c073c116-fffd-416c-bcc9-03bb76727a44",
   "metadata": {},
   "source": [
    "### bool"
   ]
  },
  {
   "cell_type": "code",
   "execution_count": 133,
   "id": "b76c7378-6570-4a42-b755-83bdc5ff5d3b",
   "metadata": {},
   "outputs": [
    {
     "data": {
      "text/plain": [
       "True"
      ]
     },
     "execution_count": 133,
     "metadata": {},
     "output_type": "execute_result"
    }
   ],
   "source": [
    "True"
   ]
  },
  {
   "cell_type": "code",
   "execution_count": 134,
   "id": "354aa649-766f-42b6-b457-2f36695f731e",
   "metadata": {},
   "outputs": [
    {
     "data": {
      "text/plain": [
       "False"
      ]
     },
     "execution_count": 134,
     "metadata": {},
     "output_type": "execute_result"
    }
   ],
   "source": [
    "False"
   ]
  },
  {
   "cell_type": "code",
   "execution_count": 135,
   "id": "bf91e90b-af78-4968-a68c-cdadd0504268",
   "metadata": {},
   "outputs": [
    {
     "data": {
      "text/plain": [
       "bool"
      ]
     },
     "execution_count": 135,
     "metadata": {},
     "output_type": "execute_result"
    }
   ],
   "source": [
    "type(True)"
   ]
  },
  {
   "cell_type": "code",
   "execution_count": 136,
   "id": "6f2355b8-3f5a-4307-9b3a-1cf3b695c3c7",
   "metadata": {},
   "outputs": [
    {
     "data": {
      "text/plain": [
       "1"
      ]
     },
     "execution_count": 136,
     "metadata": {},
     "output_type": "execute_result"
    }
   ],
   "source": [
    "int(True)"
   ]
  },
  {
   "cell_type": "code",
   "execution_count": 137,
   "id": "32772920-4df9-4e6b-a930-27737dbdfe2b",
   "metadata": {},
   "outputs": [
    {
     "data": {
      "text/plain": [
       "0"
      ]
     },
     "execution_count": 137,
     "metadata": {},
     "output_type": "execute_result"
    }
   ],
   "source": [
    "int(False)"
   ]
  },
  {
   "cell_type": "code",
   "execution_count": 138,
   "id": "f4f0ceb3-e98f-4432-a36a-b09b3be082b4",
   "metadata": {},
   "outputs": [
    {
     "data": {
      "text/plain": [
       "True"
      ]
     },
     "execution_count": 138,
     "metadata": {},
     "output_type": "execute_result"
    }
   ],
   "source": [
    "bool('abc')"
   ]
  },
  {
   "cell_type": "code",
   "execution_count": 139,
   "id": "0b75c571-3e04-447b-bd25-f3b82724c886",
   "metadata": {},
   "outputs": [
    {
     "data": {
      "text/plain": [
       "True"
      ]
     },
     "execution_count": 139,
     "metadata": {},
     "output_type": "execute_result"
    }
   ],
   "source": [
    "bool(1)"
   ]
  },
  {
   "cell_type": "code",
   "execution_count": 140,
   "id": "40b9a006-bcdc-4834-9b52-eda8c1f632cf",
   "metadata": {},
   "outputs": [
    {
     "data": {
      "text/plain": [
       "False"
      ]
     },
     "execution_count": 140,
     "metadata": {},
     "output_type": "execute_result"
    }
   ],
   "source": [
    "bool(0)"
   ]
  },
  {
   "cell_type": "code",
   "execution_count": 141,
   "id": "b04961cf-6a19-4e45-8c0a-1b02b8c05228",
   "metadata": {},
   "outputs": [
    {
     "name": "stdout",
     "output_type": "stream",
     "text": [
      "abc\n"
     ]
    }
   ],
   "source": [
    "a= 'abc'\n",
    "if a :\n",
    "    print(a)\n",
    "else :\n",
    "    print('fail')"
   ]
  },
  {
   "cell_type": "code",
   "execution_count": 142,
   "id": "148b9a90-1adc-455e-83b0-bb9e1a243ec7",
   "metadata": {},
   "outputs": [
    {
     "data": {
      "text/plain": [
       "True"
      ]
     },
     "execution_count": 142,
     "metadata": {},
     "output_type": "execute_result"
    }
   ],
   "source": [
    "1 == 1"
   ]
  },
  {
   "cell_type": "code",
   "execution_count": 143,
   "id": "ded0f625-269c-43d4-84e2-bcfef6b9497f",
   "metadata": {},
   "outputs": [
    {
     "data": {
      "text/plain": [
       "False"
      ]
     },
     "execution_count": 143,
     "metadata": {},
     "output_type": "execute_result"
    }
   ],
   "source": [
    "1 == 2"
   ]
  },
  {
   "cell_type": "code",
   "execution_count": 144,
   "id": "8772d232-25b7-474b-8303-f44d68c9eda8",
   "metadata": {},
   "outputs": [
    {
     "data": {
      "text/plain": [
       "False"
      ]
     },
     "execution_count": 144,
     "metadata": {},
     "output_type": "execute_result"
    }
   ],
   "source": [
    "1 == '1'"
   ]
  },
  {
   "cell_type": "code",
   "execution_count": 145,
   "id": "f1ee26aa-1df4-4de6-afbf-3108e8ee3843",
   "metadata": {},
   "outputs": [
    {
     "data": {
      "text/plain": [
       "False"
      ]
     },
     "execution_count": 145,
     "metadata": {},
     "output_type": "execute_result"
    }
   ],
   "source": [
    "1 > 2"
   ]
  },
  {
   "cell_type": "code",
   "execution_count": 146,
   "id": "68a64db1-3951-4932-8cda-c445a3a516e3",
   "metadata": {},
   "outputs": [
    {
     "data": {
      "text/plain": [
       "False"
      ]
     },
     "execution_count": 146,
     "metadata": {},
     "output_type": "execute_result"
    }
   ],
   "source": [
    "'a' > 'b'"
   ]
  },
  {
   "cell_type": "code",
   "execution_count": 147,
   "id": "033296dd-36fa-4ae5-9600-89927cf4505c",
   "metadata": {},
   "outputs": [
    {
     "data": {
      "text/plain": [
       "True"
      ]
     },
     "execution_count": 147,
     "metadata": {},
     "output_type": "execute_result"
    }
   ],
   "source": [
    "'a' > 'B'"
   ]
  },
  {
   "cell_type": "code",
   "execution_count": 148,
   "id": "f1d16106-22db-45e0-9530-fb50e9bc9ffd",
   "metadata": {},
   "outputs": [
    {
     "data": {
      "text/plain": [
       "True"
      ]
     },
     "execution_count": 148,
     "metadata": {},
     "output_type": "execute_result"
    }
   ],
   "source": [
    "'apple' < 'b'"
   ]
  },
  {
   "cell_type": "code",
   "execution_count": 149,
   "id": "5ab66d03-0e17-457c-a2ba-4d62836764b7",
   "metadata": {},
   "outputs": [
    {
     "data": {
      "text/plain": [
       "False"
      ]
     },
     "execution_count": 149,
     "metadata": {},
     "output_type": "execute_result"
    }
   ],
   "source": [
    "'apple' < 'app'"
   ]
  },
  {
   "cell_type": "code",
   "execution_count": null,
   "id": "328e9ea7-fe65-43a3-9b87-a709a4dabda5",
   "metadata": {},
   "outputs": [],
   "source": []
  }
 ],
 "metadata": {
  "kernelspec": {
   "display_name": "Python 3 (ipykernel)",
   "language": "python",
   "name": "python3"
  },
  "language_info": {
   "codemirror_mode": {
    "name": "ipython",
    "version": 3
   },
   "file_extension": ".py",
   "mimetype": "text/x-python",
   "name": "python",
   "nbconvert_exporter": "python",
   "pygments_lexer": "ipython3",
   "version": "3.9.12"
  }
 },
 "nbformat": 4,
 "nbformat_minor": 5
}
