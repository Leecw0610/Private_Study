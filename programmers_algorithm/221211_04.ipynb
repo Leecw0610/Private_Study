{
 "cells": [
  {
   "attachments": {},
   "cell_type": "markdown",
   "metadata": {},
   "source": [
    "### 73. 잘라서 배열로 저장하기\n"
   ]
  },
  {
   "attachments": {},
   "cell_type": "markdown",
   "metadata": {},
   "source": [
    "문자열 my_str과 n이 매개변수로 주어질 때, my_str을 길이 n씩 잘라서 저장한 배열을 return하도록 solution 함수를 완성해주세요."
   ]
  },
  {
   "cell_type": "code",
   "execution_count": 36,
   "metadata": {},
   "outputs": [
    {
     "name": "stdout",
     "output_type": "stream",
     "text": [
      "0\n",
      "['abc1Ad']\n",
      "1\n",
      "['abc1Ad', 'dfggg4']\n",
      "['abc1Ad', 'dfggg4', '556b']\n",
      "['abc1Ad', 'dfggg4', '556b']\n"
     ]
    }
   ],
   "source": [
    "my_str = \"abc1Addfggg4556b\"\n",
    "n= 6\n",
    "len(my_str)//n\n",
    "\n",
    "answer=[]\n",
    "# my_str[0:6] + my_str[6:12] + my_str[12:18]\n",
    "# my_str[n*0:n*1] + my_str[n*1:n*2]+my_str[n*2:n*3]\n",
    "for i in range(len(my_str)//n):\n",
    "    print(i)\n",
    "    answer.append(my_str[n*i:n*(i+1)])\n",
    "    print(answer)\n",
    "if len(my_str) % n != 0 :\n",
    "    answer.append(my_str[n*(i+1):])\n",
    "    print(answer)\n",
    "print(answer)\n"
   ]
  },
  {
   "cell_type": "code",
   "execution_count": 15,
   "metadata": {},
   "outputs": [
    {
     "data": {
      "text/plain": [
       "16"
      ]
     },
     "execution_count": 15,
     "metadata": {},
     "output_type": "execute_result"
    }
   ],
   "source": [
    "len(my_str)"
   ]
  },
  {
   "cell_type": "code",
   "execution_count": 38,
   "metadata": {},
   "outputs": [
    {
     "name": "stdout",
     "output_type": "stream",
     "text": [
      "0\n",
      "6\n",
      "12\n"
     ]
    }
   ],
   "source": [
    "for i in range(0,16,6):\n",
    "    print(i)"
   ]
  },
  {
   "cell_type": "code",
   "execution_count": 37,
   "metadata": {},
   "outputs": [
    {
     "data": {
      "text/plain": [
       "['abc1Ad', 'dfggg4', '556b']"
      ]
     },
     "execution_count": 37,
     "metadata": {},
     "output_type": "execute_result"
    }
   ],
   "source": [
    "#타인 코드\n",
    "[my_str[i: i + n] for i in range(0, len(my_str), n)]\n",
    "#list comprehension"
   ]
  },
  {
   "attachments": {},
   "cell_type": "markdown",
   "metadata": {},
   "source": [
    "### 74. 소인수 분해\n"
   ]
  },
  {
   "attachments": {},
   "cell_type": "markdown",
   "metadata": {},
   "source": [
    "소인수분해란 어떤 수를 소수들의 곱으로 표현하는 것입니다. 예를 들어 12를 소인수 분해하면 2 * 2 * 3 으로 나타낼 수 있습니다. 따라서 12의 소인수는 2와 3입니다. 자연수 n이 매개변수로 주어질 때 n의 소인수를 오름차순으로 담은 배열을 return하도록 solution 함수를 완성해주세요."
   ]
  },
  {
   "cell_type": "code",
   "execution_count": 75,
   "metadata": {},
   "outputs": [
    {
     "name": "stdout",
     "output_type": "stream",
     "text": [
      "[2, 3, 4, 5, 6, 7, 10, 12, 14, 15, 20, 21, 28, 30, 35, 42, 60, 70, 84]\n",
      "4 이 수는 소수가 아닙니다.\n",
      "6 이 수는 소수가 아닙니다.\n",
      "10 이 수는 소수가 아닙니다.\n",
      "14 이 수는 소수가 아닙니다.\n",
      "20 이 수는 소수가 아닙니다.\n",
      "28 이 수는 소수가 아닙니다.\n",
      "35 이 수는 소수가 아닙니다.\n",
      "60 이 수는 소수가 아닙니다.\n",
      "84 이 수는 소수가 아닙니다.\n",
      "[2, 3, 5, 7, 12, 15, 21, 30, 42, 70]\n",
      "12 이 수는 소수가 아닙니다.\n",
      "21 이 수는 소수가 아닙니다.\n",
      "42 이 수는 소수가 아닙니다.\n",
      "[2, 3, 5, 7, 15, 30, 70]\n",
      "15 이 수는 소수가 아닙니다.\n",
      "70 이 수는 소수가 아닙니다.\n",
      "[2, 3, 5, 7, 30]\n",
      "30 이 수는 소수가 아닙니다.\n",
      "[2, 3, 5, 7]\n"
     ]
    }
   ],
   "source": [
    "n=420\n",
    "answer = []\n",
    "for i in range(2,100):\n",
    "    #print(i)\n",
    "    while True:\n",
    "        if n % i == 0 :\n",
    "            answer.append(i)\n",
    "            break\n",
    "        else :\n",
    "            break\n",
    "print(answer)\n",
    "for j in answer :\n",
    "#    print(j)\n",
    "    for k in range(2, j):\n",
    "        # print(j,k)\n",
    "        if j % k == 0 :\n",
    "            try :\n",
    "                answer.remove(j)\n",
    "                print(j,'이 수는 소수가 아닙니다.')\n",
    "                break\n",
    "            except :\n",
    "                pass\n",
    "print(answer)\n",
    "for j in answer :\n",
    "    #    print(j)\n",
    "    for k in range(2, j):\n",
    "        # print(j,k)\n",
    "        if j % k == 0 :\n",
    "            try :\n",
    "                answer.remove(j)\n",
    "                print(j,'이 수는 소수가 아닙니다.')\n",
    "                break\n",
    "            except :\n",
    "                pass\n",
    "print(answer)\n",
    "for j in answer :\n",
    "    #    print(j)\n",
    "    for k in range(2, j):\n",
    "        # print(j,k)\n",
    "        if j % k == 0 :\n",
    "            try :\n",
    "                answer.remove(j)\n",
    "                print(j,'이 수는 소수가 아닙니다.')\n",
    "                break\n",
    "            except :\n",
    "                pass\n",
    "print(answer)\n",
    "for j in answer :\n",
    "    #    print(j)\n",
    "    for k in range(2, j):\n",
    "        # print(j,k)\n",
    "        if j % k == 0 :\n",
    "            try :\n",
    "                answer.remove(j)\n",
    "                print(j,'이 수는 소수가 아닙니다.')\n",
    "                break\n",
    "            except :\n",
    "                pass\n",
    "print(answer)"
   ]
  },
  {
   "cell_type": "code",
   "execution_count": 76,
   "metadata": {},
   "outputs": [],
   "source": [
    "import re"
   ]
  },
  {
   "cell_type": "code",
   "execution_count": 91,
   "metadata": {},
   "outputs": [],
   "source": [
    "temp=[]\n",
    "for i in range(int(n**0.5+1))[2:]:\n",
    "    temp.append(i)\n",
    "    #print(i)\n",
    "    for j in range(i)[2:] :\n",
    "        #print(i,j)\n",
    "        if i % j == 0 :\n",
    "            temp.remove(i)\n",
    "            break"
   ]
  },
  {
   "cell_type": "code",
   "execution_count": 92,
   "metadata": {},
   "outputs": [
    {
     "data": {
      "text/plain": [
       "[2, 3, 5, 7, 11, 13, 17, 19]"
      ]
     },
     "execution_count": 92,
     "metadata": {},
     "output_type": "execute_result"
    }
   ],
   "source": [
    "temp"
   ]
  },
  {
   "cell_type": "code",
   "execution_count": 122,
   "metadata": {},
   "outputs": [
    {
     "name": "stdout",
     "output_type": "stream",
     "text": [
      "[2, 3, 5, 7]\n"
     ]
    }
   ],
   "source": [
    "n=420\n",
    "answer=[]\n",
    "for i in range(2,n+1):\n",
    "    if n % i == 0 :\n",
    "        answer.append(i)\n",
    "        while True:\n",
    "            if n%i == 0 :\n",
    "                n=n/i\n",
    "            else :\n",
    "                break\n",
    "        #print(i,int(n))\n",
    "        \n",
    "        \n",
    "print(answer)"
   ]
  },
  {
   "cell_type": "code",
   "execution_count": 116,
   "metadata": {},
   "outputs": [
    {
     "data": {
      "text/plain": [
       "[2,\n",
       " 3,\n",
       " 4,\n",
       " 5,\n",
       " 6,\n",
       " 7,\n",
       " 10,\n",
       " 12,\n",
       " 14,\n",
       " 15,\n",
       " 20,\n",
       " 21,\n",
       " 28,\n",
       " 30,\n",
       " 35,\n",
       " 42,\n",
       " 60,\n",
       " 70,\n",
       " 84,\n",
       " 105,\n",
       " 140,\n",
       " 210,\n",
       " 420]"
      ]
     },
     "execution_count": 116,
     "metadata": {},
     "output_type": "execute_result"
    }
   ],
   "source": [
    "# 코드 간략히!\n",
    "n=420\n",
    "[i  for i in range(2,n+1) if n%i==0]"
   ]
  },
  {
   "attachments": {},
   "cell_type": "markdown",
   "metadata": {},
   "source": [
    "### 75. 영어가 싫어요\n"
   ]
  },
  {
   "attachments": {},
   "cell_type": "markdown",
   "metadata": {},
   "source": [
    "영어가 싫은 머쓱이는 영어로 표기되어있는 숫자를 수로 바꾸려고 합니다. 문자열 numbers가 매개변수로 주어질 때, numbers를 정수로 바꿔 return 하도록 solution 함수를 완성해 주세요."
   ]
  },
  {
   "cell_type": "code",
   "execution_count": 123,
   "metadata": {},
   "outputs": [],
   "source": [
    "numbers=\"onetwothreefourfivesixseveneightnine\""
   ]
  },
  {
   "cell_type": "code",
   "execution_count": 124,
   "metadata": {},
   "outputs": [],
   "source": [
    "nums =[\"zero\",\"one\",\"two\",\"three\",\"four\",\"five\",\"six\",\"seven\",\"eight\",\"nine\"]"
   ]
  },
  {
   "cell_type": "code",
   "execution_count": 125,
   "metadata": {},
   "outputs": [
    {
     "name": "stdout",
     "output_type": "stream",
     "text": [
      "123456789\n"
     ]
    }
   ],
   "source": [
    "for index, num in enumerate(nums) :\n",
    "    numbers= numbers.replace(num,str(index))\n",
    "print(numbers)"
   ]
  },
  {
   "attachments": {},
   "cell_type": "markdown",
   "metadata": {},
   "source": [
    "### 76. 종이 자르기\n"
   ]
  },
  {
   "attachments": {},
   "cell_type": "markdown",
   "metadata": {},
   "source": [
    "머쓱이는 큰 종이를 1 x 1 크기로 자르려고 합니다. 예를 들어 2 x 2 크기의 종이를 1 x 1 크기로 자르려면 최소 가위질 세 번이 필요합니다.\n",
    "\n"
   ]
  },
  {
   "cell_type": "code",
   "execution_count": null,
   "metadata": {},
   "outputs": [],
   "source": [
    "answer = M*N -1\n",
    "#너무 직관적이라 코드 짤것도없다.."
   ]
  },
  {
   "attachments": {},
   "cell_type": "markdown",
   "metadata": {},
   "source": [
    "### 77. 문자열 계산하기\n"
   ]
  },
  {
   "attachments": {},
   "cell_type": "markdown",
   "metadata": {},
   "source": [
    "my_string은 \"3 + 5\"처럼 문자열로 된 수식입니다. 문자열 my_string이 매개변수로 주어질 때, 수식을 계산한 값을 return 하는 solution 함수를 완성해주세요."
   ]
  },
  {
   "cell_type": "code",
   "execution_count": 152,
   "metadata": {},
   "outputs": [],
   "source": [
    "my_string=\"5 + 4 + 23 + 110 - 21 - 49\""
   ]
  },
  {
   "cell_type": "code",
   "execution_count": 169,
   "metadata": {},
   "outputs": [
    {
     "name": "stdout",
     "output_type": "stream",
     "text": [
      "[4.0]\n",
      "7\n"
     ]
    }
   ],
   "source": [
    "my_string=\"3 + 4\"\n",
    "\n",
    "answer=0\n",
    "calc_list=[]\n",
    "my_string=my_string.split()\n",
    "#print(my_string)\n",
    "for i in range(len(my_string))[1::2]:\n",
    "    #print(i)\n",
    "    calc_list.append(float(''.join(my_string[i:i+2]))) # 부호와 그다음 숫자만 뽑음\n",
    "print(calc_list)\n",
    "print(int(sum(calc_list) + float(my_string[0])))\n",
    "\n",
    "    "
   ]
  },
  {
   "cell_type": "code",
   "execution_count": 162,
   "metadata": {},
   "outputs": [
    {
     "name": "stdout",
     "output_type": "stream",
     "text": [
      "['-', '49']\n"
     ]
    }
   ],
   "source": [
    "print(calc)"
   ]
  },
  {
   "cell_type": "code",
   "execution_count": 143,
   "metadata": {},
   "outputs": [
    {
     "data": {
      "text/plain": [
       "['5', '+', '4', '+', '23', '+', '110', '-', '21', '-', '49']"
      ]
     },
     "execution_count": 143,
     "metadata": {},
     "output_type": "execute_result"
    }
   ],
   "source": [
    "my_string"
   ]
  },
  {
   "cell_type": "code",
   "execution_count": 139,
   "metadata": {},
   "outputs": [
    {
     "data": {
      "text/plain": [
       "['+', '+', '+', '-', '-']"
      ]
     },
     "execution_count": 139,
     "metadata": {},
     "output_type": "execute_result"
    }
   ],
   "source": [
    "my_string[1::2] # 부호만 뽑음"
   ]
  },
  {
   "cell_type": "code",
   "execution_count": null,
   "metadata": {},
   "outputs": [],
   "source": [
    "# *eval 함수를 알아보좌!"
   ]
  },
  {
   "attachments": {},
   "cell_type": "markdown",
   "metadata": {},
   "source": [
    "### 78. 구슬을 나누는 경우의 수\n"
   ]
  },
  {
   "cell_type": "markdown",
   "metadata": {},
   "source": [
    "머쓱이는 구슬을 친구들에게 나누어주려고 합니다. 구슬은 모두 다르게 생겼습니다. 머쓱이가 갖고 있는 구슬의 개수 balls와 친구들에게 나누어 줄 구슬 개수 share이 매개변수로 주어질 때, balls개의 구슬 중 share개의 구슬을 고르는 가능한 모든 경우의 수를 return 하는 solution 함수를 완성해주세요.\n",
    "\n"
   ]
  },
  {
   "cell_type": "code",
   "execution_count": 2,
   "metadata": {},
   "outputs": [],
   "source": [
    "def fact_(n) :\n",
    "    ret= 1\n",
    "    for i in range(n) :\n",
    "        ret *= i+1\n",
    "    return ret"
   ]
  },
  {
   "cell_type": "code",
   "execution_count": 3,
   "metadata": {},
   "outputs": [
    {
     "data": {
      "text/plain": [
       "3.0"
      ]
     },
     "execution_count": 3,
     "metadata": {},
     "output_type": "execute_result"
    }
   ],
   "source": [
    "balls= 3\n",
    "share = 2\n",
    "\n",
    "int(fact_(balls) / (fact_(balls-share) * fact_(share)))"
   ]
  },
  {
   "cell_type": "code",
   "execution_count": 4,
   "metadata": {},
   "outputs": [],
   "source": [
    "#타인 코드\n",
    "import math\n",
    "\n",
    "\n",
    "def solution(balls, share):\n",
    "    return math.comb(balls, share)\n",
    "# math의 comb"
   ]
  },
  {
   "attachments": {},
   "cell_type": "markdown",
   "metadata": {},
   "source": [
    "### 79. 외계어 사전\n"
   ]
  },
  {
   "attachments": {},
   "cell_type": "markdown",
   "metadata": {},
   "source": [
    "PROGRAMMERS-962 행성에 불시착한 우주비행사 머쓱이는 외계행성의 언어를 공부하려고 합니다. 알파벳이 담긴 배열 spell과 외계어 사전 dic이 매개변수로 주어집니다. spell에 담긴 알파벳을 한번씩만 모두 사용한 단어가 dic에 존재한다면 1, 존재하지 않는다면 2를 return하도록 solution 함수를 완성해주세요.\n",
    "\n"
   ]
  },
  {
   "cell_type": "code",
   "execution_count": 12,
   "metadata": {},
   "outputs": [],
   "source": [
    "dic =[\"def\", \"dww\", \"dzx\", \"loveaw\"]\n",
    "spell= [\"z\", \"d\", \"x\"]"
   ]
  },
  {
   "cell_type": "code",
   "execution_count": 9,
   "metadata": {},
   "outputs": [],
   "source": [
    "#'1' for d in dic if set(spell) == d else '2'"
   ]
  },
  {
   "cell_type": "code",
   "execution_count": 14,
   "metadata": {},
   "outputs": [],
   "source": [
    "def solution(spell, dic):\n",
    "    for d in dic :\n",
    "        if set(spell) == set(d) :\n",
    "            return 1\n",
    "            \n",
    "        else :\n",
    "            continue\n",
    "    return 2"
   ]
  },
  {
   "cell_type": "code",
   "execution_count": 15,
   "metadata": {},
   "outputs": [],
   "source": [
    "#타인 코드\n",
    "#나와 같이 set을 사용하거나 sort를 이용해서 같으면 1, 다르면 2 이런식으로한거같음"
   ]
  },
  {
   "attachments": {},
   "cell_type": "markdown",
   "metadata": {},
   "source": [
    "### 80. 캐릭터의 좌표\n"
   ]
  },
  {
   "attachments": {},
   "cell_type": "markdown",
   "metadata": {},
   "source": [
    "머쓱이는 RPG게임을 하고 있습니다. 게임에는 up, down, left, right 방향키가 있으며 각 키를 누르면 위, 아래, 왼쪽, 오른쪽으로 한 칸씩 이동합니다. 예를 들어 [0,0]에서 up을 누른다면 캐릭터의 좌표는 [0, 1], down을 누른다면 [0, -1], left를 누른다면 [-1, 0], right를 누른다면 [1, 0]입니다. 머쓱이가 입력한 방향키의 배열 keyinput와 맵의 크기 board이 매개변수로 주어집니다. 캐릭터는 항상 [0,0]에서 시작할 때 키 입력이 모두 끝난 뒤에 캐릭터의 좌표 [x, y]를 return하도록 solution 함수를 완성해주세요.\n",
    "\n",
    "[0, 0]은 board의 정 중앙에 위치합니다. 예를 들어 board의 가로 크기가 9라면 캐릭터는 왼쪽으로 최대 [-4, 0]까지 오른쪽으로 최대 [4, 0]까지 이동할 수 있습니다."
   ]
  },
  {
   "cell_type": "code",
   "execution_count": 27,
   "metadata": {},
   "outputs": [
    {
     "name": "stdout",
     "output_type": "stream",
     "text": [
      "[0, 4]\n"
     ]
    }
   ],
   "source": [
    "answer = [0,0]\n",
    "keyinput = [\"down\", \"down\", \"down\", \"down\", \"down\"]\n",
    "board=[7,9]\n",
    "\n",
    "\n",
    "\n",
    "for k in keyinput :\n",
    "    if k == 'left' :\n",
    "        answer[0] -= 1\n",
    "    elif k == 'right' :\n",
    "        answer[0] += 1\n",
    "    elif k == 'up' :\n",
    "        answer[1] += 1\n",
    "    else :\n",
    "        answer[1] -= 1\n",
    "\n",
    "if abs(answer[0]) > board[0]//2 :\n",
    "    answer[0]=board[0]//2\n",
    "if abs(answer[1]) > board[1]//2 :\n",
    "    answer[1]=board[1]//2\n",
    "print(answer)"
   ]
  },
  {
   "cell_type": "code",
   "execution_count": 17,
   "metadata": {},
   "outputs": [
    {
     "name": "stdout",
     "output_type": "stream",
     "text": [
      "[0, 0]\n"
     ]
    }
   ],
   "source": [
    "print(answer)"
   ]
  },
  {
   "cell_type": "code",
   "execution_count": 18,
   "metadata": {},
   "outputs": [
    {
     "data": {
      "text/plain": [
       "0"
      ]
     },
     "execution_count": 18,
     "metadata": {},
     "output_type": "execute_result"
    }
   ],
   "source": [
    "answer[0]"
   ]
  },
  {
   "cell_type": "code",
   "execution_count": 32,
   "metadata": {},
   "outputs": [],
   "source": [
    "keyinput =[\"left\", \"right\", \"up\", \"right\", \"right\",'down']"
   ]
  },
  {
   "cell_type": "code",
   "execution_count": 37,
   "metadata": {},
   "outputs": [],
   "source": [
    "move_arr=[sorted(keyinput).count(k) for k in set(keyinput) ] # down, left, right, up의 개수"
   ]
  },
  {
   "cell_type": "code",
   "execution_count": 40,
   "metadata": {},
   "outputs": [
    {
     "name": "stdout",
     "output_type": "stream",
     "text": [
      "[2, 0]\n"
     ]
    }
   ],
   "source": [
    "answer=[move_arr[2]-move_arr[1],move_arr[3]-move_arr[0]]\n",
    "print(answer)"
   ]
  },
  {
   "cell_type": "code",
   "execution_count": 67,
   "metadata": {},
   "outputs": [
    {
     "name": "stdout",
     "output_type": "stream",
     "text": [
      "가로 좌표: -1\n",
      "세로 좌표: 0\n"
     ]
    }
   ],
   "source": [
    "keyinput = [\"left\", \"left\", \"left\", \"right\"]\n",
    "key_add = [\"up\",\"down\",\"left\",\"right\"]\n",
    "board=[3,3]\n",
    "\n",
    "move_arr=[sorted(keyinput).count(k) for k in sorted(set(keyinput+key_add))]\n",
    "#print(move_arr)\n",
    "if abs(move_arr[2]-move_arr[1]) <= board[0]//2 :\n",
    "    print('가로 좌표:', move_arr[2]-move_arr[1])\n",
    "elif move_arr[2]-move_arr[1] > board[0]//2 :\n",
    "    print('가로 좌표:', board[0]//2)\n",
    "else :\n",
    "    print('가로 좌표:', board[0]//2*-1)\n",
    "\n",
    "if abs(move_arr[3]-move_arr[0]) <= board[1]//2 :\n",
    "    print('세로 좌표:', move_arr[3]-move_arr[0])\n",
    "elif move_arr[3]-move_arr[0] > board[1]//2 :\n",
    "    print('세로 좌표:', board[1]//2)\n",
    "else :\n",
    "    print('세로 좌표:', board[1]//2*-1)\n",
    "\n",
    "# answer=[move_arr[2]-move_arr[1],move_arr[3]-move_arr[0]]\n",
    "# print(answer)"
   ]
  },
  {
   "cell_type": "code",
   "execution_count": 35,
   "metadata": {},
   "outputs": [
    {
     "data": {
      "text/plain": [
       "['down', 'left', 'right', 'right', 'right', 'up']"
      ]
     },
     "execution_count": 35,
     "metadata": {},
     "output_type": "execute_result"
    }
   ],
   "source": [
    "sorted(keyinput)"
   ]
  },
  {
   "cell_type": "code",
   "execution_count": 45,
   "metadata": {},
   "outputs": [
    {
     "data": {
      "text/plain": [
       "[1, 2, 3, 4]"
      ]
     },
     "execution_count": 45,
     "metadata": {},
     "output_type": "execute_result"
    }
   ],
   "source": [
    "l1 = [1,2]\n",
    "l2 = [3,4]\n",
    "l1+l2"
   ]
  },
  {
   "cell_type": "code",
   "execution_count": null,
   "metadata": {},
   "outputs": [],
   "source": [
    "def solution (keyinput, board):\n",
    "    result=[0,0] ; row = board[0] ; col = board[1]\n",
    "    for move in keyinput :\n",
    "        if (move=='right' and result[0] < row//2) :\n",
    "            result[0] += 1\n",
    "        elif (move=='left' and result[0] > -(row//2)) :\n",
    "            result[0] -= 1\n",
    "        elif (move=='up' and result[1] < col//2) :\n",
    "            result[1] += 1\n",
    "        elif (move=='down' and result[1] < -(col//2)) :\n",
    "            result[1] -= 1\n",
    "    return result"
   ]
  }
 ],
 "metadata": {
  "kernelspec": {
   "display_name": "base",
   "language": "python",
   "name": "python3"
  },
  "language_info": {
   "codemirror_mode": {
    "name": "ipython",
    "version": 3
   },
   "file_extension": ".py",
   "mimetype": "text/x-python",
   "name": "python",
   "nbconvert_exporter": "python",
   "pygments_lexer": "ipython3",
   "version": "3.9.13"
  },
  "orig_nbformat": 4,
  "vscode": {
   "interpreter": {
    "hash": "cef5bb54941aca950c93b0ced18fcc5cb49b2d36f6c89d37f011af61e4a6718a"
   }
  }
 },
 "nbformat": 4,
 "nbformat_minor": 2
}
