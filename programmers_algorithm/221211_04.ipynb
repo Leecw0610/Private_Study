{
 "cells": [
  {
   "attachments": {},
   "cell_type": "markdown",
   "metadata": {},
   "source": [
    "### 73. 잘라서 배열로 저장하기\n"
   ]
  },
  {
   "attachments": {},
   "cell_type": "markdown",
   "metadata": {},
   "source": [
    "문자열 my_str과 n이 매개변수로 주어질 때, my_str을 길이 n씩 잘라서 저장한 배열을 return하도록 solution 함수를 완성해주세요."
   ]
  },
  {
   "cell_type": "code",
   "execution_count": 36,
   "metadata": {},
   "outputs": [
    {
     "name": "stdout",
     "output_type": "stream",
     "text": [
      "0\n",
      "['abc1Ad']\n",
      "1\n",
      "['abc1Ad', 'dfggg4']\n",
      "['abc1Ad', 'dfggg4', '556b']\n",
      "['abc1Ad', 'dfggg4', '556b']\n"
     ]
    }
   ],
   "source": [
    "my_str = \"abc1Addfggg4556b\"\n",
    "n= 6\n",
    "len(my_str)//n\n",
    "\n",
    "answer=[]\n",
    "# my_str[0:6] + my_str[6:12] + my_str[12:18]\n",
    "# my_str[n*0:n*1] + my_str[n*1:n*2]+my_str[n*2:n*3]\n",
    "for i in range(len(my_str)//n):\n",
    "    print(i)\n",
    "    answer.append(my_str[n*i:n*(i+1)])\n",
    "    print(answer)\n",
    "if len(my_str) % n != 0 :\n",
    "    answer.append(my_str[n*(i+1):])\n",
    "    print(answer)\n",
    "print(answer)\n"
   ]
  },
  {
   "cell_type": "code",
   "execution_count": 15,
   "metadata": {},
   "outputs": [
    {
     "data": {
      "text/plain": [
       "16"
      ]
     },
     "execution_count": 15,
     "metadata": {},
     "output_type": "execute_result"
    }
   ],
   "source": [
    "len(my_str)"
   ]
  },
  {
   "cell_type": "code",
   "execution_count": 38,
   "metadata": {},
   "outputs": [
    {
     "name": "stdout",
     "output_type": "stream",
     "text": [
      "0\n",
      "6\n",
      "12\n"
     ]
    }
   ],
   "source": [
    "for i in range(0,16,6):\n",
    "    print(i)"
   ]
  },
  {
   "cell_type": "code",
   "execution_count": 37,
   "metadata": {},
   "outputs": [
    {
     "data": {
      "text/plain": [
       "['abc1Ad', 'dfggg4', '556b']"
      ]
     },
     "execution_count": 37,
     "metadata": {},
     "output_type": "execute_result"
    }
   ],
   "source": [
    "#타인 코드\n",
    "[my_str[i: i + n] for i in range(0, len(my_str), n)]\n",
    "#list comprehension"
   ]
  },
  {
   "attachments": {},
   "cell_type": "markdown",
   "metadata": {},
   "source": [
    "### 74. 소인수 분해\n"
   ]
  },
  {
   "attachments": {},
   "cell_type": "markdown",
   "metadata": {},
   "source": [
    "소인수분해란 어떤 수를 소수들의 곱으로 표현하는 것입니다. 예를 들어 12를 소인수 분해하면 2 * 2 * 3 으로 나타낼 수 있습니다. 따라서 12의 소인수는 2와 3입니다. 자연수 n이 매개변수로 주어질 때 n의 소인수를 오름차순으로 담은 배열을 return하도록 solution 함수를 완성해주세요."
   ]
  },
  {
   "cell_type": "code",
   "execution_count": 75,
   "metadata": {},
   "outputs": [
    {
     "name": "stdout",
     "output_type": "stream",
     "text": [
      "[2, 3, 4, 5, 6, 7, 10, 12, 14, 15, 20, 21, 28, 30, 35, 42, 60, 70, 84]\n",
      "4 이 수는 소수가 아닙니다.\n",
      "6 이 수는 소수가 아닙니다.\n",
      "10 이 수는 소수가 아닙니다.\n",
      "14 이 수는 소수가 아닙니다.\n",
      "20 이 수는 소수가 아닙니다.\n",
      "28 이 수는 소수가 아닙니다.\n",
      "35 이 수는 소수가 아닙니다.\n",
      "60 이 수는 소수가 아닙니다.\n",
      "84 이 수는 소수가 아닙니다.\n",
      "[2, 3, 5, 7, 12, 15, 21, 30, 42, 70]\n",
      "12 이 수는 소수가 아닙니다.\n",
      "21 이 수는 소수가 아닙니다.\n",
      "42 이 수는 소수가 아닙니다.\n",
      "[2, 3, 5, 7, 15, 30, 70]\n",
      "15 이 수는 소수가 아닙니다.\n",
      "70 이 수는 소수가 아닙니다.\n",
      "[2, 3, 5, 7, 30]\n",
      "30 이 수는 소수가 아닙니다.\n",
      "[2, 3, 5, 7]\n"
     ]
    }
   ],
   "source": [
    "n=420\n",
    "answer = []\n",
    "for i in range(2,100):\n",
    "    #print(i)\n",
    "    while True:\n",
    "        if n % i == 0 :\n",
    "            answer.append(i)\n",
    "            break\n",
    "        else :\n",
    "            break\n",
    "print(answer)\n",
    "for j in answer :\n",
    "#    print(j)\n",
    "    for k in range(2, j):\n",
    "        # print(j,k)\n",
    "        if j % k == 0 :\n",
    "            try :\n",
    "                answer.remove(j)\n",
    "                print(j,'이 수는 소수가 아닙니다.')\n",
    "                break\n",
    "            except :\n",
    "                pass\n",
    "print(answer)\n",
    "for j in answer :\n",
    "    #    print(j)\n",
    "    for k in range(2, j):\n",
    "        # print(j,k)\n",
    "        if j % k == 0 :\n",
    "            try :\n",
    "                answer.remove(j)\n",
    "                print(j,'이 수는 소수가 아닙니다.')\n",
    "                break\n",
    "            except :\n",
    "                pass\n",
    "print(answer)\n",
    "for j in answer :\n",
    "    #    print(j)\n",
    "    for k in range(2, j):\n",
    "        # print(j,k)\n",
    "        if j % k == 0 :\n",
    "            try :\n",
    "                answer.remove(j)\n",
    "                print(j,'이 수는 소수가 아닙니다.')\n",
    "                break\n",
    "            except :\n",
    "                pass\n",
    "print(answer)\n",
    "for j in answer :\n",
    "    #    print(j)\n",
    "    for k in range(2, j):\n",
    "        # print(j,k)\n",
    "        if j % k == 0 :\n",
    "            try :\n",
    "                answer.remove(j)\n",
    "                print(j,'이 수는 소수가 아닙니다.')\n",
    "                break\n",
    "            except :\n",
    "                pass\n",
    "print(answer)"
   ]
  },
  {
   "cell_type": "code",
   "execution_count": 76,
   "metadata": {},
   "outputs": [],
   "source": [
    "import re"
   ]
  },
  {
   "cell_type": "code",
   "execution_count": 91,
   "metadata": {},
   "outputs": [],
   "source": [
    "temp=[]\n",
    "for i in range(int(n**0.5+1))[2:]:\n",
    "    temp.append(i)\n",
    "    #print(i)\n",
    "    for j in range(i)[2:] :\n",
    "        #print(i,j)\n",
    "        if i % j == 0 :\n",
    "            temp.remove(i)\n",
    "            break"
   ]
  },
  {
   "cell_type": "code",
   "execution_count": 92,
   "metadata": {},
   "outputs": [
    {
     "data": {
      "text/plain": [
       "[2, 3, 5, 7, 11, 13, 17, 19]"
      ]
     },
     "execution_count": 92,
     "metadata": {},
     "output_type": "execute_result"
    }
   ],
   "source": [
    "temp"
   ]
  },
  {
   "cell_type": "code",
   "execution_count": 122,
   "metadata": {},
   "outputs": [
    {
     "name": "stdout",
     "output_type": "stream",
     "text": [
      "[2, 3, 5, 7]\n"
     ]
    }
   ],
   "source": [
    "n=420\n",
    "answer=[]\n",
    "for i in range(2,n+1):\n",
    "    if n % i == 0 :\n",
    "        answer.append(i)\n",
    "        while True:\n",
    "            if n%i == 0 :\n",
    "                n=n/i\n",
    "            else :\n",
    "                break\n",
    "        #print(i,int(n))\n",
    "        \n",
    "        \n",
    "print(answer)"
   ]
  },
  {
   "cell_type": "code",
   "execution_count": 116,
   "metadata": {},
   "outputs": [
    {
     "data": {
      "text/plain": [
       "[2,\n",
       " 3,\n",
       " 4,\n",
       " 5,\n",
       " 6,\n",
       " 7,\n",
       " 10,\n",
       " 12,\n",
       " 14,\n",
       " 15,\n",
       " 20,\n",
       " 21,\n",
       " 28,\n",
       " 30,\n",
       " 35,\n",
       " 42,\n",
       " 60,\n",
       " 70,\n",
       " 84,\n",
       " 105,\n",
       " 140,\n",
       " 210,\n",
       " 420]"
      ]
     },
     "execution_count": 116,
     "metadata": {},
     "output_type": "execute_result"
    }
   ],
   "source": [
    "# 코드 간략히!\n",
    "n=420\n",
    "[i  for i in range(2,n+1) if n%i==0]"
   ]
  },
  {
   "attachments": {},
   "cell_type": "markdown",
   "metadata": {},
   "source": [
    "### 75. 영어가 싫어요\n"
   ]
  },
  {
   "attachments": {},
   "cell_type": "markdown",
   "metadata": {},
   "source": [
    "영어가 싫은 머쓱이는 영어로 표기되어있는 숫자를 수로 바꾸려고 합니다. 문자열 numbers가 매개변수로 주어질 때, numbers를 정수로 바꿔 return 하도록 solution 함수를 완성해 주세요."
   ]
  },
  {
   "cell_type": "code",
   "execution_count": 123,
   "metadata": {},
   "outputs": [],
   "source": [
    "numbers=\"onetwothreefourfivesixseveneightnine\""
   ]
  },
  {
   "cell_type": "code",
   "execution_count": 124,
   "metadata": {},
   "outputs": [],
   "source": [
    "nums =[\"zero\",\"one\",\"two\",\"three\",\"four\",\"five\",\"six\",\"seven\",\"eight\",\"nine\"]"
   ]
  },
  {
   "cell_type": "code",
   "execution_count": 125,
   "metadata": {},
   "outputs": [
    {
     "name": "stdout",
     "output_type": "stream",
     "text": [
      "123456789\n"
     ]
    }
   ],
   "source": [
    "for index, num in enumerate(nums) :\n",
    "    numbers= numbers.replace(num,str(index))\n",
    "print(numbers)"
   ]
  },
  {
   "attachments": {},
   "cell_type": "markdown",
   "metadata": {},
   "source": [
    "### 76. 종이 자르기\n"
   ]
  },
  {
   "attachments": {},
   "cell_type": "markdown",
   "metadata": {},
   "source": [
    "머쓱이는 큰 종이를 1 x 1 크기로 자르려고 합니다. 예를 들어 2 x 2 크기의 종이를 1 x 1 크기로 자르려면 최소 가위질 세 번이 필요합니다.\n",
    "\n"
   ]
  },
  {
   "cell_type": "code",
   "execution_count": null,
   "metadata": {},
   "outputs": [],
   "source": [
    "answer = M*N -1\n",
    "#너무 직관적이라 코드 짤것도없다.."
   ]
  },
  {
   "attachments": {},
   "cell_type": "markdown",
   "metadata": {},
   "source": [
    "### 77. 문자열 계산하기\n"
   ]
  },
  {
   "attachments": {},
   "cell_type": "markdown",
   "metadata": {},
   "source": [
    "my_string은 \"3 + 5\"처럼 문자열로 된 수식입니다. 문자열 my_string이 매개변수로 주어질 때, 수식을 계산한 값을 return 하는 solution 함수를 완성해주세요."
   ]
  },
  {
   "cell_type": "code",
   "execution_count": null,
   "metadata": {},
   "outputs": [],
   "source": []
  },
  {
   "cell_type": "code",
   "execution_count": null,
   "metadata": {},
   "outputs": [],
   "source": []
  },
  {
   "cell_type": "code",
   "execution_count": null,
   "metadata": {},
   "outputs": [],
   "source": []
  },
  {
   "cell_type": "code",
   "execution_count": null,
   "metadata": {},
   "outputs": [],
   "source": []
  },
  {
   "cell_type": "code",
   "execution_count": null,
   "metadata": {},
   "outputs": [],
   "source": []
  },
  {
   "cell_type": "code",
   "execution_count": null,
   "metadata": {},
   "outputs": [],
   "source": []
  },
  {
   "attachments": {},
   "cell_type": "markdown",
   "metadata": {},
   "source": [
    "### 78. 구슬을 나누는 경우의 수\n"
   ]
  },
  {
   "attachments": {},
   "cell_type": "markdown",
   "metadata": {},
   "source": [
    "이진수를 의미하는 두 개의 문자열 bin1과 bin2가 매개변수로 주어질 때, 두 이진수의 합을 return하도록 solution 함수를 완성해주세요."
   ]
  },
  {
   "cell_type": "code",
   "execution_count": null,
   "metadata": {},
   "outputs": [],
   "source": []
  },
  {
   "cell_type": "code",
   "execution_count": null,
   "metadata": {},
   "outputs": [],
   "source": []
  },
  {
   "cell_type": "code",
   "execution_count": null,
   "metadata": {},
   "outputs": [],
   "source": []
  },
  {
   "cell_type": "code",
   "execution_count": null,
   "metadata": {},
   "outputs": [],
   "source": []
  },
  {
   "cell_type": "code",
   "execution_count": null,
   "metadata": {},
   "outputs": [],
   "source": []
  },
  {
   "cell_type": "code",
   "execution_count": null,
   "metadata": {},
   "outputs": [],
   "source": []
  },
  {
   "attachments": {},
   "cell_type": "markdown",
   "metadata": {},
   "source": [
    "### 79. 외계어 사전\n"
   ]
  },
  {
   "attachments": {},
   "cell_type": "markdown",
   "metadata": {},
   "source": [
    "이진수를 의미하는 두 개의 문자열 bin1과 bin2가 매개변수로 주어질 때, 두 이진수의 합을 return하도록 solution 함수를 완성해주세요."
   ]
  },
  {
   "cell_type": "code",
   "execution_count": null,
   "metadata": {},
   "outputs": [],
   "source": []
  },
  {
   "cell_type": "code",
   "execution_count": null,
   "metadata": {},
   "outputs": [],
   "source": []
  },
  {
   "cell_type": "code",
   "execution_count": null,
   "metadata": {},
   "outputs": [],
   "source": []
  },
  {
   "cell_type": "code",
   "execution_count": null,
   "metadata": {},
   "outputs": [],
   "source": []
  },
  {
   "cell_type": "code",
   "execution_count": null,
   "metadata": {},
   "outputs": [],
   "source": []
  },
  {
   "attachments": {},
   "cell_type": "markdown",
   "metadata": {},
   "source": [
    "### 80. 캐릭터의 좌표\n"
   ]
  },
  {
   "attachments": {},
   "cell_type": "markdown",
   "metadata": {},
   "source": [
    "이진수를 의미하는 두 개의 문자열 bin1과 bin2가 매개변수로 주어질 때, 두 이진수의 합을 return하도록 solution 함수를 완성해주세요."
   ]
  },
  {
   "cell_type": "code",
   "execution_count": null,
   "metadata": {},
   "outputs": [],
   "source": []
  },
  {
   "cell_type": "code",
   "execution_count": null,
   "metadata": {},
   "outputs": [],
   "source": []
  },
  {
   "cell_type": "code",
   "execution_count": null,
   "metadata": {},
   "outputs": [],
   "source": []
  },
  {
   "cell_type": "code",
   "execution_count": null,
   "metadata": {},
   "outputs": [],
   "source": []
  },
  {
   "cell_type": "code",
   "execution_count": null,
   "metadata": {},
   "outputs": [],
   "source": []
  },
  {
   "attachments": {},
   "cell_type": "markdown",
   "metadata": {},
   "source": [
    "### 81. 컨트롤 제트\n"
   ]
  },
  {
   "attachments": {},
   "cell_type": "markdown",
   "metadata": {},
   "source": [
    "이진수를 의미하는 두 개의 문자열 bin1과 bin2가 매개변수로 주어질 때, 두 이진수의 합을 return하도록 solution 함수를 완성해주세요."
   ]
  },
  {
   "cell_type": "code",
   "execution_count": null,
   "metadata": {},
   "outputs": [],
   "source": []
  },
  {
   "cell_type": "code",
   "execution_count": null,
   "metadata": {},
   "outputs": [],
   "source": []
  },
  {
   "cell_type": "code",
   "execution_count": null,
   "metadata": {},
   "outputs": [],
   "source": []
  },
  {
   "cell_type": "code",
   "execution_count": null,
   "metadata": {},
   "outputs": [],
   "source": []
  },
  {
   "cell_type": "code",
   "execution_count": null,
   "metadata": {},
   "outputs": [],
   "source": []
  }
 ],
 "metadata": {
  "kernelspec": {
   "display_name": "base",
   "language": "python",
   "name": "python3"
  },
  "language_info": {
   "codemirror_mode": {
    "name": "ipython",
    "version": 3
   },
   "file_extension": ".py",
   "mimetype": "text/x-python",
   "name": "python",
   "nbconvert_exporter": "python",
   "pygments_lexer": "ipython3",
   "version": "3.9.13"
  },
  "orig_nbformat": 4,
  "vscode": {
   "interpreter": {
    "hash": "cef5bb54941aca950c93b0ced18fcc5cb49b2d36f6c89d37f011af61e4a6718a"
   }
  }
 },
 "nbformat": 4,
 "nbformat_minor": 2
}
