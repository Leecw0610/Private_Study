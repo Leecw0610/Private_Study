{
 "cells": [
  {
   "attachments": {},
   "cell_type": "markdown",
   "metadata": {},
   "source": [
    "### 131. 같은 숫자는 싫어"
   ]
  },
  {
   "attachments": {},
   "cell_type": "markdown",
   "metadata": {},
   "source": [
    "배열 arr가 주어집니다. 배열 arr의 각 원소는 숫자 0부터 9까지로 이루어져 있습니다. 이때, 배열 arr에서 연속적으로 나타나는 숫자는 하나만 남기고 전부 제거하려고 합니다. 단, 제거된 후 남은 수들을 반환할 때는 배열 arr의 원소들의 순서를 유지해야 합니다. 예를 들면,\n",
    "\n",
    "- arr = [1, 1, 3, 3, 0, 1, 1] 이면 [1, 3, 0, 1] 을 return 합니다.\n",
    "- arr = [4, 4, 4, 3, 3] 이면 [4, 3] 을 return 합니다.\n",
    "\n",
    "배열 arr에서 연속적으로 나타나는 숫자는 제거하고 남은 수들을 return 하는 solution 함수를 완성해 주세요."
   ]
  },
  {
   "cell_type": "code",
   "execution_count": 13,
   "metadata": {},
   "outputs": [
    {
     "data": {
      "text/plain": [
       "[1]"
      ]
     },
     "execution_count": 13,
     "metadata": {},
     "output_type": "execute_result"
    }
   ],
   "source": [
    "arr = [1,1,3,3,0,1,1]\n",
    "\n",
    "arr[-1:]\n",
    "# for a in range(len(arr)+1)[1:]:\n",
    "#     print(a)\n",
    "    # if arr[a]==arr([a-1]) :\n",
    "    #     arr.remove(arr[a-1])\n"
   ]
  },
  {
   "cell_type": "code",
   "execution_count": 7,
   "metadata": {},
   "outputs": [
    {
     "data": {
      "text/plain": [
       "[2, 3]"
      ]
     },
     "execution_count": 7,
     "metadata": {},
     "output_type": "execute_result"
    }
   ],
   "source": [
    "lis=[1,2,3]\n",
    "\n",
    "lis.remove(1)\n",
    "lis"
   ]
  },
  {
   "attachments": {},
   "cell_type": "markdown",
   "metadata": {},
   "source": [
    "### 132. 3진법 뒤집기"
   ]
  },
  {
   "attachments": {},
   "cell_type": "markdown",
   "metadata": {},
   "source": [
    "자연수 n이 매개변수로 주어집니다. n을 3진법 상에서 앞뒤로 뒤집은 후, 이를 다시 10진법으로 표현한 수를 return 하도록 solution 함수를 완성해주세요."
   ]
  },
  {
   "cell_type": "code",
   "execution_count": 15,
   "metadata": {},
   "outputs": [
    {
     "data": {
      "text/plain": [
       "7"
      ]
     },
     "execution_count": 15,
     "metadata": {},
     "output_type": "execute_result"
    }
   ],
   "source": [
    "n = 45\n",
    "\n",
    "def solution(n):\n",
    "    answer = ''\n",
    "\n",
    "    while n >= 1:\n",
    "        n, rest = divmod(n, 3)\n",
    "        answer += str(rest)\n",
    "\n",
    "    answer = int(answer, 3)\n",
    "\n",
    "    return answer\n",
    "\n",
    "solution(45)"
   ]
  },
  {
   "attachments": {},
   "cell_type": "markdown",
   "metadata": {},
   "source": [
    "### 133. 예산"
   ]
  },
  {
   "attachments": {},
   "cell_type": "markdown",
   "metadata": {},
   "source": [
    "S사에서는 각 부서에 필요한 물품을 지원해 주기 위해 부서별로 물품을 구매하는데 필요한 금액을 조사했습니다. 그러나, 전체 예산이 정해져 있기 때문에 모든 부서의 물품을 구매해 줄 수는 없습니다. 그래서 최대한 많은 부서의 물품을 구매해 줄 수 있도록 하려고 합니다.\n",
    "\n",
    "물품을 구매해 줄 때는 각 부서가 신청한 금액만큼을 모두 지원해 줘야 합니다. 예를 들어 1,000원을 신청한 부서에는 정확히 1,000원을 지원해야 하며, 1,000원보다 적은 금액을 지원해 줄 수는 없습니다.\n",
    "\n",
    "부서별로 신청한 금액이 들어있는 배열 d와 예산 budget이 매개변수로 주어질 때, 최대 몇 개의 부서에 물품을 지원할 수 있는지 return 하도록 solution 함수를 완성해주세요.\n",
    "\n",
    "- d는 부서별로 신청한 금액이 들어있는 배열이며, 길이(전체 부서의 개수)는 1 이상 100 이하입니다.\n",
    "\n",
    "- d의 각 원소는 부서별로 신청한 금액을 나타내며, 부서별 신청 금액은 1 이상 100,000 이하의 자연수입니다.\n",
    "\n",
    "- budget은 예산을 나타내며, 1 이상 10,000,000 이하의 자연수입니다."
   ]
  },
  {
   "cell_type": "code",
   "execution_count": 32,
   "metadata": {},
   "outputs": [
    {
     "name": "stdout",
     "output_type": "stream",
     "text": [
      "-1\n",
      "3\n"
     ]
    }
   ],
   "source": [
    "d = [1,3,2,5,4]\n",
    "budget = 9\n",
    "\n",
    "sorted(d) \n",
    "\n",
    "req_money=0\n",
    "for i in sorted(d):\n",
    "    budget-= i\n",
    "    if 0 > budget :\n",
    "        print(budget)\n",
    "        break\n",
    "    req_money +=1\n",
    "    \n",
    "print(req_money)"
   ]
  },
  {
   "cell_type": "code",
   "execution_count": 33,
   "metadata": {},
   "outputs": [
    {
     "data": {
      "text/plain": [
       "3"
      ]
     },
     "execution_count": 33,
     "metadata": {},
     "output_type": "execute_result"
    }
   ],
   "source": [
    "d = [2,2,3,3]\n",
    "budget = 10\n",
    "\n",
    "d.pop()"
   ]
  },
  {
   "cell_type": "code",
   "execution_count": 34,
   "metadata": {},
   "outputs": [],
   "source": [
    "#타 코\n",
    "def solution(d, budget):\n",
    "    d.sort()\n",
    "    while budget < sum(d):\n",
    "        d.pop()\n",
    "    return len(d)\n",
    "# 가장 큰 지원 요청을 하는 부서를 하나씩 제외하면서(pop)\n",
    "# 지원요청금액의 합이 예산보다 적어지는 시점에서의 부서개수를 반환..  "
   ]
  },
  {
   "attachments": {},
   "cell_type": "markdown",
   "metadata": {},
   "source": [
    "### 134. 시저 암호"
   ]
  },
  {
   "attachments": {},
   "cell_type": "markdown",
   "metadata": {},
   "source": [
    "어떤 문장의 각 알파벳을 일정한 거리만큼 밀어서 다른 알파벳으로 바꾸는 암호화 방식을 시저 암호라고 합니다. 예를 들어 \"AB\"는 1만큼 밀면 \"BC\"가 되고, 3만큼 밀면 \"DE\"가 됩니다. \"z\"는 1만큼 밀면 \"a\"가 됩니다. 문자열 s와 거리 n을 입력받아 s를 n만큼 민 암호문을 만드는 함수, solution을 완성해 보세요."
   ]
  },
  {
   "cell_type": "code",
   "execution_count": 75,
   "metadata": {},
   "outputs": [],
   "source": [
    "s, n = \"AB\" , 5\n",
    "\n",
    "char = \"ABCDEFGHIJKLMNOPQRSTUVWXYZ\"\n",
    "\n",
    "\n",
    "def move_char(n):\n",
    "    new_char =\"\"\n",
    "    for c in char:\n",
    "        try :\n",
    "            #print(char[char.index(c)+1])\n",
    "            new_char+= char[char.index(c)+n]\n",
    "        except :\n",
    "            continue\n",
    "    #print(char[:1])\n",
    "    new_char+= char[:n]\n",
    "    return new_char\n",
    "\n",
    "\n",
    "\n",
    "\n",
    "\n",
    "# len(char)\n",
    "# res=list(map(move_char,char))\n",
    "# print(res)\n"
   ]
  },
  {
   "cell_type": "code",
   "execution_count": 76,
   "metadata": {},
   "outputs": [
    {
     "data": {
      "text/plain": [
       "'CDEFGHIJKLMNOPQRSTUVWXYZAB'"
      ]
     },
     "execution_count": 76,
     "metadata": {},
     "output_type": "execute_result"
    }
   ],
   "source": [
    "move_char(2)"
   ]
  },
  {
   "cell_type": "code",
   "execution_count": 81,
   "metadata": {},
   "outputs": [
    {
     "ename": "TypeError",
     "evalue": "slice indices must be integers or None or have an __index__ method",
     "output_type": "error",
     "traceback": [
      "\u001b[1;31m---------------------------------------------------------------------------\u001b[0m",
      "\u001b[1;31mTypeError\u001b[0m                                 Traceback (most recent call last)",
      "\u001b[1;32m~\\AppData\\Local\\Temp\\ipykernel_11892\\3329120031.py\u001b[0m in \u001b[0;36m<module>\u001b[1;34m\u001b[0m\n\u001b[1;32m----> 1\u001b[1;33m \u001b[0mresult1\u001b[0m\u001b[1;33m=\u001b[0m \u001b[0mlist\u001b[0m\u001b[1;33m(\u001b[0m\u001b[0mmap\u001b[0m\u001b[1;33m(\u001b[0m\u001b[0mmove_char\u001b[0m\u001b[1;33m,\u001b[0m \u001b[1;33m[\u001b[0m\u001b[0ms\u001b[0m\u001b[1;33m]\u001b[0m\u001b[1;33m)\u001b[0m\u001b[1;33m)\u001b[0m\u001b[1;33m\u001b[0m\u001b[1;33m\u001b[0m\u001b[0m\n\u001b[0m",
      "\u001b[1;32m~\\AppData\\Local\\Temp\\ipykernel_11892\\2104840592.py\u001b[0m in \u001b[0;36mmove_char\u001b[1;34m(n)\u001b[0m\n\u001b[0;32m     13\u001b[0m             \u001b[1;32mcontinue\u001b[0m\u001b[1;33m\u001b[0m\u001b[1;33m\u001b[0m\u001b[0m\n\u001b[0;32m     14\u001b[0m     \u001b[1;31m#print(char[:1])\u001b[0m\u001b[1;33m\u001b[0m\u001b[1;33m\u001b[0m\u001b[0m\n\u001b[1;32m---> 15\u001b[1;33m     \u001b[0mnew_char\u001b[0m\u001b[1;33m+=\u001b[0m \u001b[0mchar\u001b[0m\u001b[1;33m[\u001b[0m\u001b[1;33m:\u001b[0m\u001b[0mn\u001b[0m\u001b[1;33m]\u001b[0m\u001b[1;33m\u001b[0m\u001b[1;33m\u001b[0m\u001b[0m\n\u001b[0m\u001b[0;32m     16\u001b[0m     \u001b[1;32mreturn\u001b[0m \u001b[0mnew_char\u001b[0m\u001b[1;33m\u001b[0m\u001b[1;33m\u001b[0m\u001b[0m\n\u001b[0;32m     17\u001b[0m \u001b[1;33m\u001b[0m\u001b[0m\n",
      "\u001b[1;31mTypeError\u001b[0m: slice indices must be integers or None or have an __index__ method"
     ]
    }
   ],
   "source": [
    "result1= list(map(move_char, [s]))"
   ]
  },
  {
   "cell_type": "code",
   "execution_count": 83,
   "metadata": {},
   "outputs": [],
   "source": [
    "def solution(s, n):\n",
    "    low = \"abcdefghijklmnopqrstuvwxyz\" \n",
    "    up = \"ABCDEFGHIJKLMNOPQRSTUVWXYZ\"\n",
    "    answer = ''\n",
    "    for char in s:\n",
    "        if char in low:\n",
    "            ind = low.find(char)+n \n",
    "            answer += low[ind%26] \n",
    "        elif char in up:\n",
    "            ind = up.find(char)+n\n",
    "            answer += up[ind%26]\n",
    "        else: \n",
    "            answer += \" \"\n",
    "    return answer\n",
    "    \n"
   ]
  },
  {
   "attachments": {},
   "cell_type": "markdown",
   "metadata": {},
   "source": [
    "### 135. 최소직사각형"
   ]
  },
  {
   "attachments": {},
   "cell_type": "markdown",
   "metadata": {},
   "source": [
    "명함 지갑을 만드는 회사에서 지갑의 크기를 정하려고 합니다. 다양한 모양과 크기의 명함들을 모두 수납할 수 있으면서, 작아서 들고 다니기 편한 지갑을 만들어야 합니다. 이러한 요건을 만족하는 지갑을 만들기 위해 디자인팀은 모든 명함의 가로 길이와 세로 길이를 조사했습니다.\n",
    "\n",
    "아래 표는 4가지 명함의 가로 길이와 세로 길이를 나타냅니다.\n",
    "\n",
    "\n",
    "|명함 번호|\t가로 길이|\t세로 길이|\n",
    "|:---:|:---:|:---:|\n",
    "|1\t|60|\t50|\n",
    "|2|\t30\t|70|\n",
    "|3|\t60\t|30|\n",
    "|4|\t80\t|40|\n",
    "가장 긴 가로 길이와 세로 길이가 각각 80, 70이기 때문에 80(가로) x 70(세로) 크기의 지갑을 만들면 모든 명함들을 수납할 수 있습니다. 하지만 2번 명함을 가로로 눕혀 수납한다면 80(가로) x 50(세로) 크기의 지갑으로 모든 명함들을 수납할 수 있습니다. 이때의 지갑 크기는 4000(=80 x 50)입니다.\n",
    "\n",
    "모든 명함의 가로 길이와 세로 길이를 나타내는 2차원 배열 sizes가 매개변수로 주어집니다. 모든 명함을 수납할 수 있는 가장 작은 지갑을 만들 때, 지갑의 크기를 return 하도록 solution 함수를 완성해주세요."
   ]
  },
  {
   "cell_type": "code",
   "execution_count": 85,
   "metadata": {},
   "outputs": [
    {
     "name": "stdout",
     "output_type": "stream",
     "text": [
      "60\n",
      "50\n",
      "30\n",
      "70\n",
      "60\n",
      "30\n",
      "80\n",
      "40\n"
     ]
    }
   ],
   "source": [
    "width = 0\n",
    "height = 0\n",
    "\n",
    "sizes = [[60, 50], [30, 70], [60, 30], [80, 40]]\n",
    "\n",
    "for i in sizes:\n",
    "    #print(i)\n",
    "    for j in i:\n",
    "        print(j)"
   ]
  },
  {
   "cell_type": "code",
   "execution_count": 91,
   "metadata": {},
   "outputs": [
    {
     "data": {
      "text/plain": [
       "80"
      ]
     },
     "execution_count": 91,
     "metadata": {},
     "output_type": "execute_result"
    }
   ],
   "source": [
    "sizes = [[60, 50], [30, 70], [60, 30], [80, 40]]\n",
    "\n",
    "max([j for i in sizes for j in i])"
   ]
  },
  {
   "cell_type": "code",
   "execution_count": 97,
   "metadata": {},
   "outputs": [
    {
     "data": {
      "text/plain": [
       "80"
      ]
     },
     "execution_count": 97,
     "metadata": {},
     "output_type": "execute_result"
    }
   ],
   "source": [
    "sorted([j for i in sizes for j in i]).pop()"
   ]
  },
  {
   "cell_type": "code",
   "execution_count": 103,
   "metadata": {},
   "outputs": [
    {
     "data": {
      "text/plain": [
       "[30, 30, 40, 50, 60, 60, 70]"
      ]
     },
     "execution_count": 103,
     "metadata": {},
     "output_type": "execute_result"
    }
   ],
   "source": [
    "sorted([j for i in sizes for j in i])[:-1]\n",
    "# 가장 큰 명함 한 축을 뺀 나머지 길이들"
   ]
  },
  {
   "cell_type": "code",
   "execution_count": 109,
   "metadata": {},
   "outputs": [
    {
     "data": {
      "text/plain": [
       "'각 항목의 큰값들을 제외하고 난 나머지 값 중 가장큰값과 곱하면 지갑면적이다.'"
      ]
     },
     "execution_count": 109,
     "metadata": {},
     "output_type": "execute_result"
    }
   ],
   "source": [
    "\"\"\"각 항목의 큰값들을 제외하고 난 나머지 값 중 가장큰값과 곱하면 지갑면적이다.\"\"\""
   ]
  },
  {
   "cell_type": "code",
   "execution_count": 113,
   "metadata": {},
   "outputs": [
    {
     "name": "stdout",
     "output_type": "stream",
     "text": [
      "50\n",
      "30\n",
      "30\n",
      "40\n"
     ]
    }
   ],
   "source": [
    "for s in sizes :\n",
    "    print(sorted(s)[0])"
   ]
  },
  {
   "cell_type": "code",
   "execution_count": 115,
   "metadata": {},
   "outputs": [
    {
     "data": {
      "text/plain": [
       "4000"
      ]
     },
     "execution_count": 115,
     "metadata": {},
     "output_type": "execute_result"
    }
   ],
   "source": [
    "max([j for i in sizes for j in i]) * max([sorted(s)[0] for s in sizes])"
   ]
  },
  {
   "cell_type": "code",
   "execution_count": null,
   "metadata": {},
   "outputs": [],
   "source": [
    "#타 코 1번\n",
    "max(max(x) for x in sizes) * max(min(x) for x in sizes)\n",
    "# 결국 내가 한것과 의미는 동일한데 더 직관적이다. min max 잘 사용하자!"
   ]
  },
  {
   "cell_type": "code",
   "execution_count": 116,
   "metadata": {},
   "outputs": [],
   "source": [
    "#타 코 2번\n",
    "solution = lambda sizes: max(sum(sizes, [])) * max(min(size) for size in sizes)\n",
    "# 내가 푼것의 첫번째 max([j for i in sizes for j in i])를 max(sum(sizes,[]))로 줄일 수 있다는 것을 처음 알았다. sum의 재발견.. sum의 매개변수로 빈리스트를 넣어서 sizes의 요소를 1차원으로 풀어 리스트에 담는다 이해하면될듯.."
   ]
  },
  {
   "attachments": {},
   "cell_type": "markdown",
   "metadata": {},
   "source": [
    "### 136. 비밀지도"
   ]
  },
  {
   "attachments": {},
   "cell_type": "markdown",
   "metadata": {},
   "source": [
    "네오는 평소 프로도가 비상금을 숨겨놓는 장소를 알려줄 비밀지도를 손에 넣었다. 그런데 이 비밀지도는 숫자로 암호화되어 있어 위치를 확인하기 위해서는 암호를 해독해야 한다. 다행히 지도 암호를 해독할 방법을 적어놓은 메모도 함께 발견했다.\n",
    "\n",
    "지도는 한 변의 길이가 n인 정사각형 배열 형태로, 각 칸은 \"공백\"(\" \") 또는 \"벽\"(\"#\") 두 종류로 이루어져 있다.\n",
    "전체 지도는 두 장의 지도를 겹쳐서 얻을 수 있다. 각각 \"지도 1\"과 \"지도 2\"라고 하자. 지도 1 또는 지도 2 중 어느 하나라도 벽인 부분은 전체 지도에서도 벽이다. 지도 1과 지도 2에서 모두 공백인 부분은 전체 지도에서도 공백이다.\n",
    "\"지도 1\"과 \"지도 2\"는 각각 정수 배열로 암호화되어 있다.\n",
    "암호화된 배열은 지도의 각 가로줄에서 벽 부분을 1, 공백 부분을 0으로 부호화했을 때 얻어지는 이진수에 해당하는 값의 배열이다."
   ]
  },
  {
   "cell_type": "code",
   "execution_count": 2,
   "metadata": {},
   "outputs": [],
   "source": [
    "n=5\n",
    "arr1 = [9, 20, 28, 18, 11]\n",
    "arr2 = [30, 1, 21, 17, 28]"
   ]
  },
  {
   "cell_type": "code",
   "execution_count": 11,
   "metadata": {},
   "outputs": [
    {
     "name": "stdout",
     "output_type": "stream",
     "text": [
      "01001\n",
      "10100\n",
      "11100\n",
      "10010\n",
      "01011\n"
     ]
    }
   ],
   "source": [
    "for a in arr1:\n",
    "    print(bin(a)[2:].zfill(5))"
   ]
  },
  {
   "cell_type": "code",
   "execution_count": 12,
   "metadata": {},
   "outputs": [
    {
     "name": "stdout",
     "output_type": "stream",
     "text": [
      "11110\n",
      "00001\n",
      "10101\n",
      "10001\n",
      "11100\n"
     ]
    }
   ],
   "source": [
    "for a in arr2:\n",
    "    print(bin(a)[2:].zfill(5))"
   ]
  },
  {
   "cell_type": "code",
   "execution_count": 19,
   "metadata": {},
   "outputs": [],
   "source": [
    "arr1_map=[bin(a)[2:].zfill(5) for a in arr1]\n"
   ]
  },
  {
   "cell_type": "code",
   "execution_count": 20,
   "metadata": {},
   "outputs": [],
   "source": [
    "arr2_map=[bin(a)[2:].zfill(5) for a in arr2]\n"
   ]
  },
  {
   "cell_type": "code",
   "execution_count": 16,
   "metadata": {},
   "outputs": [
    {
     "data": {
      "text/plain": [
       "'01001'"
      ]
     },
     "execution_count": 16,
     "metadata": {},
     "output_type": "execute_result"
    }
   ],
   "source": [
    "[bin(a)[2:].zfill(5) for a in arr1][0]"
   ]
  },
  {
   "cell_type": "code",
   "execution_count": 17,
   "metadata": {},
   "outputs": [
    {
     "data": {
      "text/plain": [
       "'11110'"
      ]
     },
     "execution_count": 17,
     "metadata": {},
     "output_type": "execute_result"
    }
   ],
   "source": [
    "[bin(a)[2:].zfill(5) for a in arr2][0]"
   ]
  },
  {
   "cell_type": "markdown",
   "metadata": {},
   "source": [
    "real_map=[]\n",
    "for arr in range(len(n)):\n",
    "    temp=''\n",
    "    for i in range(n):\n",
    "        if arr[i]=='0' :\n",
    "            temp.append(' ')\n",
    "        else :\n",
    "            temp.append('#')\n",
    "    real_map.append(temp)\n",
    "print(real_map)"
   ]
  },
  {
   "cell_type": "code",
   "execution_count": 24,
   "metadata": {},
   "outputs": [
    {
     "data": {
      "text/plain": [
       "['01001', '10100', '11100', '10010', '01011']"
      ]
     },
     "execution_count": 24,
     "metadata": {},
     "output_type": "execute_result"
    }
   ],
   "source": [
    "arr1_map"
   ]
  },
  {
   "cell_type": "code",
   "execution_count": 25,
   "metadata": {},
   "outputs": [
    {
     "data": {
      "text/plain": [
       "['11110', '00001', '10101', '10001', '11100']"
      ]
     },
     "execution_count": 25,
     "metadata": {},
     "output_type": "execute_result"
    }
   ],
   "source": [
    "arr2_map"
   ]
  },
  {
   "cell_type": "code",
   "execution_count": 26,
   "metadata": {},
   "outputs": [
    {
     "name": "stdout",
     "output_type": "stream",
     "text": [
      "01001\n",
      "10100\n",
      "11100\n",
      "10010\n",
      "01011\n"
     ]
    }
   ],
   "source": [
    "for i in arr1_map:\n",
    "    print(i)"
   ]
  },
  {
   "cell_type": "code",
   "execution_count": 28,
   "metadata": {},
   "outputs": [
    {
     "name": "stdout",
     "output_type": "stream",
     "text": [
      "['#####', '# # #', '### #', '#  ##', '#####']\n"
     ]
    }
   ],
   "source": [
    "answer=[]\n",
    "for i in range(n):\n",
    "    temp = bin(arr1[i] | arr2[i])\n",
    "    temp = temp[2:].zfill(n)\n",
    "    temp = temp.replace('1','#').replace('0',' ')\n",
    "    answer.append(temp)\n",
    "\n",
    "print(answer)"
   ]
  },
  {
   "attachments": {},
   "cell_type": "markdown",
   "metadata": {},
   "source": [
    "### 137. 문자열 내 마음대로 정렬하기"
   ]
  },
  {
   "attachments": {},
   "cell_type": "markdown",
   "metadata": {},
   "source": [
    "문자열로 구성된 리스트 strings와, 정수 n이 주어졌을 때, 각 문자열의 인덱스 n번째 글자를 기준으로 오름차순 정렬하려 합니다. 예를 들어 strings가 [\"sun\", \"bed\", \"car\"]이고 n이 1이면 각 단어의 인덱스 1의 문자 \"u\", \"e\", \"a\"로 strings를 정렬합니다."
   ]
  },
  {
   "cell_type": "code",
   "execution_count": 28,
   "metadata": {},
   "outputs": [],
   "source": [
    "strings, n= [\"abce\", \"abcd\", \"cdx\"], 2"
   ]
  },
  {
   "cell_type": "code",
   "execution_count": 31,
   "metadata": {},
   "outputs": [
    {
     "name": "stdout",
     "output_type": "stream",
     "text": [
      "['c']\n",
      "['c']\n",
      "['x']\n"
     ]
    }
   ],
   "source": [
    "for string in strings :\n",
    "    print(sorted(string[n]))"
   ]
  },
  {
   "cell_type": "code",
   "execution_count": 32,
   "metadata": {},
   "outputs": [
    {
     "data": {
      "text/plain": [
       "['c', 'c', 'x']"
      ]
     },
     "execution_count": 32,
     "metadata": {},
     "output_type": "execute_result"
    }
   ],
   "source": [
    "[string[n] for string in strings]"
   ]
  },
  {
   "cell_type": "code",
   "execution_count": 33,
   "metadata": {},
   "outputs": [
    {
     "data": {
      "text/plain": [
       "{'c': 'abcd', 'x': 'cdx'}"
      ]
     },
     "execution_count": 33,
     "metadata": {},
     "output_type": "execute_result"
    }
   ],
   "source": [
    "word_dict=dict(zip([string[n] for string in strings], strings))\n",
    "word_dict"
   ]
  },
  {
   "cell_type": "code",
   "execution_count": 34,
   "metadata": {},
   "outputs": [
    {
     "name": "stdout",
     "output_type": "stream",
     "text": [
      "abcd\n",
      "abcd\n",
      "cdx\n"
     ]
    }
   ],
   "source": [
    "for char in sorted([string[n] for string in strings]) :\n",
    "    print(word_dict[char])"
   ]
  },
  {
   "cell_type": "code",
   "execution_count": 35,
   "metadata": {},
   "outputs": [
    {
     "data": {
      "text/plain": [
       "['abcd', 'abcd', 'cdx']"
      ]
     },
     "execution_count": 35,
     "metadata": {},
     "output_type": "execute_result"
    }
   ],
   "source": [
    "[word_dict[a] for a in sorted([string[n] for string in strings])]"
   ]
  },
  {
   "cell_type": "code",
   "execution_count": null,
   "metadata": {},
   "outputs": [],
   "source": [
    "def solution(strings, n):\n",
    "    return sorted(strings, key=lambda x:(x[n],x))"
   ]
  },
  {
   "attachments": {},
   "cell_type": "markdown",
   "metadata": {},
   "source": [
    "### 138. 숫자 문자열과 영단어"
   ]
  },
  {
   "attachments": {},
   "cell_type": "markdown",
   "metadata": {},
   "source": [
    "네오와 프로도가 숫자놀이를 하고 있습니다. 네오가 프로도에게 숫자를 건넬 때 일부 자릿수를 영단어로 바꾼 카드를 건네주면 프로도는 원래 숫자를 찾는 게임입니다.\n",
    "\n",
    "다음은 숫자의 일부 자릿수를 영단어로 바꾸는 예시입니다.\n",
    "\n",
    "1478 → \"one4seveneight\"\n",
    "234567 → \"23four5six7\"\n",
    "10203 → \"1zerotwozero3\"\n",
    "이렇게 숫자의 일부 자릿수가 영단어로 바뀌어졌거나, 혹은 바뀌지 않고 그대로인 문자열 s가 매개변수로 주어집니다. s가 의미하는 원래 숫자를 return 하도록 solution 함수를 완성해주세요.\n",
    "\n",
    "참고로 각 숫자에 대응되는 영단어는 다음 표와 같습니다."
   ]
  },
  {
   "cell_type": "code",
   "execution_count": 43,
   "metadata": {},
   "outputs": [
    {
     "name": "stdout",
     "output_type": "stream",
     "text": [
      "{'zero': 0, 'one': 1, 'two': 2, 'three': 3, 'four': 4, 'five': 5, 'six': 6, 'seven': 7, 'eight': 8, 'nine': 9}\n"
     ]
    }
   ],
   "source": [
    "s = \"one4seveneight\"\n",
    "\n",
    "lis=''\n",
    "\n",
    "dict={}\n",
    "dd=['zero',\n",
    "'one',\n",
    "'two',\n",
    "'three',\n",
    "'four',\n",
    "'five',\n",
    "'six',\n",
    "'seven',\n",
    "'eight',\n",
    "'nine']\n",
    "\n",
    "for i in range(10):\n",
    "    dict[dd[i]]=i\n",
    "print(dict)\n",
    "\n"
   ]
  },
  {
   "cell_type": "code",
   "execution_count": 46,
   "metadata": {},
   "outputs": [
    {
     "name": "stdout",
     "output_type": "stream",
     "text": [
      "234567\n"
     ]
    }
   ],
   "source": [
    "s = \"23four5six7\"\n",
    "\n",
    "answer=''\n",
    "alph=''\n",
    "\n",
    "for i in s:\n",
    "    if i.isdigit():\n",
    "        answer+=i\n",
    "    elif i.isalpha():\n",
    "        alph+=i\n",
    "        if alph in dict.keys():\n",
    "            answer += str(dict[alph])\n",
    "            alph=''\n",
    "print(answer)\n"
   ]
  },
  {
   "cell_type": "code",
   "execution_count": null,
   "metadata": {},
   "outputs": [],
   "source": [
    "#타코\n",
    "\n",
    "for i in range(len(words)):\n",
    "        s = s.replace(words[i], str(i))\n",
    "print(int(s))\n",
    "\n",
    "#인덱스를 바로 매칭해서 s에 일치하는 값이 있으면 replace를 한다..  복잡하게 갈 필요없었는데.."
   ]
  },
  {
   "attachments": {},
   "cell_type": "markdown",
   "metadata": {},
   "source": [
    "### 139. 삼총사"
   ]
  },
  {
   "attachments": {},
   "cell_type": "markdown",
   "metadata": {},
   "source": [
    "한국중학교에 다니는 학생들은 각자 정수 번호를 갖고 있습니다. 이 학교 학생 3명의 정수 번호를 더했을 때 0이 되면 3명의 학생은 삼총사라고 합니다. 예를 들어, 5명의 학생이 있고, 각각의 정수 번호가 순서대로 -2, 3, 0, 2, -5일 때, 첫 번째, 세 번째, 네 번째 학생의 정수 번호를 더하면 0이므로 세 학생은 삼총사입니다. 또한, 두 번째, 네 번째, 다섯 번째 학생의 정수 번호를 더해도 0이므로 세 학생도 삼총사입니다. 따라서 이 경우 한국중학교에서는 두 가지 방법으로 삼총사를 만들 수 있습니다.\n",
    "\n",
    "한국중학교 학생들의 번호를 나타내는 정수 배열 number가 매개변수로 주어질 때, 학생들 중 삼총사를 만들 수 있는 방법의 수를 return 하도록 solution 함수를 완성하세요."
   ]
  },
  {
   "cell_type": "code",
   "execution_count": 60,
   "metadata": {},
   "outputs": [
    {
     "name": "stdout",
     "output_type": "stream",
     "text": [
      "-3\n",
      "-2\n",
      "-1\n",
      "0\n",
      "1\n",
      "2\n",
      "3\n"
     ]
    }
   ],
   "source": [
    "number =[-3, -2, -1, 0, 1, 2, 3]\n",
    "\n",
    "for n in number :\n",
    "    print(n)"
   ]
  },
  {
   "cell_type": "code",
   "execution_count": 57,
   "metadata": {},
   "outputs": [
    {
     "name": "stdout",
     "output_type": "stream",
     "text": [
      "[(-2, 3, 0), (-2, 3, 2), (-2, 3, -5), (-2, 0, 2), (-2, 0, -5), (-2, 2, -5), (3, 0, 2), (3, 0, -5), (3, 2, -5), (0, 2, -5)]\n"
     ]
    }
   ],
   "source": [
    "import itertools\n",
    "\n",
    "print(list(itertools.combinations(number, 3)))"
   ]
  },
  {
   "cell_type": "code",
   "execution_count": 61,
   "metadata": {},
   "outputs": [
    {
     "name": "stdout",
     "output_type": "stream",
     "text": [
      "5\n"
     ]
    }
   ],
   "source": [
    "comb=list(itertools.combinations(number, 3))\n",
    "\n",
    "count= 0\n",
    "for c in comb:\n",
    "    if sum(c) == 0 :\n",
    "        count+=1\n",
    "print(count)"
   ]
  },
  {
   "attachments": {},
   "cell_type": "markdown",
   "metadata": {},
   "source": [
    "### 140. 두 개 뽑아서 더하기"
   ]
  },
  {
   "attachments": {},
   "cell_type": "markdown",
   "metadata": {},
   "source": [
    "정수 배열 numbers가 주어집니다. numbers에서 서로 다른 인덱스에 있는 두 개의 수를 뽑아 더해서 만들 수 있는 모든 수를 배열에 오름차순으로 담아 return 하도록 solution 함수를 완성해주세요.\n",
    "\n"
   ]
  },
  {
   "cell_type": "code",
   "execution_count": 63,
   "metadata": {},
   "outputs": [
    {
     "data": {
      "text/plain": [
       "{1, 2, 3, 4}"
      ]
     },
     "execution_count": 63,
     "metadata": {},
     "output_type": "execute_result"
    }
   ],
   "source": [
    "numbers=[2,1,3,4,1]\n",
    "\n",
    "set(numbers)"
   ]
  },
  {
   "cell_type": "code",
   "execution_count": 66,
   "metadata": {},
   "outputs": [
    {
     "name": "stdout",
     "output_type": "stream",
     "text": [
      "3\n",
      "5\n",
      "6\n",
      "3\n",
      "4\n",
      "5\n",
      "2\n",
      "7\n",
      "4\n",
      "5\n"
     ]
    }
   ],
   "source": [
    "import itertools\n",
    "\n",
    "for i in list(itertools.combinations(numbers, 2)):\n",
    "    print(sum(i))"
   ]
  },
  {
   "cell_type": "code",
   "execution_count": 69,
   "metadata": {},
   "outputs": [
    {
     "data": {
      "text/plain": [
       "{2, 3, 4, 5, 6, 7}"
      ]
     },
     "execution_count": 69,
     "metadata": {},
     "output_type": "execute_result"
    }
   ],
   "source": [
    "set([sum(i) for i in list(itertools.combinations(numbers, 2))])"
   ]
  },
  {
   "cell_type": "code",
   "execution_count": 72,
   "metadata": {},
   "outputs": [
    {
     "data": {
      "text/plain": [
       "[2, 3, 4, 5, 6, 7]"
      ]
     },
     "execution_count": 72,
     "metadata": {},
     "output_type": "execute_result"
    }
   ],
   "source": [
    "list(set([sum(i) for i in list(itertools.combinations(numbers, 2))]))"
   ]
  },
  {
   "attachments": {},
   "cell_type": "markdown",
   "metadata": {},
   "source": [
    "### 141. 2016년"
   ]
  },
  {
   "attachments": {},
   "cell_type": "markdown",
   "metadata": {},
   "source": [
    "2016년 1월 1일은 금요일입니다. 2016년 a월 b일은 무슨 요일일까요? 두 수 a ,b를 입력받아 2016년 a월 b일이 무슨 요일인지 리턴하는 함수, solution을 완성하세요. 요일의 이름은 일요일부터 토요일까지 각각 SUN,MON,TUE,WED,THU,FRI,SAT\n",
    "\n",
    "입니다. 예를 들어 a=5, b=24라면 5월 24일은 화요일이므로 문자열 \"TUE\"를 반환하세요.\n",
    "\n",
    "\n",
    "\n"
   ]
  },
  {
   "cell_type": "code",
   "execution_count": 4,
   "metadata": {},
   "outputs": [],
   "source": [
    "DAY = ['SUN','MON','TUE','WED','THU','FRI','SAT']\n",
    "month_list=[31, 29, 31, 30, 31, 30, 31, 31, 30, 31, 30, 31]"
   ]
  },
  {
   "cell_type": "code",
   "execution_count": 21,
   "metadata": {},
   "outputs": [
    {
     "name": "stdout",
     "output_type": "stream",
     "text": [
      "0 SUN\n",
      "1 MON\n",
      "2 TUE\n",
      "3 WED\n",
      "4 THU\n",
      "5 FRI\n",
      "6 SAT\n",
      "----------\n"
     ]
    }
   ],
   "source": [
    "for index, i in enumerate(DAY) :\n",
    "    print(index, i)\n",
    "print('----------')\n",
    "\n",
    "dict={}\n",
    "for x,y in enumerate(month_list) :\n",
    "    dict[x+1]=y"
   ]
  },
  {
   "cell_type": "code",
   "execution_count": 22,
   "metadata": {},
   "outputs": [
    {
     "name": "stdout",
     "output_type": "stream",
     "text": [
      "{1: 31, 2: 29, 3: 31, 4: 30, 5: 31, 6: 30, 7: 31, 8: 31, 9: 30, 10: 31, 11: 30, 12: 31}\n"
     ]
    }
   ],
   "source": [
    "print(dict)"
   ]
  },
  {
   "cell_type": "code",
   "execution_count": 38,
   "metadata": {},
   "outputs": [
    {
     "ename": "SyntaxError",
     "evalue": "cannot assign to function call (1329135783.py, line 5)",
     "output_type": "error",
     "traceback": [
      "\u001b[0;36m  Cell \u001b[0;32mIn[38], line 5\u001b[0;36m\u001b[0m\n\u001b[0;31m    dict.values() = a-1\u001b[0m\n\u001b[0m    ^\u001b[0m\n\u001b[0;31mSyntaxError\u001b[0m\u001b[0;31m:\u001b[0m cannot assign to function call\n"
     ]
    }
   ],
   "source": [
    "count=0\n",
    "a=5\n",
    "b=24\n",
    "\n",
    "dict.values() = a-1\n",
    "\n",
    "\n",
    "for i in dict.values():\n",
    "    count+= i\n",
    "    print(i, count)"
   ]
  },
  {
   "cell_type": "code",
   "execution_count": 44,
   "metadata": {},
   "outputs": [
    {
     "data": {
      "text/plain": [
       "<function dict.values>"
      ]
     },
     "execution_count": 44,
     "metadata": {},
     "output_type": "execute_result"
    }
   ],
   "source": [
    "dict.values"
   ]
  },
  {
   "cell_type": "code",
   "execution_count": null,
   "metadata": {},
   "outputs": [],
   "source": [
    "DAY = ['FRI','SAT','SUN','MON','TUE','WED','THU']\n",
    "month_list=[31, 29, 31, 30, 31, 30, 31, 31, 30, 31, 30, 31]\n",
    "\n",
    "for i in range(a-1):\n",
    "    count+=month_list[i]\n",
    "    \n",
    "count += b-1\n",
    "count=count%7\n",
    "\n",
    "DAY[count]"
   ]
  },
  {
   "cell_type": "code",
   "execution_count": 46,
   "metadata": {},
   "outputs": [],
   "source": [
    "# 타 코 \n",
    "\n",
    "def getDayName(a,b):\n",
    "    months = [31, 29, 31, 30, 31, 30, 31, 31, 30, 31, 30, 31]\n",
    "    days = ['FRI', 'SAT', 'SUN', 'MON', 'TUE', 'WED', 'THU']\n",
    "    return days[(sum(months[:a-1])+b-1)%7]\n",
    "\n",
    "#깔끔하다... 진정 필요할 때 슬라이싱을 생각못하다니.."
   ]
  },
  {
   "attachments": {},
   "cell_type": "markdown",
   "metadata": {},
   "source": [
    "### 142. 폰켓몬"
   ]
  },
  {
   "attachments": {},
   "cell_type": "markdown",
   "metadata": {},
   "source": [
    "당신은 폰켓몬을 잡기 위한 오랜 여행 끝에, 홍 박사님의 연구실에 도착했습니다. 홍 박사님은 당신에게 자신의 연구실에 있는 총 N 마리의 폰켓몬 중에서 N/2마리를 가져가도 좋다고 했습니다.\n",
    "홍 박사님 연구실의 폰켓몬은 종류에 따라 번호를 붙여 구분합니다. 따라서 같은 종류의 폰켓몬은 같은 번호를 가지고 있습니다. 예를 들어 연구실에 총 4마리의 폰켓몬이 있고, 각 폰켓몬의 종류 번호가 [3번, 1번, 2번, 3번]이라면 이는 3번 폰켓몬 두 마리, 1번 폰켓몬 한 마리, 2번 폰켓몬 한 마리가 있음을 나타냅니다. 이때, 4마리의 폰켓몬 중 2마리를 고르는 방법은 다음과 같이 6가지가 있습니다.\n",
    "\n",
    "- 첫 번째(3번), 두 번째(1번) 폰켓몬을 선택\n",
    "- 첫 번째(3번), 세 번째(2번) 폰켓몬을 선택\n",
    "- 첫 번째(3번), 네 번째(3번) 폰켓몬을 선택\n",
    "- 두 번째(1번), 세 번째(2번) 폰켓몬을 선택\n",
    "- 두 번째(1번), 네 번째(3번) 폰켓몬을 선택\n",
    "- 세 번째(2번), 네 번째(3번) 폰켓몬을 선택\n",
    "\n",
    "이때, 첫 번째(3번) 폰켓몬과 네 번째(3번) 폰켓몬을 선택하는 방법은 한 종류(3번 폰켓몬 두 마리)의 폰켓몬만 가질 수 있지만, 다른 방법들은 모두 두 종류의 폰켓몬을 가질 수 있습니다. 따라서 위 예시에서 가질 수 있는 폰켓몬 종류 수의 최댓값은 2가 됩니다.\n",
    "당신은 최대한 다양한 종류의 폰켓몬을 가지길 원하기 때문에, 최대한 많은 종류의 폰켓몬을 포함해서 N/2마리를 선택하려 합니다. N마리 폰켓몬의 종류 번호가 담긴 배열 nums가 매개변수로 주어질 때, N/2마리의 폰켓몬을 선택하는 방법 중, 가장 많은 종류의 폰켓몬을 선택하는 방법을 찾아, 그때의 폰켓몬 종류 번호의 개수를 return 하도록 solution 함수를 완성해주세요.\n",
    "\n"
   ]
  },
  {
   "cell_type": "code",
   "execution_count": 57,
   "metadata": {},
   "outputs": [],
   "source": [
    "#nums = [3,1,2,3] # result 2\n",
    "#nums = [3,3,3,2,2,4] # result 3\n",
    "nums = [3,3,3,2,2,2]"
   ]
  },
  {
   "cell_type": "code",
   "execution_count": 55,
   "metadata": {},
   "outputs": [
    {
     "name": "stdout",
     "output_type": "stream",
     "text": [
      "(3, 3)\n",
      "(3, 3)\n",
      "(3, 2)\n",
      "(3, 2)\n",
      "(3, 4)\n",
      "(3, 3)\n",
      "(3, 2)\n",
      "(3, 2)\n",
      "(3, 4)\n",
      "(3, 2)\n",
      "(3, 2)\n",
      "(3, 4)\n",
      "(2, 2)\n",
      "(2, 4)\n",
      "(2, 4)\n"
     ]
    }
   ],
   "source": [
    "import itertools\n",
    "\n",
    "for i in itertools.combinations(nums, 2):\n",
    "    print(i)"
   ]
  },
  {
   "cell_type": "code",
   "execution_count": 67,
   "metadata": {},
   "outputs": [
    {
     "ename": "SyntaxError",
     "evalue": "invalid syntax (113335333.py, line 4)",
     "output_type": "error",
     "traceback": [
      "\u001b[0;36m  Cell \u001b[0;32mIn[67], line 4\u001b[0;36m\u001b[0m\n\u001b[0;31m    for i in itertools.combinations(set(nums), len(nums)//2):\u001b[0m\n\u001b[0m                                                            ^\u001b[0m\n\u001b[0;31mSyntaxError\u001b[0m\u001b[0;31m:\u001b[0m invalid syntax\n"
     ]
    }
   ],
   "source": [
    "if len(set(nums)) <= len(nums)//2 :\n",
    "    print(len(set(nums))\n",
    "\n",
    "for i in itertools.combinations(set(nums), len(nums)//2):\n",
    "    print(len(i))"
   ]
  },
  {
   "cell_type": "code",
   "execution_count": 68,
   "metadata": {},
   "outputs": [],
   "source": [
    "# 타코\n",
    "def solution(ls):\n",
    "    return min(len(ls)/2, len(set(ls)))\n",
    "# min max.. 내장함수 어떤걸 써서 쉽게 풀 수 있을지 한번 더 생각해보자"
   ]
  },
  {
   "attachments": {},
   "cell_type": "markdown",
   "metadata": {},
   "source": [
    "### 143. 소수 찾기"
   ]
  },
  {
   "attachments": {},
   "cell_type": "markdown",
   "metadata": {},
   "source": [
    "1부터 입력받은 숫자 n 사이에 있는 소수의 개수를 반환하는 함수, solution을 만들어 보세요.\n",
    "\n",
    "소수는 1과 자기 자신으로만 나누어지는 수를 의미합니다.\n",
    "(1은 소수가 아닙니다.)\n",
    "\n"
   ]
  },
  {
   "cell_type": "code",
   "execution_count": 7,
   "metadata": {},
   "outputs": [
    {
     "name": "stdout",
     "output_type": "stream",
     "text": [
      "2 3 5 "
     ]
    },
    {
     "data": {
      "text/plain": [
       "3"
      ]
     },
     "execution_count": 7,
     "metadata": {},
     "output_type": "execute_result"
    }
   ],
   "source": [
    "import math\n",
    "\n",
    "n = 5\n",
    "array = [True for i in range(n + 1)]\n",
    "\n",
    "\n",
    "for i in range (2, int(math.sqrt(n))+1) :\n",
    "    if array[i] == True:\n",
    "        j = 2\n",
    "        while i * j <= n:\n",
    "            array[i*j]=False\n",
    "            j += 1\n",
    "\n",
    "\n",
    "for i in range(2, n + 1):\n",
    "    if array[i]:\n",
    "        print(i, end = ' ')\n",
    "        \n",
    "len([i for i in range(2, n+1) if array[i]])"
   ]
  },
  {
   "cell_type": "code",
   "execution_count": 2,
   "metadata": {},
   "outputs": [],
   "source": [
    "n = 10**0.5"
   ]
  },
  {
   "cell_type": "code",
   "execution_count": 1,
   "metadata": {},
   "outputs": [
    {
     "ename": "NameError",
     "evalue": "name 'n' is not defined",
     "output_type": "error",
     "traceback": [
      "\u001b[0;31m---------------------------------------------------------------------------\u001b[0m",
      "\u001b[0;31mNameError\u001b[0m                                 Traceback (most recent call last)",
      "Cell \u001b[0;32mIn[1], line 2\u001b[0m\n\u001b[1;32m      1\u001b[0m temp \u001b[39m=\u001b[39m []\n\u001b[0;32m----> 2\u001b[0m \u001b[39mfor\u001b[39;00m i \u001b[39min\u001b[39;00m \u001b[39mrange\u001b[39m(\u001b[39m1\u001b[39m,n\u001b[39m+\u001b[39m\u001b[39m1\u001b[39m) :\n\u001b[1;32m      3\u001b[0m     \u001b[39mif\u001b[39;00m i \u001b[39m%\u001b[39m n \u001b[39m==\u001b[39m \u001b[39m0\u001b[39m :\n\u001b[1;32m      4\u001b[0m         temp\u001b[39m.\u001b[39mappend(i)\n",
      "\u001b[0;31mNameError\u001b[0m: name 'n' is not defined"
     ]
    }
   ],
   "source": [
    "\n"
   ]
  },
  {
   "cell_type": "code",
   "execution_count": null,
   "metadata": {},
   "outputs": [],
   "source": []
  },
  {
   "attachments": {},
   "cell_type": "markdown",
   "metadata": {},
   "source": [
    "### 144. 소수 만들기"
   ]
  },
  {
   "attachments": {},
   "cell_type": "markdown",
   "metadata": {},
   "source": [
    "주어진 숫자 중 3개의 수를 더했을 때 소수가 되는 경우의 개수를 구하려고 합니다. 숫자들이 들어있는 배열 nums가 매개변수로 주어질 때, nums에 있는 숫자들 중 서로 다른 3개를 골라 더했을 때 소수가 되는 경우의 개수를 return 하도록 solution 함수를 완성해주세요.\n"
   ]
  },
  {
   "cell_type": "code",
   "execution_count": null,
   "metadata": {},
   "outputs": [],
   "source": []
  },
  {
   "cell_type": "code",
   "execution_count": 11,
   "metadata": {},
   "outputs": [
    {
     "data": {
      "text/plain": [
       "[2,\n",
       " 3,\n",
       " 5,\n",
       " 7,\n",
       " 11,\n",
       " 13,\n",
       " 17,\n",
       " 19,\n",
       " 23,\n",
       " 29,\n",
       " 31,\n",
       " 37,\n",
       " 41,\n",
       " 43,\n",
       " 47,\n",
       " 53,\n",
       " 59,\n",
       " 61,\n",
       " 67,\n",
       " 71,\n",
       " 73,\n",
       " 79,\n",
       " 83,\n",
       " 89,\n",
       " 97,\n",
       " 101,\n",
       " 103,\n",
       " 107,\n",
       " 109,\n",
       " 113,\n",
       " 127,\n",
       " 131,\n",
       " 137,\n",
       " 139,\n",
       " 149,\n",
       " 151,\n",
       " 157,\n",
       " 163,\n",
       " 167,\n",
       " 173,\n",
       " 179,\n",
       " 181,\n",
       " 191,\n",
       " 193,\n",
       " 197,\n",
       " 199,\n",
       " 211,\n",
       " 223,\n",
       " 227,\n",
       " 229,\n",
       " 233,\n",
       " 239,\n",
       " 241,\n",
       " 251,\n",
       " 257,\n",
       " 263,\n",
       " 269,\n",
       " 271,\n",
       " 277,\n",
       " 281,\n",
       " 283,\n",
       " 293,\n",
       " 307,\n",
       " 311,\n",
       " 313,\n",
       " 317,\n",
       " 331,\n",
       " 337,\n",
       " 347,\n",
       " 349,\n",
       " 353,\n",
       " 359,\n",
       " 367,\n",
       " 373,\n",
       " 379,\n",
       " 383,\n",
       " 389,\n",
       " 397,\n",
       " 401,\n",
       " 409,\n",
       " 419,\n",
       " 421,\n",
       " 431,\n",
       " 433,\n",
       " 439,\n",
       " 443,\n",
       " 449,\n",
       " 457,\n",
       " 461,\n",
       " 463,\n",
       " 467,\n",
       " 479,\n",
       " 487,\n",
       " 491,\n",
       " 499,\n",
       " 503,\n",
       " 509,\n",
       " 521,\n",
       " 523,\n",
       " 541,\n",
       " 547,\n",
       " 557,\n",
       " 563,\n",
       " 569,\n",
       " 571,\n",
       " 577,\n",
       " 587,\n",
       " 593,\n",
       " 599,\n",
       " 601,\n",
       " 607,\n",
       " 613,\n",
       " 617,\n",
       " 619,\n",
       " 631,\n",
       " 641,\n",
       " 643,\n",
       " 647,\n",
       " 653,\n",
       " 659,\n",
       " 661,\n",
       " 673,\n",
       " 677,\n",
       " 683,\n",
       " 691,\n",
       " 701,\n",
       " 709,\n",
       " 719,\n",
       " 727,\n",
       " 733,\n",
       " 739,\n",
       " 743,\n",
       " 751,\n",
       " 757,\n",
       " 761,\n",
       " 769,\n",
       " 773,\n",
       " 787,\n",
       " 797,\n",
       " 809,\n",
       " 811,\n",
       " 821,\n",
       " 823,\n",
       " 827,\n",
       " 829,\n",
       " 839,\n",
       " 853,\n",
       " 857,\n",
       " 859,\n",
       " 863,\n",
       " 877,\n",
       " 881,\n",
       " 883,\n",
       " 887,\n",
       " 907,\n",
       " 911,\n",
       " 919,\n",
       " 929,\n",
       " 937,\n",
       " 941,\n",
       " 947,\n",
       " 953,\n",
       " 967,\n",
       " 971,\n",
       " 977,\n",
       " 983,\n",
       " 991,\n",
       " 997,\n",
       " 1009,\n",
       " 1013,\n",
       " 1019,\n",
       " 1021,\n",
       " 1031,\n",
       " 1033,\n",
       " 1039,\n",
       " 1049,\n",
       " 1051,\n",
       " 1061,\n",
       " 1063,\n",
       " 1069,\n",
       " 1087,\n",
       " 1091,\n",
       " 1093,\n",
       " 1097,\n",
       " 1103,\n",
       " 1109,\n",
       " 1117,\n",
       " 1123,\n",
       " 1129,\n",
       " 1151,\n",
       " 1153,\n",
       " 1163,\n",
       " 1171,\n",
       " 1181,\n",
       " 1187,\n",
       " 1193,\n",
       " 1201,\n",
       " 1213,\n",
       " 1217,\n",
       " 1223,\n",
       " 1229,\n",
       " 1231,\n",
       " 1237,\n",
       " 1249,\n",
       " 1259,\n",
       " 1277,\n",
       " 1279,\n",
       " 1283,\n",
       " 1289,\n",
       " 1291,\n",
       " 1297,\n",
       " 1301,\n",
       " 1303,\n",
       " 1307,\n",
       " 1319,\n",
       " 1321,\n",
       " 1327,\n",
       " 1361,\n",
       " 1367,\n",
       " 1373,\n",
       " 1381,\n",
       " 1399,\n",
       " 1409,\n",
       " 1423,\n",
       " 1427,\n",
       " 1429,\n",
       " 1433,\n",
       " 1439,\n",
       " 1447,\n",
       " 1451,\n",
       " 1453,\n",
       " 1459,\n",
       " 1471,\n",
       " 1481,\n",
       " 1483,\n",
       " 1487,\n",
       " 1489,\n",
       " 1493,\n",
       " 1499,\n",
       " 1511,\n",
       " 1523,\n",
       " 1531,\n",
       " 1543,\n",
       " 1549,\n",
       " 1553,\n",
       " 1559,\n",
       " 1567,\n",
       " 1571,\n",
       " 1579,\n",
       " 1583,\n",
       " 1597,\n",
       " 1601,\n",
       " 1607,\n",
       " 1609,\n",
       " 1613,\n",
       " 1619,\n",
       " 1621,\n",
       " 1627,\n",
       " 1637,\n",
       " 1657,\n",
       " 1663,\n",
       " 1667,\n",
       " 1669,\n",
       " 1693,\n",
       " 1697,\n",
       " 1699,\n",
       " 1709,\n",
       " 1721,\n",
       " 1723,\n",
       " 1733,\n",
       " 1741,\n",
       " 1747,\n",
       " 1753,\n",
       " 1759,\n",
       " 1777,\n",
       " 1783,\n",
       " 1787,\n",
       " 1789,\n",
       " 1801,\n",
       " 1811,\n",
       " 1823,\n",
       " 1831,\n",
       " 1847,\n",
       " 1861,\n",
       " 1867,\n",
       " 1871,\n",
       " 1873,\n",
       " 1877,\n",
       " 1879,\n",
       " 1889,\n",
       " 1901,\n",
       " 1907,\n",
       " 1913,\n",
       " 1931,\n",
       " 1933,\n",
       " 1949,\n",
       " 1951,\n",
       " 1973,\n",
       " 1979,\n",
       " 1987,\n",
       " 1993,\n",
       " 1997,\n",
       " 1999,\n",
       " 2003,\n",
       " 2011,\n",
       " 2017,\n",
       " 2027,\n",
       " 2029,\n",
       " 2039,\n",
       " 2053,\n",
       " 2063,\n",
       " 2069,\n",
       " 2081,\n",
       " 2083,\n",
       " 2087,\n",
       " 2089,\n",
       " 2099,\n",
       " 2111,\n",
       " 2113,\n",
       " 2129,\n",
       " 2131,\n",
       " 2137,\n",
       " 2141,\n",
       " 2143,\n",
       " 2153,\n",
       " 2161,\n",
       " 2179,\n",
       " 2203,\n",
       " 2207,\n",
       " 2213,\n",
       " 2221,\n",
       " 2237,\n",
       " 2239,\n",
       " 2243,\n",
       " 2251,\n",
       " 2267,\n",
       " 2269,\n",
       " 2273,\n",
       " 2281,\n",
       " 2287,\n",
       " 2293,\n",
       " 2297,\n",
       " 2309,\n",
       " 2311,\n",
       " 2333,\n",
       " 2339,\n",
       " 2341,\n",
       " 2347,\n",
       " 2351,\n",
       " 2357,\n",
       " 2371,\n",
       " 2377,\n",
       " 2381,\n",
       " 2383,\n",
       " 2389,\n",
       " 2393,\n",
       " 2399,\n",
       " 2411,\n",
       " 2417,\n",
       " 2423,\n",
       " 2437,\n",
       " 2441,\n",
       " 2447,\n",
       " 2459,\n",
       " 2467,\n",
       " 2473,\n",
       " 2477,\n",
       " 2503,\n",
       " 2521,\n",
       " 2531,\n",
       " 2539,\n",
       " 2543,\n",
       " 2549,\n",
       " 2551,\n",
       " 2557,\n",
       " 2579,\n",
       " 2591,\n",
       " 2593,\n",
       " 2609,\n",
       " 2617,\n",
       " 2621,\n",
       " 2633,\n",
       " 2647,\n",
       " 2657,\n",
       " 2659,\n",
       " 2663,\n",
       " 2671,\n",
       " 2677,\n",
       " 2683,\n",
       " 2687,\n",
       " 2689,\n",
       " 2693,\n",
       " 2699,\n",
       " 2707,\n",
       " 2711,\n",
       " 2713,\n",
       " 2719,\n",
       " 2729,\n",
       " 2731,\n",
       " 2741,\n",
       " 2749,\n",
       " 2753,\n",
       " 2767,\n",
       " 2777,\n",
       " 2789,\n",
       " 2791,\n",
       " 2797,\n",
       " 2801,\n",
       " 2803,\n",
       " 2819,\n",
       " 2833,\n",
       " 2837,\n",
       " 2843,\n",
       " 2851,\n",
       " 2857,\n",
       " 2861,\n",
       " 2879,\n",
       " 2887,\n",
       " 2897,\n",
       " 2903,\n",
       " 2909,\n",
       " 2917,\n",
       " 2927,\n",
       " 2939,\n",
       " 2953,\n",
       " 2957,\n",
       " 2963,\n",
       " 2969,\n",
       " 2971,\n",
       " 2999]"
      ]
     },
     "execution_count": 11,
     "metadata": {},
     "output_type": "execute_result"
    }
   ],
   "source": [
    "import math\n",
    "\n",
    "n = 3000\n",
    "array = [True for i in range(n + 1)]\n",
    "\n",
    "\n",
    "for i in range (2, int(math.sqrt(n))+1) :\n",
    "    if array[i] == True:\n",
    "        j = 2\n",
    "        while i * j <= n:\n",
    "            array[i*j]=False\n",
    "            j += 1\n",
    "\n",
    "\n",
    "prime_list = [i for i in range(2, n + 1) if array[i]]\n"
   ]
  },
  {
   "cell_type": "code",
   "execution_count": 20,
   "metadata": {},
   "outputs": [
    {
     "name": "stdout",
     "output_type": "stream",
     "text": [
      "4\n"
     ]
    }
   ],
   "source": [
    "nums = [1,2,7,6,4]\n",
    "\n",
    "import itertools\n",
    "\n",
    "count=0\n",
    "for i in list(itertools.combinations(nums, 3)):\n",
    "    if sum(i) in [i for i in range(2, n + 1) if array[i]] :\n",
    "        count+= 1\n",
    "print(count)"
   ]
  },
  {
   "attachments": {},
   "cell_type": "markdown",
   "metadata": {},
   "source": [
    "### 145. 실패율"
   ]
  },
  {
   "attachments": {},
   "cell_type": "markdown",
   "metadata": {},
   "source": [
    "슈퍼 게임 개발자 오렐리는 큰 고민에 빠졌다. 그녀가 만든 프랜즈 오천성이 대성공을 거뒀지만, 요즘 신규 사용자의 수가 급감한 것이다. 원인은 신규 사용자와 기존 사용자 사이에 스테이지 차이가 너무 큰 것이 문제였다.\n",
    "\n",
    "이 문제를 어떻게 할까 고민 한 그녀는 동적으로 게임 시간을 늘려서 난이도를 조절하기로 했다. 역시 슈퍼 개발자라 대부분의 로직은 쉽게 구현했지만, 실패율을 구하는 부분에서 위기에 빠지고 말았다. 오렐리를 위해 실패율을 구하는 코드를 완성하라.\n",
    "\n",
    "실패율은 다음과 같이 정의한다.\n",
    "스테이지에 도달했으나 아직 클리어하지 못한 플레이어의 수 / 스테이지에 도달한 플레이어 수\n",
    "전체 스테이지의 개수 N, 게임을 이용하는 사용자가 현재 멈춰있는 스테이지의 번호가 담긴 배열 stages가 매개변수로 주어질 때, 실패율이 높은 스테이지부터 내림차순으로 스테이지의 번호가 담겨있는 배열을 return 하도록 solution 함수를 완성하라.\n"
   ]
  },
  {
   "cell_type": "code",
   "execution_count": 52,
   "metadata": {},
   "outputs": [],
   "source": [
    "stages=\t[2, 1, 2, 6, 2, 4, 3, 3]\n",
    "N = 5"
   ]
  },
  {
   "cell_type": "code",
   "execution_count": 56,
   "metadata": {},
   "outputs": [
    {
     "name": "stdout",
     "output_type": "stream",
     "text": [
      "현재 스테이지: 1\n",
      "스테이지에 클리어 못한 사용자 : 1\n",
      "현재 스테이지의 실패율: 0.125\n",
      "-----\n",
      "현재 스테이지: 2\n",
      "스테이지에 클리어 못한 사용자 : 3\n",
      "현재 스테이지의 실패율: 0.42857142857142855\n",
      "-----\n",
      "현재 스테이지: 3\n",
      "스테이지에 클리어 못한 사용자 : 2\n",
      "현재 스테이지의 실패율: 0.5\n",
      "-----\n",
      "현재 스테이지: 4\n",
      "스테이지에 클리어 못한 사용자 : 1\n",
      "현재 스테이지의 실패율: 0.5\n",
      "-----\n",
      "현재 스테이지: 5\n",
      "스테이지에 클리어 못한 사용자 : 0\n",
      "현재 스테이지의 실패율: 0.0\n",
      "-----\n"
     ]
    }
   ],
   "source": [
    "#stages.count(1)\n",
    "\n",
    "total_count=0\n",
    "for i in range(N):\n",
    "    #print('현재 스테이지:',i+1)\n",
    "    #print('스테이지에 클리어 못한 사용자 :',stages.count(i+1))\n",
    "    total_count += stages.count(i)\n",
    "    #print('현재 스테이지의 실패율:', stages.count(i+1)/(len(stages) - total_count))\n",
    "    #print('-----')\n",
    "    \n"
   ]
  },
  {
   "cell_type": "code",
   "execution_count": 68,
   "metadata": {},
   "outputs": [
    {
     "name": "stdout",
     "output_type": "stream",
     "text": [
      "0\n"
     ]
    },
    {
     "ename": "TypeError",
     "evalue": "'int' object is not iterable",
     "output_type": "error",
     "traceback": [
      "\u001b[0;31m---------------------------------------------------------------------------\u001b[0m",
      "\u001b[0;31mTypeError\u001b[0m                                 Traceback (most recent call last)",
      "Cell \u001b[0;32mIn[68], line 8\u001b[0m\n\u001b[1;32m      6\u001b[0m \u001b[39mprint\u001b[39m(i)\n\u001b[1;32m      7\u001b[0m total_count \u001b[39m+\u001b[39m\u001b[39m=\u001b[39m stages\u001b[39m.\u001b[39mcount(i)\n\u001b[0;32m----> 8\u001b[0m zip_list\u001b[39m=\u001b[39m\u001b[39mzip\u001b[39;49m(i\u001b[39m+\u001b[39;49m\u001b[39m1\u001b[39;49m, stages\u001b[39m.\u001b[39;49mcount(i\u001b[39m+\u001b[39;49m\u001b[39m1\u001b[39;49m)\u001b[39m/\u001b[39;49m(\u001b[39mlen\u001b[39;49m(stages) \u001b[39m-\u001b[39;49m total_count))\n",
      "\u001b[0;31mTypeError\u001b[0m: 'int' object is not iterable"
     ]
    }
   ],
   "source": [
    "stages=\t[2, 1, 2, 6, 2, 4, 3, 3]\n",
    "N = 5\n",
    "\n",
    "total_count=0\n",
    "for i in range(N):\n",
    "    print(i)\n",
    "    total_count += stages.count(i)\n",
    "    zip_list=zip(i+1, stages.count(i+1)/(len(stages) - total_count))"
   ]
  },
  {
   "cell_type": "code",
   "execution_count": 71,
   "metadata": {},
   "outputs": [
    {
     "name": "stdout",
     "output_type": "stream",
     "text": [
      "[0.125, 0.42857142857142855, 0.5, 0.5, 0.0]\n"
     ]
    }
   ],
   "source": []
  },
  {
   "cell_type": "code",
   "execution_count": 90,
   "metadata": {},
   "outputs": [
    {
     "data": {
      "text/plain": [
       "[3, 3, 2, 1, 5]"
      ]
     },
     "execution_count": 90,
     "metadata": {},
     "output_type": "execute_result"
    }
   ],
   "source": [
    "res= [(fail_ratio.index(i)+1) for i in sorted(fail_ratio, reverse=True)]"
   ]
  },
  {
   "cell_type": "code",
   "execution_count": 91,
   "metadata": {},
   "outputs": [],
   "source": [
    "#타코\n",
    "\n",
    "def solution(N, stages):\n",
    "    result = {}\n",
    "    denominator = len(stages)\n",
    "    for stage in range(1, N+1):\n",
    "        if denominator != 0:\n",
    "            count = stages.count(stage)\n",
    "            result[stage] = count / denominator\n",
    "            denominator -= count\n",
    "        else:\n",
    "            result[stage] = 0\n",
    "    return sorted(result, key=lambda x : result[x], reverse=True)\n",
    "\n",
    "#sorted(lambda)에 대해 좀더 이해하고 활용해보자...."
   ]
  },
  {
   "attachments": {},
   "cell_type": "markdown",
   "metadata": {},
   "source": [
    "### 146. 콜라 문제"
   ]
  },
  {
   "attachments": {},
   "cell_type": "markdown",
   "metadata": {},
   "source": [
    "오래전 유행했던 콜라 문제가 있습니다. 콜라 문제의 지문은 다음과 같습니다.\n",
    "\n",
    "정답은 아무에게도 말하지 마세요.\n",
    "\n",
    "콜라 빈 병 2개를 가져다주면 콜라 1병을 주는 마트가 있다. 빈 병 20개를 가져다주면 몇 병을 받을 수 있는가?\n",
    "\n",
    "단, 보유 중인 빈 병이 2개 미만이면, 콜라를 받을 수 없다.\n",
    "\n",
    "문제를 풀던 상빈이는 콜라 문제의 완벽한 해답을 찾았습니다. 상빈이가 푼 방법은 아래 그림과 같습니다. 우선 콜라 빈 병 20병을 가져가서 10병을 받습니다. 받은 10병을 모두 마신 뒤, 가져가서 5병을 받습니다. 5병 중 4병을 모두 마신 뒤 가져가서 2병을 받고, 또 2병을 모두 마신 뒤 가져가서 1병을 받습니다. 받은 1병과 5병을 받았을 때 남은 1병을 모두 마신 뒤 가져가면 1병을 또 받을 수 있습니다. 이 경우 상빈이는 총 10 + 5 + 2 + 1 + 1 = 19병의 콜라를 받을 수 있습니다.\n",
    "\n",
    "![](https://grepp-programmers.s3.ap-northeast-2.amazonaws.com/files/production/95ce1c11-2f21-4248-8bfc-e330299cbb9a/image6.PNG)\n",
    "\n",
    "문제를 열심히 풀던 상빈이는 일반화된 콜라 문제를 생각했습니다. 이 문제는 빈 병 a개를 가져다주면 콜라 b병을 주는 마트가 있을 때, 빈 병 n개를 가져다주면 몇 병을 받을 수 있는지 계산하는 문제입니다. 기존 콜라 문제와 마찬가지로, 보유 중인 빈 병이 a개 미만이면, 추가적으로 빈 병을 받을 순 없습니다. 상빈이는 열심히 고심했지만, 일반화된 콜라 문제의 답을 찾을 수 없었습니다. 상빈이를 도와, 일반화된 콜라 문제를 해결하는 프로그램을 만들어 주세요.\n",
    "\n",
    "콜라를 받기 위해 마트에 주어야 하는 병 수 a, 빈 병 a개를 가져다 주면 마트가 주는 콜라 병 수 b, 상빈이가 가지고 있는 빈 병의 개수 n이 매개변수로 주어집니다. 상빈이가 받을 수 있는 콜라의 병 수를 return 하도록 solution 함수를 작성해주세요.\n",
    "\n"
   ]
  },
  {
   "cell_type": "code",
   "execution_count": 1,
   "metadata": {},
   "outputs": [],
   "source": [
    "a, b, n = 2, 1, 20"
   ]
  },
  {
   "cell_type": "code",
   "execution_count": 13,
   "metadata": {},
   "outputs": [
    {
     "name": "stdout",
     "output_type": "stream",
     "text": [
      "9 0\n"
     ]
    }
   ],
   "source": [
    "a,b,n = 3,1,20\n",
    "\n",
    "free = 0\n",
    "last = 0\n",
    "\n",
    "while n//a >= 1:\n",
    "    free += n//a*b\n",
    "    last = n%a\n",
    "    n = last + n//a*b\n",
    "    last = 0\n",
    "    if n//a < 1:\n",
    "        break\n",
    "print(free, last)"
   ]
  },
  {
   "cell_type": "code",
   "execution_count": null,
   "metadata": {},
   "outputs": [],
   "source": [
    "# 타코\n",
    "solution = lambda a, b, n: max(n - b, 0) // (a - b) * b\n",
    "#이거 맞아?\n",
    "# 한꺼번에 계산하지 않고 a개만 팔고 b개를 받는 과정은 결국 a-b 개씩 병을 소비하는 것으로 생각, 첫번째 진행할 때는 a개만 소비되기 때문에, b만큼 못받음(-b), 그 조건을 먼저 계산 n-b 반복횟수는 n-b // (a-b) 여기에 받는 병수 b 곱한 것 .. 이렇게 풀수도 있군요 ㅎㅎ"
   ]
  },
  {
   "attachments": {},
   "cell_type": "markdown",
   "metadata": {},
   "source": [
    "### 147. [1차] 다트 게임"
   ]
  },
  {
   "attachments": {},
   "cell_type": "markdown",
   "metadata": {},
   "source": [
    "카카오톡 게임별의 하반기 신규 서비스로 다트 게임을 출시하기로 했다. 다트 게임은 다트판에 다트를 세 차례 던져 그 점수의 합계로 실력을 겨루는 게임으로, 모두가 간단히 즐길 수 있다.\n",
    "갓 입사한 무지는 코딩 실력을 인정받아 게임의 핵심 부분인 점수 계산 로직을 맡게 되었다. 다트 게임의 점수 계산 로직은 아래와 같다.\n",
    "\n",
    "- 다트 게임은 총 3번의 기회로 구성된다.\n",
    "- 각 기회마다 얻을 수 있는 점수는 0점에서 10점까지이다.\n",
    "- 점수와 함께 Single(S), Double(D), Triple(T) 영역이 존재하고 각 영역 당첨 시 점수에서 1제곱, 2제곱, 3제곱 (점수1 , 점수2 , 점수3 )으로 계산된다.\n",
    "- 옵션으로 스타상(*) , 아차상(#)이 존재하며 스타상(*) 당첨 시 해당 점수와 바로 전에 얻은 점수를 각 2배로 만든다. 아차상(#) 당첨 시 해당 점수는 마이너스된다.\n",
    "- 스타상(*)은 첫 번째 기회에서도 나올 수 있다. 이 경우 첫 번째 스타상(*)의 점수만 2배가 된다. (예제 4번 참고)\n",
    "- 스타상(*)의 효과는 다른 스타상(*)의 효과와 중첩될 수 있다. 이 경우 중첩된 스타상(*) 점수는 4배가 된다. (예제 4번 참고)\n",
    "- 스타상(*)의 효과는 아차상(#)의 효과와 중첩될 수 있다. 이 경우 중첩된 아차상(#)의 점수는 -2배가 된다. (예제 5번 참고)\n",
    "- Single(S), Double(D), Triple(T)은 점수마다 하나씩 존재한다.\n",
    "- 스타상(*), 아차상(#)은 점수마다 둘 중 하나만 존재할 수 있으며, 존재하지 않을 수도 있다.\n",
    "0~10의 정수와 문자 S, D, T, *, #로 구성된 문자열이 입력될 시 총점수를 반환하는 함수를 작성하라."
   ]
  },
  {
   "cell_type": "code",
   "execution_count": 2,
   "metadata": {},
   "outputs": [],
   "source": [
    "dR = '1D2S#10S'"
   ]
  },
  {
   "cell_type": "code",
   "execution_count": 4,
   "metadata": {},
   "outputs": [
    {
     "name": "stdout",
     "output_type": "stream",
     "text": [
      "1\n",
      "D\n",
      "2\n",
      "S\n",
      "#\n",
      "1\n",
      "0\n",
      "---\n",
      "0 0\n",
      "S\n"
     ]
    }
   ],
   "source": [
    "numlist = []\n",
    "\n",
    "for i in dR:\n",
    "    print(i)\n",
    "    if i.isdigit() == True :\n",
    "        numlist.append(i)\n",
    "        if i=='0':\n",
    "            print('---')\n",
    "            print(i[-1],i)"
   ]
  },
  {
   "cell_type": "code",
   "execution_count": 30,
   "metadata": {},
   "outputs": [
    {
     "name": "stdout",
     "output_type": "stream",
     "text": [
      "['1', '2', '10']\n",
      "['D', 'S#', 'S']\n"
     ]
    }
   ],
   "source": [
    "import re\n",
    "\n",
    "d = '1D2S#10S'\n",
    "m = re.findall('\\d{1,2}', d)\n",
    "print(m)\n",
    "# m은 세개의 숫자 점수 리스트! 각 원소에 대해 특수 계산을 마치고 다 더해주면 answer값!!\n",
    "n = re.findall('\\D{1,2}', d)\n",
    "print(n)\n",
    "# n은 세개의 숫자에 붙은 특수 계산 기호들!"
   ]
  },
  {
   "cell_type": "code",
   "execution_count": 25,
   "metadata": {},
   "outputs": [
    {
     "name": "stdout",
     "output_type": "stream",
     "text": [
      "1\n",
      "2\n",
      "10\n"
     ]
    }
   ],
   "source": [
    "for i in m:\n",
    "    print(i)\n",
    "    if "
   ]
  },
  {
   "cell_type": "code",
   "execution_count": 32,
   "metadata": {},
   "outputs": [],
   "source": [
    "def solution(dartResult):\n",
    "    n = ''\n",
    "    score = []\n",
    "    for i in dartResult:\n",
    "        if i.isnumeric():\n",
    "            n += i\n",
    "        elif i == 'S':\n",
    "            n = int(n)**1\n",
    "            score.append(n)\n",
    "            n = ''\n",
    "        elif i == 'D':\n",
    "            n = int(n)**2\n",
    "            score.append(n)\n",
    "            n = ''\n",
    "        elif i == 'T':\n",
    "            n = int(n)**3\n",
    "            score.append(n)\n",
    "            n = ''\n",
    "        elif i == '*':\n",
    "            if len(score) > 1:\n",
    "                score[-2] = score[-2] * 2\n",
    "                score[-1] = score[-1] * 2\n",
    "            else:\n",
    "                score[-1] = score[-1] * 2\n",
    "        elif i == '#':\n",
    "            score[-1] = score[-1] * -1\n",
    "        \n",
    "    return sum(score)"
   ]
  },
  {
   "cell_type": "code",
   "execution_count": 31,
   "metadata": {},
   "outputs": [],
   "source": [
    "#타코 정규 표현식 사용법을 잘 봐두자~!\n",
    "def solution(dartResult):\n",
    "    bonus = {'S' : 1, 'D' : 2, 'T' : 3}\n",
    "    option = {'' : 1, '*' : 2, '#' : -1}\n",
    "    p = re.compile('(\\d+)([SDT])([*#]?)')\n",
    "    dart = p.findall(dartResult)\n",
    "    for i in range(len(dart)):\n",
    "        if dart[i][2] == '*' and i > 0:\n",
    "            dart[i-1] *= 2\n",
    "        dart[i] = int(dart[i][0]) ** bonus[dart[i][1]] * option[dart[i][2]]\n",
    "\n",
    "    answer = sum(dart)\n",
    "    return answer"
   ]
  },
  {
   "attachments": {},
   "cell_type": "markdown",
   "metadata": {},
   "source": [
    "### 148. 푸드 파이트 대회"
   ]
  },
  {
   "attachments": {},
   "cell_type": "markdown",
   "metadata": {},
   "source": [
    "수웅이는 매달 주어진 음식을 빨리 먹는 푸드 파이트 대회를 개최합니다. 이 대회에서 선수들은 1대 1로 대결하며, 매 대결마다 음식의 종류와 양이 바뀝니다. 대결은 준비된 음식들을 일렬로 배치한 뒤, 한 선수는 제일 왼쪽에 있는 음식부터 오른쪽으로, 다른 선수는 제일 오른쪽에 있는 음식부터 왼쪽으로 순서대로 먹는 방식으로 진행됩니다. 중앙에는 물을 배치하고, 물을 먼저 먹는 선수가 승리하게 됩니다.\n",
    "\n",
    "이때, 대회의 공정성을 위해 두 선수가 먹는 음식의 종류와 양이 같아야 하며, 음식을 먹는 순서도 같아야 합니다. 또한, 이번 대회부터는 칼로리가 낮은 음식을 먼저 먹을 수 있게 배치하여 선수들이 음식을 더 잘 먹을 수 있게 하려고 합니다. 이번 대회를 위해 수웅이는 음식을 주문했는데, 대회의 조건을 고려하지 않고 음식을 주문하여 몇 개의 음식은 대회에 사용하지 못하게 되었습니다.\n",
    "\n",
    "예를 들어, 3가지의 음식이 준비되어 있으며, 칼로리가 적은 순서대로 1번 음식을 3개, 2번 음식을 4개, 3번 음식을 6개 준비했으며, 물을 편의상 0번 음식이라고 칭한다면, 두 선수는 1번 음식 1개, 2번 음식 2개, 3번 음식 3개씩을 먹게 되므로 음식의 배치는 \"1223330333221\"이 됩니다. 따라서 1번 음식 1개는 대회에 사용하지 못합니다.\n",
    "\n",
    "수웅이가 준비한 음식의 양을 칼로리가 적은 순서대로 나타내는 정수 배열 food가 주어졌을 때, 대회를 위한 음식의 배치를 나타내는 문자열을 return 하는 solution 함수를 완성해주세요.\n",
    "\n",
    "\n"
   ]
  },
  {
   "cell_type": "code",
   "execution_count": 51,
   "metadata": {},
   "outputs": [
    {
     "name": "stdout",
     "output_type": "stream",
     "text": [
      "3\n",
      "1\n",
      "-----\n",
      "2\n",
      "2\n",
      "-----\n",
      "3\n",
      "1\n",
      "-----\n",
      "121 0 121\n",
      "1210121\n"
     ]
    }
   ],
   "source": [
    "answer=''\n",
    "food=[1,3,2,3]\n",
    "\n",
    "for f in food[1:]:\n",
    "    print(f)\n",
    "    print(str(food.index(f))*(f//2))\n",
    "    print('-----')\n",
    "    answer+=str(food.index(f))*(f//2)\n",
    "print(answer,'0',answer[::-1])\n",
    "print(''.join(answer+'0'+answer[::-1]))\n",
    "    \n",
    "    "
   ]
  },
  {
   "cell_type": "code",
   "execution_count": 56,
   "metadata": {},
   "outputs": [
    {
     "name": "stdout",
     "output_type": "stream",
     "text": [
      "[(0, 1), (1, 3), (2, 2), (3, 3)]\n"
     ]
    }
   ],
   "source": [
    "prior=[(x,y) for x,y in enumerate(food)]\n",
    "\n",
    "print(prior)\n",
    "\n"
   ]
  },
  {
   "cell_type": "code",
   "execution_count": 57,
   "metadata": {},
   "outputs": [
    {
     "name": "stdout",
     "output_type": "stream",
     "text": [
      "(0, 1)\n",
      "(1, 3)\n",
      "(2, 2)\n",
      "(3, 3)\n"
     ]
    }
   ],
   "source": [
    "for i in prior:\n",
    "    print(i)"
   ]
  },
  {
   "cell_type": "code",
   "execution_count": 69,
   "metadata": {},
   "outputs": [
    {
     "name": "stdout",
     "output_type": "stream",
     "text": [
      "1\n",
      "1\n",
      "------\n",
      "2\n",
      "1\n",
      "------\n",
      "3\n",
      "1\n",
      "------\n",
      "123\n",
      "123 0 321\n",
      "1230321\n"
     ]
    }
   ],
   "source": [
    "answer=''\n",
    "for i in range(len(prior)-1):\n",
    "    print(prior[i+1][0])\n",
    "    print(prior[i+1][1]//2)\n",
    "    print('------')\n",
    "    answer+= str(prior[i+1][0])*(prior[i+1][1]//2)\n",
    "print(answer)\n",
    "print(answer,'0',answer[::-1])\n",
    "print(''.join(answer+'0'+answer[::-1]))"
   ]
  },
  {
   "cell_type": "code",
   "execution_count": 67,
   "metadata": {},
   "outputs": [
    {
     "data": {
      "text/plain": [
       "'111'"
      ]
     },
     "execution_count": 67,
     "metadata": {},
     "output_type": "execute_result"
    }
   ],
   "source": [
    "'1'*3"
   ]
  },
  {
   "attachments": {},
   "cell_type": "markdown",
   "metadata": {},
   "source": [
    "### 149. 로또의 최고 순위와 최저 순위"
   ]
  },
  {
   "attachments": {},
   "cell_type": "markdown",
   "metadata": {},
   "source": [
    "로또 6/45(이하 '로또'로 표기)는 1부터 45까지의 숫자 중 6개를 찍어서 맞히는 대표적인 복권입니다. 아래는 로또의 순위를 정하는 방식입니다. 1\n",
    "\n",
    "|순위|\t당첨 내용|\n",
    "|:---:|:---:|\n",
    "|1\t|6개 번호가 모두 일치|\n",
    "2\t|5개 번호가 일치|\n",
    "3\t|4개 번호가 일치|\n",
    "4\t|3개 번호가 일치|\n",
    "5\t|2개 번호가 일치|\n",
    "6(낙첨)|\t그 외|\n",
    "로또를 구매한 민우는 당첨 번호 발표일을 학수고대하고 있었습니다. 하지만, 민우의 동생이 로또에 낙서를 하여, 일부 번호를 알아볼 수 없게 되었습니다. 당첨 번호 발표 후, 민우는 자신이 구매했던 로또로 당첨이 가능했던 최고 순위와 최저 순위를 알아보고 싶어 졌습니다.\n",
    "알아볼 수 없는 번호를 0으로 표기하기로 하고, 민우가 구매한 로또 번호 6개가 44, 1, 0, 0, 31 25라고 가정해보겠습니다. 당첨 번호 6개가 31, 10, 45, 1, 6, 19라면, 당첨 가능한 최고 순위와 최저 순위의 한 예는 아래와 같습니다.\n",
    "\n",
    "|당첨 번호\t|31|\t10|\t45|\t1\t|6|\t19|\t결과|\n",
    "|:---:|:---:|:---:|:---:|:---:|:---:|:---:|:---:|\n",
    "|최고 순위 번호|\t31|\t0→10|\t44|\t1|\t0→6|\t25\t|4개 번호 일치, 3등\n",
    "|최저 순위 번호\t|31\t|0→11\t|44|\t1|\t0→7\t|25|\t2개 번호 일치, 5등\n",
    "순서와 상관없이, 구매한 로또에 당첨 번호와 일치하는 번호가 있으면 맞힌 걸로 인정됩니다.\n",
    "알아볼 수 없는 두 개의 번호를 각각 10, 6이라고 가정하면 3등에 당첨될 수 있습니다.\n",
    "3등을 만드는 다른 방법들도 존재합니다. 하지만, 2등 이상으로 만드는 것은 불가능합니다.\n",
    "알아볼 수 없는 두 개의 번호를 각각 11, 7이라고 가정하면 5등에 당첨될 수 있습니다.\n",
    "5등을 만드는 다른 방법들도 존재합니다. 하지만, 6등(낙첨)으로 만드는 것은 불가능합니다.\n",
    "민우가 구매한 로또 번호를 담은 배열 lottos, 당첨 번호를 담은 배열 win_nums가 매개변수로 주어집니다. 이때, 당첨 가능한 최고 순위와 최저 순위를 차례대로 배열에 담아서 return 하도록 solution 함수를 완성해주세요."
   ]
  },
  {
   "cell_type": "code",
   "execution_count": 90,
   "metadata": {},
   "outputs": [
    {
     "name": "stdout",
     "output_type": "stream",
     "text": [
      "6\n",
      "0\n",
      "6\n"
     ]
    },
    {
     "data": {
      "text/plain": [
       "[1, 1]"
      ]
     },
     "execution_count": 90,
     "metadata": {},
     "output_type": "execute_result"
    }
   ],
   "source": [
    "lottos = [45, 4, 35, 20, 3, 9]\n",
    "win_nums =[20, 9, 3, 45, 4, 35]\n",
    "zero_count=0\n",
    "cor_lotto = {1:6, 2:5, 3:4, 4:3, 5:2, 6:1, 7:0, 0:6}\n",
    "\n",
    "for l in lottos:\n",
    "    #print(l)\n",
    "    if l in win_nums :\n",
    "        count+=1\n",
    "    elif l == 0 :\n",
    "        zero_count+=1\n",
    "print(count) #0을 제외한 현재 맞춘 개수\n",
    "print(zero_count)\n",
    "\n",
    "# count의 개수에서 0의 개수만큼 더해준값이 최고값\n",
    "# count의 개수가 최저값\n",
    "\n",
    "print(count+zero_count)\n",
    "\n",
    "[cor_lotto[count+zero_count], cor_lotto[count]]"
   ]
  },
  {
   "cell_type": "code",
   "execution_count": null,
   "metadata": {},
   "outputs": [],
   "source": [
    "def solution(lottos, win_nums):\n",
    "    \n",
    "    rank=[6,6,5,4,3,2,1]\n",
    "\n",
    "    cnt_0 = lottos.count(0)\n",
    "    ans = 0\n",
    "    for x in win_nums:\n",
    "        if x in lottos:\n",
    "            ans += 1\n",
    "    return rank[cnt_0 + ans],rank[ans]\n",
    "# 타코 ; 굳이 딕셔너리까지 쓸 필요도 없었는데, 간단하게 리스트배열로 인덱스값찾는걸로 가면 될것을..."
   ]
  },
  {
   "attachments": {},
   "cell_type": "markdown",
   "metadata": {},
   "source": [
    "### 150. 체육복"
   ]
  },
  {
   "attachments": {},
   "cell_type": "markdown",
   "metadata": {},
   "source": [
    "점심시간에 도둑이 들어, 일부 학생이 체육복을 도난당했습니다. 다행히 여벌 체육복이 있는 학생이 이들에게 체육복을 빌려주려 합니다. 학생들의 번호는 체격 순으로 매겨져 있어, 바로 앞번호의 학생이나 바로 뒷번호의 학생에게만 체육복을 빌려줄 수 있습니다. 예를 들어, 4번 학생은 3번 학생이나 5번 학생에게만 체육복을 빌려줄 수 있습니다. 체육복이 없으면 수업을 들을 수 없기 때문에 체육복을 적절히 빌려 최대한 많은 학생이 체육수업을 들어야 합니다.\n",
    "\n",
    "전체 학생의 수 n, 체육복을 도난당한 학생들의 번호가 담긴 배열 lost, 여벌의 체육복을 가져온 학생들의 번호가 담긴 배열 reserve가 매개변수로 주어질 때, 체육수업을 들을 수 있는 학생의 최댓값을 return 하도록 solution 함수를 작성해주세요.\n"
   ]
  },
  {
   "cell_type": "code",
   "execution_count": 102,
   "metadata": {},
   "outputs": [
    {
     "name": "stdout",
     "output_type": "stream",
     "text": [
      "1 3\n",
      "3 5\n"
     ]
    },
    {
     "ename": "AttributeError",
     "evalue": "'int' object has no attribute 'pop'",
     "output_type": "error",
     "traceback": [
      "\u001b[0;31m---------------------------------------------------------------------------\u001b[0m",
      "\u001b[0;31mAttributeError\u001b[0m                            Traceback (most recent call last)",
      "Cell \u001b[0;32mIn[102], line 10\u001b[0m\n\u001b[1;32m      8\u001b[0m     \u001b[39mif\u001b[39;00m l\u001b[39m-\u001b[39m\u001b[39m1\u001b[39m \u001b[39mor\u001b[39;00m l\u001b[39m+\u001b[39m\u001b[39m1\u001b[39m \u001b[39min\u001b[39;00m reserve:\n\u001b[1;32m      9\u001b[0m         borrow\u001b[39m+\u001b[39m\u001b[39m=\u001b[39m\u001b[39m1\u001b[39m\n\u001b[0;32m---> 10\u001b[0m         reserve\u001b[39m=\u001b[39mreserve\u001b[39m.\u001b[39;49mpop()\n\u001b[1;32m     12\u001b[0m \u001b[39mprint\u001b[39m(borrow)\n\u001b[1;32m     15\u001b[0m answer \u001b[39m=\u001b[39mn \u001b[39m-\u001b[39m \u001b[39mlen\u001b[39m(lost) \u001b[39m+\u001b[39m borrow\n",
      "\u001b[0;31mAttributeError\u001b[0m: 'int' object has no attribute 'pop'"
     ]
    }
   ],
   "source": [
    "n = 5\n",
    "lost = [2,4]\n",
    "reserve = [3]\n",
    "borrow = 0\n",
    "\n",
    "for l in lost:\n",
    "    print(l-1,l+1)\n",
    "    if l-1 or l+1 in reserve:\n",
    "        borrow+=1\n",
    "        reserve\n",
    "        \n",
    "print(borrow)\n",
    "\n",
    "\n",
    "answer =n - len(lost) + borrow\n",
    "print(answer)\n",
    "\n"
   ]
  },
  {
   "cell_type": "code",
   "execution_count": 122,
   "metadata": {},
   "outputs": [
    {
     "name": "stdout",
     "output_type": "stream",
     "text": [
      "[[2, 3, 4]]\n",
      "2\n",
      "5\n"
     ]
    }
   ],
   "source": [
    "n = 5\n",
    "lost = [2,4]\n",
    "reserve = [3]\n",
    "borrow = 0\n",
    "\n",
    "ava_borrow =[]\n",
    "for i in reserve :\n",
    "    temp=[]\n",
    "    #print(i)\n",
    "    #print(i-1,i,i+1)\n",
    "    temp.append(i-1)\n",
    "    temp.append(i)\n",
    "    temp.append(i+1)\n",
    "    #print(temp)\n",
    "    ava_borrow.append(temp)\n",
    "print(ava_borrow)\n",
    "\n",
    "for l in lost:\n",
    "    #print(l-1,l+1)\n",
    "    for j in ava_borrow:\n",
    "        if l in j :\n",
    "            borrow+=1\n",
    "            j = ''\n",
    "            break\n",
    "#     if l in ava_borrow:\n",
    "#         borrow+=1\n",
    "#         ava_borrow=ava_borrow[1:]\n",
    "print(borrow)\n",
    "answer =n - len(lost) + borrow\n",
    "print(answer)"
   ]
  },
  {
   "cell_type": "code",
   "execution_count": 124,
   "metadata": {},
   "outputs": [],
   "source": [
    "def solution(n, lost, reserve):\n",
    "    reserve_student = set(reserve) - set(lost)\n",
    "    \n",
    "    lost_student = set(lost) - set(reserve)\n",
    "    \n",
    "    for student in reserve_student:\n",
    "        if (student - 1) in lost_student:\n",
    "            lost_student.remove(student - 1)\n",
    "        elif (student + 1) in lost_student:\n",
    "            lost_student.remove(student + 1)\n",
    "            \n",
    "    return n - len(lost_student)"
   ]
  }
 ],
 "metadata": {
  "kernelspec": {
   "display_name": "Python 3",
   "language": "python",
   "name": "python3"
  },
  "language_info": {
   "codemirror_mode": {
    "name": "ipython",
    "version": 3
   },
   "file_extension": ".py",
   "mimetype": "text/x-python",
   "name": "python",
   "nbconvert_exporter": "python",
   "pygments_lexer": "ipython3",
   "version": "3.9.6"
  },
  "orig_nbformat": 4,
  "vscode": {
   "interpreter": {
    "hash": "31f2aee4e71d21fbe5cf8b01ff0e069b9275f58929596ceb00d14d90e3e16cd6"
   }
  }
 },
 "nbformat": 4,
 "nbformat_minor": 2
}
