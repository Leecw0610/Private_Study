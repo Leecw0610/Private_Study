{
 "cells": [
  {
   "attachments": {},
   "cell_type": "markdown",
   "metadata": {},
   "source": [
    "### 91. 최빈값 구하기\n"
   ]
  },
  {
   "attachments": {},
   "cell_type": "markdown",
   "metadata": {},
   "source": [
    "최빈값은 주어진 값 중에서 가장 자주 나오는 값을 의미합니다. 정수 배열 array가 매개변수로 주어질 때, 최빈값을 return 하도록 solution 함수를 완성해보세요. 최빈값이 여러 개면 -1을 return 합니다."
   ]
  },
  {
   "cell_type": "code",
   "execution_count": 26,
   "metadata": {},
   "outputs": [],
   "source": [
    "import numpy as np\n",
    "import pandas as pd\n",
    "\n",
    "array=[1, 1, 2, 2]\n",
    "df=[[i] for i in array]"
   ]
  },
  {
   "cell_type": "code",
   "execution_count": 27,
   "metadata": {},
   "outputs": [],
   "source": [
    "df=pd.DataFrame(df)"
   ]
  },
  {
   "cell_type": "code",
   "execution_count": 29,
   "metadata": {},
   "outputs": [
    {
     "data": {
      "text/plain": [
       "pandas.core.frame.DataFrame"
      ]
     },
     "execution_count": 29,
     "metadata": {},
     "output_type": "execute_result"
    }
   ],
   "source": [
    "type(df.mode())"
   ]
  },
  {
   "cell_type": "code",
   "execution_count": 24,
   "metadata": {},
   "outputs": [
    {
     "ename": "AttributeError",
     "evalue": "'list' object has no attribute 'value'",
     "output_type": "error",
     "traceback": [
      "\u001b[1;31m---------------------------------------------------------------------------\u001b[0m",
      "\u001b[1;31mAttributeError\u001b[0m                            Traceback (most recent call last)",
      "\u001b[1;32m~\\AppData\\Local\\Temp\\ipykernel_22832\\4279186802.py\u001b[0m in \u001b[0;36m<module>\u001b[1;34m\u001b[0m\n\u001b[1;32m----> 1\u001b[1;33m \u001b[0marray\u001b[0m\u001b[1;33m.\u001b[0m\u001b[0mvalue\u001b[0m\u001b[1;33m(\u001b[0m\u001b[1;36m3\u001b[0m\u001b[1;33m)\u001b[0m\u001b[1;33m\u001b[0m\u001b[1;33m\u001b[0m\u001b[0m\n\u001b[0m",
      "\u001b[1;31mAttributeError\u001b[0m: 'list' object has no attribute 'value'"
     ]
    }
   ],
   "source": [
    "array.value(3)"
   ]
  },
  {
   "cell_type": "code",
   "execution_count": 30,
   "metadata": {},
   "outputs": [
    {
     "name": "stdout",
     "output_type": "stream",
     "text": [
      "-1\n"
     ]
    }
   ],
   "source": [
    "from collections import Counter\n",
    "from operator import itemgetter\n",
    "\n",
    "count_dict = Counter(array)\n",
    "count_list = count_dict.items()\n",
    "mode = sorted(count_list, key=itemgetter(1), reverse=True)[0][0]\n",
    "count_freq = Counter(count_dict.values())\n",
    "print(-1 if count_freq[count_dict[mode]]>1 else mode)"
   ]
  },
  {
   "cell_type": "code",
   "execution_count": 33,
   "metadata": {},
   "outputs": [],
   "source": [
    "#타 코 \n",
    "\n",
    "def solution(array):\n",
    "    while len(array) != 0:\n",
    "        for i, a in enumerate(set(array)):\n",
    "            array.remove(a)\n",
    "        if i == 0: return a\n",
    "    return -1\n",
    "# 하나씩 remove하다가 마지막에 남는 인덱스 0의 값을 return함. 같은 빈도 값이 여러개면 enumerate의 인덱스값이 0으로 for 문이 끝날 수가없어서 return이 -1이 된다"
   ]
  },
  {
   "cell_type": "code",
   "execution_count": 32,
   "metadata": {},
   "outputs": [
    {
     "name": "stdout",
     "output_type": "stream",
     "text": [
      "0 1\n",
      "[1, 2, 2]\n",
      "1 2\n",
      "[1, 2]\n"
     ]
    }
   ],
   "source": [
    "array = [1, 1, 2, 2]\n",
    "\n",
    "for i, a in enumerate(set(array)):\n",
    "    print(i,a)\n",
    "    array.remove(a)\n",
    "    print(array)"
   ]
  },
  {
   "attachments": {},
   "cell_type": "markdown",
   "metadata": {},
   "source": [
    "### 92. 다항식 더하기\n"
   ]
  },
  {
   "attachments": {},
   "cell_type": "markdown",
   "metadata": {},
   "source": [
    "한 개 이상의 항의 합으로 이루어진 식을 다항식이라고 합니다. 다항식을 계산할 때는 동류항끼리 계산해 정리합니다. 덧셈으로 이루어진 다항식 polynomial이 매개변수로 주어질 때, 동류항끼리 더한 결괏값을 문자열로 return 하도록 solution 함수를 완성해보세요. 같은 식이라면 가장 짧은 수식을 return 합니다."
   ]
  },
  {
   "cell_type": "code",
   "execution_count": 84,
   "metadata": {},
   "outputs": [],
   "source": [
    "polynomial =\"3x + 7 + x\""
   ]
  },
  {
   "cell_type": "code",
   "execution_count": 85,
   "metadata": {},
   "outputs": [],
   "source": [
    "polynomial=polynomial.replace(\" \",\"\").split(\"+\")"
   ]
  },
  {
   "cell_type": "code",
   "execution_count": 86,
   "metadata": {},
   "outputs": [
    {
     "data": {
      "text/plain": [
       "['3x', '7', 'x']"
      ]
     },
     "execution_count": 86,
     "metadata": {},
     "output_type": "execute_result"
    }
   ],
   "source": [
    "polynomial"
   ]
  },
  {
   "cell_type": "code",
   "execution_count": 71,
   "metadata": {},
   "outputs": [],
   "source": [
    "n_list=[p.replace('+',' ') for p in polynomial]"
   ]
  },
  {
   "cell_type": "code",
   "execution_count": 73,
   "metadata": {},
   "outputs": [],
   "source": [
    "x_list=[]\n",
    "for n in n_list:\n",
    "    if n in 'x':\n",
    "        x_list.append(n)"
   ]
  },
  {
   "cell_type": "code",
   "execution_count": 74,
   "metadata": {},
   "outputs": [
    {
     "data": {
      "text/plain": [
       "['x']"
      ]
     },
     "execution_count": 74,
     "metadata": {},
     "output_type": "execute_result"
    }
   ],
   "source": [
    "x_list"
   ]
  },
  {
   "cell_type": "code",
   "execution_count": 99,
   "metadata": {},
   "outputs": [],
   "source": [
    "def solution(polynomial):\n",
    "    x_num, num = 0, 0\n",
    "    polynomial=polynomial.replace(\" \",\"\").split(\"+\")\n",
    "    for i in polynomial:\n",
    "        if i.isnumeric():\n",
    "            num += int(i)\n",
    "        else:\n",
    "            if len(i) == 1:\n",
    "                x_num += 1\n",
    "            else:\n",
    "                x_num += int(i[:-1])\n",
    "    if x_num == \"0\" and num == \"0\":\n",
    "        return \"0\"\n",
    "    if x_num == \"0\":\n",
    "        return num\n",
    "    if x_num == \"1\":\n",
    "        x_num = \"\"\n",
    "    if num == \"0\":\n",
    "        return str(x_num) +\"x\"\n",
    "    return str(x_num) + \"x + \" +str(num)"
   ]
  },
  {
   "cell_type": "code",
   "execution_count": 100,
   "metadata": {},
   "outputs": [
    {
     "data": {
      "text/plain": [
       "'4x + 7'"
      ]
     },
     "execution_count": 100,
     "metadata": {},
     "output_type": "execute_result"
    }
   ],
   "source": [
    "polynomial = \"3x + 7 + x\"\n",
    "solution(\"3x + 7 + x\")"
   ]
  },
  {
   "cell_type": "code",
   "execution_count": 101,
   "metadata": {},
   "outputs": [],
   "source": [
    "# 머신러닝 떄 봤던 polynomial이 반가웠지만 어려움..;;"
   ]
  },
  {
   "attachments": {},
   "cell_type": "markdown",
   "metadata": {},
   "source": [
    "### 93. OX 퀴즈\n"
   ]
  },
  {
   "attachments": {},
   "cell_type": "markdown",
   "metadata": {},
   "source": [
    "덧셈, 뺄셈 수식들이 'X [연산자] Y = Z' 형태로 들어있는 문자열 배열 quiz가 매개변수로 주어집니다. 수식이 옳다면 \"O\"를 틀리다면 \"X\"를 순서대로 담은 배열을 return하도록 solution 함수를 완성해주세요.\n",
    "\n"
   ]
  },
  {
   "cell_type": "code",
   "execution_count": 102,
   "metadata": {},
   "outputs": [
    {
     "data": {
      "text/plain": [
       "['19 - 6 = 13', '5 + 66 = 71', '5 - 15 = 63', '3 - 1 = 2']"
      ]
     },
     "execution_count": 102,
     "metadata": {},
     "output_type": "execute_result"
    }
   ],
   "source": [
    "quiz = [\"3 - 4 = -3\", \"5 + 6 = 11\"]\n",
    "[\"19 - 6 = 13\", \"5 + 66 = 71\", \"5 - 15 = 63\", \"3 - 1 = 2\"]"
   ]
  },
  {
   "cell_type": "code",
   "execution_count": 118,
   "metadata": {},
   "outputs": [
    {
     "name": "stdout",
     "output_type": "stream",
     "text": [
      "[['3', '-', '4', '=', '-3'], ['5', '+', '6', '=', '11']]\n"
     ]
    }
   ],
   "source": [
    "sp_quiz=[q.split(' ') for q in quiz] # 전체 수식 리스트에서 수식 한개씩을 리스트로 갖는 리스트\n",
    "print(sp_quiz)"
   ]
  },
  {
   "cell_type": "code",
   "execution_count": 125,
   "metadata": {},
   "outputs": [
    {
     "name": "stdout",
     "output_type": "stream",
     "text": [
      "['O', 'O', 'X', 'O']\n"
     ]
    }
   ],
   "source": [
    "quiz = [\"19 - 6 = 13\", \"5 + 66 = 71\", \"5 - 15 = 63\", \"3 - 1 = 2\"]\n",
    "answer=[]\n",
    "\n",
    "sp_quiz=[q.split(' ') for q in quiz] \n",
    "for sp in sp_quiz:\n",
    "    if eval(''.join(sp[:-2])) == int(sp[-1]):\n",
    "        answer.append('O')\n",
    "    else :\n",
    "        answer.append('X')\n",
    "print(answer)\n",
    "\n",
    "# eval 은 편하다!"
   ]
  },
  {
   "attachments": {},
   "cell_type": "markdown",
   "metadata": {},
   "source": [
    "### 94. 다음에 올 숫자\n"
   ]
  },
  {
   "attachments": {},
   "cell_type": "markdown",
   "metadata": {},
   "source": [
    "등차수열 혹은 등비수열 common이 매개변수로 주어질 때, 마지막 원소 다음으로 올 숫자를 return 하도록 solution 함수를 완성해보세요"
   ]
  },
  {
   "cell_type": "code",
   "execution_count": 130,
   "metadata": {},
   "outputs": [
    {
     "data": {
      "text/plain": [
       "[2, 4, 8]"
      ]
     },
     "execution_count": 130,
     "metadata": {},
     "output_type": "execute_result"
    }
   ],
   "source": [
    "common=[2, 4, 8]\n",
    "[2, 4, 8]\n",
    "# 주어진  common이 등차인지 등비인지 구간슬라이싱 후 비교"
   ]
  },
  {
   "cell_type": "code",
   "execution_count": 131,
   "metadata": {},
   "outputs": [
    {
     "name": "stdout",
     "output_type": "stream",
     "text": [
      "16\n"
     ]
    }
   ],
   "source": [
    "n_count=0\n",
    "for n in range(len(common)-1) :\n",
    "    if common[n+1] % common[n] == 0 :\n",
    "        n_count += 1\n",
    "if n_count == len(common)-1 :\n",
    "    print(common[1]//common[0]*common[-1])\n",
    "else : \n",
    "    print(common[1]-common[0]+common[-1])"
   ]
  },
  {
   "cell_type": "code",
   "execution_count": null,
   "metadata": {},
   "outputs": [],
   "source": [
    "ef solution(common):\n",
    "    n_count=0\n",
    "    for n in range(len(common)-1)[:3] :\n",
    "        if common[n+2] % common[n+1] == 0 :\n",
    "            n_count += 1\n",
    "        else :\n",
    "            break\n",
    "    if n_count == len(common)-2 :\n",
    "        return common[2]//common[1]*common[-1]\n",
    "    else : \n",
    "        return common[2]-common[1]+common[-1]\n",
    "    \n",
    "    #런타임 에러 ; 왜 !!!!!!!!!!!!!!!"
   ]
  },
  {
   "cell_type": "code",
   "execution_count": null,
   "metadata": {},
   "outputs": [],
   "source": [
    "def solution(common):\n",
    "    c = common\n",
    "    answer = 0\n",
    "    if c[1] ** 2 == c[0] * c[2] and c[0]:\n",
    "        answer = c[-1] * (c[1] / c[0])\n",
    "    else:\n",
    "        answer = c[-1] + (c[1] - c[0])\n",
    "    return answer"
   ]
  },
  {
   "cell_type": "code",
   "execution_count": 132,
   "metadata": {},
   "outputs": [],
   "source": [
    "# 타 코\n",
    "def solution(common):\n",
    "    answer = 0\n",
    "    a,b,c = common[:3]\n",
    "    if (b-a) == (c-b):\n",
    "        return common[-1]+(b-a)\n",
    "    else:\n",
    "        return common[-1] * (b//a)\n",
    "    return answer\n",
    "\n",
    "# 요로케 짤 걸 아쉽다!!"
   ]
  },
  {
   "attachments": {},
   "cell_type": "markdown",
   "metadata": {},
   "source": [
    "### 95. 연속된 수의 합\n"
   ]
  },
  {
   "attachments": {},
   "cell_type": "markdown",
   "metadata": {},
   "source": [
    "연속된 세 개의 정수를 더해 12가 되는 경우는 3, 4, 5입니다. 두 정수 num과 total이 주어집니다. 연속된 수 num개를 더한 값이 total이 될 때, 정수 배열을 오름차순으로 담아 return하도록 solution함수를 완성해보세요."
   ]
  },
  {
   "cell_type": "code",
   "execution_count": 157,
   "metadata": {},
   "outputs": [],
   "source": [
    "num = 5\n",
    "total = 5"
   ]
  },
  {
   "cell_type": "code",
   "execution_count": 158,
   "metadata": {},
   "outputs": [
    {
     "name": "stdout",
     "output_type": "stream",
     "text": [
      "[-1, 0, 1, 2, 3]\n"
     ]
    }
   ],
   "source": [
    "if total%num == 0 :\n",
    "    answer=[i for i in range(total//num - num//2, total//num - num//2+num)]\n",
    "else :\n",
    "    answer=[i for i in range(total//num - num//2 + 1, total//num - num//2 + 1+num)]\n",
    "    \n",
    "print(answer)"
   ]
  },
  {
   "attachments": {},
   "cell_type": "markdown",
   "metadata": {},
   "source": [
    "### 96. 분수의 덧셈\n"
   ]
  },
  {
   "attachments": {},
   "cell_type": "markdown",
   "metadata": {},
   "source": [
    "첫 번째 분수의 분자와 분모를 뜻하는 denum1, num1, 두 번째 분수의 분자와 분모를 뜻하는 denum2, num2가 매개변수로 주어집니다. 두 분수를 더한 값을 기약 분수로 나타냈을 때 분자와 분모를 순서대로 담은 배열을 return 하도록 solution 함수를 완성해보세요."
   ]
  },
  {
   "attachments": {},
   "cell_type": "markdown",
   "metadata": {},
   "source": [
    "\n",
    "\n",
    "|denum1|\tnum1|\tdenum2|\tnum2|\tresult|\n",
    "|:---:|:---:|:---:|:---:|:---:|\n",
    "|1\t|2\t|3\t|4\t|[5, 4]|\n",
    "|9\t|2\t|1\t|3\t|[29, 6]|"
   ]
  },
  {
   "cell_type": "code",
   "execution_count": 173,
   "metadata": {},
   "outputs": [],
   "source": [
    "\n",
    "def GCD(x, y):\n",
    "    # 최대공약수\n",
    "    while(y) :\n",
    "        x,y=y,x%y\n",
    "    return x\n",
    "    \n",
    "    # 최소공배수\n",
    "def LCM(x, y):\n",
    "    result = (x*y)//GCD(x,y)\n",
    "    return result"
   ]
  },
  {
   "cell_type": "code",
   "execution_count": 177,
   "metadata": {},
   "outputs": [],
   "source": [
    "num1=2\n",
    "num2=3\n",
    "denum1 =9\n",
    "denum2 =1\n",
    "\n",
    "denumX=(num1 * num2) #---> result[1]\n",
    "numX=denum1 *num2 + denum2 *num1 #---> result [0]"
   ]
  },
  {
   "cell_type": "code",
   "execution_count": 179,
   "metadata": {},
   "outputs": [
    {
     "name": "stdout",
     "output_type": "stream",
     "text": [
      "[29, 6]\n"
     ]
    }
   ],
   "source": [
    "while GCD(denumX, numX) != 1 :\n",
    "    denumX /= GCD(denumX, numX)\n",
    "    numX /= GCD(denumX, numX)\n",
    "    \n",
    "print([int(numX), int(denumX)])"
   ]
  },
  {
   "attachments": {},
   "cell_type": "markdown",
   "metadata": {},
   "source": [
    "### 97. 안전지대\n"
   ]
  },
  {
   "attachments": {},
   "cell_type": "markdown",
   "metadata": {},
   "source": [
    "다음 그림과 같이 지뢰가 있는 지역과 지뢰에 인접한 위, 아래, 좌, 우 대각선 칸을 모두 위험지역으로 분류합니다.\n",
    "![image](https://grepp-programmers.s3.ap-northeast-2.amazonaws.com/files/production/124a2c93-da99-4643-96a8-292bb871f553/image.png)\n",
    "지뢰는 2차원 배열 board에 1로 표시되어 있고 board에는 지뢰가 매설 된 지역 1과, 지뢰가 없는 지역 0만 존재합니다.\n",
    "지뢰가 매설된 지역의 지도 board가 매개변수로 주어질 때, 안전한 지역의 칸 수를 return하도록 solution 함수를 완성해주세요."
   ]
  },
  {
   "cell_type": "code",
   "execution_count": 180,
   "metadata": {},
   "outputs": [],
   "source": [
    "board =[[0, 0, 0, 0, 0], [0, 0, 0, 0, 0], [0, 0, 0, 0, 0], [0, 0, 1, 1, 0], [0, 0, 0, 0, 0]]"
   ]
  },
  {
   "cell_type": "code",
   "execution_count": 50,
   "metadata": {},
   "outputs": [
    {
     "name": "stdout",
     "output_type": "stream",
     "text": [
      "[0, 0, 0, 0, 0]\n",
      "---\n",
      "[0, 0, 1, 1, 0]\n",
      "지뢰 발견\n",
      "지뢰 좌표 : 1 2\n",
      "지뢰 발견\n",
      "지뢰 좌표 : 1 3\n",
      "---\n",
      "[0, 1, 0, 0, 1]\n",
      "지뢰 발견\n",
      "지뢰 좌표 : 2 1\n",
      "지뢰 발견\n",
      "지뢰 좌표 : 2 4\n",
      "---\n",
      "[1, 0, 0, 0, 1]\n",
      "지뢰 발견\n",
      "지뢰 좌표 : 3 0\n",
      "지뢰 발견\n",
      "지뢰 좌표 : 3 4\n",
      "---\n",
      "[1, 0, 0, 0, 0]\n",
      "지뢰 발견\n",
      "지뢰 좌표 : 4 0\n",
      "---\n",
      "[(1, 2), (1, 3), (2, 1), (2, 4), (3, 0), (3, 4), (4, 0)]\n",
      "[[0, 0, 0, 0, 0], [0, 0, 0, 0, 0], [0, 0, 0, 0, 0], [0, 0, 0, 0, 0], [0, 0, 0, 0, 0]]\n"
     ]
    }
   ],
   "source": [
    "board =[[0, 0, 0, 0, 0], [0, 0, 1, 1, 0], [0, 1, 0, 0, 1], [1, 0, 0, 0, 1], [1, 0, 0, 0, 0]]\n",
    "bomb=[]\n",
    "for width in board :\n",
    "    print(width)\n",
    "    for leng in width:\n",
    "        if leng == 1:\n",
    "            print('지뢰 발견')\n",
    "            print('지뢰 좌표 :',board.index(width), width.index(leng))\n",
    "            bomb.append((board.index(width), width.index(leng)))\n",
    "            width[width.index(leng)] = 0\n",
    "            \n",
    "            \n",
    "    print('---')\n",
    "print(bomb)\n",
    "print(board)"
   ]
  },
  {
   "cell_type": "code",
   "execution_count": 9,
   "metadata": {},
   "outputs": [],
   "source": [
    "list_=[1, 0, 0, 0, 1]"
   ]
  },
  {
   "cell_type": "code",
   "execution_count": 13,
   "metadata": {},
   "outputs": [
    {
     "name": "stdout",
     "output_type": "stream",
     "text": [
      "0\n",
      "1\n",
      "1\n",
      "1\n",
      "0\n"
     ]
    }
   ],
   "source": [
    "for o in list_ :\n",
    "    print(list_.index(o))"
   ]
  },
  {
   "cell_type": "code",
   "execution_count": 22,
   "metadata": {},
   "outputs": [
    {
     "data": {
      "text/plain": [
       "[(1, 2), (1, 3), (2, 1), (2, 4), (3, 0), (3, 4), (4, 0)]"
      ]
     },
     "execution_count": 22,
     "metadata": {},
     "output_type": "execute_result"
    }
   ],
   "source": [
    "bomb"
   ]
  },
  {
   "cell_type": "code",
   "execution_count": 27,
   "metadata": {},
   "outputs": [
    {
     "ename": "SyntaxError",
     "evalue": "invalid syntax (3281036565.py, line 3)",
     "output_type": "error",
     "traceback": [
      "\u001b[0;36m  Cell \u001b[0;32mIn[27], line 3\u001b[0;36m\u001b[0m\n\u001b[0;31m    print(i[0]-1:i[0]+2,i[1]-1:i[1]+2)\u001b[0m\n\u001b[0m                ^\u001b[0m\n\u001b[0;31mSyntaxError\u001b[0m\u001b[0;31m:\u001b[0m invalid syntax\n"
     ]
    }
   ],
   "source": [
    "for i in range(len(board):\n",
    "    #print(i[0],i[1])\n",
    "    print(i[0]-1:i[0]+2,i[1]-1:i[1]+2)\n",
    "    # for j in i :\n",
    "    #     print(j)"
   ]
  },
  {
   "cell_type": "code",
   "execution_count": 40,
   "metadata": {},
   "outputs": [
    {
     "name": "stdout",
     "output_type": "stream",
     "text": [
      "(1, 2)\n",
      "1로 바꿔야 하는 구간:  0 : 2\n",
      "1로 바꿔야 하는 구간:  1 : 3\n",
      "(1, 3)\n",
      "1로 바꿔야 하는 구간:  0 : 2\n",
      "1로 바꿔야 하는 구간:  2 : 4\n",
      "(2, 1)\n",
      "1로 바꿔야 하는 구간:  1 : 3\n",
      "1로 바꿔야 하는 구간:  0 : 2\n",
      "(2, 4)\n",
      "1로 바꿔야 하는 구간:  1 : 3\n",
      "1로 바꿔야 하는 구간:  3 : 4\n",
      "(3, 0)\n",
      "1로 바꿔야 하는 구간:  2 : 4\n",
      "1로 바꿔야 하는 구간:  0 : 1\n",
      "(3, 4)\n",
      "1로 바꿔야 하는 구간:  2 : 4\n",
      "1로 바꿔야 하는 구간:  3 : 4\n",
      "(4, 0)\n",
      "1로 바꿔야 하는 구간:  3 : 4\n",
      "1로 바꿔야 하는 구간:  0 : 1\n"
     ]
    }
   ],
   "source": [
    "for i in bomb :\n",
    "    print(i)\n",
    "    for j in i :\n",
    "        if j == 0 :\n",
    "            print('1로 바꿔야 하는 구간: ',0,':',j+1)\n",
    "        elif j == len(board)-1 :\n",
    "            print('1로 바꿔야 하는 구간: ',j-1,':',len(board)-1)\n",
    "        else :\n",
    "            print('1로 바꿔야 하는 구간: ',j-1,':',j+1)"
   ]
  },
  {
   "cell_type": "code",
   "execution_count": 43,
   "metadata": {},
   "outputs": [
    {
     "ename": "ModuleNotFoundError",
     "evalue": "No module named 'numpy'",
     "output_type": "error",
     "traceback": [
      "\u001b[0;31m---------------------------------------------------------------------------\u001b[0m",
      "\u001b[0;31mModuleNotFoundError\u001b[0m                       Traceback (most recent call last)",
      "Cell \u001b[0;32mIn[43], line 2\u001b[0m\n\u001b[1;32m      1\u001b[0m \u001b[39m# 타코\u001b[39;00m\n\u001b[0;32m----> 2\u001b[0m \u001b[39mimport\u001b[39;00m \u001b[39mnumpy\u001b[39;00m \u001b[39mas\u001b[39;00m \u001b[39mnp\u001b[39;00m\n\u001b[1;32m      3\u001b[0m \u001b[39mdef\u001b[39;00m \u001b[39msolution\u001b[39m(board):\n\u001b[1;32m      4\u001b[0m     board \u001b[39m=\u001b[39m np\u001b[39m.\u001b[39marray(board)\n",
      "\u001b[0;31mModuleNotFoundError\u001b[0m: No module named 'numpy'"
     ]
    }
   ],
   "source": [
    "# 타코\n",
    "import numpy as np\n",
    "def solution(board):\n",
    "    board = np.array(board)\n",
    "    for a, b in zip(*np.where(board == 1)): #zip과 np.where를 써서 쉽게 구한 폭탄좌표\n",
    "        board[a-1 if a else 0:a+2, b-1 if b else 0:b+2] = 1\n",
    "    return len(board[board == 0])\n",
    "# 나도 numpy 배웠는데 왜 이렇게 못쓰니.."
   ]
  },
  {
   "cell_type": "code",
   "execution_count": 46,
   "metadata": {},
   "outputs": [
    {
     "name": "stdout",
     "output_type": "stream",
     "text": [
      "Defaulting to user installation because normal site-packages is not writeable\n",
      "Collecting numpy\n",
      "  Downloading numpy-1.23.5-cp39-cp39-macosx_10_9_x86_64.whl (18.1 MB)\n",
      "\u001b[K     |████████████████████████████████| 18.1 MB 14.6 MB/s eta 0:00:01\n",
      "\u001b[?25hInstalling collected packages: numpy\n",
      "\u001b[33m  WARNING: The scripts f2py, f2py3 and f2py3.9 are installed in '/Users/user/Library/Python/3.9/bin' which is not on PATH.\n",
      "  Consider adding this directory to PATH or, if you prefer to suppress this warning, use --no-warn-script-location.\n",
      "  NOTE: The current PATH contains path(s) starting with `~`, which may not be expanded by all applications.\u001b[0m\n",
      "Successfully installed numpy-1.23.5\n",
      "\u001b[33mWARNING: You are using pip version 21.2.4; however, version 22.3.1 is available.\n",
      "You should consider upgrading via the '/Library/Developer/CommandLineTools/usr/bin/python3 -m pip install --upgrade pip' command.\u001b[0m\n",
      "Note: you may need to restart the kernel to use updated packages.\n"
     ]
    }
   ],
   "source": [
    "#pip install numpy"
   ]
  },
  {
   "cell_type": "code",
   "execution_count": 52,
   "metadata": {},
   "outputs": [
    {
     "data": {
      "text/plain": [
       "array([[0, 0, 0, 0, 0],\n",
       "       [0, 0, 1, 1, 0],\n",
       "       [0, 1, 0, 0, 1],\n",
       "       [1, 0, 0, 0, 1],\n",
       "       [1, 0, 0, 0, 0]])"
      ]
     },
     "execution_count": 52,
     "metadata": {},
     "output_type": "execute_result"
    }
   ],
   "source": [
    "import numpy as np\n",
    "\n",
    "board =[[0, 0, 0, 0, 0], [0, 0, 1, 1, 0], [0, 1, 0, 0, 1], [1, 0, 0, 0, 1], [1, 0, 0, 0, 0]]\n",
    "board = np.array(board)\n",
    "board"
   ]
  },
  {
   "cell_type": "code",
   "execution_count": 53,
   "metadata": {},
   "outputs": [
    {
     "name": "stdout",
     "output_type": "stream",
     "text": [
      "1 2\n",
      "1 3\n",
      "2 1\n",
      "2 4\n",
      "3 0\n",
      "3 4\n",
      "4 0\n"
     ]
    }
   ],
   "source": [
    "for a, b in zip(*np.where(board == 1)):\n",
    "    print(a,b)"
   ]
  },
  {
   "cell_type": "code",
   "execution_count": null,
   "metadata": {},
   "outputs": [],
   "source": [
    "a-1 if a else 0:a+2"
   ]
  },
  {
   "attachments": {},
   "cell_type": "markdown",
   "metadata": {},
   "source": [
    "### 98. 겹치는 선분의 길이\n"
   ]
  },
  {
   "attachments": {
    "image.png": {
     "image/png": "[encoded data removed]"
    }
   },
   "cell_type": "markdown",
   "metadata": {},
   "source": [
    "선분 3개가 평행하게 놓여 있습니다. 세 선분의 시작과 끝 좌표가 [[start, end], [start, end], [start, end]] 형태로 들어있는 2차원 배열 lines가 매개변수로 주어질 때, 두 개 이상의 선분이 겹치는 부분의 길이를 return 하도록 solution 함수를 완성해보세요.\n",
    "\n",
    "lines가 [[0, 2], [-3, -1], [-2, 1]]일 때 그림으로 나타내면 다음과 같습니다.\n",
    "![image.png](attachment:image.png)\n",
    "\n",
    "선분이 두 개 이상 겹친 곳은 [-2, -1], [0, 1]로 길이 2만큼 겹쳐있습니다."
   ]
  },
  {
   "attachments": {},
   "cell_type": "markdown",
   "metadata": {},
   "source": [
    "|lines\t|result|\n",
    "|:---:|:---:|\n",
    "|[[0, 1], [2, 5], [3, 9]]|\t2|\n",
    "|[[-1, 1], [1, 3], [3, 9]]|\t0|\n",
    "|[[0, 5], [3, 9], [1, 10]]|\t8|"
   ]
  },
  {
   "cell_type": "code",
   "execution_count": 58,
   "metadata": {},
   "outputs": [
    {
     "data": {
      "text/plain": [
       "[20, 10]"
      ]
     },
     "execution_count": 58,
     "metadata": {},
     "output_type": "execute_result"
    }
   ],
   "source": [
    "min([[100, 5], [30, 9], [20, 10]])"
   ]
  },
  {
   "cell_type": "code",
   "execution_count": 65,
   "metadata": {},
   "outputs": [
    {
     "name": "stdout",
     "output_type": "stream",
     "text": [
      "[-1, 1, 1, 3, 3, 9]\n",
      "-1 9\n"
     ]
    }
   ],
   "source": [
    "lines = [[-1, 1], [1, 3], [3, 9]]\n",
    "li=[]\n",
    "for i in lines :\n",
    "    li+=i\n",
    "    \n",
    "print(li)\n",
    "print(min(li), max(li))"
   ]
  },
  {
   "cell_type": "code",
   "execution_count": 66,
   "metadata": {},
   "outputs": [],
   "source": [
    "def solution(lines):\n",
    "    graph={}\n",
    "    min_graph, max_graph = float('inf'), float('-inf')\n",
    "    for line in lines :\n",
    "        graph.setdefault(line[0],0)\n",
    "        graph.setdefault(line[1],0)\n",
    "        min_line, max_line = min(line), max(line)\n",
    "        min_graph, max_graph = min(min_graph, min_line), max(max_graph, max_line)\n",
    "        graph[min_line] += 1\n",
    "        graph[max_line] -= 1\n",
    "    count = answer = 0\n",
    "    for i in range(min_graph, max_graph+1 ):\n",
    "        if t := graph.get(i) :\n",
    "            count = count + t\n",
    "        if count > 1:\n",
    "            answer += 1\n",
    "        return answer"
   ]
  },
  {
   "cell_type": "code",
   "execution_count": 67,
   "metadata": {},
   "outputs": [
    {
     "data": {
      "text/plain": [
       "0"
      ]
     },
     "execution_count": 67,
     "metadata": {},
     "output_type": "execute_result"
    }
   ],
   "source": [
    "solution([[-1, 1], [1, 3], [3, 9]])"
   ]
  },
  {
   "cell_type": "code",
   "execution_count": 76,
   "metadata": {},
   "outputs": [
    {
     "ename": "AttributeError",
     "evalue": "'list' object has no attribute 'replace'",
     "output_type": "error",
     "traceback": [
      "\u001b[0;31m---------------------------------------------------------------------------\u001b[0m",
      "\u001b[0;31mAttributeError\u001b[0m                            Traceback (most recent call last)",
      "Cell \u001b[0;32mIn[76], line 6\u001b[0m\n\u001b[1;32m      4\u001b[0m \u001b[39mfor\u001b[39;00m i \u001b[39min\u001b[39;00m lines :\n\u001b[1;32m      5\u001b[0m     \u001b[39mfor\u001b[39;00m j \u001b[39min\u001b[39;00m i :\n\u001b[0;32m----> 6\u001b[0m         i\u001b[39m.\u001b[39;49mreplace(j,\u001b[39m100\u001b[39m\u001b[39m+\u001b[39mj)\n\u001b[1;32m      7\u001b[0m \u001b[39mprint\u001b[39m(lines)\n",
      "\u001b[0;31mAttributeError\u001b[0m: 'list' object has no attribute 'replace'"
     ]
    }
   ],
   "source": [
    "lis = [0 for i in range(200)]\n",
    "lines = [[-1, 1], [1, 3], [3, 9]]\n",
    "\n",
    "for i in lines :\n",
    "    for j in i :\n",
    "        i[j]\n",
    "print(lines)"
   ]
  },
  {
   "cell_type": "code",
   "execution_count": 77,
   "metadata": {},
   "outputs": [],
   "source": [
    "#?????"
   ]
  },
  {
   "attachments": {},
   "cell_type": "markdown",
   "metadata": {},
   "source": [
    "### 99. 평행\n"
   ]
  },
  {
   "attachments": {},
   "cell_type": "markdown",
   "metadata": {},
   "source": [
    "점 네 개의 좌표를 담은 이차원 배열  dots가 다음과 같이 매개변수로 주어집니다.\n",
    "\n",
    "[[x1, y1], [x2, y2], [x3, y3], [x4, y4]]\n",
    "주어진 네 개의 점을 두 개씩 이었을 때, 두 직선이 평행이 되는 경우가 있으면 1을 없으면 0을 return 하도록 solution 함수를 완성해보세요."
   ]
  },
  {
   "cell_type": "code",
   "execution_count": 79,
   "metadata": {},
   "outputs": [],
   "source": [
    "dots = [[1, 4], [9, 2], [3, 8], [11, 6]]"
   ]
  },
  {
   "cell_type": "code",
   "execution_count": 84,
   "metadata": {},
   "outputs": [
    {
     "name": "stdout",
     "output_type": "stream",
     "text": [
      "1\n",
      "4\n"
     ]
    }
   ],
   "source": [
    "for d in dots[0] :\n",
    "    print(d)"
   ]
  },
  {
   "cell_type": "code",
   "execution_count": null,
   "metadata": {},
   "outputs": [],
   "source": []
  },
  {
   "cell_type": "code",
   "execution_count": null,
   "metadata": {},
   "outputs": [],
   "source": []
  },
  {
   "cell_type": "code",
   "execution_count": null,
   "metadata": {},
   "outputs": [],
   "source": []
  },
  {
   "cell_type": "code",
   "execution_count": null,
   "metadata": {},
   "outputs": [],
   "source": []
  },
  {
   "cell_type": "code",
   "execution_count": null,
   "metadata": {},
   "outputs": [],
   "source": []
  },
  {
   "attachments": {},
   "cell_type": "markdown",
   "metadata": {},
   "source": [
    "### 100. 옹알이 (1)\n"
   ]
  },
  {
   "attachments": {},
   "cell_type": "markdown",
   "metadata": {},
   "source": [
    "머쓱이는 태어난 지 6개월 된 조카를 돌보고 있습니다. 조카는 아직 \"aya\", \"ye\", \"woo\", \"ma\" 네 가지 발음을 최대 한 번씩 사용해 조합한(이어 붙인) 발음밖에 하지 못합니다. 문자열 배열 babbling이 매개변수로 주어질 때, 머쓱이의 조카가 발음할 수 있는 단어의 개수를 return하도록 solution 함수를 완성해주세요."
   ]
  },
  {
   "cell_type": "code",
   "execution_count": 95,
   "metadata": {},
   "outputs": [
    {
     "name": "stdout",
     "output_type": "stream",
     "text": [
      "*** ayaye\n",
      "aya\n",
      "요소하나포함함!\n",
      "---  ye\n",
      "ye\n",
      "요소하나포함함!\n",
      "---   \n",
      "woo\n",
      "ma\n",
      "*** uuuma\n",
      "aya\n",
      "ye\n",
      "woo\n",
      "ma\n",
      "요소하나포함함!\n",
      "--- uuu \n",
      "*** ye\n",
      "aya\n",
      "ye\n",
      "요소하나포함함!\n",
      "---  \n",
      "woo\n",
      "ma\n",
      "*** yemawoo\n",
      "aya\n",
      "ye\n",
      "요소하나포함함!\n",
      "---  mawoo\n",
      "woo\n",
      "요소하나포함함!\n",
      "---  ma \n",
      "ma\n",
      "요소하나포함함!\n",
      "---    \n",
      "*** ayaa\n",
      "aya\n",
      "요소하나포함함!\n",
      "---  a\n",
      "ye\n",
      "woo\n",
      "ma\n"
     ]
    }
   ],
   "source": [
    "# def solution(babbling):\n",
    "pronunciations = [\"aya\", \"ye\", \"woo\", \"ma\"]\n",
    "babbling=[\"ayaye\", \"uuuma\", \"ye\", \"yemawoo\", \"ayaa\"]\n",
    "\n",
    "answer = 0\n",
    "for bab in babbling:\n",
    "    print('***',bab)\n",
    "    for pro in pronunciations:\n",
    "        print(pro)\n",
    "        if bab.__contains__(pro):\n",
    "            print('요소하나포함함!')\n",
    "            bab = bab.replace(pro, ' ')\n",
    "            print('---',bab)\n",
    "            \n",
    "\n",
    "    bab = bab.strip()\n",
    "    if bab == '':\n",
    "        answer += 1\n",
    "\n",
    "    # return answer\n"
   ]
  }
 ],
 "metadata": {
  "kernelspec": {
   "display_name": "Python 3",
   "language": "python",
   "name": "python3"
  },
  "language_info": {
   "codemirror_mode": {
    "name": "ipython",
    "version": 3
   },
   "file_extension": ".py",
   "mimetype": "text/x-python",
   "name": "python",
   "nbconvert_exporter": "python",
   "pygments_lexer": "ipython3",
   "version": "3.9.6"
  },
  "orig_nbformat": 4,
  "vscode": {
   "interpreter": {
    "hash": "31f2aee4e71d21fbe5cf8b01ff0e069b9275f58929596ceb00d14d90e3e16cd6"
   }
  }
 },
 "nbformat": 4,
 "nbformat_minor": 2
}
