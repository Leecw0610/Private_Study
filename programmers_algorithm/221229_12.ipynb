{
 "cells": [
  {
   "attachments": {},
   "cell_type": "markdown",
   "metadata": {},
   "source": [
    "### 171. 피보나치 수\n"
   ]
  },
  {
   "attachments": {},
   "cell_type": "markdown",
   "metadata": {},
   "source": [
    "피보나치 수는 F(0) = 0, F(1) = 1일 때, 1 이상의 n에 대하여 F(n) = F(n-1) + F(n-2) 가 적용되는 수 입니다.\n",
    "\n",
    "예를들어\n",
    "\n",
    "- F(2) = F(0) + F(1) = 0 + 1 = 1\n",
    "- F(3) = F(1) + F(2) = 1 + 1 = 2\n",
    "- F(4) = F(2) + F(3) = 1 + 2 = 3\n",
    "- F(5) = F(3) + F(4) = 2 + 3 = 5\n",
    "와 같이 이어집니다.\n",
    "\n",
    "2 이상의 n이 입력되었을 때, n번째 피보나치 수를 1234567으로 나눈 나머지를 리턴하는 함수, solution을 완성해 주세요.\n",
    "\n"
   ]
  },
  {
   "cell_type": "code",
   "execution_count": 7,
   "metadata": {},
   "outputs": [
    {
     "name": "stdout",
     "output_type": "stream",
     "text": [
      "1 1\n",
      "2 1\n",
      "3 2\n",
      "4 3\n",
      "5 5\n",
      "6 8\n",
      "7 13\n",
      "8 21\n",
      "9 34\n",
      "10 55\n"
     ]
    }
   ],
   "source": [
    "n = 10\n",
    "\n",
    "def fibo(n) :\n",
    "    return fibo(n-1) + fibo(n-2) if n>=2 else n\n",
    "\n",
    "\n",
    "for n in range(1,11):\n",
    "    print(n, fibo(n))\n",
    "    "
   ]
  },
  {
   "cell_type": "code",
   "execution_count": null,
   "metadata": {},
   "outputs": [],
   "source": [
    "def solution(n):\n",
    "    fib=[0,1]\n",
    "    for i in range(2, n+1):\n",
    "        fib.append((fib[i-2]+fib[i-1])%1234567)\n",
    "    return fib[-1]"
   ]
  },
  {
   "cell_type": "code",
   "execution_count": null,
   "metadata": {},
   "outputs": [],
   "source": []
  },
  {
   "attachments": {},
   "cell_type": "markdown",
   "metadata": {},
   "source": [
    "\n",
    "### 172. 다음 큰 숫자\n"
   ]
  },
  {
   "attachments": {},
   "cell_type": "markdown",
   "metadata": {},
   "source": [
    "자연수 n이 주어졌을 때, n의 다음 큰 숫자는 다음과 같이 정의 합니다.\n",
    "\n",
    "- 조건 1. n의 다음 큰 숫자는 n보다 큰 자연수 입니다.\n",
    "- 조건 2. n의 다음 큰 숫자와 n은 2진수로 변환했을 때 1의 갯수가 같습니다.\n",
    "- 조건 3. n의 다음 큰 숫자는 조건 1, 2를 만족하는 수 중 가장 작은 수 입니다.\n",
    "\n",
    "예를 들어서 78(1001110)의 다음 큰 숫자는 83(1010011)입니다.\n",
    "\n",
    "자연수 n이 매개변수로 주어질 때, n의 다음 큰 숫자를 return 하는 solution 함수를 완성해주세요."
   ]
  },
  {
   "cell_type": "code",
   "execution_count": null,
   "metadata": {},
   "outputs": [],
   "source": []
  },
  {
   "cell_type": "code",
   "execution_count": 19,
   "metadata": {},
   "outputs": [],
   "source": [
    "n= 78\n",
    "\n",
    "# i ) x >n\n",
    "# ii ) bin(n) 의 1의 갯수 = bin(x) 의 1의 갯수"
   ]
  },
  {
   "cell_type": "code",
   "execution_count": 33,
   "metadata": {},
   "outputs": [
    {
     "name": "stdout",
     "output_type": "stream",
     "text": [
      "4\n",
      ";;;;;;;;;;;;;;;;;\n",
      "16\n",
      "10000\n",
      "1\n",
      "-------\n",
      "17\n",
      "10001\n",
      "2\n",
      "-------\n",
      "18\n",
      "10010\n",
      "2\n",
      "-------\n",
      "19\n",
      "10011\n",
      "3\n",
      "-------\n",
      "20\n",
      "10100\n",
      "2\n",
      "-------\n",
      "21\n",
      "10101\n",
      "3\n",
      "-------\n",
      "22\n",
      "10110\n",
      "3\n",
      "-------\n",
      "23\n",
      "10111\n",
      "4\n",
      "-------\n",
      "23\n"
     ]
    }
   ],
   "source": [
    "n = 15\n",
    "print(bin(n)[2:].count('1'))\n",
    "print(';;;;;;;;;;;;;;;;;')\n",
    "\n",
    "\n",
    "#while n <= 100000 :\n",
    "for i in range(n+1, 90):\n",
    "    print(i)\n",
    "    print(bin(i)[2:])\n",
    "    print(bin(i)[2:].count('1'))\n",
    "    print('-------')\n",
    "    if bin(i)[2:].count('1') == bin(n)[2:].count('1') :\n",
    "        result = i\n",
    "        break\n",
    "print(result)"
   ]
  },
  {
   "cell_type": "code",
   "execution_count": 34,
   "metadata": {},
   "outputs": [],
   "source": [
    "#bin을 모르면 조금 걸리는 문제지만, bin 사용해서 수월하게 pass"
   ]
  },
  {
   "attachments": {},
   "cell_type": "markdown",
   "metadata": {},
   "source": [
    "\n",
    "### 173. 카펫\n"
   ]
  },
  {
   "attachments": {},
   "cell_type": "markdown",
   "metadata": {},
   "source": [
    "Leo는 카펫을 사러 갔다가 아래 그림과 같이 중앙에는 노란색으로 칠해져 있고 테두리 1줄은 갈색으로 칠해져 있는 격자 모양 카펫을 봤습니다.\n",
    "\n",
    "![](https://grepp-programmers.s3.ap-northeast-2.amazonaws.com/files/production/b1ebb809-f333-4df2-bc81-02682900dc2d/carpet.png)\n",
    "\n",
    "Leo는 집으로 돌아와서 아까 본 카펫의 노란색과 갈색으로 색칠된 격자의 개수는 기억했지만, 전체 카펫의 크기는 기억하지 못했습니다.\n",
    "\n",
    "Leo가 본 카펫에서 갈색 격자의 수 brown, 노란색 격자의 수 yellow가 매개변수로 주어질 때 카펫의 가로, 세로 크기를 순서대로 배열에 담아 return 하도록 solution 함수를 작성해주세요."
   ]
  },
  {
   "cell_type": "code",
   "execution_count": 66,
   "metadata": {},
   "outputs": [
    {
     "name": "stdout",
     "output_type": "stream",
     "text": [
      "5\n",
      "5\n",
      "6\n",
      "7\n",
      "8\n",
      "9\n",
      "10\n",
      "11\n",
      "12\n"
     ]
    }
   ],
   "source": [
    "import math\n",
    "\n",
    "brown = 18\n",
    "yellow = 6\n",
    "\n",
    "print(math.ceil((brown + yellow) ** 0.5))\n",
    "\n",
    "# while math.ceil((brown + yellow) ** 0.5) > 1 :\n",
    "for i in range ( math.ceil((brown + yellow) ** 0.5), (brown+yellow)//2+1):\n",
    "    print(i)\n",
    "    if ((brown + yellow) % i == 0) and (brown-2) * (yellow-2) == yellow:\n",
    "        print( i, (brown+yellow)//i)\n",
    "        break"
   ]
  },
  {
   "cell_type": "code",
   "execution_count": 67,
   "metadata": {},
   "outputs": [],
   "source": [
    "def solution(brown, yellow):\n",
    "    answer = []\n",
    "    total = brown + yellow                 \n",
    "    for b in range(1,total+1):\n",
    "        if (total / b) % 1 == 0:           \n",
    "            a = total / b\n",
    "            if a >= b:                     \n",
    "                if 2*a + 2*b == brown + 4: \n",
    "                    return [a,b]\n",
    "            \n",
    "    return answer"
   ]
  },
  {
   "cell_type": "code",
   "execution_count": 68,
   "metadata": {},
   "outputs": [],
   "source": [
    "def solution(brown, red):\n",
    "    for i in range(1, int(red**(1/2))+1):\n",
    "        if red % i == 0:\n",
    "            if 2*(i + red//i) == brown-4:\n",
    "                return [red//i+2, i+2]\n",
    "# 타코\n",
    "# 이걸 만들고싶었는데..\n",
    "# 2*(i + red//i)가 노랑이 차지하는 직사각형 구역이 되고 이게 brown -4와 같아야한다는 조건이 필요했다."
   ]
  },
  {
   "attachments": {},
   "cell_type": "markdown",
   "metadata": {},
   "source": [
    "\n",
    "### 174. 짝지어 제거하기\n"
   ]
  },
  {
   "attachments": {},
   "cell_type": "markdown",
   "metadata": {},
   "source": [
    "짝지어 제거하기는, 알파벳 소문자로 이루어진 문자열을 가지고 시작합니다. 먼저 문자열에서 같은 알파벳이 2개 붙어 있는 짝을 찾습니다. 그다음, 그 둘을 제거한 뒤, 앞뒤로 문자열을 이어 붙입니다. 이 과정을 반복해서 문자열을 모두 제거한다면 짝지어 제거하기가 종료됩니다. 문자열 S가 주어졌을 때, 짝지어 제거하기를 성공적으로 수행할 수 있는지 반환하는 함수를 완성해 주세요. 성공적으로 수행할 수 있으면 1을, 아닐 경우 0을 리턴해주면 됩니다."
   ]
  },
  {
   "cell_type": "code",
   "execution_count": 92,
   "metadata": {},
   "outputs": [
    {
     "name": "stdout",
     "output_type": "stream",
     "text": [
      "b\n",
      "a\n",
      "a\n",
      "b\n",
      "a\n",
      "a\n"
     ]
    }
   ],
   "source": [
    "s = 'baabaa'\n",
    "stack = ''\n",
    "\n",
    "for i in s:\n",
    "    \n",
    "    if i == stack[-1] :\n",
    "        stack += i\n",
    "        print(stack)\n",
    "        stack = stack[:-2]"
   ]
  },
  {
   "cell_type": "code",
   "execution_count": 85,
   "metadata": {},
   "outputs": [
    {
     "data": {
      "text/plain": [
       "['b', 'a', 'a', 'b', 'a', 'a']"
      ]
     },
     "execution_count": 85,
     "metadata": {},
     "output_type": "execute_result"
    }
   ],
   "source": [
    "list(s)"
   ]
  },
  {
   "cell_type": "code",
   "execution_count": 86,
   "metadata": {},
   "outputs": [
    {
     "data": {
      "text/plain": [
       "'baabaa'"
      ]
     },
     "execution_count": 86,
     "metadata": {},
     "output_type": "execute_result"
    }
   ],
   "source": [
    "s"
   ]
  },
  {
   "cell_type": "code",
   "execution_count": null,
   "metadata": {},
   "outputs": [],
   "source": [
    "def solution(s):\n",
    "    answer = 0\n",
    "    test = []\n",
    "    for i in s:\n",
    "        if len(test)==0:\n",
    "            test.append(i)\n",
    "        else:\n",
    "            if test[-1] == i :\n",
    "                test.pop()\n",
    "            else:\n",
    "                test.append(i)\n",
    "    if len(test)==0:\n",
    "        answer = 1\n",
    "    return answer"
   ]
  },
  {
   "attachments": {},
   "cell_type": "markdown",
   "metadata": {},
   "source": [
    "\n",
    "### 175. 영어 끝말잇기\n"
   ]
  },
  {
   "attachments": {},
   "cell_type": "markdown",
   "metadata": {},
   "source": [
    "1부터 n까지 번호가 붙어있는 n명의 사람이 영어 끝말잇기를 하고 있습니다. 영어 끝말잇기는 다음과 같은 규칙으로 진행됩니다.\n",
    "\n",
    "1. 1번부터 번호 순서대로 한 사람씩 차례대로 단어를 말합니다.\n",
    "2. 마지막 사람이 단어를 말한 다음에는 다시 1번부터 시작합니다.\n",
    "3. 앞사람이 말한 단어의 마지막 문자로 시작하는 단어를 말해야 합니다.\n",
    "4. 이전에 등장했던 단어는 사용할 수 없습니다.\n",
    "5. 한 글자인 단어는 인정되지 않습니다.\n",
    "\n",
    "다음은 3명이 끝말잇기를 하는 상황을 나타냅니다.\n",
    "\n",
    "tank → kick → know → wheel → land → dream → mother → robot → tank\n",
    "\n",
    "위 끝말잇기는 다음과 같이 진행됩니다.\n",
    "\n",
    "- 1번 사람이 자신의 첫 번째 차례에 tank를 말합니다.\n",
    "- 2번 사람이 자신의 첫 번째 차례에 kick을 말합니다.\n",
    "- 3번 사람이 자신의 첫 번째 차례에 know를 말합니다.\n",
    "- 1번 사람이 자신의 두 번째 차례에 wheel을 말합니다.\n",
    "- (계속 진행)\n",
    "\n",
    "끝말잇기를 계속 진행해 나가다 보면, 3번 사람이 자신의 세 번째 차례에 말한 tank 라는 단어는 이전에 등장했던 단어이므로 탈락하게 됩니다.\n",
    "\n",
    "사람의 수 n과 사람들이 순서대로 말한 단어 words 가 매개변수로 주어질 때, 가장 먼저 탈락하는 사람의 번호와 그 사람이 자신의 몇 번째 차례에 탈락하는지를 구해서 return 하도록 solution 함수를 완성해주세요."
   ]
  },
  {
   "cell_type": "code",
   "execution_count": 160,
   "metadata": {},
   "outputs": [],
   "source": [
    "words =[\"hello\", \"one\", \"even\", \"never\", \"now\", \"world\", \"draw\"]\n",
    "n = 2"
   ]
  },
  {
   "cell_type": "code",
   "execution_count": 161,
   "metadata": {},
   "outputs": [
    {
     "name": "stdout",
     "output_type": "stream",
     "text": [
      "1 3\n"
     ]
    }
   ],
   "source": [
    "correct=[]\n",
    "\n",
    "# for i in range(0,len(words),n):\n",
    "#     print('1번사람 :', words[i])\n",
    "#     print('2번사람 :', words[i+1])\n",
    "#     print('3번사람 :', words[i+2])\n",
    "    \n",
    "    \n",
    "for i in range(len(words)):    \n",
    "    # print(words[i])\n",
    "    # print(words[i][0])\n",
    "    if len(correct) >= 1 :\n",
    "        if words[i][0] != correct[-1][-1] :\n",
    "            print(i%n+1, len(correct)//n+1)\n",
    "            break\n",
    "    \n",
    "    \n",
    "    if words[i] in correct :\n",
    "        print(i%n+1, len(correct)//n+1)\n",
    "        break\n",
    "    else :\n",
    "        correct.append(words[i])\n",
    "else : \n",
    "    print([0,0])\n",
    "\n"
   ]
  },
  {
   "cell_type": "code",
   "execution_count": 162,
   "metadata": {},
   "outputs": [],
   "source": [
    "def solution(n, words):\n",
    "    for p in range(1, len(words)):\n",
    "        if words[p][0] != words[p-1][-1] or words[p] in words[:p]: return [(p%n)+1, (p//n)+1]\n",
    "    else:\n",
    "        return [0,0]\n",
    "    \n",
    "    #타코\n",
    "    # 원리는 똑같은데 표기법이 간단한듯..\n",
    "    # range에 1부터 시작 줬으면 나도 마지막값에 1씩 안더해도됫는데,\n",
    "    # if문 한줄로 쓰는거나 slice로 리스트에 있는지 없는지 찾은거는 알아두자"
   ]
  },
  {
   "attachments": {},
   "cell_type": "markdown",
   "metadata": {},
   "source": [
    "\n",
    "### 176. 구명보트"
   ]
  },
  {
   "attachments": {},
   "cell_type": "markdown",
   "metadata": {},
   "source": [
    "무인도에 갇힌 사람들을 구명보트를 이용하여 구출하려고 합니다. 구명보트는 작아서 한 번에 최대 2명씩 밖에 탈 수 없고, 무게 제한도 있습니다.\n",
    "\n",
    "예를 들어, 사람들의 몸무게가 [70kg, 50kg, 80kg, 50kg]이고 구명보트의 무게 제한이 100kg이라면 2번째 사람과 4번째 사람은 같이 탈 수 있지만 1번째 사람과 3번째 사람의 무게의 합은 150kg이므로 구명보트의 무게 제한을 초과하여 같이 탈 수 없습니다.\n",
    "\n",
    "구명보트를 최대한 적게 사용하여 모든 사람을 구출하려고 합니다.\n",
    "\n",
    "사람들의 몸무게를 담은 배열 people과 구명보트의 무게 제한 limit가 매개변수로 주어질 때, 모든 사람을 구출하기 위해 필요한 구명보트 개수의 최솟값을 return 하도록 solution 함수를 작성해주세요."
   ]
  },
  {
   "cell_type": "code",
   "execution_count": 6,
   "metadata": {},
   "outputs": [
    {
     "data": {
      "text/plain": [
       "deque([50, 50, 70, 80])"
      ]
     },
     "execution_count": 6,
     "metadata": {},
     "output_type": "execute_result"
    }
   ],
   "source": [
    "people = [70, 50, 80, 50]\n",
    "limit = 100\n",
    "# return = 3\n",
    "\n",
    "from collections import deque\n",
    "deque(sorted(people))"
   ]
  },
  {
   "cell_type": "code",
   "execution_count": 7,
   "metadata": {},
   "outputs": [],
   "source": [
    "from collections import deque\n",
    "def solution(people, limit):\n",
    "    answer = 0\n",
    "    deq = deque(sorted(people))\n",
    "    while deq:\n",
    "        if len(deq) == 1:\n",
    "            answer += 1\n",
    "            break\n",
    "        if deq[0] + deq[-1] <= limit:\n",
    "            deq.pop()\n",
    "            deq.popleft()\n",
    "        else:\n",
    "            deq.pop()\n",
    "        answer += 1\n",
    "    return answer"
   ]
  },
  {
   "cell_type": "code",
   "execution_count": 8,
   "metadata": {},
   "outputs": [],
   "source": [
    "def solution(people, limit) :\n",
    "    answer = 0\n",
    "    people.sort()\n",
    "\n",
    "    a = 0\n",
    "    b = len(people) - 1\n",
    "    while a < b :\n",
    "        if people[b] + people[a] <= limit :\n",
    "            a += 1\n",
    "            answer += 1\n",
    "        b -= 1\n",
    "    return len(people) - answer\n",
    "#타코\n",
    "# 특이한게 보트수를 구하는 거라 전체 사람수에서 2명씩 짝지어 나간 인원만 빼줘서 보트의 수를 구한 것"
   ]
  },
  {
   "attachments": {},
   "cell_type": "markdown",
   "metadata": {},
   "source": [
    "\n",
    "### 177. N개의 최소공배수\n"
   ]
  },
  {
   "attachments": {},
   "cell_type": "markdown",
   "metadata": {},
   "source": [
    "두 수의 최소공배수(Least Common Multiple)란 입력된 두 수의 배수 중 공통이 되는 가장 작은 숫자를 의미합니다. 예를 들어 2와 7의 최소공배수는 14가 됩니다. 정의를 확장해서, n개의 수의 최소공배수는 n 개의 수들의 배수 중 공통이 되는 가장 작은 숫자가 됩니다. n개의 숫자를 담은 배열 arr이 입력되었을 때 이 수들의 최소공배수를 반환하는 함수, solution을 완성해 주세요."
   ]
  },
  {
   "cell_type": "code",
   "execution_count": 17,
   "metadata": {},
   "outputs": [
    {
     "name": "stdout",
     "output_type": "stream",
     "text": [
      "2\n",
      "4\n",
      "6\n",
      "8\n",
      "10\n",
      "12\n",
      "14\n",
      "16\n",
      "18\n",
      "20\n",
      "22\n",
      "24\n",
      "26\n",
      "28\n",
      "30\n"
     ]
    }
   ],
   "source": [
    "arr =[2,6,8,14]\n",
    "sorted(arr)\n",
    "\n",
    "for i in range(0,30+1, sorted(arr)[0])[1:]:\n",
    "    print(i)\n",
    "    # for a in arr :\n",
    "    #     if i % a == 0"
   ]
  },
  {
   "cell_type": "code",
   "execution_count": 18,
   "metadata": {},
   "outputs": [
    {
     "name": "stdout",
     "output_type": "stream",
     "text": [
      "168\n"
     ]
    }
   ],
   "source": [
    "from math import gcd\n",
    "arr = [2,6,8,14]\n",
    "\n",
    "def solution(arr):\n",
    "    answer = arr[0]\n",
    "    for i in range(1, len(arr)):\n",
    "        answer = (answer*arr[i]) // gcd(answer, arr[i])\n",
    "    return answer\n",
    "\n",
    "print(solution(arr))\n",
    "\n"
   ]
  },
  {
   "cell_type": "code",
   "execution_count": 20,
   "metadata": {},
   "outputs": [],
   "source": [
    "def solution(arr):\n",
    "    MAX = max(arr)\n",
    "\n",
    "    while True:\n",
    "        cnt = 0\n",
    "        MAX += 1\n",
    "\n",
    "        for a in arr:\n",
    "            if MAX%a == 0:\n",
    "                cnt += 1\n",
    "        if cnt == len(arr):\n",
    "            break\n",
    "    return MAX\n",
    "#타코\n",
    "# 내가 짜고싶었던 코든데 딱 있는게 신기.. 반복문으로 반복하며 arr리스트 값들이 모두 나누어 떨어지는 수를 만났을 때만 break하고 그 값을 반환하는..코드 잘봐두자"
   ]
  },
  {
   "attachments": {},
   "cell_type": "markdown",
   "metadata": {},
   "source": [
    "\n",
    "### 178. 예상 대진표\n"
   ]
  },
  {
   "attachments": {},
   "cell_type": "markdown",
   "metadata": {},
   "source": [
    "△△ 게임대회가 개최되었습니다. 이 대회는 N명이 참가하고, 토너먼트 형식으로 진행됩니다. N명의 참가자는 각각 1부터 N번을 차례대로 배정받습니다. 그리고, 1번↔2번, 3번↔4번, ... , N-1번↔N번의 참가자끼리 게임을 진행합니다. 각 게임에서 이긴 사람은 다음 라운드에 진출할 수 있습니다. 이때, 다음 라운드에 진출할 참가자의 번호는 다시 1번부터 N/2번을 차례대로 배정받습니다. 만약 1번↔2번 끼리 겨루는 게임에서 2번이 승리했다면 다음 라운드에서 1번을 부여받고, 3번↔4번에서 겨루는 게임에서 3번이 승리했다면 다음 라운드에서 2번을 부여받게 됩니다. 게임은 최종 한 명이 남을 때까지 진행됩니다.\n",
    "\n",
    "이때, 처음 라운드에서 A번을 가진 참가자는 경쟁자로 생각하는 B번 참가자와 몇 번째 라운드에서 만나는지 궁금해졌습니다. 게임 참가자 수 N, 참가자 번호 A, 경쟁자 번호 B가 함수 solution의 매개변수로 주어질 때, 처음 라운드에서 A번을 가진 참가자는 경쟁자로 생각하는 B번 참가자와 몇 번째 라운드에서 만나는지 return 하는 solution 함수를 완성해 주세요. 단, A번 참가자와 B번 참가자는 서로 붙게 되기 전까지 항상 이긴다고 가정합니다."
   ]
  },
  {
   "cell_type": "code",
   "execution_count": 22,
   "metadata": {},
   "outputs": [],
   "source": [
    "N, A, B = 8, 4, 7\n",
    "#answer = 3"
   ]
  },
  {
   "cell_type": "code",
   "execution_count": 26,
   "metadata": {},
   "outputs": [
    {
     "data": {
      "text/plain": [
       "(1, 2)"
      ]
     },
     "execution_count": 26,
     "metadata": {},
     "output_type": "execute_result"
    }
   ],
   "source": [
    "A, B = 4, 7\n",
    "A//2, B//2+1 #그다음 번호 짝이면 걍, 홀이면 +1\n",
    "\n",
    "A, B = 2, 4\n",
    "A//2, B//2\n",
    "\n",
    "#두 수의 차가 1이면 return 하고 그값에 1을 더함"
   ]
  },
  {
   "cell_type": "code",
   "execution_count": 33,
   "metadata": {},
   "outputs": [
    {
     "name": "stdout",
     "output_type": "stream",
     "text": [
      "3\n"
     ]
    }
   ],
   "source": [
    "A, B = 4, 5\n",
    "cnt = 1\n",
    "\n",
    "\n",
    "while True :\n",
    "    if abs(A-B) == 1 and B%2 == 0:\n",
    "        print(cnt)\n",
    "        break\n",
    "    \n",
    "    if A % 2 == 0:\n",
    "        A=A//2\n",
    "    else :\n",
    "        A=A//2+1\n",
    "    if B % 2 == 0:\n",
    "        B=B//2\n",
    "    else :\n",
    "        B=B//2+1\n",
    "    \n",
    "    cnt += 1\n"
   ]
  },
  {
   "cell_type": "code",
   "execution_count": 35,
   "metadata": {},
   "outputs": [],
   "source": [
    "def solution(n,a,b):\n",
    "    return ((a-1)^(b-1)).bit_length()\n",
    "#타코1. 보고도 모르겠어서 찾아봤다\n",
    "# ^는 XOR연산자고 비트의 차이로 둘사이의 거리를 구하는 개념이라고 이해했다ㄷㄷ 이보단,"
   ]
  },
  {
   "cell_type": "code",
   "execution_count": 36,
   "metadata": {},
   "outputs": [],
   "source": [
    "def solution(n,a,b):\n",
    "    answer = 0\n",
    "    while a != b:\n",
    "        answer += 1\n",
    "        a, b = (a+1)//2, (b+1)//2\n",
    "\n",
    "    return answer\n",
    "#타코2. 이거가 더 이해하기 어려웠는데,\n",
    "#(a+1) 과 (b+1)을 둘다 2로 나눈 몫으로 해버릴 수 있는 이유가 결국 토너먼트상에서 두선수가 최종적으로 만나려면 홀수(작은수)가 앞에 오기 때문에 두개에 1씩 더해서 2로 나눈 몫이 앞수가 홀수여야 값이 다르기 떄문에 저렇게 간소화해도 무방하단걸 알았다. 따라서 8강대진에서 4번과 5번이 사실상 한번에 만나는게 아닌 최종전에서 만날 수 있는데 그 메커니즘이 이 식에서 while 문이 같지 않다는 걸로 증명을 하고있다"
   ]
  },
  {
   "attachments": {},
   "cell_type": "markdown",
   "metadata": {},
   "source": [
    "### 179. 점프와 순간 이동\n"
   ]
  },
  {
   "attachments": {},
   "cell_type": "markdown",
   "metadata": {},
   "source": [
    "OO 연구소는 한 번에 K 칸을 앞으로 점프하거나, (현재까지 온 거리) x 2 에 해당하는 위치로 순간이동을 할 수 있는 특수한 기능을 가진 아이언 슈트를 개발하여 판매하고 있습니다. 이 아이언 슈트는 건전지로 작동되는데, 순간이동을 하면 건전지 사용량이 줄지 않지만, 앞으로 K 칸을 점프하면 K 만큼의 건전지 사용량이 듭니다. 그러므로 아이언 슈트를 착용하고 이동할 때는 순간 이동을 하는 것이 더 효율적입니다. 아이언 슈트 구매자는 아이언 슈트를 착용하고 거리가 N 만큼 떨어져 있는 장소로 가려고 합니다. 단, 건전지 사용량을 줄이기 위해 점프로 이동하는 것은 최소로 하려고 합니다. 아이언 슈트 구매자가 이동하려는 거리 N이 주어졌을 때, 사용해야 하는 건전지 사용량의 최솟값을 return하는 solution 함수를 만들어 주세요."
   ]
  },
  {
   "cell_type": "code",
   "execution_count": 48,
   "metadata": {},
   "outputs": [
    {
     "name": "stdout",
     "output_type": "stream",
     "text": [
      "2\n"
     ]
    }
   ],
   "source": [
    "N = 6\n",
    "cnt = 0\n",
    "\n",
    "while N>0:\n",
    "    if N%2 == 0 :\n",
    "        N = N // 2\n",
    "        #print(N)\n",
    "    else : \n",
    "        N=N-1\n",
    "        cnt+=1\n",
    "print(cnt)"
   ]
  },
  {
   "cell_type": "code",
   "execution_count": 49,
   "metadata": {},
   "outputs": [],
   "source": [
    "def solution(n):\n",
    "    return bin(n).count('1')\n",
    "#타코.\n",
    "# 현타 씨게오네"
   ]
  },
  {
   "attachments": {},
   "cell_type": "markdown",
   "metadata": {},
   "source": [
    "### 180. 멀리 뛰기\n"
   ]
  },
  {
   "attachments": {},
   "cell_type": "markdown",
   "metadata": {},
   "source": [
    "효진이는 멀리 뛰기를 연습하고 있습니다. 효진이는 한번에 1칸, 또는 2칸을 뛸 수 있습니다. 칸이 총 4개 있을 때, 효진이는\n",
    "(1칸, 1칸, 1칸, 1칸)\n",
    "(1칸, 2칸, 1칸)\n",
    "(1칸, 1칸, 2칸)\n",
    "(2칸, 1칸, 1칸)\n",
    "(2칸, 2칸)\n",
    "의 5가지 방법으로 맨 끝 칸에 도달할 수 있습니다. 멀리뛰기에 사용될 칸의 수 n이 주어질 때, 효진이가 끝에 도달하는 방법이 몇 가지인지 알아내, 여기에 1234567를 나눈 나머지를 리턴하는 함수, solution을 완성하세요. 예를 들어 4가 입력된다면, 5를 return하면 됩니다."
   ]
  },
  {
   "cell_type": "code",
   "execution_count": 68,
   "metadata": {},
   "outputs": [],
   "source": [
    "from itertools import combinations\n",
    "import math\n"
   ]
  },
  {
   "cell_type": "code",
   "execution_count": 54,
   "metadata": {},
   "outputs": [
    {
     "data": {
      "text/plain": [
       "[2, 2, 1, 1]"
      ]
     },
     "execution_count": 54,
     "metadata": {},
     "output_type": "execute_result"
    }
   ],
   "source": [
    "[2] *2 +[1] *2"
   ]
  },
  {
   "cell_type": "code",
   "execution_count": 56,
   "metadata": {},
   "outputs": [
    {
     "name": "stdout",
     "output_type": "stream",
     "text": [
      "(2, 2)\n",
      "(2, 1)\n",
      "(2, 1)\n",
      "(2, 1)\n",
      "(2, 1)\n",
      "(1, 1)\n"
     ]
    }
   ],
   "source": [
    "for i in combinations([2, 2, 1, 1], 2):\n",
    "    print(i)"
   ]
  },
  {
   "cell_type": "code",
   "execution_count": 67,
   "metadata": {},
   "outputs": [
    {
     "name": "stdout",
     "output_type": "stream",
     "text": [
      "0\n",
      "[0, 0, 10]\n",
      "1\n",
      "[1, 1, 9]\n",
      "2\n",
      "[2, 2, 8]\n",
      "3\n",
      "[3, 3, 7]\n",
      "4\n",
      "[4, 4, 6]\n",
      "5\n",
      "[5, 5, 5]\n"
     ]
    }
   ],
   "source": [
    "n= 10\n",
    "\n",
    "for i in range(n//2+1):\n",
    "    print(i)\n",
    "    print(2*[i] + 1*[n-i])\n",
    "    \n",
    "    # for i in combinations (2*[i] + 1*[n-i], n) :\n",
    "    #     print(i)"
   ]
  },
  {
   "cell_type": "code",
   "execution_count": 69,
   "metadata": {},
   "outputs": [
    {
     "data": {
      "text/plain": [
       "6"
      ]
     },
     "execution_count": 69,
     "metadata": {},
     "output_type": "execute_result"
    }
   ],
   "source": [
    "# def num_comb(n):\n",
    "#     for i in combinations( , ):\n",
    "#         print()\n",
    "\n",
    "math.comb(4,2)"
   ]
  },
  {
   "cell_type": "code",
   "execution_count": 94,
   "metadata": {},
   "outputs": [
    {
     "name": "stdout",
     "output_type": "stream",
     "text": [
      "0\n",
      "1\n",
      "----\n",
      "1\n",
      "2\n",
      "----\n",
      "3\n"
     ]
    }
   ],
   "source": [
    "n= 3\n",
    "cnt = 0\n",
    "\n",
    "\n",
    "for i in range(n//2+1):\n",
    "    print(i)\n",
    "    \n",
    "    print(math.comb(n-i,i))\n",
    "    cnt += math.comb(n-i,i)\n",
    "    print('----')\n",
    "    \n",
    "print(cnt)"
   ]
  },
  {
   "cell_type": "code",
   "execution_count": 93,
   "metadata": {},
   "outputs": [],
   "source": [
    "def solution(n):\n",
    "    a, b = 0, 1\n",
    "    for i in range(n):\n",
    "        a, b = b, a+b\n",
    "    return b % 1234567\n",
    "#타코 \n",
    "#효율성 차이 때문에 조합 방법을 정답과 연관 짓질 못하니\n",
    "#답답해서 걍 타코써서 통과하고 내가 푼 방식과 비슷한 방식을 찾아봄"
   ]
  },
  {
   "attachments": {},
   "cell_type": "markdown",
   "metadata": {},
   "source": [
    "### 181. H - Index\n"
   ]
  },
  {
   "attachments": {},
   "cell_type": "markdown",
   "metadata": {},
   "source": [
    "H-Index는 과학자의 생산성과 영향력을 나타내는 지표입니다. 어느 과학자의 H-Index를 나타내는 값인 h를 구하려고 합니다. 위키백과1에 따르면, H-Index는 다음과 같이 구합니다.\n",
    "\n",
    "어떤 과학자가 발표한 논문 n편 중, h번 이상 인용된 논문이 h편 이상이고 나머지 논문이 h번 이하 인용되었다면 h의 최댓값이 이 과학자의 H-Index입니다.\n",
    "\n",
    "어떤 과학자가 발표한 논문의 인용 횟수를 담은 배열 citations가 매개변수로 주어질 때, 이 과학자의 H-Index를 return 하도록 solution 함수를 작성해주세요."
   ]
  },
  {
   "cell_type": "code",
   "execution_count": 45,
   "metadata": {},
   "outputs": [
    {
     "name": "stdout",
     "output_type": "stream",
     "text": [
      "[0, 0, 0]\n",
      "0\n",
      "0\n",
      "0\n"
     ]
    }
   ],
   "source": [
    "citations = [0,0,0]\n",
    "# return = 3\n",
    "\n",
    "cit = sorted(citations, reverse = True)\n",
    "print(cit)\n",
    "\n",
    "for i in cit:\n",
    "    print(cit.index(i))\n",
    "    if cit.index(i)+1 == i :\n",
    "        print(i)\n",
    "        break"
   ]
  },
  {
   "cell_type": "code",
   "execution_count": 46,
   "metadata": {},
   "outputs": [
    {
     "name": "stdout",
     "output_type": "stream",
     "text": [
      "[(0, 1), (0, 2), (0, 3)]\n"
     ]
    }
   ],
   "source": [
    "map_cit=[(y, x+1) for x, y in enumerate(cit)]\n",
    "print(map_cit)"
   ]
  },
  {
   "cell_type": "code",
   "execution_count": 58,
   "metadata": {},
   "outputs": [
    {
     "name": "stdout",
     "output_type": "stream",
     "text": [
      "[-1, -2, -3]\n"
     ]
    },
    {
     "data": {
      "text/plain": [
       "0"
      ]
     },
     "execution_count": 58,
     "metadata": {},
     "output_type": "execute_result"
    }
   ],
   "source": [
    "diff = [(map_cit[i][0] -  map_cit[i][1]) for i in range(len(map_cit))]\n",
    "\n",
    "print(diff)\n",
    "    \n",
    "min([j if j >= 0 else 0 for j in diff ])\n",
    "\n"
   ]
  },
  {
   "cell_type": "code",
   "execution_count": 61,
   "metadata": {},
   "outputs": [
    {
     "name": "stdout",
     "output_type": "stream",
     "text": [
      "0\n"
     ]
    }
   ],
   "source": [
    "diff = [(map_cit[i][0] -  map_cit[i][1]) for i in range(len(map_cit))]\n",
    "\n",
    "try :\n",
    "    print(diff.index(min([j for j in diff if j >= 0]))+1)\n",
    "except :\n",
    "    print(0)"
   ]
  },
  {
   "cell_type": "code",
   "execution_count": 7,
   "metadata": {},
   "outputs": [],
   "source": [
    "def solution(citations):\n",
    "    citations.sort(reverse=True)\n",
    "    answer = max(map(min, enumerate(citations, start=1)))\n",
    "    return answer\n",
    "\n",
    "#타코 \n",
    "# enumerate에 시작점을 정하는거 봐두자!"
   ]
  },
  {
   "attachments": {},
   "cell_type": "markdown",
   "metadata": {},
   "source": [
    "### 182. [1차] 캐시\n"
   ]
  },
  {
   "attachments": {},
   "cell_type": "markdown",
   "metadata": {},
   "source": [
    "지도개발팀에서 근무하는 제이지는 지도에서 도시 이름을 검색하면 해당 도시와 관련된 맛집 게시물들을 데이터베이스에서 읽어 보여주는 서비스를 개발하고 있다.\n",
    "이 프로그램의 테스팅 업무를 담당하고 있는 어피치는 서비스를 오픈하기 전 각 로직에 대한 성능 측정을 수행하였는데, 제이지가 작성한 부분 중 데이터베이스에서 게시물을 가져오는 부분의 실행시간이 너무 오래 걸린다는 것을 알게 되었다.\n",
    "어피치는 제이지에게 해당 로직을 개선하라고 닦달하기 시작하였고, 제이지는 DB 캐시를 적용하여 성능 개선을 시도하고 있지만 캐시 크기를 얼마로 해야 효율적인지 몰라 난감한 상황이다.\n",
    "\n",
    "어피치에게 시달리는 제이지를 도와, DB 캐시를 적용할 때 캐시 크기에 따른 실행시간 측정 프로그램을 작성하시오."
   ]
  },
  {
   "cell_type": "code",
   "execution_count": 8,
   "metadata": {},
   "outputs": [],
   "source": [
    "def solution(cacheSize, cities):\n",
    "    import collections\n",
    "    cache = collections.deque(maxlen=cacheSize)\n",
    "    time = 0\n",
    "    for i in cities:\n",
    "        s = i.lower()\n",
    "        if s in cache:\n",
    "            cache.remove(s)\n",
    "            cache.append(s)\n",
    "            time += 1\n",
    "        else:\n",
    "            cache.append(s)\n",
    "            time += 5\n",
    "    return time"
   ]
  },
  {
   "cell_type": "code",
   "execution_count": 9,
   "metadata": {},
   "outputs": [],
   "source": [
    "# deque, maxlen"
   ]
  },
  {
   "cell_type": "code",
   "execution_count": null,
   "metadata": {},
   "outputs": [],
   "source": []
  },
  {
   "attachments": {},
   "cell_type": "markdown",
   "metadata": {},
   "source": [
    "### 183. 행렬의 곱셈\n"
   ]
  },
  {
   "attachments": {},
   "cell_type": "markdown",
   "metadata": {},
   "source": [
    "2차원 행렬 arr1과 arr2를 입력받아, arr1에 arr2를 곱한 결과를 반환하는 함수, solution을 완성해주세요."
   ]
  },
  {
   "cell_type": "code",
   "execution_count": null,
   "metadata": {},
   "outputs": [],
   "source": []
  },
  {
   "cell_type": "code",
   "execution_count": 10,
   "metadata": {},
   "outputs": [
    {
     "name": "stdout",
     "output_type": "stream",
     "text": [
      "불가능\n"
     ]
    }
   ],
   "source": [
    "arr1 = [[1, 4], [3, 2], [4, 1]]\n",
    "arr2 = [[3,3],[3,3]]\n",
    "\n",
    "result = []\n",
    "\n",
    "\n",
    "#return = [[15,15],[15,15],[15,15]]\n",
    "\n",
    "if len(arr2[0]) != len(arr1) :\n",
    "    print('불가능')\n",
    "else :\n",
    "    for i in range(len(arr1)):\n",
    "        print(i, end =' ')\n",
    "        print('----')\n",
    "        for j in range(len(arr2)):\n",
    "            print(j, end = ' ')"
   ]
  },
  {
   "cell_type": "code",
   "execution_count": 11,
   "metadata": {},
   "outputs": [],
   "source": [
    "def solution(arr1, arr2):\n",
    "    answer = [[0]*len(arr2[0]) for _ in range(len(arr1))]\n",
    "    for i in range(len(arr1)): \n",
    "        for j in range(len(arr2[0])): \n",
    "            for k in range(len(arr1[0])): \n",
    "                answer[i][j] += arr1[i][k] * arr2[k][j]\n",
    "    return answer"
   ]
  },
  {
   "cell_type": "code",
   "execution_count": 12,
   "metadata": {},
   "outputs": [],
   "source": [
    "def productMatrix(X, Y):\n",
    "    answer = [[sum(a*b for a, b in zip(X_row,Y_col)) for Y_col in zip(*Y)] for X_row in X]\n",
    "    return answer\n",
    "\n",
    "# 타코 이게맞니..너무하네"
   ]
  },
  {
   "attachments": {},
   "cell_type": "markdown",
   "metadata": {},
   "source": [
    "### 184. 괄호 회전하기\n"
   ]
  },
  {
   "attachments": {},
   "cell_type": "markdown",
   "metadata": {},
   "source": [
    "다음 규칙을 지키는 문자열을 올바른 괄호 문자열이라고 정의합니다.\n",
    "\n",
    "- (), [], {} 는 모두 올바른 괄호 문자열입니다.\n",
    "- 만약 A가 올바른 괄호 문자열이라면, (A), [A], {A} 도 올바른 괄호 문자열입니다. 예를 들어, [] 가 올바른 괄호 문자열이므로, ([]) 도 올바른 괄호 문자열입니다.\n",
    "- 만약 A, B가 올바른 괄호 문자열이라면, AB 도 올바른 괄호 문자열입니다. 예를 들어, {} 와 ([]) 가 올바른 괄호 문자열이므로, {}([]) 도 올바른 괄호 문자열입니다.\n",
    "\n",
    "대괄호, 중괄호, 그리고 소괄호로 이루어진 문자열 s가 매개변수로 주어집니다. 이 s를 왼쪽으로 x (0 ≤ x < (s의 길이)) 칸만큼 회전시켰을 때 s가 올바른 괄호 문자열이 되게 하는 x의 개수를 return 하도록 solution 함수를 완성해주세요."
   ]
  },
  {
   "cell_type": "code",
   "execution_count": null,
   "metadata": {},
   "outputs": [],
   "source": []
  }
 ],
 "metadata": {
  "kernelspec": {
   "display_name": "base",
   "language": "python",
   "name": "python3"
  },
  "language_info": {
   "codemirror_mode": {
    "name": "ipython",
    "version": 3
   },
   "file_extension": ".py",
   "mimetype": "text/x-python",
   "name": "python",
   "nbconvert_exporter": "python",
   "pygments_lexer": "ipython3",
   "version": "3.9.12 (main, Apr  4 2022, 05:22:27) [MSC v.1916 64 bit (AMD64)]"
  },
  "orig_nbformat": 4,
  "vscode": {
   "interpreter": {
    "hash": "a077222d77dfe082b8f1dd562ad70e458ac2ab76993a0b248ab0476e32e9e8dd"
   }
  }
 },
 "nbformat": 4,
 "nbformat_minor": 2
}
