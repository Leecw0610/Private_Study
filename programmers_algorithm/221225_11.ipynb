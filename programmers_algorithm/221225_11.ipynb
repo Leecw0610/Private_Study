{
 "cells": [
  {
   "attachments": {},
   "cell_type": "markdown",
   "metadata": {},
   "source": [
    "\n",
    "### 161. 성격 유형 검사하기\n"
   ]
  },
  {
   "attachments": {},
   "cell_type": "markdown",
   "metadata": {},
   "source": [
    "나만의 카카오 성격 유형 검사지를 만들려고 합니다.\n",
    "성격 유형 검사는 다음과 같은 4개 지표로 성격 유형을 구분합니다. 성격은 각 지표에서 두 유형 중 하나로 결정됩니다.\n",
    "\n",
    "|지표 번호\t|성격 유형|\n",
    "|:---|:---|\n",
    "|1번 지표|\t라이언형(R), 튜브형(T)|\n",
    "|2번 지표|\t콘형(C), 프로도형(F)|\n",
    "|3번 지표|\t제이지형(J), 무지형(M)|\n",
    "|4번 지표|\t어피치형(A), 네오형(N)|\n",
    "\n",
    "4개의 지표가 있으므로 성격 유형은 총 16(=2 x 2 x 2 x 2)가지가 나올 수 있습니다. 예를 들어, \"RFMN\"이나 \"TCMA\"와 같은 성격 유형이 있습니다.\n",
    "\n",
    "검사지에는 총 n개의 질문이 있고, 각 질문에는 아래와 같은 7개의 선택지가 있습니다.\n",
    "\n",
    "- 매우 비동의\n",
    "- 비동의\n",
    "- 약간 비동의\n",
    "- 모르겠음\n",
    "- 약간 동의\n",
    "- 동의\n",
    "- 매우 동의\n",
    "\n",
    "각 질문은 1가지 지표로 성격 유형 점수를 판단합니다.\n",
    "\n",
    "예를 들어, 어떤 한 질문에서 4번 지표로 아래 표처럼 점수를 매길 수 있습니다.\n",
    "\n",
    "|선택지\t|성격 유형 점수|\n",
    "|:---|:---|\n",
    "|매우 비동의|\t네오형 3점|\n",
    "|비동의|\t네오형 2점|\n",
    "|약간 비동의|\t네오형 1점|\n",
    "|모르겠음|\t어떤 성격 유형도 점수를 얻지 않습니다|\n",
    "|약간 동의|\t어피치형 1점|\n",
    "|동의|\t어피치형 2점|\n",
    "|매우 동의|\t어피치형 3점|\n",
    "\n",
    "이때 검사자가 질문에서 약간 동의 선택지를 선택할 경우 어피치형(A) 성격 유형 1점을 받게 됩니다. 만약 검사자가 매우 비동의 선택지를 선택할 경우 네오형(N) 성격 유형 3점을 받게 됩니다.\n",
    "\n",
    "위 예시처럼 네오형이 비동의, 어피치형이 동의인 경우만 주어지지 않고, 질문에 따라 네오형이 동의, 어피치형이 비동의인 경우도 주어질 수 있습니다.\n",
    "하지만 각 선택지는 고정적인 크기의 점수를 가지고 있습니다.\n",
    "\n",
    "- 매우 동의나 매우 비동의 선택지를 선택하면 3점을 얻습니다.\n",
    "- 동의나 비동의 선택지를 선택하면 2점을 얻습니다.\n",
    "- 약간 동의나 약간 비동의 선택지를 선택하면 1점을 얻습니다.\n",
    "- 모르겠음 선택지를 선택하면 점수를 얻지 않습니다.\n",
    "\n",
    "검사 결과는 모든 질문의 성격 유형 점수를 더하여 각 지표에서 더 높은 점수를 받은 성격 유형이 검사자의 성격 유형이라고 판단합니다. 단, 하나의 지표에서 각 성격 유형 점수가 같으면, 두 성격 유형 중 사전 순으로 빠른 성격 유형을 검사자의 성격 유형이라고 판단합니다.\n",
    "\n",
    "질문마다 판단하는 지표를 담은 1차원 문자열 배열 survey와 검사자가 각 질문마다 선택한 선택지를 담은 1차원 정수 배열 choices가 매개변수로 주어집니다. 이때, 검사자의 성격 유형 검사 결과를 지표 번호 순서대로 return 하도록 solution 함수를 완성해주세요."
   ]
  },
  {
   "cell_type": "code",
   "execution_count": 73,
   "metadata": {},
   "outputs": [],
   "source": [
    "survey = [\"AN\", \"CF\", \"MJ\", \"RT\", \"NA\"]\n",
    "choices = [5,3,2,7,5]\n",
    "#result = \"TCMA\""
   ]
  },
  {
   "cell_type": "code",
   "execution_count": 70,
   "metadata": {},
   "outputs": [],
   "source": [
    "# survey = [\"TR\", \"RT\", \"TR\"]\n",
    "# choices = [7,1,3]\n",
    "# result = \"RCJA\""
   ]
  },
  {
   "cell_type": "code",
   "execution_count": 74,
   "metadata": {},
   "outputs": [
    {
     "name": "stdout",
     "output_type": "stream",
     "text": [
      "{'AN': 5, 'CF': 3, 'MJ': 2, 'RT': 7, 'NA': 5}\n"
     ]
    }
   ],
   "source": [
    "dict = {key : value for key, value in zip(survey, choices)}\n",
    "print(dict)\n"
   ]
  },
  {
   "cell_type": "code",
   "execution_count": 78,
   "metadata": {},
   "outputs": [
    {
     "name": "stdout",
     "output_type": "stream",
     "text": [
      "A\n",
      "R\n",
      "N\n",
      "{'R': 0, 'T': 3, 'C': 1, 'F': 0, 'J': 0, 'M': 2, 'A': 1, 'N': 1}\n",
      "[('R', 0), ('T', 3), ('C', 1), ('F', 0), ('J', 0), ('M', 2), ('A', 1), ('N', 1)]\n",
      "TCMA\n"
     ]
    }
   ],
   "source": [
    "answer =''\n",
    "score_dic= {'R':0, 'T':0, 'C':0, 'F':0, 'J':0, 'M':0, 'A':0, 'N':0}\n",
    "\n",
    "for s in survey :\n",
    "    # print(s)\n",
    "    # print(dict.get(s))\n",
    "    if dict.get(s) > 4 :\n",
    "        print(s[0])\n",
    "        score_dic[s[1]] += dict.get(s) - 4\n",
    "    elif dict.get(s) < 4 :\n",
    "        score_dic[s[0]] += 4 - dict.get(s)\n",
    "\n",
    "print(score_dic)\n",
    "\n",
    "lis = list(score_dic.items())\n",
    "\n",
    "print(lis)\n",
    "\n",
    "for i in range(0,8,2):\n",
    "    #print(i)\n",
    "    if lis[i][1] < lis[i+1][1] : answer += lis[i+1][0]\n",
    "    else : answer += lis[i][0]\n",
    "    \n",
    "print(answer)"
   ]
  },
  {
   "attachments": {},
   "cell_type": "markdown",
   "metadata": {},
   "source": [
    "\n",
    "### 162. 문자열 나누기\n"
   ]
  },
  {
   "attachments": {},
   "cell_type": "markdown",
   "metadata": {},
   "source": [
    "문자열 s가 입력되었을 때 다음 규칙을 따라서 이 문자열을 여러 문자열로 분해하려고 합니다.\n",
    "\n",
    "- 먼저 첫 글자를 읽습니다. 이 글자를 x라고 합시다.\n",
    "- 이제 이 문자열을 왼쪽에서 오른쪽으로 읽어나가면서, x와 x가 아닌 다른 글자들이 나온 횟수를 각각 셉니다. 처음으로 두 횟수가 같아지는 순간 멈추고, 지금까지 읽은 문자열을 분리합니다.\n",
    "- s에서 분리한 문자열을 빼고 남은 부분에 대해서 이 과정을 반복합니다. 남은 부분이 없다면 종료합니다.\n",
    "- 만약 두 횟수가 다른 상태에서 더 이상 읽을 글자가 없다면, 역시 지금까지 읽은 문자열을 분리하고, 종료합니다.\n",
    "\n",
    "문자열 s가 매개변수로 주어질 때, 위 과정과 같이 문자열들로 분해하고, 분해한 문자열의 개수를 return 하는 함수 solution을 완성하세요."
   ]
  },
  {
   "cell_type": "code",
   "execution_count": 79,
   "metadata": {},
   "outputs": [],
   "source": [
    "s = \"banana\"\n",
    "#result = 3\n",
    "\n"
   ]
  },
  {
   "cell_type": "code",
   "execution_count": 80,
   "metadata": {},
   "outputs": [],
   "source": [
    "s = \"abracadabra\"\n",
    "# result = 6\n",
    "\n",
    "# ab - ra - ca - da - br - a"
   ]
  },
  {
   "cell_type": "code",
   "execution_count": 97,
   "metadata": {},
   "outputs": [],
   "source": [
    "s = \"aaabbaccccabba\"\n",
    "\n",
    "# aaabbacc - ccab - ba"
   ]
  },
  {
   "cell_type": "code",
   "execution_count": 115,
   "metadata": {},
   "outputs": [
    {
     "name": "stdout",
     "output_type": "stream",
     "text": [
      "bba\n",
      "\n",
      "2\n"
     ]
    }
   ],
   "source": [
    "s = \"aaabbaccccabba\"\n",
    "\n",
    "same_count = 0\n",
    "diff_count = 0\n",
    "answer=0\n",
    "index = 0\n",
    "\n",
    "\n",
    "while len(s) > 0 :\n",
    "    if len(s) == index :\n",
    "        answer += 1\n",
    "        break\n",
    "    for i in s :\n",
    "        #print(i)\n",
    "        if i == s[0] :\n",
    "            same_count += 1\n",
    "            index += 1\n",
    "        else :\n",
    "            diff_count += 1\n",
    "            index += 1\n",
    "            \n",
    "            if same_count == diff_count :\n",
    "                answer += 1\n",
    "                print(s[index:])\n",
    "                s=s[index:]\n",
    "                \n",
    "                index=0\n",
    "                same_count=0\n",
    "                diff_count=0\n",
    "            else :\n",
    "                index += 1\n",
    "    \n",
    "print(answer)\n"
   ]
  },
  {
   "cell_type": "code",
   "execution_count": 102,
   "metadata": {},
   "outputs": [
    {
     "name": "stdout",
     "output_type": "stream",
     "text": [
      "\n",
      "a\n",
      "ab\n",
      "abr\n",
      "abra\n",
      "abrac\n",
      "abraca\n",
      "abracad\n",
      "abracada\n",
      "abracadab\n",
      "abracadabr\n"
     ]
    }
   ],
   "source": [
    "s = \"abracadabra\"\n",
    "\n",
    "\n",
    "for i in range(len(s)):\n",
    "    #print(i)\n",
    "    if len(s[:i])//2 == len(s[0]) :\n",
    "        answer.append(s[:i])\n",
    "        s=s[i+1:]\n",
    "        break\n",
    "#     for j in s[:i]:\n",
    "#         print(j)\n",
    "#         if len(s[:i])//2 == len(s[0]) :\n",
    "#             answer.append(s[:i])\n",
    "#             break\n",
    "# print(answer)"
   ]
  },
  {
   "cell_type": "code",
   "execution_count": null,
   "metadata": {},
   "outputs": [],
   "source": [
    "def solution(s):\n",
    "    answer = 0\n",
    "    lis=list(s)\n",
    "    first_char = \"\"\n",
    "    same_count = 1\n",
    "    diff_count = 0\n",
    "    index = 1          \n",
    "    \n",
    "    while len(lis) > 0:\n",
    "        if len(lis) == index:     \n",
    "            answer += 1          \n",
    "            break                \n",
    "        first_char=lis[0]            \n",
    "        if lis[index] == first_char: \n",
    "            same_count += 1         \n",
    "            index += 1           \n",
    "        else:                    \n",
    "            diff_count += 1         \n",
    "            if same_count == diff_count:\n",
    "                del lis[:index+1]  \n",
    "                answer += 1       \n",
    "                same_count, diff_count, index = 1,0,1 \n",
    "            else:                               \n",
    "                index += 1                      \n",
    "    return answer"
   ]
  },
  {
   "cell_type": "code",
   "execution_count": null,
   "metadata": {},
   "outputs": [],
   "source": [
    "from collections import deque\n",
    "\n",
    "def solution(s):\n",
    "\n",
    "    ans = 0\n",
    "\n",
    "    q = deque(s)    \n",
    "    while q:\n",
    "        a, b = 1, 0\n",
    "        x = q.popleft()    \n",
    "\n",
    "        while q:\n",
    "            n = q.popleft()\n",
    "            if n == x:\n",
    "                a += 1\n",
    "            else:\n",
    "                b += 1\n",
    "\n",
    "            if a == b:\n",
    "                ans += 1\n",
    "                break\n",
    "    if a != b:\n",
    "        ans += 1\n",
    "\n",
    "    return ans\n",
    "\n",
    "#타코\n",
    "# deque 라는 모듈이 신기해서 찾아봄! pop을 맨앞에 쓰거나 append로 맨앞에 붙일수가 있음. rotate라는 기능을 이용하면 리스트 순서 재배치 가능!"
   ]
  },
  {
   "attachments": {},
   "cell_type": "markdown",
   "metadata": {},
   "source": [
    "\n",
    "### 163. 햄버거 만들기\n"
   ]
  },
  {
   "attachments": {},
   "cell_type": "markdown",
   "metadata": {},
   "source": [
    "햄버거 가게에서 일을 하는 상수는 햄버거를 포장하는 일을 합니다. 함께 일을 하는 다른 직원들이 햄버거에 들어갈 재료를 조리해 주면 조리된 순서대로 상수의 앞에 아래서부터 위로 쌓이게 되고, 상수는 순서에 맞게 쌓여서 완성된 햄버거를 따로 옮겨 포장을 하게 됩니다. 상수가 일하는 가게는 정해진 순서(아래서부터, 빵 – 야채 – 고기 - 빵)로 쌓인 햄버거만 포장을 합니다. 상수는 손이 굉장히 빠르기 때문에 상수가 포장하는 동안 속 재료가 추가적으로 들어오는 일은 없으며, 재료의 높이는 무시하여 재료가 높이 쌓여서 일이 힘들어지는 경우는 없습니다.\n",
    "\n",
    "예를 들어, 상수의 앞에 쌓이는 재료의 순서가 [야채, 빵, 빵, 야채, 고기, 빵, 야채, 고기, 빵]일 때, 상수는 여섯 번째 재료가 쌓였을 때, 세 번째 재료부터 여섯 번째 재료를 이용하여 햄버거를 포장하고, 아홉 번째 재료가 쌓였을 때, 두 번째 재료와 일곱 번째 재료부터 아홉 번째 재료를 이용하여 햄버거를 포장합니다. 즉, 2개의 햄버거를 포장하게 됩니다.\n",
    "\n",
    "상수에게 전해지는 재료의 정보를 나타내는 정수 배열 ingredient가 주어졌을 때, 상수가 포장하는 햄버거의 개수를 return 하도록 solution 함수를 완성하시오."
   ]
  },
  {
   "cell_type": "code",
   "execution_count": 131,
   "metadata": {},
   "outputs": [],
   "source": [
    "ingredient = [1, 3, 2, 1, 2, 1, 3, 1, 2]"
   ]
  },
  {
   "cell_type": "code",
   "execution_count": 132,
   "metadata": {},
   "outputs": [
    {
     "name": "stdout",
     "output_type": "stream",
     "text": [
      "[1, 3, 2, 1]\n",
      "[3, 2, 1, 2]\n",
      "[2, 1, 2, 1]\n",
      "[1, 2, 1, 3]\n",
      "[2, 1, 3, 1]\n",
      "[1, 3, 1, 2]\n",
      "[3, 1, 2]\n",
      "[1, 2]\n",
      "[2]\n",
      "0\n"
     ]
    }
   ],
   "source": [
    "burger = [1,2,3,1]\n",
    "result = 0\n",
    "changed = 1\n",
    "\n",
    "while changed != 0 :\n",
    "    for i in range(0,len(ingredient)) :\n",
    "        print(ingredient[i:i+4])\n",
    "        if ingredient[i:i+4] == burger :\n",
    "            result += 1\n",
    "            del ingredient[i:i+4]\n",
    "            changed += 1\n",
    "            break\n",
    "    else : changed = 0\n",
    "print(result)"
   ]
  },
  {
   "cell_type": "code",
   "execution_count": 128,
   "metadata": {},
   "outputs": [],
   "source": [
    "lis=[1,2,3,4,5,6,7,8,9]\n",
    "\n",
    "del lis[2:5]"
   ]
  },
  {
   "cell_type": "code",
   "execution_count": 129,
   "metadata": {},
   "outputs": [
    {
     "data": {
      "text/plain": [
       "[1, 2, 6, 7, 8, 9]"
      ]
     },
     "execution_count": 129,
     "metadata": {},
     "output_type": "execute_result"
    }
   ],
   "source": [
    "lis"
   ]
  },
  {
   "cell_type": "code",
   "execution_count": 134,
   "metadata": {},
   "outputs": [],
   "source": [
    "def solution(ingredient):\n",
    "    answer = 0\n",
    "    temp = []\n",
    "\n",
    "    for i in ingredient:\n",
    "        temp.append(i)\n",
    "        if len(temp) >= 4:\n",
    "            if temp[-1] == 1 and temp[-2] == 3 and temp[-3] == 2 and temp[-4] == 1:\n",
    "                for _ in range(4):\n",
    "                    temp.pop()\n",
    "                answer+=1\n",
    "\n",
    "    return answer"
   ]
  },
  {
   "cell_type": "code",
   "execution_count": 135,
   "metadata": {},
   "outputs": [],
   "source": [
    "def solution(ingredient):\n",
    "    s = []\n",
    "    answer = 0\n",
    "    for i in ingredient:\n",
    "        s.append(i)\n",
    "        while s[-4:] == [1, 2, 3, 1]:\n",
    "            s.pop()\n",
    "            s.pop()\n",
    "            s.pop()\n",
    "            s.pop()\n",
    "            answer += 1\n",
    "\n",
    "    return answer\n",
    "#타코 \n",
    "# pop반복만 빼면 가장 깔끔한듯?|"
   ]
  },
  {
   "attachments": {},
   "cell_type": "markdown",
   "metadata": {},
   "source": [
    "### 164. 신고 결과 받기 \n"
   ]
  },
  {
   "attachments": {},
   "cell_type": "markdown",
   "metadata": {},
   "source": [
    "신입사원 무지는 게시판 불량 이용자를 신고하고 처리 결과를 메일로 발송하는 시스템을 개발하려 합니다. 무지가 개발하려는 시스템은 다음과 같습니다.\n",
    "\n",
    "- 각 유저는 한 번에 한 명의 유저를 신고할 수 있습니다.\n",
    "    - 신고 횟수에 제한은 없습니다. 서로 다른 유저를 계속해서 신고할 수 있습니다.\n",
    "    - 한 유저를 여러 번 신고할 수도 있지만, 동일한 유저에 대한 신고 횟수는 1회로 처리됩니다.\n",
    "- k번 이상 신고된 유저는 게시판 이용이 정지되며, 해당 유저를 신고한 모든 유저에게 정지 사실을 메일로 발송합니다.\n",
    "    - 유저가 신고한 모든 내용을 취합하여 마지막에 한꺼번에 게시판 이용 정지를 시키면서 정지 메일을 발송합니다.\n",
    "\n",
    "다음은 전체 유저 목록이 [\"muzi\", \"frodo\", \"apeach\", \"neo\"]이고, k = 2(즉, 2번 이상 신고당하면 이용 정지)인 경우의 예시입니다.\n",
    "\n",
    "|유저 ID|\t유저가 신고한 ID|\t설명|\n",
    "|:---|:---|:---|\n",
    "|\"muzi\"|\t\"frodo\"|\t\"muzi\"가 \"frodo\"를 신고했습니다.|\n",
    "|\"apeach\"|\t\"frodo\"|\t\"apeach\"가 \"frodo\"를 신고했습니다.|\n",
    "|\"frodo\"|\t\"neo\"|\t\"frodo\"가 \"neo\"를 신고했습니다.|\n",
    "|\"muzi\"|\t\"neo\"|\t\"muzi\"가 \"neo\"를 신고했습니다.|\n",
    "|\"apeach\"|\t\"muzi\"|\t\"apeach\"가 \"muzi\"를 신고했습니다.|\n",
    "\n",
    "각 유저별로 신고당한 횟수는 다음과 같습니다.\n",
    "\n",
    "|유저 ID|\t신고당한 횟수|\n",
    "|:---|:---|\n",
    "|\"muzi\"|\t1|\n",
    "|\"frodo\"|\t2|\n",
    "|\"apeach\"|\t0|\n",
    "|\"neo\"|\t2|\n",
    "\n",
    "위 예시에서는 2번 이상 신고당한 \"frodo\"와 \"neo\"의 게시판 이용이 정지됩니다. 이때, 각 유저별로 신고한 아이디와 정지된 아이디를 정리하면 다음과 같습니다.\n",
    "\n",
    "|유저 ID|\t유저가 신고한 ID|\t정지된 ID|\n",
    "|:---|:---|:---|\n",
    "|\"muzi\"|\t[\"frodo\", \"neo\"]|\t[\"frodo\", \"neo\"]|\n",
    "|\"frodo\"|\t[\"neo\"]|\t[\"neo\"]|\n",
    "|\"apeach\"|\t[\"muzi\", \"frodo\"]|\t[\"frodo\"]|\n",
    "|\"neo\"|\t없음|\t없음|\n",
    "\n",
    "따라서 \"muzi\"는 처리 결과 메일을 2회, \"frodo\"와 \"apeach\"는 각각 처리 결과 메일을 1회 받게 됩니다.\n",
    "\n",
    "이용자의 ID가 담긴 문자열 배열 id_list, 각 이용자가 신고한 이용자의 ID 정보가 담긴 문자열 배열 report, 정지 기준이 되는 신고 횟수 k가 매개변수로 주어질 때, 각 유저별로 처리 결과 메일을 받은 횟수를 배열에 담아 return 하도록 solution 함수를 완성해주세요."
   ]
  },
  {
   "cell_type": "code",
   "execution_count": 159,
   "metadata": {},
   "outputs": [],
   "source": [
    "id_list=[\"muzi\", \"frodo\", \"apeach\", \"neo\"]\n",
    "report = [\"muzi frodo\",\"apeach frodo\",\"frodo neo\",\"muzi neo\",\"apeach muzi\"]\n",
    "k = 2\n",
    "result = [2,1,1,0]"
   ]
  },
  {
   "cell_type": "code",
   "execution_count": 160,
   "metadata": {},
   "outputs": [
    {
     "name": "stdout",
     "output_type": "stream",
     "text": [
      "{'muzi': [], 'frodo': [], 'apeach': [], 'neo': []}\n"
     ]
    }
   ],
   "source": [
    "dic_report ={id :[] for id in id_list}\n",
    "print(dic_report)"
   ]
  },
  {
   "cell_type": "code",
   "execution_count": 161,
   "metadata": {},
   "outputs": [
    {
     "name": "stdout",
     "output_type": "stream",
     "text": [
      "frodo neo\n",
      "apeach muzi\n",
      "apeach frodo\n",
      "muzi neo\n",
      "muzi frodo\n",
      "{'muzi': ['apeach'], 'frodo': ['apeach', 'muzi'], 'apeach': [], 'neo': ['frodo', 'muzi']}\n"
     ]
    }
   ],
   "source": [
    "for rep in set(report) :\n",
    "    print(rep)\n",
    "    rep = rep.split(' ')\n",
    "    dic_report[rep[1]].append(rep[0])\n",
    "print(dic_report)"
   ]
  },
  {
   "cell_type": "code",
   "execution_count": 162,
   "metadata": {},
   "outputs": [],
   "source": [
    " answer = [0] * len(id_list)"
   ]
  },
  {
   "cell_type": "code",
   "execution_count": 163,
   "metadata": {},
   "outputs": [
    {
     "name": "stdout",
     "output_type": "stream",
     "text": [
      "[0, 0, 0, 0]\n"
     ]
    }
   ],
   "source": [
    "print(answer)"
   ]
  },
  {
   "cell_type": "code",
   "execution_count": 164,
   "metadata": {},
   "outputs": [],
   "source": [
    "answer =[0] * len(id_list)\n",
    "\n",
    "for key, value in dic_report.items():\n",
    "    if len(value) >= k:\n",
    "        for v in value:\n",
    "            answer[id_list.index(v)] += 1"
   ]
  },
  {
   "cell_type": "markdown",
   "metadata": {},
   "source": [
    "-----------------------"
   ]
  },
  {
   "attachments": {},
   "cell_type": "markdown",
   "metadata": {},
   "source": [
    "# --- 2단계 ---"
   ]
  },
  {
   "attachments": {},
   "cell_type": "markdown",
   "metadata": {},
   "source": [
    "\n",
    "### 165. 최댓값과 최솟값\n"
   ]
  },
  {
   "attachments": {},
   "cell_type": "markdown",
   "metadata": {},
   "source": [
    "문자열 s에는 공백으로 구분된 숫자들이 저장되어 있습니다. str에 나타나는 숫자 중 최소값과 최대값을 찾아 이를 \"(최소값) (최대값)\"형태의 문자열을 반환하는 함수, solution을 완성하세요.\n",
    "예를들어 s가 \"1 2 3 4\"라면 \"1 4\"를 리턴하고, \"-1 -2 -3 -4\"라면 \"-4 -1\"을 리턴하면 됩니다."
   ]
  },
  {
   "cell_type": "code",
   "execution_count": 12,
   "metadata": {},
   "outputs": [
    {
     "ename": "TypeError",
     "evalue": "int() argument must be a string, a bytes-like object or a number, not 'list'",
     "output_type": "error",
     "traceback": [
      "\u001b[0;31m---------------------------------------------------------------------------\u001b[0m",
      "\u001b[0;31mTypeError\u001b[0m                                 Traceback (most recent call last)",
      "Cell \u001b[0;32mIn[12], line 2\u001b[0m\n\u001b[1;32m      1\u001b[0m s \u001b[39m=\u001b[39m \u001b[39m\"\u001b[39m\u001b[39m-1 -2 -3 -4\u001b[39m\u001b[39m\"\u001b[39m\n\u001b[0;32m----> 2\u001b[0m \u001b[39mprint\u001b[39m(\u001b[39mmin\u001b[39m(\u001b[39mint\u001b[39;49m(s\u001b[39m.\u001b[39;49msplit(\u001b[39m'\u001b[39;49m\u001b[39m \u001b[39;49m\u001b[39m'\u001b[39;49m))))\n\u001b[1;32m      4\u001b[0m \u001b[39mprint\u001b[39m( \u001b[39mmin\u001b[39m((s\u001b[39m.\u001b[39msplit(\u001b[39m'\u001b[39m\u001b[39m \u001b[39m\u001b[39m'\u001b[39m))),\u001b[39mmax\u001b[39m((s\u001b[39m.\u001b[39msplit(\u001b[39m'\u001b[39m\u001b[39m \u001b[39m\u001b[39m'\u001b[39m))) )\n",
      "\u001b[0;31mTypeError\u001b[0m: int() argument must be a string, a bytes-like object or a number, not 'list'"
     ]
    }
   ],
   "source": [
    "s = \"-1 -2 -3 -4\"\n",
    "print(min(int(s.split(' '))))\n",
    "\n",
    "print( min((s.split(' '))),max((s.split(' '))) )"
   ]
  },
  {
   "cell_type": "code",
   "execution_count": 20,
   "metadata": {},
   "outputs": [
    {
     "name": "stdout",
     "output_type": "stream",
     "text": [
      "-4 -1\n"
     ]
    }
   ],
   "source": [
    "print(min([int(i) for i in s.split(' ')]),max([int(i) for i in s.split(' ')]))"
   ]
  },
  {
   "cell_type": "code",
   "execution_count": 21,
   "metadata": {},
   "outputs": [
    {
     "data": {
      "text/plain": [
       "-4"
      ]
     },
     "execution_count": 21,
     "metadata": {},
     "output_type": "execute_result"
    }
   ],
   "source": [
    "min([int(i) for i in s.split(' ')])"
   ]
  },
  {
   "cell_type": "code",
   "execution_count": 26,
   "metadata": {},
   "outputs": [
    {
     "name": "stdout",
     "output_type": "stream",
     "text": [
      "<class 'str'>\n",
      "<class 'str'>\n",
      "<class 'str'>\n",
      "<class 'str'>\n"
     ]
    }
   ],
   "source": [
    "for i in s.split(' '):\n",
    "    print(type(i))"
   ]
  },
  {
   "cell_type": "code",
   "execution_count": 27,
   "metadata": {},
   "outputs": [],
   "source": [
    "def solution(s):\n",
    "    answer = ''\n",
    "    arr = list(map(lambda x: int(x), s.split(' ')))\n",
    "    answer = str(min(arr)) + ' ' + str(max(arr))\n",
    "    return answer\n",
    "\n",
    "# 타코\n",
    "# split으로 얻은 결과가 str이기 떄문에 lambda와 map을 이용해 바로 int화 시키고 그걸 min max이용해서 표현은 str로!"
   ]
  },
  {
   "cell_type": "code",
   "execution_count": null,
   "metadata": {},
   "outputs": [],
   "source": []
  },
  {
   "attachments": {},
   "cell_type": "markdown",
   "metadata": {},
   "source": [
    "\n",
    "### 166. JadenCase 문자열 만들기\n"
   ]
  },
  {
   "attachments": {},
   "cell_type": "markdown",
   "metadata": {},
   "source": [
    "JadenCase란 모든 단어의 첫 문자가 대문자이고, 그 외의 알파벳은 소문자인 문자열입니다. 단, 첫 문자가 알파벳이 아닐 때에는 이어지는 알파벳은 소문자로 쓰면 됩니다. (첫 번째 입출력 예 참고)\n",
    "문자열 s가 주어졌을 때, s를 JadenCase로 바꾼 문자열을 리턴하는 함수, solution을 완성해주세요."
   ]
  },
  {
   "cell_type": "code",
   "execution_count": null,
   "metadata": {},
   "outputs": [],
   "source": []
  },
  {
   "cell_type": "code",
   "execution_count": 11,
   "metadata": {},
   "outputs": [
    {
     "ename": "SyntaxError",
     "evalue": "invalid syntax (3136009615.py, line 9)",
     "output_type": "error",
     "traceback": [
      "\u001b[0;36m  Cell \u001b[0;32mIn[11], line 9\u001b[0;36m\u001b[0m\n\u001b[0;31m    s[i][0]=s[i][0]isupper()\u001b[0m\n\u001b[0m                   ^\u001b[0m\n\u001b[0;31mSyntaxError\u001b[0m\u001b[0;31m:\u001b[0m invalid syntax\n"
     ]
    }
   ],
   "source": [
    "s = \"3people unFollowed me\"\n",
    "s=s.lower()\n",
    "print(s)\n",
    "ans=list(s)\n",
    "answer=''\n",
    "\n",
    "for i in range(len(s)-1):\n",
    "    print(i)\n",
    "    if ans[i] :\n",
    "        \n",
    "\n",
    "\n"
   ]
  },
  {
   "cell_type": "code",
   "execution_count": 12,
   "metadata": {},
   "outputs": [
    {
     "name": "stdout",
     "output_type": "stream",
     "text": [
      "0\n",
      "1\n",
      "2\n",
      "3\n",
      "4\n",
      "5\n",
      "6\n",
      "7\n",
      "8\n",
      "9\n",
      "10\n",
      "11\n",
      "12\n",
      "13\n",
      "14\n",
      "15\n",
      "16\n",
      "17\n",
      "18\n",
      "19\n",
      "3people Unfollowed Me\n"
     ]
    }
   ],
   "source": [
    "\n",
    "a=list(s) \n",
    "b=s.lower() \n",
    "c=list(b) \n",
    "c[0]=a[0].upper() \n",
    "for i in range(len(s)-1):\n",
    "    print(i)\n",
    "    if a[i]==' ':\n",
    "        c[i+1]=a[i+1].upper()\n",
    "answer=''.join(c)\n",
    "print(answer)\n"
   ]
  },
  {
   "cell_type": "code",
   "execution_count": 13,
   "metadata": {},
   "outputs": [],
   "source": [
    "def Jaden_Case(s):\n",
    "    return ' '.join([w[0].upper() + w[1:].lower() for w in s.split()])\n",
    "#타코\n",
    "# 하 이건데..머했니"
   ]
  },
  {
   "attachments": {},
   "cell_type": "markdown",
   "metadata": {},
   "source": [
    "\n",
    "### 167. 최솟값 만들기\n"
   ]
  },
  {
   "attachments": {},
   "cell_type": "markdown",
   "metadata": {},
   "source": [
    "길이가 같은 배열 A, B 두개가 있습니다. 각 배열은 자연수로 이루어져 있습니다.\n",
    "배열 A, B에서 각각 한 개의 숫자를 뽑아 두 수를 곱합니다. 이러한 과정을 배열의 길이만큼 반복하며, 두 수를 곱한 값을 누적하여 더합니다. 이때 최종적으로 누적된 값이 최소가 되도록 만드는 것이 목표입니다. (단, 각 배열에서 k번째 숫자를 뽑았다면 다음에 k번째 숫자는 다시 뽑을 수 없습니다.)\n",
    "\n",
    "예를 들어 A = [1, 4, 2] , B = [5, 4, 4] 라면\n",
    "\n",
    "- A에서 첫번째 숫자인 1, B에서 첫번째 숫자인 5를 뽑아 곱하여 더합니다. (누적된 값 : 0 + 5(1x5) = 5)\n",
    "- A에서 두번째 숫자인 4, B에서 세번째 숫자인 4를 뽑아 곱하여 더합니다. (누적된 값 : 5 + 16(4x4) = 21)\n",
    "- A에서 세번째 숫자인 2, B에서 두번째 숫자인 4를 뽑아 곱하여 더합니다. (누적된 값 : 21 + 8(2x4) = 29)\n",
    "즉, 이 경우가 최소가 되므로 29를 return 합니다.\n",
    "\n",
    "배열 A, B가 주어질 때 최종적으로 누적된 최솟값을 return 하는 solution 함수를 완성해 주세요.\n",
    "\n"
   ]
  },
  {
   "cell_type": "code",
   "execution_count": 5,
   "metadata": {},
   "outputs": [
    {
     "name": "stdout",
     "output_type": "stream",
     "text": [
      "1\n",
      "2\n",
      "0\n",
      "1\n",
      "10\n"
     ]
    }
   ],
   "source": [
    "A = [1,2]\n",
    "B = [3,4]\n",
    "answer = 0\n",
    "for i in sorted(A):\n",
    "    print(i)\n",
    "    \n",
    "for idx in range(len(A)):\n",
    "    print(idx)\n",
    "    answer += sorted(A)[idx] * sorted(B, reverse=True)[idx]\n",
    "print(answer)\n",
    "#효율성테스트 X"
   ]
  },
  {
   "cell_type": "code",
   "execution_count": 6,
   "metadata": {},
   "outputs": [
    {
     "name": "stdout",
     "output_type": "stream",
     "text": [
      "10\n"
     ]
    }
   ],
   "source": [
    "answer = 0\n",
    "A.sort()\n",
    "B.sort(reverse=True)\n",
    "\n",
    "for idx in range(len(A)):\n",
    "    answer += A[idx]  * B[idx]\n",
    "print(answer)"
   ]
  },
  {
   "cell_type": "code",
   "execution_count": null,
   "metadata": {},
   "outputs": [],
   "source": [
    "def getMinSum(A,B):\n",
    "    return sum(a*b for a, b in zip(sorted(A), sorted(B, reverse = True)))\n",
    "#타코; zip으로 묶어서 곱한값을 sum.. 어썸하다"
   ]
  },
  {
   "attachments": {},
   "cell_type": "markdown",
   "metadata": {},
   "source": [
    "\n",
    "### 168. 올바른 괄호\n"
   ]
  },
  {
   "attachments": {},
   "cell_type": "markdown",
   "metadata": {},
   "source": [
    "괄호가 바르게 짝지어졌다는 것은 '(' 문자로 열렸으면 반드시 짝지어서 ')' 문자로 닫혀야 한다는 뜻입니다. 예를 들어\n",
    "\n",
    "\"()()\" 또는 \"(())()\" 는 올바른 괄호입니다.\n",
    "\")()(\" 또는 \"(()(\" 는 올바르지 않은 괄호입니다.\n",
    "'(' 또는 ')' 로만 이루어진 문자열 s가 주어졌을 때, 문자열 s가 올바른 괄호이면 true를 return 하고, 올바르지 않은 괄호이면 false를 return 하는 solution 함수를 완성해 주세요."
   ]
  },
  {
   "cell_type": "code",
   "execution_count": 10,
   "metadata": {},
   "outputs": [
    {
     "name": "stdout",
     "output_type": "stream",
     "text": [
      "(\n",
      "(\n",
      ")\n",
      ")\n",
      "(\n",
      ")\n",
      "True\n"
     ]
    }
   ],
   "source": [
    "s = \"(())()\"\n",
    "l_count=0\n",
    "r_count=0\n",
    "\n",
    "for i in s :\n",
    "    print(i)\n",
    "    if i == '(':\n",
    "        l_count+=1\n",
    "    else :\n",
    "        r_count+=1\n",
    "\n",
    "if l_count == r_count and s[0]=='(' and s[-1]==')':\n",
    "    print(True)\n",
    "else :\n",
    "    print(False)\n",
    "    "
   ]
  },
  {
   "cell_type": "code",
   "execution_count": 11,
   "metadata": {},
   "outputs": [],
   "source": [
    "def solution(s):\n",
    "    stack = []\n",
    "    for i in s:\n",
    "        if i == '(':  \n",
    "            stack.append(i)\n",
    "        else:  \n",
    "            if stack == []: \n",
    "                return False\n",
    "            else:\n",
    "                stack.pop()     \n",
    "    return stack==[]\n",
    "# 타코1.\n",
    "# stack이란 list에 괄호 두개 요소가 만나면 stack을 초기화 하는식으로 구현"
   ]
  },
  {
   "cell_type": "code",
   "execution_count": null,
   "metadata": {},
   "outputs": [],
   "source": [
    "def is_pair(s):\n",
    "    \n",
    "    open_cnt = 0\n",
    "    for c in s:\n",
    "        if c == '(':\n",
    "            open_cnt += 1\n",
    "        elif c == ')':\n",
    "            open_cnt -= 1\n",
    "            if open_cnt < 0:\n",
    "                return False\n",
    "    return open_cnt == 0\n",
    "\n",
    "# 타코2.\n",
    "# 이게 제일깔끔하긴한듯"
   ]
  },
  {
   "cell_type": "code",
   "execution_count": 13,
   "metadata": {},
   "outputs": [
    {
     "data": {
      "text/plain": [
       "2"
      ]
     },
     "execution_count": 13,
     "metadata": {},
     "output_type": "execute_result"
    }
   ],
   "source": [
    "s = \"(())()\"\n",
    "s.find(\"(\")\n",
    "s.find(\")\")"
   ]
  },
  {
   "attachments": {},
   "cell_type": "markdown",
   "metadata": {},
   "source": [
    "\n",
    "### 169. 이진 변환 반복하기\n"
   ]
  },
  {
   "attachments": {},
   "cell_type": "markdown",
   "metadata": {},
   "source": [
    "0과 1로 이루어진 어떤 문자열 x에 대한 이진 변환을 다음과 같이 정의합니다.\n",
    "\n",
    "1. x의 모든 0을 제거합니다.\n",
    "2. x의 길이를 c라고 하면, x를 \"c를 2진법으로 표현한 문자열\"로 바꿉니다.\n",
    "\n",
    "예를 들어, x = \"0111010\"이라면, x에 이진 변환을 가하면 x = \"0111010\" -> \"1111\" -> \"100\" 이 됩니다.\n",
    "\n",
    "0과 1로 이루어진 문자열 s가 매개변수로 주어집니다. s가 \"1\"이 될 때까지 계속해서 s에 이진 변환을 가했을 때, 이진 변환의 횟수와 변환 과정에서 제거된 모든 0의 개수를 각각 배열에 담아 return 하도록 solution 함수를 완성해주세요."
   ]
  },
  {
   "cell_type": "code",
   "execution_count": 34,
   "metadata": {},
   "outputs": [
    {
     "name": "stdout",
     "output_type": "stream",
     "text": [
      "0\n",
      "1\n",
      "1\n",
      "1\n",
      "0\n",
      "1\n",
      "0\n",
      "-----\n",
      "3\n"
     ]
    }
   ],
   "source": [
    "x = \"0111010\"\n",
    "count = 0\n",
    "\n",
    "for i in x :\n",
    "    print(i)\n",
    "    if i == '0':\n",
    "        count += 1\n",
    "\n",
    "print('-----')\n",
    "print(count)"
   ]
  },
  {
   "cell_type": "code",
   "execution_count": 44,
   "metadata": {},
   "outputs": [
    {
     "data": {
      "text/plain": [
       "['100', 3]"
      ]
     },
     "execution_count": 44,
     "metadata": {},
     "output_type": "execute_result"
    }
   ],
   "source": [
    "x = \"0111010\"\n",
    "\n",
    "\n",
    "\n",
    "def change_bin(x):\n",
    "    count=0    \n",
    "    for i in x :\n",
    "        if i=='0':\n",
    "            count += 1\n",
    "    \n",
    "    return [bin(len(x)-count)[2:], count]\n",
    "\n",
    "\n",
    "change_bin(x)"
   ]
  },
  {
   "cell_type": "code",
   "execution_count": 45,
   "metadata": {},
   "outputs": [
    {
     "data": {
      "text/plain": [
       "['1', 2]"
      ]
     },
     "execution_count": 45,
     "metadata": {},
     "output_type": "execute_result"
    }
   ],
   "source": [
    "change_bin(change_bin(x)[0])"
   ]
  },
  {
   "cell_type": "code",
   "execution_count": 79,
   "metadata": {},
   "outputs": [
    {
     "name": "stdout",
     "output_type": "stream",
     "text": [
      "6 1 110\n",
      "7 2 10\n"
     ]
    }
   ],
   "source": [
    "s= \"110010101001\"\n",
    "count_zero=0\n",
    "count_num=0\n",
    "\n",
    "for n in s:\n",
    "    #print(n)\n",
    "    if n == '0' :\n",
    "        count_zero+=1\n",
    "        s= s.replace(n,'')\n",
    "#print(s, count_zero)\n",
    "count_num += 1\n",
    "s=bin(len(s))[2:]\n",
    "\n",
    "print(count_zero, count_num, s)\n",
    "\n",
    "\n",
    "for n in s:\n",
    "    #print(n)\n",
    "    if n == '0' :\n",
    "        count_zero+=1\n",
    "        s= s.replace(n,'')\n",
    "#print(s, count_zero)\n",
    "count_num += 1\n",
    "s=bin(len(s))[2:]\n",
    "\n",
    "print(count_zero, count_num, s)"
   ]
  },
  {
   "cell_type": "code",
   "execution_count": 78,
   "metadata": {},
   "outputs": [
    {
     "name": "stdout",
     "output_type": "stream",
     "text": [
      "6 0 110\n",
      "[1, 6]\n",
      "7 1 10\n",
      "[2, 7]\n",
      "8 2 1\n",
      "[3, 8]\n"
     ]
    }
   ],
   "source": [
    "s= \"110010101001\"\n",
    "count_zero=0\n",
    "count_num=0\n",
    "\n",
    "while s != '1':\n",
    "    if '0' in s:\n",
    "        count_zero += s.count('0') \n",
    "        s = s.replace('0','')\n",
    "    #print(s, count_zero)\n",
    "    s=bin(len(s))[2:]\n",
    "    print(count_zero, count_num, s)\n",
    "\n",
    "    count_num += 1\n",
    "    print([count_num, count_zero])\n"
   ]
  },
  {
   "attachments": {},
   "cell_type": "markdown",
   "metadata": {},
   "source": [
    "\n",
    "### 170. 숫자의 표현\n"
   ]
  },
  {
   "attachments": {},
   "cell_type": "markdown",
   "metadata": {},
   "source": [
    "Finn은 요즘 수학공부에 빠져 있습니다. 수학 공부를 하던 Finn은 자연수 n을 연속한 자연수들로 표현 하는 방법이 여러개라는 사실을 알게 되었습니다. 예를들어 15는 다음과 같이 4가지로 표현 할 수 있습니다.\n",
    "\n",
    "- 1 + 2 + 3 + 4 + 5 = 15\n",
    "- 4 + 5 + 6 = 15\n",
    "- 7 + 8 = 15\n",
    "- 15 = 15\n",
    "\n",
    "자연수 n이 매개변수로 주어질 때, 연속된 자연수들로 n을 표현하는 방법의 수를 return하는 solution를 완성해주세요."
   ]
  },
  {
   "cell_type": "code",
   "execution_count": 90,
   "metadata": {},
   "outputs": [
    {
     "name": "stdout",
     "output_type": "stream",
     "text": [
      "4\n"
     ]
    }
   ],
   "source": [
    "n = 15\n",
    "\n",
    "count = 0\n",
    "for i in range(1, n+1) :\n",
    "    #print(i)\n",
    "    con_sum = 0\n",
    "    for j in range(i, n+1):\n",
    "        #print(j)\n",
    "        con_sum += j\n",
    "        if con_sum == n:\n",
    "            count += 1\n",
    "            break\n",
    "        if con_sum > n:\n",
    "            break\n",
    "print(count)"
   ]
  }
 ],
 "metadata": {
  "kernelspec": {
   "display_name": "pybo_env",
   "language": "python",
   "name": "python3"
  },
  "language_info": {
   "codemirror_mode": {
    "name": "ipython",
    "version": 3
   },
   "file_extension": ".py",
   "mimetype": "text/x-python",
   "name": "python",
   "nbconvert_exporter": "python",
   "pygments_lexer": "ipython3",
   "version": "3.9.6"
  },
  "orig_nbformat": 4,
  "vscode": {
   "interpreter": {
    "hash": "63412c41068e4d56d0309767907d27a217e98c4d09e6cc91dcddf949ab11af06"
   }
  }
 },
 "nbformat": 4,
 "nbformat_minor": 2
}
