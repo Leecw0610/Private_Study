{
 "cells": [
  {
   "attachments": {},
   "cell_type": "markdown",
   "metadata": {},
   "source": [
    "\n",
    "### 161. 성격 유형 검사하기\n"
   ]
  },
  {
   "attachments": {},
   "cell_type": "markdown",
   "metadata": {},
   "source": [
    "나만의 카카오 성격 유형 검사지를 만들려고 합니다.\n",
    "성격 유형 검사는 다음과 같은 4개 지표로 성격 유형을 구분합니다. 성격은 각 지표에서 두 유형 중 하나로 결정됩니다.\n",
    "\n",
    "|지표 번호\t|성격 유형|\n",
    "|:---|:---|\n",
    "|1번 지표|\t라이언형(R), 튜브형(T)|\n",
    "|2번 지표|\t콘형(C), 프로도형(F)|\n",
    "|3번 지표|\t제이지형(J), 무지형(M)|\n",
    "|4번 지표|\t어피치형(A), 네오형(N)|\n",
    "\n",
    "4개의 지표가 있으므로 성격 유형은 총 16(=2 x 2 x 2 x 2)가지가 나올 수 있습니다. 예를 들어, \"RFMN\"이나 \"TCMA\"와 같은 성격 유형이 있습니다.\n",
    "\n",
    "검사지에는 총 n개의 질문이 있고, 각 질문에는 아래와 같은 7개의 선택지가 있습니다.\n",
    "\n",
    "- 매우 비동의\n",
    "- 비동의\n",
    "- 약간 비동의\n",
    "- 모르겠음\n",
    "- 약간 동의\n",
    "- 동의\n",
    "- 매우 동의\n",
    "\n",
    "각 질문은 1가지 지표로 성격 유형 점수를 판단합니다.\n",
    "\n",
    "예를 들어, 어떤 한 질문에서 4번 지표로 아래 표처럼 점수를 매길 수 있습니다.\n",
    "\n",
    "|선택지\t|성격 유형 점수|\n",
    "|:---|:---|\n",
    "|매우 비동의|\t네오형 3점|\n",
    "|비동의|\t네오형 2점|\n",
    "|약간 비동의|\t네오형 1점|\n",
    "|모르겠음|\t어떤 성격 유형도 점수를 얻지 않습니다|\n",
    "|약간 동의|\t어피치형 1점|\n",
    "|동의|\t어피치형 2점|\n",
    "|매우 동의|\t어피치형 3점|\n",
    "\n",
    "이때 검사자가 질문에서 약간 동의 선택지를 선택할 경우 어피치형(A) 성격 유형 1점을 받게 됩니다. 만약 검사자가 매우 비동의 선택지를 선택할 경우 네오형(N) 성격 유형 3점을 받게 됩니다.\n",
    "\n",
    "위 예시처럼 네오형이 비동의, 어피치형이 동의인 경우만 주어지지 않고, 질문에 따라 네오형이 동의, 어피치형이 비동의인 경우도 주어질 수 있습니다.\n",
    "하지만 각 선택지는 고정적인 크기의 점수를 가지고 있습니다.\n",
    "\n",
    "- 매우 동의나 매우 비동의 선택지를 선택하면 3점을 얻습니다.\n",
    "- 동의나 비동의 선택지를 선택하면 2점을 얻습니다.\n",
    "- 약간 동의나 약간 비동의 선택지를 선택하면 1점을 얻습니다.\n",
    "- 모르겠음 선택지를 선택하면 점수를 얻지 않습니다.\n",
    "\n",
    "검사 결과는 모든 질문의 성격 유형 점수를 더하여 각 지표에서 더 높은 점수를 받은 성격 유형이 검사자의 성격 유형이라고 판단합니다. 단, 하나의 지표에서 각 성격 유형 점수가 같으면, 두 성격 유형 중 사전 순으로 빠른 성격 유형을 검사자의 성격 유형이라고 판단합니다.\n",
    "\n",
    "질문마다 판단하는 지표를 담은 1차원 문자열 배열 survey와 검사자가 각 질문마다 선택한 선택지를 담은 1차원 정수 배열 choices가 매개변수로 주어집니다. 이때, 검사자의 성격 유형 검사 결과를 지표 번호 순서대로 return 하도록 solution 함수를 완성해주세요."
   ]
  },
  {
   "cell_type": "code",
   "execution_count": null,
   "metadata": {},
   "outputs": [],
   "source": []
  },
  {
   "cell_type": "code",
   "execution_count": null,
   "metadata": {},
   "outputs": [],
   "source": []
  },
  {
   "cell_type": "code",
   "execution_count": null,
   "metadata": {},
   "outputs": [],
   "source": []
  },
  {
   "attachments": {},
   "cell_type": "markdown",
   "metadata": {},
   "source": [
    "\n",
    "### 162. 문자열 나누기\n"
   ]
  },
  {
   "attachments": {},
   "cell_type": "markdown",
   "metadata": {},
   "source": [
    "머쓱이는 태어난 지 11개월 된 조카를 돌보고 있습니다. 조카는 아직 \"aya\", \"ye\", \"woo\", \"ma\" 네 가지 발음과 네 가지 발음을 조합해서 만들 수 있는 발음밖에 하지 못하고 연속해서 같은 발음을 하는 것을 어려워합니다. 문자열 배열 babbling이 매개변수로 주어질 때, 머쓱이의 조카가 발음할 수 있는 단어의 개수를 return하도록 solution 함수를 완성해주세요."
   ]
  },
  {
   "cell_type": "code",
   "execution_count": null,
   "metadata": {},
   "outputs": [],
   "source": []
  },
  {
   "cell_type": "code",
   "execution_count": null,
   "metadata": {},
   "outputs": [],
   "source": []
  },
  {
   "cell_type": "code",
   "execution_count": null,
   "metadata": {},
   "outputs": [],
   "source": []
  },
  {
   "attachments": {},
   "cell_type": "markdown",
   "metadata": {},
   "source": [
    "\n",
    "### 163. 햄버거 만들기\n"
   ]
  },
  {
   "attachments": {},
   "cell_type": "markdown",
   "metadata": {},
   "source": [
    "머쓱이는 태어난 지 11개월 된 조카를 돌보고 있습니다. 조카는 아직 \"aya\", \"ye\", \"woo\", \"ma\" 네 가지 발음과 네 가지 발음을 조합해서 만들 수 있는 발음밖에 하지 못하고 연속해서 같은 발음을 하는 것을 어려워합니다. 문자열 배열 babbling이 매개변수로 주어질 때, 머쓱이의 조카가 발음할 수 있는 단어의 개수를 return하도록 solution 함수를 완성해주세요."
   ]
  },
  {
   "cell_type": "code",
   "execution_count": null,
   "metadata": {},
   "outputs": [],
   "source": []
  },
  {
   "cell_type": "code",
   "execution_count": null,
   "metadata": {},
   "outputs": [],
   "source": []
  },
  {
   "cell_type": "code",
   "execution_count": null,
   "metadata": {},
   "outputs": [],
   "source": []
  },
  {
   "attachments": {},
   "cell_type": "markdown",
   "metadata": {},
   "source": [
    "### 164. 신고 결과 받기 \n"
   ]
  },
  {
   "attachments": {},
   "cell_type": "markdown",
   "metadata": {},
   "source": [
    "머쓱이는 태어난 지 11개월 된 조카를 돌보고 있습니다. 조카는 아직 \"aya\", \"ye\", \"woo\", \"ma\" 네 가지 발음과 네 가지 발음을 조합해서 만들 수 있는 발음밖에 하지 못하고 연속해서 같은 발음을 하는 것을 어려워합니다. 문자열 배열 babbling이 매개변수로 주어질 때, 머쓱이의 조카가 발음할 수 있는 단어의 개수를 return하도록 solution 함수를 완성해주세요."
   ]
  },
  {
   "cell_type": "code",
   "execution_count": null,
   "metadata": {},
   "outputs": [],
   "source": []
  }
 ],
 "metadata": {
  "kernelspec": {
   "display_name": "Python 3",
   "language": "python",
   "name": "python3"
  },
  "language_info": {
   "name": "python",
   "version": "3.11.1 (tags/v3.11.1:a7a450f, Dec  6 2022, 19:58:39) [MSC v.1934 64 bit (AMD64)]"
  },
  "orig_nbformat": 4,
  "vscode": {
   "interpreter": {
    "hash": "edf116327103e36dfe9c0e360260b03b9d82b30c3335fe3d340322aa34dca8af"
   }
  }
 },
 "nbformat": 4,
 "nbformat_minor": 2
}
