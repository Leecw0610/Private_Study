{
 "cells": [
  {
   "cell_type": "code",
   "execution_count": null,
   "metadata": {},
   "outputs": [],
   "source": [
    "\n",
    "151. 완주하지 못한 선수\n",
    "수많은 마라톤 선수들이 마라톤에 참여하였습니다. 단 한 명의 선수를 제외하고는 모든 선수가 마라톤을 완주하였습니다.\n",
    "\n",
    "마라톤에 참여한 선수들의 이름이 담긴 배열 participant와 완주한 선수들의 이름이 담긴 배열 completion이 주어질 때, 완주하지 못한 선수의 이름을 return 하도록 solution 함수를 작성해주세요.\n"
   ]
  },
  {
   "cell_type": "code",
   "execution_count": null,
   "metadata": {},
   "outputs": [],
   "source": [
    "\n",
    "participant =[\"marina\", \"josipa\", \"nikola\", \"vinko\", \"filipa\"]\n",
    "completion = [\"josipa\", \"filipa\", \"marina\", \"nikola\"]\n",
    "answer = participant\n",
    "\n",
    "\n",
    "for i in participant :\n",
    "    print(i)\n",
    "    if i in completion :\n",
    "        answer.remove(i)\n",
    "        \n",
    "print(answer)\n",
    "print(participant)\n",
    "print(completion)\n",
    "marina\n",
    "nikola\n",
    "filipa\n",
    "['josipa', 'vinko']\n",
    "['josipa', 'vinko']\n",
    "['josipa', 'filipa', 'marina', 'nikola']\n"
   ]
  },
  {
   "cell_type": "code",
   "execution_count": null,
   "metadata": {},
   "outputs": [],
   "source": [
    "\n",
    "from collections import Counter\n",
    "\n",
    "def solution(participant, completion):\n",
    "    answer = ''\n",
    "    p_dict = Counter(participant)\n",
    "    c_dict = Counter(completion)\n",
    "\n",
    "    for p_name in p_dict:\n",
    "        if p_dict[p_name] != c_dict[p_name]:\n",
    "            answer = p_name\n",
    "\n",
    "    return answer\n"
   ]
  },
  {
   "cell_type": "code",
   "execution_count": null,
   "metadata": {},
   "outputs": [],
   "source": [
    "\n",
    "\n",
    "def solution(participant, completion):\n",
    "    answer = ''\n",
    "    temp = 0\n",
    "    dic = {}\n",
    "    for part in participant:\n",
    "        dic[hash(part)] = part\n",
    "        temp += int(hash(part))\n",
    "    for com in completion:\n",
    "        temp -= hash(com)\n",
    "    answer = dic[temp]\n",
    "\n",
    "    return answer\n",
    "# 타코 hash라는 함수를 쓴것이 신기해 개념을 찾아봤는데, 아직은 난해한듯; 효율성을 높이는 무언가라는 것은 알겠다..\n"
   ]
  },
  {
   "cell_type": "code",
   "execution_count": null,
   "metadata": {},
   "outputs": [],
   "source": [
    "\n",
    "152. 가장 가까운 같은 글자\n",
    "문자열 s가 주어졌을 때, s의 각 위치마다 자신보다 앞에 나왔으면서, 자신과 가장 가까운 곳에 있는 같은 글자가 어디 있는지 알고 싶습니다. 예를 들어, s=\"banana\"라고 할 때, 각 글자들을 왼쪽부터 오른쪽으로 읽어 나가면서 다음과 같이 진행할 수 있습니다.\n",
    "\n",
    "b는 처음 나왔기 때문에 자신의 앞에 같은 글자가 없습니다. 이는 -1로 표현합니다.\n",
    "a는 처음 나왔기 때문에 자신의 앞에 같은 글자가 없습니다. 이는 -1로 표현합니다.\n",
    "n은 처음 나왔기 때문에 자신의 앞에 같은 글자가 없습니다. 이는 -1로 표현합니다.\n",
    "a는 자신보다 두 칸 앞에 a가 있습니다. 이는 2로 표현합니다.\n",
    "n도 자신보다 두 칸 앞에 n이 있습니다. 이는 2로 표현합니다.\n",
    "a는 자신보다 두 칸, 네 칸 앞에 a가 있습니다. 이 중 가까운 것은 두 칸 앞이고, 이는 2로 표현합니다.\n",
    "따라서 최종 결과물은 [-1, -1, -1, 2, 2, 2]가 됩니다.\n",
    "\n",
    "문자열 s이 주어질 때, 위와 같이 정의된 연산을 수행하는 함수 solution을 완성해주세요.\n"
   ]
  },
  {
   "cell_type": "code",
   "execution_count": null,
   "metadata": {},
   "outputs": [
    {
     "ename": "",
     "evalue": "",
     "output_type": "error",
     "traceback": [
      "\u001b[1;31m'pybo_env'(으)로 셀을 실행하려면 ipykernel 패키지가 필요합니다.\n",
      "\u001b[1;31m다음 명령어를 실행하여 Python 환경에 'ipykernel'을(를) 설치합니다. \n",
      "\u001b[1;31m 명령: '/Users/user/Desktop/Python/lecture/JumpToFlask/pybo_env/bin/python -m pip install ipykernel -U --force-reinstall'"
     ]
    }
   ],
   "source": [
    "\n",
    "s = 'banana'\n",
    "\n",
    "temp=[]\n",
    "\n",
    "for i in range(len(s)):\n",
    "    temp.append(s[i])\n",
    "    print(temp)\n",
    "    s[i] in s\n",
    "['b']\n",
    "['b', 'a']\n",
    "['b', 'a', 'n']\n",
    "['b', 'a', 'n', 'a']\n",
    "['b', 'a', 'n', 'a', 'n']\n",
    "['b', 'a', 'n', 'a', 'n', 'a']\n",
    "print(list(s))\n"
   ]
  },
  {
   "cell_type": "code",
   "execution_count": null,
   "metadata": {},
   "outputs": [
    {
     "ename": "",
     "evalue": "",
     "output_type": "error",
     "traceback": [
      "\u001b[1;31m'pybo_env'(으)로 셀을 실행하려면 ipykernel 패키지가 필요합니다.\n",
      "\u001b[1;31m다음 명령어를 실행하여 Python 환경에 'ipykernel'을(를) 설치합니다. \n",
      "\u001b[1;31m 명령: '/Users/user/Desktop/Python/lecture/JumpToFlask/pybo_env/bin/python -m pip install ipykernel -U --force-reinstall'"
     ]
    }
   ],
   "source": [
    "\n",
    "for idx, word in enumerate(list(s)):\n",
    "    print(idx, word)\n",
    "['b', 'a', 'n', 'a', 'n', 'a']\n",
    "0 b\n",
    "1 a\n",
    "2 n\n",
    "3 a\n",
    "4 n\n",
    "5 a\n",
    "s = 'foobar'\n",
    "answer=[]\n",
    "word_dict={}\n",
    "\n",
    "for idx, word in enumerate(list(s)):\n",
    "    if word not in word_dict:\n",
    "        answer.append(-1)\n",
    "        word_dict[word] = idx\n",
    "    else:\n",
    "        answer.append(idx - word_dict[word])\n",
    "        word_dict[word] = idx\n",
    "        \n",
    "print(word_dict)\n",
    "print(answer)\n",
    "{'f': 0, 'o': 2, 'b': 3, 'a': 4, 'r': 5}\n",
    "[-1, -1, 1, -1, -1, -1]\n"
   ]
  },
  {
   "cell_type": "code",
   "execution_count": null,
   "metadata": {},
   "outputs": [],
   "source": [
    "\n",
    "\n",
    "def solution(s):\n",
    "    answer = []\n",
    "    \n",
    "    word_dict = {}\n",
    "    \n",
    "    for idx, word in enumerate(list(s)):\n",
    "        if word not in word_dict:\n",
    "            answer.append(-1)\n",
    "            word_dict[word] = idx\n",
    "        else:\n",
    "            answer.append(idx - word_dict[word])\n",
    "            word_dict[word] = idx\n",
    "            \n",
    "    return answer\n"
   ]
  },
  {
   "cell_type": "code",
   "execution_count": null,
   "metadata": {},
   "outputs": [],
   "source": [
    "\n",
    "153. 과일 장수\n",
    "과일 장수가 사과 상자를 포장하고 있습니다. 사과는 상태에 따라 1점부터 k점까지의 점수로 분류하며, k점이 최상품의 사과이고 1점이 최하품의 사과입니다. 사과 한 상자의 가격은 다음과 같이 결정됩니다.\n",
    "\n",
    "한 상자에 사과를 m개씩 담아 포장합니다.\n",
    "상자에 담긴 사과 중 가장 낮은 점수가 p (1 ≤ p ≤ k)점인 경우, 사과 한 상자의 가격은 p * m 입니다.\n",
    "과일 장수가 가능한 많은 사과를 팔았을 때, 얻을 수 있는 최대 이익을 계산하고자 합니다.(사과는 상자 단위로만 판매하며, 남는 사과는 버립니다)\n",
    "\n",
    "예를 들어, k = 3, m = 4, 사과 7개의 점수가 [1, 2, 3, 1, 2, 3, 1]이라면, 다음과 같이 [2, 3, 2, 3]으로 구성된 사과 상자 1개를 만들어 판매하여 최대 이익을 얻을 수 있습니다.\n",
    "\n",
    "(최저 사과 점수) x (한 상자에 담긴 사과 개수) x (상자의 개수) = 2 x 4 x 1 = 8\n",
    "사과의 최대 점수 k, 한 상자에 들어가는 사과의 수 m, 사과들의 점수 score가 주어졌을 때, 과일 장수가 얻을 수 있는 최대 이익을 return하는 solution 함수를 완성해주세요.\n"
   ]
  },
  {
   "cell_type": "code",
   "execution_count": null,
   "metadata": {},
   "outputs": [],
   "source": [
    "\n",
    "k, m, score = 3, 4, [1,2,3,1,2,3,1]\n",
    "\n",
    "sorted(score, reverse=True)[:m][-1] #최저 사과 점수\n",
    "2\n",
    "len(score)//m # 상자의 개수\n",
    "4\n",
    "price = 0\n",
    "for i in range(len(score)//m):\n",
    "    # print(sorted(score, reverse=True)[i*m:(i+1)*m])\n",
    "    # print((sorted(score, reverse=True)[i*m:(i+1)*m][-1]) * m)\n",
    "    price+= (sorted(score, reverse=True)[i*m:(i+1)*m][-1]) * m\n",
    "print(price)\n",
    "\n"
   ]
  },
  {
   "cell_type": "code",
   "execution_count": null,
   "metadata": {},
   "outputs": [],
   "source": [
    "\n",
    "[3, 3, 2, 2]\n",
    "8\n",
    "8\n",
    "\n"
   ]
  },
  {
   "cell_type": "code",
   "execution_count": null,
   "metadata": {},
   "outputs": [],
   "source": [
    "\n",
    "def solution(k, m, score):\n",
    "    return sum(sorted(score)[len(score)%m::m])*m\n",
    "# 타코\n",
    "# 슬라이싱에서 건너뛰는 구간설정을 활용했으면 *m 항목을 뺄 수 있어서 더 효율적으로 찾을 수 있었을듯?\n",
    " "
   ]
  }
 ],
 "metadata": {
  "kernelspec": {
   "display_name": "pybo_env",
   "language": "python",
   "name": "python3"
  },
  "language_info": {
   "name": "python",
   "version": "3.9.6 (default, Oct 18 2022, 12:41:40) \n[Clang 14.0.0 (clang-1400.0.29.202)]"
  },
  "orig_nbformat": 4,
  "vscode": {
   "interpreter": {
    "hash": "63412c41068e4d56d0309767907d27a217e98c4d09e6cc91dcddf949ab11af06"
   }
  }
 },
 "nbformat": 4,
 "nbformat_minor": 2
}
