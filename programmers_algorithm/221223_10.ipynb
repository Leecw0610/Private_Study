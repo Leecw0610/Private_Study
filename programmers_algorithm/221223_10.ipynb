{
 "cells": [
  {
   "cell_type": "code",
   "execution_count": null,
   "metadata": {},
   "outputs": [],
   "source": []
  },
  {
   "attachments": {},
   "cell_type": "markdown",
   "metadata": {},
   "source": [
    "\n",
    "### 151. 완주하지 못한 선수\n"
   ]
  },
  {
   "cell_type": "markdown",
   "metadata": {},
   "source": [
    "\n",
    "수많은 마라톤 선수들이 마라톤에 참여하였습니다. 단 한 명의 선수를 제외하고는 모든 선수가 마라톤을 완주하였습니다.\n",
    "\n",
    "마라톤에 참여한 선수들의 이름이 담긴 배열 participant와 완주한 선수들의 이름이 담긴 배열 completion이 주어질 때, 완주하지 못한 선수의 이름을 return 하도록 solution 함수를 작성해주세요.\n"
   ]
  },
  {
   "cell_type": "code",
   "execution_count": null,
   "metadata": {},
   "outputs": [],
   "source": []
  },
  {
   "cell_type": "code",
   "execution_count": 2,
   "metadata": {},
   "outputs": [
    {
     "name": "stdout",
     "output_type": "stream",
     "text": [
      "marina\n",
      "nikola\n",
      "filipa\n",
      "['josipa', 'vinko']\n",
      "['josipa', 'vinko']\n",
      "['josipa', 'filipa', 'marina', 'nikola']\n"
     ]
    }
   ],
   "source": [
    "\n",
    "participant =[\"marina\", \"josipa\", \"nikola\", \"vinko\", \"filipa\"]\n",
    "completion = [\"josipa\", \"filipa\", \"marina\", \"nikola\"]\n",
    "answer = participant\n",
    "\n",
    "\n",
    "for i in participant :\n",
    "    print(i)\n",
    "    if i in completion :\n",
    "        answer.remove(i)\n",
    "        \n",
    "print(answer)\n",
    "print(participant)\n",
    "print(completion)\n",
    "\n"
   ]
  },
  {
   "cell_type": "code",
   "execution_count": 3,
   "metadata": {},
   "outputs": [],
   "source": [
    "\n",
    "from collections import Counter\n",
    "\n",
    "def solution(participant, completion):\n",
    "    answer = ''\n",
    "    p_dict = Counter(participant)\n",
    "    c_dict = Counter(completion)\n",
    "\n",
    "    for p_name in p_dict:\n",
    "        if p_dict[p_name] != c_dict[p_name]:\n",
    "            answer = p_name\n",
    "\n",
    "    return answer\n"
   ]
  },
  {
   "cell_type": "code",
   "execution_count": 4,
   "metadata": {},
   "outputs": [],
   "source": [
    "\n",
    "\n",
    "def solution(participant, completion):\n",
    "    answer = ''\n",
    "    temp = 0\n",
    "    dic = {}\n",
    "    for part in participant:\n",
    "        dic[hash(part)] = part\n",
    "        temp += int(hash(part))\n",
    "    for com in completion:\n",
    "        temp -= hash(com)\n",
    "    answer = dic[temp]\n",
    "\n",
    "    return answer\n",
    "# 타코 hash라는 함수를 쓴것이 신기해 개념을 찾아봤는데, 아직은 난해한듯; 효율성을 높이는 무언가라는 것은 알겠다..\n"
   ]
  },
  {
   "cell_type": "markdown",
   "metadata": {},
   "source": [
    "\n",
    "### 152. 가장 가까운 같은 글자\n"
   ]
  },
  {
   "cell_type": "markdown",
   "metadata": {},
   "source": [
    "\n",
    "\n",
    "문자열 s가 주어졌을 때, s의 각 위치마다 자신보다 앞에 나왔으면서, 자신과 가장 가까운 곳에 있는 같은 글자가 어디 있는지 알고 싶습니다. 예를 들어, s=\"banana\"라고 할 때, 각 글자들을 왼쪽부터 오른쪽으로 읽어 나가면서 다음과 같이 진행할 수 있습니다.\n",
    "\n",
    "b는 처음 나왔기 때문에 자신의 앞에 같은 글자가 없습니다. 이는 -1로 표현합니다.\n",
    "a는 처음 나왔기 때문에 자신의 앞에 같은 글자가 없습니다. 이는 -1로 표현합니다.\n",
    "n은 처음 나왔기 때문에 자신의 앞에 같은 글자가 없습니다. 이는 -1로 표현합니다.\n",
    "a는 자신보다 두 칸 앞에 a가 있습니다. 이는 2로 표현합니다.\n",
    "n도 자신보다 두 칸 앞에 n이 있습니다. 이는 2로 표현합니다.\n",
    "a는 자신보다 두 칸, 네 칸 앞에 a가 있습니다. 이 중 가까운 것은 두 칸 앞이고, 이는 2로 표현합니다.\n",
    "따라서 최종 결과물은 [-1, -1, -1, 2, 2, 2]가 됩니다.\n",
    "\n",
    "문자열 s이 주어질 때, 위와 같이 정의된 연산을 수행하는 함수 solution을 완성해주세요.\n"
   ]
  },
  {
   "cell_type": "code",
   "execution_count": 7,
   "metadata": {},
   "outputs": [
    {
     "name": "stdout",
     "output_type": "stream",
     "text": [
      "['b']\n",
      "['b', 'a']\n",
      "['b', 'a', 'n']\n",
      "['b', 'a', 'n', 'a']\n",
      "['b', 'a', 'n', 'a', 'n']\n",
      "['b', 'a', 'n', 'a', 'n', 'a']\n",
      "['b', 'a', 'n', 'a', 'n', 'a']\n"
     ]
    }
   ],
   "source": [
    "\n",
    "s = 'banana'\n",
    "\n",
    "temp=[]\n",
    "\n",
    "for i in range(len(s)):\n",
    "    temp.append(s[i])\n",
    "    print(temp)\n",
    "    s[i] in s\n",
    "['b']\n",
    "['b', 'a']\n",
    "['b', 'a', 'n']\n",
    "['b', 'a', 'n', 'a']\n",
    "['b', 'a', 'n', 'a', 'n']\n",
    "['b', 'a', 'n', 'a', 'n', 'a']\n",
    "print(list(s))\n"
   ]
  },
  {
   "cell_type": "code",
   "execution_count": 10,
   "metadata": {},
   "outputs": [
    {
     "name": "stdout",
     "output_type": "stream",
     "text": [
      "0 b\n",
      "1 a\n",
      "2 n\n",
      "3 a\n",
      "4 n\n",
      "5 a\n",
      "{'f': 0, 'o': 2, 'b': 3, 'a': 4, 'r': 5}\n",
      "[-1, -1, 1, -1, -1, -1]\n"
     ]
    }
   ],
   "source": [
    "\n",
    "for idx, word in enumerate(list(s)):\n",
    "    print(idx, word)\n",
    "['b', 'a', 'n', 'a', 'n', 'a']\n",
    "\n",
    "\n",
    "s = 'foobar'\n",
    "answer=[]\n",
    "word_dict={}\n",
    "\n",
    "for idx, word in enumerate(list(s)):\n",
    "    if word not in word_dict:\n",
    "        answer.append(-1)\n",
    "        word_dict[word] = idx\n",
    "    else:\n",
    "        answer.append(idx - word_dict[word])\n",
    "        word_dict[word] = idx\n",
    "        \n",
    "print(word_dict)\n",
    "print(answer)\n",
    "\n"
   ]
  },
  {
   "cell_type": "code",
   "execution_count": 11,
   "metadata": {},
   "outputs": [],
   "source": [
    "\n",
    "\n",
    "def solution(s):\n",
    "    answer = []\n",
    "    \n",
    "    word_dict = {}\n",
    "    \n",
    "    for idx, word in enumerate(list(s)):\n",
    "        if word not in word_dict:\n",
    "            answer.append(-1)\n",
    "            word_dict[word] = idx\n",
    "        else:\n",
    "            answer.append(idx - word_dict[word])\n",
    "            word_dict[word] = idx\n",
    "            \n",
    "    return answer\n"
   ]
  },
  {
   "cell_type": "markdown",
   "metadata": {},
   "source": [
    "\n",
    "### 153. 과일 장수\n",
    "\n"
   ]
  },
  {
   "cell_type": "markdown",
   "metadata": {},
   "source": [
    "\n",
    "과일 장수가 사과 상자를 포장하고 있습니다. 사과는 상태에 따라 1점부터 k점까지의 점수로 분류하며, k점이 최상품의 사과이고 1점이 최하품의 사과입니다. 사과 한 상자의 가격은 다음과 같이 결정됩니다.\n",
    "\n",
    "한 상자에 사과를 m개씩 담아 포장합니다.\n",
    "상자에 담긴 사과 중 가장 낮은 점수가 p (1 ≤ p ≤ k)점인 경우, 사과 한 상자의 가격은 p * m 입니다.\n",
    "과일 장수가 가능한 많은 사과를 팔았을 때, 얻을 수 있는 최대 이익을 계산하고자 합니다.(사과는 상자 단위로만 판매하며, 남는 사과는 버립니다)\n",
    "\n",
    "예를 들어, k = 3, m = 4, 사과 7개의 점수가 [1, 2, 3, 1, 2, 3, 1]이라면, 다음과 같이 [2, 3, 2, 3]으로 구성된 사과 상자 1개를 만들어 판매하여 최대 이익을 얻을 수 있습니다.\n",
    "\n",
    "(최저 사과 점수) x (한 상자에 담긴 사과 개수) x (상자의 개수) = 2 x 4 x 1 = 8\n",
    "사과의 최대 점수 k, 한 상자에 들어가는 사과의 수 m, 사과들의 점수 score가 주어졌을 때, 과일 장수가 얻을 수 있는 최대 이익을 return하는 solution 함수를 완성해주세요.\n"
   ]
  },
  {
   "cell_type": "code",
   "execution_count": 12,
   "metadata": {},
   "outputs": [
    {
     "name": "stdout",
     "output_type": "stream",
     "text": [
      "8\n"
     ]
    }
   ],
   "source": [
    "\n",
    "k, m, score = 3, 4, [1,2,3,1,2,3,1]\n",
    "\n",
    "sorted(score, reverse=True)[:m][-1] #최저 사과 점수\n",
    "2\n",
    "len(score)//m # 상자의 개수\n",
    "4\n",
    "price = 0\n",
    "for i in range(len(score)//m):\n",
    "    # print(sorted(score, reverse=True)[i*m:(i+1)*m])\n",
    "    # print((sorted(score, reverse=True)[i*m:(i+1)*m][-1]) * m)\n",
    "    price+= (sorted(score, reverse=True)[i*m:(i+1)*m][-1]) * m\n",
    "print(price)\n",
    "\n"
   ]
  },
  {
   "cell_type": "code",
   "execution_count": 13,
   "metadata": {},
   "outputs": [],
   "source": [
    "\n",
    "def solution(k, m, score):\n",
    "    return sum(sorted(score)[len(score)%m::m])*m\n",
    "# 타코\n",
    "# 슬라이싱에서 건너뛰는 구간설정을 활용했으면 *m 항목을 뺄 수 있어서 더 효율적으로 찾을 수 있었을듯?\n",
    " "
   ]
  },
  {
   "attachments": {},
   "cell_type": "markdown",
   "metadata": {},
   "source": [
    "\n",
    "### 154. 키패드 누르기\n"
   ]
  },
  {
   "attachments": {},
   "cell_type": "markdown",
   "metadata": {},
   "source": [
    "스마트폰 전화 키패드의 각 칸에 다음과 같이 숫자들이 적혀 있습니다.\n",
    "\n",
    "![ ]('https://grepp-programmers.s3.ap-northeast-2.amazonaws.com/files/production/4b69a271-5f4a-4bf4-9ebf-6ebed5a02d8d/kakao_phone1.png')\n",
    "\n",
    "이 전화 키패드에서 왼손과 오른손의 엄지손가락만을 이용해서 숫자만을 입력하려고 합니다.\n",
    "맨 처음 왼손 엄지손가락은 * 키패드에 오른손 엄지손가락은 # 키패드 위치에서 시작하며, 엄지손가락을 사용하는 규칙은 다음과 같습니다.\n",
    "\n",
    "엄지손가락은 상하좌우 4가지 방향으로만 이동할 수 있으며 키패드 이동 한 칸은 거리로 1에 해당합니다.\n",
    "왼쪽 열의 3개의 숫자 1, 4, 7을 입력할 때는 왼손 엄지손가락을 사용합니다.\n",
    "오른쪽 열의 3개의 숫자 3, 6, 9를 입력할 때는 오른손 엄지손가락을 사용합니다.\n",
    "가운데 열의 4개의 숫자 2, 5, 8, 0을 입력할 때는 두 엄지손가락의 현재 키패드의 위치에서 더 가까운 엄지손가락을 사용합니다.\n",
    "4-1. 만약 두 엄지손가락의 거리가 같다면, 오른손잡이는 오른손 엄지손가락, 왼손잡이는 왼손 엄지손가락을 사용합니다.\n",
    "순서대로 누를 번호가 담긴 배열 numbers, 왼손잡이인지 오른손잡이인 지를 나타내는 문자열 hand가 매개변수로 주어질 때, 각 번호를 누른 엄지손가락이 왼손인 지 오른손인 지를 나타내는 연속된 문자열 형태로 return 하도록 solution 함수를 완성해주세요.\n"
   ]
  },
  {
   "cell_type": "code",
   "execution_count": 4,
   "metadata": {},
   "outputs": [],
   "source": [
    "numbers = [1, 3, 4, 5, 8, 2, 1, 4, 5, 9, 5]\n",
    "hand = \"right\"\n",
    "# result = \"LRLLLRLLRRL\"\n",
    "\n",
    "num_dict = {1:[0,3],2:[1,3],3:[2,3],4:[0,2],5:[1,2],6:[2,2],7:[0,1],8:[1,1],9:[2,1],0:[1,0]}"
   ]
  },
  {
   "cell_type": "code",
   "execution_count": 20,
   "metadata": {},
   "outputs": [
    {
     "name": "stdout",
     "output_type": "stream",
     "text": [
      "1\n",
      "왼손 현재 위치 : [0, 3] L\n",
      "2\n",
      "왼손 현재 위치 : [1, 3] LL\n",
      "3\n",
      "오른손 현재 위치 : [2, 3] LLR\n",
      "4\n",
      "왼손 현재 위치 : [0, 2] LLRL\n",
      "5\n",
      "왼손 현재 위치 : [1, 2] LLRLL\n",
      "6\n",
      "오른손 현재 위치 : [2, 2] LLRLLR\n",
      "7\n",
      "왼손 현재 위치 : [0, 1] LLRLLRL\n",
      "8\n",
      "왼손 현재 위치 : [1, 1] LLRLLRLL\n",
      "9\n",
      "오른손 현재 위치 : [2, 1] LLRLLRLLR\n",
      "0\n",
      "왼손 현재 위치 : [1, 0] LLRLLRLLRL\n",
      "LLRLLRLLRL\n"
     ]
    }
   ],
   "source": [
    "numbers = [1, 2, 3, 4, 5, 6, 7, 8, 9, 0]\n",
    "result=''\n",
    "left_move=[0,0]\n",
    "right_move=[2,0]\n",
    "hand = 'right'\n",
    "\n",
    "def cal_distance(list1, list2):\n",
    "    return abs(list1[0] - list2[0]) + abs(list1[1] - list2[1])\n",
    "    \n",
    "\n",
    "for num in numbers:\n",
    "    print(num)\n",
    "    if num in [1,4,7]:\n",
    "        left_move = num_dict[num]\n",
    "        result+='L'\n",
    "        print('왼손 현재 위치 :',left_move, result)\n",
    "    elif num in [3,6,9]:\n",
    "        right_move = num_dict[num]\n",
    "        result+='R'\n",
    "        print('오른손 현재 위치 :',right_move, result)\n",
    "    elif cal_distance(num_dict[num], left_move) > cal_distance(num_dict[num], right_move) :\n",
    "        right_move = num_dict[num]\n",
    "        result+='R'\n",
    "        print('오른손 현재 위치 :',right_move, result)\n",
    "    elif cal_distance(num_dict[num], left_move) < cal_distance(num_dict[num], right_move) :\n",
    "        left_move = num_dict[num]\n",
    "        result+='L'\n",
    "        print('왼손 현재 위치 :',left_move, result)\n",
    "    elif hand =='right' :\n",
    "        right_move = num_dict[num]\n",
    "        result+='R'\n",
    "        print('오른손 현재 위치 :',right_move, result)\n",
    "    else :\n",
    "        left_move = num_dict[num]\n",
    "        result+='L'\n",
    "        print('왼손 현재 위치 :',left_move, result)\n",
    "        \n",
    "        \n",
    "        \n",
    "\n",
    "print(result)"
   ]
  },
  {
   "cell_type": "code",
   "execution_count": 1,
   "metadata": {},
   "outputs": [
    {
     "name": "stdout",
     "output_type": "stream",
     "text": [
      "me\n"
     ]
    }
   ],
   "source": [
    "if 3 in [1,3,9] :\n",
    "    print('me')"
   ]
  },
  {
   "attachments": {},
   "cell_type": "markdown",
   "metadata": {},
   "source": [
    "\n",
    "### 155. 크기가 작은 부분 문자열\n"
   ]
  },
  {
   "attachments": {},
   "cell_type": "markdown",
   "metadata": {},
   "source": [
    "숫자로 이루어진 문자열 t와 p가 주어질 때, t에서 p와 길이가 같은 부분문자열 중에서, 이 부분문자열이 나타내는 수가 p가 나타내는 수보다 작거나 같은 것이 나오는 횟수를 return하는 함수 solution을 완성하세요.\n",
    "\n",
    "예를 들어, t=\"3141592\"이고 p=\"271\" 인 경우, t의 길이가 3인 부분 문자열은 314, 141, 415, 159, 592입니다. 이 문자열이 나타내는 수 중 271보다 작거나 같은 수는 141, 159 2개 입니다."
   ]
  },
  {
   "cell_type": "code",
   "execution_count": 42,
   "metadata": {},
   "outputs": [
    {
     "name": "stdout",
     "output_type": "stream",
     "text": [
      "0 : 2\n",
      "10\n",
      "1 : 3\n",
      "02\n",
      "2 : 4\n",
      "20\n",
      "3 : 5\n",
      "03\n"
     ]
    }
   ],
   "source": [
    "t = \"10203\"\n",
    "p = \"15\"\n",
    "\n",
    "t_list=[]\n",
    "\n",
    "t[0:3]\n",
    "t[1:4]\n",
    "t[2:5]\n",
    "t[3:6]\n",
    "t[4:7]\n",
    "\n",
    "# for i in range(len(t)-len(p)+1):\n",
    "#     print(i,':',int(i)+len(p))\n",
    "#     print(t[int(i):int(i)+len(p)])\n",
    "\n",
    "t_list =[t[int(i):int(i)+len(p)] for i in range(len(t)-len(p)+1)]"
   ]
  },
  {
   "cell_type": "code",
   "execution_count": 45,
   "metadata": {},
   "outputs": [
    {
     "name": "stdout",
     "output_type": "stream",
     "text": [
      "3\n"
     ]
    }
   ],
   "source": [
    "count = 0\n",
    "for t in t_list:\n",
    "    if int(t) <= int(p) :\n",
    "        count+=1\n",
    "print(count)"
   ]
  },
  {
   "attachments": {},
   "cell_type": "markdown",
   "metadata": {},
   "source": [
    "\n",
    "### 156. 숫자 짝꿍\n"
   ]
  },
  {
   "attachments": {},
   "cell_type": "markdown",
   "metadata": {},
   "source": [
    "두 정수 X, Y의 임의의 자리에서 공통으로 나타나는 정수 k(0 ≤ k ≤ 9)들을 이용하여 만들 수 있는 가장 큰 정수를 두 수의 짝꿍이라 합니다(단, 공통으로 나타나는 정수 중 서로 짝지을 수 있는 숫자만 사용합니다). X, Y의 짝꿍이 존재하지 않으면, 짝꿍은 -1입니다. X, Y의 짝꿍이 0으로만 구성되어 있다면, 짝꿍은 0입니다.\n",
    "\n",
    "예를 들어, X = 3403이고 Y = 13203이라면, X와 Y의 짝꿍은 X와 Y에서 공통으로 나타나는 3, 0, 3으로 만들 수 있는 가장 큰 정수인 330입니다. 다른 예시로 X = 5525이고 Y = 1255이면 X와 Y의 짝꿍은 X와 Y에서 공통으로 나타나는 2, 5, 5로 만들 수 있는 가장 큰 정수인 552입니다(X에는 5가 3개, Y에는 5가 2개 나타나므로 남는 5 한 개는 짝 지을 수 없습니다.)\n",
    "두 정수 X, Y가 주어졌을 때, X, Y의 짝꿍을 return하는 solution 함수를 완성해주세요."
   ]
  },
  {
   "cell_type": "code",
   "execution_count": 31,
   "metadata": {},
   "outputs": [],
   "source": [
    "X = \"100\"\n",
    "Y = \"123450\"\n"
   ]
  },
  {
   "cell_type": "code",
   "execution_count": 47,
   "metadata": {},
   "outputs": [
    {
     "name": "stdout",
     "output_type": "stream",
     "text": [
      "['5', '5', '2', '5']\n",
      "['1', '2', '5', '5']\n"
     ]
    }
   ],
   "source": [
    "X= \"5525\"\n",
    "Y= \"1255\"\n",
    "\n",
    "print(list(X))\n",
    "print(list(Y))"
   ]
  },
  {
   "cell_type": "code",
   "execution_count": 56,
   "metadata": {},
   "outputs": [
    {
     "name": "stdout",
     "output_type": "stream",
     "text": [
      "1\n",
      "0\n",
      "['2', '3', '0', '4', '5']\n",
      "0\n",
      "['2', '3', '4', '5']\n",
      "['0', '0'] ['2', '3', '4', '5']\n",
      "['0', '0']\n",
      "00\n",
      "0\n"
     ]
    }
   ],
   "source": [
    "X= \"100\"\n",
    "Y= \"203045\"\n",
    "\n",
    "temp=[]\n",
    "X=list(X)\n",
    "Y=list(Y)\n",
    "\n",
    "for x in X :\n",
    "    print(x)\n",
    "    if x in Y :\n",
    "        temp.append(x)\n",
    "        Y.remove(x)\n",
    "        print(Y)\n",
    "if temp == []:\n",
    "    print(-1)\n",
    "# return ''.join(sorted(set(temp), reverse=True))\n",
    "print(temp, Y)\n",
    "#print(set(temp))\n",
    "print(sorted(temp, reverse=True))\n",
    "print(''.join(sorted(temp, reverse=True)))\n",
    "print(str(int(''.join(sorted(temp, reverse=True)))))"
   ]
  },
  {
   "cell_type": "code",
   "execution_count": null,
   "metadata": {},
   "outputs": [],
   "source": [
    "def solution(X, Y):\n",
    "    answer = ''\n",
    "\n",
    "    for i in range(9,-1,-1) :\n",
    "        answer += (str(i) * min(X.count(str(i)), Y.count(str(i))))\n",
    "\n",
    "    if answer == '' :\n",
    "        return '-1'\n",
    "    elif len(answer) == answer.count('0'):\n",
    "        return '0'\n",
    "    else :\n",
    "        return answer\n",
    "#타코\n",
    "#풀이에 시간복잡도까지 고려해야 되는게 ;;"
   ]
  },
  {
   "attachments": {},
   "cell_type": "markdown",
   "metadata": {},
   "source": [
    "\n",
    "### 157. 신규 아이디 추천\n"
   ]
  },
  {
   "attachments": {},
   "cell_type": "markdown",
   "metadata": {},
   "source": [
    "카카오에 입사한 신입 개발자 네오는 \"카카오계정개발팀\"에 배치되어, 카카오 서비스에 가입하는 유저들의 아이디를 생성하는 업무를 담당하게 되었습니다. \"네오\"에게 주어진 첫 업무는 새로 가입하는 유저들이 카카오 아이디 규칙에 맞지 않는 아이디를 입력했을 때, 입력된 아이디와 유사하면서 규칙에 맞는 아이디를 추천해주는 프로그램을 개발하는 것입니다.\n",
    "다음은 카카오 아이디의 규칙입니다.\n",
    "\n",
    "- 아이디의 길이는 3자 이상 15자 이하여야 합니다.\n",
    "- 아이디는 알파벳 소문자, 숫자, 빼기(-), 밑줄(_), 마침표(.) 문자만 사용할 수 있습니다.\n",
    "- 단, 마침표(.)는 처음과 끝에 사용할 수 없으며 또한 연속으로 사용할 수 없습니다.\n",
    "\n",
    "\"네오\"는 다음과 같이 7단계의 순차적인 처리 과정을 통해 신규 유저가 입력한 아이디가 카카오 아이디 규칙에 맞는 지 검사하고 규칙에 맞지 않은 경우 규칙에 맞는 새로운 아이디를 추천해 주려고 합니다.\n",
    "신규 유저가 입력한 아이디가 new_id 라고 한다면,\n",
    "\n",
    "```\n",
    "1단계 new_id의 모든 대문자를 대응되는 소문자로 치환합니다.\n",
    "2단계 new_id에서 알파벳 소문자, 숫자, 빼기(-), 밑줄(_), 마침표(.)를 제외한 모든 문자를 제거합니다.\n",
    "3단계 new_id에서 마침표(.)가 2번 이상 연속된 부분을 하나의 마침표(.)로 치환합니다.\n",
    "4단계 new_id에서 마침표(.)가 처음이나 끝에 위치한다면 제거합니다.\n",
    "5단계 new_id가 빈 문자열이라면, new_id에 \"a\"를 대입합니다.\n",
    "6단계 new_id의 길이가 16자 이상이면, new_id의 첫 15개의 문자를 제외한 나머지 문자들을 모두 제거합니다.\n",
    "     만약 제거 후 마침표(.)가 new_id의 끝에 위치한다면 끝에 위치한 마침표(.) 문자를 제거합니다.\n",
    "7단계 new_id의 길이가 2자 이하라면, new_id의 마지막 문자를 new_id의 길이가 3이 될 때까지 반복해서 끝에 붙입니다.\n",
    "```\n",
    "\n",
    "예를 들어, new_id 값이 \"...!@BaT#*..y.abcdefghijklm\" 라면, 위 7단계를 거치고 나면 new_id는 아래와 같이 변경됩니다.\n",
    "\n",
    "1단계 대문자 'B'와 'T'가 소문자 'b'와 't'로 바뀌었습니다.\n",
    "\"...!@BaT#*..y.abcdefghijklm\" → \"...!@bat#*..y.abcdefghijklm\"\n",
    "\n",
    "2단계 '!', '@', '#', '*' 문자가 제거되었습니다.\n",
    "\"...!@bat#*..y.abcdefghijklm\" → \"...bat..y.abcdefghijklm\"\n",
    "\n",
    "3단계 '...'와 '..' 가 '.'로 바뀌었습니다.\n",
    "\"...bat..y.abcdefghijklm\" → \".bat.y.abcdefghijklm\"\n",
    "\n",
    "4단계 아이디의 처음에 위치한 '.'가 제거되었습니다.\n",
    "\".bat.y.abcdefghijklm\" → \"bat.y.abcdefghijklm\"\n",
    "\n",
    "5단계 아이디가 빈 문자열이 아니므로 변화가 없습니다.\n",
    "\"bat.y.abcdefghijklm\" → \"bat.y.abcdefghijklm\"\n",
    "\n",
    "6단계 아이디의 길이가 16자 이상이므로, 처음 15자를 제외한 나머지 문자들이 제거되었습니다.\n",
    "\"bat.y.abcdefghijklm\" → \"bat.y.abcdefghi\"\n",
    "\n",
    "7단계 아이디의 길이가 2자 이하가 아니므로 변화가 없습니다.\n",
    "\"bat.y.abcdefghi\" → \"bat.y.abcdefghi\"\n",
    "\n",
    "따라서 신규 유저가 입력한 new_id가 \"...!@BaT#*..y.abcdefghijklm\"일 때, 네오의 프로그램이 추천하는 새로운 아이디는 \"bat.y.abcdefghi\" 입니다.\n",
    "\n",
    "신규 유저가 입력한 아이디를 나타내는 new_id가 매개변수로 주어질 때, \"네오\"가 설계한 7단계의 처리 과정을 거친 후의 추천 아이디를 return 하도록 solution 함수를 완성해 주세요.\n"
   ]
  },
  {
   "cell_type": "code",
   "execution_count": 70,
   "metadata": {},
   "outputs": [],
   "source": [
    "new_id = \"...!@BaT#*..y.abcdefghijklm\"\n",
    "#result = \"bat.y.abcdefghi\""
   ]
  },
  {
   "cell_type": "code",
   "execution_count": 145,
   "metadata": {},
   "outputs": [
    {
     "name": "stdout",
     "output_type": "stream",
     "text": [
      "abcdefghijklmn.p\n",
      "abcdefghijklmn.p\n"
     ]
    }
   ],
   "source": [
    "new_id = \"abcdefghijklmn.p\"\n",
    "ele_list = ['a','b','c','d','e','f','g','h','i','j','k','l','m','n','o','p','q','r','s','t','u','v','w','x','y','z','1','2','3','4','5','6','7','8','9','0','-','_','.']\n",
    "\n",
    "result = ''\n",
    "# step 1.\n",
    "for i in new_id:\n",
    "    #print(i, end =' ')\n",
    "    result+=i.lower()\n",
    "    #print(i.lower(), end =' ')\n",
    "    # if i.lower() not in ele_list :\n",
    "print(result)\n",
    "# step 2.\n",
    "for i in result :\n",
    "    #print(i, end=' ')\n",
    "    if i not in ele_list :\n",
    "        result= result.replace(i, '')\n",
    "        \n",
    "print(result)"
   ]
  },
  {
   "cell_type": "code",
   "execution_count": 146,
   "metadata": {},
   "outputs": [
    {
     "name": "stdout",
     "output_type": "stream",
     "text": [
      "abcdefghijklmn.p\n",
      "abcdefghijklmn.p\n"
     ]
    }
   ],
   "source": [
    "#step 3.\n",
    "while '..' in result:\n",
    "    result = result.replace('..','.')\n",
    "print(result)\n",
    "#step 4.\n",
    "result = result[1:] if result[0] == '.' and len(result) > 1 else result\n",
    "result = result[:-1] if result[-1] == '.' else result\n",
    "print(result)\n"
   ]
  },
  {
   "cell_type": "code",
   "execution_count": 147,
   "metadata": {},
   "outputs": [
    {
     "name": "stdout",
     "output_type": "stream",
     "text": [
      "abcdefghijklmn.p\n"
     ]
    }
   ],
   "source": [
    "#step 5.\n",
    "result = 'a' if result =='' else result\n",
    "print(result)"
   ]
  },
  {
   "cell_type": "code",
   "execution_count": 148,
   "metadata": {},
   "outputs": [
    {
     "name": "stdout",
     "output_type": "stream",
     "text": [
      "abcdefghijklmn\n"
     ]
    }
   ],
   "source": [
    "#step 6.\n",
    "result=result[:15] if len(result)>=16 else result\n",
    "if result[-1] == '.':\n",
    "    result=result[:-1]\n",
    "    \n",
    "print(result)"
   ]
  },
  {
   "cell_type": "code",
   "execution_count": 149,
   "metadata": {},
   "outputs": [
    {
     "name": "stdout",
     "output_type": "stream",
     "text": [
      "abcdefghijklmn\n"
     ]
    }
   ],
   "source": [
    "#step 7.\n",
    "if len(result) <= 2:\n",
    "    while len(result) < 3:\n",
    "        result += result[-1]\n",
    "print(result)"
   ]
  },
  {
   "cell_type": "code",
   "execution_count": null,
   "metadata": {},
   "outputs": [],
   "source": [
    "import re\n",
    "\n",
    "def solution(new_id):\n",
    "    st = new_id\n",
    "    st = st.lower()\n",
    "    st = re.sub('[^a-z0-9\\-_.]', '', st)\n",
    "    st = re.sub('\\.+', '.', st)\n",
    "    st = re.sub('^[.]|[.]$', '', st)\n",
    "    st = 'a' if len(st) == 0 else st[:15]\n",
    "    st = re.sub('^[.]|[.]$', '', st)\n",
    "    st = st if len(st) > 2 else st + \"\".join([st[-1] for i in range(3-len(st))])\n",
    "    return st\n",
    "\n",
    "#타코\n",
    "# 내가 하고싶었던 그것.. \n",
    "# 정규표현식 공부하자!"
   ]
  },
  {
   "attachments": {},
   "cell_type": "markdown",
   "metadata": {},
   "source": [
    "\n",
    "### 158. 명예의 전당(1)\n"
   ]
  },
  {
   "attachments": {},
   "cell_type": "markdown",
   "metadata": {},
   "source": [
    "\"명예의 전당\"이라는 TV 프로그램에서는 매일 1명의 가수가 노래를 부르고, 시청자들의 문자 투표수로 가수에게 점수를 부여합니다. 매일 출연한 가수의 점수가 지금까지 출연 가수들의 점수 중 상위 k번째 이내이면 해당 가수의 점수를 명예의 전당이라는 목록에 올려 기념합니다. 즉 프로그램 시작 이후 초기에 k일까지는 모든 출연 가수의 점수가 명예의 전당에 오르게 됩니다. k일 다음부터는 출연 가수의 점수가 기존의 명예의 전당 목록의 k번째 순위의 가수 점수보다 더 높으면, 출연 가수의 점수가 명예의 전당에 오르게 되고 기존의 k번째 순위의 점수는 명예의 전당에서 내려오게 됩니다.\n",
    "\n",
    "이 프로그램에서는 매일 \"명예의 전당\"의 최하위 점수를 발표합니다. 예를 들어, k = 3이고, 7일 동안 진행된 가수의 점수가 [10, 100, 20, 150, 1, 100, 200]이라면, 명예의 전당에서 발표된 점수는 아래의 그림과 같이 [10, 10, 10, 20, 20, 100, 100]입니다.\n",
    "\n",
    "![](https://grepp-programmers.s3.ap-northeast-2.amazonaws.com/files/production/b0893853-7471-47c0-b7e5-1e8b46002810/%EA%B7%B8%EB%A6%BC1.png)\n",
    "\n",
    "명예의 전당 목록의 점수의 개수 k, 1일부터 마지막 날까지 출연한 가수들의 점수인 score가 주어졌을 때, 매일 발표된 명예의 전당의 최하위 점수를 return하는 solution 함수를 완성해주세요."
   ]
  },
  {
   "cell_type": "code",
   "execution_count": 187,
   "metadata": {},
   "outputs": [],
   "source": [
    "score = [0, 300, 40, 300, 20, 70, 150, 50, 500, 1000]\n",
    "k = 4\n",
    "#result = [10, 10, 10, 20, 20, 100, 100]"
   ]
  },
  {
   "cell_type": "code",
   "execution_count": 188,
   "metadata": {},
   "outputs": [
    {
     "name": "stdout",
     "output_type": "stream",
     "text": [
      "0\n",
      "[0] [0]\n",
      "1\n",
      "[0, 300] [0, 0]\n",
      "2\n",
      "[0, 300, 40] [0, 0, 0]\n",
      "3\n",
      "[0, 300, 40, 300] [0, 0, 0, 0]\n",
      "4\n",
      "[300, 300, 40, 20] [0, 0, 0, 0]\n",
      "5\n",
      "[300, 300, 70, 40] [0, 0, 0, 0, 20]\n",
      "6\n",
      "[300, 300, 150, 70] [0, 0, 0, 0, 20, 40]\n",
      "7\n",
      "[300, 300, 150, 70, 50] [0, 0, 0, 0, 20, 40, 70]\n",
      "8\n",
      "[500, 300, 300, 150] [0, 0, 0, 0, 20, 40, 70, 70]\n",
      "9\n",
      "[1000, 500, 300, 300] [0, 0, 0, 0, 20, 40, 70, 70, 150]\n",
      "[0, 0, 0, 0, 20, 40, 70, 70, 150, 300]\n"
     ]
    }
   ],
   "source": [
    "honor=[]\n",
    "present=[]\n",
    "\n",
    "# honor+=score[:k]\n",
    "# print(honor)\n",
    "\n",
    "for i in range(len(score)):\n",
    "    print(i)\n",
    "    # print(score[i])\n",
    "    honor.append(score[i])\n",
    "    if len(honor) <= k :\n",
    "        present.append(min(honor))\n",
    "        print(honor, present)\n",
    "    elif score[i] > min(honor) :\n",
    "        honor=sorted(honor, reverse=True)[:-1]\n",
    "        print(honor,present)\n",
    "        present.append(honor[-1])\n",
    "    else : \n",
    "        print(honor,present)\n",
    "        present.append(honor[-2])\n",
    "        honor=sorted(honor, reverse=True)[:-1]\n",
    "        \n",
    "print(present)"
   ]
  },
  {
   "cell_type": "code",
   "execution_count": 163,
   "metadata": {},
   "outputs": [
    {
     "data": {
      "text/plain": [
       "[10, 100, 20]"
      ]
     },
     "execution_count": 163,
     "metadata": {},
     "output_type": "execute_result"
    }
   ],
   "source": [
    "score[0:k]"
   ]
  },
  {
   "cell_type": "code",
   "execution_count": 189,
   "metadata": {},
   "outputs": [],
   "source": [
    "def solution(k, score):\n",
    "    q = []\n",
    "    answer = []\n",
    "    for s in score:\n",
    "        q.append(s)\n",
    "        if (len(q) > k):\n",
    "            q.remove(min(q))\n",
    "        answer.append(min(q))\n",
    "    return answer\n",
    "\n",
    "#타코\n",
    "#리스트에 하나씩 담으면서 k보다 길어지는 시점에서 최솟값을 빼주면서 나머지들의 최소값을 추가해줌.. 간단히 할 수 있었는데 복잡해졌다."
   ]
  },
  {
   "cell_type": "code",
   "execution_count": null,
   "metadata": {},
   "outputs": [],
   "source": []
  },
  {
   "cell_type": "code",
   "execution_count": null,
   "metadata": {},
   "outputs": [],
   "source": []
  },
  {
   "attachments": {},
   "cell_type": "markdown",
   "metadata": {},
   "source": [
    "\n",
    "### 159. 기사단원의 무기\n"
   ]
  },
  {
   "attachments": {},
   "cell_type": "markdown",
   "metadata": {},
   "source": [
    "숫자나라 기사단의 각 기사에게는 1번부터 number까지 번호가 지정되어 있습니다. 기사들은 무기점에서 무기를 구매하려고 합니다.\n",
    "\n",
    "각 기사는 자신의 기사 번호의 약수 개수에 해당하는 공격력을 가진 무기를 구매하려 합니다. 단, 이웃나라와의 협약에 의해 공격력의 제한수치를 정하고, 제한수치보다 큰 공격력을 가진 무기를 구매해야 하는 기사는 협약기관에서 정한 공격력을 가지는 무기를 구매해야 합니다.\n",
    "\n",
    "예를 들어, 15번으로 지정된 기사단원은 15의 약수가 1, 3, 5, 15로 4개 이므로, 공격력이 4인 무기를 구매합니다. 만약, 이웃나라와의 협약으로 정해진 공격력의 제한수치가 3이고 제한수치를 초과한 기사가 사용할 무기의 공격력이 2라면, 15번으로 지정된 기사단원은 무기점에서 공격력이 2인 무기를 구매합니다. 무기를 만들 때, 무기의 공격력 1당 1kg의 철이 필요합니다. 그래서 무기점에서 무기를 모두 만들기 위해 필요한 철의 무게를 미리 계산하려 합니다.\n",
    "\n",
    "기사단원의 수를 나타내는 정수 number와 이웃나라와 협약으로 정해진 공격력의 제한수치를 나타내는 정수 limit와 제한수치를 초과한 기사가 사용할 무기의 공격력을 나타내는 정수 power가 주어졌을 때, 무기점의 주인이 무기를 모두 만들기 위해 필요한 철의 무게를 return 하는 solution 함수를 완성하시오."
   ]
  },
  {
   "cell_type": "code",
   "execution_count": 243,
   "metadata": {},
   "outputs": [],
   "source": [
    "number, limit, power = 10, 3, 2\n",
    "#result = 10\n",
    "def solution(number, limit, power):\n",
    "    divisor=[]\n",
    "    for num in range(1, number+1):\n",
    "\n",
    "        count= 0\n",
    "        for n in range(1,int((num)**0.5)+1):\n",
    "            if num % n ==0 :\n",
    "                if n == num//n :\n",
    "                    count+=1\n",
    "                else :\n",
    "                    count+=2\n",
    "        divisor.append(count)\n",
    "        print(divisor)\n",
    "\n",
    "\n",
    "    result_list = []\n",
    "    for i in divisor:\n",
    "\n",
    "        if i>limit :\n",
    "            result_list.append(power)\n",
    "        else :\n",
    "            result_list.append(i)\n",
    "\n",
    "\n",
    "    return sum(result_list)"
   ]
  },
  {
   "cell_type": "code",
   "execution_count": 244,
   "metadata": {},
   "outputs": [
    {
     "name": "stdout",
     "output_type": "stream",
     "text": [
      "[1]\n",
      "[1, 2]\n",
      "[1, 2, 2]\n",
      "[1, 2, 2, 3]\n",
      "[1, 2, 2, 3, 2]\n",
      "[1, 2, 2, 3, 2, 4]\n",
      "[1, 2, 2, 3, 2, 4, 2]\n",
      "[1, 2, 2, 3, 2, 4, 2, 4]\n",
      "[1, 2, 2, 3, 2, 4, 2, 4, 3]\n",
      "[1, 2, 2, 3, 2, 4, 2, 4, 3, 4]\n"
     ]
    },
    {
     "data": {
      "text/plain": [
       "21"
      ]
     },
     "execution_count": 244,
     "metadata": {},
     "output_type": "execute_result"
    }
   ],
   "source": [
    "solution(10, 3, 2)"
   ]
  },
  {
   "cell_type": "code",
   "execution_count": 223,
   "metadata": {},
   "outputs": [],
   "source": [
    "# 11~16, 24,25 시간초과 => 제곱근을이용해서 카운트해서 시간단축!"
   ]
  },
  {
   "cell_type": "code",
   "execution_count": 245,
   "metadata": {},
   "outputs": [],
   "source": [
    "def cf(n): # 공약수 출력\n",
    "    a = []\n",
    "    for i in range(1,int(n**0.5)+1):\n",
    "        if n%i == 0:\n",
    "            a.append(n//i)\n",
    "            a.append(i)\n",
    "    return len(set(a))\n",
    "def solution(number, limit, power):\n",
    "    return sum([cf(i) if cf(i)<=limit else power for i in range(1,number+1)])\n",
    "# 타코\n",
    "# 나눠지는 수(약수)를 전부다 append하고 set으로 반복되어있는 제곱근을 한개로 카운트...ㄷㄷ 똑똑하다"
   ]
  },
  {
   "cell_type": "code",
   "execution_count": null,
   "metadata": {},
   "outputs": [],
   "source": []
  },
  {
   "attachments": {},
   "cell_type": "markdown",
   "metadata": {},
   "source": [
    "\n",
    "### 160. 옹알이(2)\n"
   ]
  },
  {
   "cell_type": "markdown",
   "metadata": {},
   "source": [
    "\n",
    "수많은 마라톤 선수들이 마라톤에 참여하였습니다. 단 한 명의 선수를 제외하고는 모든 선수가 마라톤을 완주하였습니다.\n",
    "\n",
    "마라톤에 참여한 선수들의 이름이 담긴 배열 participant와 완주한 선수들의 이름이 담긴 배열 completion이 주어질 때, 완주하지 못한 선수의 이름을 return 하도록 solution 함수를 작성해주세요.\n"
   ]
  },
  {
   "cell_type": "code",
   "execution_count": null,
   "metadata": {},
   "outputs": [],
   "source": []
  }
 ],
 "metadata": {
  "kernelspec": {
   "display_name": "Python 3",
   "language": "python",
   "name": "python3"
  },
  "language_info": {
   "codemirror_mode": {
    "name": "ipython",
    "version": 3
   },
   "file_extension": ".py",
   "mimetype": "text/x-python",
   "name": "python",
   "nbconvert_exporter": "python",
   "pygments_lexer": "ipython3",
   "version": "3.11.1"
  },
  "orig_nbformat": 4,
  "vscode": {
   "interpreter": {
    "hash": "edf116327103e36dfe9c0e360260b03b9d82b30c3335fe3d340322aa34dca8af"
   }
  }
 },
 "nbformat": 4,
 "nbformat_minor": 2
}
