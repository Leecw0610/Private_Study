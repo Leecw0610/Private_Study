{
 "cells": [
  {
   "cell_type": "code",
   "execution_count": null,
   "metadata": {},
   "outputs": [],
   "source": []
  },
  {
   "attachments": {},
   "cell_type": "markdown",
   "metadata": {},
   "source": [
    "\n",
    "### 151. 완주하지 못한 선수\n"
   ]
  },
  {
   "cell_type": "markdown",
   "metadata": {},
   "source": [
    "\n",
    "수많은 마라톤 선수들이 마라톤에 참여하였습니다. 단 한 명의 선수를 제외하고는 모든 선수가 마라톤을 완주하였습니다.\n",
    "\n",
    "마라톤에 참여한 선수들의 이름이 담긴 배열 participant와 완주한 선수들의 이름이 담긴 배열 completion이 주어질 때, 완주하지 못한 선수의 이름을 return 하도록 solution 함수를 작성해주세요.\n"
   ]
  },
  {
   "cell_type": "code",
   "execution_count": null,
   "metadata": {},
   "outputs": [],
   "source": []
  },
  {
   "cell_type": "code",
   "execution_count": 2,
   "metadata": {},
   "outputs": [
    {
     "name": "stdout",
     "output_type": "stream",
     "text": [
      "marina\n",
      "nikola\n",
      "filipa\n",
      "['josipa', 'vinko']\n",
      "['josipa', 'vinko']\n",
      "['josipa', 'filipa', 'marina', 'nikola']\n"
     ]
    }
   ],
   "source": [
    "\n",
    "participant =[\"marina\", \"josipa\", \"nikola\", \"vinko\", \"filipa\"]\n",
    "completion = [\"josipa\", \"filipa\", \"marina\", \"nikola\"]\n",
    "answer = participant\n",
    "\n",
    "\n",
    "for i in participant :\n",
    "    print(i)\n",
    "    if i in completion :\n",
    "        answer.remove(i)\n",
    "        \n",
    "print(answer)\n",
    "print(participant)\n",
    "print(completion)\n",
    "\n"
   ]
  },
  {
   "cell_type": "code",
   "execution_count": 3,
   "metadata": {},
   "outputs": [],
   "source": [
    "\n",
    "from collections import Counter\n",
    "\n",
    "def solution(participant, completion):\n",
    "    answer = ''\n",
    "    p_dict = Counter(participant)\n",
    "    c_dict = Counter(completion)\n",
    "\n",
    "    for p_name in p_dict:\n",
    "        if p_dict[p_name] != c_dict[p_name]:\n",
    "            answer = p_name\n",
    "\n",
    "    return answer\n"
   ]
  },
  {
   "cell_type": "code",
   "execution_count": 4,
   "metadata": {},
   "outputs": [],
   "source": [
    "\n",
    "\n",
    "def solution(participant, completion):\n",
    "    answer = ''\n",
    "    temp = 0\n",
    "    dic = {}\n",
    "    for part in participant:\n",
    "        dic[hash(part)] = part\n",
    "        temp += int(hash(part))\n",
    "    for com in completion:\n",
    "        temp -= hash(com)\n",
    "    answer = dic[temp]\n",
    "\n",
    "    return answer\n",
    "# 타코 hash라는 함수를 쓴것이 신기해 개념을 찾아봤는데, 아직은 난해한듯; 효율성을 높이는 무언가라는 것은 알겠다..\n"
   ]
  },
  {
   "cell_type": "markdown",
   "metadata": {},
   "source": [
    "\n",
    "### 152. 가장 가까운 같은 글자\n"
   ]
  },
  {
   "cell_type": "markdown",
   "metadata": {},
   "source": [
    "\n",
    "\n",
    "문자열 s가 주어졌을 때, s의 각 위치마다 자신보다 앞에 나왔으면서, 자신과 가장 가까운 곳에 있는 같은 글자가 어디 있는지 알고 싶습니다. 예를 들어, s=\"banana\"라고 할 때, 각 글자들을 왼쪽부터 오른쪽으로 읽어 나가면서 다음과 같이 진행할 수 있습니다.\n",
    "\n",
    "b는 처음 나왔기 때문에 자신의 앞에 같은 글자가 없습니다. 이는 -1로 표현합니다.\n",
    "a는 처음 나왔기 때문에 자신의 앞에 같은 글자가 없습니다. 이는 -1로 표현합니다.\n",
    "n은 처음 나왔기 때문에 자신의 앞에 같은 글자가 없습니다. 이는 -1로 표현합니다.\n",
    "a는 자신보다 두 칸 앞에 a가 있습니다. 이는 2로 표현합니다.\n",
    "n도 자신보다 두 칸 앞에 n이 있습니다. 이는 2로 표현합니다.\n",
    "a는 자신보다 두 칸, 네 칸 앞에 a가 있습니다. 이 중 가까운 것은 두 칸 앞이고, 이는 2로 표현합니다.\n",
    "따라서 최종 결과물은 [-1, -1, -1, 2, 2, 2]가 됩니다.\n",
    "\n",
    "문자열 s이 주어질 때, 위와 같이 정의된 연산을 수행하는 함수 solution을 완성해주세요.\n"
   ]
  },
  {
   "cell_type": "code",
   "execution_count": 7,
   "metadata": {},
   "outputs": [
    {
     "name": "stdout",
     "output_type": "stream",
     "text": [
      "['b']\n",
      "['b', 'a']\n",
      "['b', 'a', 'n']\n",
      "['b', 'a', 'n', 'a']\n",
      "['b', 'a', 'n', 'a', 'n']\n",
      "['b', 'a', 'n', 'a', 'n', 'a']\n",
      "['b', 'a', 'n', 'a', 'n', 'a']\n"
     ]
    }
   ],
   "source": [
    "\n",
    "s = 'banana'\n",
    "\n",
    "temp=[]\n",
    "\n",
    "for i in range(len(s)):\n",
    "    temp.append(s[i])\n",
    "    print(temp)\n",
    "    s[i] in s\n",
    "['b']\n",
    "['b', 'a']\n",
    "['b', 'a', 'n']\n",
    "['b', 'a', 'n', 'a']\n",
    "['b', 'a', 'n', 'a', 'n']\n",
    "['b', 'a', 'n', 'a', 'n', 'a']\n",
    "print(list(s))\n"
   ]
  },
  {
   "cell_type": "code",
   "execution_count": 10,
   "metadata": {},
   "outputs": [
    {
     "name": "stdout",
     "output_type": "stream",
     "text": [
      "0 b\n",
      "1 a\n",
      "2 n\n",
      "3 a\n",
      "4 n\n",
      "5 a\n",
      "{'f': 0, 'o': 2, 'b': 3, 'a': 4, 'r': 5}\n",
      "[-1, -1, 1, -1, -1, -1]\n"
     ]
    }
   ],
   "source": [
    "\n",
    "for idx, word in enumerate(list(s)):\n",
    "    print(idx, word)\n",
    "['b', 'a', 'n', 'a', 'n', 'a']\n",
    "\n",
    "\n",
    "s = 'foobar'\n",
    "answer=[]\n",
    "word_dict={}\n",
    "\n",
    "for idx, word in enumerate(list(s)):\n",
    "    if word not in word_dict:\n",
    "        answer.append(-1)\n",
    "        word_dict[word] = idx\n",
    "    else:\n",
    "        answer.append(idx - word_dict[word])\n",
    "        word_dict[word] = idx\n",
    "        \n",
    "print(word_dict)\n",
    "print(answer)\n",
    "\n"
   ]
  },
  {
   "cell_type": "code",
   "execution_count": 11,
   "metadata": {},
   "outputs": [],
   "source": [
    "\n",
    "\n",
    "def solution(s):\n",
    "    answer = []\n",
    "    \n",
    "    word_dict = {}\n",
    "    \n",
    "    for idx, word in enumerate(list(s)):\n",
    "        if word not in word_dict:\n",
    "            answer.append(-1)\n",
    "            word_dict[word] = idx\n",
    "        else:\n",
    "            answer.append(idx - word_dict[word])\n",
    "            word_dict[word] = idx\n",
    "            \n",
    "    return answer\n"
   ]
  },
  {
   "cell_type": "markdown",
   "metadata": {},
   "source": [
    "\n",
    "### 153. 과일 장수\n",
    "\n"
   ]
  },
  {
   "cell_type": "markdown",
   "metadata": {},
   "source": [
    "\n",
    "과일 장수가 사과 상자를 포장하고 있습니다. 사과는 상태에 따라 1점부터 k점까지의 점수로 분류하며, k점이 최상품의 사과이고 1점이 최하품의 사과입니다. 사과 한 상자의 가격은 다음과 같이 결정됩니다.\n",
    "\n",
    "한 상자에 사과를 m개씩 담아 포장합니다.\n",
    "상자에 담긴 사과 중 가장 낮은 점수가 p (1 ≤ p ≤ k)점인 경우, 사과 한 상자의 가격은 p * m 입니다.\n",
    "과일 장수가 가능한 많은 사과를 팔았을 때, 얻을 수 있는 최대 이익을 계산하고자 합니다.(사과는 상자 단위로만 판매하며, 남는 사과는 버립니다)\n",
    "\n",
    "예를 들어, k = 3, m = 4, 사과 7개의 점수가 [1, 2, 3, 1, 2, 3, 1]이라면, 다음과 같이 [2, 3, 2, 3]으로 구성된 사과 상자 1개를 만들어 판매하여 최대 이익을 얻을 수 있습니다.\n",
    "\n",
    "(최저 사과 점수) x (한 상자에 담긴 사과 개수) x (상자의 개수) = 2 x 4 x 1 = 8\n",
    "사과의 최대 점수 k, 한 상자에 들어가는 사과의 수 m, 사과들의 점수 score가 주어졌을 때, 과일 장수가 얻을 수 있는 최대 이익을 return하는 solution 함수를 완성해주세요.\n"
   ]
  },
  {
   "cell_type": "code",
   "execution_count": 12,
   "metadata": {},
   "outputs": [
    {
     "name": "stdout",
     "output_type": "stream",
     "text": [
      "8\n"
     ]
    }
   ],
   "source": [
    "\n",
    "k, m, score = 3, 4, [1,2,3,1,2,3,1]\n",
    "\n",
    "sorted(score, reverse=True)[:m][-1] #최저 사과 점수\n",
    "2\n",
    "len(score)//m # 상자의 개수\n",
    "4\n",
    "price = 0\n",
    "for i in range(len(score)//m):\n",
    "    # print(sorted(score, reverse=True)[i*m:(i+1)*m])\n",
    "    # print((sorted(score, reverse=True)[i*m:(i+1)*m][-1]) * m)\n",
    "    price+= (sorted(score, reverse=True)[i*m:(i+1)*m][-1]) * m\n",
    "print(price)\n",
    "\n"
   ]
  },
  {
   "cell_type": "code",
   "execution_count": 13,
   "metadata": {},
   "outputs": [],
   "source": [
    "\n",
    "def solution(k, m, score):\n",
    "    return sum(sorted(score)[len(score)%m::m])*m\n",
    "# 타코\n",
    "# 슬라이싱에서 건너뛰는 구간설정을 활용했으면 *m 항목을 뺄 수 있어서 더 효율적으로 찾을 수 있었을듯?\n",
    " "
   ]
  },
  {
   "attachments": {},
   "cell_type": "markdown",
   "metadata": {},
   "source": [
    "\n",
    "### 154. 키패드 누르기\n"
   ]
  },
  {
   "attachments": {},
   "cell_type": "markdown",
   "metadata": {},
   "source": [
    "스마트폰 전화 키패드의 각 칸에 다음과 같이 숫자들이 적혀 있습니다.\n",
    "\n",
    "![ ]('https://grepp-programmers.s3.ap-northeast-2.amazonaws.com/files/production/4b69a271-5f4a-4bf4-9ebf-6ebed5a02d8d/kakao_phone1.png')\n",
    "\n",
    "이 전화 키패드에서 왼손과 오른손의 엄지손가락만을 이용해서 숫자만을 입력하려고 합니다.\n",
    "맨 처음 왼손 엄지손가락은 * 키패드에 오른손 엄지손가락은 # 키패드 위치에서 시작하며, 엄지손가락을 사용하는 규칙은 다음과 같습니다.\n",
    "\n",
    "엄지손가락은 상하좌우 4가지 방향으로만 이동할 수 있으며 키패드 이동 한 칸은 거리로 1에 해당합니다.\n",
    "왼쪽 열의 3개의 숫자 1, 4, 7을 입력할 때는 왼손 엄지손가락을 사용합니다.\n",
    "오른쪽 열의 3개의 숫자 3, 6, 9를 입력할 때는 오른손 엄지손가락을 사용합니다.\n",
    "가운데 열의 4개의 숫자 2, 5, 8, 0을 입력할 때는 두 엄지손가락의 현재 키패드의 위치에서 더 가까운 엄지손가락을 사용합니다.\n",
    "4-1. 만약 두 엄지손가락의 거리가 같다면, 오른손잡이는 오른손 엄지손가락, 왼손잡이는 왼손 엄지손가락을 사용합니다.\n",
    "순서대로 누를 번호가 담긴 배열 numbers, 왼손잡이인지 오른손잡이인 지를 나타내는 문자열 hand가 매개변수로 주어질 때, 각 번호를 누른 엄지손가락이 왼손인 지 오른손인 지를 나타내는 연속된 문자열 형태로 return 하도록 solution 함수를 완성해주세요.\n"
   ]
  },
  {
   "cell_type": "code",
   "execution_count": 4,
   "metadata": {},
   "outputs": [],
   "source": [
    "numbers = [1, 3, 4, 5, 8, 2, 1, 4, 5, 9, 5]\n",
    "hand = \"right\"\n",
    "# result = \"LRLLLRLLRRL\"\n",
    "\n",
    "num_dict = {1:[0,3],2:[1,3],3:[2,3],4:[0,2],5:[1,2],6:[2,2],7:[0,1],8:[1,1],9:[2,1],0:[1,0]}"
   ]
  },
  {
   "cell_type": "code",
   "execution_count": 20,
   "metadata": {},
   "outputs": [
    {
     "name": "stdout",
     "output_type": "stream",
     "text": [
      "1\n",
      "왼손 현재 위치 : [0, 3] L\n",
      "2\n",
      "왼손 현재 위치 : [1, 3] LL\n",
      "3\n",
      "오른손 현재 위치 : [2, 3] LLR\n",
      "4\n",
      "왼손 현재 위치 : [0, 2] LLRL\n",
      "5\n",
      "왼손 현재 위치 : [1, 2] LLRLL\n",
      "6\n",
      "오른손 현재 위치 : [2, 2] LLRLLR\n",
      "7\n",
      "왼손 현재 위치 : [0, 1] LLRLLRL\n",
      "8\n",
      "왼손 현재 위치 : [1, 1] LLRLLRLL\n",
      "9\n",
      "오른손 현재 위치 : [2, 1] LLRLLRLLR\n",
      "0\n",
      "왼손 현재 위치 : [1, 0] LLRLLRLLRL\n",
      "LLRLLRLLRL\n"
     ]
    }
   ],
   "source": [
    "numbers = [1, 2, 3, 4, 5, 6, 7, 8, 9, 0]\n",
    "result=''\n",
    "left_move=[0,0]\n",
    "right_move=[2,0]\n",
    "hand = 'right'\n",
    "\n",
    "def cal_distance(list1, list2):\n",
    "    return abs(list1[0] - list2[0]) + abs(list1[1] - list2[1])\n",
    "    \n",
    "\n",
    "for num in numbers:\n",
    "    print(num)\n",
    "    if num in [1,4,7]:\n",
    "        left_move = num_dict[num]\n",
    "        result+='L'\n",
    "        print('왼손 현재 위치 :',left_move, result)\n",
    "    elif num in [3,6,9]:\n",
    "        right_move = num_dict[num]\n",
    "        result+='R'\n",
    "        print('오른손 현재 위치 :',right_move, result)\n",
    "    elif cal_distance(num_dict[num], left_move) > cal_distance(num_dict[num], right_move) :\n",
    "        right_move = num_dict[num]\n",
    "        result+='R'\n",
    "        print('오른손 현재 위치 :',right_move, result)\n",
    "    elif cal_distance(num_dict[num], left_move) < cal_distance(num_dict[num], right_move) :\n",
    "        left_move = num_dict[num]\n",
    "        result+='L'\n",
    "        print('왼손 현재 위치 :',left_move, result)\n",
    "    elif hand =='right' :\n",
    "        right_move = num_dict[num]\n",
    "        result+='R'\n",
    "        print('오른손 현재 위치 :',right_move, result)\n",
    "    else :\n",
    "        left_move = num_dict[num]\n",
    "        result+='L'\n",
    "        print('왼손 현재 위치 :',left_move, result)\n",
    "        \n",
    "        \n",
    "        \n",
    "\n",
    "print(result)"
   ]
  },
  {
   "cell_type": "code",
   "execution_count": 1,
   "metadata": {},
   "outputs": [
    {
     "name": "stdout",
     "output_type": "stream",
     "text": [
      "me\n"
     ]
    }
   ],
   "source": [
    "if 3 in [1,3,9] :\n",
    "    print('me')"
   ]
  },
  {
   "attachments": {},
   "cell_type": "markdown",
   "metadata": {},
   "source": [
    "\n",
    "### 155. 크기가 작은 부분 문자열\n"
   ]
  },
  {
   "attachments": {},
   "cell_type": "markdown",
   "metadata": {},
   "source": [
    "숫자로 이루어진 문자열 t와 p가 주어질 때, t에서 p와 길이가 같은 부분문자열 중에서, 이 부분문자열이 나타내는 수가 p가 나타내는 수보다 작거나 같은 것이 나오는 횟수를 return하는 함수 solution을 완성하세요.\n",
    "\n",
    "예를 들어, t=\"3141592\"이고 p=\"271\" 인 경우, t의 길이가 3인 부분 문자열은 314, 141, 415, 159, 592입니다. 이 문자열이 나타내는 수 중 271보다 작거나 같은 수는 141, 159 2개 입니다."
   ]
  },
  {
   "cell_type": "code",
   "execution_count": 42,
   "metadata": {},
   "outputs": [
    {
     "name": "stdout",
     "output_type": "stream",
     "text": [
      "0 : 2\n",
      "10\n",
      "1 : 3\n",
      "02\n",
      "2 : 4\n",
      "20\n",
      "3 : 5\n",
      "03\n"
     ]
    }
   ],
   "source": [
    "t = \"10203\"\n",
    "p = \"15\"\n",
    "\n",
    "t_list=[]\n",
    "\n",
    "t[0:3]\n",
    "t[1:4]\n",
    "t[2:5]\n",
    "t[3:6]\n",
    "t[4:7]\n",
    "\n",
    "# for i in range(len(t)-len(p)+1):\n",
    "#     print(i,':',int(i)+len(p))\n",
    "#     print(t[int(i):int(i)+len(p)])\n",
    "\n",
    "t_list =[t[int(i):int(i)+len(p)] for i in range(len(t)-len(p)+1)]"
   ]
  },
  {
   "cell_type": "code",
   "execution_count": 45,
   "metadata": {},
   "outputs": [
    {
     "name": "stdout",
     "output_type": "stream",
     "text": [
      "3\n"
     ]
    }
   ],
   "source": [
    "count = 0\n",
    "for t in t_list:\n",
    "    if int(t) <= int(p) :\n",
    "        count+=1\n",
    "print(count)"
   ]
  },
  {
   "cell_type": "code",
   "execution_count": null,
   "metadata": {},
   "outputs": [],
   "source": []
  }
 ],
 "metadata": {
  "kernelspec": {
   "display_name": "Python 3",
   "language": "python",
   "name": "python3"
  },
  "language_info": {
   "codemirror_mode": {
    "name": "ipython",
    "version": 3
   },
   "file_extension": ".py",
   "mimetype": "text/x-python",
   "name": "python",
   "nbconvert_exporter": "python",
   "pygments_lexer": "ipython3",
   "version": "3.11.1"
  },
  "orig_nbformat": 4,
  "vscode": {
   "interpreter": {
    "hash": "edf116327103e36dfe9c0e360260b03b9d82b30c3335fe3d340322aa34dca8af"
   }
  }
 },
 "nbformat": 4,
 "nbformat_minor": 2
}
