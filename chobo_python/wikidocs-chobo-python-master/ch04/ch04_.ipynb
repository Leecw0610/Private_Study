{
 "cells": [
  {
   "cell_type": "code",
   "execution_count": 1,
   "metadata": {},
   "outputs": [
    {
     "name": "stdout",
     "output_type": "stream",
     "text": [
      "'anna' is a panlindrome\n",
      "'banana' is not a palindrome\n",
      "'Anna' is a panlindrome\n",
      "'My gym' is a panlindrome\n"
     ]
    }
   ],
   "source": [
    "def palindrome(s):\n",
    "    s = s.lower()\n",
    "    s = s.replace(' ', '')\n",
    "    return s[:] == s[::-1]\n",
    "\n",
    "if __name__ == '__main__':\n",
    "    for x in ['anna', 'banana', 'Anna', 'My gym']:\n",
    "        if palindrome(x):\n",
    "            print(f\"'{x}' is a panlindrome\")\n",
    "        else:\n",
    "            print(f\"'{x}' is not a palindrome\")"
   ]
  },
  {
   "cell_type": "code",
   "execution_count": 2,
   "metadata": {},
   "outputs": [],
   "source": [
    "txt = '''신경발달장애 Neurodevelopmental Disorders\n",
    "조현병 스펙트럼 및 기타 정신병적 장애 Schizophrenia Spectrum and Other Psychotic Disorders\n",
    "양극성 및 관련 장애 Bipolar and Related Disorders\n",
    "우울장애 Depressive Disorders\n",
    "불안장애 Anxiety Disorder\n",
    "강박 및 관련 장애 Obsessive－Compulsive and Related Disorders\n",
    "외상 및 스트레스 관련 장애 Trauma－and Stressor－Related Disorders\n",
    "해리장애 Dissociative Disorders\n",
    "신체증상 및 관련 장애 Somatic Symptom and Related Disorders\n",
    "급식 및 섭식장애 Feeding and Eating Disorders\n",
    "배설장애 Elimination Disorders\n",
    "수면－각성 장애 Sleep－Wake Disorders\n",
    "성기능부전 Sexual Dysfunctions\n",
    "성별 불쾌감 Gender Dysphoria\n",
    "파괴적, 충동조절 및 품행 장애 Disruptive, Impulse－Control, and Conduct Disorders\n",
    "물질관련 및 중독 장애 Substance－Related and Addictive Disorders\n",
    "신경인지장애 Neurocognitive Disorders\n",
    "성격장애 Personality Disorders\n",
    "변태성욕장애 Paraphilic Disorders\n",
    "기타 정신질환 Other Mental Disorders'''"
   ]
  },
  {
   "cell_type": "code",
   "execution_count": 3,
   "metadata": {},
   "outputs": [
    {
     "data": {
      "text/plain": [
       "'신경발달장애 Neurodevelopmental Disorders\\n조현병 스펙트럼 및 기타 정신병적 장애 Schizophrenia Spectrum and Other Psychotic Disorders\\n양극성 및 관련 장애 Bipolar and Related Disorders\\n우울장애 Depressive Disorders\\n불안장애 Anxiety Disorder\\n강박 및 관련 장애 Obsessive－Compulsive and Related Disorders\\n외상 및 스트레스 관련 장애 Trauma－and Stressor－Related Disorders\\n해리장애 Dissociative Disorders\\n신체증상 및 관련 장애 Somatic Symptom and Related Disorders\\n급식 및 섭식장애 Feeding and Eating Disorders\\n배설장애 Elimination Disorders\\n수면－각성 장애 Sleep－Wake Disorders\\n성기능부전 Sexual Dysfunctions\\n성별 불쾌감 Gender Dysphoria\\n파괴적, 충동조절 및 품행 장애 Disruptive, Impulse－Control, and Conduct Disorders\\n물질관련 및 중독 장애 Substance－Related and Addictive Disorders\\n신경인지장애 Neurocognitive Disorders\\n성격장애 Personality Disorders\\n변태성욕장애 Paraphilic Disorders\\n기타 정신질환 Other Mental Disorders'"
      ]
     },
     "execution_count": 3,
     "metadata": {},
     "output_type": "execute_result"
    }
   ],
   "source": [
    "txt"
   ]
  },
  {
   "cell_type": "code",
   "execution_count": 4,
   "metadata": {},
   "outputs": [
    {
     "data": {
      "text/plain": [
       "['신경발달장애 Neurodevelopmental Disorders',\n",
       " '조현병 스펙트럼 및 기타 정신병적 장애 Schizophrenia Spectrum and Other Psychotic Disorders',\n",
       " '양극성 및 관련 장애 Bipolar and Related Disorders',\n",
       " '우울장애 Depressive Disorders',\n",
       " '불안장애 Anxiety Disorder',\n",
       " '강박 및 관련 장애 Obsessive－Compulsive and Related Disorders',\n",
       " '외상 및 스트레스 관련 장애 Trauma－and Stressor－Related Disorders',\n",
       " '해리장애 Dissociative Disorders',\n",
       " '신체증상 및 관련 장애 Somatic Symptom and Related Disorders',\n",
       " '급식 및 섭식장애 Feeding and Eating Disorders',\n",
       " '배설장애 Elimination Disorders',\n",
       " '수면－각성 장애 Sleep－Wake Disorders',\n",
       " '성기능부전 Sexual Dysfunctions',\n",
       " '성별 불쾌감 Gender Dysphoria',\n",
       " '파괴적, 충동조절 및 품행 장애 Disruptive, Impulse－Control, and Conduct Disorders',\n",
       " '물질관련 및 중독 장애 Substance－Related and Addictive Disorders',\n",
       " '신경인지장애 Neurocognitive Disorders',\n",
       " '성격장애 Personality Disorders',\n",
       " '변태성욕장애 Paraphilic Disorders',\n",
       " '기타 정신질환 Other Mental Disorders']"
      ]
     },
     "execution_count": 4,
     "metadata": {},
     "output_type": "execute_result"
    }
   ],
   "source": [
    "txt.split('\\n')"
   ]
  },
  {
   "cell_type": "code",
   "execution_count": 5,
   "metadata": {},
   "outputs": [
    {
     "name": "stdout",
     "output_type": "stream",
     "text": [
      "{'신경발달장애': 'Neurodevelopmental Disorders', '조현병 스펙트럼 및 기타 정신병적 장애': 'Schizophrenia Spectrum and Other Psychotic Disorders', '양극성 및 관련 장애': 'Bipolar and Related Disorders', '우울장애': 'Depressive Disorders', '불안장애': 'Anxiety Disorder', '강박 및 관련 장애': 'Obsessive－Compulsive and Related Disorders', '외상 및 스트레스 관련 장애': 'Trauma－and Stressor－Related Disorders', '해리장애': 'Dissociative Disorders', '신체증상 및 관련 장애': 'Somatic Symptom and Related Disorders', '급식 및 섭식장애': 'Feeding and Eating Disorders', '배설장애': 'Elimination Disorders', '수면－각성 장애': 'Sleep－Wake Disorders', '성기능부전': 'Sexual Dysfunctions', '성별 불쾌감': 'Gender Dysphoria', '파괴적, 충동조절 및 품행 장애': 'Disruptive, Impulse－Control, and Conduct Disorders', '물질관련 및 중독 장애': 'Substance－Related and Addictive Disorders', '신경인지장애': 'Neurocognitive Disorders', '성격장애': 'Personality Disorders', '변태성욕장애': 'Paraphilic Disorders', '기타 정신질환': 'Other Mental Disorders'}\n"
     ]
    }
   ],
   "source": [
    "disorders = dict()\n",
    "\n",
    "is_eng = lambda x: 65 <= ord(x) <= 90 or 97 <= ord(x) <= 122\n",
    "\n",
    "for l in txt.splitlines():\n",
    "    i = 0\n",
    "    while not is_eng(l[i]):\n",
    "        i += 1\n",
    "    else:\n",
    "        ko, en = l[:i - 1], l[i:]\n",
    "        disorders[ko] = en\n",
    "\n",
    "print(disorders)\n"
   ]
  },
  {
   "cell_type": "code",
   "execution_count": 6,
   "metadata": {},
   "outputs": [],
   "source": [
    "a,b = 1,2"
   ]
  },
  {
   "cell_type": "code",
   "execution_count": 7,
   "metadata": {},
   "outputs": [
    {
     "data": {
      "text/plain": [
       "(1, 2)"
      ]
     },
     "execution_count": 7,
     "metadata": {},
     "output_type": "execute_result"
    }
   ],
   "source": [
    "a, b"
   ]
  },
  {
   "cell_type": "code",
   "execution_count": 8,
   "metadata": {},
   "outputs": [
    {
     "data": {
      "text/plain": [
       "1"
      ]
     },
     "execution_count": 8,
     "metadata": {},
     "output_type": "execute_result"
    }
   ],
   "source": [
    "a"
   ]
  },
  {
   "cell_type": "code",
   "execution_count": 9,
   "metadata": {},
   "outputs": [
    {
     "data": {
      "text/plain": [
       "2"
      ]
     },
     "execution_count": 9,
     "metadata": {},
     "output_type": "execute_result"
    }
   ],
   "source": [
    "b"
   ]
  },
  {
   "cell_type": "code",
   "execution_count": null,
   "metadata": {},
   "outputs": [],
   "source": []
  }
 ],
 "metadata": {
  "kernelspec": {
   "display_name": "base",
   "language": "python",
   "name": "python3"
  },
  "language_info": {
   "codemirror_mode": {
    "name": "ipython",
    "version": 3
   },
   "file_extension": ".py",
   "mimetype": "text/x-python",
   "name": "python",
   "nbconvert_exporter": "python",
   "pygments_lexer": "ipython3",
   "version": "3.9.13"
  },
  "orig_nbformat": 4,
  "vscode": {
   "interpreter": {
    "hash": "cef5bb54941aca950c93b0ced18fcc5cb49b2d36f6c89d37f011af61e4a6718a"
   }
  }
 },
 "nbformat": 4,
 "nbformat_minor": 2
}
